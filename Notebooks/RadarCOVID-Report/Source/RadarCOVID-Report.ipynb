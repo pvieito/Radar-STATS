{
 "cells": [
  {
   "cell_type": "markdown",
   "metadata": {
    "papermill": {
     "duration": 0.028496,
     "end_time": "2020-09-02T08:20:04.669122",
     "exception": false,
     "start_time": "2020-09-02T08:20:04.640626",
     "status": "completed"
    },
    "pycharm": {
     "name": "#%% md\n"
    },
    "tags": []
   },
   "source": [
    "# RadarCOVID-Report"
   ]
  },
  {
   "cell_type": "markdown",
   "metadata": {
    "collapsed": true,
    "papermill": {
     "duration": 0.024049,
     "end_time": "2020-09-02T08:20:04.717261",
     "exception": false,
     "start_time": "2020-09-02T08:20:04.693212",
     "status": "completed"
    },
    "pycharm": {
     "name": "#%% md\n"
    },
    "tags": []
   },
   "source": [
    "## Data Extraction"
   ]
  },
  {
   "cell_type": "code",
   "execution_count": 243,
   "metadata": {
    "execution": {
     "iopub.execute_input": "2020-09-02T08:20:04.770378Z",
     "iopub.status.busy": "2020-09-02T08:20:04.769645Z",
     "iopub.status.idle": "2020-09-02T08:20:07.936342Z",
     "shell.execute_reply": "2020-09-02T08:20:07.935677Z"
    },
    "papermill": {
     "duration": 3.19648,
     "end_time": "2020-09-02T08:20:07.936516",
     "exception": false,
     "start_time": "2020-09-02T08:20:04.740036",
     "status": "completed"
    },
    "pycharm": {
     "name": "#%%\n"
    },
    "tags": []
   },
   "outputs": [],
   "source": [
    "import datetime\n",
    "import json\n",
    "import logging\n",
    "import os\n",
    "import shutil\n",
    "import tempfile\n",
    "import textwrap\n",
    "import uuid\n",
    "\n",
    "import matplotlib.ticker\n",
    "import numpy as np\n",
    "import pandas as pd\n",
    "import seaborn as sns\n",
    "\n",
    "%matplotlib inline"
   ]
  },
  {
   "cell_type": "code",
   "execution_count": 244,
   "outputs": [],
   "source": [
    "current_working_directory = os.environ.get(\"PWD\")\n",
    "if current_working_directory:\n",
    "    os.chdir(current_working_directory)\n",
    "\n",
    "sns.set()\n",
    "matplotlib.rcParams[\"figure.figsize\"] = (15, 6)\n",
    "\n",
    "extraction_datetime = datetime.datetime.utcnow()\n",
    "extraction_date = extraction_datetime.strftime(\"%Y-%m-%d\")\n",
    "extraction_previous_datetime = extraction_datetime - datetime.timedelta(days=1)\n",
    "extraction_previous_date = extraction_previous_datetime.strftime(\"%Y-%m-%d\")\n",
    "extraction_date_with_hour = datetime.datetime.utcnow().strftime(\"%Y-%m-%d@%H\")"
   ],
   "metadata": {
    "collapsed": false,
    "pycharm": {
     "name": "#%%\n"
    }
   }
  },
  {
   "cell_type": "markdown",
   "source": [
    "### Constants"
   ],
   "metadata": {
    "collapsed": false
   }
  },
  {
   "cell_type": "code",
   "execution_count": 245,
   "metadata": {
    "execution": {
     "iopub.execute_input": "2020-09-02T08:20:08.095412Z",
     "iopub.status.busy": "2020-09-02T08:20:08.094303Z",
     "iopub.status.idle": "2020-09-02T08:20:09.392162Z",
     "shell.execute_reply": "2020-09-02T08:20:09.391588Z"
    },
    "papermill": {
     "duration": 1.326675,
     "end_time": "2020-09-02T08:20:09.392330",
     "exception": false,
     "start_time": "2020-09-02T08:20:08.065655",
     "status": "completed"
    },
    "pycharm": {
     "name": "#%%\n"
    },
    "tags": []
   },
   "outputs": [],
   "source": [
    "spain_region_country_name = \"Spain\"\n",
    "spain_region_country_code = \"ES\"\n",
    "\n",
    "daily_summary_days = 7 * 4 * 3\n",
    "daily_plot_days = 7 * 4\n",
    "tek_dumps_load_limit = daily_summary_days + 1"
   ]
  },
  {
   "cell_type": "markdown",
   "source": [
    "### COVID-19 Cases"
   ],
   "metadata": {
    "collapsed": false,
    "pycharm": {
     "name": "#%% md\n"
    }
   }
  },
  {
   "cell_type": "code",
   "execution_count": 246,
   "outputs": [
    {
     "data": {
      "text/plain": "    Country_EN Country_ES Country_IT Region  2020-01-23  2020-01-24  \\\n233      Spain     España     Spagna    NaN         0.0         0.0   \n\n     2020-01-25  2020-01-26  2020-01-27  2020-01-28  ...  2020-10-01  \\\n233         0.0         0.0         0.0         0.0  ...    778607.0   \n\n     2020-10-02  2020-10-03  2020-10-04  2020-10-05  2020-10-06  2020-10-07  \\\n233    789932.0    789932.0    789932.0    813412.0    825410.0    835901.0   \n\n     2020-10-08  2020-10-09  2020-10-10  \n233    848324.0    861112.0    861112.0  \n\n[1 rows x 266 columns]",
      "text/html": "<div>\n<style scoped>\n    .dataframe tbody tr th:only-of-type {\n        vertical-align: middle;\n    }\n\n    .dataframe tbody tr th {\n        vertical-align: top;\n    }\n\n    .dataframe thead th {\n        text-align: right;\n    }\n</style>\n<table border=\"1\" class=\"dataframe\">\n  <thead>\n    <tr style=\"text-align: right;\">\n      <th></th>\n      <th>Country_EN</th>\n      <th>Country_ES</th>\n      <th>Country_IT</th>\n      <th>Region</th>\n      <th>2020-01-23</th>\n      <th>2020-01-24</th>\n      <th>2020-01-25</th>\n      <th>2020-01-26</th>\n      <th>2020-01-27</th>\n      <th>2020-01-28</th>\n      <th>...</th>\n      <th>2020-10-01</th>\n      <th>2020-10-02</th>\n      <th>2020-10-03</th>\n      <th>2020-10-04</th>\n      <th>2020-10-05</th>\n      <th>2020-10-06</th>\n      <th>2020-10-07</th>\n      <th>2020-10-08</th>\n      <th>2020-10-09</th>\n      <th>2020-10-10</th>\n    </tr>\n  </thead>\n  <tbody>\n    <tr>\n      <th>233</th>\n      <td>Spain</td>\n      <td>España</td>\n      <td>Spagna</td>\n      <td>NaN</td>\n      <td>0.0</td>\n      <td>0.0</td>\n      <td>0.0</td>\n      <td>0.0</td>\n      <td>0.0</td>\n      <td>0.0</td>\n      <td>...</td>\n      <td>778607.0</td>\n      <td>789932.0</td>\n      <td>789932.0</td>\n      <td>789932.0</td>\n      <td>813412.0</td>\n      <td>825410.0</td>\n      <td>835901.0</td>\n      <td>848324.0</td>\n      <td>861112.0</td>\n      <td>861112.0</td>\n    </tr>\n  </tbody>\n</table>\n<p>1 rows × 266 columns</p>\n</div>"
     },
     "execution_count": 246,
     "metadata": {},
     "output_type": "execute_result"
    }
   ],
   "source": [
    "confirmed_df = pd.read_csv(\"https://covid19tracking.narrativa.com/csv/confirmed.csv\")\n",
    "\n",
    "radar_covid_countries = {spain_region_country_name}\n",
    "\n",
    "confirmed_df = confirmed_df[confirmed_df[\"Country_EN\"].isin(radar_covid_countries)]\n",
    "confirmed_df = confirmed_df[pd.isna(confirmed_df.Region)]\n",
    "confirmed_df.head()"
   ],
   "metadata": {
    "collapsed": false,
    "pycharm": {
     "name": "#%%\n"
    }
   }
  },
  {
   "cell_type": "code",
   "execution_count": 247,
   "metadata": {
    "collapsed": false,
    "execution": {
     "iopub.execute_input": "2020-09-02T08:20:09.445656Z",
     "iopub.status.busy": "2020-09-02T08:20:09.444974Z",
     "iopub.status.idle": "2020-09-02T08:20:09.455976Z",
     "shell.execute_reply": "2020-09-02T08:20:09.456586Z"
    },
    "papermill": {
     "duration": 0.04075,
     "end_time": "2020-09-02T08:20:09.456719",
     "exception": false,
     "start_time": "2020-09-02T08:20:09.415969",
     "status": "completed"
    },
    "pycharm": {
     "name": "#%%\n"
    },
    "tags": []
   },
   "outputs": [
    {
     "data": {
      "text/plain": "     2020-01-23  2020-01-24  2020-01-25  2020-01-26  2020-01-27  2020-01-28  \\\n233         0.0         0.0         0.0         0.0         0.0         0.0   \n\n     2020-01-29  2020-01-30  2020-01-31  2020-02-01  ...  2020-10-01  \\\n233         0.0         0.0         0.0         1.0  ...    778607.0   \n\n     2020-10-02  2020-10-03  2020-10-04  2020-10-05  2020-10-06  2020-10-07  \\\n233    789932.0    789932.0    789932.0    813412.0    825410.0    835901.0   \n\n     2020-10-08  2020-10-09  2020-10-10  \n233    848324.0    861112.0    861112.0  \n\n[1 rows x 262 columns]",
      "text/html": "<div>\n<style scoped>\n    .dataframe tbody tr th:only-of-type {\n        vertical-align: middle;\n    }\n\n    .dataframe tbody tr th {\n        vertical-align: top;\n    }\n\n    .dataframe thead th {\n        text-align: right;\n    }\n</style>\n<table border=\"1\" class=\"dataframe\">\n  <thead>\n    <tr style=\"text-align: right;\">\n      <th></th>\n      <th>2020-01-23</th>\n      <th>2020-01-24</th>\n      <th>2020-01-25</th>\n      <th>2020-01-26</th>\n      <th>2020-01-27</th>\n      <th>2020-01-28</th>\n      <th>2020-01-29</th>\n      <th>2020-01-30</th>\n      <th>2020-01-31</th>\n      <th>2020-02-01</th>\n      <th>...</th>\n      <th>2020-10-01</th>\n      <th>2020-10-02</th>\n      <th>2020-10-03</th>\n      <th>2020-10-04</th>\n      <th>2020-10-05</th>\n      <th>2020-10-06</th>\n      <th>2020-10-07</th>\n      <th>2020-10-08</th>\n      <th>2020-10-09</th>\n      <th>2020-10-10</th>\n    </tr>\n  </thead>\n  <tbody>\n    <tr>\n      <th>233</th>\n      <td>0.0</td>\n      <td>0.0</td>\n      <td>0.0</td>\n      <td>0.0</td>\n      <td>0.0</td>\n      <td>0.0</td>\n      <td>0.0</td>\n      <td>0.0</td>\n      <td>0.0</td>\n      <td>1.0</td>\n      <td>...</td>\n      <td>778607.0</td>\n      <td>789932.0</td>\n      <td>789932.0</td>\n      <td>789932.0</td>\n      <td>813412.0</td>\n      <td>825410.0</td>\n      <td>835901.0</td>\n      <td>848324.0</td>\n      <td>861112.0</td>\n      <td>861112.0</td>\n    </tr>\n  </tbody>\n</table>\n<p>1 rows × 262 columns</p>\n</div>"
     },
     "execution_count": 247,
     "metadata": {},
     "output_type": "execute_result"
    }
   ],
   "source": [
    "confirmed_country_columns = list(filter(lambda x: x.startswith(\"Country_\"), confirmed_df.columns))\n",
    "confirmed_regional_columns = confirmed_country_columns + [\"Region\"]\n",
    "confirmed_df.drop(columns=confirmed_regional_columns, inplace=True)\n",
    "confirmed_df.head()"
   ]
  },
  {
   "cell_type": "code",
   "execution_count": 248,
   "outputs": [
    {
     "data": {
      "text/plain": "                   0\n2020-10-06  825410.0\n2020-10-07  835901.0\n2020-10-08  848324.0\n2020-10-09  861112.0\n2020-10-10  861112.0",
      "text/html": "<div>\n<style scoped>\n    .dataframe tbody tr th:only-of-type {\n        vertical-align: middle;\n    }\n\n    .dataframe tbody tr th {\n        vertical-align: top;\n    }\n\n    .dataframe thead th {\n        text-align: right;\n    }\n</style>\n<table border=\"1\" class=\"dataframe\">\n  <thead>\n    <tr style=\"text-align: right;\">\n      <th></th>\n      <th>0</th>\n    </tr>\n  </thead>\n  <tbody>\n    <tr>\n      <th>2020-10-06</th>\n      <td>825410.0</td>\n    </tr>\n    <tr>\n      <th>2020-10-07</th>\n      <td>835901.0</td>\n    </tr>\n    <tr>\n      <th>2020-10-08</th>\n      <td>848324.0</td>\n    </tr>\n    <tr>\n      <th>2020-10-09</th>\n      <td>861112.0</td>\n    </tr>\n    <tr>\n      <th>2020-10-10</th>\n      <td>861112.0</td>\n    </tr>\n  </tbody>\n</table>\n</div>"
     },
     "execution_count": 248,
     "metadata": {},
     "output_type": "execute_result"
    }
   ],
   "source": [
    "confirmed_df = confirmed_df.sum().to_frame()\n",
    "confirmed_df.tail()"
   ],
   "metadata": {
    "collapsed": false,
    "pycharm": {
     "name": "#%%\n"
    }
   }
  },
  {
   "cell_type": "code",
   "execution_count": 249,
   "metadata": {
    "collapsed": false,
    "execution": {
     "iopub.execute_input": "2020-09-02T08:20:09.516249Z",
     "iopub.status.busy": "2020-09-02T08:20:09.515601Z",
     "iopub.status.idle": "2020-09-02T08:20:09.526018Z",
     "shell.execute_reply": "2020-09-02T08:20:09.526712Z"
    },
    "papermill": {
     "duration": 0.043558,
     "end_time": "2020-09-02T08:20:09.526841",
     "exception": false,
     "start_time": "2020-09-02T08:20:09.483283",
     "status": "completed"
    },
    "pycharm": {
     "name": "#%%\n"
    },
    "tags": []
   },
   "outputs": [
    {
     "data": {
      "text/plain": "    sample_date_string  cumulative_cases  new_cases  covid_cases\n257         2020-10-06          825410.0    11998.0      11021.0\n258         2020-10-07          835901.0    10491.0       9530.0\n259         2020-10-08          848324.0    12423.0       9960.0\n260         2020-10-09          861112.0    12788.0      10169.0\n261         2020-10-10          861112.0        0.0      10169.0",
      "text/html": "<div>\n<style scoped>\n    .dataframe tbody tr th:only-of-type {\n        vertical-align: middle;\n    }\n\n    .dataframe tbody tr th {\n        vertical-align: top;\n    }\n\n    .dataframe thead th {\n        text-align: right;\n    }\n</style>\n<table border=\"1\" class=\"dataframe\">\n  <thead>\n    <tr style=\"text-align: right;\">\n      <th></th>\n      <th>sample_date_string</th>\n      <th>cumulative_cases</th>\n      <th>new_cases</th>\n      <th>covid_cases</th>\n    </tr>\n  </thead>\n  <tbody>\n    <tr>\n      <th>257</th>\n      <td>2020-10-06</td>\n      <td>825410.0</td>\n      <td>11998.0</td>\n      <td>11021.0</td>\n    </tr>\n    <tr>\n      <th>258</th>\n      <td>2020-10-07</td>\n      <td>835901.0</td>\n      <td>10491.0</td>\n      <td>9530.0</td>\n    </tr>\n    <tr>\n      <th>259</th>\n      <td>2020-10-08</td>\n      <td>848324.0</td>\n      <td>12423.0</td>\n      <td>9960.0</td>\n    </tr>\n    <tr>\n      <th>260</th>\n      <td>2020-10-09</td>\n      <td>861112.0</td>\n      <td>12788.0</td>\n      <td>10169.0</td>\n    </tr>\n    <tr>\n      <th>261</th>\n      <td>2020-10-10</td>\n      <td>861112.0</td>\n      <td>0.0</td>\n      <td>10169.0</td>\n    </tr>\n  </tbody>\n</table>\n</div>"
     },
     "execution_count": 249,
     "metadata": {},
     "output_type": "execute_result"
    }
   ],
   "source": [
    "confirmed_df.reset_index(inplace=True)\n",
    "confirmed_df.columns = [\"sample_date_string\", \"cumulative_cases\"]\n",
    "confirmed_df.sort_values(\"sample_date_string\", inplace=True)\n",
    "confirmed_df[\"new_cases\"] = confirmed_df.cumulative_cases.diff()\n",
    "confirmed_df[\"covid_cases\"] = confirmed_df.new_cases.rolling(7).mean().round()\n",
    "confirmed_df.tail()"
   ]
  },
  {
   "cell_type": "code",
   "metadata": {
    "execution": {
     "iopub.execute_input": "2020-09-02T08:20:09.584860Z",
     "iopub.status.busy": "2020-09-02T08:20:09.584250Z",
     "iopub.status.idle": "2020-09-02T08:20:09.597000Z",
     "shell.execute_reply": "2020-09-02T08:20:09.596500Z"
    },
    "papermill": {
     "duration": 0.045635,
     "end_time": "2020-09-02T08:20:09.597252",
     "exception": false,
     "start_time": "2020-09-02T08:20:09.551617",
     "status": "completed"
    },
    "pycharm": {
     "name": "#%%\n"
    },
    "tags": []
   },
   "source": [
    "extraction_date_confirmed_df = \\\n",
    "    confirmed_df[confirmed_df.sample_date_string == extraction_date]\n",
    "extraction_previous_date_confirmed_df = \\\n",
    "    confirmed_df[confirmed_df.sample_date_string == extraction_previous_date].copy()\n",
    "\n",
    "if extraction_date_confirmed_df.empty and \\\n",
    "    not extraction_previous_date_confirmed_df.empty:\n",
    "        extraction_previous_date_confirmed_df[\"sample_date_string\"] = extraction_date\n",
    "        extraction_previous_date_confirmed_df[\"new_cases\"] = \\\n",
    "            extraction_previous_date_confirmed_df.covid_cases\n",
    "        extraction_previous_date_confirmed_df[\"cumulative_cases\"] = \\\n",
    "            extraction_previous_date_confirmed_df.new_cases + \\\n",
    "            extraction_previous_date_confirmed_df.cumulative_cases\n",
    "        confirmed_df = confirmed_df.append(extraction_previous_date_confirmed_df)\n",
    "\n",
    "confirmed_df[\"covid_cases\"] = confirmed_df.covid_cases.fillna(0).astype(int)\n",
    "confirmed_df.tail()"
   ],
   "execution_count": 250,
   "outputs": [
    {
     "data": {
      "text/plain": "    sample_date_string  cumulative_cases  new_cases  covid_cases\n258         2020-10-07          835901.0    10491.0         9530\n259         2020-10-08          848324.0    12423.0         9960\n260         2020-10-09          861112.0    12788.0        10169\n261         2020-10-10          861112.0        0.0        10169\n261         2020-10-11          871281.0    10169.0        10169",
      "text/html": "<div>\n<style scoped>\n    .dataframe tbody tr th:only-of-type {\n        vertical-align: middle;\n    }\n\n    .dataframe tbody tr th {\n        vertical-align: top;\n    }\n\n    .dataframe thead th {\n        text-align: right;\n    }\n</style>\n<table border=\"1\" class=\"dataframe\">\n  <thead>\n    <tr style=\"text-align: right;\">\n      <th></th>\n      <th>sample_date_string</th>\n      <th>cumulative_cases</th>\n      <th>new_cases</th>\n      <th>covid_cases</th>\n    </tr>\n  </thead>\n  <tbody>\n    <tr>\n      <th>258</th>\n      <td>2020-10-07</td>\n      <td>835901.0</td>\n      <td>10491.0</td>\n      <td>9530</td>\n    </tr>\n    <tr>\n      <th>259</th>\n      <td>2020-10-08</td>\n      <td>848324.0</td>\n      <td>12423.0</td>\n      <td>9960</td>\n    </tr>\n    <tr>\n      <th>260</th>\n      <td>2020-10-09</td>\n      <td>861112.0</td>\n      <td>12788.0</td>\n      <td>10169</td>\n    </tr>\n    <tr>\n      <th>261</th>\n      <td>2020-10-10</td>\n      <td>861112.0</td>\n      <td>0.0</td>\n      <td>10169</td>\n    </tr>\n    <tr>\n      <th>261</th>\n      <td>2020-10-11</td>\n      <td>871281.0</td>\n      <td>10169.0</td>\n      <td>10169</td>\n    </tr>\n  </tbody>\n</table>\n</div>"
     },
     "execution_count": 250,
     "metadata": {},
     "output_type": "execute_result"
    }
   ]
  },
  {
   "cell_type": "code",
   "execution_count": 251,
   "metadata": {
    "execution": {
     "iopub.execute_input": "2020-09-02T08:20:09.655546Z",
     "iopub.status.busy": "2020-09-02T08:20:09.654841Z",
     "iopub.status.idle": "2020-09-02T08:20:09.865570Z",
     "shell.execute_reply": "2020-09-02T08:20:09.866055Z"
    },
    "papermill": {
     "duration": 0.245205,
     "end_time": "2020-09-02T08:20:09.866249",
     "exception": false,
     "start_time": "2020-09-02T08:20:09.621044",
     "status": "completed"
    },
    "pycharm": {
     "name": "#%%\n"
    },
    "tags": []
   },
   "outputs": [
    {
     "data": {
      "text/plain": "<matplotlib.axes._subplots.AxesSubplot at 0x12c9f1b90>"
     },
     "execution_count": 251,
     "metadata": {},
     "output_type": "execute_result"
    },
    {
     "data": {
      "text/plain": "<Figure size 1080x432 with 1 Axes>",
      "image/png": "[encoded data removed]"
     },
     "metadata": {},
     "output_type": "display_data"
    }
   ],
   "source": [
    "confirmed_df[[\"new_cases\", \"covid_cases\"]].plot()"
   ]
  },
  {
   "cell_type": "markdown",
   "metadata": {
    "execution": {
     "iopub.execute_input": "2020-08-30T22:30:16.351238Z",
     "iopub.status.busy": "2020-08-30T22:30:16.344579Z",
     "iopub.status.idle": "2020-08-30T22:30:16.354285Z",
     "shell.execute_reply": "2020-08-30T22:30:16.353641Z"
    },
    "papermill": {
     "duration": 0.026572,
     "end_time": "2020-09-02T08:20:09.921853",
     "exception": false,
     "start_time": "2020-09-02T08:20:09.895281",
     "status": "completed"
    },
    "pycharm": {
     "name": "#%% md\n"
    },
    "tags": []
   },
   "source": [
    "### Extract API TEKs"
   ]
  },
  {
   "cell_type": "code",
   "execution_count": 252,
   "metadata": {
    "execution": {
     "iopub.execute_input": "2020-09-02T08:20:09.980956Z",
     "iopub.status.busy": "2020-09-02T08:20:09.980358Z",
     "iopub.status.idle": "2020-09-02T08:20:12.601262Z",
     "shell.execute_reply": "2020-09-02T08:20:12.601845Z"
    },
    "papermill": {
     "duration": 2.652732,
     "end_time": "2020-09-02T08:20:12.602033",
     "exception": false,
     "start_time": "2020-09-02T08:20:09.949301",
     "status": "completed"
    },
    "pycharm": {
     "name": "#%%\n"
    },
    "tags": []
   },
   "outputs": [
    {
     "name": "stderr",
     "output_type": "stream",
     "text": [
      "WARNING:root:NoKeysFoundException(\"No exposure keys found on endpoint 'https://radarcovid.covid19.gob.es/dp3t/v1/gaen/exposed/1602374400000' (parameters: {'sample_date': '2020-10-11', 'server_endpoint_url': 'https://radarcovid.covid19.gob.es/dp3t', 'backend_identifier': 'ES'}).\")\n",
      "WARNING:root:NoKeysFoundException(\"No exposure keys found on endpoint 'https://www.pt.bfs.admin.ch/v1/gaen/exposed/1602374400000' (parameters: {'sample_date': '2020-10-11', 'server_endpoint_url': 'https://www.pt.bfs.admin.ch', 'backend_identifier': 'CH'}).\")\n",
      "WARNING:root:NoKeysFoundException(\"No exposure keys found on endpoint 'https://stayaway.incm.pt/v1/gaen/exposed/1602374400000' (parameters: {'sample_date': '2020-10-11', 'server_endpoint_url': 'https://stayaway.incm.pt', 'backend_identifier': 'PT'}).\")\n",
      "WARNING:root:NoKeysFoundException(\"No exposure keys found on endpoint 'https://svc90.main.px.t-online.de/version/v1/diagnosis-keys/country/NL/date/2020-10-11' (parameters: {'country': 'NL', 'sample_date': '2020-10-11', 'server_endpoint_url': 'https://svc90.main.px.t-online.de', 'backend_identifier': 'DE-NL'}).\")\n",
      "WARNING:root:NoKeysFoundException(\"No exposure keys found on endpoint 'https://svc90.main.px.t-online.de/version/v1/diagnosis-keys/country/NL/date/2020-10-10' (parameters: {'country': 'NL', 'sample_date': '2020-10-10', 'server_endpoint_url': 'https://svc90.main.px.t-online.de', 'backend_identifier': 'DE-NL'}).\")\n",
      "WARNING:root:NoKeysFoundException(\"No exposure keys found on endpoint 'https://svc90.main.px.t-online.de/version/v1/diagnosis-keys/country/NL/date/2020-10-09' (parameters: {'country': 'NL', 'sample_date': '2020-10-09', 'server_endpoint_url': 'https://svc90.main.px.t-online.de', 'backend_identifier': 'DE-NL'}).\")\n",
      "WARNING:root:NoKeysFoundException(\"No exposure keys found on endpoint 'https://svc90.main.px.t-online.de/version/v1/diagnosis-keys/country/NL/date/2020-10-08' (parameters: {'country': 'NL', 'sample_date': '2020-10-08', 'server_endpoint_url': 'https://svc90.main.px.t-online.de', 'backend_identifier': 'DE-NL'}).\")\n",
      "WARNING:root:NoKeysFoundException(\"No exposure keys found on endpoint 'https://svc90.main.px.t-online.de/version/v1/diagnosis-keys/country/NL/date/2020-10-07' (parameters: {'country': 'NL', 'sample_date': '2020-10-07', 'server_endpoint_url': 'https://svc90.main.px.t-online.de', 'backend_identifier': 'DE-NL'}).\")\n",
      "WARNING:root:NoKeysFoundException(\"No exposure keys found on endpoint 'https://svc90.main.px.t-online.de/version/v1/diagnosis-keys/country/NL/date/2020-10-06' (parameters: {'country': 'NL', 'sample_date': '2020-10-06', 'server_endpoint_url': 'https://svc90.main.px.t-online.de', 'backend_identifier': 'DE-NL'}).\")\n",
      "WARNING:root:NoKeysFoundException(\"No exposure keys found on endpoint 'https://svc90.main.px.t-online.de/version/v1/diagnosis-keys/country/NL/date/2020-10-05' (parameters: {'country': 'NL', 'sample_date': '2020-10-05', 'server_endpoint_url': 'https://svc90.main.px.t-online.de', 'backend_identifier': 'DE-NL'}).\")\n",
      "WARNING:root:NoKeysFoundException(\"No exposure keys found on endpoint 'https://svc90.main.px.t-online.de/version/v1/diagnosis-keys/country/NL/date/2020-10-04' (parameters: {'country': 'NL', 'sample_date': '2020-10-04', 'server_endpoint_url': 'https://svc90.main.px.t-online.de', 'backend_identifier': 'DE-NL'}).\")\n",
      "WARNING:root:NoKeysFoundException(\"No exposure keys found on endpoint 'https://svc90.main.px.t-online.de/version/v1/diagnosis-keys/country/NL/date/2020-10-03' (parameters: {'country': 'NL', 'sample_date': '2020-10-03', 'server_endpoint_url': 'https://svc90.main.px.t-online.de', 'backend_identifier': 'DE-NL'}).\")\n",
      "WARNING:root:NoKeysFoundException(\"No exposure keys found on endpoint 'https://svc90.main.px.t-online.de/version/v1/diagnosis-keys/country/NL/date/2020-10-02' (parameters: {'country': 'NL', 'sample_date': '2020-10-02', 'server_endpoint_url': 'https://svc90.main.px.t-online.de', 'backend_identifier': 'DE-NL'}).\")\n",
      "WARNING:root:NoKeysFoundException(\"No exposure keys found on endpoint 'https://svc90.main.px.t-online.de/version/v1/diagnosis-keys/country/NL/date/2020-10-01' (parameters: {'country': 'NL', 'sample_date': '2020-10-01', 'server_endpoint_url': 'https://svc90.main.px.t-online.de', 'backend_identifier': 'DE-NL'}).\")\n",
      "WARNING:root:NoKeysFoundException(\"No exposure keys found on endpoint 'https://svc90.main.px.t-online.de/version/v1/diagnosis-keys/country/NL/date/2020-09-30' (parameters: {'country': 'NL', 'sample_date': '2020-09-30', 'server_endpoint_url': 'https://svc90.main.px.t-online.de', 'backend_identifier': 'DE-NL'}).\")\n",
      "WARNING:root:NoKeysFoundException(\"No exposure keys found on endpoint 'https://svc90.main.px.t-online.de/version/v1/diagnosis-keys/country/NL/date/2020-09-29' (parameters: {'country': 'NL', 'sample_date': '2020-09-29', 'server_endpoint_url': 'https://svc90.main.px.t-online.de', 'backend_identifier': 'DE-NL'}).\")\n",
      "WARNING:root:NoKeysFoundException(\"No exposure keys found on endpoint 'https://svc90.main.px.t-online.de/version/v1/diagnosis-keys/country/NL/date/2020-09-28' (parameters: {'country': 'NL', 'sample_date': '2020-09-28', 'server_endpoint_url': 'https://svc90.main.px.t-online.de', 'backend_identifier': 'DE-NL'}).\")\n",
      "WARNING:root:NoKeysFoundException(\"No exposure keys found on endpoint 'https://svc90.main.px.t-online.de/version/v1/diagnosis-keys/country/ES/date/2020-10-11' (parameters: {'country': 'ES', 'sample_date': '2020-10-11', 'server_endpoint_url': 'https://svc90.main.px.t-online.de', 'backend_identifier': 'DE-ES'}).\")\n",
      "WARNING:root:NoKeysFoundException(\"No exposure keys found on endpoint 'https://svc90.main.px.t-online.de/version/v1/diagnosis-keys/country/ES/date/2020-10-10' (parameters: {'country': 'ES', 'sample_date': '2020-10-10', 'server_endpoint_url': 'https://svc90.main.px.t-online.de', 'backend_identifier': 'DE-ES'}).\")\n",
      "WARNING:root:NoKeysFoundException(\"No exposure keys found on endpoint 'https://svc90.main.px.t-online.de/version/v1/diagnosis-keys/country/ES/date/2020-10-09' (parameters: {'country': 'ES', 'sample_date': '2020-10-09', 'server_endpoint_url': 'https://svc90.main.px.t-online.de', 'backend_identifier': 'DE-ES'}).\")\n",
      "WARNING:root:NoKeysFoundException(\"No exposure keys found on endpoint 'https://svc90.main.px.t-online.de/version/v1/diagnosis-keys/country/ES/date/2020-10-08' (parameters: {'country': 'ES', 'sample_date': '2020-10-08', 'server_endpoint_url': 'https://svc90.main.px.t-online.de', 'backend_identifier': 'DE-ES'}).\")\n",
      "WARNING:root:NoKeysFoundException(\"No exposure keys found on endpoint 'https://svc90.main.px.t-online.de/version/v1/diagnosis-keys/country/ES/date/2020-10-07' (parameters: {'country': 'ES', 'sample_date': '2020-10-07', 'server_endpoint_url': 'https://svc90.main.px.t-online.de', 'backend_identifier': 'DE-ES'}).\")\n",
      "WARNING:root:NoKeysFoundException(\"No exposure keys found on endpoint 'https://svc90.main.px.t-online.de/version/v1/diagnosis-keys/country/ES/date/2020-10-06' (parameters: {'country': 'ES', 'sample_date': '2020-10-06', 'server_endpoint_url': 'https://svc90.main.px.t-online.de', 'backend_identifier': 'DE-ES'}).\")\n",
      "WARNING:root:NoKeysFoundException(\"No exposure keys found on endpoint 'https://svc90.main.px.t-online.de/version/v1/diagnosis-keys/country/ES/date/2020-10-05' (parameters: {'country': 'ES', 'sample_date': '2020-10-05', 'server_endpoint_url': 'https://svc90.main.px.t-online.de', 'backend_identifier': 'DE-ES'}).\")\n",
      "WARNING:root:NoKeysFoundException(\"No exposure keys found on endpoint 'https://svc90.main.px.t-online.de/version/v1/diagnosis-keys/country/ES/date/2020-10-04' (parameters: {'country': 'ES', 'sample_date': '2020-10-04', 'server_endpoint_url': 'https://svc90.main.px.t-online.de', 'backend_identifier': 'DE-ES'}).\")\n",
      "WARNING:root:NoKeysFoundException(\"No exposure keys found on endpoint 'https://svc90.main.px.t-online.de/version/v1/diagnosis-keys/country/ES/date/2020-10-03' (parameters: {'country': 'ES', 'sample_date': '2020-10-03', 'server_endpoint_url': 'https://svc90.main.px.t-online.de', 'backend_identifier': 'DE-ES'}).\")\n",
      "WARNING:root:NoKeysFoundException(\"No exposure keys found on endpoint 'https://svc90.main.px.t-online.de/version/v1/diagnosis-keys/country/ES/date/2020-10-02' (parameters: {'country': 'ES', 'sample_date': '2020-10-02', 'server_endpoint_url': 'https://svc90.main.px.t-online.de', 'backend_identifier': 'DE-ES'}).\")\n",
      "WARNING:root:NoKeysFoundException(\"No exposure keys found on endpoint 'https://svc90.main.px.t-online.de/version/v1/diagnosis-keys/country/ES/date/2020-10-01' (parameters: {'country': 'ES', 'sample_date': '2020-10-01', 'server_endpoint_url': 'https://svc90.main.px.t-online.de', 'backend_identifier': 'DE-ES'}).\")\n",
      "WARNING:root:NoKeysFoundException(\"No exposure keys found on endpoint 'https://svc90.main.px.t-online.de/version/v1/diagnosis-keys/country/ES/date/2020-09-30' (parameters: {'country': 'ES', 'sample_date': '2020-09-30', 'server_endpoint_url': 'https://svc90.main.px.t-online.de', 'backend_identifier': 'DE-ES'}).\")\n",
      "WARNING:root:NoKeysFoundException(\"No exposure keys found on endpoint 'https://svc90.main.px.t-online.de/version/v1/diagnosis-keys/country/ES/date/2020-09-29' (parameters: {'country': 'ES', 'sample_date': '2020-09-29', 'server_endpoint_url': 'https://svc90.main.px.t-online.de', 'backend_identifier': 'DE-ES'}).\")\n",
      "WARNING:root:NoKeysFoundException(\"No exposure keys found on endpoint 'https://svc90.main.px.t-online.de/version/v1/diagnosis-keys/country/ES/date/2020-09-28' (parameters: {'country': 'ES', 'sample_date': '2020-09-28', 'server_endpoint_url': 'https://svc90.main.px.t-online.de', 'backend_identifier': 'DE-ES'}).\")\n"
     ]
    },
    {
     "data": {
      "text/plain": "  sample_datetime sample_date_string region verification_key_version  \\\n0      2020-10-10         2020-10-10     ES                       V1   \n1      2020-10-10         2020-10-10     ES                       V1   \n2      2020-10-10         2020-10-10     ES                       V1   \n3      2020-10-10         2020-10-10     ES                       V1   \n4      2020-10-10         2020-10-10     ES                       V1   \n\n  verification_key_id  signature_algorithm  \\\n0                 214  1.2.840.10045.4.3.2   \n1                 214  1.2.840.10045.4.3.2   \n2                 214  1.2.840.10045.4.3.2   \n3                 214  1.2.840.10045.4.3.2   \n4                 214  1.2.840.10045.4.3.2   \n\n                               key_data  rolling_start_interval_number  \\\n0  629ce58b-d7c1-1a54-cc70-4ab364ac6727                        2670480   \n1  bf5f3138-3cc6-6365-1de3-dce866c703a7                        2670480   \n2  7053826f-d816-1d4c-340a-db196a10fb3e                        2670480   \n3  0d1c99d8-cf56-9cc4-d497-57909676c370                        2670480   \n4  f26a07f5-2db4-2f02-560d-be039810db70                        2670480   \n\n   rolling_period  transmission_risk_level backend_identifier  \n0             144                        0                 ES  \n1             144                        0                 ES  \n2             144                        0                 ES  \n3             144                        0                 ES  \n4             144                        0                 ES  ",
      "text/html": "<div>\n<style scoped>\n    .dataframe tbody tr th:only-of-type {\n        vertical-align: middle;\n    }\n\n    .dataframe tbody tr th {\n        vertical-align: top;\n    }\n\n    .dataframe thead th {\n        text-align: right;\n    }\n</style>\n<table border=\"1\" class=\"dataframe\">\n  <thead>\n    <tr style=\"text-align: right;\">\n      <th></th>\n      <th>sample_datetime</th>\n      <th>sample_date_string</th>\n      <th>region</th>\n      <th>verification_key_version</th>\n      <th>verification_key_id</th>\n      <th>signature_algorithm</th>\n      <th>key_data</th>\n      <th>rolling_start_interval_number</th>\n      <th>rolling_period</th>\n      <th>transmission_risk_level</th>\n      <th>backend_identifier</th>\n    </tr>\n  </thead>\n  <tbody>\n    <tr>\n      <th>0</th>\n      <td>2020-10-10</td>\n      <td>2020-10-10</td>\n      <td>ES</td>\n      <td>V1</td>\n      <td>214</td>\n      <td>1.2.840.10045.4.3.2</td>\n      <td>629ce58b-d7c1-1a54-cc70-4ab364ac6727</td>\n      <td>2670480</td>\n      <td>144</td>\n      <td>0</td>\n      <td>ES</td>\n    </tr>\n    <tr>\n      <th>1</th>\n      <td>2020-10-10</td>\n      <td>2020-10-10</td>\n      <td>ES</td>\n      <td>V1</td>\n      <td>214</td>\n      <td>1.2.840.10045.4.3.2</td>\n      <td>bf5f3138-3cc6-6365-1de3-dce866c703a7</td>\n      <td>2670480</td>\n      <td>144</td>\n      <td>0</td>\n      <td>ES</td>\n    </tr>\n    <tr>\n      <th>2</th>\n      <td>2020-10-10</td>\n      <td>2020-10-10</td>\n      <td>ES</td>\n      <td>V1</td>\n      <td>214</td>\n      <td>1.2.840.10045.4.3.2</td>\n      <td>7053826f-d816-1d4c-340a-db196a10fb3e</td>\n      <td>2670480</td>\n      <td>144</td>\n      <td>0</td>\n      <td>ES</td>\n    </tr>\n    <tr>\n      <th>3</th>\n      <td>2020-10-10</td>\n      <td>2020-10-10</td>\n      <td>ES</td>\n      <td>V1</td>\n      <td>214</td>\n      <td>1.2.840.10045.4.3.2</td>\n      <td>0d1c99d8-cf56-9cc4-d497-57909676c370</td>\n      <td>2670480</td>\n      <td>144</td>\n      <td>0</td>\n      <td>ES</td>\n    </tr>\n    <tr>\n      <th>4</th>\n      <td>2020-10-10</td>\n      <td>2020-10-10</td>\n      <td>ES</td>\n      <td>V1</td>\n      <td>214</td>\n      <td>1.2.840.10045.4.3.2</td>\n      <td>f26a07f5-2db4-2f02-560d-be039810db70</td>\n      <td>2670480</td>\n      <td>144</td>\n      <td>0</td>\n      <td>ES</td>\n    </tr>\n  </tbody>\n</table>\n</div>"
     },
     "execution_count": 252,
     "metadata": {},
     "output_type": "execute_result"
    }
   ],
   "source": [
    "from Modules.ExposureNotification import exposure_notification_io\n",
    "\n",
    "raw_zip_path_prefix = \"Data/TEKs/Raw/{backend_identifier}/\"\n",
    "raw_zip_path_suffix = \"/TEKs-{backend_identifier}-{sample_date}.zip\"\n",
    "raw_zip_paths = [\n",
    "    \"Current\",\n",
    "    f\"Daily/{extraction_date}\",\n",
    "]\n",
    "raw_zip_paths = list(map(lambda x: raw_zip_path_prefix + x + raw_zip_path_suffix, raw_zip_paths))\n",
    "\n",
    "backend_identifiers = [spain_region_country_code, \"DE-ES\", \"DE-NL\", \"CH\", \"PT\"]\n",
    "fail_on_error_backend_identifiers = [spain_region_country_code]\n",
    "multi_region_exposure_keys_df = \\\n",
    "    exposure_notification_io.download_exposure_keys_from_backends(\n",
    "        days=14,\n",
    "        backend_identifiers=backend_identifiers,\n",
    "        fail_on_error_backend_identifiers=fail_on_error_backend_identifiers,\n",
    "        save_raw_zip_path=raw_zip_paths)\n",
    "multi_region_exposure_keys_df[\"region\"] = multi_region_exposure_keys_df[\"backend_identifier\"]\n",
    "multi_region_exposure_keys_df.rename(\n",
    "    columns={\n",
    "        \"generation_datetime\": \"sample_datetime\",\n",
    "        \"generation_date_string\": \"sample_date_string\",\n",
    "    },\n",
    "    inplace=True)\n",
    "multi_region_exposure_keys_df.head()"
   ]
  },
  {
   "cell_type": "code",
   "execution_count": 253,
   "outputs": [
    {
     "data": {
      "text/plain": "<matplotlib.axes._subplots.AxesSubplot at 0x12eb490d0>"
     },
     "execution_count": 253,
     "metadata": {},
     "output_type": "execute_result"
    },
    {
     "data": {
      "text/plain": "<Figure size 1080x432 with 1 Axes>",
      "image/png": "[encoded data removed]"
     },
     "metadata": {},
     "output_type": "display_data"
    }
   ],
   "source": [
    "early_teks_df = multi_region_exposure_keys_df[\n",
    "    multi_region_exposure_keys_df.rolling_period < 144].copy()\n",
    "early_teks_df[\"rolling_period_in_hours\"] = early_teks_df.rolling_period / 6\n",
    "early_teks_df[early_teks_df.sample_date_string != extraction_date] \\\n",
    "    .rolling_period_in_hours.hist(bins=list(range(24)))"
   ],
   "metadata": {
    "collapsed": false,
    "pycharm": {
     "name": "#%%\n"
    }
   }
  },
  {
   "cell_type": "code",
   "execution_count": 254,
   "outputs": [
    {
     "data": {
      "text/plain": "<matplotlib.axes._subplots.AxesSubplot at 0x12ce0b110>"
     },
     "execution_count": 254,
     "metadata": {},
     "output_type": "execute_result"
    },
    {
     "data": {
      "text/plain": "<Figure size 1080x432 with 1 Axes>",
      "image/png": "[encoded data removed]"
     },
     "metadata": {},
     "output_type": "display_data"
    }
   ],
   "source": [
    "early_teks_df[early_teks_df.sample_date_string == extraction_date] \\\n",
    "    .rolling_period_in_hours.hist(bins=list(range(24)))"
   ],
   "metadata": {
    "collapsed": false,
    "pycharm": {
     "name": "#%%\n"
    }
   }
  },
  {
   "cell_type": "code",
   "execution_count": 255,
   "outputs": [
    {
     "data": {
      "text/plain": "  sample_date_string region                              key_data\n0         2020-10-10     ES  629ce58b-d7c1-1a54-cc70-4ab364ac6727\n1         2020-10-10     ES  bf5f3138-3cc6-6365-1de3-dce866c703a7\n2         2020-10-10     ES  7053826f-d816-1d4c-340a-db196a10fb3e\n3         2020-10-10     ES  0d1c99d8-cf56-9cc4-d497-57909676c370\n4         2020-10-10     ES  f26a07f5-2db4-2f02-560d-be039810db70",
      "text/html": "<div>\n<style scoped>\n    .dataframe tbody tr th:only-of-type {\n        vertical-align: middle;\n    }\n\n    .dataframe tbody tr th {\n        vertical-align: top;\n    }\n\n    .dataframe thead th {\n        text-align: right;\n    }\n</style>\n<table border=\"1\" class=\"dataframe\">\n  <thead>\n    <tr style=\"text-align: right;\">\n      <th></th>\n      <th>sample_date_string</th>\n      <th>region</th>\n      <th>key_data</th>\n    </tr>\n  </thead>\n  <tbody>\n    <tr>\n      <th>0</th>\n      <td>2020-10-10</td>\n      <td>ES</td>\n      <td>629ce58b-d7c1-1a54-cc70-4ab364ac6727</td>\n    </tr>\n    <tr>\n      <th>1</th>\n      <td>2020-10-10</td>\n      <td>ES</td>\n      <td>bf5f3138-3cc6-6365-1de3-dce866c703a7</td>\n    </tr>\n    <tr>\n      <th>2</th>\n      <td>2020-10-10</td>\n      <td>ES</td>\n      <td>7053826f-d816-1d4c-340a-db196a10fb3e</td>\n    </tr>\n    <tr>\n      <th>3</th>\n      <td>2020-10-10</td>\n      <td>ES</td>\n      <td>0d1c99d8-cf56-9cc4-d497-57909676c370</td>\n    </tr>\n    <tr>\n      <th>4</th>\n      <td>2020-10-10</td>\n      <td>ES</td>\n      <td>f26a07f5-2db4-2f02-560d-be039810db70</td>\n    </tr>\n  </tbody>\n</table>\n</div>"
     },
     "execution_count": 255,
     "metadata": {},
     "output_type": "execute_result"
    }
   ],
   "source": [
    "multi_region_exposure_keys_df = multi_region_exposure_keys_df[[\n",
    "    \"sample_date_string\", \"region\", \"key_data\"]]\n",
    "multi_region_exposure_keys_df.head()"
   ],
   "metadata": {
    "collapsed": false,
    "pycharm": {
     "name": "#%%\n"
    }
   }
  },
  {
   "cell_type": "code",
   "execution_count": 256,
   "outputs": [
    {
     "data": {
      "text/plain": "['PT', 'ES', 'CH']"
     },
     "execution_count": 256,
     "metadata": {},
     "output_type": "execute_result"
    }
   ],
   "source": [
    "active_regions = \\\n",
    "    multi_region_exposure_keys_df.groupby(\"region\").key_data.nunique().sort_values().index.unique().tolist()\n",
    "active_regions"
   ],
   "metadata": {
    "collapsed": false,
    "pycharm": {
     "name": "#%%\n"
    }
   }
  },
  {
   "cell_type": "code",
   "execution_count": 332,
   "outputs": [
    {
     "data": {
      "text/plain": "            shared_teks_by_generation_date         \nregion                                  CH   ES  PT\nsample_date                                        \n2020-10-10                             162  106  16\n2020-10-09                             355  170  25\n2020-10-08                             528  220  30\n2020-10-07                             694  243  38\n2020-10-06                             832  302  49",
      "text/html": "<div>\n<style scoped>\n    .dataframe tbody tr th:only-of-type {\n        vertical-align: middle;\n    }\n\n    .dataframe tbody tr th {\n        vertical-align: top;\n    }\n\n    .dataframe thead tr th {\n        text-align: left;\n    }\n\n    .dataframe thead tr:last-of-type th {\n        text-align: right;\n    }\n</style>\n<table border=\"1\" class=\"dataframe\">\n  <thead>\n    <tr>\n      <th></th>\n      <th colspan=\"3\" halign=\"left\">shared_teks_by_generation_date</th>\n    </tr>\n    <tr>\n      <th>region</th>\n      <th>CH</th>\n      <th>ES</th>\n      <th>PT</th>\n    </tr>\n    <tr>\n      <th>sample_date</th>\n      <th></th>\n      <th></th>\n      <th></th>\n    </tr>\n  </thead>\n  <tbody>\n    <tr>\n      <th>2020-10-10</th>\n      <td>162</td>\n      <td>106</td>\n      <td>16</td>\n    </tr>\n    <tr>\n      <th>2020-10-09</th>\n      <td>355</td>\n      <td>170</td>\n      <td>25</td>\n    </tr>\n    <tr>\n      <th>2020-10-08</th>\n      <td>528</td>\n      <td>220</td>\n      <td>30</td>\n    </tr>\n    <tr>\n      <th>2020-10-07</th>\n      <td>694</td>\n      <td>243</td>\n      <td>38</td>\n    </tr>\n    <tr>\n      <th>2020-10-06</th>\n      <td>832</td>\n      <td>302</td>\n      <td>49</td>\n    </tr>\n  </tbody>\n</table>\n</div>"
     },
     "execution_count": 332,
     "metadata": {},
     "output_type": "execute_result"
    }
   ],
   "source": [
    "multi_region_summary_df = multi_region_exposure_keys_df.groupby(\n",
    "    [\"sample_date_string\", \"region\"]).key_data.nunique().reset_index() \\\n",
    "    .pivot(index=\"sample_date_string\", columns=\"region\") \\\n",
    "    .sort_index(ascending=False)\n",
    "multi_region_summary_df.rename(\n",
    "    columns={\"key_data\": \"shared_teks_by_generation_date\"},\n",
    "    inplace=True)\n",
    "multi_region_summary_df.rename_axis(\"sample_date\", inplace=True)\n",
    "multi_region_summary_df = multi_region_summary_df.fillna(0).astype(int)\n",
    "multi_region_summary_df.head()"
   ],
   "metadata": {
    "collapsed": false,
    "pycharm": {
     "name": "#%%\n"
    }
   }
  },
  {
   "cell_type": "code",
   "source": [
    "multi_region_without_spain_exposure_keys_df = \\\n",
    "    multi_region_exposure_keys_df[multi_region_exposure_keys_df.region != spain_region_country_code]\n",
    "active_regions_excluding_spain = \\\n",
    "    multi_region_without_spain_exposure_keys_df.groupby(\"region\").key_data.nunique().sort_values().index.unique().tolist()\n",
    "active_regions_excluding_spain"
   ],
   "metadata": {
    "collapsed": false,
    "pycharm": {
     "name": "#%%\n"
    }
   },
   "execution_count": 258,
   "outputs": [
    {
     "data": {
      "text/plain": "['PT', 'CH']"
     },
     "execution_count": 258,
     "metadata": {},
     "output_type": "execute_result"
    }
   ]
  },
  {
   "cell_type": "code",
   "execution_count": 259,
   "metadata": {
    "execution": {
     "iopub.execute_input": "2020-09-02T08:20:12.668614Z",
     "iopub.status.busy": "2020-09-02T08:20:12.667960Z",
     "iopub.status.idle": "2020-09-02T08:20:12.671637Z",
     "shell.execute_reply": "2020-09-02T08:20:12.671160Z"
    },
    "papermill": {
     "duration": 0.04226,
     "end_time": "2020-09-02T08:20:12.671750",
     "exception": false,
     "start_time": "2020-09-02T08:20:12.629490",
     "status": "completed"
    },
    "scrolled": false,
    "tags": []
   },
   "outputs": [
    {
     "name": "stderr",
     "output_type": "stream",
     "text": [
      "/Users/pvieito/Library/Python/3.7/lib/python/site-packages/pandas/core/frame.py:4117: SettingWithCopyWarning: \n",
      "A value is trying to be set on a copy of a slice from a DataFrame\n",
      "\n",
      "See the caveats in the documentation: http://pandas.pydata.org/pandas-docs/stable/user_guide/indexing.html#returning-a-view-versus-a-copy\n",
      "  errors=errors,\n"
     ]
    },
    {
     "data": {
      "text/plain": "                    shared_teks_by_generation_date\nsample_date_string                                \n2020-10-10                                     106\n2020-10-09                                     170\n2020-10-08                                     220\n2020-10-07                                     243\n2020-10-06                                     302",
      "text/html": "<div>\n<style scoped>\n    .dataframe tbody tr th:only-of-type {\n        vertical-align: middle;\n    }\n\n    .dataframe tbody tr th {\n        vertical-align: top;\n    }\n\n    .dataframe thead th {\n        text-align: right;\n    }\n</style>\n<table border=\"1\" class=\"dataframe\">\n  <thead>\n    <tr style=\"text-align: right;\">\n      <th></th>\n      <th>shared_teks_by_generation_date</th>\n    </tr>\n    <tr>\n      <th>sample_date_string</th>\n      <th></th>\n    </tr>\n  </thead>\n  <tbody>\n    <tr>\n      <th>2020-10-10</th>\n      <td>106</td>\n    </tr>\n    <tr>\n      <th>2020-10-09</th>\n      <td>170</td>\n    </tr>\n    <tr>\n      <th>2020-10-08</th>\n      <td>220</td>\n    </tr>\n    <tr>\n      <th>2020-10-07</th>\n      <td>243</td>\n    </tr>\n    <tr>\n      <th>2020-10-06</th>\n      <td>302</td>\n    </tr>\n  </tbody>\n</table>\n</div>"
     },
     "execution_count": 259,
     "metadata": {},
     "output_type": "execute_result"
    }
   ],
   "source": [
    "exposure_keys_summary_df = multi_region_exposure_keys_df[\n",
    "    multi_region_exposure_keys_df.region == spain_region_country_code]\n",
    "exposure_keys_summary_df.drop(columns=[\"region\"], inplace=True)\n",
    "exposure_keys_summary_df = \\\n",
    "    exposure_keys_summary_df.groupby([\"sample_date_string\"]).key_data.nunique().to_frame()\n",
    "exposure_keys_summary_df = \\\n",
    "    exposure_keys_summary_df.reset_index().set_index(\"sample_date_string\")\n",
    "exposure_keys_summary_df.sort_index(ascending=False, inplace=True)\n",
    "exposure_keys_summary_df.rename(columns={\"key_data\": \"shared_teks_by_generation_date\"}, inplace=True)\n",
    "exposure_keys_summary_df.head()"
   ]
  },
  {
   "cell_type": "markdown",
   "metadata": {
    "papermill": {
     "duration": 0.02793,
     "end_time": "2020-09-02T08:20:12.727802",
     "exception": false,
     "start_time": "2020-09-02T08:20:12.699872",
     "status": "completed"
    },
    "tags": []
   },
   "source": [
    "### Dump API TEKs"
   ]
  },
  {
   "cell_type": "code",
   "execution_count": 260,
   "metadata": {
    "execution": {
     "iopub.execute_input": "2020-09-02T08:20:12.795484Z",
     "iopub.status.busy": "2020-09-02T08:20:12.794864Z",
     "iopub.status.idle": "2020-09-02T08:20:12.820707Z",
     "shell.execute_reply": "2020-09-02T08:20:12.821228Z"
    },
    "papermill": {
     "duration": 0.065482,
     "end_time": "2020-09-02T08:20:12.821424",
     "exception": false,
     "start_time": "2020-09-02T08:20:12.755942",
     "status": "completed"
    },
    "tags": []
   },
   "outputs": [
    {
     "data": {
      "text/plain": "  sample_date region                                           tek_list  \\\n0  2020-09-28     CH  [c4c0aaf9-7e8d-1a1e-4fd1-ac8597e82209, ad2c60f...   \n1  2020-09-28     ES  [a9816781-2d8d-c877-acf5-8d71d855c7ac, e9d3a61...   \n2  2020-09-28     PT  [9f16aadb-04be-19a2-e6b0-bcf3101d567d, 64a9a63...   \n3  2020-09-29     CH  [a189bc60-127c-ce14-8dd9-ec438e1ea82d, 6c9f290...   \n4  2020-09-29     ES  [56a6e90b-34e2-a0fb-686f-d13a217d81f1, 90da4d2...   \n\n  extraction_date extraction_date_with_hour  \n0      2020-10-11             2020-10-11@12  \n1      2020-10-11             2020-10-11@12  \n2      2020-10-11             2020-10-11@12  \n3      2020-10-11             2020-10-11@12  \n4      2020-10-11             2020-10-11@12  ",
      "text/html": "<div>\n<style scoped>\n    .dataframe tbody tr th:only-of-type {\n        vertical-align: middle;\n    }\n\n    .dataframe tbody tr th {\n        vertical-align: top;\n    }\n\n    .dataframe thead th {\n        text-align: right;\n    }\n</style>\n<table border=\"1\" class=\"dataframe\">\n  <thead>\n    <tr style=\"text-align: right;\">\n      <th></th>\n      <th>sample_date</th>\n      <th>region</th>\n      <th>tek_list</th>\n      <th>extraction_date</th>\n      <th>extraction_date_with_hour</th>\n    </tr>\n  </thead>\n  <tbody>\n    <tr>\n      <th>0</th>\n      <td>2020-09-28</td>\n      <td>CH</td>\n      <td>[c4c0aaf9-7e8d-1a1e-4fd1-ac8597e82209, ad2c60f...</td>\n      <td>2020-10-11</td>\n      <td>2020-10-11@12</td>\n    </tr>\n    <tr>\n      <th>1</th>\n      <td>2020-09-28</td>\n      <td>ES</td>\n      <td>[a9816781-2d8d-c877-acf5-8d71d855c7ac, e9d3a61...</td>\n      <td>2020-10-11</td>\n      <td>2020-10-11@12</td>\n    </tr>\n    <tr>\n      <th>2</th>\n      <td>2020-09-28</td>\n      <td>PT</td>\n      <td>[9f16aadb-04be-19a2-e6b0-bcf3101d567d, 64a9a63...</td>\n      <td>2020-10-11</td>\n      <td>2020-10-11@12</td>\n    </tr>\n    <tr>\n      <th>3</th>\n      <td>2020-09-29</td>\n      <td>CH</td>\n      <td>[a189bc60-127c-ce14-8dd9-ec438e1ea82d, 6c9f290...</td>\n      <td>2020-10-11</td>\n      <td>2020-10-11@12</td>\n    </tr>\n    <tr>\n      <th>4</th>\n      <td>2020-09-29</td>\n      <td>ES</td>\n      <td>[56a6e90b-34e2-a0fb-686f-d13a217d81f1, 90da4d2...</td>\n      <td>2020-10-11</td>\n      <td>2020-10-11@12</td>\n    </tr>\n  </tbody>\n</table>\n</div>"
     },
     "execution_count": 260,
     "metadata": {},
     "output_type": "execute_result"
    }
   ],
   "source": [
    "tek_list_df = multi_region_exposure_keys_df[\n",
    "    [\"sample_date_string\", \"region\", \"key_data\"]].copy()\n",
    "tek_list_df[\"key_data\"] = tek_list_df[\"key_data\"].apply(str)\n",
    "tek_list_df.rename(columns={\n",
    "    \"sample_date_string\": \"sample_date\",\n",
    "    \"key_data\": \"tek_list\"}, inplace=True)\n",
    "tek_list_df = tek_list_df.groupby(\n",
    "    [\"sample_date\", \"region\"]).tek_list.unique().reset_index()\n",
    "tek_list_df[\"extraction_date\"] = extraction_date\n",
    "tek_list_df[\"extraction_date_with_hour\"] = extraction_date_with_hour\n",
    "\n",
    "tek_list_path_prefix = \"Data/TEKs/\"\n",
    "tek_list_current_path = tek_list_path_prefix + f\"/Current/RadarCOVID-TEKs.json\"\n",
    "tek_list_daily_path = tek_list_path_prefix + f\"Daily/RadarCOVID-TEKs-{extraction_date}.json\"\n",
    "tek_list_hourly_path = tek_list_path_prefix + f\"Hourly/RadarCOVID-TEKs-{extraction_date_with_hour}.json\"\n",
    "\n",
    "for path in [tek_list_current_path, tek_list_daily_path, tek_list_hourly_path]:\n",
    "    os.makedirs(os.path.dirname(path), exist_ok=True)\n",
    "\n",
    "tek_list_df.drop(columns=[\"extraction_date\", \"extraction_date_with_hour\"]).to_json(\n",
    "    tek_list_current_path,\n",
    "    lines=True, orient=\"records\")\n",
    "tek_list_df.drop(columns=[\"extraction_date_with_hour\"]).to_json(\n",
    "    tek_list_daily_path,\n",
    "    lines=True, orient=\"records\")\n",
    "tek_list_df.to_json(\n",
    "    tek_list_hourly_path,\n",
    "    lines=True, orient=\"records\")\n",
    "tek_list_df.head()"
   ]
  },
  {
   "cell_type": "markdown",
   "metadata": {
    "papermill": {
     "duration": 0.029181,
     "end_time": "2020-09-02T08:20:12.881949",
     "exception": false,
     "start_time": "2020-09-02T08:20:12.852768",
     "status": "completed"
    },
    "tags": []
   },
   "source": [
    "### Load TEK Dumps"
   ]
  },
  {
   "cell_type": "code",
   "execution_count": 261,
   "metadata": {
    "execution": {
     "iopub.execute_input": "2020-09-02T08:20:12.944932Z",
     "iopub.status.busy": "2020-09-02T08:20:12.944267Z",
     "iopub.status.idle": "2020-09-02T08:20:12.946210Z",
     "shell.execute_reply": "2020-09-02T08:20:12.946741Z"
    },
    "papermill": {
     "duration": 0.036268,
     "end_time": "2020-09-02T08:20:12.946913",
     "exception": false,
     "start_time": "2020-09-02T08:20:12.910645",
     "status": "completed"
    },
    "tags": []
   },
   "outputs": [],
   "source": [
    "import glob\n",
    "\n",
    "def load_extracted_teks(mode, region=None, limit=None) -> pd.DataFrame:\n",
    "    extracted_teks_df = pd.DataFrame(columns=[\"region\"])\n",
    "    paths = list(reversed(sorted(glob.glob(tek_list_path_prefix + mode + \"/RadarCOVID-TEKs-*.json\"))))\n",
    "    if limit:\n",
    "        paths = paths[:limit]\n",
    "    for path in paths:\n",
    "        logging.info(f\"Loading TEKs from '{path}'...\")\n",
    "        iteration_extracted_teks_df = pd.read_json(path, lines=True)\n",
    "        extracted_teks_df = extracted_teks_df.append(\n",
    "            iteration_extracted_teks_df, sort=False)\n",
    "    extracted_teks_df[\"region\"] = \\\n",
    "        extracted_teks_df.region.fillna(spain_region_country_code).copy()\n",
    "    if region:\n",
    "        extracted_teks_df = \\\n",
    "            extracted_teks_df[extracted_teks_df.region == region]\n",
    "    return extracted_teks_df"
   ]
  },
  {
   "cell_type": "code",
   "execution_count": 262,
   "outputs": [
    {
     "data": {
      "text/plain": "   region sample_date                                           tek_list  \\\n1      ES  2020-09-28  [a9816781-2d8d-c877-acf5-8d71d855c7ac, e9d3a61...   \n4      ES  2020-09-29  [56a6e90b-34e2-a0fb-686f-d13a217d81f1, 90da4d2...   \n7      ES  2020-09-30  [b1300d12-4651-6221-3552-861d30dbedf1, 4b8c4d7...   \n10     ES  2020-10-01  [648c8bad-4d9c-498d-02b6-e31700ccaa65, 0bfcd48...   \n13     ES  2020-10-02  [eba24e8f-9a84-77b5-37cd-12fada06c9f1, 4a9ba9e...   \n\n   extraction_date extraction_date_with_hour  \n1       2020-10-11                       NaN  \n4       2020-10-11                       NaN  \n7       2020-10-11                       NaN  \n10      2020-10-11                       NaN  \n13      2020-10-11                       NaN  ",
      "text/html": "<div>\n<style scoped>\n    .dataframe tbody tr th:only-of-type {\n        vertical-align: middle;\n    }\n\n    .dataframe tbody tr th {\n        vertical-align: top;\n    }\n\n    .dataframe thead th {\n        text-align: right;\n    }\n</style>\n<table border=\"1\" class=\"dataframe\">\n  <thead>\n    <tr style=\"text-align: right;\">\n      <th></th>\n      <th>region</th>\n      <th>sample_date</th>\n      <th>tek_list</th>\n      <th>extraction_date</th>\n      <th>extraction_date_with_hour</th>\n    </tr>\n  </thead>\n  <tbody>\n    <tr>\n      <th>1</th>\n      <td>ES</td>\n      <td>2020-09-28</td>\n      <td>[a9816781-2d8d-c877-acf5-8d71d855c7ac, e9d3a61...</td>\n      <td>2020-10-11</td>\n      <td>NaN</td>\n    </tr>\n    <tr>\n      <th>4</th>\n      <td>ES</td>\n      <td>2020-09-29</td>\n      <td>[56a6e90b-34e2-a0fb-686f-d13a217d81f1, 90da4d2...</td>\n      <td>2020-10-11</td>\n      <td>NaN</td>\n    </tr>\n    <tr>\n      <th>7</th>\n      <td>ES</td>\n      <td>2020-09-30</td>\n      <td>[b1300d12-4651-6221-3552-861d30dbedf1, 4b8c4d7...</td>\n      <td>2020-10-11</td>\n      <td>NaN</td>\n    </tr>\n    <tr>\n      <th>10</th>\n      <td>ES</td>\n      <td>2020-10-01</td>\n      <td>[648c8bad-4d9c-498d-02b6-e31700ccaa65, 0bfcd48...</td>\n      <td>2020-10-11</td>\n      <td>NaN</td>\n    </tr>\n    <tr>\n      <th>13</th>\n      <td>ES</td>\n      <td>2020-10-02</td>\n      <td>[eba24e8f-9a84-77b5-37cd-12fada06c9f1, 4a9ba9e...</td>\n      <td>2020-10-11</td>\n      <td>NaN</td>\n    </tr>\n  </tbody>\n</table>\n</div>"
     },
     "execution_count": 262,
     "metadata": {},
     "output_type": "execute_result"
    }
   ],
   "source": [
    "daily_extracted_teks_df = load_extracted_teks(\n",
    "    mode=\"Daily\",\n",
    "    region=spain_region_country_code,\n",
    "    limit=tek_dumps_load_limit)\n",
    "daily_extracted_teks_df.head()"
   ],
   "metadata": {
    "collapsed": false,
    "pycharm": {
     "name": "#%%\n"
    }
   }
  },
  {
   "cell_type": "code",
   "execution_count": 263,
   "outputs": [
    {
     "data": {
      "text/plain": "                    shared_teks_by_generation_date\nsample_date_string                                \n2020-10-10                                     106\n2020-10-09                                     170\n2020-10-08                                     220\n2020-10-07                                     243\n2020-10-06                                     302",
      "text/html": "<div>\n<style scoped>\n    .dataframe tbody tr th:only-of-type {\n        vertical-align: middle;\n    }\n\n    .dataframe tbody tr th {\n        vertical-align: top;\n    }\n\n    .dataframe thead th {\n        text-align: right;\n    }\n</style>\n<table border=\"1\" class=\"dataframe\">\n  <thead>\n    <tr style=\"text-align: right;\">\n      <th></th>\n      <th>shared_teks_by_generation_date</th>\n    </tr>\n    <tr>\n      <th>sample_date_string</th>\n      <th></th>\n    </tr>\n  </thead>\n  <tbody>\n    <tr>\n      <th>2020-10-10</th>\n      <td>106</td>\n    </tr>\n    <tr>\n      <th>2020-10-09</th>\n      <td>170</td>\n    </tr>\n    <tr>\n      <th>2020-10-08</th>\n      <td>220</td>\n    </tr>\n    <tr>\n      <th>2020-10-07</th>\n      <td>243</td>\n    </tr>\n    <tr>\n      <th>2020-10-06</th>\n      <td>302</td>\n    </tr>\n  </tbody>\n</table>\n</div>"
     },
     "execution_count": 263,
     "metadata": {},
     "output_type": "execute_result"
    }
   ],
   "source": [
    "exposure_keys_summary_df_ = daily_extracted_teks_df \\\n",
    "    .sort_values(\"extraction_date\", ascending=False) \\\n",
    "    .groupby(\"sample_date\").tek_list.first() \\\n",
    "    .to_frame()\n",
    "exposure_keys_summary_df_.index.name = \"sample_date_string\"\n",
    "exposure_keys_summary_df_[\"tek_list\"] = \\\n",
    "    exposure_keys_summary_df_.tek_list.apply(len)\n",
    "exposure_keys_summary_df_ = exposure_keys_summary_df_ \\\n",
    "    .rename(columns={\"tek_list\": \"shared_teks_by_generation_date\"}) \\\n",
    "    .sort_index(ascending=False)\n",
    "exposure_keys_summary_df = exposure_keys_summary_df_\n",
    "exposure_keys_summary_df.head()"
   ],
   "metadata": {
    "collapsed": false,
    "pycharm": {
     "name": "#%%\n"
    }
   }
  },
  {
   "cell_type": "markdown",
   "metadata": {
    "execution": {
     "iopub.execute_input": "2020-08-30T22:30:16.632967Z",
     "iopub.status.busy": "2020-08-30T22:30:16.632308Z",
     "iopub.status.idle": "2020-08-30T22:30:16.634945Z",
     "shell.execute_reply": "2020-08-30T22:30:16.635575Z"
    },
    "papermill": {
     "duration": 0.029521,
     "end_time": "2020-09-02T08:20:13.004520",
     "exception": false,
     "start_time": "2020-09-02T08:20:12.974999",
     "status": "completed"
    },
    "pycharm": {
     "name": "#%% md\n"
    },
    "tags": []
   },
   "source": [
    "### Daily New TEKs"
   ]
  },
  {
   "cell_type": "code",
   "execution_count": 264,
   "metadata": {
    "execution": {
     "iopub.execute_input": "2020-09-02T08:20:13.170235Z",
     "iopub.status.busy": "2020-09-02T08:20:13.169629Z",
     "iopub.status.idle": "2020-09-02T08:20:13.180974Z",
     "shell.execute_reply": "2020-09-02T08:20:13.181525Z"
    },
    "papermill": {
     "duration": 0.047324,
     "end_time": "2020-09-02T08:20:13.181656",
     "exception": false,
     "start_time": "2020-09-02T08:20:13.134332",
     "status": "completed"
    },
    "tags": []
   },
   "outputs": [
    {
     "data": {
      "text/plain": "                                                          tek_list\nextraction_date                                                   \n2020-08-29       {de21d4fd-4f07-90a6-56bc-c50c3d03a795, 26638f6...\n2020-08-30       {de21d4fd-4f07-90a6-56bc-c50c3d03a795, 26638f6...\n2020-08-31       {de21d4fd-4f07-90a6-56bc-c50c3d03a795, 26638f6...\n2020-09-01       {de21d4fd-4f07-90a6-56bc-c50c3d03a795, 26638f6...\n2020-09-02       {de21d4fd-4f07-90a6-56bc-c50c3d03a795, 26638f6...",
      "text/html": "<div>\n<style scoped>\n    .dataframe tbody tr th:only-of-type {\n        vertical-align: middle;\n    }\n\n    .dataframe tbody tr th {\n        vertical-align: top;\n    }\n\n    .dataframe thead th {\n        text-align: right;\n    }\n</style>\n<table border=\"1\" class=\"dataframe\">\n  <thead>\n    <tr style=\"text-align: right;\">\n      <th></th>\n      <th>tek_list</th>\n    </tr>\n    <tr>\n      <th>extraction_date</th>\n      <th></th>\n    </tr>\n  </thead>\n  <tbody>\n    <tr>\n      <th>2020-08-29</th>\n      <td>{de21d4fd-4f07-90a6-56bc-c50c3d03a795, 26638f6...</td>\n    </tr>\n    <tr>\n      <th>2020-08-30</th>\n      <td>{de21d4fd-4f07-90a6-56bc-c50c3d03a795, 26638f6...</td>\n    </tr>\n    <tr>\n      <th>2020-08-31</th>\n      <td>{de21d4fd-4f07-90a6-56bc-c50c3d03a795, 26638f6...</td>\n    </tr>\n    <tr>\n      <th>2020-09-01</th>\n      <td>{de21d4fd-4f07-90a6-56bc-c50c3d03a795, 26638f6...</td>\n    </tr>\n    <tr>\n      <th>2020-09-02</th>\n      <td>{de21d4fd-4f07-90a6-56bc-c50c3d03a795, 26638f6...</td>\n    </tr>\n  </tbody>\n</table>\n</div>"
     },
     "execution_count": 264,
     "metadata": {},
     "output_type": "execute_result"
    }
   ],
   "source": [
    "tek_list_df = daily_extracted_teks_df.groupby(\"extraction_date\").tek_list.apply(\n",
    "    lambda x: set(sum(x, []))).reset_index()\n",
    "tek_list_df = tek_list_df.set_index(\"extraction_date\").sort_index(ascending=True)\n",
    "tek_list_df.head()"
   ]
  },
  {
   "cell_type": "code",
   "execution_count": 265,
   "outputs": [
    {
     "name": "stderr",
     "output_type": "stream",
     "text": [
      "/Users/pvieito/Library/Python/3.7/lib/python/site-packages/ipykernel_launcher.py:5: FutureWarning: `item` has been deprecated and will be removed in a future version\n",
      "  \"\"\"\n"
     ]
    },
    {
     "data": {
      "text/plain": "             today_teks_by_generation_date\nsample_date                               \n2020-10-06                              19\n2020-10-07                              24\n2020-10-08                              29\n2020-10-09                              36\n2020-10-10                             106",
      "text/html": "<div>\n<style scoped>\n    .dataframe tbody tr th:only-of-type {\n        vertical-align: middle;\n    }\n\n    .dataframe tbody tr th {\n        vertical-align: top;\n    }\n\n    .dataframe thead th {\n        text-align: right;\n    }\n</style>\n<table border=\"1\" class=\"dataframe\">\n  <thead>\n    <tr style=\"text-align: right;\">\n      <th></th>\n      <th>today_teks_by_generation_date</th>\n    </tr>\n    <tr>\n      <th>sample_date</th>\n      <th></th>\n    </tr>\n  </thead>\n  <tbody>\n    <tr>\n      <th>2020-10-06</th>\n      <td>19</td>\n    </tr>\n    <tr>\n      <th>2020-10-07</th>\n      <td>24</td>\n    </tr>\n    <tr>\n      <th>2020-10-08</th>\n      <td>29</td>\n    </tr>\n    <tr>\n      <th>2020-10-09</th>\n      <td>36</td>\n    </tr>\n    <tr>\n      <th>2020-10-10</th>\n      <td>106</td>\n    </tr>\n  </tbody>\n</table>\n</div>"
     },
     "execution_count": 265,
     "metadata": {},
     "output_type": "execute_result"
    }
   ],
   "source": [
    "today_new_teks_set_df = tek_list_df.diff()\n",
    "try:\n",
    "    today_new_teks_set = today_new_teks_set_df[\n",
    "        today_new_teks_set_df.index == extraction_date].tek_list.item()\n",
    "except ValueError:\n",
    "    today_new_teks_set = set()\n",
    "today_new_teks_df = daily_extracted_teks_df[\n",
    "    daily_extracted_teks_df.extraction_date == extraction_date].copy()\n",
    "today_new_teks_df[\"today_teks\"] = \\\n",
    "    today_new_teks_df.tek_list.apply(lambda x: set(x).intersection(today_new_teks_set))\n",
    "today_new_teks_df[\"today_teks_by_generation_date\"] = \\\n",
    "    today_new_teks_df.today_teks.apply(len)\n",
    "today_new_teks_df = today_new_teks_df[[\"sample_date\", \"today_teks_by_generation_date\"]]\n",
    "today_new_teks_df.set_index(\"sample_date\", inplace=True)\n",
    "today_new_teks_df.tail()"
   ],
   "metadata": {
    "collapsed": false,
    "pycharm": {
     "name": "#%%\n"
    }
   }
  },
  {
   "cell_type": "code",
   "execution_count": 266,
   "outputs": [
    {
     "data": {
      "text/plain": "<matplotlib.axes._subplots.AxesSubplot at 0x12774ea90>"
     },
     "execution_count": 266,
     "metadata": {},
     "output_type": "execute_result"
    },
    {
     "data": {
      "text/plain": "<Figure size 1080x432 with 1 Axes>",
      "image/png": "[encoded data removed]"
     },
     "metadata": {},
     "output_type": "display_data"
    }
   ],
   "source": [
    "today_new_teks_df.plot.bar()"
   ],
   "metadata": {
    "collapsed": false,
    "pycharm": {
     "name": "#%%\n"
    }
   }
  },
  {
   "cell_type": "code",
   "execution_count": 267,
   "metadata": {
    "execution": {
     "iopub.execute_input": "2020-09-02T08:20:13.256480Z",
     "iopub.status.busy": "2020-09-02T08:20:13.255817Z",
     "iopub.status.idle": "2020-09-02T08:20:13.259468Z",
     "shell.execute_reply": "2020-09-02T08:20:13.258820Z"
    },
    "papermill": {
     "duration": 0.047547,
     "end_time": "2020-09-02T08:20:13.259586",
     "exception": false,
     "start_time": "2020-09-02T08:20:13.212039",
     "status": "completed"
    },
    "tags": []
   },
   "outputs": [
    {
     "data": {
      "text/plain": "   sample_date_string  shared_teks_by_upload_date\n39         2020-10-07                       178.0\n40         2020-10-08                       272.0\n41         2020-10-09                       348.0\n42         2020-10-10                       429.0\n43         2020-10-11                       244.0",
      "text/html": "<div>\n<style scoped>\n    .dataframe tbody tr th:only-of-type {\n        vertical-align: middle;\n    }\n\n    .dataframe tbody tr th {\n        vertical-align: top;\n    }\n\n    .dataframe thead th {\n        text-align: right;\n    }\n</style>\n<table border=\"1\" class=\"dataframe\">\n  <thead>\n    <tr style=\"text-align: right;\">\n      <th></th>\n      <th>sample_date_string</th>\n      <th>shared_teks_by_upload_date</th>\n    </tr>\n  </thead>\n  <tbody>\n    <tr>\n      <th>39</th>\n      <td>2020-10-07</td>\n      <td>178.0</td>\n    </tr>\n    <tr>\n      <th>40</th>\n      <td>2020-10-08</td>\n      <td>272.0</td>\n    </tr>\n    <tr>\n      <th>41</th>\n      <td>2020-10-09</td>\n      <td>348.0</td>\n    </tr>\n    <tr>\n      <th>42</th>\n      <td>2020-10-10</td>\n      <td>429.0</td>\n    </tr>\n    <tr>\n      <th>43</th>\n      <td>2020-10-11</td>\n      <td>244.0</td>\n    </tr>\n  </tbody>\n</table>\n</div>"
     },
     "execution_count": 267,
     "metadata": {},
     "output_type": "execute_result"
    }
   ],
   "source": [
    "new_tek_df = tek_list_df.diff().tek_list.apply(\n",
    "    lambda x: len(x) if not pd.isna(x) else None).to_frame().reset_index()\n",
    "new_tek_df.rename(columns={\n",
    "    \"tek_list\": \"shared_teks_by_upload_date\",\n",
    "    \"extraction_date\": \"sample_date_string\",}, inplace=True)\n",
    "new_tek_df.tail()"
   ]
  },
  {
   "cell_type": "code",
   "execution_count": 268,
   "metadata": {
    "execution": {
     "iopub.execute_input": "2020-09-02T08:20:13.339270Z",
     "iopub.status.busy": "2020-09-02T08:20:13.338651Z",
     "iopub.status.idle": "2020-09-02T08:20:13.342728Z",
     "shell.execute_reply": "2020-09-02T08:20:13.343269Z"
    },
    "papermill": {
     "duration": 0.054523,
     "end_time": "2020-09-02T08:20:13.343415",
     "exception": false,
     "start_time": "2020-09-02T08:20:13.288892",
     "status": "completed"
    },
    "pycharm": {
     "name": "#%%\n"
    },
    "tags": []
   },
   "outputs": [
    {
     "data": {
      "text/plain": "   region sample_date                                           tek_list  \\\n1      ES  2020-09-28  [a9816781-2d8d-c877-acf5-8d71d855c7ac, e9d3a61...   \n4      ES  2020-09-29  [56a6e90b-34e2-a0fb-686f-d13a217d81f1, 90da4d2...   \n7      ES  2020-09-30  [b1300d12-4651-6221-3552-861d30dbedf1, 4b8c4d7...   \n10     ES  2020-10-01  [648c8bad-4d9c-498d-02b6-e31700ccaa65, 0bfcd48...   \n13     ES  2020-10-02  [eba24e8f-9a84-77b5-37cd-12fada06c9f1, 4a9ba9e...   \n\n   extraction_date extraction_date_with_hour new_sample_extraction_date  \n1       2020-10-11                       NaN                 2020-09-29  \n4       2020-10-11                       NaN                 2020-09-30  \n7       2020-10-11                       NaN                 2020-10-01  \n10      2020-10-11                       NaN                 2020-10-02  \n13      2020-10-11                       NaN                 2020-10-03  ",
      "text/html": "<div>\n<style scoped>\n    .dataframe tbody tr th:only-of-type {\n        vertical-align: middle;\n    }\n\n    .dataframe tbody tr th {\n        vertical-align: top;\n    }\n\n    .dataframe thead th {\n        text-align: right;\n    }\n</style>\n<table border=\"1\" class=\"dataframe\">\n  <thead>\n    <tr style=\"text-align: right;\">\n      <th></th>\n      <th>region</th>\n      <th>sample_date</th>\n      <th>tek_list</th>\n      <th>extraction_date</th>\n      <th>extraction_date_with_hour</th>\n      <th>new_sample_extraction_date</th>\n    </tr>\n  </thead>\n  <tbody>\n    <tr>\n      <th>1</th>\n      <td>ES</td>\n      <td>2020-09-28</td>\n      <td>[a9816781-2d8d-c877-acf5-8d71d855c7ac, e9d3a61...</td>\n      <td>2020-10-11</td>\n      <td>NaN</td>\n      <td>2020-09-29</td>\n    </tr>\n    <tr>\n      <th>4</th>\n      <td>ES</td>\n      <td>2020-09-29</td>\n      <td>[56a6e90b-34e2-a0fb-686f-d13a217d81f1, 90da4d2...</td>\n      <td>2020-10-11</td>\n      <td>NaN</td>\n      <td>2020-09-30</td>\n    </tr>\n    <tr>\n      <th>7</th>\n      <td>ES</td>\n      <td>2020-09-30</td>\n      <td>[b1300d12-4651-6221-3552-861d30dbedf1, 4b8c4d7...</td>\n      <td>2020-10-11</td>\n      <td>NaN</td>\n      <td>2020-10-01</td>\n    </tr>\n    <tr>\n      <th>10</th>\n      <td>ES</td>\n      <td>2020-10-01</td>\n      <td>[648c8bad-4d9c-498d-02b6-e31700ccaa65, 0bfcd48...</td>\n      <td>2020-10-11</td>\n      <td>NaN</td>\n      <td>2020-10-02</td>\n    </tr>\n    <tr>\n      <th>13</th>\n      <td>ES</td>\n      <td>2020-10-02</td>\n      <td>[eba24e8f-9a84-77b5-37cd-12fada06c9f1, 4a9ba9e...</td>\n      <td>2020-10-11</td>\n      <td>NaN</td>\n      <td>2020-10-03</td>\n    </tr>\n  </tbody>\n</table>\n</div>"
     },
     "execution_count": 268,
     "metadata": {},
     "output_type": "execute_result"
    }
   ],
   "source": [
    "estimated_shared_diagnoses_df = daily_extracted_teks_df.copy()\n",
    "estimated_shared_diagnoses_df[\"new_sample_extraction_date\"] = \\\n",
    "    pd.to_datetime(estimated_shared_diagnoses_df.sample_date) + datetime.timedelta(1)\n",
    "estimated_shared_diagnoses_df[\"extraction_date\"] = pd.to_datetime(estimated_shared_diagnoses_df.extraction_date)\n",
    "estimated_shared_diagnoses_df[\"sample_date\"] = pd.to_datetime(estimated_shared_diagnoses_df.sample_date)\n",
    "estimated_shared_diagnoses_df.head()"
   ]
  },
  {
   "cell_type": "code",
   "execution_count": 269,
   "outputs": [
    {
     "data": {
      "text/plain": "   extraction_date                                  same_day_tek_list\n13      2020-10-09             [2608c66d-6985-9936-30a3-05ce2ddb259f]\n13      2020-10-08             [a663b30a-8b02-d298-a9f7-9c9153f7f590]\n13      2020-10-06  [2ed478e1-6fb4-7433-2ba5-5ddcaf3e7f8b, 147e075...\n13      2020-10-05  [40e3b870-b9ea-392d-8e17-4e6ac12af668, 39beaeb...\n13      2020-10-04  [66abf67e-ed33-e011-f22f-0d113b889269, e46ca4e...",
      "text/html": "<div>\n<style scoped>\n    .dataframe tbody tr th:only-of-type {\n        vertical-align: middle;\n    }\n\n    .dataframe tbody tr th {\n        vertical-align: top;\n    }\n\n    .dataframe thead th {\n        text-align: right;\n    }\n</style>\n<table border=\"1\" class=\"dataframe\">\n  <thead>\n    <tr style=\"text-align: right;\">\n      <th></th>\n      <th>extraction_date</th>\n      <th>same_day_tek_list</th>\n    </tr>\n  </thead>\n  <tbody>\n    <tr>\n      <th>13</th>\n      <td>2020-10-09</td>\n      <td>[2608c66d-6985-9936-30a3-05ce2ddb259f]</td>\n    </tr>\n    <tr>\n      <th>13</th>\n      <td>2020-10-08</td>\n      <td>[a663b30a-8b02-d298-a9f7-9c9153f7f590]</td>\n    </tr>\n    <tr>\n      <th>13</th>\n      <td>2020-10-06</td>\n      <td>[2ed478e1-6fb4-7433-2ba5-5ddcaf3e7f8b, 147e075...</td>\n    </tr>\n    <tr>\n      <th>13</th>\n      <td>2020-10-05</td>\n      <td>[40e3b870-b9ea-392d-8e17-4e6ac12af668, 39beaeb...</td>\n    </tr>\n    <tr>\n      <th>13</th>\n      <td>2020-10-04</td>\n      <td>[66abf67e-ed33-e011-f22f-0d113b889269, e46ca4e...</td>\n    </tr>\n  </tbody>\n</table>\n</div>"
     },
     "execution_count": 269,
     "metadata": {},
     "output_type": "execute_result"
    }
   ],
   "source": [
    "# Sometimes TEKs from the same day are uploaded, we do not count them as new TEK devices:\n",
    "same_day_tek_list_df = estimated_shared_diagnoses_df[\n",
    "    estimated_shared_diagnoses_df.sample_date == estimated_shared_diagnoses_df.extraction_date].copy()\n",
    "same_day_tek_list_df = same_day_tek_list_df[[\"extraction_date\", \"tek_list\"]].rename(\n",
    "    columns={\"tek_list\": \"same_day_tek_list\"})\n",
    "same_day_tek_list_df.head()"
   ],
   "metadata": {
    "collapsed": false,
    "pycharm": {
     "name": "#%%\n"
    }
   }
  },
  {
   "cell_type": "code",
   "execution_count": 270,
   "outputs": [
    {
     "data": {
      "text/plain": "   sample_date_string  shared_teks_uploaded_on_generation_date\n13         2020-10-09                                        1\n13         2020-10-08                                        1\n13         2020-10-06                                       60\n13         2020-10-05                                       52\n13         2020-10-04                                       76",
      "text/html": "<div>\n<style scoped>\n    .dataframe tbody tr th:only-of-type {\n        vertical-align: middle;\n    }\n\n    .dataframe tbody tr th {\n        vertical-align: top;\n    }\n\n    .dataframe thead th {\n        text-align: right;\n    }\n</style>\n<table border=\"1\" class=\"dataframe\">\n  <thead>\n    <tr style=\"text-align: right;\">\n      <th></th>\n      <th>sample_date_string</th>\n      <th>shared_teks_uploaded_on_generation_date</th>\n    </tr>\n  </thead>\n  <tbody>\n    <tr>\n      <th>13</th>\n      <td>2020-10-09</td>\n      <td>1</td>\n    </tr>\n    <tr>\n      <th>13</th>\n      <td>2020-10-08</td>\n      <td>1</td>\n    </tr>\n    <tr>\n      <th>13</th>\n      <td>2020-10-06</td>\n      <td>60</td>\n    </tr>\n    <tr>\n      <th>13</th>\n      <td>2020-10-05</td>\n      <td>52</td>\n    </tr>\n    <tr>\n      <th>13</th>\n      <td>2020-10-04</td>\n      <td>76</td>\n    </tr>\n  </tbody>\n</table>\n</div>"
     },
     "execution_count": 270,
     "metadata": {},
     "output_type": "execute_result"
    }
   ],
   "source": [
    "shared_teks_uploaded_on_generation_date_df = same_day_tek_list_df.rename(\n",
    "    columns={\n",
    "        \"extraction_date\": \"sample_date_string\",\n",
    "        \"same_day_tek_list\": \"shared_teks_uploaded_on_generation_date\",\n",
    "    })\n",
    "shared_teks_uploaded_on_generation_date_df.shared_teks_uploaded_on_generation_date = \\\n",
    " shared_teks_uploaded_on_generation_date_df.shared_teks_uploaded_on_generation_date.apply(len)\n",
    "shared_teks_uploaded_on_generation_date_df.head()\n",
    "shared_teks_uploaded_on_generation_date_df[\"sample_date_string\"] = \\\n",
    "    shared_teks_uploaded_on_generation_date_df.sample_date_string.dt.strftime(\"%Y-%m-%d\")\n",
    "shared_teks_uploaded_on_generation_date_df.head()"
   ],
   "metadata": {
    "collapsed": false,
    "pycharm": {
     "name": "#%%\n"
    }
   }
  },
  {
   "cell_type": "code",
   "source": [
    "estimated_shared_diagnoses_df = estimated_shared_diagnoses_df[\n",
    "    estimated_shared_diagnoses_df.new_sample_extraction_date == estimated_shared_diagnoses_df.extraction_date]\n",
    "estimated_shared_diagnoses_df.head()"
   ],
   "metadata": {
    "collapsed": false,
    "pycharm": {
     "name": "#%%\n"
    }
   },
   "execution_count": 271,
   "outputs": [
    {
     "data": {
      "text/plain": "   region sample_date                                           tek_list  \\\n37     ES  2020-10-10  [629ce58b-d7c1-1a54-cc70-4ab364ac6727, bf5f313...   \n37     ES  2020-10-09  [2a2f3e71-daba-5d03-fe20-9e8827a9036a, ca53e30...   \n12     ES  2020-10-08  [5947e8d7-76cb-6e84-0056-9b6e2c269d95, da29223...   \n12     ES  2020-10-07  [572a44e5-b040-f739-3ae9-3e1e617ba26e, 93bb79e...   \n12     ES  2020-10-06  [d40fe510-a68c-6ca1-5836-85bd0c385c82, 198e63d...   \n\n   extraction_date extraction_date_with_hour new_sample_extraction_date  \n37      2020-10-11                       NaN                 2020-10-11  \n37      2020-10-10                       NaN                 2020-10-10  \n12      2020-10-09                       NaN                 2020-10-09  \n12      2020-10-08                       NaN                 2020-10-08  \n12      2020-10-07                       NaN                 2020-10-07  ",
      "text/html": "<div>\n<style scoped>\n    .dataframe tbody tr th:only-of-type {\n        vertical-align: middle;\n    }\n\n    .dataframe tbody tr th {\n        vertical-align: top;\n    }\n\n    .dataframe thead th {\n        text-align: right;\n    }\n</style>\n<table border=\"1\" class=\"dataframe\">\n  <thead>\n    <tr style=\"text-align: right;\">\n      <th></th>\n      <th>region</th>\n      <th>sample_date</th>\n      <th>tek_list</th>\n      <th>extraction_date</th>\n      <th>extraction_date_with_hour</th>\n      <th>new_sample_extraction_date</th>\n    </tr>\n  </thead>\n  <tbody>\n    <tr>\n      <th>37</th>\n      <td>ES</td>\n      <td>2020-10-10</td>\n      <td>[629ce58b-d7c1-1a54-cc70-4ab364ac6727, bf5f313...</td>\n      <td>2020-10-11</td>\n      <td>NaN</td>\n      <td>2020-10-11</td>\n    </tr>\n    <tr>\n      <th>37</th>\n      <td>ES</td>\n      <td>2020-10-09</td>\n      <td>[2a2f3e71-daba-5d03-fe20-9e8827a9036a, ca53e30...</td>\n      <td>2020-10-10</td>\n      <td>NaN</td>\n      <td>2020-10-10</td>\n    </tr>\n    <tr>\n      <th>12</th>\n      <td>ES</td>\n      <td>2020-10-08</td>\n      <td>[5947e8d7-76cb-6e84-0056-9b6e2c269d95, da29223...</td>\n      <td>2020-10-09</td>\n      <td>NaN</td>\n      <td>2020-10-09</td>\n    </tr>\n    <tr>\n      <th>12</th>\n      <td>ES</td>\n      <td>2020-10-07</td>\n      <td>[572a44e5-b040-f739-3ae9-3e1e617ba26e, 93bb79e...</td>\n      <td>2020-10-08</td>\n      <td>NaN</td>\n      <td>2020-10-08</td>\n    </tr>\n    <tr>\n      <th>12</th>\n      <td>ES</td>\n      <td>2020-10-06</td>\n      <td>[d40fe510-a68c-6ca1-5836-85bd0c385c82, 198e63d...</td>\n      <td>2020-10-07</td>\n      <td>NaN</td>\n      <td>2020-10-07</td>\n    </tr>\n  </tbody>\n</table>\n</div>"
     },
     "execution_count": 271,
     "metadata": {},
     "output_type": "execute_result"
    }
   ]
  },
  {
   "cell_type": "code",
   "execution_count": 272,
   "outputs": [
    {
     "data": {
      "text/plain": "  region sample_date                                           tek_list  \\\n0     ES  2020-10-10  [629ce58b-d7c1-1a54-cc70-4ab364ac6727, bf5f313...   \n1     ES  2020-10-09  [2a2f3e71-daba-5d03-fe20-9e8827a9036a, ca53e30...   \n2     ES  2020-10-08  [5947e8d7-76cb-6e84-0056-9b6e2c269d95, da29223...   \n3     ES  2020-10-07  [572a44e5-b040-f739-3ae9-3e1e617ba26e, 93bb79e...   \n4     ES  2020-10-06  [d40fe510-a68c-6ca1-5836-85bd0c385c82, 198e63d...   \n\n  extraction_date extraction_date_with_hour new_sample_extraction_date  \\\n0      2020-10-11                       NaN                 2020-10-11   \n1      2020-10-10                       NaN                 2020-10-10   \n2      2020-10-09                       NaN                 2020-10-09   \n3      2020-10-08                       NaN                 2020-10-08   \n4      2020-10-07                       NaN                 2020-10-07   \n\n                                   same_day_tek_list  \n0                                                 []  \n1             [2608c66d-6985-9936-30a3-05ce2ddb259f]  \n2             [a663b30a-8b02-d298-a9f7-9c9153f7f590]  \n3                                                 []  \n4  [2ed478e1-6fb4-7433-2ba5-5ddcaf3e7f8b, 147e075...  ",
      "text/html": "<div>\n<style scoped>\n    .dataframe tbody tr th:only-of-type {\n        vertical-align: middle;\n    }\n\n    .dataframe tbody tr th {\n        vertical-align: top;\n    }\n\n    .dataframe thead th {\n        text-align: right;\n    }\n</style>\n<table border=\"1\" class=\"dataframe\">\n  <thead>\n    <tr style=\"text-align: right;\">\n      <th></th>\n      <th>region</th>\n      <th>sample_date</th>\n      <th>tek_list</th>\n      <th>extraction_date</th>\n      <th>extraction_date_with_hour</th>\n      <th>new_sample_extraction_date</th>\n      <th>same_day_tek_list</th>\n    </tr>\n  </thead>\n  <tbody>\n    <tr>\n      <th>0</th>\n      <td>ES</td>\n      <td>2020-10-10</td>\n      <td>[629ce58b-d7c1-1a54-cc70-4ab364ac6727, bf5f313...</td>\n      <td>2020-10-11</td>\n      <td>NaN</td>\n      <td>2020-10-11</td>\n      <td>[]</td>\n    </tr>\n    <tr>\n      <th>1</th>\n      <td>ES</td>\n      <td>2020-10-09</td>\n      <td>[2a2f3e71-daba-5d03-fe20-9e8827a9036a, ca53e30...</td>\n      <td>2020-10-10</td>\n      <td>NaN</td>\n      <td>2020-10-10</td>\n      <td>[2608c66d-6985-9936-30a3-05ce2ddb259f]</td>\n    </tr>\n    <tr>\n      <th>2</th>\n      <td>ES</td>\n      <td>2020-10-08</td>\n      <td>[5947e8d7-76cb-6e84-0056-9b6e2c269d95, da29223...</td>\n      <td>2020-10-09</td>\n      <td>NaN</td>\n      <td>2020-10-09</td>\n      <td>[a663b30a-8b02-d298-a9f7-9c9153f7f590]</td>\n    </tr>\n    <tr>\n      <th>3</th>\n      <td>ES</td>\n      <td>2020-10-07</td>\n      <td>[572a44e5-b040-f739-3ae9-3e1e617ba26e, 93bb79e...</td>\n      <td>2020-10-08</td>\n      <td>NaN</td>\n      <td>2020-10-08</td>\n      <td>[]</td>\n    </tr>\n    <tr>\n      <th>4</th>\n      <td>ES</td>\n      <td>2020-10-06</td>\n      <td>[d40fe510-a68c-6ca1-5836-85bd0c385c82, 198e63d...</td>\n      <td>2020-10-07</td>\n      <td>NaN</td>\n      <td>2020-10-07</td>\n      <td>[2ed478e1-6fb4-7433-2ba5-5ddcaf3e7f8b, 147e075...</td>\n    </tr>\n  </tbody>\n</table>\n</div>"
     },
     "execution_count": 272,
     "metadata": {},
     "output_type": "execute_result"
    }
   ],
   "source": [
    "same_day_tek_list_df[\"extraction_date\"] = \\\n",
    "    same_day_tek_list_df.extraction_date + datetime.timedelta(1)\n",
    "estimated_shared_diagnoses_df = \\\n",
    "    estimated_shared_diagnoses_df.merge(same_day_tek_list_df, how=\"left\", on=[\"extraction_date\"])\n",
    "estimated_shared_diagnoses_df[\"same_day_tek_list\"] = \\\n",
    "    estimated_shared_diagnoses_df.same_day_tek_list.apply(lambda x: [] if x is np.nan else x)\n",
    "estimated_shared_diagnoses_df.head()"
   ],
   "metadata": {
    "collapsed": false,
    "pycharm": {
     "name": "#%%\n"
    }
   }
  },
  {
   "cell_type": "code",
   "execution_count": 273,
   "metadata": {
    "execution": {
     "iopub.execute_input": "2020-09-02T08:20:13.412543Z",
     "iopub.status.busy": "2020-09-02T08:20:13.411948Z",
     "iopub.status.idle": "2020-09-02T08:20:13.422555Z",
     "shell.execute_reply": "2020-09-02T08:20:13.422080Z"
    },
    "papermill": {
     "duration": 0.049141,
     "end_time": "2020-09-02T08:20:13.422670",
     "exception": false,
     "start_time": "2020-09-02T08:20:13.373529",
     "status": "completed"
    },
    "tags": []
   },
   "outputs": [
    {
     "data": {
      "text/plain": "  sample_date_string  shared_diagnoses\n0         2020-10-11               106\n1         2020-10-10               133\n2         2020-10-09               105\n3         2020-10-08                86\n4         2020-10-07                54",
      "text/html": "<div>\n<style scoped>\n    .dataframe tbody tr th:only-of-type {\n        vertical-align: middle;\n    }\n\n    .dataframe tbody tr th {\n        vertical-align: top;\n    }\n\n    .dataframe thead th {\n        text-align: right;\n    }\n</style>\n<table border=\"1\" class=\"dataframe\">\n  <thead>\n    <tr style=\"text-align: right;\">\n      <th></th>\n      <th>sample_date_string</th>\n      <th>shared_diagnoses</th>\n    </tr>\n  </thead>\n  <tbody>\n    <tr>\n      <th>0</th>\n      <td>2020-10-11</td>\n      <td>106</td>\n    </tr>\n    <tr>\n      <th>1</th>\n      <td>2020-10-10</td>\n      <td>133</td>\n    </tr>\n    <tr>\n      <th>2</th>\n      <td>2020-10-09</td>\n      <td>105</td>\n    </tr>\n    <tr>\n      <th>3</th>\n      <td>2020-10-08</td>\n      <td>86</td>\n    </tr>\n    <tr>\n      <th>4</th>\n      <td>2020-10-07</td>\n      <td>54</td>\n    </tr>\n  </tbody>\n</table>\n</div>"
     },
     "execution_count": 273,
     "metadata": {},
     "output_type": "execute_result"
    }
   ],
   "source": [
    "estimated_shared_diagnoses_df.set_index(\"extraction_date\", inplace=True)\n",
    "estimated_shared_diagnoses_df[\"shared_diagnoses\"] = estimated_shared_diagnoses_df.apply(\n",
    "    lambda x: len(set(x.tek_list).difference(x.same_day_tek_list)), axis=1).copy()\n",
    "estimated_shared_diagnoses_df.reset_index(inplace=True)\n",
    "estimated_shared_diagnoses_df.rename(columns={\n",
    "    \"extraction_date\": \"sample_date_string\"}, inplace=True)\n",
    "estimated_shared_diagnoses_df = estimated_shared_diagnoses_df[[\"sample_date_string\", \"shared_diagnoses\"]]\n",
    "estimated_shared_diagnoses_df[\"sample_date_string\"] = estimated_shared_diagnoses_df.sample_date_string.dt.strftime(\"%Y-%m-%d\")\n",
    "estimated_shared_diagnoses_df.head()"
   ]
  },
  {
   "cell_type": "markdown",
   "metadata": {
    "papermill": {
     "duration": 0.028296,
     "end_time": "2020-09-02T08:20:13.480026",
     "exception": false,
     "start_time": "2020-09-02T08:20:13.451730",
     "status": "completed"
    },
    "pycharm": {
     "name": "#%% md\n"
    },
    "tags": []
   },
   "source": [
    "### Hourly New TEKs"
   ]
  },
  {
   "cell_type": "code",
   "metadata": {
    "execution": {
     "iopub.execute_input": "2020-09-02T08:20:13.545450Z",
     "iopub.status.busy": "2020-09-02T08:20:13.544786Z",
     "iopub.status.idle": "2020-09-02T08:20:13.675020Z",
     "shell.execute_reply": "2020-09-02T08:20:13.675715Z"
    },
    "papermill": {
     "duration": 0.165601,
     "end_time": "2020-09-02T08:20:13.675870",
     "exception": false,
     "start_time": "2020-09-02T08:20:13.510269",
     "status": "completed"
    },
    "tags": [],
    "pycharm": {
     "name": "#%%\n"
    }
   },
   "source": [
    "hourly_extracted_teks_df = load_extracted_teks(\n",
    "    mode=\"Hourly\", region=spain_region_country_code, limit=25)\n",
    "hourly_extracted_teks_df.head()"
   ],
   "execution_count": 274,
   "outputs": [
    {
     "data": {
      "text/plain": "   region sample_date                                           tek_list  \\\n1      ES  2020-09-28  [a9816781-2d8d-c877-acf5-8d71d855c7ac, e9d3a61...   \n4      ES  2020-09-29  [56a6e90b-34e2-a0fb-686f-d13a217d81f1, 90da4d2...   \n7      ES  2020-09-30  [b1300d12-4651-6221-3552-861d30dbedf1, 4b8c4d7...   \n10     ES  2020-10-01  [648c8bad-4d9c-498d-02b6-e31700ccaa65, 0bfcd48...   \n13     ES  2020-10-02  [eba24e8f-9a84-77b5-37cd-12fada06c9f1, 4a9ba9e...   \n\n   extraction_date extraction_date_with_hour  \n1       2020-10-11             2020-10-11@12  \n4       2020-10-11             2020-10-11@12  \n7       2020-10-11             2020-10-11@12  \n10      2020-10-11             2020-10-11@12  \n13      2020-10-11             2020-10-11@12  ",
      "text/html": "<div>\n<style scoped>\n    .dataframe tbody tr th:only-of-type {\n        vertical-align: middle;\n    }\n\n    .dataframe tbody tr th {\n        vertical-align: top;\n    }\n\n    .dataframe thead th {\n        text-align: right;\n    }\n</style>\n<table border=\"1\" class=\"dataframe\">\n  <thead>\n    <tr style=\"text-align: right;\">\n      <th></th>\n      <th>region</th>\n      <th>sample_date</th>\n      <th>tek_list</th>\n      <th>extraction_date</th>\n      <th>extraction_date_with_hour</th>\n    </tr>\n  </thead>\n  <tbody>\n    <tr>\n      <th>1</th>\n      <td>ES</td>\n      <td>2020-09-28</td>\n      <td>[a9816781-2d8d-c877-acf5-8d71d855c7ac, e9d3a61...</td>\n      <td>2020-10-11</td>\n      <td>2020-10-11@12</td>\n    </tr>\n    <tr>\n      <th>4</th>\n      <td>ES</td>\n      <td>2020-09-29</td>\n      <td>[56a6e90b-34e2-a0fb-686f-d13a217d81f1, 90da4d2...</td>\n      <td>2020-10-11</td>\n      <td>2020-10-11@12</td>\n    </tr>\n    <tr>\n      <th>7</th>\n      <td>ES</td>\n      <td>2020-09-30</td>\n      <td>[b1300d12-4651-6221-3552-861d30dbedf1, 4b8c4d7...</td>\n      <td>2020-10-11</td>\n      <td>2020-10-11@12</td>\n    </tr>\n    <tr>\n      <th>10</th>\n      <td>ES</td>\n      <td>2020-10-01</td>\n      <td>[648c8bad-4d9c-498d-02b6-e31700ccaa65, 0bfcd48...</td>\n      <td>2020-10-11</td>\n      <td>2020-10-11@12</td>\n    </tr>\n    <tr>\n      <th>13</th>\n      <td>ES</td>\n      <td>2020-10-02</td>\n      <td>[eba24e8f-9a84-77b5-37cd-12fada06c9f1, 4a9ba9e...</td>\n      <td>2020-10-11</td>\n      <td>2020-10-11@12</td>\n    </tr>\n  </tbody>\n</table>\n</div>"
     },
     "execution_count": 274,
     "metadata": {},
     "output_type": "execute_result"
    }
   ]
  },
  {
   "cell_type": "code",
   "execution_count": 275,
   "outputs": [
    {
     "data": {
      "text/plain": "  extraction_date_with_hour  shared_teks_by_upload_date\n0             2020-10-10@11                           0\n1             2020-10-10@12                          46\n2             2020-10-10@13                           0\n3             2020-10-10@14                          86\n4             2020-10-10@15                           0",
      "text/html": "<div>\n<style scoped>\n    .dataframe tbody tr th:only-of-type {\n        vertical-align: middle;\n    }\n\n    .dataframe tbody tr th {\n        vertical-align: top;\n    }\n\n    .dataframe thead th {\n        text-align: right;\n    }\n</style>\n<table border=\"1\" class=\"dataframe\">\n  <thead>\n    <tr style=\"text-align: right;\">\n      <th></th>\n      <th>extraction_date_with_hour</th>\n      <th>shared_teks_by_upload_date</th>\n    </tr>\n  </thead>\n  <tbody>\n    <tr>\n      <th>0</th>\n      <td>2020-10-10@11</td>\n      <td>0</td>\n    </tr>\n    <tr>\n      <th>1</th>\n      <td>2020-10-10@12</td>\n      <td>46</td>\n    </tr>\n    <tr>\n      <th>2</th>\n      <td>2020-10-10@13</td>\n      <td>0</td>\n    </tr>\n    <tr>\n      <th>3</th>\n      <td>2020-10-10@14</td>\n      <td>86</td>\n    </tr>\n    <tr>\n      <th>4</th>\n      <td>2020-10-10@15</td>\n      <td>0</td>\n    </tr>\n  </tbody>\n</table>\n</div>"
     },
     "execution_count": 275,
     "metadata": {},
     "output_type": "execute_result"
    }
   ],
   "source": [
    "hourly_new_tek_count_df = hourly_extracted_teks_df \\\n",
    "    .groupby(\"extraction_date_with_hour\").tek_list. \\\n",
    "    apply(lambda x: set(sum(x, []))).reset_index().copy()\n",
    "hourly_new_tek_count_df = hourly_new_tek_count_df.set_index(\"extraction_date_with_hour\") \\\n",
    "    .sort_index(ascending=True)\n",
    "\n",
    "hourly_new_tek_count_df[\"new_tek_list\"] = hourly_new_tek_count_df.tek_list.diff()\n",
    "hourly_new_tek_count_df[\"new_tek_count\"] = hourly_new_tek_count_df.new_tek_list.apply(\n",
    "    lambda x: len(x) if not pd.isna(x) else 0)\n",
    "hourly_new_tek_count_df.rename(columns={\n",
    "    \"new_tek_count\": \"shared_teks_by_upload_date\"}, inplace=True)\n",
    "hourly_new_tek_count_df = hourly_new_tek_count_df.reset_index()[[\n",
    "    \"extraction_date_with_hour\", \"shared_teks_by_upload_date\"]]\n",
    "hourly_new_tek_count_df.head()"
   ],
   "metadata": {
    "collapsed": false,
    "pycharm": {
     "name": "#%%\n"
    }
   }
  },
  {
   "cell_type": "code",
   "execution_count": 276,
   "metadata": {
    "execution": {
     "iopub.execute_input": "2020-09-02T08:20:13.768547Z",
     "iopub.status.busy": "2020-09-02T08:20:13.767839Z",
     "iopub.status.idle": "2020-09-02T08:20:13.773517Z",
     "shell.execute_reply": "2020-09-02T08:20:13.773967Z"
    },
    "papermill": {
     "duration": 0.066286,
     "end_time": "2020-09-02T08:20:13.774122",
     "exception": false,
     "start_time": "2020-09-02T08:20:13.707836",
     "status": "completed"
    },
    "pycharm": {
     "name": "#%%\n"
    },
    "tags": []
   },
   "outputs": [
    {
     "data": {
      "text/plain": "  extraction_date_with_hour  shared_diagnoses\n0             2020-10-10@11                 0\n1             2020-10-10@12                12\n2             2020-10-10@13                 0\n3             2020-10-10@14                18\n4             2020-10-10@15                 0",
      "text/html": "<div>\n<style scoped>\n    .dataframe tbody tr th:only-of-type {\n        vertical-align: middle;\n    }\n\n    .dataframe tbody tr th {\n        vertical-align: top;\n    }\n\n    .dataframe thead th {\n        text-align: right;\n    }\n</style>\n<table border=\"1\" class=\"dataframe\">\n  <thead>\n    <tr style=\"text-align: right;\">\n      <th></th>\n      <th>extraction_date_with_hour</th>\n      <th>shared_diagnoses</th>\n    </tr>\n  </thead>\n  <tbody>\n    <tr>\n      <th>0</th>\n      <td>2020-10-10@11</td>\n      <td>0</td>\n    </tr>\n    <tr>\n      <th>1</th>\n      <td>2020-10-10@12</td>\n      <td>12</td>\n    </tr>\n    <tr>\n      <th>2</th>\n      <td>2020-10-10@13</td>\n      <td>0</td>\n    </tr>\n    <tr>\n      <th>3</th>\n      <td>2020-10-10@14</td>\n      <td>18</td>\n    </tr>\n    <tr>\n      <th>4</th>\n      <td>2020-10-10@15</td>\n      <td>0</td>\n    </tr>\n  </tbody>\n</table>\n</div>"
     },
     "execution_count": 276,
     "metadata": {},
     "output_type": "execute_result"
    }
   ],
   "source": [
    "hourly_estimated_shared_diagnoses_df = hourly_extracted_teks_df.copy()\n",
    "hourly_estimated_shared_diagnoses_df[\"new_sample_extraction_date\"] = \\\n",
    "    pd.to_datetime(hourly_estimated_shared_diagnoses_df.sample_date) + datetime.timedelta(1)\n",
    "hourly_estimated_shared_diagnoses_df[\"extraction_date\"] = \\\n",
    "    pd.to_datetime(hourly_estimated_shared_diagnoses_df.extraction_date)\n",
    "\n",
    "hourly_estimated_shared_diagnoses_df = hourly_estimated_shared_diagnoses_df[\n",
    "    hourly_estimated_shared_diagnoses_df.new_sample_extraction_date ==\n",
    "    hourly_estimated_shared_diagnoses_df.extraction_date]\n",
    "hourly_estimated_shared_diagnoses_df = \\\n",
    "    hourly_estimated_shared_diagnoses_df.merge(same_day_tek_list_df, how=\"left\", on=[\"extraction_date\"])\n",
    "hourly_estimated_shared_diagnoses_df[\"same_day_tek_list\"] = \\\n",
    "    hourly_estimated_shared_diagnoses_df.same_day_tek_list.apply(lambda x: [] if x is np.nan else x)\n",
    "hourly_estimated_shared_diagnoses_df[\"shared_diagnoses\"] = hourly_estimated_shared_diagnoses_df.apply(\n",
    "    lambda x: len(set(x.tek_list).difference(x.same_day_tek_list)), axis=1)\n",
    "hourly_estimated_shared_diagnoses_df = \\\n",
    "    hourly_estimated_shared_diagnoses_df.sort_values(\"extraction_date_with_hour\").copy()\n",
    "hourly_estimated_shared_diagnoses_df[\"shared_diagnoses\"] = hourly_estimated_shared_diagnoses_df \\\n",
    "    .groupby(\"extraction_date\").shared_diagnoses.diff() \\\n",
    "    .fillna(0).astype(int)\n",
    "\n",
    "hourly_estimated_shared_diagnoses_df.set_index(\"extraction_date_with_hour\", inplace=True)\n",
    "hourly_estimated_shared_diagnoses_df.reset_index(inplace=True)\n",
    "hourly_estimated_shared_diagnoses_df = hourly_estimated_shared_diagnoses_df[[\n",
    "    \"extraction_date_with_hour\", \"shared_diagnoses\"]]\n",
    "hourly_estimated_shared_diagnoses_df.head()"
   ]
  },
  {
   "cell_type": "code",
   "execution_count": 277,
   "outputs": [
    {
     "data": {
      "text/plain": "                    extraction_date_with_hour  shared_teks_by_upload_date  \\\ndatetime_utc                                                                \n2020-10-10 12:00:00             2020-10-10@12                          46   \n2020-10-10 13:00:00             2020-10-10@13                           0   \n2020-10-10 14:00:00             2020-10-10@14                          86   \n2020-10-10 15:00:00             2020-10-10@15                           0   \n2020-10-10 16:00:00             2020-10-10@16                          56   \n\n                     shared_diagnoses  \ndatetime_utc                           \n2020-10-10 12:00:00                12  \n2020-10-10 13:00:00                 0  \n2020-10-10 14:00:00                18  \n2020-10-10 15:00:00                 0  \n2020-10-10 16:00:00                11  ",
      "text/html": "<div>\n<style scoped>\n    .dataframe tbody tr th:only-of-type {\n        vertical-align: middle;\n    }\n\n    .dataframe tbody tr th {\n        vertical-align: top;\n    }\n\n    .dataframe thead th {\n        text-align: right;\n    }\n</style>\n<table border=\"1\" class=\"dataframe\">\n  <thead>\n    <tr style=\"text-align: right;\">\n      <th></th>\n      <th>extraction_date_with_hour</th>\n      <th>shared_teks_by_upload_date</th>\n      <th>shared_diagnoses</th>\n    </tr>\n    <tr>\n      <th>datetime_utc</th>\n      <th></th>\n      <th></th>\n      <th></th>\n    </tr>\n  </thead>\n  <tbody>\n    <tr>\n      <th>2020-10-10 12:00:00</th>\n      <td>2020-10-10@12</td>\n      <td>46</td>\n      <td>12</td>\n    </tr>\n    <tr>\n      <th>2020-10-10 13:00:00</th>\n      <td>2020-10-10@13</td>\n      <td>0</td>\n      <td>0</td>\n    </tr>\n    <tr>\n      <th>2020-10-10 14:00:00</th>\n      <td>2020-10-10@14</td>\n      <td>86</td>\n      <td>18</td>\n    </tr>\n    <tr>\n      <th>2020-10-10 15:00:00</th>\n      <td>2020-10-10@15</td>\n      <td>0</td>\n      <td>0</td>\n    </tr>\n    <tr>\n      <th>2020-10-10 16:00:00</th>\n      <td>2020-10-10@16</td>\n      <td>56</td>\n      <td>11</td>\n    </tr>\n  </tbody>\n</table>\n</div>"
     },
     "execution_count": 277,
     "metadata": {},
     "output_type": "execute_result"
    }
   ],
   "source": [
    "hourly_summary_df = hourly_new_tek_count_df.merge(\n",
    "    hourly_estimated_shared_diagnoses_df, on=[\"extraction_date_with_hour\"], how=\"outer\")\n",
    "hourly_summary_df.set_index(\"extraction_date_with_hour\", inplace=True)\n",
    "hourly_summary_df = hourly_summary_df.fillna(0).astype(int).reset_index()\n",
    "hourly_summary_df[\"datetime_utc\"] = pd.to_datetime(\n",
    "    hourly_summary_df.extraction_date_with_hour, format=\"%Y-%m-%d@%H\")\n",
    "hourly_summary_df.set_index(\"datetime_utc\", inplace=True)\n",
    "hourly_summary_df = hourly_summary_df.tail(-1)\n",
    "hourly_summary_df.head()"
   ],
   "metadata": {
    "collapsed": false,
    "pycharm": {
     "name": "#%%\n"
    }
   }
  },
  {
   "cell_type": "markdown",
   "source": [
    "### Data Merge"
   ],
   "metadata": {
    "collapsed": false,
    "pycharm": {
     "name": "#%% md\n"
    }
   }
  },
  {
   "cell_type": "code",
   "execution_count": 278,
   "outputs": [
    {
     "data": {
      "text/plain": "  sample_date_string  shared_teks_by_generation_date  \\\n0         2020-10-10                           106.0   \n1         2020-10-09                           170.0   \n2         2020-10-08                           220.0   \n3         2020-10-07                           243.0   \n4         2020-10-06                           302.0   \n\n   shared_teks_by_upload_date  \n0                       429.0  \n1                       348.0  \n2                       272.0  \n3                       178.0  \n4                       233.0  ",
      "text/html": "<div>\n<style scoped>\n    .dataframe tbody tr th:only-of-type {\n        vertical-align: middle;\n    }\n\n    .dataframe tbody tr th {\n        vertical-align: top;\n    }\n\n    .dataframe thead th {\n        text-align: right;\n    }\n</style>\n<table border=\"1\" class=\"dataframe\">\n  <thead>\n    <tr style=\"text-align: right;\">\n      <th></th>\n      <th>sample_date_string</th>\n      <th>shared_teks_by_generation_date</th>\n      <th>shared_teks_by_upload_date</th>\n    </tr>\n  </thead>\n  <tbody>\n    <tr>\n      <th>0</th>\n      <td>2020-10-10</td>\n      <td>106.0</td>\n      <td>429.0</td>\n    </tr>\n    <tr>\n      <th>1</th>\n      <td>2020-10-09</td>\n      <td>170.0</td>\n      <td>348.0</td>\n    </tr>\n    <tr>\n      <th>2</th>\n      <td>2020-10-08</td>\n      <td>220.0</td>\n      <td>272.0</td>\n    </tr>\n    <tr>\n      <th>3</th>\n      <td>2020-10-07</td>\n      <td>243.0</td>\n      <td>178.0</td>\n    </tr>\n    <tr>\n      <th>4</th>\n      <td>2020-10-06</td>\n      <td>302.0</td>\n      <td>233.0</td>\n    </tr>\n  </tbody>\n</table>\n</div>"
     },
     "execution_count": 278,
     "metadata": {},
     "output_type": "execute_result"
    }
   ],
   "source": [
    "result_summary_df = exposure_keys_summary_df.merge(\n",
    "    new_tek_df, on=[\"sample_date_string\"], how=\"outer\")\n",
    "result_summary_df.head()"
   ],
   "metadata": {
    "collapsed": false,
    "pycharm": {
     "name": "#%%\n"
    }
   }
  },
  {
   "cell_type": "code",
   "execution_count": 279,
   "metadata": {
    "execution": {
     "iopub.execute_input": "2020-09-02T08:20:14.070504Z",
     "iopub.status.busy": "2020-09-02T08:20:14.069700Z",
     "iopub.status.idle": "2020-09-02T08:20:14.082770Z",
     "shell.execute_reply": "2020-09-02T08:20:14.082313Z"
    },
    "papermill": {
     "duration": 0.049311,
     "end_time": "2020-09-02T08:20:14.082900",
     "exception": false,
     "start_time": "2020-09-02T08:20:14.033589",
     "status": "completed"
    },
    "tags": []
   },
   "outputs": [
    {
     "data": {
      "text/plain": "  sample_date_string  shared_teks_by_generation_date  \\\n0         2020-10-10                           106.0   \n1         2020-10-09                           170.0   \n2         2020-10-08                           220.0   \n3         2020-10-07                           243.0   \n4         2020-10-06                           302.0   \n\n   shared_teks_by_upload_date  shared_teks_uploaded_on_generation_date  \n0                       429.0                                      NaN  \n1                       348.0                                      1.0  \n2                       272.0                                      1.0  \n3                       178.0                                      NaN  \n4                       233.0                                     60.0  ",
      "text/html": "<div>\n<style scoped>\n    .dataframe tbody tr th:only-of-type {\n        vertical-align: middle;\n    }\n\n    .dataframe tbody tr th {\n        vertical-align: top;\n    }\n\n    .dataframe thead th {\n        text-align: right;\n    }\n</style>\n<table border=\"1\" class=\"dataframe\">\n  <thead>\n    <tr style=\"text-align: right;\">\n      <th></th>\n      <th>sample_date_string</th>\n      <th>shared_teks_by_generation_date</th>\n      <th>shared_teks_by_upload_date</th>\n      <th>shared_teks_uploaded_on_generation_date</th>\n    </tr>\n  </thead>\n  <tbody>\n    <tr>\n      <th>0</th>\n      <td>2020-10-10</td>\n      <td>106.0</td>\n      <td>429.0</td>\n      <td>NaN</td>\n    </tr>\n    <tr>\n      <th>1</th>\n      <td>2020-10-09</td>\n      <td>170.0</td>\n      <td>348.0</td>\n      <td>1.0</td>\n    </tr>\n    <tr>\n      <th>2</th>\n      <td>2020-10-08</td>\n      <td>220.0</td>\n      <td>272.0</td>\n      <td>1.0</td>\n    </tr>\n    <tr>\n      <th>3</th>\n      <td>2020-10-07</td>\n      <td>243.0</td>\n      <td>178.0</td>\n      <td>NaN</td>\n    </tr>\n    <tr>\n      <th>4</th>\n      <td>2020-10-06</td>\n      <td>302.0</td>\n      <td>233.0</td>\n      <td>60.0</td>\n    </tr>\n  </tbody>\n</table>\n</div>"
     },
     "execution_count": 279,
     "metadata": {},
     "output_type": "execute_result"
    }
   ],
   "source": [
    "result_summary_df = result_summary_df.merge(\n",
    "    shared_teks_uploaded_on_generation_date_df, on=[\"sample_date_string\"], how=\"outer\")\n",
    "result_summary_df.head()"
   ]
  },
  {
   "cell_type": "code",
   "execution_count": 280,
   "outputs": [
    {
     "data": {
      "text/plain": "  sample_date_string  shared_teks_by_generation_date  \\\n0         2020-10-10                           106.0   \n1         2020-10-09                           170.0   \n2         2020-10-08                           220.0   \n3         2020-10-07                           243.0   \n4         2020-10-06                           302.0   \n\n   shared_teks_by_upload_date  shared_teks_uploaded_on_generation_date  \\\n0                       429.0                                      NaN   \n1                       348.0                                      1.0   \n2                       272.0                                      1.0   \n3                       178.0                                      NaN   \n4                       233.0                                     60.0   \n\n   shared_diagnoses  \n0             133.0  \n1             105.0  \n2              86.0  \n3              54.0  \n4              56.0  ",
      "text/html": "<div>\n<style scoped>\n    .dataframe tbody tr th:only-of-type {\n        vertical-align: middle;\n    }\n\n    .dataframe tbody tr th {\n        vertical-align: top;\n    }\n\n    .dataframe thead th {\n        text-align: right;\n    }\n</style>\n<table border=\"1\" class=\"dataframe\">\n  <thead>\n    <tr style=\"text-align: right;\">\n      <th></th>\n      <th>sample_date_string</th>\n      <th>shared_teks_by_generation_date</th>\n      <th>shared_teks_by_upload_date</th>\n      <th>shared_teks_uploaded_on_generation_date</th>\n      <th>shared_diagnoses</th>\n    </tr>\n  </thead>\n  <tbody>\n    <tr>\n      <th>0</th>\n      <td>2020-10-10</td>\n      <td>106.0</td>\n      <td>429.0</td>\n      <td>NaN</td>\n      <td>133.0</td>\n    </tr>\n    <tr>\n      <th>1</th>\n      <td>2020-10-09</td>\n      <td>170.0</td>\n      <td>348.0</td>\n      <td>1.0</td>\n      <td>105.0</td>\n    </tr>\n    <tr>\n      <th>2</th>\n      <td>2020-10-08</td>\n      <td>220.0</td>\n      <td>272.0</td>\n      <td>1.0</td>\n      <td>86.0</td>\n    </tr>\n    <tr>\n      <th>3</th>\n      <td>2020-10-07</td>\n      <td>243.0</td>\n      <td>178.0</td>\n      <td>NaN</td>\n      <td>54.0</td>\n    </tr>\n    <tr>\n      <th>4</th>\n      <td>2020-10-06</td>\n      <td>302.0</td>\n      <td>233.0</td>\n      <td>60.0</td>\n      <td>56.0</td>\n    </tr>\n  </tbody>\n</table>\n</div>"
     },
     "execution_count": 280,
     "metadata": {},
     "output_type": "execute_result"
    }
   ],
   "source": [
    "result_summary_df = result_summary_df.merge(\n",
    "    estimated_shared_diagnoses_df, on=[\"sample_date_string\"], how=\"outer\")\n",
    "result_summary_df.head()"
   ],
   "metadata": {
    "collapsed": false,
    "pycharm": {
     "name": "#%%\n"
    }
   }
  },
  {
   "cell_type": "code",
   "execution_count": 281,
   "outputs": [
    {
     "data": {
      "text/plain": "  sample_date_string  cumulative_cases  new_cases  covid_cases  \\\n0         2020-07-20          264836.0        0.0         1174   \n1         2020-07-21          266194.0     1358.0         1243   \n2         2020-07-22          267551.0     1357.0         1242   \n3         2020-07-23          270166.0     2615.0         1416   \n4         2020-07-24          272421.0     2255.0         1738   \n\n   shared_teks_by_generation_date  shared_teks_by_upload_date  \\\n0                             NaN                         NaN   \n1                             NaN                         NaN   \n2                             NaN                         NaN   \n3                             NaN                         NaN   \n4                             NaN                         NaN   \n\n   shared_teks_uploaded_on_generation_date  shared_diagnoses  \n0                                      NaN               NaN  \n1                                      NaN               NaN  \n2                                      NaN               NaN  \n3                                      NaN               NaN  \n4                                      NaN               NaN  ",
      "text/html": "<div>\n<style scoped>\n    .dataframe tbody tr th:only-of-type {\n        vertical-align: middle;\n    }\n\n    .dataframe tbody tr th {\n        vertical-align: top;\n    }\n\n    .dataframe thead th {\n        text-align: right;\n    }\n</style>\n<table border=\"1\" class=\"dataframe\">\n  <thead>\n    <tr style=\"text-align: right;\">\n      <th></th>\n      <th>sample_date_string</th>\n      <th>cumulative_cases</th>\n      <th>new_cases</th>\n      <th>covid_cases</th>\n      <th>shared_teks_by_generation_date</th>\n      <th>shared_teks_by_upload_date</th>\n      <th>shared_teks_uploaded_on_generation_date</th>\n      <th>shared_diagnoses</th>\n    </tr>\n  </thead>\n  <tbody>\n    <tr>\n      <th>0</th>\n      <td>2020-07-20</td>\n      <td>264836.0</td>\n      <td>0.0</td>\n      <td>1174</td>\n      <td>NaN</td>\n      <td>NaN</td>\n      <td>NaN</td>\n      <td>NaN</td>\n    </tr>\n    <tr>\n      <th>1</th>\n      <td>2020-07-21</td>\n      <td>266194.0</td>\n      <td>1358.0</td>\n      <td>1243</td>\n      <td>NaN</td>\n      <td>NaN</td>\n      <td>NaN</td>\n      <td>NaN</td>\n    </tr>\n    <tr>\n      <th>2</th>\n      <td>2020-07-22</td>\n      <td>267551.0</td>\n      <td>1357.0</td>\n      <td>1242</td>\n      <td>NaN</td>\n      <td>NaN</td>\n      <td>NaN</td>\n      <td>NaN</td>\n    </tr>\n    <tr>\n      <th>3</th>\n      <td>2020-07-23</td>\n      <td>270166.0</td>\n      <td>2615.0</td>\n      <td>1416</td>\n      <td>NaN</td>\n      <td>NaN</td>\n      <td>NaN</td>\n      <td>NaN</td>\n    </tr>\n    <tr>\n      <th>4</th>\n      <td>2020-07-24</td>\n      <td>272421.0</td>\n      <td>2255.0</td>\n      <td>1738</td>\n      <td>NaN</td>\n      <td>NaN</td>\n      <td>NaN</td>\n      <td>NaN</td>\n    </tr>\n  </tbody>\n</table>\n</div>"
     },
     "execution_count": 281,
     "metadata": {},
     "output_type": "execute_result"
    }
   ],
   "source": [
    "result_summary_df = confirmed_df.tail(daily_summary_days).merge(\n",
    "    result_summary_df, on=[\"sample_date_string\"], how=\"left\")\n",
    "result_summary_df.head()"
   ],
   "metadata": {
    "collapsed": false,
    "pycharm": {
     "name": "#%%\n"
    }
   }
  },
  {
   "cell_type": "code",
   "execution_count": 282,
   "outputs": [
    {
     "data": {
      "text/plain": "             cumulative_cases  new_cases  covid_cases  \\\nsample_date                                             \n2020-10-11           871281.0    10169.0        10169   \n2020-10-10           861112.0        0.0        10169   \n2020-10-09           861112.0    12788.0        10169   \n2020-10-08           848324.0    12423.0         9960   \n2020-10-07           835901.0    10491.0         9530   \n\n             shared_teks_by_generation_date  shared_teks_by_upload_date  \\\nsample_date                                                               \n2020-10-11                              NaN                       244.0   \n2020-10-10                            106.0                       429.0   \n2020-10-09                            170.0                       348.0   \n2020-10-08                            220.0                       272.0   \n2020-10-07                            243.0                       178.0   \n\n             shared_teks_uploaded_on_generation_date  shared_diagnoses  \nsample_date                                                             \n2020-10-11                                       NaN             106.0  \n2020-10-10                                       NaN             133.0  \n2020-10-09                                       1.0             105.0  \n2020-10-08                                       1.0              86.0  \n2020-10-07                                       NaN              54.0  ",
      "text/html": "<div>\n<style scoped>\n    .dataframe tbody tr th:only-of-type {\n        vertical-align: middle;\n    }\n\n    .dataframe tbody tr th {\n        vertical-align: top;\n    }\n\n    .dataframe thead th {\n        text-align: right;\n    }\n</style>\n<table border=\"1\" class=\"dataframe\">\n  <thead>\n    <tr style=\"text-align: right;\">\n      <th></th>\n      <th>cumulative_cases</th>\n      <th>new_cases</th>\n      <th>covid_cases</th>\n      <th>shared_teks_by_generation_date</th>\n      <th>shared_teks_by_upload_date</th>\n      <th>shared_teks_uploaded_on_generation_date</th>\n      <th>shared_diagnoses</th>\n    </tr>\n    <tr>\n      <th>sample_date</th>\n      <th></th>\n      <th></th>\n      <th></th>\n      <th></th>\n      <th></th>\n      <th></th>\n      <th></th>\n    </tr>\n  </thead>\n  <tbody>\n    <tr>\n      <th>2020-10-11</th>\n      <td>871281.0</td>\n      <td>10169.0</td>\n      <td>10169</td>\n      <td>NaN</td>\n      <td>244.0</td>\n      <td>NaN</td>\n      <td>106.0</td>\n    </tr>\n    <tr>\n      <th>2020-10-10</th>\n      <td>861112.0</td>\n      <td>0.0</td>\n      <td>10169</td>\n      <td>106.0</td>\n      <td>429.0</td>\n      <td>NaN</td>\n      <td>133.0</td>\n    </tr>\n    <tr>\n      <th>2020-10-09</th>\n      <td>861112.0</td>\n      <td>12788.0</td>\n      <td>10169</td>\n      <td>170.0</td>\n      <td>348.0</td>\n      <td>1.0</td>\n      <td>105.0</td>\n    </tr>\n    <tr>\n      <th>2020-10-08</th>\n      <td>848324.0</td>\n      <td>12423.0</td>\n      <td>9960</td>\n      <td>220.0</td>\n      <td>272.0</td>\n      <td>1.0</td>\n      <td>86.0</td>\n    </tr>\n    <tr>\n      <th>2020-10-07</th>\n      <td>835901.0</td>\n      <td>10491.0</td>\n      <td>9530</td>\n      <td>243.0</td>\n      <td>178.0</td>\n      <td>NaN</td>\n      <td>54.0</td>\n    </tr>\n  </tbody>\n</table>\n</div>"
     },
     "execution_count": 282,
     "metadata": {},
     "output_type": "execute_result"
    }
   ],
   "source": [
    "result_summary_df[\"sample_date\"] = pd.to_datetime(result_summary_df.sample_date_string)\n",
    "result_summary_df.set_index(\"sample_date\", inplace=True)\n",
    "result_summary_df.drop(columns=[\"sample_date_string\"], inplace=True)\n",
    "result_summary_df.sort_index(ascending=False, inplace=True)\n",
    "result_summary_df.head()"
   ],
   "metadata": {
    "collapsed": false,
    "pycharm": {
     "name": "#%%\n"
    }
   }
  },
  {
   "cell_type": "code",
   "source": [
    "with pd.option_context(\"mode.use_inf_as_na\", True):\n",
    "    result_summary_df = result_summary_df.fillna(0).astype(int)\n",
    "    result_summary_df[\"teks_per_shared_diagnosis\"] = \\\n",
    "        (result_summary_df.shared_teks_by_upload_date / result_summary_df.shared_diagnoses).fillna(0)\n",
    "    result_summary_df[\"shared_diagnoses_per_covid_case\"] = \\\n",
    "        (result_summary_df.shared_diagnoses / result_summary_df.covid_cases).fillna(0)\n",
    "\n",
    "result_summary_df.head(daily_plot_days)"
   ],
   "metadata": {
    "collapsed": false,
    "pycharm": {
     "name": "#%%\n"
    }
   },
   "execution_count": 283,
   "outputs": [
    {
     "data": {
      "text/plain": "             cumulative_cases  new_cases  covid_cases  \\\nsample_date                                             \n2020-10-11             871281      10169        10169   \n2020-10-10             861112          0        10169   \n2020-10-09             861112      12788        10169   \n2020-10-08             848324      12423         9960   \n2020-10-07             835901      10491         9530   \n2020-10-06             825410      11998        11021   \n2020-10-05             813412      23480         9307   \n2020-10-04             789932          0        10493   \n2020-10-03             789932          0        10493   \n2020-10-02             789932      11325        10493   \n2020-10-01             778607       9419        10628   \n2020-09-30             769188      20922        10805   \n2020-09-29             748266          0         9428   \n2020-09-28             748266      31785        10971   \n2020-09-27             716481          0        10920   \n2020-09-26             716481          0        10920   \n2020-09-25             716481      12272        10920   \n2020-09-24             704209      10653        11223   \n2020-09-23             693556      11289        11314   \n2020-09-22             682267      10799        11300   \n2020-09-21             671468      31428        11105   \n2020-09-20             640040          0        10531   \n2020-09-19             640040          0        10531   \n2020-09-18             640040      14389        10531   \n2020-09-17             625651      11291        10215   \n2020-09-16             614360      11193        10140   \n2020-09-15             603167       9437         9808   \n2020-09-14             593730      27404         9740   \n\n             shared_teks_by_generation_date  shared_teks_by_upload_date  \\\nsample_date                                                               \n2020-10-11                                0                         244   \n2020-10-10                              106                         429   \n2020-10-09                              170                         348   \n2020-10-08                              220                         272   \n2020-10-07                              243                         178   \n2020-10-06                              302                         233   \n2020-10-05                              304                         273   \n2020-10-04                              328                         331   \n2020-10-03                              297                         324   \n2020-10-02                              305                         299   \n2020-10-01                              313                         367   \n2020-09-30                              293                         271   \n2020-09-29                              265                         178   \n2020-09-28                              269                         211   \n2020-09-27                              315                         449   \n2020-09-26                              339                         448   \n2020-09-25                              284                         306   \n2020-09-24                              286                         289   \n2020-09-23                              296                         267   \n2020-09-22                              282                         148   \n2020-09-21                              268                         190   \n2020-09-20                              218                         116   \n2020-09-19                              203                          90   \n2020-09-18                              165                         138   \n2020-09-17                              139                          63   \n2020-09-16                              119                          62   \n2020-09-15                               82                          58   \n2020-09-14                               73                          61   \n\n             shared_teks_uploaded_on_generation_date  shared_diagnoses  \\\nsample_date                                                              \n2020-10-11                                         0               106   \n2020-10-10                                         0               133   \n2020-10-09                                         1               105   \n2020-10-08                                         1                86   \n2020-10-07                                         0                54   \n2020-10-06                                        60                56   \n2020-10-05                                        52                69   \n2020-10-04                                        76                78   \n2020-10-03                                        69                76   \n2020-10-02                                        72                72   \n2020-10-01                                        75                74   \n2020-09-30                                        55                51   \n2020-09-29                                        32                44   \n2020-09-28                                        44                54   \n2020-09-27                                        98               108   \n2020-09-26                                        79               110   \n2020-09-25                                        14                86   \n2020-09-24                                        17                89   \n2020-09-23                                         4                70   \n2020-09-22                                         0                55   \n2020-09-21                                         0                45   \n2020-09-20                                         0                45   \n2020-09-19                                         2                39   \n2020-09-18                                         1                52   \n2020-09-17                                         0                29   \n2020-09-16                                         0                23   \n2020-09-15                                         0                23   \n2020-09-14                                         0                28   \n\n             teks_per_shared_diagnosis  shared_diagnoses_per_covid_case  \nsample_date                                                              \n2020-10-11                    2.301887                         0.010424  \n2020-10-10                    3.225564                         0.013079  \n2020-10-09                    3.314286                         0.010325  \n2020-10-08                    3.162791                         0.008635  \n2020-10-07                    3.296296                         0.005666  \n2020-10-06                    4.160714                         0.005081  \n2020-10-05                    3.956522                         0.007414  \n2020-10-04                    4.243590                         0.007434  \n2020-10-03                    4.263158                         0.007243  \n2020-10-02                    4.152778                         0.006862  \n2020-10-01                    4.959459                         0.006963  \n2020-09-30                    5.313725                         0.004720  \n2020-09-29                    4.045455                         0.004667  \n2020-09-28                    3.907407                         0.004922  \n2020-09-27                    4.157407                         0.009890  \n2020-09-26                    4.072727                         0.010073  \n2020-09-25                    3.558140                         0.007875  \n2020-09-24                    3.247191                         0.007930  \n2020-09-23                    3.814286                         0.006187  \n2020-09-22                    2.690909                         0.004867  \n2020-09-21                    4.222222                         0.004052  \n2020-09-20                    2.577778                         0.004273  \n2020-09-19                    2.307692                         0.003703  \n2020-09-18                    2.653846                         0.004938  \n2020-09-17                    2.172414                         0.002839  \n2020-09-16                    2.695652                         0.002268  \n2020-09-15                    2.521739                         0.002345  \n2020-09-14                    2.178571                         0.002875  ",
      "text/html": "<div>\n<style scoped>\n    .dataframe tbody tr th:only-of-type {\n        vertical-align: middle;\n    }\n\n    .dataframe tbody tr th {\n        vertical-align: top;\n    }\n\n    .dataframe thead th {\n        text-align: right;\n    }\n</style>\n<table border=\"1\" class=\"dataframe\">\n  <thead>\n    <tr style=\"text-align: right;\">\n      <th></th>\n      <th>cumulative_cases</th>\n      <th>new_cases</th>\n      <th>covid_cases</th>\n      <th>shared_teks_by_generation_date</th>\n      <th>shared_teks_by_upload_date</th>\n      <th>shared_teks_uploaded_on_generation_date</th>\n      <th>shared_diagnoses</th>\n      <th>teks_per_shared_diagnosis</th>\n      <th>shared_diagnoses_per_covid_case</th>\n    </tr>\n    <tr>\n      <th>sample_date</th>\n      <th></th>\n      <th></th>\n      <th></th>\n      <th></th>\n      <th></th>\n      <th></th>\n      <th></th>\n      <th></th>\n      <th></th>\n    </tr>\n  </thead>\n  <tbody>\n    <tr>\n      <th>2020-10-11</th>\n      <td>871281</td>\n      <td>10169</td>\n      <td>10169</td>\n      <td>0</td>\n      <td>244</td>\n      <td>0</td>\n      <td>106</td>\n      <td>2.301887</td>\n      <td>0.010424</td>\n    </tr>\n    <tr>\n      <th>2020-10-10</th>\n      <td>861112</td>\n      <td>0</td>\n      <td>10169</td>\n      <td>106</td>\n      <td>429</td>\n      <td>0</td>\n      <td>133</td>\n      <td>3.225564</td>\n      <td>0.013079</td>\n    </tr>\n    <tr>\n      <th>2020-10-09</th>\n      <td>861112</td>\n      <td>12788</td>\n      <td>10169</td>\n      <td>170</td>\n      <td>348</td>\n      <td>1</td>\n      <td>105</td>\n      <td>3.314286</td>\n      <td>0.010325</td>\n    </tr>\n    <tr>\n      <th>2020-10-08</th>\n      <td>848324</td>\n      <td>12423</td>\n      <td>9960</td>\n      <td>220</td>\n      <td>272</td>\n      <td>1</td>\n      <td>86</td>\n      <td>3.162791</td>\n      <td>0.008635</td>\n    </tr>\n    <tr>\n      <th>2020-10-07</th>\n      <td>835901</td>\n      <td>10491</td>\n      <td>9530</td>\n      <td>243</td>\n      <td>178</td>\n      <td>0</td>\n      <td>54</td>\n      <td>3.296296</td>\n      <td>0.005666</td>\n    </tr>\n    <tr>\n      <th>2020-10-06</th>\n      <td>825410</td>\n      <td>11998</td>\n      <td>11021</td>\n      <td>302</td>\n      <td>233</td>\n      <td>60</td>\n      <td>56</td>\n      <td>4.160714</td>\n      <td>0.005081</td>\n    </tr>\n    <tr>\n      <th>2020-10-05</th>\n      <td>813412</td>\n      <td>23480</td>\n      <td>9307</td>\n      <td>304</td>\n      <td>273</td>\n      <td>52</td>\n      <td>69</td>\n      <td>3.956522</td>\n      <td>0.007414</td>\n    </tr>\n    <tr>\n      <th>2020-10-04</th>\n      <td>789932</td>\n      <td>0</td>\n      <td>10493</td>\n      <td>328</td>\n      <td>331</td>\n      <td>76</td>\n      <td>78</td>\n      <td>4.243590</td>\n      <td>0.007434</td>\n    </tr>\n    <tr>\n      <th>2020-10-03</th>\n      <td>789932</td>\n      <td>0</td>\n      <td>10493</td>\n      <td>297</td>\n      <td>324</td>\n      <td>69</td>\n      <td>76</td>\n      <td>4.263158</td>\n      <td>0.007243</td>\n    </tr>\n    <tr>\n      <th>2020-10-02</th>\n      <td>789932</td>\n      <td>11325</td>\n      <td>10493</td>\n      <td>305</td>\n      <td>299</td>\n      <td>72</td>\n      <td>72</td>\n      <td>4.152778</td>\n      <td>0.006862</td>\n    </tr>\n    <tr>\n      <th>2020-10-01</th>\n      <td>778607</td>\n      <td>9419</td>\n      <td>10628</td>\n      <td>313</td>\n      <td>367</td>\n      <td>75</td>\n      <td>74</td>\n      <td>4.959459</td>\n      <td>0.006963</td>\n    </tr>\n    <tr>\n      <th>2020-09-30</th>\n      <td>769188</td>\n      <td>20922</td>\n      <td>10805</td>\n      <td>293</td>\n      <td>271</td>\n      <td>55</td>\n      <td>51</td>\n      <td>5.313725</td>\n      <td>0.004720</td>\n    </tr>\n    <tr>\n      <th>2020-09-29</th>\n      <td>748266</td>\n      <td>0</td>\n      <td>9428</td>\n      <td>265</td>\n      <td>178</td>\n      <td>32</td>\n      <td>44</td>\n      <td>4.045455</td>\n      <td>0.004667</td>\n    </tr>\n    <tr>\n      <th>2020-09-28</th>\n      <td>748266</td>\n      <td>31785</td>\n      <td>10971</td>\n      <td>269</td>\n      <td>211</td>\n      <td>44</td>\n      <td>54</td>\n      <td>3.907407</td>\n      <td>0.004922</td>\n    </tr>\n    <tr>\n      <th>2020-09-27</th>\n      <td>716481</td>\n      <td>0</td>\n      <td>10920</td>\n      <td>315</td>\n      <td>449</td>\n      <td>98</td>\n      <td>108</td>\n      <td>4.157407</td>\n      <td>0.009890</td>\n    </tr>\n    <tr>\n      <th>2020-09-26</th>\n      <td>716481</td>\n      <td>0</td>\n      <td>10920</td>\n      <td>339</td>\n      <td>448</td>\n      <td>79</td>\n      <td>110</td>\n      <td>4.072727</td>\n      <td>0.010073</td>\n    </tr>\n    <tr>\n      <th>2020-09-25</th>\n      <td>716481</td>\n      <td>12272</td>\n      <td>10920</td>\n      <td>284</td>\n      <td>306</td>\n      <td>14</td>\n      <td>86</td>\n      <td>3.558140</td>\n      <td>0.007875</td>\n    </tr>\n    <tr>\n      <th>2020-09-24</th>\n      <td>704209</td>\n      <td>10653</td>\n      <td>11223</td>\n      <td>286</td>\n      <td>289</td>\n      <td>17</td>\n      <td>89</td>\n      <td>3.247191</td>\n      <td>0.007930</td>\n    </tr>\n    <tr>\n      <th>2020-09-23</th>\n      <td>693556</td>\n      <td>11289</td>\n      <td>11314</td>\n      <td>296</td>\n      <td>267</td>\n      <td>4</td>\n      <td>70</td>\n      <td>3.814286</td>\n      <td>0.006187</td>\n    </tr>\n    <tr>\n      <th>2020-09-22</th>\n      <td>682267</td>\n      <td>10799</td>\n      <td>11300</td>\n      <td>282</td>\n      <td>148</td>\n      <td>0</td>\n      <td>55</td>\n      <td>2.690909</td>\n      <td>0.004867</td>\n    </tr>\n    <tr>\n      <th>2020-09-21</th>\n      <td>671468</td>\n      <td>31428</td>\n      <td>11105</td>\n      <td>268</td>\n      <td>190</td>\n      <td>0</td>\n      <td>45</td>\n      <td>4.222222</td>\n      <td>0.004052</td>\n    </tr>\n    <tr>\n      <th>2020-09-20</th>\n      <td>640040</td>\n      <td>0</td>\n      <td>10531</td>\n      <td>218</td>\n      <td>116</td>\n      <td>0</td>\n      <td>45</td>\n      <td>2.577778</td>\n      <td>0.004273</td>\n    </tr>\n    <tr>\n      <th>2020-09-19</th>\n      <td>640040</td>\n      <td>0</td>\n      <td>10531</td>\n      <td>203</td>\n      <td>90</td>\n      <td>2</td>\n      <td>39</td>\n      <td>2.307692</td>\n      <td>0.003703</td>\n    </tr>\n    <tr>\n      <th>2020-09-18</th>\n      <td>640040</td>\n      <td>14389</td>\n      <td>10531</td>\n      <td>165</td>\n      <td>138</td>\n      <td>1</td>\n      <td>52</td>\n      <td>2.653846</td>\n      <td>0.004938</td>\n    </tr>\n    <tr>\n      <th>2020-09-17</th>\n      <td>625651</td>\n      <td>11291</td>\n      <td>10215</td>\n      <td>139</td>\n      <td>63</td>\n      <td>0</td>\n      <td>29</td>\n      <td>2.172414</td>\n      <td>0.002839</td>\n    </tr>\n    <tr>\n      <th>2020-09-16</th>\n      <td>614360</td>\n      <td>11193</td>\n      <td>10140</td>\n      <td>119</td>\n      <td>62</td>\n      <td>0</td>\n      <td>23</td>\n      <td>2.695652</td>\n      <td>0.002268</td>\n    </tr>\n    <tr>\n      <th>2020-09-15</th>\n      <td>603167</td>\n      <td>9437</td>\n      <td>9808</td>\n      <td>82</td>\n      <td>58</td>\n      <td>0</td>\n      <td>23</td>\n      <td>2.521739</td>\n      <td>0.002345</td>\n    </tr>\n    <tr>\n      <th>2020-09-14</th>\n      <td>593730</td>\n      <td>27404</td>\n      <td>9740</td>\n      <td>73</td>\n      <td>61</td>\n      <td>0</td>\n      <td>28</td>\n      <td>2.178571</td>\n      <td>0.002875</td>\n    </tr>\n  </tbody>\n</table>\n</div>"
     },
     "execution_count": 283,
     "metadata": {},
     "output_type": "execute_result"
    }
   ]
  },
  {
   "cell_type": "code",
   "execution_count": 284,
   "outputs": [
    {
     "data": {
      "text/plain": "             covid_cases  shared_teks_by_generation_date  \\\nsample_date                                                \n2020-10-11         70325                            1345   \n2020-10-10         70649                            1673   \n2020-10-09         70973                            1864   \n2020-10-08         71297                            1999   \n2020-10-07         71965                            2092   \n\n             shared_teks_by_upload_date  shared_diagnoses  \\\nsample_date                                                 \n2020-10-11                         1977               609   \n2020-10-10                         2064               581   \n2020-10-09                         1959               524   \n2020-10-08                         1910               491   \n2020-10-07                         2005               479   \n\n             teks_per_shared_diagnosis  shared_diagnoses_per_covid_case  \nsample_date                                                              \n2020-10-11                    3.246305                         0.008660  \n2020-10-10                    3.552496                         0.008224  \n2020-10-09                    3.738550                         0.007383  \n2020-10-08                    3.890020                         0.006887  \n2020-10-07                    4.185804                         0.006656  ",
      "text/html": "<div>\n<style scoped>\n    .dataframe tbody tr th:only-of-type {\n        vertical-align: middle;\n    }\n\n    .dataframe tbody tr th {\n        vertical-align: top;\n    }\n\n    .dataframe thead th {\n        text-align: right;\n    }\n</style>\n<table border=\"1\" class=\"dataframe\">\n  <thead>\n    <tr style=\"text-align: right;\">\n      <th></th>\n      <th>covid_cases</th>\n      <th>shared_teks_by_generation_date</th>\n      <th>shared_teks_by_upload_date</th>\n      <th>shared_diagnoses</th>\n      <th>teks_per_shared_diagnosis</th>\n      <th>shared_diagnoses_per_covid_case</th>\n    </tr>\n    <tr>\n      <th>sample_date</th>\n      <th></th>\n      <th></th>\n      <th></th>\n      <th></th>\n      <th></th>\n      <th></th>\n    </tr>\n  </thead>\n  <tbody>\n    <tr>\n      <th>2020-10-11</th>\n      <td>70325</td>\n      <td>1345</td>\n      <td>1977</td>\n      <td>609</td>\n      <td>3.246305</td>\n      <td>0.008660</td>\n    </tr>\n    <tr>\n      <th>2020-10-10</th>\n      <td>70649</td>\n      <td>1673</td>\n      <td>2064</td>\n      <td>581</td>\n      <td>3.552496</td>\n      <td>0.008224</td>\n    </tr>\n    <tr>\n      <th>2020-10-09</th>\n      <td>70973</td>\n      <td>1864</td>\n      <td>1959</td>\n      <td>524</td>\n      <td>3.738550</td>\n      <td>0.007383</td>\n    </tr>\n    <tr>\n      <th>2020-10-08</th>\n      <td>71297</td>\n      <td>1999</td>\n      <td>1910</td>\n      <td>491</td>\n      <td>3.890020</td>\n      <td>0.006887</td>\n    </tr>\n    <tr>\n      <th>2020-10-07</th>\n      <td>71965</td>\n      <td>2092</td>\n      <td>2005</td>\n      <td>479</td>\n      <td>4.185804</td>\n      <td>0.006656</td>\n    </tr>\n  </tbody>\n</table>\n</div>"
     },
     "execution_count": 284,
     "metadata": {},
     "output_type": "execute_result"
    }
   ],
   "source": [
    "weekly_result_summary_df = result_summary_df \\\n",
    "    .sort_index(ascending=True).fillna(0).rolling(7).agg({\n",
    "    \"covid_cases\": \"sum\",\n",
    "    \"shared_teks_by_generation_date\": \"sum\",\n",
    "    \"shared_teks_by_upload_date\": \"sum\",\n",
    "    \"shared_diagnoses\": \"sum\"\n",
    "}).sort_index(ascending=False)\n",
    "\n",
    "with pd.option_context(\"mode.use_inf_as_na\", True):\n",
    "    weekly_result_summary_df = weekly_result_summary_df.fillna(0).astype(int)\n",
    "    weekly_result_summary_df[\"teks_per_shared_diagnosis\"] = \\\n",
    "        (weekly_result_summary_df.shared_teks_by_upload_date / weekly_result_summary_df.shared_diagnoses).fillna(0)\n",
    "    weekly_result_summary_df[\"shared_diagnoses_per_covid_case\"] = \\\n",
    "        (weekly_result_summary_df.shared_diagnoses / weekly_result_summary_df.covid_cases).fillna(0)\n",
    "\n",
    "weekly_result_summary_df.head()"
   ],
   "metadata": {
    "collapsed": false,
    "pycharm": {
     "name": "#%%\n"
    }
   }
  },
  {
   "cell_type": "code",
   "metadata": {
    "execution": {
     "iopub.execute_input": "2020-08-30T22:30:17.313260Z",
     "iopub.status.busy": "2020-08-30T22:30:17.312584Z",
     "iopub.status.idle": "2020-08-30T22:30:17.317571Z",
     "shell.execute_reply": "2020-08-30T22:30:17.316929Z"
    },
    "papermill": {
     "duration": 0.034796,
     "end_time": "2020-09-02T08:20:14.416686",
     "exception": false,
     "start_time": "2020-09-02T08:20:14.381890",
     "status": "completed"
    },
    "pycharm": {
     "name": "#%%\n"
    },
    "tags": []
   },
   "source": [
    "last_7_days_summary = weekly_result_summary_df.to_dict(orient=\"records\")[0]\n",
    "last_7_days_summary"
   ],
   "execution_count": 285,
   "outputs": [
    {
     "data": {
      "text/plain": "{'covid_cases': 70325,\n 'shared_teks_by_generation_date': 1345,\n 'shared_teks_by_upload_date': 1977,\n 'shared_diagnoses': 609,\n 'teks_per_shared_diagnosis': 3.2463054187192117,\n 'shared_diagnoses_per_covid_case': 0.00865979381443299}"
     },
     "execution_count": 285,
     "metadata": {},
     "output_type": "execute_result"
    }
   ]
  },
  {
   "cell_type": "markdown",
   "source": [
    "## Report Results"
   ],
   "metadata": {
    "collapsed": false,
    "pycharm": {
     "name": "#%% md\n"
    }
   }
  },
  {
   "cell_type": "code",
   "source": [
    "display_column_name_mapping = {\n",
    "    \"sample_date\": \"Sample\\u00A0Date\\u00A0(UTC)\",\n",
    "    \"datetime_utc\": \"Timestamp (UTC)\",\n",
    "    \"region\": \"Backend Region\",\n",
    "    \"covid_cases\": \"COVID-19 Cases (7-day Rolling Average)\",\n",
    "    \"shared_teks_by_generation_date\": \"Shared TEKs by Generation Date\",\n",
    "    \"shared_teks_by_upload_date\": \"Shared TEKs by Upload Date\",\n",
    "    \"shared_diagnoses\": \"Shared Diagnoses (Estimation)\",\n",
    "    \"teks_per_shared_diagnosis\": \"TEKs Uploaded per Shared Diagnosis\",\n",
    "    \"shared_diagnoses_per_covid_case\": \"Usage Ratio (Fraction of Cases Which Shared Diagnosis)\",\n",
    "    \"shared_teks_uploaded_on_generation_date\": \"Shared TEKs Uploaded on Generation Date\",\n",
    "}"
   ],
   "metadata": {
    "collapsed": false,
    "pycharm": {
     "name": "#%%\n"
    }
   },
   "execution_count": 316,
   "outputs": []
  },
  {
   "cell_type": "code",
   "metadata": {
    "papermill": {
     "duration": 0.03209,
     "end_time": "2020-09-02T08:20:14.482544",
     "exception": false,
     "start_time": "2020-09-02T08:20:14.450454",
     "status": "completed"
    },
    "tags": [],
    "pycharm": {
     "name": "#%%\n"
    }
   },
   "source": [
    "summary_columns = [\n",
    "    \"covid_cases\",\n",
    "    \"shared_teks_by_generation_date\",\n",
    "    \"shared_teks_by_upload_date\",\n",
    "    \"shared_teks_uploaded_on_generation_date\",\n",
    "    \"shared_diagnoses\",\n",
    "    \"teks_per_shared_diagnosis\",\n",
    "    \"shared_diagnoses_per_covid_case\",\n",
    "]"
   ],
   "execution_count": 287,
   "outputs": []
  },
  {
   "cell_type": "markdown",
   "metadata": {
    "execution": {
     "iopub.execute_input": "2020-09-02T08:20:14.568088Z",
     "iopub.status.busy": "2020-09-02T08:20:14.567425Z",
     "iopub.status.idle": "2020-09-02T08:20:14.571422Z",
     "shell.execute_reply": "2020-09-02T08:20:14.571952Z"
    },
    "papermill": {
     "duration": 0.055932,
     "end_time": "2020-09-02T08:20:14.572129",
     "exception": false,
     "start_time": "2020-09-02T08:20:14.516197",
     "status": "completed"
    },
    "tags": [],
    "pycharm": {
     "name": "#%% md\n"
    }
   },
   "source": [
    "### Daily Summary Table"
   ]
  },
  {
   "cell_type": "code",
   "metadata": {
    "papermill": {
     "duration": 0.033047,
     "end_time": "2020-09-02T08:20:14.640192",
     "exception": false,
     "start_time": "2020-09-02T08:20:14.607145",
     "status": "completed"
    },
    "tags": [],
    "pycharm": {
     "name": "#%%\n"
    }
   },
   "source": [
    "result_summary_df_ = result_summary_df.copy()\n",
    "result_summary_df = result_summary_df[summary_columns]\n",
    "result_summary_with_display_names_df = result_summary_df \\\n",
    "    .rename_axis(index=display_column_name_mapping) \\\n",
    "    .rename(columns=display_column_name_mapping)\n",
    "result_summary_with_display_names_df"
   ],
   "execution_count": 288,
   "outputs": [
    {
     "data": {
      "text/plain": "                   COVID-19 Cases (7-day Rolling Average)  \\\nSample Date (UTC)                                           \n2020-10-11                                          10169   \n2020-10-10                                          10169   \n2020-10-09                                          10169   \n2020-10-08                                           9960   \n2020-10-07                                           9530   \n...                                                   ...   \n2020-07-24                                           1738   \n2020-07-23                                           1416   \n2020-07-22                                           1242   \n2020-07-21                                           1243   \n2020-07-20                                           1174   \n\n                   Shared TEKs by Generation Date  Shared TEKs by Upload Date  \\\nSample Date (UTC)                                                               \n2020-10-11                                      0                         244   \n2020-10-10                                    106                         429   \n2020-10-09                                    170                         348   \n2020-10-08                                    220                         272   \n2020-10-07                                    243                         178   \n...                                           ...                         ...   \n2020-07-24                                      0                           0   \n2020-07-23                                      0                           0   \n2020-07-22                                      0                           0   \n2020-07-21                                      0                           0   \n2020-07-20                                      0                           0   \n\n                   Shared TEKs Uploaded on Generation Date  \\\nSample Date (UTC)                                            \n2020-10-11                                               0   \n2020-10-10                                               0   \n2020-10-09                                               1   \n2020-10-08                                               1   \n2020-10-07                                               0   \n...                                                    ...   \n2020-07-24                                               0   \n2020-07-23                                               0   \n2020-07-22                                               0   \n2020-07-21                                               0   \n2020-07-20                                               0   \n\n                   Shared Diagnoses (Estimation)  \\\nSample Date (UTC)                                  \n2020-10-11                                   106   \n2020-10-10                                   133   \n2020-10-09                                   105   \n2020-10-08                                    86   \n2020-10-07                                    54   \n...                                          ...   \n2020-07-24                                     0   \n2020-07-23                                     0   \n2020-07-22                                     0   \n2020-07-21                                     0   \n2020-07-20                                     0   \n\n                   TEKs Uploaded per Shared Diagnosis  \\\nSample Date (UTC)                                       \n2020-10-11                                   2.301887   \n2020-10-10                                   3.225564   \n2020-10-09                                   3.314286   \n2020-10-08                                   3.162791   \n2020-10-07                                   3.296296   \n...                                               ...   \n2020-07-24                                   0.000000   \n2020-07-23                                   0.000000   \n2020-07-22                                   0.000000   \n2020-07-21                                   0.000000   \n2020-07-20                                   0.000000   \n\n                   Usage Ratio (Fraction of Cases Which Shared Diagnosis)  \nSample Date (UTC)                                                          \n2020-10-11                                                  0.010424       \n2020-10-10                                                  0.013079       \n2020-10-09                                                  0.010325       \n2020-10-08                                                  0.008635       \n2020-10-07                                                  0.005666       \n...                                                              ...       \n2020-07-24                                                  0.000000       \n2020-07-23                                                  0.000000       \n2020-07-22                                                  0.000000       \n2020-07-21                                                  0.000000       \n2020-07-20                                                  0.000000       \n\n[84 rows x 7 columns]",
      "text/html": "<div>\n<style scoped>\n    .dataframe tbody tr th:only-of-type {\n        vertical-align: middle;\n    }\n\n    .dataframe tbody tr th {\n        vertical-align: top;\n    }\n\n    .dataframe thead th {\n        text-align: right;\n    }\n</style>\n<table border=\"1\" class=\"dataframe\">\n  <thead>\n    <tr style=\"text-align: right;\">\n      <th></th>\n      <th>COVID-19 Cases (7-day Rolling Average)</th>\n      <th>Shared TEKs by Generation Date</th>\n      <th>Shared TEKs by Upload Date</th>\n      <th>Shared TEKs Uploaded on Generation Date</th>\n      <th>Shared Diagnoses (Estimation)</th>\n      <th>TEKs Uploaded per Shared Diagnosis</th>\n      <th>Usage Ratio (Fraction of Cases Which Shared Diagnosis)</th>\n    </tr>\n    <tr>\n      <th>Sample Date (UTC)</th>\n      <th></th>\n      <th></th>\n      <th></th>\n      <th></th>\n      <th></th>\n      <th></th>\n      <th></th>\n    </tr>\n  </thead>\n  <tbody>\n    <tr>\n      <th>2020-10-11</th>\n      <td>10169</td>\n      <td>0</td>\n      <td>244</td>\n      <td>0</td>\n      <td>106</td>\n      <td>2.301887</td>\n      <td>0.010424</td>\n    </tr>\n    <tr>\n      <th>2020-10-10</th>\n      <td>10169</td>\n      <td>106</td>\n      <td>429</td>\n      <td>0</td>\n      <td>133</td>\n      <td>3.225564</td>\n      <td>0.013079</td>\n    </tr>\n    <tr>\n      <th>2020-10-09</th>\n      <td>10169</td>\n      <td>170</td>\n      <td>348</td>\n      <td>1</td>\n      <td>105</td>\n      <td>3.314286</td>\n      <td>0.010325</td>\n    </tr>\n    <tr>\n      <th>2020-10-08</th>\n      <td>9960</td>\n      <td>220</td>\n      <td>272</td>\n      <td>1</td>\n      <td>86</td>\n      <td>3.162791</td>\n      <td>0.008635</td>\n    </tr>\n    <tr>\n      <th>2020-10-07</th>\n      <td>9530</td>\n      <td>243</td>\n      <td>178</td>\n      <td>0</td>\n      <td>54</td>\n      <td>3.296296</td>\n      <td>0.005666</td>\n    </tr>\n    <tr>\n      <th>...</th>\n      <td>...</td>\n      <td>...</td>\n      <td>...</td>\n      <td>...</td>\n      <td>...</td>\n      <td>...</td>\n      <td>...</td>\n    </tr>\n    <tr>\n      <th>2020-07-24</th>\n      <td>1738</td>\n      <td>0</td>\n      <td>0</td>\n      <td>0</td>\n      <td>0</td>\n      <td>0.000000</td>\n      <td>0.000000</td>\n    </tr>\n    <tr>\n      <th>2020-07-23</th>\n      <td>1416</td>\n      <td>0</td>\n      <td>0</td>\n      <td>0</td>\n      <td>0</td>\n      <td>0.000000</td>\n      <td>0.000000</td>\n    </tr>\n    <tr>\n      <th>2020-07-22</th>\n      <td>1242</td>\n      <td>0</td>\n      <td>0</td>\n      <td>0</td>\n      <td>0</td>\n      <td>0.000000</td>\n      <td>0.000000</td>\n    </tr>\n    <tr>\n      <th>2020-07-21</th>\n      <td>1243</td>\n      <td>0</td>\n      <td>0</td>\n      <td>0</td>\n      <td>0</td>\n      <td>0.000000</td>\n      <td>0.000000</td>\n    </tr>\n    <tr>\n      <th>2020-07-20</th>\n      <td>1174</td>\n      <td>0</td>\n      <td>0</td>\n      <td>0</td>\n      <td>0</td>\n      <td>0.000000</td>\n      <td>0.000000</td>\n    </tr>\n  </tbody>\n</table>\n<p>84 rows × 7 columns</p>\n</div>"
     },
     "execution_count": 288,
     "metadata": {},
     "output_type": "execute_result"
    }
   ]
  },
  {
   "cell_type": "markdown",
   "metadata": {
    "execution": {
     "iopub.execute_input": "2020-09-02T08:20:14.726751Z",
     "iopub.status.busy": "2020-09-02T08:20:14.726143Z",
     "iopub.status.idle": "2020-09-02T08:20:16.115081Z",
     "shell.execute_reply": "2020-09-02T08:20:16.115565Z"
    },
    "papermill": {
     "duration": 1.443501,
     "end_time": "2020-09-02T08:20:16.115729",
     "exception": false,
     "start_time": "2020-09-02T08:20:14.672228",
     "status": "completed"
    },
    "scrolled": false,
    "tags": [],
    "pycharm": {
     "name": "#%% md\n"
    }
   },
   "source": [
    "### Daily Summary Plots"
   ]
  },
  {
   "cell_type": "code",
   "metadata": {
    "papermill": {
     "duration": 0.034828,
     "end_time": "2020-09-02T08:20:16.188571",
     "exception": false,
     "start_time": "2020-09-02T08:20:16.153743",
     "status": "completed"
    },
    "tags": [],
    "pycharm": {
     "name": "#%%\n"
    }
   },
   "source": [
    "result_plot_summary_df = result_summary_df.head(daily_plot_days)[summary_columns] \\\n",
    "    .rename_axis(index=display_column_name_mapping) \\\n",
    "    .rename(columns=display_column_name_mapping)\n",
    "summary_ax_list = result_plot_summary_df.sort_index(ascending=True).plot.bar(\n",
    "    title=f\"Daily Summary\",\n",
    "    rot=45, subplots=True, figsize=(15, 22), legend=False)\n",
    "ax_ = summary_ax_list[-1]\n",
    "ax_.get_figure().tight_layout()\n",
    "ax_.get_figure().subplots_adjust(top=0.95)\n",
    "ax_.yaxis.set_major_formatter(matplotlib.ticker.PercentFormatter(1.0))\n",
    "_ = ax_.set_xticklabels(sorted(result_plot_summary_df.index.strftime(\"%Y-%m-%d\").tolist()))"
   ],
   "execution_count": 289,
   "outputs": [
    {
     "data": {
      "text/plain": "<Figure size 1080x1584 with 7 Axes>",
      "image/png": "[encoded data removed]"
     },
     "metadata": {},
     "output_type": "display_data"
    }
   ]
  },
  {
   "cell_type": "markdown",
   "metadata": {
    "execution": {
     "iopub.execute_input": "2020-09-02T08:20:16.278300Z",
     "iopub.status.busy": "2020-09-02T08:20:16.277679Z",
     "iopub.status.idle": "2020-09-02T08:20:16.821909Z",
     "shell.execute_reply": "2020-09-02T08:20:16.822577Z"
    },
    "papermill": {
     "duration": 0.600107,
     "end_time": "2020-09-02T08:20:16.822752",
     "exception": false,
     "start_time": "2020-09-02T08:20:16.222645",
     "status": "completed"
    },
    "pycharm": {
     "name": "#%% md\n"
    },
    "tags": []
   },
   "source": [
    "### Hourly Summary Plots "
   ]
  },
  {
   "cell_type": "code",
   "metadata": {
    "papermill": {
     "duration": 0.036366,
     "end_time": "2020-09-02T08:20:16.897309",
     "exception": false,
     "start_time": "2020-09-02T08:20:16.860943",
     "status": "completed"
    },
    "tags": [],
    "pycharm": {
     "name": "#%%\n"
    }
   },
   "source": [
    "hourly_summary_ax_list = hourly_summary_df \\\n",
    "    .rename_axis(index=display_column_name_mapping) \\\n",
    "    .rename(columns=display_column_name_mapping) \\\n",
    "    .plot.bar(\n",
    "        title=f\"Last 24h Summary\",\n",
    "        rot=45, subplots=True, legend=False)\n",
    "ax_ = hourly_summary_ax_list[-1]\n",
    "ax_.get_figure().tight_layout()\n",
    "ax_.get_figure().subplots_adjust(top=0.9)\n",
    "_ = ax_.set_xticklabels(sorted(hourly_summary_df.index.strftime(\"%Y-%m-%d@%H\").tolist()))"
   ],
   "execution_count": 290,
   "outputs": [
    {
     "data": {
      "text/plain": "<Figure size 1080x432 with 2 Axes>",
      "image/png": "[encoded data removed]"
     },
     "metadata": {},
     "output_type": "display_data"
    }
   ]
  },
  {
   "cell_type": "markdown",
   "metadata": {
    "execution": {
     "iopub.execute_input": "2020-09-02T08:20:16.981187Z",
     "iopub.status.busy": "2020-09-02T08:20:16.980584Z",
     "iopub.status.idle": "2020-09-02T08:20:20.068070Z",
     "shell.execute_reply": "2020-09-02T08:20:20.068598Z"
    },
    "papermill": {
     "duration": 3.136451,
     "end_time": "2020-09-02T08:20:20.068799",
     "exception": false,
     "start_time": "2020-09-02T08:20:16.932348",
     "status": "completed"
    },
    "pycharm": {
     "name": "#%% md\n"
    },
    "tags": []
   },
   "source": [
    "### Publish Results"
   ]
  },
  {
   "cell_type": "code",
   "source": [
    "def get_temporary_image_path() -> str:\n",
    "    return os.path.join(tempfile.gettempdir(), str(uuid.uuid4()) + \".png\")\n",
    "\n",
    "def save_temporary_plot_image(ax):\n",
    "    if isinstance(ax, np.ndarray):\n",
    "        ax = ax[0]\n",
    "    media_path = get_temporary_image_path()\n",
    "    ax.get_figure().savefig(media_path)\n",
    "    return media_path\n",
    "\n",
    "def save_temporary_dataframe_image(df):\n",
    "    import dataframe_image as dfi\n",
    "    media_path = get_temporary_image_path()\n",
    "    dfi.export(df, media_path)\n",
    "    return media_path"
   ],
   "metadata": {
    "collapsed": false,
    "pycharm": {
     "name": "#%%\n"
    }
   },
   "execution_count": 291,
   "outputs": []
  },
  {
   "cell_type": "code",
   "source": [
    "github_repository = os.environ.get(\"GITHUB_REPOSITORY\")\n",
    "if github_repository is None:\n",
    "    github_repository = \"pvieito/Radar-STATS\"\n",
    "\n",
    "github_project_base_url = \"https://github.com/\" + github_repository\n",
    "\n",
    "display_formatters = {\n",
    "    display_column_name_mapping[\"teks_per_shared_diagnosis\"]: lambda x: f\"{x:.2f}\",\n",
    "    display_column_name_mapping[\"shared_diagnoses_per_covid_case\"]: lambda x: f\"{x:.2%}\",\n",
    "}\n",
    "daily_summary_table_html = result_summary_with_display_names_df \\\n",
    "    .head(daily_plot_days) \\\n",
    "    .rename_axis(index=display_column_name_mapping) \\\n",
    "    .rename(columns=display_column_name_mapping) \\\n",
    "    .to_html(formatters=display_formatters)\n",
    "multi_region_summary_table_html = multi_region_summary_df \\\n",
    "    .head(daily_plot_days) \\\n",
    "    .rename_axis(columns=display_column_name_mapping) \\\n",
    "    .rename(columns=display_column_name_mapping) \\\n",
    "    .rename_axis(index=display_column_name_mapping) \\\n",
    "    .to_html(formatters=display_formatters)\n",
    "\n",
    "extraction_date_result_summary_df = \\\n",
    "    result_summary_df[result_summary_df.index == extraction_date]\n",
    "extraction_date_result_hourly_summary_df = \\\n",
    "    hourly_summary_df[hourly_summary_df.extraction_date_with_hour == extraction_date_with_hour]\n",
    "\n",
    "covid_cases = \\\n",
    "    extraction_date_result_summary_df.covid_cases.sum()\n",
    "shared_teks_by_generation_date = \\\n",
    "    extraction_date_result_summary_df.shared_teks_by_generation_date.sum()\n",
    "shared_teks_by_upload_date = \\\n",
    "    extraction_date_result_summary_df.shared_teks_by_upload_date.sum()\n",
    "shared_diagnoses = \\\n",
    "    extraction_date_result_summary_df.shared_diagnoses.sum()\n",
    "teks_per_shared_diagnosis = \\\n",
    "    extraction_date_result_summary_df.teks_per_shared_diagnosis.sum()\n",
    "shared_diagnoses_per_covid_case = \\\n",
    "    extraction_date_result_summary_df.shared_diagnoses_per_covid_case.sum()\n",
    "\n",
    "shared_teks_by_upload_date_last_hour = \\\n",
    "    extraction_date_result_hourly_summary_df.shared_teks_by_upload_date.sum().astype(int)\n",
    "shared_diagnoses_last_hour = \\\n",
    "    extraction_date_result_hourly_summary_df.shared_diagnoses.sum().astype(int)"
   ],
   "metadata": {
    "collapsed": false,
    "pycharm": {
     "name": "#%%\n"
    }
   },
   "execution_count": 340,
   "outputs": []
  },
  {
   "cell_type": "code",
   "metadata": {
    "papermill": {
     "duration": 0.677296,
     "end_time": "2020-09-02T08:20:20.784298",
     "exception": false,
     "start_time": "2020-09-02T08:20:20.107002",
     "status": "completed"
    },
    "tags": [],
    "pycharm": {
     "name": "#%%\n"
    }
   },
   "source": [
    "summary_plots_image_path = save_temporary_plot_image(\n",
    "    ax=summary_ax_list)\n",
    "summary_table_image_path = save_temporary_dataframe_image(\n",
    "    df=result_summary_with_display_names_df)\n",
    "hourly_summary_plots_image_path = save_temporary_plot_image(\n",
    "    ax=hourly_summary_ax_list)\n",
    "multi_region_summary_table_image_path = save_temporary_dataframe_image(\n",
    "    df=multi_region_summary_df)"
   ],
   "execution_count": 341,
   "outputs": []
  },
  {
   "cell_type": "markdown",
   "metadata": {
    "execution": {
     "iopub.execute_input": "2020-09-02T08:20:20.895901Z",
     "iopub.status.busy": "2020-09-02T08:20:20.895301Z",
     "iopub.status.idle": "2020-09-02T08:20:20.942286Z",
     "shell.execute_reply": "2020-09-02T08:20:20.942834Z"
    },
    "papermill": {
     "duration": 0.11596,
     "end_time": "2020-09-02T08:20:20.942985",
     "exception": false,
     "start_time": "2020-09-02T08:20:20.827025",
     "status": "completed"
    },
    "pycharm": {
     "name": "#%% md\n"
    },
    "tags": []
   },
   "source": [
    "### Save Results"
   ]
  },
  {
   "cell_type": "code",
   "source": [
    "report_resources_path_prefix = \"Data/Resources/Current/RadarCOVID-Report-\"\n",
    "result_summary_df.to_csv(report_resources_path_prefix + \"Summary-Table.csv\")\n",
    "result_summary_df.to_html(report_resources_path_prefix + \"Summary-Table.html\")\n",
    "hourly_summary_df.to_csv(report_resources_path_prefix + \"Hourly-Summary-Table.csv\")\n",
    "multi_region_summary_df.to_csv(report_resources_path_prefix + \"Multi-Region-Summary-Table.csv\")\n",
    "_ = shutil.copyfile(summary_plots_image_path, report_resources_path_prefix + \"Summary-Plots.png\")\n",
    "_ = shutil.copyfile(summary_table_image_path, report_resources_path_prefix + \"Summary-Table.png\")\n",
    "_ = shutil.copyfile(hourly_summary_plots_image_path, report_resources_path_prefix + \"Hourly-Summary-Plots.png\")\n",
    "_ = shutil.copyfile(multi_region_summary_table_image_path, report_resources_path_prefix + \"Multi-Region-Summary-Table.png\")"
   ],
   "metadata": {
    "collapsed": false,
    "pycharm": {
     "name": "#%%\n"
    }
   },
   "execution_count": 342,
   "outputs": []
  },
  {
   "cell_type": "markdown",
   "source": [
    "### Publish Results as JSON"
   ],
   "metadata": {
    "collapsed": false,
    "pycharm": {
     "name": "#%% md\n"
    }
   }
  },
  {
   "cell_type": "code",
   "source": [
    "summary_results_api_df = result_summary_df.reset_index()\n",
    "summary_results_api_df[\"sample_date_string\"] = \\\n",
    "    summary_results_api_df[\"sample_date\"].dt.strftime(\"%Y-%m-%d\")\n",
    "\n",
    "summary_results = dict(\n",
    "    extraction_datetime=extraction_datetime,\n",
    "    extraction_date=extraction_date,\n",
    "    extraction_date_with_hour=extraction_date_with_hour,\n",
    "    last_hour=dict(\n",
    "        shared_teks_by_upload_date=shared_teks_by_upload_date_last_hour,\n",
    "        shared_diagnoses=shared_diagnoses_last_hour,\n",
    "    ),\n",
    "    today=dict(\n",
    "        covid_cases=covid_cases,\n",
    "        shared_teks_by_generation_date=shared_teks_by_generation_date,\n",
    "        shared_teks_by_upload_date=shared_teks_by_upload_date,\n",
    "        shared_diagnoses=shared_diagnoses,\n",
    "        teks_per_shared_diagnosis=teks_per_shared_diagnosis,\n",
    "        shared_diagnoses_per_covid_case=shared_diagnoses_per_covid_case,\n",
    "    ),\n",
    "    last_7_days=last_7_days_summary,\n",
    "    daily_results=summary_results_api_df.to_dict(orient=\"records\"))\n",
    "summary_results = \\\n",
    "    json.loads(pd.Series([summary_results]).to_json(orient=\"records\"))[0]\n",
    "\n",
    "with open(report_resources_path_prefix + \"Summary-Results.json\", \"w\") as f:\n",
    "    json.dump(summary_results, f, indent=4)"
   ],
   "metadata": {
    "collapsed": false,
    "pycharm": {
     "name": "#%%\n"
    }
   },
   "execution_count": 343,
   "outputs": []
  },
  {
   "cell_type": "markdown",
   "source": [
    "### Publish on README"
   ],
   "metadata": {
    "collapsed": false,
    "pycharm": {
     "name": "#%% md\n"
    }
   }
  },
  {
   "cell_type": "code",
   "source": [
    "with open(\"Data/Templates/README.md\", \"r\") as f:\n",
    "    readme_contents = f.read()\n",
    "\n",
    "readme_contents = readme_contents.format(\n",
    "    extraction_date_with_hour=extraction_date_with_hour,\n",
    "    github_project_base_url=github_project_base_url,\n",
    "    daily_summary_table_html=daily_summary_table_html,\n",
    "    multi_region_summary_table_html=multi_region_summary_table_html)\n",
    "\n",
    "with open(\"README.md\", \"w\") as f:\n",
    "    f.write(readme_contents)"
   ],
   "metadata": {
    "collapsed": false,
    "pycharm": {
     "name": "#%%\n"
    }
   },
   "execution_count": 344,
   "outputs": []
  },
  {
   "cell_type": "markdown",
   "source": [
    "### Publish on Twitter"
   ],
   "metadata": {
    "collapsed": false,
    "pycharm": {
     "name": "#%% md\n"
    }
   }
  },
  {
   "cell_type": "code",
   "execution_count": 297,
   "outputs": [],
   "source": [
    "enable_share_to_twitter = os.environ.get(\"RADARCOVID_REPORT__ENABLE_PUBLISH_ON_TWITTER\")\n",
    "github_event_name = os.environ.get(\"GITHUB_EVENT_NAME\")\n",
    "\n",
    "if enable_share_to_twitter and github_event_name == \"schedule\":\n",
    "    import tweepy\n",
    "\n",
    "    twitter_api_auth_keys = os.environ[\"RADARCOVID_REPORT__TWITTER_API_AUTH_KEYS\"]\n",
    "    twitter_api_auth_keys = twitter_api_auth_keys.split(\":\")\n",
    "    auth = tweepy.OAuthHandler(twitter_api_auth_keys[0], twitter_api_auth_keys[1])\n",
    "    auth.set_access_token(twitter_api_auth_keys[2], twitter_api_auth_keys[3])\n",
    "\n",
    "    api = tweepy.API(auth)\n",
    "\n",
    "    summary_plots_media = api.media_upload(summary_plots_image_path)\n",
    "    summary_table_media = api.media_upload(summary_table_image_path)\n",
    "    hourly_summary_plots_media = api.media_upload(hourly_summary_plots_image_path)\n",
    "    media_ids = [\n",
    "        summary_plots_media.media_id,\n",
    "        summary_table_media.media_id,\n",
    "        hourly_summary_plots_media.media_id,\n",
    "    ]\n",
    "\n",
    "    status = textwrap.dedent(f\"\"\"\n",
    "        #RadarCOVID Report – {extraction_date_with_hour}\n",
    "\n",
    "        Today:\n",
    "        - Uploaded TEKs: {shared_teks_by_upload_date:.0f} ({shared_teks_by_upload_date_last_hour:+d} last hour)\n",
    "        - Shared Diagnoses: ≤{shared_diagnoses:.0f} ({shared_diagnoses_last_hour:+d} last hour)\n",
    "        - TEKs per Diagnosis: ≥{teks_per_shared_diagnosis:.1f}\n",
    "        - Usage Ratio: ≤{shared_diagnoses_per_covid_case:.2%}\n",
    "\n",
    "        Week:\n",
    "        - Shared Diagnoses: ≤{last_7_days_summary[\"shared_diagnoses\"]:.0f}\n",
    "        - Usage Ratio: ≤{last_7_days_summary[\"shared_diagnoses_per_covid_case\"]:.2%}\n",
    "\n",
    "        More Info: {github_project_base_url}#documentation\n",
    "        \"\"\")\n",
    "    status = status.encode(encoding=\"utf-8\")\n",
    "    api.update_status(status=status, media_ids=media_ids)"
   ],
   "metadata": {
    "collapsed": false,
    "pycharm": {
     "name": "#%%\n"
    }
   }
  },
  {
   "cell_type": "code",
   "execution_count": 297,
   "outputs": [],
   "source": [],
   "metadata": {
    "collapsed": false,
    "pycharm": {
     "name": "#%%\n"
    }
   }
  }
 ],
 "metadata": {
  "kernelspec": {
   "display_name": "Python 3",
   "language": "python",
   "name": "python3"
  },
  "language_info": {
   "codemirror_mode": {
    "name": "ipython",
    "version": 3
   },
   "file_extension": ".py",
   "mimetype": "text/x-python",
   "name": "python",
   "nbconvert_exporter": "python",
   "pygments_lexer": "ipython3",
   "version": "3.8.5"
  },
  "papermill": {
   "duration": 20.572296,
   "end_time": "2020-09-02T08:20:24.262335",
   "environment_variables": {},
   "exception": null,
   "input_path": "Notebooks/RadarCOVID-Report/Source/RadarCOVID-Report.ipynb",
   "output_path": "RadarCOVID-Report.ipynb",
   "parameters": {},
   "start_time": "2020-09-02T08:20:03.690039",
   "version": "2.1.3"
  }
 },
 "nbformat": 4,
 "nbformat_minor": 1
}