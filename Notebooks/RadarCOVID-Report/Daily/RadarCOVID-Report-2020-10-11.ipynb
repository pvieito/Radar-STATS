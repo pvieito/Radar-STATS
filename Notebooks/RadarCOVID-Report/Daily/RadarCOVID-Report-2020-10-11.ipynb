{
 "cells": [
  {
   "cell_type": "markdown",
   "metadata": {
    "papermill": {
     "duration": 0.045077,
     "end_time": "2020-10-11T01:00:30.402652",
     "exception": false,
     "start_time": "2020-10-11T01:00:30.357575",
     "status": "completed"
    },
    "pycharm": {
     "name": "#%% md\n"
    },
    "tags": []
   },
   "source": [
    "# RadarCOVID-Report"
   ]
  },
  {
   "cell_type": "markdown",
   "metadata": {
    "collapsed": true,
    "papermill": {
     "duration": 0.032441,
     "end_time": "2020-10-11T01:00:30.470712",
     "exception": false,
     "start_time": "2020-10-11T01:00:30.438271",
     "status": "completed"
    },
    "pycharm": {
     "name": "#%% md\n"
    },
    "tags": []
   },
   "source": [
    "## Data Extraction"
   ]
  },
  {
   "cell_type": "code",
   "execution_count": 1,
   "metadata": {
    "execution": {
     "iopub.execute_input": "2020-10-11T01:00:30.542118Z",
     "iopub.status.busy": "2020-10-11T01:00:30.541597Z",
     "iopub.status.idle": "2020-10-11T01:00:31.785366Z",
     "shell.execute_reply": "2020-10-11T01:00:31.784152Z"
    },
    "papermill": {
     "duration": 1.283401,
     "end_time": "2020-10-11T01:00:31.785686",
     "exception": false,
     "start_time": "2020-10-11T01:00:30.502285",
     "status": "completed"
    },
    "pycharm": {
     "name": "#%%\n"
    },
    "tags": []
   },
   "outputs": [],
   "source": [
    "import datetime\n",
    "import json\n",
    "import logging\n",
    "import os\n",
    "import shutil\n",
    "import tempfile\n",
    "import textwrap\n",
    "import uuid\n",
    "\n",
    "import matplotlib.ticker\n",
    "import numpy as np\n",
    "import pandas as pd\n",
    "import seaborn as sns\n",
    "\n",
    "%matplotlib inline"
   ]
  },
  {
   "cell_type": "code",
   "execution_count": 2,
   "metadata": {
    "collapsed": false,
    "execution": {
     "iopub.execute_input": "2020-10-11T01:00:31.864578Z",
     "iopub.status.busy": "2020-10-11T01:00:31.863755Z",
     "iopub.status.idle": "2020-10-11T01:00:31.867620Z",
     "shell.execute_reply": "2020-10-11T01:00:31.867162Z"
    },
    "papermill": {
     "duration": 0.046989,
     "end_time": "2020-10-11T01:00:31.867735",
     "exception": false,
     "start_time": "2020-10-11T01:00:31.820746",
     "status": "completed"
    },
    "pycharm": {
     "name": "#%%\n"
    },
    "tags": []
   },
   "outputs": [],
   "source": [
    "current_working_directory = os.environ.get(\"PWD\")\n",
    "if current_working_directory:\n",
    "    os.chdir(current_working_directory)\n",
    "\n",
    "sns.set()\n",
    "matplotlib.rcParams[\"figure.figsize\"] = (15, 6)\n",
    "\n",
    "extraction_datetime = datetime.datetime.utcnow()\n",
    "extraction_date = extraction_datetime.strftime(\"%Y-%m-%d\")\n",
    "extraction_previous_datetime = extraction_datetime - datetime.timedelta(days=1)\n",
    "extraction_previous_date = extraction_previous_datetime.strftime(\"%Y-%m-%d\")\n",
    "extraction_date_with_hour = datetime.datetime.utcnow().strftime(\"%Y-%m-%d@%H\")"
   ]
  },
  {
   "cell_type": "markdown",
   "metadata": {
    "collapsed": false,
    "papermill": {
     "duration": 0.035105,
     "end_time": "2020-10-11T01:00:31.935980",
     "exception": false,
     "start_time": "2020-10-11T01:00:31.900875",
     "status": "completed"
    },
    "tags": []
   },
   "source": [
    "### Constants"
   ]
  },
  {
   "cell_type": "code",
   "execution_count": 3,
   "metadata": {
    "execution": {
     "iopub.execute_input": "2020-10-11T01:00:32.007635Z",
     "iopub.status.busy": "2020-10-11T01:00:32.007107Z",
     "iopub.status.idle": "2020-10-11T01:00:32.010945Z",
     "shell.execute_reply": "2020-10-11T01:00:32.010364Z"
    },
    "papermill": {
     "duration": 0.042043,
     "end_time": "2020-10-11T01:00:32.011081",
     "exception": false,
     "start_time": "2020-10-11T01:00:31.969038",
     "status": "completed"
    },
    "pycharm": {
     "name": "#%%\n"
    },
    "tags": []
   },
   "outputs": [],
   "source": [
    "spain_region_country_name = \"Spain\"\n",
    "spain_region_country_code = \"ES\"\n",
    "\n",
    "daily_summary_days = 7 * 4 * 3\n",
    "daily_plot_days = 7 * 4\n",
    "tek_dumps_load_limit = daily_summary_days + 1"
   ]
  },
  {
   "cell_type": "markdown",
   "metadata": {
    "collapsed": false,
    "papermill": {
     "duration": 0.047589,
     "end_time": "2020-10-11T01:00:32.093052",
     "exception": false,
     "start_time": "2020-10-11T01:00:32.045463",
     "status": "completed"
    },
    "pycharm": {
     "name": "#%% md\n"
    },
    "tags": []
   },
   "source": [
    "### COVID-19 Cases"
   ]
  },
  {
   "cell_type": "code",
   "execution_count": 4,
   "metadata": {
    "collapsed": false,
    "execution": {
     "iopub.execute_input": "2020-10-11T01:00:32.170180Z",
     "iopub.status.busy": "2020-10-11T01:00:32.169208Z",
     "iopub.status.idle": "2020-10-11T01:00:32.985016Z",
     "shell.execute_reply": "2020-10-11T01:00:32.985453Z"
    },
    "papermill": {
     "duration": 0.858188,
     "end_time": "2020-10-11T01:00:32.985582",
     "exception": false,
     "start_time": "2020-10-11T01:00:32.127394",
     "status": "completed"
    },
    "pycharm": {
     "name": "#%%\n"
    },
    "tags": []
   },
   "outputs": [
    {
     "data": {
      "text/html": [
       "<div>\n",
       "<style scoped>\n",
       "    .dataframe tbody tr th:only-of-type {\n",
       "        vertical-align: middle;\n",
       "    }\n",
       "\n",
       "    .dataframe tbody tr th {\n",
       "        vertical-align: top;\n",
       "    }\n",
       "\n",
       "    .dataframe thead th {\n",
       "        text-align: right;\n",
       "    }\n",
       "</style>\n",
       "<table border=\"1\" class=\"dataframe\">\n",
       "  <thead>\n",
       "    <tr style=\"text-align: right;\">\n",
       "      <th></th>\n",
       "      <th>Country_EN</th>\n",
       "      <th>Country_ES</th>\n",
       "      <th>Country_IT</th>\n",
       "      <th>Region</th>\n",
       "      <th>2020-01-23</th>\n",
       "      <th>2020-01-24</th>\n",
       "      <th>2020-01-25</th>\n",
       "      <th>2020-01-26</th>\n",
       "      <th>2020-01-27</th>\n",
       "      <th>2020-01-28</th>\n",
       "      <th>...</th>\n",
       "      <th>2020-10-01</th>\n",
       "      <th>2020-10-02</th>\n",
       "      <th>2020-10-03</th>\n",
       "      <th>2020-10-04</th>\n",
       "      <th>2020-10-05</th>\n",
       "      <th>2020-10-06</th>\n",
       "      <th>2020-10-07</th>\n",
       "      <th>2020-10-08</th>\n",
       "      <th>2020-10-09</th>\n",
       "      <th>2020-10-10</th>\n",
       "    </tr>\n",
       "  </thead>\n",
       "  <tbody>\n",
       "    <tr>\n",
       "      <th>233</th>\n",
       "      <td>Spain</td>\n",
       "      <td>España</td>\n",
       "      <td>Spagna</td>\n",
       "      <td>NaN</td>\n",
       "      <td>0.0</td>\n",
       "      <td>0.0</td>\n",
       "      <td>0.0</td>\n",
       "      <td>0.0</td>\n",
       "      <td>0.0</td>\n",
       "      <td>0.0</td>\n",
       "      <td>...</td>\n",
       "      <td>778607.0</td>\n",
       "      <td>789932.0</td>\n",
       "      <td>789932.0</td>\n",
       "      <td>789932.0</td>\n",
       "      <td>813412.0</td>\n",
       "      <td>825410.0</td>\n",
       "      <td>835901.0</td>\n",
       "      <td>848324.0</td>\n",
       "      <td>861112.0</td>\n",
       "      <td>861112.0</td>\n",
       "    </tr>\n",
       "  </tbody>\n",
       "</table>\n",
       "<p>1 rows × 266 columns</p>\n",
       "</div>"
      ],
      "text/plain": [
       "    Country_EN Country_ES Country_IT Region  2020-01-23  2020-01-24  \\\n",
       "233      Spain     España     Spagna    NaN         0.0         0.0   \n",
       "\n",
       "     2020-01-25  2020-01-26  2020-01-27  2020-01-28  ...  2020-10-01  \\\n",
       "233         0.0         0.0         0.0         0.0  ...    778607.0   \n",
       "\n",
       "     2020-10-02  2020-10-03  2020-10-04  2020-10-05  2020-10-06  2020-10-07  \\\n",
       "233    789932.0    789932.0    789932.0    813412.0    825410.0    835901.0   \n",
       "\n",
       "     2020-10-08  2020-10-09  2020-10-10  \n",
       "233    848324.0    861112.0    861112.0  \n",
       "\n",
       "[1 rows x 266 columns]"
      ]
     },
     "execution_count": 4,
     "metadata": {},
     "output_type": "execute_result"
    }
   ],
   "source": [
    "confirmed_df = pd.read_csv(\"https://covid19tracking.narrativa.com/csv/confirmed.csv\")\n",
    "\n",
    "radar_covid_countries = {spain_region_country_name}\n",
    "\n",
    "confirmed_df = confirmed_df[confirmed_df[\"Country_EN\"].isin(radar_covid_countries)]\n",
    "confirmed_df = confirmed_df[pd.isna(confirmed_df.Region)]\n",
    "confirmed_df.head()"
   ]
  },
  {
   "cell_type": "code",
   "execution_count": 5,
   "metadata": {
    "collapsed": false,
    "execution": {
     "iopub.execute_input": "2020-10-11T01:00:33.060452Z",
     "iopub.status.busy": "2020-10-11T01:00:33.059938Z",
     "iopub.status.idle": "2020-10-11T01:00:33.069577Z",
     "shell.execute_reply": "2020-10-11T01:00:33.069094Z"
    },
    "papermill": {
     "duration": 0.054641,
     "end_time": "2020-10-11T01:00:33.069692",
     "exception": false,
     "start_time": "2020-10-11T01:00:33.015051",
     "status": "completed"
    },
    "pycharm": {
     "name": "#%%\n"
    },
    "tags": []
   },
   "outputs": [
    {
     "data": {
      "text/html": [
       "<div>\n",
       "<style scoped>\n",
       "    .dataframe tbody tr th:only-of-type {\n",
       "        vertical-align: middle;\n",
       "    }\n",
       "\n",
       "    .dataframe tbody tr th {\n",
       "        vertical-align: top;\n",
       "    }\n",
       "\n",
       "    .dataframe thead th {\n",
       "        text-align: right;\n",
       "    }\n",
       "</style>\n",
       "<table border=\"1\" class=\"dataframe\">\n",
       "  <thead>\n",
       "    <tr style=\"text-align: right;\">\n",
       "      <th></th>\n",
       "      <th>2020-01-23</th>\n",
       "      <th>2020-01-24</th>\n",
       "      <th>2020-01-25</th>\n",
       "      <th>2020-01-26</th>\n",
       "      <th>2020-01-27</th>\n",
       "      <th>2020-01-28</th>\n",
       "      <th>2020-01-29</th>\n",
       "      <th>2020-01-30</th>\n",
       "      <th>2020-01-31</th>\n",
       "      <th>2020-02-01</th>\n",
       "      <th>...</th>\n",
       "      <th>2020-10-01</th>\n",
       "      <th>2020-10-02</th>\n",
       "      <th>2020-10-03</th>\n",
       "      <th>2020-10-04</th>\n",
       "      <th>2020-10-05</th>\n",
       "      <th>2020-10-06</th>\n",
       "      <th>2020-10-07</th>\n",
       "      <th>2020-10-08</th>\n",
       "      <th>2020-10-09</th>\n",
       "      <th>2020-10-10</th>\n",
       "    </tr>\n",
       "  </thead>\n",
       "  <tbody>\n",
       "    <tr>\n",
       "      <th>233</th>\n",
       "      <td>0.0</td>\n",
       "      <td>0.0</td>\n",
       "      <td>0.0</td>\n",
       "      <td>0.0</td>\n",
       "      <td>0.0</td>\n",
       "      <td>0.0</td>\n",
       "      <td>0.0</td>\n",
       "      <td>0.0</td>\n",
       "      <td>0.0</td>\n",
       "      <td>1.0</td>\n",
       "      <td>...</td>\n",
       "      <td>778607.0</td>\n",
       "      <td>789932.0</td>\n",
       "      <td>789932.0</td>\n",
       "      <td>789932.0</td>\n",
       "      <td>813412.0</td>\n",
       "      <td>825410.0</td>\n",
       "      <td>835901.0</td>\n",
       "      <td>848324.0</td>\n",
       "      <td>861112.0</td>\n",
       "      <td>861112.0</td>\n",
       "    </tr>\n",
       "  </tbody>\n",
       "</table>\n",
       "<p>1 rows × 262 columns</p>\n",
       "</div>"
      ],
      "text/plain": [
       "     2020-01-23  2020-01-24  2020-01-25  2020-01-26  2020-01-27  2020-01-28  \\\n",
       "233         0.0         0.0         0.0         0.0         0.0         0.0   \n",
       "\n",
       "     2020-01-29  2020-01-30  2020-01-31  2020-02-01  ...  2020-10-01  \\\n",
       "233         0.0         0.0         0.0         1.0  ...    778607.0   \n",
       "\n",
       "     2020-10-02  2020-10-03  2020-10-04  2020-10-05  2020-10-06  2020-10-07  \\\n",
       "233    789932.0    789932.0    789932.0    813412.0    825410.0    835901.0   \n",
       "\n",
       "     2020-10-08  2020-10-09  2020-10-10  \n",
       "233    848324.0    861112.0    861112.0  \n",
       "\n",
       "[1 rows x 262 columns]"
      ]
     },
     "execution_count": 5,
     "metadata": {},
     "output_type": "execute_result"
    }
   ],
   "source": [
    "confirmed_country_columns = list(filter(lambda x: x.startswith(\"Country_\"), confirmed_df.columns))\n",
    "confirmed_regional_columns = confirmed_country_columns + [\"Region\"]\n",
    "confirmed_df.drop(columns=confirmed_regional_columns, inplace=True)\n",
    "confirmed_df.head()"
   ]
  },
  {
   "cell_type": "code",
   "execution_count": 6,
   "metadata": {
    "collapsed": false,
    "execution": {
     "iopub.execute_input": "2020-10-11T01:00:33.135874Z",
     "iopub.status.busy": "2020-10-11T01:00:33.135437Z",
     "iopub.status.idle": "2020-10-11T01:00:33.138211Z",
     "shell.execute_reply": "2020-10-11T01:00:33.137788Z"
    },
    "papermill": {
     "duration": 0.040034,
     "end_time": "2020-10-11T01:00:33.138307",
     "exception": false,
     "start_time": "2020-10-11T01:00:33.098273",
     "status": "completed"
    },
    "pycharm": {
     "name": "#%%\n"
    },
    "tags": []
   },
   "outputs": [
    {
     "data": {
      "text/html": [
       "<div>\n",
       "<style scoped>\n",
       "    .dataframe tbody tr th:only-of-type {\n",
       "        vertical-align: middle;\n",
       "    }\n",
       "\n",
       "    .dataframe tbody tr th {\n",
       "        vertical-align: top;\n",
       "    }\n",
       "\n",
       "    .dataframe thead th {\n",
       "        text-align: right;\n",
       "    }\n",
       "</style>\n",
       "<table border=\"1\" class=\"dataframe\">\n",
       "  <thead>\n",
       "    <tr style=\"text-align: right;\">\n",
       "      <th></th>\n",
       "      <th>0</th>\n",
       "    </tr>\n",
       "  </thead>\n",
       "  <tbody>\n",
       "    <tr>\n",
       "      <th>2020-10-06</th>\n",
       "      <td>825410.0</td>\n",
       "    </tr>\n",
       "    <tr>\n",
       "      <th>2020-10-07</th>\n",
       "      <td>835901.0</td>\n",
       "    </tr>\n",
       "    <tr>\n",
       "      <th>2020-10-08</th>\n",
       "      <td>848324.0</td>\n",
       "    </tr>\n",
       "    <tr>\n",
       "      <th>2020-10-09</th>\n",
       "      <td>861112.0</td>\n",
       "    </tr>\n",
       "    <tr>\n",
       "      <th>2020-10-10</th>\n",
       "      <td>861112.0</td>\n",
       "    </tr>\n",
       "  </tbody>\n",
       "</table>\n",
       "</div>"
      ],
      "text/plain": [
       "                   0\n",
       "2020-10-06  825410.0\n",
       "2020-10-07  835901.0\n",
       "2020-10-08  848324.0\n",
       "2020-10-09  861112.0\n",
       "2020-10-10  861112.0"
      ]
     },
     "execution_count": 6,
     "metadata": {},
     "output_type": "execute_result"
    }
   ],
   "source": [
    "confirmed_df = confirmed_df.sum().to_frame()\n",
    "confirmed_df.tail()"
   ]
  },
  {
   "cell_type": "code",
   "execution_count": 7,
   "metadata": {
    "collapsed": false,
    "execution": {
     "iopub.execute_input": "2020-10-11T01:00:33.210555Z",
     "iopub.status.busy": "2020-10-11T01:00:33.209999Z",
     "iopub.status.idle": "2020-10-11T01:00:33.221417Z",
     "shell.execute_reply": "2020-10-11T01:00:33.221010Z"
    },
    "papermill": {
     "duration": 0.051337,
     "end_time": "2020-10-11T01:00:33.221532",
     "exception": false,
     "start_time": "2020-10-11T01:00:33.170195",
     "status": "completed"
    },
    "pycharm": {
     "name": "#%%\n"
    },
    "tags": []
   },
   "outputs": [
    {
     "data": {
      "text/html": [
       "<div>\n",
       "<style scoped>\n",
       "    .dataframe tbody tr th:only-of-type {\n",
       "        vertical-align: middle;\n",
       "    }\n",
       "\n",
       "    .dataframe tbody tr th {\n",
       "        vertical-align: top;\n",
       "    }\n",
       "\n",
       "    .dataframe thead th {\n",
       "        text-align: right;\n",
       "    }\n",
       "</style>\n",
       "<table border=\"1\" class=\"dataframe\">\n",
       "  <thead>\n",
       "    <tr style=\"text-align: right;\">\n",
       "      <th></th>\n",
       "      <th>sample_date_string</th>\n",
       "      <th>cumulative_cases</th>\n",
       "      <th>new_cases</th>\n",
       "      <th>covid_cases</th>\n",
       "    </tr>\n",
       "  </thead>\n",
       "  <tbody>\n",
       "    <tr>\n",
       "      <th>257</th>\n",
       "      <td>2020-10-06</td>\n",
       "      <td>825410.0</td>\n",
       "      <td>11998.0</td>\n",
       "      <td>11021.0</td>\n",
       "    </tr>\n",
       "    <tr>\n",
       "      <th>258</th>\n",
       "      <td>2020-10-07</td>\n",
       "      <td>835901.0</td>\n",
       "      <td>10491.0</td>\n",
       "      <td>9530.0</td>\n",
       "    </tr>\n",
       "    <tr>\n",
       "      <th>259</th>\n",
       "      <td>2020-10-08</td>\n",
       "      <td>848324.0</td>\n",
       "      <td>12423.0</td>\n",
       "      <td>9960.0</td>\n",
       "    </tr>\n",
       "    <tr>\n",
       "      <th>260</th>\n",
       "      <td>2020-10-09</td>\n",
       "      <td>861112.0</td>\n",
       "      <td>12788.0</td>\n",
       "      <td>10169.0</td>\n",
       "    </tr>\n",
       "    <tr>\n",
       "      <th>261</th>\n",
       "      <td>2020-10-10</td>\n",
       "      <td>861112.0</td>\n",
       "      <td>0.0</td>\n",
       "      <td>10169.0</td>\n",
       "    </tr>\n",
       "  </tbody>\n",
       "</table>\n",
       "</div>"
      ],
      "text/plain": [
       "    sample_date_string  cumulative_cases  new_cases  covid_cases\n",
       "257         2020-10-06          825410.0    11998.0      11021.0\n",
       "258         2020-10-07          835901.0    10491.0       9530.0\n",
       "259         2020-10-08          848324.0    12423.0       9960.0\n",
       "260         2020-10-09          861112.0    12788.0      10169.0\n",
       "261         2020-10-10          861112.0        0.0      10169.0"
      ]
     },
     "execution_count": 7,
     "metadata": {},
     "output_type": "execute_result"
    }
   ],
   "source": [
    "confirmed_df.reset_index(inplace=True)\n",
    "confirmed_df.columns = [\"sample_date_string\", \"cumulative_cases\"]\n",
    "confirmed_df.sort_values(\"sample_date_string\", inplace=True)\n",
    "confirmed_df[\"new_cases\"] = confirmed_df.cumulative_cases.diff()\n",
    "confirmed_df[\"covid_cases\"] = confirmed_df.new_cases.rolling(7).mean().round()\n",
    "confirmed_df.tail()"
   ]
  },
  {
   "cell_type": "code",
   "execution_count": 8,
   "metadata": {
    "execution": {
     "iopub.execute_input": "2020-10-11T01:00:33.292537Z",
     "iopub.status.busy": "2020-10-11T01:00:33.291990Z",
     "iopub.status.idle": "2020-10-11T01:00:33.305911Z",
     "shell.execute_reply": "2020-10-11T01:00:33.305475Z"
    },
    "papermill": {
     "duration": 0.05366,
     "end_time": "2020-10-11T01:00:33.306020",
     "exception": false,
     "start_time": "2020-10-11T01:00:33.252360",
     "status": "completed"
    },
    "pycharm": {
     "name": "#%%\n"
    },
    "tags": []
   },
   "outputs": [
    {
     "data": {
      "text/html": [
       "<div>\n",
       "<style scoped>\n",
       "    .dataframe tbody tr th:only-of-type {\n",
       "        vertical-align: middle;\n",
       "    }\n",
       "\n",
       "    .dataframe tbody tr th {\n",
       "        vertical-align: top;\n",
       "    }\n",
       "\n",
       "    .dataframe thead th {\n",
       "        text-align: right;\n",
       "    }\n",
       "</style>\n",
       "<table border=\"1\" class=\"dataframe\">\n",
       "  <thead>\n",
       "    <tr style=\"text-align: right;\">\n",
       "      <th></th>\n",
       "      <th>sample_date_string</th>\n",
       "      <th>cumulative_cases</th>\n",
       "      <th>new_cases</th>\n",
       "      <th>covid_cases</th>\n",
       "    </tr>\n",
       "  </thead>\n",
       "  <tbody>\n",
       "    <tr>\n",
       "      <th>258</th>\n",
       "      <td>2020-10-07</td>\n",
       "      <td>835901.0</td>\n",
       "      <td>10491.0</td>\n",
       "      <td>9530</td>\n",
       "    </tr>\n",
       "    <tr>\n",
       "      <th>259</th>\n",
       "      <td>2020-10-08</td>\n",
       "      <td>848324.0</td>\n",
       "      <td>12423.0</td>\n",
       "      <td>9960</td>\n",
       "    </tr>\n",
       "    <tr>\n",
       "      <th>260</th>\n",
       "      <td>2020-10-09</td>\n",
       "      <td>861112.0</td>\n",
       "      <td>12788.0</td>\n",
       "      <td>10169</td>\n",
       "    </tr>\n",
       "    <tr>\n",
       "      <th>261</th>\n",
       "      <td>2020-10-10</td>\n",
       "      <td>861112.0</td>\n",
       "      <td>0.0</td>\n",
       "      <td>10169</td>\n",
       "    </tr>\n",
       "    <tr>\n",
       "      <th>261</th>\n",
       "      <td>2020-10-11</td>\n",
       "      <td>871281.0</td>\n",
       "      <td>10169.0</td>\n",
       "      <td>10169</td>\n",
       "    </tr>\n",
       "  </tbody>\n",
       "</table>\n",
       "</div>"
      ],
      "text/plain": [
       "    sample_date_string  cumulative_cases  new_cases  covid_cases\n",
       "258         2020-10-07          835901.0    10491.0         9530\n",
       "259         2020-10-08          848324.0    12423.0         9960\n",
       "260         2020-10-09          861112.0    12788.0        10169\n",
       "261         2020-10-10          861112.0        0.0        10169\n",
       "261         2020-10-11          871281.0    10169.0        10169"
      ]
     },
     "execution_count": 8,
     "metadata": {},
     "output_type": "execute_result"
    }
   ],
   "source": [
    "extraction_date_confirmed_df = \\\n",
    "    confirmed_df[confirmed_df.sample_date_string == extraction_date]\n",
    "extraction_previous_date_confirmed_df = \\\n",
    "    confirmed_df[confirmed_df.sample_date_string == extraction_previous_date].copy()\n",
    "\n",
    "if extraction_date_confirmed_df.empty and \\\n",
    "    not extraction_previous_date_confirmed_df.empty:\n",
    "        extraction_previous_date_confirmed_df[\"sample_date_string\"] = extraction_date\n",
    "        extraction_previous_date_confirmed_df[\"new_cases\"] = \\\n",
    "            extraction_previous_date_confirmed_df.covid_cases\n",
    "        extraction_previous_date_confirmed_df[\"cumulative_cases\"] = \\\n",
    "            extraction_previous_date_confirmed_df.new_cases + \\\n",
    "            extraction_previous_date_confirmed_df.cumulative_cases\n",
    "        confirmed_df = confirmed_df.append(extraction_previous_date_confirmed_df)\n",
    "\n",
    "confirmed_df[\"covid_cases\"] = confirmed_df.covid_cases.fillna(0).astype(int)\n",
    "confirmed_df.tail()"
   ]
  },
  {
   "cell_type": "code",
   "execution_count": 9,
   "metadata": {
    "execution": {
     "iopub.execute_input": "2020-10-11T01:00:33.392300Z",
     "iopub.status.busy": "2020-10-11T01:00:33.377589Z",
     "iopub.status.idle": "2020-10-11T01:00:33.570621Z",
     "shell.execute_reply": "2020-10-11T01:00:33.571144Z"
    },
    "papermill": {
     "duration": 0.233575,
     "end_time": "2020-10-11T01:00:33.571299",
     "exception": false,
     "start_time": "2020-10-11T01:00:33.337724",
     "status": "completed"
    },
    "pycharm": {
     "name": "#%%\n"
    },
    "tags": []
   },
   "outputs": [
    {
     "data": {
      "text/plain": [
       "<matplotlib.axes._subplots.AxesSubplot at 0x7faca23fe9a0>"
      ]
     },
     "execution_count": 9,
     "metadata": {},
     "output_type": "execute_result"
    },
    {
     "data": {
      "image/png": "[encoded data removed]",
      "text/plain": [
       "<Figure size 1080x432 with 1 Axes>"
      ]
     },
     "metadata": {},
     "output_type": "display_data"
    }
   ],
   "source": [
    "confirmed_df[[\"new_cases\", \"covid_cases\"]].plot()"
   ]
  },
  {
   "cell_type": "markdown",
   "metadata": {
    "execution": {
     "iopub.execute_input": "2020-08-30T22:30:16.351238Z",
     "iopub.status.busy": "2020-08-30T22:30:16.344579Z",
     "iopub.status.idle": "2020-08-30T22:30:16.354285Z",
     "shell.execute_reply": "2020-08-30T22:30:16.353641Z"
    },
    "papermill": {
     "duration": 0.036007,
     "end_time": "2020-10-11T01:00:33.645281",
     "exception": false,
     "start_time": "2020-10-11T01:00:33.609274",
     "status": "completed"
    },
    "pycharm": {
     "name": "#%% md\n"
    },
    "tags": []
   },
   "source": [
    "### Extract API TEKs"
   ]
  },
  {
   "cell_type": "code",
   "execution_count": 10,
   "metadata": {
    "execution": {
     "iopub.execute_input": "2020-10-11T01:00:33.725895Z",
     "iopub.status.busy": "2020-10-11T01:00:33.725344Z",
     "iopub.status.idle": "2020-10-11T01:01:11.503568Z",
     "shell.execute_reply": "2020-10-11T01:01:11.503085Z"
    },
    "papermill": {
     "duration": 37.821552,
     "end_time": "2020-10-11T01:01:11.503697",
     "exception": false,
     "start_time": "2020-10-11T01:00:33.682145",
     "status": "completed"
    },
    "pycharm": {
     "name": "#%%\n"
    },
    "tags": []
   },
   "outputs": [
    {
     "name": "stderr",
     "output_type": "stream",
     "text": [
      "WARNING:root:NoKeysFoundException(\"No exposure keys found on endpoint 'https://radarcovid.covid19.gob.es/dp3t/v1/gaen/exposed/1602374400000' (parameters: {'sample_date': '2020-10-11', 'server_endpoint_url': 'https://radarcovid.covid19.gob.es/dp3t', 'backend_identifier': 'ES'}).\")\n"
     ]
    },
    {
     "name": "stderr",
     "output_type": "stream",
     "text": [
      "WARNING:root:NoKeysFoundException(\"No exposure keys found on endpoint 'https://radarcovid.covid19.gob.es/dp3t/v1/gaen/exposed/1602288000000' (parameters: {'sample_date': '2020-10-10', 'server_endpoint_url': 'https://radarcovid.covid19.gob.es/dp3t', 'backend_identifier': 'ES'}).\")\n"
     ]
    },
    {
     "name": "stderr",
     "output_type": "stream",
     "text": [
      "WARNING:root:NoKeysFoundException(\"No exposure keys found on endpoint 'https://www.pt.bfs.admin.ch/v1/gaen/exposed/1602374400000' (parameters: {'sample_date': '2020-10-11', 'server_endpoint_url': 'https://www.pt.bfs.admin.ch', 'backend_identifier': 'CH'}).\")\n"
     ]
    },
    {
     "name": "stderr",
     "output_type": "stream",
     "text": [
      "WARNING:root:NoKeysFoundException(\"No exposure keys found on endpoint 'https://www.pt.bfs.admin.ch/v1/gaen/exposed/1602288000000' (parameters: {'sample_date': '2020-10-10', 'server_endpoint_url': 'https://www.pt.bfs.admin.ch', 'backend_identifier': 'CH'}).\")\n"
     ]
    },
    {
     "name": "stderr",
     "output_type": "stream",
     "text": [
      "WARNING:root:NoKeysFoundException(\"No exposure keys found on endpoint 'https://stayaway.incm.pt/v1/gaen/exposed/1602374400000' (parameters: {'sample_date': '2020-10-11', 'server_endpoint_url': 'https://stayaway.incm.pt', 'backend_identifier': 'PT'}).\")\n"
     ]
    },
    {
     "name": "stderr",
     "output_type": "stream",
     "text": [
      "WARNING:root:NoKeysFoundException(\"No exposure keys found on endpoint 'https://stayaway.incm.pt/v1/gaen/exposed/1602288000000' (parameters: {'sample_date': '2020-10-10', 'server_endpoint_url': 'https://stayaway.incm.pt', 'backend_identifier': 'PT'}).\")\n"
     ]
    },
    {
     "name": "stderr",
     "output_type": "stream",
     "text": [
      "WARNING:root:NoKeysFoundException(\"No exposure keys found on endpoint 'https://svc90.main.px.t-online.de/version/v1/diagnosis-keys/country/NL/date/2020-10-11' (parameters: {'country': 'NL', 'sample_date': '2020-10-11', 'server_endpoint_url': 'https://svc90.main.px.t-online.de', 'backend_identifier': 'DE-NL'}).\")\n"
     ]
    },
    {
     "name": "stderr",
     "output_type": "stream",
     "text": [
      "WARNING:root:NoKeysFoundException(\"No exposure keys found on endpoint 'https://svc90.main.px.t-online.de/version/v1/diagnosis-keys/country/NL/date/2020-10-10' (parameters: {'country': 'NL', 'sample_date': '2020-10-10', 'server_endpoint_url': 'https://svc90.main.px.t-online.de', 'backend_identifier': 'DE-NL'}).\")\n"
     ]
    },
    {
     "name": "stderr",
     "output_type": "stream",
     "text": [
      "WARNING:root:NoKeysFoundException(\"No exposure keys found on endpoint 'https://svc90.main.px.t-online.de/version/v1/diagnosis-keys/country/NL/date/2020-10-09' (parameters: {'country': 'NL', 'sample_date': '2020-10-09', 'server_endpoint_url': 'https://svc90.main.px.t-online.de', 'backend_identifier': 'DE-NL'}).\")\n"
     ]
    },
    {
     "name": "stderr",
     "output_type": "stream",
     "text": [
      "WARNING:root:NoKeysFoundException(\"No exposure keys found on endpoint 'https://svc90.main.px.t-online.de/version/v1/diagnosis-keys/country/NL/date/2020-10-08' (parameters: {'country': 'NL', 'sample_date': '2020-10-08', 'server_endpoint_url': 'https://svc90.main.px.t-online.de', 'backend_identifier': 'DE-NL'}).\")\n"
     ]
    },
    {
     "name": "stderr",
     "output_type": "stream",
     "text": [
      "WARNING:root:NoKeysFoundException(\"No exposure keys found on endpoint 'https://svc90.main.px.t-online.de/version/v1/diagnosis-keys/country/NL/date/2020-10-07' (parameters: {'country': 'NL', 'sample_date': '2020-10-07', 'server_endpoint_url': 'https://svc90.main.px.t-online.de', 'backend_identifier': 'DE-NL'}).\")\n"
     ]
    },
    {
     "name": "stderr",
     "output_type": "stream",
     "text": [
      "WARNING:root:NoKeysFoundException(\"No exposure keys found on endpoint 'https://svc90.main.px.t-online.de/version/v1/diagnosis-keys/country/NL/date/2020-10-06' (parameters: {'country': 'NL', 'sample_date': '2020-10-06', 'server_endpoint_url': 'https://svc90.main.px.t-online.de', 'backend_identifier': 'DE-NL'}).\")\n"
     ]
    },
    {
     "name": "stderr",
     "output_type": "stream",
     "text": [
      "WARNING:root:NoKeysFoundException(\"No exposure keys found on endpoint 'https://svc90.main.px.t-online.de/version/v1/diagnosis-keys/country/NL/date/2020-10-05' (parameters: {'country': 'NL', 'sample_date': '2020-10-05', 'server_endpoint_url': 'https://svc90.main.px.t-online.de', 'backend_identifier': 'DE-NL'}).\")\n"
     ]
    },
    {
     "name": "stderr",
     "output_type": "stream",
     "text": [
      "WARNING:root:NoKeysFoundException(\"No exposure keys found on endpoint 'https://svc90.main.px.t-online.de/version/v1/diagnosis-keys/country/NL/date/2020-10-04' (parameters: {'country': 'NL', 'sample_date': '2020-10-04', 'server_endpoint_url': 'https://svc90.main.px.t-online.de', 'backend_identifier': 'DE-NL'}).\")\n"
     ]
    },
    {
     "name": "stderr",
     "output_type": "stream",
     "text": [
      "WARNING:root:NoKeysFoundException(\"No exposure keys found on endpoint 'https://svc90.main.px.t-online.de/version/v1/diagnosis-keys/country/NL/date/2020-10-03' (parameters: {'country': 'NL', 'sample_date': '2020-10-03', 'server_endpoint_url': 'https://svc90.main.px.t-online.de', 'backend_identifier': 'DE-NL'}).\")\n"
     ]
    },
    {
     "name": "stderr",
     "output_type": "stream",
     "text": [
      "WARNING:root:NoKeysFoundException(\"No exposure keys found on endpoint 'https://svc90.main.px.t-online.de/version/v1/diagnosis-keys/country/NL/date/2020-10-02' (parameters: {'country': 'NL', 'sample_date': '2020-10-02', 'server_endpoint_url': 'https://svc90.main.px.t-online.de', 'backend_identifier': 'DE-NL'}).\")\n"
     ]
    },
    {
     "name": "stderr",
     "output_type": "stream",
     "text": [
      "WARNING:root:NoKeysFoundException(\"No exposure keys found on endpoint 'https://svc90.main.px.t-online.de/version/v1/diagnosis-keys/country/NL/date/2020-10-01' (parameters: {'country': 'NL', 'sample_date': '2020-10-01', 'server_endpoint_url': 'https://svc90.main.px.t-online.de', 'backend_identifier': 'DE-NL'}).\")\n"
     ]
    },
    {
     "name": "stderr",
     "output_type": "stream",
     "text": [
      "WARNING:root:NoKeysFoundException(\"No exposure keys found on endpoint 'https://svc90.main.px.t-online.de/version/v1/diagnosis-keys/country/NL/date/2020-09-30' (parameters: {'country': 'NL', 'sample_date': '2020-09-30', 'server_endpoint_url': 'https://svc90.main.px.t-online.de', 'backend_identifier': 'DE-NL'}).\")\n"
     ]
    },
    {
     "name": "stderr",
     "output_type": "stream",
     "text": [
      "WARNING:root:NoKeysFoundException(\"No exposure keys found on endpoint 'https://svc90.main.px.t-online.de/version/v1/diagnosis-keys/country/NL/date/2020-09-29' (parameters: {'country': 'NL', 'sample_date': '2020-09-29', 'server_endpoint_url': 'https://svc90.main.px.t-online.de', 'backend_identifier': 'DE-NL'}).\")\n"
     ]
    },
    {
     "name": "stderr",
     "output_type": "stream",
     "text": [
      "WARNING:root:NoKeysFoundException(\"No exposure keys found on endpoint 'https://svc90.main.px.t-online.de/version/v1/diagnosis-keys/country/NL/date/2020-09-28' (parameters: {'country': 'NL', 'sample_date': '2020-09-28', 'server_endpoint_url': 'https://svc90.main.px.t-online.de', 'backend_identifier': 'DE-NL'}).\")\n"
     ]
    },
    {
     "name": "stderr",
     "output_type": "stream",
     "text": [
      "WARNING:root:NoKeysFoundException(\"No exposure keys found on endpoint 'https://svc90.main.px.t-online.de/version/v1/diagnosis-keys/country/ES/date/2020-10-11' (parameters: {'country': 'ES', 'sample_date': '2020-10-11', 'server_endpoint_url': 'https://svc90.main.px.t-online.de', 'backend_identifier': 'DE-ES'}).\")\n"
     ]
    },
    {
     "name": "stderr",
     "output_type": "stream",
     "text": [
      "WARNING:root:NoKeysFoundException(\"No exposure keys found on endpoint 'https://svc90.main.px.t-online.de/version/v1/diagnosis-keys/country/ES/date/2020-10-10' (parameters: {'country': 'ES', 'sample_date': '2020-10-10', 'server_endpoint_url': 'https://svc90.main.px.t-online.de', 'backend_identifier': 'DE-ES'}).\")\n"
     ]
    },
    {
     "name": "stderr",
     "output_type": "stream",
     "text": [
      "WARNING:root:NoKeysFoundException(\"No exposure keys found on endpoint 'https://svc90.main.px.t-online.de/version/v1/diagnosis-keys/country/ES/date/2020-10-09' (parameters: {'country': 'ES', 'sample_date': '2020-10-09', 'server_endpoint_url': 'https://svc90.main.px.t-online.de', 'backend_identifier': 'DE-ES'}).\")\n"
     ]
    },
    {
     "name": "stderr",
     "output_type": "stream",
     "text": [
      "WARNING:root:NoKeysFoundException(\"No exposure keys found on endpoint 'https://svc90.main.px.t-online.de/version/v1/diagnosis-keys/country/ES/date/2020-10-08' (parameters: {'country': 'ES', 'sample_date': '2020-10-08', 'server_endpoint_url': 'https://svc90.main.px.t-online.de', 'backend_identifier': 'DE-ES'}).\")\n"
     ]
    },
    {
     "name": "stderr",
     "output_type": "stream",
     "text": [
      "WARNING:root:NoKeysFoundException(\"No exposure keys found on endpoint 'https://svc90.main.px.t-online.de/version/v1/diagnosis-keys/country/ES/date/2020-10-07' (parameters: {'country': 'ES', 'sample_date': '2020-10-07', 'server_endpoint_url': 'https://svc90.main.px.t-online.de', 'backend_identifier': 'DE-ES'}).\")\n"
     ]
    },
    {
     "name": "stderr",
     "output_type": "stream",
     "text": [
      "WARNING:root:NoKeysFoundException(\"No exposure keys found on endpoint 'https://svc90.main.px.t-online.de/version/v1/diagnosis-keys/country/ES/date/2020-10-06' (parameters: {'country': 'ES', 'sample_date': '2020-10-06', 'server_endpoint_url': 'https://svc90.main.px.t-online.de', 'backend_identifier': 'DE-ES'}).\")\n"
     ]
    },
    {
     "name": "stderr",
     "output_type": "stream",
     "text": [
      "WARNING:root:NoKeysFoundException(\"No exposure keys found on endpoint 'https://svc90.main.px.t-online.de/version/v1/diagnosis-keys/country/ES/date/2020-10-05' (parameters: {'country': 'ES', 'sample_date': '2020-10-05', 'server_endpoint_url': 'https://svc90.main.px.t-online.de', 'backend_identifier': 'DE-ES'}).\")\n"
     ]
    },
    {
     "name": "stderr",
     "output_type": "stream",
     "text": [
      "WARNING:root:NoKeysFoundException(\"No exposure keys found on endpoint 'https://svc90.main.px.t-online.de/version/v1/diagnosis-keys/country/ES/date/2020-10-04' (parameters: {'country': 'ES', 'sample_date': '2020-10-04', 'server_endpoint_url': 'https://svc90.main.px.t-online.de', 'backend_identifier': 'DE-ES'}).\")\n"
     ]
    },
    {
     "name": "stderr",
     "output_type": "stream",
     "text": [
      "WARNING:root:NoKeysFoundException(\"No exposure keys found on endpoint 'https://svc90.main.px.t-online.de/version/v1/diagnosis-keys/country/ES/date/2020-10-03' (parameters: {'country': 'ES', 'sample_date': '2020-10-03', 'server_endpoint_url': 'https://svc90.main.px.t-online.de', 'backend_identifier': 'DE-ES'}).\")\n"
     ]
    },
    {
     "name": "stderr",
     "output_type": "stream",
     "text": [
      "WARNING:root:NoKeysFoundException(\"No exposure keys found on endpoint 'https://svc90.main.px.t-online.de/version/v1/diagnosis-keys/country/ES/date/2020-10-02' (parameters: {'country': 'ES', 'sample_date': '2020-10-02', 'server_endpoint_url': 'https://svc90.main.px.t-online.de', 'backend_identifier': 'DE-ES'}).\")\n"
     ]
    },
    {
     "name": "stderr",
     "output_type": "stream",
     "text": [
      "WARNING:root:NoKeysFoundException(\"No exposure keys found on endpoint 'https://svc90.main.px.t-online.de/version/v1/diagnosis-keys/country/ES/date/2020-10-01' (parameters: {'country': 'ES', 'sample_date': '2020-10-01', 'server_endpoint_url': 'https://svc90.main.px.t-online.de', 'backend_identifier': 'DE-ES'}).\")\n"
     ]
    },
    {
     "name": "stderr",
     "output_type": "stream",
     "text": [
      "WARNING:root:NoKeysFoundException(\"No exposure keys found on endpoint 'https://svc90.main.px.t-online.de/version/v1/diagnosis-keys/country/ES/date/2020-09-30' (parameters: {'country': 'ES', 'sample_date': '2020-09-30', 'server_endpoint_url': 'https://svc90.main.px.t-online.de', 'backend_identifier': 'DE-ES'}).\")\n"
     ]
    },
    {
     "name": "stderr",
     "output_type": "stream",
     "text": [
      "WARNING:root:NoKeysFoundException(\"No exposure keys found on endpoint 'https://svc90.main.px.t-online.de/version/v1/diagnosis-keys/country/ES/date/2020-09-29' (parameters: {'country': 'ES', 'sample_date': '2020-09-29', 'server_endpoint_url': 'https://svc90.main.px.t-online.de', 'backend_identifier': 'DE-ES'}).\")\n"
     ]
    },
    {
     "name": "stderr",
     "output_type": "stream",
     "text": [
      "WARNING:root:NoKeysFoundException(\"No exposure keys found on endpoint 'https://svc90.main.px.t-online.de/version/v1/diagnosis-keys/country/ES/date/2020-09-28' (parameters: {'country': 'ES', 'sample_date': '2020-09-28', 'server_endpoint_url': 'https://svc90.main.px.t-online.de', 'backend_identifier': 'DE-ES'}).\")\n"
     ]
    },
    {
     "name": "stderr",
     "output_type": "stream",
     "text": [
      "WARNING:root:Error downloading exposure keys from backend 'BE': HTTPError('403 Client Error: Forbidden for url: https://c19distcdn-prd.ixor.be/version/v1/diagnosis-keys/country/BE/date/2020-10-11')\n",
      "Traceback (most recent call last):\n",
      "  File \"/home/runner/work/Radar-STATS/Radar-STATS/Modules/ExposureNotification/exposure_notification_io.py\", line 46, in download_exposure_keys_from_backends\n",
      "    backend_exposure_keys_df = downloader.download_exposure_keys_with_parameters(**kwargs)\n",
      "  File \"/home/runner/work/Radar-STATS/Radar-STATS/Modules/ExposureNotification/Backends/base.py\", line 37, in download_exposure_keys_with_parameters\n",
      "    endpoint_exposure_keys_df = self._download_exposure_keys_from_endpoint_with_parameters(\n",
      "  File \"/home/runner/work/Radar-STATS/Radar-STATS/Modules/ExposureNotification/Backends/base.py\", line 62, in _download_exposure_keys_from_endpoint_with_parameters\n",
      "    raise e\n",
      "  File \"/home/runner/work/Radar-STATS/Radar-STATS/Modules/ExposureNotification/Backends/base.py\", line 57, in _download_exposure_keys_from_endpoint_with_parameters\n",
      "    request_response.raise_for_status()\n",
      "  File \"/opt/hostedtoolcache/Python/3.8.6/x64/lib/python3.8/site-packages/requests/models.py\", line 941, in raise_for_status\n",
      "    raise HTTPError(http_error_msg, response=self)\n",
      "requests.exceptions.HTTPError: 403 Client Error: Forbidden for url: https://c19distcdn-prd.ixor.be/version/v1/diagnosis-keys/country/BE/date/2020-10-11\n"
     ]
    },
    {
     "data": {
      "text/html": [
       "<div>\n",
       "<style scoped>\n",
       "    .dataframe tbody tr th:only-of-type {\n",
       "        vertical-align: middle;\n",
       "    }\n",
       "\n",
       "    .dataframe tbody tr th {\n",
       "        vertical-align: top;\n",
       "    }\n",
       "\n",
       "    .dataframe thead th {\n",
       "        text-align: right;\n",
       "    }\n",
       "</style>\n",
       "<table border=\"1\" class=\"dataframe\">\n",
       "  <thead>\n",
       "    <tr style=\"text-align: right;\">\n",
       "      <th></th>\n",
       "      <th>sample_datetime</th>\n",
       "      <th>sample_date_string</th>\n",
       "      <th>region</th>\n",
       "      <th>verification_key_version</th>\n",
       "      <th>verification_key_id</th>\n",
       "      <th>signature_algorithm</th>\n",
       "      <th>key_data</th>\n",
       "      <th>rolling_start_interval_number</th>\n",
       "      <th>rolling_period</th>\n",
       "      <th>transmission_risk_level</th>\n",
       "      <th>backend_identifier</th>\n",
       "    </tr>\n",
       "  </thead>\n",
       "  <tbody>\n",
       "    <tr>\n",
       "      <th>0</th>\n",
       "      <td>2020-10-09</td>\n",
       "      <td>2020-10-09</td>\n",
       "      <td>ES</td>\n",
       "      <td>V1</td>\n",
       "      <td>214</td>\n",
       "      <td>1.2.840.10045.4.3.2</td>\n",
       "      <td>ac37d326-3359-e965-a149-27dfb9d65333</td>\n",
       "      <td>2670336</td>\n",
       "      <td>144</td>\n",
       "      <td>0</td>\n",
       "      <td>ES</td>\n",
       "    </tr>\n",
       "    <tr>\n",
       "      <th>1</th>\n",
       "      <td>2020-10-09</td>\n",
       "      <td>2020-10-09</td>\n",
       "      <td>ES</td>\n",
       "      <td>V1</td>\n",
       "      <td>214</td>\n",
       "      <td>1.2.840.10045.4.3.2</td>\n",
       "      <td>2a2f3e71-daba-5d03-fe20-9e8827a9036a</td>\n",
       "      <td>2670336</td>\n",
       "      <td>144</td>\n",
       "      <td>0</td>\n",
       "      <td>ES</td>\n",
       "    </tr>\n",
       "    <tr>\n",
       "      <th>2</th>\n",
       "      <td>2020-10-09</td>\n",
       "      <td>2020-10-09</td>\n",
       "      <td>ES</td>\n",
       "      <td>V1</td>\n",
       "      <td>214</td>\n",
       "      <td>1.2.840.10045.4.3.2</td>\n",
       "      <td>ca53e30b-fd23-9c5d-5602-9dba445d2741</td>\n",
       "      <td>2670336</td>\n",
       "      <td>144</td>\n",
       "      <td>0</td>\n",
       "      <td>ES</td>\n",
       "    </tr>\n",
       "    <tr>\n",
       "      <th>3</th>\n",
       "      <td>2020-10-09</td>\n",
       "      <td>2020-10-09</td>\n",
       "      <td>ES</td>\n",
       "      <td>V1</td>\n",
       "      <td>214</td>\n",
       "      <td>1.2.840.10045.4.3.2</td>\n",
       "      <td>205dac33-ed08-d394-c557-e6f2f762736e</td>\n",
       "      <td>2670336</td>\n",
       "      <td>144</td>\n",
       "      <td>0</td>\n",
       "      <td>ES</td>\n",
       "    </tr>\n",
       "    <tr>\n",
       "      <th>4</th>\n",
       "      <td>2020-10-09</td>\n",
       "      <td>2020-10-09</td>\n",
       "      <td>ES</td>\n",
       "      <td>V1</td>\n",
       "      <td>214</td>\n",
       "      <td>1.2.840.10045.4.3.2</td>\n",
       "      <td>f1c2bcfc-1785-9cc2-f56f-9b31820bae88</td>\n",
       "      <td>2670336</td>\n",
       "      <td>144</td>\n",
       "      <td>0</td>\n",
       "      <td>ES</td>\n",
       "    </tr>\n",
       "  </tbody>\n",
       "</table>\n",
       "</div>"
      ],
      "text/plain": [
       "  sample_datetime sample_date_string region verification_key_version  \\\n",
       "0      2020-10-09         2020-10-09     ES                       V1   \n",
       "1      2020-10-09         2020-10-09     ES                       V1   \n",
       "2      2020-10-09         2020-10-09     ES                       V1   \n",
       "3      2020-10-09         2020-10-09     ES                       V1   \n",
       "4      2020-10-09         2020-10-09     ES                       V1   \n",
       "\n",
       "  verification_key_id  signature_algorithm  \\\n",
       "0                 214  1.2.840.10045.4.3.2   \n",
       "1                 214  1.2.840.10045.4.3.2   \n",
       "2                 214  1.2.840.10045.4.3.2   \n",
       "3                 214  1.2.840.10045.4.3.2   \n",
       "4                 214  1.2.840.10045.4.3.2   \n",
       "\n",
       "                               key_data  rolling_start_interval_number  \\\n",
       "0  ac37d326-3359-e965-a149-27dfb9d65333                        2670336   \n",
       "1  2a2f3e71-daba-5d03-fe20-9e8827a9036a                        2670336   \n",
       "2  ca53e30b-fd23-9c5d-5602-9dba445d2741                        2670336   \n",
       "3  205dac33-ed08-d394-c557-e6f2f762736e                        2670336   \n",
       "4  f1c2bcfc-1785-9cc2-f56f-9b31820bae88                        2670336   \n",
       "\n",
       "   rolling_period  transmission_risk_level backend_identifier  \n",
       "0             144                        0                 ES  \n",
       "1             144                        0                 ES  \n",
       "2             144                        0                 ES  \n",
       "3             144                        0                 ES  \n",
       "4             144                        0                 ES  "
      ]
     },
     "execution_count": 10,
     "metadata": {},
     "output_type": "execute_result"
    }
   ],
   "source": [
    "from Modules.ExposureNotification import exposure_notification_io\n",
    "\n",
    "raw_zip_path_prefix = \"Data/TEKs/Raw/{backend_identifier}/\"\n",
    "raw_zip_path_suffix = \"/TEKs-{backend_identifier}-{sample_date}.zip\"\n",
    "raw_zip_paths = [\n",
    "    \"Current\",\n",
    "    f\"Daily/{extraction_date}\",\n",
    "]\n",
    "raw_zip_paths = list(map(lambda x: raw_zip_path_prefix + x + raw_zip_path_suffix, raw_zip_paths))\n",
    "\n",
    "backend_identifiers = [\"ES\", \"DE-ES\", \"DE-NL\", \"CH\", \"PT\", \"BE\"]\n",
    "fail_on_error_backend_identifiers = [\"ES\"]\n",
    "multi_region_exposure_keys_df = \\\n",
    "    exposure_notification_io.download_exposure_keys_from_backends(\n",
    "        days=14,\n",
    "        backend_identifiers=backend_identifiers,\n",
    "        fail_on_error_backend_identifiers=fail_on_error_backend_identifiers,\n",
    "        save_raw_zip_path=raw_zip_paths)\n",
    "multi_region_exposure_keys_df[\"region\"] = multi_region_exposure_keys_df[\"backend_identifier\"]\n",
    "multi_region_exposure_keys_df.rename(\n",
    "    columns={\n",
    "        \"generation_datetime\": \"sample_datetime\",\n",
    "        \"generation_date_string\": \"sample_date_string\",\n",
    "    },\n",
    "    inplace=True)\n",
    "multi_region_exposure_keys_df.head()"
   ]
  },
  {
   "cell_type": "code",
   "execution_count": 11,
   "metadata": {
    "collapsed": false,
    "execution": {
     "iopub.execute_input": "2020-10-11T01:01:11.604984Z",
     "iopub.status.busy": "2020-10-11T01:01:11.604471Z",
     "iopub.status.idle": "2020-10-11T01:01:11.798130Z",
     "shell.execute_reply": "2020-10-11T01:01:11.798821Z"
    },
    "papermill": {
     "duration": 0.248896,
     "end_time": "2020-10-11T01:01:11.798987",
     "exception": false,
     "start_time": "2020-10-11T01:01:11.550091",
     "status": "completed"
    },
    "pycharm": {
     "name": "#%%\n"
    },
    "tags": []
   },
   "outputs": [
    {
     "data": {
      "text/plain": [
       "<matplotlib.axes._subplots.AxesSubplot at 0x7faca232d9a0>"
      ]
     },
     "execution_count": 11,
     "metadata": {},
     "output_type": "execute_result"
    },
    {
     "data": {
      "image/png": "[encoded data removed]",
      "text/plain": [
       "<Figure size 1080x432 with 1 Axes>"
      ]
     },
     "metadata": {},
     "output_type": "display_data"
    }
   ],
   "source": [
    "early_teks_df = multi_region_exposure_keys_df[\n",
    "    multi_region_exposure_keys_df.rolling_period < 144].copy()\n",
    "early_teks_df[\"rolling_period_in_hours\"] = early_teks_df.rolling_period / 6\n",
    "early_teks_df[early_teks_df.sample_date_string != extraction_date] \\\n",
    "    .rolling_period_in_hours.hist(bins=list(range(24)))"
   ]
  },
  {
   "cell_type": "code",
   "execution_count": 12,
   "metadata": {
    "collapsed": false,
    "execution": {
     "iopub.execute_input": "2020-10-11T01:01:11.953992Z",
     "iopub.status.busy": "2020-10-11T01:01:11.952281Z",
     "iopub.status.idle": "2020-10-11T01:01:12.111915Z",
     "shell.execute_reply": "2020-10-11T01:01:12.112672Z"
    },
    "papermill": {
     "duration": 0.26592,
     "end_time": "2020-10-11T01:01:12.112841",
     "exception": false,
     "start_time": "2020-10-11T01:01:11.846921",
     "status": "completed"
    },
    "pycharm": {
     "name": "#%%\n"
    },
    "tags": []
   },
   "outputs": [
    {
     "data": {
      "text/plain": [
       "<matplotlib.axes._subplots.AxesSubplot at 0x7fac9ef7ffa0>"
      ]
     },
     "execution_count": 12,
     "metadata": {},
     "output_type": "execute_result"
    },
    {
     "data": {
      "image/png": "[encoded data removed]",
      "text/plain": [
       "<Figure size 1080x432 with 1 Axes>"
      ]
     },
     "metadata": {},
     "output_type": "display_data"
    }
   ],
   "source": [
    "early_teks_df[early_teks_df.sample_date_string == extraction_date] \\\n",
    "    .rolling_period_in_hours.hist(bins=list(range(24)))"
   ]
  },
  {
   "cell_type": "code",
   "execution_count": 13,
   "metadata": {
    "collapsed": false,
    "execution": {
     "iopub.execute_input": "2020-10-11T01:01:12.218168Z",
     "iopub.status.busy": "2020-10-11T01:01:12.212111Z",
     "iopub.status.idle": "2020-10-11T01:01:12.220337Z",
     "shell.execute_reply": "2020-10-11T01:01:12.220810Z"
    },
    "papermill": {
     "duration": 0.061777,
     "end_time": "2020-10-11T01:01:12.220963",
     "exception": false,
     "start_time": "2020-10-11T01:01:12.159186",
     "status": "completed"
    },
    "pycharm": {
     "name": "#%%\n"
    },
    "tags": []
   },
   "outputs": [
    {
     "data": {
      "text/html": [
       "<div>\n",
       "<style scoped>\n",
       "    .dataframe tbody tr th:only-of-type {\n",
       "        vertical-align: middle;\n",
       "    }\n",
       "\n",
       "    .dataframe tbody tr th {\n",
       "        vertical-align: top;\n",
       "    }\n",
       "\n",
       "    .dataframe thead th {\n",
       "        text-align: right;\n",
       "    }\n",
       "</style>\n",
       "<table border=\"1\" class=\"dataframe\">\n",
       "  <thead>\n",
       "    <tr style=\"text-align: right;\">\n",
       "      <th></th>\n",
       "      <th>sample_date_string</th>\n",
       "      <th>region</th>\n",
       "      <th>key_data</th>\n",
       "    </tr>\n",
       "  </thead>\n",
       "  <tbody>\n",
       "    <tr>\n",
       "      <th>0</th>\n",
       "      <td>2020-10-09</td>\n",
       "      <td>ES</td>\n",
       "      <td>ac37d326-3359-e965-a149-27dfb9d65333</td>\n",
       "    </tr>\n",
       "    <tr>\n",
       "      <th>1</th>\n",
       "      <td>2020-10-09</td>\n",
       "      <td>ES</td>\n",
       "      <td>2a2f3e71-daba-5d03-fe20-9e8827a9036a</td>\n",
       "    </tr>\n",
       "    <tr>\n",
       "      <th>2</th>\n",
       "      <td>2020-10-09</td>\n",
       "      <td>ES</td>\n",
       "      <td>ca53e30b-fd23-9c5d-5602-9dba445d2741</td>\n",
       "    </tr>\n",
       "    <tr>\n",
       "      <th>3</th>\n",
       "      <td>2020-10-09</td>\n",
       "      <td>ES</td>\n",
       "      <td>205dac33-ed08-d394-c557-e6f2f762736e</td>\n",
       "    </tr>\n",
       "    <tr>\n",
       "      <th>4</th>\n",
       "      <td>2020-10-09</td>\n",
       "      <td>ES</td>\n",
       "      <td>f1c2bcfc-1785-9cc2-f56f-9b31820bae88</td>\n",
       "    </tr>\n",
       "  </tbody>\n",
       "</table>\n",
       "</div>"
      ],
      "text/plain": [
       "  sample_date_string region                              key_data\n",
       "0         2020-10-09     ES  ac37d326-3359-e965-a149-27dfb9d65333\n",
       "1         2020-10-09     ES  2a2f3e71-daba-5d03-fe20-9e8827a9036a\n",
       "2         2020-10-09     ES  ca53e30b-fd23-9c5d-5602-9dba445d2741\n",
       "3         2020-10-09     ES  205dac33-ed08-d394-c557-e6f2f762736e\n",
       "4         2020-10-09     ES  f1c2bcfc-1785-9cc2-f56f-9b31820bae88"
      ]
     },
     "execution_count": 13,
     "metadata": {},
     "output_type": "execute_result"
    }
   ],
   "source": [
    "multi_region_exposure_keys_df = multi_region_exposure_keys_df[[\n",
    "    \"sample_date_string\", \"region\", \"key_data\"]]\n",
    "multi_region_exposure_keys_df.head()"
   ]
  },
  {
   "cell_type": "code",
   "execution_count": 14,
   "metadata": {
    "collapsed": false,
    "execution": {
     "iopub.execute_input": "2020-10-11T01:01:12.321954Z",
     "iopub.status.busy": "2020-10-11T01:01:12.321450Z",
     "iopub.status.idle": "2020-10-11T01:01:12.376116Z",
     "shell.execute_reply": "2020-10-11T01:01:12.376902Z"
    },
    "papermill": {
     "duration": 0.108272,
     "end_time": "2020-10-11T01:01:12.377148",
     "exception": false,
     "start_time": "2020-10-11T01:01:12.268876",
     "status": "completed"
    },
    "pycharm": {
     "name": "#%%\n"
    },
    "tags": []
   },
   "outputs": [
    {
     "data": {
      "text/plain": [
       "['PT', 'ES', 'CH']"
      ]
     },
     "execution_count": 14,
     "metadata": {},
     "output_type": "execute_result"
    }
   ],
   "source": [
    "active_regions = \\\n",
    "    multi_region_exposure_keys_df.groupby(\"region\").key_data.nunique().sort_values().index.unique().tolist()\n",
    "active_regions"
   ]
  },
  {
   "cell_type": "code",
   "execution_count": 15,
   "metadata": {
    "collapsed": false,
    "execution": {
     "iopub.execute_input": "2020-10-11T01:01:12.474797Z",
     "iopub.status.busy": "2020-10-11T01:01:12.474297Z",
     "iopub.status.idle": "2020-10-11T01:01:12.543806Z",
     "shell.execute_reply": "2020-10-11T01:01:12.544295Z"
    },
    "papermill": {
     "duration": 0.122363,
     "end_time": "2020-10-11T01:01:12.544465",
     "exception": false,
     "start_time": "2020-10-11T01:01:12.422102",
     "status": "completed"
    },
    "pycharm": {
     "name": "#%%\n"
    },
    "tags": []
   },
   "outputs": [
    {
     "data": {
      "text/html": [
       "<div>\n",
       "<style scoped>\n",
       "    .dataframe tbody tr th:only-of-type {\n",
       "        vertical-align: middle;\n",
       "    }\n",
       "\n",
       "    .dataframe tbody tr th {\n",
       "        vertical-align: top;\n",
       "    }\n",
       "\n",
       "    .dataframe thead tr th {\n",
       "        text-align: left;\n",
       "    }\n",
       "\n",
       "    .dataframe thead tr:last-of-type th {\n",
       "        text-align: right;\n",
       "    }\n",
       "</style>\n",
       "<table border=\"1\" class=\"dataframe\">\n",
       "  <thead>\n",
       "    <tr>\n",
       "      <th></th>\n",
       "      <th colspan=\"3\" halign=\"left\">shared_teks_by_generation_date</th>\n",
       "    </tr>\n",
       "    <tr>\n",
       "      <th>region</th>\n",
       "      <th>CH</th>\n",
       "      <th>ES</th>\n",
       "      <th>PT</th>\n",
       "    </tr>\n",
       "    <tr>\n",
       "      <th>sample_date_string</th>\n",
       "      <th></th>\n",
       "      <th></th>\n",
       "      <th></th>\n",
       "    </tr>\n",
       "  </thead>\n",
       "  <tbody>\n",
       "    <tr>\n",
       "      <th>2020-10-09</th>\n",
       "      <td>273</td>\n",
       "      <td>135</td>\n",
       "      <td>24</td>\n",
       "    </tr>\n",
       "    <tr>\n",
       "      <th>2020-10-08</th>\n",
       "      <td>446</td>\n",
       "      <td>192</td>\n",
       "      <td>29</td>\n",
       "    </tr>\n",
       "    <tr>\n",
       "      <th>2020-10-07</th>\n",
       "      <td>616</td>\n",
       "      <td>220</td>\n",
       "      <td>37</td>\n",
       "    </tr>\n",
       "    <tr>\n",
       "      <th>2020-10-06</th>\n",
       "      <td>772</td>\n",
       "      <td>284</td>\n",
       "      <td>48</td>\n",
       "    </tr>\n",
       "    <tr>\n",
       "      <th>2020-10-05</th>\n",
       "      <td>840</td>\n",
       "      <td>294</td>\n",
       "      <td>48</td>\n",
       "    </tr>\n",
       "  </tbody>\n",
       "</table>\n",
       "</div>"
      ],
      "text/plain": [
       "                   shared_teks_by_generation_date         \n",
       "region                                         CH   ES  PT\n",
       "sample_date_string                                        \n",
       "2020-10-09                                    273  135  24\n",
       "2020-10-08                                    446  192  29\n",
       "2020-10-07                                    616  220  37\n",
       "2020-10-06                                    772  284  48\n",
       "2020-10-05                                    840  294  48"
      ]
     },
     "execution_count": 15,
     "metadata": {},
     "output_type": "execute_result"
    }
   ],
   "source": [
    "multi_region_summary_df = multi_region_exposure_keys_df.groupby(\n",
    "    [\"sample_date_string\", \"region\"]).key_data.nunique().reset_index() \\\n",
    "    .pivot(index=\"sample_date_string\", columns=\"region\") \\\n",
    "    .sort_index(ascending=False)\n",
    "multi_region_summary_df.rename(columns={\"key_data\": \"shared_teks_by_generation_date\"}, inplace=True)\n",
    "multi_region_summary_df = multi_region_summary_df.fillna(0).astype(int)\n",
    "multi_region_summary_df.head()"
   ]
  },
  {
   "cell_type": "code",
   "execution_count": 16,
   "metadata": {
    "collapsed": false,
    "execution": {
     "iopub.execute_input": "2020-10-11T01:01:12.647079Z",
     "iopub.status.busy": "2020-10-11T01:01:12.646521Z",
     "iopub.status.idle": "2020-10-11T01:01:12.690345Z",
     "shell.execute_reply": "2020-10-11T01:01:12.691098Z"
    },
    "papermill": {
     "duration": 0.096045,
     "end_time": "2020-10-11T01:01:12.691341",
     "exception": false,
     "start_time": "2020-10-11T01:01:12.595296",
     "status": "completed"
    },
    "pycharm": {
     "name": "#%%\n"
    },
    "tags": []
   },
   "outputs": [
    {
     "data": {
      "text/plain": [
       "['PT', 'CH']"
      ]
     },
     "execution_count": 16,
     "metadata": {},
     "output_type": "execute_result"
    }
   ],
   "source": [
    "multi_region_without_spain_exposure_keys_df = \\\n",
    "    multi_region_exposure_keys_df[multi_region_exposure_keys_df.region != spain_region_country_code]\n",
    "active_regions_excluding_spain = \\\n",
    "    multi_region_without_spain_exposure_keys_df.groupby(\"region\").key_data.nunique().sort_values().index.unique().tolist()\n",
    "active_regions_excluding_spain"
   ]
  },
  {
   "cell_type": "code",
   "execution_count": 17,
   "metadata": {
    "execution": {
     "iopub.execute_input": "2020-10-11T01:01:12.794263Z",
     "iopub.status.busy": "2020-10-11T01:01:12.793297Z",
     "iopub.status.idle": "2020-10-11T01:01:12.816755Z",
     "shell.execute_reply": "2020-10-11T01:01:12.817161Z"
    },
    "papermill": {
     "duration": 0.07766,
     "end_time": "2020-10-11T01:01:12.817316",
     "exception": false,
     "start_time": "2020-10-11T01:01:12.739656",
     "status": "completed"
    },
    "scrolled": false,
    "tags": []
   },
   "outputs": [
    {
     "name": "stderr",
     "output_type": "stream",
     "text": [
      "/opt/hostedtoolcache/Python/3.8.6/x64/lib/python3.8/site-packages/pandas/core/frame.py:4110: SettingWithCopyWarning: \n",
      "A value is trying to be set on a copy of a slice from a DataFrame\n",
      "\n",
      "See the caveats in the documentation: http://pandas.pydata.org/pandas-docs/stable/user_guide/indexing.html#returning-a-view-versus-a-copy\n",
      "  return super().drop(\n"
     ]
    },
    {
     "data": {
      "text/html": [
       "<div>\n",
       "<style scoped>\n",
       "    .dataframe tbody tr th:only-of-type {\n",
       "        vertical-align: middle;\n",
       "    }\n",
       "\n",
       "    .dataframe tbody tr th {\n",
       "        vertical-align: top;\n",
       "    }\n",
       "\n",
       "    .dataframe thead th {\n",
       "        text-align: right;\n",
       "    }\n",
       "</style>\n",
       "<table border=\"1\" class=\"dataframe\">\n",
       "  <thead>\n",
       "    <tr style=\"text-align: right;\">\n",
       "      <th></th>\n",
       "      <th>shared_teks_by_generation_date</th>\n",
       "    </tr>\n",
       "    <tr>\n",
       "      <th>sample_date_string</th>\n",
       "      <th></th>\n",
       "    </tr>\n",
       "  </thead>\n",
       "  <tbody>\n",
       "    <tr>\n",
       "      <th>2020-10-09</th>\n",
       "      <td>135</td>\n",
       "    </tr>\n",
       "    <tr>\n",
       "      <th>2020-10-08</th>\n",
       "      <td>192</td>\n",
       "    </tr>\n",
       "    <tr>\n",
       "      <th>2020-10-07</th>\n",
       "      <td>220</td>\n",
       "    </tr>\n",
       "    <tr>\n",
       "      <th>2020-10-06</th>\n",
       "      <td>284</td>\n",
       "    </tr>\n",
       "    <tr>\n",
       "      <th>2020-10-05</th>\n",
       "      <td>294</td>\n",
       "    </tr>\n",
       "  </tbody>\n",
       "</table>\n",
       "</div>"
      ],
      "text/plain": [
       "                    shared_teks_by_generation_date\n",
       "sample_date_string                                \n",
       "2020-10-09                                     135\n",
       "2020-10-08                                     192\n",
       "2020-10-07                                     220\n",
       "2020-10-06                                     284\n",
       "2020-10-05                                     294"
      ]
     },
     "execution_count": 17,
     "metadata": {},
     "output_type": "execute_result"
    }
   ],
   "source": [
    "exposure_keys_summary_df = multi_region_exposure_keys_df[\n",
    "    multi_region_exposure_keys_df.region == spain_region_country_code]\n",
    "exposure_keys_summary_df.drop(columns=[\"region\"], inplace=True)\n",
    "exposure_keys_summary_df = \\\n",
    "    exposure_keys_summary_df.groupby([\"sample_date_string\"]).key_data.nunique().to_frame()\n",
    "exposure_keys_summary_df = \\\n",
    "    exposure_keys_summary_df.reset_index().set_index(\"sample_date_string\")\n",
    "exposure_keys_summary_df.sort_index(ascending=False, inplace=True)\n",
    "exposure_keys_summary_df.rename(columns={\"key_data\": \"shared_teks_by_generation_date\"}, inplace=True)\n",
    "exposure_keys_summary_df.head()"
   ]
  },
  {
   "cell_type": "markdown",
   "metadata": {
    "papermill": {
     "duration": 0.04352,
     "end_time": "2020-10-11T01:01:12.906696",
     "exception": false,
     "start_time": "2020-10-11T01:01:12.863176",
     "status": "completed"
    },
    "tags": []
   },
   "source": [
    "### Dump API TEKs"
   ]
  },
  {
   "cell_type": "code",
   "execution_count": 18,
   "metadata": {
    "execution": {
     "iopub.execute_input": "2020-10-11T01:01:13.010605Z",
     "iopub.status.busy": "2020-10-11T01:01:13.010136Z",
     "iopub.status.idle": "2020-10-11T01:01:13.077790Z",
     "shell.execute_reply": "2020-10-11T01:01:13.078545Z"
    },
    "papermill": {
     "duration": 0.127077,
     "end_time": "2020-10-11T01:01:13.078796",
     "exception": false,
     "start_time": "2020-10-11T01:01:12.951719",
     "status": "completed"
    },
    "tags": []
   },
   "outputs": [
    {
     "data": {
      "text/html": [
       "<div>\n",
       "<style scoped>\n",
       "    .dataframe tbody tr th:only-of-type {\n",
       "        vertical-align: middle;\n",
       "    }\n",
       "\n",
       "    .dataframe tbody tr th {\n",
       "        vertical-align: top;\n",
       "    }\n",
       "\n",
       "    .dataframe thead th {\n",
       "        text-align: right;\n",
       "    }\n",
       "</style>\n",
       "<table border=\"1\" class=\"dataframe\">\n",
       "  <thead>\n",
       "    <tr style=\"text-align: right;\">\n",
       "      <th></th>\n",
       "      <th>sample_date</th>\n",
       "      <th>region</th>\n",
       "      <th>tek_list</th>\n",
       "      <th>extraction_date</th>\n",
       "      <th>extraction_date_with_hour</th>\n",
       "    </tr>\n",
       "  </thead>\n",
       "  <tbody>\n",
       "    <tr>\n",
       "      <th>0</th>\n",
       "      <td>2020-09-28</td>\n",
       "      <td>CH</td>\n",
       "      <td>[c4c0aaf9-7e8d-1a1e-4fd1-ac8597e82209, ad2c60f...</td>\n",
       "      <td>2020-10-11</td>\n",
       "      <td>2020-10-11@01</td>\n",
       "    </tr>\n",
       "    <tr>\n",
       "      <th>1</th>\n",
       "      <td>2020-09-28</td>\n",
       "      <td>ES</td>\n",
       "      <td>[ab8bea9b-1297-dfd8-e8c9-6fb1d3f8f0a3, a399110...</td>\n",
       "      <td>2020-10-11</td>\n",
       "      <td>2020-10-11@01</td>\n",
       "    </tr>\n",
       "    <tr>\n",
       "      <th>2</th>\n",
       "      <td>2020-09-28</td>\n",
       "      <td>PT</td>\n",
       "      <td>[9f16aadb-04be-19a2-e6b0-bcf3101d567d, 64a9a63...</td>\n",
       "      <td>2020-10-11</td>\n",
       "      <td>2020-10-11@01</td>\n",
       "    </tr>\n",
       "    <tr>\n",
       "      <th>3</th>\n",
       "      <td>2020-09-29</td>\n",
       "      <td>CH</td>\n",
       "      <td>[a189bc60-127c-ce14-8dd9-ec438e1ea82d, 6c9f290...</td>\n",
       "      <td>2020-10-11</td>\n",
       "      <td>2020-10-11@01</td>\n",
       "    </tr>\n",
       "    <tr>\n",
       "      <th>4</th>\n",
       "      <td>2020-09-29</td>\n",
       "      <td>ES</td>\n",
       "      <td>[8fd5c4a6-155d-d21f-e8ae-9e7821d04186, 170af8e...</td>\n",
       "      <td>2020-10-11</td>\n",
       "      <td>2020-10-11@01</td>\n",
       "    </tr>\n",
       "  </tbody>\n",
       "</table>\n",
       "</div>"
      ],
      "text/plain": [
       "  sample_date region                                           tek_list  \\\n",
       "0  2020-09-28     CH  [c4c0aaf9-7e8d-1a1e-4fd1-ac8597e82209, ad2c60f...   \n",
       "1  2020-09-28     ES  [ab8bea9b-1297-dfd8-e8c9-6fb1d3f8f0a3, a399110...   \n",
       "2  2020-09-28     PT  [9f16aadb-04be-19a2-e6b0-bcf3101d567d, 64a9a63...   \n",
       "3  2020-09-29     CH  [a189bc60-127c-ce14-8dd9-ec438e1ea82d, 6c9f290...   \n",
       "4  2020-09-29     ES  [8fd5c4a6-155d-d21f-e8ae-9e7821d04186, 170af8e...   \n",
       "\n",
       "  extraction_date extraction_date_with_hour  \n",
       "0      2020-10-11             2020-10-11@01  \n",
       "1      2020-10-11             2020-10-11@01  \n",
       "2      2020-10-11             2020-10-11@01  \n",
       "3      2020-10-11             2020-10-11@01  \n",
       "4      2020-10-11             2020-10-11@01  "
      ]
     },
     "execution_count": 18,
     "metadata": {},
     "output_type": "execute_result"
    }
   ],
   "source": [
    "tek_list_df = multi_region_exposure_keys_df[\n",
    "    [\"sample_date_string\", \"region\", \"key_data\"]].copy()\n",
    "tek_list_df[\"key_data\"] = tek_list_df[\"key_data\"].apply(str)\n",
    "tek_list_df.rename(columns={\n",
    "    \"sample_date_string\": \"sample_date\",\n",
    "    \"key_data\": \"tek_list\"}, inplace=True)\n",
    "tek_list_df = tek_list_df.groupby(\n",
    "    [\"sample_date\", \"region\"]).tek_list.unique().reset_index()\n",
    "tek_list_df[\"extraction_date\"] = extraction_date\n",
    "tek_list_df[\"extraction_date_with_hour\"] = extraction_date_with_hour\n",
    "\n",
    "tek_list_path_prefix = \"Data/TEKs/\"\n",
    "tek_list_current_path = tek_list_path_prefix + f\"/Current/RadarCOVID-TEKs.json\"\n",
    "tek_list_daily_path = tek_list_path_prefix + f\"Daily/RadarCOVID-TEKs-{extraction_date}.json\"\n",
    "tek_list_hourly_path = tek_list_path_prefix + f\"Hourly/RadarCOVID-TEKs-{extraction_date_with_hour}.json\"\n",
    "\n",
    "for path in [tek_list_current_path, tek_list_daily_path, tek_list_hourly_path]:\n",
    "    os.makedirs(os.path.dirname(path), exist_ok=True)\n",
    "\n",
    "tek_list_df.drop(columns=[\"extraction_date\", \"extraction_date_with_hour\"]).to_json(\n",
    "    tek_list_current_path,\n",
    "    lines=True, orient=\"records\")\n",
    "tek_list_df.drop(columns=[\"extraction_date_with_hour\"]).to_json(\n",
    "    tek_list_daily_path,\n",
    "    lines=True, orient=\"records\")\n",
    "tek_list_df.to_json(\n",
    "    tek_list_hourly_path,\n",
    "    lines=True, orient=\"records\")\n",
    "tek_list_df.head()"
   ]
  },
  {
   "cell_type": "markdown",
   "metadata": {
    "papermill": {
     "duration": 0.04855,
     "end_time": "2020-10-11T01:01:13.177860",
     "exception": false,
     "start_time": "2020-10-11T01:01:13.129310",
     "status": "completed"
    },
    "tags": []
   },
   "source": [
    "### Load TEK Dumps"
   ]
  },
  {
   "cell_type": "code",
   "execution_count": 19,
   "metadata": {
    "execution": {
     "iopub.execute_input": "2020-10-11T01:01:13.285556Z",
     "iopub.status.busy": "2020-10-11T01:01:13.284982Z",
     "iopub.status.idle": "2020-10-11T01:01:13.286657Z",
     "shell.execute_reply": "2020-10-11T01:01:13.287002Z"
    },
    "papermill": {
     "duration": 0.059525,
     "end_time": "2020-10-11T01:01:13.287153",
     "exception": false,
     "start_time": "2020-10-11T01:01:13.227628",
     "status": "completed"
    },
    "tags": []
   },
   "outputs": [],
   "source": [
    "import glob\n",
    "\n",
    "def load_extracted_teks(mode, region=None, limit=None) -> pd.DataFrame:\n",
    "    extracted_teks_df = pd.DataFrame(columns=[\"region\"])\n",
    "    paths = list(reversed(sorted(glob.glob(tek_list_path_prefix + mode + \"/RadarCOVID-TEKs-*.json\"))))\n",
    "    if limit:\n",
    "        paths = paths[:limit]\n",
    "    for path in paths:\n",
    "        logging.info(f\"Loading TEKs from '{path}'...\")\n",
    "        iteration_extracted_teks_df = pd.read_json(path, lines=True)\n",
    "        extracted_teks_df = extracted_teks_df.append(\n",
    "            iteration_extracted_teks_df, sort=False)\n",
    "    extracted_teks_df[\"region\"] = \\\n",
    "        extracted_teks_df.region.fillna(spain_region_country_code).copy()\n",
    "    if region:\n",
    "        extracted_teks_df = \\\n",
    "            extracted_teks_df[extracted_teks_df.region == region]\n",
    "    return extracted_teks_df"
   ]
  },
  {
   "cell_type": "code",
   "execution_count": 20,
   "metadata": {
    "collapsed": false,
    "execution": {
     "iopub.execute_input": "2020-10-11T01:01:13.396922Z",
     "iopub.status.busy": "2020-10-11T01:01:13.396370Z",
     "iopub.status.idle": "2020-10-11T01:01:13.630712Z",
     "shell.execute_reply": "2020-10-11T01:01:13.631117Z"
    },
    "papermill": {
     "duration": 0.292548,
     "end_time": "2020-10-11T01:01:13.631268",
     "exception": false,
     "start_time": "2020-10-11T01:01:13.338720",
     "status": "completed"
    },
    "pycharm": {
     "name": "#%%\n"
    },
    "tags": []
   },
   "outputs": [
    {
     "data": {
      "text/html": [
       "<div>\n",
       "<style scoped>\n",
       "    .dataframe tbody tr th:only-of-type {\n",
       "        vertical-align: middle;\n",
       "    }\n",
       "\n",
       "    .dataframe tbody tr th {\n",
       "        vertical-align: top;\n",
       "    }\n",
       "\n",
       "    .dataframe thead th {\n",
       "        text-align: right;\n",
       "    }\n",
       "</style>\n",
       "<table border=\"1\" class=\"dataframe\">\n",
       "  <thead>\n",
       "    <tr style=\"text-align: right;\">\n",
       "      <th></th>\n",
       "      <th>region</th>\n",
       "      <th>sample_date</th>\n",
       "      <th>tek_list</th>\n",
       "      <th>extraction_date</th>\n",
       "      <th>extraction_date_with_hour</th>\n",
       "    </tr>\n",
       "  </thead>\n",
       "  <tbody>\n",
       "    <tr>\n",
       "      <th>1</th>\n",
       "      <td>ES</td>\n",
       "      <td>2020-09-28</td>\n",
       "      <td>[ab8bea9b-1297-dfd8-e8c9-6fb1d3f8f0a3, a399110...</td>\n",
       "      <td>2020-10-11</td>\n",
       "      <td>NaN</td>\n",
       "    </tr>\n",
       "    <tr>\n",
       "      <th>4</th>\n",
       "      <td>ES</td>\n",
       "      <td>2020-09-29</td>\n",
       "      <td>[8fd5c4a6-155d-d21f-e8ae-9e7821d04186, 170af8e...</td>\n",
       "      <td>2020-10-11</td>\n",
       "      <td>NaN</td>\n",
       "    </tr>\n",
       "    <tr>\n",
       "      <th>7</th>\n",
       "      <td>ES</td>\n",
       "      <td>2020-09-30</td>\n",
       "      <td>[c83b5143-b48d-0f8f-dd7e-f4518c12b997, 93e264e...</td>\n",
       "      <td>2020-10-11</td>\n",
       "      <td>NaN</td>\n",
       "    </tr>\n",
       "    <tr>\n",
       "      <th>10</th>\n",
       "      <td>ES</td>\n",
       "      <td>2020-10-01</td>\n",
       "      <td>[ab772a7f-66cb-0023-c809-1833b0938bf4, 3fe0c22...</td>\n",
       "      <td>2020-10-11</td>\n",
       "      <td>NaN</td>\n",
       "    </tr>\n",
       "    <tr>\n",
       "      <th>13</th>\n",
       "      <td>ES</td>\n",
       "      <td>2020-10-02</td>\n",
       "      <td>[35ba0609-4378-4ed2-e2ae-2b330105bfda, 3a172b2...</td>\n",
       "      <td>2020-10-11</td>\n",
       "      <td>NaN</td>\n",
       "    </tr>\n",
       "  </tbody>\n",
       "</table>\n",
       "</div>"
      ],
      "text/plain": [
       "   region sample_date                                           tek_list  \\\n",
       "1      ES  2020-09-28  [ab8bea9b-1297-dfd8-e8c9-6fb1d3f8f0a3, a399110...   \n",
       "4      ES  2020-09-29  [8fd5c4a6-155d-d21f-e8ae-9e7821d04186, 170af8e...   \n",
       "7      ES  2020-09-30  [c83b5143-b48d-0f8f-dd7e-f4518c12b997, 93e264e...   \n",
       "10     ES  2020-10-01  [ab772a7f-66cb-0023-c809-1833b0938bf4, 3fe0c22...   \n",
       "13     ES  2020-10-02  [35ba0609-4378-4ed2-e2ae-2b330105bfda, 3a172b2...   \n",
       "\n",
       "   extraction_date extraction_date_with_hour  \n",
       "1       2020-10-11                       NaN  \n",
       "4       2020-10-11                       NaN  \n",
       "7       2020-10-11                       NaN  \n",
       "10      2020-10-11                       NaN  \n",
       "13      2020-10-11                       NaN  "
      ]
     },
     "execution_count": 20,
     "metadata": {},
     "output_type": "execute_result"
    }
   ],
   "source": [
    "daily_extracted_teks_df = load_extracted_teks(\n",
    "    mode=\"Daily\",\n",
    "    region=spain_region_country_code,\n",
    "    limit=tek_dumps_load_limit)\n",
    "daily_extracted_teks_df.head()"
   ]
  },
  {
   "cell_type": "code",
   "execution_count": 21,
   "metadata": {
    "collapsed": false,
    "execution": {
     "iopub.execute_input": "2020-10-11T01:01:13.742067Z",
     "iopub.status.busy": "2020-10-11T01:01:13.741494Z",
     "iopub.status.idle": "2020-10-11T01:01:13.751105Z",
     "shell.execute_reply": "2020-10-11T01:01:13.751611Z"
    },
    "papermill": {
     "duration": 0.068251,
     "end_time": "2020-10-11T01:01:13.751761",
     "exception": false,
     "start_time": "2020-10-11T01:01:13.683510",
     "status": "completed"
    },
    "pycharm": {
     "name": "#%%\n"
    },
    "tags": []
   },
   "outputs": [
    {
     "data": {
      "text/html": [
       "<div>\n",
       "<style scoped>\n",
       "    .dataframe tbody tr th:only-of-type {\n",
       "        vertical-align: middle;\n",
       "    }\n",
       "\n",
       "    .dataframe tbody tr th {\n",
       "        vertical-align: top;\n",
       "    }\n",
       "\n",
       "    .dataframe thead th {\n",
       "        text-align: right;\n",
       "    }\n",
       "</style>\n",
       "<table border=\"1\" class=\"dataframe\">\n",
       "  <thead>\n",
       "    <tr style=\"text-align: right;\">\n",
       "      <th></th>\n",
       "      <th>shared_teks_by_generation_date</th>\n",
       "    </tr>\n",
       "    <tr>\n",
       "      <th>sample_date_string</th>\n",
       "      <th></th>\n",
       "    </tr>\n",
       "  </thead>\n",
       "  <tbody>\n",
       "    <tr>\n",
       "      <th>2020-10-09</th>\n",
       "      <td>135</td>\n",
       "    </tr>\n",
       "    <tr>\n",
       "      <th>2020-10-08</th>\n",
       "      <td>192</td>\n",
       "    </tr>\n",
       "    <tr>\n",
       "      <th>2020-10-07</th>\n",
       "      <td>220</td>\n",
       "    </tr>\n",
       "    <tr>\n",
       "      <th>2020-10-06</th>\n",
       "      <td>284</td>\n",
       "    </tr>\n",
       "    <tr>\n",
       "      <th>2020-10-05</th>\n",
       "      <td>294</td>\n",
       "    </tr>\n",
       "  </tbody>\n",
       "</table>\n",
       "</div>"
      ],
      "text/plain": [
       "                    shared_teks_by_generation_date\n",
       "sample_date_string                                \n",
       "2020-10-09                                     135\n",
       "2020-10-08                                     192\n",
       "2020-10-07                                     220\n",
       "2020-10-06                                     284\n",
       "2020-10-05                                     294"
      ]
     },
     "execution_count": 21,
     "metadata": {},
     "output_type": "execute_result"
    }
   ],
   "source": [
    "exposure_keys_summary_df_ = daily_extracted_teks_df \\\n",
    "    .sort_values(\"extraction_date\", ascending=False) \\\n",
    "    .groupby(\"sample_date\").tek_list.first() \\\n",
    "    .to_frame()\n",
    "exposure_keys_summary_df_.index.name = \"sample_date_string\"\n",
    "exposure_keys_summary_df_[\"tek_list\"] = \\\n",
    "    exposure_keys_summary_df_.tek_list.apply(len)\n",
    "exposure_keys_summary_df_ = exposure_keys_summary_df_ \\\n",
    "    .rename(columns={\"tek_list\": \"shared_teks_by_generation_date\"}) \\\n",
    "    .sort_index(ascending=False)\n",
    "exposure_keys_summary_df = exposure_keys_summary_df_\n",
    "exposure_keys_summary_df.head()"
   ]
  },
  {
   "cell_type": "markdown",
   "metadata": {
    "execution": {
     "iopub.execute_input": "2020-08-30T22:30:16.632967Z",
     "iopub.status.busy": "2020-08-30T22:30:16.632308Z",
     "iopub.status.idle": "2020-08-30T22:30:16.634945Z",
     "shell.execute_reply": "2020-08-30T22:30:16.635575Z"
    },
    "papermill": {
     "duration": 0.047146,
     "end_time": "2020-10-11T01:01:13.850960",
     "exception": false,
     "start_time": "2020-10-11T01:01:13.803814",
     "status": "completed"
    },
    "pycharm": {
     "name": "#%% md\n"
    },
    "tags": []
   },
   "source": [
    "### Daily New TEKs"
   ]
  },
  {
   "cell_type": "code",
   "execution_count": 22,
   "metadata": {
    "execution": {
     "iopub.execute_input": "2020-10-11T01:01:13.982841Z",
     "iopub.status.busy": "2020-10-11T01:01:13.962518Z",
     "iopub.status.idle": "2020-10-11T01:01:13.985035Z",
     "shell.execute_reply": "2020-10-11T01:01:13.985451Z"
    },
    "papermill": {
     "duration": 0.085819,
     "end_time": "2020-10-11T01:01:13.985607",
     "exception": false,
     "start_time": "2020-10-11T01:01:13.899788",
     "status": "completed"
    },
    "tags": []
   },
   "outputs": [
    {
     "data": {
      "text/html": [
       "<div>\n",
       "<style scoped>\n",
       "    .dataframe tbody tr th:only-of-type {\n",
       "        vertical-align: middle;\n",
       "    }\n",
       "\n",
       "    .dataframe tbody tr th {\n",
       "        vertical-align: top;\n",
       "    }\n",
       "\n",
       "    .dataframe thead th {\n",
       "        text-align: right;\n",
       "    }\n",
       "</style>\n",
       "<table border=\"1\" class=\"dataframe\">\n",
       "  <thead>\n",
       "    <tr style=\"text-align: right;\">\n",
       "      <th></th>\n",
       "      <th>tek_list</th>\n",
       "    </tr>\n",
       "    <tr>\n",
       "      <th>extraction_date</th>\n",
       "      <th></th>\n",
       "    </tr>\n",
       "  </thead>\n",
       "  <tbody>\n",
       "    <tr>\n",
       "      <th>2020-08-29</th>\n",
       "      <td>{76fb9af3-3cee-cd46-5f10-e3368acdbcef, b307624...</td>\n",
       "    </tr>\n",
       "    <tr>\n",
       "      <th>2020-08-30</th>\n",
       "      <td>{76fb9af3-3cee-cd46-5f10-e3368acdbcef, b307624...</td>\n",
       "    </tr>\n",
       "    <tr>\n",
       "      <th>2020-08-31</th>\n",
       "      <td>{42275acc-2dc2-d56c-8045-06f8878a9b82, 76fb9af...</td>\n",
       "    </tr>\n",
       "    <tr>\n",
       "      <th>2020-09-01</th>\n",
       "      <td>{42275acc-2dc2-d56c-8045-06f8878a9b82, 76fb9af...</td>\n",
       "    </tr>\n",
       "    <tr>\n",
       "      <th>2020-09-02</th>\n",
       "      <td>{42275acc-2dc2-d56c-8045-06f8878a9b82, 76fb9af...</td>\n",
       "    </tr>\n",
       "  </tbody>\n",
       "</table>\n",
       "</div>"
      ],
      "text/plain": [
       "                                                          tek_list\n",
       "extraction_date                                                   \n",
       "2020-08-29       {76fb9af3-3cee-cd46-5f10-e3368acdbcef, b307624...\n",
       "2020-08-30       {76fb9af3-3cee-cd46-5f10-e3368acdbcef, b307624...\n",
       "2020-08-31       {42275acc-2dc2-d56c-8045-06f8878a9b82, 76fb9af...\n",
       "2020-09-01       {42275acc-2dc2-d56c-8045-06f8878a9b82, 76fb9af...\n",
       "2020-09-02       {42275acc-2dc2-d56c-8045-06f8878a9b82, 76fb9af..."
      ]
     },
     "execution_count": 22,
     "metadata": {},
     "output_type": "execute_result"
    }
   ],
   "source": [
    "tek_list_df = daily_extracted_teks_df.groupby(\"extraction_date\").tek_list.apply(\n",
    "    lambda x: set(sum(x, []))).reset_index()\n",
    "tek_list_df = tek_list_df.set_index(\"extraction_date\").sort_index(ascending=True)\n",
    "tek_list_df.head()"
   ]
  },
  {
   "cell_type": "code",
   "execution_count": 23,
   "metadata": {
    "collapsed": false,
    "execution": {
     "iopub.execute_input": "2020-10-11T01:01:14.101002Z",
     "iopub.status.busy": "2020-10-11T01:01:14.100447Z",
     "iopub.status.idle": "2020-10-11T01:01:14.114680Z",
     "shell.execute_reply": "2020-10-11T01:01:14.115188Z"
    },
    "papermill": {
     "duration": 0.078451,
     "end_time": "2020-10-11T01:01:14.115336",
     "exception": false,
     "start_time": "2020-10-11T01:01:14.036885",
     "status": "completed"
    },
    "pycharm": {
     "name": "#%%\n"
    },
    "tags": []
   },
   "outputs": [
    {
     "name": "stderr",
     "output_type": "stream",
     "text": [
      "<ipython-input-23-4d18d86f3c3b>:3: FutureWarning: `item` has been deprecated and will be removed in a future version\n",
      "  today_new_teks_set = today_new_teks_set_df[\n"
     ]
    },
    {
     "data": {
      "text/html": [
       "<div>\n",
       "<style scoped>\n",
       "    .dataframe tbody tr th:only-of-type {\n",
       "        vertical-align: middle;\n",
       "    }\n",
       "\n",
       "    .dataframe tbody tr th {\n",
       "        vertical-align: top;\n",
       "    }\n",
       "\n",
       "    .dataframe thead th {\n",
       "        text-align: right;\n",
       "    }\n",
       "</style>\n",
       "<table border=\"1\" class=\"dataframe\">\n",
       "  <thead>\n",
       "    <tr style=\"text-align: right;\">\n",
       "      <th></th>\n",
       "      <th>today_teks_by_generation_date</th>\n",
       "    </tr>\n",
       "    <tr>\n",
       "      <th>sample_date</th>\n",
       "      <th></th>\n",
       "    </tr>\n",
       "  </thead>\n",
       "  <tbody>\n",
       "    <tr>\n",
       "      <th>2020-10-05</th>\n",
       "      <td>1</td>\n",
       "    </tr>\n",
       "    <tr>\n",
       "      <th>2020-10-06</th>\n",
       "      <td>1</td>\n",
       "    </tr>\n",
       "    <tr>\n",
       "      <th>2020-10-07</th>\n",
       "      <td>1</td>\n",
       "    </tr>\n",
       "    <tr>\n",
       "      <th>2020-10-08</th>\n",
       "      <td>1</td>\n",
       "    </tr>\n",
       "    <tr>\n",
       "      <th>2020-10-09</th>\n",
       "      <td>1</td>\n",
       "    </tr>\n",
       "  </tbody>\n",
       "</table>\n",
       "</div>"
      ],
      "text/plain": [
       "             today_teks_by_generation_date\n",
       "sample_date                               \n",
       "2020-10-05                               1\n",
       "2020-10-06                               1\n",
       "2020-10-07                               1\n",
       "2020-10-08                               1\n",
       "2020-10-09                               1"
      ]
     },
     "execution_count": 23,
     "metadata": {},
     "output_type": "execute_result"
    }
   ],
   "source": [
    "today_new_teks_set_df = tek_list_df.diff()\n",
    "try:\n",
    "    today_new_teks_set = today_new_teks_set_df[\n",
    "        today_new_teks_set_df.index == extraction_date].tek_list.item()\n",
    "except ValueError:\n",
    "    today_new_teks_set = set()\n",
    "today_new_teks_df = daily_extracted_teks_df[\n",
    "    daily_extracted_teks_df.extraction_date == extraction_date].copy()\n",
    "today_new_teks_df[\"today_teks\"] = \\\n",
    "    today_new_teks_df.tek_list.apply(lambda x: set(x).intersection(today_new_teks_set))\n",
    "today_new_teks_df[\"today_teks_by_generation_date\"] = \\\n",
    "    today_new_teks_df.today_teks.apply(len)\n",
    "today_new_teks_df = today_new_teks_df[[\"sample_date\", \"today_teks_by_generation_date\"]]\n",
    "today_new_teks_df.set_index(\"sample_date\", inplace=True)\n",
    "today_new_teks_df.tail()"
   ]
  },
  {
   "cell_type": "code",
   "execution_count": 24,
   "metadata": {
    "collapsed": false,
    "execution": {
     "iopub.execute_input": "2020-10-11T01:01:14.235148Z",
     "iopub.status.busy": "2020-10-11T01:01:14.234615Z",
     "iopub.status.idle": "2020-10-11T01:01:14.433213Z",
     "shell.execute_reply": "2020-10-11T01:01:14.433738Z"
    },
    "papermill": {
     "duration": 0.267354,
     "end_time": "2020-10-11T01:01:14.433895",
     "exception": false,
     "start_time": "2020-10-11T01:01:14.166541",
     "status": "completed"
    },
    "pycharm": {
     "name": "#%%\n"
    },
    "tags": []
   },
   "outputs": [
    {
     "data": {
      "text/plain": [
       "<matplotlib.axes._subplots.AxesSubplot at 0x7fac9ee79b20>"
      ]
     },
     "execution_count": 24,
     "metadata": {},
     "output_type": "execute_result"
    },
    {
     "data": {
      "image/png": "[encoded data removed]",
      "text/plain": [
       "<Figure size 1080x432 with 1 Axes>"
      ]
     },
     "metadata": {},
     "output_type": "display_data"
    }
   ],
   "source": [
    "today_new_teks_df.plot.bar()"
   ]
  },
  {
   "cell_type": "code",
   "execution_count": 25,
   "metadata": {
    "execution": {
     "iopub.execute_input": "2020-10-11T01:01:14.548103Z",
     "iopub.status.busy": "2020-10-11T01:01:14.547714Z",
     "iopub.status.idle": "2020-10-11T01:01:14.556922Z",
     "shell.execute_reply": "2020-10-11T01:01:14.557274Z"
    },
    "papermill": {
     "duration": 0.07243,
     "end_time": "2020-10-11T01:01:14.557400",
     "exception": false,
     "start_time": "2020-10-11T01:01:14.484970",
     "status": "completed"
    },
    "tags": []
   },
   "outputs": [
    {
     "data": {
      "text/html": [
       "<div>\n",
       "<style scoped>\n",
       "    .dataframe tbody tr th:only-of-type {\n",
       "        vertical-align: middle;\n",
       "    }\n",
       "\n",
       "    .dataframe tbody tr th {\n",
       "        vertical-align: top;\n",
       "    }\n",
       "\n",
       "    .dataframe thead th {\n",
       "        text-align: right;\n",
       "    }\n",
       "</style>\n",
       "<table border=\"1\" class=\"dataframe\">\n",
       "  <thead>\n",
       "    <tr style=\"text-align: right;\">\n",
       "      <th></th>\n",
       "      <th>sample_date_string</th>\n",
       "      <th>shared_teks_by_upload_date</th>\n",
       "    </tr>\n",
       "  </thead>\n",
       "  <tbody>\n",
       "    <tr>\n",
       "      <th>39</th>\n",
       "      <td>2020-10-07</td>\n",
       "      <td>178.0</td>\n",
       "    </tr>\n",
       "    <tr>\n",
       "      <th>40</th>\n",
       "      <td>2020-10-08</td>\n",
       "      <td>272.0</td>\n",
       "    </tr>\n",
       "    <tr>\n",
       "      <th>41</th>\n",
       "      <td>2020-10-09</td>\n",
       "      <td>348.0</td>\n",
       "    </tr>\n",
       "    <tr>\n",
       "      <th>42</th>\n",
       "      <td>2020-10-10</td>\n",
       "      <td>429.0</td>\n",
       "    </tr>\n",
       "    <tr>\n",
       "      <th>43</th>\n",
       "      <td>2020-10-11</td>\n",
       "      <td>8.0</td>\n",
       "    </tr>\n",
       "  </tbody>\n",
       "</table>\n",
       "</div>"
      ],
      "text/plain": [
       "   sample_date_string  shared_teks_by_upload_date\n",
       "39         2020-10-07                       178.0\n",
       "40         2020-10-08                       272.0\n",
       "41         2020-10-09                       348.0\n",
       "42         2020-10-10                       429.0\n",
       "43         2020-10-11                         8.0"
      ]
     },
     "execution_count": 25,
     "metadata": {},
     "output_type": "execute_result"
    }
   ],
   "source": [
    "new_tek_df = tek_list_df.diff().tek_list.apply(\n",
    "    lambda x: len(x) if not pd.isna(x) else None).to_frame().reset_index()\n",
    "new_tek_df.rename(columns={\n",
    "    \"tek_list\": \"shared_teks_by_upload_date\",\n",
    "    \"extraction_date\": \"sample_date_string\",}, inplace=True)\n",
    "new_tek_df.tail()"
   ]
  },
  {
   "cell_type": "code",
   "execution_count": 26,
   "metadata": {
    "execution": {
     "iopub.execute_input": "2020-10-11T01:01:14.664154Z",
     "iopub.status.busy": "2020-10-11T01:01:14.663365Z",
     "iopub.status.idle": "2020-10-11T01:01:14.685240Z",
     "shell.execute_reply": "2020-10-11T01:01:14.685753Z"
    },
    "papermill": {
     "duration": 0.082392,
     "end_time": "2020-10-11T01:01:14.685933",
     "exception": false,
     "start_time": "2020-10-11T01:01:14.603541",
     "status": "completed"
    },
    "pycharm": {
     "name": "#%%\n"
    },
    "tags": []
   },
   "outputs": [
    {
     "data": {
      "text/html": [
       "<div>\n",
       "<style scoped>\n",
       "    .dataframe tbody tr th:only-of-type {\n",
       "        vertical-align: middle;\n",
       "    }\n",
       "\n",
       "    .dataframe tbody tr th {\n",
       "        vertical-align: top;\n",
       "    }\n",
       "\n",
       "    .dataframe thead th {\n",
       "        text-align: right;\n",
       "    }\n",
       "</style>\n",
       "<table border=\"1\" class=\"dataframe\">\n",
       "  <thead>\n",
       "    <tr style=\"text-align: right;\">\n",
       "      <th></th>\n",
       "      <th>region</th>\n",
       "      <th>sample_date</th>\n",
       "      <th>tek_list</th>\n",
       "      <th>extraction_date</th>\n",
       "      <th>extraction_date_with_hour</th>\n",
       "      <th>new_sample_extraction_date</th>\n",
       "    </tr>\n",
       "  </thead>\n",
       "  <tbody>\n",
       "    <tr>\n",
       "      <th>1</th>\n",
       "      <td>ES</td>\n",
       "      <td>2020-09-28</td>\n",
       "      <td>[ab8bea9b-1297-dfd8-e8c9-6fb1d3f8f0a3, a399110...</td>\n",
       "      <td>2020-10-11</td>\n",
       "      <td>NaN</td>\n",
       "      <td>2020-09-29</td>\n",
       "    </tr>\n",
       "    <tr>\n",
       "      <th>4</th>\n",
       "      <td>ES</td>\n",
       "      <td>2020-09-29</td>\n",
       "      <td>[8fd5c4a6-155d-d21f-e8ae-9e7821d04186, 170af8e...</td>\n",
       "      <td>2020-10-11</td>\n",
       "      <td>NaN</td>\n",
       "      <td>2020-09-30</td>\n",
       "    </tr>\n",
       "    <tr>\n",
       "      <th>7</th>\n",
       "      <td>ES</td>\n",
       "      <td>2020-09-30</td>\n",
       "      <td>[c83b5143-b48d-0f8f-dd7e-f4518c12b997, 93e264e...</td>\n",
       "      <td>2020-10-11</td>\n",
       "      <td>NaN</td>\n",
       "      <td>2020-10-01</td>\n",
       "    </tr>\n",
       "    <tr>\n",
       "      <th>10</th>\n",
       "      <td>ES</td>\n",
       "      <td>2020-10-01</td>\n",
       "      <td>[ab772a7f-66cb-0023-c809-1833b0938bf4, 3fe0c22...</td>\n",
       "      <td>2020-10-11</td>\n",
       "      <td>NaN</td>\n",
       "      <td>2020-10-02</td>\n",
       "    </tr>\n",
       "    <tr>\n",
       "      <th>13</th>\n",
       "      <td>ES</td>\n",
       "      <td>2020-10-02</td>\n",
       "      <td>[35ba0609-4378-4ed2-e2ae-2b330105bfda, 3a172b2...</td>\n",
       "      <td>2020-10-11</td>\n",
       "      <td>NaN</td>\n",
       "      <td>2020-10-03</td>\n",
       "    </tr>\n",
       "  </tbody>\n",
       "</table>\n",
       "</div>"
      ],
      "text/plain": [
       "   region sample_date                                           tek_list  \\\n",
       "1      ES  2020-09-28  [ab8bea9b-1297-dfd8-e8c9-6fb1d3f8f0a3, a399110...   \n",
       "4      ES  2020-09-29  [8fd5c4a6-155d-d21f-e8ae-9e7821d04186, 170af8e...   \n",
       "7      ES  2020-09-30  [c83b5143-b48d-0f8f-dd7e-f4518c12b997, 93e264e...   \n",
       "10     ES  2020-10-01  [ab772a7f-66cb-0023-c809-1833b0938bf4, 3fe0c22...   \n",
       "13     ES  2020-10-02  [35ba0609-4378-4ed2-e2ae-2b330105bfda, 3a172b2...   \n",
       "\n",
       "   extraction_date extraction_date_with_hour new_sample_extraction_date  \n",
       "1       2020-10-11                       NaN                 2020-09-29  \n",
       "4       2020-10-11                       NaN                 2020-09-30  \n",
       "7       2020-10-11                       NaN                 2020-10-01  \n",
       "10      2020-10-11                       NaN                 2020-10-02  \n",
       "13      2020-10-11                       NaN                 2020-10-03  "
      ]
     },
     "execution_count": 26,
     "metadata": {},
     "output_type": "execute_result"
    }
   ],
   "source": [
    "estimated_shared_diagnoses_df = daily_extracted_teks_df.copy()\n",
    "estimated_shared_diagnoses_df[\"new_sample_extraction_date\"] = \\\n",
    "    pd.to_datetime(estimated_shared_diagnoses_df.sample_date) + datetime.timedelta(1)\n",
    "estimated_shared_diagnoses_df[\"extraction_date\"] = pd.to_datetime(estimated_shared_diagnoses_df.extraction_date)\n",
    "estimated_shared_diagnoses_df[\"sample_date\"] = pd.to_datetime(estimated_shared_diagnoses_df.sample_date)\n",
    "estimated_shared_diagnoses_df.head()"
   ]
  },
  {
   "cell_type": "code",
   "execution_count": 27,
   "metadata": {
    "collapsed": false,
    "execution": {
     "iopub.execute_input": "2020-10-11T01:01:14.798720Z",
     "iopub.status.busy": "2020-10-11T01:01:14.798182Z",
     "iopub.status.idle": "2020-10-11T01:01:14.810394Z",
     "shell.execute_reply": "2020-10-11T01:01:14.810861Z"
    },
    "papermill": {
     "duration": 0.071878,
     "end_time": "2020-10-11T01:01:14.811001",
     "exception": false,
     "start_time": "2020-10-11T01:01:14.739123",
     "status": "completed"
    },
    "pycharm": {
     "name": "#%%\n"
    },
    "tags": []
   },
   "outputs": [
    {
     "data": {
      "text/html": [
       "<div>\n",
       "<style scoped>\n",
       "    .dataframe tbody tr th:only-of-type {\n",
       "        vertical-align: middle;\n",
       "    }\n",
       "\n",
       "    .dataframe tbody tr th {\n",
       "        vertical-align: top;\n",
       "    }\n",
       "\n",
       "    .dataframe thead th {\n",
       "        text-align: right;\n",
       "    }\n",
       "</style>\n",
       "<table border=\"1\" class=\"dataframe\">\n",
       "  <thead>\n",
       "    <tr style=\"text-align: right;\">\n",
       "      <th></th>\n",
       "      <th>extraction_date</th>\n",
       "      <th>same_day_tek_list</th>\n",
       "    </tr>\n",
       "  </thead>\n",
       "  <tbody>\n",
       "    <tr>\n",
       "      <th>13</th>\n",
       "      <td>2020-10-09</td>\n",
       "      <td>[2608c66d-6985-9936-30a3-05ce2ddb259f]</td>\n",
       "    </tr>\n",
       "    <tr>\n",
       "      <th>13</th>\n",
       "      <td>2020-10-08</td>\n",
       "      <td>[a663b30a-8b02-d298-a9f7-9c9153f7f590]</td>\n",
       "    </tr>\n",
       "    <tr>\n",
       "      <th>13</th>\n",
       "      <td>2020-10-06</td>\n",
       "      <td>[2ed478e1-6fb4-7433-2ba5-5ddcaf3e7f8b, 147e075...</td>\n",
       "    </tr>\n",
       "    <tr>\n",
       "      <th>13</th>\n",
       "      <td>2020-10-05</td>\n",
       "      <td>[40e3b870-b9ea-392d-8e17-4e6ac12af668, 39beaeb...</td>\n",
       "    </tr>\n",
       "    <tr>\n",
       "      <th>13</th>\n",
       "      <td>2020-10-04</td>\n",
       "      <td>[66abf67e-ed33-e011-f22f-0d113b889269, e46ca4e...</td>\n",
       "    </tr>\n",
       "  </tbody>\n",
       "</table>\n",
       "</div>"
      ],
      "text/plain": [
       "   extraction_date                                  same_day_tek_list\n",
       "13      2020-10-09             [2608c66d-6985-9936-30a3-05ce2ddb259f]\n",
       "13      2020-10-08             [a663b30a-8b02-d298-a9f7-9c9153f7f590]\n",
       "13      2020-10-06  [2ed478e1-6fb4-7433-2ba5-5ddcaf3e7f8b, 147e075...\n",
       "13      2020-10-05  [40e3b870-b9ea-392d-8e17-4e6ac12af668, 39beaeb...\n",
       "13      2020-10-04  [66abf67e-ed33-e011-f22f-0d113b889269, e46ca4e..."
      ]
     },
     "execution_count": 27,
     "metadata": {},
     "output_type": "execute_result"
    }
   ],
   "source": [
    "# Sometimes TEKs from the same day are uploaded, we do not count them as new TEK devices:\n",
    "same_day_tek_list_df = estimated_shared_diagnoses_df[\n",
    "    estimated_shared_diagnoses_df.sample_date == estimated_shared_diagnoses_df.extraction_date].copy()\n",
    "same_day_tek_list_df = same_day_tek_list_df[[\"extraction_date\", \"tek_list\"]].rename(\n",
    "    columns={\"tek_list\": \"same_day_tek_list\"})\n",
    "same_day_tek_list_df.head()"
   ]
  },
  {
   "cell_type": "code",
   "execution_count": 28,
   "metadata": {
    "collapsed": false,
    "execution": {
     "iopub.execute_input": "2020-10-11T01:01:14.930580Z",
     "iopub.status.busy": "2020-10-11T01:01:14.930029Z",
     "iopub.status.idle": "2020-10-11T01:01:14.933188Z",
     "shell.execute_reply": "2020-10-11T01:01:14.932726Z"
    },
    "papermill": {
     "duration": 0.069368,
     "end_time": "2020-10-11T01:01:14.933309",
     "exception": false,
     "start_time": "2020-10-11T01:01:14.863941",
     "status": "completed"
    },
    "pycharm": {
     "name": "#%%\n"
    },
    "tags": []
   },
   "outputs": [
    {
     "data": {
      "text/html": [
       "<div>\n",
       "<style scoped>\n",
       "    .dataframe tbody tr th:only-of-type {\n",
       "        vertical-align: middle;\n",
       "    }\n",
       "\n",
       "    .dataframe tbody tr th {\n",
       "        vertical-align: top;\n",
       "    }\n",
       "\n",
       "    .dataframe thead th {\n",
       "        text-align: right;\n",
       "    }\n",
       "</style>\n",
       "<table border=\"1\" class=\"dataframe\">\n",
       "  <thead>\n",
       "    <tr style=\"text-align: right;\">\n",
       "      <th></th>\n",
       "      <th>sample_date_string</th>\n",
       "      <th>shared_teks_uploaded_on_generation_date</th>\n",
       "    </tr>\n",
       "  </thead>\n",
       "  <tbody>\n",
       "    <tr>\n",
       "      <th>13</th>\n",
       "      <td>2020-10-09</td>\n",
       "      <td>1</td>\n",
       "    </tr>\n",
       "    <tr>\n",
       "      <th>13</th>\n",
       "      <td>2020-10-08</td>\n",
       "      <td>1</td>\n",
       "    </tr>\n",
       "    <tr>\n",
       "      <th>13</th>\n",
       "      <td>2020-10-06</td>\n",
       "      <td>60</td>\n",
       "    </tr>\n",
       "    <tr>\n",
       "      <th>13</th>\n",
       "      <td>2020-10-05</td>\n",
       "      <td>52</td>\n",
       "    </tr>\n",
       "    <tr>\n",
       "      <th>13</th>\n",
       "      <td>2020-10-04</td>\n",
       "      <td>76</td>\n",
       "    </tr>\n",
       "  </tbody>\n",
       "</table>\n",
       "</div>"
      ],
      "text/plain": [
       "   sample_date_string  shared_teks_uploaded_on_generation_date\n",
       "13         2020-10-09                                        1\n",
       "13         2020-10-08                                        1\n",
       "13         2020-10-06                                       60\n",
       "13         2020-10-05                                       52\n",
       "13         2020-10-04                                       76"
      ]
     },
     "execution_count": 28,
     "metadata": {},
     "output_type": "execute_result"
    }
   ],
   "source": [
    "shared_teks_uploaded_on_generation_date_df = same_day_tek_list_df.rename(\n",
    "    columns={\n",
    "        \"extraction_date\": \"sample_date_string\",\n",
    "        \"same_day_tek_list\": \"shared_teks_uploaded_on_generation_date\",\n",
    "    })\n",
    "shared_teks_uploaded_on_generation_date_df.shared_teks_uploaded_on_generation_date = \\\n",
    " shared_teks_uploaded_on_generation_date_df.shared_teks_uploaded_on_generation_date.apply(len)\n",
    "shared_teks_uploaded_on_generation_date_df.head()\n",
    "shared_teks_uploaded_on_generation_date_df[\"sample_date_string\"] = \\\n",
    "    shared_teks_uploaded_on_generation_date_df.sample_date_string.dt.strftime(\"%Y-%m-%d\")\n",
    "shared_teks_uploaded_on_generation_date_df.head()"
   ]
  },
  {
   "cell_type": "code",
   "execution_count": 29,
   "metadata": {
    "collapsed": false,
    "execution": {
     "iopub.execute_input": "2020-10-11T01:01:15.054086Z",
     "iopub.status.busy": "2020-10-11T01:01:15.053541Z",
     "iopub.status.idle": "2020-10-11T01:01:15.057027Z",
     "shell.execute_reply": "2020-10-11T01:01:15.057562Z"
    },
    "papermill": {
     "duration": 0.071412,
     "end_time": "2020-10-11T01:01:15.057709",
     "exception": false,
     "start_time": "2020-10-11T01:01:14.986297",
     "status": "completed"
    },
    "pycharm": {
     "name": "#%%\n"
    },
    "tags": []
   },
   "outputs": [
    {
     "data": {
      "text/html": [
       "<div>\n",
       "<style scoped>\n",
       "    .dataframe tbody tr th:only-of-type {\n",
       "        vertical-align: middle;\n",
       "    }\n",
       "\n",
       "    .dataframe tbody tr th {\n",
       "        vertical-align: top;\n",
       "    }\n",
       "\n",
       "    .dataframe thead th {\n",
       "        text-align: right;\n",
       "    }\n",
       "</style>\n",
       "<table border=\"1\" class=\"dataframe\">\n",
       "  <thead>\n",
       "    <tr style=\"text-align: right;\">\n",
       "      <th></th>\n",
       "      <th>region</th>\n",
       "      <th>sample_date</th>\n",
       "      <th>tek_list</th>\n",
       "      <th>extraction_date</th>\n",
       "      <th>extraction_date_with_hour</th>\n",
       "      <th>new_sample_extraction_date</th>\n",
       "    </tr>\n",
       "  </thead>\n",
       "  <tbody>\n",
       "    <tr>\n",
       "      <th>37</th>\n",
       "      <td>ES</td>\n",
       "      <td>2020-10-09</td>\n",
       "      <td>[2a2f3e71-daba-5d03-fe20-9e8827a9036a, ca53e30...</td>\n",
       "      <td>2020-10-10</td>\n",
       "      <td>NaN</td>\n",
       "      <td>2020-10-10</td>\n",
       "    </tr>\n",
       "    <tr>\n",
       "      <th>12</th>\n",
       "      <td>ES</td>\n",
       "      <td>2020-10-08</td>\n",
       "      <td>[5947e8d7-76cb-6e84-0056-9b6e2c269d95, da29223...</td>\n",
       "      <td>2020-10-09</td>\n",
       "      <td>NaN</td>\n",
       "      <td>2020-10-09</td>\n",
       "    </tr>\n",
       "    <tr>\n",
       "      <th>12</th>\n",
       "      <td>ES</td>\n",
       "      <td>2020-10-07</td>\n",
       "      <td>[572a44e5-b040-f739-3ae9-3e1e617ba26e, 93bb79e...</td>\n",
       "      <td>2020-10-08</td>\n",
       "      <td>NaN</td>\n",
       "      <td>2020-10-08</td>\n",
       "    </tr>\n",
       "    <tr>\n",
       "      <th>12</th>\n",
       "      <td>ES</td>\n",
       "      <td>2020-10-06</td>\n",
       "      <td>[d40fe510-a68c-6ca1-5836-85bd0c385c82, 198e63d...</td>\n",
       "      <td>2020-10-07</td>\n",
       "      <td>NaN</td>\n",
       "      <td>2020-10-07</td>\n",
       "    </tr>\n",
       "    <tr>\n",
       "      <th>12</th>\n",
       "      <td>ES</td>\n",
       "      <td>2020-10-05</td>\n",
       "      <td>[1e645e90-926b-525d-8f28-b2741ffff1f1, 2914f5a...</td>\n",
       "      <td>2020-10-06</td>\n",
       "      <td>NaN</td>\n",
       "      <td>2020-10-06</td>\n",
       "    </tr>\n",
       "  </tbody>\n",
       "</table>\n",
       "</div>"
      ],
      "text/plain": [
       "   region sample_date                                           tek_list  \\\n",
       "37     ES  2020-10-09  [2a2f3e71-daba-5d03-fe20-9e8827a9036a, ca53e30...   \n",
       "12     ES  2020-10-08  [5947e8d7-76cb-6e84-0056-9b6e2c269d95, da29223...   \n",
       "12     ES  2020-10-07  [572a44e5-b040-f739-3ae9-3e1e617ba26e, 93bb79e...   \n",
       "12     ES  2020-10-06  [d40fe510-a68c-6ca1-5836-85bd0c385c82, 198e63d...   \n",
       "12     ES  2020-10-05  [1e645e90-926b-525d-8f28-b2741ffff1f1, 2914f5a...   \n",
       "\n",
       "   extraction_date extraction_date_with_hour new_sample_extraction_date  \n",
       "37      2020-10-10                       NaN                 2020-10-10  \n",
       "12      2020-10-09                       NaN                 2020-10-09  \n",
       "12      2020-10-08                       NaN                 2020-10-08  \n",
       "12      2020-10-07                       NaN                 2020-10-07  \n",
       "12      2020-10-06                       NaN                 2020-10-06  "
      ]
     },
     "execution_count": 29,
     "metadata": {},
     "output_type": "execute_result"
    }
   ],
   "source": [
    "estimated_shared_diagnoses_df = estimated_shared_diagnoses_df[\n",
    "    estimated_shared_diagnoses_df.new_sample_extraction_date == estimated_shared_diagnoses_df.extraction_date]\n",
    "estimated_shared_diagnoses_df.head()"
   ]
  },
  {
   "cell_type": "code",
   "execution_count": 30,
   "metadata": {
    "collapsed": false,
    "execution": {
     "iopub.execute_input": "2020-10-11T01:01:15.173471Z",
     "iopub.status.busy": "2020-10-11T01:01:15.173019Z",
     "iopub.status.idle": "2020-10-11T01:01:15.186960Z",
     "shell.execute_reply": "2020-10-11T01:01:15.187315Z"
    },
    "papermill": {
     "duration": 0.075512,
     "end_time": "2020-10-11T01:01:15.187446",
     "exception": false,
     "start_time": "2020-10-11T01:01:15.111934",
     "status": "completed"
    },
    "pycharm": {
     "name": "#%%\n"
    },
    "tags": []
   },
   "outputs": [
    {
     "data": {
      "text/html": [
       "<div>\n",
       "<style scoped>\n",
       "    .dataframe tbody tr th:only-of-type {\n",
       "        vertical-align: middle;\n",
       "    }\n",
       "\n",
       "    .dataframe tbody tr th {\n",
       "        vertical-align: top;\n",
       "    }\n",
       "\n",
       "    .dataframe thead th {\n",
       "        text-align: right;\n",
       "    }\n",
       "</style>\n",
       "<table border=\"1\" class=\"dataframe\">\n",
       "  <thead>\n",
       "    <tr style=\"text-align: right;\">\n",
       "      <th></th>\n",
       "      <th>region</th>\n",
       "      <th>sample_date</th>\n",
       "      <th>tek_list</th>\n",
       "      <th>extraction_date</th>\n",
       "      <th>extraction_date_with_hour</th>\n",
       "      <th>new_sample_extraction_date</th>\n",
       "      <th>same_day_tek_list</th>\n",
       "    </tr>\n",
       "  </thead>\n",
       "  <tbody>\n",
       "    <tr>\n",
       "      <th>0</th>\n",
       "      <td>ES</td>\n",
       "      <td>2020-10-09</td>\n",
       "      <td>[2a2f3e71-daba-5d03-fe20-9e8827a9036a, ca53e30...</td>\n",
       "      <td>2020-10-10</td>\n",
       "      <td>NaN</td>\n",
       "      <td>2020-10-10</td>\n",
       "      <td>[2608c66d-6985-9936-30a3-05ce2ddb259f]</td>\n",
       "    </tr>\n",
       "    <tr>\n",
       "      <th>1</th>\n",
       "      <td>ES</td>\n",
       "      <td>2020-10-08</td>\n",
       "      <td>[5947e8d7-76cb-6e84-0056-9b6e2c269d95, da29223...</td>\n",
       "      <td>2020-10-09</td>\n",
       "      <td>NaN</td>\n",
       "      <td>2020-10-09</td>\n",
       "      <td>[a663b30a-8b02-d298-a9f7-9c9153f7f590]</td>\n",
       "    </tr>\n",
       "    <tr>\n",
       "      <th>2</th>\n",
       "      <td>ES</td>\n",
       "      <td>2020-10-07</td>\n",
       "      <td>[572a44e5-b040-f739-3ae9-3e1e617ba26e, 93bb79e...</td>\n",
       "      <td>2020-10-08</td>\n",
       "      <td>NaN</td>\n",
       "      <td>2020-10-08</td>\n",
       "      <td>[]</td>\n",
       "    </tr>\n",
       "    <tr>\n",
       "      <th>3</th>\n",
       "      <td>ES</td>\n",
       "      <td>2020-10-06</td>\n",
       "      <td>[d40fe510-a68c-6ca1-5836-85bd0c385c82, 198e63d...</td>\n",
       "      <td>2020-10-07</td>\n",
       "      <td>NaN</td>\n",
       "      <td>2020-10-07</td>\n",
       "      <td>[2ed478e1-6fb4-7433-2ba5-5ddcaf3e7f8b, 147e075...</td>\n",
       "    </tr>\n",
       "    <tr>\n",
       "      <th>4</th>\n",
       "      <td>ES</td>\n",
       "      <td>2020-10-05</td>\n",
       "      <td>[1e645e90-926b-525d-8f28-b2741ffff1f1, 2914f5a...</td>\n",
       "      <td>2020-10-06</td>\n",
       "      <td>NaN</td>\n",
       "      <td>2020-10-06</td>\n",
       "      <td>[40e3b870-b9ea-392d-8e17-4e6ac12af668, 39beaeb...</td>\n",
       "    </tr>\n",
       "  </tbody>\n",
       "</table>\n",
       "</div>"
      ],
      "text/plain": [
       "  region sample_date                                           tek_list  \\\n",
       "0     ES  2020-10-09  [2a2f3e71-daba-5d03-fe20-9e8827a9036a, ca53e30...   \n",
       "1     ES  2020-10-08  [5947e8d7-76cb-6e84-0056-9b6e2c269d95, da29223...   \n",
       "2     ES  2020-10-07  [572a44e5-b040-f739-3ae9-3e1e617ba26e, 93bb79e...   \n",
       "3     ES  2020-10-06  [d40fe510-a68c-6ca1-5836-85bd0c385c82, 198e63d...   \n",
       "4     ES  2020-10-05  [1e645e90-926b-525d-8f28-b2741ffff1f1, 2914f5a...   \n",
       "\n",
       "  extraction_date extraction_date_with_hour new_sample_extraction_date  \\\n",
       "0      2020-10-10                       NaN                 2020-10-10   \n",
       "1      2020-10-09                       NaN                 2020-10-09   \n",
       "2      2020-10-08                       NaN                 2020-10-08   \n",
       "3      2020-10-07                       NaN                 2020-10-07   \n",
       "4      2020-10-06                       NaN                 2020-10-06   \n",
       "\n",
       "                                   same_day_tek_list  \n",
       "0             [2608c66d-6985-9936-30a3-05ce2ddb259f]  \n",
       "1             [a663b30a-8b02-d298-a9f7-9c9153f7f590]  \n",
       "2                                                 []  \n",
       "3  [2ed478e1-6fb4-7433-2ba5-5ddcaf3e7f8b, 147e075...  \n",
       "4  [40e3b870-b9ea-392d-8e17-4e6ac12af668, 39beaeb...  "
      ]
     },
     "execution_count": 30,
     "metadata": {},
     "output_type": "execute_result"
    }
   ],
   "source": [
    "same_day_tek_list_df[\"extraction_date\"] = \\\n",
    "    same_day_tek_list_df.extraction_date + datetime.timedelta(1)\n",
    "estimated_shared_diagnoses_df = \\\n",
    "    estimated_shared_diagnoses_df.merge(same_day_tek_list_df, how=\"left\", on=[\"extraction_date\"])\n",
    "estimated_shared_diagnoses_df[\"same_day_tek_list\"] = \\\n",
    "    estimated_shared_diagnoses_df.same_day_tek_list.apply(lambda x: [] if x is np.nan else x)\n",
    "estimated_shared_diagnoses_df.head()"
   ]
  },
  {
   "cell_type": "code",
   "execution_count": 31,
   "metadata": {
    "execution": {
     "iopub.execute_input": "2020-10-11T01:01:15.329244Z",
     "iopub.status.busy": "2020-10-11T01:01:15.328734Z",
     "iopub.status.idle": "2020-10-11T01:01:15.343804Z",
     "shell.execute_reply": "2020-10-11T01:01:15.343424Z"
    },
    "papermill": {
     "duration": 0.081359,
     "end_time": "2020-10-11T01:01:15.343906",
     "exception": false,
     "start_time": "2020-10-11T01:01:15.262547",
     "status": "completed"
    },
    "tags": []
   },
   "outputs": [
    {
     "data": {
      "text/html": [
       "<div>\n",
       "<style scoped>\n",
       "    .dataframe tbody tr th:only-of-type {\n",
       "        vertical-align: middle;\n",
       "    }\n",
       "\n",
       "    .dataframe tbody tr th {\n",
       "        vertical-align: top;\n",
       "    }\n",
       "\n",
       "    .dataframe thead th {\n",
       "        text-align: right;\n",
       "    }\n",
       "</style>\n",
       "<table border=\"1\" class=\"dataframe\">\n",
       "  <thead>\n",
       "    <tr style=\"text-align: right;\">\n",
       "      <th></th>\n",
       "      <th>sample_date_string</th>\n",
       "      <th>shared_diagnoses</th>\n",
       "    </tr>\n",
       "  </thead>\n",
       "  <tbody>\n",
       "    <tr>\n",
       "      <th>0</th>\n",
       "      <td>2020-10-10</td>\n",
       "      <td>133</td>\n",
       "    </tr>\n",
       "    <tr>\n",
       "      <th>1</th>\n",
       "      <td>2020-10-09</td>\n",
       "      <td>105</td>\n",
       "    </tr>\n",
       "    <tr>\n",
       "      <th>2</th>\n",
       "      <td>2020-10-08</td>\n",
       "      <td>86</td>\n",
       "    </tr>\n",
       "    <tr>\n",
       "      <th>3</th>\n",
       "      <td>2020-10-07</td>\n",
       "      <td>54</td>\n",
       "    </tr>\n",
       "    <tr>\n",
       "      <th>4</th>\n",
       "      <td>2020-10-06</td>\n",
       "      <td>56</td>\n",
       "    </tr>\n",
       "  </tbody>\n",
       "</table>\n",
       "</div>"
      ],
      "text/plain": [
       "  sample_date_string  shared_diagnoses\n",
       "0         2020-10-10               133\n",
       "1         2020-10-09               105\n",
       "2         2020-10-08                86\n",
       "3         2020-10-07                54\n",
       "4         2020-10-06                56"
      ]
     },
     "execution_count": 31,
     "metadata": {},
     "output_type": "execute_result"
    }
   ],
   "source": [
    "estimated_shared_diagnoses_df.set_index(\"extraction_date\", inplace=True)\n",
    "estimated_shared_diagnoses_df[\"shared_diagnoses\"] = estimated_shared_diagnoses_df.apply(\n",
    "    lambda x: len(set(x.tek_list).difference(x.same_day_tek_list)), axis=1).copy()\n",
    "estimated_shared_diagnoses_df.reset_index(inplace=True)\n",
    "estimated_shared_diagnoses_df.rename(columns={\n",
    "    \"extraction_date\": \"sample_date_string\"}, inplace=True)\n",
    "estimated_shared_diagnoses_df = estimated_shared_diagnoses_df[[\"sample_date_string\", \"shared_diagnoses\"]]\n",
    "estimated_shared_diagnoses_df[\"sample_date_string\"] = estimated_shared_diagnoses_df.sample_date_string.dt.strftime(\"%Y-%m-%d\")\n",
    "estimated_shared_diagnoses_df.head()"
   ]
  },
  {
   "cell_type": "markdown",
   "metadata": {
    "papermill": {
     "duration": 0.053263,
     "end_time": "2020-10-11T01:01:15.449930",
     "exception": false,
     "start_time": "2020-10-11T01:01:15.396667",
     "status": "completed"
    },
    "pycharm": {
     "name": "#%% md\n"
    },
    "tags": []
   },
   "source": [
    "### Hourly New TEKs"
   ]
  },
  {
   "cell_type": "code",
   "execution_count": 32,
   "metadata": {
    "execution": {
     "iopub.execute_input": "2020-10-11T01:01:15.572868Z",
     "iopub.status.busy": "2020-10-11T01:01:15.572324Z",
     "iopub.status.idle": "2020-10-11T01:01:15.738745Z",
     "shell.execute_reply": "2020-10-11T01:01:15.739164Z"
    },
    "papermill": {
     "duration": 0.227648,
     "end_time": "2020-10-11T01:01:15.739328",
     "exception": false,
     "start_time": "2020-10-11T01:01:15.511680",
     "status": "completed"
    },
    "pycharm": {
     "name": "#%%\n"
    },
    "tags": []
   },
   "outputs": [
    {
     "data": {
      "text/html": [
       "<div>\n",
       "<style scoped>\n",
       "    .dataframe tbody tr th:only-of-type {\n",
       "        vertical-align: middle;\n",
       "    }\n",
       "\n",
       "    .dataframe tbody tr th {\n",
       "        vertical-align: top;\n",
       "    }\n",
       "\n",
       "    .dataframe thead th {\n",
       "        text-align: right;\n",
       "    }\n",
       "</style>\n",
       "<table border=\"1\" class=\"dataframe\">\n",
       "  <thead>\n",
       "    <tr style=\"text-align: right;\">\n",
       "      <th></th>\n",
       "      <th>region</th>\n",
       "      <th>sample_date</th>\n",
       "      <th>tek_list</th>\n",
       "      <th>extraction_date</th>\n",
       "      <th>extraction_date_with_hour</th>\n",
       "    </tr>\n",
       "  </thead>\n",
       "  <tbody>\n",
       "    <tr>\n",
       "      <th>1</th>\n",
       "      <td>ES</td>\n",
       "      <td>2020-09-28</td>\n",
       "      <td>[ab8bea9b-1297-dfd8-e8c9-6fb1d3f8f0a3, a399110...</td>\n",
       "      <td>2020-10-11</td>\n",
       "      <td>2020-10-11@01</td>\n",
       "    </tr>\n",
       "    <tr>\n",
       "      <th>4</th>\n",
       "      <td>ES</td>\n",
       "      <td>2020-09-29</td>\n",
       "      <td>[8fd5c4a6-155d-d21f-e8ae-9e7821d04186, 170af8e...</td>\n",
       "      <td>2020-10-11</td>\n",
       "      <td>2020-10-11@01</td>\n",
       "    </tr>\n",
       "    <tr>\n",
       "      <th>7</th>\n",
       "      <td>ES</td>\n",
       "      <td>2020-09-30</td>\n",
       "      <td>[c83b5143-b48d-0f8f-dd7e-f4518c12b997, 93e264e...</td>\n",
       "      <td>2020-10-11</td>\n",
       "      <td>2020-10-11@01</td>\n",
       "    </tr>\n",
       "    <tr>\n",
       "      <th>10</th>\n",
       "      <td>ES</td>\n",
       "      <td>2020-10-01</td>\n",
       "      <td>[ab772a7f-66cb-0023-c809-1833b0938bf4, 3fe0c22...</td>\n",
       "      <td>2020-10-11</td>\n",
       "      <td>2020-10-11@01</td>\n",
       "    </tr>\n",
       "    <tr>\n",
       "      <th>13</th>\n",
       "      <td>ES</td>\n",
       "      <td>2020-10-02</td>\n",
       "      <td>[35ba0609-4378-4ed2-e2ae-2b330105bfda, 3a172b2...</td>\n",
       "      <td>2020-10-11</td>\n",
       "      <td>2020-10-11@01</td>\n",
       "    </tr>\n",
       "  </tbody>\n",
       "</table>\n",
       "</div>"
      ],
      "text/plain": [
       "   region sample_date                                           tek_list  \\\n",
       "1      ES  2020-09-28  [ab8bea9b-1297-dfd8-e8c9-6fb1d3f8f0a3, a399110...   \n",
       "4      ES  2020-09-29  [8fd5c4a6-155d-d21f-e8ae-9e7821d04186, 170af8e...   \n",
       "7      ES  2020-09-30  [c83b5143-b48d-0f8f-dd7e-f4518c12b997, 93e264e...   \n",
       "10     ES  2020-10-01  [ab772a7f-66cb-0023-c809-1833b0938bf4, 3fe0c22...   \n",
       "13     ES  2020-10-02  [35ba0609-4378-4ed2-e2ae-2b330105bfda, 3a172b2...   \n",
       "\n",
       "   extraction_date extraction_date_with_hour  \n",
       "1       2020-10-11             2020-10-11@01  \n",
       "4       2020-10-11             2020-10-11@01  \n",
       "7       2020-10-11             2020-10-11@01  \n",
       "10      2020-10-11             2020-10-11@01  \n",
       "13      2020-10-11             2020-10-11@01  "
      ]
     },
     "execution_count": 32,
     "metadata": {},
     "output_type": "execute_result"
    }
   ],
   "source": [
    "hourly_extracted_teks_df = load_extracted_teks(\n",
    "    mode=\"Hourly\", region=spain_region_country_code, limit=25)\n",
    "hourly_extracted_teks_df.head()"
   ]
  },
  {
   "cell_type": "code",
   "execution_count": 33,
   "metadata": {
    "collapsed": false,
    "execution": {
     "iopub.execute_input": "2020-10-11T01:01:15.857971Z",
     "iopub.status.busy": "2020-10-11T01:01:15.857504Z",
     "iopub.status.idle": "2020-10-11T01:01:15.889889Z",
     "shell.execute_reply": "2020-10-11T01:01:15.889446Z"
    },
    "papermill": {
     "duration": 0.091957,
     "end_time": "2020-10-11T01:01:15.890005",
     "exception": false,
     "start_time": "2020-10-11T01:01:15.798048",
     "status": "completed"
    },
    "pycharm": {
     "name": "#%%\n"
    },
    "tags": []
   },
   "outputs": [
    {
     "data": {
      "text/html": [
       "<div>\n",
       "<style scoped>\n",
       "    .dataframe tbody tr th:only-of-type {\n",
       "        vertical-align: middle;\n",
       "    }\n",
       "\n",
       "    .dataframe tbody tr th {\n",
       "        vertical-align: top;\n",
       "    }\n",
       "\n",
       "    .dataframe thead th {\n",
       "        text-align: right;\n",
       "    }\n",
       "</style>\n",
       "<table border=\"1\" class=\"dataframe\">\n",
       "  <thead>\n",
       "    <tr style=\"text-align: right;\">\n",
       "      <th></th>\n",
       "      <th>extraction_date_with_hour</th>\n",
       "      <th>shared_teks_by_upload_date</th>\n",
       "    </tr>\n",
       "  </thead>\n",
       "  <tbody>\n",
       "    <tr>\n",
       "      <th>0</th>\n",
       "      <td>2020-10-09@22</td>\n",
       "      <td>0</td>\n",
       "    </tr>\n",
       "    <tr>\n",
       "      <th>1</th>\n",
       "      <td>2020-10-09@23</td>\n",
       "      <td>0</td>\n",
       "    </tr>\n",
       "    <tr>\n",
       "      <th>2</th>\n",
       "      <td>2020-10-10@01</td>\n",
       "      <td>5</td>\n",
       "    </tr>\n",
       "    <tr>\n",
       "      <th>3</th>\n",
       "      <td>2020-10-10@02</td>\n",
       "      <td>0</td>\n",
       "    </tr>\n",
       "    <tr>\n",
       "      <th>4</th>\n",
       "      <td>2020-10-10@03</td>\n",
       "      <td>29</td>\n",
       "    </tr>\n",
       "  </tbody>\n",
       "</table>\n",
       "</div>"
      ],
      "text/plain": [
       "  extraction_date_with_hour  shared_teks_by_upload_date\n",
       "0             2020-10-09@22                           0\n",
       "1             2020-10-09@23                           0\n",
       "2             2020-10-10@01                           5\n",
       "3             2020-10-10@02                           0\n",
       "4             2020-10-10@03                          29"
      ]
     },
     "execution_count": 33,
     "metadata": {},
     "output_type": "execute_result"
    }
   ],
   "source": [
    "hourly_new_tek_count_df = hourly_extracted_teks_df \\\n",
    "    .groupby(\"extraction_date_with_hour\").tek_list. \\\n",
    "    apply(lambda x: set(sum(x, []))).reset_index().copy()\n",
    "hourly_new_tek_count_df = hourly_new_tek_count_df.set_index(\"extraction_date_with_hour\") \\\n",
    "    .sort_index(ascending=True)\n",
    "\n",
    "hourly_new_tek_count_df[\"new_tek_list\"] = hourly_new_tek_count_df.tek_list.diff()\n",
    "hourly_new_tek_count_df[\"new_tek_count\"] = hourly_new_tek_count_df.new_tek_list.apply(\n",
    "    lambda x: len(x) if not pd.isna(x) else 0)\n",
    "hourly_new_tek_count_df.rename(columns={\n",
    "    \"new_tek_count\": \"shared_teks_by_upload_date\"}, inplace=True)\n",
    "hourly_new_tek_count_df = hourly_new_tek_count_df.reset_index()[[\n",
    "    \"extraction_date_with_hour\", \"shared_teks_by_upload_date\"]]\n",
    "hourly_new_tek_count_df.head()"
   ]
  },
  {
   "cell_type": "code",
   "execution_count": 34,
   "metadata": {
    "execution": {
     "iopub.execute_input": "2020-10-11T01:01:16.026424Z",
     "iopub.status.busy": "2020-10-11T01:01:16.025897Z",
     "iopub.status.idle": "2020-10-11T01:01:16.052602Z",
     "shell.execute_reply": "2020-10-11T01:01:16.053044Z"
    },
    "papermill": {
     "duration": 0.105616,
     "end_time": "2020-10-11T01:01:16.053204",
     "exception": false,
     "start_time": "2020-10-11T01:01:15.947588",
     "status": "completed"
    },
    "pycharm": {
     "name": "#%%\n"
    },
    "tags": []
   },
   "outputs": [
    {
     "data": {
      "text/html": [
       "<div>\n",
       "<style scoped>\n",
       "    .dataframe tbody tr th:only-of-type {\n",
       "        vertical-align: middle;\n",
       "    }\n",
       "\n",
       "    .dataframe tbody tr th {\n",
       "        vertical-align: top;\n",
       "    }\n",
       "\n",
       "    .dataframe thead th {\n",
       "        text-align: right;\n",
       "    }\n",
       "</style>\n",
       "<table border=\"1\" class=\"dataframe\">\n",
       "  <thead>\n",
       "    <tr style=\"text-align: right;\">\n",
       "      <th></th>\n",
       "      <th>extraction_date_with_hour</th>\n",
       "      <th>shared_diagnoses</th>\n",
       "    </tr>\n",
       "  </thead>\n",
       "  <tbody>\n",
       "    <tr>\n",
       "      <th>0</th>\n",
       "      <td>2020-10-09@22</td>\n",
       "      <td>0</td>\n",
       "    </tr>\n",
       "    <tr>\n",
       "      <th>1</th>\n",
       "      <td>2020-10-09@23</td>\n",
       "      <td>0</td>\n",
       "    </tr>\n",
       "    <tr>\n",
       "      <th>2</th>\n",
       "      <td>2020-10-10@01</td>\n",
       "      <td>0</td>\n",
       "    </tr>\n",
       "    <tr>\n",
       "      <th>3</th>\n",
       "      <td>2020-10-10@02</td>\n",
       "      <td>0</td>\n",
       "    </tr>\n",
       "    <tr>\n",
       "      <th>4</th>\n",
       "      <td>2020-10-10@03</td>\n",
       "      <td>29</td>\n",
       "    </tr>\n",
       "  </tbody>\n",
       "</table>\n",
       "</div>"
      ],
      "text/plain": [
       "  extraction_date_with_hour  shared_diagnoses\n",
       "0             2020-10-09@22                 0\n",
       "1             2020-10-09@23                 0\n",
       "2             2020-10-10@01                 0\n",
       "3             2020-10-10@02                 0\n",
       "4             2020-10-10@03                29"
      ]
     },
     "execution_count": 34,
     "metadata": {},
     "output_type": "execute_result"
    }
   ],
   "source": [
    "hourly_estimated_shared_diagnoses_df = hourly_extracted_teks_df.copy()\n",
    "hourly_estimated_shared_diagnoses_df[\"new_sample_extraction_date\"] = \\\n",
    "    pd.to_datetime(hourly_estimated_shared_diagnoses_df.sample_date) + datetime.timedelta(1)\n",
    "hourly_estimated_shared_diagnoses_df[\"extraction_date\"] = \\\n",
    "    pd.to_datetime(hourly_estimated_shared_diagnoses_df.extraction_date)\n",
    "\n",
    "hourly_estimated_shared_diagnoses_df = hourly_estimated_shared_diagnoses_df[\n",
    "    hourly_estimated_shared_diagnoses_df.new_sample_extraction_date ==\n",
    "    hourly_estimated_shared_diagnoses_df.extraction_date]\n",
    "hourly_estimated_shared_diagnoses_df = \\\n",
    "    hourly_estimated_shared_diagnoses_df.merge(same_day_tek_list_df, how=\"left\", on=[\"extraction_date\"])\n",
    "hourly_estimated_shared_diagnoses_df[\"same_day_tek_list\"] = \\\n",
    "    hourly_estimated_shared_diagnoses_df.same_day_tek_list.apply(lambda x: [] if x is np.nan else x)\n",
    "hourly_estimated_shared_diagnoses_df[\"shared_diagnoses\"] = hourly_estimated_shared_diagnoses_df.apply(\n",
    "    lambda x: len(set(x.tek_list).difference(x.same_day_tek_list)), axis=1)\n",
    "hourly_estimated_shared_diagnoses_df = \\\n",
    "    hourly_estimated_shared_diagnoses_df.sort_values(\"extraction_date_with_hour\").copy()\n",
    "hourly_estimated_shared_diagnoses_df[\"shared_diagnoses\"] = hourly_estimated_shared_diagnoses_df \\\n",
    "    .groupby(\"extraction_date\").shared_diagnoses.diff() \\\n",
    "    .fillna(0).astype(int)\n",
    "\n",
    "hourly_estimated_shared_diagnoses_df.set_index(\"extraction_date_with_hour\", inplace=True)\n",
    "hourly_estimated_shared_diagnoses_df.reset_index(inplace=True)\n",
    "hourly_estimated_shared_diagnoses_df = hourly_estimated_shared_diagnoses_df[[\n",
    "    \"extraction_date_with_hour\", \"shared_diagnoses\"]]\n",
    "hourly_estimated_shared_diagnoses_df.head()"
   ]
  },
  {
   "cell_type": "code",
   "execution_count": 35,
   "metadata": {
    "collapsed": false,
    "execution": {
     "iopub.execute_input": "2020-10-11T01:01:16.188864Z",
     "iopub.status.busy": "2020-10-11T01:01:16.185937Z",
     "iopub.status.idle": "2020-10-11T01:01:16.191139Z",
     "shell.execute_reply": "2020-10-11T01:01:16.191595Z"
    },
    "papermill": {
     "duration": 0.081428,
     "end_time": "2020-10-11T01:01:16.191736",
     "exception": false,
     "start_time": "2020-10-11T01:01:16.110308",
     "status": "completed"
    },
    "pycharm": {
     "name": "#%%\n"
    },
    "tags": []
   },
   "outputs": [
    {
     "data": {
      "text/html": [
       "<div>\n",
       "<style scoped>\n",
       "    .dataframe tbody tr th:only-of-type {\n",
       "        vertical-align: middle;\n",
       "    }\n",
       "\n",
       "    .dataframe tbody tr th {\n",
       "        vertical-align: top;\n",
       "    }\n",
       "\n",
       "    .dataframe thead th {\n",
       "        text-align: right;\n",
       "    }\n",
       "</style>\n",
       "<table border=\"1\" class=\"dataframe\">\n",
       "  <thead>\n",
       "    <tr style=\"text-align: right;\">\n",
       "      <th></th>\n",
       "      <th>extraction_date_with_hour</th>\n",
       "      <th>shared_teks_by_upload_date</th>\n",
       "      <th>shared_diagnoses</th>\n",
       "    </tr>\n",
       "    <tr>\n",
       "      <th>datetime_utc</th>\n",
       "      <th></th>\n",
       "      <th></th>\n",
       "      <th></th>\n",
       "    </tr>\n",
       "  </thead>\n",
       "  <tbody>\n",
       "    <tr>\n",
       "      <th>2020-10-09 23:00:00</th>\n",
       "      <td>2020-10-09@23</td>\n",
       "      <td>0</td>\n",
       "      <td>0.0</td>\n",
       "    </tr>\n",
       "    <tr>\n",
       "      <th>2020-10-10 01:00:00</th>\n",
       "      <td>2020-10-10@01</td>\n",
       "      <td>5</td>\n",
       "      <td>0.0</td>\n",
       "    </tr>\n",
       "    <tr>\n",
       "      <th>2020-10-10 02:00:00</th>\n",
       "      <td>2020-10-10@02</td>\n",
       "      <td>0</td>\n",
       "      <td>0.0</td>\n",
       "    </tr>\n",
       "    <tr>\n",
       "      <th>2020-10-10 03:00:00</th>\n",
       "      <td>2020-10-10@03</td>\n",
       "      <td>29</td>\n",
       "      <td>29.0</td>\n",
       "    </tr>\n",
       "    <tr>\n",
       "      <th>2020-10-10 04:00:00</th>\n",
       "      <td>2020-10-10@04</td>\n",
       "      <td>6</td>\n",
       "      <td>6.0</td>\n",
       "    </tr>\n",
       "  </tbody>\n",
       "</table>\n",
       "</div>"
      ],
      "text/plain": [
       "                    extraction_date_with_hour  shared_teks_by_upload_date  \\\n",
       "datetime_utc                                                                \n",
       "2020-10-09 23:00:00             2020-10-09@23                           0   \n",
       "2020-10-10 01:00:00             2020-10-10@01                           5   \n",
       "2020-10-10 02:00:00             2020-10-10@02                           0   \n",
       "2020-10-10 03:00:00             2020-10-10@03                          29   \n",
       "2020-10-10 04:00:00             2020-10-10@04                           6   \n",
       "\n",
       "                     shared_diagnoses  \n",
       "datetime_utc                           \n",
       "2020-10-09 23:00:00               0.0  \n",
       "2020-10-10 01:00:00               0.0  \n",
       "2020-10-10 02:00:00               0.0  \n",
       "2020-10-10 03:00:00              29.0  \n",
       "2020-10-10 04:00:00               6.0  "
      ]
     },
     "execution_count": 35,
     "metadata": {},
     "output_type": "execute_result"
    }
   ],
   "source": [
    "hourly_summary_df = hourly_new_tek_count_df.merge(\n",
    "    hourly_estimated_shared_diagnoses_df, on=[\"extraction_date_with_hour\"], how=\"outer\")\n",
    "hourly_summary_df[\"datetime_utc\"] = pd.to_datetime(\n",
    "    hourly_summary_df.extraction_date_with_hour, format=\"%Y-%m-%d@%H\")\n",
    "hourly_summary_df.set_index(\"datetime_utc\", inplace=True)\n",
    "hourly_summary_df = hourly_summary_df.tail(-1)\n",
    "hourly_summary_df.head()"
   ]
  },
  {
   "cell_type": "markdown",
   "metadata": {
    "collapsed": false,
    "papermill": {
     "duration": 0.056918,
     "end_time": "2020-10-11T01:01:16.305392",
     "exception": false,
     "start_time": "2020-10-11T01:01:16.248474",
     "status": "completed"
    },
    "pycharm": {
     "name": "#%% md\n"
    },
    "tags": []
   },
   "source": [
    "### Data Merge"
   ]
  },
  {
   "cell_type": "code",
   "execution_count": 36,
   "metadata": {
    "collapsed": false,
    "execution": {
     "iopub.execute_input": "2020-10-11T01:01:16.426543Z",
     "iopub.status.busy": "2020-10-11T01:01:16.426031Z",
     "iopub.status.idle": "2020-10-11T01:01:16.430488Z",
     "shell.execute_reply": "2020-10-11T01:01:16.430049Z"
    },
    "papermill": {
     "duration": 0.070026,
     "end_time": "2020-10-11T01:01:16.430602",
     "exception": false,
     "start_time": "2020-10-11T01:01:16.360576",
     "status": "completed"
    },
    "pycharm": {
     "name": "#%%\n"
    },
    "tags": []
   },
   "outputs": [
    {
     "data": {
      "text/html": [
       "<div>\n",
       "<style scoped>\n",
       "    .dataframe tbody tr th:only-of-type {\n",
       "        vertical-align: middle;\n",
       "    }\n",
       "\n",
       "    .dataframe tbody tr th {\n",
       "        vertical-align: top;\n",
       "    }\n",
       "\n",
       "    .dataframe thead th {\n",
       "        text-align: right;\n",
       "    }\n",
       "</style>\n",
       "<table border=\"1\" class=\"dataframe\">\n",
       "  <thead>\n",
       "    <tr style=\"text-align: right;\">\n",
       "      <th></th>\n",
       "      <th>sample_date_string</th>\n",
       "      <th>shared_teks_by_generation_date</th>\n",
       "      <th>shared_teks_by_upload_date</th>\n",
       "    </tr>\n",
       "  </thead>\n",
       "  <tbody>\n",
       "    <tr>\n",
       "      <th>0</th>\n",
       "      <td>2020-10-09</td>\n",
       "      <td>135.0</td>\n",
       "      <td>348.0</td>\n",
       "    </tr>\n",
       "    <tr>\n",
       "      <th>1</th>\n",
       "      <td>2020-10-08</td>\n",
       "      <td>192.0</td>\n",
       "      <td>272.0</td>\n",
       "    </tr>\n",
       "    <tr>\n",
       "      <th>2</th>\n",
       "      <td>2020-10-07</td>\n",
       "      <td>220.0</td>\n",
       "      <td>178.0</td>\n",
       "    </tr>\n",
       "    <tr>\n",
       "      <th>3</th>\n",
       "      <td>2020-10-06</td>\n",
       "      <td>284.0</td>\n",
       "      <td>233.0</td>\n",
       "    </tr>\n",
       "    <tr>\n",
       "      <th>4</th>\n",
       "      <td>2020-10-05</td>\n",
       "      <td>294.0</td>\n",
       "      <td>273.0</td>\n",
       "    </tr>\n",
       "  </tbody>\n",
       "</table>\n",
       "</div>"
      ],
      "text/plain": [
       "  sample_date_string  shared_teks_by_generation_date  \\\n",
       "0         2020-10-09                           135.0   \n",
       "1         2020-10-08                           192.0   \n",
       "2         2020-10-07                           220.0   \n",
       "3         2020-10-06                           284.0   \n",
       "4         2020-10-05                           294.0   \n",
       "\n",
       "   shared_teks_by_upload_date  \n",
       "0                       348.0  \n",
       "1                       272.0  \n",
       "2                       178.0  \n",
       "3                       233.0  \n",
       "4                       273.0  "
      ]
     },
     "execution_count": 36,
     "metadata": {},
     "output_type": "execute_result"
    }
   ],
   "source": [
    "result_summary_df = exposure_keys_summary_df.merge(\n",
    "    new_tek_df, on=[\"sample_date_string\"], how=\"outer\")\n",
    "result_summary_df.head()"
   ]
  },
  {
   "cell_type": "code",
   "execution_count": 37,
   "metadata": {
    "execution": {
     "iopub.execute_input": "2020-10-11T01:01:16.544914Z",
     "iopub.status.busy": "2020-10-11T01:01:16.544442Z",
     "iopub.status.idle": "2020-10-11T01:01:16.547745Z",
     "shell.execute_reply": "2020-10-11T01:01:16.548317Z"
    },
    "papermill": {
     "duration": 0.066028,
     "end_time": "2020-10-11T01:01:16.548447",
     "exception": false,
     "start_time": "2020-10-11T01:01:16.482419",
     "status": "completed"
    },
    "tags": []
   },
   "outputs": [
    {
     "data": {
      "text/html": [
       "<div>\n",
       "<style scoped>\n",
       "    .dataframe tbody tr th:only-of-type {\n",
       "        vertical-align: middle;\n",
       "    }\n",
       "\n",
       "    .dataframe tbody tr th {\n",
       "        vertical-align: top;\n",
       "    }\n",
       "\n",
       "    .dataframe thead th {\n",
       "        text-align: right;\n",
       "    }\n",
       "</style>\n",
       "<table border=\"1\" class=\"dataframe\">\n",
       "  <thead>\n",
       "    <tr style=\"text-align: right;\">\n",
       "      <th></th>\n",
       "      <th>sample_date_string</th>\n",
       "      <th>shared_teks_by_generation_date</th>\n",
       "      <th>shared_teks_by_upload_date</th>\n",
       "      <th>shared_teks_uploaded_on_generation_date</th>\n",
       "    </tr>\n",
       "  </thead>\n",
       "  <tbody>\n",
       "    <tr>\n",
       "      <th>0</th>\n",
       "      <td>2020-10-09</td>\n",
       "      <td>135.0</td>\n",
       "      <td>348.0</td>\n",
       "      <td>1.0</td>\n",
       "    </tr>\n",
       "    <tr>\n",
       "      <th>1</th>\n",
       "      <td>2020-10-08</td>\n",
       "      <td>192.0</td>\n",
       "      <td>272.0</td>\n",
       "      <td>1.0</td>\n",
       "    </tr>\n",
       "    <tr>\n",
       "      <th>2</th>\n",
       "      <td>2020-10-07</td>\n",
       "      <td>220.0</td>\n",
       "      <td>178.0</td>\n",
       "      <td>NaN</td>\n",
       "    </tr>\n",
       "    <tr>\n",
       "      <th>3</th>\n",
       "      <td>2020-10-06</td>\n",
       "      <td>284.0</td>\n",
       "      <td>233.0</td>\n",
       "      <td>60.0</td>\n",
       "    </tr>\n",
       "    <tr>\n",
       "      <th>4</th>\n",
       "      <td>2020-10-05</td>\n",
       "      <td>294.0</td>\n",
       "      <td>273.0</td>\n",
       "      <td>52.0</td>\n",
       "    </tr>\n",
       "  </tbody>\n",
       "</table>\n",
       "</div>"
      ],
      "text/plain": [
       "  sample_date_string  shared_teks_by_generation_date  \\\n",
       "0         2020-10-09                           135.0   \n",
       "1         2020-10-08                           192.0   \n",
       "2         2020-10-07                           220.0   \n",
       "3         2020-10-06                           284.0   \n",
       "4         2020-10-05                           294.0   \n",
       "\n",
       "   shared_teks_by_upload_date  shared_teks_uploaded_on_generation_date  \n",
       "0                       348.0                                      1.0  \n",
       "1                       272.0                                      1.0  \n",
       "2                       178.0                                      NaN  \n",
       "3                       233.0                                     60.0  \n",
       "4                       273.0                                     52.0  "
      ]
     },
     "execution_count": 37,
     "metadata": {},
     "output_type": "execute_result"
    }
   ],
   "source": [
    "result_summary_df = result_summary_df.merge(\n",
    "    shared_teks_uploaded_on_generation_date_df, on=[\"sample_date_string\"], how=\"outer\")\n",
    "result_summary_df.head()"
   ]
  },
  {
   "cell_type": "code",
   "execution_count": 38,
   "metadata": {
    "collapsed": false,
    "execution": {
     "iopub.execute_input": "2020-10-11T01:01:16.665303Z",
     "iopub.status.busy": "2020-10-11T01:01:16.664786Z",
     "iopub.status.idle": "2020-10-11T01:01:16.667162Z",
     "shell.execute_reply": "2020-10-11T01:01:16.667552Z"
    },
    "papermill": {
     "duration": 0.066433,
     "end_time": "2020-10-11T01:01:16.667684",
     "exception": false,
     "start_time": "2020-10-11T01:01:16.601251",
     "status": "completed"
    },
    "pycharm": {
     "name": "#%%\n"
    },
    "tags": []
   },
   "outputs": [
    {
     "data": {
      "text/html": [
       "<div>\n",
       "<style scoped>\n",
       "    .dataframe tbody tr th:only-of-type {\n",
       "        vertical-align: middle;\n",
       "    }\n",
       "\n",
       "    .dataframe tbody tr th {\n",
       "        vertical-align: top;\n",
       "    }\n",
       "\n",
       "    .dataframe thead th {\n",
       "        text-align: right;\n",
       "    }\n",
       "</style>\n",
       "<table border=\"1\" class=\"dataframe\">\n",
       "  <thead>\n",
       "    <tr style=\"text-align: right;\">\n",
       "      <th></th>\n",
       "      <th>sample_date_string</th>\n",
       "      <th>shared_teks_by_generation_date</th>\n",
       "      <th>shared_teks_by_upload_date</th>\n",
       "      <th>shared_teks_uploaded_on_generation_date</th>\n",
       "      <th>shared_diagnoses</th>\n",
       "    </tr>\n",
       "  </thead>\n",
       "  <tbody>\n",
       "    <tr>\n",
       "      <th>0</th>\n",
       "      <td>2020-10-09</td>\n",
       "      <td>135.0</td>\n",
       "      <td>348.0</td>\n",
       "      <td>1.0</td>\n",
       "      <td>105.0</td>\n",
       "    </tr>\n",
       "    <tr>\n",
       "      <th>1</th>\n",
       "      <td>2020-10-08</td>\n",
       "      <td>192.0</td>\n",
       "      <td>272.0</td>\n",
       "      <td>1.0</td>\n",
       "      <td>86.0</td>\n",
       "    </tr>\n",
       "    <tr>\n",
       "      <th>2</th>\n",
       "      <td>2020-10-07</td>\n",
       "      <td>220.0</td>\n",
       "      <td>178.0</td>\n",
       "      <td>NaN</td>\n",
       "      <td>54.0</td>\n",
       "    </tr>\n",
       "    <tr>\n",
       "      <th>3</th>\n",
       "      <td>2020-10-06</td>\n",
       "      <td>284.0</td>\n",
       "      <td>233.0</td>\n",
       "      <td>60.0</td>\n",
       "      <td>56.0</td>\n",
       "    </tr>\n",
       "    <tr>\n",
       "      <th>4</th>\n",
       "      <td>2020-10-05</td>\n",
       "      <td>294.0</td>\n",
       "      <td>273.0</td>\n",
       "      <td>52.0</td>\n",
       "      <td>69.0</td>\n",
       "    </tr>\n",
       "  </tbody>\n",
       "</table>\n",
       "</div>"
      ],
      "text/plain": [
       "  sample_date_string  shared_teks_by_generation_date  \\\n",
       "0         2020-10-09                           135.0   \n",
       "1         2020-10-08                           192.0   \n",
       "2         2020-10-07                           220.0   \n",
       "3         2020-10-06                           284.0   \n",
       "4         2020-10-05                           294.0   \n",
       "\n",
       "   shared_teks_by_upload_date  shared_teks_uploaded_on_generation_date  \\\n",
       "0                       348.0                                      1.0   \n",
       "1                       272.0                                      1.0   \n",
       "2                       178.0                                      NaN   \n",
       "3                       233.0                                     60.0   \n",
       "4                       273.0                                     52.0   \n",
       "\n",
       "   shared_diagnoses  \n",
       "0             105.0  \n",
       "1              86.0  \n",
       "2              54.0  \n",
       "3              56.0  \n",
       "4              69.0  "
      ]
     },
     "execution_count": 38,
     "metadata": {},
     "output_type": "execute_result"
    }
   ],
   "source": [
    "result_summary_df = result_summary_df.merge(\n",
    "    estimated_shared_diagnoses_df, on=[\"sample_date_string\"], how=\"outer\")\n",
    "result_summary_df.head()"
   ]
  },
  {
   "cell_type": "code",
   "execution_count": 39,
   "metadata": {
    "collapsed": false,
    "execution": {
     "iopub.execute_input": "2020-10-11T01:01:16.794165Z",
     "iopub.status.busy": "2020-10-11T01:01:16.793351Z",
     "iopub.status.idle": "2020-10-11T01:01:16.808592Z",
     "shell.execute_reply": "2020-10-11T01:01:16.808109Z"
    },
    "papermill": {
     "duration": 0.081198,
     "end_time": "2020-10-11T01:01:16.808712",
     "exception": false,
     "start_time": "2020-10-11T01:01:16.727514",
     "status": "completed"
    },
    "pycharm": {
     "name": "#%%\n"
    },
    "tags": []
   },
   "outputs": [
    {
     "data": {
      "text/html": [
       "<div>\n",
       "<style scoped>\n",
       "    .dataframe tbody tr th:only-of-type {\n",
       "        vertical-align: middle;\n",
       "    }\n",
       "\n",
       "    .dataframe tbody tr th {\n",
       "        vertical-align: top;\n",
       "    }\n",
       "\n",
       "    .dataframe thead th {\n",
       "        text-align: right;\n",
       "    }\n",
       "</style>\n",
       "<table border=\"1\" class=\"dataframe\">\n",
       "  <thead>\n",
       "    <tr style=\"text-align: right;\">\n",
       "      <th></th>\n",
       "      <th>sample_date_string</th>\n",
       "      <th>cumulative_cases</th>\n",
       "      <th>new_cases</th>\n",
       "      <th>covid_cases</th>\n",
       "      <th>shared_teks_by_generation_date</th>\n",
       "      <th>shared_teks_by_upload_date</th>\n",
       "      <th>shared_teks_uploaded_on_generation_date</th>\n",
       "      <th>shared_diagnoses</th>\n",
       "    </tr>\n",
       "  </thead>\n",
       "  <tbody>\n",
       "    <tr>\n",
       "      <th>0</th>\n",
       "      <td>2020-07-20</td>\n",
       "      <td>264836.0</td>\n",
       "      <td>0.0</td>\n",
       "      <td>1174</td>\n",
       "      <td>NaN</td>\n",
       "      <td>NaN</td>\n",
       "      <td>NaN</td>\n",
       "      <td>NaN</td>\n",
       "    </tr>\n",
       "    <tr>\n",
       "      <th>1</th>\n",
       "      <td>2020-07-21</td>\n",
       "      <td>266194.0</td>\n",
       "      <td>1358.0</td>\n",
       "      <td>1243</td>\n",
       "      <td>NaN</td>\n",
       "      <td>NaN</td>\n",
       "      <td>NaN</td>\n",
       "      <td>NaN</td>\n",
       "    </tr>\n",
       "    <tr>\n",
       "      <th>2</th>\n",
       "      <td>2020-07-22</td>\n",
       "      <td>267551.0</td>\n",
       "      <td>1357.0</td>\n",
       "      <td>1242</td>\n",
       "      <td>NaN</td>\n",
       "      <td>NaN</td>\n",
       "      <td>NaN</td>\n",
       "      <td>NaN</td>\n",
       "    </tr>\n",
       "    <tr>\n",
       "      <th>3</th>\n",
       "      <td>2020-07-23</td>\n",
       "      <td>270166.0</td>\n",
       "      <td>2615.0</td>\n",
       "      <td>1416</td>\n",
       "      <td>NaN</td>\n",
       "      <td>NaN</td>\n",
       "      <td>NaN</td>\n",
       "      <td>NaN</td>\n",
       "    </tr>\n",
       "    <tr>\n",
       "      <th>4</th>\n",
       "      <td>2020-07-24</td>\n",
       "      <td>272421.0</td>\n",
       "      <td>2255.0</td>\n",
       "      <td>1738</td>\n",
       "      <td>NaN</td>\n",
       "      <td>NaN</td>\n",
       "      <td>NaN</td>\n",
       "      <td>NaN</td>\n",
       "    </tr>\n",
       "  </tbody>\n",
       "</table>\n",
       "</div>"
      ],
      "text/plain": [
       "  sample_date_string  cumulative_cases  new_cases  covid_cases  \\\n",
       "0         2020-07-20          264836.0        0.0         1174   \n",
       "1         2020-07-21          266194.0     1358.0         1243   \n",
       "2         2020-07-22          267551.0     1357.0         1242   \n",
       "3         2020-07-23          270166.0     2615.0         1416   \n",
       "4         2020-07-24          272421.0     2255.0         1738   \n",
       "\n",
       "   shared_teks_by_generation_date  shared_teks_by_upload_date  \\\n",
       "0                             NaN                         NaN   \n",
       "1                             NaN                         NaN   \n",
       "2                             NaN                         NaN   \n",
       "3                             NaN                         NaN   \n",
       "4                             NaN                         NaN   \n",
       "\n",
       "   shared_teks_uploaded_on_generation_date  shared_diagnoses  \n",
       "0                                      NaN               NaN  \n",
       "1                                      NaN               NaN  \n",
       "2                                      NaN               NaN  \n",
       "3                                      NaN               NaN  \n",
       "4                                      NaN               NaN  "
      ]
     },
     "execution_count": 39,
     "metadata": {},
     "output_type": "execute_result"
    }
   ],
   "source": [
    "result_summary_df = confirmed_df.tail(daily_summary_days).merge(\n",
    "    result_summary_df, on=[\"sample_date_string\"], how=\"left\")\n",
    "result_summary_df.head()"
   ]
  },
  {
   "cell_type": "code",
   "execution_count": 40,
   "metadata": {
    "collapsed": false,
    "execution": {
     "iopub.execute_input": "2020-10-11T01:01:16.942133Z",
     "iopub.status.busy": "2020-10-11T01:01:16.941565Z",
     "iopub.status.idle": "2020-10-11T01:01:16.943758Z",
     "shell.execute_reply": "2020-10-11T01:01:16.944167Z"
    },
    "papermill": {
     "duration": 0.078067,
     "end_time": "2020-10-11T01:01:16.944328",
     "exception": false,
     "start_time": "2020-10-11T01:01:16.866261",
     "status": "completed"
    },
    "pycharm": {
     "name": "#%%\n"
    },
    "tags": []
   },
   "outputs": [
    {
     "data": {
      "text/html": [
       "<div>\n",
       "<style scoped>\n",
       "    .dataframe tbody tr th:only-of-type {\n",
       "        vertical-align: middle;\n",
       "    }\n",
       "\n",
       "    .dataframe tbody tr th {\n",
       "        vertical-align: top;\n",
       "    }\n",
       "\n",
       "    .dataframe thead th {\n",
       "        text-align: right;\n",
       "    }\n",
       "</style>\n",
       "<table border=\"1\" class=\"dataframe\">\n",
       "  <thead>\n",
       "    <tr style=\"text-align: right;\">\n",
       "      <th></th>\n",
       "      <th>cumulative_cases</th>\n",
       "      <th>new_cases</th>\n",
       "      <th>covid_cases</th>\n",
       "      <th>shared_teks_by_generation_date</th>\n",
       "      <th>shared_teks_by_upload_date</th>\n",
       "      <th>shared_teks_uploaded_on_generation_date</th>\n",
       "      <th>shared_diagnoses</th>\n",
       "    </tr>\n",
       "    <tr>\n",
       "      <th>sample_date</th>\n",
       "      <th></th>\n",
       "      <th></th>\n",
       "      <th></th>\n",
       "      <th></th>\n",
       "      <th></th>\n",
       "      <th></th>\n",
       "      <th></th>\n",
       "    </tr>\n",
       "  </thead>\n",
       "  <tbody>\n",
       "    <tr>\n",
       "      <th>2020-10-11</th>\n",
       "      <td>871281.0</td>\n",
       "      <td>10169.0</td>\n",
       "      <td>10169</td>\n",
       "      <td>NaN</td>\n",
       "      <td>8.0</td>\n",
       "      <td>NaN</td>\n",
       "      <td>NaN</td>\n",
       "    </tr>\n",
       "    <tr>\n",
       "      <th>2020-10-10</th>\n",
       "      <td>861112.0</td>\n",
       "      <td>0.0</td>\n",
       "      <td>10169</td>\n",
       "      <td>NaN</td>\n",
       "      <td>429.0</td>\n",
       "      <td>NaN</td>\n",
       "      <td>133.0</td>\n",
       "    </tr>\n",
       "    <tr>\n",
       "      <th>2020-10-09</th>\n",
       "      <td>861112.0</td>\n",
       "      <td>12788.0</td>\n",
       "      <td>10169</td>\n",
       "      <td>135.0</td>\n",
       "      <td>348.0</td>\n",
       "      <td>1.0</td>\n",
       "      <td>105.0</td>\n",
       "    </tr>\n",
       "    <tr>\n",
       "      <th>2020-10-08</th>\n",
       "      <td>848324.0</td>\n",
       "      <td>12423.0</td>\n",
       "      <td>9960</td>\n",
       "      <td>192.0</td>\n",
       "      <td>272.0</td>\n",
       "      <td>1.0</td>\n",
       "      <td>86.0</td>\n",
       "    </tr>\n",
       "    <tr>\n",
       "      <th>2020-10-07</th>\n",
       "      <td>835901.0</td>\n",
       "      <td>10491.0</td>\n",
       "      <td>9530</td>\n",
       "      <td>220.0</td>\n",
       "      <td>178.0</td>\n",
       "      <td>NaN</td>\n",
       "      <td>54.0</td>\n",
       "    </tr>\n",
       "  </tbody>\n",
       "</table>\n",
       "</div>"
      ],
      "text/plain": [
       "             cumulative_cases  new_cases  covid_cases  \\\n",
       "sample_date                                             \n",
       "2020-10-11           871281.0    10169.0        10169   \n",
       "2020-10-10           861112.0        0.0        10169   \n",
       "2020-10-09           861112.0    12788.0        10169   \n",
       "2020-10-08           848324.0    12423.0         9960   \n",
       "2020-10-07           835901.0    10491.0         9530   \n",
       "\n",
       "             shared_teks_by_generation_date  shared_teks_by_upload_date  \\\n",
       "sample_date                                                               \n",
       "2020-10-11                              NaN                         8.0   \n",
       "2020-10-10                              NaN                       429.0   \n",
       "2020-10-09                            135.0                       348.0   \n",
       "2020-10-08                            192.0                       272.0   \n",
       "2020-10-07                            220.0                       178.0   \n",
       "\n",
       "             shared_teks_uploaded_on_generation_date  shared_diagnoses  \n",
       "sample_date                                                             \n",
       "2020-10-11                                       NaN               NaN  \n",
       "2020-10-10                                       NaN             133.0  \n",
       "2020-10-09                                       1.0             105.0  \n",
       "2020-10-08                                       1.0              86.0  \n",
       "2020-10-07                                       NaN              54.0  "
      ]
     },
     "execution_count": 40,
     "metadata": {},
     "output_type": "execute_result"
    }
   ],
   "source": [
    "result_summary_df[\"sample_date\"] = pd.to_datetime(result_summary_df.sample_date_string)\n",
    "result_summary_df.set_index(\"sample_date\", inplace=True)\n",
    "result_summary_df.drop(columns=[\"sample_date_string\"], inplace=True)\n",
    "result_summary_df.sort_index(ascending=False, inplace=True)\n",
    "result_summary_df.head()"
   ]
  },
  {
   "cell_type": "code",
   "execution_count": 41,
   "metadata": {
    "collapsed": false,
    "execution": {
     "iopub.execute_input": "2020-10-11T01:01:17.074950Z",
     "iopub.status.busy": "2020-10-11T01:01:17.074436Z",
     "iopub.status.idle": "2020-10-11T01:01:17.076755Z",
     "shell.execute_reply": "2020-10-11T01:01:17.077260Z"
    },
    "papermill": {
     "duration": 0.076927,
     "end_time": "2020-10-11T01:01:17.077405",
     "exception": false,
     "start_time": "2020-10-11T01:01:17.000478",
     "status": "completed"
    },
    "pycharm": {
     "name": "#%%\n"
    },
    "tags": []
   },
   "outputs": [
    {
     "data": {
      "text/html": [
       "<div>\n",
       "<style scoped>\n",
       "    .dataframe tbody tr th:only-of-type {\n",
       "        vertical-align: middle;\n",
       "    }\n",
       "\n",
       "    .dataframe tbody tr th {\n",
       "        vertical-align: top;\n",
       "    }\n",
       "\n",
       "    .dataframe thead th {\n",
       "        text-align: right;\n",
       "    }\n",
       "</style>\n",
       "<table border=\"1\" class=\"dataframe\">\n",
       "  <thead>\n",
       "    <tr style=\"text-align: right;\">\n",
       "      <th></th>\n",
       "      <th>cumulative_cases</th>\n",
       "      <th>new_cases</th>\n",
       "      <th>covid_cases</th>\n",
       "      <th>shared_teks_by_generation_date</th>\n",
       "      <th>shared_teks_by_upload_date</th>\n",
       "      <th>shared_teks_uploaded_on_generation_date</th>\n",
       "      <th>shared_diagnoses</th>\n",
       "      <th>teks_per_shared_diagnosis</th>\n",
       "      <th>shared_diagnoses_per_covid_case</th>\n",
       "    </tr>\n",
       "    <tr>\n",
       "      <th>sample_date</th>\n",
       "      <th></th>\n",
       "      <th></th>\n",
       "      <th></th>\n",
       "      <th></th>\n",
       "      <th></th>\n",
       "      <th></th>\n",
       "      <th></th>\n",
       "      <th></th>\n",
       "      <th></th>\n",
       "    </tr>\n",
       "  </thead>\n",
       "  <tbody>\n",
       "    <tr>\n",
       "      <th>2020-10-11</th>\n",
       "      <td>871281</td>\n",
       "      <td>10169</td>\n",
       "      <td>10169</td>\n",
       "      <td>0</td>\n",
       "      <td>8</td>\n",
       "      <td>0</td>\n",
       "      <td>0</td>\n",
       "      <td>0.000000</td>\n",
       "      <td>0.000000</td>\n",
       "    </tr>\n",
       "    <tr>\n",
       "      <th>2020-10-10</th>\n",
       "      <td>861112</td>\n",
       "      <td>0</td>\n",
       "      <td>10169</td>\n",
       "      <td>0</td>\n",
       "      <td>429</td>\n",
       "      <td>0</td>\n",
       "      <td>133</td>\n",
       "      <td>3.225564</td>\n",
       "      <td>0.013079</td>\n",
       "    </tr>\n",
       "    <tr>\n",
       "      <th>2020-10-09</th>\n",
       "      <td>861112</td>\n",
       "      <td>12788</td>\n",
       "      <td>10169</td>\n",
       "      <td>135</td>\n",
       "      <td>348</td>\n",
       "      <td>1</td>\n",
       "      <td>105</td>\n",
       "      <td>3.314286</td>\n",
       "      <td>0.010325</td>\n",
       "    </tr>\n",
       "    <tr>\n",
       "      <th>2020-10-08</th>\n",
       "      <td>848324</td>\n",
       "      <td>12423</td>\n",
       "      <td>9960</td>\n",
       "      <td>192</td>\n",
       "      <td>272</td>\n",
       "      <td>1</td>\n",
       "      <td>86</td>\n",
       "      <td>3.162791</td>\n",
       "      <td>0.008635</td>\n",
       "    </tr>\n",
       "    <tr>\n",
       "      <th>2020-10-07</th>\n",
       "      <td>835901</td>\n",
       "      <td>10491</td>\n",
       "      <td>9530</td>\n",
       "      <td>220</td>\n",
       "      <td>178</td>\n",
       "      <td>0</td>\n",
       "      <td>54</td>\n",
       "      <td>3.296296</td>\n",
       "      <td>0.005666</td>\n",
       "    </tr>\n",
       "    <tr>\n",
       "      <th>2020-10-06</th>\n",
       "      <td>825410</td>\n",
       "      <td>11998</td>\n",
       "      <td>11021</td>\n",
       "      <td>284</td>\n",
       "      <td>233</td>\n",
       "      <td>60</td>\n",
       "      <td>56</td>\n",
       "      <td>4.160714</td>\n",
       "      <td>0.005081</td>\n",
       "    </tr>\n",
       "    <tr>\n",
       "      <th>2020-10-05</th>\n",
       "      <td>813412</td>\n",
       "      <td>23480</td>\n",
       "      <td>9307</td>\n",
       "      <td>294</td>\n",
       "      <td>273</td>\n",
       "      <td>52</td>\n",
       "      <td>69</td>\n",
       "      <td>3.956522</td>\n",
       "      <td>0.007414</td>\n",
       "    </tr>\n",
       "    <tr>\n",
       "      <th>2020-10-04</th>\n",
       "      <td>789932</td>\n",
       "      <td>0</td>\n",
       "      <td>10493</td>\n",
       "      <td>324</td>\n",
       "      <td>331</td>\n",
       "      <td>76</td>\n",
       "      <td>78</td>\n",
       "      <td>4.243590</td>\n",
       "      <td>0.007434</td>\n",
       "    </tr>\n",
       "    <tr>\n",
       "      <th>2020-10-03</th>\n",
       "      <td>789932</td>\n",
       "      <td>0</td>\n",
       "      <td>10493</td>\n",
       "      <td>295</td>\n",
       "      <td>324</td>\n",
       "      <td>69</td>\n",
       "      <td>76</td>\n",
       "      <td>4.263158</td>\n",
       "      <td>0.007243</td>\n",
       "    </tr>\n",
       "    <tr>\n",
       "      <th>2020-10-02</th>\n",
       "      <td>789932</td>\n",
       "      <td>11325</td>\n",
       "      <td>10493</td>\n",
       "      <td>303</td>\n",
       "      <td>299</td>\n",
       "      <td>72</td>\n",
       "      <td>72</td>\n",
       "      <td>4.152778</td>\n",
       "      <td>0.006862</td>\n",
       "    </tr>\n",
       "    <tr>\n",
       "      <th>2020-10-01</th>\n",
       "      <td>778607</td>\n",
       "      <td>9419</td>\n",
       "      <td>10628</td>\n",
       "      <td>311</td>\n",
       "      <td>367</td>\n",
       "      <td>75</td>\n",
       "      <td>74</td>\n",
       "      <td>4.959459</td>\n",
       "      <td>0.006963</td>\n",
       "    </tr>\n",
       "    <tr>\n",
       "      <th>2020-09-30</th>\n",
       "      <td>769188</td>\n",
       "      <td>20922</td>\n",
       "      <td>10805</td>\n",
       "      <td>291</td>\n",
       "      <td>271</td>\n",
       "      <td>55</td>\n",
       "      <td>51</td>\n",
       "      <td>5.313725</td>\n",
       "      <td>0.004720</td>\n",
       "    </tr>\n",
       "    <tr>\n",
       "      <th>2020-09-29</th>\n",
       "      <td>748266</td>\n",
       "      <td>0</td>\n",
       "      <td>9428</td>\n",
       "      <td>263</td>\n",
       "      <td>178</td>\n",
       "      <td>32</td>\n",
       "      <td>44</td>\n",
       "      <td>4.045455</td>\n",
       "      <td>0.004667</td>\n",
       "    </tr>\n",
       "    <tr>\n",
       "      <th>2020-09-28</th>\n",
       "      <td>748266</td>\n",
       "      <td>31785</td>\n",
       "      <td>10971</td>\n",
       "      <td>267</td>\n",
       "      <td>211</td>\n",
       "      <td>44</td>\n",
       "      <td>54</td>\n",
       "      <td>3.907407</td>\n",
       "      <td>0.004922</td>\n",
       "    </tr>\n",
       "    <tr>\n",
       "      <th>2020-09-27</th>\n",
       "      <td>716481</td>\n",
       "      <td>0</td>\n",
       "      <td>10920</td>\n",
       "      <td>315</td>\n",
       "      <td>449</td>\n",
       "      <td>98</td>\n",
       "      <td>108</td>\n",
       "      <td>4.157407</td>\n",
       "      <td>0.009890</td>\n",
       "    </tr>\n",
       "    <tr>\n",
       "      <th>2020-09-26</th>\n",
       "      <td>716481</td>\n",
       "      <td>0</td>\n",
       "      <td>10920</td>\n",
       "      <td>339</td>\n",
       "      <td>448</td>\n",
       "      <td>79</td>\n",
       "      <td>110</td>\n",
       "      <td>4.072727</td>\n",
       "      <td>0.010073</td>\n",
       "    </tr>\n",
       "    <tr>\n",
       "      <th>2020-09-25</th>\n",
       "      <td>716481</td>\n",
       "      <td>12272</td>\n",
       "      <td>10920</td>\n",
       "      <td>284</td>\n",
       "      <td>306</td>\n",
       "      <td>14</td>\n",
       "      <td>86</td>\n",
       "      <td>3.558140</td>\n",
       "      <td>0.007875</td>\n",
       "    </tr>\n",
       "    <tr>\n",
       "      <th>2020-09-24</th>\n",
       "      <td>704209</td>\n",
       "      <td>10653</td>\n",
       "      <td>11223</td>\n",
       "      <td>286</td>\n",
       "      <td>289</td>\n",
       "      <td>17</td>\n",
       "      <td>89</td>\n",
       "      <td>3.247191</td>\n",
       "      <td>0.007930</td>\n",
       "    </tr>\n",
       "    <tr>\n",
       "      <th>2020-09-23</th>\n",
       "      <td>693556</td>\n",
       "      <td>11289</td>\n",
       "      <td>11314</td>\n",
       "      <td>296</td>\n",
       "      <td>267</td>\n",
       "      <td>4</td>\n",
       "      <td>70</td>\n",
       "      <td>3.814286</td>\n",
       "      <td>0.006187</td>\n",
       "    </tr>\n",
       "    <tr>\n",
       "      <th>2020-09-22</th>\n",
       "      <td>682267</td>\n",
       "      <td>10799</td>\n",
       "      <td>11300</td>\n",
       "      <td>282</td>\n",
       "      <td>148</td>\n",
       "      <td>0</td>\n",
       "      <td>55</td>\n",
       "      <td>2.690909</td>\n",
       "      <td>0.004867</td>\n",
       "    </tr>\n",
       "    <tr>\n",
       "      <th>2020-09-21</th>\n",
       "      <td>671468</td>\n",
       "      <td>31428</td>\n",
       "      <td>11105</td>\n",
       "      <td>268</td>\n",
       "      <td>190</td>\n",
       "      <td>0</td>\n",
       "      <td>45</td>\n",
       "      <td>4.222222</td>\n",
       "      <td>0.004052</td>\n",
       "    </tr>\n",
       "    <tr>\n",
       "      <th>2020-09-20</th>\n",
       "      <td>640040</td>\n",
       "      <td>0</td>\n",
       "      <td>10531</td>\n",
       "      <td>218</td>\n",
       "      <td>116</td>\n",
       "      <td>0</td>\n",
       "      <td>45</td>\n",
       "      <td>2.577778</td>\n",
       "      <td>0.004273</td>\n",
       "    </tr>\n",
       "    <tr>\n",
       "      <th>2020-09-19</th>\n",
       "      <td>640040</td>\n",
       "      <td>0</td>\n",
       "      <td>10531</td>\n",
       "      <td>203</td>\n",
       "      <td>90</td>\n",
       "      <td>2</td>\n",
       "      <td>39</td>\n",
       "      <td>2.307692</td>\n",
       "      <td>0.003703</td>\n",
       "    </tr>\n",
       "    <tr>\n",
       "      <th>2020-09-18</th>\n",
       "      <td>640040</td>\n",
       "      <td>14389</td>\n",
       "      <td>10531</td>\n",
       "      <td>165</td>\n",
       "      <td>138</td>\n",
       "      <td>1</td>\n",
       "      <td>52</td>\n",
       "      <td>2.653846</td>\n",
       "      <td>0.004938</td>\n",
       "    </tr>\n",
       "    <tr>\n",
       "      <th>2020-09-17</th>\n",
       "      <td>625651</td>\n",
       "      <td>11291</td>\n",
       "      <td>10215</td>\n",
       "      <td>139</td>\n",
       "      <td>63</td>\n",
       "      <td>0</td>\n",
       "      <td>29</td>\n",
       "      <td>2.172414</td>\n",
       "      <td>0.002839</td>\n",
       "    </tr>\n",
       "    <tr>\n",
       "      <th>2020-09-16</th>\n",
       "      <td>614360</td>\n",
       "      <td>11193</td>\n",
       "      <td>10140</td>\n",
       "      <td>119</td>\n",
       "      <td>62</td>\n",
       "      <td>0</td>\n",
       "      <td>23</td>\n",
       "      <td>2.695652</td>\n",
       "      <td>0.002268</td>\n",
       "    </tr>\n",
       "    <tr>\n",
       "      <th>2020-09-15</th>\n",
       "      <td>603167</td>\n",
       "      <td>9437</td>\n",
       "      <td>9808</td>\n",
       "      <td>82</td>\n",
       "      <td>58</td>\n",
       "      <td>0</td>\n",
       "      <td>23</td>\n",
       "      <td>2.521739</td>\n",
       "      <td>0.002345</td>\n",
       "    </tr>\n",
       "    <tr>\n",
       "      <th>2020-09-14</th>\n",
       "      <td>593730</td>\n",
       "      <td>27404</td>\n",
       "      <td>9740</td>\n",
       "      <td>73</td>\n",
       "      <td>61</td>\n",
       "      <td>0</td>\n",
       "      <td>28</td>\n",
       "      <td>2.178571</td>\n",
       "      <td>0.002875</td>\n",
       "    </tr>\n",
       "  </tbody>\n",
       "</table>\n",
       "</div>"
      ],
      "text/plain": [
       "             cumulative_cases  new_cases  covid_cases  \\\n",
       "sample_date                                             \n",
       "2020-10-11             871281      10169        10169   \n",
       "2020-10-10             861112          0        10169   \n",
       "2020-10-09             861112      12788        10169   \n",
       "2020-10-08             848324      12423         9960   \n",
       "2020-10-07             835901      10491         9530   \n",
       "2020-10-06             825410      11998        11021   \n",
       "2020-10-05             813412      23480         9307   \n",
       "2020-10-04             789932          0        10493   \n",
       "2020-10-03             789932          0        10493   \n",
       "2020-10-02             789932      11325        10493   \n",
       "2020-10-01             778607       9419        10628   \n",
       "2020-09-30             769188      20922        10805   \n",
       "2020-09-29             748266          0         9428   \n",
       "2020-09-28             748266      31785        10971   \n",
       "2020-09-27             716481          0        10920   \n",
       "2020-09-26             716481          0        10920   \n",
       "2020-09-25             716481      12272        10920   \n",
       "2020-09-24             704209      10653        11223   \n",
       "2020-09-23             693556      11289        11314   \n",
       "2020-09-22             682267      10799        11300   \n",
       "2020-09-21             671468      31428        11105   \n",
       "2020-09-20             640040          0        10531   \n",
       "2020-09-19             640040          0        10531   \n",
       "2020-09-18             640040      14389        10531   \n",
       "2020-09-17             625651      11291        10215   \n",
       "2020-09-16             614360      11193        10140   \n",
       "2020-09-15             603167       9437         9808   \n",
       "2020-09-14             593730      27404         9740   \n",
       "\n",
       "             shared_teks_by_generation_date  shared_teks_by_upload_date  \\\n",
       "sample_date                                                               \n",
       "2020-10-11                                0                           8   \n",
       "2020-10-10                                0                         429   \n",
       "2020-10-09                              135                         348   \n",
       "2020-10-08                              192                         272   \n",
       "2020-10-07                              220                         178   \n",
       "2020-10-06                              284                         233   \n",
       "2020-10-05                              294                         273   \n",
       "2020-10-04                              324                         331   \n",
       "2020-10-03                              295                         324   \n",
       "2020-10-02                              303                         299   \n",
       "2020-10-01                              311                         367   \n",
       "2020-09-30                              291                         271   \n",
       "2020-09-29                              263                         178   \n",
       "2020-09-28                              267                         211   \n",
       "2020-09-27                              315                         449   \n",
       "2020-09-26                              339                         448   \n",
       "2020-09-25                              284                         306   \n",
       "2020-09-24                              286                         289   \n",
       "2020-09-23                              296                         267   \n",
       "2020-09-22                              282                         148   \n",
       "2020-09-21                              268                         190   \n",
       "2020-09-20                              218                         116   \n",
       "2020-09-19                              203                          90   \n",
       "2020-09-18                              165                         138   \n",
       "2020-09-17                              139                          63   \n",
       "2020-09-16                              119                          62   \n",
       "2020-09-15                               82                          58   \n",
       "2020-09-14                               73                          61   \n",
       "\n",
       "             shared_teks_uploaded_on_generation_date  shared_diagnoses  \\\n",
       "sample_date                                                              \n",
       "2020-10-11                                         0                 0   \n",
       "2020-10-10                                         0               133   \n",
       "2020-10-09                                         1               105   \n",
       "2020-10-08                                         1                86   \n",
       "2020-10-07                                         0                54   \n",
       "2020-10-06                                        60                56   \n",
       "2020-10-05                                        52                69   \n",
       "2020-10-04                                        76                78   \n",
       "2020-10-03                                        69                76   \n",
       "2020-10-02                                        72                72   \n",
       "2020-10-01                                        75                74   \n",
       "2020-09-30                                        55                51   \n",
       "2020-09-29                                        32                44   \n",
       "2020-09-28                                        44                54   \n",
       "2020-09-27                                        98               108   \n",
       "2020-09-26                                        79               110   \n",
       "2020-09-25                                        14                86   \n",
       "2020-09-24                                        17                89   \n",
       "2020-09-23                                         4                70   \n",
       "2020-09-22                                         0                55   \n",
       "2020-09-21                                         0                45   \n",
       "2020-09-20                                         0                45   \n",
       "2020-09-19                                         2                39   \n",
       "2020-09-18                                         1                52   \n",
       "2020-09-17                                         0                29   \n",
       "2020-09-16                                         0                23   \n",
       "2020-09-15                                         0                23   \n",
       "2020-09-14                                         0                28   \n",
       "\n",
       "             teks_per_shared_diagnosis  shared_diagnoses_per_covid_case  \n",
       "sample_date                                                              \n",
       "2020-10-11                    0.000000                         0.000000  \n",
       "2020-10-10                    3.225564                         0.013079  \n",
       "2020-10-09                    3.314286                         0.010325  \n",
       "2020-10-08                    3.162791                         0.008635  \n",
       "2020-10-07                    3.296296                         0.005666  \n",
       "2020-10-06                    4.160714                         0.005081  \n",
       "2020-10-05                    3.956522                         0.007414  \n",
       "2020-10-04                    4.243590                         0.007434  \n",
       "2020-10-03                    4.263158                         0.007243  \n",
       "2020-10-02                    4.152778                         0.006862  \n",
       "2020-10-01                    4.959459                         0.006963  \n",
       "2020-09-30                    5.313725                         0.004720  \n",
       "2020-09-29                    4.045455                         0.004667  \n",
       "2020-09-28                    3.907407                         0.004922  \n",
       "2020-09-27                    4.157407                         0.009890  \n",
       "2020-09-26                    4.072727                         0.010073  \n",
       "2020-09-25                    3.558140                         0.007875  \n",
       "2020-09-24                    3.247191                         0.007930  \n",
       "2020-09-23                    3.814286                         0.006187  \n",
       "2020-09-22                    2.690909                         0.004867  \n",
       "2020-09-21                    4.222222                         0.004052  \n",
       "2020-09-20                    2.577778                         0.004273  \n",
       "2020-09-19                    2.307692                         0.003703  \n",
       "2020-09-18                    2.653846                         0.004938  \n",
       "2020-09-17                    2.172414                         0.002839  \n",
       "2020-09-16                    2.695652                         0.002268  \n",
       "2020-09-15                    2.521739                         0.002345  \n",
       "2020-09-14                    2.178571                         0.002875  "
      ]
     },
     "execution_count": 41,
     "metadata": {},
     "output_type": "execute_result"
    }
   ],
   "source": [
    "with pd.option_context(\"mode.use_inf_as_na\", True):\n",
    "    result_summary_df = result_summary_df.fillna(0).astype(int)\n",
    "    result_summary_df[\"teks_per_shared_diagnosis\"] = \\\n",
    "        (result_summary_df.shared_teks_by_upload_date / result_summary_df.shared_diagnoses).fillna(0)\n",
    "    result_summary_df[\"shared_diagnoses_per_covid_case\"] = \\\n",
    "        (result_summary_df.shared_diagnoses / result_summary_df.covid_cases).fillna(0)\n",
    "\n",
    "result_summary_df.head(daily_plot_days)"
   ]
  },
  {
   "cell_type": "code",
   "execution_count": 42,
   "metadata": {
    "collapsed": false,
    "execution": {
     "iopub.execute_input": "2020-10-11T01:01:17.221003Z",
     "iopub.status.busy": "2020-10-11T01:01:17.220571Z",
     "iopub.status.idle": "2020-10-11T01:01:17.223134Z",
     "shell.execute_reply": "2020-10-11T01:01:17.223564Z"
    },
    "papermill": {
     "duration": 0.085231,
     "end_time": "2020-10-11T01:01:17.223714",
     "exception": false,
     "start_time": "2020-10-11T01:01:17.138483",
     "status": "completed"
    },
    "pycharm": {
     "name": "#%%\n"
    },
    "tags": []
   },
   "outputs": [
    {
     "data": {
      "text/html": [
       "<div>\n",
       "<style scoped>\n",
       "    .dataframe tbody tr th:only-of-type {\n",
       "        vertical-align: middle;\n",
       "    }\n",
       "\n",
       "    .dataframe tbody tr th {\n",
       "        vertical-align: top;\n",
       "    }\n",
       "\n",
       "    .dataframe thead th {\n",
       "        text-align: right;\n",
       "    }\n",
       "</style>\n",
       "<table border=\"1\" class=\"dataframe\">\n",
       "  <thead>\n",
       "    <tr style=\"text-align: right;\">\n",
       "      <th></th>\n",
       "      <th>covid_cases</th>\n",
       "      <th>shared_teks_by_generation_date</th>\n",
       "      <th>shared_teks_by_upload_date</th>\n",
       "      <th>shared_diagnoses</th>\n",
       "      <th>teks_per_shared_diagnosis</th>\n",
       "      <th>shared_diagnoses_per_covid_case</th>\n",
       "    </tr>\n",
       "    <tr>\n",
       "      <th>sample_date</th>\n",
       "      <th></th>\n",
       "      <th></th>\n",
       "      <th></th>\n",
       "      <th></th>\n",
       "      <th></th>\n",
       "      <th></th>\n",
       "    </tr>\n",
       "  </thead>\n",
       "  <tbody>\n",
       "    <tr>\n",
       "      <th>2020-10-11</th>\n",
       "      <td>70325</td>\n",
       "      <td>1125</td>\n",
       "      <td>1741</td>\n",
       "      <td>503</td>\n",
       "      <td>3.461233</td>\n",
       "      <td>0.007153</td>\n",
       "    </tr>\n",
       "    <tr>\n",
       "      <th>2020-10-10</th>\n",
       "      <td>70649</td>\n",
       "      <td>1449</td>\n",
       "      <td>2064</td>\n",
       "      <td>581</td>\n",
       "      <td>3.552496</td>\n",
       "      <td>0.008224</td>\n",
       "    </tr>\n",
       "    <tr>\n",
       "      <th>2020-10-09</th>\n",
       "      <td>70973</td>\n",
       "      <td>1744</td>\n",
       "      <td>1959</td>\n",
       "      <td>524</td>\n",
       "      <td>3.738550</td>\n",
       "      <td>0.007383</td>\n",
       "    </tr>\n",
       "    <tr>\n",
       "      <th>2020-10-08</th>\n",
       "      <td>71297</td>\n",
       "      <td>1912</td>\n",
       "      <td>1910</td>\n",
       "      <td>491</td>\n",
       "      <td>3.890020</td>\n",
       "      <td>0.006887</td>\n",
       "    </tr>\n",
       "    <tr>\n",
       "      <th>2020-10-07</th>\n",
       "      <td>71965</td>\n",
       "      <td>2031</td>\n",
       "      <td>2005</td>\n",
       "      <td>479</td>\n",
       "      <td>4.185804</td>\n",
       "      <td>0.006656</td>\n",
       "    </tr>\n",
       "  </tbody>\n",
       "</table>\n",
       "</div>"
      ],
      "text/plain": [
       "             covid_cases  shared_teks_by_generation_date  \\\n",
       "sample_date                                                \n",
       "2020-10-11         70325                            1125   \n",
       "2020-10-10         70649                            1449   \n",
       "2020-10-09         70973                            1744   \n",
       "2020-10-08         71297                            1912   \n",
       "2020-10-07         71965                            2031   \n",
       "\n",
       "             shared_teks_by_upload_date  shared_diagnoses  \\\n",
       "sample_date                                                 \n",
       "2020-10-11                         1741               503   \n",
       "2020-10-10                         2064               581   \n",
       "2020-10-09                         1959               524   \n",
       "2020-10-08                         1910               491   \n",
       "2020-10-07                         2005               479   \n",
       "\n",
       "             teks_per_shared_diagnosis  shared_diagnoses_per_covid_case  \n",
       "sample_date                                                              \n",
       "2020-10-11                    3.461233                         0.007153  \n",
       "2020-10-10                    3.552496                         0.008224  \n",
       "2020-10-09                    3.738550                         0.007383  \n",
       "2020-10-08                    3.890020                         0.006887  \n",
       "2020-10-07                    4.185804                         0.006656  "
      ]
     },
     "execution_count": 42,
     "metadata": {},
     "output_type": "execute_result"
    }
   ],
   "source": [
    "weekly_result_summary_df = result_summary_df \\\n",
    "    .sort_index(ascending=True).fillna(0).rolling(7).agg({\n",
    "    \"covid_cases\": \"sum\",\n",
    "    \"shared_teks_by_generation_date\": \"sum\",\n",
    "    \"shared_teks_by_upload_date\": \"sum\",\n",
    "    \"shared_diagnoses\": \"sum\"\n",
    "}).sort_index(ascending=False)\n",
    "\n",
    "with pd.option_context(\"mode.use_inf_as_na\", True):\n",
    "    weekly_result_summary_df = weekly_result_summary_df.fillna(0).astype(int)\n",
    "    weekly_result_summary_df[\"teks_per_shared_diagnosis\"] = \\\n",
    "        (weekly_result_summary_df.shared_teks_by_upload_date / weekly_result_summary_df.shared_diagnoses).fillna(0)\n",
    "    weekly_result_summary_df[\"shared_diagnoses_per_covid_case\"] = \\\n",
    "        (weekly_result_summary_df.shared_diagnoses / weekly_result_summary_df.covid_cases).fillna(0)\n",
    "\n",
    "weekly_result_summary_df.head()"
   ]
  },
  {
   "cell_type": "code",
   "execution_count": 43,
   "metadata": {
    "execution": {
     "iopub.execute_input": "2020-10-11T01:01:17.353587Z",
     "iopub.status.busy": "2020-10-11T01:01:17.352818Z",
     "iopub.status.idle": "2020-10-11T01:01:17.358544Z",
     "shell.execute_reply": "2020-10-11T01:01:17.358096Z"
    },
    "papermill": {
     "duration": 0.073515,
     "end_time": "2020-10-11T01:01:17.358787",
     "exception": false,
     "start_time": "2020-10-11T01:01:17.285272",
     "status": "completed"
    },
    "pycharm": {
     "name": "#%%\n"
    },
    "tags": []
   },
   "outputs": [
    {
     "data": {
      "text/plain": [
       "{'covid_cases': 70325,\n",
       " 'shared_teks_by_generation_date': 1125,\n",
       " 'shared_teks_by_upload_date': 1741,\n",
       " 'shared_diagnoses': 503,\n",
       " 'teks_per_shared_diagnosis': 3.4612326043737576,\n",
       " 'shared_diagnoses_per_covid_case': 0.007152506221116246}"
      ]
     },
     "execution_count": 43,
     "metadata": {},
     "output_type": "execute_result"
    }
   ],
   "source": [
    "last_7_days_summary = weekly_result_summary_df.to_dict(orient=\"records\")[0]\n",
    "last_7_days_summary"
   ]
  },
  {
   "cell_type": "markdown",
   "metadata": {
    "collapsed": false,
    "papermill": {
     "duration": 0.059431,
     "end_time": "2020-10-11T01:01:17.484659",
     "exception": false,
     "start_time": "2020-10-11T01:01:17.425228",
     "status": "completed"
    },
    "pycharm": {
     "name": "#%% md\n"
    },
    "tags": []
   },
   "source": [
    "## Report Results"
   ]
  },
  {
   "cell_type": "code",
   "execution_count": 44,
   "metadata": {
    "collapsed": false,
    "execution": {
     "iopub.execute_input": "2020-10-11T01:01:17.612643Z",
     "iopub.status.busy": "2020-10-11T01:01:17.611458Z",
     "iopub.status.idle": "2020-10-11T01:01:17.614326Z",
     "shell.execute_reply": "2020-10-11T01:01:17.613526Z"
    },
    "papermill": {
     "duration": 0.070661,
     "end_time": "2020-10-11T01:01:17.614525",
     "exception": false,
     "start_time": "2020-10-11T01:01:17.543864",
     "status": "completed"
    },
    "pycharm": {
     "name": "#%%\n"
    },
    "tags": []
   },
   "outputs": [],
   "source": [
    "display_column_name_mapping = {\n",
    "    \"sample_date\": \"Sample\\u00A0Date\\u00A0(UTC)\",\n",
    "    \"datetime_utc\": \"Timestamp (UTC)\",\n",
    "    \"covid_cases\": \"COVID-19 Cases (7-day Rolling Average)\",\n",
    "    \"shared_teks_by_generation_date\": \"Shared TEKs by Generation Date\",\n",
    "    \"shared_teks_by_upload_date\": \"Shared TEKs by Upload Date\",\n",
    "    \"shared_diagnoses\": \"Shared Diagnoses (Estimation)\",\n",
    "    \"teks_per_shared_diagnosis\": \"TEKs Uploaded per Shared Diagnosis\",\n",
    "    \"shared_diagnoses_per_covid_case\": \"Usage Ratio (Fraction of Cases Which Shared Diagnosis)\",\n",
    "    \"shared_teks_uploaded_on_generation_date\": \"Shared TEKs Uploaded on Generation Date\",\n",
    "}"
   ]
  },
  {
   "cell_type": "code",
   "execution_count": 45,
   "metadata": {
    "execution": {
     "iopub.execute_input": "2020-10-11T01:01:17.739800Z",
     "iopub.status.busy": "2020-10-11T01:01:17.739259Z",
     "iopub.status.idle": "2020-10-11T01:01:17.741622Z",
     "shell.execute_reply": "2020-10-11T01:01:17.741142Z"
    },
    "papermill": {
     "duration": 0.066703,
     "end_time": "2020-10-11T01:01:17.741741",
     "exception": false,
     "start_time": "2020-10-11T01:01:17.675038",
     "status": "completed"
    },
    "pycharm": {
     "name": "#%%\n"
    },
    "tags": []
   },
   "outputs": [],
   "source": [
    "summary_columns = [\n",
    "    \"covid_cases\",\n",
    "    \"shared_teks_by_generation_date\",\n",
    "    \"shared_teks_by_upload_date\",\n",
    "    \"shared_teks_uploaded_on_generation_date\",\n",
    "    \"shared_diagnoses\",\n",
    "    \"teks_per_shared_diagnosis\",\n",
    "    \"shared_diagnoses_per_covid_case\",\n",
    "]"
   ]
  },
  {
   "cell_type": "markdown",
   "metadata": {
    "execution": {
     "iopub.execute_input": "2020-09-02T08:20:14.568088Z",
     "iopub.status.busy": "2020-09-02T08:20:14.567425Z",
     "iopub.status.idle": "2020-09-02T08:20:14.571422Z",
     "shell.execute_reply": "2020-09-02T08:20:14.571952Z"
    },
    "papermill": {
     "duration": 0.057414,
     "end_time": "2020-10-11T01:01:17.860913",
     "exception": false,
     "start_time": "2020-10-11T01:01:17.803499",
     "status": "completed"
    },
    "pycharm": {
     "name": "#%% md\n"
    },
    "tags": []
   },
   "source": [
    "### Daily Summary Table"
   ]
  },
  {
   "cell_type": "code",
   "execution_count": 46,
   "metadata": {
    "execution": {
     "iopub.execute_input": "2020-10-11T01:01:17.990360Z",
     "iopub.status.busy": "2020-10-11T01:01:17.989854Z",
     "iopub.status.idle": "2020-10-11T01:01:17.996409Z",
     "shell.execute_reply": "2020-10-11T01:01:17.996887Z"
    },
    "papermill": {
     "duration": 0.080495,
     "end_time": "2020-10-11T01:01:17.997029",
     "exception": false,
     "start_time": "2020-10-11T01:01:17.916534",
     "status": "completed"
    },
    "pycharm": {
     "name": "#%%\n"
    },
    "tags": []
   },
   "outputs": [
    {
     "data": {
      "text/html": [
       "<div>\n",
       "<style scoped>\n",
       "    .dataframe tbody tr th:only-of-type {\n",
       "        vertical-align: middle;\n",
       "    }\n",
       "\n",
       "    .dataframe tbody tr th {\n",
       "        vertical-align: top;\n",
       "    }\n",
       "\n",
       "    .dataframe thead th {\n",
       "        text-align: right;\n",
       "    }\n",
       "</style>\n",
       "<table border=\"1\" class=\"dataframe\">\n",
       "  <thead>\n",
       "    <tr style=\"text-align: right;\">\n",
       "      <th></th>\n",
       "      <th>COVID-19 Cases (7-day Rolling Average)</th>\n",
       "      <th>Shared TEKs by Generation Date</th>\n",
       "      <th>Shared TEKs by Upload Date</th>\n",
       "      <th>Shared TEKs Uploaded on Generation Date</th>\n",
       "      <th>Shared Diagnoses (Estimation)</th>\n",
       "      <th>TEKs Uploaded per Shared Diagnosis</th>\n",
       "      <th>Usage Ratio (Fraction of Cases Which Shared Diagnosis)</th>\n",
       "    </tr>\n",
       "    <tr>\n",
       "      <th>Sample Date (UTC)</th>\n",
       "      <th></th>\n",
       "      <th></th>\n",
       "      <th></th>\n",
       "      <th></th>\n",
       "      <th></th>\n",
       "      <th></th>\n",
       "      <th></th>\n",
       "    </tr>\n",
       "  </thead>\n",
       "  <tbody>\n",
       "    <tr>\n",
       "      <th>2020-10-11</th>\n",
       "      <td>10169</td>\n",
       "      <td>0</td>\n",
       "      <td>8</td>\n",
       "      <td>0</td>\n",
       "      <td>0</td>\n",
       "      <td>0.000000</td>\n",
       "      <td>0.000000</td>\n",
       "    </tr>\n",
       "    <tr>\n",
       "      <th>2020-10-10</th>\n",
       "      <td>10169</td>\n",
       "      <td>0</td>\n",
       "      <td>429</td>\n",
       "      <td>0</td>\n",
       "      <td>133</td>\n",
       "      <td>3.225564</td>\n",
       "      <td>0.013079</td>\n",
       "    </tr>\n",
       "    <tr>\n",
       "      <th>2020-10-09</th>\n",
       "      <td>10169</td>\n",
       "      <td>135</td>\n",
       "      <td>348</td>\n",
       "      <td>1</td>\n",
       "      <td>105</td>\n",
       "      <td>3.314286</td>\n",
       "      <td>0.010325</td>\n",
       "    </tr>\n",
       "    <tr>\n",
       "      <th>2020-10-08</th>\n",
       "      <td>9960</td>\n",
       "      <td>192</td>\n",
       "      <td>272</td>\n",
       "      <td>1</td>\n",
       "      <td>86</td>\n",
       "      <td>3.162791</td>\n",
       "      <td>0.008635</td>\n",
       "    </tr>\n",
       "    <tr>\n",
       "      <th>2020-10-07</th>\n",
       "      <td>9530</td>\n",
       "      <td>220</td>\n",
       "      <td>178</td>\n",
       "      <td>0</td>\n",
       "      <td>54</td>\n",
       "      <td>3.296296</td>\n",
       "      <td>0.005666</td>\n",
       "    </tr>\n",
       "    <tr>\n",
       "      <th>...</th>\n",
       "      <td>...</td>\n",
       "      <td>...</td>\n",
       "      <td>...</td>\n",
       "      <td>...</td>\n",
       "      <td>...</td>\n",
       "      <td>...</td>\n",
       "      <td>...</td>\n",
       "    </tr>\n",
       "    <tr>\n",
       "      <th>2020-07-24</th>\n",
       "      <td>1738</td>\n",
       "      <td>0</td>\n",
       "      <td>0</td>\n",
       "      <td>0</td>\n",
       "      <td>0</td>\n",
       "      <td>0.000000</td>\n",
       "      <td>0.000000</td>\n",
       "    </tr>\n",
       "    <tr>\n",
       "      <th>2020-07-23</th>\n",
       "      <td>1416</td>\n",
       "      <td>0</td>\n",
       "      <td>0</td>\n",
       "      <td>0</td>\n",
       "      <td>0</td>\n",
       "      <td>0.000000</td>\n",
       "      <td>0.000000</td>\n",
       "    </tr>\n",
       "    <tr>\n",
       "      <th>2020-07-22</th>\n",
       "      <td>1242</td>\n",
       "      <td>0</td>\n",
       "      <td>0</td>\n",
       "      <td>0</td>\n",
       "      <td>0</td>\n",
       "      <td>0.000000</td>\n",
       "      <td>0.000000</td>\n",
       "    </tr>\n",
       "    <tr>\n",
       "      <th>2020-07-21</th>\n",
       "      <td>1243</td>\n",
       "      <td>0</td>\n",
       "      <td>0</td>\n",
       "      <td>0</td>\n",
       "      <td>0</td>\n",
       "      <td>0.000000</td>\n",
       "      <td>0.000000</td>\n",
       "    </tr>\n",
       "    <tr>\n",
       "      <th>2020-07-20</th>\n",
       "      <td>1174</td>\n",
       "      <td>0</td>\n",
       "      <td>0</td>\n",
       "      <td>0</td>\n",
       "      <td>0</td>\n",
       "      <td>0.000000</td>\n",
       "      <td>0.000000</td>\n",
       "    </tr>\n",
       "  </tbody>\n",
       "</table>\n",
       "<p>84 rows × 7 columns</p>\n",
       "</div>"
      ],
      "text/plain": [
       "                   COVID-19 Cases (7-day Rolling Average)  \\\n",
       "Sample Date (UTC)                                           \n",
       "2020-10-11                                          10169   \n",
       "2020-10-10                                          10169   \n",
       "2020-10-09                                          10169   \n",
       "2020-10-08                                           9960   \n",
       "2020-10-07                                           9530   \n",
       "...                                                   ...   \n",
       "2020-07-24                                           1738   \n",
       "2020-07-23                                           1416   \n",
       "2020-07-22                                           1242   \n",
       "2020-07-21                                           1243   \n",
       "2020-07-20                                           1174   \n",
       "\n",
       "                   Shared TEKs by Generation Date  Shared TEKs by Upload Date  \\\n",
       "Sample Date (UTC)                                                               \n",
       "2020-10-11                                      0                           8   \n",
       "2020-10-10                                      0                         429   \n",
       "2020-10-09                                    135                         348   \n",
       "2020-10-08                                    192                         272   \n",
       "2020-10-07                                    220                         178   \n",
       "...                                           ...                         ...   \n",
       "2020-07-24                                      0                           0   \n",
       "2020-07-23                                      0                           0   \n",
       "2020-07-22                                      0                           0   \n",
       "2020-07-21                                      0                           0   \n",
       "2020-07-20                                      0                           0   \n",
       "\n",
       "                   Shared TEKs Uploaded on Generation Date  \\\n",
       "Sample Date (UTC)                                            \n",
       "2020-10-11                                               0   \n",
       "2020-10-10                                               0   \n",
       "2020-10-09                                               1   \n",
       "2020-10-08                                               1   \n",
       "2020-10-07                                               0   \n",
       "...                                                    ...   \n",
       "2020-07-24                                               0   \n",
       "2020-07-23                                               0   \n",
       "2020-07-22                                               0   \n",
       "2020-07-21                                               0   \n",
       "2020-07-20                                               0   \n",
       "\n",
       "                   Shared Diagnoses (Estimation)  \\\n",
       "Sample Date (UTC)                                  \n",
       "2020-10-11                                     0   \n",
       "2020-10-10                                   133   \n",
       "2020-10-09                                   105   \n",
       "2020-10-08                                    86   \n",
       "2020-10-07                                    54   \n",
       "...                                          ...   \n",
       "2020-07-24                                     0   \n",
       "2020-07-23                                     0   \n",
       "2020-07-22                                     0   \n",
       "2020-07-21                                     0   \n",
       "2020-07-20                                     0   \n",
       "\n",
       "                   TEKs Uploaded per Shared Diagnosis  \\\n",
       "Sample Date (UTC)                                       \n",
       "2020-10-11                                   0.000000   \n",
       "2020-10-10                                   3.225564   \n",
       "2020-10-09                                   3.314286   \n",
       "2020-10-08                                   3.162791   \n",
       "2020-10-07                                   3.296296   \n",
       "...                                               ...   \n",
       "2020-07-24                                   0.000000   \n",
       "2020-07-23                                   0.000000   \n",
       "2020-07-22                                   0.000000   \n",
       "2020-07-21                                   0.000000   \n",
       "2020-07-20                                   0.000000   \n",
       "\n",
       "                   Usage Ratio (Fraction of Cases Which Shared Diagnosis)  \n",
       "Sample Date (UTC)                                                          \n",
       "2020-10-11                                                  0.000000       \n",
       "2020-10-10                                                  0.013079       \n",
       "2020-10-09                                                  0.010325       \n",
       "2020-10-08                                                  0.008635       \n",
       "2020-10-07                                                  0.005666       \n",
       "...                                                              ...       \n",
       "2020-07-24                                                  0.000000       \n",
       "2020-07-23                                                  0.000000       \n",
       "2020-07-22                                                  0.000000       \n",
       "2020-07-21                                                  0.000000       \n",
       "2020-07-20                                                  0.000000       \n",
       "\n",
       "[84 rows x 7 columns]"
      ]
     },
     "execution_count": 46,
     "metadata": {},
     "output_type": "execute_result"
    }
   ],
   "source": [
    "result_summary_df_ = result_summary_df.copy()\n",
    "result_summary_df = result_summary_df[summary_columns]\n",
    "result_summary_with_display_names_df = result_summary_df \\\n",
    "    .rename_axis(index=display_column_name_mapping) \\\n",
    "    .rename(columns=display_column_name_mapping)\n",
    "result_summary_with_display_names_df"
   ]
  },
  {
   "cell_type": "markdown",
   "metadata": {
    "execution": {
     "iopub.execute_input": "2020-09-02T08:20:14.726751Z",
     "iopub.status.busy": "2020-09-02T08:20:14.726143Z",
     "iopub.status.idle": "2020-09-02T08:20:16.115081Z",
     "shell.execute_reply": "2020-09-02T08:20:16.115565Z"
    },
    "papermill": {
     "duration": 0.056642,
     "end_time": "2020-10-11T01:01:18.111655",
     "exception": false,
     "start_time": "2020-10-11T01:01:18.055013",
     "status": "completed"
    },
    "pycharm": {
     "name": "#%% md\n"
    },
    "scrolled": false,
    "tags": []
   },
   "source": [
    "### Daily Summary Plots"
   ]
  },
  {
   "cell_type": "code",
   "execution_count": 47,
   "metadata": {
    "execution": {
     "iopub.execute_input": "2020-10-11T01:01:18.246644Z",
     "iopub.status.busy": "2020-10-11T01:01:18.246171Z",
     "iopub.status.idle": "2020-10-11T01:01:19.837261Z",
     "shell.execute_reply": "2020-10-11T01:01:19.837670Z"
    },
    "papermill": {
     "duration": 1.668213,
     "end_time": "2020-10-11T01:01:19.837822",
     "exception": false,
     "start_time": "2020-10-11T01:01:18.169609",
     "status": "completed"
    },
    "pycharm": {
     "name": "#%%\n"
    },
    "tags": []
   },
   "outputs": [
    {
     "data": {
      "image/png": "[encoded data removed]",
      "text/plain": [
       "<Figure size 1080x1584 with 7 Axes>"
      ]
     },
     "metadata": {},
     "output_type": "display_data"
    }
   ],
   "source": [
    "result_plot_summary_df = result_summary_df.head(daily_plot_days)[summary_columns] \\\n",
    "    .rename_axis(index=display_column_name_mapping) \\\n",
    "    .rename(columns=display_column_name_mapping)\n",
    "summary_ax_list = result_plot_summary_df.sort_index(ascending=True).plot.bar(\n",
    "    title=f\"Daily Summary\",\n",
    "    rot=45, subplots=True, figsize=(15, 22), legend=False)\n",
    "ax_ = summary_ax_list[-1]\n",
    "ax_.get_figure().tight_layout()\n",
    "ax_.get_figure().subplots_adjust(top=0.95)\n",
    "ax_.yaxis.set_major_formatter(matplotlib.ticker.PercentFormatter(1.0))\n",
    "_ = ax_.set_xticklabels(sorted(result_plot_summary_df.index.strftime(\"%Y-%m-%d\").tolist()))"
   ]
  },
  {
   "cell_type": "markdown",
   "metadata": {
    "execution": {
     "iopub.execute_input": "2020-09-02T08:20:16.278300Z",
     "iopub.status.busy": "2020-09-02T08:20:16.277679Z",
     "iopub.status.idle": "2020-09-02T08:20:16.821909Z",
     "shell.execute_reply": "2020-09-02T08:20:16.822577Z"
    },
    "papermill": {
     "duration": 0.064335,
     "end_time": "2020-10-11T01:01:19.965904",
     "exception": false,
     "start_time": "2020-10-11T01:01:19.901569",
     "status": "completed"
    },
    "pycharm": {
     "name": "#%% md\n"
    },
    "tags": []
   },
   "source": [
    "### Hourly Summary Plots "
   ]
  },
  {
   "cell_type": "code",
   "execution_count": 48,
   "metadata": {
    "execution": {
     "iopub.execute_input": "2020-10-11T01:01:20.136933Z",
     "iopub.status.busy": "2020-10-11T01:01:20.134271Z",
     "iopub.status.idle": "2020-10-11T01:01:20.560844Z",
     "shell.execute_reply": "2020-10-11T01:01:20.561523Z"
    },
    "papermill": {
     "duration": 0.531902,
     "end_time": "2020-10-11T01:01:20.561677",
     "exception": false,
     "start_time": "2020-10-11T01:01:20.029775",
     "status": "completed"
    },
    "pycharm": {
     "name": "#%%\n"
    },
    "tags": []
   },
   "outputs": [
    {
     "data": {
      "image/png": "[encoded data removed]",
      "text/plain": [
       "<Figure size 1080x432 with 2 Axes>"
      ]
     },
     "metadata": {},
     "output_type": "display_data"
    }
   ],
   "source": [
    "hourly_summary_ax_list = hourly_summary_df \\\n",
    "    .rename_axis(index=display_column_name_mapping) \\\n",
    "    .rename(columns=display_column_name_mapping) \\\n",
    "    .plot.bar(\n",
    "        title=f\"Last 24h Summary\",\n",
    "        rot=45, subplots=True, legend=False)\n",
    "ax_ = hourly_summary_ax_list[-1]\n",
    "ax_.get_figure().tight_layout()\n",
    "ax_.get_figure().subplots_adjust(top=0.9)\n",
    "_ = ax_.set_xticklabels(sorted(hourly_summary_df.index.strftime(\"%Y-%m-%d@%H\").tolist()))"
   ]
  },
  {
   "cell_type": "markdown",
   "metadata": {
    "execution": {
     "iopub.execute_input": "2020-09-02T08:20:16.981187Z",
     "iopub.status.busy": "2020-09-02T08:20:16.980584Z",
     "iopub.status.idle": "2020-09-02T08:20:20.068070Z",
     "shell.execute_reply": "2020-09-02T08:20:20.068598Z"
    },
    "papermill": {
     "duration": 0.060913,
     "end_time": "2020-10-11T01:01:20.686830",
     "exception": false,
     "start_time": "2020-10-11T01:01:20.625917",
     "status": "completed"
    },
    "pycharm": {
     "name": "#%% md\n"
    },
    "tags": []
   },
   "source": [
    "### Publish Results"
   ]
  },
  {
   "cell_type": "code",
   "execution_count": 49,
   "metadata": {
    "collapsed": false,
    "execution": {
     "iopub.execute_input": "2020-10-11T01:01:20.816738Z",
     "iopub.status.busy": "2020-10-11T01:01:20.816145Z",
     "iopub.status.idle": "2020-10-11T01:01:20.818365Z",
     "shell.execute_reply": "2020-10-11T01:01:20.817805Z"
    },
    "papermill": {
     "duration": 0.070075,
     "end_time": "2020-10-11T01:01:20.818490",
     "exception": false,
     "start_time": "2020-10-11T01:01:20.748415",
     "status": "completed"
    },
    "pycharm": {
     "name": "#%%\n"
    },
    "tags": []
   },
   "outputs": [],
   "source": [
    "def get_temporary_image_path() -> str:\n",
    "    return os.path.join(tempfile.gettempdir(), str(uuid.uuid4()) + \".png\")\n",
    "\n",
    "def save_temporary_plot_image(ax):\n",
    "    if isinstance(ax, np.ndarray):\n",
    "        ax = ax[0]\n",
    "    media_path = get_temporary_image_path()\n",
    "    ax.get_figure().savefig(media_path)\n",
    "    return media_path\n",
    "\n",
    "def save_temporary_dataframe_image(df):\n",
    "    import dataframe_image as dfi\n",
    "    media_path = get_temporary_image_path()\n",
    "    dfi.export(df, media_path)\n",
    "    return media_path"
   ]
  },
  {
   "cell_type": "code",
   "execution_count": 50,
   "metadata": {
    "collapsed": false,
    "execution": {
     "iopub.execute_input": "2020-10-11T01:01:20.958856Z",
     "iopub.status.busy": "2020-10-11T01:01:20.957629Z",
     "iopub.status.idle": "2020-10-11T01:01:20.961112Z",
     "shell.execute_reply": "2020-10-11T01:01:20.960636Z"
    },
    "papermill": {
     "duration": 0.076756,
     "end_time": "2020-10-11T01:01:20.961234",
     "exception": false,
     "start_time": "2020-10-11T01:01:20.884478",
     "status": "completed"
    },
    "pycharm": {
     "name": "#%%\n"
    },
    "tags": []
   },
   "outputs": [],
   "source": [
    "github_repository = os.environ.get(\"GITHUB_REPOSITORY\")\n",
    "if github_repository is None:\n",
    "    github_repository = \"pvieito/Radar-STATS\"\n",
    "\n",
    "github_project_base_url = \"https://github.com/\" + github_repository\n",
    "\n",
    "daily_summary_table_html = result_summary_with_display_names_df \\\n",
    "    .head(daily_plot_days) \\\n",
    "    .rename_axis(index=display_column_name_mapping) \\\n",
    "    .rename(columns=display_column_name_mapping) \\\n",
    "    .to_html(\n",
    "        formatters={\n",
    "            display_column_name_mapping[\"teks_per_shared_diagnosis\"]: lambda x: f\"{x:.2f}\",\n",
    "            display_column_name_mapping[\"shared_diagnoses_per_covid_case\"]: lambda x: f\"{x:.2%}\",\n",
    "        })\n",
    "\n",
    "extraction_date_result_summary_df = \\\n",
    "    result_summary_df[result_summary_df.index == extraction_date]\n",
    "extraction_date_result_hourly_summary_df = \\\n",
    "    hourly_summary_df[hourly_summary_df.extraction_date_with_hour == extraction_date_with_hour]\n",
    "\n",
    "covid_cases = \\\n",
    "    extraction_date_result_summary_df.covid_cases.sum()\n",
    "shared_teks_by_generation_date = \\\n",
    "    extraction_date_result_summary_df.shared_teks_by_generation_date.sum()\n",
    "shared_teks_by_upload_date = \\\n",
    "    extraction_date_result_summary_df.shared_teks_by_upload_date.sum()\n",
    "shared_diagnoses = \\\n",
    "    extraction_date_result_summary_df.shared_diagnoses.sum()\n",
    "teks_per_shared_diagnosis = \\\n",
    "    extraction_date_result_summary_df.teks_per_shared_diagnosis.sum()\n",
    "shared_diagnoses_per_covid_case = \\\n",
    "    extraction_date_result_summary_df.shared_diagnoses_per_covid_case.sum()\n",
    "\n",
    "shared_teks_by_upload_date_last_hour = \\\n",
    "    extraction_date_result_hourly_summary_df.shared_teks_by_upload_date.sum().astype(int)\n",
    "shared_diagnoses_last_hour = \\\n",
    "    extraction_date_result_hourly_summary_df.shared_diagnoses.sum().astype(int)"
   ]
  },
  {
   "cell_type": "code",
   "execution_count": 51,
   "metadata": {
    "execution": {
     "iopub.execute_input": "2020-10-11T01:01:21.090960Z",
     "iopub.status.busy": "2020-10-11T01:01:21.090514Z",
     "iopub.status.idle": "2020-10-11T01:01:28.017660Z",
     "shell.execute_reply": "2020-10-11T01:01:28.017137Z"
    },
    "papermill": {
     "duration": 6.996136,
     "end_time": "2020-10-11T01:01:28.017791",
     "exception": false,
     "start_time": "2020-10-11T01:01:21.021655",
     "status": "completed"
    },
    "pycharm": {
     "name": "#%%\n"
    },
    "tags": []
   },
   "outputs": [],
   "source": [
    "summary_plots_image_path = save_temporary_plot_image(\n",
    "    ax=summary_ax_list)\n",
    "summary_table_image_path = save_temporary_dataframe_image(\n",
    "    df=result_summary_with_display_names_df)\n",
    "hourly_summary_plots_image_path = save_temporary_plot_image(\n",
    "    ax=hourly_summary_ax_list)\n",
    "multi_region_summary_table_image_path = save_temporary_dataframe_image(\n",
    "    df=multi_region_summary_df)"
   ]
  },
  {
   "cell_type": "markdown",
   "metadata": {
    "execution": {
     "iopub.execute_input": "2020-09-02T08:20:20.895901Z",
     "iopub.status.busy": "2020-09-02T08:20:20.895301Z",
     "iopub.status.idle": "2020-09-02T08:20:20.942286Z",
     "shell.execute_reply": "2020-09-02T08:20:20.942834Z"
    },
    "papermill": {
     "duration": 0.064979,
     "end_time": "2020-10-11T01:01:28.150619",
     "exception": false,
     "start_time": "2020-10-11T01:01:28.085640",
     "status": "completed"
    },
    "pycharm": {
     "name": "#%% md\n"
    },
    "tags": []
   },
   "source": [
    "### Save Results"
   ]
  },
  {
   "cell_type": "code",
   "execution_count": 52,
   "metadata": {
    "collapsed": false,
    "execution": {
     "iopub.execute_input": "2020-10-11T01:01:28.288128Z",
     "iopub.status.busy": "2020-10-11T01:01:28.287551Z",
     "iopub.status.idle": "2020-10-11T01:01:28.313259Z",
     "shell.execute_reply": "2020-10-11T01:01:28.312570Z"
    },
    "papermill": {
     "duration": 0.098465,
     "end_time": "2020-10-11T01:01:28.313424",
     "exception": false,
     "start_time": "2020-10-11T01:01:28.214959",
     "status": "completed"
    },
    "pycharm": {
     "name": "#%%\n"
    },
    "tags": []
   },
   "outputs": [],
   "source": [
    "report_resources_path_prefix = \"Data/Resources/Current/RadarCOVID-Report-\"\n",
    "result_summary_df.to_csv(report_resources_path_prefix + \"Summary-Table.csv\")\n",
    "result_summary_df.to_html(report_resources_path_prefix + \"Summary-Table.html\")\n",
    "hourly_summary_df.to_csv(report_resources_path_prefix + \"Hourly-Summary-Table.csv\")\n",
    "multi_region_summary_df.to_csv(report_resources_path_prefix + \"Multi-Region-Summary-Table.csv\")\n",
    "_ = shutil.copyfile(summary_plots_image_path, report_resources_path_prefix + \"Summary-Plots.png\")\n",
    "_ = shutil.copyfile(summary_table_image_path, report_resources_path_prefix + \"Summary-Table.png\")\n",
    "_ = shutil.copyfile(hourly_summary_plots_image_path, report_resources_path_prefix + \"Hourly-Summary-Plots.png\")\n",
    "_ = shutil.copyfile(multi_region_summary_table_image_path, report_resources_path_prefix + \"Multi-Region-Summary-Table.png\")"
   ]
  },
  {
   "cell_type": "markdown",
   "metadata": {
    "collapsed": false,
    "papermill": {
     "duration": 0.063407,
     "end_time": "2020-10-11T01:01:28.439199",
     "exception": false,
     "start_time": "2020-10-11T01:01:28.375792",
     "status": "completed"
    },
    "pycharm": {
     "name": "#%% md\n"
    },
    "tags": []
   },
   "source": [
    "### Publish Results as JSON"
   ]
  },
  {
   "cell_type": "code",
   "execution_count": 53,
   "metadata": {
    "collapsed": false,
    "execution": {
     "iopub.execute_input": "2020-10-11T01:01:28.579709Z",
     "iopub.status.busy": "2020-10-11T01:01:28.579193Z",
     "iopub.status.idle": "2020-10-11T01:01:28.583631Z",
     "shell.execute_reply": "2020-10-11T01:01:28.583189Z"
    },
    "papermill": {
     "duration": 0.081877,
     "end_time": "2020-10-11T01:01:28.583765",
     "exception": false,
     "start_time": "2020-10-11T01:01:28.501888",
     "status": "completed"
    },
    "pycharm": {
     "name": "#%%\n"
    },
    "tags": []
   },
   "outputs": [],
   "source": [
    "summary_results_api_df = result_summary_df.reset_index()\n",
    "summary_results_api_df[\"sample_date_string\"] = \\\n",
    "    summary_results_api_df[\"sample_date\"].dt.strftime(\"%Y-%m-%d\")\n",
    "\n",
    "summary_results = dict(\n",
    "    extraction_datetime=extraction_datetime,\n",
    "    extraction_date=extraction_date,\n",
    "    extraction_date_with_hour=extraction_date_with_hour,\n",
    "    last_hour=dict(\n",
    "        shared_teks_by_upload_date=shared_teks_by_upload_date_last_hour,\n",
    "        shared_diagnoses=shared_diagnoses_last_hour,\n",
    "    ),\n",
    "    today=dict(\n",
    "        covid_cases=covid_cases,\n",
    "        shared_teks_by_generation_date=shared_teks_by_generation_date,\n",
    "        shared_teks_by_upload_date=shared_teks_by_upload_date,\n",
    "        shared_diagnoses=shared_diagnoses,\n",
    "        teks_per_shared_diagnosis=teks_per_shared_diagnosis,\n",
    "        shared_diagnoses_per_covid_case=shared_diagnoses_per_covid_case,\n",
    "    ),\n",
    "    last_7_days=last_7_days_summary,\n",
    "    daily_results=summary_results_api_df.to_dict(orient=\"records\"))\n",
    "summary_results = \\\n",
    "    json.loads(pd.Series([summary_results]).to_json(orient=\"records\"))[0]\n",
    "\n",
    "with open(report_resources_path_prefix + \"Summary-Results.json\", \"w\") as f:\n",
    "    json.dump(summary_results, f, indent=4)"
   ]
  },
  {
   "cell_type": "markdown",
   "metadata": {
    "collapsed": false,
    "papermill": {
     "duration": 0.059409,
     "end_time": "2020-10-11T01:01:28.706033",
     "exception": false,
     "start_time": "2020-10-11T01:01:28.646624",
     "status": "completed"
    },
    "pycharm": {
     "name": "#%% md\n"
    },
    "tags": []
   },
   "source": [
    "### Publish on README"
   ]
  },
  {
   "cell_type": "code",
   "execution_count": 54,
   "metadata": {
    "collapsed": false,
    "execution": {
     "iopub.execute_input": "2020-10-11T01:01:28.841793Z",
     "iopub.status.busy": "2020-10-11T01:01:28.841266Z",
     "iopub.status.idle": "2020-10-11T01:01:28.845006Z",
     "shell.execute_reply": "2020-10-11T01:01:28.844537Z"
    },
    "papermill": {
     "duration": 0.071859,
     "end_time": "2020-10-11T01:01:28.845118",
     "exception": false,
     "start_time": "2020-10-11T01:01:28.773259",
     "status": "completed"
    },
    "pycharm": {
     "name": "#%%\n"
    },
    "tags": []
   },
   "outputs": [],
   "source": [
    "with open(\"Data/Templates/README.md\", \"r\") as f:\n",
    "    readme_contents = f.read()\n",
    "\n",
    "readme_contents = readme_contents.format(\n",
    "    github_project_base_url=github_project_base_url,\n",
    "    daily_summary_table_html=daily_summary_table_html,\n",
    "    extraction_date_with_hour=extraction_date_with_hour)\n",
    "\n",
    "with open(\"README.md\", \"w\") as f:\n",
    "    f.write(readme_contents)"
   ]
  },
  {
   "cell_type": "markdown",
   "metadata": {
    "collapsed": false,
    "papermill": {
     "duration": 0.064918,
     "end_time": "2020-10-11T01:01:28.972966",
     "exception": false,
     "start_time": "2020-10-11T01:01:28.908048",
     "status": "completed"
    },
    "pycharm": {
     "name": "#%% md\n"
    },
    "tags": []
   },
   "source": [
    "### Publish on Twitter"
   ]
  },
  {
   "cell_type": "code",
   "execution_count": 55,
   "metadata": {
    "collapsed": false,
    "execution": {
     "iopub.execute_input": "2020-10-11T01:01:29.110061Z",
     "iopub.status.busy": "2020-10-11T01:01:29.109543Z",
     "iopub.status.idle": "2020-10-11T01:01:33.553131Z",
     "shell.execute_reply": "2020-10-11T01:01:33.552717Z"
    },
    "papermill": {
     "duration": 4.515508,
     "end_time": "2020-10-11T01:01:33.553247",
     "exception": false,
     "start_time": "2020-10-11T01:01:29.037739",
     "status": "completed"
    },
    "pycharm": {
     "name": "#%%\n"
    },
    "tags": []
   },
   "outputs": [],
   "source": [
    "enable_share_to_twitter = os.environ.get(\"RADARCOVID_REPORT__ENABLE_PUBLISH_ON_TWITTER\")\n",
    "github_event_name = os.environ.get(\"GITHUB_EVENT_NAME\")\n",
    "\n",
    "if enable_share_to_twitter and github_event_name == \"schedule\":\n",
    "    import tweepy\n",
    "\n",
    "    twitter_api_auth_keys = os.environ[\"RADARCOVID_REPORT__TWITTER_API_AUTH_KEYS\"]\n",
    "    twitter_api_auth_keys = twitter_api_auth_keys.split(\":\")\n",
    "    auth = tweepy.OAuthHandler(twitter_api_auth_keys[0], twitter_api_auth_keys[1])\n",
    "    auth.set_access_token(twitter_api_auth_keys[2], twitter_api_auth_keys[3])\n",
    "\n",
    "    api = tweepy.API(auth)\n",
    "\n",
    "    summary_plots_media = api.media_upload(summary_plots_image_path)\n",
    "    summary_table_media = api.media_upload(summary_table_image_path)\n",
    "    hourly_summary_plots_media = api.media_upload(hourly_summary_plots_image_path)\n",
    "    media_ids = [\n",
    "        summary_plots_media.media_id,\n",
    "        summary_table_media.media_id,\n",
    "        hourly_summary_plots_media.media_id,\n",
    "    ]\n",
    "\n",
    "    status = textwrap.dedent(f\"\"\"\n",
    "        #RadarCOVID Report – {extraction_date_with_hour}\n",
    "\n",
    "        Today:\n",
    "        - Uploaded TEKs: {shared_teks_by_upload_date:.0f} ({shared_teks_by_upload_date_last_hour:+d} last hour)\n",
    "        - Shared Diagnoses: ≤{shared_diagnoses:.0f} ({shared_diagnoses_last_hour:+d} last hour)\n",
    "        - TEKs per Diagnosis: ≥{teks_per_shared_diagnosis:.1f}\n",
    "        - Usage Ratio: ≤{shared_diagnoses_per_covid_case:.2%}\n",
    "\n",
    "        Week:\n",
    "        - Shared Diagnoses: ≤{last_7_days_summary[\"shared_diagnoses\"]:.0f}\n",
    "        - Usage Ratio: ≤{last_7_days_summary[\"shared_diagnoses_per_covid_case\"]:.2%}\n",
    "\n",
    "        More Info: {github_project_base_url}#documentation\n",
    "        \"\"\")\n",
    "    status = status.encode(encoding=\"utf-8\")\n",
    "    api.update_status(status=status, media_ids=media_ids)"
   ]
  },
  {
   "cell_type": "code",
   "execution_count": null,
   "metadata": {
    "collapsed": false,
    "papermill": {
     "duration": 0.065829,
     "end_time": "2020-10-11T01:01:33.681367",
     "exception": false,
     "start_time": "2020-10-11T01:01:33.615538",
     "status": "completed"
    },
    "pycharm": {
     "name": "#%%\n"
    },
    "tags": []
   },
   "outputs": [],
   "source": []
  }
 ],
 "metadata": {
  "kernelspec": {
   "display_name": "Python 3",
   "language": "python",
   "name": "python3"
  },
  "language_info": {
   "codemirror_mode": {
    "name": "ipython",
    "version": 3
   },
   "file_extension": ".py",
   "mimetype": "text/x-python",
   "name": "python",
   "nbconvert_exporter": "python",
   "pygments_lexer": "ipython3",
   "version": "3.8.6"
  },
  "papermill": {
   "duration": 64.785786,
   "end_time": "2020-10-11T01:01:34.256327",
   "environment_variables": {},
   "exception": null,
   "input_path": "Notebooks/RadarCOVID-Report/Source/RadarCOVID-Report.ipynb",
   "output_path": "RadarCOVID-Report.ipynb",
   "parameters": {},
   "start_time": "2020-10-11T01:00:29.470541",
   "version": "2.1.3"
  }
 },
 "nbformat": 4,
 "nbformat_minor": 1
}