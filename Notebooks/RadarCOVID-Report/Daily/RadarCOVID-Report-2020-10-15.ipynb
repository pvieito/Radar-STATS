{
 "cells": [
  {
   "cell_type": "markdown",
   "metadata": {
    "papermill": {
     "duration": 0.042932,
     "end_time": "2020-10-15T09:22:59.315387",
     "exception": false,
     "start_time": "2020-10-15T09:22:59.272455",
     "status": "completed"
    },
    "pycharm": {
     "name": "#%% md\n"
    },
    "tags": []
   },
   "source": [
    "# RadarCOVID-Report"
   ]
  },
  {
   "cell_type": "markdown",
   "metadata": {
    "collapsed": true,
    "papermill": {
     "duration": 0.035695,
     "end_time": "2020-10-15T09:22:59.387403",
     "exception": false,
     "start_time": "2020-10-15T09:22:59.351708",
     "status": "completed"
    },
    "pycharm": {
     "name": "#%% md\n"
    },
    "tags": []
   },
   "source": [
    "## Data Extraction"
   ]
  },
  {
   "cell_type": "code",
   "execution_count": 1,
   "metadata": {
    "execution": {
     "iopub.execute_input": "2020-10-15T09:22:59.464673Z",
     "iopub.status.busy": "2020-10-15T09:22:59.464114Z",
     "iopub.status.idle": "2020-10-15T09:23:03.132141Z",
     "shell.execute_reply": "2020-10-15T09:23:03.131518Z"
    },
    "papermill": {
     "duration": 3.709427,
     "end_time": "2020-10-15T09:23:03.132328",
     "exception": false,
     "start_time": "2020-10-15T09:22:59.422901",
     "status": "completed"
    },
    "pycharm": {
     "name": "#%%\n"
    },
    "tags": []
   },
   "outputs": [],
   "source": [
    "import datetime\n",
    "import json\n",
    "import logging\n",
    "import os\n",
    "import shutil\n",
    "import tempfile\n",
    "import textwrap\n",
    "import uuid\n",
    "\n",
    "import matplotlib.ticker\n",
    "import numpy as np\n",
    "import pandas as pd\n",
    "import seaborn as sns\n",
    "\n",
    "%matplotlib inline"
   ]
  },
  {
   "cell_type": "code",
   "execution_count": 2,
   "metadata": {
    "collapsed": false,
    "execution": {
     "iopub.execute_input": "2020-10-15T09:23:03.217520Z",
     "iopub.status.busy": "2020-10-15T09:23:03.217004Z",
     "iopub.status.idle": "2020-10-15T09:23:03.219585Z",
     "shell.execute_reply": "2020-10-15T09:23:03.219116Z"
    },
    "papermill": {
     "duration": 0.048085,
     "end_time": "2020-10-15T09:23:03.219701",
     "exception": false,
     "start_time": "2020-10-15T09:23:03.171616",
     "status": "completed"
    },
    "pycharm": {
     "name": "#%%\n"
    },
    "tags": []
   },
   "outputs": [],
   "source": [
    "current_working_directory = os.environ.get(\"PWD\")\n",
    "if current_working_directory:\n",
    "    os.chdir(current_working_directory)\n",
    "\n",
    "sns.set()\n",
    "matplotlib.rcParams[\"figure.figsize\"] = (15, 6)\n",
    "\n",
    "extraction_datetime = datetime.datetime.utcnow()\n",
    "extraction_date = extraction_datetime.strftime(\"%Y-%m-%d\")\n",
    "extraction_previous_datetime = extraction_datetime - datetime.timedelta(days=1)\n",
    "extraction_previous_date = extraction_previous_datetime.strftime(\"%Y-%m-%d\")\n",
    "extraction_date_with_hour = datetime.datetime.utcnow().strftime(\"%Y-%m-%d@%H\")"
   ]
  },
  {
   "cell_type": "markdown",
   "metadata": {
    "collapsed": false,
    "papermill": {
     "duration": 0.038394,
     "end_time": "2020-10-15T09:23:03.297390",
     "exception": false,
     "start_time": "2020-10-15T09:23:03.258996",
     "status": "completed"
    },
    "tags": []
   },
   "source": [
    "### Constants"
   ]
  },
  {
   "cell_type": "code",
   "execution_count": 3,
   "metadata": {
    "execution": {
     "iopub.execute_input": "2020-10-15T09:23:03.379393Z",
     "iopub.status.busy": "2020-10-15T09:23:03.378812Z",
     "iopub.status.idle": "2020-10-15T09:23:03.381009Z",
     "shell.execute_reply": "2020-10-15T09:23:03.380565Z"
    },
    "papermill": {
     "duration": 0.045618,
     "end_time": "2020-10-15T09:23:03.381129",
     "exception": false,
     "start_time": "2020-10-15T09:23:03.335511",
     "status": "completed"
    },
    "pycharm": {
     "name": "#%%\n"
    },
    "tags": []
   },
   "outputs": [],
   "source": [
    "spain_region_country_name = \"Spain\"\n",
    "spain_region_country_code = \"ES\"\n",
    "\n",
    "backend_extraction_days = 7 * 2\n",
    "daily_summary_days = 7 * 4 * 3\n",
    "daily_plot_days = 7 * 4\n",
    "tek_dumps_load_limit = daily_summary_days + 1"
   ]
  },
  {
   "cell_type": "markdown",
   "metadata": {
    "collapsed": false,
    "papermill": {
     "duration": 0.036753,
     "end_time": "2020-10-15T09:23:03.454516",
     "exception": false,
     "start_time": "2020-10-15T09:23:03.417763",
     "status": "completed"
    },
    "tags": []
   },
   "source": [
    "### Parameters"
   ]
  },
  {
   "cell_type": "code",
   "execution_count": 4,
   "metadata": {
    "collapsed": false,
    "execution": {
     "iopub.execute_input": "2020-10-15T09:23:03.532931Z",
     "iopub.status.busy": "2020-10-15T09:23:03.532378Z",
     "iopub.status.idle": "2020-10-15T09:23:03.534914Z",
     "shell.execute_reply": "2020-10-15T09:23:03.534461Z"
    },
    "papermill": {
     "duration": 0.044427,
     "end_time": "2020-10-15T09:23:03.535035",
     "exception": false,
     "start_time": "2020-10-15T09:23:03.490608",
     "status": "completed"
    },
    "pycharm": {
     "name": "#%%\n"
    },
    "tags": []
   },
   "outputs": [],
   "source": [
    "active_region_parameter = os.environ.get(\"RADARCOVID_REPORT__ACTIVE_REGION\")\n",
    "if active_region_parameter:\n",
    "    active_region_country_code, active_region_country_name = \\\n",
    "        active_region_parameter.split(\":\")\n",
    "else:\n",
    "    active_region_country_code, active_region_country_name = \\\n",
    "        spain_region_country_code, spain_region_country_name"
   ]
  },
  {
   "cell_type": "markdown",
   "metadata": {
    "collapsed": false,
    "papermill": {
     "duration": 0.0369,
     "end_time": "2020-10-15T09:23:03.609043",
     "exception": false,
     "start_time": "2020-10-15T09:23:03.572143",
     "status": "completed"
    },
    "pycharm": {
     "name": "#%% md\n"
    },
    "tags": []
   },
   "source": [
    "### COVID-19 Cases"
   ]
  },
  {
   "cell_type": "code",
   "execution_count": 5,
   "metadata": {
    "collapsed": false,
    "execution": {
     "iopub.execute_input": "2020-10-15T09:23:03.691520Z",
     "iopub.status.busy": "2020-10-15T09:23:03.690966Z",
     "iopub.status.idle": "2020-10-15T09:23:04.572368Z",
     "shell.execute_reply": "2020-10-15T09:23:04.572805Z"
    },
    "papermill": {
     "duration": 0.926708,
     "end_time": "2020-10-15T09:23:04.572959",
     "exception": false,
     "start_time": "2020-10-15T09:23:03.646251",
     "status": "completed"
    },
    "pycharm": {
     "name": "#%%\n"
    },
    "tags": []
   },
   "outputs": [
    {
     "data": {
      "text/html": [
       "<div>\n",
       "<style scoped>\n",
       "    .dataframe tbody tr th:only-of-type {\n",
       "        vertical-align: middle;\n",
       "    }\n",
       "\n",
       "    .dataframe tbody tr th {\n",
       "        vertical-align: top;\n",
       "    }\n",
       "\n",
       "    .dataframe thead th {\n",
       "        text-align: right;\n",
       "    }\n",
       "</style>\n",
       "<table border=\"1\" class=\"dataframe\">\n",
       "  <thead>\n",
       "    <tr style=\"text-align: right;\">\n",
       "      <th></th>\n",
       "      <th>Country_EN</th>\n",
       "      <th>Country_ES</th>\n",
       "      <th>Country_IT</th>\n",
       "      <th>Region</th>\n",
       "      <th>2020-01-23</th>\n",
       "      <th>2020-01-24</th>\n",
       "      <th>2020-01-25</th>\n",
       "      <th>2020-01-26</th>\n",
       "      <th>2020-01-27</th>\n",
       "      <th>2020-01-28</th>\n",
       "      <th>...</th>\n",
       "      <th>2020-10-05</th>\n",
       "      <th>2020-10-06</th>\n",
       "      <th>2020-10-07</th>\n",
       "      <th>2020-10-08</th>\n",
       "      <th>2020-10-09</th>\n",
       "      <th>2020-10-10</th>\n",
       "      <th>2020-10-11</th>\n",
       "      <th>2020-10-12</th>\n",
       "      <th>2020-10-13</th>\n",
       "      <th>2020-10-14</th>\n",
       "    </tr>\n",
       "  </thead>\n",
       "  <tbody>\n",
       "    <tr>\n",
       "      <th>233</th>\n",
       "      <td>Spain</td>\n",
       "      <td>España</td>\n",
       "      <td>Spagna</td>\n",
       "      <td>NaN</td>\n",
       "      <td>0.0</td>\n",
       "      <td>0.0</td>\n",
       "      <td>0.0</td>\n",
       "      <td>0.0</td>\n",
       "      <td>0.0</td>\n",
       "      <td>0.0</td>\n",
       "      <td>...</td>\n",
       "      <td>813412.0</td>\n",
       "      <td>825410.0</td>\n",
       "      <td>835901.0</td>\n",
       "      <td>848324.0</td>\n",
       "      <td>861112.0</td>\n",
       "      <td>861112.0</td>\n",
       "      <td>861112.0</td>\n",
       "      <td>888968.0</td>\n",
       "      <td>896086.0</td>\n",
       "      <td>908056.0</td>\n",
       "    </tr>\n",
       "  </tbody>\n",
       "</table>\n",
       "<p>1 rows × 270 columns</p>\n",
       "</div>"
      ],
      "text/plain": [
       "    Country_EN Country_ES Country_IT Region  2020-01-23  2020-01-24  \\\n",
       "233      Spain     España     Spagna    NaN         0.0         0.0   \n",
       "\n",
       "     2020-01-25  2020-01-26  2020-01-27  2020-01-28  ...  2020-10-05  \\\n",
       "233         0.0         0.0         0.0         0.0  ...    813412.0   \n",
       "\n",
       "     2020-10-06  2020-10-07  2020-10-08  2020-10-09  2020-10-10  2020-10-11  \\\n",
       "233    825410.0    835901.0    848324.0    861112.0    861112.0    861112.0   \n",
       "\n",
       "     2020-10-12  2020-10-13  2020-10-14  \n",
       "233    888968.0    896086.0    908056.0  \n",
       "\n",
       "[1 rows x 270 columns]"
      ]
     },
     "execution_count": 5,
     "metadata": {},
     "output_type": "execute_result"
    }
   ],
   "source": [
    "confirmed_df = pd.read_csv(\"https://covid19tracking.narrativa.com/csv/confirmed.csv\")\n",
    "\n",
    "radar_covid_countries = {active_region_country_name}\n",
    "\n",
    "confirmed_df = confirmed_df[confirmed_df[\"Country_EN\"].isin(radar_covid_countries)]\n",
    "confirmed_df = confirmed_df[pd.isna(confirmed_df.Region)]\n",
    "confirmed_df.head()"
   ]
  },
  {
   "cell_type": "code",
   "execution_count": 6,
   "metadata": {
    "collapsed": false,
    "execution": {
     "iopub.execute_input": "2020-10-15T09:23:04.667218Z",
     "iopub.status.busy": "2020-10-15T09:23:04.666617Z",
     "iopub.status.idle": "2020-10-15T09:23:04.677960Z",
     "shell.execute_reply": "2020-10-15T09:23:04.678346Z"
    },
    "papermill": {
     "duration": 0.063597,
     "end_time": "2020-10-15T09:23:04.678488",
     "exception": false,
     "start_time": "2020-10-15T09:23:04.614891",
     "status": "completed"
    },
    "pycharm": {
     "name": "#%%\n"
    },
    "tags": []
   },
   "outputs": [
    {
     "data": {
      "text/html": [
       "<div>\n",
       "<style scoped>\n",
       "    .dataframe tbody tr th:only-of-type {\n",
       "        vertical-align: middle;\n",
       "    }\n",
       "\n",
       "    .dataframe tbody tr th {\n",
       "        vertical-align: top;\n",
       "    }\n",
       "\n",
       "    .dataframe thead th {\n",
       "        text-align: right;\n",
       "    }\n",
       "</style>\n",
       "<table border=\"1\" class=\"dataframe\">\n",
       "  <thead>\n",
       "    <tr style=\"text-align: right;\">\n",
       "      <th></th>\n",
       "      <th>2020-01-23</th>\n",
       "      <th>2020-01-24</th>\n",
       "      <th>2020-01-25</th>\n",
       "      <th>2020-01-26</th>\n",
       "      <th>2020-01-27</th>\n",
       "      <th>2020-01-28</th>\n",
       "      <th>2020-01-29</th>\n",
       "      <th>2020-01-30</th>\n",
       "      <th>2020-01-31</th>\n",
       "      <th>2020-02-01</th>\n",
       "      <th>...</th>\n",
       "      <th>2020-10-05</th>\n",
       "      <th>2020-10-06</th>\n",
       "      <th>2020-10-07</th>\n",
       "      <th>2020-10-08</th>\n",
       "      <th>2020-10-09</th>\n",
       "      <th>2020-10-10</th>\n",
       "      <th>2020-10-11</th>\n",
       "      <th>2020-10-12</th>\n",
       "      <th>2020-10-13</th>\n",
       "      <th>2020-10-14</th>\n",
       "    </tr>\n",
       "  </thead>\n",
       "  <tbody>\n",
       "    <tr>\n",
       "      <th>233</th>\n",
       "      <td>0.0</td>\n",
       "      <td>0.0</td>\n",
       "      <td>0.0</td>\n",
       "      <td>0.0</td>\n",
       "      <td>0.0</td>\n",
       "      <td>0.0</td>\n",
       "      <td>0.0</td>\n",
       "      <td>0.0</td>\n",
       "      <td>0.0</td>\n",
       "      <td>1.0</td>\n",
       "      <td>...</td>\n",
       "      <td>813412.0</td>\n",
       "      <td>825410.0</td>\n",
       "      <td>835901.0</td>\n",
       "      <td>848324.0</td>\n",
       "      <td>861112.0</td>\n",
       "      <td>861112.0</td>\n",
       "      <td>861112.0</td>\n",
       "      <td>888968.0</td>\n",
       "      <td>896086.0</td>\n",
       "      <td>908056.0</td>\n",
       "    </tr>\n",
       "  </tbody>\n",
       "</table>\n",
       "<p>1 rows × 266 columns</p>\n",
       "</div>"
      ],
      "text/plain": [
       "     2020-01-23  2020-01-24  2020-01-25  2020-01-26  2020-01-27  2020-01-28  \\\n",
       "233         0.0         0.0         0.0         0.0         0.0         0.0   \n",
       "\n",
       "     2020-01-29  2020-01-30  2020-01-31  2020-02-01  ...  2020-10-05  \\\n",
       "233         0.0         0.0         0.0         1.0  ...    813412.0   \n",
       "\n",
       "     2020-10-06  2020-10-07  2020-10-08  2020-10-09  2020-10-10  2020-10-11  \\\n",
       "233    825410.0    835901.0    848324.0    861112.0    861112.0    861112.0   \n",
       "\n",
       "     2020-10-12  2020-10-13  2020-10-14  \n",
       "233    888968.0    896086.0    908056.0  \n",
       "\n",
       "[1 rows x 266 columns]"
      ]
     },
     "execution_count": 6,
     "metadata": {},
     "output_type": "execute_result"
    }
   ],
   "source": [
    "confirmed_country_columns = list(filter(lambda x: x.startswith(\"Country_\"), confirmed_df.columns))\n",
    "confirmed_regional_columns = confirmed_country_columns + [\"Region\"]\n",
    "confirmed_df.drop(columns=confirmed_regional_columns, inplace=True)\n",
    "confirmed_df.head()"
   ]
  },
  {
   "cell_type": "code",
   "execution_count": 7,
   "metadata": {
    "collapsed": false,
    "execution": {
     "iopub.execute_input": "2020-10-15T09:23:04.762595Z",
     "iopub.status.busy": "2020-10-15T09:23:04.762089Z",
     "iopub.status.idle": "2020-10-15T09:23:04.764489Z",
     "shell.execute_reply": "2020-10-15T09:23:04.764927Z"
    },
    "papermill": {
     "duration": 0.04873,
     "end_time": "2020-10-15T09:23:04.765065",
     "exception": false,
     "start_time": "2020-10-15T09:23:04.716335",
     "status": "completed"
    },
    "pycharm": {
     "name": "#%%\n"
    },
    "tags": []
   },
   "outputs": [
    {
     "data": {
      "text/html": [
       "<div>\n",
       "<style scoped>\n",
       "    .dataframe tbody tr th:only-of-type {\n",
       "        vertical-align: middle;\n",
       "    }\n",
       "\n",
       "    .dataframe tbody tr th {\n",
       "        vertical-align: top;\n",
       "    }\n",
       "\n",
       "    .dataframe thead th {\n",
       "        text-align: right;\n",
       "    }\n",
       "</style>\n",
       "<table border=\"1\" class=\"dataframe\">\n",
       "  <thead>\n",
       "    <tr style=\"text-align: right;\">\n",
       "      <th></th>\n",
       "      <th>0</th>\n",
       "    </tr>\n",
       "  </thead>\n",
       "  <tbody>\n",
       "    <tr>\n",
       "      <th>2020-10-10</th>\n",
       "      <td>861112.0</td>\n",
       "    </tr>\n",
       "    <tr>\n",
       "      <th>2020-10-11</th>\n",
       "      <td>861112.0</td>\n",
       "    </tr>\n",
       "    <tr>\n",
       "      <th>2020-10-12</th>\n",
       "      <td>888968.0</td>\n",
       "    </tr>\n",
       "    <tr>\n",
       "      <th>2020-10-13</th>\n",
       "      <td>896086.0</td>\n",
       "    </tr>\n",
       "    <tr>\n",
       "      <th>2020-10-14</th>\n",
       "      <td>908056.0</td>\n",
       "    </tr>\n",
       "  </tbody>\n",
       "</table>\n",
       "</div>"
      ],
      "text/plain": [
       "                   0\n",
       "2020-10-10  861112.0\n",
       "2020-10-11  861112.0\n",
       "2020-10-12  888968.0\n",
       "2020-10-13  896086.0\n",
       "2020-10-14  908056.0"
      ]
     },
     "execution_count": 7,
     "metadata": {},
     "output_type": "execute_result"
    }
   ],
   "source": [
    "confirmed_df = confirmed_df.sum().to_frame()\n",
    "confirmed_df.tail()"
   ]
  },
  {
   "cell_type": "code",
   "execution_count": 8,
   "metadata": {
    "collapsed": false,
    "execution": {
     "iopub.execute_input": "2020-10-15T09:23:04.855282Z",
     "iopub.status.busy": "2020-10-15T09:23:04.854735Z",
     "iopub.status.idle": "2020-10-15T09:23:04.859167Z",
     "shell.execute_reply": "2020-10-15T09:23:04.858700Z"
    },
    "papermill": {
     "duration": 0.056483,
     "end_time": "2020-10-15T09:23:04.859286",
     "exception": false,
     "start_time": "2020-10-15T09:23:04.802803",
     "status": "completed"
    },
    "pycharm": {
     "name": "#%%\n"
    },
    "tags": []
   },
   "outputs": [
    {
     "data": {
      "text/html": [
       "<div>\n",
       "<style scoped>\n",
       "    .dataframe tbody tr th:only-of-type {\n",
       "        vertical-align: middle;\n",
       "    }\n",
       "\n",
       "    .dataframe tbody tr th {\n",
       "        vertical-align: top;\n",
       "    }\n",
       "\n",
       "    .dataframe thead th {\n",
       "        text-align: right;\n",
       "    }\n",
       "</style>\n",
       "<table border=\"1\" class=\"dataframe\">\n",
       "  <thead>\n",
       "    <tr style=\"text-align: right;\">\n",
       "      <th></th>\n",
       "      <th>sample_date_string</th>\n",
       "      <th>cumulative_cases</th>\n",
       "      <th>new_cases</th>\n",
       "      <th>covid_cases</th>\n",
       "    </tr>\n",
       "  </thead>\n",
       "  <tbody>\n",
       "    <tr>\n",
       "      <th>261</th>\n",
       "      <td>2020-10-10</td>\n",
       "      <td>861112.0</td>\n",
       "      <td>0.0</td>\n",
       "      <td>10169.0</td>\n",
       "    </tr>\n",
       "    <tr>\n",
       "      <th>262</th>\n",
       "      <td>2020-10-11</td>\n",
       "      <td>861112.0</td>\n",
       "      <td>0.0</td>\n",
       "      <td>10169.0</td>\n",
       "    </tr>\n",
       "    <tr>\n",
       "      <th>263</th>\n",
       "      <td>2020-10-12</td>\n",
       "      <td>888968.0</td>\n",
       "      <td>27856.0</td>\n",
       "      <td>10794.0</td>\n",
       "    </tr>\n",
       "    <tr>\n",
       "      <th>264</th>\n",
       "      <td>2020-10-13</td>\n",
       "      <td>896086.0</td>\n",
       "      <td>7118.0</td>\n",
       "      <td>10097.0</td>\n",
       "    </tr>\n",
       "    <tr>\n",
       "      <th>265</th>\n",
       "      <td>2020-10-14</td>\n",
       "      <td>908056.0</td>\n",
       "      <td>11970.0</td>\n",
       "      <td>10308.0</td>\n",
       "    </tr>\n",
       "  </tbody>\n",
       "</table>\n",
       "</div>"
      ],
      "text/plain": [
       "    sample_date_string  cumulative_cases  new_cases  covid_cases\n",
       "261         2020-10-10          861112.0        0.0      10169.0\n",
       "262         2020-10-11          861112.0        0.0      10169.0\n",
       "263         2020-10-12          888968.0    27856.0      10794.0\n",
       "264         2020-10-13          896086.0     7118.0      10097.0\n",
       "265         2020-10-14          908056.0    11970.0      10308.0"
      ]
     },
     "execution_count": 8,
     "metadata": {},
     "output_type": "execute_result"
    }
   ],
   "source": [
    "confirmed_df.reset_index(inplace=True)\n",
    "confirmed_df.columns = [\"sample_date_string\", \"cumulative_cases\"]\n",
    "confirmed_df.sort_values(\"sample_date_string\", inplace=True)\n",
    "confirmed_df[\"new_cases\"] = confirmed_df.cumulative_cases.diff()\n",
    "confirmed_df[\"covid_cases\"] = confirmed_df.new_cases.rolling(7).mean().round()\n",
    "confirmed_df.tail()"
   ]
  },
  {
   "cell_type": "code",
   "execution_count": 9,
   "metadata": {
    "execution": {
     "iopub.execute_input": "2020-10-15T09:23:04.946614Z",
     "iopub.status.busy": "2020-10-15T09:23:04.946022Z",
     "iopub.status.idle": "2020-10-15T09:23:04.956803Z",
     "shell.execute_reply": "2020-10-15T09:23:04.956331Z"
    },
    "papermill": {
     "duration": 0.058211,
     "end_time": "2020-10-15T09:23:04.956918",
     "exception": false,
     "start_time": "2020-10-15T09:23:04.898707",
     "status": "completed"
    },
    "pycharm": {
     "name": "#%%\n"
    },
    "tags": []
   },
   "outputs": [
    {
     "data": {
      "text/html": [
       "<div>\n",
       "<style scoped>\n",
       "    .dataframe tbody tr th:only-of-type {\n",
       "        vertical-align: middle;\n",
       "    }\n",
       "\n",
       "    .dataframe tbody tr th {\n",
       "        vertical-align: top;\n",
       "    }\n",
       "\n",
       "    .dataframe thead th {\n",
       "        text-align: right;\n",
       "    }\n",
       "</style>\n",
       "<table border=\"1\" class=\"dataframe\">\n",
       "  <thead>\n",
       "    <tr style=\"text-align: right;\">\n",
       "      <th></th>\n",
       "      <th>sample_date_string</th>\n",
       "      <th>cumulative_cases</th>\n",
       "      <th>new_cases</th>\n",
       "      <th>covid_cases</th>\n",
       "    </tr>\n",
       "  </thead>\n",
       "  <tbody>\n",
       "    <tr>\n",
       "      <th>262</th>\n",
       "      <td>2020-10-11</td>\n",
       "      <td>861112.0</td>\n",
       "      <td>0.0</td>\n",
       "      <td>10169</td>\n",
       "    </tr>\n",
       "    <tr>\n",
       "      <th>263</th>\n",
       "      <td>2020-10-12</td>\n",
       "      <td>888968.0</td>\n",
       "      <td>27856.0</td>\n",
       "      <td>10794</td>\n",
       "    </tr>\n",
       "    <tr>\n",
       "      <th>264</th>\n",
       "      <td>2020-10-13</td>\n",
       "      <td>896086.0</td>\n",
       "      <td>7118.0</td>\n",
       "      <td>10097</td>\n",
       "    </tr>\n",
       "    <tr>\n",
       "      <th>265</th>\n",
       "      <td>2020-10-14</td>\n",
       "      <td>908056.0</td>\n",
       "      <td>11970.0</td>\n",
       "      <td>10308</td>\n",
       "    </tr>\n",
       "    <tr>\n",
       "      <th>265</th>\n",
       "      <td>2020-10-15</td>\n",
       "      <td>918364.0</td>\n",
       "      <td>10308.0</td>\n",
       "      <td>10308</td>\n",
       "    </tr>\n",
       "  </tbody>\n",
       "</table>\n",
       "</div>"
      ],
      "text/plain": [
       "    sample_date_string  cumulative_cases  new_cases  covid_cases\n",
       "262         2020-10-11          861112.0        0.0        10169\n",
       "263         2020-10-12          888968.0    27856.0        10794\n",
       "264         2020-10-13          896086.0     7118.0        10097\n",
       "265         2020-10-14          908056.0    11970.0        10308\n",
       "265         2020-10-15          918364.0    10308.0        10308"
      ]
     },
     "execution_count": 9,
     "metadata": {},
     "output_type": "execute_result"
    }
   ],
   "source": [
    "extraction_date_confirmed_df = \\\n",
    "    confirmed_df[confirmed_df.sample_date_string == extraction_date]\n",
    "extraction_previous_date_confirmed_df = \\\n",
    "    confirmed_df[confirmed_df.sample_date_string == extraction_previous_date].copy()\n",
    "\n",
    "if extraction_date_confirmed_df.empty and \\\n",
    "    not extraction_previous_date_confirmed_df.empty:\n",
    "        extraction_previous_date_confirmed_df[\"sample_date_string\"] = extraction_date\n",
    "        extraction_previous_date_confirmed_df[\"new_cases\"] = \\\n",
    "            extraction_previous_date_confirmed_df.covid_cases\n",
    "        extraction_previous_date_confirmed_df[\"cumulative_cases\"] = \\\n",
    "            extraction_previous_date_confirmed_df.new_cases + \\\n",
    "            extraction_previous_date_confirmed_df.cumulative_cases\n",
    "        confirmed_df = confirmed_df.append(extraction_previous_date_confirmed_df)\n",
    "\n",
    "confirmed_df[\"covid_cases\"] = confirmed_df.covid_cases.fillna(0).astype(int)\n",
    "confirmed_df.tail()"
   ]
  },
  {
   "cell_type": "code",
   "execution_count": 10,
   "metadata": {
    "execution": {
     "iopub.execute_input": "2020-10-15T09:23:05.066520Z",
     "iopub.status.busy": "2020-10-15T09:23:05.057427Z",
     "iopub.status.idle": "2020-10-15T09:23:05.249389Z",
     "shell.execute_reply": "2020-10-15T09:23:05.248915Z"
    },
    "papermill": {
     "duration": 0.252974,
     "end_time": "2020-10-15T09:23:05.249514",
     "exception": false,
     "start_time": "2020-10-15T09:23:04.996540",
     "status": "completed"
    },
    "pycharm": {
     "name": "#%%\n"
    },
    "tags": []
   },
   "outputs": [
    {
     "data": {
      "text/plain": [
       "<matplotlib.axes._subplots.AxesSubplot at 0x7ff28c2ab760>"
      ]
     },
     "execution_count": 10,
     "metadata": {},
     "output_type": "execute_result"
    },
    {
     "data": {
      "image/png": "[encoded data removed]",
      "text/plain": [
       "<Figure size 1080x432 with 1 Axes>"
      ]
     },
     "metadata": {},
     "output_type": "display_data"
    }
   ],
   "source": [
    "confirmed_df[[\"new_cases\", \"covid_cases\"]].plot()"
   ]
  },
  {
   "cell_type": "markdown",
   "metadata": {
    "execution": {
     "iopub.execute_input": "2020-08-30T22:30:16.351238Z",
     "iopub.status.busy": "2020-08-30T22:30:16.344579Z",
     "iopub.status.idle": "2020-08-30T22:30:16.354285Z",
     "shell.execute_reply": "2020-08-30T22:30:16.353641Z"
    },
    "papermill": {
     "duration": 0.042034,
     "end_time": "2020-10-15T09:23:05.333436",
     "exception": false,
     "start_time": "2020-10-15T09:23:05.291402",
     "status": "completed"
    },
    "pycharm": {
     "name": "#%% md\n"
    },
    "tags": []
   },
   "source": [
    "### Extract API TEKs"
   ]
  },
  {
   "cell_type": "code",
   "execution_count": 11,
   "metadata": {
    "execution": {
     "iopub.execute_input": "2020-10-15T09:23:05.422574Z",
     "iopub.status.busy": "2020-10-15T09:23:05.421919Z",
     "iopub.status.idle": "2020-10-15T09:23:42.084136Z",
     "shell.execute_reply": "2020-10-15T09:23:42.084728Z"
    },
    "papermill": {
     "duration": 36.710259,
     "end_time": "2020-10-15T09:23:42.084941",
     "exception": false,
     "start_time": "2020-10-15T09:23:05.374682",
     "status": "completed"
    },
    "pycharm": {
     "name": "#%%\n"
    },
    "tags": []
   },
   "outputs": [
    {
     "name": "stderr",
     "output_type": "stream",
     "text": [
      "WARNING:root:NoKeysFoundException(\"No exposure keys found on endpoint 'https://stayaway.incm.pt/v1/gaen/exposed/1602720000000' (parameters: {'sample_date': '2020-10-15', 'server_endpoint_url': 'https://stayaway.incm.pt', 'backend_identifier': 'PT'}).\")\n"
     ]
    },
    {
     "name": "stderr",
     "output_type": "stream",
     "text": [
      "WARNING:root:NoKeysFoundException(\"No exposure keys found on endpoint 'https://enapi.sm.ee/authorization/v1/gaen/exposed/1602720000000' (parameters: {'sample_date': '2020-10-15', 'server_endpoint_url': 'https://enapi.sm.ee/authorization', 'backend_identifier': 'EE'}).\")\n"
     ]
    },
    {
     "name": "stderr",
     "output_type": "stream",
     "text": [
      "WARNING:root:NoKeysFoundException(\"No exposure keys found on endpoint 'https://enapi.sm.ee/authorization/v1/gaen/exposed/1602633600000' (parameters: {'sample_date': '2020-10-14', 'server_endpoint_url': 'https://enapi.sm.ee/authorization', 'backend_identifier': 'EE'}).\")\n"
     ]
    },
    {
     "name": "stderr",
     "output_type": "stream",
     "text": [
      "WARNING:root:NoKeysFoundException(\"No exposure keys found on endpoint 'https://mt-dpppt-ws.azurewebsites.net/v1/gaen/exposed/1602720000000' (parameters: {'sample_date': '2020-10-15', 'server_endpoint_url': 'https://mt-dpppt-ws.azurewebsites.net', 'backend_identifier': 'MT'}).\")\n"
     ]
    },
    {
     "name": "stderr",
     "output_type": "stream",
     "text": [
      "WARNING:root:NoKeysFoundException(\"No exposure keys found on endpoint 'https://svc90.main.px.t-online.de/version/v1/diagnosis-keys/country/NL/date/2020-10-15' (parameters: {'country': 'NL', 'sample_date': '2020-10-15', 'server_endpoint_url': 'https://svc90.main.px.t-online.de', 'backend_identifier': 'DE-NL'}).\")\n"
     ]
    },
    {
     "name": "stderr",
     "output_type": "stream",
     "text": [
      "WARNING:root:NoKeysFoundException(\"No exposure keys found on endpoint 'https://svc90.main.px.t-online.de/version/v1/diagnosis-keys/country/NL/date/2020-10-14' (parameters: {'country': 'NL', 'sample_date': '2020-10-14', 'server_endpoint_url': 'https://svc90.main.px.t-online.de', 'backend_identifier': 'DE-NL'}).\")\n"
     ]
    },
    {
     "name": "stderr",
     "output_type": "stream",
     "text": [
      "WARNING:root:NoKeysFoundException(\"No exposure keys found on endpoint 'https://svc90.main.px.t-online.de/version/v1/diagnosis-keys/country/NL/date/2020-10-13' (parameters: {'country': 'NL', 'sample_date': '2020-10-13', 'server_endpoint_url': 'https://svc90.main.px.t-online.de', 'backend_identifier': 'DE-NL'}).\")\n"
     ]
    },
    {
     "name": "stderr",
     "output_type": "stream",
     "text": [
      "WARNING:root:NoKeysFoundException(\"No exposure keys found on endpoint 'https://svc90.main.px.t-online.de/version/v1/diagnosis-keys/country/NL/date/2020-10-12' (parameters: {'country': 'NL', 'sample_date': '2020-10-12', 'server_endpoint_url': 'https://svc90.main.px.t-online.de', 'backend_identifier': 'DE-NL'}).\")\n"
     ]
    },
    {
     "name": "stderr",
     "output_type": "stream",
     "text": [
      "WARNING:root:NoKeysFoundException(\"No exposure keys found on endpoint 'https://svc90.main.px.t-online.de/version/v1/diagnosis-keys/country/NL/date/2020-10-11' (parameters: {'country': 'NL', 'sample_date': '2020-10-11', 'server_endpoint_url': 'https://svc90.main.px.t-online.de', 'backend_identifier': 'DE-NL'}).\")\n"
     ]
    },
    {
     "name": "stderr",
     "output_type": "stream",
     "text": [
      "WARNING:root:NoKeysFoundException(\"No exposure keys found on endpoint 'https://svc90.main.px.t-online.de/version/v1/diagnosis-keys/country/NL/date/2020-10-10' (parameters: {'country': 'NL', 'sample_date': '2020-10-10', 'server_endpoint_url': 'https://svc90.main.px.t-online.de', 'backend_identifier': 'DE-NL'}).\")\n"
     ]
    },
    {
     "name": "stderr",
     "output_type": "stream",
     "text": [
      "WARNING:root:NoKeysFoundException(\"No exposure keys found on endpoint 'https://svc90.main.px.t-online.de/version/v1/diagnosis-keys/country/NL/date/2020-10-09' (parameters: {'country': 'NL', 'sample_date': '2020-10-09', 'server_endpoint_url': 'https://svc90.main.px.t-online.de', 'backend_identifier': 'DE-NL'}).\")\n"
     ]
    },
    {
     "name": "stderr",
     "output_type": "stream",
     "text": [
      "WARNING:root:NoKeysFoundException(\"No exposure keys found on endpoint 'https://svc90.main.px.t-online.de/version/v1/diagnosis-keys/country/NL/date/2020-10-08' (parameters: {'country': 'NL', 'sample_date': '2020-10-08', 'server_endpoint_url': 'https://svc90.main.px.t-online.de', 'backend_identifier': 'DE-NL'}).\")\n"
     ]
    },
    {
     "name": "stderr",
     "output_type": "stream",
     "text": [
      "WARNING:root:NoKeysFoundException(\"No exposure keys found on endpoint 'https://svc90.main.px.t-online.de/version/v1/diagnosis-keys/country/NL/date/2020-10-07' (parameters: {'country': 'NL', 'sample_date': '2020-10-07', 'server_endpoint_url': 'https://svc90.main.px.t-online.de', 'backend_identifier': 'DE-NL'}).\")\n"
     ]
    },
    {
     "name": "stderr",
     "output_type": "stream",
     "text": [
      "WARNING:root:NoKeysFoundException(\"No exposure keys found on endpoint 'https://svc90.main.px.t-online.de/version/v1/diagnosis-keys/country/NL/date/2020-10-06' (parameters: {'country': 'NL', 'sample_date': '2020-10-06', 'server_endpoint_url': 'https://svc90.main.px.t-online.de', 'backend_identifier': 'DE-NL'}).\")\n"
     ]
    },
    {
     "name": "stderr",
     "output_type": "stream",
     "text": [
      "WARNING:root:NoKeysFoundException(\"No exposure keys found on endpoint 'https://svc90.main.px.t-online.de/version/v1/diagnosis-keys/country/NL/date/2020-10-05' (parameters: {'country': 'NL', 'sample_date': '2020-10-05', 'server_endpoint_url': 'https://svc90.main.px.t-online.de', 'backend_identifier': 'DE-NL'}).\")\n"
     ]
    },
    {
     "name": "stderr",
     "output_type": "stream",
     "text": [
      "WARNING:root:NoKeysFoundException(\"No exposure keys found on endpoint 'https://svc90.main.px.t-online.de/version/v1/diagnosis-keys/country/NL/date/2020-10-04' (parameters: {'country': 'NL', 'sample_date': '2020-10-04', 'server_endpoint_url': 'https://svc90.main.px.t-online.de', 'backend_identifier': 'DE-NL'}).\")\n"
     ]
    },
    {
     "name": "stderr",
     "output_type": "stream",
     "text": [
      "WARNING:root:NoKeysFoundException(\"No exposure keys found on endpoint 'https://svc90.main.px.t-online.de/version/v1/diagnosis-keys/country/NL/date/2020-10-03' (parameters: {'country': 'NL', 'sample_date': '2020-10-03', 'server_endpoint_url': 'https://svc90.main.px.t-online.de', 'backend_identifier': 'DE-NL'}).\")\n"
     ]
    },
    {
     "name": "stderr",
     "output_type": "stream",
     "text": [
      "WARNING:root:NoKeysFoundException(\"No exposure keys found on endpoint 'https://svc90.main.px.t-online.de/version/v1/diagnosis-keys/country/NL/date/2020-10-02' (parameters: {'country': 'NL', 'sample_date': '2020-10-02', 'server_endpoint_url': 'https://svc90.main.px.t-online.de', 'backend_identifier': 'DE-NL'}).\")\n"
     ]
    },
    {
     "name": "stderr",
     "output_type": "stream",
     "text": [
      "WARNING:root:NoKeysFoundException(\"No exposure keys found on endpoint 'https://svc90.main.px.t-online.de/version/v1/diagnosis-keys/country/ES/date/2020-10-15' (parameters: {'country': 'ES', 'sample_date': '2020-10-15', 'server_endpoint_url': 'https://svc90.main.px.t-online.de', 'backend_identifier': 'DE-ES'}).\")\n"
     ]
    },
    {
     "name": "stderr",
     "output_type": "stream",
     "text": [
      "WARNING:root:NoKeysFoundException(\"No exposure keys found on endpoint 'https://svc90.main.px.t-online.de/version/v1/diagnosis-keys/country/ES/date/2020-10-14' (parameters: {'country': 'ES', 'sample_date': '2020-10-14', 'server_endpoint_url': 'https://svc90.main.px.t-online.de', 'backend_identifier': 'DE-ES'}).\")\n"
     ]
    },
    {
     "name": "stderr",
     "output_type": "stream",
     "text": [
      "WARNING:root:NoKeysFoundException(\"No exposure keys found on endpoint 'https://svc90.main.px.t-online.de/version/v1/diagnosis-keys/country/ES/date/2020-10-13' (parameters: {'country': 'ES', 'sample_date': '2020-10-13', 'server_endpoint_url': 'https://svc90.main.px.t-online.de', 'backend_identifier': 'DE-ES'}).\")\n"
     ]
    },
    {
     "name": "stderr",
     "output_type": "stream",
     "text": [
      "WARNING:root:NoKeysFoundException(\"No exposure keys found on endpoint 'https://svc90.main.px.t-online.de/version/v1/diagnosis-keys/country/ES/date/2020-10-12' (parameters: {'country': 'ES', 'sample_date': '2020-10-12', 'server_endpoint_url': 'https://svc90.main.px.t-online.de', 'backend_identifier': 'DE-ES'}).\")\n"
     ]
    },
    {
     "name": "stderr",
     "output_type": "stream",
     "text": [
      "WARNING:root:NoKeysFoundException(\"No exposure keys found on endpoint 'https://svc90.main.px.t-online.de/version/v1/diagnosis-keys/country/ES/date/2020-10-11' (parameters: {'country': 'ES', 'sample_date': '2020-10-11', 'server_endpoint_url': 'https://svc90.main.px.t-online.de', 'backend_identifier': 'DE-ES'}).\")\n"
     ]
    },
    {
     "name": "stderr",
     "output_type": "stream",
     "text": [
      "WARNING:root:NoKeysFoundException(\"No exposure keys found on endpoint 'https://svc90.main.px.t-online.de/version/v1/diagnosis-keys/country/ES/date/2020-10-10' (parameters: {'country': 'ES', 'sample_date': '2020-10-10', 'server_endpoint_url': 'https://svc90.main.px.t-online.de', 'backend_identifier': 'DE-ES'}).\")\n"
     ]
    },
    {
     "name": "stderr",
     "output_type": "stream",
     "text": [
      "WARNING:root:NoKeysFoundException(\"No exposure keys found on endpoint 'https://svc90.main.px.t-online.de/version/v1/diagnosis-keys/country/ES/date/2020-10-09' (parameters: {'country': 'ES', 'sample_date': '2020-10-09', 'server_endpoint_url': 'https://svc90.main.px.t-online.de', 'backend_identifier': 'DE-ES'}).\")\n"
     ]
    },
    {
     "name": "stderr",
     "output_type": "stream",
     "text": [
      "WARNING:root:NoKeysFoundException(\"No exposure keys found on endpoint 'https://svc90.main.px.t-online.de/version/v1/diagnosis-keys/country/ES/date/2020-10-08' (parameters: {'country': 'ES', 'sample_date': '2020-10-08', 'server_endpoint_url': 'https://svc90.main.px.t-online.de', 'backend_identifier': 'DE-ES'}).\")\n"
     ]
    },
    {
     "name": "stderr",
     "output_type": "stream",
     "text": [
      "WARNING:root:NoKeysFoundException(\"No exposure keys found on endpoint 'https://svc90.main.px.t-online.de/version/v1/diagnosis-keys/country/ES/date/2020-10-07' (parameters: {'country': 'ES', 'sample_date': '2020-10-07', 'server_endpoint_url': 'https://svc90.main.px.t-online.de', 'backend_identifier': 'DE-ES'}).\")\n"
     ]
    },
    {
     "name": "stderr",
     "output_type": "stream",
     "text": [
      "WARNING:root:NoKeysFoundException(\"No exposure keys found on endpoint 'https://svc90.main.px.t-online.de/version/v1/diagnosis-keys/country/ES/date/2020-10-06' (parameters: {'country': 'ES', 'sample_date': '2020-10-06', 'server_endpoint_url': 'https://svc90.main.px.t-online.de', 'backend_identifier': 'DE-ES'}).\")\n"
     ]
    },
    {
     "name": "stderr",
     "output_type": "stream",
     "text": [
      "WARNING:root:NoKeysFoundException(\"No exposure keys found on endpoint 'https://svc90.main.px.t-online.de/version/v1/diagnosis-keys/country/ES/date/2020-10-05' (parameters: {'country': 'ES', 'sample_date': '2020-10-05', 'server_endpoint_url': 'https://svc90.main.px.t-online.de', 'backend_identifier': 'DE-ES'}).\")\n"
     ]
    },
    {
     "name": "stderr",
     "output_type": "stream",
     "text": [
      "WARNING:root:NoKeysFoundException(\"No exposure keys found on endpoint 'https://svc90.main.px.t-online.de/version/v1/diagnosis-keys/country/ES/date/2020-10-04' (parameters: {'country': 'ES', 'sample_date': '2020-10-04', 'server_endpoint_url': 'https://svc90.main.px.t-online.de', 'backend_identifier': 'DE-ES'}).\")\n"
     ]
    },
    {
     "name": "stderr",
     "output_type": "stream",
     "text": [
      "WARNING:root:NoKeysFoundException(\"No exposure keys found on endpoint 'https://svc90.main.px.t-online.de/version/v1/diagnosis-keys/country/ES/date/2020-10-03' (parameters: {'country': 'ES', 'sample_date': '2020-10-03', 'server_endpoint_url': 'https://svc90.main.px.t-online.de', 'backend_identifier': 'DE-ES'}).\")\n"
     ]
    },
    {
     "name": "stderr",
     "output_type": "stream",
     "text": [
      "WARNING:root:NoKeysFoundException(\"No exposure keys found on endpoint 'https://svc90.main.px.t-online.de/version/v1/diagnosis-keys/country/ES/date/2020-10-02' (parameters: {'country': 'ES', 'sample_date': '2020-10-02', 'server_endpoint_url': 'https://svc90.main.px.t-online.de', 'backend_identifier': 'DE-ES'}).\")\n"
     ]
    },
    {
     "data": {
      "text/html": [
       "<div>\n",
       "<style scoped>\n",
       "    .dataframe tbody tr th:only-of-type {\n",
       "        vertical-align: middle;\n",
       "    }\n",
       "\n",
       "    .dataframe tbody tr th {\n",
       "        vertical-align: top;\n",
       "    }\n",
       "\n",
       "    .dataframe thead th {\n",
       "        text-align: right;\n",
       "    }\n",
       "</style>\n",
       "<table border=\"1\" class=\"dataframe\">\n",
       "  <thead>\n",
       "    <tr style=\"text-align: right;\">\n",
       "      <th></th>\n",
       "      <th>sample_datetime</th>\n",
       "      <th>sample_date_string</th>\n",
       "      <th>region</th>\n",
       "      <th>verification_key_version</th>\n",
       "      <th>verification_key_id</th>\n",
       "      <th>signature_algorithm</th>\n",
       "      <th>key_data</th>\n",
       "      <th>rolling_start_interval_number</th>\n",
       "      <th>rolling_period</th>\n",
       "      <th>transmission_risk_level</th>\n",
       "      <th>backend_identifier</th>\n",
       "    </tr>\n",
       "  </thead>\n",
       "  <tbody>\n",
       "    <tr>\n",
       "      <th>0</th>\n",
       "      <td>2020-10-15</td>\n",
       "      <td>2020-10-15</td>\n",
       "      <td>ES</td>\n",
       "      <td>V1</td>\n",
       "      <td>214</td>\n",
       "      <td>1.2.840.10045.4.3.2</td>\n",
       "      <td>415d89c5-3161-fff2-87e7-693667cc851c</td>\n",
       "      <td>2671200</td>\n",
       "      <td>47</td>\n",
       "      <td>0</td>\n",
       "      <td>ES</td>\n",
       "    </tr>\n",
       "    <tr>\n",
       "      <th>1</th>\n",
       "      <td>2020-10-15</td>\n",
       "      <td>2020-10-15</td>\n",
       "      <td>ES</td>\n",
       "      <td>V1</td>\n",
       "      <td>214</td>\n",
       "      <td>1.2.840.10045.4.3.2</td>\n",
       "      <td>683528fc-7455-562a-3a19-48a3fcd33506</td>\n",
       "      <td>2671200</td>\n",
       "      <td>47</td>\n",
       "      <td>0</td>\n",
       "      <td>ES</td>\n",
       "    </tr>\n",
       "    <tr>\n",
       "      <th>2</th>\n",
       "      <td>2020-10-15</td>\n",
       "      <td>2020-10-15</td>\n",
       "      <td>ES</td>\n",
       "      <td>V1</td>\n",
       "      <td>214</td>\n",
       "      <td>1.2.840.10045.4.3.2</td>\n",
       "      <td>384105f2-b92a-2d44-5301-f9d8206fa97a</td>\n",
       "      <td>2671200</td>\n",
       "      <td>46</td>\n",
       "      <td>0</td>\n",
       "      <td>ES</td>\n",
       "    </tr>\n",
       "    <tr>\n",
       "      <th>3</th>\n",
       "      <td>2020-10-15</td>\n",
       "      <td>2020-10-15</td>\n",
       "      <td>ES</td>\n",
       "      <td>V1</td>\n",
       "      <td>214</td>\n",
       "      <td>1.2.840.10045.4.3.2</td>\n",
       "      <td>2c3d2c7e-b348-e77c-6c68-7031008699ce</td>\n",
       "      <td>2671200</td>\n",
       "      <td>45</td>\n",
       "      <td>0</td>\n",
       "      <td>ES</td>\n",
       "    </tr>\n",
       "    <tr>\n",
       "      <th>4</th>\n",
       "      <td>2020-10-15</td>\n",
       "      <td>2020-10-15</td>\n",
       "      <td>ES</td>\n",
       "      <td>V1</td>\n",
       "      <td>214</td>\n",
       "      <td>1.2.840.10045.4.3.2</td>\n",
       "      <td>f9c4c5b6-8a8f-9f9a-b047-86b6f8ccd603</td>\n",
       "      <td>2671200</td>\n",
       "      <td>45</td>\n",
       "      <td>0</td>\n",
       "      <td>ES</td>\n",
       "    </tr>\n",
       "  </tbody>\n",
       "</table>\n",
       "</div>"
      ],
      "text/plain": [
       "  sample_datetime sample_date_string region verification_key_version  \\\n",
       "0      2020-10-15         2020-10-15     ES                       V1   \n",
       "1      2020-10-15         2020-10-15     ES                       V1   \n",
       "2      2020-10-15         2020-10-15     ES                       V1   \n",
       "3      2020-10-15         2020-10-15     ES                       V1   \n",
       "4      2020-10-15         2020-10-15     ES                       V1   \n",
       "\n",
       "  verification_key_id  signature_algorithm  \\\n",
       "0                 214  1.2.840.10045.4.3.2   \n",
       "1                 214  1.2.840.10045.4.3.2   \n",
       "2                 214  1.2.840.10045.4.3.2   \n",
       "3                 214  1.2.840.10045.4.3.2   \n",
       "4                 214  1.2.840.10045.4.3.2   \n",
       "\n",
       "                               key_data  rolling_start_interval_number  \\\n",
       "0  415d89c5-3161-fff2-87e7-693667cc851c                        2671200   \n",
       "1  683528fc-7455-562a-3a19-48a3fcd33506                        2671200   \n",
       "2  384105f2-b92a-2d44-5301-f9d8206fa97a                        2671200   \n",
       "3  2c3d2c7e-b348-e77c-6c68-7031008699ce                        2671200   \n",
       "4  f9c4c5b6-8a8f-9f9a-b047-86b6f8ccd603                        2671200   \n",
       "\n",
       "   rolling_period  transmission_risk_level backend_identifier  \n",
       "0              47                        0                 ES  \n",
       "1              47                        0                 ES  \n",
       "2              46                        0                 ES  \n",
       "3              45                        0                 ES  \n",
       "4              45                        0                 ES  "
      ]
     },
     "execution_count": 11,
     "metadata": {},
     "output_type": "execute_result"
    }
   ],
   "source": [
    "from Modules.ExposureNotification import exposure_notification_io\n",
    "\n",
    "raw_zip_path_prefix = \"Data/TEKs/Raw/{backend_identifier}/\"\n",
    "raw_zip_path_suffix = \"/TEKs-{backend_identifier}-{sample_date}.zip\"\n",
    "raw_zip_paths = [\n",
    "    \"Current\",\n",
    "    f\"Daily/{extraction_date}\",\n",
    "]\n",
    "raw_zip_paths = list(map(lambda x: raw_zip_path_prefix + x + raw_zip_path_suffix, raw_zip_paths))\n",
    "\n",
    "fail_on_error_backend_identifiers = [active_region_country_code]\n",
    "multi_region_exposure_keys_df = \\\n",
    "    exposure_notification_io.download_exposure_keys_from_backends(\n",
    "        days=backend_extraction_days,\n",
    "        fail_on_error_backend_identifiers=fail_on_error_backend_identifiers,\n",
    "        save_raw_zip_path=raw_zip_paths)\n",
    "multi_region_exposure_keys_df[\"region\"] = multi_region_exposure_keys_df[\"backend_identifier\"]\n",
    "multi_region_exposure_keys_df.rename(\n",
    "    columns={\n",
    "        \"generation_datetime\": \"sample_datetime\",\n",
    "        \"generation_date_string\": \"sample_date_string\",\n",
    "    },\n",
    "    inplace=True)\n",
    "multi_region_exposure_keys_df.head()"
   ]
  },
  {
   "cell_type": "code",
   "execution_count": 12,
   "metadata": {
    "collapsed": false,
    "execution": {
     "iopub.execute_input": "2020-10-15T09:23:42.200320Z",
     "iopub.status.busy": "2020-10-15T09:23:42.199764Z",
     "iopub.status.idle": "2020-10-15T09:23:42.444466Z",
     "shell.execute_reply": "2020-10-15T09:23:42.444039Z"
    },
    "papermill": {
     "duration": 0.303904,
     "end_time": "2020-10-15T09:23:42.444587",
     "exception": false,
     "start_time": "2020-10-15T09:23:42.140683",
     "status": "completed"
    },
    "pycharm": {
     "name": "#%%\n"
    },
    "tags": []
   },
   "outputs": [
    {
     "data": {
      "text/plain": [
       "<matplotlib.axes._subplots.AxesSubplot at 0x7ff28c1f7430>"
      ]
     },
     "execution_count": 12,
     "metadata": {},
     "output_type": "execute_result"
    },
    {
     "data": {
      "image/png": "[encoded data removed]",
      "text/plain": [
       "<Figure size 1080x432 with 1 Axes>"
      ]
     },
     "metadata": {},
     "output_type": "display_data"
    }
   ],
   "source": [
    "early_teks_df = multi_region_exposure_keys_df[\n",
    "    multi_region_exposure_keys_df.rolling_period < 144].copy()\n",
    "early_teks_df[\"rolling_period_in_hours\"] = early_teks_df.rolling_period / 6\n",
    "early_teks_df[early_teks_df.sample_date_string != extraction_date] \\\n",
    "    .rolling_period_in_hours.hist(bins=list(range(24)))"
   ]
  },
  {
   "cell_type": "code",
   "execution_count": 13,
   "metadata": {
    "collapsed": false,
    "execution": {
     "iopub.execute_input": "2020-10-15T09:23:42.568018Z",
     "iopub.status.busy": "2020-10-15T09:23:42.567484Z",
     "iopub.status.idle": "2020-10-15T09:23:42.746559Z",
     "shell.execute_reply": "2020-10-15T09:23:42.747310Z"
    },
    "papermill": {
     "duration": 0.249544,
     "end_time": "2020-10-15T09:23:42.747475",
     "exception": false,
     "start_time": "2020-10-15T09:23:42.497931",
     "status": "completed"
    },
    "pycharm": {
     "name": "#%%\n"
    },
    "tags": []
   },
   "outputs": [
    {
     "data": {
      "text/plain": [
       "<matplotlib.axes._subplots.AxesSubplot at 0x7ff28746f6a0>"
      ]
     },
     "execution_count": 13,
     "metadata": {},
     "output_type": "execute_result"
    },
    {
     "data": {
      "image/png": "[encoded data removed]",
      "text/plain": [
       "<Figure size 1080x432 with 1 Axes>"
      ]
     },
     "metadata": {},
     "output_type": "display_data"
    }
   ],
   "source": [
    "early_teks_df[early_teks_df.sample_date_string == extraction_date] \\\n",
    "    .rolling_period_in_hours.hist(bins=list(range(24)))"
   ]
  },
  {
   "cell_type": "code",
   "execution_count": 14,
   "metadata": {
    "collapsed": false,
    "execution": {
     "iopub.execute_input": "2020-10-15T09:23:42.859284Z",
     "iopub.status.busy": "2020-10-15T09:23:42.858680Z",
     "iopub.status.idle": "2020-10-15T09:23:42.860895Z",
     "shell.execute_reply": "2020-10-15T09:23:42.861327Z"
    },
    "papermill": {
     "duration": 0.06387,
     "end_time": "2020-10-15T09:23:42.861474",
     "exception": false,
     "start_time": "2020-10-15T09:23:42.797604",
     "status": "completed"
    },
    "pycharm": {
     "name": "#%%\n"
    },
    "tags": []
   },
   "outputs": [
    {
     "data": {
      "text/html": [
       "<div>\n",
       "<style scoped>\n",
       "    .dataframe tbody tr th:only-of-type {\n",
       "        vertical-align: middle;\n",
       "    }\n",
       "\n",
       "    .dataframe tbody tr th {\n",
       "        vertical-align: top;\n",
       "    }\n",
       "\n",
       "    .dataframe thead th {\n",
       "        text-align: right;\n",
       "    }\n",
       "</style>\n",
       "<table border=\"1\" class=\"dataframe\">\n",
       "  <thead>\n",
       "    <tr style=\"text-align: right;\">\n",
       "      <th></th>\n",
       "      <th>sample_date_string</th>\n",
       "      <th>region</th>\n",
       "      <th>key_data</th>\n",
       "    </tr>\n",
       "  </thead>\n",
       "  <tbody>\n",
       "    <tr>\n",
       "      <th>0</th>\n",
       "      <td>2020-10-15</td>\n",
       "      <td>ES</td>\n",
       "      <td>415d89c5-3161-fff2-87e7-693667cc851c</td>\n",
       "    </tr>\n",
       "    <tr>\n",
       "      <th>1</th>\n",
       "      <td>2020-10-15</td>\n",
       "      <td>ES</td>\n",
       "      <td>683528fc-7455-562a-3a19-48a3fcd33506</td>\n",
       "    </tr>\n",
       "    <tr>\n",
       "      <th>2</th>\n",
       "      <td>2020-10-15</td>\n",
       "      <td>ES</td>\n",
       "      <td>384105f2-b92a-2d44-5301-f9d8206fa97a</td>\n",
       "    </tr>\n",
       "    <tr>\n",
       "      <th>3</th>\n",
       "      <td>2020-10-15</td>\n",
       "      <td>ES</td>\n",
       "      <td>2c3d2c7e-b348-e77c-6c68-7031008699ce</td>\n",
       "    </tr>\n",
       "    <tr>\n",
       "      <th>4</th>\n",
       "      <td>2020-10-15</td>\n",
       "      <td>ES</td>\n",
       "      <td>f9c4c5b6-8a8f-9f9a-b047-86b6f8ccd603</td>\n",
       "    </tr>\n",
       "  </tbody>\n",
       "</table>\n",
       "</div>"
      ],
      "text/plain": [
       "  sample_date_string region                              key_data\n",
       "0         2020-10-15     ES  415d89c5-3161-fff2-87e7-693667cc851c\n",
       "1         2020-10-15     ES  683528fc-7455-562a-3a19-48a3fcd33506\n",
       "2         2020-10-15     ES  384105f2-b92a-2d44-5301-f9d8206fa97a\n",
       "3         2020-10-15     ES  2c3d2c7e-b348-e77c-6c68-7031008699ce\n",
       "4         2020-10-15     ES  f9c4c5b6-8a8f-9f9a-b047-86b6f8ccd603"
      ]
     },
     "execution_count": 14,
     "metadata": {},
     "output_type": "execute_result"
    }
   ],
   "source": [
    "multi_region_exposure_keys_df = multi_region_exposure_keys_df[[\n",
    "    \"sample_date_string\", \"region\", \"key_data\"]]\n",
    "multi_region_exposure_keys_df.head()"
   ]
  },
  {
   "cell_type": "code",
   "execution_count": 15,
   "metadata": {
    "collapsed": false,
    "execution": {
     "iopub.execute_input": "2020-10-15T09:23:42.970031Z",
     "iopub.status.busy": "2020-10-15T09:23:42.968966Z",
     "iopub.status.idle": "2020-10-15T09:23:43.065997Z",
     "shell.execute_reply": "2020-10-15T09:23:43.065450Z"
    },
    "papermill": {
     "duration": 0.152814,
     "end_time": "2020-10-15T09:23:43.066134",
     "exception": false,
     "start_time": "2020-10-15T09:23:42.913320",
     "status": "completed"
    },
    "pycharm": {
     "name": "#%%\n"
    },
    "tags": []
   },
   "outputs": [
    {
     "data": {
      "text/plain": [
       "['EE', 'PT', 'MT', 'ES', 'CH']"
      ]
     },
     "execution_count": 15,
     "metadata": {},
     "output_type": "execute_result"
    }
   ],
   "source": [
    "active_regions = \\\n",
    "    multi_region_exposure_keys_df.groupby(\"region\").key_data.nunique().sort_values().index.unique().tolist()\n",
    "active_regions"
   ]
  },
  {
   "cell_type": "code",
   "execution_count": 16,
   "metadata": {
    "collapsed": false,
    "execution": {
     "iopub.execute_input": "2020-10-15T09:23:43.190779Z",
     "iopub.status.busy": "2020-10-15T09:23:43.187921Z",
     "iopub.status.idle": "2020-10-15T09:23:43.291070Z",
     "shell.execute_reply": "2020-10-15T09:23:43.291507Z"
    },
    "papermill": {
     "duration": 0.171885,
     "end_time": "2020-10-15T09:23:43.291665",
     "exception": false,
     "start_time": "2020-10-15T09:23:43.119780",
     "status": "completed"
    },
    "pycharm": {
     "name": "#%%\n"
    },
    "tags": []
   },
   "outputs": [
    {
     "data": {
      "text/html": [
       "<div>\n",
       "<style scoped>\n",
       "    .dataframe tbody tr th:only-of-type {\n",
       "        vertical-align: middle;\n",
       "    }\n",
       "\n",
       "    .dataframe tbody tr th {\n",
       "        vertical-align: top;\n",
       "    }\n",
       "\n",
       "    .dataframe thead tr th {\n",
       "        text-align: left;\n",
       "    }\n",
       "\n",
       "    .dataframe thead tr:last-of-type th {\n",
       "        text-align: right;\n",
       "    }\n",
       "</style>\n",
       "<table border=\"1\" class=\"dataframe\">\n",
       "  <thead>\n",
       "    <tr>\n",
       "      <th></th>\n",
       "      <th colspan=\"5\" halign=\"left\">shared_teks_by_generation_date</th>\n",
       "    </tr>\n",
       "    <tr>\n",
       "      <th>region</th>\n",
       "      <th>CH</th>\n",
       "      <th>EE</th>\n",
       "      <th>ES</th>\n",
       "      <th>MT</th>\n",
       "      <th>PT</th>\n",
       "    </tr>\n",
       "    <tr>\n",
       "      <th>sample_date</th>\n",
       "      <th></th>\n",
       "      <th></th>\n",
       "      <th></th>\n",
       "      <th></th>\n",
       "      <th></th>\n",
       "    </tr>\n",
       "  </thead>\n",
       "  <tbody>\n",
       "    <tr>\n",
       "      <th>2020-10-15</th>\n",
       "      <td>15</td>\n",
       "      <td>0</td>\n",
       "      <td>16</td>\n",
       "      <td>0</td>\n",
       "      <td>0</td>\n",
       "    </tr>\n",
       "    <tr>\n",
       "      <th>2020-10-14</th>\n",
       "      <td>158</td>\n",
       "      <td>0</td>\n",
       "      <td>74</td>\n",
       "      <td>102</td>\n",
       "      <td>16</td>\n",
       "    </tr>\n",
       "    <tr>\n",
       "      <th>2020-10-13</th>\n",
       "      <td>450</td>\n",
       "      <td>1</td>\n",
       "      <td>150</td>\n",
       "      <td>107</td>\n",
       "      <td>36</td>\n",
       "    </tr>\n",
       "    <tr>\n",
       "      <th>2020-10-12</th>\n",
       "      <td>615</td>\n",
       "      <td>3</td>\n",
       "      <td>208</td>\n",
       "      <td>111</td>\n",
       "      <td>44</td>\n",
       "    </tr>\n",
       "    <tr>\n",
       "      <th>2020-10-11</th>\n",
       "      <td>803</td>\n",
       "      <td>5</td>\n",
       "      <td>278</td>\n",
       "      <td>114</td>\n",
       "      <td>53</td>\n",
       "    </tr>\n",
       "  </tbody>\n",
       "</table>\n",
       "</div>"
      ],
      "text/plain": [
       "            shared_teks_by_generation_date                 \n",
       "region                                  CH EE   ES   MT  PT\n",
       "sample_date                                                \n",
       "2020-10-15                              15  0   16    0   0\n",
       "2020-10-14                             158  0   74  102  16\n",
       "2020-10-13                             450  1  150  107  36\n",
       "2020-10-12                             615  3  208  111  44\n",
       "2020-10-11                             803  5  278  114  53"
      ]
     },
     "execution_count": 16,
     "metadata": {},
     "output_type": "execute_result"
    }
   ],
   "source": [
    "multi_region_summary_df = multi_region_exposure_keys_df.groupby(\n",
    "    [\"sample_date_string\", \"region\"]).key_data.nunique().reset_index() \\\n",
    "    .pivot(index=\"sample_date_string\", columns=\"region\") \\\n",
    "    .sort_index(ascending=False)\n",
    "multi_region_summary_df.rename(\n",
    "    columns={\"key_data\": \"shared_teks_by_generation_date\"},\n",
    "    inplace=True)\n",
    "multi_region_summary_df.rename_axis(\"sample_date\", inplace=True)\n",
    "multi_region_summary_df = multi_region_summary_df.fillna(0).astype(int)\n",
    "multi_region_summary_df = multi_region_summary_df.head(backend_extraction_days)\n",
    "multi_region_summary_df.head()"
   ]
  },
  {
   "cell_type": "code",
   "execution_count": 17,
   "metadata": {
    "collapsed": false,
    "execution": {
     "iopub.execute_input": "2020-10-15T09:23:43.405404Z",
     "iopub.status.busy": "2020-10-15T09:23:43.404580Z",
     "iopub.status.idle": "2020-10-15T09:23:43.480789Z",
     "shell.execute_reply": "2020-10-15T09:23:43.481549Z"
    },
    "papermill": {
     "duration": 0.13819,
     "end_time": "2020-10-15T09:23:43.481791",
     "exception": false,
     "start_time": "2020-10-15T09:23:43.343601",
     "status": "completed"
    },
    "pycharm": {
     "name": "#%%\n"
    },
    "tags": []
   },
   "outputs": [
    {
     "data": {
      "text/plain": [
       "['EE', 'PT', 'MT', 'CH']"
      ]
     },
     "execution_count": 17,
     "metadata": {},
     "output_type": "execute_result"
    }
   ],
   "source": [
    "multi_region_without_active_region_exposure_keys_df = \\\n",
    "    multi_region_exposure_keys_df[multi_region_exposure_keys_df.region != active_region_country_code]\n",
    "multi_region_without_active_region = \\\n",
    "    multi_region_without_active_region_exposure_keys_df.groupby(\"region\").key_data.nunique().sort_values().index.unique().tolist()\n",
    "multi_region_without_active_region"
   ]
  },
  {
   "cell_type": "code",
   "execution_count": 18,
   "metadata": {
    "execution": {
     "iopub.execute_input": "2020-10-15T09:23:43.595643Z",
     "iopub.status.busy": "2020-10-15T09:23:43.594962Z",
     "iopub.status.idle": "2020-10-15T09:23:43.625538Z",
     "shell.execute_reply": "2020-10-15T09:23:43.626006Z"
    },
    "papermill": {
     "duration": 0.091103,
     "end_time": "2020-10-15T09:23:43.626171",
     "exception": false,
     "start_time": "2020-10-15T09:23:43.535068",
     "status": "completed"
    },
    "scrolled": false,
    "tags": []
   },
   "outputs": [
    {
     "name": "stderr",
     "output_type": "stream",
     "text": [
      "/opt/hostedtoolcache/Python/3.8.6/x64/lib/python3.8/site-packages/pandas/core/frame.py:4110: SettingWithCopyWarning: \n",
      "A value is trying to be set on a copy of a slice from a DataFrame\n",
      "\n",
      "See the caveats in the documentation: http://pandas.pydata.org/pandas-docs/stable/user_guide/indexing.html#returning-a-view-versus-a-copy\n",
      "  return super().drop(\n"
     ]
    },
    {
     "data": {
      "text/html": [
       "<div>\n",
       "<style scoped>\n",
       "    .dataframe tbody tr th:only-of-type {\n",
       "        vertical-align: middle;\n",
       "    }\n",
       "\n",
       "    .dataframe tbody tr th {\n",
       "        vertical-align: top;\n",
       "    }\n",
       "\n",
       "    .dataframe thead th {\n",
       "        text-align: right;\n",
       "    }\n",
       "</style>\n",
       "<table border=\"1\" class=\"dataframe\">\n",
       "  <thead>\n",
       "    <tr style=\"text-align: right;\">\n",
       "      <th></th>\n",
       "      <th>shared_teks_by_generation_date</th>\n",
       "    </tr>\n",
       "    <tr>\n",
       "      <th>sample_date_string</th>\n",
       "      <th></th>\n",
       "    </tr>\n",
       "  </thead>\n",
       "  <tbody>\n",
       "    <tr>\n",
       "      <th>2020-10-15</th>\n",
       "      <td>16</td>\n",
       "    </tr>\n",
       "    <tr>\n",
       "      <th>2020-10-14</th>\n",
       "      <td>74</td>\n",
       "    </tr>\n",
       "    <tr>\n",
       "      <th>2020-10-13</th>\n",
       "      <td>150</td>\n",
       "    </tr>\n",
       "    <tr>\n",
       "      <th>2020-10-12</th>\n",
       "      <td>208</td>\n",
       "    </tr>\n",
       "    <tr>\n",
       "      <th>2020-10-11</th>\n",
       "      <td>278</td>\n",
       "    </tr>\n",
       "  </tbody>\n",
       "</table>\n",
       "</div>"
      ],
      "text/plain": [
       "                    shared_teks_by_generation_date\n",
       "sample_date_string                                \n",
       "2020-10-15                                      16\n",
       "2020-10-14                                      74\n",
       "2020-10-13                                     150\n",
       "2020-10-12                                     208\n",
       "2020-10-11                                     278"
      ]
     },
     "execution_count": 18,
     "metadata": {},
     "output_type": "execute_result"
    }
   ],
   "source": [
    "exposure_keys_summary_df = multi_region_exposure_keys_df[\n",
    "    multi_region_exposure_keys_df.region == active_region_country_code]\n",
    "exposure_keys_summary_df.drop(columns=[\"region\"], inplace=True)\n",
    "exposure_keys_summary_df = \\\n",
    "    exposure_keys_summary_df.groupby([\"sample_date_string\"]).key_data.nunique().to_frame()\n",
    "exposure_keys_summary_df = \\\n",
    "    exposure_keys_summary_df.reset_index().set_index(\"sample_date_string\")\n",
    "exposure_keys_summary_df.sort_index(ascending=False, inplace=True)\n",
    "exposure_keys_summary_df.rename(columns={\"key_data\": \"shared_teks_by_generation_date\"}, inplace=True)\n",
    "exposure_keys_summary_df.head()"
   ]
  },
  {
   "cell_type": "markdown",
   "metadata": {
    "papermill": {
     "duration": 0.05535,
     "end_time": "2020-10-15T09:23:43.736164",
     "exception": false,
     "start_time": "2020-10-15T09:23:43.680814",
     "status": "completed"
    },
    "tags": []
   },
   "source": [
    "### Dump API TEKs"
   ]
  },
  {
   "cell_type": "code",
   "execution_count": 19,
   "metadata": {
    "execution": {
     "iopub.execute_input": "2020-10-15T09:23:43.853278Z",
     "iopub.status.busy": "2020-10-15T09:23:43.852286Z",
     "iopub.status.idle": "2020-10-15T09:23:43.947445Z",
     "shell.execute_reply": "2020-10-15T09:23:43.948204Z"
    },
    "papermill": {
     "duration": 0.158897,
     "end_time": "2020-10-15T09:23:43.948446",
     "exception": false,
     "start_time": "2020-10-15T09:23:43.789549",
     "status": "completed"
    },
    "tags": []
   },
   "outputs": [
    {
     "data": {
      "text/html": [
       "<div>\n",
       "<style scoped>\n",
       "    .dataframe tbody tr th:only-of-type {\n",
       "        vertical-align: middle;\n",
       "    }\n",
       "\n",
       "    .dataframe tbody tr th {\n",
       "        vertical-align: top;\n",
       "    }\n",
       "\n",
       "    .dataframe thead th {\n",
       "        text-align: right;\n",
       "    }\n",
       "</style>\n",
       "<table border=\"1\" class=\"dataframe\">\n",
       "  <thead>\n",
       "    <tr style=\"text-align: right;\">\n",
       "      <th></th>\n",
       "      <th>sample_date</th>\n",
       "      <th>region</th>\n",
       "      <th>tek_list</th>\n",
       "      <th>extraction_date</th>\n",
       "      <th>extraction_date_with_hour</th>\n",
       "    </tr>\n",
       "  </thead>\n",
       "  <tbody>\n",
       "    <tr>\n",
       "      <th>0</th>\n",
       "      <td>2020-10-02</td>\n",
       "      <td>CH</td>\n",
       "      <td>[62fd7d86-b103-85ae-724d-88066b43a5df, 38e745a...</td>\n",
       "      <td>2020-10-15</td>\n",
       "      <td>2020-10-15@09</td>\n",
       "    </tr>\n",
       "    <tr>\n",
       "      <th>1</th>\n",
       "      <td>2020-10-02</td>\n",
       "      <td>EE</td>\n",
       "      <td>[11677826-93ea-3f26-38b6-f342e69e167c, 20ca648...</td>\n",
       "      <td>2020-10-15</td>\n",
       "      <td>2020-10-15@09</td>\n",
       "    </tr>\n",
       "    <tr>\n",
       "      <th>2</th>\n",
       "      <td>2020-10-02</td>\n",
       "      <td>ES</td>\n",
       "      <td>[eca67d43-1657-dab1-0fa9-2d663d99905b, 118de28...</td>\n",
       "      <td>2020-10-15</td>\n",
       "      <td>2020-10-15@09</td>\n",
       "    </tr>\n",
       "    <tr>\n",
       "      <th>3</th>\n",
       "      <td>2020-10-02</td>\n",
       "      <td>MT</td>\n",
       "      <td>[6e820b42-4f7f-627e-18ef-c6fb4ea6e7af, 8ec3603...</td>\n",
       "      <td>2020-10-15</td>\n",
       "      <td>2020-10-15@09</td>\n",
       "    </tr>\n",
       "    <tr>\n",
       "      <th>4</th>\n",
       "      <td>2020-10-02</td>\n",
       "      <td>PT</td>\n",
       "      <td>[384cc511-d902-65ca-aa7a-c19ad0c857a8, f48b22e...</td>\n",
       "      <td>2020-10-15</td>\n",
       "      <td>2020-10-15@09</td>\n",
       "    </tr>\n",
       "  </tbody>\n",
       "</table>\n",
       "</div>"
      ],
      "text/plain": [
       "  sample_date region                                           tek_list  \\\n",
       "0  2020-10-02     CH  [62fd7d86-b103-85ae-724d-88066b43a5df, 38e745a...   \n",
       "1  2020-10-02     EE  [11677826-93ea-3f26-38b6-f342e69e167c, 20ca648...   \n",
       "2  2020-10-02     ES  [eca67d43-1657-dab1-0fa9-2d663d99905b, 118de28...   \n",
       "3  2020-10-02     MT  [6e820b42-4f7f-627e-18ef-c6fb4ea6e7af, 8ec3603...   \n",
       "4  2020-10-02     PT  [384cc511-d902-65ca-aa7a-c19ad0c857a8, f48b22e...   \n",
       "\n",
       "  extraction_date extraction_date_with_hour  \n",
       "0      2020-10-15             2020-10-15@09  \n",
       "1      2020-10-15             2020-10-15@09  \n",
       "2      2020-10-15             2020-10-15@09  \n",
       "3      2020-10-15             2020-10-15@09  \n",
       "4      2020-10-15             2020-10-15@09  "
      ]
     },
     "execution_count": 19,
     "metadata": {},
     "output_type": "execute_result"
    }
   ],
   "source": [
    "tek_list_df = multi_region_exposure_keys_df[\n",
    "    [\"sample_date_string\", \"region\", \"key_data\"]].copy()\n",
    "tek_list_df[\"key_data\"] = tek_list_df[\"key_data\"].apply(str)\n",
    "tek_list_df.rename(columns={\n",
    "    \"sample_date_string\": \"sample_date\",\n",
    "    \"key_data\": \"tek_list\"}, inplace=True)\n",
    "tek_list_df = tek_list_df.groupby(\n",
    "    [\"sample_date\", \"region\"]).tek_list.unique().reset_index()\n",
    "tek_list_df[\"extraction_date\"] = extraction_date\n",
    "tek_list_df[\"extraction_date_with_hour\"] = extraction_date_with_hour\n",
    "\n",
    "tek_list_path_prefix = \"Data/TEKs/\"\n",
    "tek_list_current_path = tek_list_path_prefix + f\"/Current/RadarCOVID-TEKs.json\"\n",
    "tek_list_daily_path = tek_list_path_prefix + f\"Daily/RadarCOVID-TEKs-{extraction_date}.json\"\n",
    "tek_list_hourly_path = tek_list_path_prefix + f\"Hourly/RadarCOVID-TEKs-{extraction_date_with_hour}.json\"\n",
    "\n",
    "for path in [tek_list_current_path, tek_list_daily_path, tek_list_hourly_path]:\n",
    "    os.makedirs(os.path.dirname(path), exist_ok=True)\n",
    "\n",
    "tek_list_df.drop(columns=[\"extraction_date\", \"extraction_date_with_hour\"]).to_json(\n",
    "    tek_list_current_path,\n",
    "    lines=True, orient=\"records\")\n",
    "tek_list_df.drop(columns=[\"extraction_date_with_hour\"]).to_json(\n",
    "    tek_list_daily_path,\n",
    "    lines=True, orient=\"records\")\n",
    "tek_list_df.to_json(\n",
    "    tek_list_hourly_path,\n",
    "    lines=True, orient=\"records\")\n",
    "tek_list_df.head()"
   ]
  },
  {
   "cell_type": "markdown",
   "metadata": {
    "papermill": {
     "duration": 0.053977,
     "end_time": "2020-10-15T09:23:44.058331",
     "exception": false,
     "start_time": "2020-10-15T09:23:44.004354",
     "status": "completed"
    },
    "tags": []
   },
   "source": [
    "### Load TEK Dumps"
   ]
  },
  {
   "cell_type": "code",
   "execution_count": 20,
   "metadata": {
    "execution": {
     "iopub.execute_input": "2020-10-15T09:23:44.176720Z",
     "iopub.status.busy": "2020-10-15T09:23:44.176149Z",
     "iopub.status.idle": "2020-10-15T09:23:44.178023Z",
     "shell.execute_reply": "2020-10-15T09:23:44.178534Z"
    },
    "papermill": {
     "duration": 0.061008,
     "end_time": "2020-10-15T09:23:44.178672",
     "exception": false,
     "start_time": "2020-10-15T09:23:44.117664",
     "status": "completed"
    },
    "tags": []
   },
   "outputs": [],
   "source": [
    "import glob\n",
    "\n",
    "def load_extracted_teks(mode, region=None, limit=None) -> pd.DataFrame:\n",
    "    extracted_teks_df = pd.DataFrame(columns=[\"region\"])\n",
    "    paths = list(reversed(sorted(glob.glob(tek_list_path_prefix + mode + \"/RadarCOVID-TEKs-*.json\"))))\n",
    "    if limit:\n",
    "        paths = paths[:limit]\n",
    "    for path in paths:\n",
    "        logging.info(f\"Loading TEKs from '{path}'...\")\n",
    "        iteration_extracted_teks_df = pd.read_json(path, lines=True)\n",
    "        extracted_teks_df = extracted_teks_df.append(\n",
    "            iteration_extracted_teks_df, sort=False)\n",
    "    extracted_teks_df[\"region\"] = \\\n",
    "        extracted_teks_df.region.fillna(spain_region_country_code).copy()\n",
    "    if region:\n",
    "        extracted_teks_df = \\\n",
    "            extracted_teks_df[extracted_teks_df.region == region]\n",
    "    return extracted_teks_df"
   ]
  },
  {
   "cell_type": "code",
   "execution_count": 21,
   "metadata": {
    "collapsed": false,
    "execution": {
     "iopub.execute_input": "2020-10-15T09:23:44.298260Z",
     "iopub.status.busy": "2020-10-15T09:23:44.297666Z",
     "iopub.status.idle": "2020-10-15T09:23:44.574417Z",
     "shell.execute_reply": "2020-10-15T09:23:44.573959Z"
    },
    "papermill": {
     "duration": 0.337745,
     "end_time": "2020-10-15T09:23:44.574538",
     "exception": false,
     "start_time": "2020-10-15T09:23:44.236793",
     "status": "completed"
    },
    "pycharm": {
     "name": "#%%\n"
    },
    "tags": []
   },
   "outputs": [
    {
     "data": {
      "text/html": [
       "<div>\n",
       "<style scoped>\n",
       "    .dataframe tbody tr th:only-of-type {\n",
       "        vertical-align: middle;\n",
       "    }\n",
       "\n",
       "    .dataframe tbody tr th {\n",
       "        vertical-align: top;\n",
       "    }\n",
       "\n",
       "    .dataframe thead th {\n",
       "        text-align: right;\n",
       "    }\n",
       "</style>\n",
       "<table border=\"1\" class=\"dataframe\">\n",
       "  <thead>\n",
       "    <tr style=\"text-align: right;\">\n",
       "      <th></th>\n",
       "      <th>region</th>\n",
       "      <th>sample_date</th>\n",
       "      <th>tek_list</th>\n",
       "      <th>extraction_date</th>\n",
       "      <th>extraction_date_with_hour</th>\n",
       "    </tr>\n",
       "  </thead>\n",
       "  <tbody>\n",
       "    <tr>\n",
       "      <th>2</th>\n",
       "      <td>ES</td>\n",
       "      <td>2020-10-02</td>\n",
       "      <td>[eca67d43-1657-dab1-0fa9-2d663d99905b, 118de28...</td>\n",
       "      <td>2020-10-15</td>\n",
       "      <td>NaN</td>\n",
       "    </tr>\n",
       "    <tr>\n",
       "      <th>7</th>\n",
       "      <td>ES</td>\n",
       "      <td>2020-10-03</td>\n",
       "      <td>[8d9aad3f-8e10-72db-51f8-aeca9a72411c, 70ed4dc...</td>\n",
       "      <td>2020-10-15</td>\n",
       "      <td>NaN</td>\n",
       "    </tr>\n",
       "    <tr>\n",
       "      <th>12</th>\n",
       "      <td>ES</td>\n",
       "      <td>2020-10-04</td>\n",
       "      <td>[b4663247-dc7a-90df-4a40-f8a854d6b5a5, 614d609...</td>\n",
       "      <td>2020-10-15</td>\n",
       "      <td>NaN</td>\n",
       "    </tr>\n",
       "    <tr>\n",
       "      <th>17</th>\n",
       "      <td>ES</td>\n",
       "      <td>2020-10-05</td>\n",
       "      <td>[16829c6b-916a-1805-b975-a5ec51dacfec, 144bf1c...</td>\n",
       "      <td>2020-10-15</td>\n",
       "      <td>NaN</td>\n",
       "    </tr>\n",
       "    <tr>\n",
       "      <th>22</th>\n",
       "      <td>ES</td>\n",
       "      <td>2020-10-06</td>\n",
       "      <td>[7f3be3de-130e-f955-efbb-3b1235e54bc4, fb7c580...</td>\n",
       "      <td>2020-10-15</td>\n",
       "      <td>NaN</td>\n",
       "    </tr>\n",
       "  </tbody>\n",
       "</table>\n",
       "</div>"
      ],
      "text/plain": [
       "   region sample_date                                           tek_list  \\\n",
       "2      ES  2020-10-02  [eca67d43-1657-dab1-0fa9-2d663d99905b, 118de28...   \n",
       "7      ES  2020-10-03  [8d9aad3f-8e10-72db-51f8-aeca9a72411c, 70ed4dc...   \n",
       "12     ES  2020-10-04  [b4663247-dc7a-90df-4a40-f8a854d6b5a5, 614d609...   \n",
       "17     ES  2020-10-05  [16829c6b-916a-1805-b975-a5ec51dacfec, 144bf1c...   \n",
       "22     ES  2020-10-06  [7f3be3de-130e-f955-efbb-3b1235e54bc4, fb7c580...   \n",
       "\n",
       "   extraction_date extraction_date_with_hour  \n",
       "2       2020-10-15                       NaN  \n",
       "7       2020-10-15                       NaN  \n",
       "12      2020-10-15                       NaN  \n",
       "17      2020-10-15                       NaN  \n",
       "22      2020-10-15                       NaN  "
      ]
     },
     "execution_count": 21,
     "metadata": {},
     "output_type": "execute_result"
    }
   ],
   "source": [
    "daily_extracted_teks_df = load_extracted_teks(\n",
    "    mode=\"Daily\",\n",
    "    region=active_region_country_code,\n",
    "    limit=tek_dumps_load_limit)\n",
    "daily_extracted_teks_df.head()"
   ]
  },
  {
   "cell_type": "code",
   "execution_count": 22,
   "metadata": {
    "collapsed": false,
    "execution": {
     "iopub.execute_input": "2020-10-15T09:23:44.688047Z",
     "iopub.status.busy": "2020-10-15T09:23:44.687488Z",
     "iopub.status.idle": "2020-10-15T09:23:44.696767Z",
     "shell.execute_reply": "2020-10-15T09:23:44.696333Z"
    },
    "papermill": {
     "duration": 0.068026,
     "end_time": "2020-10-15T09:23:44.696877",
     "exception": false,
     "start_time": "2020-10-15T09:23:44.628851",
     "status": "completed"
    },
    "pycharm": {
     "name": "#%%\n"
    },
    "tags": []
   },
   "outputs": [
    {
     "data": {
      "text/html": [
       "<div>\n",
       "<style scoped>\n",
       "    .dataframe tbody tr th:only-of-type {\n",
       "        vertical-align: middle;\n",
       "    }\n",
       "\n",
       "    .dataframe tbody tr th {\n",
       "        vertical-align: top;\n",
       "    }\n",
       "\n",
       "    .dataframe thead th {\n",
       "        text-align: right;\n",
       "    }\n",
       "</style>\n",
       "<table border=\"1\" class=\"dataframe\">\n",
       "  <thead>\n",
       "    <tr style=\"text-align: right;\">\n",
       "      <th></th>\n",
       "      <th>shared_teks_by_generation_date</th>\n",
       "    </tr>\n",
       "    <tr>\n",
       "      <th>sample_date_string</th>\n",
       "      <th></th>\n",
       "    </tr>\n",
       "  </thead>\n",
       "  <tbody>\n",
       "    <tr>\n",
       "      <th>2020-10-15</th>\n",
       "      <td>16</td>\n",
       "    </tr>\n",
       "    <tr>\n",
       "      <th>2020-10-14</th>\n",
       "      <td>74</td>\n",
       "    </tr>\n",
       "    <tr>\n",
       "      <th>2020-10-13</th>\n",
       "      <td>150</td>\n",
       "    </tr>\n",
       "    <tr>\n",
       "      <th>2020-10-12</th>\n",
       "      <td>208</td>\n",
       "    </tr>\n",
       "    <tr>\n",
       "      <th>2020-10-11</th>\n",
       "      <td>278</td>\n",
       "    </tr>\n",
       "  </tbody>\n",
       "</table>\n",
       "</div>"
      ],
      "text/plain": [
       "                    shared_teks_by_generation_date\n",
       "sample_date_string                                \n",
       "2020-10-15                                      16\n",
       "2020-10-14                                      74\n",
       "2020-10-13                                     150\n",
       "2020-10-12                                     208\n",
       "2020-10-11                                     278"
      ]
     },
     "execution_count": 22,
     "metadata": {},
     "output_type": "execute_result"
    }
   ],
   "source": [
    "exposure_keys_summary_df_ = daily_extracted_teks_df \\\n",
    "    .sort_values(\"extraction_date\", ascending=False) \\\n",
    "    .groupby(\"sample_date\").tek_list.first() \\\n",
    "    .to_frame()\n",
    "exposure_keys_summary_df_.index.name = \"sample_date_string\"\n",
    "exposure_keys_summary_df_[\"tek_list\"] = \\\n",
    "    exposure_keys_summary_df_.tek_list.apply(len)\n",
    "exposure_keys_summary_df_ = exposure_keys_summary_df_ \\\n",
    "    .rename(columns={\"tek_list\": \"shared_teks_by_generation_date\"}) \\\n",
    "    .sort_index(ascending=False)\n",
    "exposure_keys_summary_df = exposure_keys_summary_df_\n",
    "exposure_keys_summary_df.head()"
   ]
  },
  {
   "cell_type": "markdown",
   "metadata": {
    "execution": {
     "iopub.execute_input": "2020-08-30T22:30:16.632967Z",
     "iopub.status.busy": "2020-08-30T22:30:16.632308Z",
     "iopub.status.idle": "2020-08-30T22:30:16.634945Z",
     "shell.execute_reply": "2020-08-30T22:30:16.635575Z"
    },
    "papermill": {
     "duration": 0.050478,
     "end_time": "2020-10-15T09:23:44.804229",
     "exception": false,
     "start_time": "2020-10-15T09:23:44.753751",
     "status": "completed"
    },
    "pycharm": {
     "name": "#%% md\n"
    },
    "tags": []
   },
   "source": [
    "### Daily New TEKs"
   ]
  },
  {
   "cell_type": "code",
   "execution_count": 23,
   "metadata": {
    "execution": {
     "iopub.execute_input": "2020-10-15T09:23:44.916744Z",
     "iopub.status.busy": "2020-10-15T09:23:44.916207Z",
     "iopub.status.idle": "2020-10-15T09:23:44.945910Z",
     "shell.execute_reply": "2020-10-15T09:23:44.946550Z"
    },
    "papermill": {
     "duration": 0.089533,
     "end_time": "2020-10-15T09:23:44.946736",
     "exception": false,
     "start_time": "2020-10-15T09:23:44.857203",
     "status": "completed"
    },
    "tags": []
   },
   "outputs": [
    {
     "data": {
      "text/html": [
       "<div>\n",
       "<style scoped>\n",
       "    .dataframe tbody tr th:only-of-type {\n",
       "        vertical-align: middle;\n",
       "    }\n",
       "\n",
       "    .dataframe tbody tr th {\n",
       "        vertical-align: top;\n",
       "    }\n",
       "\n",
       "    .dataframe thead th {\n",
       "        text-align: right;\n",
       "    }\n",
       "</style>\n",
       "<table border=\"1\" class=\"dataframe\">\n",
       "  <thead>\n",
       "    <tr style=\"text-align: right;\">\n",
       "      <th></th>\n",
       "      <th>tek_list</th>\n",
       "    </tr>\n",
       "    <tr>\n",
       "      <th>extraction_date</th>\n",
       "      <th></th>\n",
       "    </tr>\n",
       "  </thead>\n",
       "  <tbody>\n",
       "    <tr>\n",
       "      <th>2020-08-29</th>\n",
       "      <td>{316fcc1d-9bdb-69ae-b997-70b5b4ca1d74, fd1fd21...</td>\n",
       "    </tr>\n",
       "    <tr>\n",
       "      <th>2020-08-30</th>\n",
       "      <td>{3ef7dc9e-956a-1399-d459-f78244ed93fc, 316fcc1...</td>\n",
       "    </tr>\n",
       "    <tr>\n",
       "      <th>2020-08-31</th>\n",
       "      <td>{3ef7dc9e-956a-1399-d459-f78244ed93fc, 316fcc1...</td>\n",
       "    </tr>\n",
       "    <tr>\n",
       "      <th>2020-09-01</th>\n",
       "      <td>{3ef7dc9e-956a-1399-d459-f78244ed93fc, 316fcc1...</td>\n",
       "    </tr>\n",
       "    <tr>\n",
       "      <th>2020-09-02</th>\n",
       "      <td>{3ef7dc9e-956a-1399-d459-f78244ed93fc, 316fcc1...</td>\n",
       "    </tr>\n",
       "  </tbody>\n",
       "</table>\n",
       "</div>"
      ],
      "text/plain": [
       "                                                          tek_list\n",
       "extraction_date                                                   \n",
       "2020-08-29       {316fcc1d-9bdb-69ae-b997-70b5b4ca1d74, fd1fd21...\n",
       "2020-08-30       {3ef7dc9e-956a-1399-d459-f78244ed93fc, 316fcc1...\n",
       "2020-08-31       {3ef7dc9e-956a-1399-d459-f78244ed93fc, 316fcc1...\n",
       "2020-09-01       {3ef7dc9e-956a-1399-d459-f78244ed93fc, 316fcc1...\n",
       "2020-09-02       {3ef7dc9e-956a-1399-d459-f78244ed93fc, 316fcc1..."
      ]
     },
     "execution_count": 23,
     "metadata": {},
     "output_type": "execute_result"
    }
   ],
   "source": [
    "tek_list_df = daily_extracted_teks_df.groupby(\"extraction_date\").tek_list.apply(\n",
    "    lambda x: set(sum(x, []))).reset_index()\n",
    "tek_list_df = tek_list_df.set_index(\"extraction_date\").sort_index(ascending=True)\n",
    "tek_list_df.head()"
   ]
  },
  {
   "cell_type": "code",
   "execution_count": 24,
   "metadata": {
    "collapsed": false,
    "execution": {
     "iopub.execute_input": "2020-10-15T09:23:45.076199Z",
     "iopub.status.busy": "2020-10-15T09:23:45.075204Z",
     "iopub.status.idle": "2020-10-15T09:23:45.616046Z",
     "shell.execute_reply": "2020-10-15T09:23:45.616813Z"
    },
    "papermill": {
     "duration": 0.617854,
     "end_time": "2020-10-15T09:23:45.617060",
     "exception": false,
     "start_time": "2020-10-15T09:23:44.999206",
     "status": "completed"
    },
    "pycharm": {
     "name": "#%%\n"
    },
    "tags": []
   },
   "outputs": [
    {
     "name": "stderr",
     "output_type": "stream",
     "text": [
      "<ipython-input-24-827222b35590>:4: FutureWarning: `item` has been deprecated and will be removed in a future version\n",
      "  day_new_teks_set = day_new_teks_set_df[\n"
     ]
    },
    {
     "data": {
      "text/html": [
       "<div>\n",
       "<style scoped>\n",
       "    .dataframe tbody tr th:only-of-type {\n",
       "        vertical-align: middle;\n",
       "    }\n",
       "\n",
       "    .dataframe tbody tr th {\n",
       "        vertical-align: top;\n",
       "    }\n",
       "\n",
       "    .dataframe thead th {\n",
       "        text-align: right;\n",
       "    }\n",
       "</style>\n",
       "<table border=\"1\" class=\"dataframe\">\n",
       "  <thead>\n",
       "    <tr style=\"text-align: right;\">\n",
       "      <th></th>\n",
       "      <th>upload_date</th>\n",
       "      <th>generation_date</th>\n",
       "      <th>shared_teks</th>\n",
       "      <th>generation_to_upload_days</th>\n",
       "    </tr>\n",
       "  </thead>\n",
       "  <tbody>\n",
       "    <tr>\n",
       "      <th>10</th>\n",
       "      <td>2020-08-30</td>\n",
       "      <td>2020-08-29</td>\n",
       "      <td>16</td>\n",
       "      <td>1</td>\n",
       "    </tr>\n",
       "    <tr>\n",
       "      <th>9</th>\n",
       "      <td>2020-08-30</td>\n",
       "      <td>2020-08-28</td>\n",
       "      <td>5</td>\n",
       "      <td>2</td>\n",
       "    </tr>\n",
       "    <tr>\n",
       "      <th>8</th>\n",
       "      <td>2020-08-30</td>\n",
       "      <td>2020-08-27</td>\n",
       "      <td>3</td>\n",
       "      <td>3</td>\n",
       "    </tr>\n",
       "    <tr>\n",
       "      <th>7</th>\n",
       "      <td>2020-08-30</td>\n",
       "      <td>2020-08-26</td>\n",
       "      <td>3</td>\n",
       "      <td>4</td>\n",
       "    </tr>\n",
       "    <tr>\n",
       "      <th>6</th>\n",
       "      <td>2020-08-30</td>\n",
       "      <td>2020-08-25</td>\n",
       "      <td>2</td>\n",
       "      <td>5</td>\n",
       "    </tr>\n",
       "  </tbody>\n",
       "</table>\n",
       "</div>"
      ],
      "text/plain": [
       "   upload_date generation_date  shared_teks  generation_to_upload_days\n",
       "10  2020-08-30      2020-08-29           16                          1\n",
       "9   2020-08-30      2020-08-28            5                          2\n",
       "8   2020-08-30      2020-08-27            3                          3\n",
       "7   2020-08-30      2020-08-26            3                          4\n",
       "6   2020-08-30      2020-08-25            2                          5"
      ]
     },
     "execution_count": 24,
     "metadata": {},
     "output_type": "execute_result"
    }
   ],
   "source": [
    "def compute_teks_by_generation_and_upload_date(date):\n",
    "    day_new_teks_set_df = tek_list_df.copy().diff()\n",
    "    try:\n",
    "        day_new_teks_set = day_new_teks_set_df[\n",
    "            day_new_teks_set_df.index == date].tek_list.item()\n",
    "    except ValueError:\n",
    "        day_new_teks_set = None\n",
    "    if pd.isna(day_new_teks_set):\n",
    "        day_new_teks_set = set()\n",
    "    day_new_teks_df = daily_extracted_teks_df[\n",
    "        daily_extracted_teks_df.extraction_date == date].copy()\n",
    "    day_new_teks_df[\"shared_teks\"] = \\\n",
    "        day_new_teks_df.tek_list.apply(lambda x: set(x).intersection(day_new_teks_set))\n",
    "    day_new_teks_df[\"shared_teks\"] = \\\n",
    "        day_new_teks_df.shared_teks.apply(len)\n",
    "    day_new_teks_df[\"upload_date\"] = date\n",
    "    day_new_teks_df.rename(columns={\"sample_date\": \"generation_date\"}, inplace=True)\n",
    "    day_new_teks_df = day_new_teks_df[\n",
    "        [\"upload_date\", \"generation_date\", \"shared_teks\"]]\n",
    "    day_new_teks_df[\"generation_to_upload_days\"] = \\\n",
    "        (pd.to_datetime(day_new_teks_df.upload_date) -\n",
    "         pd.to_datetime(day_new_teks_df.generation_date)).dt.days\n",
    "    day_new_teks_df = day_new_teks_df[day_new_teks_df.shared_teks > 0]\n",
    "    return day_new_teks_df\n",
    "\n",
    "shared_teks_generation_to_upload_df = pd.DataFrame()\n",
    "for upload_date in daily_extracted_teks_df.extraction_date.unique():\n",
    "    shared_teks_generation_to_upload_df = \\\n",
    "        shared_teks_generation_to_upload_df.append(\n",
    "            compute_teks_by_generation_and_upload_date(date=upload_date))\n",
    "shared_teks_generation_to_upload_df \\\n",
    "    .sort_values([\"upload_date\", \"generation_date\"], ascending=False, inplace=True)\n",
    "shared_teks_generation_to_upload_df.tail()"
   ]
  },
  {
   "cell_type": "code",
   "execution_count": 25,
   "metadata": {
    "collapsed": false,
    "execution": {
     "iopub.execute_input": "2020-10-15T09:23:45.740264Z",
     "iopub.status.busy": "2020-10-15T09:23:45.739716Z",
     "iopub.status.idle": "2020-10-15T09:23:45.742933Z",
     "shell.execute_reply": "2020-10-15T09:23:45.742468Z"
    },
    "papermill": {
     "duration": 0.068705,
     "end_time": "2020-10-15T09:23:45.743053",
     "exception": false,
     "start_time": "2020-10-15T09:23:45.674348",
     "status": "completed"
    },
    "pycharm": {
     "name": "#%%\n"
    },
    "tags": []
   },
   "outputs": [
    {
     "data": {
      "text/html": [
       "<div>\n",
       "<style scoped>\n",
       "    .dataframe tbody tr th:only-of-type {\n",
       "        vertical-align: middle;\n",
       "    }\n",
       "\n",
       "    .dataframe tbody tr th {\n",
       "        vertical-align: top;\n",
       "    }\n",
       "\n",
       "    .dataframe thead th {\n",
       "        text-align: right;\n",
       "    }\n",
       "</style>\n",
       "<table border=\"1\" class=\"dataframe\">\n",
       "  <thead>\n",
       "    <tr style=\"text-align: right;\">\n",
       "      <th></th>\n",
       "      <th>upload_date</th>\n",
       "      <th>generation_date</th>\n",
       "      <th>shared_teks</th>\n",
       "      <th>generation_to_upload_days</th>\n",
       "    </tr>\n",
       "  </thead>\n",
       "  <tbody>\n",
       "    <tr>\n",
       "      <th>22</th>\n",
       "      <td>2020-10-15</td>\n",
       "      <td>2020-10-06</td>\n",
       "      <td>3</td>\n",
       "      <td>9</td>\n",
       "    </tr>\n",
       "    <tr>\n",
       "      <th>17</th>\n",
       "      <td>2020-10-15</td>\n",
       "      <td>2020-10-05</td>\n",
       "      <td>3</td>\n",
       "      <td>10</td>\n",
       "    </tr>\n",
       "    <tr>\n",
       "      <th>12</th>\n",
       "      <td>2020-10-15</td>\n",
       "      <td>2020-10-04</td>\n",
       "      <td>1</td>\n",
       "      <td>11</td>\n",
       "    </tr>\n",
       "    <tr>\n",
       "      <th>7</th>\n",
       "      <td>2020-10-15</td>\n",
       "      <td>2020-10-03</td>\n",
       "      <td>1</td>\n",
       "      <td>12</td>\n",
       "    </tr>\n",
       "    <tr>\n",
       "      <th>2</th>\n",
       "      <td>2020-10-15</td>\n",
       "      <td>2020-10-02</td>\n",
       "      <td>1</td>\n",
       "      <td>13</td>\n",
       "    </tr>\n",
       "  </tbody>\n",
       "</table>\n",
       "</div>"
      ],
      "text/plain": [
       "   upload_date generation_date  shared_teks  generation_to_upload_days\n",
       "22  2020-10-15      2020-10-06            3                          9\n",
       "17  2020-10-15      2020-10-05            3                         10\n",
       "12  2020-10-15      2020-10-04            1                         11\n",
       "7   2020-10-15      2020-10-03            1                         12\n",
       "2   2020-10-15      2020-10-02            1                         13"
      ]
     },
     "execution_count": 25,
     "metadata": {},
     "output_type": "execute_result"
    }
   ],
   "source": [
    "today_new_teks_df = \\\n",
    "    shared_teks_generation_to_upload_df[\n",
    "        shared_teks_generation_to_upload_df.upload_date == extraction_date].copy()\n",
    "today_new_teks_df.tail()"
   ]
  },
  {
   "cell_type": "code",
   "execution_count": 26,
   "metadata": {
    "collapsed": false,
    "execution": {
     "iopub.execute_input": "2020-10-15T09:23:45.901797Z",
     "iopub.status.busy": "2020-10-15T09:23:45.901281Z",
     "iopub.status.idle": "2020-10-15T09:23:46.080487Z",
     "shell.execute_reply": "2020-10-15T09:23:46.080080Z"
    },
    "papermill": {
     "duration": 0.256407,
     "end_time": "2020-10-15T09:23:46.080599",
     "exception": false,
     "start_time": "2020-10-15T09:23:45.824192",
     "status": "completed"
    },
    "pycharm": {
     "name": "#%%\n"
    },
    "tags": []
   },
   "outputs": [
    {
     "data": {
      "image/png": "[encoded data removed]",
      "text/plain": [
       "<Figure size 1080x432 with 1 Axes>"
      ]
     },
     "metadata": {},
     "output_type": "display_data"
    }
   ],
   "source": [
    "if not today_new_teks_df.empty:\n",
    "    today_new_teks_df.set_index(\"generation_to_upload_days\") \\\n",
    "        .sort_index().shared_teks.plot.bar()"
   ]
  },
  {
   "cell_type": "code",
   "execution_count": 27,
   "metadata": {
    "collapsed": false,
    "execution": {
     "iopub.execute_input": "2020-10-15T09:23:46.200679Z",
     "iopub.status.busy": "2020-10-15T09:23:46.200189Z",
     "iopub.status.idle": "2020-10-15T09:23:46.215494Z",
     "shell.execute_reply": "2020-10-15T09:23:46.216058Z"
    },
    "papermill": {
     "duration": 0.078989,
     "end_time": "2020-10-15T09:23:46.216248",
     "exception": false,
     "start_time": "2020-10-15T09:23:46.137259",
     "status": "completed"
    },
    "pycharm": {
     "name": "#%%\n"
    },
    "tags": []
   },
   "outputs": [
    {
     "data": {
      "text/html": [
       "<div>\n",
       "<style scoped>\n",
       "    .dataframe tbody tr th:only-of-type {\n",
       "        vertical-align: middle;\n",
       "    }\n",
       "\n",
       "    .dataframe tbody tr th {\n",
       "        vertical-align: top;\n",
       "    }\n",
       "\n",
       "    .dataframe thead th {\n",
       "        text-align: right;\n",
       "    }\n",
       "</style>\n",
       "<table border=\"1\" class=\"dataframe\">\n",
       "  <thead>\n",
       "    <tr style=\"text-align: right;\">\n",
       "      <th>generation_to_upload_days</th>\n",
       "      <th>0</th>\n",
       "      <th>1</th>\n",
       "      <th>2</th>\n",
       "      <th>3</th>\n",
       "      <th>4</th>\n",
       "      <th>5</th>\n",
       "      <th>6</th>\n",
       "      <th>7</th>\n",
       "      <th>8</th>\n",
       "      <th>9</th>\n",
       "      <th>10</th>\n",
       "      <th>11</th>\n",
       "      <th>12</th>\n",
       "      <th>13</th>\n",
       "    </tr>\n",
       "    <tr>\n",
       "      <th>upload_date</th>\n",
       "      <th></th>\n",
       "      <th></th>\n",
       "      <th></th>\n",
       "      <th></th>\n",
       "      <th></th>\n",
       "      <th></th>\n",
       "      <th></th>\n",
       "      <th></th>\n",
       "      <th></th>\n",
       "      <th></th>\n",
       "      <th></th>\n",
       "      <th></th>\n",
       "      <th></th>\n",
       "      <th></th>\n",
       "    </tr>\n",
       "  </thead>\n",
       "  <tbody>\n",
       "    <tr>\n",
       "      <th>2020-10-15</th>\n",
       "      <td>16</td>\n",
       "      <td>73</td>\n",
       "      <td>16</td>\n",
       "      <td>14</td>\n",
       "      <td>11</td>\n",
       "      <td>7</td>\n",
       "      <td>5</td>\n",
       "      <td>4</td>\n",
       "      <td>3</td>\n",
       "      <td>3</td>\n",
       "      <td>3</td>\n",
       "      <td>1</td>\n",
       "      <td>1</td>\n",
       "      <td>1</td>\n",
       "    </tr>\n",
       "    <tr>\n",
       "      <th>2020-10-14</th>\n",
       "      <td>1</td>\n",
       "      <td>133</td>\n",
       "      <td>80</td>\n",
       "      <td>69</td>\n",
       "      <td>54</td>\n",
       "      <td>38</td>\n",
       "      <td>30</td>\n",
       "      <td>24</td>\n",
       "      <td>14</td>\n",
       "      <td>9</td>\n",
       "      <td>6</td>\n",
       "      <td>3</td>\n",
       "      <td>1</td>\n",
       "      <td>1</td>\n",
       "    </tr>\n",
       "    <tr>\n",
       "      <th>2020-10-13</th>\n",
       "      <td>1</td>\n",
       "      <td>112</td>\n",
       "      <td>61</td>\n",
       "      <td>50</td>\n",
       "      <td>37</td>\n",
       "      <td>32</td>\n",
       "      <td>19</td>\n",
       "      <td>10</td>\n",
       "      <td>4</td>\n",
       "      <td>4</td>\n",
       "      <td>2</td>\n",
       "      <td>1</td>\n",
       "      <td>1</td>\n",
       "      <td>0</td>\n",
       "    </tr>\n",
       "    <tr>\n",
       "      <th>2020-10-12</th>\n",
       "      <td>2</td>\n",
       "      <td>136</td>\n",
       "      <td>53</td>\n",
       "      <td>47</td>\n",
       "      <td>33</td>\n",
       "      <td>19</td>\n",
       "      <td>14</td>\n",
       "      <td>12</td>\n",
       "      <td>5</td>\n",
       "      <td>2</td>\n",
       "      <td>2</td>\n",
       "      <td>1</td>\n",
       "      <td>0</td>\n",
       "      <td>0</td>\n",
       "    </tr>\n",
       "    <tr>\n",
       "      <th>2020-10-11</th>\n",
       "      <td>1</td>\n",
       "      <td>147</td>\n",
       "      <td>75</td>\n",
       "      <td>62</td>\n",
       "      <td>51</td>\n",
       "      <td>38</td>\n",
       "      <td>18</td>\n",
       "      <td>9</td>\n",
       "      <td>6</td>\n",
       "      <td>5</td>\n",
       "      <td>3</td>\n",
       "      <td>3</td>\n",
       "      <td>2</td>\n",
       "      <td>2</td>\n",
       "    </tr>\n",
       "  </tbody>\n",
       "</table>\n",
       "</div>"
      ],
      "text/plain": [
       "generation_to_upload_days  0    1   2   3   4   5   6   7   8   9   10  11  \\\n",
       "upload_date                                                                  \n",
       "2020-10-15                 16   73  16  14  11   7   5   4   3   3   3   1   \n",
       "2020-10-14                  1  133  80  69  54  38  30  24  14   9   6   3   \n",
       "2020-10-13                  1  112  61  50  37  32  19  10   4   4   2   1   \n",
       "2020-10-12                  2  136  53  47  33  19  14  12   5   2   2   1   \n",
       "2020-10-11                  1  147  75  62  51  38  18   9   6   5   3   3   \n",
       "\n",
       "generation_to_upload_days  12  13  \n",
       "upload_date                        \n",
       "2020-10-15                  1   1  \n",
       "2020-10-14                  1   1  \n",
       "2020-10-13                  1   0  \n",
       "2020-10-12                  0   0  \n",
       "2020-10-11                  2   2  "
      ]
     },
     "execution_count": 27,
     "metadata": {},
     "output_type": "execute_result"
    }
   ],
   "source": [
    "generation_to_upload_period_pivot_df = \\\n",
    "    shared_teks_generation_to_upload_df[\n",
    "        [\"upload_date\", \"generation_to_upload_days\", \"shared_teks\"]] \\\n",
    "        .pivot(index=\"upload_date\", columns=\"generation_to_upload_days\") \\\n",
    "        .sort_index(ascending=False).fillna(0).astype(int) \\\n",
    "        .droplevel(level=0, axis=1)\n",
    "generation_to_upload_period_pivot_df.head()"
   ]
  },
  {
   "cell_type": "code",
   "execution_count": 28,
   "metadata": {
    "collapsed": false,
    "execution": {
     "iopub.execute_input": "2020-10-15T09:23:46.355235Z",
     "iopub.status.busy": "2020-10-15T09:23:46.354631Z",
     "iopub.status.idle": "2020-10-15T09:23:46.356973Z",
     "shell.execute_reply": "2020-10-15T09:23:46.357432Z"
    },
    "papermill": {
     "duration": 0.078445,
     "end_time": "2020-10-15T09:23:46.357571",
     "exception": false,
     "start_time": "2020-10-15T09:23:46.279126",
     "status": "completed"
    },
    "pycharm": {
     "name": "#%%\n"
    },
    "tags": []
   },
   "outputs": [
    {
     "data": {
      "text/html": [
       "<div>\n",
       "<style scoped>\n",
       "    .dataframe tbody tr th:only-of-type {\n",
       "        vertical-align: middle;\n",
       "    }\n",
       "\n",
       "    .dataframe tbody tr th {\n",
       "        vertical-align: top;\n",
       "    }\n",
       "\n",
       "    .dataframe thead th {\n",
       "        text-align: right;\n",
       "    }\n",
       "</style>\n",
       "<table border=\"1\" class=\"dataframe\">\n",
       "  <thead>\n",
       "    <tr style=\"text-align: right;\">\n",
       "      <th></th>\n",
       "      <th>sample_date_string</th>\n",
       "      <th>shared_teks_by_upload_date</th>\n",
       "    </tr>\n",
       "  </thead>\n",
       "  <tbody>\n",
       "    <tr>\n",
       "      <th>43</th>\n",
       "      <td>2020-10-11</td>\n",
       "      <td>422.0</td>\n",
       "    </tr>\n",
       "    <tr>\n",
       "      <th>44</th>\n",
       "      <td>2020-10-12</td>\n",
       "      <td>326.0</td>\n",
       "    </tr>\n",
       "    <tr>\n",
       "      <th>45</th>\n",
       "      <td>2020-10-13</td>\n",
       "      <td>334.0</td>\n",
       "    </tr>\n",
       "    <tr>\n",
       "      <th>46</th>\n",
       "      <td>2020-10-14</td>\n",
       "      <td>463.0</td>\n",
       "    </tr>\n",
       "    <tr>\n",
       "      <th>47</th>\n",
       "      <td>2020-10-15</td>\n",
       "      <td>158.0</td>\n",
       "    </tr>\n",
       "  </tbody>\n",
       "</table>\n",
       "</div>"
      ],
      "text/plain": [
       "   sample_date_string  shared_teks_by_upload_date\n",
       "43         2020-10-11                       422.0\n",
       "44         2020-10-12                       326.0\n",
       "45         2020-10-13                       334.0\n",
       "46         2020-10-14                       463.0\n",
       "47         2020-10-15                       158.0"
      ]
     },
     "execution_count": 28,
     "metadata": {},
     "output_type": "execute_result"
    }
   ],
   "source": [
    "new_tek_df = tek_list_df.diff().tek_list.apply(\n",
    "    lambda x: len(x) if not pd.isna(x) else None).to_frame().reset_index()\n",
    "new_tek_df.rename(columns={\n",
    "    \"tek_list\": \"shared_teks_by_upload_date\",\n",
    "    \"extraction_date\": \"sample_date_string\",}, inplace=True)\n",
    "new_tek_df.tail()"
   ]
  },
  {
   "cell_type": "code",
   "execution_count": 29,
   "metadata": {
    "execution": {
     "iopub.execute_input": "2020-10-15T09:23:46.482353Z",
     "iopub.status.busy": "2020-10-15T09:23:46.481745Z",
     "iopub.status.idle": "2020-10-15T09:23:46.503656Z",
     "shell.execute_reply": "2020-10-15T09:23:46.503188Z"
    },
    "papermill": {
     "duration": 0.086573,
     "end_time": "2020-10-15T09:23:46.503777",
     "exception": false,
     "start_time": "2020-10-15T09:23:46.417204",
     "status": "completed"
    },
    "pycharm": {
     "name": "#%%\n"
    },
    "tags": []
   },
   "outputs": [
    {
     "data": {
      "text/html": [
       "<div>\n",
       "<style scoped>\n",
       "    .dataframe tbody tr th:only-of-type {\n",
       "        vertical-align: middle;\n",
       "    }\n",
       "\n",
       "    .dataframe tbody tr th {\n",
       "        vertical-align: top;\n",
       "    }\n",
       "\n",
       "    .dataframe thead th {\n",
       "        text-align: right;\n",
       "    }\n",
       "</style>\n",
       "<table border=\"1\" class=\"dataframe\">\n",
       "  <thead>\n",
       "    <tr style=\"text-align: right;\">\n",
       "      <th></th>\n",
       "      <th>region</th>\n",
       "      <th>sample_date</th>\n",
       "      <th>tek_list</th>\n",
       "      <th>extraction_date</th>\n",
       "      <th>extraction_date_with_hour</th>\n",
       "      <th>new_sample_extraction_date</th>\n",
       "    </tr>\n",
       "  </thead>\n",
       "  <tbody>\n",
       "    <tr>\n",
       "      <th>2</th>\n",
       "      <td>ES</td>\n",
       "      <td>2020-10-02</td>\n",
       "      <td>[eca67d43-1657-dab1-0fa9-2d663d99905b, 118de28...</td>\n",
       "      <td>2020-10-15</td>\n",
       "      <td>NaN</td>\n",
       "      <td>2020-10-03</td>\n",
       "    </tr>\n",
       "    <tr>\n",
       "      <th>7</th>\n",
       "      <td>ES</td>\n",
       "      <td>2020-10-03</td>\n",
       "      <td>[8d9aad3f-8e10-72db-51f8-aeca9a72411c, 70ed4dc...</td>\n",
       "      <td>2020-10-15</td>\n",
       "      <td>NaN</td>\n",
       "      <td>2020-10-04</td>\n",
       "    </tr>\n",
       "    <tr>\n",
       "      <th>12</th>\n",
       "      <td>ES</td>\n",
       "      <td>2020-10-04</td>\n",
       "      <td>[b4663247-dc7a-90df-4a40-f8a854d6b5a5, 614d609...</td>\n",
       "      <td>2020-10-15</td>\n",
       "      <td>NaN</td>\n",
       "      <td>2020-10-05</td>\n",
       "    </tr>\n",
       "    <tr>\n",
       "      <th>17</th>\n",
       "      <td>ES</td>\n",
       "      <td>2020-10-05</td>\n",
       "      <td>[16829c6b-916a-1805-b975-a5ec51dacfec, 144bf1c...</td>\n",
       "      <td>2020-10-15</td>\n",
       "      <td>NaN</td>\n",
       "      <td>2020-10-06</td>\n",
       "    </tr>\n",
       "    <tr>\n",
       "      <th>22</th>\n",
       "      <td>ES</td>\n",
       "      <td>2020-10-06</td>\n",
       "      <td>[7f3be3de-130e-f955-efbb-3b1235e54bc4, fb7c580...</td>\n",
       "      <td>2020-10-15</td>\n",
       "      <td>NaN</td>\n",
       "      <td>2020-10-07</td>\n",
       "    </tr>\n",
       "  </tbody>\n",
       "</table>\n",
       "</div>"
      ],
      "text/plain": [
       "   region sample_date                                           tek_list  \\\n",
       "2      ES  2020-10-02  [eca67d43-1657-dab1-0fa9-2d663d99905b, 118de28...   \n",
       "7      ES  2020-10-03  [8d9aad3f-8e10-72db-51f8-aeca9a72411c, 70ed4dc...   \n",
       "12     ES  2020-10-04  [b4663247-dc7a-90df-4a40-f8a854d6b5a5, 614d609...   \n",
       "17     ES  2020-10-05  [16829c6b-916a-1805-b975-a5ec51dacfec, 144bf1c...   \n",
       "22     ES  2020-10-06  [7f3be3de-130e-f955-efbb-3b1235e54bc4, fb7c580...   \n",
       "\n",
       "   extraction_date extraction_date_with_hour new_sample_extraction_date  \n",
       "2       2020-10-15                       NaN                 2020-10-03  \n",
       "7       2020-10-15                       NaN                 2020-10-04  \n",
       "12      2020-10-15                       NaN                 2020-10-05  \n",
       "17      2020-10-15                       NaN                 2020-10-06  \n",
       "22      2020-10-15                       NaN                 2020-10-07  "
      ]
     },
     "execution_count": 29,
     "metadata": {},
     "output_type": "execute_result"
    }
   ],
   "source": [
    "estimated_shared_diagnoses_df = daily_extracted_teks_df.copy()\n",
    "estimated_shared_diagnoses_df[\"new_sample_extraction_date\"] = \\\n",
    "    pd.to_datetime(estimated_shared_diagnoses_df.sample_date) + datetime.timedelta(1)\n",
    "estimated_shared_diagnoses_df[\"extraction_date\"] = pd.to_datetime(estimated_shared_diagnoses_df.extraction_date)\n",
    "estimated_shared_diagnoses_df[\"sample_date\"] = pd.to_datetime(estimated_shared_diagnoses_df.sample_date)\n",
    "estimated_shared_diagnoses_df.head()"
   ]
  },
  {
   "cell_type": "code",
   "execution_count": 30,
   "metadata": {
    "collapsed": false,
    "execution": {
     "iopub.execute_input": "2020-10-15T09:23:46.627049Z",
     "iopub.status.busy": "2020-10-15T09:23:46.626500Z",
     "iopub.status.idle": "2020-10-15T09:23:46.636988Z",
     "shell.execute_reply": "2020-10-15T09:23:46.637436Z"
    },
    "papermill": {
     "duration": 0.075886,
     "end_time": "2020-10-15T09:23:46.637574",
     "exception": false,
     "start_time": "2020-10-15T09:23:46.561688",
     "status": "completed"
    },
    "pycharm": {
     "name": "#%%\n"
    },
    "tags": []
   },
   "outputs": [
    {
     "data": {
      "text/html": [
       "<div>\n",
       "<style scoped>\n",
       "    .dataframe tbody tr th:only-of-type {\n",
       "        vertical-align: middle;\n",
       "    }\n",
       "\n",
       "    .dataframe tbody tr th {\n",
       "        vertical-align: top;\n",
       "    }\n",
       "\n",
       "    .dataframe thead th {\n",
       "        text-align: right;\n",
       "    }\n",
       "</style>\n",
       "<table border=\"1\" class=\"dataframe\">\n",
       "  <thead>\n",
       "    <tr style=\"text-align: right;\">\n",
       "      <th></th>\n",
       "      <th>extraction_date</th>\n",
       "      <th>same_day_tek_list</th>\n",
       "    </tr>\n",
       "  </thead>\n",
       "  <tbody>\n",
       "    <tr>\n",
       "      <th>65</th>\n",
       "      <td>2020-10-15</td>\n",
       "      <td>[415d89c5-3161-fff2-87e7-693667cc851c, 683528f...</td>\n",
       "    </tr>\n",
       "    <tr>\n",
       "      <th>66</th>\n",
       "      <td>2020-10-14</td>\n",
       "      <td>[b1fc5c0f-e34f-0b99-b978-e52429243f60]</td>\n",
       "    </tr>\n",
       "    <tr>\n",
       "      <th>66</th>\n",
       "      <td>2020-10-13</td>\n",
       "      <td>[7f4112bc-593d-2e88-8b6c-732958825572]</td>\n",
       "    </tr>\n",
       "    <tr>\n",
       "      <th>39</th>\n",
       "      <td>2020-10-12</td>\n",
       "      <td>[c19f0624-898b-eabe-8358-dc43c24f61bc, 64367b3...</td>\n",
       "    </tr>\n",
       "    <tr>\n",
       "      <th>39</th>\n",
       "      <td>2020-10-11</td>\n",
       "      <td>[30fa166d-d446-2020-c49c-8f9c4279e4f1]</td>\n",
       "    </tr>\n",
       "  </tbody>\n",
       "</table>\n",
       "</div>"
      ],
      "text/plain": [
       "   extraction_date                                  same_day_tek_list\n",
       "65      2020-10-15  [415d89c5-3161-fff2-87e7-693667cc851c, 683528f...\n",
       "66      2020-10-14             [b1fc5c0f-e34f-0b99-b978-e52429243f60]\n",
       "66      2020-10-13             [7f4112bc-593d-2e88-8b6c-732958825572]\n",
       "39      2020-10-12  [c19f0624-898b-eabe-8358-dc43c24f61bc, 64367b3...\n",
       "39      2020-10-11             [30fa166d-d446-2020-c49c-8f9c4279e4f1]"
      ]
     },
     "execution_count": 30,
     "metadata": {},
     "output_type": "execute_result"
    }
   ],
   "source": [
    "# Sometimes TEKs from the same day are uploaded, we do not count them as new TEK devices:\n",
    "same_day_tek_list_df = estimated_shared_diagnoses_df[\n",
    "    estimated_shared_diagnoses_df.sample_date == estimated_shared_diagnoses_df.extraction_date].copy()\n",
    "same_day_tek_list_df = same_day_tek_list_df[[\"extraction_date\", \"tek_list\"]].rename(\n",
    "    columns={\"tek_list\": \"same_day_tek_list\"})\n",
    "same_day_tek_list_df.head()"
   ]
  },
  {
   "cell_type": "code",
   "execution_count": 31,
   "metadata": {
    "collapsed": false,
    "execution": {
     "iopub.execute_input": "2020-10-15T09:23:46.769058Z",
     "iopub.status.busy": "2020-10-15T09:23:46.768515Z",
     "iopub.status.idle": "2020-10-15T09:23:46.770636Z",
     "shell.execute_reply": "2020-10-15T09:23:46.771040Z"
    },
    "papermill": {
     "duration": 0.075735,
     "end_time": "2020-10-15T09:23:46.771177",
     "exception": false,
     "start_time": "2020-10-15T09:23:46.695442",
     "status": "completed"
    },
    "pycharm": {
     "name": "#%%\n"
    },
    "tags": []
   },
   "outputs": [
    {
     "data": {
      "text/html": [
       "<div>\n",
       "<style scoped>\n",
       "    .dataframe tbody tr th:only-of-type {\n",
       "        vertical-align: middle;\n",
       "    }\n",
       "\n",
       "    .dataframe tbody tr th {\n",
       "        vertical-align: top;\n",
       "    }\n",
       "\n",
       "    .dataframe thead th {\n",
       "        text-align: right;\n",
       "    }\n",
       "</style>\n",
       "<table border=\"1\" class=\"dataframe\">\n",
       "  <thead>\n",
       "    <tr style=\"text-align: right;\">\n",
       "      <th></th>\n",
       "      <th>sample_date_string</th>\n",
       "      <th>shared_teks_uploaded_on_generation_date</th>\n",
       "    </tr>\n",
       "  </thead>\n",
       "  <tbody>\n",
       "    <tr>\n",
       "      <th>65</th>\n",
       "      <td>2020-10-15</td>\n",
       "      <td>16</td>\n",
       "    </tr>\n",
       "    <tr>\n",
       "      <th>66</th>\n",
       "      <td>2020-10-14</td>\n",
       "      <td>1</td>\n",
       "    </tr>\n",
       "    <tr>\n",
       "      <th>66</th>\n",
       "      <td>2020-10-13</td>\n",
       "      <td>1</td>\n",
       "    </tr>\n",
       "    <tr>\n",
       "      <th>39</th>\n",
       "      <td>2020-10-12</td>\n",
       "      <td>2</td>\n",
       "    </tr>\n",
       "    <tr>\n",
       "      <th>39</th>\n",
       "      <td>2020-10-11</td>\n",
       "      <td>1</td>\n",
       "    </tr>\n",
       "  </tbody>\n",
       "</table>\n",
       "</div>"
      ],
      "text/plain": [
       "   sample_date_string  shared_teks_uploaded_on_generation_date\n",
       "65         2020-10-15                                       16\n",
       "66         2020-10-14                                        1\n",
       "66         2020-10-13                                        1\n",
       "39         2020-10-12                                        2\n",
       "39         2020-10-11                                        1"
      ]
     },
     "execution_count": 31,
     "metadata": {},
     "output_type": "execute_result"
    }
   ],
   "source": [
    "shared_teks_uploaded_on_generation_date_df = same_day_tek_list_df.rename(\n",
    "    columns={\n",
    "        \"extraction_date\": \"sample_date_string\",\n",
    "        \"same_day_tek_list\": \"shared_teks_uploaded_on_generation_date\",\n",
    "    })\n",
    "shared_teks_uploaded_on_generation_date_df.shared_teks_uploaded_on_generation_date = \\\n",
    " shared_teks_uploaded_on_generation_date_df.shared_teks_uploaded_on_generation_date.apply(len)\n",
    "shared_teks_uploaded_on_generation_date_df.head()\n",
    "shared_teks_uploaded_on_generation_date_df[\"sample_date_string\"] = \\\n",
    "    shared_teks_uploaded_on_generation_date_df.sample_date_string.dt.strftime(\"%Y-%m-%d\")\n",
    "shared_teks_uploaded_on_generation_date_df.head()"
   ]
  },
  {
   "cell_type": "code",
   "execution_count": 32,
   "metadata": {
    "collapsed": false,
    "execution": {
     "iopub.execute_input": "2020-10-15T09:23:46.900676Z",
     "iopub.status.busy": "2020-10-15T09:23:46.900199Z",
     "iopub.status.idle": "2020-10-15T09:23:46.903237Z",
     "shell.execute_reply": "2020-10-15T09:23:46.902771Z"
    },
    "papermill": {
     "duration": 0.075491,
     "end_time": "2020-10-15T09:23:46.903354",
     "exception": false,
     "start_time": "2020-10-15T09:23:46.827863",
     "status": "completed"
    },
    "pycharm": {
     "name": "#%%\n"
    },
    "tags": []
   },
   "outputs": [
    {
     "data": {
      "text/html": [
       "<div>\n",
       "<style scoped>\n",
       "    .dataframe tbody tr th:only-of-type {\n",
       "        vertical-align: middle;\n",
       "    }\n",
       "\n",
       "    .dataframe tbody tr th {\n",
       "        vertical-align: top;\n",
       "    }\n",
       "\n",
       "    .dataframe thead th {\n",
       "        text-align: right;\n",
       "    }\n",
       "</style>\n",
       "<table border=\"1\" class=\"dataframe\">\n",
       "  <thead>\n",
       "    <tr style=\"text-align: right;\">\n",
       "      <th></th>\n",
       "      <th>region</th>\n",
       "      <th>sample_date</th>\n",
       "      <th>tek_list</th>\n",
       "      <th>extraction_date</th>\n",
       "      <th>extraction_date_with_hour</th>\n",
       "      <th>new_sample_extraction_date</th>\n",
       "    </tr>\n",
       "  </thead>\n",
       "  <tbody>\n",
       "    <tr>\n",
       "      <th>61</th>\n",
       "      <td>ES</td>\n",
       "      <td>2020-10-14</td>\n",
       "      <td>[e0aa799b-d571-e7e8-da3d-03a5e34d7125, ddde922...</td>\n",
       "      <td>2020-10-15</td>\n",
       "      <td>NaN</td>\n",
       "      <td>2020-10-15</td>\n",
       "    </tr>\n",
       "    <tr>\n",
       "      <th>62</th>\n",
       "      <td>ES</td>\n",
       "      <td>2020-10-13</td>\n",
       "      <td>[aab0b70e-afdb-639c-b6aa-43f12edd514b, d8e3045...</td>\n",
       "      <td>2020-10-14</td>\n",
       "      <td>NaN</td>\n",
       "      <td>2020-10-14</td>\n",
       "    </tr>\n",
       "    <tr>\n",
       "      <th>62</th>\n",
       "      <td>ES</td>\n",
       "      <td>2020-10-12</td>\n",
       "      <td>[a3461e52-9c9d-9a87-7457-b5efefb1fa72, 7738074...</td>\n",
       "      <td>2020-10-13</td>\n",
       "      <td>NaN</td>\n",
       "      <td>2020-10-13</td>\n",
       "    </tr>\n",
       "    <tr>\n",
       "      <th>37</th>\n",
       "      <td>ES</td>\n",
       "      <td>2020-10-11</td>\n",
       "      <td>[04017b9c-7f3c-c4fe-0b73-cc8dca6892ad, 07a3f71...</td>\n",
       "      <td>2020-10-12</td>\n",
       "      <td>NaN</td>\n",
       "      <td>2020-10-12</td>\n",
       "    </tr>\n",
       "    <tr>\n",
       "      <th>37</th>\n",
       "      <td>ES</td>\n",
       "      <td>2020-10-10</td>\n",
       "      <td>[84d55cd4-1727-5281-1f88-89cf7fb60250, 6d881d8...</td>\n",
       "      <td>2020-10-11</td>\n",
       "      <td>NaN</td>\n",
       "      <td>2020-10-11</td>\n",
       "    </tr>\n",
       "  </tbody>\n",
       "</table>\n",
       "</div>"
      ],
      "text/plain": [
       "   region sample_date                                           tek_list  \\\n",
       "61     ES  2020-10-14  [e0aa799b-d571-e7e8-da3d-03a5e34d7125, ddde922...   \n",
       "62     ES  2020-10-13  [aab0b70e-afdb-639c-b6aa-43f12edd514b, d8e3045...   \n",
       "62     ES  2020-10-12  [a3461e52-9c9d-9a87-7457-b5efefb1fa72, 7738074...   \n",
       "37     ES  2020-10-11  [04017b9c-7f3c-c4fe-0b73-cc8dca6892ad, 07a3f71...   \n",
       "37     ES  2020-10-10  [84d55cd4-1727-5281-1f88-89cf7fb60250, 6d881d8...   \n",
       "\n",
       "   extraction_date extraction_date_with_hour new_sample_extraction_date  \n",
       "61      2020-10-15                       NaN                 2020-10-15  \n",
       "62      2020-10-14                       NaN                 2020-10-14  \n",
       "62      2020-10-13                       NaN                 2020-10-13  \n",
       "37      2020-10-12                       NaN                 2020-10-12  \n",
       "37      2020-10-11                       NaN                 2020-10-11  "
      ]
     },
     "execution_count": 32,
     "metadata": {},
     "output_type": "execute_result"
    }
   ],
   "source": [
    "estimated_shared_diagnoses_df = estimated_shared_diagnoses_df[\n",
    "    estimated_shared_diagnoses_df.new_sample_extraction_date == estimated_shared_diagnoses_df.extraction_date]\n",
    "estimated_shared_diagnoses_df.head()"
   ]
  },
  {
   "cell_type": "code",
   "execution_count": 33,
   "metadata": {
    "collapsed": false,
    "execution": {
     "iopub.execute_input": "2020-10-15T09:23:47.027370Z",
     "iopub.status.busy": "2020-10-15T09:23:47.026836Z",
     "iopub.status.idle": "2020-10-15T09:23:47.044595Z",
     "shell.execute_reply": "2020-10-15T09:23:47.044185Z"
    },
    "papermill": {
     "duration": 0.084838,
     "end_time": "2020-10-15T09:23:47.044710",
     "exception": false,
     "start_time": "2020-10-15T09:23:46.959872",
     "status": "completed"
    },
    "pycharm": {
     "name": "#%%\n"
    },
    "tags": []
   },
   "outputs": [
    {
     "data": {
      "text/html": [
       "<div>\n",
       "<style scoped>\n",
       "    .dataframe tbody tr th:only-of-type {\n",
       "        vertical-align: middle;\n",
       "    }\n",
       "\n",
       "    .dataframe tbody tr th {\n",
       "        vertical-align: top;\n",
       "    }\n",
       "\n",
       "    .dataframe thead th {\n",
       "        text-align: right;\n",
       "    }\n",
       "</style>\n",
       "<table border=\"1\" class=\"dataframe\">\n",
       "  <thead>\n",
       "    <tr style=\"text-align: right;\">\n",
       "      <th></th>\n",
       "      <th>region</th>\n",
       "      <th>sample_date</th>\n",
       "      <th>tek_list</th>\n",
       "      <th>extraction_date</th>\n",
       "      <th>extraction_date_with_hour</th>\n",
       "      <th>new_sample_extraction_date</th>\n",
       "      <th>same_day_tek_list</th>\n",
       "    </tr>\n",
       "  </thead>\n",
       "  <tbody>\n",
       "    <tr>\n",
       "      <th>0</th>\n",
       "      <td>ES</td>\n",
       "      <td>2020-10-14</td>\n",
       "      <td>[e0aa799b-d571-e7e8-da3d-03a5e34d7125, ddde922...</td>\n",
       "      <td>2020-10-15</td>\n",
       "      <td>NaN</td>\n",
       "      <td>2020-10-15</td>\n",
       "      <td>[b1fc5c0f-e34f-0b99-b978-e52429243f60]</td>\n",
       "    </tr>\n",
       "    <tr>\n",
       "      <th>1</th>\n",
       "      <td>ES</td>\n",
       "      <td>2020-10-13</td>\n",
       "      <td>[aab0b70e-afdb-639c-b6aa-43f12edd514b, d8e3045...</td>\n",
       "      <td>2020-10-14</td>\n",
       "      <td>NaN</td>\n",
       "      <td>2020-10-14</td>\n",
       "      <td>[7f4112bc-593d-2e88-8b6c-732958825572]</td>\n",
       "    </tr>\n",
       "    <tr>\n",
       "      <th>2</th>\n",
       "      <td>ES</td>\n",
       "      <td>2020-10-12</td>\n",
       "      <td>[a3461e52-9c9d-9a87-7457-b5efefb1fa72, 7738074...</td>\n",
       "      <td>2020-10-13</td>\n",
       "      <td>NaN</td>\n",
       "      <td>2020-10-13</td>\n",
       "      <td>[c19f0624-898b-eabe-8358-dc43c24f61bc, 64367b3...</td>\n",
       "    </tr>\n",
       "    <tr>\n",
       "      <th>3</th>\n",
       "      <td>ES</td>\n",
       "      <td>2020-10-11</td>\n",
       "      <td>[04017b9c-7f3c-c4fe-0b73-cc8dca6892ad, 07a3f71...</td>\n",
       "      <td>2020-10-12</td>\n",
       "      <td>NaN</td>\n",
       "      <td>2020-10-12</td>\n",
       "      <td>[30fa166d-d446-2020-c49c-8f9c4279e4f1]</td>\n",
       "    </tr>\n",
       "    <tr>\n",
       "      <th>4</th>\n",
       "      <td>ES</td>\n",
       "      <td>2020-10-10</td>\n",
       "      <td>[84d55cd4-1727-5281-1f88-89cf7fb60250, 6d881d8...</td>\n",
       "      <td>2020-10-11</td>\n",
       "      <td>NaN</td>\n",
       "      <td>2020-10-11</td>\n",
       "      <td>[]</td>\n",
       "    </tr>\n",
       "  </tbody>\n",
       "</table>\n",
       "</div>"
      ],
      "text/plain": [
       "  region sample_date                                           tek_list  \\\n",
       "0     ES  2020-10-14  [e0aa799b-d571-e7e8-da3d-03a5e34d7125, ddde922...   \n",
       "1     ES  2020-10-13  [aab0b70e-afdb-639c-b6aa-43f12edd514b, d8e3045...   \n",
       "2     ES  2020-10-12  [a3461e52-9c9d-9a87-7457-b5efefb1fa72, 7738074...   \n",
       "3     ES  2020-10-11  [04017b9c-7f3c-c4fe-0b73-cc8dca6892ad, 07a3f71...   \n",
       "4     ES  2020-10-10  [84d55cd4-1727-5281-1f88-89cf7fb60250, 6d881d8...   \n",
       "\n",
       "  extraction_date extraction_date_with_hour new_sample_extraction_date  \\\n",
       "0      2020-10-15                       NaN                 2020-10-15   \n",
       "1      2020-10-14                       NaN                 2020-10-14   \n",
       "2      2020-10-13                       NaN                 2020-10-13   \n",
       "3      2020-10-12                       NaN                 2020-10-12   \n",
       "4      2020-10-11                       NaN                 2020-10-11   \n",
       "\n",
       "                                   same_day_tek_list  \n",
       "0             [b1fc5c0f-e34f-0b99-b978-e52429243f60]  \n",
       "1             [7f4112bc-593d-2e88-8b6c-732958825572]  \n",
       "2  [c19f0624-898b-eabe-8358-dc43c24f61bc, 64367b3...  \n",
       "3             [30fa166d-d446-2020-c49c-8f9c4279e4f1]  \n",
       "4                                                 []  "
      ]
     },
     "execution_count": 33,
     "metadata": {},
     "output_type": "execute_result"
    }
   ],
   "source": [
    "same_day_tek_list_df[\"extraction_date\"] = \\\n",
    "    same_day_tek_list_df.extraction_date + datetime.timedelta(1)\n",
    "estimated_shared_diagnoses_df = \\\n",
    "    estimated_shared_diagnoses_df.merge(same_day_tek_list_df, how=\"left\", on=[\"extraction_date\"])\n",
    "estimated_shared_diagnoses_df[\"same_day_tek_list\"] = \\\n",
    "    estimated_shared_diagnoses_df.same_day_tek_list.apply(lambda x: [] if x is np.nan else x)\n",
    "estimated_shared_diagnoses_df.head()"
   ]
  },
  {
   "cell_type": "code",
   "execution_count": 34,
   "metadata": {
    "execution": {
     "iopub.execute_input": "2020-10-15T09:23:47.169222Z",
     "iopub.status.busy": "2020-10-15T09:23:47.168707Z",
     "iopub.status.idle": "2020-10-15T09:23:47.184870Z",
     "shell.execute_reply": "2020-10-15T09:23:47.184435Z"
    },
    "papermill": {
     "duration": 0.08229,
     "end_time": "2020-10-15T09:23:47.184982",
     "exception": false,
     "start_time": "2020-10-15T09:23:47.102692",
     "status": "completed"
    },
    "tags": []
   },
   "outputs": [
    {
     "data": {
      "text/html": [
       "<div>\n",
       "<style scoped>\n",
       "    .dataframe tbody tr th:only-of-type {\n",
       "        vertical-align: middle;\n",
       "    }\n",
       "\n",
       "    .dataframe tbody tr th {\n",
       "        vertical-align: top;\n",
       "    }\n",
       "\n",
       "    .dataframe thead th {\n",
       "        text-align: right;\n",
       "    }\n",
       "</style>\n",
       "<table border=\"1\" class=\"dataframe\">\n",
       "  <thead>\n",
       "    <tr style=\"text-align: right;\">\n",
       "      <th></th>\n",
       "      <th>sample_date_string</th>\n",
       "      <th>shared_diagnoses</th>\n",
       "    </tr>\n",
       "  </thead>\n",
       "  <tbody>\n",
       "    <tr>\n",
       "      <th>0</th>\n",
       "      <td>2020-10-15</td>\n",
       "      <td>73</td>\n",
       "    </tr>\n",
       "    <tr>\n",
       "      <th>1</th>\n",
       "      <td>2020-10-14</td>\n",
       "      <td>133</td>\n",
       "    </tr>\n",
       "    <tr>\n",
       "      <th>2</th>\n",
       "      <td>2020-10-13</td>\n",
       "      <td>112</td>\n",
       "    </tr>\n",
       "    <tr>\n",
       "      <th>3</th>\n",
       "      <td>2020-10-12</td>\n",
       "      <td>136</td>\n",
       "    </tr>\n",
       "    <tr>\n",
       "      <th>4</th>\n",
       "      <td>2020-10-11</td>\n",
       "      <td>147</td>\n",
       "    </tr>\n",
       "  </tbody>\n",
       "</table>\n",
       "</div>"
      ],
      "text/plain": [
       "  sample_date_string  shared_diagnoses\n",
       "0         2020-10-15                73\n",
       "1         2020-10-14               133\n",
       "2         2020-10-13               112\n",
       "3         2020-10-12               136\n",
       "4         2020-10-11               147"
      ]
     },
     "execution_count": 34,
     "metadata": {},
     "output_type": "execute_result"
    }
   ],
   "source": [
    "estimated_shared_diagnoses_df.set_index(\"extraction_date\", inplace=True)\n",
    "estimated_shared_diagnoses_df[\"shared_diagnoses\"] = estimated_shared_diagnoses_df.apply(\n",
    "    lambda x: len(set(x.tek_list).difference(x.same_day_tek_list)), axis=1).copy()\n",
    "estimated_shared_diagnoses_df.reset_index(inplace=True)\n",
    "estimated_shared_diagnoses_df.rename(columns={\n",
    "    \"extraction_date\": \"sample_date_string\"}, inplace=True)\n",
    "estimated_shared_diagnoses_df = estimated_shared_diagnoses_df[[\"sample_date_string\", \"shared_diagnoses\"]]\n",
    "estimated_shared_diagnoses_df[\"sample_date_string\"] = estimated_shared_diagnoses_df.sample_date_string.dt.strftime(\"%Y-%m-%d\")\n",
    "estimated_shared_diagnoses_df.head()"
   ]
  },
  {
   "cell_type": "markdown",
   "metadata": {
    "papermill": {
     "duration": 0.057635,
     "end_time": "2020-10-15T09:23:47.301008",
     "exception": false,
     "start_time": "2020-10-15T09:23:47.243373",
     "status": "completed"
    },
    "pycharm": {
     "name": "#%% md\n"
    },
    "tags": []
   },
   "source": [
    "### Hourly New TEKs"
   ]
  },
  {
   "cell_type": "code",
   "execution_count": 35,
   "metadata": {
    "execution": {
     "iopub.execute_input": "2020-10-15T09:23:47.421790Z",
     "iopub.status.busy": "2020-10-15T09:23:47.421245Z",
     "iopub.status.idle": "2020-10-15T09:23:47.703431Z",
     "shell.execute_reply": "2020-10-15T09:23:47.704196Z"
    },
    "papermill": {
     "duration": 0.346872,
     "end_time": "2020-10-15T09:23:47.704436",
     "exception": false,
     "start_time": "2020-10-15T09:23:47.357564",
     "status": "completed"
    },
    "pycharm": {
     "name": "#%%\n"
    },
    "tags": []
   },
   "outputs": [
    {
     "data": {
      "text/html": [
       "<div>\n",
       "<style scoped>\n",
       "    .dataframe tbody tr th:only-of-type {\n",
       "        vertical-align: middle;\n",
       "    }\n",
       "\n",
       "    .dataframe tbody tr th {\n",
       "        vertical-align: top;\n",
       "    }\n",
       "\n",
       "    .dataframe thead th {\n",
       "        text-align: right;\n",
       "    }\n",
       "</style>\n",
       "<table border=\"1\" class=\"dataframe\">\n",
       "  <thead>\n",
       "    <tr style=\"text-align: right;\">\n",
       "      <th></th>\n",
       "      <th>region</th>\n",
       "      <th>sample_date</th>\n",
       "      <th>tek_list</th>\n",
       "      <th>extraction_date</th>\n",
       "      <th>extraction_date_with_hour</th>\n",
       "    </tr>\n",
       "  </thead>\n",
       "  <tbody>\n",
       "    <tr>\n",
       "      <th>2</th>\n",
       "      <td>ES</td>\n",
       "      <td>2020-10-02</td>\n",
       "      <td>[eca67d43-1657-dab1-0fa9-2d663d99905b, 118de28...</td>\n",
       "      <td>2020-10-15</td>\n",
       "      <td>2020-10-15@09</td>\n",
       "    </tr>\n",
       "    <tr>\n",
       "      <th>7</th>\n",
       "      <td>ES</td>\n",
       "      <td>2020-10-03</td>\n",
       "      <td>[8d9aad3f-8e10-72db-51f8-aeca9a72411c, 70ed4dc...</td>\n",
       "      <td>2020-10-15</td>\n",
       "      <td>2020-10-15@09</td>\n",
       "    </tr>\n",
       "    <tr>\n",
       "      <th>12</th>\n",
       "      <td>ES</td>\n",
       "      <td>2020-10-04</td>\n",
       "      <td>[b4663247-dc7a-90df-4a40-f8a854d6b5a5, 614d609...</td>\n",
       "      <td>2020-10-15</td>\n",
       "      <td>2020-10-15@09</td>\n",
       "    </tr>\n",
       "    <tr>\n",
       "      <th>17</th>\n",
       "      <td>ES</td>\n",
       "      <td>2020-10-05</td>\n",
       "      <td>[16829c6b-916a-1805-b975-a5ec51dacfec, 144bf1c...</td>\n",
       "      <td>2020-10-15</td>\n",
       "      <td>2020-10-15@09</td>\n",
       "    </tr>\n",
       "    <tr>\n",
       "      <th>22</th>\n",
       "      <td>ES</td>\n",
       "      <td>2020-10-06</td>\n",
       "      <td>[7f3be3de-130e-f955-efbb-3b1235e54bc4, fb7c580...</td>\n",
       "      <td>2020-10-15</td>\n",
       "      <td>2020-10-15@09</td>\n",
       "    </tr>\n",
       "  </tbody>\n",
       "</table>\n",
       "</div>"
      ],
      "text/plain": [
       "   region sample_date                                           tek_list  \\\n",
       "2      ES  2020-10-02  [eca67d43-1657-dab1-0fa9-2d663d99905b, 118de28...   \n",
       "7      ES  2020-10-03  [8d9aad3f-8e10-72db-51f8-aeca9a72411c, 70ed4dc...   \n",
       "12     ES  2020-10-04  [b4663247-dc7a-90df-4a40-f8a854d6b5a5, 614d609...   \n",
       "17     ES  2020-10-05  [16829c6b-916a-1805-b975-a5ec51dacfec, 144bf1c...   \n",
       "22     ES  2020-10-06  [7f3be3de-130e-f955-efbb-3b1235e54bc4, fb7c580...   \n",
       "\n",
       "   extraction_date extraction_date_with_hour  \n",
       "2       2020-10-15             2020-10-15@09  \n",
       "7       2020-10-15             2020-10-15@09  \n",
       "12      2020-10-15             2020-10-15@09  \n",
       "17      2020-10-15             2020-10-15@09  \n",
       "22      2020-10-15             2020-10-15@09  "
      ]
     },
     "execution_count": 35,
     "metadata": {},
     "output_type": "execute_result"
    }
   ],
   "source": [
    "hourly_extracted_teks_df = load_extracted_teks(\n",
    "    mode=\"Hourly\", region=active_region_country_code, limit=25)\n",
    "hourly_extracted_teks_df.head()"
   ]
  },
  {
   "cell_type": "code",
   "execution_count": 36,
   "metadata": {
    "collapsed": false,
    "execution": {
     "iopub.execute_input": "2020-10-15T09:23:47.834312Z",
     "iopub.status.busy": "2020-10-15T09:23:47.833765Z",
     "iopub.status.idle": "2020-10-15T09:23:47.869612Z",
     "shell.execute_reply": "2020-10-15T09:23:47.870278Z"
    },
    "papermill": {
     "duration": 0.103276,
     "end_time": "2020-10-15T09:23:47.870422",
     "exception": false,
     "start_time": "2020-10-15T09:23:47.767146",
     "status": "completed"
    },
    "pycharm": {
     "name": "#%%\n"
    },
    "tags": []
   },
   "outputs": [
    {
     "data": {
      "text/html": [
       "<div>\n",
       "<style scoped>\n",
       "    .dataframe tbody tr th:only-of-type {\n",
       "        vertical-align: middle;\n",
       "    }\n",
       "\n",
       "    .dataframe tbody tr th {\n",
       "        vertical-align: top;\n",
       "    }\n",
       "\n",
       "    .dataframe thead th {\n",
       "        text-align: right;\n",
       "    }\n",
       "</style>\n",
       "<table border=\"1\" class=\"dataframe\">\n",
       "  <thead>\n",
       "    <tr style=\"text-align: right;\">\n",
       "      <th></th>\n",
       "      <th>extraction_date_with_hour</th>\n",
       "      <th>shared_teks_by_upload_date</th>\n",
       "    </tr>\n",
       "  </thead>\n",
       "  <tbody>\n",
       "    <tr>\n",
       "      <th>0</th>\n",
       "      <td>2020-10-14@09</td>\n",
       "      <td>0</td>\n",
       "    </tr>\n",
       "    <tr>\n",
       "      <th>1</th>\n",
       "      <td>2020-10-14@10</td>\n",
       "      <td>97</td>\n",
       "    </tr>\n",
       "    <tr>\n",
       "      <th>2</th>\n",
       "      <td>2020-10-14@11</td>\n",
       "      <td>0</td>\n",
       "    </tr>\n",
       "    <tr>\n",
       "      <th>3</th>\n",
       "      <td>2020-10-14@12</td>\n",
       "      <td>53</td>\n",
       "    </tr>\n",
       "    <tr>\n",
       "      <th>4</th>\n",
       "      <td>2020-10-14@13</td>\n",
       "      <td>0</td>\n",
       "    </tr>\n",
       "  </tbody>\n",
       "</table>\n",
       "</div>"
      ],
      "text/plain": [
       "  extraction_date_with_hour  shared_teks_by_upload_date\n",
       "0             2020-10-14@09                           0\n",
       "1             2020-10-14@10                          97\n",
       "2             2020-10-14@11                           0\n",
       "3             2020-10-14@12                          53\n",
       "4             2020-10-14@13                           0"
      ]
     },
     "execution_count": 36,
     "metadata": {},
     "output_type": "execute_result"
    }
   ],
   "source": [
    "hourly_new_tek_count_df = hourly_extracted_teks_df \\\n",
    "    .groupby(\"extraction_date_with_hour\").tek_list. \\\n",
    "    apply(lambda x: set(sum(x, []))).reset_index().copy()\n",
    "hourly_new_tek_count_df = hourly_new_tek_count_df.set_index(\"extraction_date_with_hour\") \\\n",
    "    .sort_index(ascending=True)\n",
    "\n",
    "hourly_new_tek_count_df[\"new_tek_list\"] = hourly_new_tek_count_df.tek_list.diff()\n",
    "hourly_new_tek_count_df[\"new_tek_count\"] = hourly_new_tek_count_df.new_tek_list.apply(\n",
    "    lambda x: len(x) if not pd.isna(x) else 0)\n",
    "hourly_new_tek_count_df.rename(columns={\n",
    "    \"new_tek_count\": \"shared_teks_by_upload_date\"}, inplace=True)\n",
    "hourly_new_tek_count_df = hourly_new_tek_count_df.reset_index()[[\n",
    "    \"extraction_date_with_hour\", \"shared_teks_by_upload_date\"]]\n",
    "hourly_new_tek_count_df.head()"
   ]
  },
  {
   "cell_type": "code",
   "execution_count": 37,
   "metadata": {
    "execution": {
     "iopub.execute_input": "2020-10-15T09:23:48.011014Z",
     "iopub.status.busy": "2020-10-15T09:23:48.010473Z",
     "iopub.status.idle": "2020-10-15T09:23:48.026952Z",
     "shell.execute_reply": "2020-10-15T09:23:48.027524Z"
    },
    "papermill": {
     "duration": 0.096461,
     "end_time": "2020-10-15T09:23:48.027707",
     "exception": false,
     "start_time": "2020-10-15T09:23:47.931246",
     "status": "completed"
    },
    "pycharm": {
     "name": "#%%\n"
    },
    "tags": []
   },
   "outputs": [
    {
     "data": {
      "text/html": [
       "<div>\n",
       "<style scoped>\n",
       "    .dataframe tbody tr th:only-of-type {\n",
       "        vertical-align: middle;\n",
       "    }\n",
       "\n",
       "    .dataframe tbody tr th {\n",
       "        vertical-align: top;\n",
       "    }\n",
       "\n",
       "    .dataframe thead th {\n",
       "        text-align: right;\n",
       "    }\n",
       "</style>\n",
       "<table border=\"1\" class=\"dataframe\">\n",
       "  <thead>\n",
       "    <tr style=\"text-align: right;\">\n",
       "      <th></th>\n",
       "      <th>extraction_date_with_hour</th>\n",
       "      <th>shared_diagnoses</th>\n",
       "    </tr>\n",
       "  </thead>\n",
       "  <tbody>\n",
       "    <tr>\n",
       "      <th>0</th>\n",
       "      <td>2020-10-14@09</td>\n",
       "      <td>0</td>\n",
       "    </tr>\n",
       "    <tr>\n",
       "      <th>1</th>\n",
       "      <td>2020-10-14@10</td>\n",
       "      <td>22</td>\n",
       "    </tr>\n",
       "    <tr>\n",
       "      <th>2</th>\n",
       "      <td>2020-10-14@11</td>\n",
       "      <td>0</td>\n",
       "    </tr>\n",
       "    <tr>\n",
       "      <th>3</th>\n",
       "      <td>2020-10-14@12</td>\n",
       "      <td>11</td>\n",
       "    </tr>\n",
       "    <tr>\n",
       "      <th>4</th>\n",
       "      <td>2020-10-14@13</td>\n",
       "      <td>0</td>\n",
       "    </tr>\n",
       "  </tbody>\n",
       "</table>\n",
       "</div>"
      ],
      "text/plain": [
       "  extraction_date_with_hour  shared_diagnoses\n",
       "0             2020-10-14@09                 0\n",
       "1             2020-10-14@10                22\n",
       "2             2020-10-14@11                 0\n",
       "3             2020-10-14@12                11\n",
       "4             2020-10-14@13                 0"
      ]
     },
     "execution_count": 37,
     "metadata": {},
     "output_type": "execute_result"
    }
   ],
   "source": [
    "hourly_estimated_shared_diagnoses_df = hourly_extracted_teks_df.copy()\n",
    "hourly_estimated_shared_diagnoses_df[\"new_sample_extraction_date\"] = \\\n",
    "    pd.to_datetime(hourly_estimated_shared_diagnoses_df.sample_date) + datetime.timedelta(1)\n",
    "hourly_estimated_shared_diagnoses_df[\"extraction_date\"] = \\\n",
    "    pd.to_datetime(hourly_estimated_shared_diagnoses_df.extraction_date)\n",
    "\n",
    "hourly_estimated_shared_diagnoses_df = hourly_estimated_shared_diagnoses_df[\n",
    "    hourly_estimated_shared_diagnoses_df.new_sample_extraction_date ==\n",
    "    hourly_estimated_shared_diagnoses_df.extraction_date]\n",
    "hourly_estimated_shared_diagnoses_df = \\\n",
    "    hourly_estimated_shared_diagnoses_df.merge(same_day_tek_list_df, how=\"left\", on=[\"extraction_date\"])\n",
    "hourly_estimated_shared_diagnoses_df[\"same_day_tek_list\"] = \\\n",
    "    hourly_estimated_shared_diagnoses_df.same_day_tek_list.apply(lambda x: [] if x is np.nan else x)\n",
    "hourly_estimated_shared_diagnoses_df[\"shared_diagnoses\"] = hourly_estimated_shared_diagnoses_df.apply(\n",
    "    lambda x: len(set(x.tek_list).difference(x.same_day_tek_list)), axis=1)\n",
    "hourly_estimated_shared_diagnoses_df = \\\n",
    "    hourly_estimated_shared_diagnoses_df.sort_values(\"extraction_date_with_hour\").copy()\n",
    "hourly_estimated_shared_diagnoses_df[\"shared_diagnoses\"] = hourly_estimated_shared_diagnoses_df \\\n",
    "    .groupby(\"extraction_date\").shared_diagnoses.diff() \\\n",
    "    .fillna(0).astype(int)\n",
    "\n",
    "hourly_estimated_shared_diagnoses_df.set_index(\"extraction_date_with_hour\", inplace=True)\n",
    "hourly_estimated_shared_diagnoses_df.reset_index(inplace=True)\n",
    "hourly_estimated_shared_diagnoses_df = hourly_estimated_shared_diagnoses_df[[\n",
    "    \"extraction_date_with_hour\", \"shared_diagnoses\"]]\n",
    "hourly_estimated_shared_diagnoses_df.head()"
   ]
  },
  {
   "cell_type": "code",
   "execution_count": 38,
   "metadata": {
    "collapsed": false,
    "execution": {
     "iopub.execute_input": "2020-10-15T09:23:48.169600Z",
     "iopub.status.busy": "2020-10-15T09:23:48.169042Z",
     "iopub.status.idle": "2020-10-15T09:23:48.173624Z",
     "shell.execute_reply": "2020-10-15T09:23:48.173147Z"
    },
    "papermill": {
     "duration": 0.082811,
     "end_time": "2020-10-15T09:23:48.173745",
     "exception": false,
     "start_time": "2020-10-15T09:23:48.090934",
     "status": "completed"
    },
    "pycharm": {
     "name": "#%%\n"
    },
    "tags": []
   },
   "outputs": [
    {
     "data": {
      "text/html": [
       "<div>\n",
       "<style scoped>\n",
       "    .dataframe tbody tr th:only-of-type {\n",
       "        vertical-align: middle;\n",
       "    }\n",
       "\n",
       "    .dataframe tbody tr th {\n",
       "        vertical-align: top;\n",
       "    }\n",
       "\n",
       "    .dataframe thead th {\n",
       "        text-align: right;\n",
       "    }\n",
       "</style>\n",
       "<table border=\"1\" class=\"dataframe\">\n",
       "  <thead>\n",
       "    <tr style=\"text-align: right;\">\n",
       "      <th></th>\n",
       "      <th>extraction_date_with_hour</th>\n",
       "      <th>shared_teks_by_upload_date</th>\n",
       "      <th>shared_diagnoses</th>\n",
       "    </tr>\n",
       "    <tr>\n",
       "      <th>datetime_utc</th>\n",
       "      <th></th>\n",
       "      <th></th>\n",
       "      <th></th>\n",
       "    </tr>\n",
       "  </thead>\n",
       "  <tbody>\n",
       "    <tr>\n",
       "      <th>2020-10-14 10:00:00</th>\n",
       "      <td>2020-10-14@10</td>\n",
       "      <td>97</td>\n",
       "      <td>22</td>\n",
       "    </tr>\n",
       "    <tr>\n",
       "      <th>2020-10-14 11:00:00</th>\n",
       "      <td>2020-10-14@11</td>\n",
       "      <td>0</td>\n",
       "      <td>0</td>\n",
       "    </tr>\n",
       "    <tr>\n",
       "      <th>2020-10-14 12:00:00</th>\n",
       "      <td>2020-10-14@12</td>\n",
       "      <td>53</td>\n",
       "      <td>11</td>\n",
       "    </tr>\n",
       "    <tr>\n",
       "      <th>2020-10-14 13:00:00</th>\n",
       "      <td>2020-10-14@13</td>\n",
       "      <td>0</td>\n",
       "      <td>0</td>\n",
       "    </tr>\n",
       "    <tr>\n",
       "      <th>2020-10-14 14:00:00</th>\n",
       "      <td>2020-10-14@14</td>\n",
       "      <td>45</td>\n",
       "      <td>9</td>\n",
       "    </tr>\n",
       "  </tbody>\n",
       "</table>\n",
       "</div>"
      ],
      "text/plain": [
       "                    extraction_date_with_hour  shared_teks_by_upload_date  \\\n",
       "datetime_utc                                                                \n",
       "2020-10-14 10:00:00             2020-10-14@10                          97   \n",
       "2020-10-14 11:00:00             2020-10-14@11                           0   \n",
       "2020-10-14 12:00:00             2020-10-14@12                          53   \n",
       "2020-10-14 13:00:00             2020-10-14@13                           0   \n",
       "2020-10-14 14:00:00             2020-10-14@14                          45   \n",
       "\n",
       "                     shared_diagnoses  \n",
       "datetime_utc                           \n",
       "2020-10-14 10:00:00                22  \n",
       "2020-10-14 11:00:00                 0  \n",
       "2020-10-14 12:00:00                11  \n",
       "2020-10-14 13:00:00                 0  \n",
       "2020-10-14 14:00:00                 9  "
      ]
     },
     "execution_count": 38,
     "metadata": {},
     "output_type": "execute_result"
    }
   ],
   "source": [
    "hourly_summary_df = hourly_new_tek_count_df.merge(\n",
    "    hourly_estimated_shared_diagnoses_df, on=[\"extraction_date_with_hour\"], how=\"outer\")\n",
    "hourly_summary_df.set_index(\"extraction_date_with_hour\", inplace=True)\n",
    "hourly_summary_df = hourly_summary_df.fillna(0).astype(int).reset_index()\n",
    "hourly_summary_df[\"datetime_utc\"] = pd.to_datetime(\n",
    "    hourly_summary_df.extraction_date_with_hour, format=\"%Y-%m-%d@%H\")\n",
    "hourly_summary_df.set_index(\"datetime_utc\", inplace=True)\n",
    "hourly_summary_df = hourly_summary_df.tail(-1)\n",
    "hourly_summary_df.head()"
   ]
  },
  {
   "cell_type": "markdown",
   "metadata": {
    "collapsed": false,
    "papermill": {
     "duration": 0.06034,
     "end_time": "2020-10-15T09:23:48.294547",
     "exception": false,
     "start_time": "2020-10-15T09:23:48.234207",
     "status": "completed"
    },
    "pycharm": {
     "name": "#%% md\n"
    },
    "tags": []
   },
   "source": [
    "### Data Merge"
   ]
  },
  {
   "cell_type": "code",
   "execution_count": 39,
   "metadata": {
    "collapsed": false,
    "execution": {
     "iopub.execute_input": "2020-10-15T09:23:48.428705Z",
     "iopub.status.busy": "2020-10-15T09:23:48.428141Z",
     "iopub.status.idle": "2020-10-15T09:23:48.431621Z",
     "shell.execute_reply": "2020-10-15T09:23:48.432053Z"
    },
    "papermill": {
     "duration": 0.076649,
     "end_time": "2020-10-15T09:23:48.432197",
     "exception": false,
     "start_time": "2020-10-15T09:23:48.355548",
     "status": "completed"
    },
    "pycharm": {
     "name": "#%%\n"
    },
    "tags": []
   },
   "outputs": [
    {
     "data": {
      "text/html": [
       "<div>\n",
       "<style scoped>\n",
       "    .dataframe tbody tr th:only-of-type {\n",
       "        vertical-align: middle;\n",
       "    }\n",
       "\n",
       "    .dataframe tbody tr th {\n",
       "        vertical-align: top;\n",
       "    }\n",
       "\n",
       "    .dataframe thead th {\n",
       "        text-align: right;\n",
       "    }\n",
       "</style>\n",
       "<table border=\"1\" class=\"dataframe\">\n",
       "  <thead>\n",
       "    <tr style=\"text-align: right;\">\n",
       "      <th></th>\n",
       "      <th>sample_date_string</th>\n",
       "      <th>shared_teks_by_generation_date</th>\n",
       "      <th>shared_teks_by_upload_date</th>\n",
       "    </tr>\n",
       "  </thead>\n",
       "  <tbody>\n",
       "    <tr>\n",
       "      <th>0</th>\n",
       "      <td>2020-10-15</td>\n",
       "      <td>16</td>\n",
       "      <td>158.0</td>\n",
       "    </tr>\n",
       "    <tr>\n",
       "      <th>1</th>\n",
       "      <td>2020-10-14</td>\n",
       "      <td>74</td>\n",
       "      <td>463.0</td>\n",
       "    </tr>\n",
       "    <tr>\n",
       "      <th>2</th>\n",
       "      <td>2020-10-13</td>\n",
       "      <td>150</td>\n",
       "      <td>334.0</td>\n",
       "    </tr>\n",
       "    <tr>\n",
       "      <th>3</th>\n",
       "      <td>2020-10-12</td>\n",
       "      <td>208</td>\n",
       "      <td>326.0</td>\n",
       "    </tr>\n",
       "    <tr>\n",
       "      <th>4</th>\n",
       "      <td>2020-10-11</td>\n",
       "      <td>278</td>\n",
       "      <td>422.0</td>\n",
       "    </tr>\n",
       "  </tbody>\n",
       "</table>\n",
       "</div>"
      ],
      "text/plain": [
       "  sample_date_string  shared_teks_by_generation_date  \\\n",
       "0         2020-10-15                              16   \n",
       "1         2020-10-14                              74   \n",
       "2         2020-10-13                             150   \n",
       "3         2020-10-12                             208   \n",
       "4         2020-10-11                             278   \n",
       "\n",
       "   shared_teks_by_upload_date  \n",
       "0                       158.0  \n",
       "1                       463.0  \n",
       "2                       334.0  \n",
       "3                       326.0  \n",
       "4                       422.0  "
      ]
     },
     "execution_count": 39,
     "metadata": {},
     "output_type": "execute_result"
    }
   ],
   "source": [
    "result_summary_df = exposure_keys_summary_df.merge(\n",
    "    new_tek_df, on=[\"sample_date_string\"], how=\"outer\")\n",
    "result_summary_df.head()"
   ]
  },
  {
   "cell_type": "code",
   "execution_count": 40,
   "metadata": {
    "execution": {
     "iopub.execute_input": "2020-10-15T09:23:48.561464Z",
     "iopub.status.busy": "2020-10-15T09:23:48.560940Z",
     "iopub.status.idle": "2020-10-15T09:23:48.572573Z",
     "shell.execute_reply": "2020-10-15T09:23:48.572102Z"
    },
    "papermill": {
     "duration": 0.079416,
     "end_time": "2020-10-15T09:23:48.572692",
     "exception": false,
     "start_time": "2020-10-15T09:23:48.493276",
     "status": "completed"
    },
    "tags": []
   },
   "outputs": [
    {
     "data": {
      "text/html": [
       "<div>\n",
       "<style scoped>\n",
       "    .dataframe tbody tr th:only-of-type {\n",
       "        vertical-align: middle;\n",
       "    }\n",
       "\n",
       "    .dataframe tbody tr th {\n",
       "        vertical-align: top;\n",
       "    }\n",
       "\n",
       "    .dataframe thead th {\n",
       "        text-align: right;\n",
       "    }\n",
       "</style>\n",
       "<table border=\"1\" class=\"dataframe\">\n",
       "  <thead>\n",
       "    <tr style=\"text-align: right;\">\n",
       "      <th></th>\n",
       "      <th>sample_date_string</th>\n",
       "      <th>shared_teks_by_generation_date</th>\n",
       "      <th>shared_teks_by_upload_date</th>\n",
       "      <th>shared_teks_uploaded_on_generation_date</th>\n",
       "    </tr>\n",
       "  </thead>\n",
       "  <tbody>\n",
       "    <tr>\n",
       "      <th>0</th>\n",
       "      <td>2020-10-15</td>\n",
       "      <td>16</td>\n",
       "      <td>158.0</td>\n",
       "      <td>16.0</td>\n",
       "    </tr>\n",
       "    <tr>\n",
       "      <th>1</th>\n",
       "      <td>2020-10-14</td>\n",
       "      <td>74</td>\n",
       "      <td>463.0</td>\n",
       "      <td>1.0</td>\n",
       "    </tr>\n",
       "    <tr>\n",
       "      <th>2</th>\n",
       "      <td>2020-10-13</td>\n",
       "      <td>150</td>\n",
       "      <td>334.0</td>\n",
       "      <td>1.0</td>\n",
       "    </tr>\n",
       "    <tr>\n",
       "      <th>3</th>\n",
       "      <td>2020-10-12</td>\n",
       "      <td>208</td>\n",
       "      <td>326.0</td>\n",
       "      <td>2.0</td>\n",
       "    </tr>\n",
       "    <tr>\n",
       "      <th>4</th>\n",
       "      <td>2020-10-11</td>\n",
       "      <td>278</td>\n",
       "      <td>422.0</td>\n",
       "      <td>1.0</td>\n",
       "    </tr>\n",
       "  </tbody>\n",
       "</table>\n",
       "</div>"
      ],
      "text/plain": [
       "  sample_date_string  shared_teks_by_generation_date  \\\n",
       "0         2020-10-15                              16   \n",
       "1         2020-10-14                              74   \n",
       "2         2020-10-13                             150   \n",
       "3         2020-10-12                             208   \n",
       "4         2020-10-11                             278   \n",
       "\n",
       "   shared_teks_by_upload_date  shared_teks_uploaded_on_generation_date  \n",
       "0                       158.0                                     16.0  \n",
       "1                       463.0                                      1.0  \n",
       "2                       334.0                                      1.0  \n",
       "3                       326.0                                      2.0  \n",
       "4                       422.0                                      1.0  "
      ]
     },
     "execution_count": 40,
     "metadata": {},
     "output_type": "execute_result"
    }
   ],
   "source": [
    "result_summary_df = result_summary_df.merge(\n",
    "    shared_teks_uploaded_on_generation_date_df, on=[\"sample_date_string\"], how=\"outer\")\n",
    "result_summary_df.head()"
   ]
  },
  {
   "cell_type": "code",
   "execution_count": 41,
   "metadata": {
    "collapsed": false,
    "execution": {
     "iopub.execute_input": "2020-10-15T09:23:48.711597Z",
     "iopub.status.busy": "2020-10-15T09:23:48.711037Z",
     "iopub.status.idle": "2020-10-15T09:23:48.714380Z",
     "shell.execute_reply": "2020-10-15T09:23:48.713897Z"
    },
    "papermill": {
     "duration": 0.080717,
     "end_time": "2020-10-15T09:23:48.714500",
     "exception": false,
     "start_time": "2020-10-15T09:23:48.633783",
     "status": "completed"
    },
    "pycharm": {
     "name": "#%%\n"
    },
    "tags": []
   },
   "outputs": [
    {
     "data": {
      "text/html": [
       "<div>\n",
       "<style scoped>\n",
       "    .dataframe tbody tr th:only-of-type {\n",
       "        vertical-align: middle;\n",
       "    }\n",
       "\n",
       "    .dataframe tbody tr th {\n",
       "        vertical-align: top;\n",
       "    }\n",
       "\n",
       "    .dataframe thead th {\n",
       "        text-align: right;\n",
       "    }\n",
       "</style>\n",
       "<table border=\"1\" class=\"dataframe\">\n",
       "  <thead>\n",
       "    <tr style=\"text-align: right;\">\n",
       "      <th></th>\n",
       "      <th>sample_date_string</th>\n",
       "      <th>shared_teks_by_generation_date</th>\n",
       "      <th>shared_teks_by_upload_date</th>\n",
       "      <th>shared_teks_uploaded_on_generation_date</th>\n",
       "      <th>shared_diagnoses</th>\n",
       "    </tr>\n",
       "  </thead>\n",
       "  <tbody>\n",
       "    <tr>\n",
       "      <th>0</th>\n",
       "      <td>2020-10-15</td>\n",
       "      <td>16</td>\n",
       "      <td>158.0</td>\n",
       "      <td>16.0</td>\n",
       "      <td>73.0</td>\n",
       "    </tr>\n",
       "    <tr>\n",
       "      <th>1</th>\n",
       "      <td>2020-10-14</td>\n",
       "      <td>74</td>\n",
       "      <td>463.0</td>\n",
       "      <td>1.0</td>\n",
       "      <td>133.0</td>\n",
       "    </tr>\n",
       "    <tr>\n",
       "      <th>2</th>\n",
       "      <td>2020-10-13</td>\n",
       "      <td>150</td>\n",
       "      <td>334.0</td>\n",
       "      <td>1.0</td>\n",
       "      <td>112.0</td>\n",
       "    </tr>\n",
       "    <tr>\n",
       "      <th>3</th>\n",
       "      <td>2020-10-12</td>\n",
       "      <td>208</td>\n",
       "      <td>326.0</td>\n",
       "      <td>2.0</td>\n",
       "      <td>136.0</td>\n",
       "    </tr>\n",
       "    <tr>\n",
       "      <th>4</th>\n",
       "      <td>2020-10-11</td>\n",
       "      <td>278</td>\n",
       "      <td>422.0</td>\n",
       "      <td>1.0</td>\n",
       "      <td>147.0</td>\n",
       "    </tr>\n",
       "  </tbody>\n",
       "</table>\n",
       "</div>"
      ],
      "text/plain": [
       "  sample_date_string  shared_teks_by_generation_date  \\\n",
       "0         2020-10-15                              16   \n",
       "1         2020-10-14                              74   \n",
       "2         2020-10-13                             150   \n",
       "3         2020-10-12                             208   \n",
       "4         2020-10-11                             278   \n",
       "\n",
       "   shared_teks_by_upload_date  shared_teks_uploaded_on_generation_date  \\\n",
       "0                       158.0                                     16.0   \n",
       "1                       463.0                                      1.0   \n",
       "2                       334.0                                      1.0   \n",
       "3                       326.0                                      2.0   \n",
       "4                       422.0                                      1.0   \n",
       "\n",
       "   shared_diagnoses  \n",
       "0              73.0  \n",
       "1             133.0  \n",
       "2             112.0  \n",
       "3             136.0  \n",
       "4             147.0  "
      ]
     },
     "execution_count": 41,
     "metadata": {},
     "output_type": "execute_result"
    }
   ],
   "source": [
    "result_summary_df = result_summary_df.merge(\n",
    "    estimated_shared_diagnoses_df, on=[\"sample_date_string\"], how=\"outer\")\n",
    "result_summary_df.head()"
   ]
  },
  {
   "cell_type": "code",
   "execution_count": 42,
   "metadata": {
    "collapsed": false,
    "execution": {
     "iopub.execute_input": "2020-10-15T09:23:48.848327Z",
     "iopub.status.busy": "2020-10-15T09:23:48.847766Z",
     "iopub.status.idle": "2020-10-15T09:23:48.862035Z",
     "shell.execute_reply": "2020-10-15T09:23:48.861565Z"
    },
    "papermill": {
     "duration": 0.084166,
     "end_time": "2020-10-15T09:23:48.862165",
     "exception": false,
     "start_time": "2020-10-15T09:23:48.777999",
     "status": "completed"
    },
    "pycharm": {
     "name": "#%%\n"
    },
    "tags": []
   },
   "outputs": [
    {
     "data": {
      "text/html": [
       "<div>\n",
       "<style scoped>\n",
       "    .dataframe tbody tr th:only-of-type {\n",
       "        vertical-align: middle;\n",
       "    }\n",
       "\n",
       "    .dataframe tbody tr th {\n",
       "        vertical-align: top;\n",
       "    }\n",
       "\n",
       "    .dataframe thead th {\n",
       "        text-align: right;\n",
       "    }\n",
       "</style>\n",
       "<table border=\"1\" class=\"dataframe\">\n",
       "  <thead>\n",
       "    <tr style=\"text-align: right;\">\n",
       "      <th></th>\n",
       "      <th>sample_date_string</th>\n",
       "      <th>cumulative_cases</th>\n",
       "      <th>new_cases</th>\n",
       "      <th>covid_cases</th>\n",
       "      <th>shared_teks_by_generation_date</th>\n",
       "      <th>shared_teks_by_upload_date</th>\n",
       "      <th>shared_teks_uploaded_on_generation_date</th>\n",
       "      <th>shared_diagnoses</th>\n",
       "    </tr>\n",
       "  </thead>\n",
       "  <tbody>\n",
       "    <tr>\n",
       "      <th>0</th>\n",
       "      <td>2020-07-24</td>\n",
       "      <td>272421.0</td>\n",
       "      <td>2255.0</td>\n",
       "      <td>1738</td>\n",
       "      <td>NaN</td>\n",
       "      <td>NaN</td>\n",
       "      <td>NaN</td>\n",
       "      <td>NaN</td>\n",
       "    </tr>\n",
       "    <tr>\n",
       "      <th>1</th>\n",
       "      <td>2020-07-25</td>\n",
       "      <td>272421.0</td>\n",
       "      <td>0.0</td>\n",
       "      <td>1738</td>\n",
       "      <td>NaN</td>\n",
       "      <td>NaN</td>\n",
       "      <td>NaN</td>\n",
       "      <td>NaN</td>\n",
       "    </tr>\n",
       "    <tr>\n",
       "      <th>2</th>\n",
       "      <td>2020-07-26</td>\n",
       "      <td>272421.0</td>\n",
       "      <td>0.0</td>\n",
       "      <td>1084</td>\n",
       "      <td>NaN</td>\n",
       "      <td>NaN</td>\n",
       "      <td>NaN</td>\n",
       "      <td>NaN</td>\n",
       "    </tr>\n",
       "    <tr>\n",
       "      <th>3</th>\n",
       "      <td>2020-07-27</td>\n",
       "      <td>272421.0</td>\n",
       "      <td>0.0</td>\n",
       "      <td>1084</td>\n",
       "      <td>NaN</td>\n",
       "      <td>NaN</td>\n",
       "      <td>NaN</td>\n",
       "      <td>NaN</td>\n",
       "    </tr>\n",
       "    <tr>\n",
       "      <th>4</th>\n",
       "      <td>2020-07-28</td>\n",
       "      <td>280610.0</td>\n",
       "      <td>8189.0</td>\n",
       "      <td>2059</td>\n",
       "      <td>NaN</td>\n",
       "      <td>NaN</td>\n",
       "      <td>NaN</td>\n",
       "      <td>NaN</td>\n",
       "    </tr>\n",
       "  </tbody>\n",
       "</table>\n",
       "</div>"
      ],
      "text/plain": [
       "  sample_date_string  cumulative_cases  new_cases  covid_cases  \\\n",
       "0         2020-07-24          272421.0     2255.0         1738   \n",
       "1         2020-07-25          272421.0        0.0         1738   \n",
       "2         2020-07-26          272421.0        0.0         1084   \n",
       "3         2020-07-27          272421.0        0.0         1084   \n",
       "4         2020-07-28          280610.0     8189.0         2059   \n",
       "\n",
       "   shared_teks_by_generation_date  shared_teks_by_upload_date  \\\n",
       "0                             NaN                         NaN   \n",
       "1                             NaN                         NaN   \n",
       "2                             NaN                         NaN   \n",
       "3                             NaN                         NaN   \n",
       "4                             NaN                         NaN   \n",
       "\n",
       "   shared_teks_uploaded_on_generation_date  shared_diagnoses  \n",
       "0                                      NaN               NaN  \n",
       "1                                      NaN               NaN  \n",
       "2                                      NaN               NaN  \n",
       "3                                      NaN               NaN  \n",
       "4                                      NaN               NaN  "
      ]
     },
     "execution_count": 42,
     "metadata": {},
     "output_type": "execute_result"
    }
   ],
   "source": [
    "result_summary_df = confirmed_df.tail(daily_summary_days).merge(\n",
    "    result_summary_df, on=[\"sample_date_string\"], how=\"left\")\n",
    "result_summary_df.head()"
   ]
  },
  {
   "cell_type": "code",
   "execution_count": 43,
   "metadata": {
    "collapsed": false,
    "execution": {
     "iopub.execute_input": "2020-10-15T09:23:49.001462Z",
     "iopub.status.busy": "2020-10-15T09:23:49.000904Z",
     "iopub.status.idle": "2020-10-15T09:23:49.014518Z",
     "shell.execute_reply": "2020-10-15T09:23:49.015210Z"
    },
    "papermill": {
     "duration": 0.08817,
     "end_time": "2020-10-15T09:23:49.015362",
     "exception": false,
     "start_time": "2020-10-15T09:23:48.927192",
     "status": "completed"
    },
    "pycharm": {
     "name": "#%%\n"
    },
    "tags": []
   },
   "outputs": [
    {
     "data": {
      "text/html": [
       "<div>\n",
       "<style scoped>\n",
       "    .dataframe tbody tr th:only-of-type {\n",
       "        vertical-align: middle;\n",
       "    }\n",
       "\n",
       "    .dataframe tbody tr th {\n",
       "        vertical-align: top;\n",
       "    }\n",
       "\n",
       "    .dataframe thead th {\n",
       "        text-align: right;\n",
       "    }\n",
       "</style>\n",
       "<table border=\"1\" class=\"dataframe\">\n",
       "  <thead>\n",
       "    <tr style=\"text-align: right;\">\n",
       "      <th></th>\n",
       "      <th>cumulative_cases</th>\n",
       "      <th>new_cases</th>\n",
       "      <th>covid_cases</th>\n",
       "      <th>shared_teks_by_generation_date</th>\n",
       "      <th>shared_teks_by_upload_date</th>\n",
       "      <th>shared_teks_uploaded_on_generation_date</th>\n",
       "      <th>shared_diagnoses</th>\n",
       "    </tr>\n",
       "    <tr>\n",
       "      <th>sample_date</th>\n",
       "      <th></th>\n",
       "      <th></th>\n",
       "      <th></th>\n",
       "      <th></th>\n",
       "      <th></th>\n",
       "      <th></th>\n",
       "      <th></th>\n",
       "    </tr>\n",
       "  </thead>\n",
       "  <tbody>\n",
       "    <tr>\n",
       "      <th>2020-10-15</th>\n",
       "      <td>918364.0</td>\n",
       "      <td>10308.0</td>\n",
       "      <td>10308</td>\n",
       "      <td>16.0</td>\n",
       "      <td>158.0</td>\n",
       "      <td>16.0</td>\n",
       "      <td>73.0</td>\n",
       "    </tr>\n",
       "    <tr>\n",
       "      <th>2020-10-14</th>\n",
       "      <td>908056.0</td>\n",
       "      <td>11970.0</td>\n",
       "      <td>10308</td>\n",
       "      <td>74.0</td>\n",
       "      <td>463.0</td>\n",
       "      <td>1.0</td>\n",
       "      <td>133.0</td>\n",
       "    </tr>\n",
       "    <tr>\n",
       "      <th>2020-10-13</th>\n",
       "      <td>896086.0</td>\n",
       "      <td>7118.0</td>\n",
       "      <td>10097</td>\n",
       "      <td>150.0</td>\n",
       "      <td>334.0</td>\n",
       "      <td>1.0</td>\n",
       "      <td>112.0</td>\n",
       "    </tr>\n",
       "    <tr>\n",
       "      <th>2020-10-12</th>\n",
       "      <td>888968.0</td>\n",
       "      <td>27856.0</td>\n",
       "      <td>10794</td>\n",
       "      <td>208.0</td>\n",
       "      <td>326.0</td>\n",
       "      <td>2.0</td>\n",
       "      <td>136.0</td>\n",
       "    </tr>\n",
       "    <tr>\n",
       "      <th>2020-10-11</th>\n",
       "      <td>861112.0</td>\n",
       "      <td>0.0</td>\n",
       "      <td>10169</td>\n",
       "      <td>278.0</td>\n",
       "      <td>422.0</td>\n",
       "      <td>1.0</td>\n",
       "      <td>147.0</td>\n",
       "    </tr>\n",
       "  </tbody>\n",
       "</table>\n",
       "</div>"
      ],
      "text/plain": [
       "             cumulative_cases  new_cases  covid_cases  \\\n",
       "sample_date                                             \n",
       "2020-10-15           918364.0    10308.0        10308   \n",
       "2020-10-14           908056.0    11970.0        10308   \n",
       "2020-10-13           896086.0     7118.0        10097   \n",
       "2020-10-12           888968.0    27856.0        10794   \n",
       "2020-10-11           861112.0        0.0        10169   \n",
       "\n",
       "             shared_teks_by_generation_date  shared_teks_by_upload_date  \\\n",
       "sample_date                                                               \n",
       "2020-10-15                             16.0                       158.0   \n",
       "2020-10-14                             74.0                       463.0   \n",
       "2020-10-13                            150.0                       334.0   \n",
       "2020-10-12                            208.0                       326.0   \n",
       "2020-10-11                            278.0                       422.0   \n",
       "\n",
       "             shared_teks_uploaded_on_generation_date  shared_diagnoses  \n",
       "sample_date                                                             \n",
       "2020-10-15                                      16.0              73.0  \n",
       "2020-10-14                                       1.0             133.0  \n",
       "2020-10-13                                       1.0             112.0  \n",
       "2020-10-12                                       2.0             136.0  \n",
       "2020-10-11                                       1.0             147.0  "
      ]
     },
     "execution_count": 43,
     "metadata": {},
     "output_type": "execute_result"
    }
   ],
   "source": [
    "result_summary_df[\"sample_date\"] = pd.to_datetime(result_summary_df.sample_date_string)\n",
    "result_summary_df.set_index(\"sample_date\", inplace=True)\n",
    "result_summary_df.drop(columns=[\"sample_date_string\"], inplace=True)\n",
    "result_summary_df.sort_index(ascending=False, inplace=True)\n",
    "result_summary_df.head()"
   ]
  },
  {
   "cell_type": "code",
   "execution_count": 44,
   "metadata": {
    "collapsed": false,
    "execution": {
     "iopub.execute_input": "2020-10-15T09:23:49.167209Z",
     "iopub.status.busy": "2020-10-15T09:23:49.166470Z",
     "iopub.status.idle": "2020-10-15T09:23:49.169096Z",
     "shell.execute_reply": "2020-10-15T09:23:49.169505Z"
    },
    "papermill": {
     "duration": 0.089851,
     "end_time": "2020-10-15T09:23:49.169649",
     "exception": false,
     "start_time": "2020-10-15T09:23:49.079798",
     "status": "completed"
    },
    "pycharm": {
     "name": "#%%\n"
    },
    "tags": []
   },
   "outputs": [
    {
     "data": {
      "text/html": [
       "<div>\n",
       "<style scoped>\n",
       "    .dataframe tbody tr th:only-of-type {\n",
       "        vertical-align: middle;\n",
       "    }\n",
       "\n",
       "    .dataframe tbody tr th {\n",
       "        vertical-align: top;\n",
       "    }\n",
       "\n",
       "    .dataframe thead th {\n",
       "        text-align: right;\n",
       "    }\n",
       "</style>\n",
       "<table border=\"1\" class=\"dataframe\">\n",
       "  <thead>\n",
       "    <tr style=\"text-align: right;\">\n",
       "      <th></th>\n",
       "      <th>cumulative_cases</th>\n",
       "      <th>new_cases</th>\n",
       "      <th>covid_cases</th>\n",
       "      <th>shared_teks_by_generation_date</th>\n",
       "      <th>shared_teks_by_upload_date</th>\n",
       "      <th>shared_teks_uploaded_on_generation_date</th>\n",
       "      <th>shared_diagnoses</th>\n",
       "      <th>teks_per_shared_diagnosis</th>\n",
       "      <th>shared_diagnoses_per_covid_case</th>\n",
       "    </tr>\n",
       "    <tr>\n",
       "      <th>sample_date</th>\n",
       "      <th></th>\n",
       "      <th></th>\n",
       "      <th></th>\n",
       "      <th></th>\n",
       "      <th></th>\n",
       "      <th></th>\n",
       "      <th></th>\n",
       "      <th></th>\n",
       "      <th></th>\n",
       "    </tr>\n",
       "  </thead>\n",
       "  <tbody>\n",
       "    <tr>\n",
       "      <th>2020-10-15</th>\n",
       "      <td>918364</td>\n",
       "      <td>10308</td>\n",
       "      <td>10308</td>\n",
       "      <td>16</td>\n",
       "      <td>158</td>\n",
       "      <td>16</td>\n",
       "      <td>73</td>\n",
       "      <td>2.164384</td>\n",
       "      <td>0.007082</td>\n",
       "    </tr>\n",
       "    <tr>\n",
       "      <th>2020-10-14</th>\n",
       "      <td>908056</td>\n",
       "      <td>11970</td>\n",
       "      <td>10308</td>\n",
       "      <td>74</td>\n",
       "      <td>463</td>\n",
       "      <td>1</td>\n",
       "      <td>133</td>\n",
       "      <td>3.481203</td>\n",
       "      <td>0.012903</td>\n",
       "    </tr>\n",
       "    <tr>\n",
       "      <th>2020-10-13</th>\n",
       "      <td>896086</td>\n",
       "      <td>7118</td>\n",
       "      <td>10097</td>\n",
       "      <td>150</td>\n",
       "      <td>334</td>\n",
       "      <td>1</td>\n",
       "      <td>112</td>\n",
       "      <td>2.982143</td>\n",
       "      <td>0.011092</td>\n",
       "    </tr>\n",
       "    <tr>\n",
       "      <th>2020-10-12</th>\n",
       "      <td>888968</td>\n",
       "      <td>27856</td>\n",
       "      <td>10794</td>\n",
       "      <td>208</td>\n",
       "      <td>326</td>\n",
       "      <td>2</td>\n",
       "      <td>136</td>\n",
       "      <td>2.397059</td>\n",
       "      <td>0.012600</td>\n",
       "    </tr>\n",
       "    <tr>\n",
       "      <th>2020-10-11</th>\n",
       "      <td>861112</td>\n",
       "      <td>0</td>\n",
       "      <td>10169</td>\n",
       "      <td>278</td>\n",
       "      <td>422</td>\n",
       "      <td>1</td>\n",
       "      <td>147</td>\n",
       "      <td>2.870748</td>\n",
       "      <td>0.014456</td>\n",
       "    </tr>\n",
       "    <tr>\n",
       "      <th>2020-10-10</th>\n",
       "      <td>861112</td>\n",
       "      <td>0</td>\n",
       "      <td>10169</td>\n",
       "      <td>311</td>\n",
       "      <td>429</td>\n",
       "      <td>0</td>\n",
       "      <td>133</td>\n",
       "      <td>3.225564</td>\n",
       "      <td>0.013079</td>\n",
       "    </tr>\n",
       "    <tr>\n",
       "      <th>2020-10-09</th>\n",
       "      <td>861112</td>\n",
       "      <td>12788</td>\n",
       "      <td>10169</td>\n",
       "      <td>336</td>\n",
       "      <td>348</td>\n",
       "      <td>1</td>\n",
       "      <td>105</td>\n",
       "      <td>3.314286</td>\n",
       "      <td>0.010325</td>\n",
       "    </tr>\n",
       "    <tr>\n",
       "      <th>2020-10-08</th>\n",
       "      <td>848324</td>\n",
       "      <td>12423</td>\n",
       "      <td>9960</td>\n",
       "      <td>352</td>\n",
       "      <td>272</td>\n",
       "      <td>1</td>\n",
       "      <td>86</td>\n",
       "      <td>3.162791</td>\n",
       "      <td>0.008635</td>\n",
       "    </tr>\n",
       "    <tr>\n",
       "      <th>2020-10-07</th>\n",
       "      <td>835901</td>\n",
       "      <td>10491</td>\n",
       "      <td>9530</td>\n",
       "      <td>335</td>\n",
       "      <td>178</td>\n",
       "      <td>0</td>\n",
       "      <td>54</td>\n",
       "      <td>3.296296</td>\n",
       "      <td>0.005666</td>\n",
       "    </tr>\n",
       "    <tr>\n",
       "      <th>2020-10-06</th>\n",
       "      <td>825410</td>\n",
       "      <td>11998</td>\n",
       "      <td>11021</td>\n",
       "      <td>362</td>\n",
       "      <td>233</td>\n",
       "      <td>60</td>\n",
       "      <td>56</td>\n",
       "      <td>4.160714</td>\n",
       "      <td>0.005081</td>\n",
       "    </tr>\n",
       "    <tr>\n",
       "      <th>2020-10-05</th>\n",
       "      <td>813412</td>\n",
       "      <td>23480</td>\n",
       "      <td>9307</td>\n",
       "      <td>339</td>\n",
       "      <td>273</td>\n",
       "      <td>52</td>\n",
       "      <td>69</td>\n",
       "      <td>3.956522</td>\n",
       "      <td>0.007414</td>\n",
       "    </tr>\n",
       "    <tr>\n",
       "      <th>2020-10-04</th>\n",
       "      <td>789932</td>\n",
       "      <td>0</td>\n",
       "      <td>10493</td>\n",
       "      <td>348</td>\n",
       "      <td>331</td>\n",
       "      <td>76</td>\n",
       "      <td>78</td>\n",
       "      <td>4.243590</td>\n",
       "      <td>0.007434</td>\n",
       "    </tr>\n",
       "    <tr>\n",
       "      <th>2020-10-03</th>\n",
       "      <td>789932</td>\n",
       "      <td>0</td>\n",
       "      <td>10493</td>\n",
       "      <td>308</td>\n",
       "      <td>324</td>\n",
       "      <td>69</td>\n",
       "      <td>76</td>\n",
       "      <td>4.263158</td>\n",
       "      <td>0.007243</td>\n",
       "    </tr>\n",
       "    <tr>\n",
       "      <th>2020-10-02</th>\n",
       "      <td>789932</td>\n",
       "      <td>11325</td>\n",
       "      <td>10493</td>\n",
       "      <td>312</td>\n",
       "      <td>299</td>\n",
       "      <td>72</td>\n",
       "      <td>72</td>\n",
       "      <td>4.152778</td>\n",
       "      <td>0.006862</td>\n",
       "    </tr>\n",
       "    <tr>\n",
       "      <th>2020-10-01</th>\n",
       "      <td>778607</td>\n",
       "      <td>9419</td>\n",
       "      <td>10628</td>\n",
       "      <td>317</td>\n",
       "      <td>367</td>\n",
       "      <td>75</td>\n",
       "      <td>74</td>\n",
       "      <td>4.959459</td>\n",
       "      <td>0.006963</td>\n",
       "    </tr>\n",
       "    <tr>\n",
       "      <th>2020-09-30</th>\n",
       "      <td>769188</td>\n",
       "      <td>20922</td>\n",
       "      <td>10805</td>\n",
       "      <td>294</td>\n",
       "      <td>271</td>\n",
       "      <td>55</td>\n",
       "      <td>51</td>\n",
       "      <td>5.313725</td>\n",
       "      <td>0.004720</td>\n",
       "    </tr>\n",
       "    <tr>\n",
       "      <th>2020-09-29</th>\n",
       "      <td>748266</td>\n",
       "      <td>0</td>\n",
       "      <td>9428</td>\n",
       "      <td>265</td>\n",
       "      <td>178</td>\n",
       "      <td>32</td>\n",
       "      <td>44</td>\n",
       "      <td>4.045455</td>\n",
       "      <td>0.004667</td>\n",
       "    </tr>\n",
       "    <tr>\n",
       "      <th>2020-09-28</th>\n",
       "      <td>748266</td>\n",
       "      <td>31785</td>\n",
       "      <td>10971</td>\n",
       "      <td>269</td>\n",
       "      <td>211</td>\n",
       "      <td>44</td>\n",
       "      <td>54</td>\n",
       "      <td>3.907407</td>\n",
       "      <td>0.004922</td>\n",
       "    </tr>\n",
       "    <tr>\n",
       "      <th>2020-09-27</th>\n",
       "      <td>716481</td>\n",
       "      <td>0</td>\n",
       "      <td>10920</td>\n",
       "      <td>315</td>\n",
       "      <td>449</td>\n",
       "      <td>98</td>\n",
       "      <td>108</td>\n",
       "      <td>4.157407</td>\n",
       "      <td>0.009890</td>\n",
       "    </tr>\n",
       "    <tr>\n",
       "      <th>2020-09-26</th>\n",
       "      <td>716481</td>\n",
       "      <td>0</td>\n",
       "      <td>10920</td>\n",
       "      <td>339</td>\n",
       "      <td>448</td>\n",
       "      <td>79</td>\n",
       "      <td>110</td>\n",
       "      <td>4.072727</td>\n",
       "      <td>0.010073</td>\n",
       "    </tr>\n",
       "    <tr>\n",
       "      <th>2020-09-25</th>\n",
       "      <td>716481</td>\n",
       "      <td>12272</td>\n",
       "      <td>10920</td>\n",
       "      <td>284</td>\n",
       "      <td>306</td>\n",
       "      <td>14</td>\n",
       "      <td>86</td>\n",
       "      <td>3.558140</td>\n",
       "      <td>0.007875</td>\n",
       "    </tr>\n",
       "    <tr>\n",
       "      <th>2020-09-24</th>\n",
       "      <td>704209</td>\n",
       "      <td>10653</td>\n",
       "      <td>11223</td>\n",
       "      <td>286</td>\n",
       "      <td>289</td>\n",
       "      <td>17</td>\n",
       "      <td>89</td>\n",
       "      <td>3.247191</td>\n",
       "      <td>0.007930</td>\n",
       "    </tr>\n",
       "    <tr>\n",
       "      <th>2020-09-23</th>\n",
       "      <td>693556</td>\n",
       "      <td>11289</td>\n",
       "      <td>11314</td>\n",
       "      <td>296</td>\n",
       "      <td>267</td>\n",
       "      <td>4</td>\n",
       "      <td>70</td>\n",
       "      <td>3.814286</td>\n",
       "      <td>0.006187</td>\n",
       "    </tr>\n",
       "    <tr>\n",
       "      <th>2020-09-22</th>\n",
       "      <td>682267</td>\n",
       "      <td>10799</td>\n",
       "      <td>11300</td>\n",
       "      <td>282</td>\n",
       "      <td>148</td>\n",
       "      <td>0</td>\n",
       "      <td>55</td>\n",
       "      <td>2.690909</td>\n",
       "      <td>0.004867</td>\n",
       "    </tr>\n",
       "    <tr>\n",
       "      <th>2020-09-21</th>\n",
       "      <td>671468</td>\n",
       "      <td>31428</td>\n",
       "      <td>11105</td>\n",
       "      <td>268</td>\n",
       "      <td>190</td>\n",
       "      <td>0</td>\n",
       "      <td>45</td>\n",
       "      <td>4.222222</td>\n",
       "      <td>0.004052</td>\n",
       "    </tr>\n",
       "    <tr>\n",
       "      <th>2020-09-20</th>\n",
       "      <td>640040</td>\n",
       "      <td>0</td>\n",
       "      <td>10531</td>\n",
       "      <td>218</td>\n",
       "      <td>116</td>\n",
       "      <td>0</td>\n",
       "      <td>45</td>\n",
       "      <td>2.577778</td>\n",
       "      <td>0.004273</td>\n",
       "    </tr>\n",
       "    <tr>\n",
       "      <th>2020-09-19</th>\n",
       "      <td>640040</td>\n",
       "      <td>0</td>\n",
       "      <td>10531</td>\n",
       "      <td>203</td>\n",
       "      <td>90</td>\n",
       "      <td>2</td>\n",
       "      <td>39</td>\n",
       "      <td>2.307692</td>\n",
       "      <td>0.003703</td>\n",
       "    </tr>\n",
       "    <tr>\n",
       "      <th>2020-09-18</th>\n",
       "      <td>640040</td>\n",
       "      <td>14389</td>\n",
       "      <td>10531</td>\n",
       "      <td>165</td>\n",
       "      <td>138</td>\n",
       "      <td>1</td>\n",
       "      <td>52</td>\n",
       "      <td>2.653846</td>\n",
       "      <td>0.004938</td>\n",
       "    </tr>\n",
       "  </tbody>\n",
       "</table>\n",
       "</div>"
      ],
      "text/plain": [
       "             cumulative_cases  new_cases  covid_cases  \\\n",
       "sample_date                                             \n",
       "2020-10-15             918364      10308        10308   \n",
       "2020-10-14             908056      11970        10308   \n",
       "2020-10-13             896086       7118        10097   \n",
       "2020-10-12             888968      27856        10794   \n",
       "2020-10-11             861112          0        10169   \n",
       "2020-10-10             861112          0        10169   \n",
       "2020-10-09             861112      12788        10169   \n",
       "2020-10-08             848324      12423         9960   \n",
       "2020-10-07             835901      10491         9530   \n",
       "2020-10-06             825410      11998        11021   \n",
       "2020-10-05             813412      23480         9307   \n",
       "2020-10-04             789932          0        10493   \n",
       "2020-10-03             789932          0        10493   \n",
       "2020-10-02             789932      11325        10493   \n",
       "2020-10-01             778607       9419        10628   \n",
       "2020-09-30             769188      20922        10805   \n",
       "2020-09-29             748266          0         9428   \n",
       "2020-09-28             748266      31785        10971   \n",
       "2020-09-27             716481          0        10920   \n",
       "2020-09-26             716481          0        10920   \n",
       "2020-09-25             716481      12272        10920   \n",
       "2020-09-24             704209      10653        11223   \n",
       "2020-09-23             693556      11289        11314   \n",
       "2020-09-22             682267      10799        11300   \n",
       "2020-09-21             671468      31428        11105   \n",
       "2020-09-20             640040          0        10531   \n",
       "2020-09-19             640040          0        10531   \n",
       "2020-09-18             640040      14389        10531   \n",
       "\n",
       "             shared_teks_by_generation_date  shared_teks_by_upload_date  \\\n",
       "sample_date                                                               \n",
       "2020-10-15                               16                         158   \n",
       "2020-10-14                               74                         463   \n",
       "2020-10-13                              150                         334   \n",
       "2020-10-12                              208                         326   \n",
       "2020-10-11                              278                         422   \n",
       "2020-10-10                              311                         429   \n",
       "2020-10-09                              336                         348   \n",
       "2020-10-08                              352                         272   \n",
       "2020-10-07                              335                         178   \n",
       "2020-10-06                              362                         233   \n",
       "2020-10-05                              339                         273   \n",
       "2020-10-04                              348                         331   \n",
       "2020-10-03                              308                         324   \n",
       "2020-10-02                              312                         299   \n",
       "2020-10-01                              317                         367   \n",
       "2020-09-30                              294                         271   \n",
       "2020-09-29                              265                         178   \n",
       "2020-09-28                              269                         211   \n",
       "2020-09-27                              315                         449   \n",
       "2020-09-26                              339                         448   \n",
       "2020-09-25                              284                         306   \n",
       "2020-09-24                              286                         289   \n",
       "2020-09-23                              296                         267   \n",
       "2020-09-22                              282                         148   \n",
       "2020-09-21                              268                         190   \n",
       "2020-09-20                              218                         116   \n",
       "2020-09-19                              203                          90   \n",
       "2020-09-18                              165                         138   \n",
       "\n",
       "             shared_teks_uploaded_on_generation_date  shared_diagnoses  \\\n",
       "sample_date                                                              \n",
       "2020-10-15                                        16                73   \n",
       "2020-10-14                                         1               133   \n",
       "2020-10-13                                         1               112   \n",
       "2020-10-12                                         2               136   \n",
       "2020-10-11                                         1               147   \n",
       "2020-10-10                                         0               133   \n",
       "2020-10-09                                         1               105   \n",
       "2020-10-08                                         1                86   \n",
       "2020-10-07                                         0                54   \n",
       "2020-10-06                                        60                56   \n",
       "2020-10-05                                        52                69   \n",
       "2020-10-04                                        76                78   \n",
       "2020-10-03                                        69                76   \n",
       "2020-10-02                                        72                72   \n",
       "2020-10-01                                        75                74   \n",
       "2020-09-30                                        55                51   \n",
       "2020-09-29                                        32                44   \n",
       "2020-09-28                                        44                54   \n",
       "2020-09-27                                        98               108   \n",
       "2020-09-26                                        79               110   \n",
       "2020-09-25                                        14                86   \n",
       "2020-09-24                                        17                89   \n",
       "2020-09-23                                         4                70   \n",
       "2020-09-22                                         0                55   \n",
       "2020-09-21                                         0                45   \n",
       "2020-09-20                                         0                45   \n",
       "2020-09-19                                         2                39   \n",
       "2020-09-18                                         1                52   \n",
       "\n",
       "             teks_per_shared_diagnosis  shared_diagnoses_per_covid_case  \n",
       "sample_date                                                              \n",
       "2020-10-15                    2.164384                         0.007082  \n",
       "2020-10-14                    3.481203                         0.012903  \n",
       "2020-10-13                    2.982143                         0.011092  \n",
       "2020-10-12                    2.397059                         0.012600  \n",
       "2020-10-11                    2.870748                         0.014456  \n",
       "2020-10-10                    3.225564                         0.013079  \n",
       "2020-10-09                    3.314286                         0.010325  \n",
       "2020-10-08                    3.162791                         0.008635  \n",
       "2020-10-07                    3.296296                         0.005666  \n",
       "2020-10-06                    4.160714                         0.005081  \n",
       "2020-10-05                    3.956522                         0.007414  \n",
       "2020-10-04                    4.243590                         0.007434  \n",
       "2020-10-03                    4.263158                         0.007243  \n",
       "2020-10-02                    4.152778                         0.006862  \n",
       "2020-10-01                    4.959459                         0.006963  \n",
       "2020-09-30                    5.313725                         0.004720  \n",
       "2020-09-29                    4.045455                         0.004667  \n",
       "2020-09-28                    3.907407                         0.004922  \n",
       "2020-09-27                    4.157407                         0.009890  \n",
       "2020-09-26                    4.072727                         0.010073  \n",
       "2020-09-25                    3.558140                         0.007875  \n",
       "2020-09-24                    3.247191                         0.007930  \n",
       "2020-09-23                    3.814286                         0.006187  \n",
       "2020-09-22                    2.690909                         0.004867  \n",
       "2020-09-21                    4.222222                         0.004052  \n",
       "2020-09-20                    2.577778                         0.004273  \n",
       "2020-09-19                    2.307692                         0.003703  \n",
       "2020-09-18                    2.653846                         0.004938  "
      ]
     },
     "execution_count": 44,
     "metadata": {},
     "output_type": "execute_result"
    }
   ],
   "source": [
    "with pd.option_context(\"mode.use_inf_as_na\", True):\n",
    "    result_summary_df = result_summary_df.fillna(0).astype(int)\n",
    "    result_summary_df[\"teks_per_shared_diagnosis\"] = \\\n",
    "        (result_summary_df.shared_teks_by_upload_date / result_summary_df.shared_diagnoses).fillna(0)\n",
    "    result_summary_df[\"shared_diagnoses_per_covid_case\"] = \\\n",
    "        (result_summary_df.shared_diagnoses / result_summary_df.covid_cases).fillna(0)\n",
    "\n",
    "result_summary_df.head(daily_plot_days)"
   ]
  },
  {
   "cell_type": "code",
   "execution_count": 45,
   "metadata": {
    "collapsed": false,
    "execution": {
     "iopub.execute_input": "2020-10-15T09:23:49.320196Z",
     "iopub.status.busy": "2020-10-15T09:23:49.319620Z",
     "iopub.status.idle": "2020-10-15T09:23:49.322114Z",
     "shell.execute_reply": "2020-10-15T09:23:49.322548Z"
    },
    "papermill": {
     "duration": 0.088249,
     "end_time": "2020-10-15T09:23:49.322710",
     "exception": false,
     "start_time": "2020-10-15T09:23:49.234461",
     "status": "completed"
    },
    "pycharm": {
     "name": "#%%\n"
    },
    "tags": []
   },
   "outputs": [
    {
     "data": {
      "text/html": [
       "<div>\n",
       "<style scoped>\n",
       "    .dataframe tbody tr th:only-of-type {\n",
       "        vertical-align: middle;\n",
       "    }\n",
       "\n",
       "    .dataframe tbody tr th {\n",
       "        vertical-align: top;\n",
       "    }\n",
       "\n",
       "    .dataframe thead th {\n",
       "        text-align: right;\n",
       "    }\n",
       "</style>\n",
       "<table border=\"1\" class=\"dataframe\">\n",
       "  <thead>\n",
       "    <tr style=\"text-align: right;\">\n",
       "      <th></th>\n",
       "      <th>covid_cases</th>\n",
       "      <th>shared_teks_by_generation_date</th>\n",
       "      <th>shared_teks_by_upload_date</th>\n",
       "      <th>shared_diagnoses</th>\n",
       "      <th>teks_per_shared_diagnosis</th>\n",
       "      <th>shared_diagnoses_per_covid_case</th>\n",
       "    </tr>\n",
       "    <tr>\n",
       "      <th>sample_date</th>\n",
       "      <th></th>\n",
       "      <th></th>\n",
       "      <th></th>\n",
       "      <th></th>\n",
       "      <th></th>\n",
       "      <th></th>\n",
       "    </tr>\n",
       "  </thead>\n",
       "  <tbody>\n",
       "    <tr>\n",
       "      <th>2020-10-15</th>\n",
       "      <td>72014</td>\n",
       "      <td>1373</td>\n",
       "      <td>2480</td>\n",
       "      <td>839</td>\n",
       "      <td>2.955900</td>\n",
       "      <td>0.011651</td>\n",
       "    </tr>\n",
       "    <tr>\n",
       "      <th>2020-10-14</th>\n",
       "      <td>71666</td>\n",
       "      <td>1709</td>\n",
       "      <td>2594</td>\n",
       "      <td>852</td>\n",
       "      <td>3.044601</td>\n",
       "      <td>0.011888</td>\n",
       "    </tr>\n",
       "    <tr>\n",
       "      <th>2020-10-13</th>\n",
       "      <td>70888</td>\n",
       "      <td>1970</td>\n",
       "      <td>2309</td>\n",
       "      <td>773</td>\n",
       "      <td>2.987063</td>\n",
       "      <td>0.010905</td>\n",
       "    </tr>\n",
       "    <tr>\n",
       "      <th>2020-10-12</th>\n",
       "      <td>71812</td>\n",
       "      <td>2182</td>\n",
       "      <td>2208</td>\n",
       "      <td>717</td>\n",
       "      <td>3.079498</td>\n",
       "      <td>0.009984</td>\n",
       "    </tr>\n",
       "    <tr>\n",
       "      <th>2020-10-11</th>\n",
       "      <td>70325</td>\n",
       "      <td>2313</td>\n",
       "      <td>2155</td>\n",
       "      <td>650</td>\n",
       "      <td>3.315385</td>\n",
       "      <td>0.009243</td>\n",
       "    </tr>\n",
       "  </tbody>\n",
       "</table>\n",
       "</div>"
      ],
      "text/plain": [
       "             covid_cases  shared_teks_by_generation_date  \\\n",
       "sample_date                                                \n",
       "2020-10-15         72014                            1373   \n",
       "2020-10-14         71666                            1709   \n",
       "2020-10-13         70888                            1970   \n",
       "2020-10-12         71812                            2182   \n",
       "2020-10-11         70325                            2313   \n",
       "\n",
       "             shared_teks_by_upload_date  shared_diagnoses  \\\n",
       "sample_date                                                 \n",
       "2020-10-15                         2480               839   \n",
       "2020-10-14                         2594               852   \n",
       "2020-10-13                         2309               773   \n",
       "2020-10-12                         2208               717   \n",
       "2020-10-11                         2155               650   \n",
       "\n",
       "             teks_per_shared_diagnosis  shared_diagnoses_per_covid_case  \n",
       "sample_date                                                              \n",
       "2020-10-15                    2.955900                         0.011651  \n",
       "2020-10-14                    3.044601                         0.011888  \n",
       "2020-10-13                    2.987063                         0.010905  \n",
       "2020-10-12                    3.079498                         0.009984  \n",
       "2020-10-11                    3.315385                         0.009243  "
      ]
     },
     "execution_count": 45,
     "metadata": {},
     "output_type": "execute_result"
    }
   ],
   "source": [
    "weekly_result_summary_df = result_summary_df \\\n",
    "    .sort_index(ascending=True).fillna(0).rolling(7).agg({\n",
    "    \"covid_cases\": \"sum\",\n",
    "    \"shared_teks_by_generation_date\": \"sum\",\n",
    "    \"shared_teks_by_upload_date\": \"sum\",\n",
    "    \"shared_diagnoses\": \"sum\"\n",
    "}).sort_index(ascending=False)\n",
    "\n",
    "with pd.option_context(\"mode.use_inf_as_na\", True):\n",
    "    weekly_result_summary_df = weekly_result_summary_df.fillna(0).astype(int)\n",
    "    weekly_result_summary_df[\"teks_per_shared_diagnosis\"] = \\\n",
    "        (weekly_result_summary_df.shared_teks_by_upload_date / weekly_result_summary_df.shared_diagnoses).fillna(0)\n",
    "    weekly_result_summary_df[\"shared_diagnoses_per_covid_case\"] = \\\n",
    "        (weekly_result_summary_df.shared_diagnoses / weekly_result_summary_df.covid_cases).fillna(0)\n",
    "\n",
    "weekly_result_summary_df.head()"
   ]
  },
  {
   "cell_type": "code",
   "execution_count": 46,
   "metadata": {
    "execution": {
     "iopub.execute_input": "2020-10-15T09:23:49.460818Z",
     "iopub.status.busy": "2020-10-15T09:23:49.459988Z",
     "iopub.status.idle": "2020-10-15T09:23:49.462168Z",
     "shell.execute_reply": "2020-10-15T09:23:49.462657Z"
    },
    "papermill": {
     "duration": 0.07421,
     "end_time": "2020-10-15T09:23:49.462815",
     "exception": false,
     "start_time": "2020-10-15T09:23:49.388605",
     "status": "completed"
    },
    "pycharm": {
     "name": "#%%\n"
    },
    "tags": []
   },
   "outputs": [
    {
     "data": {
      "text/plain": [
       "{'covid_cases': 72014,\n",
       " 'shared_teks_by_generation_date': 1373,\n",
       " 'shared_teks_by_upload_date': 2480,\n",
       " 'shared_diagnoses': 839,\n",
       " 'teks_per_shared_diagnosis': 2.9558998808104886,\n",
       " 'shared_diagnoses_per_covid_case': 0.011650512400366596}"
      ]
     },
     "execution_count": 46,
     "metadata": {},
     "output_type": "execute_result"
    }
   ],
   "source": [
    "last_7_days_summary = weekly_result_summary_df.to_dict(orient=\"records\")[0]\n",
    "last_7_days_summary"
   ]
  },
  {
   "cell_type": "markdown",
   "metadata": {
    "collapsed": false,
    "papermill": {
     "duration": 0.065415,
     "end_time": "2020-10-15T09:23:49.593318",
     "exception": false,
     "start_time": "2020-10-15T09:23:49.527903",
     "status": "completed"
    },
    "pycharm": {
     "name": "#%% md\n"
    },
    "tags": []
   },
   "source": [
    "## Report Results"
   ]
  },
  {
   "cell_type": "code",
   "execution_count": 47,
   "metadata": {
    "collapsed": false,
    "execution": {
     "iopub.execute_input": "2020-10-15T09:23:49.732255Z",
     "iopub.status.busy": "2020-10-15T09:23:49.731704Z",
     "iopub.status.idle": "2020-10-15T09:23:49.733721Z",
     "shell.execute_reply": "2020-10-15T09:23:49.733239Z"
    },
    "papermill": {
     "duration": 0.074076,
     "end_time": "2020-10-15T09:23:49.733864",
     "exception": false,
     "start_time": "2020-10-15T09:23:49.659788",
     "status": "completed"
    },
    "pycharm": {
     "name": "#%%\n"
    },
    "tags": []
   },
   "outputs": [],
   "source": [
    "display_column_name_mapping = {\n",
    "    \"sample_date\": \"Sample\\u00A0Date\\u00A0(UTC)\",\n",
    "    \"datetime_utc\": \"Timestamp (UTC)\",\n",
    "    \"upload_date\": \"Upload Date (UTC)\",\n",
    "    \"generation_to_upload_days\": \"Generation to Upload Period in Days\",\n",
    "    \"region\": \"Backend Region\",\n",
    "    \"covid_cases\": \"COVID-19 Cases (7-day Rolling Average)\",\n",
    "    \"shared_teks_by_generation_date\": \"Shared TEKs by Generation Date\",\n",
    "    \"shared_teks_by_upload_date\": \"Shared TEKs by Upload Date\",\n",
    "    \"shared_diagnoses\": \"Shared Diagnoses (Estimation)\",\n",
    "    \"teks_per_shared_diagnosis\": \"TEKs Uploaded per Shared Diagnosis\",\n",
    "    \"shared_diagnoses_per_covid_case\": \"Usage Ratio (Fraction of Cases Which Shared Diagnosis)\",\n",
    "    \"shared_teks_uploaded_on_generation_date\": \"Shared TEKs Uploaded on Generation Date\",\n",
    "}"
   ]
  },
  {
   "cell_type": "code",
   "execution_count": 48,
   "metadata": {
    "execution": {
     "iopub.execute_input": "2020-10-15T09:23:49.870021Z",
     "iopub.status.busy": "2020-10-15T09:23:49.869443Z",
     "iopub.status.idle": "2020-10-15T09:23:49.872184Z",
     "shell.execute_reply": "2020-10-15T09:23:49.872694Z"
    },
    "papermill": {
     "duration": 0.073202,
     "end_time": "2020-10-15T09:23:49.872830",
     "exception": false,
     "start_time": "2020-10-15T09:23:49.799628",
     "status": "completed"
    },
    "pycharm": {
     "name": "#%%\n"
    },
    "tags": []
   },
   "outputs": [],
   "source": [
    "summary_columns = [\n",
    "    \"covid_cases\",\n",
    "    \"shared_teks_by_generation_date\",\n",
    "    \"shared_teks_by_upload_date\",\n",
    "    \"shared_teks_uploaded_on_generation_date\",\n",
    "    \"shared_diagnoses\",\n",
    "    \"teks_per_shared_diagnosis\",\n",
    "    \"shared_diagnoses_per_covid_case\",\n",
    "]"
   ]
  },
  {
   "cell_type": "markdown",
   "metadata": {
    "execution": {
     "iopub.execute_input": "2020-09-02T08:20:14.568088Z",
     "iopub.status.busy": "2020-09-02T08:20:14.567425Z",
     "iopub.status.idle": "2020-09-02T08:20:14.571422Z",
     "shell.execute_reply": "2020-09-02T08:20:14.571952Z"
    },
    "papermill": {
     "duration": 0.064801,
     "end_time": "2020-10-15T09:23:50.002274",
     "exception": false,
     "start_time": "2020-10-15T09:23:49.937473",
     "status": "completed"
    },
    "pycharm": {
     "name": "#%% md\n"
    },
    "tags": []
   },
   "source": [
    "### Daily Summary Table"
   ]
  },
  {
   "cell_type": "code",
   "execution_count": 49,
   "metadata": {
    "execution": {
     "iopub.execute_input": "2020-10-15T09:23:50.150072Z",
     "iopub.status.busy": "2020-10-15T09:23:50.149477Z",
     "iopub.status.idle": "2020-10-15T09:23:50.152032Z",
     "shell.execute_reply": "2020-10-15T09:23:50.152474Z"
    },
    "papermill": {
     "duration": 0.084198,
     "end_time": "2020-10-15T09:23:50.152617",
     "exception": false,
     "start_time": "2020-10-15T09:23:50.068419",
     "status": "completed"
    },
    "pycharm": {
     "name": "#%%\n"
    },
    "tags": []
   },
   "outputs": [
    {
     "data": {
      "text/html": [
       "<div>\n",
       "<style scoped>\n",
       "    .dataframe tbody tr th:only-of-type {\n",
       "        vertical-align: middle;\n",
       "    }\n",
       "\n",
       "    .dataframe tbody tr th {\n",
       "        vertical-align: top;\n",
       "    }\n",
       "\n",
       "    .dataframe thead th {\n",
       "        text-align: right;\n",
       "    }\n",
       "</style>\n",
       "<table border=\"1\" class=\"dataframe\">\n",
       "  <thead>\n",
       "    <tr style=\"text-align: right;\">\n",
       "      <th></th>\n",
       "      <th>COVID-19 Cases (7-day Rolling Average)</th>\n",
       "      <th>Shared TEKs by Generation Date</th>\n",
       "      <th>Shared TEKs by Upload Date</th>\n",
       "      <th>Shared TEKs Uploaded on Generation Date</th>\n",
       "      <th>Shared Diagnoses (Estimation)</th>\n",
       "      <th>TEKs Uploaded per Shared Diagnosis</th>\n",
       "      <th>Usage Ratio (Fraction of Cases Which Shared Diagnosis)</th>\n",
       "    </tr>\n",
       "    <tr>\n",
       "      <th>Sample Date (UTC)</th>\n",
       "      <th></th>\n",
       "      <th></th>\n",
       "      <th></th>\n",
       "      <th></th>\n",
       "      <th></th>\n",
       "      <th></th>\n",
       "      <th></th>\n",
       "    </tr>\n",
       "  </thead>\n",
       "  <tbody>\n",
       "    <tr>\n",
       "      <th>2020-10-15</th>\n",
       "      <td>10308</td>\n",
       "      <td>16</td>\n",
       "      <td>158</td>\n",
       "      <td>16</td>\n",
       "      <td>73</td>\n",
       "      <td>2.164384</td>\n",
       "      <td>0.007082</td>\n",
       "    </tr>\n",
       "    <tr>\n",
       "      <th>2020-10-14</th>\n",
       "      <td>10308</td>\n",
       "      <td>74</td>\n",
       "      <td>463</td>\n",
       "      <td>1</td>\n",
       "      <td>133</td>\n",
       "      <td>3.481203</td>\n",
       "      <td>0.012903</td>\n",
       "    </tr>\n",
       "    <tr>\n",
       "      <th>2020-10-13</th>\n",
       "      <td>10097</td>\n",
       "      <td>150</td>\n",
       "      <td>334</td>\n",
       "      <td>1</td>\n",
       "      <td>112</td>\n",
       "      <td>2.982143</td>\n",
       "      <td>0.011092</td>\n",
       "    </tr>\n",
       "    <tr>\n",
       "      <th>2020-10-12</th>\n",
       "      <td>10794</td>\n",
       "      <td>208</td>\n",
       "      <td>326</td>\n",
       "      <td>2</td>\n",
       "      <td>136</td>\n",
       "      <td>2.397059</td>\n",
       "      <td>0.012600</td>\n",
       "    </tr>\n",
       "    <tr>\n",
       "      <th>2020-10-11</th>\n",
       "      <td>10169</td>\n",
       "      <td>278</td>\n",
       "      <td>422</td>\n",
       "      <td>1</td>\n",
       "      <td>147</td>\n",
       "      <td>2.870748</td>\n",
       "      <td>0.014456</td>\n",
       "    </tr>\n",
       "    <tr>\n",
       "      <th>...</th>\n",
       "      <td>...</td>\n",
       "      <td>...</td>\n",
       "      <td>...</td>\n",
       "      <td>...</td>\n",
       "      <td>...</td>\n",
       "      <td>...</td>\n",
       "      <td>...</td>\n",
       "    </tr>\n",
       "    <tr>\n",
       "      <th>2020-07-28</th>\n",
       "      <td>2059</td>\n",
       "      <td>0</td>\n",
       "      <td>0</td>\n",
       "      <td>0</td>\n",
       "      <td>0</td>\n",
       "      <td>0.000000</td>\n",
       "      <td>0.000000</td>\n",
       "    </tr>\n",
       "    <tr>\n",
       "      <th>2020-07-27</th>\n",
       "      <td>1084</td>\n",
       "      <td>0</td>\n",
       "      <td>0</td>\n",
       "      <td>0</td>\n",
       "      <td>0</td>\n",
       "      <td>0.000000</td>\n",
       "      <td>0.000000</td>\n",
       "    </tr>\n",
       "    <tr>\n",
       "      <th>2020-07-26</th>\n",
       "      <td>1084</td>\n",
       "      <td>0</td>\n",
       "      <td>0</td>\n",
       "      <td>0</td>\n",
       "      <td>0</td>\n",
       "      <td>0.000000</td>\n",
       "      <td>0.000000</td>\n",
       "    </tr>\n",
       "    <tr>\n",
       "      <th>2020-07-25</th>\n",
       "      <td>1738</td>\n",
       "      <td>0</td>\n",
       "      <td>0</td>\n",
       "      <td>0</td>\n",
       "      <td>0</td>\n",
       "      <td>0.000000</td>\n",
       "      <td>0.000000</td>\n",
       "    </tr>\n",
       "    <tr>\n",
       "      <th>2020-07-24</th>\n",
       "      <td>1738</td>\n",
       "      <td>0</td>\n",
       "      <td>0</td>\n",
       "      <td>0</td>\n",
       "      <td>0</td>\n",
       "      <td>0.000000</td>\n",
       "      <td>0.000000</td>\n",
       "    </tr>\n",
       "  </tbody>\n",
       "</table>\n",
       "<p>84 rows × 7 columns</p>\n",
       "</div>"
      ],
      "text/plain": [
       "                   COVID-19 Cases (7-day Rolling Average)  \\\n",
       "Sample Date (UTC)                                           \n",
       "2020-10-15                                          10308   \n",
       "2020-10-14                                          10308   \n",
       "2020-10-13                                          10097   \n",
       "2020-10-12                                          10794   \n",
       "2020-10-11                                          10169   \n",
       "...                                                   ...   \n",
       "2020-07-28                                           2059   \n",
       "2020-07-27                                           1084   \n",
       "2020-07-26                                           1084   \n",
       "2020-07-25                                           1738   \n",
       "2020-07-24                                           1738   \n",
       "\n",
       "                   Shared TEKs by Generation Date  Shared TEKs by Upload Date  \\\n",
       "Sample Date (UTC)                                                               \n",
       "2020-10-15                                     16                         158   \n",
       "2020-10-14                                     74                         463   \n",
       "2020-10-13                                    150                         334   \n",
       "2020-10-12                                    208                         326   \n",
       "2020-10-11                                    278                         422   \n",
       "...                                           ...                         ...   \n",
       "2020-07-28                                      0                           0   \n",
       "2020-07-27                                      0                           0   \n",
       "2020-07-26                                      0                           0   \n",
       "2020-07-25                                      0                           0   \n",
       "2020-07-24                                      0                           0   \n",
       "\n",
       "                   Shared TEKs Uploaded on Generation Date  \\\n",
       "Sample Date (UTC)                                            \n",
       "2020-10-15                                              16   \n",
       "2020-10-14                                               1   \n",
       "2020-10-13                                               1   \n",
       "2020-10-12                                               2   \n",
       "2020-10-11                                               1   \n",
       "...                                                    ...   \n",
       "2020-07-28                                               0   \n",
       "2020-07-27                                               0   \n",
       "2020-07-26                                               0   \n",
       "2020-07-25                                               0   \n",
       "2020-07-24                                               0   \n",
       "\n",
       "                   Shared Diagnoses (Estimation)  \\\n",
       "Sample Date (UTC)                                  \n",
       "2020-10-15                                    73   \n",
       "2020-10-14                                   133   \n",
       "2020-10-13                                   112   \n",
       "2020-10-12                                   136   \n",
       "2020-10-11                                   147   \n",
       "...                                          ...   \n",
       "2020-07-28                                     0   \n",
       "2020-07-27                                     0   \n",
       "2020-07-26                                     0   \n",
       "2020-07-25                                     0   \n",
       "2020-07-24                                     0   \n",
       "\n",
       "                   TEKs Uploaded per Shared Diagnosis  \\\n",
       "Sample Date (UTC)                                       \n",
       "2020-10-15                                   2.164384   \n",
       "2020-10-14                                   3.481203   \n",
       "2020-10-13                                   2.982143   \n",
       "2020-10-12                                   2.397059   \n",
       "2020-10-11                                   2.870748   \n",
       "...                                               ...   \n",
       "2020-07-28                                   0.000000   \n",
       "2020-07-27                                   0.000000   \n",
       "2020-07-26                                   0.000000   \n",
       "2020-07-25                                   0.000000   \n",
       "2020-07-24                                   0.000000   \n",
       "\n",
       "                   Usage Ratio (Fraction of Cases Which Shared Diagnosis)  \n",
       "Sample Date (UTC)                                                          \n",
       "2020-10-15                                                  0.007082       \n",
       "2020-10-14                                                  0.012903       \n",
       "2020-10-13                                                  0.011092       \n",
       "2020-10-12                                                  0.012600       \n",
       "2020-10-11                                                  0.014456       \n",
       "...                                                              ...       \n",
       "2020-07-28                                                  0.000000       \n",
       "2020-07-27                                                  0.000000       \n",
       "2020-07-26                                                  0.000000       \n",
       "2020-07-25                                                  0.000000       \n",
       "2020-07-24                                                  0.000000       \n",
       "\n",
       "[84 rows x 7 columns]"
      ]
     },
     "execution_count": 49,
     "metadata": {},
     "output_type": "execute_result"
    }
   ],
   "source": [
    "result_summary_df_ = result_summary_df.copy()\n",
    "result_summary_df = result_summary_df[summary_columns]\n",
    "result_summary_with_display_names_df = result_summary_df \\\n",
    "    .rename_axis(index=display_column_name_mapping) \\\n",
    "    .rename(columns=display_column_name_mapping)\n",
    "result_summary_with_display_names_df"
   ]
  },
  {
   "cell_type": "markdown",
   "metadata": {
    "execution": {
     "iopub.execute_input": "2020-09-02T08:20:14.726751Z",
     "iopub.status.busy": "2020-09-02T08:20:14.726143Z",
     "iopub.status.idle": "2020-09-02T08:20:16.115081Z",
     "shell.execute_reply": "2020-09-02T08:20:16.115565Z"
    },
    "papermill": {
     "duration": 0.065305,
     "end_time": "2020-10-15T09:23:50.283345",
     "exception": false,
     "start_time": "2020-10-15T09:23:50.218040",
     "status": "completed"
    },
    "pycharm": {
     "name": "#%% md\n"
    },
    "scrolled": false,
    "tags": []
   },
   "source": [
    "### Daily Summary Plots"
   ]
  },
  {
   "cell_type": "code",
   "execution_count": 50,
   "metadata": {
    "execution": {
     "iopub.execute_input": "2020-10-15T09:23:50.446643Z",
     "iopub.status.busy": "2020-10-15T09:23:50.446046Z",
     "iopub.status.idle": "2020-10-15T09:23:52.112818Z",
     "shell.execute_reply": "2020-10-15T09:23:52.112355Z"
    },
    "papermill": {
     "duration": 1.76199,
     "end_time": "2020-10-15T09:23:52.112948",
     "exception": false,
     "start_time": "2020-10-15T09:23:50.350958",
     "status": "completed"
    },
    "pycharm": {
     "name": "#%%\n"
    },
    "tags": []
   },
   "outputs": [
    {
     "data": {
      "image/png": "[encoded data removed]",
      "text/plain": [
       "<Figure size 1080x1584 with 7 Axes>"
      ]
     },
     "metadata": {},
     "output_type": "display_data"
    }
   ],
   "source": [
    "result_plot_summary_df = result_summary_df.head(daily_plot_days)[summary_columns] \\\n",
    "    .rename_axis(index=display_column_name_mapping) \\\n",
    "    .rename(columns=display_column_name_mapping)\n",
    "summary_ax_list = result_plot_summary_df.sort_index(ascending=True).plot.bar(\n",
    "    title=f\"Daily Summary\",\n",
    "    rot=45, subplots=True, figsize=(15, 22), legend=False)\n",
    "ax_ = summary_ax_list[-1]\n",
    "ax_.get_figure().tight_layout()\n",
    "ax_.get_figure().subplots_adjust(top=0.95)\n",
    "ax_.yaxis.set_major_formatter(matplotlib.ticker.PercentFormatter(1.0))\n",
    "_ = ax_.set_xticklabels(sorted(result_plot_summary_df.index.strftime(\"%Y-%m-%d\").tolist()))"
   ]
  },
  {
   "cell_type": "markdown",
   "metadata": {
    "collapsed": false,
    "papermill": {
     "duration": 0.066661,
     "end_time": "2020-10-15T09:23:52.247960",
     "exception": false,
     "start_time": "2020-10-15T09:23:52.181299",
     "status": "completed"
    },
    "tags": []
   },
   "source": [
    "### Daily Generation to Upload Period Table"
   ]
  },
  {
   "cell_type": "code",
   "execution_count": 51,
   "metadata": {
    "collapsed": false,
    "execution": {
     "iopub.execute_input": "2020-10-15T09:23:52.395235Z",
     "iopub.status.busy": "2020-10-15T09:23:52.394702Z",
     "iopub.status.idle": "2020-10-15T09:23:52.396927Z",
     "shell.execute_reply": "2020-10-15T09:23:52.397353Z"
    },
    "papermill": {
     "duration": 0.084757,
     "end_time": "2020-10-15T09:23:52.397491",
     "exception": false,
     "start_time": "2020-10-15T09:23:52.312734",
     "status": "completed"
    },
    "pycharm": {
     "name": "#%%\n"
    },
    "tags": []
   },
   "outputs": [
    {
     "data": {
      "text/html": [
       "<div>\n",
       "<style scoped>\n",
       "    .dataframe tbody tr th:only-of-type {\n",
       "        vertical-align: middle;\n",
       "    }\n",
       "\n",
       "    .dataframe tbody tr th {\n",
       "        vertical-align: top;\n",
       "    }\n",
       "\n",
       "    .dataframe thead th {\n",
       "        text-align: right;\n",
       "    }\n",
       "</style>\n",
       "<table border=\"1\" class=\"dataframe\">\n",
       "  <thead>\n",
       "    <tr style=\"text-align: right;\">\n",
       "      <th>Generation to Upload Period in Days</th>\n",
       "      <th>0</th>\n",
       "      <th>1</th>\n",
       "      <th>2</th>\n",
       "      <th>3</th>\n",
       "      <th>4</th>\n",
       "      <th>5</th>\n",
       "      <th>6</th>\n",
       "      <th>7</th>\n",
       "      <th>8</th>\n",
       "      <th>9</th>\n",
       "      <th>10</th>\n",
       "      <th>11</th>\n",
       "      <th>12</th>\n",
       "      <th>13</th>\n",
       "    </tr>\n",
       "    <tr>\n",
       "      <th>Upload Date (UTC)</th>\n",
       "      <th></th>\n",
       "      <th></th>\n",
       "      <th></th>\n",
       "      <th></th>\n",
       "      <th></th>\n",
       "      <th></th>\n",
       "      <th></th>\n",
       "      <th></th>\n",
       "      <th></th>\n",
       "      <th></th>\n",
       "      <th></th>\n",
       "      <th></th>\n",
       "      <th></th>\n",
       "      <th></th>\n",
       "    </tr>\n",
       "  </thead>\n",
       "  <tbody>\n",
       "    <tr>\n",
       "      <th>2020-10-15</th>\n",
       "      <td>16</td>\n",
       "      <td>73</td>\n",
       "      <td>16</td>\n",
       "      <td>14</td>\n",
       "      <td>11</td>\n",
       "      <td>7</td>\n",
       "      <td>5</td>\n",
       "      <td>4</td>\n",
       "      <td>3</td>\n",
       "      <td>3</td>\n",
       "      <td>3</td>\n",
       "      <td>1</td>\n",
       "      <td>1</td>\n",
       "      <td>1</td>\n",
       "    </tr>\n",
       "    <tr>\n",
       "      <th>2020-10-14</th>\n",
       "      <td>1</td>\n",
       "      <td>133</td>\n",
       "      <td>80</td>\n",
       "      <td>69</td>\n",
       "      <td>54</td>\n",
       "      <td>38</td>\n",
       "      <td>30</td>\n",
       "      <td>24</td>\n",
       "      <td>14</td>\n",
       "      <td>9</td>\n",
       "      <td>6</td>\n",
       "      <td>3</td>\n",
       "      <td>1</td>\n",
       "      <td>1</td>\n",
       "    </tr>\n",
       "    <tr>\n",
       "      <th>2020-10-13</th>\n",
       "      <td>1</td>\n",
       "      <td>112</td>\n",
       "      <td>61</td>\n",
       "      <td>50</td>\n",
       "      <td>37</td>\n",
       "      <td>32</td>\n",
       "      <td>19</td>\n",
       "      <td>10</td>\n",
       "      <td>4</td>\n",
       "      <td>4</td>\n",
       "      <td>2</td>\n",
       "      <td>1</td>\n",
       "      <td>1</td>\n",
       "      <td>0</td>\n",
       "    </tr>\n",
       "    <tr>\n",
       "      <th>2020-10-12</th>\n",
       "      <td>2</td>\n",
       "      <td>136</td>\n",
       "      <td>53</td>\n",
       "      <td>47</td>\n",
       "      <td>33</td>\n",
       "      <td>19</td>\n",
       "      <td>14</td>\n",
       "      <td>12</td>\n",
       "      <td>5</td>\n",
       "      <td>2</td>\n",
       "      <td>2</td>\n",
       "      <td>1</td>\n",
       "      <td>0</td>\n",
       "      <td>0</td>\n",
       "    </tr>\n",
       "    <tr>\n",
       "      <th>2020-10-11</th>\n",
       "      <td>1</td>\n",
       "      <td>147</td>\n",
       "      <td>75</td>\n",
       "      <td>62</td>\n",
       "      <td>51</td>\n",
       "      <td>38</td>\n",
       "      <td>18</td>\n",
       "      <td>9</td>\n",
       "      <td>6</td>\n",
       "      <td>5</td>\n",
       "      <td>3</td>\n",
       "      <td>3</td>\n",
       "      <td>2</td>\n",
       "      <td>2</td>\n",
       "    </tr>\n",
       "    <tr>\n",
       "      <th>2020-10-10</th>\n",
       "      <td>0</td>\n",
       "      <td>133</td>\n",
       "      <td>85</td>\n",
       "      <td>68</td>\n",
       "      <td>61</td>\n",
       "      <td>50</td>\n",
       "      <td>15</td>\n",
       "      <td>9</td>\n",
       "      <td>6</td>\n",
       "      <td>2</td>\n",
       "      <td>0</td>\n",
       "      <td>0</td>\n",
       "      <td>0</td>\n",
       "      <td>0</td>\n",
       "    </tr>\n",
       "    <tr>\n",
       "      <th>2020-10-09</th>\n",
       "      <td>1</td>\n",
       "      <td>105</td>\n",
       "      <td>65</td>\n",
       "      <td>61</td>\n",
       "      <td>57</td>\n",
       "      <td>57</td>\n",
       "      <td>2</td>\n",
       "      <td>0</td>\n",
       "      <td>0</td>\n",
       "      <td>0</td>\n",
       "      <td>0</td>\n",
       "      <td>0</td>\n",
       "      <td>0</td>\n",
       "      <td>0</td>\n",
       "    </tr>\n",
       "    <tr>\n",
       "      <th>2020-10-08</th>\n",
       "      <td>1</td>\n",
       "      <td>86</td>\n",
       "      <td>47</td>\n",
       "      <td>45</td>\n",
       "      <td>43</td>\n",
       "      <td>41</td>\n",
       "      <td>2</td>\n",
       "      <td>1</td>\n",
       "      <td>1</td>\n",
       "      <td>1</td>\n",
       "      <td>1</td>\n",
       "      <td>1</td>\n",
       "      <td>1</td>\n",
       "      <td>1</td>\n",
       "    </tr>\n",
       "    <tr>\n",
       "      <th>2020-10-07</th>\n",
       "      <td>0</td>\n",
       "      <td>54</td>\n",
       "      <td>33</td>\n",
       "      <td>30</td>\n",
       "      <td>30</td>\n",
       "      <td>30</td>\n",
       "      <td>1</td>\n",
       "      <td>0</td>\n",
       "      <td>0</td>\n",
       "      <td>0</td>\n",
       "      <td>0</td>\n",
       "      <td>0</td>\n",
       "      <td>0</td>\n",
       "      <td>0</td>\n",
       "    </tr>\n",
       "    <tr>\n",
       "      <th>2020-10-06</th>\n",
       "      <td>60</td>\n",
       "      <td>56</td>\n",
       "      <td>33</td>\n",
       "      <td>26</td>\n",
       "      <td>29</td>\n",
       "      <td>29</td>\n",
       "      <td>0</td>\n",
       "      <td>0</td>\n",
       "      <td>0</td>\n",
       "      <td>0</td>\n",
       "      <td>0</td>\n",
       "      <td>0</td>\n",
       "      <td>0</td>\n",
       "      <td>0</td>\n",
       "    </tr>\n",
       "    <tr>\n",
       "      <th>2020-10-05</th>\n",
       "      <td>52</td>\n",
       "      <td>69</td>\n",
       "      <td>39</td>\n",
       "      <td>39</td>\n",
       "      <td>38</td>\n",
       "      <td>36</td>\n",
       "      <td>0</td>\n",
       "      <td>0</td>\n",
       "      <td>0</td>\n",
       "      <td>0</td>\n",
       "      <td>0</td>\n",
       "      <td>0</td>\n",
       "      <td>0</td>\n",
       "      <td>0</td>\n",
       "    </tr>\n",
       "    <tr>\n",
       "      <th>2020-10-04</th>\n",
       "      <td>76</td>\n",
       "      <td>78</td>\n",
       "      <td>48</td>\n",
       "      <td>45</td>\n",
       "      <td>42</td>\n",
       "      <td>42</td>\n",
       "      <td>0</td>\n",
       "      <td>0</td>\n",
       "      <td>0</td>\n",
       "      <td>0</td>\n",
       "      <td>0</td>\n",
       "      <td>0</td>\n",
       "      <td>0</td>\n",
       "      <td>0</td>\n",
       "    </tr>\n",
       "    <tr>\n",
       "      <th>2020-10-03</th>\n",
       "      <td>69</td>\n",
       "      <td>76</td>\n",
       "      <td>48</td>\n",
       "      <td>44</td>\n",
       "      <td>42</td>\n",
       "      <td>43</td>\n",
       "      <td>2</td>\n",
       "      <td>0</td>\n",
       "      <td>0</td>\n",
       "      <td>0</td>\n",
       "      <td>0</td>\n",
       "      <td>0</td>\n",
       "      <td>0</td>\n",
       "      <td>0</td>\n",
       "    </tr>\n",
       "    <tr>\n",
       "      <th>2020-10-02</th>\n",
       "      <td>72</td>\n",
       "      <td>72</td>\n",
       "      <td>39</td>\n",
       "      <td>39</td>\n",
       "      <td>39</td>\n",
       "      <td>37</td>\n",
       "      <td>1</td>\n",
       "      <td>0</td>\n",
       "      <td>0</td>\n",
       "      <td>0</td>\n",
       "      <td>0</td>\n",
       "      <td>0</td>\n",
       "      <td>0</td>\n",
       "      <td>0</td>\n",
       "    </tr>\n",
       "  </tbody>\n",
       "</table>\n",
       "</div>"
      ],
      "text/plain": [
       "Generation to Upload Period in Days  0    1   2   3   4   5   6   7   8   9   \\\n",
       "Upload Date (UTC)                                                              \n",
       "2020-10-15                           16   73  16  14  11   7   5   4   3   3   \n",
       "2020-10-14                            1  133  80  69  54  38  30  24  14   9   \n",
       "2020-10-13                            1  112  61  50  37  32  19  10   4   4   \n",
       "2020-10-12                            2  136  53  47  33  19  14  12   5   2   \n",
       "2020-10-11                            1  147  75  62  51  38  18   9   6   5   \n",
       "2020-10-10                            0  133  85  68  61  50  15   9   6   2   \n",
       "2020-10-09                            1  105  65  61  57  57   2   0   0   0   \n",
       "2020-10-08                            1   86  47  45  43  41   2   1   1   1   \n",
       "2020-10-07                            0   54  33  30  30  30   1   0   0   0   \n",
       "2020-10-06                           60   56  33  26  29  29   0   0   0   0   \n",
       "2020-10-05                           52   69  39  39  38  36   0   0   0   0   \n",
       "2020-10-04                           76   78  48  45  42  42   0   0   0   0   \n",
       "2020-10-03                           69   76  48  44  42  43   2   0   0   0   \n",
       "2020-10-02                           72   72  39  39  39  37   1   0   0   0   \n",
       "\n",
       "Generation to Upload Period in Days  10  11  12  13  \n",
       "Upload Date (UTC)                                    \n",
       "2020-10-15                            3   1   1   1  \n",
       "2020-10-14                            6   3   1   1  \n",
       "2020-10-13                            2   1   1   0  \n",
       "2020-10-12                            2   1   0   0  \n",
       "2020-10-11                            3   3   2   2  \n",
       "2020-10-10                            0   0   0   0  \n",
       "2020-10-09                            0   0   0   0  \n",
       "2020-10-08                            1   1   1   1  \n",
       "2020-10-07                            0   0   0   0  \n",
       "2020-10-06                            0   0   0   0  \n",
       "2020-10-05                            0   0   0   0  \n",
       "2020-10-04                            0   0   0   0  \n",
       "2020-10-03                            0   0   0   0  \n",
       "2020-10-02                            0   0   0   0  "
      ]
     },
     "execution_count": 51,
     "metadata": {},
     "output_type": "execute_result"
    }
   ],
   "source": [
    "display_generation_to_upload_period_pivot_df = \\\n",
    "    generation_to_upload_period_pivot_df \\\n",
    "        .head(backend_extraction_days)\n",
    "display_generation_to_upload_period_pivot_df \\\n",
    "    .head(backend_extraction_days) \\\n",
    "    .rename_axis(columns=display_column_name_mapping) \\\n",
    "    .rename_axis(index=display_column_name_mapping)"
   ]
  },
  {
   "cell_type": "code",
   "execution_count": 52,
   "metadata": {
    "collapsed": false,
    "execution": {
     "iopub.execute_input": "2020-10-15T09:23:52.546502Z",
     "iopub.status.busy": "2020-10-15T09:23:52.545842Z",
     "iopub.status.idle": "2020-10-15T09:23:53.434007Z",
     "shell.execute_reply": "2020-10-15T09:23:53.434398Z"
    },
    "papermill": {
     "duration": 0.967177,
     "end_time": "2020-10-15T09:23:53.434577",
     "exception": false,
     "start_time": "2020-10-15T09:23:52.467400",
     "status": "completed"
    },
    "pycharm": {
     "name": "#%%\n"
    },
    "tags": []
   },
   "outputs": [
    {
     "data": {
      "image/png": "[encoded data removed]",
      "text/plain": [
       "<Figure size 720x576 with 2 Axes>"
      ]
     },
     "metadata": {},
     "output_type": "display_data"
    }
   ],
   "source": [
    "import matplotlib.pyplot as plt\n",
    "\n",
    "fig, generation_to_upload_period_pivot_table_ax = plt.subplots(\n",
    "    figsize=(10, 1 + 0.5 * len(display_generation_to_upload_period_pivot_df)))\n",
    "generation_to_upload_period_pivot_table_ax.set_title(\n",
    "    \"Shared TEKs Generation to Upload Period Table\")\n",
    "sns.heatmap(\n",
    "    data=display_generation_to_upload_period_pivot_df\n",
    "        .rename_axis(columns=display_column_name_mapping)\n",
    "        .rename_axis(index=display_column_name_mapping),\n",
    "    fmt=\".0f\",\n",
    "    annot=True,\n",
    "    ax=generation_to_upload_period_pivot_table_ax)\n",
    "generation_to_upload_period_pivot_table_ax.get_figure().tight_layout()"
   ]
  },
  {
   "cell_type": "markdown",
   "metadata": {
    "execution": {
     "iopub.execute_input": "2020-09-02T08:20:16.278300Z",
     "iopub.status.busy": "2020-09-02T08:20:16.277679Z",
     "iopub.status.idle": "2020-09-02T08:20:16.821909Z",
     "shell.execute_reply": "2020-09-02T08:20:16.822577Z"
    },
    "papermill": {
     "duration": 0.073931,
     "end_time": "2020-10-15T09:23:53.585656",
     "exception": false,
     "start_time": "2020-10-15T09:23:53.511725",
     "status": "completed"
    },
    "pycharm": {
     "name": "#%% md\n"
    },
    "tags": []
   },
   "source": [
    "### Hourly Summary Plots "
   ]
  },
  {
   "cell_type": "code",
   "execution_count": 53,
   "metadata": {
    "execution": {
     "iopub.execute_input": "2020-10-15T09:23:53.767486Z",
     "iopub.status.busy": "2020-10-15T09:23:53.765474Z",
     "iopub.status.idle": "2020-10-15T09:23:54.261513Z",
     "shell.execute_reply": "2020-10-15T09:23:54.262035Z"
    },
    "papermill": {
     "duration": 0.606329,
     "end_time": "2020-10-15T09:23:54.262191",
     "exception": false,
     "start_time": "2020-10-15T09:23:53.655862",
     "status": "completed"
    },
    "pycharm": {
     "name": "#%%\n"
    },
    "tags": []
   },
   "outputs": [
    {
     "data": {
      "image/png": "[encoded data removed]",
      "text/plain": [
       "<Figure size 1080x432 with 2 Axes>"
      ]
     },
     "metadata": {},
     "output_type": "display_data"
    }
   ],
   "source": [
    "hourly_summary_ax_list = hourly_summary_df \\\n",
    "    .rename_axis(index=display_column_name_mapping) \\\n",
    "    .rename(columns=display_column_name_mapping) \\\n",
    "    .plot.bar(\n",
    "        title=f\"Last 24h Summary\",\n",
    "        rot=45, subplots=True, legend=False)\n",
    "ax_ = hourly_summary_ax_list[-1]\n",
    "ax_.get_figure().tight_layout()\n",
    "ax_.get_figure().subplots_adjust(top=0.9)\n",
    "_ = ax_.set_xticklabels(sorted(hourly_summary_df.index.strftime(\"%Y-%m-%d@%H\").tolist()))"
   ]
  },
  {
   "cell_type": "markdown",
   "metadata": {
    "execution": {
     "iopub.execute_input": "2020-09-02T08:20:16.981187Z",
     "iopub.status.busy": "2020-09-02T08:20:16.980584Z",
     "iopub.status.idle": "2020-09-02T08:20:20.068070Z",
     "shell.execute_reply": "2020-09-02T08:20:20.068598Z"
    },
    "papermill": {
     "duration": 0.076684,
     "end_time": "2020-10-15T09:23:54.415665",
     "exception": false,
     "start_time": "2020-10-15T09:23:54.338981",
     "status": "completed"
    },
    "pycharm": {
     "name": "#%% md\n"
    },
    "tags": []
   },
   "source": [
    "### Publish Results"
   ]
  },
  {
   "cell_type": "code",
   "execution_count": 54,
   "metadata": {
    "collapsed": false,
    "execution": {
     "iopub.execute_input": "2020-10-15T09:23:54.575500Z",
     "iopub.status.busy": "2020-10-15T09:23:54.574016Z",
     "iopub.status.idle": "2020-10-15T09:23:54.576235Z",
     "shell.execute_reply": "2020-10-15T09:23:54.576761Z"
    },
    "papermill": {
     "duration": 0.08323,
     "end_time": "2020-10-15T09:23:54.576934",
     "exception": false,
     "start_time": "2020-10-15T09:23:54.493704",
     "status": "completed"
    },
    "pycharm": {
     "name": "#%%\n"
    },
    "tags": []
   },
   "outputs": [],
   "source": [
    "def get_temporary_image_path() -> str:\n",
    "    return os.path.join(tempfile.gettempdir(), str(uuid.uuid4()) + \".png\")\n",
    "\n",
    "def save_temporary_plot_image(ax):\n",
    "    if isinstance(ax, np.ndarray):\n",
    "        ax = ax[0]\n",
    "    media_path = get_temporary_image_path()\n",
    "    ax.get_figure().savefig(media_path)\n",
    "    return media_path\n",
    "\n",
    "def save_temporary_dataframe_image(df):\n",
    "    import dataframe_image as dfi\n",
    "    media_path = get_temporary_image_path()\n",
    "    dfi.export(df, media_path)\n",
    "    return media_path"
   ]
  },
  {
   "cell_type": "code",
   "execution_count": 55,
   "metadata": {
    "collapsed": false,
    "execution": {
     "iopub.execute_input": "2020-10-15T09:23:54.747630Z",
     "iopub.status.busy": "2020-10-15T09:23:54.747020Z",
     "iopub.status.idle": "2020-10-15T09:23:54.750980Z",
     "shell.execute_reply": "2020-10-15T09:23:54.750495Z"
    },
    "papermill": {
     "duration": 0.099123,
     "end_time": "2020-10-15T09:23:54.751104",
     "exception": false,
     "start_time": "2020-10-15T09:23:54.651981",
     "status": "completed"
    },
    "pycharm": {
     "name": "#%%\n"
    },
    "tags": []
   },
   "outputs": [],
   "source": [
    "github_repository = os.environ.get(\"GITHUB_REPOSITORY\")\n",
    "if github_repository is None:\n",
    "    github_repository = \"pvieito/Radar-STATS\"\n",
    "\n",
    "github_project_base_url = \"https://github.com/\" + github_repository\n",
    "\n",
    "display_formatters = {\n",
    "    display_column_name_mapping[\"teks_per_shared_diagnosis\"]: lambda x: f\"{x:.2f}\",\n",
    "    display_column_name_mapping[\"shared_diagnoses_per_covid_case\"]: lambda x: f\"{x:.2%}\",\n",
    "}\n",
    "daily_summary_table_html = result_summary_with_display_names_df \\\n",
    "    .head(daily_plot_days) \\\n",
    "    .rename_axis(index=display_column_name_mapping) \\\n",
    "    .rename(columns=display_column_name_mapping) \\\n",
    "    .to_html(formatters=display_formatters)\n",
    "multi_region_summary_table_html = multi_region_summary_df \\\n",
    "    .head(daily_plot_days) \\\n",
    "    .rename_axis(columns=display_column_name_mapping) \\\n",
    "    .rename(columns=display_column_name_mapping) \\\n",
    "    .rename_axis(index=display_column_name_mapping) \\\n",
    "    .to_html(formatters=display_formatters)\n",
    "\n",
    "extraction_date_result_summary_df = \\\n",
    "    result_summary_df[result_summary_df.index == extraction_date]\n",
    "extraction_date_result_hourly_summary_df = \\\n",
    "    hourly_summary_df[hourly_summary_df.extraction_date_with_hour == extraction_date_with_hour]\n",
    "\n",
    "covid_cases = \\\n",
    "    extraction_date_result_summary_df.covid_cases.sum()\n",
    "shared_teks_by_generation_date = \\\n",
    "    extraction_date_result_summary_df.shared_teks_by_generation_date.sum()\n",
    "shared_teks_by_upload_date = \\\n",
    "    extraction_date_result_summary_df.shared_teks_by_upload_date.sum()\n",
    "shared_diagnoses = \\\n",
    "    extraction_date_result_summary_df.shared_diagnoses.sum()\n",
    "teks_per_shared_diagnosis = \\\n",
    "    extraction_date_result_summary_df.teks_per_shared_diagnosis.sum()\n",
    "shared_diagnoses_per_covid_case = \\\n",
    "    extraction_date_result_summary_df.shared_diagnoses_per_covid_case.sum()\n",
    "\n",
    "shared_teks_by_upload_date_last_hour = \\\n",
    "    extraction_date_result_hourly_summary_df.shared_teks_by_upload_date.sum().astype(int)\n",
    "shared_diagnoses_last_hour = \\\n",
    "    extraction_date_result_hourly_summary_df.shared_diagnoses.sum().astype(int)"
   ]
  },
  {
   "cell_type": "code",
   "execution_count": 56,
   "metadata": {
    "execution": {
     "iopub.execute_input": "2020-10-15T09:23:54.905038Z",
     "iopub.status.busy": "2020-10-15T09:23:54.904580Z",
     "iopub.status.idle": "2020-10-15T09:24:10.296937Z",
     "shell.execute_reply": "2020-10-15T09:24:10.297708Z"
    },
    "papermill": {
     "duration": 15.471468,
     "end_time": "2020-10-15T09:24:10.297888",
     "exception": false,
     "start_time": "2020-10-15T09:23:54.826420",
     "status": "completed"
    },
    "pycharm": {
     "name": "#%%\n"
    },
    "tags": []
   },
   "outputs": [],
   "source": [
    "summary_plots_image_path = save_temporary_plot_image(\n",
    "    ax=summary_ax_list)\n",
    "summary_table_image_path = save_temporary_dataframe_image(\n",
    "    df=result_summary_with_display_names_df)\n",
    "hourly_summary_plots_image_path = save_temporary_plot_image(\n",
    "    ax=hourly_summary_ax_list)\n",
    "multi_region_summary_table_image_path = save_temporary_dataframe_image(\n",
    "    df=multi_region_summary_df)\n",
    "generation_to_upload_period_pivot_table_image_path = save_temporary_plot_image(\n",
    "    ax=generation_to_upload_period_pivot_table_ax)"
   ]
  },
  {
   "cell_type": "markdown",
   "metadata": {
    "execution": {
     "iopub.execute_input": "2020-09-02T08:20:20.895901Z",
     "iopub.status.busy": "2020-09-02T08:20:20.895301Z",
     "iopub.status.idle": "2020-09-02T08:20:20.942286Z",
     "shell.execute_reply": "2020-09-02T08:20:20.942834Z"
    },
    "papermill": {
     "duration": 0.071215,
     "end_time": "2020-10-15T09:24:10.443387",
     "exception": false,
     "start_time": "2020-10-15T09:24:10.372172",
     "status": "completed"
    },
    "pycharm": {
     "name": "#%% md\n"
    },
    "tags": []
   },
   "source": [
    "### Save Results"
   ]
  },
  {
   "cell_type": "code",
   "execution_count": 57,
   "metadata": {
    "collapsed": false,
    "execution": {
     "iopub.execute_input": "2020-10-15T09:24:10.596216Z",
     "iopub.status.busy": "2020-10-15T09:24:10.595633Z",
     "iopub.status.idle": "2020-10-15T09:24:10.618737Z",
     "shell.execute_reply": "2020-10-15T09:24:10.619477Z"
    },
    "papermill": {
     "duration": 0.106432,
     "end_time": "2020-10-15T09:24:10.619720",
     "exception": false,
     "start_time": "2020-10-15T09:24:10.513288",
     "status": "completed"
    },
    "pycharm": {
     "name": "#%%\n"
    },
    "tags": []
   },
   "outputs": [],
   "source": [
    "report_resources_path_prefix = \"Data/Resources/Current/RadarCOVID-Report-\"\n",
    "result_summary_df.to_csv(\n",
    "    report_resources_path_prefix + \"Summary-Table.csv\")\n",
    "result_summary_df.to_html(\n",
    "    report_resources_path_prefix + \"Summary-Table.html\")\n",
    "hourly_summary_df.to_csv(\n",
    "    report_resources_path_prefix + \"Hourly-Summary-Table.csv\")\n",
    "multi_region_summary_df.to_csv(\n",
    "    report_resources_path_prefix + \"Multi-Region-Summary-Table.csv\")\n",
    "generation_to_upload_period_pivot_df.to_csv(\n",
    "    report_resources_path_prefix + \"Generation-Upload-Period-Table.csv\")\n",
    "_ = shutil.copyfile(\n",
    "    summary_plots_image_path,\n",
    "    report_resources_path_prefix + \"Summary-Plots.png\")\n",
    "_ = shutil.copyfile(\n",
    "    summary_table_image_path,\n",
    "    report_resources_path_prefix + \"Summary-Table.png\")\n",
    "_ = shutil.copyfile(\n",
    "    hourly_summary_plots_image_path,\n",
    "    report_resources_path_prefix + \"Hourly-Summary-Plots.png\")\n",
    "_ = shutil.copyfile(\n",
    "    multi_region_summary_table_image_path,\n",
    "    report_resources_path_prefix + \"Multi-Region-Summary-Table.png\")\n",
    "_ = shutil.copyfile(\n",
    "    generation_to_upload_period_pivot_table_image_path,\n",
    "    report_resources_path_prefix + \"Generation-Upload-Period-Table.png\")"
   ]
  },
  {
   "cell_type": "markdown",
   "metadata": {
    "collapsed": false,
    "papermill": {
     "duration": 0.074709,
     "end_time": "2020-10-15T09:24:10.786185",
     "exception": false,
     "start_time": "2020-10-15T09:24:10.711476",
     "status": "completed"
    },
    "pycharm": {
     "name": "#%% md\n"
    },
    "tags": []
   },
   "source": [
    "### Publish Results as JSON"
   ]
  },
  {
   "cell_type": "code",
   "execution_count": 58,
   "metadata": {
    "collapsed": false,
    "execution": {
     "iopub.execute_input": "2020-10-15T09:24:10.949322Z",
     "iopub.status.busy": "2020-10-15T09:24:10.948752Z",
     "iopub.status.idle": "2020-10-15T09:24:10.953423Z",
     "shell.execute_reply": "2020-10-15T09:24:10.953935Z"
    },
    "papermill": {
     "duration": 0.091948,
     "end_time": "2020-10-15T09:24:10.954085",
     "exception": false,
     "start_time": "2020-10-15T09:24:10.862137",
     "status": "completed"
    },
    "pycharm": {
     "name": "#%%\n"
    },
    "tags": []
   },
   "outputs": [],
   "source": [
    "summary_results_api_df = result_summary_df.reset_index()\n",
    "summary_results_api_df[\"sample_date_string\"] = \\\n",
    "    summary_results_api_df[\"sample_date\"].dt.strftime(\"%Y-%m-%d\")\n",
    "\n",
    "summary_results = dict(\n",
    "    extraction_datetime=extraction_datetime,\n",
    "    extraction_date=extraction_date,\n",
    "    extraction_date_with_hour=extraction_date_with_hour,\n",
    "    last_hour=dict(\n",
    "        shared_teks_by_upload_date=shared_teks_by_upload_date_last_hour,\n",
    "        shared_diagnoses=shared_diagnoses_last_hour,\n",
    "    ),\n",
    "    today=dict(\n",
    "        covid_cases=covid_cases,\n",
    "        shared_teks_by_generation_date=shared_teks_by_generation_date,\n",
    "        shared_teks_by_upload_date=shared_teks_by_upload_date,\n",
    "        shared_diagnoses=shared_diagnoses,\n",
    "        teks_per_shared_diagnosis=teks_per_shared_diagnosis,\n",
    "        shared_diagnoses_per_covid_case=shared_diagnoses_per_covid_case,\n",
    "    ),\n",
    "    last_7_days=last_7_days_summary,\n",
    "    daily_results=summary_results_api_df.to_dict(orient=\"records\"))\n",
    "summary_results = \\\n",
    "    json.loads(pd.Series([summary_results]).to_json(orient=\"records\"))[0]\n",
    "\n",
    "with open(report_resources_path_prefix + \"Summary-Results.json\", \"w\") as f:\n",
    "    json.dump(summary_results, f, indent=4)"
   ]
  },
  {
   "cell_type": "markdown",
   "metadata": {
    "collapsed": false,
    "papermill": {
     "duration": 0.078345,
     "end_time": "2020-10-15T09:24:11.111862",
     "exception": false,
     "start_time": "2020-10-15T09:24:11.033517",
     "status": "completed"
    },
    "pycharm": {
     "name": "#%% md\n"
    },
    "tags": []
   },
   "source": [
    "### Publish on README"
   ]
  },
  {
   "cell_type": "code",
   "execution_count": 59,
   "metadata": {
    "collapsed": false,
    "execution": {
     "iopub.execute_input": "2020-10-15T09:24:11.284575Z",
     "iopub.status.busy": "2020-10-15T09:24:11.283974Z",
     "iopub.status.idle": "2020-10-15T09:24:11.287590Z",
     "shell.execute_reply": "2020-10-15T09:24:11.288121Z"
    },
    "papermill": {
     "duration": 0.090432,
     "end_time": "2020-10-15T09:24:11.288275",
     "exception": false,
     "start_time": "2020-10-15T09:24:11.197843",
     "status": "completed"
    },
    "pycharm": {
     "name": "#%%\n"
    },
    "tags": []
   },
   "outputs": [],
   "source": [
    "with open(\"Data/Templates/README.md\", \"r\") as f:\n",
    "    readme_contents = f.read()\n",
    "\n",
    "readme_contents = readme_contents.format(\n",
    "    extraction_date_with_hour=extraction_date_with_hour,\n",
    "    github_project_base_url=github_project_base_url,\n",
    "    daily_summary_table_html=daily_summary_table_html,\n",
    "    multi_region_summary_table_html=multi_region_summary_table_html)\n",
    "\n",
    "with open(\"README.md\", \"w\") as f:\n",
    "    f.write(readme_contents)"
   ]
  },
  {
   "cell_type": "markdown",
   "metadata": {
    "collapsed": false,
    "papermill": {
     "duration": 0.08418,
     "end_time": "2020-10-15T09:24:11.451486",
     "exception": false,
     "start_time": "2020-10-15T09:24:11.367306",
     "status": "completed"
    },
    "pycharm": {
     "name": "#%% md\n"
    },
    "tags": []
   },
   "source": [
    "### Publish on Twitter"
   ]
  },
  {
   "cell_type": "code",
   "execution_count": 60,
   "metadata": {
    "collapsed": false,
    "execution": {
     "iopub.execute_input": "2020-10-15T09:24:11.623205Z",
     "iopub.status.busy": "2020-10-15T09:24:11.622620Z",
     "iopub.status.idle": "2020-10-15T09:24:15.740392Z",
     "shell.execute_reply": "2020-10-15T09:24:15.739804Z"
    },
    "papermill": {
     "duration": 4.203542,
     "end_time": "2020-10-15T09:24:15.740505",
     "exception": false,
     "start_time": "2020-10-15T09:24:11.536963",
     "status": "completed"
    },
    "pycharm": {
     "name": "#%%\n"
    },
    "tags": []
   },
   "outputs": [],
   "source": [
    "enable_share_to_twitter = os.environ.get(\"RADARCOVID_REPORT__ENABLE_PUBLISH_ON_TWITTER\")\n",
    "github_event_name = os.environ.get(\"GITHUB_EVENT_NAME\")\n",
    "\n",
    "if enable_share_to_twitter and github_event_name == \"schedule\":\n",
    "    import tweepy\n",
    "\n",
    "    twitter_api_auth_keys = os.environ[\"RADARCOVID_REPORT__TWITTER_API_AUTH_KEYS\"]\n",
    "    twitter_api_auth_keys = twitter_api_auth_keys.split(\":\")\n",
    "    auth = tweepy.OAuthHandler(twitter_api_auth_keys[0], twitter_api_auth_keys[1])\n",
    "    auth.set_access_token(twitter_api_auth_keys[2], twitter_api_auth_keys[3])\n",
    "\n",
    "    api = tweepy.API(auth)\n",
    "\n",
    "    summary_plots_media = api.media_upload(summary_plots_image_path)\n",
    "    summary_table_media = api.media_upload(summary_table_image_path)\n",
    "    generation_to_upload_period_pivot_table_image_media = api.media_upload(generation_to_upload_period_pivot_table_image_path)\n",
    "    media_ids = [\n",
    "        summary_plots_media.media_id,\n",
    "        summary_table_media.media_id,\n",
    "        generation_to_upload_period_pivot_table_image_media.media_id,\n",
    "    ]\n",
    "\n",
    "    status = textwrap.dedent(f\"\"\"\n",
    "        #RadarCOVID Report – {extraction_date_with_hour}\n",
    "\n",
    "        Today:\n",
    "        - Uploaded TEKs: {shared_teks_by_upload_date:.0f} ({shared_teks_by_upload_date_last_hour:+d} last hour)\n",
    "        - Shared Diagnoses: ≤{shared_diagnoses:.0f} ({shared_diagnoses_last_hour:+d} last hour)\n",
    "        - TEKs per Diagnosis: ≥{teks_per_shared_diagnosis:.1f}\n",
    "        - Usage Ratio: ≤{shared_diagnoses_per_covid_case:.2%}\n",
    "\n",
    "        Week:\n",
    "        - Shared Diagnoses: ≤{last_7_days_summary[\"shared_diagnoses\"]:.0f}\n",
    "        - Usage Ratio: ≤{last_7_days_summary[\"shared_diagnoses_per_covid_case\"]:.2%}\n",
    "\n",
    "        More Info: {github_project_base_url}#documentation\n",
    "        \"\"\")\n",
    "    status = status.encode(encoding=\"utf-8\")\n",
    "    api.update_status(status=status, media_ids=media_ids)"
   ]
  },
  {
   "cell_type": "code",
   "execution_count": null,
   "metadata": {
    "collapsed": false,
    "papermill": {
     "duration": 0.075227,
     "end_time": "2020-10-15T09:24:15.893144",
     "exception": false,
     "start_time": "2020-10-15T09:24:15.817917",
     "status": "completed"
    },
    "pycharm": {
     "name": "#%%\n"
    },
    "tags": []
   },
   "outputs": [],
   "source": []
  }
 ],
 "metadata": {
  "kernelspec": {
   "display_name": "Python 3",
   "language": "python",
   "name": "python3"
  },
  "language_info": {
   "codemirror_mode": {
    "name": "ipython",
    "version": 3
   },
   "file_extension": ".py",
   "mimetype": "text/x-python",
   "name": "python",
   "nbconvert_exporter": "python",
   "pygments_lexer": "ipython3",
   "version": "3.8.6"
  },
  "papermill": {
   "duration": 78.36042,
   "end_time": "2020-10-15T09:24:16.580156",
   "environment_variables": {},
   "exception": null,
   "input_path": "Notebooks/RadarCOVID-Report/Source/RadarCOVID-Report.ipynb",
   "output_path": "RadarCOVID-Report.ipynb",
   "parameters": {},
   "start_time": "2020-10-15T09:22:58.219736",
   "version": "2.1.3"
  }
 },
 "nbformat": 4,
 "nbformat_minor": 1
}