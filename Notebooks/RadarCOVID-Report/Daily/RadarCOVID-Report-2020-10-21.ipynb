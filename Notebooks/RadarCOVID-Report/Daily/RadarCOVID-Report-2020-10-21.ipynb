{
 "cells": [
  {
   "cell_type": "markdown",
   "metadata": {
    "papermill": {
     "duration": 0.041265,
     "end_time": "2020-10-21T06:26:29.653884",
     "exception": false,
     "start_time": "2020-10-21T06:26:29.612619",
     "status": "completed"
    },
    "pycharm": {
     "name": "#%% md\n"
    },
    "tags": []
   },
   "source": [
    "# RadarCOVID-Report"
   ]
  },
  {
   "cell_type": "markdown",
   "metadata": {
    "collapsed": true,
    "papermill": {
     "duration": 0.037962,
     "end_time": "2020-10-21T06:26:29.731356",
     "exception": false,
     "start_time": "2020-10-21T06:26:29.693394",
     "status": "completed"
    },
    "pycharm": {
     "name": "#%% md\n"
    },
    "tags": []
   },
   "source": [
    "## Data Extraction"
   ]
  },
  {
   "cell_type": "code",
   "execution_count": 1,
   "metadata": {
    "execution": {
     "iopub.execute_input": "2020-10-21T06:26:29.814978Z",
     "iopub.status.busy": "2020-10-21T06:26:29.814420Z",
     "iopub.status.idle": "2020-10-21T06:26:31.074836Z",
     "shell.execute_reply": "2020-10-21T06:26:31.074181Z"
    },
    "papermill": {
     "duration": 1.305035,
     "end_time": "2020-10-21T06:26:31.075027",
     "exception": false,
     "start_time": "2020-10-21T06:26:29.769992",
     "status": "completed"
    },
    "pycharm": {
     "name": "#%%\n"
    },
    "tags": []
   },
   "outputs": [],
   "source": [
    "import datetime\n",
    "import json\n",
    "import logging\n",
    "import os\n",
    "import shutil\n",
    "import tempfile\n",
    "import textwrap\n",
    "import uuid\n",
    "\n",
    "import matplotlib.ticker\n",
    "import numpy as np\n",
    "import pandas as pd\n",
    "import seaborn as sns\n",
    "\n",
    "%matplotlib inline"
   ]
  },
  {
   "cell_type": "code",
   "execution_count": 2,
   "metadata": {
    "collapsed": false,
    "execution": {
     "iopub.execute_input": "2020-10-21T06:26:31.167341Z",
     "iopub.status.busy": "2020-10-21T06:26:31.166392Z",
     "iopub.status.idle": "2020-10-21T06:26:31.176555Z",
     "shell.execute_reply": "2020-10-21T06:26:31.170085Z"
    },
    "papermill": {
     "duration": 0.06092,
     "end_time": "2020-10-21T06:26:31.176691",
     "exception": false,
     "start_time": "2020-10-21T06:26:31.115771",
     "status": "completed"
    },
    "pycharm": {
     "name": "#%%\n"
    },
    "tags": []
   },
   "outputs": [],
   "source": [
    "current_working_directory = os.environ.get(\"PWD\")\n",
    "if current_working_directory:\n",
    "    os.chdir(current_working_directory)\n",
    "\n",
    "sns.set()\n",
    "matplotlib.rcParams[\"figure.figsize\"] = (15, 6)\n",
    "\n",
    "extraction_datetime = datetime.datetime.utcnow()\n",
    "extraction_date = extraction_datetime.strftime(\"%Y-%m-%d\")\n",
    "extraction_previous_datetime = extraction_datetime - datetime.timedelta(days=1)\n",
    "extraction_previous_date = extraction_previous_datetime.strftime(\"%Y-%m-%d\")\n",
    "extraction_date_with_hour = datetime.datetime.utcnow().strftime(\"%Y-%m-%d@%H\")"
   ]
  },
  {
   "cell_type": "markdown",
   "metadata": {
    "collapsed": false,
    "papermill": {
     "duration": 0.037588,
     "end_time": "2020-10-21T06:26:31.252354",
     "exception": false,
     "start_time": "2020-10-21T06:26:31.214766",
     "status": "completed"
    },
    "tags": []
   },
   "source": [
    "### Constants"
   ]
  },
  {
   "cell_type": "code",
   "execution_count": 3,
   "metadata": {
    "execution": {
     "iopub.execute_input": "2020-10-21T06:26:31.335970Z",
     "iopub.status.busy": "2020-10-21T06:26:31.335301Z",
     "iopub.status.idle": "2020-10-21T06:26:31.337211Z",
     "shell.execute_reply": "2020-10-21T06:26:31.336684Z"
    },
    "papermill": {
     "duration": 0.046624,
     "end_time": "2020-10-21T06:26:31.337340",
     "exception": false,
     "start_time": "2020-10-21T06:26:31.290716",
     "status": "completed"
    },
    "pycharm": {
     "name": "#%%\n"
    },
    "tags": []
   },
   "outputs": [],
   "source": [
    "spain_region_country_name = \"Spain\"\n",
    "spain_region_country_code = \"ES\"\n",
    "\n",
    "backend_generation_days = 7 * 2\n",
    "daily_summary_days = 7 * 4 * 3\n",
    "daily_plot_days = 7 * 4\n",
    "tek_dumps_load_limit = daily_summary_days + 1"
   ]
  },
  {
   "cell_type": "markdown",
   "metadata": {
    "collapsed": false,
    "papermill": {
     "duration": 0.037798,
     "end_time": "2020-10-21T06:26:31.414292",
     "exception": false,
     "start_time": "2020-10-21T06:26:31.376494",
     "status": "completed"
    },
    "tags": []
   },
   "source": [
    "### Parameters"
   ]
  },
  {
   "cell_type": "code",
   "execution_count": 4,
   "metadata": {
    "collapsed": false,
    "execution": {
     "iopub.execute_input": "2020-10-21T06:26:31.493005Z",
     "iopub.status.busy": "2020-10-21T06:26:31.492432Z",
     "iopub.status.idle": "2020-10-21T06:26:31.494168Z",
     "shell.execute_reply": "2020-10-21T06:26:31.494560Z"
    },
    "papermill": {
     "duration": 0.043608,
     "end_time": "2020-10-21T06:26:31.494701",
     "exception": false,
     "start_time": "2020-10-21T06:26:31.451093",
     "status": "completed"
    },
    "pycharm": {
     "name": "#%%\n"
    },
    "tags": []
   },
   "outputs": [],
   "source": [
    "active_region_parameter = os.environ.get(\"RADARCOVID_REPORT__ACTIVE_REGION\")\n",
    "if active_region_parameter:\n",
    "    active_region_country_code, active_region_country_name = \\\n",
    "        active_region_parameter.split(\":\")\n",
    "else:\n",
    "    active_region_country_code, active_region_country_name = \\\n",
    "        spain_region_country_code, spain_region_country_name"
   ]
  },
  {
   "cell_type": "markdown",
   "metadata": {
    "collapsed": false,
    "papermill": {
     "duration": 0.036486,
     "end_time": "2020-10-21T06:26:31.568367",
     "exception": false,
     "start_time": "2020-10-21T06:26:31.531881",
     "status": "completed"
    },
    "pycharm": {
     "name": "#%% md\n"
    },
    "tags": []
   },
   "source": [
    "### COVID-19 Cases"
   ]
  },
  {
   "cell_type": "code",
   "execution_count": 5,
   "metadata": {
    "collapsed": false,
    "execution": {
     "iopub.execute_input": "2020-10-21T06:26:31.647424Z",
     "iopub.status.busy": "2020-10-21T06:26:31.646877Z",
     "iopub.status.idle": "2020-10-21T06:26:34.983913Z",
     "shell.execute_reply": "2020-10-21T06:26:34.984302Z"
    },
    "papermill": {
     "duration": 3.379693,
     "end_time": "2020-10-21T06:26:34.984473",
     "exception": false,
     "start_time": "2020-10-21T06:26:31.604780",
     "status": "completed"
    },
    "pycharm": {
     "name": "#%%\n"
    },
    "tags": []
   },
   "outputs": [
    {
     "data": {
      "text/html": [
       "<div>\n",
       "<style scoped>\n",
       "    .dataframe tbody tr th:only-of-type {\n",
       "        vertical-align: middle;\n",
       "    }\n",
       "\n",
       "    .dataframe tbody tr th {\n",
       "        vertical-align: top;\n",
       "    }\n",
       "\n",
       "    .dataframe thead th {\n",
       "        text-align: right;\n",
       "    }\n",
       "</style>\n",
       "<table border=\"1\" class=\"dataframe\">\n",
       "  <thead>\n",
       "    <tr style=\"text-align: right;\">\n",
       "      <th></th>\n",
       "      <th>Country_EN</th>\n",
       "      <th>Country_ES</th>\n",
       "      <th>Country_IT</th>\n",
       "      <th>Region</th>\n",
       "      <th>2020-01-23</th>\n",
       "      <th>2020-01-24</th>\n",
       "      <th>2020-01-25</th>\n",
       "      <th>2020-01-26</th>\n",
       "      <th>2020-01-27</th>\n",
       "      <th>2020-01-28</th>\n",
       "      <th>...</th>\n",
       "      <th>2020-10-11</th>\n",
       "      <th>2020-10-12</th>\n",
       "      <th>2020-10-13</th>\n",
       "      <th>2020-10-14</th>\n",
       "      <th>2020-10-15</th>\n",
       "      <th>2020-10-16</th>\n",
       "      <th>2020-10-17</th>\n",
       "      <th>2020-10-18</th>\n",
       "      <th>2020-10-19</th>\n",
       "      <th>2020-10-20</th>\n",
       "    </tr>\n",
       "  </thead>\n",
       "  <tbody>\n",
       "    <tr>\n",
       "      <th>233</th>\n",
       "      <td>Spain</td>\n",
       "      <td>España</td>\n",
       "      <td>Spagna</td>\n",
       "      <td>NaN</td>\n",
       "      <td>0.0</td>\n",
       "      <td>0.0</td>\n",
       "      <td>0.0</td>\n",
       "      <td>0.0</td>\n",
       "      <td>0.0</td>\n",
       "      <td>0.0</td>\n",
       "      <td>...</td>\n",
       "      <td>861112.0</td>\n",
       "      <td>888968.0</td>\n",
       "      <td>896086.0</td>\n",
       "      <td>908056.0</td>\n",
       "      <td>921374.0</td>\n",
       "      <td>936560.0</td>\n",
       "      <td>936560.0</td>\n",
       "      <td>936560.0</td>\n",
       "      <td>974449.0</td>\n",
       "      <td>988322.0</td>\n",
       "    </tr>\n",
       "  </tbody>\n",
       "</table>\n",
       "<p>1 rows × 276 columns</p>\n",
       "</div>"
      ],
      "text/plain": [
       "    Country_EN Country_ES Country_IT Region  2020-01-23  2020-01-24  \\\n",
       "233      Spain     España     Spagna    NaN         0.0         0.0   \n",
       "\n",
       "     2020-01-25  2020-01-26  2020-01-27  2020-01-28  ...  2020-10-11  \\\n",
       "233         0.0         0.0         0.0         0.0  ...    861112.0   \n",
       "\n",
       "     2020-10-12  2020-10-13  2020-10-14  2020-10-15  2020-10-16  2020-10-17  \\\n",
       "233    888968.0    896086.0    908056.0    921374.0    936560.0    936560.0   \n",
       "\n",
       "     2020-10-18  2020-10-19  2020-10-20  \n",
       "233    936560.0    974449.0    988322.0  \n",
       "\n",
       "[1 rows x 276 columns]"
      ]
     },
     "execution_count": 5,
     "metadata": {},
     "output_type": "execute_result"
    }
   ],
   "source": [
    "confirmed_df = pd.read_csv(\"https://covid19tracking.narrativa.com/csv/confirmed.csv\")\n",
    "\n",
    "radar_covid_countries = {active_region_country_name}\n",
    "\n",
    "confirmed_df = confirmed_df[confirmed_df[\"Country_EN\"].isin(radar_covid_countries)]\n",
    "confirmed_df = confirmed_df[pd.isna(confirmed_df.Region)]\n",
    "confirmed_df.head()"
   ]
  },
  {
   "cell_type": "code",
   "execution_count": 6,
   "metadata": {
    "collapsed": false,
    "execution": {
     "iopub.execute_input": "2020-10-21T06:26:35.117491Z",
     "iopub.status.busy": "2020-10-21T06:26:35.116909Z",
     "iopub.status.idle": "2020-10-21T06:26:35.136922Z",
     "shell.execute_reply": "2020-10-21T06:26:35.137706Z"
    },
    "papermill": {
     "duration": 0.116611,
     "end_time": "2020-10-21T06:26:35.137953",
     "exception": false,
     "start_time": "2020-10-21T06:26:35.021342",
     "status": "completed"
    },
    "pycharm": {
     "name": "#%%\n"
    },
    "tags": []
   },
   "outputs": [
    {
     "data": {
      "text/html": [
       "<div>\n",
       "<style scoped>\n",
       "    .dataframe tbody tr th:only-of-type {\n",
       "        vertical-align: middle;\n",
       "    }\n",
       "\n",
       "    .dataframe tbody tr th {\n",
       "        vertical-align: top;\n",
       "    }\n",
       "\n",
       "    .dataframe thead th {\n",
       "        text-align: right;\n",
       "    }\n",
       "</style>\n",
       "<table border=\"1\" class=\"dataframe\">\n",
       "  <thead>\n",
       "    <tr style=\"text-align: right;\">\n",
       "      <th></th>\n",
       "      <th>2020-01-23</th>\n",
       "      <th>2020-01-24</th>\n",
       "      <th>2020-01-25</th>\n",
       "      <th>2020-01-26</th>\n",
       "      <th>2020-01-27</th>\n",
       "      <th>2020-01-28</th>\n",
       "      <th>2020-01-29</th>\n",
       "      <th>2020-01-30</th>\n",
       "      <th>2020-01-31</th>\n",
       "      <th>2020-02-01</th>\n",
       "      <th>...</th>\n",
       "      <th>2020-10-11</th>\n",
       "      <th>2020-10-12</th>\n",
       "      <th>2020-10-13</th>\n",
       "      <th>2020-10-14</th>\n",
       "      <th>2020-10-15</th>\n",
       "      <th>2020-10-16</th>\n",
       "      <th>2020-10-17</th>\n",
       "      <th>2020-10-18</th>\n",
       "      <th>2020-10-19</th>\n",
       "      <th>2020-10-20</th>\n",
       "    </tr>\n",
       "  </thead>\n",
       "  <tbody>\n",
       "    <tr>\n",
       "      <th>233</th>\n",
       "      <td>0.0</td>\n",
       "      <td>0.0</td>\n",
       "      <td>0.0</td>\n",
       "      <td>0.0</td>\n",
       "      <td>0.0</td>\n",
       "      <td>0.0</td>\n",
       "      <td>0.0</td>\n",
       "      <td>0.0</td>\n",
       "      <td>0.0</td>\n",
       "      <td>1.0</td>\n",
       "      <td>...</td>\n",
       "      <td>861112.0</td>\n",
       "      <td>888968.0</td>\n",
       "      <td>896086.0</td>\n",
       "      <td>908056.0</td>\n",
       "      <td>921374.0</td>\n",
       "      <td>936560.0</td>\n",
       "      <td>936560.0</td>\n",
       "      <td>936560.0</td>\n",
       "      <td>974449.0</td>\n",
       "      <td>988322.0</td>\n",
       "    </tr>\n",
       "  </tbody>\n",
       "</table>\n",
       "<p>1 rows × 272 columns</p>\n",
       "</div>"
      ],
      "text/plain": [
       "     2020-01-23  2020-01-24  2020-01-25  2020-01-26  2020-01-27  2020-01-28  \\\n",
       "233         0.0         0.0         0.0         0.0         0.0         0.0   \n",
       "\n",
       "     2020-01-29  2020-01-30  2020-01-31  2020-02-01  ...  2020-10-11  \\\n",
       "233         0.0         0.0         0.0         1.0  ...    861112.0   \n",
       "\n",
       "     2020-10-12  2020-10-13  2020-10-14  2020-10-15  2020-10-16  2020-10-17  \\\n",
       "233    888968.0    896086.0    908056.0    921374.0    936560.0    936560.0   \n",
       "\n",
       "     2020-10-18  2020-10-19  2020-10-20  \n",
       "233    936560.0    974449.0    988322.0  \n",
       "\n",
       "[1 rows x 272 columns]"
      ]
     },
     "execution_count": 6,
     "metadata": {},
     "output_type": "execute_result"
    }
   ],
   "source": [
    "confirmed_country_columns = list(filter(lambda x: x.startswith(\"Country_\"), confirmed_df.columns))\n",
    "confirmed_regional_columns = confirmed_country_columns + [\"Region\"]\n",
    "confirmed_df.drop(columns=confirmed_regional_columns, inplace=True)\n",
    "confirmed_df.head()"
   ]
  },
  {
   "cell_type": "code",
   "execution_count": 7,
   "metadata": {
    "collapsed": false,
    "execution": {
     "iopub.execute_input": "2020-10-21T06:26:35.253533Z",
     "iopub.status.busy": "2020-10-21T06:26:35.251704Z",
     "iopub.status.idle": "2020-10-21T06:26:35.257843Z",
     "shell.execute_reply": "2020-10-21T06:26:35.258260Z"
    },
    "papermill": {
     "duration": 0.051379,
     "end_time": "2020-10-21T06:26:35.258413",
     "exception": false,
     "start_time": "2020-10-21T06:26:35.207034",
     "status": "completed"
    },
    "pycharm": {
     "name": "#%%\n"
    },
    "tags": []
   },
   "outputs": [
    {
     "data": {
      "text/html": [
       "<div>\n",
       "<style scoped>\n",
       "    .dataframe tbody tr th:only-of-type {\n",
       "        vertical-align: middle;\n",
       "    }\n",
       "\n",
       "    .dataframe tbody tr th {\n",
       "        vertical-align: top;\n",
       "    }\n",
       "\n",
       "    .dataframe thead th {\n",
       "        text-align: right;\n",
       "    }\n",
       "</style>\n",
       "<table border=\"1\" class=\"dataframe\">\n",
       "  <thead>\n",
       "    <tr style=\"text-align: right;\">\n",
       "      <th></th>\n",
       "      <th>0</th>\n",
       "    </tr>\n",
       "  </thead>\n",
       "  <tbody>\n",
       "    <tr>\n",
       "      <th>2020-10-16</th>\n",
       "      <td>936560.0</td>\n",
       "    </tr>\n",
       "    <tr>\n",
       "      <th>2020-10-17</th>\n",
       "      <td>936560.0</td>\n",
       "    </tr>\n",
       "    <tr>\n",
       "      <th>2020-10-18</th>\n",
       "      <td>936560.0</td>\n",
       "    </tr>\n",
       "    <tr>\n",
       "      <th>2020-10-19</th>\n",
       "      <td>974449.0</td>\n",
       "    </tr>\n",
       "    <tr>\n",
       "      <th>2020-10-20</th>\n",
       "      <td>988322.0</td>\n",
       "    </tr>\n",
       "  </tbody>\n",
       "</table>\n",
       "</div>"
      ],
      "text/plain": [
       "                   0\n",
       "2020-10-16  936560.0\n",
       "2020-10-17  936560.0\n",
       "2020-10-18  936560.0\n",
       "2020-10-19  974449.0\n",
       "2020-10-20  988322.0"
      ]
     },
     "execution_count": 7,
     "metadata": {},
     "output_type": "execute_result"
    }
   ],
   "source": [
    "confirmed_df = confirmed_df.sum().to_frame()\n",
    "confirmed_df.tail()"
   ]
  },
  {
   "cell_type": "code",
   "execution_count": 8,
   "metadata": {
    "collapsed": false,
    "execution": {
     "iopub.execute_input": "2020-10-21T06:26:35.373711Z",
     "iopub.status.busy": "2020-10-21T06:26:35.373139Z",
     "iopub.status.idle": "2020-10-21T06:26:35.382619Z",
     "shell.execute_reply": "2020-10-21T06:26:35.382246Z"
    },
    "papermill": {
     "duration": 0.086896,
     "end_time": "2020-10-21T06:26:35.382748",
     "exception": false,
     "start_time": "2020-10-21T06:26:35.295852",
     "status": "completed"
    },
    "pycharm": {
     "name": "#%%\n"
    },
    "tags": []
   },
   "outputs": [
    {
     "data": {
      "text/html": [
       "<div>\n",
       "<style scoped>\n",
       "    .dataframe tbody tr th:only-of-type {\n",
       "        vertical-align: middle;\n",
       "    }\n",
       "\n",
       "    .dataframe tbody tr th {\n",
       "        vertical-align: top;\n",
       "    }\n",
       "\n",
       "    .dataframe thead th {\n",
       "        text-align: right;\n",
       "    }\n",
       "</style>\n",
       "<table border=\"1\" class=\"dataframe\">\n",
       "  <thead>\n",
       "    <tr style=\"text-align: right;\">\n",
       "      <th></th>\n",
       "      <th>sample_date_string</th>\n",
       "      <th>cumulative_cases</th>\n",
       "      <th>new_cases</th>\n",
       "      <th>covid_cases</th>\n",
       "    </tr>\n",
       "  </thead>\n",
       "  <tbody>\n",
       "    <tr>\n",
       "      <th>267</th>\n",
       "      <td>2020-10-16</td>\n",
       "      <td>936560.0</td>\n",
       "      <td>15186.0</td>\n",
       "      <td>10778.0</td>\n",
       "    </tr>\n",
       "    <tr>\n",
       "      <th>268</th>\n",
       "      <td>2020-10-17</td>\n",
       "      <td>936560.0</td>\n",
       "      <td>0.0</td>\n",
       "      <td>10778.0</td>\n",
       "    </tr>\n",
       "    <tr>\n",
       "      <th>269</th>\n",
       "      <td>2020-10-18</td>\n",
       "      <td>936560.0</td>\n",
       "      <td>0.0</td>\n",
       "      <td>10778.0</td>\n",
       "    </tr>\n",
       "    <tr>\n",
       "      <th>270</th>\n",
       "      <td>2020-10-19</td>\n",
       "      <td>974449.0</td>\n",
       "      <td>37889.0</td>\n",
       "      <td>12212.0</td>\n",
       "    </tr>\n",
       "    <tr>\n",
       "      <th>271</th>\n",
       "      <td>2020-10-20</td>\n",
       "      <td>988322.0</td>\n",
       "      <td>13873.0</td>\n",
       "      <td>13177.0</td>\n",
       "    </tr>\n",
       "  </tbody>\n",
       "</table>\n",
       "</div>"
      ],
      "text/plain": [
       "    sample_date_string  cumulative_cases  new_cases  covid_cases\n",
       "267         2020-10-16          936560.0    15186.0      10778.0\n",
       "268         2020-10-17          936560.0        0.0      10778.0\n",
       "269         2020-10-18          936560.0        0.0      10778.0\n",
       "270         2020-10-19          974449.0    37889.0      12212.0\n",
       "271         2020-10-20          988322.0    13873.0      13177.0"
      ]
     },
     "execution_count": 8,
     "metadata": {},
     "output_type": "execute_result"
    }
   ],
   "source": [
    "confirmed_df.reset_index(inplace=True)\n",
    "confirmed_df.columns = [\"sample_date_string\", \"cumulative_cases\"]\n",
    "confirmed_df.sort_values(\"sample_date_string\", inplace=True)\n",
    "confirmed_df[\"new_cases\"] = confirmed_df.cumulative_cases.diff()\n",
    "confirmed_df[\"covid_cases\"] = confirmed_df.new_cases.rolling(7).mean().round()\n",
    "confirmed_df.tail()"
   ]
  },
  {
   "cell_type": "code",
   "execution_count": 9,
   "metadata": {
    "execution": {
     "iopub.execute_input": "2020-10-21T06:26:35.468290Z",
     "iopub.status.busy": "2020-10-21T06:26:35.467674Z",
     "iopub.status.idle": "2020-10-21T06:26:35.479043Z",
     "shell.execute_reply": "2020-10-21T06:26:35.479459Z"
    },
    "papermill": {
     "duration": 0.059638,
     "end_time": "2020-10-21T06:26:35.479614",
     "exception": false,
     "start_time": "2020-10-21T06:26:35.419976",
     "status": "completed"
    },
    "pycharm": {
     "name": "#%%\n"
    },
    "tags": []
   },
   "outputs": [
    {
     "data": {
      "text/html": [
       "<div>\n",
       "<style scoped>\n",
       "    .dataframe tbody tr th:only-of-type {\n",
       "        vertical-align: middle;\n",
       "    }\n",
       "\n",
       "    .dataframe tbody tr th {\n",
       "        vertical-align: top;\n",
       "    }\n",
       "\n",
       "    .dataframe thead th {\n",
       "        text-align: right;\n",
       "    }\n",
       "</style>\n",
       "<table border=\"1\" class=\"dataframe\">\n",
       "  <thead>\n",
       "    <tr style=\"text-align: right;\">\n",
       "      <th></th>\n",
       "      <th>sample_date_string</th>\n",
       "      <th>cumulative_cases</th>\n",
       "      <th>new_cases</th>\n",
       "      <th>covid_cases</th>\n",
       "    </tr>\n",
       "  </thead>\n",
       "  <tbody>\n",
       "    <tr>\n",
       "      <th>268</th>\n",
       "      <td>2020-10-17</td>\n",
       "      <td>936560.0</td>\n",
       "      <td>0.0</td>\n",
       "      <td>10778</td>\n",
       "    </tr>\n",
       "    <tr>\n",
       "      <th>269</th>\n",
       "      <td>2020-10-18</td>\n",
       "      <td>936560.0</td>\n",
       "      <td>0.0</td>\n",
       "      <td>10778</td>\n",
       "    </tr>\n",
       "    <tr>\n",
       "      <th>270</th>\n",
       "      <td>2020-10-19</td>\n",
       "      <td>974449.0</td>\n",
       "      <td>37889.0</td>\n",
       "      <td>12212</td>\n",
       "    </tr>\n",
       "    <tr>\n",
       "      <th>271</th>\n",
       "      <td>2020-10-20</td>\n",
       "      <td>988322.0</td>\n",
       "      <td>13873.0</td>\n",
       "      <td>13177</td>\n",
       "    </tr>\n",
       "    <tr>\n",
       "      <th>271</th>\n",
       "      <td>2020-10-21</td>\n",
       "      <td>1001499.0</td>\n",
       "      <td>13177.0</td>\n",
       "      <td>13177</td>\n",
       "    </tr>\n",
       "  </tbody>\n",
       "</table>\n",
       "</div>"
      ],
      "text/plain": [
       "    sample_date_string  cumulative_cases  new_cases  covid_cases\n",
       "268         2020-10-17          936560.0        0.0        10778\n",
       "269         2020-10-18          936560.0        0.0        10778\n",
       "270         2020-10-19          974449.0    37889.0        12212\n",
       "271         2020-10-20          988322.0    13873.0        13177\n",
       "271         2020-10-21         1001499.0    13177.0        13177"
      ]
     },
     "execution_count": 9,
     "metadata": {},
     "output_type": "execute_result"
    }
   ],
   "source": [
    "extraction_date_confirmed_df = \\\n",
    "    confirmed_df[confirmed_df.sample_date_string == extraction_date]\n",
    "extraction_previous_date_confirmed_df = \\\n",
    "    confirmed_df[confirmed_df.sample_date_string == extraction_previous_date].copy()\n",
    "\n",
    "if extraction_date_confirmed_df.empty and \\\n",
    "    not extraction_previous_date_confirmed_df.empty:\n",
    "        extraction_previous_date_confirmed_df[\"sample_date_string\"] = extraction_date\n",
    "        extraction_previous_date_confirmed_df[\"new_cases\"] = \\\n",
    "            extraction_previous_date_confirmed_df.covid_cases\n",
    "        extraction_previous_date_confirmed_df[\"cumulative_cases\"] = \\\n",
    "            extraction_previous_date_confirmed_df.new_cases + \\\n",
    "            extraction_previous_date_confirmed_df.cumulative_cases\n",
    "        confirmed_df = confirmed_df.append(extraction_previous_date_confirmed_df)\n",
    "\n",
    "confirmed_df[\"covid_cases\"] = confirmed_df.covid_cases.fillna(0).astype(int)\n",
    "confirmed_df.tail()"
   ]
  },
  {
   "cell_type": "code",
   "execution_count": 10,
   "metadata": {
    "execution": {
     "iopub.execute_input": "2020-10-21T06:26:35.563415Z",
     "iopub.status.busy": "2020-10-21T06:26:35.562684Z",
     "iopub.status.idle": "2020-10-21T06:26:35.780128Z",
     "shell.execute_reply": "2020-10-21T06:26:35.780952Z"
    },
    "papermill": {
     "duration": 0.261831,
     "end_time": "2020-10-21T06:26:35.781122",
     "exception": false,
     "start_time": "2020-10-21T06:26:35.519291",
     "status": "completed"
    },
    "pycharm": {
     "name": "#%%\n"
    },
    "tags": []
   },
   "outputs": [
    {
     "data": {
      "text/plain": [
       "<matplotlib.axes._subplots.AxesSubplot at 0x7f32021495b0>"
      ]
     },
     "execution_count": 10,
     "metadata": {},
     "output_type": "execute_result"
    },
    {
     "data": {
      "image/png": "[encoded data removed]",
      "text/plain": [
       "<Figure size 1080x432 with 1 Axes>"
      ]
     },
     "metadata": {},
     "output_type": "display_data"
    }
   ],
   "source": [
    "confirmed_df[[\"new_cases\", \"covid_cases\"]].plot()"
   ]
  },
  {
   "cell_type": "markdown",
   "metadata": {
    "execution": {
     "iopub.execute_input": "2020-08-30T22:30:16.351238Z",
     "iopub.status.busy": "2020-08-30T22:30:16.344579Z",
     "iopub.status.idle": "2020-08-30T22:30:16.354285Z",
     "shell.execute_reply": "2020-08-30T22:30:16.353641Z"
    },
    "papermill": {
     "duration": 0.041629,
     "end_time": "2020-10-21T06:26:35.866094",
     "exception": false,
     "start_time": "2020-10-21T06:26:35.824465",
     "status": "completed"
    },
    "pycharm": {
     "name": "#%% md\n"
    },
    "tags": []
   },
   "source": [
    "### Extract API TEKs"
   ]
  },
  {
   "cell_type": "code",
   "execution_count": 11,
   "metadata": {
    "execution": {
     "iopub.execute_input": "2020-10-21T06:26:35.962591Z",
     "iopub.status.busy": "2020-10-21T06:26:35.962025Z",
     "iopub.status.idle": "2020-10-21T06:28:27.947839Z",
     "shell.execute_reply": "2020-10-21T06:28:27.947320Z"
    },
    "papermill": {
     "duration": 112.037453,
     "end_time": "2020-10-21T06:28:27.947981",
     "exception": false,
     "start_time": "2020-10-21T06:26:35.910528",
     "status": "completed"
    },
    "pycharm": {
     "name": "#%%\n"
    },
    "tags": []
   },
   "outputs": [
    {
     "name": "stderr",
     "output_type": "stream",
     "text": [
      "WARNING:root:NoKeysFoundException(\"No exposure keys found on endpoint 'https://radarcovidpre.covid19.gob.es/dp3t/v1/gaen/exposed/1603238400000' (parameters: {'generation_date': '2020-10-21', 'endpoint_identifier_components': ['2020-10-21'], 'backend_identifier': 'ES@PRE', 'server_endpoint_url': 'https://radarcovidpre.covid19.gob.es/dp3t'}).\")\n"
     ]
    },
    {
     "name": "stderr",
     "output_type": "stream",
     "text": [
      "WARNING:root:NoKeysFoundException(\"No exposure keys found on endpoint 'https://stayaway.incm.pt/v1/gaen/exposed/1603238400000' (parameters: {'generation_date': '2020-10-21', 'endpoint_identifier_components': ['2020-10-21'], 'backend_identifier': 'PT', 'server_endpoint_url': 'https://stayaway.incm.pt'}).\")\n"
     ]
    },
    {
     "name": "stderr",
     "output_type": "stream",
     "text": [
      "WARNING:root:Error downloading exposure keys from backend 'DE-ES': HTTPError('404 Client Error: Not Found for url: https://svc90.main.px.t-online.de/version/v1/diagnosis-keys/country/ES/date')\n",
      "Traceback (most recent call last):\n",
      "  File \"/home/runner/work/Radar-STATS/Radar-STATS/Modules/ExposureNotification/exposure_notification_io.py\", line 83, in download_exposure_keys_from_backends\n",
      "    backend_exposure_keys_df = downloader.download_exposure_keys_with_parameters(**kwargs)\n",
      "  File \"/home/runner/work/Radar-STATS/Radar-STATS/Modules/ExposureNotification/Backends/base.py\", line 36, in download_exposure_keys_with_parameters\n",
      "    self.generate_exposure_keys_export_endpoints_with_parameters(**kwargs)\n",
      "  File \"/home/runner/work/Radar-STATS/Radar-STATS/Modules/ExposureNotification/Backends/corona_warn_app.py\", line 22, in generate_exposure_keys_export_endpoints_with_parameters\n",
      "    response.raise_for_status()\n",
      "  File \"/opt/hostedtoolcache/Python/3.8.6/x64/lib/python3.8/site-packages/requests/models.py\", line 941, in raise_for_status\n",
      "    raise HTTPError(http_error_msg, response=self)\n",
      "requests.exceptions.HTTPError: 404 Client Error: Not Found for url: https://svc90.main.px.t-online.de/version/v1/diagnosis-keys/country/ES/date\n"
     ]
    },
    {
     "name": "stderr",
     "output_type": "stream",
     "text": [
      "WARNING:root:Error downloading exposure keys from backend 'DE-IE': HTTPError('404 Client Error: Not Found for url: https://svc90.main.px.t-online.de/version/v1/diagnosis-keys/country/IE/date')\n",
      "Traceback (most recent call last):\n",
      "  File \"/home/runner/work/Radar-STATS/Radar-STATS/Modules/ExposureNotification/exposure_notification_io.py\", line 83, in download_exposure_keys_from_backends\n",
      "    backend_exposure_keys_df = downloader.download_exposure_keys_with_parameters(**kwargs)\n",
      "  File \"/home/runner/work/Radar-STATS/Radar-STATS/Modules/ExposureNotification/Backends/base.py\", line 36, in download_exposure_keys_with_parameters\n",
      "    self.generate_exposure_keys_export_endpoints_with_parameters(**kwargs)\n",
      "  File \"/home/runner/work/Radar-STATS/Radar-STATS/Modules/ExposureNotification/Backends/corona_warn_app.py\", line 22, in generate_exposure_keys_export_endpoints_with_parameters\n",
      "    response.raise_for_status()\n",
      "  File \"/opt/hostedtoolcache/Python/3.8.6/x64/lib/python3.8/site-packages/requests/models.py\", line 941, in raise_for_status\n",
      "    raise HTTPError(http_error_msg, response=self)\n",
      "requests.exceptions.HTTPError: 404 Client Error: Not Found for url: https://svc90.main.px.t-online.de/version/v1/diagnosis-keys/country/IE/date\n"
     ]
    },
    {
     "name": "stderr",
     "output_type": "stream",
     "text": [
      "WARNING:root:Error downloading exposure keys from backend 'DE-IT': HTTPError('404 Client Error: Not Found for url: https://svc90.main.px.t-online.de/version/v1/diagnosis-keys/country/IT/date')\n",
      "Traceback (most recent call last):\n",
      "  File \"/home/runner/work/Radar-STATS/Radar-STATS/Modules/ExposureNotification/exposure_notification_io.py\", line 83, in download_exposure_keys_from_backends\n",
      "    backend_exposure_keys_df = downloader.download_exposure_keys_with_parameters(**kwargs)\n",
      "  File \"/home/runner/work/Radar-STATS/Radar-STATS/Modules/ExposureNotification/Backends/base.py\", line 36, in download_exposure_keys_with_parameters\n",
      "    self.generate_exposure_keys_export_endpoints_with_parameters(**kwargs)\n",
      "  File \"/home/runner/work/Radar-STATS/Radar-STATS/Modules/ExposureNotification/Backends/corona_warn_app.py\", line 22, in generate_exposure_keys_export_endpoints_with_parameters\n",
      "    response.raise_for_status()\n",
      "  File \"/opt/hostedtoolcache/Python/3.8.6/x64/lib/python3.8/site-packages/requests/models.py\", line 941, in raise_for_status\n",
      "    raise HTTPError(http_error_msg, response=self)\n",
      "requests.exceptions.HTTPError: 404 Client Error: Not Found for url: https://svc90.main.px.t-online.de/version/v1/diagnosis-keys/country/IT/date\n"
     ]
    },
    {
     "name": "stderr",
     "output_type": "stream",
     "text": [
      "WARNING:root:Error downloading exposure keys from backend 'IT-ES': HTTPError('404 Client Error: Not Found for url: https://get.immuni.gov.it/v1/keys/eu/ES/index')\n",
      "Traceback (most recent call last):\n",
      "  File \"/home/runner/work/Radar-STATS/Radar-STATS/Modules/ExposureNotification/exposure_notification_io.py\", line 83, in download_exposure_keys_from_backends\n",
      "    backend_exposure_keys_df = downloader.download_exposure_keys_with_parameters(**kwargs)\n",
      "  File \"/home/runner/work/Radar-STATS/Radar-STATS/Modules/ExposureNotification/Backends/base.py\", line 36, in download_exposure_keys_with_parameters\n",
      "    self.generate_exposure_keys_export_endpoints_with_parameters(**kwargs)\n",
      "  File \"/home/runner/work/Radar-STATS/Radar-STATS/Modules/ExposureNotification/Backends/immuni.py\", line 27, in generate_exposure_keys_export_endpoints_with_parameters\n",
      "    response.raise_for_status()\n",
      "  File \"/opt/hostedtoolcache/Python/3.8.6/x64/lib/python3.8/site-packages/requests/models.py\", line 941, in raise_for_status\n",
      "    raise HTTPError(http_error_msg, response=self)\n",
      "requests.exceptions.HTTPError: 404 Client Error: Not Found for url: https://get.immuni.gov.it/v1/keys/eu/ES/index\n"
     ]
    },
    {
     "name": "stderr",
     "output_type": "stream",
     "text": [
      "WARNING:root:Error downloading exposure keys from backend 'IT-IE': HTTPError('404 Client Error: Not Found for url: https://get.immuni.gov.it/v1/keys/eu/IE/index')\n",
      "Traceback (most recent call last):\n",
      "  File \"/home/runner/work/Radar-STATS/Radar-STATS/Modules/ExposureNotification/exposure_notification_io.py\", line 83, in download_exposure_keys_from_backends\n",
      "    backend_exposure_keys_df = downloader.download_exposure_keys_with_parameters(**kwargs)\n",
      "  File \"/home/runner/work/Radar-STATS/Radar-STATS/Modules/ExposureNotification/Backends/base.py\", line 36, in download_exposure_keys_with_parameters\n",
      "    self.generate_exposure_keys_export_endpoints_with_parameters(**kwargs)\n",
      "  File \"/home/runner/work/Radar-STATS/Radar-STATS/Modules/ExposureNotification/Backends/immuni.py\", line 27, in generate_exposure_keys_export_endpoints_with_parameters\n",
      "    response.raise_for_status()\n",
      "  File \"/opt/hostedtoolcache/Python/3.8.6/x64/lib/python3.8/site-packages/requests/models.py\", line 941, in raise_for_status\n",
      "    raise HTTPError(http_error_msg, response=self)\n",
      "requests.exceptions.HTTPError: 404 Client Error: Not Found for url: https://get.immuni.gov.it/v1/keys/eu/IE/index\n"
     ]
    },
    {
     "name": "stderr",
     "output_type": "stream",
     "text": [
      "WARNING:root:Error downloading exposure keys from backend 'IT-DE': HTTPError('404 Client Error: Not Found for url: https://get.immuni.gov.it/v1/keys/eu/DE/index')\n",
      "Traceback (most recent call last):\n",
      "  File \"/home/runner/work/Radar-STATS/Radar-STATS/Modules/ExposureNotification/exposure_notification_io.py\", line 83, in download_exposure_keys_from_backends\n",
      "    backend_exposure_keys_df = downloader.download_exposure_keys_with_parameters(**kwargs)\n",
      "  File \"/home/runner/work/Radar-STATS/Radar-STATS/Modules/ExposureNotification/Backends/base.py\", line 36, in download_exposure_keys_with_parameters\n",
      "    self.generate_exposure_keys_export_endpoints_with_parameters(**kwargs)\n",
      "  File \"/home/runner/work/Radar-STATS/Radar-STATS/Modules/ExposureNotification/Backends/immuni.py\", line 27, in generate_exposure_keys_export_endpoints_with_parameters\n",
      "    response.raise_for_status()\n",
      "  File \"/opt/hostedtoolcache/Python/3.8.6/x64/lib/python3.8/site-packages/requests/models.py\", line 941, in raise_for_status\n",
      "    raise HTTPError(http_error_msg, response=self)\n",
      "requests.exceptions.HTTPError: 404 Client Error: Not Found for url: https://get.immuni.gov.it/v1/keys/eu/DE/index\n"
     ]
    },
    {
     "data": {
      "text/html": [
       "<div>\n",
       "<style scoped>\n",
       "    .dataframe tbody tr th:only-of-type {\n",
       "        vertical-align: middle;\n",
       "    }\n",
       "\n",
       "    .dataframe tbody tr th {\n",
       "        vertical-align: top;\n",
       "    }\n",
       "\n",
       "    .dataframe thead th {\n",
       "        text-align: right;\n",
       "    }\n",
       "</style>\n",
       "<table border=\"1\" class=\"dataframe\">\n",
       "  <thead>\n",
       "    <tr style=\"text-align: right;\">\n",
       "      <th></th>\n",
       "      <th>sample_datetime</th>\n",
       "      <th>sample_date_string</th>\n",
       "      <th>region</th>\n",
       "      <th>verification_key_version</th>\n",
       "      <th>verification_key_id</th>\n",
       "      <th>signature_algorithm</th>\n",
       "      <th>key_data</th>\n",
       "      <th>rolling_start_interval_number</th>\n",
       "      <th>rolling_period</th>\n",
       "      <th>transmission_risk_level</th>\n",
       "      <th>backend_identifier</th>\n",
       "    </tr>\n",
       "  </thead>\n",
       "  <tbody>\n",
       "    <tr>\n",
       "      <th>0</th>\n",
       "      <td>2020-10-21</td>\n",
       "      <td>2020-10-21</td>\n",
       "      <td>ES</td>\n",
       "      <td>V1</td>\n",
       "      <td>214</td>\n",
       "      <td>1.2.840.10045.4.3.2</td>\n",
       "      <td>1f4d2cad-b210-c391-b8c1-0f3668ef3f74</td>\n",
       "      <td>2672064</td>\n",
       "      <td>14</td>\n",
       "      <td>0</td>\n",
       "      <td>ES</td>\n",
       "    </tr>\n",
       "    <tr>\n",
       "      <th>1</th>\n",
       "      <td>2020-10-21</td>\n",
       "      <td>2020-10-21</td>\n",
       "      <td>ES</td>\n",
       "      <td>V1</td>\n",
       "      <td>214</td>\n",
       "      <td>1.2.840.10045.4.3.2</td>\n",
       "      <td>447aad8f-d897-7e94-be66-41629aabb166</td>\n",
       "      <td>2672064</td>\n",
       "      <td>4</td>\n",
       "      <td>0</td>\n",
       "      <td>ES</td>\n",
       "    </tr>\n",
       "    <tr>\n",
       "      <th>2</th>\n",
       "      <td>2020-10-21</td>\n",
       "      <td>2020-10-21</td>\n",
       "      <td>ES</td>\n",
       "      <td>V1</td>\n",
       "      <td>214</td>\n",
       "      <td>1.2.840.10045.4.3.2</td>\n",
       "      <td>c6826ca5-0ccb-afa8-1092-9a171f495330</td>\n",
       "      <td>2672064</td>\n",
       "      <td>3</td>\n",
       "      <td>0</td>\n",
       "      <td>ES</td>\n",
       "    </tr>\n",
       "    <tr>\n",
       "      <th>0</th>\n",
       "      <td>2020-10-20</td>\n",
       "      <td>2020-10-20</td>\n",
       "      <td>ES</td>\n",
       "      <td>V1</td>\n",
       "      <td>214</td>\n",
       "      <td>1.2.840.10045.4.3.2</td>\n",
       "      <td>90be9b1d-df8b-03d3-f036-bd97a0f4aa7a</td>\n",
       "      <td>2671920</td>\n",
       "      <td>144</td>\n",
       "      <td>0</td>\n",
       "      <td>ES</td>\n",
       "    </tr>\n",
       "    <tr>\n",
       "      <th>1</th>\n",
       "      <td>2020-10-20</td>\n",
       "      <td>2020-10-20</td>\n",
       "      <td>ES</td>\n",
       "      <td>V1</td>\n",
       "      <td>214</td>\n",
       "      <td>1.2.840.10045.4.3.2</td>\n",
       "      <td>3f7f3925-ee1b-d01b-29bb-51d6ee56f2c0</td>\n",
       "      <td>2671920</td>\n",
       "      <td>144</td>\n",
       "      <td>0</td>\n",
       "      <td>ES</td>\n",
       "    </tr>\n",
       "  </tbody>\n",
       "</table>\n",
       "</div>"
      ],
      "text/plain": [
       "  sample_datetime sample_date_string region verification_key_version  \\\n",
       "0      2020-10-21         2020-10-21     ES                       V1   \n",
       "1      2020-10-21         2020-10-21     ES                       V1   \n",
       "2      2020-10-21         2020-10-21     ES                       V1   \n",
       "0      2020-10-20         2020-10-20     ES                       V1   \n",
       "1      2020-10-20         2020-10-20     ES                       V1   \n",
       "\n",
       "  verification_key_id  signature_algorithm  \\\n",
       "0                 214  1.2.840.10045.4.3.2   \n",
       "1                 214  1.2.840.10045.4.3.2   \n",
       "2                 214  1.2.840.10045.4.3.2   \n",
       "0                 214  1.2.840.10045.4.3.2   \n",
       "1                 214  1.2.840.10045.4.3.2   \n",
       "\n",
       "                               key_data  rolling_start_interval_number  \\\n",
       "0  1f4d2cad-b210-c391-b8c1-0f3668ef3f74                        2672064   \n",
       "1  447aad8f-d897-7e94-be66-41629aabb166                        2672064   \n",
       "2  c6826ca5-0ccb-afa8-1092-9a171f495330                        2672064   \n",
       "0  90be9b1d-df8b-03d3-f036-bd97a0f4aa7a                        2671920   \n",
       "1  3f7f3925-ee1b-d01b-29bb-51d6ee56f2c0                        2671920   \n",
       "\n",
       "   rolling_period  transmission_risk_level backend_identifier  \n",
       "0              14                        0                 ES  \n",
       "1               4                        0                 ES  \n",
       "2               3                        0                 ES  \n",
       "0             144                        0                 ES  \n",
       "1             144                        0                 ES  "
      ]
     },
     "execution_count": 11,
     "metadata": {},
     "output_type": "execute_result"
    }
   ],
   "source": [
    "from Modules.ExposureNotification import exposure_notification_io\n",
    "\n",
    "raw_zip_path_prefix = \"Data/TEKs/Raw/\"\n",
    "fail_on_error_backend_identifiers = [active_region_country_code]\n",
    "multi_region_exposure_keys_df = \\\n",
    "    exposure_notification_io.download_exposure_keys_from_backends(\n",
    "        generation_days=backend_generation_days,\n",
    "        fail_on_error_backend_identifiers=fail_on_error_backend_identifiers,\n",
    "        save_raw_zip_path_prefix=raw_zip_path_prefix)\n",
    "multi_region_exposure_keys_df[\"region\"] = multi_region_exposure_keys_df[\"backend_identifier\"]\n",
    "multi_region_exposure_keys_df.rename(\n",
    "    columns={\n",
    "        \"generation_datetime\": \"sample_datetime\",\n",
    "        \"generation_date_string\": \"sample_date_string\",\n",
    "    },\n",
    "    inplace=True)\n",
    "multi_region_exposure_keys_df.head()"
   ]
  },
  {
   "cell_type": "code",
   "execution_count": 12,
   "metadata": {
    "collapsed": false,
    "execution": {
     "iopub.execute_input": "2020-10-21T06:28:28.038875Z",
     "iopub.status.busy": "2020-10-21T06:28:28.038324Z",
     "iopub.status.idle": "2020-10-21T06:28:28.235974Z",
     "shell.execute_reply": "2020-10-21T06:28:28.235456Z"
    },
    "papermill": {
     "duration": 0.24462,
     "end_time": "2020-10-21T06:28:28.236104",
     "exception": false,
     "start_time": "2020-10-21T06:28:27.991484",
     "status": "completed"
    },
    "pycharm": {
     "name": "#%%\n"
    },
    "tags": []
   },
   "outputs": [
    {
     "data": {
      "text/plain": [
       "<matplotlib.axes._subplots.AxesSubplot at 0x7f31fe179f70>"
      ]
     },
     "execution_count": 12,
     "metadata": {},
     "output_type": "execute_result"
    },
    {
     "data": {
      "image/png": "[encoded data removed]",
      "text/plain": [
       "<Figure size 1080x432 with 1 Axes>"
      ]
     },
     "metadata": {},
     "output_type": "display_data"
    }
   ],
   "source": [
    "early_teks_df = multi_region_exposure_keys_df[\n",
    "    multi_region_exposure_keys_df.rolling_period < 144].copy()\n",
    "early_teks_df[\"rolling_period_in_hours\"] = early_teks_df.rolling_period / 6\n",
    "early_teks_df[early_teks_df.sample_date_string != extraction_date] \\\n",
    "    .rolling_period_in_hours.hist(bins=list(range(24)))"
   ]
  },
  {
   "cell_type": "code",
   "execution_count": 13,
   "metadata": {
    "collapsed": false,
    "execution": {
     "iopub.execute_input": "2020-10-21T06:28:28.359567Z",
     "iopub.status.busy": "2020-10-21T06:28:28.359051Z",
     "iopub.status.idle": "2020-10-21T06:28:28.537034Z",
     "shell.execute_reply": "2020-10-21T06:28:28.537426Z"
    },
    "papermill": {
     "duration": 0.249828,
     "end_time": "2020-10-21T06:28:28.537587",
     "exception": false,
     "start_time": "2020-10-21T06:28:28.287759",
     "status": "completed"
    },
    "pycharm": {
     "name": "#%%\n"
    },
    "tags": []
   },
   "outputs": [
    {
     "data": {
      "text/plain": [
       "<matplotlib.axes._subplots.AxesSubplot at 0x7f31fe4e8b80>"
      ]
     },
     "execution_count": 13,
     "metadata": {},
     "output_type": "execute_result"
    },
    {
     "data": {
      "image/png": "[encoded data removed]",
      "text/plain": [
       "<Figure size 1080x432 with 1 Axes>"
      ]
     },
     "metadata": {},
     "output_type": "display_data"
    }
   ],
   "source": [
    "early_teks_df[early_teks_df.sample_date_string == extraction_date] \\\n",
    "    .rolling_period_in_hours.hist(bins=list(range(24)))"
   ]
  },
  {
   "cell_type": "code",
   "execution_count": 14,
   "metadata": {
    "collapsed": false,
    "execution": {
     "iopub.execute_input": "2020-10-21T06:28:28.634070Z",
     "iopub.status.busy": "2020-10-21T06:28:28.633518Z",
     "iopub.status.idle": "2020-10-21T06:28:28.643538Z",
     "shell.execute_reply": "2020-10-21T06:28:28.643123Z"
    },
    "papermill": {
     "duration": 0.060561,
     "end_time": "2020-10-21T06:28:28.643643",
     "exception": false,
     "start_time": "2020-10-21T06:28:28.583082",
     "status": "completed"
    },
    "pycharm": {
     "name": "#%%\n"
    },
    "tags": []
   },
   "outputs": [
    {
     "data": {
      "text/html": [
       "<div>\n",
       "<style scoped>\n",
       "    .dataframe tbody tr th:only-of-type {\n",
       "        vertical-align: middle;\n",
       "    }\n",
       "\n",
       "    .dataframe tbody tr th {\n",
       "        vertical-align: top;\n",
       "    }\n",
       "\n",
       "    .dataframe thead th {\n",
       "        text-align: right;\n",
       "    }\n",
       "</style>\n",
       "<table border=\"1\" class=\"dataframe\">\n",
       "  <thead>\n",
       "    <tr style=\"text-align: right;\">\n",
       "      <th></th>\n",
       "      <th>sample_date_string</th>\n",
       "      <th>region</th>\n",
       "      <th>key_data</th>\n",
       "    </tr>\n",
       "  </thead>\n",
       "  <tbody>\n",
       "    <tr>\n",
       "      <th>0</th>\n",
       "      <td>2020-10-21</td>\n",
       "      <td>ES</td>\n",
       "      <td>1f4d2cad-b210-c391-b8c1-0f3668ef3f74</td>\n",
       "    </tr>\n",
       "    <tr>\n",
       "      <th>1</th>\n",
       "      <td>2020-10-21</td>\n",
       "      <td>ES</td>\n",
       "      <td>447aad8f-d897-7e94-be66-41629aabb166</td>\n",
       "    </tr>\n",
       "    <tr>\n",
       "      <th>2</th>\n",
       "      <td>2020-10-21</td>\n",
       "      <td>ES</td>\n",
       "      <td>c6826ca5-0ccb-afa8-1092-9a171f495330</td>\n",
       "    </tr>\n",
       "    <tr>\n",
       "      <th>0</th>\n",
       "      <td>2020-10-20</td>\n",
       "      <td>ES</td>\n",
       "      <td>90be9b1d-df8b-03d3-f036-bd97a0f4aa7a</td>\n",
       "    </tr>\n",
       "    <tr>\n",
       "      <th>1</th>\n",
       "      <td>2020-10-20</td>\n",
       "      <td>ES</td>\n",
       "      <td>3f7f3925-ee1b-d01b-29bb-51d6ee56f2c0</td>\n",
       "    </tr>\n",
       "  </tbody>\n",
       "</table>\n",
       "</div>"
      ],
      "text/plain": [
       "  sample_date_string region                              key_data\n",
       "0         2020-10-21     ES  1f4d2cad-b210-c391-b8c1-0f3668ef3f74\n",
       "1         2020-10-21     ES  447aad8f-d897-7e94-be66-41629aabb166\n",
       "2         2020-10-21     ES  c6826ca5-0ccb-afa8-1092-9a171f495330\n",
       "0         2020-10-20     ES  90be9b1d-df8b-03d3-f036-bd97a0f4aa7a\n",
       "1         2020-10-20     ES  3f7f3925-ee1b-d01b-29bb-51d6ee56f2c0"
      ]
     },
     "execution_count": 14,
     "metadata": {},
     "output_type": "execute_result"
    }
   ],
   "source": [
    "multi_region_exposure_keys_df = multi_region_exposure_keys_df[[\n",
    "    \"sample_date_string\", \"region\", \"key_data\"]]\n",
    "multi_region_exposure_keys_df.head()"
   ]
  },
  {
   "cell_type": "code",
   "execution_count": 15,
   "metadata": {
    "collapsed": false,
    "execution": {
     "iopub.execute_input": "2020-10-21T06:28:28.741175Z",
     "iopub.status.busy": "2020-10-21T06:28:28.740667Z",
     "iopub.status.idle": "2020-10-21T06:28:28.969229Z",
     "shell.execute_reply": "2020-10-21T06:28:28.968699Z"
    },
    "papermill": {
     "duration": 0.279902,
     "end_time": "2020-10-21T06:28:28.969373",
     "exception": false,
     "start_time": "2020-10-21T06:28:28.689471",
     "status": "completed"
    },
    "pycharm": {
     "name": "#%%\n"
    },
    "tags": []
   },
   "outputs": [
    {
     "data": {
      "text/plain": [
       "['ES@PRE', 'PT', 'ES', 'BE', 'IT', 'CH']"
      ]
     },
     "execution_count": 15,
     "metadata": {},
     "output_type": "execute_result"
    }
   ],
   "source": [
    "active_regions = \\\n",
    "    multi_region_exposure_keys_df.groupby(\"region\").key_data.nunique().sort_values().index.unique().tolist()\n",
    "active_regions"
   ]
  },
  {
   "cell_type": "code",
   "execution_count": 16,
   "metadata": {
    "collapsed": false,
    "execution": {
     "iopub.execute_input": "2020-10-21T06:28:29.068061Z",
     "iopub.status.busy": "2020-10-21T06:28:29.066496Z",
     "iopub.status.idle": "2020-10-21T06:28:29.326343Z",
     "shell.execute_reply": "2020-10-21T06:28:29.326781Z"
    },
    "papermill": {
     "duration": 0.312896,
     "end_time": "2020-10-21T06:28:29.326934",
     "exception": false,
     "start_time": "2020-10-21T06:28:29.014038",
     "status": "completed"
    },
    "pycharm": {
     "name": "#%%\n"
    },
    "tags": []
   },
   "outputs": [
    {
     "data": {
      "text/html": [
       "<div>\n",
       "<style scoped>\n",
       "    .dataframe tbody tr th:only-of-type {\n",
       "        vertical-align: middle;\n",
       "    }\n",
       "\n",
       "    .dataframe tbody tr th {\n",
       "        vertical-align: top;\n",
       "    }\n",
       "\n",
       "    .dataframe thead tr th {\n",
       "        text-align: left;\n",
       "    }\n",
       "\n",
       "    .dataframe thead tr:last-of-type th {\n",
       "        text-align: right;\n",
       "    }\n",
       "</style>\n",
       "<table border=\"1\" class=\"dataframe\">\n",
       "  <thead>\n",
       "    <tr>\n",
       "      <th></th>\n",
       "      <th colspan=\"6\" halign=\"left\">shared_teks_by_generation_date</th>\n",
       "    </tr>\n",
       "    <tr>\n",
       "      <th>region</th>\n",
       "      <th>BE</th>\n",
       "      <th>CH</th>\n",
       "      <th>ES</th>\n",
       "      <th>ES@PRE</th>\n",
       "      <th>IT</th>\n",
       "      <th>PT</th>\n",
       "    </tr>\n",
       "    <tr>\n",
       "      <th>sample_date</th>\n",
       "      <th></th>\n",
       "      <th></th>\n",
       "      <th></th>\n",
       "      <th></th>\n",
       "      <th></th>\n",
       "      <th></th>\n",
       "    </tr>\n",
       "  </thead>\n",
       "  <tbody>\n",
       "    <tr>\n",
       "      <th>2020-10-21</th>\n",
       "      <td>0</td>\n",
       "      <td>1</td>\n",
       "      <td>3</td>\n",
       "      <td>0</td>\n",
       "      <td>0</td>\n",
       "      <td>0</td>\n",
       "    </tr>\n",
       "    <tr>\n",
       "      <th>2020-10-20</th>\n",
       "      <td>0</td>\n",
       "      <td>223</td>\n",
       "      <td>160</td>\n",
       "      <td>3</td>\n",
       "      <td>0</td>\n",
       "      <td>24</td>\n",
       "    </tr>\n",
       "    <tr>\n",
       "      <th>2020-10-19</th>\n",
       "      <td>291</td>\n",
       "      <td>704</td>\n",
       "      <td>281</td>\n",
       "      <td>34</td>\n",
       "      <td>454</td>\n",
       "      <td>67</td>\n",
       "    </tr>\n",
       "    <tr>\n",
       "      <th>2020-10-18</th>\n",
       "      <td>404</td>\n",
       "      <td>1089</td>\n",
       "      <td>393</td>\n",
       "      <td>44</td>\n",
       "      <td>468</td>\n",
       "      <td>119</td>\n",
       "    </tr>\n",
       "    <tr>\n",
       "      <th>2020-10-17</th>\n",
       "      <td>566</td>\n",
       "      <td>1477</td>\n",
       "      <td>533</td>\n",
       "      <td>47</td>\n",
       "      <td>496</td>\n",
       "      <td>140</td>\n",
       "    </tr>\n",
       "  </tbody>\n",
       "</table>\n",
       "</div>"
      ],
      "text/plain": [
       "            shared_teks_by_generation_date                            \n",
       "region                                  BE    CH   ES ES@PRE   IT   PT\n",
       "sample_date                                                           \n",
       "2020-10-21                               0     1    3      0    0    0\n",
       "2020-10-20                               0   223  160      3    0   24\n",
       "2020-10-19                             291   704  281     34  454   67\n",
       "2020-10-18                             404  1089  393     44  468  119\n",
       "2020-10-17                             566  1477  533     47  496  140"
      ]
     },
     "execution_count": 16,
     "metadata": {},
     "output_type": "execute_result"
    }
   ],
   "source": [
    "multi_region_summary_df = multi_region_exposure_keys_df.groupby(\n",
    "    [\"sample_date_string\", \"region\"]).key_data.nunique().reset_index() \\\n",
    "    .pivot(index=\"sample_date_string\", columns=\"region\") \\\n",
    "    .sort_index(ascending=False)\n",
    "multi_region_summary_df.rename(\n",
    "    columns={\"key_data\": \"shared_teks_by_generation_date\"},\n",
    "    inplace=True)\n",
    "multi_region_summary_df.rename_axis(\"sample_date\", inplace=True)\n",
    "multi_region_summary_df = multi_region_summary_df.fillna(0).astype(int)\n",
    "multi_region_summary_df = multi_region_summary_df.head(backend_generation_days)\n",
    "multi_region_summary_df.head()"
   ]
  },
  {
   "cell_type": "code",
   "execution_count": 17,
   "metadata": {
    "collapsed": false,
    "execution": {
     "iopub.execute_input": "2020-10-21T06:28:29.427959Z",
     "iopub.status.busy": "2020-10-21T06:28:29.427436Z",
     "iopub.status.idle": "2020-10-21T06:28:29.647152Z",
     "shell.execute_reply": "2020-10-21T06:28:29.647597Z"
    },
    "papermill": {
     "duration": 0.272701,
     "end_time": "2020-10-21T06:28:29.647761",
     "exception": false,
     "start_time": "2020-10-21T06:28:29.375060",
     "status": "completed"
    },
    "pycharm": {
     "name": "#%%\n"
    },
    "tags": []
   },
   "outputs": [
    {
     "data": {
      "text/plain": [
       "['ES@PRE', 'PT', 'BE', 'IT', 'CH']"
      ]
     },
     "execution_count": 17,
     "metadata": {},
     "output_type": "execute_result"
    }
   ],
   "source": [
    "multi_region_without_active_region_exposure_keys_df = \\\n",
    "    multi_region_exposure_keys_df[multi_region_exposure_keys_df.region != active_region_country_code]\n",
    "multi_region_without_active_region = \\\n",
    "    multi_region_without_active_region_exposure_keys_df.groupby(\"region\").key_data.nunique().sort_values().index.unique().tolist()\n",
    "multi_region_without_active_region"
   ]
  },
  {
   "cell_type": "code",
   "execution_count": 18,
   "metadata": {
    "execution": {
     "iopub.execute_input": "2020-10-21T06:28:29.753830Z",
     "iopub.status.busy": "2020-10-21T06:28:29.753279Z",
     "iopub.status.idle": "2020-10-21T06:28:29.798911Z",
     "shell.execute_reply": "2020-10-21T06:28:29.798418Z"
    },
    "papermill": {
     "duration": 0.103507,
     "end_time": "2020-10-21T06:28:29.799034",
     "exception": false,
     "start_time": "2020-10-21T06:28:29.695527",
     "status": "completed"
    },
    "scrolled": false,
    "tags": []
   },
   "outputs": [
    {
     "name": "stderr",
     "output_type": "stream",
     "text": [
      "/opt/hostedtoolcache/Python/3.8.6/x64/lib/python3.8/site-packages/pandas/core/frame.py:4110: SettingWithCopyWarning: \n",
      "A value is trying to be set on a copy of a slice from a DataFrame\n",
      "\n",
      "See the caveats in the documentation: http://pandas.pydata.org/pandas-docs/stable/user_guide/indexing.html#returning-a-view-versus-a-copy\n",
      "  return super().drop(\n"
     ]
    },
    {
     "data": {
      "text/html": [
       "<div>\n",
       "<style scoped>\n",
       "    .dataframe tbody tr th:only-of-type {\n",
       "        vertical-align: middle;\n",
       "    }\n",
       "\n",
       "    .dataframe tbody tr th {\n",
       "        vertical-align: top;\n",
       "    }\n",
       "\n",
       "    .dataframe thead th {\n",
       "        text-align: right;\n",
       "    }\n",
       "</style>\n",
       "<table border=\"1\" class=\"dataframe\">\n",
       "  <thead>\n",
       "    <tr style=\"text-align: right;\">\n",
       "      <th></th>\n",
       "      <th>shared_teks_by_generation_date</th>\n",
       "    </tr>\n",
       "    <tr>\n",
       "      <th>sample_date_string</th>\n",
       "      <th></th>\n",
       "    </tr>\n",
       "  </thead>\n",
       "  <tbody>\n",
       "    <tr>\n",
       "      <th>2020-10-21</th>\n",
       "      <td>3</td>\n",
       "    </tr>\n",
       "    <tr>\n",
       "      <th>2020-10-20</th>\n",
       "      <td>160</td>\n",
       "    </tr>\n",
       "    <tr>\n",
       "      <th>2020-10-19</th>\n",
       "      <td>281</td>\n",
       "    </tr>\n",
       "    <tr>\n",
       "      <th>2020-10-18</th>\n",
       "      <td>393</td>\n",
       "    </tr>\n",
       "    <tr>\n",
       "      <th>2020-10-17</th>\n",
       "      <td>533</td>\n",
       "    </tr>\n",
       "  </tbody>\n",
       "</table>\n",
       "</div>"
      ],
      "text/plain": [
       "                    shared_teks_by_generation_date\n",
       "sample_date_string                                \n",
       "2020-10-21                                       3\n",
       "2020-10-20                                     160\n",
       "2020-10-19                                     281\n",
       "2020-10-18                                     393\n",
       "2020-10-17                                     533"
      ]
     },
     "execution_count": 18,
     "metadata": {},
     "output_type": "execute_result"
    }
   ],
   "source": [
    "exposure_keys_summary_df = multi_region_exposure_keys_df[\n",
    "    multi_region_exposure_keys_df.region == active_region_country_code]\n",
    "exposure_keys_summary_df.drop(columns=[\"region\"], inplace=True)\n",
    "exposure_keys_summary_df = \\\n",
    "    exposure_keys_summary_df.groupby([\"sample_date_string\"]).key_data.nunique().to_frame()\n",
    "exposure_keys_summary_df = \\\n",
    "    exposure_keys_summary_df.reset_index().set_index(\"sample_date_string\")\n",
    "exposure_keys_summary_df.sort_index(ascending=False, inplace=True)\n",
    "exposure_keys_summary_df.rename(columns={\"key_data\": \"shared_teks_by_generation_date\"}, inplace=True)\n",
    "exposure_keys_summary_df.head()"
   ]
  },
  {
   "cell_type": "markdown",
   "metadata": {
    "papermill": {
     "duration": 0.047047,
     "end_time": "2020-10-21T06:28:29.892689",
     "exception": false,
     "start_time": "2020-10-21T06:28:29.845642",
     "status": "completed"
    },
    "tags": []
   },
   "source": [
    "### Dump API TEKs"
   ]
  },
  {
   "cell_type": "code",
   "execution_count": 19,
   "metadata": {
    "execution": {
     "iopub.execute_input": "2020-10-21T06:28:29.996156Z",
     "iopub.status.busy": "2020-10-21T06:28:29.993853Z",
     "iopub.status.idle": "2020-10-21T06:28:30.204870Z",
     "shell.execute_reply": "2020-10-21T06:28:30.205325Z"
    },
    "papermill": {
     "duration": 0.266449,
     "end_time": "2020-10-21T06:28:30.205490",
     "exception": false,
     "start_time": "2020-10-21T06:28:29.939041",
     "status": "completed"
    },
    "tags": []
   },
   "outputs": [
    {
     "data": {
      "text/html": [
       "<div>\n",
       "<style scoped>\n",
       "    .dataframe tbody tr th:only-of-type {\n",
       "        vertical-align: middle;\n",
       "    }\n",
       "\n",
       "    .dataframe tbody tr th {\n",
       "        vertical-align: top;\n",
       "    }\n",
       "\n",
       "    .dataframe thead th {\n",
       "        text-align: right;\n",
       "    }\n",
       "</style>\n",
       "<table border=\"1\" class=\"dataframe\">\n",
       "  <thead>\n",
       "    <tr style=\"text-align: right;\">\n",
       "      <th></th>\n",
       "      <th>sample_date</th>\n",
       "      <th>region</th>\n",
       "      <th>tek_list</th>\n",
       "      <th>extraction_date</th>\n",
       "      <th>extraction_date_with_hour</th>\n",
       "    </tr>\n",
       "  </thead>\n",
       "  <tbody>\n",
       "    <tr>\n",
       "      <th>0</th>\n",
       "      <td>2020-10-08</td>\n",
       "      <td>BE</td>\n",
       "      <td>[008471c2-df18-c069-d2dc-d49a1214dbb2, 00a761c...</td>\n",
       "      <td>2020-10-21</td>\n",
       "      <td>2020-10-21@06</td>\n",
       "    </tr>\n",
       "    <tr>\n",
       "      <th>1</th>\n",
       "      <td>2020-10-08</td>\n",
       "      <td>CH</td>\n",
       "      <td>[78d87099-ab83-8eff-dd34-4aa64c11cb23, cd07d2a...</td>\n",
       "      <td>2020-10-21</td>\n",
       "      <td>2020-10-21@06</td>\n",
       "    </tr>\n",
       "    <tr>\n",
       "      <th>2</th>\n",
       "      <td>2020-10-08</td>\n",
       "      <td>ES</td>\n",
       "      <td>[1f72df57-f183-79ec-2fc0-dfce4cc40ab3, cd5cf5d...</td>\n",
       "      <td>2020-10-21</td>\n",
       "      <td>2020-10-21@06</td>\n",
       "    </tr>\n",
       "    <tr>\n",
       "      <th>3</th>\n",
       "      <td>2020-10-08</td>\n",
       "      <td>ES@PRE</td>\n",
       "      <td>[c382e62b-1f4c-8b9c-1583-ceb2c44c7fe8, 5f340fd...</td>\n",
       "      <td>2020-10-21</td>\n",
       "      <td>2020-10-21@06</td>\n",
       "    </tr>\n",
       "    <tr>\n",
       "      <th>4</th>\n",
       "      <td>2020-10-08</td>\n",
       "      <td>IT</td>\n",
       "      <td>[7a4b2bee-d47c-2a83-eb0f-539c78c22f13, d7a2f86...</td>\n",
       "      <td>2020-10-21</td>\n",
       "      <td>2020-10-21@06</td>\n",
       "    </tr>\n",
       "  </tbody>\n",
       "</table>\n",
       "</div>"
      ],
      "text/plain": [
       "  sample_date  region                                           tek_list  \\\n",
       "0  2020-10-08      BE  [008471c2-df18-c069-d2dc-d49a1214dbb2, 00a761c...   \n",
       "1  2020-10-08      CH  [78d87099-ab83-8eff-dd34-4aa64c11cb23, cd07d2a...   \n",
       "2  2020-10-08      ES  [1f72df57-f183-79ec-2fc0-dfce4cc40ab3, cd5cf5d...   \n",
       "3  2020-10-08  ES@PRE  [c382e62b-1f4c-8b9c-1583-ceb2c44c7fe8, 5f340fd...   \n",
       "4  2020-10-08      IT  [7a4b2bee-d47c-2a83-eb0f-539c78c22f13, d7a2f86...   \n",
       "\n",
       "  extraction_date extraction_date_with_hour  \n",
       "0      2020-10-21             2020-10-21@06  \n",
       "1      2020-10-21             2020-10-21@06  \n",
       "2      2020-10-21             2020-10-21@06  \n",
       "3      2020-10-21             2020-10-21@06  \n",
       "4      2020-10-21             2020-10-21@06  "
      ]
     },
     "execution_count": 19,
     "metadata": {},
     "output_type": "execute_result"
    }
   ],
   "source": [
    "tek_list_df = multi_region_exposure_keys_df[\n",
    "    [\"sample_date_string\", \"region\", \"key_data\"]].copy()\n",
    "tek_list_df[\"key_data\"] = tek_list_df[\"key_data\"].apply(str)\n",
    "tek_list_df.rename(columns={\n",
    "    \"sample_date_string\": \"sample_date\",\n",
    "    \"key_data\": \"tek_list\"}, inplace=True)\n",
    "tek_list_df = tek_list_df.groupby(\n",
    "    [\"sample_date\", \"region\"]).tek_list.unique().reset_index()\n",
    "tek_list_df[\"extraction_date\"] = extraction_date\n",
    "tek_list_df[\"extraction_date_with_hour\"] = extraction_date_with_hour\n",
    "\n",
    "tek_list_path_prefix = \"Data/TEKs/\"\n",
    "tek_list_current_path = tek_list_path_prefix + f\"/Current/RadarCOVID-TEKs.json\"\n",
    "tek_list_daily_path = tek_list_path_prefix + f\"Daily/RadarCOVID-TEKs-{extraction_date}.json\"\n",
    "tek_list_hourly_path = tek_list_path_prefix + f\"Hourly/RadarCOVID-TEKs-{extraction_date_with_hour}.json\"\n",
    "\n",
    "for path in [tek_list_current_path, tek_list_daily_path, tek_list_hourly_path]:\n",
    "    os.makedirs(os.path.dirname(path), exist_ok=True)\n",
    "\n",
    "tek_list_df.drop(columns=[\"extraction_date\", \"extraction_date_with_hour\"]).to_json(\n",
    "    tek_list_current_path,\n",
    "    lines=True, orient=\"records\")\n",
    "tek_list_df.drop(columns=[\"extraction_date_with_hour\"]).to_json(\n",
    "    tek_list_daily_path,\n",
    "    lines=True, orient=\"records\")\n",
    "tek_list_df.to_json(\n",
    "    tek_list_hourly_path,\n",
    "    lines=True, orient=\"records\")\n",
    "tek_list_df.head()"
   ]
  },
  {
   "cell_type": "markdown",
   "metadata": {
    "papermill": {
     "duration": 0.045719,
     "end_time": "2020-10-21T06:28:30.298329",
     "exception": false,
     "start_time": "2020-10-21T06:28:30.252610",
     "status": "completed"
    },
    "tags": []
   },
   "source": [
    "### Load TEK Dumps"
   ]
  },
  {
   "cell_type": "code",
   "execution_count": 20,
   "metadata": {
    "execution": {
     "iopub.execute_input": "2020-10-21T06:28:30.397513Z",
     "iopub.status.busy": "2020-10-21T06:28:30.396902Z",
     "iopub.status.idle": "2020-10-21T06:28:30.400244Z",
     "shell.execute_reply": "2020-10-21T06:28:30.399730Z"
    },
    "papermill": {
     "duration": 0.055917,
     "end_time": "2020-10-21T06:28:30.400401",
     "exception": false,
     "start_time": "2020-10-21T06:28:30.344484",
     "status": "completed"
    },
    "tags": []
   },
   "outputs": [],
   "source": [
    "import glob\n",
    "\n",
    "def load_extracted_teks(mode, region=None, limit=None) -> pd.DataFrame:\n",
    "    extracted_teks_df = pd.DataFrame(columns=[\"region\"])\n",
    "    paths = list(reversed(sorted(glob.glob(tek_list_path_prefix + mode + \"/RadarCOVID-TEKs-*.json\"))))\n",
    "    if limit:\n",
    "        paths = paths[:limit]\n",
    "    for path in paths:\n",
    "        logging.info(f\"Loading TEKs from '{path}'...\")\n",
    "        iteration_extracted_teks_df = pd.read_json(path, lines=True)\n",
    "        extracted_teks_df = extracted_teks_df.append(\n",
    "            iteration_extracted_teks_df, sort=False)\n",
    "    extracted_teks_df[\"region\"] = \\\n",
    "        extracted_teks_df.region.fillna(spain_region_country_code).copy()\n",
    "    if region:\n",
    "        extracted_teks_df = \\\n",
    "            extracted_teks_df[extracted_teks_df.region == region]\n",
    "    return extracted_teks_df"
   ]
  },
  {
   "cell_type": "code",
   "execution_count": 21,
   "metadata": {
    "collapsed": false,
    "execution": {
     "iopub.execute_input": "2020-10-21T06:28:30.501162Z",
     "iopub.status.busy": "2020-10-21T06:28:30.500632Z",
     "iopub.status.idle": "2020-10-21T06:28:30.879577Z",
     "shell.execute_reply": "2020-10-21T06:28:30.879999Z"
    },
    "papermill": {
     "duration": 0.433745,
     "end_time": "2020-10-21T06:28:30.880154",
     "exception": false,
     "start_time": "2020-10-21T06:28:30.446409",
     "status": "completed"
    },
    "pycharm": {
     "name": "#%%\n"
    },
    "tags": []
   },
   "outputs": [
    {
     "data": {
      "text/html": [
       "<div>\n",
       "<style scoped>\n",
       "    .dataframe tbody tr th:only-of-type {\n",
       "        vertical-align: middle;\n",
       "    }\n",
       "\n",
       "    .dataframe tbody tr th {\n",
       "        vertical-align: top;\n",
       "    }\n",
       "\n",
       "    .dataframe thead th {\n",
       "        text-align: right;\n",
       "    }\n",
       "</style>\n",
       "<table border=\"1\" class=\"dataframe\">\n",
       "  <thead>\n",
       "    <tr style=\"text-align: right;\">\n",
       "      <th></th>\n",
       "      <th>region</th>\n",
       "      <th>sample_date</th>\n",
       "      <th>tek_list</th>\n",
       "      <th>extraction_date</th>\n",
       "      <th>extraction_date_with_hour</th>\n",
       "    </tr>\n",
       "  </thead>\n",
       "  <tbody>\n",
       "    <tr>\n",
       "      <th>2</th>\n",
       "      <td>ES</td>\n",
       "      <td>2020-10-08</td>\n",
       "      <td>[1f72df57-f183-79ec-2fc0-dfce4cc40ab3, cd5cf5d...</td>\n",
       "      <td>2020-10-21</td>\n",
       "      <td>NaN</td>\n",
       "    </tr>\n",
       "    <tr>\n",
       "      <th>8</th>\n",
       "      <td>ES</td>\n",
       "      <td>2020-10-09</td>\n",
       "      <td>[5f4aa687-b5a6-5b43-ea7b-70a8a063c4cd, 584d63c...</td>\n",
       "      <td>2020-10-21</td>\n",
       "      <td>NaN</td>\n",
       "    </tr>\n",
       "    <tr>\n",
       "      <th>14</th>\n",
       "      <td>ES</td>\n",
       "      <td>2020-10-10</td>\n",
       "      <td>[2aad400e-9cf8-bea9-bf15-2da451a01c28, ed99e8b...</td>\n",
       "      <td>2020-10-21</td>\n",
       "      <td>NaN</td>\n",
       "    </tr>\n",
       "    <tr>\n",
       "      <th>20</th>\n",
       "      <td>ES</td>\n",
       "      <td>2020-10-11</td>\n",
       "      <td>[5932f1af-75b6-5bfa-6489-2ca4fa25f6e7, 67e4b1f...</td>\n",
       "      <td>2020-10-21</td>\n",
       "      <td>NaN</td>\n",
       "    </tr>\n",
       "    <tr>\n",
       "      <th>26</th>\n",
       "      <td>ES</td>\n",
       "      <td>2020-10-12</td>\n",
       "      <td>[711d7d7d-5054-788e-3597-c4cc0dc2c1c3, e53b9db...</td>\n",
       "      <td>2020-10-21</td>\n",
       "      <td>NaN</td>\n",
       "    </tr>\n",
       "  </tbody>\n",
       "</table>\n",
       "</div>"
      ],
      "text/plain": [
       "   region sample_date                                           tek_list  \\\n",
       "2      ES  2020-10-08  [1f72df57-f183-79ec-2fc0-dfce4cc40ab3, cd5cf5d...   \n",
       "8      ES  2020-10-09  [5f4aa687-b5a6-5b43-ea7b-70a8a063c4cd, 584d63c...   \n",
       "14     ES  2020-10-10  [2aad400e-9cf8-bea9-bf15-2da451a01c28, ed99e8b...   \n",
       "20     ES  2020-10-11  [5932f1af-75b6-5bfa-6489-2ca4fa25f6e7, 67e4b1f...   \n",
       "26     ES  2020-10-12  [711d7d7d-5054-788e-3597-c4cc0dc2c1c3, e53b9db...   \n",
       "\n",
       "   extraction_date extraction_date_with_hour  \n",
       "2       2020-10-21                       NaN  \n",
       "8       2020-10-21                       NaN  \n",
       "14      2020-10-21                       NaN  \n",
       "20      2020-10-21                       NaN  \n",
       "26      2020-10-21                       NaN  "
      ]
     },
     "execution_count": 21,
     "metadata": {},
     "output_type": "execute_result"
    }
   ],
   "source": [
    "daily_extracted_teks_df = load_extracted_teks(\n",
    "    mode=\"Daily\",\n",
    "    region=active_region_country_code,\n",
    "    limit=tek_dumps_load_limit)\n",
    "daily_extracted_teks_df.head()"
   ]
  },
  {
   "cell_type": "code",
   "execution_count": 22,
   "metadata": {
    "collapsed": false,
    "execution": {
     "iopub.execute_input": "2020-10-21T06:28:30.986885Z",
     "iopub.status.busy": "2020-10-21T06:28:30.986044Z",
     "iopub.status.idle": "2020-10-21T06:28:30.997144Z",
     "shell.execute_reply": "2020-10-21T06:28:30.996565Z"
    },
    "papermill": {
     "duration": 0.065771,
     "end_time": "2020-10-21T06:28:30.997278",
     "exception": false,
     "start_time": "2020-10-21T06:28:30.931507",
     "status": "completed"
    },
    "pycharm": {
     "name": "#%%\n"
    },
    "tags": []
   },
   "outputs": [
    {
     "data": {
      "text/html": [
       "<div>\n",
       "<style scoped>\n",
       "    .dataframe tbody tr th:only-of-type {\n",
       "        vertical-align: middle;\n",
       "    }\n",
       "\n",
       "    .dataframe tbody tr th {\n",
       "        vertical-align: top;\n",
       "    }\n",
       "\n",
       "    .dataframe thead th {\n",
       "        text-align: right;\n",
       "    }\n",
       "</style>\n",
       "<table border=\"1\" class=\"dataframe\">\n",
       "  <thead>\n",
       "    <tr style=\"text-align: right;\">\n",
       "      <th></th>\n",
       "      <th>shared_teks_by_generation_date</th>\n",
       "    </tr>\n",
       "    <tr>\n",
       "      <th>sample_date_string</th>\n",
       "      <th></th>\n",
       "    </tr>\n",
       "  </thead>\n",
       "  <tbody>\n",
       "    <tr>\n",
       "      <th>2020-10-21</th>\n",
       "      <td>3</td>\n",
       "    </tr>\n",
       "    <tr>\n",
       "      <th>2020-10-20</th>\n",
       "      <td>160</td>\n",
       "    </tr>\n",
       "    <tr>\n",
       "      <th>2020-10-19</th>\n",
       "      <td>281</td>\n",
       "    </tr>\n",
       "    <tr>\n",
       "      <th>2020-10-18</th>\n",
       "      <td>393</td>\n",
       "    </tr>\n",
       "    <tr>\n",
       "      <th>2020-10-17</th>\n",
       "      <td>533</td>\n",
       "    </tr>\n",
       "  </tbody>\n",
       "</table>\n",
       "</div>"
      ],
      "text/plain": [
       "                    shared_teks_by_generation_date\n",
       "sample_date_string                                \n",
       "2020-10-21                                       3\n",
       "2020-10-20                                     160\n",
       "2020-10-19                                     281\n",
       "2020-10-18                                     393\n",
       "2020-10-17                                     533"
      ]
     },
     "execution_count": 22,
     "metadata": {},
     "output_type": "execute_result"
    }
   ],
   "source": [
    "exposure_keys_summary_df_ = daily_extracted_teks_df \\\n",
    "    .sort_values(\"extraction_date\", ascending=False) \\\n",
    "    .groupby(\"sample_date\").tek_list.first() \\\n",
    "    .to_frame()\n",
    "exposure_keys_summary_df_.index.name = \"sample_date_string\"\n",
    "exposure_keys_summary_df_[\"tek_list\"] = \\\n",
    "    exposure_keys_summary_df_.tek_list.apply(len)\n",
    "exposure_keys_summary_df_ = exposure_keys_summary_df_ \\\n",
    "    .rename(columns={\"tek_list\": \"shared_teks_by_generation_date\"}) \\\n",
    "    .sort_index(ascending=False)\n",
    "exposure_keys_summary_df = exposure_keys_summary_df_\n",
    "exposure_keys_summary_df.head()"
   ]
  },
  {
   "cell_type": "markdown",
   "metadata": {
    "execution": {
     "iopub.execute_input": "2020-08-30T22:30:16.632967Z",
     "iopub.status.busy": "2020-08-30T22:30:16.632308Z",
     "iopub.status.idle": "2020-08-30T22:30:16.634945Z",
     "shell.execute_reply": "2020-08-30T22:30:16.635575Z"
    },
    "papermill": {
     "duration": 0.049328,
     "end_time": "2020-10-21T06:28:31.093226",
     "exception": false,
     "start_time": "2020-10-21T06:28:31.043898",
     "status": "completed"
    },
    "pycharm": {
     "name": "#%% md\n"
    },
    "tags": []
   },
   "source": [
    "### Daily New TEKs"
   ]
  },
  {
   "cell_type": "code",
   "execution_count": 23,
   "metadata": {
    "execution": {
     "iopub.execute_input": "2020-10-21T06:28:31.217722Z",
     "iopub.status.busy": "2020-10-21T06:28:31.201539Z",
     "iopub.status.idle": "2020-10-21T06:28:31.237060Z",
     "shell.execute_reply": "2020-10-21T06:28:31.237481Z"
    },
    "papermill": {
     "duration": 0.088575,
     "end_time": "2020-10-21T06:28:31.237634",
     "exception": false,
     "start_time": "2020-10-21T06:28:31.149059",
     "status": "completed"
    },
    "tags": []
   },
   "outputs": [
    {
     "data": {
      "text/html": [
       "<div>\n",
       "<style scoped>\n",
       "    .dataframe tbody tr th:only-of-type {\n",
       "        vertical-align: middle;\n",
       "    }\n",
       "\n",
       "    .dataframe tbody tr th {\n",
       "        vertical-align: top;\n",
       "    }\n",
       "\n",
       "    .dataframe thead th {\n",
       "        text-align: right;\n",
       "    }\n",
       "</style>\n",
       "<table border=\"1\" class=\"dataframe\">\n",
       "  <thead>\n",
       "    <tr style=\"text-align: right;\">\n",
       "      <th></th>\n",
       "      <th>tek_list</th>\n",
       "    </tr>\n",
       "    <tr>\n",
       "      <th>extraction_date</th>\n",
       "      <th></th>\n",
       "    </tr>\n",
       "  </thead>\n",
       "  <tbody>\n",
       "    <tr>\n",
       "      <th>2020-08-29</th>\n",
       "      <td>{4cc4405d-352c-28ad-0a78-e1d5d6a41886, 9a32c58...</td>\n",
       "    </tr>\n",
       "    <tr>\n",
       "      <th>2020-08-30</th>\n",
       "      <td>{4cc4405d-352c-28ad-0a78-e1d5d6a41886, 5a5f46a...</td>\n",
       "    </tr>\n",
       "    <tr>\n",
       "      <th>2020-08-31</th>\n",
       "      <td>{4cc4405d-352c-28ad-0a78-e1d5d6a41886, 5a5f46a...</td>\n",
       "    </tr>\n",
       "    <tr>\n",
       "      <th>2020-09-01</th>\n",
       "      <td>{4cc4405d-352c-28ad-0a78-e1d5d6a41886, 5a5f46a...</td>\n",
       "    </tr>\n",
       "    <tr>\n",
       "      <th>2020-09-02</th>\n",
       "      <td>{4cc4405d-352c-28ad-0a78-e1d5d6a41886, 5a5f46a...</td>\n",
       "    </tr>\n",
       "  </tbody>\n",
       "</table>\n",
       "</div>"
      ],
      "text/plain": [
       "                                                          tek_list\n",
       "extraction_date                                                   \n",
       "2020-08-29       {4cc4405d-352c-28ad-0a78-e1d5d6a41886, 9a32c58...\n",
       "2020-08-30       {4cc4405d-352c-28ad-0a78-e1d5d6a41886, 5a5f46a...\n",
       "2020-08-31       {4cc4405d-352c-28ad-0a78-e1d5d6a41886, 5a5f46a...\n",
       "2020-09-01       {4cc4405d-352c-28ad-0a78-e1d5d6a41886, 5a5f46a...\n",
       "2020-09-02       {4cc4405d-352c-28ad-0a78-e1d5d6a41886, 5a5f46a..."
      ]
     },
     "execution_count": 23,
     "metadata": {},
     "output_type": "execute_result"
    }
   ],
   "source": [
    "tek_list_df = daily_extracted_teks_df.groupby(\"extraction_date\").tek_list.apply(\n",
    "    lambda x: set(sum(x, []))).reset_index()\n",
    "tek_list_df = tek_list_df.set_index(\"extraction_date\").sort_index(ascending=True)\n",
    "tek_list_df.head()"
   ]
  },
  {
   "cell_type": "code",
   "execution_count": 24,
   "metadata": {
    "collapsed": false,
    "execution": {
     "iopub.execute_input": "2020-10-21T06:28:31.387129Z",
     "iopub.status.busy": "2020-10-21T06:28:31.358181Z",
     "iopub.status.idle": "2020-10-21T06:28:32.144550Z",
     "shell.execute_reply": "2020-10-21T06:28:32.144061Z"
    },
    "papermill": {
     "duration": 0.855683,
     "end_time": "2020-10-21T06:28:32.144682",
     "exception": false,
     "start_time": "2020-10-21T06:28:31.288999",
     "status": "completed"
    },
    "pycharm": {
     "name": "#%%\n"
    },
    "tags": []
   },
   "outputs": [
    {
     "name": "stderr",
     "output_type": "stream",
     "text": [
      "<ipython-input-24-827222b35590>:4: FutureWarning: `item` has been deprecated and will be removed in a future version\n",
      "  day_new_teks_set = day_new_teks_set_df[\n"
     ]
    },
    {
     "data": {
      "text/html": [
       "<div>\n",
       "<style scoped>\n",
       "    .dataframe tbody tr th:only-of-type {\n",
       "        vertical-align: middle;\n",
       "    }\n",
       "\n",
       "    .dataframe tbody tr th {\n",
       "        vertical-align: top;\n",
       "    }\n",
       "\n",
       "    .dataframe thead th {\n",
       "        text-align: right;\n",
       "    }\n",
       "</style>\n",
       "<table border=\"1\" class=\"dataframe\">\n",
       "  <thead>\n",
       "    <tr style=\"text-align: right;\">\n",
       "      <th></th>\n",
       "      <th>upload_date</th>\n",
       "      <th>generation_date</th>\n",
       "      <th>shared_teks</th>\n",
       "      <th>generation_to_upload_days</th>\n",
       "    </tr>\n",
       "  </thead>\n",
       "  <tbody>\n",
       "    <tr>\n",
       "      <th>10</th>\n",
       "      <td>2020-08-30</td>\n",
       "      <td>2020-08-29</td>\n",
       "      <td>16</td>\n",
       "      <td>1</td>\n",
       "    </tr>\n",
       "    <tr>\n",
       "      <th>9</th>\n",
       "      <td>2020-08-30</td>\n",
       "      <td>2020-08-28</td>\n",
       "      <td>5</td>\n",
       "      <td>2</td>\n",
       "    </tr>\n",
       "    <tr>\n",
       "      <th>8</th>\n",
       "      <td>2020-08-30</td>\n",
       "      <td>2020-08-27</td>\n",
       "      <td>3</td>\n",
       "      <td>3</td>\n",
       "    </tr>\n",
       "    <tr>\n",
       "      <th>7</th>\n",
       "      <td>2020-08-30</td>\n",
       "      <td>2020-08-26</td>\n",
       "      <td>3</td>\n",
       "      <td>4</td>\n",
       "    </tr>\n",
       "    <tr>\n",
       "      <th>6</th>\n",
       "      <td>2020-08-30</td>\n",
       "      <td>2020-08-25</td>\n",
       "      <td>2</td>\n",
       "      <td>5</td>\n",
       "    </tr>\n",
       "  </tbody>\n",
       "</table>\n",
       "</div>"
      ],
      "text/plain": [
       "   upload_date generation_date  shared_teks  generation_to_upload_days\n",
       "10  2020-08-30      2020-08-29           16                          1\n",
       "9   2020-08-30      2020-08-28            5                          2\n",
       "8   2020-08-30      2020-08-27            3                          3\n",
       "7   2020-08-30      2020-08-26            3                          4\n",
       "6   2020-08-30      2020-08-25            2                          5"
      ]
     },
     "execution_count": 24,
     "metadata": {},
     "output_type": "execute_result"
    }
   ],
   "source": [
    "def compute_teks_by_generation_and_upload_date(date):\n",
    "    day_new_teks_set_df = tek_list_df.copy().diff()\n",
    "    try:\n",
    "        day_new_teks_set = day_new_teks_set_df[\n",
    "            day_new_teks_set_df.index == date].tek_list.item()\n",
    "    except ValueError:\n",
    "        day_new_teks_set = None\n",
    "    if pd.isna(day_new_teks_set):\n",
    "        day_new_teks_set = set()\n",
    "    day_new_teks_df = daily_extracted_teks_df[\n",
    "        daily_extracted_teks_df.extraction_date == date].copy()\n",
    "    day_new_teks_df[\"shared_teks\"] = \\\n",
    "        day_new_teks_df.tek_list.apply(lambda x: set(x).intersection(day_new_teks_set))\n",
    "    day_new_teks_df[\"shared_teks\"] = \\\n",
    "        day_new_teks_df.shared_teks.apply(len)\n",
    "    day_new_teks_df[\"upload_date\"] = date\n",
    "    day_new_teks_df.rename(columns={\"sample_date\": \"generation_date\"}, inplace=True)\n",
    "    day_new_teks_df = day_new_teks_df[\n",
    "        [\"upload_date\", \"generation_date\", \"shared_teks\"]]\n",
    "    day_new_teks_df[\"generation_to_upload_days\"] = \\\n",
    "        (pd.to_datetime(day_new_teks_df.upload_date) -\n",
    "         pd.to_datetime(day_new_teks_df.generation_date)).dt.days\n",
    "    day_new_teks_df = day_new_teks_df[day_new_teks_df.shared_teks > 0]\n",
    "    return day_new_teks_df\n",
    "\n",
    "shared_teks_generation_to_upload_df = pd.DataFrame()\n",
    "for upload_date in daily_extracted_teks_df.extraction_date.unique():\n",
    "    shared_teks_generation_to_upload_df = \\\n",
    "        shared_teks_generation_to_upload_df.append(\n",
    "            compute_teks_by_generation_and_upload_date(date=upload_date))\n",
    "shared_teks_generation_to_upload_df \\\n",
    "    .sort_values([\"upload_date\", \"generation_date\"], ascending=False, inplace=True)\n",
    "shared_teks_generation_to_upload_df.tail()"
   ]
  },
  {
   "cell_type": "code",
   "execution_count": 25,
   "metadata": {
    "collapsed": false,
    "execution": {
     "iopub.execute_input": "2020-10-21T06:28:32.249846Z",
     "iopub.status.busy": "2020-10-21T06:28:32.249411Z",
     "iopub.status.idle": "2020-10-21T06:28:32.254739Z",
     "shell.execute_reply": "2020-10-21T06:28:32.254289Z"
    },
    "papermill": {
     "duration": 0.060903,
     "end_time": "2020-10-21T06:28:32.254864",
     "exception": false,
     "start_time": "2020-10-21T06:28:32.193961",
     "status": "completed"
    },
    "pycharm": {
     "name": "#%%\n"
    },
    "tags": []
   },
   "outputs": [
    {
     "data": {
      "text/html": [
       "<div>\n",
       "<style scoped>\n",
       "    .dataframe tbody tr th:only-of-type {\n",
       "        vertical-align: middle;\n",
       "    }\n",
       "\n",
       "    .dataframe tbody tr th {\n",
       "        vertical-align: top;\n",
       "    }\n",
       "\n",
       "    .dataframe thead th {\n",
       "        text-align: right;\n",
       "    }\n",
       "</style>\n",
       "<table border=\"1\" class=\"dataframe\">\n",
       "  <thead>\n",
       "    <tr style=\"text-align: right;\">\n",
       "      <th></th>\n",
       "      <th>upload_date</th>\n",
       "      <th>generation_date</th>\n",
       "      <th>shared_teks</th>\n",
       "      <th>generation_to_upload_days</th>\n",
       "    </tr>\n",
       "  </thead>\n",
       "  <tbody>\n",
       "    <tr>\n",
       "      <th>62</th>\n",
       "      <td>2020-10-21</td>\n",
       "      <td>2020-10-18</td>\n",
       "      <td>5</td>\n",
       "      <td>3</td>\n",
       "    </tr>\n",
       "    <tr>\n",
       "      <th>56</th>\n",
       "      <td>2020-10-21</td>\n",
       "      <td>2020-10-17</td>\n",
       "      <td>3</td>\n",
       "      <td>4</td>\n",
       "    </tr>\n",
       "    <tr>\n",
       "      <th>50</th>\n",
       "      <td>2020-10-21</td>\n",
       "      <td>2020-10-16</td>\n",
       "      <td>2</td>\n",
       "      <td>5</td>\n",
       "    </tr>\n",
       "    <tr>\n",
       "      <th>44</th>\n",
       "      <td>2020-10-21</td>\n",
       "      <td>2020-10-15</td>\n",
       "      <td>1</td>\n",
       "      <td>6</td>\n",
       "    </tr>\n",
       "    <tr>\n",
       "      <th>38</th>\n",
       "      <td>2020-10-21</td>\n",
       "      <td>2020-10-14</td>\n",
       "      <td>1</td>\n",
       "      <td>7</td>\n",
       "    </tr>\n",
       "  </tbody>\n",
       "</table>\n",
       "</div>"
      ],
      "text/plain": [
       "   upload_date generation_date  shared_teks  generation_to_upload_days\n",
       "62  2020-10-21      2020-10-18            5                          3\n",
       "56  2020-10-21      2020-10-17            3                          4\n",
       "50  2020-10-21      2020-10-16            2                          5\n",
       "44  2020-10-21      2020-10-15            1                          6\n",
       "38  2020-10-21      2020-10-14            1                          7"
      ]
     },
     "execution_count": 25,
     "metadata": {},
     "output_type": "execute_result"
    }
   ],
   "source": [
    "today_new_teks_df = \\\n",
    "    shared_teks_generation_to_upload_df[\n",
    "        shared_teks_generation_to_upload_df.upload_date == extraction_date].copy()\n",
    "today_new_teks_df.tail()"
   ]
  },
  {
   "cell_type": "code",
   "execution_count": 26,
   "metadata": {
    "collapsed": false,
    "execution": {
     "iopub.execute_input": "2020-10-21T06:28:32.370341Z",
     "iopub.status.busy": "2020-10-21T06:28:32.360280Z",
     "iopub.status.idle": "2020-10-21T06:28:32.523686Z",
     "shell.execute_reply": "2020-10-21T06:28:32.524497Z"
    },
    "papermill": {
     "duration": 0.22127,
     "end_time": "2020-10-21T06:28:32.524776",
     "exception": false,
     "start_time": "2020-10-21T06:28:32.303506",
     "status": "completed"
    },
    "pycharm": {
     "name": "#%%\n"
    },
    "tags": []
   },
   "outputs": [
    {
     "data": {
      "image/png": "[encoded data removed]",
      "text/plain": [
       "<Figure size 1080x432 with 1 Axes>"
      ]
     },
     "metadata": {},
     "output_type": "display_data"
    }
   ],
   "source": [
    "if not today_new_teks_df.empty:\n",
    "    today_new_teks_df.set_index(\"generation_to_upload_days\") \\\n",
    "        .sort_index().shared_teks.plot.bar()"
   ]
  },
  {
   "cell_type": "code",
   "execution_count": 27,
   "metadata": {
    "collapsed": false,
    "execution": {
     "iopub.execute_input": "2020-10-21T06:28:32.641995Z",
     "iopub.status.busy": "2020-10-21T06:28:32.640762Z",
     "iopub.status.idle": "2020-10-21T06:28:32.654058Z",
     "shell.execute_reply": "2020-10-21T06:28:32.654505Z"
    },
    "papermill": {
     "duration": 0.075643,
     "end_time": "2020-10-21T06:28:32.654651",
     "exception": false,
     "start_time": "2020-10-21T06:28:32.579008",
     "status": "completed"
    },
    "pycharm": {
     "name": "#%%\n"
    },
    "tags": []
   },
   "outputs": [
    {
     "data": {
      "text/html": [
       "<div>\n",
       "<style scoped>\n",
       "    .dataframe tbody tr th:only-of-type {\n",
       "        vertical-align: middle;\n",
       "    }\n",
       "\n",
       "    .dataframe tbody tr th {\n",
       "        vertical-align: top;\n",
       "    }\n",
       "\n",
       "    .dataframe thead th {\n",
       "        text-align: right;\n",
       "    }\n",
       "</style>\n",
       "<table border=\"1\" class=\"dataframe\">\n",
       "  <thead>\n",
       "    <tr style=\"text-align: right;\">\n",
       "      <th>generation_to_upload_days</th>\n",
       "      <th>0</th>\n",
       "      <th>1</th>\n",
       "      <th>2</th>\n",
       "      <th>3</th>\n",
       "      <th>4</th>\n",
       "      <th>5</th>\n",
       "      <th>6</th>\n",
       "      <th>7</th>\n",
       "      <th>8</th>\n",
       "      <th>9</th>\n",
       "      <th>10</th>\n",
       "      <th>11</th>\n",
       "      <th>12</th>\n",
       "      <th>13</th>\n",
       "    </tr>\n",
       "    <tr>\n",
       "      <th>upload_date</th>\n",
       "      <th></th>\n",
       "      <th></th>\n",
       "      <th></th>\n",
       "      <th></th>\n",
       "      <th></th>\n",
       "      <th></th>\n",
       "      <th></th>\n",
       "      <th></th>\n",
       "      <th></th>\n",
       "      <th></th>\n",
       "      <th></th>\n",
       "      <th></th>\n",
       "      <th></th>\n",
       "      <th></th>\n",
       "    </tr>\n",
       "  </thead>\n",
       "  <tbody>\n",
       "    <tr>\n",
       "      <th>2020-10-21</th>\n",
       "      <td>3</td>\n",
       "      <td>11</td>\n",
       "      <td>4</td>\n",
       "      <td>5</td>\n",
       "      <td>3</td>\n",
       "      <td>2</td>\n",
       "      <td>1</td>\n",
       "      <td>1</td>\n",
       "      <td>0</td>\n",
       "      <td>0</td>\n",
       "      <td>0</td>\n",
       "      <td>0</td>\n",
       "      <td>0</td>\n",
       "      <td>0</td>\n",
       "    </tr>\n",
       "    <tr>\n",
       "      <th>2020-10-20</th>\n",
       "      <td>149</td>\n",
       "      <td>135</td>\n",
       "      <td>119</td>\n",
       "      <td>106</td>\n",
       "      <td>79</td>\n",
       "      <td>59</td>\n",
       "      <td>47</td>\n",
       "      <td>25</td>\n",
       "      <td>21</td>\n",
       "      <td>13</td>\n",
       "      <td>8</td>\n",
       "      <td>6</td>\n",
       "      <td>3</td>\n",
       "      <td>2</td>\n",
       "    </tr>\n",
       "    <tr>\n",
       "      <th>2020-10-19</th>\n",
       "      <td>142</td>\n",
       "      <td>123</td>\n",
       "      <td>118</td>\n",
       "      <td>105</td>\n",
       "      <td>86</td>\n",
       "      <td>72</td>\n",
       "      <td>45</td>\n",
       "      <td>33</td>\n",
       "      <td>22</td>\n",
       "      <td>17</td>\n",
       "      <td>12</td>\n",
       "      <td>9</td>\n",
       "      <td>4</td>\n",
       "      <td>3</td>\n",
       "    </tr>\n",
       "    <tr>\n",
       "      <th>2020-10-18</th>\n",
       "      <td>146</td>\n",
       "      <td>132</td>\n",
       "      <td>114</td>\n",
       "      <td>96</td>\n",
       "      <td>87</td>\n",
       "      <td>54</td>\n",
       "      <td>33</td>\n",
       "      <td>18</td>\n",
       "      <td>12</td>\n",
       "      <td>10</td>\n",
       "      <td>9</td>\n",
       "      <td>7</td>\n",
       "      <td>5</td>\n",
       "      <td>3</td>\n",
       "    </tr>\n",
       "    <tr>\n",
       "      <th>2020-10-17</th>\n",
       "      <td>174</td>\n",
       "      <td>138</td>\n",
       "      <td>118</td>\n",
       "      <td>108</td>\n",
       "      <td>84</td>\n",
       "      <td>54</td>\n",
       "      <td>32</td>\n",
       "      <td>19</td>\n",
       "      <td>15</td>\n",
       "      <td>11</td>\n",
       "      <td>7</td>\n",
       "      <td>4</td>\n",
       "      <td>2</td>\n",
       "      <td>1</td>\n",
       "    </tr>\n",
       "  </tbody>\n",
       "</table>\n",
       "</div>"
      ],
      "text/plain": [
       "generation_to_upload_days   0    1    2    3   4   5   6   7   8   9   10  11  \\\n",
       "upload_date                                                                     \n",
       "2020-10-21                   3   11    4    5   3   2   1   1   0   0   0   0   \n",
       "2020-10-20                 149  135  119  106  79  59  47  25  21  13   8   6   \n",
       "2020-10-19                 142  123  118  105  86  72  45  33  22  17  12   9   \n",
       "2020-10-18                 146  132  114   96  87  54  33  18  12  10   9   7   \n",
       "2020-10-17                 174  138  118  108  84  54  32  19  15  11   7   4   \n",
       "\n",
       "generation_to_upload_days  12  13  \n",
       "upload_date                        \n",
       "2020-10-21                  0   0  \n",
       "2020-10-20                  3   2  \n",
       "2020-10-19                  4   3  \n",
       "2020-10-18                  5   3  \n",
       "2020-10-17                  2   1  "
      ]
     },
     "execution_count": 27,
     "metadata": {},
     "output_type": "execute_result"
    }
   ],
   "source": [
    "generation_to_upload_period_pivot_df = \\\n",
    "    shared_teks_generation_to_upload_df[\n",
    "        [\"upload_date\", \"generation_to_upload_days\", \"shared_teks\"]] \\\n",
    "        .pivot(index=\"upload_date\", columns=\"generation_to_upload_days\") \\\n",
    "        .sort_index(ascending=False).fillna(0).astype(int) \\\n",
    "        .droplevel(level=0, axis=1)\n",
    "generation_to_upload_period_pivot_df.head()"
   ]
  },
  {
   "cell_type": "code",
   "execution_count": 28,
   "metadata": {
    "collapsed": false,
    "execution": {
     "iopub.execute_input": "2020-10-21T06:28:32.803471Z",
     "iopub.status.busy": "2020-10-21T06:28:32.802990Z",
     "iopub.status.idle": "2020-10-21T06:28:32.808939Z",
     "shell.execute_reply": "2020-10-21T06:28:32.808451Z"
    },
    "papermill": {
     "duration": 0.078876,
     "end_time": "2020-10-21T06:28:32.809065",
     "exception": false,
     "start_time": "2020-10-21T06:28:32.730189",
     "status": "completed"
    },
    "pycharm": {
     "name": "#%%\n"
    },
    "tags": []
   },
   "outputs": [
    {
     "data": {
      "text/html": [
       "<div>\n",
       "<style scoped>\n",
       "    .dataframe tbody tr th:only-of-type {\n",
       "        vertical-align: middle;\n",
       "    }\n",
       "\n",
       "    .dataframe tbody tr th {\n",
       "        vertical-align: top;\n",
       "    }\n",
       "\n",
       "    .dataframe thead th {\n",
       "        text-align: right;\n",
       "    }\n",
       "</style>\n",
       "<table border=\"1\" class=\"dataframe\">\n",
       "  <thead>\n",
       "    <tr style=\"text-align: right;\">\n",
       "      <th></th>\n",
       "      <th>sample_date_string</th>\n",
       "      <th>shared_teks_by_upload_date</th>\n",
       "    </tr>\n",
       "  </thead>\n",
       "  <tbody>\n",
       "    <tr>\n",
       "      <th>49</th>\n",
       "      <td>2020-10-17</td>\n",
       "      <td>767.0</td>\n",
       "    </tr>\n",
       "    <tr>\n",
       "      <th>50</th>\n",
       "      <td>2020-10-18</td>\n",
       "      <td>726.0</td>\n",
       "    </tr>\n",
       "    <tr>\n",
       "      <th>51</th>\n",
       "      <td>2020-10-19</td>\n",
       "      <td>791.0</td>\n",
       "    </tr>\n",
       "    <tr>\n",
       "      <th>52</th>\n",
       "      <td>2020-10-20</td>\n",
       "      <td>772.0</td>\n",
       "    </tr>\n",
       "    <tr>\n",
       "      <th>53</th>\n",
       "      <td>2020-10-21</td>\n",
       "      <td>30.0</td>\n",
       "    </tr>\n",
       "  </tbody>\n",
       "</table>\n",
       "</div>"
      ],
      "text/plain": [
       "   sample_date_string  shared_teks_by_upload_date\n",
       "49         2020-10-17                       767.0\n",
       "50         2020-10-18                       726.0\n",
       "51         2020-10-19                       791.0\n",
       "52         2020-10-20                       772.0\n",
       "53         2020-10-21                        30.0"
      ]
     },
     "execution_count": 28,
     "metadata": {},
     "output_type": "execute_result"
    }
   ],
   "source": [
    "new_tek_df = tek_list_df.diff().tek_list.apply(\n",
    "    lambda x: len(x) if not pd.isna(x) else None).to_frame().reset_index()\n",
    "new_tek_df.rename(columns={\n",
    "    \"tek_list\": \"shared_teks_by_upload_date\",\n",
    "    \"extraction_date\": \"sample_date_string\",}, inplace=True)\n",
    "new_tek_df.tail()"
   ]
  },
  {
   "cell_type": "code",
   "execution_count": 29,
   "metadata": {
    "execution": {
     "iopub.execute_input": "2020-10-21T06:28:32.929870Z",
     "iopub.status.busy": "2020-10-21T06:28:32.928516Z",
     "iopub.status.idle": "2020-10-21T06:28:32.947699Z",
     "shell.execute_reply": "2020-10-21T06:28:32.948236Z"
    },
    "papermill": {
     "duration": 0.085529,
     "end_time": "2020-10-21T06:28:32.948450",
     "exception": false,
     "start_time": "2020-10-21T06:28:32.862921",
     "status": "completed"
    },
    "pycharm": {
     "name": "#%%\n"
    },
    "tags": []
   },
   "outputs": [
    {
     "data": {
      "text/html": [
       "<div>\n",
       "<style scoped>\n",
       "    .dataframe tbody tr th:only-of-type {\n",
       "        vertical-align: middle;\n",
       "    }\n",
       "\n",
       "    .dataframe tbody tr th {\n",
       "        vertical-align: top;\n",
       "    }\n",
       "\n",
       "    .dataframe thead th {\n",
       "        text-align: right;\n",
       "    }\n",
       "</style>\n",
       "<table border=\"1\" class=\"dataframe\">\n",
       "  <thead>\n",
       "    <tr style=\"text-align: right;\">\n",
       "      <th></th>\n",
       "      <th>region</th>\n",
       "      <th>sample_date</th>\n",
       "      <th>tek_list</th>\n",
       "      <th>extraction_date</th>\n",
       "      <th>extraction_date_with_hour</th>\n",
       "      <th>new_sample_extraction_date</th>\n",
       "    </tr>\n",
       "  </thead>\n",
       "  <tbody>\n",
       "    <tr>\n",
       "      <th>2</th>\n",
       "      <td>ES</td>\n",
       "      <td>2020-10-08</td>\n",
       "      <td>[1f72df57-f183-79ec-2fc0-dfce4cc40ab3, cd5cf5d...</td>\n",
       "      <td>2020-10-21</td>\n",
       "      <td>NaN</td>\n",
       "      <td>2020-10-09</td>\n",
       "    </tr>\n",
       "    <tr>\n",
       "      <th>8</th>\n",
       "      <td>ES</td>\n",
       "      <td>2020-10-09</td>\n",
       "      <td>[5f4aa687-b5a6-5b43-ea7b-70a8a063c4cd, 584d63c...</td>\n",
       "      <td>2020-10-21</td>\n",
       "      <td>NaN</td>\n",
       "      <td>2020-10-10</td>\n",
       "    </tr>\n",
       "    <tr>\n",
       "      <th>14</th>\n",
       "      <td>ES</td>\n",
       "      <td>2020-10-10</td>\n",
       "      <td>[2aad400e-9cf8-bea9-bf15-2da451a01c28, ed99e8b...</td>\n",
       "      <td>2020-10-21</td>\n",
       "      <td>NaN</td>\n",
       "      <td>2020-10-11</td>\n",
       "    </tr>\n",
       "    <tr>\n",
       "      <th>20</th>\n",
       "      <td>ES</td>\n",
       "      <td>2020-10-11</td>\n",
       "      <td>[5932f1af-75b6-5bfa-6489-2ca4fa25f6e7, 67e4b1f...</td>\n",
       "      <td>2020-10-21</td>\n",
       "      <td>NaN</td>\n",
       "      <td>2020-10-12</td>\n",
       "    </tr>\n",
       "    <tr>\n",
       "      <th>26</th>\n",
       "      <td>ES</td>\n",
       "      <td>2020-10-12</td>\n",
       "      <td>[711d7d7d-5054-788e-3597-c4cc0dc2c1c3, e53b9db...</td>\n",
       "      <td>2020-10-21</td>\n",
       "      <td>NaN</td>\n",
       "      <td>2020-10-13</td>\n",
       "    </tr>\n",
       "  </tbody>\n",
       "</table>\n",
       "</div>"
      ],
      "text/plain": [
       "   region sample_date                                           tek_list  \\\n",
       "2      ES  2020-10-08  [1f72df57-f183-79ec-2fc0-dfce4cc40ab3, cd5cf5d...   \n",
       "8      ES  2020-10-09  [5f4aa687-b5a6-5b43-ea7b-70a8a063c4cd, 584d63c...   \n",
       "14     ES  2020-10-10  [2aad400e-9cf8-bea9-bf15-2da451a01c28, ed99e8b...   \n",
       "20     ES  2020-10-11  [5932f1af-75b6-5bfa-6489-2ca4fa25f6e7, 67e4b1f...   \n",
       "26     ES  2020-10-12  [711d7d7d-5054-788e-3597-c4cc0dc2c1c3, e53b9db...   \n",
       "\n",
       "   extraction_date extraction_date_with_hour new_sample_extraction_date  \n",
       "2       2020-10-21                       NaN                 2020-10-09  \n",
       "8       2020-10-21                       NaN                 2020-10-10  \n",
       "14      2020-10-21                       NaN                 2020-10-11  \n",
       "20      2020-10-21                       NaN                 2020-10-12  \n",
       "26      2020-10-21                       NaN                 2020-10-13  "
      ]
     },
     "execution_count": 29,
     "metadata": {},
     "output_type": "execute_result"
    }
   ],
   "source": [
    "estimated_shared_diagnoses_df = daily_extracted_teks_df.copy()\n",
    "estimated_shared_diagnoses_df[\"new_sample_extraction_date\"] = \\\n",
    "    pd.to_datetime(estimated_shared_diagnoses_df.sample_date) + datetime.timedelta(1)\n",
    "estimated_shared_diagnoses_df[\"extraction_date\"] = pd.to_datetime(estimated_shared_diagnoses_df.extraction_date)\n",
    "estimated_shared_diagnoses_df[\"sample_date\"] = pd.to_datetime(estimated_shared_diagnoses_df.sample_date)\n",
    "estimated_shared_diagnoses_df.head()"
   ]
  },
  {
   "cell_type": "code",
   "execution_count": 30,
   "metadata": {
    "collapsed": false,
    "execution": {
     "iopub.execute_input": "2020-10-21T06:28:33.068621Z",
     "iopub.status.busy": "2020-10-21T06:28:33.067803Z",
     "iopub.status.idle": "2020-10-21T06:28:33.071008Z",
     "shell.execute_reply": "2020-10-21T06:28:33.071445Z"
    },
    "papermill": {
     "duration": 0.070632,
     "end_time": "2020-10-21T06:28:33.071587",
     "exception": false,
     "start_time": "2020-10-21T06:28:33.000955",
     "status": "completed"
    },
    "pycharm": {
     "name": "#%%\n"
    },
    "tags": []
   },
   "outputs": [
    {
     "data": {
      "text/html": [
       "<div>\n",
       "<style scoped>\n",
       "    .dataframe tbody tr th:only-of-type {\n",
       "        vertical-align: middle;\n",
       "    }\n",
       "\n",
       "    .dataframe tbody tr th {\n",
       "        vertical-align: top;\n",
       "    }\n",
       "\n",
       "    .dataframe thead th {\n",
       "        text-align: right;\n",
       "    }\n",
       "</style>\n",
       "<table border=\"1\" class=\"dataframe\">\n",
       "  <thead>\n",
       "    <tr style=\"text-align: right;\">\n",
       "      <th></th>\n",
       "      <th>extraction_date</th>\n",
       "      <th>same_day_tek_list</th>\n",
       "    </tr>\n",
       "  </thead>\n",
       "  <tbody>\n",
       "    <tr>\n",
       "      <th>77</th>\n",
       "      <td>2020-10-21</td>\n",
       "      <td>[1f4d2cad-b210-c391-b8c1-0f3668ef3f74, 447aad8...</td>\n",
       "    </tr>\n",
       "    <tr>\n",
       "      <th>78</th>\n",
       "      <td>2020-10-20</td>\n",
       "      <td>[97b27565-a475-f559-44f7-2b692ee719c3, a031a2f...</td>\n",
       "    </tr>\n",
       "    <tr>\n",
       "      <th>78</th>\n",
       "      <td>2020-10-19</td>\n",
       "      <td>[49c35d4b-f069-88fd-c596-f1e5dea1fc8b, b9dc5ad...</td>\n",
       "    </tr>\n",
       "    <tr>\n",
       "      <th>116</th>\n",
       "      <td>2020-10-18</td>\n",
       "      <td>[655818ea-7b68-5788-d4c5-eaf6aefc8780, 7be987d...</td>\n",
       "    </tr>\n",
       "    <tr>\n",
       "      <th>79</th>\n",
       "      <td>2020-10-17</td>\n",
       "      <td>[a9e26e0b-d9eb-dab7-e470-13e1d3b974c9, 7ba307a...</td>\n",
       "    </tr>\n",
       "  </tbody>\n",
       "</table>\n",
       "</div>"
      ],
      "text/plain": [
       "    extraction_date                                  same_day_tek_list\n",
       "77       2020-10-21  [1f4d2cad-b210-c391-b8c1-0f3668ef3f74, 447aad8...\n",
       "78       2020-10-20  [97b27565-a475-f559-44f7-2b692ee719c3, a031a2f...\n",
       "78       2020-10-19  [49c35d4b-f069-88fd-c596-f1e5dea1fc8b, b9dc5ad...\n",
       "116      2020-10-18  [655818ea-7b68-5788-d4c5-eaf6aefc8780, 7be987d...\n",
       "79       2020-10-17  [a9e26e0b-d9eb-dab7-e470-13e1d3b974c9, 7ba307a..."
      ]
     },
     "execution_count": 30,
     "metadata": {},
     "output_type": "execute_result"
    }
   ],
   "source": [
    "# Sometimes TEKs from the same day are uploaded, we do not count them as new TEK devices:\n",
    "same_day_tek_list_df = estimated_shared_diagnoses_df[\n",
    "    estimated_shared_diagnoses_df.sample_date == estimated_shared_diagnoses_df.extraction_date].copy()\n",
    "same_day_tek_list_df = same_day_tek_list_df[[\"extraction_date\", \"tek_list\"]].rename(\n",
    "    columns={\"tek_list\": \"same_day_tek_list\"})\n",
    "same_day_tek_list_df.head()"
   ]
  },
  {
   "cell_type": "code",
   "execution_count": 31,
   "metadata": {
    "collapsed": false,
    "execution": {
     "iopub.execute_input": "2020-10-21T06:28:33.189866Z",
     "iopub.status.busy": "2020-10-21T06:28:33.189305Z",
     "iopub.status.idle": "2020-10-21T06:28:33.192905Z",
     "shell.execute_reply": "2020-10-21T06:28:33.192413Z"
    },
    "papermill": {
     "duration": 0.067336,
     "end_time": "2020-10-21T06:28:33.193033",
     "exception": false,
     "start_time": "2020-10-21T06:28:33.125697",
     "status": "completed"
    },
    "pycharm": {
     "name": "#%%\n"
    },
    "tags": []
   },
   "outputs": [
    {
     "data": {
      "text/html": [
       "<div>\n",
       "<style scoped>\n",
       "    .dataframe tbody tr th:only-of-type {\n",
       "        vertical-align: middle;\n",
       "    }\n",
       "\n",
       "    .dataframe tbody tr th {\n",
       "        vertical-align: top;\n",
       "    }\n",
       "\n",
       "    .dataframe thead th {\n",
       "        text-align: right;\n",
       "    }\n",
       "</style>\n",
       "<table border=\"1\" class=\"dataframe\">\n",
       "  <thead>\n",
       "    <tr style=\"text-align: right;\">\n",
       "      <th></th>\n",
       "      <th>sample_date_string</th>\n",
       "      <th>shared_teks_uploaded_on_generation_date</th>\n",
       "    </tr>\n",
       "  </thead>\n",
       "  <tbody>\n",
       "    <tr>\n",
       "      <th>77</th>\n",
       "      <td>2020-10-21</td>\n",
       "      <td>3</td>\n",
       "    </tr>\n",
       "    <tr>\n",
       "      <th>78</th>\n",
       "      <td>2020-10-20</td>\n",
       "      <td>149</td>\n",
       "    </tr>\n",
       "    <tr>\n",
       "      <th>78</th>\n",
       "      <td>2020-10-19</td>\n",
       "      <td>142</td>\n",
       "    </tr>\n",
       "    <tr>\n",
       "      <th>116</th>\n",
       "      <td>2020-10-18</td>\n",
       "      <td>146</td>\n",
       "    </tr>\n",
       "    <tr>\n",
       "      <th>79</th>\n",
       "      <td>2020-10-17</td>\n",
       "      <td>174</td>\n",
       "    </tr>\n",
       "  </tbody>\n",
       "</table>\n",
       "</div>"
      ],
      "text/plain": [
       "    sample_date_string  shared_teks_uploaded_on_generation_date\n",
       "77          2020-10-21                                        3\n",
       "78          2020-10-20                                      149\n",
       "78          2020-10-19                                      142\n",
       "116         2020-10-18                                      146\n",
       "79          2020-10-17                                      174"
      ]
     },
     "execution_count": 31,
     "metadata": {},
     "output_type": "execute_result"
    }
   ],
   "source": [
    "shared_teks_uploaded_on_generation_date_df = same_day_tek_list_df.rename(\n",
    "    columns={\n",
    "        \"extraction_date\": \"sample_date_string\",\n",
    "        \"same_day_tek_list\": \"shared_teks_uploaded_on_generation_date\",\n",
    "    })\n",
    "shared_teks_uploaded_on_generation_date_df.shared_teks_uploaded_on_generation_date = \\\n",
    " shared_teks_uploaded_on_generation_date_df.shared_teks_uploaded_on_generation_date.apply(len)\n",
    "shared_teks_uploaded_on_generation_date_df.head()\n",
    "shared_teks_uploaded_on_generation_date_df[\"sample_date_string\"] = \\\n",
    "    shared_teks_uploaded_on_generation_date_df.sample_date_string.dt.strftime(\"%Y-%m-%d\")\n",
    "shared_teks_uploaded_on_generation_date_df.head()"
   ]
  },
  {
   "cell_type": "code",
   "execution_count": 32,
   "metadata": {
    "collapsed": false,
    "execution": {
     "iopub.execute_input": "2020-10-21T06:28:33.319823Z",
     "iopub.status.busy": "2020-10-21T06:28:33.319272Z",
     "iopub.status.idle": "2020-10-21T06:28:33.325027Z",
     "shell.execute_reply": "2020-10-21T06:28:33.325453Z"
    },
    "papermill": {
     "duration": 0.080802,
     "end_time": "2020-10-21T06:28:33.325611",
     "exception": false,
     "start_time": "2020-10-21T06:28:33.244809",
     "status": "completed"
    },
    "pycharm": {
     "name": "#%%\n"
    },
    "tags": []
   },
   "outputs": [
    {
     "data": {
      "text/html": [
       "<div>\n",
       "<style scoped>\n",
       "    .dataframe tbody tr th:only-of-type {\n",
       "        vertical-align: middle;\n",
       "    }\n",
       "\n",
       "    .dataframe tbody tr th {\n",
       "        vertical-align: top;\n",
       "    }\n",
       "\n",
       "    .dataframe thead th {\n",
       "        text-align: right;\n",
       "    }\n",
       "</style>\n",
       "<table border=\"1\" class=\"dataframe\">\n",
       "  <thead>\n",
       "    <tr style=\"text-align: right;\">\n",
       "      <th></th>\n",
       "      <th>region</th>\n",
       "      <th>sample_date</th>\n",
       "      <th>tek_list</th>\n",
       "      <th>extraction_date</th>\n",
       "      <th>extraction_date_with_hour</th>\n",
       "      <th>new_sample_extraction_date</th>\n",
       "    </tr>\n",
       "  </thead>\n",
       "  <tbody>\n",
       "    <tr>\n",
       "      <th>73</th>\n",
       "      <td>ES</td>\n",
       "      <td>2020-10-20</td>\n",
       "      <td>[90be9b1d-df8b-03d3-f036-bd97a0f4aa7a, 3f7f392...</td>\n",
       "      <td>2020-10-21</td>\n",
       "      <td>NaN</td>\n",
       "      <td>2020-10-21</td>\n",
       "    </tr>\n",
       "    <tr>\n",
       "      <th>73</th>\n",
       "      <td>ES</td>\n",
       "      <td>2020-10-19</td>\n",
       "      <td>[1c849f04-e59b-7f45-7e6b-e13356aec58b, 53ea152...</td>\n",
       "      <td>2020-10-20</td>\n",
       "      <td>NaN</td>\n",
       "      <td>2020-10-20</td>\n",
       "    </tr>\n",
       "    <tr>\n",
       "      <th>73</th>\n",
       "      <td>ES</td>\n",
       "      <td>2020-10-18</td>\n",
       "      <td>[d1d49196-d84e-b08c-f0b0-766022303d56, b51293d...</td>\n",
       "      <td>2020-10-19</td>\n",
       "      <td>NaN</td>\n",
       "      <td>2020-10-19</td>\n",
       "    </tr>\n",
       "    <tr>\n",
       "      <th>110</th>\n",
       "      <td>ES</td>\n",
       "      <td>2020-10-17</td>\n",
       "      <td>[6a7f4f73-937b-46ae-caa5-55ec962fd39b, 5de6c32...</td>\n",
       "      <td>2020-10-18</td>\n",
       "      <td>NaN</td>\n",
       "      <td>2020-10-18</td>\n",
       "    </tr>\n",
       "    <tr>\n",
       "      <th>74</th>\n",
       "      <td>ES</td>\n",
       "      <td>2020-10-16</td>\n",
       "      <td>[decb300e-93db-4f22-3c72-537d486fe321, d6a5666...</td>\n",
       "      <td>2020-10-17</td>\n",
       "      <td>NaN</td>\n",
       "      <td>2020-10-17</td>\n",
       "    </tr>\n",
       "  </tbody>\n",
       "</table>\n",
       "</div>"
      ],
      "text/plain": [
       "    region sample_date                                           tek_list  \\\n",
       "73      ES  2020-10-20  [90be9b1d-df8b-03d3-f036-bd97a0f4aa7a, 3f7f392...   \n",
       "73      ES  2020-10-19  [1c849f04-e59b-7f45-7e6b-e13356aec58b, 53ea152...   \n",
       "73      ES  2020-10-18  [d1d49196-d84e-b08c-f0b0-766022303d56, b51293d...   \n",
       "110     ES  2020-10-17  [6a7f4f73-937b-46ae-caa5-55ec962fd39b, 5de6c32...   \n",
       "74      ES  2020-10-16  [decb300e-93db-4f22-3c72-537d486fe321, d6a5666...   \n",
       "\n",
       "    extraction_date extraction_date_with_hour new_sample_extraction_date  \n",
       "73       2020-10-21                       NaN                 2020-10-21  \n",
       "73       2020-10-20                       NaN                 2020-10-20  \n",
       "73       2020-10-19                       NaN                 2020-10-19  \n",
       "110      2020-10-18                       NaN                 2020-10-18  \n",
       "74       2020-10-17                       NaN                 2020-10-17  "
      ]
     },
     "execution_count": 32,
     "metadata": {},
     "output_type": "execute_result"
    }
   ],
   "source": [
    "estimated_shared_diagnoses_df = estimated_shared_diagnoses_df[\n",
    "    estimated_shared_diagnoses_df.new_sample_extraction_date == estimated_shared_diagnoses_df.extraction_date]\n",
    "estimated_shared_diagnoses_df.head()"
   ]
  },
  {
   "cell_type": "code",
   "execution_count": 33,
   "metadata": {
    "collapsed": false,
    "execution": {
     "iopub.execute_input": "2020-10-21T06:28:33.463534Z",
     "iopub.status.busy": "2020-10-21T06:28:33.446437Z",
     "iopub.status.idle": "2020-10-21T06:28:33.468498Z",
     "shell.execute_reply": "2020-10-21T06:28:33.468927Z"
    },
    "papermill": {
     "duration": 0.090716,
     "end_time": "2020-10-21T06:28:33.469102",
     "exception": false,
     "start_time": "2020-10-21T06:28:33.378386",
     "status": "completed"
    },
    "pycharm": {
     "name": "#%%\n"
    },
    "tags": []
   },
   "outputs": [
    {
     "data": {
      "text/html": [
       "<div>\n",
       "<style scoped>\n",
       "    .dataframe tbody tr th:only-of-type {\n",
       "        vertical-align: middle;\n",
       "    }\n",
       "\n",
       "    .dataframe tbody tr th {\n",
       "        vertical-align: top;\n",
       "    }\n",
       "\n",
       "    .dataframe thead th {\n",
       "        text-align: right;\n",
       "    }\n",
       "</style>\n",
       "<table border=\"1\" class=\"dataframe\">\n",
       "  <thead>\n",
       "    <tr style=\"text-align: right;\">\n",
       "      <th></th>\n",
       "      <th>region</th>\n",
       "      <th>sample_date</th>\n",
       "      <th>tek_list</th>\n",
       "      <th>extraction_date</th>\n",
       "      <th>extraction_date_with_hour</th>\n",
       "      <th>new_sample_extraction_date</th>\n",
       "      <th>same_day_tek_list</th>\n",
       "    </tr>\n",
       "  </thead>\n",
       "  <tbody>\n",
       "    <tr>\n",
       "      <th>0</th>\n",
       "      <td>ES</td>\n",
       "      <td>2020-10-20</td>\n",
       "      <td>[90be9b1d-df8b-03d3-f036-bd97a0f4aa7a, 3f7f392...</td>\n",
       "      <td>2020-10-21</td>\n",
       "      <td>NaN</td>\n",
       "      <td>2020-10-21</td>\n",
       "      <td>[97b27565-a475-f559-44f7-2b692ee719c3, a031a2f...</td>\n",
       "    </tr>\n",
       "    <tr>\n",
       "      <th>1</th>\n",
       "      <td>ES</td>\n",
       "      <td>2020-10-19</td>\n",
       "      <td>[1c849f04-e59b-7f45-7e6b-e13356aec58b, 53ea152...</td>\n",
       "      <td>2020-10-20</td>\n",
       "      <td>NaN</td>\n",
       "      <td>2020-10-20</td>\n",
       "      <td>[49c35d4b-f069-88fd-c596-f1e5dea1fc8b, b9dc5ad...</td>\n",
       "    </tr>\n",
       "    <tr>\n",
       "      <th>2</th>\n",
       "      <td>ES</td>\n",
       "      <td>2020-10-18</td>\n",
       "      <td>[d1d49196-d84e-b08c-f0b0-766022303d56, b51293d...</td>\n",
       "      <td>2020-10-19</td>\n",
       "      <td>NaN</td>\n",
       "      <td>2020-10-19</td>\n",
       "      <td>[655818ea-7b68-5788-d4c5-eaf6aefc8780, 7be987d...</td>\n",
       "    </tr>\n",
       "    <tr>\n",
       "      <th>3</th>\n",
       "      <td>ES</td>\n",
       "      <td>2020-10-17</td>\n",
       "      <td>[6a7f4f73-937b-46ae-caa5-55ec962fd39b, 5de6c32...</td>\n",
       "      <td>2020-10-18</td>\n",
       "      <td>NaN</td>\n",
       "      <td>2020-10-18</td>\n",
       "      <td>[a9e26e0b-d9eb-dab7-e470-13e1d3b974c9, 7ba307a...</td>\n",
       "    </tr>\n",
       "    <tr>\n",
       "      <th>4</th>\n",
       "      <td>ES</td>\n",
       "      <td>2020-10-16</td>\n",
       "      <td>[decb300e-93db-4f22-3c72-537d486fe321, d6a5666...</td>\n",
       "      <td>2020-10-17</td>\n",
       "      <td>NaN</td>\n",
       "      <td>2020-10-17</td>\n",
       "      <td>[6b9f719b-f023-a1e7-508a-39efc8f21a3a, 866a279...</td>\n",
       "    </tr>\n",
       "  </tbody>\n",
       "</table>\n",
       "</div>"
      ],
      "text/plain": [
       "  region sample_date                                           tek_list  \\\n",
       "0     ES  2020-10-20  [90be9b1d-df8b-03d3-f036-bd97a0f4aa7a, 3f7f392...   \n",
       "1     ES  2020-10-19  [1c849f04-e59b-7f45-7e6b-e13356aec58b, 53ea152...   \n",
       "2     ES  2020-10-18  [d1d49196-d84e-b08c-f0b0-766022303d56, b51293d...   \n",
       "3     ES  2020-10-17  [6a7f4f73-937b-46ae-caa5-55ec962fd39b, 5de6c32...   \n",
       "4     ES  2020-10-16  [decb300e-93db-4f22-3c72-537d486fe321, d6a5666...   \n",
       "\n",
       "  extraction_date extraction_date_with_hour new_sample_extraction_date  \\\n",
       "0      2020-10-21                       NaN                 2020-10-21   \n",
       "1      2020-10-20                       NaN                 2020-10-20   \n",
       "2      2020-10-19                       NaN                 2020-10-19   \n",
       "3      2020-10-18                       NaN                 2020-10-18   \n",
       "4      2020-10-17                       NaN                 2020-10-17   \n",
       "\n",
       "                                   same_day_tek_list  \n",
       "0  [97b27565-a475-f559-44f7-2b692ee719c3, a031a2f...  \n",
       "1  [49c35d4b-f069-88fd-c596-f1e5dea1fc8b, b9dc5ad...  \n",
       "2  [655818ea-7b68-5788-d4c5-eaf6aefc8780, 7be987d...  \n",
       "3  [a9e26e0b-d9eb-dab7-e470-13e1d3b974c9, 7ba307a...  \n",
       "4  [6b9f719b-f023-a1e7-508a-39efc8f21a3a, 866a279...  "
      ]
     },
     "execution_count": 33,
     "metadata": {},
     "output_type": "execute_result"
    }
   ],
   "source": [
    "same_day_tek_list_df[\"extraction_date\"] = \\\n",
    "    same_day_tek_list_df.extraction_date + datetime.timedelta(1)\n",
    "estimated_shared_diagnoses_df = \\\n",
    "    estimated_shared_diagnoses_df.merge(same_day_tek_list_df, how=\"left\", on=[\"extraction_date\"])\n",
    "estimated_shared_diagnoses_df[\"same_day_tek_list\"] = \\\n",
    "    estimated_shared_diagnoses_df.same_day_tek_list.apply(lambda x: [] if x is np.nan else x)\n",
    "estimated_shared_diagnoses_df.head()"
   ]
  },
  {
   "cell_type": "code",
   "execution_count": 34,
   "metadata": {
    "execution": {
     "iopub.execute_input": "2020-10-21T06:28:33.588643Z",
     "iopub.status.busy": "2020-10-21T06:28:33.587208Z",
     "iopub.status.idle": "2020-10-21T06:28:33.604075Z",
     "shell.execute_reply": "2020-10-21T06:28:33.604548Z"
    },
    "papermill": {
     "duration": 0.081165,
     "end_time": "2020-10-21T06:28:33.604876",
     "exception": false,
     "start_time": "2020-10-21T06:28:33.523711",
     "status": "completed"
    },
    "tags": []
   },
   "outputs": [
    {
     "data": {
      "text/html": [
       "<div>\n",
       "<style scoped>\n",
       "    .dataframe tbody tr th:only-of-type {\n",
       "        vertical-align: middle;\n",
       "    }\n",
       "\n",
       "    .dataframe tbody tr th {\n",
       "        vertical-align: top;\n",
       "    }\n",
       "\n",
       "    .dataframe thead th {\n",
       "        text-align: right;\n",
       "    }\n",
       "</style>\n",
       "<table border=\"1\" class=\"dataframe\">\n",
       "  <thead>\n",
       "    <tr style=\"text-align: right;\">\n",
       "      <th></th>\n",
       "      <th>sample_date_string</th>\n",
       "      <th>shared_diagnoses</th>\n",
       "    </tr>\n",
       "  </thead>\n",
       "  <tbody>\n",
       "    <tr>\n",
       "      <th>0</th>\n",
       "      <td>2020-10-21</td>\n",
       "      <td>11</td>\n",
       "    </tr>\n",
       "    <tr>\n",
       "      <th>1</th>\n",
       "      <td>2020-10-20</td>\n",
       "      <td>135</td>\n",
       "    </tr>\n",
       "    <tr>\n",
       "      <th>2</th>\n",
       "      <td>2020-10-19</td>\n",
       "      <td>123</td>\n",
       "    </tr>\n",
       "    <tr>\n",
       "      <th>3</th>\n",
       "      <td>2020-10-18</td>\n",
       "      <td>132</td>\n",
       "    </tr>\n",
       "    <tr>\n",
       "      <th>4</th>\n",
       "      <td>2020-10-17</td>\n",
       "      <td>138</td>\n",
       "    </tr>\n",
       "  </tbody>\n",
       "</table>\n",
       "</div>"
      ],
      "text/plain": [
       "  sample_date_string  shared_diagnoses\n",
       "0         2020-10-21                11\n",
       "1         2020-10-20               135\n",
       "2         2020-10-19               123\n",
       "3         2020-10-18               132\n",
       "4         2020-10-17               138"
      ]
     },
     "execution_count": 34,
     "metadata": {},
     "output_type": "execute_result"
    }
   ],
   "source": [
    "estimated_shared_diagnoses_df.set_index(\"extraction_date\", inplace=True)\n",
    "estimated_shared_diagnoses_df[\"shared_diagnoses\"] = estimated_shared_diagnoses_df.apply(\n",
    "    lambda x: len(set(x.tek_list).difference(x.same_day_tek_list)), axis=1).copy()\n",
    "estimated_shared_diagnoses_df.reset_index(inplace=True)\n",
    "estimated_shared_diagnoses_df.rename(columns={\n",
    "    \"extraction_date\": \"sample_date_string\"}, inplace=True)\n",
    "estimated_shared_diagnoses_df = estimated_shared_diagnoses_df[[\"sample_date_string\", \"shared_diagnoses\"]]\n",
    "estimated_shared_diagnoses_df[\"sample_date_string\"] = estimated_shared_diagnoses_df.sample_date_string.dt.strftime(\"%Y-%m-%d\")\n",
    "estimated_shared_diagnoses_df.head()"
   ]
  },
  {
   "cell_type": "markdown",
   "metadata": {
    "papermill": {
     "duration": 0.057728,
     "end_time": "2020-10-21T06:28:33.722343",
     "exception": false,
     "start_time": "2020-10-21T06:28:33.664615",
     "status": "completed"
    },
    "pycharm": {
     "name": "#%% md\n"
    },
    "tags": []
   },
   "source": [
    "### Hourly New TEKs"
   ]
  },
  {
   "cell_type": "code",
   "execution_count": 35,
   "metadata": {
    "execution": {
     "iopub.execute_input": "2020-10-21T06:28:33.841383Z",
     "iopub.status.busy": "2020-10-21T06:28:33.840810Z",
     "iopub.status.idle": "2020-10-21T06:28:34.328705Z",
     "shell.execute_reply": "2020-10-21T06:28:34.329145Z"
    },
    "papermill": {
     "duration": 0.549313,
     "end_time": "2020-10-21T06:28:34.329433",
     "exception": false,
     "start_time": "2020-10-21T06:28:33.780120",
     "status": "completed"
    },
    "pycharm": {
     "name": "#%%\n"
    },
    "tags": []
   },
   "outputs": [
    {
     "data": {
      "text/html": [
       "<div>\n",
       "<style scoped>\n",
       "    .dataframe tbody tr th:only-of-type {\n",
       "        vertical-align: middle;\n",
       "    }\n",
       "\n",
       "    .dataframe tbody tr th {\n",
       "        vertical-align: top;\n",
       "    }\n",
       "\n",
       "    .dataframe thead th {\n",
       "        text-align: right;\n",
       "    }\n",
       "</style>\n",
       "<table border=\"1\" class=\"dataframe\">\n",
       "  <thead>\n",
       "    <tr style=\"text-align: right;\">\n",
       "      <th></th>\n",
       "      <th>region</th>\n",
       "      <th>sample_date</th>\n",
       "      <th>tek_list</th>\n",
       "      <th>extraction_date</th>\n",
       "      <th>extraction_date_with_hour</th>\n",
       "    </tr>\n",
       "  </thead>\n",
       "  <tbody>\n",
       "    <tr>\n",
       "      <th>2</th>\n",
       "      <td>ES</td>\n",
       "      <td>2020-10-08</td>\n",
       "      <td>[1f72df57-f183-79ec-2fc0-dfce4cc40ab3, cd5cf5d...</td>\n",
       "      <td>2020-10-21</td>\n",
       "      <td>2020-10-21@06</td>\n",
       "    </tr>\n",
       "    <tr>\n",
       "      <th>8</th>\n",
       "      <td>ES</td>\n",
       "      <td>2020-10-09</td>\n",
       "      <td>[5f4aa687-b5a6-5b43-ea7b-70a8a063c4cd, 584d63c...</td>\n",
       "      <td>2020-10-21</td>\n",
       "      <td>2020-10-21@06</td>\n",
       "    </tr>\n",
       "    <tr>\n",
       "      <th>14</th>\n",
       "      <td>ES</td>\n",
       "      <td>2020-10-10</td>\n",
       "      <td>[2aad400e-9cf8-bea9-bf15-2da451a01c28, ed99e8b...</td>\n",
       "      <td>2020-10-21</td>\n",
       "      <td>2020-10-21@06</td>\n",
       "    </tr>\n",
       "    <tr>\n",
       "      <th>20</th>\n",
       "      <td>ES</td>\n",
       "      <td>2020-10-11</td>\n",
       "      <td>[5932f1af-75b6-5bfa-6489-2ca4fa25f6e7, 67e4b1f...</td>\n",
       "      <td>2020-10-21</td>\n",
       "      <td>2020-10-21@06</td>\n",
       "    </tr>\n",
       "    <tr>\n",
       "      <th>26</th>\n",
       "      <td>ES</td>\n",
       "      <td>2020-10-12</td>\n",
       "      <td>[711d7d7d-5054-788e-3597-c4cc0dc2c1c3, e53b9db...</td>\n",
       "      <td>2020-10-21</td>\n",
       "      <td>2020-10-21@06</td>\n",
       "    </tr>\n",
       "  </tbody>\n",
       "</table>\n",
       "</div>"
      ],
      "text/plain": [
       "   region sample_date                                           tek_list  \\\n",
       "2      ES  2020-10-08  [1f72df57-f183-79ec-2fc0-dfce4cc40ab3, cd5cf5d...   \n",
       "8      ES  2020-10-09  [5f4aa687-b5a6-5b43-ea7b-70a8a063c4cd, 584d63c...   \n",
       "14     ES  2020-10-10  [2aad400e-9cf8-bea9-bf15-2da451a01c28, ed99e8b...   \n",
       "20     ES  2020-10-11  [5932f1af-75b6-5bfa-6489-2ca4fa25f6e7, 67e4b1f...   \n",
       "26     ES  2020-10-12  [711d7d7d-5054-788e-3597-c4cc0dc2c1c3, e53b9db...   \n",
       "\n",
       "   extraction_date extraction_date_with_hour  \n",
       "2       2020-10-21             2020-10-21@06  \n",
       "8       2020-10-21             2020-10-21@06  \n",
       "14      2020-10-21             2020-10-21@06  \n",
       "20      2020-10-21             2020-10-21@06  \n",
       "26      2020-10-21             2020-10-21@06  "
      ]
     },
     "execution_count": 35,
     "metadata": {},
     "output_type": "execute_result"
    }
   ],
   "source": [
    "hourly_extracted_teks_df = load_extracted_teks(\n",
    "    mode=\"Hourly\", region=active_region_country_code, limit=25)\n",
    "hourly_extracted_teks_df.head()"
   ]
  },
  {
   "cell_type": "code",
   "execution_count": 36,
   "metadata": {
    "collapsed": false,
    "execution": {
     "iopub.execute_input": "2020-10-21T06:28:34.466295Z",
     "iopub.status.busy": "2020-10-21T06:28:34.449841Z",
     "iopub.status.idle": "2020-10-21T06:28:34.508474Z",
     "shell.execute_reply": "2020-10-21T06:28:34.507877Z"
    },
    "papermill": {
     "duration": 0.122058,
     "end_time": "2020-10-21T06:28:34.508620",
     "exception": false,
     "start_time": "2020-10-21T06:28:34.386562",
     "status": "completed"
    },
    "pycharm": {
     "name": "#%%\n"
    },
    "tags": []
   },
   "outputs": [
    {
     "data": {
      "text/html": [
       "<div>\n",
       "<style scoped>\n",
       "    .dataframe tbody tr th:only-of-type {\n",
       "        vertical-align: middle;\n",
       "    }\n",
       "\n",
       "    .dataframe tbody tr th {\n",
       "        vertical-align: top;\n",
       "    }\n",
       "\n",
       "    .dataframe thead th {\n",
       "        text-align: right;\n",
       "    }\n",
       "</style>\n",
       "<table border=\"1\" class=\"dataframe\">\n",
       "  <thead>\n",
       "    <tr style=\"text-align: right;\">\n",
       "      <th></th>\n",
       "      <th>extraction_date_with_hour</th>\n",
       "      <th>shared_teks_by_upload_date</th>\n",
       "    </tr>\n",
       "  </thead>\n",
       "  <tbody>\n",
       "    <tr>\n",
       "      <th>0</th>\n",
       "      <td>2020-10-20@05</td>\n",
       "      <td>0</td>\n",
       "    </tr>\n",
       "    <tr>\n",
       "      <th>1</th>\n",
       "      <td>2020-10-20@06</td>\n",
       "      <td>1</td>\n",
       "    </tr>\n",
       "    <tr>\n",
       "      <th>2</th>\n",
       "      <td>2020-10-20@07</td>\n",
       "      <td>0</td>\n",
       "    </tr>\n",
       "    <tr>\n",
       "      <th>3</th>\n",
       "      <td>2020-10-20@08</td>\n",
       "      <td>82</td>\n",
       "    </tr>\n",
       "    <tr>\n",
       "      <th>4</th>\n",
       "      <td>2020-10-20@09</td>\n",
       "      <td>0</td>\n",
       "    </tr>\n",
       "  </tbody>\n",
       "</table>\n",
       "</div>"
      ],
      "text/plain": [
       "  extraction_date_with_hour  shared_teks_by_upload_date\n",
       "0             2020-10-20@05                           0\n",
       "1             2020-10-20@06                           1\n",
       "2             2020-10-20@07                           0\n",
       "3             2020-10-20@08                          82\n",
       "4             2020-10-20@09                           0"
      ]
     },
     "execution_count": 36,
     "metadata": {},
     "output_type": "execute_result"
    }
   ],
   "source": [
    "hourly_new_tek_count_df = hourly_extracted_teks_df \\\n",
    "    .groupby(\"extraction_date_with_hour\").tek_list. \\\n",
    "    apply(lambda x: set(sum(x, []))).reset_index().copy()\n",
    "hourly_new_tek_count_df = hourly_new_tek_count_df.set_index(\"extraction_date_with_hour\") \\\n",
    "    .sort_index(ascending=True)\n",
    "\n",
    "hourly_new_tek_count_df[\"new_tek_list\"] = hourly_new_tek_count_df.tek_list.diff()\n",
    "hourly_new_tek_count_df[\"new_tek_count\"] = hourly_new_tek_count_df.new_tek_list.apply(\n",
    "    lambda x: len(x) if not pd.isna(x) else 0)\n",
    "hourly_new_tek_count_df.rename(columns={\n",
    "    \"new_tek_count\": \"shared_teks_by_upload_date\"}, inplace=True)\n",
    "hourly_new_tek_count_df = hourly_new_tek_count_df.reset_index()[[\n",
    "    \"extraction_date_with_hour\", \"shared_teks_by_upload_date\"]]\n",
    "hourly_new_tek_count_df.head()"
   ]
  },
  {
   "cell_type": "code",
   "execution_count": 37,
   "metadata": {
    "execution": {
     "iopub.execute_input": "2020-10-21T06:28:34.635361Z",
     "iopub.status.busy": "2020-10-21T06:28:34.634479Z",
     "iopub.status.idle": "2020-10-21T06:28:34.658554Z",
     "shell.execute_reply": "2020-10-21T06:28:34.659100Z"
    },
    "papermill": {
     "duration": 0.093692,
     "end_time": "2020-10-21T06:28:34.659268",
     "exception": false,
     "start_time": "2020-10-21T06:28:34.565576",
     "status": "completed"
    },
    "pycharm": {
     "name": "#%%\n"
    },
    "tags": []
   },
   "outputs": [
    {
     "data": {
      "text/html": [
       "<div>\n",
       "<style scoped>\n",
       "    .dataframe tbody tr th:only-of-type {\n",
       "        vertical-align: middle;\n",
       "    }\n",
       "\n",
       "    .dataframe tbody tr th {\n",
       "        vertical-align: top;\n",
       "    }\n",
       "\n",
       "    .dataframe thead th {\n",
       "        text-align: right;\n",
       "    }\n",
       "</style>\n",
       "<table border=\"1\" class=\"dataframe\">\n",
       "  <thead>\n",
       "    <tr style=\"text-align: right;\">\n",
       "      <th></th>\n",
       "      <th>extraction_date_with_hour</th>\n",
       "      <th>shared_diagnoses</th>\n",
       "    </tr>\n",
       "  </thead>\n",
       "  <tbody>\n",
       "    <tr>\n",
       "      <th>0</th>\n",
       "      <td>2020-10-20@05</td>\n",
       "      <td>0</td>\n",
       "    </tr>\n",
       "    <tr>\n",
       "      <th>1</th>\n",
       "      <td>2020-10-20@06</td>\n",
       "      <td>0</td>\n",
       "    </tr>\n",
       "    <tr>\n",
       "      <th>2</th>\n",
       "      <td>2020-10-20@07</td>\n",
       "      <td>0</td>\n",
       "    </tr>\n",
       "    <tr>\n",
       "      <th>3</th>\n",
       "      <td>2020-10-20@08</td>\n",
       "      <td>20</td>\n",
       "    </tr>\n",
       "    <tr>\n",
       "      <th>4</th>\n",
       "      <td>2020-10-20@09</td>\n",
       "      <td>0</td>\n",
       "    </tr>\n",
       "  </tbody>\n",
       "</table>\n",
       "</div>"
      ],
      "text/plain": [
       "  extraction_date_with_hour  shared_diagnoses\n",
       "0             2020-10-20@05                 0\n",
       "1             2020-10-20@06                 0\n",
       "2             2020-10-20@07                 0\n",
       "3             2020-10-20@08                20\n",
       "4             2020-10-20@09                 0"
      ]
     },
     "execution_count": 37,
     "metadata": {},
     "output_type": "execute_result"
    }
   ],
   "source": [
    "hourly_estimated_shared_diagnoses_df = hourly_extracted_teks_df.copy()\n",
    "hourly_estimated_shared_diagnoses_df[\"new_sample_extraction_date\"] = \\\n",
    "    pd.to_datetime(hourly_estimated_shared_diagnoses_df.sample_date) + datetime.timedelta(1)\n",
    "hourly_estimated_shared_diagnoses_df[\"extraction_date\"] = \\\n",
    "    pd.to_datetime(hourly_estimated_shared_diagnoses_df.extraction_date)\n",
    "\n",
    "hourly_estimated_shared_diagnoses_df = hourly_estimated_shared_diagnoses_df[\n",
    "    hourly_estimated_shared_diagnoses_df.new_sample_extraction_date ==\n",
    "    hourly_estimated_shared_diagnoses_df.extraction_date]\n",
    "hourly_estimated_shared_diagnoses_df = \\\n",
    "    hourly_estimated_shared_diagnoses_df.merge(same_day_tek_list_df, how=\"left\", on=[\"extraction_date\"])\n",
    "hourly_estimated_shared_diagnoses_df[\"same_day_tek_list\"] = \\\n",
    "    hourly_estimated_shared_diagnoses_df.same_day_tek_list.apply(lambda x: [] if x is np.nan else x)\n",
    "hourly_estimated_shared_diagnoses_df[\"shared_diagnoses\"] = hourly_estimated_shared_diagnoses_df.apply(\n",
    "    lambda x: len(set(x.tek_list).difference(x.same_day_tek_list)), axis=1)\n",
    "hourly_estimated_shared_diagnoses_df = \\\n",
    "    hourly_estimated_shared_diagnoses_df.sort_values(\"extraction_date_with_hour\").copy()\n",
    "hourly_estimated_shared_diagnoses_df[\"shared_diagnoses\"] = hourly_estimated_shared_diagnoses_df \\\n",
    "    .groupby(\"extraction_date\").shared_diagnoses.diff() \\\n",
    "    .fillna(0).astype(int)\n",
    "\n",
    "hourly_estimated_shared_diagnoses_df.set_index(\"extraction_date_with_hour\", inplace=True)\n",
    "hourly_estimated_shared_diagnoses_df.reset_index(inplace=True)\n",
    "hourly_estimated_shared_diagnoses_df = hourly_estimated_shared_diagnoses_df[[\n",
    "    \"extraction_date_with_hour\", \"shared_diagnoses\"]]\n",
    "hourly_estimated_shared_diagnoses_df.head()"
   ]
  },
  {
   "cell_type": "code",
   "execution_count": 38,
   "metadata": {
    "collapsed": false,
    "execution": {
     "iopub.execute_input": "2020-10-21T06:28:34.792999Z",
     "iopub.status.busy": "2020-10-21T06:28:34.792441Z",
     "iopub.status.idle": "2020-10-21T06:28:34.797801Z",
     "shell.execute_reply": "2020-10-21T06:28:34.798145Z"
    },
    "papermill": {
     "duration": 0.080468,
     "end_time": "2020-10-21T06:28:34.798276",
     "exception": false,
     "start_time": "2020-10-21T06:28:34.717808",
     "status": "completed"
    },
    "pycharm": {
     "name": "#%%\n"
    },
    "tags": []
   },
   "outputs": [
    {
     "data": {
      "text/html": [
       "<div>\n",
       "<style scoped>\n",
       "    .dataframe tbody tr th:only-of-type {\n",
       "        vertical-align: middle;\n",
       "    }\n",
       "\n",
       "    .dataframe tbody tr th {\n",
       "        vertical-align: top;\n",
       "    }\n",
       "\n",
       "    .dataframe thead th {\n",
       "        text-align: right;\n",
       "    }\n",
       "</style>\n",
       "<table border=\"1\" class=\"dataframe\">\n",
       "  <thead>\n",
       "    <tr style=\"text-align: right;\">\n",
       "      <th></th>\n",
       "      <th>extraction_date_with_hour</th>\n",
       "      <th>shared_teks_by_upload_date</th>\n",
       "      <th>shared_diagnoses</th>\n",
       "    </tr>\n",
       "    <tr>\n",
       "      <th>datetime_utc</th>\n",
       "      <th></th>\n",
       "      <th></th>\n",
       "      <th></th>\n",
       "    </tr>\n",
       "  </thead>\n",
       "  <tbody>\n",
       "    <tr>\n",
       "      <th>2020-10-20 06:00:00</th>\n",
       "      <td>2020-10-20@06</td>\n",
       "      <td>1</td>\n",
       "      <td>0</td>\n",
       "    </tr>\n",
       "    <tr>\n",
       "      <th>2020-10-20 07:00:00</th>\n",
       "      <td>2020-10-20@07</td>\n",
       "      <td>0</td>\n",
       "      <td>0</td>\n",
       "    </tr>\n",
       "    <tr>\n",
       "      <th>2020-10-20 08:00:00</th>\n",
       "      <td>2020-10-20@08</td>\n",
       "      <td>82</td>\n",
       "      <td>20</td>\n",
       "    </tr>\n",
       "    <tr>\n",
       "      <th>2020-10-20 09:00:00</th>\n",
       "      <td>2020-10-20@09</td>\n",
       "      <td>0</td>\n",
       "      <td>0</td>\n",
       "    </tr>\n",
       "    <tr>\n",
       "      <th>2020-10-20 10:00:00</th>\n",
       "      <td>2020-10-20@10</td>\n",
       "      <td>114</td>\n",
       "      <td>20</td>\n",
       "    </tr>\n",
       "  </tbody>\n",
       "</table>\n",
       "</div>"
      ],
      "text/plain": [
       "                    extraction_date_with_hour  shared_teks_by_upload_date  \\\n",
       "datetime_utc                                                                \n",
       "2020-10-20 06:00:00             2020-10-20@06                           1   \n",
       "2020-10-20 07:00:00             2020-10-20@07                           0   \n",
       "2020-10-20 08:00:00             2020-10-20@08                          82   \n",
       "2020-10-20 09:00:00             2020-10-20@09                           0   \n",
       "2020-10-20 10:00:00             2020-10-20@10                         114   \n",
       "\n",
       "                     shared_diagnoses  \n",
       "datetime_utc                           \n",
       "2020-10-20 06:00:00                 0  \n",
       "2020-10-20 07:00:00                 0  \n",
       "2020-10-20 08:00:00                20  \n",
       "2020-10-20 09:00:00                 0  \n",
       "2020-10-20 10:00:00                20  "
      ]
     },
     "execution_count": 38,
     "metadata": {},
     "output_type": "execute_result"
    }
   ],
   "source": [
    "hourly_summary_df = hourly_new_tek_count_df.merge(\n",
    "    hourly_estimated_shared_diagnoses_df, on=[\"extraction_date_with_hour\"], how=\"outer\")\n",
    "hourly_summary_df.set_index(\"extraction_date_with_hour\", inplace=True)\n",
    "hourly_summary_df = hourly_summary_df.fillna(0).astype(int).reset_index()\n",
    "hourly_summary_df[\"datetime_utc\"] = pd.to_datetime(\n",
    "    hourly_summary_df.extraction_date_with_hour, format=\"%Y-%m-%d@%H\")\n",
    "hourly_summary_df.set_index(\"datetime_utc\", inplace=True)\n",
    "hourly_summary_df = hourly_summary_df.tail(-1)\n",
    "hourly_summary_df.head()"
   ]
  },
  {
   "cell_type": "markdown",
   "metadata": {
    "collapsed": false,
    "papermill": {
     "duration": 0.05332,
     "end_time": "2020-10-21T06:28:34.906129",
     "exception": false,
     "start_time": "2020-10-21T06:28:34.852809",
     "status": "completed"
    },
    "pycharm": {
     "name": "#%% md\n"
    },
    "tags": []
   },
   "source": [
    "### Data Merge"
   ]
  },
  {
   "cell_type": "code",
   "execution_count": 39,
   "metadata": {
    "collapsed": false,
    "execution": {
     "iopub.execute_input": "2020-10-21T06:28:35.026049Z",
     "iopub.status.busy": "2020-10-21T06:28:35.025444Z",
     "iopub.status.idle": "2020-10-21T06:28:35.028311Z",
     "shell.execute_reply": "2020-10-21T06:28:35.028768Z"
    },
    "papermill": {
     "duration": 0.069243,
     "end_time": "2020-10-21T06:28:35.028917",
     "exception": false,
     "start_time": "2020-10-21T06:28:34.959674",
     "status": "completed"
    },
    "pycharm": {
     "name": "#%%\n"
    },
    "tags": []
   },
   "outputs": [
    {
     "data": {
      "text/html": [
       "<div>\n",
       "<style scoped>\n",
       "    .dataframe tbody tr th:only-of-type {\n",
       "        vertical-align: middle;\n",
       "    }\n",
       "\n",
       "    .dataframe tbody tr th {\n",
       "        vertical-align: top;\n",
       "    }\n",
       "\n",
       "    .dataframe thead th {\n",
       "        text-align: right;\n",
       "    }\n",
       "</style>\n",
       "<table border=\"1\" class=\"dataframe\">\n",
       "  <thead>\n",
       "    <tr style=\"text-align: right;\">\n",
       "      <th></th>\n",
       "      <th>sample_date_string</th>\n",
       "      <th>shared_teks_by_generation_date</th>\n",
       "      <th>shared_teks_by_upload_date</th>\n",
       "    </tr>\n",
       "  </thead>\n",
       "  <tbody>\n",
       "    <tr>\n",
       "      <th>0</th>\n",
       "      <td>2020-10-21</td>\n",
       "      <td>3</td>\n",
       "      <td>30.0</td>\n",
       "    </tr>\n",
       "    <tr>\n",
       "      <th>1</th>\n",
       "      <td>2020-10-20</td>\n",
       "      <td>160</td>\n",
       "      <td>772.0</td>\n",
       "    </tr>\n",
       "    <tr>\n",
       "      <th>2</th>\n",
       "      <td>2020-10-19</td>\n",
       "      <td>281</td>\n",
       "      <td>791.0</td>\n",
       "    </tr>\n",
       "    <tr>\n",
       "      <th>3</th>\n",
       "      <td>2020-10-18</td>\n",
       "      <td>393</td>\n",
       "      <td>726.0</td>\n",
       "    </tr>\n",
       "    <tr>\n",
       "      <th>4</th>\n",
       "      <td>2020-10-17</td>\n",
       "      <td>533</td>\n",
       "      <td>767.0</td>\n",
       "    </tr>\n",
       "  </tbody>\n",
       "</table>\n",
       "</div>"
      ],
      "text/plain": [
       "  sample_date_string  shared_teks_by_generation_date  \\\n",
       "0         2020-10-21                               3   \n",
       "1         2020-10-20                             160   \n",
       "2         2020-10-19                             281   \n",
       "3         2020-10-18                             393   \n",
       "4         2020-10-17                             533   \n",
       "\n",
       "   shared_teks_by_upload_date  \n",
       "0                        30.0  \n",
       "1                       772.0  \n",
       "2                       791.0  \n",
       "3                       726.0  \n",
       "4                       767.0  "
      ]
     },
     "execution_count": 39,
     "metadata": {},
     "output_type": "execute_result"
    }
   ],
   "source": [
    "result_summary_df = exposure_keys_summary_df.merge(\n",
    "    new_tek_df, on=[\"sample_date_string\"], how=\"outer\")\n",
    "result_summary_df.head()"
   ]
  },
  {
   "cell_type": "code",
   "execution_count": 40,
   "metadata": {
    "execution": {
     "iopub.execute_input": "2020-10-21T06:28:35.153813Z",
     "iopub.status.busy": "2020-10-21T06:28:35.153239Z",
     "iopub.status.idle": "2020-10-21T06:28:35.159972Z",
     "shell.execute_reply": "2020-10-21T06:28:35.159526Z"
    },
    "papermill": {
     "duration": 0.075606,
     "end_time": "2020-10-21T06:28:35.160093",
     "exception": false,
     "start_time": "2020-10-21T06:28:35.084487",
     "status": "completed"
    },
    "tags": []
   },
   "outputs": [
    {
     "data": {
      "text/html": [
       "<div>\n",
       "<style scoped>\n",
       "    .dataframe tbody tr th:only-of-type {\n",
       "        vertical-align: middle;\n",
       "    }\n",
       "\n",
       "    .dataframe tbody tr th {\n",
       "        vertical-align: top;\n",
       "    }\n",
       "\n",
       "    .dataframe thead th {\n",
       "        text-align: right;\n",
       "    }\n",
       "</style>\n",
       "<table border=\"1\" class=\"dataframe\">\n",
       "  <thead>\n",
       "    <tr style=\"text-align: right;\">\n",
       "      <th></th>\n",
       "      <th>sample_date_string</th>\n",
       "      <th>shared_teks_by_generation_date</th>\n",
       "      <th>shared_teks_by_upload_date</th>\n",
       "      <th>shared_teks_uploaded_on_generation_date</th>\n",
       "    </tr>\n",
       "  </thead>\n",
       "  <tbody>\n",
       "    <tr>\n",
       "      <th>0</th>\n",
       "      <td>2020-10-21</td>\n",
       "      <td>3</td>\n",
       "      <td>30.0</td>\n",
       "      <td>3.0</td>\n",
       "    </tr>\n",
       "    <tr>\n",
       "      <th>1</th>\n",
       "      <td>2020-10-20</td>\n",
       "      <td>160</td>\n",
       "      <td>772.0</td>\n",
       "      <td>149.0</td>\n",
       "    </tr>\n",
       "    <tr>\n",
       "      <th>2</th>\n",
       "      <td>2020-10-19</td>\n",
       "      <td>281</td>\n",
       "      <td>791.0</td>\n",
       "      <td>142.0</td>\n",
       "    </tr>\n",
       "    <tr>\n",
       "      <th>3</th>\n",
       "      <td>2020-10-18</td>\n",
       "      <td>393</td>\n",
       "      <td>726.0</td>\n",
       "      <td>146.0</td>\n",
       "    </tr>\n",
       "    <tr>\n",
       "      <th>4</th>\n",
       "      <td>2020-10-17</td>\n",
       "      <td>533</td>\n",
       "      <td>767.0</td>\n",
       "      <td>174.0</td>\n",
       "    </tr>\n",
       "  </tbody>\n",
       "</table>\n",
       "</div>"
      ],
      "text/plain": [
       "  sample_date_string  shared_teks_by_generation_date  \\\n",
       "0         2020-10-21                               3   \n",
       "1         2020-10-20                             160   \n",
       "2         2020-10-19                             281   \n",
       "3         2020-10-18                             393   \n",
       "4         2020-10-17                             533   \n",
       "\n",
       "   shared_teks_by_upload_date  shared_teks_uploaded_on_generation_date  \n",
       "0                        30.0                                      3.0  \n",
       "1                       772.0                                    149.0  \n",
       "2                       791.0                                    142.0  \n",
       "3                       726.0                                    146.0  \n",
       "4                       767.0                                    174.0  "
      ]
     },
     "execution_count": 40,
     "metadata": {},
     "output_type": "execute_result"
    }
   ],
   "source": [
    "result_summary_df = result_summary_df.merge(\n",
    "    shared_teks_uploaded_on_generation_date_df, on=[\"sample_date_string\"], how=\"outer\")\n",
    "result_summary_df.head()"
   ]
  },
  {
   "cell_type": "code",
   "execution_count": 41,
   "metadata": {
    "collapsed": false,
    "execution": {
     "iopub.execute_input": "2020-10-21T06:28:35.285092Z",
     "iopub.status.busy": "2020-10-21T06:28:35.283960Z",
     "iopub.status.idle": "2020-10-21T06:28:35.287477Z",
     "shell.execute_reply": "2020-10-21T06:28:35.287876Z"
    },
    "papermill": {
     "duration": 0.072457,
     "end_time": "2020-10-21T06:28:35.288003",
     "exception": false,
     "start_time": "2020-10-21T06:28:35.215546",
     "status": "completed"
    },
    "pycharm": {
     "name": "#%%\n"
    },
    "tags": []
   },
   "outputs": [
    {
     "data": {
      "text/html": [
       "<div>\n",
       "<style scoped>\n",
       "    .dataframe tbody tr th:only-of-type {\n",
       "        vertical-align: middle;\n",
       "    }\n",
       "\n",
       "    .dataframe tbody tr th {\n",
       "        vertical-align: top;\n",
       "    }\n",
       "\n",
       "    .dataframe thead th {\n",
       "        text-align: right;\n",
       "    }\n",
       "</style>\n",
       "<table border=\"1\" class=\"dataframe\">\n",
       "  <thead>\n",
       "    <tr style=\"text-align: right;\">\n",
       "      <th></th>\n",
       "      <th>sample_date_string</th>\n",
       "      <th>shared_teks_by_generation_date</th>\n",
       "      <th>shared_teks_by_upload_date</th>\n",
       "      <th>shared_teks_uploaded_on_generation_date</th>\n",
       "      <th>shared_diagnoses</th>\n",
       "    </tr>\n",
       "  </thead>\n",
       "  <tbody>\n",
       "    <tr>\n",
       "      <th>0</th>\n",
       "      <td>2020-10-21</td>\n",
       "      <td>3</td>\n",
       "      <td>30.0</td>\n",
       "      <td>3.0</td>\n",
       "      <td>11.0</td>\n",
       "    </tr>\n",
       "    <tr>\n",
       "      <th>1</th>\n",
       "      <td>2020-10-20</td>\n",
       "      <td>160</td>\n",
       "      <td>772.0</td>\n",
       "      <td>149.0</td>\n",
       "      <td>135.0</td>\n",
       "    </tr>\n",
       "    <tr>\n",
       "      <th>2</th>\n",
       "      <td>2020-10-19</td>\n",
       "      <td>281</td>\n",
       "      <td>791.0</td>\n",
       "      <td>142.0</td>\n",
       "      <td>123.0</td>\n",
       "    </tr>\n",
       "    <tr>\n",
       "      <th>3</th>\n",
       "      <td>2020-10-18</td>\n",
       "      <td>393</td>\n",
       "      <td>726.0</td>\n",
       "      <td>146.0</td>\n",
       "      <td>132.0</td>\n",
       "    </tr>\n",
       "    <tr>\n",
       "      <th>4</th>\n",
       "      <td>2020-10-17</td>\n",
       "      <td>533</td>\n",
       "      <td>767.0</td>\n",
       "      <td>174.0</td>\n",
       "      <td>138.0</td>\n",
       "    </tr>\n",
       "  </tbody>\n",
       "</table>\n",
       "</div>"
      ],
      "text/plain": [
       "  sample_date_string  shared_teks_by_generation_date  \\\n",
       "0         2020-10-21                               3   \n",
       "1         2020-10-20                             160   \n",
       "2         2020-10-19                             281   \n",
       "3         2020-10-18                             393   \n",
       "4         2020-10-17                             533   \n",
       "\n",
       "   shared_teks_by_upload_date  shared_teks_uploaded_on_generation_date  \\\n",
       "0                        30.0                                      3.0   \n",
       "1                       772.0                                    149.0   \n",
       "2                       791.0                                    142.0   \n",
       "3                       726.0                                    146.0   \n",
       "4                       767.0                                    174.0   \n",
       "\n",
       "   shared_diagnoses  \n",
       "0              11.0  \n",
       "1             135.0  \n",
       "2             123.0  \n",
       "3             132.0  \n",
       "4             138.0  "
      ]
     },
     "execution_count": 41,
     "metadata": {},
     "output_type": "execute_result"
    }
   ],
   "source": [
    "result_summary_df = result_summary_df.merge(\n",
    "    estimated_shared_diagnoses_df, on=[\"sample_date_string\"], how=\"outer\")\n",
    "result_summary_df.head()"
   ]
  },
  {
   "cell_type": "code",
   "execution_count": 42,
   "metadata": {
    "collapsed": false,
    "execution": {
     "iopub.execute_input": "2020-10-21T06:28:35.417900Z",
     "iopub.status.busy": "2020-10-21T06:28:35.414059Z",
     "iopub.status.idle": "2020-10-21T06:28:35.425864Z",
     "shell.execute_reply": "2020-10-21T06:28:35.425464Z"
    },
    "papermill": {
     "duration": 0.080292,
     "end_time": "2020-10-21T06:28:35.425974",
     "exception": false,
     "start_time": "2020-10-21T06:28:35.345682",
     "status": "completed"
    },
    "pycharm": {
     "name": "#%%\n"
    },
    "tags": []
   },
   "outputs": [
    {
     "data": {
      "text/html": [
       "<div>\n",
       "<style scoped>\n",
       "    .dataframe tbody tr th:only-of-type {\n",
       "        vertical-align: middle;\n",
       "    }\n",
       "\n",
       "    .dataframe tbody tr th {\n",
       "        vertical-align: top;\n",
       "    }\n",
       "\n",
       "    .dataframe thead th {\n",
       "        text-align: right;\n",
       "    }\n",
       "</style>\n",
       "<table border=\"1\" class=\"dataframe\">\n",
       "  <thead>\n",
       "    <tr style=\"text-align: right;\">\n",
       "      <th></th>\n",
       "      <th>sample_date_string</th>\n",
       "      <th>cumulative_cases</th>\n",
       "      <th>new_cases</th>\n",
       "      <th>covid_cases</th>\n",
       "      <th>shared_teks_by_generation_date</th>\n",
       "      <th>shared_teks_by_upload_date</th>\n",
       "      <th>shared_teks_uploaded_on_generation_date</th>\n",
       "      <th>shared_diagnoses</th>\n",
       "    </tr>\n",
       "  </thead>\n",
       "  <tbody>\n",
       "    <tr>\n",
       "      <th>0</th>\n",
       "      <td>2020-07-30</td>\n",
       "      <td>285430.0</td>\n",
       "      <td>2789.0</td>\n",
       "      <td>2181</td>\n",
       "      <td>NaN</td>\n",
       "      <td>NaN</td>\n",
       "      <td>NaN</td>\n",
       "      <td>NaN</td>\n",
       "    </tr>\n",
       "    <tr>\n",
       "      <th>1</th>\n",
       "      <td>2020-07-31</td>\n",
       "      <td>288522.0</td>\n",
       "      <td>3092.0</td>\n",
       "      <td>2300</td>\n",
       "      <td>NaN</td>\n",
       "      <td>NaN</td>\n",
       "      <td>NaN</td>\n",
       "      <td>NaN</td>\n",
       "    </tr>\n",
       "    <tr>\n",
       "      <th>2</th>\n",
       "      <td>2020-08-01</td>\n",
       "      <td>288522.0</td>\n",
       "      <td>0.0</td>\n",
       "      <td>2300</td>\n",
       "      <td>NaN</td>\n",
       "      <td>NaN</td>\n",
       "      <td>NaN</td>\n",
       "      <td>NaN</td>\n",
       "    </tr>\n",
       "    <tr>\n",
       "      <th>3</th>\n",
       "      <td>2020-08-02</td>\n",
       "      <td>288522.0</td>\n",
       "      <td>0.0</td>\n",
       "      <td>2300</td>\n",
       "      <td>NaN</td>\n",
       "      <td>NaN</td>\n",
       "      <td>NaN</td>\n",
       "      <td>NaN</td>\n",
       "    </tr>\n",
       "    <tr>\n",
       "      <th>4</th>\n",
       "      <td>2020-08-03</td>\n",
       "      <td>297054.0</td>\n",
       "      <td>8532.0</td>\n",
       "      <td>3519</td>\n",
       "      <td>NaN</td>\n",
       "      <td>NaN</td>\n",
       "      <td>NaN</td>\n",
       "      <td>NaN</td>\n",
       "    </tr>\n",
       "  </tbody>\n",
       "</table>\n",
       "</div>"
      ],
      "text/plain": [
       "  sample_date_string  cumulative_cases  new_cases  covid_cases  \\\n",
       "0         2020-07-30          285430.0     2789.0         2181   \n",
       "1         2020-07-31          288522.0     3092.0         2300   \n",
       "2         2020-08-01          288522.0        0.0         2300   \n",
       "3         2020-08-02          288522.0        0.0         2300   \n",
       "4         2020-08-03          297054.0     8532.0         3519   \n",
       "\n",
       "   shared_teks_by_generation_date  shared_teks_by_upload_date  \\\n",
       "0                             NaN                         NaN   \n",
       "1                             NaN                         NaN   \n",
       "2                             NaN                         NaN   \n",
       "3                             NaN                         NaN   \n",
       "4                             NaN                         NaN   \n",
       "\n",
       "   shared_teks_uploaded_on_generation_date  shared_diagnoses  \n",
       "0                                      NaN               NaN  \n",
       "1                                      NaN               NaN  \n",
       "2                                      NaN               NaN  \n",
       "3                                      NaN               NaN  \n",
       "4                                      NaN               NaN  "
      ]
     },
     "execution_count": 42,
     "metadata": {},
     "output_type": "execute_result"
    }
   ],
   "source": [
    "result_summary_df = confirmed_df.tail(daily_summary_days).merge(\n",
    "    result_summary_df, on=[\"sample_date_string\"], how=\"left\")\n",
    "result_summary_df.head()"
   ]
  },
  {
   "cell_type": "code",
   "execution_count": 43,
   "metadata": {
    "collapsed": false,
    "execution": {
     "iopub.execute_input": "2020-10-21T06:28:35.565819Z",
     "iopub.status.busy": "2020-10-21T06:28:35.564799Z",
     "iopub.status.idle": "2020-10-21T06:28:35.567561Z",
     "shell.execute_reply": "2020-10-21T06:28:35.567975Z"
    },
    "papermill": {
     "duration": 0.079383,
     "end_time": "2020-10-21T06:28:35.568125",
     "exception": false,
     "start_time": "2020-10-21T06:28:35.488742",
     "status": "completed"
    },
    "pycharm": {
     "name": "#%%\n"
    },
    "tags": []
   },
   "outputs": [
    {
     "data": {
      "text/html": [
       "<div>\n",
       "<style scoped>\n",
       "    .dataframe tbody tr th:only-of-type {\n",
       "        vertical-align: middle;\n",
       "    }\n",
       "\n",
       "    .dataframe tbody tr th {\n",
       "        vertical-align: top;\n",
       "    }\n",
       "\n",
       "    .dataframe thead th {\n",
       "        text-align: right;\n",
       "    }\n",
       "</style>\n",
       "<table border=\"1\" class=\"dataframe\">\n",
       "  <thead>\n",
       "    <tr style=\"text-align: right;\">\n",
       "      <th></th>\n",
       "      <th>cumulative_cases</th>\n",
       "      <th>new_cases</th>\n",
       "      <th>covid_cases</th>\n",
       "      <th>shared_teks_by_generation_date</th>\n",
       "      <th>shared_teks_by_upload_date</th>\n",
       "      <th>shared_teks_uploaded_on_generation_date</th>\n",
       "      <th>shared_diagnoses</th>\n",
       "    </tr>\n",
       "    <tr>\n",
       "      <th>sample_date</th>\n",
       "      <th></th>\n",
       "      <th></th>\n",
       "      <th></th>\n",
       "      <th></th>\n",
       "      <th></th>\n",
       "      <th></th>\n",
       "      <th></th>\n",
       "    </tr>\n",
       "  </thead>\n",
       "  <tbody>\n",
       "    <tr>\n",
       "      <th>2020-10-21</th>\n",
       "      <td>1001499.0</td>\n",
       "      <td>13177.0</td>\n",
       "      <td>13177</td>\n",
       "      <td>3.0</td>\n",
       "      <td>30.0</td>\n",
       "      <td>3.0</td>\n",
       "      <td>11.0</td>\n",
       "    </tr>\n",
       "    <tr>\n",
       "      <th>2020-10-20</th>\n",
       "      <td>988322.0</td>\n",
       "      <td>13873.0</td>\n",
       "      <td>13177</td>\n",
       "      <td>160.0</td>\n",
       "      <td>772.0</td>\n",
       "      <td>149.0</td>\n",
       "      <td>135.0</td>\n",
       "    </tr>\n",
       "    <tr>\n",
       "      <th>2020-10-19</th>\n",
       "      <td>974449.0</td>\n",
       "      <td>37889.0</td>\n",
       "      <td>12212</td>\n",
       "      <td>281.0</td>\n",
       "      <td>791.0</td>\n",
       "      <td>142.0</td>\n",
       "      <td>123.0</td>\n",
       "    </tr>\n",
       "    <tr>\n",
       "      <th>2020-10-18</th>\n",
       "      <td>936560.0</td>\n",
       "      <td>0.0</td>\n",
       "      <td>10778</td>\n",
       "      <td>393.0</td>\n",
       "      <td>726.0</td>\n",
       "      <td>146.0</td>\n",
       "      <td>132.0</td>\n",
       "    </tr>\n",
       "    <tr>\n",
       "      <th>2020-10-17</th>\n",
       "      <td>936560.0</td>\n",
       "      <td>0.0</td>\n",
       "      <td>10778</td>\n",
       "      <td>533.0</td>\n",
       "      <td>767.0</td>\n",
       "      <td>174.0</td>\n",
       "      <td>138.0</td>\n",
       "    </tr>\n",
       "  </tbody>\n",
       "</table>\n",
       "</div>"
      ],
      "text/plain": [
       "             cumulative_cases  new_cases  covid_cases  \\\n",
       "sample_date                                             \n",
       "2020-10-21          1001499.0    13177.0        13177   \n",
       "2020-10-20           988322.0    13873.0        13177   \n",
       "2020-10-19           974449.0    37889.0        12212   \n",
       "2020-10-18           936560.0        0.0        10778   \n",
       "2020-10-17           936560.0        0.0        10778   \n",
       "\n",
       "             shared_teks_by_generation_date  shared_teks_by_upload_date  \\\n",
       "sample_date                                                               \n",
       "2020-10-21                              3.0                        30.0   \n",
       "2020-10-20                            160.0                       772.0   \n",
       "2020-10-19                            281.0                       791.0   \n",
       "2020-10-18                            393.0                       726.0   \n",
       "2020-10-17                            533.0                       767.0   \n",
       "\n",
       "             shared_teks_uploaded_on_generation_date  shared_diagnoses  \n",
       "sample_date                                                             \n",
       "2020-10-21                                       3.0              11.0  \n",
       "2020-10-20                                     149.0             135.0  \n",
       "2020-10-19                                     142.0             123.0  \n",
       "2020-10-18                                     146.0             132.0  \n",
       "2020-10-17                                     174.0             138.0  "
      ]
     },
     "execution_count": 43,
     "metadata": {},
     "output_type": "execute_result"
    }
   ],
   "source": [
    "result_summary_df[\"sample_date\"] = pd.to_datetime(result_summary_df.sample_date_string)\n",
    "result_summary_df.set_index(\"sample_date\", inplace=True)\n",
    "result_summary_df.drop(columns=[\"sample_date_string\"], inplace=True)\n",
    "result_summary_df.sort_index(ascending=False, inplace=True)\n",
    "result_summary_df.head()"
   ]
  },
  {
   "cell_type": "code",
   "execution_count": 44,
   "metadata": {
    "collapsed": false,
    "execution": {
     "iopub.execute_input": "2020-10-21T06:28:35.716712Z",
     "iopub.status.busy": "2020-10-21T06:28:35.715407Z",
     "iopub.status.idle": "2020-10-21T06:28:35.718414Z",
     "shell.execute_reply": "2020-10-21T06:28:35.719005Z"
    },
    "papermill": {
     "duration": 0.091862,
     "end_time": "2020-10-21T06:28:35.719165",
     "exception": false,
     "start_time": "2020-10-21T06:28:35.627303",
     "status": "completed"
    },
    "pycharm": {
     "name": "#%%\n"
    },
    "tags": []
   },
   "outputs": [
    {
     "data": {
      "text/html": [
       "<div>\n",
       "<style scoped>\n",
       "    .dataframe tbody tr th:only-of-type {\n",
       "        vertical-align: middle;\n",
       "    }\n",
       "\n",
       "    .dataframe tbody tr th {\n",
       "        vertical-align: top;\n",
       "    }\n",
       "\n",
       "    .dataframe thead th {\n",
       "        text-align: right;\n",
       "    }\n",
       "</style>\n",
       "<table border=\"1\" class=\"dataframe\">\n",
       "  <thead>\n",
       "    <tr style=\"text-align: right;\">\n",
       "      <th></th>\n",
       "      <th>cumulative_cases</th>\n",
       "      <th>new_cases</th>\n",
       "      <th>covid_cases</th>\n",
       "      <th>shared_teks_by_generation_date</th>\n",
       "      <th>shared_teks_by_upload_date</th>\n",
       "      <th>shared_teks_uploaded_on_generation_date</th>\n",
       "      <th>shared_diagnoses</th>\n",
       "      <th>teks_per_shared_diagnosis</th>\n",
       "      <th>shared_diagnoses_per_covid_case</th>\n",
       "    </tr>\n",
       "    <tr>\n",
       "      <th>sample_date</th>\n",
       "      <th></th>\n",
       "      <th></th>\n",
       "      <th></th>\n",
       "      <th></th>\n",
       "      <th></th>\n",
       "      <th></th>\n",
       "      <th></th>\n",
       "      <th></th>\n",
       "      <th></th>\n",
       "    </tr>\n",
       "  </thead>\n",
       "  <tbody>\n",
       "    <tr>\n",
       "      <th>2020-10-21</th>\n",
       "      <td>1001499</td>\n",
       "      <td>13177</td>\n",
       "      <td>13177</td>\n",
       "      <td>3</td>\n",
       "      <td>30</td>\n",
       "      <td>3</td>\n",
       "      <td>11</td>\n",
       "      <td>2.727273</td>\n",
       "      <td>0.000835</td>\n",
       "    </tr>\n",
       "    <tr>\n",
       "      <th>2020-10-20</th>\n",
       "      <td>988322</td>\n",
       "      <td>13873</td>\n",
       "      <td>13177</td>\n",
       "      <td>160</td>\n",
       "      <td>772</td>\n",
       "      <td>149</td>\n",
       "      <td>135</td>\n",
       "      <td>5.718519</td>\n",
       "      <td>0.010245</td>\n",
       "    </tr>\n",
       "    <tr>\n",
       "      <th>2020-10-19</th>\n",
       "      <td>974449</td>\n",
       "      <td>37889</td>\n",
       "      <td>12212</td>\n",
       "      <td>281</td>\n",
       "      <td>791</td>\n",
       "      <td>142</td>\n",
       "      <td>123</td>\n",
       "      <td>6.430894</td>\n",
       "      <td>0.010072</td>\n",
       "    </tr>\n",
       "    <tr>\n",
       "      <th>2020-10-18</th>\n",
       "      <td>936560</td>\n",
       "      <td>0</td>\n",
       "      <td>10778</td>\n",
       "      <td>393</td>\n",
       "      <td>726</td>\n",
       "      <td>146</td>\n",
       "      <td>132</td>\n",
       "      <td>5.500000</td>\n",
       "      <td>0.012247</td>\n",
       "    </tr>\n",
       "    <tr>\n",
       "      <th>2020-10-17</th>\n",
       "      <td>936560</td>\n",
       "      <td>0</td>\n",
       "      <td>10778</td>\n",
       "      <td>533</td>\n",
       "      <td>767</td>\n",
       "      <td>174</td>\n",
       "      <td>138</td>\n",
       "      <td>5.557971</td>\n",
       "      <td>0.012804</td>\n",
       "    </tr>\n",
       "    <tr>\n",
       "      <th>2020-10-16</th>\n",
       "      <td>936560</td>\n",
       "      <td>15186</td>\n",
       "      <td>10778</td>\n",
       "      <td>587</td>\n",
       "      <td>769</td>\n",
       "      <td>149</td>\n",
       "      <td>141</td>\n",
       "      <td>5.453901</td>\n",
       "      <td>0.013082</td>\n",
       "    </tr>\n",
       "    <tr>\n",
       "      <th>2020-10-15</th>\n",
       "      <td>921374</td>\n",
       "      <td>13318</td>\n",
       "      <td>10436</td>\n",
       "      <td>652</td>\n",
       "      <td>671</td>\n",
       "      <td>151</td>\n",
       "      <td>175</td>\n",
       "      <td>3.834286</td>\n",
       "      <td>0.016769</td>\n",
       "    </tr>\n",
       "    <tr>\n",
       "      <th>2020-10-14</th>\n",
       "      <td>908056</td>\n",
       "      <td>11970</td>\n",
       "      <td>10308</td>\n",
       "      <td>616</td>\n",
       "      <td>463</td>\n",
       "      <td>1</td>\n",
       "      <td>133</td>\n",
       "      <td>3.481203</td>\n",
       "      <td>0.012903</td>\n",
       "    </tr>\n",
       "    <tr>\n",
       "      <th>2020-10-13</th>\n",
       "      <td>896086</td>\n",
       "      <td>7118</td>\n",
       "      <td>10097</td>\n",
       "      <td>553</td>\n",
       "      <td>334</td>\n",
       "      <td>1</td>\n",
       "      <td>112</td>\n",
       "      <td>2.982143</td>\n",
       "      <td>0.011092</td>\n",
       "    </tr>\n",
       "    <tr>\n",
       "      <th>2020-10-12</th>\n",
       "      <td>888968</td>\n",
       "      <td>27856</td>\n",
       "      <td>10794</td>\n",
       "      <td>505</td>\n",
       "      <td>326</td>\n",
       "      <td>2</td>\n",
       "      <td>136</td>\n",
       "      <td>2.397059</td>\n",
       "      <td>0.012600</td>\n",
       "    </tr>\n",
       "    <tr>\n",
       "      <th>2020-10-11</th>\n",
       "      <td>861112</td>\n",
       "      <td>0</td>\n",
       "      <td>10169</td>\n",
       "      <td>463</td>\n",
       "      <td>422</td>\n",
       "      <td>1</td>\n",
       "      <td>147</td>\n",
       "      <td>2.870748</td>\n",
       "      <td>0.014456</td>\n",
       "    </tr>\n",
       "    <tr>\n",
       "      <th>2020-10-10</th>\n",
       "      <td>861112</td>\n",
       "      <td>0</td>\n",
       "      <td>10169</td>\n",
       "      <td>430</td>\n",
       "      <td>429</td>\n",
       "      <td>0</td>\n",
       "      <td>133</td>\n",
       "      <td>3.225564</td>\n",
       "      <td>0.013079</td>\n",
       "    </tr>\n",
       "    <tr>\n",
       "      <th>2020-10-09</th>\n",
       "      <td>861112</td>\n",
       "      <td>12788</td>\n",
       "      <td>10169</td>\n",
       "      <td>421</td>\n",
       "      <td>348</td>\n",
       "      <td>1</td>\n",
       "      <td>105</td>\n",
       "      <td>3.314286</td>\n",
       "      <td>0.010325</td>\n",
       "    </tr>\n",
       "    <tr>\n",
       "      <th>2020-10-08</th>\n",
       "      <td>848324</td>\n",
       "      <td>12423</td>\n",
       "      <td>9960</td>\n",
       "      <td>414</td>\n",
       "      <td>272</td>\n",
       "      <td>1</td>\n",
       "      <td>86</td>\n",
       "      <td>3.162791</td>\n",
       "      <td>0.008635</td>\n",
       "    </tr>\n",
       "    <tr>\n",
       "      <th>2020-10-07</th>\n",
       "      <td>835901</td>\n",
       "      <td>10491</td>\n",
       "      <td>9530</td>\n",
       "      <td>375</td>\n",
       "      <td>178</td>\n",
       "      <td>0</td>\n",
       "      <td>54</td>\n",
       "      <td>3.296296</td>\n",
       "      <td>0.005666</td>\n",
       "    </tr>\n",
       "    <tr>\n",
       "      <th>2020-10-06</th>\n",
       "      <td>825410</td>\n",
       "      <td>11998</td>\n",
       "      <td>11021</td>\n",
       "      <td>384</td>\n",
       "      <td>233</td>\n",
       "      <td>60</td>\n",
       "      <td>56</td>\n",
       "      <td>4.160714</td>\n",
       "      <td>0.005081</td>\n",
       "    </tr>\n",
       "    <tr>\n",
       "      <th>2020-10-05</th>\n",
       "      <td>813412</td>\n",
       "      <td>23480</td>\n",
       "      <td>9307</td>\n",
       "      <td>350</td>\n",
       "      <td>273</td>\n",
       "      <td>52</td>\n",
       "      <td>69</td>\n",
       "      <td>3.956522</td>\n",
       "      <td>0.007414</td>\n",
       "    </tr>\n",
       "    <tr>\n",
       "      <th>2020-10-04</th>\n",
       "      <td>789932</td>\n",
       "      <td>0</td>\n",
       "      <td>10493</td>\n",
       "      <td>353</td>\n",
       "      <td>331</td>\n",
       "      <td>76</td>\n",
       "      <td>78</td>\n",
       "      <td>4.243590</td>\n",
       "      <td>0.007434</td>\n",
       "    </tr>\n",
       "    <tr>\n",
       "      <th>2020-10-03</th>\n",
       "      <td>789932</td>\n",
       "      <td>0</td>\n",
       "      <td>10493</td>\n",
       "      <td>312</td>\n",
       "      <td>324</td>\n",
       "      <td>69</td>\n",
       "      <td>76</td>\n",
       "      <td>4.263158</td>\n",
       "      <td>0.007243</td>\n",
       "    </tr>\n",
       "    <tr>\n",
       "      <th>2020-10-02</th>\n",
       "      <td>789932</td>\n",
       "      <td>11325</td>\n",
       "      <td>10493</td>\n",
       "      <td>312</td>\n",
       "      <td>299</td>\n",
       "      <td>72</td>\n",
       "      <td>72</td>\n",
       "      <td>4.152778</td>\n",
       "      <td>0.006862</td>\n",
       "    </tr>\n",
       "    <tr>\n",
       "      <th>2020-10-01</th>\n",
       "      <td>778607</td>\n",
       "      <td>9419</td>\n",
       "      <td>10628</td>\n",
       "      <td>317</td>\n",
       "      <td>367</td>\n",
       "      <td>75</td>\n",
       "      <td>74</td>\n",
       "      <td>4.959459</td>\n",
       "      <td>0.006963</td>\n",
       "    </tr>\n",
       "    <tr>\n",
       "      <th>2020-09-30</th>\n",
       "      <td>769188</td>\n",
       "      <td>20922</td>\n",
       "      <td>10805</td>\n",
       "      <td>294</td>\n",
       "      <td>271</td>\n",
       "      <td>55</td>\n",
       "      <td>51</td>\n",
       "      <td>5.313725</td>\n",
       "      <td>0.004720</td>\n",
       "    </tr>\n",
       "    <tr>\n",
       "      <th>2020-09-29</th>\n",
       "      <td>748266</td>\n",
       "      <td>0</td>\n",
       "      <td>9428</td>\n",
       "      <td>265</td>\n",
       "      <td>178</td>\n",
       "      <td>32</td>\n",
       "      <td>44</td>\n",
       "      <td>4.045455</td>\n",
       "      <td>0.004667</td>\n",
       "    </tr>\n",
       "    <tr>\n",
       "      <th>2020-09-28</th>\n",
       "      <td>748266</td>\n",
       "      <td>31785</td>\n",
       "      <td>10971</td>\n",
       "      <td>269</td>\n",
       "      <td>211</td>\n",
       "      <td>44</td>\n",
       "      <td>54</td>\n",
       "      <td>3.907407</td>\n",
       "      <td>0.004922</td>\n",
       "    </tr>\n",
       "    <tr>\n",
       "      <th>2020-09-27</th>\n",
       "      <td>716481</td>\n",
       "      <td>0</td>\n",
       "      <td>10920</td>\n",
       "      <td>315</td>\n",
       "      <td>449</td>\n",
       "      <td>98</td>\n",
       "      <td>108</td>\n",
       "      <td>4.157407</td>\n",
       "      <td>0.009890</td>\n",
       "    </tr>\n",
       "    <tr>\n",
       "      <th>2020-09-26</th>\n",
       "      <td>716481</td>\n",
       "      <td>0</td>\n",
       "      <td>10920</td>\n",
       "      <td>339</td>\n",
       "      <td>448</td>\n",
       "      <td>79</td>\n",
       "      <td>110</td>\n",
       "      <td>4.072727</td>\n",
       "      <td>0.010073</td>\n",
       "    </tr>\n",
       "    <tr>\n",
       "      <th>2020-09-25</th>\n",
       "      <td>716481</td>\n",
       "      <td>12272</td>\n",
       "      <td>10920</td>\n",
       "      <td>284</td>\n",
       "      <td>306</td>\n",
       "      <td>14</td>\n",
       "      <td>86</td>\n",
       "      <td>3.558140</td>\n",
       "      <td>0.007875</td>\n",
       "    </tr>\n",
       "    <tr>\n",
       "      <th>2020-09-24</th>\n",
       "      <td>704209</td>\n",
       "      <td>10653</td>\n",
       "      <td>11223</td>\n",
       "      <td>286</td>\n",
       "      <td>289</td>\n",
       "      <td>17</td>\n",
       "      <td>89</td>\n",
       "      <td>3.247191</td>\n",
       "      <td>0.007930</td>\n",
       "    </tr>\n",
       "  </tbody>\n",
       "</table>\n",
       "</div>"
      ],
      "text/plain": [
       "             cumulative_cases  new_cases  covid_cases  \\\n",
       "sample_date                                             \n",
       "2020-10-21            1001499      13177        13177   \n",
       "2020-10-20             988322      13873        13177   \n",
       "2020-10-19             974449      37889        12212   \n",
       "2020-10-18             936560          0        10778   \n",
       "2020-10-17             936560          0        10778   \n",
       "2020-10-16             936560      15186        10778   \n",
       "2020-10-15             921374      13318        10436   \n",
       "2020-10-14             908056      11970        10308   \n",
       "2020-10-13             896086       7118        10097   \n",
       "2020-10-12             888968      27856        10794   \n",
       "2020-10-11             861112          0        10169   \n",
       "2020-10-10             861112          0        10169   \n",
       "2020-10-09             861112      12788        10169   \n",
       "2020-10-08             848324      12423         9960   \n",
       "2020-10-07             835901      10491         9530   \n",
       "2020-10-06             825410      11998        11021   \n",
       "2020-10-05             813412      23480         9307   \n",
       "2020-10-04             789932          0        10493   \n",
       "2020-10-03             789932          0        10493   \n",
       "2020-10-02             789932      11325        10493   \n",
       "2020-10-01             778607       9419        10628   \n",
       "2020-09-30             769188      20922        10805   \n",
       "2020-09-29             748266          0         9428   \n",
       "2020-09-28             748266      31785        10971   \n",
       "2020-09-27             716481          0        10920   \n",
       "2020-09-26             716481          0        10920   \n",
       "2020-09-25             716481      12272        10920   \n",
       "2020-09-24             704209      10653        11223   \n",
       "\n",
       "             shared_teks_by_generation_date  shared_teks_by_upload_date  \\\n",
       "sample_date                                                               \n",
       "2020-10-21                                3                          30   \n",
       "2020-10-20                              160                         772   \n",
       "2020-10-19                              281                         791   \n",
       "2020-10-18                              393                         726   \n",
       "2020-10-17                              533                         767   \n",
       "2020-10-16                              587                         769   \n",
       "2020-10-15                              652                         671   \n",
       "2020-10-14                              616                         463   \n",
       "2020-10-13                              553                         334   \n",
       "2020-10-12                              505                         326   \n",
       "2020-10-11                              463                         422   \n",
       "2020-10-10                              430                         429   \n",
       "2020-10-09                              421                         348   \n",
       "2020-10-08                              414                         272   \n",
       "2020-10-07                              375                         178   \n",
       "2020-10-06                              384                         233   \n",
       "2020-10-05                              350                         273   \n",
       "2020-10-04                              353                         331   \n",
       "2020-10-03                              312                         324   \n",
       "2020-10-02                              312                         299   \n",
       "2020-10-01                              317                         367   \n",
       "2020-09-30                              294                         271   \n",
       "2020-09-29                              265                         178   \n",
       "2020-09-28                              269                         211   \n",
       "2020-09-27                              315                         449   \n",
       "2020-09-26                              339                         448   \n",
       "2020-09-25                              284                         306   \n",
       "2020-09-24                              286                         289   \n",
       "\n",
       "             shared_teks_uploaded_on_generation_date  shared_diagnoses  \\\n",
       "sample_date                                                              \n",
       "2020-10-21                                         3                11   \n",
       "2020-10-20                                       149               135   \n",
       "2020-10-19                                       142               123   \n",
       "2020-10-18                                       146               132   \n",
       "2020-10-17                                       174               138   \n",
       "2020-10-16                                       149               141   \n",
       "2020-10-15                                       151               175   \n",
       "2020-10-14                                         1               133   \n",
       "2020-10-13                                         1               112   \n",
       "2020-10-12                                         2               136   \n",
       "2020-10-11                                         1               147   \n",
       "2020-10-10                                         0               133   \n",
       "2020-10-09                                         1               105   \n",
       "2020-10-08                                         1                86   \n",
       "2020-10-07                                         0                54   \n",
       "2020-10-06                                        60                56   \n",
       "2020-10-05                                        52                69   \n",
       "2020-10-04                                        76                78   \n",
       "2020-10-03                                        69                76   \n",
       "2020-10-02                                        72                72   \n",
       "2020-10-01                                        75                74   \n",
       "2020-09-30                                        55                51   \n",
       "2020-09-29                                        32                44   \n",
       "2020-09-28                                        44                54   \n",
       "2020-09-27                                        98               108   \n",
       "2020-09-26                                        79               110   \n",
       "2020-09-25                                        14                86   \n",
       "2020-09-24                                        17                89   \n",
       "\n",
       "             teks_per_shared_diagnosis  shared_diagnoses_per_covid_case  \n",
       "sample_date                                                              \n",
       "2020-10-21                    2.727273                         0.000835  \n",
       "2020-10-20                    5.718519                         0.010245  \n",
       "2020-10-19                    6.430894                         0.010072  \n",
       "2020-10-18                    5.500000                         0.012247  \n",
       "2020-10-17                    5.557971                         0.012804  \n",
       "2020-10-16                    5.453901                         0.013082  \n",
       "2020-10-15                    3.834286                         0.016769  \n",
       "2020-10-14                    3.481203                         0.012903  \n",
       "2020-10-13                    2.982143                         0.011092  \n",
       "2020-10-12                    2.397059                         0.012600  \n",
       "2020-10-11                    2.870748                         0.014456  \n",
       "2020-10-10                    3.225564                         0.013079  \n",
       "2020-10-09                    3.314286                         0.010325  \n",
       "2020-10-08                    3.162791                         0.008635  \n",
       "2020-10-07                    3.296296                         0.005666  \n",
       "2020-10-06                    4.160714                         0.005081  \n",
       "2020-10-05                    3.956522                         0.007414  \n",
       "2020-10-04                    4.243590                         0.007434  \n",
       "2020-10-03                    4.263158                         0.007243  \n",
       "2020-10-02                    4.152778                         0.006862  \n",
       "2020-10-01                    4.959459                         0.006963  \n",
       "2020-09-30                    5.313725                         0.004720  \n",
       "2020-09-29                    4.045455                         0.004667  \n",
       "2020-09-28                    3.907407                         0.004922  \n",
       "2020-09-27                    4.157407                         0.009890  \n",
       "2020-09-26                    4.072727                         0.010073  \n",
       "2020-09-25                    3.558140                         0.007875  \n",
       "2020-09-24                    3.247191                         0.007930  "
      ]
     },
     "execution_count": 44,
     "metadata": {},
     "output_type": "execute_result"
    }
   ],
   "source": [
    "with pd.option_context(\"mode.use_inf_as_na\", True):\n",
    "    result_summary_df = result_summary_df.fillna(0).astype(int)\n",
    "    result_summary_df[\"teks_per_shared_diagnosis\"] = \\\n",
    "        (result_summary_df.shared_teks_by_upload_date / result_summary_df.shared_diagnoses).fillna(0)\n",
    "    result_summary_df[\"shared_diagnoses_per_covid_case\"] = \\\n",
    "        (result_summary_df.shared_diagnoses / result_summary_df.covid_cases).fillna(0)\n",
    "\n",
    "result_summary_df.head(daily_plot_days)"
   ]
  },
  {
   "cell_type": "code",
   "execution_count": 45,
   "metadata": {
    "collapsed": false,
    "execution": {
     "iopub.execute_input": "2020-10-21T06:28:35.862715Z",
     "iopub.status.busy": "2020-10-21T06:28:35.861557Z",
     "iopub.status.idle": "2020-10-21T06:28:35.864677Z",
     "shell.execute_reply": "2020-10-21T06:28:35.864180Z"
    },
    "papermill": {
     "duration": 0.083103,
     "end_time": "2020-10-21T06:28:35.864800",
     "exception": false,
     "start_time": "2020-10-21T06:28:35.781697",
     "status": "completed"
    },
    "pycharm": {
     "name": "#%%\n"
    },
    "tags": []
   },
   "outputs": [
    {
     "data": {
      "text/html": [
       "<div>\n",
       "<style scoped>\n",
       "    .dataframe tbody tr th:only-of-type {\n",
       "        vertical-align: middle;\n",
       "    }\n",
       "\n",
       "    .dataframe tbody tr th {\n",
       "        vertical-align: top;\n",
       "    }\n",
       "\n",
       "    .dataframe thead th {\n",
       "        text-align: right;\n",
       "    }\n",
       "</style>\n",
       "<table border=\"1\" class=\"dataframe\">\n",
       "  <thead>\n",
       "    <tr style=\"text-align: right;\">\n",
       "      <th></th>\n",
       "      <th>covid_cases</th>\n",
       "      <th>shared_teks_by_generation_date</th>\n",
       "      <th>shared_teks_by_upload_date</th>\n",
       "      <th>shared_diagnoses</th>\n",
       "      <th>teks_per_shared_diagnosis</th>\n",
       "      <th>shared_diagnoses_per_covid_case</th>\n",
       "    </tr>\n",
       "    <tr>\n",
       "      <th>sample_date</th>\n",
       "      <th></th>\n",
       "      <th></th>\n",
       "      <th></th>\n",
       "      <th></th>\n",
       "      <th></th>\n",
       "      <th></th>\n",
       "    </tr>\n",
       "  </thead>\n",
       "  <tbody>\n",
       "    <tr>\n",
       "      <th>2020-10-21</th>\n",
       "      <td>81336</td>\n",
       "      <td>2609</td>\n",
       "      <td>4526</td>\n",
       "      <td>855</td>\n",
       "      <td>5.293567</td>\n",
       "      <td>0.010512</td>\n",
       "    </tr>\n",
       "    <tr>\n",
       "      <th>2020-10-20</th>\n",
       "      <td>78467</td>\n",
       "      <td>3222</td>\n",
       "      <td>4959</td>\n",
       "      <td>977</td>\n",
       "      <td>5.075742</td>\n",
       "      <td>0.012451</td>\n",
       "    </tr>\n",
       "    <tr>\n",
       "      <th>2020-10-19</th>\n",
       "      <td>75387</td>\n",
       "      <td>3615</td>\n",
       "      <td>4521</td>\n",
       "      <td>954</td>\n",
       "      <td>4.738994</td>\n",
       "      <td>0.012655</td>\n",
       "    </tr>\n",
       "    <tr>\n",
       "      <th>2020-10-18</th>\n",
       "      <td>73969</td>\n",
       "      <td>3839</td>\n",
       "      <td>4056</td>\n",
       "      <td>967</td>\n",
       "      <td>4.194416</td>\n",
       "      <td>0.013073</td>\n",
       "    </tr>\n",
       "    <tr>\n",
       "      <th>2020-10-17</th>\n",
       "      <td>73360</td>\n",
       "      <td>3909</td>\n",
       "      <td>3752</td>\n",
       "      <td>982</td>\n",
       "      <td>3.820774</td>\n",
       "      <td>0.013386</td>\n",
       "    </tr>\n",
       "  </tbody>\n",
       "</table>\n",
       "</div>"
      ],
      "text/plain": [
       "             covid_cases  shared_teks_by_generation_date  \\\n",
       "sample_date                                                \n",
       "2020-10-21         81336                            2609   \n",
       "2020-10-20         78467                            3222   \n",
       "2020-10-19         75387                            3615   \n",
       "2020-10-18         73969                            3839   \n",
       "2020-10-17         73360                            3909   \n",
       "\n",
       "             shared_teks_by_upload_date  shared_diagnoses  \\\n",
       "sample_date                                                 \n",
       "2020-10-21                         4526               855   \n",
       "2020-10-20                         4959               977   \n",
       "2020-10-19                         4521               954   \n",
       "2020-10-18                         4056               967   \n",
       "2020-10-17                         3752               982   \n",
       "\n",
       "             teks_per_shared_diagnosis  shared_diagnoses_per_covid_case  \n",
       "sample_date                                                              \n",
       "2020-10-21                    5.293567                         0.010512  \n",
       "2020-10-20                    5.075742                         0.012451  \n",
       "2020-10-19                    4.738994                         0.012655  \n",
       "2020-10-18                    4.194416                         0.013073  \n",
       "2020-10-17                    3.820774                         0.013386  "
      ]
     },
     "execution_count": 45,
     "metadata": {},
     "output_type": "execute_result"
    }
   ],
   "source": [
    "weekly_result_summary_df = result_summary_df \\\n",
    "    .sort_index(ascending=True).fillna(0).rolling(7).agg({\n",
    "    \"covid_cases\": \"sum\",\n",
    "    \"shared_teks_by_generation_date\": \"sum\",\n",
    "    \"shared_teks_by_upload_date\": \"sum\",\n",
    "    \"shared_diagnoses\": \"sum\"\n",
    "}).sort_index(ascending=False)\n",
    "\n",
    "with pd.option_context(\"mode.use_inf_as_na\", True):\n",
    "    weekly_result_summary_df = weekly_result_summary_df.fillna(0).astype(int)\n",
    "    weekly_result_summary_df[\"teks_per_shared_diagnosis\"] = \\\n",
    "        (weekly_result_summary_df.shared_teks_by_upload_date / weekly_result_summary_df.shared_diagnoses).fillna(0)\n",
    "    weekly_result_summary_df[\"shared_diagnoses_per_covid_case\"] = \\\n",
    "        (weekly_result_summary_df.shared_diagnoses / weekly_result_summary_df.covid_cases).fillna(0)\n",
    "\n",
    "weekly_result_summary_df.head()"
   ]
  },
  {
   "cell_type": "code",
   "execution_count": 46,
   "metadata": {
    "execution": {
     "iopub.execute_input": "2020-10-21T06:28:36.003633Z",
     "iopub.status.busy": "2020-10-21T06:28:36.003028Z",
     "iopub.status.idle": "2020-10-21T06:28:36.005677Z",
     "shell.execute_reply": "2020-10-21T06:28:36.006115Z"
    },
    "papermill": {
     "duration": 0.076473,
     "end_time": "2020-10-21T06:28:36.006279",
     "exception": false,
     "start_time": "2020-10-21T06:28:35.929806",
     "status": "completed"
    },
    "pycharm": {
     "name": "#%%\n"
    },
    "tags": []
   },
   "outputs": [
    {
     "data": {
      "text/plain": [
       "{'covid_cases': 81336,\n",
       " 'shared_teks_by_generation_date': 2609,\n",
       " 'shared_teks_by_upload_date': 4526,\n",
       " 'shared_diagnoses': 855,\n",
       " 'teks_per_shared_diagnosis': 5.2935672514619885,\n",
       " 'shared_diagnoses_per_covid_case': 0.010511950427854825}"
      ]
     },
     "execution_count": 46,
     "metadata": {},
     "output_type": "execute_result"
    }
   ],
   "source": [
    "last_7_days_summary = weekly_result_summary_df.to_dict(orient=\"records\")[0]\n",
    "last_7_days_summary"
   ]
  },
  {
   "cell_type": "markdown",
   "metadata": {
    "collapsed": false,
    "papermill": {
     "duration": 0.06475,
     "end_time": "2020-10-21T06:28:36.129338",
     "exception": false,
     "start_time": "2020-10-21T06:28:36.064588",
     "status": "completed"
    },
    "pycharm": {
     "name": "#%% md\n"
    },
    "tags": []
   },
   "source": [
    "## Report Results"
   ]
  },
  {
   "cell_type": "code",
   "execution_count": 47,
   "metadata": {
    "collapsed": false,
    "execution": {
     "iopub.execute_input": "2020-10-21T06:28:36.256989Z",
     "iopub.status.busy": "2020-10-21T06:28:36.256432Z",
     "iopub.status.idle": "2020-10-21T06:28:36.259174Z",
     "shell.execute_reply": "2020-10-21T06:28:36.258642Z"
    },
    "papermill": {
     "duration": 0.070124,
     "end_time": "2020-10-21T06:28:36.259297",
     "exception": false,
     "start_time": "2020-10-21T06:28:36.189173",
     "status": "completed"
    },
    "pycharm": {
     "name": "#%%\n"
    },
    "tags": []
   },
   "outputs": [],
   "source": [
    "display_column_name_mapping = {\n",
    "    \"sample_date\": \"Sample\\u00A0Date\\u00A0(UTC)\",\n",
    "    \"datetime_utc\": \"Timestamp (UTC)\",\n",
    "    \"upload_date\": \"Upload Date (UTC)\",\n",
    "    \"generation_to_upload_days\": \"Generation to Upload Period in Days\",\n",
    "    \"region\": \"Backend Region\",\n",
    "    \"covid_cases\": \"COVID-19 Cases (7-day Rolling Average)\",\n",
    "    \"shared_teks_by_generation_date\": \"Shared TEKs by Generation Date\",\n",
    "    \"shared_teks_by_upload_date\": \"Shared TEKs by Upload Date\",\n",
    "    \"shared_diagnoses\": \"Shared Diagnoses (Estimation)\",\n",
    "    \"teks_per_shared_diagnosis\": \"TEKs Uploaded per Shared Diagnosis\",\n",
    "    \"shared_diagnoses_per_covid_case\": \"Usage Ratio (Fraction of Cases Which Shared Diagnosis)\",\n",
    "    \"shared_teks_uploaded_on_generation_date\": \"Shared TEKs Uploaded on Generation Date\",\n",
    "}"
   ]
  },
  {
   "cell_type": "code",
   "execution_count": 48,
   "metadata": {
    "execution": {
     "iopub.execute_input": "2020-10-21T06:28:36.395146Z",
     "iopub.status.busy": "2020-10-21T06:28:36.394567Z",
     "iopub.status.idle": "2020-10-21T06:28:36.396378Z",
     "shell.execute_reply": "2020-10-21T06:28:36.396797Z"
    },
    "papermill": {
     "duration": 0.071682,
     "end_time": "2020-10-21T06:28:36.396949",
     "exception": false,
     "start_time": "2020-10-21T06:28:36.325267",
     "status": "completed"
    },
    "pycharm": {
     "name": "#%%\n"
    },
    "tags": []
   },
   "outputs": [],
   "source": [
    "summary_columns = [\n",
    "    \"covid_cases\",\n",
    "    \"shared_teks_by_generation_date\",\n",
    "    \"shared_teks_by_upload_date\",\n",
    "    \"shared_teks_uploaded_on_generation_date\",\n",
    "    \"shared_diagnoses\",\n",
    "    \"teks_per_shared_diagnosis\",\n",
    "    \"shared_diagnoses_per_covid_case\",\n",
    "]"
   ]
  },
  {
   "cell_type": "markdown",
   "metadata": {
    "execution": {
     "iopub.execute_input": "2020-09-02T08:20:14.568088Z",
     "iopub.status.busy": "2020-09-02T08:20:14.567425Z",
     "iopub.status.idle": "2020-09-02T08:20:14.571422Z",
     "shell.execute_reply": "2020-09-02T08:20:14.571952Z"
    },
    "papermill": {
     "duration": 0.060443,
     "end_time": "2020-10-21T06:28:36.516455",
     "exception": false,
     "start_time": "2020-10-21T06:28:36.456012",
     "status": "completed"
    },
    "pycharm": {
     "name": "#%% md\n"
    },
    "tags": []
   },
   "source": [
    "### Daily Summary Table"
   ]
  },
  {
   "cell_type": "code",
   "execution_count": 49,
   "metadata": {
    "execution": {
     "iopub.execute_input": "2020-10-21T06:28:36.647204Z",
     "iopub.status.busy": "2020-10-21T06:28:36.646640Z",
     "iopub.status.idle": "2020-10-21T06:28:36.662444Z",
     "shell.execute_reply": "2020-10-21T06:28:36.662921Z"
    },
    "papermill": {
     "duration": 0.085072,
     "end_time": "2020-10-21T06:28:36.663078",
     "exception": false,
     "start_time": "2020-10-21T06:28:36.578006",
     "status": "completed"
    },
    "pycharm": {
     "name": "#%%\n"
    },
    "tags": []
   },
   "outputs": [
    {
     "data": {
      "text/html": [
       "<div>\n",
       "<style scoped>\n",
       "    .dataframe tbody tr th:only-of-type {\n",
       "        vertical-align: middle;\n",
       "    }\n",
       "\n",
       "    .dataframe tbody tr th {\n",
       "        vertical-align: top;\n",
       "    }\n",
       "\n",
       "    .dataframe thead th {\n",
       "        text-align: right;\n",
       "    }\n",
       "</style>\n",
       "<table border=\"1\" class=\"dataframe\">\n",
       "  <thead>\n",
       "    <tr style=\"text-align: right;\">\n",
       "      <th></th>\n",
       "      <th>COVID-19 Cases (7-day Rolling Average)</th>\n",
       "      <th>Shared TEKs by Generation Date</th>\n",
       "      <th>Shared TEKs by Upload Date</th>\n",
       "      <th>Shared TEKs Uploaded on Generation Date</th>\n",
       "      <th>Shared Diagnoses (Estimation)</th>\n",
       "      <th>TEKs Uploaded per Shared Diagnosis</th>\n",
       "      <th>Usage Ratio (Fraction of Cases Which Shared Diagnosis)</th>\n",
       "    </tr>\n",
       "    <tr>\n",
       "      <th>Sample Date (UTC)</th>\n",
       "      <th></th>\n",
       "      <th></th>\n",
       "      <th></th>\n",
       "      <th></th>\n",
       "      <th></th>\n",
       "      <th></th>\n",
       "      <th></th>\n",
       "    </tr>\n",
       "  </thead>\n",
       "  <tbody>\n",
       "    <tr>\n",
       "      <th>2020-10-21</th>\n",
       "      <td>13177</td>\n",
       "      <td>3</td>\n",
       "      <td>30</td>\n",
       "      <td>3</td>\n",
       "      <td>11</td>\n",
       "      <td>2.727273</td>\n",
       "      <td>0.000835</td>\n",
       "    </tr>\n",
       "    <tr>\n",
       "      <th>2020-10-20</th>\n",
       "      <td>13177</td>\n",
       "      <td>160</td>\n",
       "      <td>772</td>\n",
       "      <td>149</td>\n",
       "      <td>135</td>\n",
       "      <td>5.718519</td>\n",
       "      <td>0.010245</td>\n",
       "    </tr>\n",
       "    <tr>\n",
       "      <th>2020-10-19</th>\n",
       "      <td>12212</td>\n",
       "      <td>281</td>\n",
       "      <td>791</td>\n",
       "      <td>142</td>\n",
       "      <td>123</td>\n",
       "      <td>6.430894</td>\n",
       "      <td>0.010072</td>\n",
       "    </tr>\n",
       "    <tr>\n",
       "      <th>2020-10-18</th>\n",
       "      <td>10778</td>\n",
       "      <td>393</td>\n",
       "      <td>726</td>\n",
       "      <td>146</td>\n",
       "      <td>132</td>\n",
       "      <td>5.500000</td>\n",
       "      <td>0.012247</td>\n",
       "    </tr>\n",
       "    <tr>\n",
       "      <th>2020-10-17</th>\n",
       "      <td>10778</td>\n",
       "      <td>533</td>\n",
       "      <td>767</td>\n",
       "      <td>174</td>\n",
       "      <td>138</td>\n",
       "      <td>5.557971</td>\n",
       "      <td>0.012804</td>\n",
       "    </tr>\n",
       "    <tr>\n",
       "      <th>...</th>\n",
       "      <td>...</td>\n",
       "      <td>...</td>\n",
       "      <td>...</td>\n",
       "      <td>...</td>\n",
       "      <td>...</td>\n",
       "      <td>...</td>\n",
       "      <td>...</td>\n",
       "    </tr>\n",
       "    <tr>\n",
       "      <th>2020-08-03</th>\n",
       "      <td>3519</td>\n",
       "      <td>0</td>\n",
       "      <td>0</td>\n",
       "      <td>0</td>\n",
       "      <td>0</td>\n",
       "      <td>0.000000</td>\n",
       "      <td>0.000000</td>\n",
       "    </tr>\n",
       "    <tr>\n",
       "      <th>2020-08-02</th>\n",
       "      <td>2300</td>\n",
       "      <td>0</td>\n",
       "      <td>0</td>\n",
       "      <td>0</td>\n",
       "      <td>0</td>\n",
       "      <td>0.000000</td>\n",
       "      <td>0.000000</td>\n",
       "    </tr>\n",
       "    <tr>\n",
       "      <th>2020-08-01</th>\n",
       "      <td>2300</td>\n",
       "      <td>0</td>\n",
       "      <td>0</td>\n",
       "      <td>0</td>\n",
       "      <td>0</td>\n",
       "      <td>0.000000</td>\n",
       "      <td>0.000000</td>\n",
       "    </tr>\n",
       "    <tr>\n",
       "      <th>2020-07-31</th>\n",
       "      <td>2300</td>\n",
       "      <td>0</td>\n",
       "      <td>0</td>\n",
       "      <td>0</td>\n",
       "      <td>0</td>\n",
       "      <td>0.000000</td>\n",
       "      <td>0.000000</td>\n",
       "    </tr>\n",
       "    <tr>\n",
       "      <th>2020-07-30</th>\n",
       "      <td>2181</td>\n",
       "      <td>0</td>\n",
       "      <td>0</td>\n",
       "      <td>0</td>\n",
       "      <td>0</td>\n",
       "      <td>0.000000</td>\n",
       "      <td>0.000000</td>\n",
       "    </tr>\n",
       "  </tbody>\n",
       "</table>\n",
       "<p>84 rows × 7 columns</p>\n",
       "</div>"
      ],
      "text/plain": [
       "                   COVID-19 Cases (7-day Rolling Average)  \\\n",
       "Sample Date (UTC)                                           \n",
       "2020-10-21                                          13177   \n",
       "2020-10-20                                          13177   \n",
       "2020-10-19                                          12212   \n",
       "2020-10-18                                          10778   \n",
       "2020-10-17                                          10778   \n",
       "...                                                   ...   \n",
       "2020-08-03                                           3519   \n",
       "2020-08-02                                           2300   \n",
       "2020-08-01                                           2300   \n",
       "2020-07-31                                           2300   \n",
       "2020-07-30                                           2181   \n",
       "\n",
       "                   Shared TEKs by Generation Date  Shared TEKs by Upload Date  \\\n",
       "Sample Date (UTC)                                                               \n",
       "2020-10-21                                      3                          30   \n",
       "2020-10-20                                    160                         772   \n",
       "2020-10-19                                    281                         791   \n",
       "2020-10-18                                    393                         726   \n",
       "2020-10-17                                    533                         767   \n",
       "...                                           ...                         ...   \n",
       "2020-08-03                                      0                           0   \n",
       "2020-08-02                                      0                           0   \n",
       "2020-08-01                                      0                           0   \n",
       "2020-07-31                                      0                           0   \n",
       "2020-07-30                                      0                           0   \n",
       "\n",
       "                   Shared TEKs Uploaded on Generation Date  \\\n",
       "Sample Date (UTC)                                            \n",
       "2020-10-21                                               3   \n",
       "2020-10-20                                             149   \n",
       "2020-10-19                                             142   \n",
       "2020-10-18                                             146   \n",
       "2020-10-17                                             174   \n",
       "...                                                    ...   \n",
       "2020-08-03                                               0   \n",
       "2020-08-02                                               0   \n",
       "2020-08-01                                               0   \n",
       "2020-07-31                                               0   \n",
       "2020-07-30                                               0   \n",
       "\n",
       "                   Shared Diagnoses (Estimation)  \\\n",
       "Sample Date (UTC)                                  \n",
       "2020-10-21                                    11   \n",
       "2020-10-20                                   135   \n",
       "2020-10-19                                   123   \n",
       "2020-10-18                                   132   \n",
       "2020-10-17                                   138   \n",
       "...                                          ...   \n",
       "2020-08-03                                     0   \n",
       "2020-08-02                                     0   \n",
       "2020-08-01                                     0   \n",
       "2020-07-31                                     0   \n",
       "2020-07-30                                     0   \n",
       "\n",
       "                   TEKs Uploaded per Shared Diagnosis  \\\n",
       "Sample Date (UTC)                                       \n",
       "2020-10-21                                   2.727273   \n",
       "2020-10-20                                   5.718519   \n",
       "2020-10-19                                   6.430894   \n",
       "2020-10-18                                   5.500000   \n",
       "2020-10-17                                   5.557971   \n",
       "...                                               ...   \n",
       "2020-08-03                                   0.000000   \n",
       "2020-08-02                                   0.000000   \n",
       "2020-08-01                                   0.000000   \n",
       "2020-07-31                                   0.000000   \n",
       "2020-07-30                                   0.000000   \n",
       "\n",
       "                   Usage Ratio (Fraction of Cases Which Shared Diagnosis)  \n",
       "Sample Date (UTC)                                                          \n",
       "2020-10-21                                                  0.000835       \n",
       "2020-10-20                                                  0.010245       \n",
       "2020-10-19                                                  0.010072       \n",
       "2020-10-18                                                  0.012247       \n",
       "2020-10-17                                                  0.012804       \n",
       "...                                                              ...       \n",
       "2020-08-03                                                  0.000000       \n",
       "2020-08-02                                                  0.000000       \n",
       "2020-08-01                                                  0.000000       \n",
       "2020-07-31                                                  0.000000       \n",
       "2020-07-30                                                  0.000000       \n",
       "\n",
       "[84 rows x 7 columns]"
      ]
     },
     "execution_count": 49,
     "metadata": {},
     "output_type": "execute_result"
    }
   ],
   "source": [
    "result_summary_df_ = result_summary_df.copy()\n",
    "result_summary_df = result_summary_df[summary_columns]\n",
    "result_summary_with_display_names_df = result_summary_df \\\n",
    "    .rename_axis(index=display_column_name_mapping) \\\n",
    "    .rename(columns=display_column_name_mapping)\n",
    "result_summary_with_display_names_df"
   ]
  },
  {
   "cell_type": "markdown",
   "metadata": {
    "execution": {
     "iopub.execute_input": "2020-09-02T08:20:14.726751Z",
     "iopub.status.busy": "2020-09-02T08:20:14.726143Z",
     "iopub.status.idle": "2020-09-02T08:20:16.115081Z",
     "shell.execute_reply": "2020-09-02T08:20:16.115565Z"
    },
    "papermill": {
     "duration": 0.064021,
     "end_time": "2020-10-21T06:28:36.790854",
     "exception": false,
     "start_time": "2020-10-21T06:28:36.726833",
     "status": "completed"
    },
    "pycharm": {
     "name": "#%% md\n"
    },
    "scrolled": false,
    "tags": []
   },
   "source": [
    "### Daily Summary Plots"
   ]
  },
  {
   "cell_type": "code",
   "execution_count": 50,
   "metadata": {
    "execution": {
     "iopub.execute_input": "2020-10-21T06:28:36.955785Z",
     "iopub.status.busy": "2020-10-21T06:28:36.955039Z",
     "iopub.status.idle": "2020-10-21T06:28:38.871188Z",
     "shell.execute_reply": "2020-10-21T06:28:38.871533Z"
    },
    "papermill": {
     "duration": 2.014353,
     "end_time": "2020-10-21T06:28:38.871681",
     "exception": false,
     "start_time": "2020-10-21T06:28:36.857328",
     "status": "completed"
    },
    "pycharm": {
     "name": "#%%\n"
    },
    "tags": []
   },
   "outputs": [
    {
     "data": {
      "image/png": "[encoded data removed]",
      "text/plain": [
       "<Figure size 1080x1584 with 7 Axes>"
      ]
     },
     "metadata": {},
     "output_type": "display_data"
    }
   ],
   "source": [
    "result_plot_summary_df = result_summary_df.head(daily_plot_days)[summary_columns] \\\n",
    "    .rename_axis(index=display_column_name_mapping) \\\n",
    "    .rename(columns=display_column_name_mapping)\n",
    "summary_ax_list = result_plot_summary_df.sort_index(ascending=True).plot.bar(\n",
    "    title=f\"Daily Summary\",\n",
    "    rot=45, subplots=True, figsize=(15, 22), legend=False)\n",
    "ax_ = summary_ax_list[-1]\n",
    "ax_.get_figure().tight_layout()\n",
    "ax_.get_figure().subplots_adjust(top=0.95)\n",
    "ax_.yaxis.set_major_formatter(matplotlib.ticker.PercentFormatter(1.0))\n",
    "_ = ax_.set_xticklabels(sorted(result_plot_summary_df.index.strftime(\"%Y-%m-%d\").tolist()))"
   ]
  },
  {
   "cell_type": "markdown",
   "metadata": {
    "collapsed": false,
    "papermill": {
     "duration": 0.059287,
     "end_time": "2020-10-21T06:28:38.989083",
     "exception": false,
     "start_time": "2020-10-21T06:28:38.929796",
     "status": "completed"
    },
    "tags": []
   },
   "source": [
    "### Daily Generation to Upload Period Table"
   ]
  },
  {
   "cell_type": "code",
   "execution_count": 51,
   "metadata": {
    "collapsed": false,
    "execution": {
     "iopub.execute_input": "2020-10-21T06:28:39.130095Z",
     "iopub.status.busy": "2020-10-21T06:28:39.129516Z",
     "iopub.status.idle": "2020-10-21T06:28:39.132306Z",
     "shell.execute_reply": "2020-10-21T06:28:39.132723Z"
    },
    "papermill": {
     "duration": 0.081407,
     "end_time": "2020-10-21T06:28:39.132869",
     "exception": false,
     "start_time": "2020-10-21T06:28:39.051462",
     "status": "completed"
    },
    "pycharm": {
     "name": "#%%\n"
    },
    "tags": []
   },
   "outputs": [
    {
     "data": {
      "text/html": [
       "<div>\n",
       "<style scoped>\n",
       "    .dataframe tbody tr th:only-of-type {\n",
       "        vertical-align: middle;\n",
       "    }\n",
       "\n",
       "    .dataframe tbody tr th {\n",
       "        vertical-align: top;\n",
       "    }\n",
       "\n",
       "    .dataframe thead th {\n",
       "        text-align: right;\n",
       "    }\n",
       "</style>\n",
       "<table border=\"1\" class=\"dataframe\">\n",
       "  <thead>\n",
       "    <tr style=\"text-align: right;\">\n",
       "      <th>Generation to Upload Period in Days</th>\n",
       "      <th>0</th>\n",
       "      <th>1</th>\n",
       "      <th>2</th>\n",
       "      <th>3</th>\n",
       "      <th>4</th>\n",
       "      <th>5</th>\n",
       "      <th>6</th>\n",
       "      <th>7</th>\n",
       "      <th>8</th>\n",
       "      <th>9</th>\n",
       "      <th>10</th>\n",
       "      <th>11</th>\n",
       "      <th>12</th>\n",
       "      <th>13</th>\n",
       "    </tr>\n",
       "    <tr>\n",
       "      <th>Upload Date (UTC)</th>\n",
       "      <th></th>\n",
       "      <th></th>\n",
       "      <th></th>\n",
       "      <th></th>\n",
       "      <th></th>\n",
       "      <th></th>\n",
       "      <th></th>\n",
       "      <th></th>\n",
       "      <th></th>\n",
       "      <th></th>\n",
       "      <th></th>\n",
       "      <th></th>\n",
       "      <th></th>\n",
       "      <th></th>\n",
       "    </tr>\n",
       "  </thead>\n",
       "  <tbody>\n",
       "    <tr>\n",
       "      <th>2020-10-21</th>\n",
       "      <td>3</td>\n",
       "      <td>11</td>\n",
       "      <td>4</td>\n",
       "      <td>5</td>\n",
       "      <td>3</td>\n",
       "      <td>2</td>\n",
       "      <td>1</td>\n",
       "      <td>1</td>\n",
       "      <td>0</td>\n",
       "      <td>0</td>\n",
       "      <td>0</td>\n",
       "      <td>0</td>\n",
       "      <td>0</td>\n",
       "      <td>0</td>\n",
       "    </tr>\n",
       "    <tr>\n",
       "      <th>2020-10-20</th>\n",
       "      <td>149</td>\n",
       "      <td>135</td>\n",
       "      <td>119</td>\n",
       "      <td>106</td>\n",
       "      <td>79</td>\n",
       "      <td>59</td>\n",
       "      <td>47</td>\n",
       "      <td>25</td>\n",
       "      <td>21</td>\n",
       "      <td>13</td>\n",
       "      <td>8</td>\n",
       "      <td>6</td>\n",
       "      <td>3</td>\n",
       "      <td>2</td>\n",
       "    </tr>\n",
       "    <tr>\n",
       "      <th>2020-10-19</th>\n",
       "      <td>142</td>\n",
       "      <td>123</td>\n",
       "      <td>118</td>\n",
       "      <td>105</td>\n",
       "      <td>86</td>\n",
       "      <td>72</td>\n",
       "      <td>45</td>\n",
       "      <td>33</td>\n",
       "      <td>22</td>\n",
       "      <td>17</td>\n",
       "      <td>12</td>\n",
       "      <td>9</td>\n",
       "      <td>4</td>\n",
       "      <td>3</td>\n",
       "    </tr>\n",
       "    <tr>\n",
       "      <th>2020-10-18</th>\n",
       "      <td>146</td>\n",
       "      <td>132</td>\n",
       "      <td>114</td>\n",
       "      <td>96</td>\n",
       "      <td>87</td>\n",
       "      <td>54</td>\n",
       "      <td>33</td>\n",
       "      <td>18</td>\n",
       "      <td>12</td>\n",
       "      <td>10</td>\n",
       "      <td>9</td>\n",
       "      <td>7</td>\n",
       "      <td>5</td>\n",
       "      <td>3</td>\n",
       "    </tr>\n",
       "    <tr>\n",
       "      <th>2020-10-17</th>\n",
       "      <td>174</td>\n",
       "      <td>138</td>\n",
       "      <td>118</td>\n",
       "      <td>108</td>\n",
       "      <td>84</td>\n",
       "      <td>54</td>\n",
       "      <td>32</td>\n",
       "      <td>19</td>\n",
       "      <td>15</td>\n",
       "      <td>11</td>\n",
       "      <td>7</td>\n",
       "      <td>4</td>\n",
       "      <td>2</td>\n",
       "      <td>1</td>\n",
       "    </tr>\n",
       "    <tr>\n",
       "      <th>2020-10-16</th>\n",
       "      <td>149</td>\n",
       "      <td>141</td>\n",
       "      <td>125</td>\n",
       "      <td>107</td>\n",
       "      <td>84</td>\n",
       "      <td>53</td>\n",
       "      <td>32</td>\n",
       "      <td>24</td>\n",
       "      <td>20</td>\n",
       "      <td>15</td>\n",
       "      <td>7</td>\n",
       "      <td>5</td>\n",
       "      <td>3</td>\n",
       "      <td>4</td>\n",
       "    </tr>\n",
       "    <tr>\n",
       "      <th>2020-10-15</th>\n",
       "      <td>151</td>\n",
       "      <td>175</td>\n",
       "      <td>104</td>\n",
       "      <td>86</td>\n",
       "      <td>58</td>\n",
       "      <td>38</td>\n",
       "      <td>23</td>\n",
       "      <td>14</td>\n",
       "      <td>8</td>\n",
       "      <td>6</td>\n",
       "      <td>4</td>\n",
       "      <td>2</td>\n",
       "      <td>1</td>\n",
       "      <td>1</td>\n",
       "    </tr>\n",
       "    <tr>\n",
       "      <th>2020-10-14</th>\n",
       "      <td>1</td>\n",
       "      <td>133</td>\n",
       "      <td>80</td>\n",
       "      <td>69</td>\n",
       "      <td>54</td>\n",
       "      <td>38</td>\n",
       "      <td>30</td>\n",
       "      <td>24</td>\n",
       "      <td>14</td>\n",
       "      <td>9</td>\n",
       "      <td>6</td>\n",
       "      <td>3</td>\n",
       "      <td>1</td>\n",
       "      <td>1</td>\n",
       "    </tr>\n",
       "    <tr>\n",
       "      <th>2020-10-13</th>\n",
       "      <td>1</td>\n",
       "      <td>112</td>\n",
       "      <td>61</td>\n",
       "      <td>50</td>\n",
       "      <td>37</td>\n",
       "      <td>32</td>\n",
       "      <td>19</td>\n",
       "      <td>10</td>\n",
       "      <td>4</td>\n",
       "      <td>4</td>\n",
       "      <td>2</td>\n",
       "      <td>1</td>\n",
       "      <td>1</td>\n",
       "      <td>0</td>\n",
       "    </tr>\n",
       "    <tr>\n",
       "      <th>2020-10-12</th>\n",
       "      <td>2</td>\n",
       "      <td>136</td>\n",
       "      <td>53</td>\n",
       "      <td>47</td>\n",
       "      <td>33</td>\n",
       "      <td>19</td>\n",
       "      <td>14</td>\n",
       "      <td>12</td>\n",
       "      <td>5</td>\n",
       "      <td>2</td>\n",
       "      <td>2</td>\n",
       "      <td>1</td>\n",
       "      <td>0</td>\n",
       "      <td>0</td>\n",
       "    </tr>\n",
       "    <tr>\n",
       "      <th>2020-10-11</th>\n",
       "      <td>1</td>\n",
       "      <td>147</td>\n",
       "      <td>75</td>\n",
       "      <td>62</td>\n",
       "      <td>51</td>\n",
       "      <td>38</td>\n",
       "      <td>18</td>\n",
       "      <td>9</td>\n",
       "      <td>6</td>\n",
       "      <td>5</td>\n",
       "      <td>3</td>\n",
       "      <td>3</td>\n",
       "      <td>2</td>\n",
       "      <td>2</td>\n",
       "    </tr>\n",
       "    <tr>\n",
       "      <th>2020-10-10</th>\n",
       "      <td>0</td>\n",
       "      <td>133</td>\n",
       "      <td>85</td>\n",
       "      <td>68</td>\n",
       "      <td>61</td>\n",
       "      <td>50</td>\n",
       "      <td>15</td>\n",
       "      <td>9</td>\n",
       "      <td>6</td>\n",
       "      <td>2</td>\n",
       "      <td>0</td>\n",
       "      <td>0</td>\n",
       "      <td>0</td>\n",
       "      <td>0</td>\n",
       "    </tr>\n",
       "    <tr>\n",
       "      <th>2020-10-09</th>\n",
       "      <td>1</td>\n",
       "      <td>105</td>\n",
       "      <td>65</td>\n",
       "      <td>61</td>\n",
       "      <td>57</td>\n",
       "      <td>57</td>\n",
       "      <td>2</td>\n",
       "      <td>0</td>\n",
       "      <td>0</td>\n",
       "      <td>0</td>\n",
       "      <td>0</td>\n",
       "      <td>0</td>\n",
       "      <td>0</td>\n",
       "      <td>0</td>\n",
       "    </tr>\n",
       "    <tr>\n",
       "      <th>2020-10-08</th>\n",
       "      <td>1</td>\n",
       "      <td>86</td>\n",
       "      <td>47</td>\n",
       "      <td>45</td>\n",
       "      <td>43</td>\n",
       "      <td>41</td>\n",
       "      <td>2</td>\n",
       "      <td>1</td>\n",
       "      <td>1</td>\n",
       "      <td>1</td>\n",
       "      <td>1</td>\n",
       "      <td>1</td>\n",
       "      <td>1</td>\n",
       "      <td>1</td>\n",
       "    </tr>\n",
       "  </tbody>\n",
       "</table>\n",
       "</div>"
      ],
      "text/plain": [
       "Generation to Upload Period in Days   0    1    2    3   4   5   6   7   8   \\\n",
       "Upload Date (UTC)                                                             \n",
       "2020-10-21                             3   11    4    5   3   2   1   1   0   \n",
       "2020-10-20                           149  135  119  106  79  59  47  25  21   \n",
       "2020-10-19                           142  123  118  105  86  72  45  33  22   \n",
       "2020-10-18                           146  132  114   96  87  54  33  18  12   \n",
       "2020-10-17                           174  138  118  108  84  54  32  19  15   \n",
       "2020-10-16                           149  141  125  107  84  53  32  24  20   \n",
       "2020-10-15                           151  175  104   86  58  38  23  14   8   \n",
       "2020-10-14                             1  133   80   69  54  38  30  24  14   \n",
       "2020-10-13                             1  112   61   50  37  32  19  10   4   \n",
       "2020-10-12                             2  136   53   47  33  19  14  12   5   \n",
       "2020-10-11                             1  147   75   62  51  38  18   9   6   \n",
       "2020-10-10                             0  133   85   68  61  50  15   9   6   \n",
       "2020-10-09                             1  105   65   61  57  57   2   0   0   \n",
       "2020-10-08                             1   86   47   45  43  41   2   1   1   \n",
       "\n",
       "Generation to Upload Period in Days  9   10  11  12  13  \n",
       "Upload Date (UTC)                                        \n",
       "2020-10-21                            0   0   0   0   0  \n",
       "2020-10-20                           13   8   6   3   2  \n",
       "2020-10-19                           17  12   9   4   3  \n",
       "2020-10-18                           10   9   7   5   3  \n",
       "2020-10-17                           11   7   4   2   1  \n",
       "2020-10-16                           15   7   5   3   4  \n",
       "2020-10-15                            6   4   2   1   1  \n",
       "2020-10-14                            9   6   3   1   1  \n",
       "2020-10-13                            4   2   1   1   0  \n",
       "2020-10-12                            2   2   1   0   0  \n",
       "2020-10-11                            5   3   3   2   2  \n",
       "2020-10-10                            2   0   0   0   0  \n",
       "2020-10-09                            0   0   0   0   0  \n",
       "2020-10-08                            1   1   1   1   1  "
      ]
     },
     "execution_count": 51,
     "metadata": {},
     "output_type": "execute_result"
    }
   ],
   "source": [
    "display_generation_to_upload_period_pivot_df = \\\n",
    "    generation_to_upload_period_pivot_df \\\n",
    "        .head(backend_generation_days)\n",
    "display_generation_to_upload_period_pivot_df \\\n",
    "    .head(backend_generation_days) \\\n",
    "    .rename_axis(columns=display_column_name_mapping) \\\n",
    "    .rename_axis(index=display_column_name_mapping)"
   ]
  },
  {
   "cell_type": "code",
   "execution_count": 52,
   "metadata": {
    "collapsed": false,
    "execution": {
     "iopub.execute_input": "2020-10-21T06:28:39.278342Z",
     "iopub.status.busy": "2020-10-21T06:28:39.264188Z",
     "iopub.status.idle": "2020-10-21T06:28:40.166941Z",
     "shell.execute_reply": "2020-10-21T06:28:40.167384Z"
    },
    "papermill": {
     "duration": 0.974177,
     "end_time": "2020-10-21T06:28:40.167549",
     "exception": false,
     "start_time": "2020-10-21T06:28:39.193372",
     "status": "completed"
    },
    "pycharm": {
     "name": "#%%\n"
    },
    "tags": []
   },
   "outputs": [
    {
     "data": {
      "image/png": "[encoded data removed]",
      "text/plain": [
       "<Figure size 720x576 with 2 Axes>"
      ]
     },
     "metadata": {},
     "output_type": "display_data"
    }
   ],
   "source": [
    "import matplotlib.pyplot as plt\n",
    "\n",
    "fig, generation_to_upload_period_pivot_table_ax = plt.subplots(\n",
    "    figsize=(10, 1 + 0.5 * len(display_generation_to_upload_period_pivot_df)))\n",
    "generation_to_upload_period_pivot_table_ax.set_title(\n",
    "    \"Shared TEKs Generation to Upload Period Table\")\n",
    "sns.heatmap(\n",
    "    data=display_generation_to_upload_period_pivot_df\n",
    "        .rename_axis(columns=display_column_name_mapping)\n",
    "        .rename_axis(index=display_column_name_mapping),\n",
    "    fmt=\".0f\",\n",
    "    annot=True,\n",
    "    ax=generation_to_upload_period_pivot_table_ax)\n",
    "generation_to_upload_period_pivot_table_ax.get_figure().tight_layout()"
   ]
  },
  {
   "cell_type": "markdown",
   "metadata": {
    "execution": {
     "iopub.execute_input": "2020-09-02T08:20:16.278300Z",
     "iopub.status.busy": "2020-09-02T08:20:16.277679Z",
     "iopub.status.idle": "2020-09-02T08:20:16.821909Z",
     "shell.execute_reply": "2020-09-02T08:20:16.822577Z"
    },
    "papermill": {
     "duration": 0.06078,
     "end_time": "2020-10-21T06:28:40.291822",
     "exception": false,
     "start_time": "2020-10-21T06:28:40.231042",
     "status": "completed"
    },
    "pycharm": {
     "name": "#%% md\n"
    },
    "tags": []
   },
   "source": [
    "### Hourly Summary Plots "
   ]
  },
  {
   "cell_type": "code",
   "execution_count": 53,
   "metadata": {
    "execution": {
     "iopub.execute_input": "2020-10-21T06:28:40.422021Z",
     "iopub.status.busy": "2020-10-21T06:28:40.421613Z",
     "iopub.status.idle": "2020-10-21T06:28:40.915732Z",
     "shell.execute_reply": "2020-10-21T06:28:40.916389Z"
    },
    "papermill": {
     "duration": 0.564147,
     "end_time": "2020-10-21T06:28:40.916551",
     "exception": false,
     "start_time": "2020-10-21T06:28:40.352404",
     "status": "completed"
    },
    "pycharm": {
     "name": "#%%\n"
    },
    "tags": []
   },
   "outputs": [
    {
     "data": {
      "image/png": "[encoded data removed]",
      "text/plain": [
       "<Figure size 1080x432 with 2 Axes>"
      ]
     },
     "metadata": {},
     "output_type": "display_data"
    }
   ],
   "source": [
    "hourly_summary_ax_list = hourly_summary_df \\\n",
    "    .rename_axis(index=display_column_name_mapping) \\\n",
    "    .rename(columns=display_column_name_mapping) \\\n",
    "    .plot.bar(\n",
    "        title=f\"Last 24h Summary\",\n",
    "        rot=45, subplots=True, legend=False)\n",
    "ax_ = hourly_summary_ax_list[-1]\n",
    "ax_.get_figure().tight_layout()\n",
    "ax_.get_figure().subplots_adjust(top=0.9)\n",
    "_ = ax_.set_xticklabels(sorted(hourly_summary_df.index.strftime(\"%Y-%m-%d@%H\").tolist()))"
   ]
  },
  {
   "cell_type": "markdown",
   "metadata": {
    "execution": {
     "iopub.execute_input": "2020-09-02T08:20:16.981187Z",
     "iopub.status.busy": "2020-09-02T08:20:16.980584Z",
     "iopub.status.idle": "2020-09-02T08:20:20.068070Z",
     "shell.execute_reply": "2020-09-02T08:20:20.068598Z"
    },
    "papermill": {
     "duration": 0.062127,
     "end_time": "2020-10-21T06:28:41.043435",
     "exception": false,
     "start_time": "2020-10-21T06:28:40.981308",
     "status": "completed"
    },
    "pycharm": {
     "name": "#%% md\n"
    },
    "tags": []
   },
   "source": [
    "### Publish Results"
   ]
  },
  {
   "cell_type": "code",
   "execution_count": 54,
   "metadata": {
    "collapsed": false,
    "execution": {
     "iopub.execute_input": "2020-10-21T06:28:41.177381Z",
     "iopub.status.busy": "2020-10-21T06:28:41.176822Z",
     "iopub.status.idle": "2020-10-21T06:28:41.178843Z",
     "shell.execute_reply": "2020-10-21T06:28:41.179249Z"
    },
    "papermill": {
     "duration": 0.072735,
     "end_time": "2020-10-21T06:28:41.179389",
     "exception": false,
     "start_time": "2020-10-21T06:28:41.106654",
     "status": "completed"
    },
    "pycharm": {
     "name": "#%%\n"
    },
    "tags": []
   },
   "outputs": [],
   "source": [
    "def get_temporary_image_path() -> str:\n",
    "    return os.path.join(tempfile.gettempdir(), str(uuid.uuid4()) + \".png\")\n",
    "\n",
    "def save_temporary_plot_image(ax):\n",
    "    if isinstance(ax, np.ndarray):\n",
    "        ax = ax[0]\n",
    "    media_path = get_temporary_image_path()\n",
    "    ax.get_figure().savefig(media_path)\n",
    "    return media_path\n",
    "\n",
    "def save_temporary_dataframe_image(df):\n",
    "    import dataframe_image as dfi\n",
    "    media_path = get_temporary_image_path()\n",
    "    dfi.export(df, media_path)\n",
    "    return media_path"
   ]
  },
  {
   "cell_type": "code",
   "execution_count": 55,
   "metadata": {
    "collapsed": false,
    "execution": {
     "iopub.execute_input": "2020-10-21T06:28:41.326041Z",
     "iopub.status.busy": "2020-10-21T06:28:41.317170Z",
     "iopub.status.idle": "2020-10-21T06:28:41.327748Z",
     "shell.execute_reply": "2020-10-21T06:28:41.328179Z"
    },
    "papermill": {
     "duration": 0.087928,
     "end_time": "2020-10-21T06:28:41.328353",
     "exception": false,
     "start_time": "2020-10-21T06:28:41.240425",
     "status": "completed"
    },
    "pycharm": {
     "name": "#%%\n"
    },
    "tags": []
   },
   "outputs": [],
   "source": [
    "github_repository = os.environ.get(\"GITHUB_REPOSITORY\")\n",
    "if github_repository is None:\n",
    "    github_repository = \"pvieito/Radar-STATS\"\n",
    "\n",
    "github_project_base_url = \"https://github.com/\" + github_repository\n",
    "\n",
    "display_formatters = {\n",
    "    display_column_name_mapping[\"teks_per_shared_diagnosis\"]: lambda x: f\"{x:.2f}\",\n",
    "    display_column_name_mapping[\"shared_diagnoses_per_covid_case\"]: lambda x: f\"{x:.2%}\",\n",
    "}\n",
    "daily_summary_table_html = result_summary_with_display_names_df \\\n",
    "    .head(daily_plot_days) \\\n",
    "    .rename_axis(index=display_column_name_mapping) \\\n",
    "    .rename(columns=display_column_name_mapping) \\\n",
    "    .to_html(formatters=display_formatters)\n",
    "multi_region_summary_table_html = multi_region_summary_df \\\n",
    "    .head(daily_plot_days) \\\n",
    "    .rename_axis(columns=display_column_name_mapping) \\\n",
    "    .rename(columns=display_column_name_mapping) \\\n",
    "    .rename_axis(index=display_column_name_mapping) \\\n",
    "    .to_html(formatters=display_formatters)\n",
    "\n",
    "extraction_date_result_summary_df = \\\n",
    "    result_summary_df[result_summary_df.index == extraction_date]\n",
    "extraction_date_result_hourly_summary_df = \\\n",
    "    hourly_summary_df[hourly_summary_df.extraction_date_with_hour == extraction_date_with_hour]\n",
    "\n",
    "covid_cases = \\\n",
    "    extraction_date_result_summary_df.covid_cases.sum()\n",
    "shared_teks_by_generation_date = \\\n",
    "    extraction_date_result_summary_df.shared_teks_by_generation_date.sum()\n",
    "shared_teks_by_upload_date = \\\n",
    "    extraction_date_result_summary_df.shared_teks_by_upload_date.sum()\n",
    "shared_diagnoses = \\\n",
    "    extraction_date_result_summary_df.shared_diagnoses.sum()\n",
    "teks_per_shared_diagnosis = \\\n",
    "    extraction_date_result_summary_df.teks_per_shared_diagnosis.sum()\n",
    "shared_diagnoses_per_covid_case = \\\n",
    "    extraction_date_result_summary_df.shared_diagnoses_per_covid_case.sum()\n",
    "\n",
    "shared_teks_by_upload_date_last_hour = \\\n",
    "    extraction_date_result_hourly_summary_df.shared_teks_by_upload_date.sum().astype(int)\n",
    "shared_diagnoses_last_hour = \\\n",
    "    extraction_date_result_hourly_summary_df.shared_diagnoses.sum().astype(int)"
   ]
  },
  {
   "cell_type": "code",
   "execution_count": 56,
   "metadata": {
    "execution": {
     "iopub.execute_input": "2020-10-21T06:28:41.468319Z",
     "iopub.status.busy": "2020-10-21T06:28:41.467749Z",
     "iopub.status.idle": "2020-10-21T06:28:48.300294Z",
     "shell.execute_reply": "2020-10-21T06:28:48.301121Z"
    },
    "papermill": {
     "duration": 6.913015,
     "end_time": "2020-10-21T06:28:48.301305",
     "exception": false,
     "start_time": "2020-10-21T06:28:41.388290",
     "status": "completed"
    },
    "pycharm": {
     "name": "#%%\n"
    },
    "tags": []
   },
   "outputs": [],
   "source": [
    "summary_plots_image_path = save_temporary_plot_image(\n",
    "    ax=summary_ax_list)\n",
    "summary_table_image_path = save_temporary_dataframe_image(\n",
    "    df=result_summary_with_display_names_df)\n",
    "hourly_summary_plots_image_path = save_temporary_plot_image(\n",
    "    ax=hourly_summary_ax_list)\n",
    "multi_region_summary_table_image_path = save_temporary_dataframe_image(\n",
    "    df=multi_region_summary_df)\n",
    "generation_to_upload_period_pivot_table_image_path = save_temporary_plot_image(\n",
    "    ax=generation_to_upload_period_pivot_table_ax)"
   ]
  },
  {
   "cell_type": "markdown",
   "metadata": {
    "execution": {
     "iopub.execute_input": "2020-09-02T08:20:20.895901Z",
     "iopub.status.busy": "2020-09-02T08:20:20.895301Z",
     "iopub.status.idle": "2020-09-02T08:20:20.942286Z",
     "shell.execute_reply": "2020-09-02T08:20:20.942834Z"
    },
    "papermill": {
     "duration": 0.070663,
     "end_time": "2020-10-21T06:28:48.439878",
     "exception": false,
     "start_time": "2020-10-21T06:28:48.369215",
     "status": "completed"
    },
    "pycharm": {
     "name": "#%% md\n"
    },
    "tags": []
   },
   "source": [
    "### Save Results"
   ]
  },
  {
   "cell_type": "code",
   "execution_count": 57,
   "metadata": {
    "collapsed": false,
    "execution": {
     "iopub.execute_input": "2020-10-21T06:28:48.587250Z",
     "iopub.status.busy": "2020-10-21T06:28:48.585523Z",
     "iopub.status.idle": "2020-10-21T06:28:48.611590Z",
     "shell.execute_reply": "2020-10-21T06:28:48.612105Z"
    },
    "papermill": {
     "duration": 0.103223,
     "end_time": "2020-10-21T06:28:48.612328",
     "exception": false,
     "start_time": "2020-10-21T06:28:48.509105",
     "status": "completed"
    },
    "pycharm": {
     "name": "#%%\n"
    },
    "tags": []
   },
   "outputs": [],
   "source": [
    "report_resources_path_prefix = \"Data/Resources/Current/RadarCOVID-Report-\"\n",
    "result_summary_df.to_csv(\n",
    "    report_resources_path_prefix + \"Summary-Table.csv\")\n",
    "result_summary_df.to_html(\n",
    "    report_resources_path_prefix + \"Summary-Table.html\")\n",
    "hourly_summary_df.to_csv(\n",
    "    report_resources_path_prefix + \"Hourly-Summary-Table.csv\")\n",
    "multi_region_summary_df.to_csv(\n",
    "    report_resources_path_prefix + \"Multi-Region-Summary-Table.csv\")\n",
    "generation_to_upload_period_pivot_df.to_csv(\n",
    "    report_resources_path_prefix + \"Generation-Upload-Period-Table.csv\")\n",
    "_ = shutil.copyfile(\n",
    "    summary_plots_image_path,\n",
    "    report_resources_path_prefix + \"Summary-Plots.png\")\n",
    "_ = shutil.copyfile(\n",
    "    summary_table_image_path,\n",
    "    report_resources_path_prefix + \"Summary-Table.png\")\n",
    "_ = shutil.copyfile(\n",
    "    hourly_summary_plots_image_path,\n",
    "    report_resources_path_prefix + \"Hourly-Summary-Plots.png\")\n",
    "_ = shutil.copyfile(\n",
    "    multi_region_summary_table_image_path,\n",
    "    report_resources_path_prefix + \"Multi-Region-Summary-Table.png\")\n",
    "_ = shutil.copyfile(\n",
    "    generation_to_upload_period_pivot_table_image_path,\n",
    "    report_resources_path_prefix + \"Generation-Upload-Period-Table.png\")"
   ]
  },
  {
   "cell_type": "markdown",
   "metadata": {
    "collapsed": false,
    "papermill": {
     "duration": 0.06751,
     "end_time": "2020-10-21T06:28:48.746561",
     "exception": false,
     "start_time": "2020-10-21T06:28:48.679051",
     "status": "completed"
    },
    "pycharm": {
     "name": "#%% md\n"
    },
    "tags": []
   },
   "source": [
    "### Publish Results as JSON"
   ]
  },
  {
   "cell_type": "code",
   "execution_count": 58,
   "metadata": {
    "collapsed": false,
    "execution": {
     "iopub.execute_input": "2020-10-21T06:28:48.890764Z",
     "iopub.status.busy": "2020-10-21T06:28:48.890340Z",
     "iopub.status.idle": "2020-10-21T06:28:48.895091Z",
     "shell.execute_reply": "2020-10-21T06:28:48.894631Z"
    },
    "papermill": {
     "duration": 0.083415,
     "end_time": "2020-10-21T06:28:48.895216",
     "exception": false,
     "start_time": "2020-10-21T06:28:48.811801",
     "status": "completed"
    },
    "pycharm": {
     "name": "#%%\n"
    },
    "tags": []
   },
   "outputs": [],
   "source": [
    "summary_results_api_df = result_summary_df.reset_index()\n",
    "summary_results_api_df[\"sample_date_string\"] = \\\n",
    "    summary_results_api_df[\"sample_date\"].dt.strftime(\"%Y-%m-%d\")\n",
    "\n",
    "summary_results = dict(\n",
    "    extraction_datetime=extraction_datetime,\n",
    "    extraction_date=extraction_date,\n",
    "    extraction_date_with_hour=extraction_date_with_hour,\n",
    "    last_hour=dict(\n",
    "        shared_teks_by_upload_date=shared_teks_by_upload_date_last_hour,\n",
    "        shared_diagnoses=shared_diagnoses_last_hour,\n",
    "    ),\n",
    "    today=dict(\n",
    "        covid_cases=covid_cases,\n",
    "        shared_teks_by_generation_date=shared_teks_by_generation_date,\n",
    "        shared_teks_by_upload_date=shared_teks_by_upload_date,\n",
    "        shared_diagnoses=shared_diagnoses,\n",
    "        teks_per_shared_diagnosis=teks_per_shared_diagnosis,\n",
    "        shared_diagnoses_per_covid_case=shared_diagnoses_per_covid_case,\n",
    "    ),\n",
    "    last_7_days=last_7_days_summary,\n",
    "    daily_results=summary_results_api_df.to_dict(orient=\"records\"))\n",
    "summary_results = \\\n",
    "    json.loads(pd.Series([summary_results]).to_json(orient=\"records\"))[0]\n",
    "\n",
    "with open(report_resources_path_prefix + \"Summary-Results.json\", \"w\") as f:\n",
    "    json.dump(summary_results, f, indent=4)"
   ]
  },
  {
   "cell_type": "markdown",
   "metadata": {
    "collapsed": false,
    "papermill": {
     "duration": 0.062962,
     "end_time": "2020-10-21T06:28:49.024205",
     "exception": false,
     "start_time": "2020-10-21T06:28:48.961243",
     "status": "completed"
    },
    "pycharm": {
     "name": "#%% md\n"
    },
    "tags": []
   },
   "source": [
    "### Publish on README"
   ]
  },
  {
   "cell_type": "code",
   "execution_count": 59,
   "metadata": {
    "collapsed": false,
    "execution": {
     "iopub.execute_input": "2020-10-21T06:28:49.161753Z",
     "iopub.status.busy": "2020-10-21T06:28:49.161194Z",
     "iopub.status.idle": "2020-10-21T06:28:49.164393Z",
     "shell.execute_reply": "2020-10-21T06:28:49.163900Z"
    },
    "papermill": {
     "duration": 0.073849,
     "end_time": "2020-10-21T06:28:49.164513",
     "exception": false,
     "start_time": "2020-10-21T06:28:49.090664",
     "status": "completed"
    },
    "pycharm": {
     "name": "#%%\n"
    },
    "tags": []
   },
   "outputs": [],
   "source": [
    "with open(\"Data/Templates/README.md\", \"r\") as f:\n",
    "    readme_contents = f.read()\n",
    "\n",
    "readme_contents = readme_contents.format(\n",
    "    extraction_date_with_hour=extraction_date_with_hour,\n",
    "    github_project_base_url=github_project_base_url,\n",
    "    daily_summary_table_html=daily_summary_table_html,\n",
    "    multi_region_summary_table_html=multi_region_summary_table_html)\n",
    "\n",
    "with open(\"README.md\", \"w\") as f:\n",
    "    f.write(readme_contents)"
   ]
  },
  {
   "cell_type": "markdown",
   "metadata": {
    "collapsed": false,
    "papermill": {
     "duration": 0.064435,
     "end_time": "2020-10-21T06:28:49.291730",
     "exception": false,
     "start_time": "2020-10-21T06:28:49.227295",
     "status": "completed"
    },
    "pycharm": {
     "name": "#%% md\n"
    },
    "tags": []
   },
   "source": [
    "### Publish on Twitter"
   ]
  },
  {
   "cell_type": "code",
   "execution_count": 60,
   "metadata": {
    "collapsed": false,
    "execution": {
     "iopub.execute_input": "2020-10-21T06:28:49.427571Z",
     "iopub.status.busy": "2020-10-21T06:28:49.427014Z",
     "iopub.status.idle": "2020-10-21T06:28:57.882167Z",
     "shell.execute_reply": "2020-10-21T06:28:57.881579Z"
    },
    "papermill": {
     "duration": 8.524243,
     "end_time": "2020-10-21T06:28:57.882331",
     "exception": false,
     "start_time": "2020-10-21T06:28:49.358088",
     "status": "completed"
    },
    "pycharm": {
     "name": "#%%\n"
    },
    "tags": []
   },
   "outputs": [],
   "source": [
    "enable_share_to_twitter = os.environ.get(\"RADARCOVID_REPORT__ENABLE_PUBLISH_ON_TWITTER\")\n",
    "github_event_name = os.environ.get(\"GITHUB_EVENT_NAME\")\n",
    "\n",
    "if enable_share_to_twitter and github_event_name == \"schedule\":\n",
    "    import tweepy\n",
    "\n",
    "    twitter_api_auth_keys = os.environ[\"RADARCOVID_REPORT__TWITTER_API_AUTH_KEYS\"]\n",
    "    twitter_api_auth_keys = twitter_api_auth_keys.split(\":\")\n",
    "    auth = tweepy.OAuthHandler(twitter_api_auth_keys[0], twitter_api_auth_keys[1])\n",
    "    auth.set_access_token(twitter_api_auth_keys[2], twitter_api_auth_keys[3])\n",
    "\n",
    "    api = tweepy.API(auth)\n",
    "\n",
    "    summary_plots_media = api.media_upload(summary_plots_image_path)\n",
    "    summary_table_media = api.media_upload(summary_table_image_path)\n",
    "    generation_to_upload_period_pivot_table_image_media = api.media_upload(generation_to_upload_period_pivot_table_image_path)\n",
    "    media_ids = [\n",
    "        summary_plots_media.media_id,\n",
    "        summary_table_media.media_id,\n",
    "        generation_to_upload_period_pivot_table_image_media.media_id,\n",
    "    ]\n",
    "\n",
    "    status = textwrap.dedent(f\"\"\"\n",
    "        #RadarCOVID Report – {extraction_date_with_hour}\n",
    "\n",
    "        Today:\n",
    "        - Uploaded TEKs: {shared_teks_by_upload_date:.0f} ({shared_teks_by_upload_date_last_hour:+d} last hour)\n",
    "        - Shared Diagnoses: ≤{shared_diagnoses:.0f} ({shared_diagnoses_last_hour:+d} last hour)\n",
    "        - TEKs per Diagnosis: ≥{teks_per_shared_diagnosis:.1f}\n",
    "        - Usage Ratio: ≤{shared_diagnoses_per_covid_case:.2%}\n",
    "\n",
    "        Week:\n",
    "        - Shared Diagnoses: ≤{last_7_days_summary[\"shared_diagnoses\"]:.0f}\n",
    "        - Usage Ratio: ≤{last_7_days_summary[\"shared_diagnoses_per_covid_case\"]:.2%}\n",
    "\n",
    "        More Info: {github_project_base_url}#documentation\n",
    "        \"\"\")\n",
    "    status = status.encode(encoding=\"utf-8\")\n",
    "    api.update_status(status=status, media_ids=media_ids)"
   ]
  },
  {
   "cell_type": "code",
   "execution_count": null,
   "metadata": {
    "collapsed": false,
    "papermill": {
     "duration": 0.064299,
     "end_time": "2020-10-21T06:28:58.016473",
     "exception": false,
     "start_time": "2020-10-21T06:28:57.952174",
     "status": "completed"
    },
    "pycharm": {
     "name": "#%%\n"
    },
    "tags": []
   },
   "outputs": [],
   "source": []
  }
 ],
 "metadata": {
  "kernelspec": {
   "display_name": "Python 3",
   "language": "python",
   "name": "python3"
  },
  "language_info": {
   "codemirror_mode": {
    "name": "ipython",
    "version": 3
   },
   "file_extension": ".py",
   "mimetype": "text/x-python",
   "name": "python",
   "nbconvert_exporter": "python",
   "pygments_lexer": "ipython3",
   "version": "3.8.6"
  },
  "papermill": {
   "duration": 150.018677,
   "end_time": "2020-10-21T06:28:58.694677",
   "environment_variables": {},
   "exception": null,
   "input_path": "Notebooks/RadarCOVID-Report/Source/RadarCOVID-Report.ipynb",
   "output_path": "RadarCOVID-Report.ipynb",
   "parameters": {},
   "start_time": "2020-10-21T06:26:28.676000",
   "version": "2.1.3"
  }
 },
 "nbformat": 4,
 "nbformat_minor": 1
}