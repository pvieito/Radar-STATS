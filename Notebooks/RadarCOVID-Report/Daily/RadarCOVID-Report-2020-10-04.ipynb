{
 "cells": [
  {
   "cell_type": "markdown",
   "metadata": {
    "papermill": {
     "duration": 0.039482,
     "end_time": "2020-10-04T10:20:56.897229",
     "exception": false,
     "start_time": "2020-10-04T10:20:56.857747",
     "status": "completed"
    },
    "pycharm": {
     "name": "#%% md\n"
    },
    "tags": []
   },
   "source": [
    "# RadarCOVID-Report"
   ]
  },
  {
   "cell_type": "markdown",
   "metadata": {
    "collapsed": true,
    "papermill": {
     "duration": 0.0363,
     "end_time": "2020-10-04T10:20:56.970169",
     "exception": false,
     "start_time": "2020-10-04T10:20:56.933869",
     "status": "completed"
    },
    "pycharm": {
     "name": "#%% md\n"
    },
    "tags": []
   },
   "source": [
    "## Data Extraction"
   ]
  },
  {
   "cell_type": "code",
   "execution_count": 1,
   "metadata": {
    "execution": {
     "iopub.execute_input": "2020-10-04T10:20:57.053134Z",
     "iopub.status.busy": "2020-10-04T10:20:57.052477Z",
     "iopub.status.idle": "2020-10-04T10:21:00.145286Z",
     "shell.execute_reply": "2020-10-04T10:21:00.145787Z"
    },
    "papermill": {
     "duration": 3.136855,
     "end_time": "2020-10-04T10:21:00.146106",
     "exception": false,
     "start_time": "2020-10-04T10:20:57.009251",
     "status": "completed"
    },
    "pycharm": {
     "name": "#%%\n"
    },
    "tags": []
   },
   "outputs": [],
   "source": [
    "import datetime\n",
    "import json\n",
    "import logging\n",
    "import os\n",
    "import shutil\n",
    "import tempfile\n",
    "import textwrap\n",
    "import uuid\n",
    "\n",
    "import matplotlib.ticker\n",
    "import numpy as np\n",
    "import pandas as pd\n",
    "import seaborn as sns\n",
    "\n",
    "%matplotlib inline"
   ]
  },
  {
   "cell_type": "code",
   "execution_count": 2,
   "metadata": {
    "collapsed": false,
    "execution": {
     "iopub.execute_input": "2020-10-04T10:21:00.225948Z",
     "iopub.status.busy": "2020-10-04T10:21:00.225335Z",
     "iopub.status.idle": "2020-10-04T10:21:00.227616Z",
     "shell.execute_reply": "2020-10-04T10:21:00.228116Z"
    },
    "papermill": {
     "duration": 0.045147,
     "end_time": "2020-10-04T10:21:00.228274",
     "exception": false,
     "start_time": "2020-10-04T10:21:00.183127",
     "status": "completed"
    },
    "pycharm": {
     "name": "#%%\n"
    },
    "tags": []
   },
   "outputs": [],
   "source": [
    "current_working_directory = os.environ.get(\"PWD\")\n",
    "if current_working_directory:\n",
    "    os.chdir(current_working_directory)\n",
    "\n",
    "sns.set()\n",
    "matplotlib.rcParams[\"figure.figsize\"] = (15, 6)\n",
    "\n",
    "extraction_datetime = datetime.datetime.utcnow()\n",
    "extraction_date = extraction_datetime.strftime(\"%Y-%m-%d\")\n",
    "extraction_previous_datetime = extraction_datetime - datetime.timedelta(days=1)\n",
    "extraction_previous_date = extraction_previous_datetime.strftime(\"%Y-%m-%d\")\n",
    "extraction_date_with_hour = datetime.datetime.utcnow().strftime(\"%Y-%m-%d@%H\")"
   ]
  },
  {
   "cell_type": "markdown",
   "metadata": {
    "collapsed": false,
    "papermill": {
     "duration": 0.036917,
     "end_time": "2020-10-04T10:21:00.303220",
     "exception": false,
     "start_time": "2020-10-04T10:21:00.266303",
     "status": "completed"
    },
    "tags": []
   },
   "source": [
    "### Constants"
   ]
  },
  {
   "cell_type": "code",
   "execution_count": 3,
   "metadata": {
    "execution": {
     "iopub.execute_input": "2020-10-04T10:21:00.380825Z",
     "iopub.status.busy": "2020-10-04T10:21:00.380187Z",
     "iopub.status.idle": "2020-10-04T10:21:00.382615Z",
     "shell.execute_reply": "2020-10-04T10:21:00.382084Z"
    },
    "papermill": {
     "duration": 0.043129,
     "end_time": "2020-10-04T10:21:00.382748",
     "exception": false,
     "start_time": "2020-10-04T10:21:00.339619",
     "status": "completed"
    },
    "pycharm": {
     "name": "#%%\n"
    },
    "tags": []
   },
   "outputs": [],
   "source": [
    "spain_region_country_name = \"Spain\"\n",
    "spain_region_country_code = \"ES\"\n",
    "\n",
    "daily_summary_days = 7 * 3\n",
    "daily_plot_days = 7 * 2\n",
    "tek_dumps_load_limit = daily_summary_days + 1"
   ]
  },
  {
   "cell_type": "markdown",
   "metadata": {
    "collapsed": false,
    "papermill": {
     "duration": 0.035808,
     "end_time": "2020-10-04T10:21:00.454805",
     "exception": false,
     "start_time": "2020-10-04T10:21:00.418997",
     "status": "completed"
    },
    "pycharm": {
     "name": "#%% md\n"
    },
    "tags": []
   },
   "source": [
    "### COVID-19 Cases"
   ]
  },
  {
   "cell_type": "code",
   "execution_count": 4,
   "metadata": {
    "collapsed": false,
    "execution": {
     "iopub.execute_input": "2020-10-04T10:21:00.534690Z",
     "iopub.status.busy": "2020-10-04T10:21:00.534082Z",
     "iopub.status.idle": "2020-10-04T10:21:01.113439Z",
     "shell.execute_reply": "2020-10-04T10:21:01.113973Z"
    },
    "papermill": {
     "duration": 0.621015,
     "end_time": "2020-10-04T10:21:01.114158",
     "exception": false,
     "start_time": "2020-10-04T10:21:00.493143",
     "status": "completed"
    },
    "pycharm": {
     "name": "#%%\n"
    },
    "tags": []
   },
   "outputs": [
    {
     "data": {
      "text/html": [
       "<div>\n",
       "<style scoped>\n",
       "    .dataframe tbody tr th:only-of-type {\n",
       "        vertical-align: middle;\n",
       "    }\n",
       "\n",
       "    .dataframe tbody tr th {\n",
       "        vertical-align: top;\n",
       "    }\n",
       "\n",
       "    .dataframe thead th {\n",
       "        text-align: right;\n",
       "    }\n",
       "</style>\n",
       "<table border=\"1\" class=\"dataframe\">\n",
       "  <thead>\n",
       "    <tr style=\"text-align: right;\">\n",
       "      <th></th>\n",
       "      <th>Country_EN</th>\n",
       "      <th>Country_ES</th>\n",
       "      <th>Country_IT</th>\n",
       "      <th>Region</th>\n",
       "      <th>2020-01-23</th>\n",
       "      <th>2020-01-24</th>\n",
       "      <th>2020-01-25</th>\n",
       "      <th>2020-01-26</th>\n",
       "      <th>2020-01-27</th>\n",
       "      <th>2020-01-28</th>\n",
       "      <th>...</th>\n",
       "      <th>2020-09-24</th>\n",
       "      <th>2020-09-25</th>\n",
       "      <th>2020-09-26</th>\n",
       "      <th>2020-09-27</th>\n",
       "      <th>2020-09-28</th>\n",
       "      <th>2020-09-29</th>\n",
       "      <th>2020-09-30</th>\n",
       "      <th>2020-10-01</th>\n",
       "      <th>2020-10-02</th>\n",
       "      <th>2020-10-03</th>\n",
       "    </tr>\n",
       "  </thead>\n",
       "  <tbody>\n",
       "    <tr>\n",
       "      <th>233</th>\n",
       "      <td>Spain</td>\n",
       "      <td>España</td>\n",
       "      <td>Spagna</td>\n",
       "      <td>NaN</td>\n",
       "      <td>0.0</td>\n",
       "      <td>0.0</td>\n",
       "      <td>0.0</td>\n",
       "      <td>0.0</td>\n",
       "      <td>0.0</td>\n",
       "      <td>0.0</td>\n",
       "      <td>...</td>\n",
       "      <td>704209.0</td>\n",
       "      <td>716481.0</td>\n",
       "      <td>716481.0</td>\n",
       "      <td>716481.0</td>\n",
       "      <td>748266.0</td>\n",
       "      <td>748266.0</td>\n",
       "      <td>769188.0</td>\n",
       "      <td>778607.0</td>\n",
       "      <td>789932.0</td>\n",
       "      <td>789932.0</td>\n",
       "    </tr>\n",
       "  </tbody>\n",
       "</table>\n",
       "<p>1 rows × 259 columns</p>\n",
       "</div>"
      ],
      "text/plain": [
       "    Country_EN Country_ES Country_IT Region  2020-01-23  2020-01-24  \\\n",
       "233      Spain     España     Spagna    NaN         0.0         0.0   \n",
       "\n",
       "     2020-01-25  2020-01-26  2020-01-27  2020-01-28  ...  2020-09-24  \\\n",
       "233         0.0         0.0         0.0         0.0  ...    704209.0   \n",
       "\n",
       "     2020-09-25  2020-09-26  2020-09-27  2020-09-28  2020-09-29  2020-09-30  \\\n",
       "233    716481.0    716481.0    716481.0    748266.0    748266.0    769188.0   \n",
       "\n",
       "     2020-10-01  2020-10-02  2020-10-03  \n",
       "233    778607.0    789932.0    789932.0  \n",
       "\n",
       "[1 rows x 259 columns]"
      ]
     },
     "execution_count": 4,
     "metadata": {},
     "output_type": "execute_result"
    }
   ],
   "source": [
    "confirmed_df = pd.read_csv(\"https://covid19tracking.narrativa.com/csv/confirmed.csv\")\n",
    "\n",
    "radar_covid_countries = {spain_region_country_name}\n",
    "\n",
    "confirmed_df = confirmed_df[confirmed_df[\"Country_EN\"].isin(radar_covid_countries)]\n",
    "confirmed_df = confirmed_df[pd.isna(confirmed_df.Region)]\n",
    "confirmed_df.head()"
   ]
  },
  {
   "cell_type": "code",
   "execution_count": 5,
   "metadata": {
    "collapsed": false,
    "execution": {
     "iopub.execute_input": "2020-10-04T10:21:01.211900Z",
     "iopub.status.busy": "2020-10-04T10:21:01.211298Z",
     "iopub.status.idle": "2020-10-04T10:21:01.215002Z",
     "shell.execute_reply": "2020-10-04T10:21:01.214481Z"
    },
    "papermill": {
     "duration": 0.062533,
     "end_time": "2020-10-04T10:21:01.215130",
     "exception": false,
     "start_time": "2020-10-04T10:21:01.152597",
     "status": "completed"
    },
    "pycharm": {
     "name": "#%%\n"
    },
    "tags": []
   },
   "outputs": [
    {
     "data": {
      "text/html": [
       "<div>\n",
       "<style scoped>\n",
       "    .dataframe tbody tr th:only-of-type {\n",
       "        vertical-align: middle;\n",
       "    }\n",
       "\n",
       "    .dataframe tbody tr th {\n",
       "        vertical-align: top;\n",
       "    }\n",
       "\n",
       "    .dataframe thead th {\n",
       "        text-align: right;\n",
       "    }\n",
       "</style>\n",
       "<table border=\"1\" class=\"dataframe\">\n",
       "  <thead>\n",
       "    <tr style=\"text-align: right;\">\n",
       "      <th></th>\n",
       "      <th>2020-01-23</th>\n",
       "      <th>2020-01-24</th>\n",
       "      <th>2020-01-25</th>\n",
       "      <th>2020-01-26</th>\n",
       "      <th>2020-01-27</th>\n",
       "      <th>2020-01-28</th>\n",
       "      <th>2020-01-29</th>\n",
       "      <th>2020-01-30</th>\n",
       "      <th>2020-01-31</th>\n",
       "      <th>2020-02-01</th>\n",
       "      <th>...</th>\n",
       "      <th>2020-09-24</th>\n",
       "      <th>2020-09-25</th>\n",
       "      <th>2020-09-26</th>\n",
       "      <th>2020-09-27</th>\n",
       "      <th>2020-09-28</th>\n",
       "      <th>2020-09-29</th>\n",
       "      <th>2020-09-30</th>\n",
       "      <th>2020-10-01</th>\n",
       "      <th>2020-10-02</th>\n",
       "      <th>2020-10-03</th>\n",
       "    </tr>\n",
       "  </thead>\n",
       "  <tbody>\n",
       "    <tr>\n",
       "      <th>233</th>\n",
       "      <td>0.0</td>\n",
       "      <td>0.0</td>\n",
       "      <td>0.0</td>\n",
       "      <td>0.0</td>\n",
       "      <td>0.0</td>\n",
       "      <td>0.0</td>\n",
       "      <td>0.0</td>\n",
       "      <td>0.0</td>\n",
       "      <td>0.0</td>\n",
       "      <td>1.0</td>\n",
       "      <td>...</td>\n",
       "      <td>704209.0</td>\n",
       "      <td>716481.0</td>\n",
       "      <td>716481.0</td>\n",
       "      <td>716481.0</td>\n",
       "      <td>748266.0</td>\n",
       "      <td>748266.0</td>\n",
       "      <td>769188.0</td>\n",
       "      <td>778607.0</td>\n",
       "      <td>789932.0</td>\n",
       "      <td>789932.0</td>\n",
       "    </tr>\n",
       "  </tbody>\n",
       "</table>\n",
       "<p>1 rows × 255 columns</p>\n",
       "</div>"
      ],
      "text/plain": [
       "     2020-01-23  2020-01-24  2020-01-25  2020-01-26  2020-01-27  2020-01-28  \\\n",
       "233         0.0         0.0         0.0         0.0         0.0         0.0   \n",
       "\n",
       "     2020-01-29  2020-01-30  2020-01-31  2020-02-01  ...  2020-09-24  \\\n",
       "233         0.0         0.0         0.0         1.0  ...    704209.0   \n",
       "\n",
       "     2020-09-25  2020-09-26  2020-09-27  2020-09-28  2020-09-29  2020-09-30  \\\n",
       "233    716481.0    716481.0    716481.0    748266.0    748266.0    769188.0   \n",
       "\n",
       "     2020-10-01  2020-10-02  2020-10-03  \n",
       "233    778607.0    789932.0    789932.0  \n",
       "\n",
       "[1 rows x 255 columns]"
      ]
     },
     "execution_count": 5,
     "metadata": {},
     "output_type": "execute_result"
    }
   ],
   "source": [
    "confirmed_country_columns = list(filter(lambda x: x.startswith(\"Country_\"), confirmed_df.columns))\n",
    "confirmed_regional_columns = confirmed_country_columns + [\"Region\"]\n",
    "confirmed_df.drop(columns=confirmed_regional_columns, inplace=True)\n",
    "confirmed_df.head()"
   ]
  },
  {
   "cell_type": "code",
   "execution_count": 6,
   "metadata": {
    "collapsed": false,
    "execution": {
     "iopub.execute_input": "2020-10-04T10:21:01.297868Z",
     "iopub.status.busy": "2020-10-04T10:21:01.297264Z",
     "iopub.status.idle": "2020-10-04T10:21:01.300447Z",
     "shell.execute_reply": "2020-10-04T10:21:01.299797Z"
    },
    "papermill": {
     "duration": 0.048175,
     "end_time": "2020-10-04T10:21:01.300579",
     "exception": false,
     "start_time": "2020-10-04T10:21:01.252404",
     "status": "completed"
    },
    "pycharm": {
     "name": "#%%\n"
    },
    "tags": []
   },
   "outputs": [
    {
     "data": {
      "text/html": [
       "<div>\n",
       "<style scoped>\n",
       "    .dataframe tbody tr th:only-of-type {\n",
       "        vertical-align: middle;\n",
       "    }\n",
       "\n",
       "    .dataframe tbody tr th {\n",
       "        vertical-align: top;\n",
       "    }\n",
       "\n",
       "    .dataframe thead th {\n",
       "        text-align: right;\n",
       "    }\n",
       "</style>\n",
       "<table border=\"1\" class=\"dataframe\">\n",
       "  <thead>\n",
       "    <tr style=\"text-align: right;\">\n",
       "      <th></th>\n",
       "      <th>0</th>\n",
       "    </tr>\n",
       "  </thead>\n",
       "  <tbody>\n",
       "    <tr>\n",
       "      <th>2020-09-29</th>\n",
       "      <td>748266.0</td>\n",
       "    </tr>\n",
       "    <tr>\n",
       "      <th>2020-09-30</th>\n",
       "      <td>769188.0</td>\n",
       "    </tr>\n",
       "    <tr>\n",
       "      <th>2020-10-01</th>\n",
       "      <td>778607.0</td>\n",
       "    </tr>\n",
       "    <tr>\n",
       "      <th>2020-10-02</th>\n",
       "      <td>789932.0</td>\n",
       "    </tr>\n",
       "    <tr>\n",
       "      <th>2020-10-03</th>\n",
       "      <td>789932.0</td>\n",
       "    </tr>\n",
       "  </tbody>\n",
       "</table>\n",
       "</div>"
      ],
      "text/plain": [
       "                   0\n",
       "2020-09-29  748266.0\n",
       "2020-09-30  769188.0\n",
       "2020-10-01  778607.0\n",
       "2020-10-02  789932.0\n",
       "2020-10-03  789932.0"
      ]
     },
     "execution_count": 6,
     "metadata": {},
     "output_type": "execute_result"
    }
   ],
   "source": [
    "confirmed_df = confirmed_df.sum().to_frame()\n",
    "confirmed_df.tail()"
   ]
  },
  {
   "cell_type": "code",
   "execution_count": 7,
   "metadata": {
    "collapsed": false,
    "execution": {
     "iopub.execute_input": "2020-10-04T10:21:01.390936Z",
     "iopub.status.busy": "2020-10-04T10:21:01.390259Z",
     "iopub.status.idle": "2020-10-04T10:21:01.393555Z",
     "shell.execute_reply": "2020-10-04T10:21:01.393024Z"
    },
    "papermill": {
     "duration": 0.055031,
     "end_time": "2020-10-04T10:21:01.393687",
     "exception": false,
     "start_time": "2020-10-04T10:21:01.338656",
     "status": "completed"
    },
    "pycharm": {
     "name": "#%%\n"
    },
    "tags": []
   },
   "outputs": [
    {
     "data": {
      "text/html": [
       "<div>\n",
       "<style scoped>\n",
       "    .dataframe tbody tr th:only-of-type {\n",
       "        vertical-align: middle;\n",
       "    }\n",
       "\n",
       "    .dataframe tbody tr th {\n",
       "        vertical-align: top;\n",
       "    }\n",
       "\n",
       "    .dataframe thead th {\n",
       "        text-align: right;\n",
       "    }\n",
       "</style>\n",
       "<table border=\"1\" class=\"dataframe\">\n",
       "  <thead>\n",
       "    <tr style=\"text-align: right;\">\n",
       "      <th></th>\n",
       "      <th>sample_date_string</th>\n",
       "      <th>cumulative_cases</th>\n",
       "      <th>new_cases</th>\n",
       "      <th>covid_cases</th>\n",
       "    </tr>\n",
       "  </thead>\n",
       "  <tbody>\n",
       "    <tr>\n",
       "      <th>250</th>\n",
       "      <td>2020-09-29</td>\n",
       "      <td>748266.0</td>\n",
       "      <td>0.0</td>\n",
       "      <td>9428.0</td>\n",
       "    </tr>\n",
       "    <tr>\n",
       "      <th>251</th>\n",
       "      <td>2020-09-30</td>\n",
       "      <td>769188.0</td>\n",
       "      <td>20922.0</td>\n",
       "      <td>10805.0</td>\n",
       "    </tr>\n",
       "    <tr>\n",
       "      <th>252</th>\n",
       "      <td>2020-10-01</td>\n",
       "      <td>778607.0</td>\n",
       "      <td>9419.0</td>\n",
       "      <td>10628.0</td>\n",
       "    </tr>\n",
       "    <tr>\n",
       "      <th>253</th>\n",
       "      <td>2020-10-02</td>\n",
       "      <td>789932.0</td>\n",
       "      <td>11325.0</td>\n",
       "      <td>10493.0</td>\n",
       "    </tr>\n",
       "    <tr>\n",
       "      <th>254</th>\n",
       "      <td>2020-10-03</td>\n",
       "      <td>789932.0</td>\n",
       "      <td>0.0</td>\n",
       "      <td>10493.0</td>\n",
       "    </tr>\n",
       "  </tbody>\n",
       "</table>\n",
       "</div>"
      ],
      "text/plain": [
       "    sample_date_string  cumulative_cases  new_cases  covid_cases\n",
       "250         2020-09-29          748266.0        0.0       9428.0\n",
       "251         2020-09-30          769188.0    20922.0      10805.0\n",
       "252         2020-10-01          778607.0     9419.0      10628.0\n",
       "253         2020-10-02          789932.0    11325.0      10493.0\n",
       "254         2020-10-03          789932.0        0.0      10493.0"
      ]
     },
     "execution_count": 7,
     "metadata": {},
     "output_type": "execute_result"
    }
   ],
   "source": [
    "confirmed_df.reset_index(inplace=True)\n",
    "confirmed_df.columns = [\"sample_date_string\", \"cumulative_cases\"]\n",
    "confirmed_df.sort_values(\"sample_date_string\", inplace=True)\n",
    "confirmed_df[\"new_cases\"] = confirmed_df.cumulative_cases.diff()\n",
    "confirmed_df[\"covid_cases\"] = confirmed_df.new_cases.rolling(7).mean().round()\n",
    "confirmed_df.tail()"
   ]
  },
  {
   "cell_type": "code",
   "execution_count": 8,
   "metadata": {
    "execution": {
     "iopub.execute_input": "2020-10-04T10:21:01.486078Z",
     "iopub.status.busy": "2020-10-04T10:21:01.485437Z",
     "iopub.status.idle": "2020-10-04T10:21:01.492841Z",
     "shell.execute_reply": "2020-10-04T10:21:01.493569Z"
    },
    "papermill": {
     "duration": 0.059582,
     "end_time": "2020-10-04T10:21:01.493726",
     "exception": false,
     "start_time": "2020-10-04T10:21:01.434144",
     "status": "completed"
    },
    "pycharm": {
     "name": "#%%\n"
    },
    "tags": []
   },
   "outputs": [
    {
     "data": {
      "text/html": [
       "<div>\n",
       "<style scoped>\n",
       "    .dataframe tbody tr th:only-of-type {\n",
       "        vertical-align: middle;\n",
       "    }\n",
       "\n",
       "    .dataframe tbody tr th {\n",
       "        vertical-align: top;\n",
       "    }\n",
       "\n",
       "    .dataframe thead th {\n",
       "        text-align: right;\n",
       "    }\n",
       "</style>\n",
       "<table border=\"1\" class=\"dataframe\">\n",
       "  <thead>\n",
       "    <tr style=\"text-align: right;\">\n",
       "      <th></th>\n",
       "      <th>sample_date_string</th>\n",
       "      <th>cumulative_cases</th>\n",
       "      <th>new_cases</th>\n",
       "      <th>covid_cases</th>\n",
       "    </tr>\n",
       "  </thead>\n",
       "  <tbody>\n",
       "    <tr>\n",
       "      <th>251</th>\n",
       "      <td>2020-09-30</td>\n",
       "      <td>769188.0</td>\n",
       "      <td>20922.0</td>\n",
       "      <td>10805</td>\n",
       "    </tr>\n",
       "    <tr>\n",
       "      <th>252</th>\n",
       "      <td>2020-10-01</td>\n",
       "      <td>778607.0</td>\n",
       "      <td>9419.0</td>\n",
       "      <td>10628</td>\n",
       "    </tr>\n",
       "    <tr>\n",
       "      <th>253</th>\n",
       "      <td>2020-10-02</td>\n",
       "      <td>789932.0</td>\n",
       "      <td>11325.0</td>\n",
       "      <td>10493</td>\n",
       "    </tr>\n",
       "    <tr>\n",
       "      <th>254</th>\n",
       "      <td>2020-10-03</td>\n",
       "      <td>789932.0</td>\n",
       "      <td>0.0</td>\n",
       "      <td>10493</td>\n",
       "    </tr>\n",
       "    <tr>\n",
       "      <th>254</th>\n",
       "      <td>2020-10-04</td>\n",
       "      <td>800425.0</td>\n",
       "      <td>10493.0</td>\n",
       "      <td>10493</td>\n",
       "    </tr>\n",
       "  </tbody>\n",
       "</table>\n",
       "</div>"
      ],
      "text/plain": [
       "    sample_date_string  cumulative_cases  new_cases  covid_cases\n",
       "251         2020-09-30          769188.0    20922.0        10805\n",
       "252         2020-10-01          778607.0     9419.0        10628\n",
       "253         2020-10-02          789932.0    11325.0        10493\n",
       "254         2020-10-03          789932.0        0.0        10493\n",
       "254         2020-10-04          800425.0    10493.0        10493"
      ]
     },
     "execution_count": 8,
     "metadata": {},
     "output_type": "execute_result"
    }
   ],
   "source": [
    "extraction_date_confirmed_df = \\\n",
    "    confirmed_df[confirmed_df.sample_date_string == extraction_date]\n",
    "extraction_previous_date_confirmed_df = \\\n",
    "    confirmed_df[confirmed_df.sample_date_string == extraction_previous_date].copy()\n",
    "\n",
    "if extraction_date_confirmed_df.empty and \\\n",
    "    not extraction_previous_date_confirmed_df.empty:\n",
    "        extraction_previous_date_confirmed_df[\"sample_date_string\"] = extraction_date\n",
    "        extraction_previous_date_confirmed_df[\"new_cases\"] = \\\n",
    "            extraction_previous_date_confirmed_df.covid_cases\n",
    "        extraction_previous_date_confirmed_df[\"cumulative_cases\"] = \\\n",
    "            extraction_previous_date_confirmed_df.new_cases + \\\n",
    "            extraction_previous_date_confirmed_df.cumulative_cases\n",
    "        confirmed_df = confirmed_df.append(extraction_previous_date_confirmed_df)\n",
    "\n",
    "confirmed_df[\"covid_cases\"] = confirmed_df.covid_cases.fillna(0).astype(int)\n",
    "confirmed_df.tail()"
   ]
  },
  {
   "cell_type": "code",
   "execution_count": 9,
   "metadata": {
    "execution": {
     "iopub.execute_input": "2020-10-04T10:21:01.578554Z",
     "iopub.status.busy": "2020-10-04T10:21:01.577865Z",
     "iopub.status.idle": "2020-10-04T10:21:01.790161Z",
     "shell.execute_reply": "2020-10-04T10:21:01.790629Z"
    },
    "papermill": {
     "duration": 0.258809,
     "end_time": "2020-10-04T10:21:01.790807",
     "exception": false,
     "start_time": "2020-10-04T10:21:01.531998",
     "status": "completed"
    },
    "pycharm": {
     "name": "#%%\n"
    },
    "tags": []
   },
   "outputs": [
    {
     "data": {
      "text/plain": [
       "<matplotlib.axes._subplots.AxesSubplot at 0x7fd761c25700>"
      ]
     },
     "execution_count": 9,
     "metadata": {},
     "output_type": "execute_result"
    },
    {
     "data": {
      "image/png": "[encoded data removed]",
      "text/plain": [
       "<Figure size 1080x432 with 1 Axes>"
      ]
     },
     "metadata": {},
     "output_type": "display_data"
    }
   ],
   "source": [
    "confirmed_df[[\"new_cases\", \"covid_cases\"]].plot()"
   ]
  },
  {
   "cell_type": "markdown",
   "metadata": {
    "execution": {
     "iopub.execute_input": "2020-08-30T22:30:16.351238Z",
     "iopub.status.busy": "2020-08-30T22:30:16.344579Z",
     "iopub.status.idle": "2020-08-30T22:30:16.354285Z",
     "shell.execute_reply": "2020-08-30T22:30:16.353641Z"
    },
    "papermill": {
     "duration": 0.041842,
     "end_time": "2020-10-04T10:21:01.874663",
     "exception": false,
     "start_time": "2020-10-04T10:21:01.832821",
     "status": "completed"
    },
    "pycharm": {
     "name": "#%% md\n"
    },
    "tags": []
   },
   "source": [
    "### Extract API TEKs"
   ]
  },
  {
   "cell_type": "code",
   "execution_count": 10,
   "metadata": {
    "execution": {
     "iopub.execute_input": "2020-10-04T10:21:01.961938Z",
     "iopub.status.busy": "2020-10-04T10:21:01.961327Z",
     "iopub.status.idle": "2020-10-04T10:21:03.128289Z",
     "shell.execute_reply": "2020-10-04T10:21:03.127753Z"
    },
    "papermill": {
     "duration": 1.213711,
     "end_time": "2020-10-04T10:21:03.128434",
     "exception": false,
     "start_time": "2020-10-04T10:21:01.914723",
     "status": "completed"
    },
    "pycharm": {
     "name": "#%%\n"
    },
    "tags": []
   },
   "outputs": [
    {
     "data": {
      "text/html": [
       "<div>\n",
       "<style scoped>\n",
       "    .dataframe tbody tr th:only-of-type {\n",
       "        vertical-align: middle;\n",
       "    }\n",
       "\n",
       "    .dataframe tbody tr th {\n",
       "        vertical-align: top;\n",
       "    }\n",
       "\n",
       "    .dataframe thead th {\n",
       "        text-align: right;\n",
       "    }\n",
       "</style>\n",
       "<table border=\"1\" class=\"dataframe\">\n",
       "  <thead>\n",
       "    <tr style=\"text-align: right;\">\n",
       "      <th></th>\n",
       "      <th>sample_datetime</th>\n",
       "      <th>sample_date_string</th>\n",
       "      <th>source_url</th>\n",
       "      <th>region</th>\n",
       "      <th>verification_key_version</th>\n",
       "      <th>verification_key_id</th>\n",
       "      <th>signature_algorithm</th>\n",
       "      <th>key_data</th>\n",
       "      <th>rolling_start_interval_number</th>\n",
       "      <th>rolling_period</th>\n",
       "      <th>transmission_risk_level</th>\n",
       "    </tr>\n",
       "  </thead>\n",
       "  <tbody>\n",
       "    <tr>\n",
       "      <th>0</th>\n",
       "      <td>2020-10-04 00:00:00+00:00</td>\n",
       "      <td>2020-10-04</td>\n",
       "      <td>https://radarcovid.covid19.gob.es/dp3t/v1/gaen...</td>\n",
       "      <td>ES</td>\n",
       "      <td>V1</td>\n",
       "      <td>214</td>\n",
       "      <td>1.2.840.10045.4.3.2</td>\n",
       "      <td>f6622b67-6c45-4e8a-dc9e-41c12e376233</td>\n",
       "      <td>2669616</td>\n",
       "      <td>59</td>\n",
       "      <td>0</td>\n",
       "    </tr>\n",
       "    <tr>\n",
       "      <th>1</th>\n",
       "      <td>2020-10-04 00:00:00+00:00</td>\n",
       "      <td>2020-10-04</td>\n",
       "      <td>https://radarcovid.covid19.gob.es/dp3t/v1/gaen...</td>\n",
       "      <td>ES</td>\n",
       "      <td>V1</td>\n",
       "      <td>214</td>\n",
       "      <td>1.2.840.10045.4.3.2</td>\n",
       "      <td>05f33175-bab9-9051-d894-a1bd813d0353</td>\n",
       "      <td>2669616</td>\n",
       "      <td>59</td>\n",
       "      <td>0</td>\n",
       "    </tr>\n",
       "    <tr>\n",
       "      <th>2</th>\n",
       "      <td>2020-10-04 00:00:00+00:00</td>\n",
       "      <td>2020-10-04</td>\n",
       "      <td>https://radarcovid.covid19.gob.es/dp3t/v1/gaen...</td>\n",
       "      <td>ES</td>\n",
       "      <td>V1</td>\n",
       "      <td>214</td>\n",
       "      <td>1.2.840.10045.4.3.2</td>\n",
       "      <td>fc7e8f18-f04e-8897-58e0-5f49e9018f42</td>\n",
       "      <td>2669616</td>\n",
       "      <td>58</td>\n",
       "      <td>0</td>\n",
       "    </tr>\n",
       "    <tr>\n",
       "      <th>3</th>\n",
       "      <td>2020-10-04 00:00:00+00:00</td>\n",
       "      <td>2020-10-04</td>\n",
       "      <td>https://radarcovid.covid19.gob.es/dp3t/v1/gaen...</td>\n",
       "      <td>ES</td>\n",
       "      <td>V1</td>\n",
       "      <td>214</td>\n",
       "      <td>1.2.840.10045.4.3.2</td>\n",
       "      <td>6c569ccc-562c-c842-5fed-9de3c9d72456</td>\n",
       "      <td>2669616</td>\n",
       "      <td>58</td>\n",
       "      <td>0</td>\n",
       "    </tr>\n",
       "    <tr>\n",
       "      <th>4</th>\n",
       "      <td>2020-10-04 00:00:00+00:00</td>\n",
       "      <td>2020-10-04</td>\n",
       "      <td>https://radarcovid.covid19.gob.es/dp3t/v1/gaen...</td>\n",
       "      <td>ES</td>\n",
       "      <td>V1</td>\n",
       "      <td>214</td>\n",
       "      <td>1.2.840.10045.4.3.2</td>\n",
       "      <td>879b9199-fd73-56c0-0f49-bbd0bf63f00a</td>\n",
       "      <td>2669616</td>\n",
       "      <td>58</td>\n",
       "      <td>0</td>\n",
       "    </tr>\n",
       "  </tbody>\n",
       "</table>\n",
       "</div>"
      ],
      "text/plain": [
       "            sample_datetime sample_date_string  \\\n",
       "0 2020-10-04 00:00:00+00:00         2020-10-04   \n",
       "1 2020-10-04 00:00:00+00:00         2020-10-04   \n",
       "2 2020-10-04 00:00:00+00:00         2020-10-04   \n",
       "3 2020-10-04 00:00:00+00:00         2020-10-04   \n",
       "4 2020-10-04 00:00:00+00:00         2020-10-04   \n",
       "\n",
       "                                          source_url region  \\\n",
       "0  https://radarcovid.covid19.gob.es/dp3t/v1/gaen...     ES   \n",
       "1  https://radarcovid.covid19.gob.es/dp3t/v1/gaen...     ES   \n",
       "2  https://radarcovid.covid19.gob.es/dp3t/v1/gaen...     ES   \n",
       "3  https://radarcovid.covid19.gob.es/dp3t/v1/gaen...     ES   \n",
       "4  https://radarcovid.covid19.gob.es/dp3t/v1/gaen...     ES   \n",
       "\n",
       "  verification_key_version verification_key_id  signature_algorithm  \\\n",
       "0                       V1                 214  1.2.840.10045.4.3.2   \n",
       "1                       V1                 214  1.2.840.10045.4.3.2   \n",
       "2                       V1                 214  1.2.840.10045.4.3.2   \n",
       "3                       V1                 214  1.2.840.10045.4.3.2   \n",
       "4                       V1                 214  1.2.840.10045.4.3.2   \n",
       "\n",
       "                               key_data  rolling_start_interval_number  \\\n",
       "0  f6622b67-6c45-4e8a-dc9e-41c12e376233                        2669616   \n",
       "1  05f33175-bab9-9051-d894-a1bd813d0353                        2669616   \n",
       "2  fc7e8f18-f04e-8897-58e0-5f49e9018f42                        2669616   \n",
       "3  6c569ccc-562c-c842-5fed-9de3c9d72456                        2669616   \n",
       "4  879b9199-fd73-56c0-0f49-bbd0bf63f00a                        2669616   \n",
       "\n",
       "   rolling_period  transmission_risk_level  \n",
       "0              59                        0  \n",
       "1              59                        0  \n",
       "2              58                        0  \n",
       "3              58                        0  \n",
       "4              58                        0  "
      ]
     },
     "execution_count": 10,
     "metadata": {},
     "output_type": "execute_result"
    }
   ],
   "source": [
    "from Modules.RadarCOVID import radar_covid\n",
    "\n",
    "raw_zip_paths = [\n",
    "    \"Data/TEKs/Raw/Current/RadarCOVID-TEKs-{sample_date}.zip\",\n",
    "    f\"Data/TEKs/Raw/Daily/{extraction_date}/RadarCOVID-TEKs-{{sample_date}}.zip\",\n",
    "    f\"Data/TEKs/Raw/Hourly/{extraction_date_with_hour}/RadarCOVID-TEKs-{{sample_date}}.zip\",\n",
    "]\n",
    "\n",
    "multi_region_exposure_keys_df = \\\n",
    "    radar_covid.download_last_radar_covid_exposure_keys(\n",
    "        days=14, save_raw_zip_path=raw_zip_paths)\n",
    "multi_region_exposure_keys_df.head()"
   ]
  },
  {
   "cell_type": "code",
   "execution_count": 11,
   "metadata": {
    "collapsed": false,
    "execution": {
     "iopub.execute_input": "2020-10-04T10:21:03.225461Z",
     "iopub.status.busy": "2020-10-04T10:21:03.224847Z",
     "iopub.status.idle": "2020-10-04T10:21:03.438724Z",
     "shell.execute_reply": "2020-10-04T10:21:03.439252Z"
    },
    "papermill": {
     "duration": 0.260489,
     "end_time": "2020-10-04T10:21:03.439426",
     "exception": false,
     "start_time": "2020-10-04T10:21:03.178937",
     "status": "completed"
    },
    "pycharm": {
     "name": "#%%\n"
    },
    "tags": []
   },
   "outputs": [
    {
     "data": {
      "text/plain": [
       "<matplotlib.axes._subplots.AxesSubplot at 0x7fd761c13b20>"
      ]
     },
     "execution_count": 11,
     "metadata": {},
     "output_type": "execute_result"
    },
    {
     "data": {
      "image/png": "[encoded data removed]",
      "text/plain": [
       "<Figure size 1080x432 with 1 Axes>"
      ]
     },
     "metadata": {},
     "output_type": "display_data"
    }
   ],
   "source": [
    "early_teks_df = multi_region_exposure_keys_df[\n",
    "    multi_region_exposure_keys_df.rolling_period < radar_covid.maximum_key_rolling_period].copy()\n",
    "early_teks_df[\"rolling_period_in_hours\"] = early_teks_df.rolling_period / 6\n",
    "early_teks_df[early_teks_df.sample_date_string != extraction_date] \\\n",
    "    .rolling_period_in_hours.hist(bins=list(range(24)))"
   ]
  },
  {
   "cell_type": "code",
   "execution_count": 12,
   "metadata": {
    "collapsed": false,
    "execution": {
     "iopub.execute_input": "2020-10-04T10:21:03.538948Z",
     "iopub.status.busy": "2020-10-04T10:21:03.529740Z",
     "iopub.status.idle": "2020-10-04T10:21:03.737419Z",
     "shell.execute_reply": "2020-10-04T10:21:03.738016Z"
    },
    "papermill": {
     "duration": 0.255738,
     "end_time": "2020-10-04T10:21:03.738191",
     "exception": false,
     "start_time": "2020-10-04T10:21:03.482453",
     "status": "completed"
    },
    "pycharm": {
     "name": "#%%\n"
    },
    "tags": []
   },
   "outputs": [
    {
     "data": {
      "text/plain": [
       "<matplotlib.axes._subplots.AxesSubplot at 0x7fd75ec913a0>"
      ]
     },
     "execution_count": 12,
     "metadata": {},
     "output_type": "execute_result"
    },
    {
     "data": {
      "image/png": "[encoded data removed]",
      "text/plain": [
       "<Figure size 1080x432 with 1 Axes>"
      ]
     },
     "metadata": {},
     "output_type": "display_data"
    }
   ],
   "source": [
    "early_teks_df[early_teks_df.sample_date_string == extraction_date] \\\n",
    "    .rolling_period_in_hours.hist(bins=list(range(24)))"
   ]
  },
  {
   "cell_type": "code",
   "execution_count": 13,
   "metadata": {
    "collapsed": false,
    "execution": {
     "iopub.execute_input": "2020-10-04T10:21:03.835432Z",
     "iopub.status.busy": "2020-10-04T10:21:03.834402Z",
     "iopub.status.idle": "2020-10-04T10:21:03.837378Z",
     "shell.execute_reply": "2020-10-04T10:21:03.837869Z"
    },
    "papermill": {
     "duration": 0.057261,
     "end_time": "2020-10-04T10:21:03.838026",
     "exception": false,
     "start_time": "2020-10-04T10:21:03.780765",
     "status": "completed"
    },
    "pycharm": {
     "name": "#%%\n"
    },
    "tags": []
   },
   "outputs": [
    {
     "data": {
      "text/html": [
       "<div>\n",
       "<style scoped>\n",
       "    .dataframe tbody tr th:only-of-type {\n",
       "        vertical-align: middle;\n",
       "    }\n",
       "\n",
       "    .dataframe tbody tr th {\n",
       "        vertical-align: top;\n",
       "    }\n",
       "\n",
       "    .dataframe thead th {\n",
       "        text-align: right;\n",
       "    }\n",
       "</style>\n",
       "<table border=\"1\" class=\"dataframe\">\n",
       "  <thead>\n",
       "    <tr style=\"text-align: right;\">\n",
       "      <th></th>\n",
       "      <th>sample_date_string</th>\n",
       "      <th>source_url</th>\n",
       "      <th>region</th>\n",
       "      <th>key_data</th>\n",
       "    </tr>\n",
       "  </thead>\n",
       "  <tbody>\n",
       "    <tr>\n",
       "      <th>0</th>\n",
       "      <td>2020-10-04</td>\n",
       "      <td>https://radarcovid.covid19.gob.es/dp3t/v1/gaen...</td>\n",
       "      <td>ES</td>\n",
       "      <td>f6622b67-6c45-4e8a-dc9e-41c12e376233</td>\n",
       "    </tr>\n",
       "    <tr>\n",
       "      <th>1</th>\n",
       "      <td>2020-10-04</td>\n",
       "      <td>https://radarcovid.covid19.gob.es/dp3t/v1/gaen...</td>\n",
       "      <td>ES</td>\n",
       "      <td>05f33175-bab9-9051-d894-a1bd813d0353</td>\n",
       "    </tr>\n",
       "    <tr>\n",
       "      <th>2</th>\n",
       "      <td>2020-10-04</td>\n",
       "      <td>https://radarcovid.covid19.gob.es/dp3t/v1/gaen...</td>\n",
       "      <td>ES</td>\n",
       "      <td>fc7e8f18-f04e-8897-58e0-5f49e9018f42</td>\n",
       "    </tr>\n",
       "    <tr>\n",
       "      <th>3</th>\n",
       "      <td>2020-10-04</td>\n",
       "      <td>https://radarcovid.covid19.gob.es/dp3t/v1/gaen...</td>\n",
       "      <td>ES</td>\n",
       "      <td>6c569ccc-562c-c842-5fed-9de3c9d72456</td>\n",
       "    </tr>\n",
       "    <tr>\n",
       "      <th>4</th>\n",
       "      <td>2020-10-04</td>\n",
       "      <td>https://radarcovid.covid19.gob.es/dp3t/v1/gaen...</td>\n",
       "      <td>ES</td>\n",
       "      <td>879b9199-fd73-56c0-0f49-bbd0bf63f00a</td>\n",
       "    </tr>\n",
       "  </tbody>\n",
       "</table>\n",
       "</div>"
      ],
      "text/plain": [
       "  sample_date_string                                         source_url  \\\n",
       "0         2020-10-04  https://radarcovid.covid19.gob.es/dp3t/v1/gaen...   \n",
       "1         2020-10-04  https://radarcovid.covid19.gob.es/dp3t/v1/gaen...   \n",
       "2         2020-10-04  https://radarcovid.covid19.gob.es/dp3t/v1/gaen...   \n",
       "3         2020-10-04  https://radarcovid.covid19.gob.es/dp3t/v1/gaen...   \n",
       "4         2020-10-04  https://radarcovid.covid19.gob.es/dp3t/v1/gaen...   \n",
       "\n",
       "  region                              key_data  \n",
       "0     ES  f6622b67-6c45-4e8a-dc9e-41c12e376233  \n",
       "1     ES  05f33175-bab9-9051-d894-a1bd813d0353  \n",
       "2     ES  fc7e8f18-f04e-8897-58e0-5f49e9018f42  \n",
       "3     ES  6c569ccc-562c-c842-5fed-9de3c9d72456  \n",
       "4     ES  879b9199-fd73-56c0-0f49-bbd0bf63f00a  "
      ]
     },
     "execution_count": 13,
     "metadata": {},
     "output_type": "execute_result"
    }
   ],
   "source": [
    "multi_region_exposure_keys_df = multi_region_exposure_keys_df[[\n",
    "    \"sample_date_string\", \"source_url\", \"region\", \"key_data\"]]\n",
    "multi_region_exposure_keys_df.head()"
   ]
  },
  {
   "cell_type": "code",
   "execution_count": 14,
   "metadata": {
    "collapsed": false,
    "execution": {
     "iopub.execute_input": "2020-10-04T10:21:03.928472Z",
     "iopub.status.busy": "2020-10-04T10:21:03.927862Z",
     "iopub.status.idle": "2020-10-04T10:21:03.947778Z",
     "shell.execute_reply": "2020-10-04T10:21:03.948385Z"
    },
    "papermill": {
     "duration": 0.067571,
     "end_time": "2020-10-04T10:21:03.948580",
     "exception": false,
     "start_time": "2020-10-04T10:21:03.881009",
     "status": "completed"
    },
    "pycharm": {
     "name": "#%%\n"
    },
    "tags": []
   },
   "outputs": [
    {
     "data": {
      "text/plain": [
       "['ES']"
      ]
     },
     "execution_count": 14,
     "metadata": {},
     "output_type": "execute_result"
    }
   ],
   "source": [
    "active_regions = \\\n",
    "    multi_region_exposure_keys_df.groupby(\"region\").key_data.nunique().sort_values().index.unique().tolist()\n",
    "active_regions"
   ]
  },
  {
   "cell_type": "code",
   "execution_count": 15,
   "metadata": {
    "collapsed": false,
    "execution": {
     "iopub.execute_input": "2020-10-04T10:21:04.040763Z",
     "iopub.status.busy": "2020-10-04T10:21:04.040141Z",
     "iopub.status.idle": "2020-10-04T10:21:04.072711Z",
     "shell.execute_reply": "2020-10-04T10:21:04.072072Z"
    },
    "papermill": {
     "duration": 0.08064,
     "end_time": "2020-10-04T10:21:04.072923",
     "exception": false,
     "start_time": "2020-10-04T10:21:03.992283",
     "status": "completed"
    },
    "pycharm": {
     "name": "#%%\n"
    },
    "tags": []
   },
   "outputs": [
    {
     "data": {
      "text/html": [
       "<div>\n",
       "<style scoped>\n",
       "    .dataframe tbody tr th:only-of-type {\n",
       "        vertical-align: middle;\n",
       "    }\n",
       "\n",
       "    .dataframe tbody tr th {\n",
       "        vertical-align: top;\n",
       "    }\n",
       "\n",
       "    .dataframe thead tr th {\n",
       "        text-align: left;\n",
       "    }\n",
       "\n",
       "    .dataframe thead tr:last-of-type th {\n",
       "        text-align: right;\n",
       "    }\n",
       "</style>\n",
       "<table border=\"1\" class=\"dataframe\">\n",
       "  <thead>\n",
       "    <tr>\n",
       "      <th></th>\n",
       "      <th>shared_teks_by_generation_date</th>\n",
       "    </tr>\n",
       "    <tr>\n",
       "      <th>region</th>\n",
       "      <th>ES</th>\n",
       "    </tr>\n",
       "    <tr>\n",
       "      <th>sample_date_string</th>\n",
       "      <th></th>\n",
       "    </tr>\n",
       "  </thead>\n",
       "  <tbody>\n",
       "    <tr>\n",
       "      <th>2020-10-04</th>\n",
       "      <td>22</td>\n",
       "    </tr>\n",
       "    <tr>\n",
       "      <th>2020-10-03</th>\n",
       "      <td>106</td>\n",
       "    </tr>\n",
       "    <tr>\n",
       "      <th>2020-10-02</th>\n",
       "      <td>161</td>\n",
       "    </tr>\n",
       "    <tr>\n",
       "      <th>2020-10-01</th>\n",
       "      <td>205</td>\n",
       "    </tr>\n",
       "    <tr>\n",
       "      <th>2020-09-30</th>\n",
       "      <td>220</td>\n",
       "    </tr>\n",
       "  </tbody>\n",
       "</table>\n",
       "</div>"
      ],
      "text/plain": [
       "                   shared_teks_by_generation_date\n",
       "region                                         ES\n",
       "sample_date_string                               \n",
       "2020-10-04                                     22\n",
       "2020-10-03                                    106\n",
       "2020-10-02                                    161\n",
       "2020-10-01                                    205\n",
       "2020-09-30                                    220"
      ]
     },
     "execution_count": 15,
     "metadata": {},
     "output_type": "execute_result"
    }
   ],
   "source": [
    "multi_region_summary_df = multi_region_exposure_keys_df.groupby(\n",
    "    [\"sample_date_string\", \"region\"]).key_data.nunique().reset_index() \\\n",
    "    .pivot(index=\"sample_date_string\", columns=\"region\") \\\n",
    "    .sort_index(ascending=False)\n",
    "multi_region_summary_df.rename(columns={\"key_data\": \"shared_teks_by_generation_date\"}, inplace=True)\n",
    "multi_region_summary_df.head()"
   ]
  },
  {
   "cell_type": "code",
   "execution_count": 16,
   "metadata": {
    "collapsed": false,
    "execution": {
     "iopub.execute_input": "2020-10-04T10:21:04.168479Z",
     "iopub.status.busy": "2020-10-04T10:21:04.167833Z",
     "iopub.status.idle": "2020-10-04T10:21:04.170819Z",
     "shell.execute_reply": "2020-10-04T10:21:04.171402Z"
    },
    "papermill": {
     "duration": 0.054579,
     "end_time": "2020-10-04T10:21:04.171555",
     "exception": false,
     "start_time": "2020-10-04T10:21:04.116976",
     "status": "completed"
    },
    "pycharm": {
     "name": "#%%\n"
    },
    "tags": []
   },
   "outputs": [
    {
     "data": {
      "text/plain": [
       "[]"
      ]
     },
     "execution_count": 16,
     "metadata": {},
     "output_type": "execute_result"
    }
   ],
   "source": [
    "multi_region_without_spain_exposure_keys_df = \\\n",
    "    multi_region_exposure_keys_df[multi_region_exposure_keys_df.region != spain_region_country_code]\n",
    "active_regions_excluding_spain = \\\n",
    "    multi_region_without_spain_exposure_keys_df.groupby(\"region\").key_data.nunique().sort_values().index.unique().tolist()\n",
    "active_regions_excluding_spain"
   ]
  },
  {
   "cell_type": "code",
   "execution_count": 17,
   "metadata": {
    "execution": {
     "iopub.execute_input": "2020-10-04T10:21:04.263565Z",
     "iopub.status.busy": "2020-10-04T10:21:04.262959Z",
     "iopub.status.idle": "2020-10-04T10:21:04.289591Z",
     "shell.execute_reply": "2020-10-04T10:21:04.289074Z"
    },
    "papermill": {
     "duration": 0.074921,
     "end_time": "2020-10-04T10:21:04.289719",
     "exception": false,
     "start_time": "2020-10-04T10:21:04.214798",
     "status": "completed"
    },
    "scrolled": false,
    "tags": []
   },
   "outputs": [
    {
     "data": {
      "text/html": [
       "<div>\n",
       "<style scoped>\n",
       "    .dataframe tbody tr th:only-of-type {\n",
       "        vertical-align: middle;\n",
       "    }\n",
       "\n",
       "    .dataframe tbody tr th {\n",
       "        vertical-align: top;\n",
       "    }\n",
       "\n",
       "    .dataframe thead th {\n",
       "        text-align: right;\n",
       "    }\n",
       "</style>\n",
       "<table border=\"1\" class=\"dataframe\">\n",
       "  <thead>\n",
       "    <tr style=\"text-align: right;\">\n",
       "      <th></th>\n",
       "      <th>shared_teks_by_generation_date</th>\n",
       "    </tr>\n",
       "    <tr>\n",
       "      <th>sample_date_string</th>\n",
       "      <th></th>\n",
       "    </tr>\n",
       "  </thead>\n",
       "  <tbody>\n",
       "    <tr>\n",
       "      <th>2020-10-04</th>\n",
       "      <td>22</td>\n",
       "    </tr>\n",
       "    <tr>\n",
       "      <th>2020-10-03</th>\n",
       "      <td>106</td>\n",
       "    </tr>\n",
       "    <tr>\n",
       "      <th>2020-10-02</th>\n",
       "      <td>161</td>\n",
       "    </tr>\n",
       "    <tr>\n",
       "      <th>2020-10-01</th>\n",
       "      <td>205</td>\n",
       "    </tr>\n",
       "    <tr>\n",
       "      <th>2020-09-30</th>\n",
       "      <td>220</td>\n",
       "    </tr>\n",
       "  </tbody>\n",
       "</table>\n",
       "</div>"
      ],
      "text/plain": [
       "                    shared_teks_by_generation_date\n",
       "sample_date_string                                \n",
       "2020-10-04                                      22\n",
       "2020-10-03                                     106\n",
       "2020-10-02                                     161\n",
       "2020-10-01                                     205\n",
       "2020-09-30                                     220"
      ]
     },
     "execution_count": 17,
     "metadata": {},
     "output_type": "execute_result"
    }
   ],
   "source": [
    "exposure_keys_summary_df = multi_region_exposure_keys_df[\n",
    "    multi_region_exposure_keys_df.region == spain_region_country_code]\n",
    "exposure_keys_summary_df.drop(columns=[\"region\"], inplace=True)\n",
    "exposure_keys_summary_df = \\\n",
    "    exposure_keys_summary_df.groupby([\"sample_date_string\"]).key_data.nunique().to_frame()\n",
    "exposure_keys_summary_df = \\\n",
    "    exposure_keys_summary_df.reset_index().set_index(\"sample_date_string\")\n",
    "exposure_keys_summary_df.sort_index(ascending=False, inplace=True)\n",
    "exposure_keys_summary_df.rename(columns={\"key_data\": \"shared_teks_by_generation_date\"}, inplace=True)\n",
    "exposure_keys_summary_df.head()"
   ]
  },
  {
   "cell_type": "markdown",
   "metadata": {
    "papermill": {
     "duration": 0.043188,
     "end_time": "2020-10-04T10:21:04.376983",
     "exception": false,
     "start_time": "2020-10-04T10:21:04.333795",
     "status": "completed"
    },
    "tags": []
   },
   "source": [
    "### Dump API TEKs"
   ]
  },
  {
   "cell_type": "code",
   "execution_count": 18,
   "metadata": {
    "execution": {
     "iopub.execute_input": "2020-10-04T10:21:04.471642Z",
     "iopub.status.busy": "2020-10-04T10:21:04.471016Z",
     "iopub.status.idle": "2020-10-04T10:21:04.509914Z",
     "shell.execute_reply": "2020-10-04T10:21:04.510479Z"
    },
    "papermill": {
     "duration": 0.090096,
     "end_time": "2020-10-04T10:21:04.510642",
     "exception": false,
     "start_time": "2020-10-04T10:21:04.420546",
     "status": "completed"
    },
    "tags": []
   },
   "outputs": [
    {
     "data": {
      "text/html": [
       "<div>\n",
       "<style scoped>\n",
       "    .dataframe tbody tr th:only-of-type {\n",
       "        vertical-align: middle;\n",
       "    }\n",
       "\n",
       "    .dataframe tbody tr th {\n",
       "        vertical-align: top;\n",
       "    }\n",
       "\n",
       "    .dataframe thead th {\n",
       "        text-align: right;\n",
       "    }\n",
       "</style>\n",
       "<table border=\"1\" class=\"dataframe\">\n",
       "  <thead>\n",
       "    <tr style=\"text-align: right;\">\n",
       "      <th></th>\n",
       "      <th>sample_date</th>\n",
       "      <th>region</th>\n",
       "      <th>tek_list</th>\n",
       "      <th>extraction_date</th>\n",
       "      <th>extraction_date_with_hour</th>\n",
       "    </tr>\n",
       "  </thead>\n",
       "  <tbody>\n",
       "    <tr>\n",
       "      <th>0</th>\n",
       "      <td>2020-09-21</td>\n",
       "      <td>ES</td>\n",
       "      <td>[da097f8a-10bf-41f1-3a4a-df479b6b989b, effe4b4...</td>\n",
       "      <td>2020-10-04</td>\n",
       "      <td>2020-10-04@10</td>\n",
       "    </tr>\n",
       "    <tr>\n",
       "      <th>1</th>\n",
       "      <td>2020-09-22</td>\n",
       "      <td>ES</td>\n",
       "      <td>[76e69d95-f0ad-fac7-a765-90eb52565443, 28edf29...</td>\n",
       "      <td>2020-10-04</td>\n",
       "      <td>2020-10-04@10</td>\n",
       "    </tr>\n",
       "    <tr>\n",
       "      <th>2</th>\n",
       "      <td>2020-09-23</td>\n",
       "      <td>ES</td>\n",
       "      <td>[fa1b495e-94d0-aca7-a487-dd2876cc5e85, 7c08623...</td>\n",
       "      <td>2020-10-04</td>\n",
       "      <td>2020-10-04@10</td>\n",
       "    </tr>\n",
       "    <tr>\n",
       "      <th>3</th>\n",
       "      <td>2020-09-24</td>\n",
       "      <td>ES</td>\n",
       "      <td>[630f880d-b806-d5aa-cbda-ea3dd467f5d9, e4d0219...</td>\n",
       "      <td>2020-10-04</td>\n",
       "      <td>2020-10-04@10</td>\n",
       "    </tr>\n",
       "    <tr>\n",
       "      <th>4</th>\n",
       "      <td>2020-09-25</td>\n",
       "      <td>ES</td>\n",
       "      <td>[e0de6a38-be0e-13ec-546f-b33721bed8d9, 0a7415b...</td>\n",
       "      <td>2020-10-04</td>\n",
       "      <td>2020-10-04@10</td>\n",
       "    </tr>\n",
       "  </tbody>\n",
       "</table>\n",
       "</div>"
      ],
      "text/plain": [
       "  sample_date region                                           tek_list  \\\n",
       "0  2020-09-21     ES  [da097f8a-10bf-41f1-3a4a-df479b6b989b, effe4b4...   \n",
       "1  2020-09-22     ES  [76e69d95-f0ad-fac7-a765-90eb52565443, 28edf29...   \n",
       "2  2020-09-23     ES  [fa1b495e-94d0-aca7-a487-dd2876cc5e85, 7c08623...   \n",
       "3  2020-09-24     ES  [630f880d-b806-d5aa-cbda-ea3dd467f5d9, e4d0219...   \n",
       "4  2020-09-25     ES  [e0de6a38-be0e-13ec-546f-b33721bed8d9, 0a7415b...   \n",
       "\n",
       "  extraction_date extraction_date_with_hour  \n",
       "0      2020-10-04             2020-10-04@10  \n",
       "1      2020-10-04             2020-10-04@10  \n",
       "2      2020-10-04             2020-10-04@10  \n",
       "3      2020-10-04             2020-10-04@10  \n",
       "4      2020-10-04             2020-10-04@10  "
      ]
     },
     "execution_count": 18,
     "metadata": {},
     "output_type": "execute_result"
    }
   ],
   "source": [
    "tek_list_df = multi_region_exposure_keys_df[\n",
    "    [\"sample_date_string\", \"region\", \"key_data\"]].copy()\n",
    "tek_list_df[\"key_data\"] = tek_list_df[\"key_data\"].apply(str)\n",
    "tek_list_df.rename(columns={\n",
    "    \"sample_date_string\": \"sample_date\",\n",
    "    \"key_data\": \"tek_list\"}, inplace=True)\n",
    "tek_list_df = tek_list_df.groupby(\n",
    "    [\"sample_date\", \"region\"]).tek_list.unique().reset_index()\n",
    "tek_list_df[\"extraction_date\"] = extraction_date\n",
    "tek_list_df[\"extraction_date_with_hour\"] = extraction_date_with_hour\n",
    "tek_list_df.drop(columns=[\"extraction_date\", \"extraction_date_with_hour\"]).to_json(\n",
    "    \"Data/TEKs/Current/RadarCOVID-TEKs.json\",\n",
    "    lines=True, orient=\"records\")\n",
    "tek_list_df.drop(columns=[\"extraction_date_with_hour\"]).to_json(\n",
    "    \"Data/TEKs/Daily/RadarCOVID-TEKs-\" + extraction_date + \".json\",\n",
    "    lines=True, orient=\"records\")\n",
    "tek_list_df.to_json(\n",
    "    \"Data/TEKs/Hourly/RadarCOVID-TEKs-\" + extraction_date_with_hour + \".json\",\n",
    "    lines=True, orient=\"records\")\n",
    "tek_list_df.head()"
   ]
  },
  {
   "cell_type": "markdown",
   "metadata": {
    "papermill": {
     "duration": 0.045024,
     "end_time": "2020-10-04T10:21:04.601664",
     "exception": false,
     "start_time": "2020-10-04T10:21:04.556640",
     "status": "completed"
    },
    "tags": []
   },
   "source": [
    "### Load TEK Dumps"
   ]
  },
  {
   "cell_type": "code",
   "execution_count": 19,
   "metadata": {
    "execution": {
     "iopub.execute_input": "2020-10-04T10:21:04.696970Z",
     "iopub.status.busy": "2020-10-04T10:21:04.696338Z",
     "iopub.status.idle": "2020-10-04T10:21:04.698788Z",
     "shell.execute_reply": "2020-10-04T10:21:04.698273Z"
    },
    "papermill": {
     "duration": 0.052283,
     "end_time": "2020-10-04T10:21:04.698956",
     "exception": false,
     "start_time": "2020-10-04T10:21:04.646673",
     "status": "completed"
    },
    "tags": []
   },
   "outputs": [],
   "source": [
    "import glob\n",
    "\n",
    "def load_extracted_teks(mode, region=None, limit=None) -> pd.DataFrame:\n",
    "    extracted_teks_df = pd.DataFrame(columns=[\"region\"])\n",
    "    paths = list(reversed(sorted(glob.glob(f\"Data/TEKs/{mode}/RadarCOVID-TEKs-*.json\"))))\n",
    "    if limit:\n",
    "        paths = paths[:limit]\n",
    "    for path in paths:\n",
    "        logging.info(f\"Loading TEKs from '{path}'...\")\n",
    "        iteration_extracted_teks_df = pd.read_json(path, lines=True)\n",
    "        extracted_teks_df = extracted_teks_df.append(\n",
    "            iteration_extracted_teks_df, sort=False)\n",
    "    extracted_teks_df[\"region\"] = \\\n",
    "        extracted_teks_df.region.fillna(spain_region_country_code).copy()\n",
    "    if region:\n",
    "        extracted_teks_df = \\\n",
    "            extracted_teks_df[extracted_teks_df.region == region]\n",
    "    return extracted_teks_df"
   ]
  },
  {
   "cell_type": "code",
   "execution_count": 20,
   "metadata": {
    "collapsed": false,
    "execution": {
     "iopub.execute_input": "2020-10-04T10:21:04.793880Z",
     "iopub.status.busy": "2020-10-04T10:21:04.793287Z",
     "iopub.status.idle": "2020-10-04T10:21:04.933338Z",
     "shell.execute_reply": "2020-10-04T10:21:04.932807Z"
    },
    "papermill": {
     "duration": 0.18986,
     "end_time": "2020-10-04T10:21:04.933476",
     "exception": false,
     "start_time": "2020-10-04T10:21:04.743616",
     "status": "completed"
    },
    "pycharm": {
     "name": "#%%\n"
    },
    "tags": []
   },
   "outputs": [
    {
     "data": {
      "text/html": [
       "<div>\n",
       "<style scoped>\n",
       "    .dataframe tbody tr th:only-of-type {\n",
       "        vertical-align: middle;\n",
       "    }\n",
       "\n",
       "    .dataframe tbody tr th {\n",
       "        vertical-align: top;\n",
       "    }\n",
       "\n",
       "    .dataframe thead th {\n",
       "        text-align: right;\n",
       "    }\n",
       "</style>\n",
       "<table border=\"1\" class=\"dataframe\">\n",
       "  <thead>\n",
       "    <tr style=\"text-align: right;\">\n",
       "      <th></th>\n",
       "      <th>region</th>\n",
       "      <th>sample_date</th>\n",
       "      <th>tek_list</th>\n",
       "      <th>extraction_date</th>\n",
       "    </tr>\n",
       "  </thead>\n",
       "  <tbody>\n",
       "    <tr>\n",
       "      <th>0</th>\n",
       "      <td>ES</td>\n",
       "      <td>2020-09-21</td>\n",
       "      <td>[da097f8a-10bf-41f1-3a4a-df479b6b989b, effe4b4...</td>\n",
       "      <td>2020-10-04</td>\n",
       "    </tr>\n",
       "    <tr>\n",
       "      <th>1</th>\n",
       "      <td>ES</td>\n",
       "      <td>2020-09-22</td>\n",
       "      <td>[76e69d95-f0ad-fac7-a765-90eb52565443, 28edf29...</td>\n",
       "      <td>2020-10-04</td>\n",
       "    </tr>\n",
       "    <tr>\n",
       "      <th>2</th>\n",
       "      <td>ES</td>\n",
       "      <td>2020-09-23</td>\n",
       "      <td>[fa1b495e-94d0-aca7-a487-dd2876cc5e85, 7c08623...</td>\n",
       "      <td>2020-10-04</td>\n",
       "    </tr>\n",
       "    <tr>\n",
       "      <th>3</th>\n",
       "      <td>ES</td>\n",
       "      <td>2020-09-24</td>\n",
       "      <td>[630f880d-b806-d5aa-cbda-ea3dd467f5d9, e4d0219...</td>\n",
       "      <td>2020-10-04</td>\n",
       "    </tr>\n",
       "    <tr>\n",
       "      <th>4</th>\n",
       "      <td>ES</td>\n",
       "      <td>2020-09-25</td>\n",
       "      <td>[e0de6a38-be0e-13ec-546f-b33721bed8d9, 0a7415b...</td>\n",
       "      <td>2020-10-04</td>\n",
       "    </tr>\n",
       "  </tbody>\n",
       "</table>\n",
       "</div>"
      ],
      "text/plain": [
       "  region sample_date                                           tek_list  \\\n",
       "0     ES  2020-09-21  [da097f8a-10bf-41f1-3a4a-df479b6b989b, effe4b4...   \n",
       "1     ES  2020-09-22  [76e69d95-f0ad-fac7-a765-90eb52565443, 28edf29...   \n",
       "2     ES  2020-09-23  [fa1b495e-94d0-aca7-a487-dd2876cc5e85, 7c08623...   \n",
       "3     ES  2020-09-24  [630f880d-b806-d5aa-cbda-ea3dd467f5d9, e4d0219...   \n",
       "4     ES  2020-09-25  [e0de6a38-be0e-13ec-546f-b33721bed8d9, 0a7415b...   \n",
       "\n",
       "  extraction_date  \n",
       "0      2020-10-04  \n",
       "1      2020-10-04  \n",
       "2      2020-10-04  \n",
       "3      2020-10-04  \n",
       "4      2020-10-04  "
      ]
     },
     "execution_count": 20,
     "metadata": {},
     "output_type": "execute_result"
    }
   ],
   "source": [
    "daily_extracted_teks_df = load_extracted_teks(\n",
    "    mode=\"Daily\",\n",
    "    region=spain_region_country_code,\n",
    "    limit=tek_dumps_load_limit)\n",
    "daily_extracted_teks_df.head()"
   ]
  },
  {
   "cell_type": "code",
   "execution_count": 21,
   "metadata": {
    "collapsed": false,
    "execution": {
     "iopub.execute_input": "2020-10-04T10:21:05.036830Z",
     "iopub.status.busy": "2020-10-04T10:21:05.036194Z",
     "iopub.status.idle": "2020-10-04T10:21:05.040128Z",
     "shell.execute_reply": "2020-10-04T10:21:05.039549Z"
    },
    "papermill": {
     "duration": 0.061706,
     "end_time": "2020-10-04T10:21:05.040261",
     "exception": false,
     "start_time": "2020-10-04T10:21:04.978555",
     "status": "completed"
    },
    "pycharm": {
     "name": "#%%\n"
    },
    "tags": []
   },
   "outputs": [
    {
     "data": {
      "text/html": [
       "<div>\n",
       "<style scoped>\n",
       "    .dataframe tbody tr th:only-of-type {\n",
       "        vertical-align: middle;\n",
       "    }\n",
       "\n",
       "    .dataframe tbody tr th {\n",
       "        vertical-align: top;\n",
       "    }\n",
       "\n",
       "    .dataframe thead th {\n",
       "        text-align: right;\n",
       "    }\n",
       "</style>\n",
       "<table border=\"1\" class=\"dataframe\">\n",
       "  <thead>\n",
       "    <tr style=\"text-align: right;\">\n",
       "      <th></th>\n",
       "      <th>shared_teks_by_generation_date</th>\n",
       "    </tr>\n",
       "    <tr>\n",
       "      <th>sample_date_string</th>\n",
       "      <th></th>\n",
       "    </tr>\n",
       "  </thead>\n",
       "  <tbody>\n",
       "    <tr>\n",
       "      <th>2020-10-04</th>\n",
       "      <td>22</td>\n",
       "    </tr>\n",
       "    <tr>\n",
       "      <th>2020-10-03</th>\n",
       "      <td>106</td>\n",
       "    </tr>\n",
       "    <tr>\n",
       "      <th>2020-10-02</th>\n",
       "      <td>161</td>\n",
       "    </tr>\n",
       "    <tr>\n",
       "      <th>2020-10-01</th>\n",
       "      <td>205</td>\n",
       "    </tr>\n",
       "    <tr>\n",
       "      <th>2020-09-30</th>\n",
       "      <td>220</td>\n",
       "    </tr>\n",
       "  </tbody>\n",
       "</table>\n",
       "</div>"
      ],
      "text/plain": [
       "                    shared_teks_by_generation_date\n",
       "sample_date_string                                \n",
       "2020-10-04                                      22\n",
       "2020-10-03                                     106\n",
       "2020-10-02                                     161\n",
       "2020-10-01                                     205\n",
       "2020-09-30                                     220"
      ]
     },
     "execution_count": 21,
     "metadata": {},
     "output_type": "execute_result"
    }
   ],
   "source": [
    "exposure_keys_summary_df_ = daily_extracted_teks_df \\\n",
    "    .sort_values(\"extraction_date\", ascending=False) \\\n",
    "    .groupby(\"sample_date\").tek_list.first() \\\n",
    "    .to_frame()\n",
    "exposure_keys_summary_df_.index.name = \"sample_date_string\"\n",
    "exposure_keys_summary_df_[\"tek_list\"] = \\\n",
    "    exposure_keys_summary_df_.tek_list.apply(len)\n",
    "exposure_keys_summary_df_ = exposure_keys_summary_df_ \\\n",
    "    .rename(columns={\"tek_list\": \"shared_teks_by_generation_date\"}) \\\n",
    "    .sort_index(ascending=False)\n",
    "exposure_keys_summary_df = exposure_keys_summary_df_\n",
    "exposure_keys_summary_df.head()"
   ]
  },
  {
   "cell_type": "markdown",
   "metadata": {
    "execution": {
     "iopub.execute_input": "2020-08-30T22:30:16.632967Z",
     "iopub.status.busy": "2020-08-30T22:30:16.632308Z",
     "iopub.status.idle": "2020-08-30T22:30:16.634945Z",
     "shell.execute_reply": "2020-08-30T22:30:16.635575Z"
    },
    "papermill": {
     "duration": 0.049689,
     "end_time": "2020-10-04T10:21:05.137094",
     "exception": false,
     "start_time": "2020-10-04T10:21:05.087405",
     "status": "completed"
    },
    "pycharm": {
     "name": "#%% md\n"
    },
    "tags": []
   },
   "source": [
    "### Daily New TEKs"
   ]
  },
  {
   "cell_type": "code",
   "execution_count": 22,
   "metadata": {
    "execution": {
     "iopub.execute_input": "2020-10-04T10:21:05.253573Z",
     "iopub.status.busy": "2020-10-04T10:21:05.252962Z",
     "iopub.status.idle": "2020-10-04T10:21:05.256122Z",
     "shell.execute_reply": "2020-10-04T10:21:05.255506Z"
    },
    "papermill": {
     "duration": 0.072159,
     "end_time": "2020-10-04T10:21:05.256258",
     "exception": false,
     "start_time": "2020-10-04T10:21:05.184099",
     "status": "completed"
    },
    "tags": []
   },
   "outputs": [
    {
     "data": {
      "text/html": [
       "<div>\n",
       "<style scoped>\n",
       "    .dataframe tbody tr th:only-of-type {\n",
       "        vertical-align: middle;\n",
       "    }\n",
       "\n",
       "    .dataframe tbody tr th {\n",
       "        vertical-align: top;\n",
       "    }\n",
       "\n",
       "    .dataframe thead th {\n",
       "        text-align: right;\n",
       "    }\n",
       "</style>\n",
       "<table border=\"1\" class=\"dataframe\">\n",
       "  <thead>\n",
       "    <tr style=\"text-align: right;\">\n",
       "      <th></th>\n",
       "      <th>tek_list</th>\n",
       "    </tr>\n",
       "    <tr>\n",
       "      <th>extraction_date</th>\n",
       "      <th></th>\n",
       "    </tr>\n",
       "  </thead>\n",
       "  <tbody>\n",
       "    <tr>\n",
       "      <th>2020-09-13</th>\n",
       "      <td>{07dfdbd5-e86a-607e-3bb9-cacf809e21dc, 7537286...</td>\n",
       "    </tr>\n",
       "    <tr>\n",
       "      <th>2020-09-14</th>\n",
       "      <td>{07dfdbd5-e86a-607e-3bb9-cacf809e21dc, 7537286...</td>\n",
       "    </tr>\n",
       "    <tr>\n",
       "      <th>2020-09-15</th>\n",
       "      <td>{07dfdbd5-e86a-607e-3bb9-cacf809e21dc, 7537286...</td>\n",
       "    </tr>\n",
       "    <tr>\n",
       "      <th>2020-09-16</th>\n",
       "      <td>{07dfdbd5-e86a-607e-3bb9-cacf809e21dc, 7537286...</td>\n",
       "    </tr>\n",
       "    <tr>\n",
       "      <th>2020-09-17</th>\n",
       "      <td>{481412bf-fd8f-299e-f733-33338e3c849e, 7537286...</td>\n",
       "    </tr>\n",
       "  </tbody>\n",
       "</table>\n",
       "</div>"
      ],
      "text/plain": [
       "                                                          tek_list\n",
       "extraction_date                                                   \n",
       "2020-09-13       {07dfdbd5-e86a-607e-3bb9-cacf809e21dc, 7537286...\n",
       "2020-09-14       {07dfdbd5-e86a-607e-3bb9-cacf809e21dc, 7537286...\n",
       "2020-09-15       {07dfdbd5-e86a-607e-3bb9-cacf809e21dc, 7537286...\n",
       "2020-09-16       {07dfdbd5-e86a-607e-3bb9-cacf809e21dc, 7537286...\n",
       "2020-09-17       {481412bf-fd8f-299e-f733-33338e3c849e, 7537286..."
      ]
     },
     "execution_count": 22,
     "metadata": {},
     "output_type": "execute_result"
    }
   ],
   "source": [
    "tek_list_df = daily_extracted_teks_df.groupby(\"extraction_date\").tek_list.apply(\n",
    "    lambda x: set(sum(x, []))).reset_index()\n",
    "tek_list_df = tek_list_df.set_index(\"extraction_date\").sort_index(ascending=True)\n",
    "tek_list_df.head()"
   ]
  },
  {
   "cell_type": "code",
   "execution_count": 23,
   "metadata": {
    "collapsed": false,
    "execution": {
     "iopub.execute_input": "2020-10-04T10:21:05.361569Z",
     "iopub.status.busy": "2020-10-04T10:21:05.360950Z",
     "iopub.status.idle": "2020-10-04T10:21:05.374923Z",
     "shell.execute_reply": "2020-10-04T10:21:05.375420Z"
    },
    "papermill": {
     "duration": 0.071729,
     "end_time": "2020-10-04T10:21:05.375582",
     "exception": false,
     "start_time": "2020-10-04T10:21:05.303853",
     "status": "completed"
    },
    "pycharm": {
     "name": "#%%\n"
    },
    "tags": []
   },
   "outputs": [
    {
     "name": "stderr",
     "output_type": "stream",
     "text": [
      "<ipython-input-23-4d18d86f3c3b>:3: FutureWarning: `item` has been deprecated and will be removed in a future version\n",
      "  today_new_teks_set = today_new_teks_set_df[\n"
     ]
    },
    {
     "data": {
      "text/html": [
       "<div>\n",
       "<style scoped>\n",
       "    .dataframe tbody tr th:only-of-type {\n",
       "        vertical-align: middle;\n",
       "    }\n",
       "\n",
       "    .dataframe tbody tr th {\n",
       "        vertical-align: top;\n",
       "    }\n",
       "\n",
       "    .dataframe thead th {\n",
       "        text-align: right;\n",
       "    }\n",
       "</style>\n",
       "<table border=\"1\" class=\"dataframe\">\n",
       "  <thead>\n",
       "    <tr style=\"text-align: right;\">\n",
       "      <th></th>\n",
       "      <th>today_teks_by_generation_date</th>\n",
       "    </tr>\n",
       "    <tr>\n",
       "      <th>sample_date</th>\n",
       "      <th></th>\n",
       "    </tr>\n",
       "  </thead>\n",
       "  <tbody>\n",
       "    <tr>\n",
       "      <th>2020-09-30</th>\n",
       "      <td>8</td>\n",
       "    </tr>\n",
       "    <tr>\n",
       "      <th>2020-10-01</th>\n",
       "      <td>10</td>\n",
       "    </tr>\n",
       "    <tr>\n",
       "      <th>2020-10-02</th>\n",
       "      <td>13</td>\n",
       "    </tr>\n",
       "    <tr>\n",
       "      <th>2020-10-03</th>\n",
       "      <td>37</td>\n",
       "    </tr>\n",
       "    <tr>\n",
       "      <th>2020-10-04</th>\n",
       "      <td>22</td>\n",
       "    </tr>\n",
       "  </tbody>\n",
       "</table>\n",
       "</div>"
      ],
      "text/plain": [
       "             today_teks_by_generation_date\n",
       "sample_date                               \n",
       "2020-09-30                               8\n",
       "2020-10-01                              10\n",
       "2020-10-02                              13\n",
       "2020-10-03                              37\n",
       "2020-10-04                              22"
      ]
     },
     "execution_count": 23,
     "metadata": {},
     "output_type": "execute_result"
    }
   ],
   "source": [
    "today_new_teks_set_df = tek_list_df.diff()\n",
    "try:\n",
    "    today_new_teks_set = today_new_teks_set_df[\n",
    "        today_new_teks_set_df.index == extraction_date].tek_list.item()\n",
    "except ValueError:\n",
    "    today_new_teks_set = set()\n",
    "today_new_teks_df = daily_extracted_teks_df[\n",
    "    daily_extracted_teks_df.extraction_date == extraction_date].copy()\n",
    "today_new_teks_df[\"today_teks\"] = \\\n",
    "    today_new_teks_df.tek_list.apply(lambda x: set(x).intersection(today_new_teks_set))\n",
    "today_new_teks_df[\"today_teks_by_generation_date\"] = \\\n",
    "    today_new_teks_df.today_teks.apply(len)\n",
    "today_new_teks_df = today_new_teks_df[[\"sample_date\", \"today_teks_by_generation_date\"]]\n",
    "today_new_teks_df.set_index(\"sample_date\", inplace=True)\n",
    "today_new_teks_df.tail()"
   ]
  },
  {
   "cell_type": "code",
   "execution_count": 24,
   "metadata": {
    "collapsed": false,
    "execution": {
     "iopub.execute_input": "2020-10-04T10:21:05.476195Z",
     "iopub.status.busy": "2020-10-04T10:21:05.475604Z",
     "iopub.status.idle": "2020-10-04T10:21:05.725396Z",
     "shell.execute_reply": "2020-10-04T10:21:05.725985Z"
    },
    "papermill": {
     "duration": 0.303318,
     "end_time": "2020-10-04T10:21:05.726155",
     "exception": false,
     "start_time": "2020-10-04T10:21:05.422837",
     "status": "completed"
    },
    "pycharm": {
     "name": "#%%\n"
    },
    "tags": []
   },
   "outputs": [
    {
     "data": {
      "text/plain": [
       "<matplotlib.axes._subplots.AxesSubplot at 0x7fd75ece0760>"
      ]
     },
     "execution_count": 24,
     "metadata": {},
     "output_type": "execute_result"
    },
    {
     "data": {
      "image/png": "[encoded data removed]",
      "text/plain": [
       "<Figure size 1080x432 with 1 Axes>"
      ]
     },
     "metadata": {},
     "output_type": "display_data"
    }
   ],
   "source": [
    "today_new_teks_df.plot.bar()"
   ]
  },
  {
   "cell_type": "code",
   "execution_count": 25,
   "metadata": {
    "execution": {
     "iopub.execute_input": "2020-10-04T10:21:05.830534Z",
     "iopub.status.busy": "2020-10-04T10:21:05.829934Z",
     "iopub.status.idle": "2020-10-04T10:21:05.837963Z",
     "shell.execute_reply": "2020-10-04T10:21:05.837446Z"
    },
    "papermill": {
     "duration": 0.064071,
     "end_time": "2020-10-04T10:21:05.838144",
     "exception": false,
     "start_time": "2020-10-04T10:21:05.774073",
     "status": "completed"
    },
    "tags": []
   },
   "outputs": [
    {
     "data": {
      "text/html": [
       "<div>\n",
       "<style scoped>\n",
       "    .dataframe tbody tr th:only-of-type {\n",
       "        vertical-align: middle;\n",
       "    }\n",
       "\n",
       "    .dataframe tbody tr th {\n",
       "        vertical-align: top;\n",
       "    }\n",
       "\n",
       "    .dataframe thead th {\n",
       "        text-align: right;\n",
       "    }\n",
       "</style>\n",
       "<table border=\"1\" class=\"dataframe\">\n",
       "  <thead>\n",
       "    <tr style=\"text-align: right;\">\n",
       "      <th></th>\n",
       "      <th>sample_date_string</th>\n",
       "      <th>shared_teks_by_upload_date</th>\n",
       "    </tr>\n",
       "  </thead>\n",
       "  <tbody>\n",
       "    <tr>\n",
       "      <th>17</th>\n",
       "      <td>2020-09-30</td>\n",
       "      <td>271.0</td>\n",
       "    </tr>\n",
       "    <tr>\n",
       "      <th>18</th>\n",
       "      <td>2020-10-01</td>\n",
       "      <td>367.0</td>\n",
       "    </tr>\n",
       "    <tr>\n",
       "      <th>19</th>\n",
       "      <td>2020-10-02</td>\n",
       "      <td>299.0</td>\n",
       "    </tr>\n",
       "    <tr>\n",
       "      <th>20</th>\n",
       "      <td>2020-10-03</td>\n",
       "      <td>324.0</td>\n",
       "    </tr>\n",
       "    <tr>\n",
       "      <th>21</th>\n",
       "      <td>2020-10-04</td>\n",
       "      <td>100.0</td>\n",
       "    </tr>\n",
       "  </tbody>\n",
       "</table>\n",
       "</div>"
      ],
      "text/plain": [
       "   sample_date_string  shared_teks_by_upload_date\n",
       "17         2020-09-30                       271.0\n",
       "18         2020-10-01                       367.0\n",
       "19         2020-10-02                       299.0\n",
       "20         2020-10-03                       324.0\n",
       "21         2020-10-04                       100.0"
      ]
     },
     "execution_count": 25,
     "metadata": {},
     "output_type": "execute_result"
    }
   ],
   "source": [
    "new_tek_df = tek_list_df.diff().tek_list.apply(\n",
    "    lambda x: len(x) if not pd.isna(x) else None).to_frame().reset_index()\n",
    "new_tek_df.rename(columns={\n",
    "    \"tek_list\": \"shared_teks_by_upload_date\",\n",
    "    \"extraction_date\": \"sample_date_string\",}, inplace=True)\n",
    "new_tek_df.tail()"
   ]
  },
  {
   "cell_type": "code",
   "execution_count": 26,
   "metadata": {
    "execution": {
     "iopub.execute_input": "2020-10-04T10:21:05.944651Z",
     "iopub.status.busy": "2020-10-04T10:21:05.944046Z",
     "iopub.status.idle": "2020-10-04T10:21:05.959501Z",
     "shell.execute_reply": "2020-10-04T10:21:05.958983Z"
    },
    "papermill": {
     "duration": 0.074225,
     "end_time": "2020-10-04T10:21:05.959635",
     "exception": false,
     "start_time": "2020-10-04T10:21:05.885410",
     "status": "completed"
    },
    "pycharm": {
     "name": "#%%\n"
    },
    "tags": []
   },
   "outputs": [
    {
     "data": {
      "text/html": [
       "<div>\n",
       "<style scoped>\n",
       "    .dataframe tbody tr th:only-of-type {\n",
       "        vertical-align: middle;\n",
       "    }\n",
       "\n",
       "    .dataframe tbody tr th {\n",
       "        vertical-align: top;\n",
       "    }\n",
       "\n",
       "    .dataframe thead th {\n",
       "        text-align: right;\n",
       "    }\n",
       "</style>\n",
       "<table border=\"1\" class=\"dataframe\">\n",
       "  <thead>\n",
       "    <tr style=\"text-align: right;\">\n",
       "      <th></th>\n",
       "      <th>region</th>\n",
       "      <th>sample_date</th>\n",
       "      <th>tek_list</th>\n",
       "      <th>extraction_date</th>\n",
       "      <th>new_sample_extraction_date</th>\n",
       "    </tr>\n",
       "  </thead>\n",
       "  <tbody>\n",
       "    <tr>\n",
       "      <th>0</th>\n",
       "      <td>ES</td>\n",
       "      <td>2020-09-21</td>\n",
       "      <td>[da097f8a-10bf-41f1-3a4a-df479b6b989b, effe4b4...</td>\n",
       "      <td>2020-10-04</td>\n",
       "      <td>2020-09-22</td>\n",
       "    </tr>\n",
       "    <tr>\n",
       "      <th>1</th>\n",
       "      <td>ES</td>\n",
       "      <td>2020-09-22</td>\n",
       "      <td>[76e69d95-f0ad-fac7-a765-90eb52565443, 28edf29...</td>\n",
       "      <td>2020-10-04</td>\n",
       "      <td>2020-09-23</td>\n",
       "    </tr>\n",
       "    <tr>\n",
       "      <th>2</th>\n",
       "      <td>ES</td>\n",
       "      <td>2020-09-23</td>\n",
       "      <td>[fa1b495e-94d0-aca7-a487-dd2876cc5e85, 7c08623...</td>\n",
       "      <td>2020-10-04</td>\n",
       "      <td>2020-09-24</td>\n",
       "    </tr>\n",
       "    <tr>\n",
       "      <th>3</th>\n",
       "      <td>ES</td>\n",
       "      <td>2020-09-24</td>\n",
       "      <td>[630f880d-b806-d5aa-cbda-ea3dd467f5d9, e4d0219...</td>\n",
       "      <td>2020-10-04</td>\n",
       "      <td>2020-09-25</td>\n",
       "    </tr>\n",
       "    <tr>\n",
       "      <th>4</th>\n",
       "      <td>ES</td>\n",
       "      <td>2020-09-25</td>\n",
       "      <td>[e0de6a38-be0e-13ec-546f-b33721bed8d9, 0a7415b...</td>\n",
       "      <td>2020-10-04</td>\n",
       "      <td>2020-09-26</td>\n",
       "    </tr>\n",
       "  </tbody>\n",
       "</table>\n",
       "</div>"
      ],
      "text/plain": [
       "  region sample_date                                           tek_list  \\\n",
       "0     ES  2020-09-21  [da097f8a-10bf-41f1-3a4a-df479b6b989b, effe4b4...   \n",
       "1     ES  2020-09-22  [76e69d95-f0ad-fac7-a765-90eb52565443, 28edf29...   \n",
       "2     ES  2020-09-23  [fa1b495e-94d0-aca7-a487-dd2876cc5e85, 7c08623...   \n",
       "3     ES  2020-09-24  [630f880d-b806-d5aa-cbda-ea3dd467f5d9, e4d0219...   \n",
       "4     ES  2020-09-25  [e0de6a38-be0e-13ec-546f-b33721bed8d9, 0a7415b...   \n",
       "\n",
       "  extraction_date new_sample_extraction_date  \n",
       "0      2020-10-04                 2020-09-22  \n",
       "1      2020-10-04                 2020-09-23  \n",
       "2      2020-10-04                 2020-09-24  \n",
       "3      2020-10-04                 2020-09-25  \n",
       "4      2020-10-04                 2020-09-26  "
      ]
     },
     "execution_count": 26,
     "metadata": {},
     "output_type": "execute_result"
    }
   ],
   "source": [
    "estimated_shared_diagnoses_df = daily_extracted_teks_df.copy()\n",
    "estimated_shared_diagnoses_df[\"new_sample_extraction_date\"] = \\\n",
    "    pd.to_datetime(estimated_shared_diagnoses_df.sample_date) + datetime.timedelta(1)\n",
    "estimated_shared_diagnoses_df[\"extraction_date\"] = pd.to_datetime(estimated_shared_diagnoses_df.extraction_date)\n",
    "estimated_shared_diagnoses_df[\"sample_date\"] = pd.to_datetime(estimated_shared_diagnoses_df.sample_date)\n",
    "estimated_shared_diagnoses_df.head()"
   ]
  },
  {
   "cell_type": "code",
   "execution_count": 27,
   "metadata": {
    "collapsed": false,
    "execution": {
     "iopub.execute_input": "2020-10-04T10:21:06.072306Z",
     "iopub.status.busy": "2020-10-04T10:21:06.065395Z",
     "iopub.status.idle": "2020-10-04T10:21:06.075233Z",
     "shell.execute_reply": "2020-10-04T10:21:06.075827Z"
    },
    "papermill": {
     "duration": 0.067715,
     "end_time": "2020-10-04T10:21:06.075986",
     "exception": false,
     "start_time": "2020-10-04T10:21:06.008271",
     "status": "completed"
    },
    "pycharm": {
     "name": "#%%\n"
    },
    "tags": []
   },
   "outputs": [
    {
     "data": {
      "text/html": [
       "<div>\n",
       "<style scoped>\n",
       "    .dataframe tbody tr th:only-of-type {\n",
       "        vertical-align: middle;\n",
       "    }\n",
       "\n",
       "    .dataframe tbody tr th {\n",
       "        vertical-align: top;\n",
       "    }\n",
       "\n",
       "    .dataframe thead th {\n",
       "        text-align: right;\n",
       "    }\n",
       "</style>\n",
       "<table border=\"1\" class=\"dataframe\">\n",
       "  <thead>\n",
       "    <tr style=\"text-align: right;\">\n",
       "      <th></th>\n",
       "      <th>extraction_date</th>\n",
       "      <th>same_day_tek_list</th>\n",
       "    </tr>\n",
       "  </thead>\n",
       "  <tbody>\n",
       "    <tr>\n",
       "      <th>13</th>\n",
       "      <td>2020-10-04</td>\n",
       "      <td>[f6622b67-6c45-4e8a-dc9e-41c12e376233, 05f3317...</td>\n",
       "    </tr>\n",
       "    <tr>\n",
       "      <th>13</th>\n",
       "      <td>2020-10-03</td>\n",
       "      <td>[18382d12-db65-c185-fdf0-f4c82fb9896f, f0809f0...</td>\n",
       "    </tr>\n",
       "    <tr>\n",
       "      <th>13</th>\n",
       "      <td>2020-10-02</td>\n",
       "      <td>[8e2e9a10-3c39-a858-c313-2eb01e99e5d1, 6047e2f...</td>\n",
       "    </tr>\n",
       "    <tr>\n",
       "      <th>13</th>\n",
       "      <td>2020-10-01</td>\n",
       "      <td>[123377a4-6019-e5ec-aa53-74a65bc5a71e, 9f040af...</td>\n",
       "    </tr>\n",
       "    <tr>\n",
       "      <th>13</th>\n",
       "      <td>2020-09-30</td>\n",
       "      <td>[92fbf939-a7c8-4830-3dc5-165af0cdd298, 554f538...</td>\n",
       "    </tr>\n",
       "  </tbody>\n",
       "</table>\n",
       "</div>"
      ],
      "text/plain": [
       "   extraction_date                                  same_day_tek_list\n",
       "13      2020-10-04  [f6622b67-6c45-4e8a-dc9e-41c12e376233, 05f3317...\n",
       "13      2020-10-03  [18382d12-db65-c185-fdf0-f4c82fb9896f, f0809f0...\n",
       "13      2020-10-02  [8e2e9a10-3c39-a858-c313-2eb01e99e5d1, 6047e2f...\n",
       "13      2020-10-01  [123377a4-6019-e5ec-aa53-74a65bc5a71e, 9f040af...\n",
       "13      2020-09-30  [92fbf939-a7c8-4830-3dc5-165af0cdd298, 554f538..."
      ]
     },
     "execution_count": 27,
     "metadata": {},
     "output_type": "execute_result"
    }
   ],
   "source": [
    "# Sometimes TEKs from the same day are uploaded, we do not count them as new TEK devices:\n",
    "same_day_tek_list_df = estimated_shared_diagnoses_df[\n",
    "    estimated_shared_diagnoses_df.sample_date == estimated_shared_diagnoses_df.extraction_date].copy()\n",
    "same_day_tek_list_df = same_day_tek_list_df[[\"extraction_date\", \"tek_list\"]].rename(\n",
    "    columns={\"tek_list\": \"same_day_tek_list\"})\n",
    "same_day_tek_list_df.head()"
   ]
  },
  {
   "cell_type": "code",
   "execution_count": 28,
   "metadata": {
    "collapsed": false,
    "execution": {
     "iopub.execute_input": "2020-10-04T10:21:06.185479Z",
     "iopub.status.busy": "2020-10-04T10:21:06.184858Z",
     "iopub.status.idle": "2020-10-04T10:21:06.187993Z",
     "shell.execute_reply": "2020-10-04T10:21:06.187476Z"
    },
    "papermill": {
     "duration": 0.062317,
     "end_time": "2020-10-04T10:21:06.188124",
     "exception": false,
     "start_time": "2020-10-04T10:21:06.125807",
     "status": "completed"
    },
    "pycharm": {
     "name": "#%%\n"
    },
    "tags": []
   },
   "outputs": [
    {
     "data": {
      "text/html": [
       "<div>\n",
       "<style scoped>\n",
       "    .dataframe tbody tr th:only-of-type {\n",
       "        vertical-align: middle;\n",
       "    }\n",
       "\n",
       "    .dataframe tbody tr th {\n",
       "        vertical-align: top;\n",
       "    }\n",
       "\n",
       "    .dataframe thead th {\n",
       "        text-align: right;\n",
       "    }\n",
       "</style>\n",
       "<table border=\"1\" class=\"dataframe\">\n",
       "  <thead>\n",
       "    <tr style=\"text-align: right;\">\n",
       "      <th></th>\n",
       "      <th>sample_date_string</th>\n",
       "      <th>shared_teks_uploaded_on_generation_date</th>\n",
       "    </tr>\n",
       "  </thead>\n",
       "  <tbody>\n",
       "    <tr>\n",
       "      <th>13</th>\n",
       "      <td>2020-10-04</td>\n",
       "      <td>22</td>\n",
       "    </tr>\n",
       "    <tr>\n",
       "      <th>13</th>\n",
       "      <td>2020-10-03</td>\n",
       "      <td>69</td>\n",
       "    </tr>\n",
       "    <tr>\n",
       "      <th>13</th>\n",
       "      <td>2020-10-02</td>\n",
       "      <td>72</td>\n",
       "    </tr>\n",
       "    <tr>\n",
       "      <th>13</th>\n",
       "      <td>2020-10-01</td>\n",
       "      <td>75</td>\n",
       "    </tr>\n",
       "    <tr>\n",
       "      <th>13</th>\n",
       "      <td>2020-09-30</td>\n",
       "      <td>55</td>\n",
       "    </tr>\n",
       "  </tbody>\n",
       "</table>\n",
       "</div>"
      ],
      "text/plain": [
       "   sample_date_string  shared_teks_uploaded_on_generation_date\n",
       "13         2020-10-04                                       22\n",
       "13         2020-10-03                                       69\n",
       "13         2020-10-02                                       72\n",
       "13         2020-10-01                                       75\n",
       "13         2020-09-30                                       55"
      ]
     },
     "execution_count": 28,
     "metadata": {},
     "output_type": "execute_result"
    }
   ],
   "source": [
    "shared_teks_uploaded_on_generation_date_df = same_day_tek_list_df.rename(\n",
    "    columns={\n",
    "        \"extraction_date\": \"sample_date_string\",\n",
    "        \"same_day_tek_list\": \"shared_teks_uploaded_on_generation_date\",\n",
    "    })\n",
    "shared_teks_uploaded_on_generation_date_df.shared_teks_uploaded_on_generation_date = \\\n",
    " shared_teks_uploaded_on_generation_date_df.shared_teks_uploaded_on_generation_date.apply(len)\n",
    "shared_teks_uploaded_on_generation_date_df.head()\n",
    "shared_teks_uploaded_on_generation_date_df[\"sample_date_string\"] = \\\n",
    "    shared_teks_uploaded_on_generation_date_df.sample_date_string.dt.strftime(\"%Y-%m-%d\")\n",
    "shared_teks_uploaded_on_generation_date_df.head()"
   ]
  },
  {
   "cell_type": "code",
   "execution_count": 29,
   "metadata": {
    "collapsed": false,
    "execution": {
     "iopub.execute_input": "2020-10-04T10:21:06.304659Z",
     "iopub.status.busy": "2020-10-04T10:21:06.304039Z",
     "iopub.status.idle": "2020-10-04T10:21:06.306574Z",
     "shell.execute_reply": "2020-10-04T10:21:06.307478Z"
    },
    "papermill": {
     "duration": 0.069394,
     "end_time": "2020-10-04T10:21:06.307642",
     "exception": false,
     "start_time": "2020-10-04T10:21:06.238248",
     "status": "completed"
    },
    "pycharm": {
     "name": "#%%\n"
    },
    "tags": []
   },
   "outputs": [
    {
     "data": {
      "text/html": [
       "<div>\n",
       "<style scoped>\n",
       "    .dataframe tbody tr th:only-of-type {\n",
       "        vertical-align: middle;\n",
       "    }\n",
       "\n",
       "    .dataframe tbody tr th {\n",
       "        vertical-align: top;\n",
       "    }\n",
       "\n",
       "    .dataframe thead th {\n",
       "        text-align: right;\n",
       "    }\n",
       "</style>\n",
       "<table border=\"1\" class=\"dataframe\">\n",
       "  <thead>\n",
       "    <tr style=\"text-align: right;\">\n",
       "      <th></th>\n",
       "      <th>region</th>\n",
       "      <th>sample_date</th>\n",
       "      <th>tek_list</th>\n",
       "      <th>extraction_date</th>\n",
       "      <th>new_sample_extraction_date</th>\n",
       "    </tr>\n",
       "  </thead>\n",
       "  <tbody>\n",
       "    <tr>\n",
       "      <th>12</th>\n",
       "      <td>ES</td>\n",
       "      <td>2020-10-03</td>\n",
       "      <td>[59962a10-41ed-ff11-b2b6-af20145e293b, 9e1123f...</td>\n",
       "      <td>2020-10-04</td>\n",
       "      <td>2020-10-04</td>\n",
       "    </tr>\n",
       "    <tr>\n",
       "      <th>12</th>\n",
       "      <td>ES</td>\n",
       "      <td>2020-10-02</td>\n",
       "      <td>[fc986875-6d7c-40ff-a9eb-0584fe73231a, 29a7d8a...</td>\n",
       "      <td>2020-10-03</td>\n",
       "      <td>2020-10-03</td>\n",
       "    </tr>\n",
       "    <tr>\n",
       "      <th>12</th>\n",
       "      <td>ES</td>\n",
       "      <td>2020-10-01</td>\n",
       "      <td>[3fa68134-1f78-fa12-7226-47c064a025ce, 3737f53...</td>\n",
       "      <td>2020-10-02</td>\n",
       "      <td>2020-10-02</td>\n",
       "    </tr>\n",
       "    <tr>\n",
       "      <th>12</th>\n",
       "      <td>ES</td>\n",
       "      <td>2020-09-30</td>\n",
       "      <td>[fa2dc6e6-8d28-bfe5-40e5-7fffd24ab14e, 4a7a1e0...</td>\n",
       "      <td>2020-10-01</td>\n",
       "      <td>2020-10-01</td>\n",
       "    </tr>\n",
       "    <tr>\n",
       "      <th>12</th>\n",
       "      <td>ES</td>\n",
       "      <td>2020-09-29</td>\n",
       "      <td>[f81a9c6c-eef8-a785-3f10-ad35c5a0593e, 9caa7bb...</td>\n",
       "      <td>2020-09-30</td>\n",
       "      <td>2020-09-30</td>\n",
       "    </tr>\n",
       "  </tbody>\n",
       "</table>\n",
       "</div>"
      ],
      "text/plain": [
       "   region sample_date                                           tek_list  \\\n",
       "12     ES  2020-10-03  [59962a10-41ed-ff11-b2b6-af20145e293b, 9e1123f...   \n",
       "12     ES  2020-10-02  [fc986875-6d7c-40ff-a9eb-0584fe73231a, 29a7d8a...   \n",
       "12     ES  2020-10-01  [3fa68134-1f78-fa12-7226-47c064a025ce, 3737f53...   \n",
       "12     ES  2020-09-30  [fa2dc6e6-8d28-bfe5-40e5-7fffd24ab14e, 4a7a1e0...   \n",
       "12     ES  2020-09-29  [f81a9c6c-eef8-a785-3f10-ad35c5a0593e, 9caa7bb...   \n",
       "\n",
       "   extraction_date new_sample_extraction_date  \n",
       "12      2020-10-04                 2020-10-04  \n",
       "12      2020-10-03                 2020-10-03  \n",
       "12      2020-10-02                 2020-10-02  \n",
       "12      2020-10-01                 2020-10-01  \n",
       "12      2020-09-30                 2020-09-30  "
      ]
     },
     "execution_count": 29,
     "metadata": {},
     "output_type": "execute_result"
    }
   ],
   "source": [
    "estimated_shared_diagnoses_df = estimated_shared_diagnoses_df[\n",
    "    estimated_shared_diagnoses_df.new_sample_extraction_date == estimated_shared_diagnoses_df.extraction_date]\n",
    "estimated_shared_diagnoses_df.head()"
   ]
  },
  {
   "cell_type": "code",
   "execution_count": 30,
   "metadata": {
    "collapsed": false,
    "execution": {
     "iopub.execute_input": "2020-10-04T10:21:06.479399Z",
     "iopub.status.busy": "2020-10-04T10:21:06.463635Z",
     "iopub.status.idle": "2020-10-04T10:21:06.481813Z",
     "shell.execute_reply": "2020-10-04T10:21:06.482413Z"
    },
    "papermill": {
     "duration": 0.124784,
     "end_time": "2020-10-04T10:21:06.482593",
     "exception": false,
     "start_time": "2020-10-04T10:21:06.357809",
     "status": "completed"
    },
    "pycharm": {
     "name": "#%%\n"
    },
    "tags": []
   },
   "outputs": [
    {
     "data": {
      "text/html": [
       "<div>\n",
       "<style scoped>\n",
       "    .dataframe tbody tr th:only-of-type {\n",
       "        vertical-align: middle;\n",
       "    }\n",
       "\n",
       "    .dataframe tbody tr th {\n",
       "        vertical-align: top;\n",
       "    }\n",
       "\n",
       "    .dataframe thead th {\n",
       "        text-align: right;\n",
       "    }\n",
       "</style>\n",
       "<table border=\"1\" class=\"dataframe\">\n",
       "  <thead>\n",
       "    <tr style=\"text-align: right;\">\n",
       "      <th></th>\n",
       "      <th>region</th>\n",
       "      <th>sample_date</th>\n",
       "      <th>tek_list</th>\n",
       "      <th>extraction_date</th>\n",
       "      <th>new_sample_extraction_date</th>\n",
       "      <th>same_day_tek_list</th>\n",
       "    </tr>\n",
       "  </thead>\n",
       "  <tbody>\n",
       "    <tr>\n",
       "      <th>0</th>\n",
       "      <td>ES</td>\n",
       "      <td>2020-10-03</td>\n",
       "      <td>[59962a10-41ed-ff11-b2b6-af20145e293b, 9e1123f...</td>\n",
       "      <td>2020-10-04</td>\n",
       "      <td>2020-10-04</td>\n",
       "      <td>[18382d12-db65-c185-fdf0-f4c82fb9896f, f0809f0...</td>\n",
       "    </tr>\n",
       "    <tr>\n",
       "      <th>1</th>\n",
       "      <td>ES</td>\n",
       "      <td>2020-10-02</td>\n",
       "      <td>[fc986875-6d7c-40ff-a9eb-0584fe73231a, 29a7d8a...</td>\n",
       "      <td>2020-10-03</td>\n",
       "      <td>2020-10-03</td>\n",
       "      <td>[8e2e9a10-3c39-a858-c313-2eb01e99e5d1, 6047e2f...</td>\n",
       "    </tr>\n",
       "    <tr>\n",
       "      <th>2</th>\n",
       "      <td>ES</td>\n",
       "      <td>2020-10-01</td>\n",
       "      <td>[3fa68134-1f78-fa12-7226-47c064a025ce, 3737f53...</td>\n",
       "      <td>2020-10-02</td>\n",
       "      <td>2020-10-02</td>\n",
       "      <td>[123377a4-6019-e5ec-aa53-74a65bc5a71e, 9f040af...</td>\n",
       "    </tr>\n",
       "    <tr>\n",
       "      <th>3</th>\n",
       "      <td>ES</td>\n",
       "      <td>2020-09-30</td>\n",
       "      <td>[fa2dc6e6-8d28-bfe5-40e5-7fffd24ab14e, 4a7a1e0...</td>\n",
       "      <td>2020-10-01</td>\n",
       "      <td>2020-10-01</td>\n",
       "      <td>[92fbf939-a7c8-4830-3dc5-165af0cdd298, 554f538...</td>\n",
       "    </tr>\n",
       "    <tr>\n",
       "      <th>4</th>\n",
       "      <td>ES</td>\n",
       "      <td>2020-09-29</td>\n",
       "      <td>[f81a9c6c-eef8-a785-3f10-ad35c5a0593e, 9caa7bb...</td>\n",
       "      <td>2020-09-30</td>\n",
       "      <td>2020-09-30</td>\n",
       "      <td>[ed3719e5-a0fb-b16e-a7c0-290f1c9d1cda, f14f15f...</td>\n",
       "    </tr>\n",
       "  </tbody>\n",
       "</table>\n",
       "</div>"
      ],
      "text/plain": [
       "  region sample_date                                           tek_list  \\\n",
       "0     ES  2020-10-03  [59962a10-41ed-ff11-b2b6-af20145e293b, 9e1123f...   \n",
       "1     ES  2020-10-02  [fc986875-6d7c-40ff-a9eb-0584fe73231a, 29a7d8a...   \n",
       "2     ES  2020-10-01  [3fa68134-1f78-fa12-7226-47c064a025ce, 3737f53...   \n",
       "3     ES  2020-09-30  [fa2dc6e6-8d28-bfe5-40e5-7fffd24ab14e, 4a7a1e0...   \n",
       "4     ES  2020-09-29  [f81a9c6c-eef8-a785-3f10-ad35c5a0593e, 9caa7bb...   \n",
       "\n",
       "  extraction_date new_sample_extraction_date  \\\n",
       "0      2020-10-04                 2020-10-04   \n",
       "1      2020-10-03                 2020-10-03   \n",
       "2      2020-10-02                 2020-10-02   \n",
       "3      2020-10-01                 2020-10-01   \n",
       "4      2020-09-30                 2020-09-30   \n",
       "\n",
       "                                   same_day_tek_list  \n",
       "0  [18382d12-db65-c185-fdf0-f4c82fb9896f, f0809f0...  \n",
       "1  [8e2e9a10-3c39-a858-c313-2eb01e99e5d1, 6047e2f...  \n",
       "2  [123377a4-6019-e5ec-aa53-74a65bc5a71e, 9f040af...  \n",
       "3  [92fbf939-a7c8-4830-3dc5-165af0cdd298, 554f538...  \n",
       "4  [ed3719e5-a0fb-b16e-a7c0-290f1c9d1cda, f14f15f...  "
      ]
     },
     "execution_count": 30,
     "metadata": {},
     "output_type": "execute_result"
    }
   ],
   "source": [
    "same_day_tek_list_df[\"extraction_date\"] = \\\n",
    "    same_day_tek_list_df.extraction_date + datetime.timedelta(1)\n",
    "estimated_shared_diagnoses_df = \\\n",
    "    estimated_shared_diagnoses_df.merge(same_day_tek_list_df, how=\"left\", on=[\"extraction_date\"])\n",
    "estimated_shared_diagnoses_df[\"same_day_tek_list\"] = \\\n",
    "    estimated_shared_diagnoses_df.same_day_tek_list.apply(lambda x: [] if x is np.nan else x)\n",
    "estimated_shared_diagnoses_df.head()"
   ]
  },
  {
   "cell_type": "code",
   "execution_count": 31,
   "metadata": {
    "execution": {
     "iopub.execute_input": "2020-10-04T10:21:06.942550Z",
     "iopub.status.busy": "2020-10-04T10:21:06.941910Z",
     "iopub.status.idle": "2020-10-04T10:21:06.958812Z",
     "shell.execute_reply": "2020-10-04T10:21:06.958275Z"
    },
    "papermill": {
     "duration": 0.338449,
     "end_time": "2020-10-04T10:21:06.958951",
     "exception": false,
     "start_time": "2020-10-04T10:21:06.620502",
     "status": "completed"
    },
    "tags": []
   },
   "outputs": [
    {
     "data": {
      "text/html": [
       "<div>\n",
       "<style scoped>\n",
       "    .dataframe tbody tr th:only-of-type {\n",
       "        vertical-align: middle;\n",
       "    }\n",
       "\n",
       "    .dataframe tbody tr th {\n",
       "        vertical-align: top;\n",
       "    }\n",
       "\n",
       "    .dataframe thead th {\n",
       "        text-align: right;\n",
       "    }\n",
       "</style>\n",
       "<table border=\"1\" class=\"dataframe\">\n",
       "  <thead>\n",
       "    <tr style=\"text-align: right;\">\n",
       "      <th></th>\n",
       "      <th>sample_date_string</th>\n",
       "      <th>shared_diagnoses</th>\n",
       "    </tr>\n",
       "  </thead>\n",
       "  <tbody>\n",
       "    <tr>\n",
       "      <th>0</th>\n",
       "      <td>2020-10-04</td>\n",
       "      <td>37</td>\n",
       "    </tr>\n",
       "    <tr>\n",
       "      <th>1</th>\n",
       "      <td>2020-10-03</td>\n",
       "      <td>76</td>\n",
       "    </tr>\n",
       "    <tr>\n",
       "      <th>2</th>\n",
       "      <td>2020-10-02</td>\n",
       "      <td>72</td>\n",
       "    </tr>\n",
       "    <tr>\n",
       "      <th>3</th>\n",
       "      <td>2020-10-01</td>\n",
       "      <td>74</td>\n",
       "    </tr>\n",
       "    <tr>\n",
       "      <th>4</th>\n",
       "      <td>2020-09-30</td>\n",
       "      <td>51</td>\n",
       "    </tr>\n",
       "  </tbody>\n",
       "</table>\n",
       "</div>"
      ],
      "text/plain": [
       "  sample_date_string  shared_diagnoses\n",
       "0         2020-10-04                37\n",
       "1         2020-10-03                76\n",
       "2         2020-10-02                72\n",
       "3         2020-10-01                74\n",
       "4         2020-09-30                51"
      ]
     },
     "execution_count": 31,
     "metadata": {},
     "output_type": "execute_result"
    }
   ],
   "source": [
    "estimated_shared_diagnoses_df.set_index(\"extraction_date\", inplace=True)\n",
    "estimated_shared_diagnoses_df[\"shared_diagnoses\"] = estimated_shared_diagnoses_df.apply(\n",
    "    lambda x: len(set(x.tek_list).difference(x.same_day_tek_list)), axis=1).copy()\n",
    "estimated_shared_diagnoses_df.reset_index(inplace=True)\n",
    "estimated_shared_diagnoses_df.rename(columns={\n",
    "    \"extraction_date\": \"sample_date_string\"}, inplace=True)\n",
    "estimated_shared_diagnoses_df = estimated_shared_diagnoses_df[[\"sample_date_string\", \"shared_diagnoses\"]]\n",
    "estimated_shared_diagnoses_df[\"sample_date_string\"] = estimated_shared_diagnoses_df.sample_date_string.dt.strftime(\"%Y-%m-%d\")\n",
    "estimated_shared_diagnoses_df.head()"
   ]
  },
  {
   "cell_type": "markdown",
   "metadata": {
    "papermill": {
     "duration": 0.102889,
     "end_time": "2020-10-04T10:21:07.432233",
     "exception": false,
     "start_time": "2020-10-04T10:21:07.329344",
     "status": "completed"
    },
    "pycharm": {
     "name": "#%% md\n"
    },
    "tags": []
   },
   "source": [
    "### Hourly New TEKs"
   ]
  },
  {
   "cell_type": "code",
   "execution_count": 32,
   "metadata": {
    "execution": {
     "iopub.execute_input": "2020-10-04T10:21:07.582139Z",
     "iopub.status.busy": "2020-10-04T10:21:07.581521Z",
     "iopub.status.idle": "2020-10-04T10:21:07.756269Z",
     "shell.execute_reply": "2020-10-04T10:21:07.756797Z"
    },
    "papermill": {
     "duration": 0.256005,
     "end_time": "2020-10-04T10:21:07.756977",
     "exception": false,
     "start_time": "2020-10-04T10:21:07.500972",
     "status": "completed"
    },
    "pycharm": {
     "name": "#%%\n"
    },
    "tags": []
   },
   "outputs": [
    {
     "data": {
      "text/html": [
       "<div>\n",
       "<style scoped>\n",
       "    .dataframe tbody tr th:only-of-type {\n",
       "        vertical-align: middle;\n",
       "    }\n",
       "\n",
       "    .dataframe tbody tr th {\n",
       "        vertical-align: top;\n",
       "    }\n",
       "\n",
       "    .dataframe thead th {\n",
       "        text-align: right;\n",
       "    }\n",
       "</style>\n",
       "<table border=\"1\" class=\"dataframe\">\n",
       "  <thead>\n",
       "    <tr style=\"text-align: right;\">\n",
       "      <th></th>\n",
       "      <th>region</th>\n",
       "      <th>sample_date</th>\n",
       "      <th>tek_list</th>\n",
       "      <th>extraction_date</th>\n",
       "      <th>extraction_date_with_hour</th>\n",
       "    </tr>\n",
       "  </thead>\n",
       "  <tbody>\n",
       "    <tr>\n",
       "      <th>0</th>\n",
       "      <td>ES</td>\n",
       "      <td>2020-09-21</td>\n",
       "      <td>[da097f8a-10bf-41f1-3a4a-df479b6b989b, effe4b4...</td>\n",
       "      <td>2020-10-04</td>\n",
       "      <td>2020-10-04@10</td>\n",
       "    </tr>\n",
       "    <tr>\n",
       "      <th>1</th>\n",
       "      <td>ES</td>\n",
       "      <td>2020-09-22</td>\n",
       "      <td>[76e69d95-f0ad-fac7-a765-90eb52565443, 28edf29...</td>\n",
       "      <td>2020-10-04</td>\n",
       "      <td>2020-10-04@10</td>\n",
       "    </tr>\n",
       "    <tr>\n",
       "      <th>2</th>\n",
       "      <td>ES</td>\n",
       "      <td>2020-09-23</td>\n",
       "      <td>[fa1b495e-94d0-aca7-a487-dd2876cc5e85, 7c08623...</td>\n",
       "      <td>2020-10-04</td>\n",
       "      <td>2020-10-04@10</td>\n",
       "    </tr>\n",
       "    <tr>\n",
       "      <th>3</th>\n",
       "      <td>ES</td>\n",
       "      <td>2020-09-24</td>\n",
       "      <td>[630f880d-b806-d5aa-cbda-ea3dd467f5d9, e4d0219...</td>\n",
       "      <td>2020-10-04</td>\n",
       "      <td>2020-10-04@10</td>\n",
       "    </tr>\n",
       "    <tr>\n",
       "      <th>4</th>\n",
       "      <td>ES</td>\n",
       "      <td>2020-09-25</td>\n",
       "      <td>[e0de6a38-be0e-13ec-546f-b33721bed8d9, 0a7415b...</td>\n",
       "      <td>2020-10-04</td>\n",
       "      <td>2020-10-04@10</td>\n",
       "    </tr>\n",
       "  </tbody>\n",
       "</table>\n",
       "</div>"
      ],
      "text/plain": [
       "  region sample_date                                           tek_list  \\\n",
       "0     ES  2020-09-21  [da097f8a-10bf-41f1-3a4a-df479b6b989b, effe4b4...   \n",
       "1     ES  2020-09-22  [76e69d95-f0ad-fac7-a765-90eb52565443, 28edf29...   \n",
       "2     ES  2020-09-23  [fa1b495e-94d0-aca7-a487-dd2876cc5e85, 7c08623...   \n",
       "3     ES  2020-09-24  [630f880d-b806-d5aa-cbda-ea3dd467f5d9, e4d0219...   \n",
       "4     ES  2020-09-25  [e0de6a38-be0e-13ec-546f-b33721bed8d9, 0a7415b...   \n",
       "\n",
       "  extraction_date extraction_date_with_hour  \n",
       "0      2020-10-04             2020-10-04@10  \n",
       "1      2020-10-04             2020-10-04@10  \n",
       "2      2020-10-04             2020-10-04@10  \n",
       "3      2020-10-04             2020-10-04@10  \n",
       "4      2020-10-04             2020-10-04@10  "
      ]
     },
     "execution_count": 32,
     "metadata": {},
     "output_type": "execute_result"
    }
   ],
   "source": [
    "hourly_extracted_teks_df = load_extracted_teks(\n",
    "    mode=\"Hourly\", region=spain_region_country_code, limit=25)\n",
    "hourly_extracted_teks_df.head()"
   ]
  },
  {
   "cell_type": "code",
   "execution_count": 33,
   "metadata": {
    "collapsed": false,
    "execution": {
     "iopub.execute_input": "2020-10-04T10:21:07.958939Z",
     "iopub.status.busy": "2020-10-04T10:21:07.958313Z",
     "iopub.status.idle": "2020-10-04T10:21:07.976954Z",
     "shell.execute_reply": "2020-10-04T10:21:07.976387Z"
    },
    "papermill": {
     "duration": 0.106998,
     "end_time": "2020-10-04T10:21:07.977097",
     "exception": false,
     "start_time": "2020-10-04T10:21:07.870099",
     "status": "completed"
    },
    "pycharm": {
     "name": "#%%\n"
    },
    "tags": []
   },
   "outputs": [
    {
     "data": {
      "text/html": [
       "<div>\n",
       "<style scoped>\n",
       "    .dataframe tbody tr th:only-of-type {\n",
       "        vertical-align: middle;\n",
       "    }\n",
       "\n",
       "    .dataframe tbody tr th {\n",
       "        vertical-align: top;\n",
       "    }\n",
       "\n",
       "    .dataframe thead th {\n",
       "        text-align: right;\n",
       "    }\n",
       "</style>\n",
       "<table border=\"1\" class=\"dataframe\">\n",
       "  <thead>\n",
       "    <tr style=\"text-align: right;\">\n",
       "      <th></th>\n",
       "      <th>extraction_date_with_hour</th>\n",
       "      <th>shared_teks_by_upload_date</th>\n",
       "    </tr>\n",
       "  </thead>\n",
       "  <tbody>\n",
       "    <tr>\n",
       "      <th>0</th>\n",
       "      <td>2020-10-03@10</td>\n",
       "      <td>0</td>\n",
       "    </tr>\n",
       "    <tr>\n",
       "      <th>1</th>\n",
       "      <td>2020-10-03@11</td>\n",
       "      <td>0</td>\n",
       "    </tr>\n",
       "    <tr>\n",
       "      <th>2</th>\n",
       "      <td>2020-10-03@12</td>\n",
       "      <td>44</td>\n",
       "    </tr>\n",
       "    <tr>\n",
       "      <th>3</th>\n",
       "      <td>2020-10-03@13</td>\n",
       "      <td>0</td>\n",
       "    </tr>\n",
       "    <tr>\n",
       "      <th>4</th>\n",
       "      <td>2020-10-03@14</td>\n",
       "      <td>9</td>\n",
       "    </tr>\n",
       "  </tbody>\n",
       "</table>\n",
       "</div>"
      ],
      "text/plain": [
       "  extraction_date_with_hour  shared_teks_by_upload_date\n",
       "0             2020-10-03@10                           0\n",
       "1             2020-10-03@11                           0\n",
       "2             2020-10-03@12                          44\n",
       "3             2020-10-03@13                           0\n",
       "4             2020-10-03@14                           9"
      ]
     },
     "execution_count": 33,
     "metadata": {},
     "output_type": "execute_result"
    }
   ],
   "source": [
    "hourly_new_tek_count_df = hourly_extracted_teks_df \\\n",
    "    .groupby(\"extraction_date_with_hour\").tek_list. \\\n",
    "    apply(lambda x: set(sum(x, []))).reset_index().copy()\n",
    "hourly_new_tek_count_df = hourly_new_tek_count_df.set_index(\"extraction_date_with_hour\") \\\n",
    "    .sort_index(ascending=True)\n",
    "\n",
    "hourly_new_tek_count_df[\"new_tek_list\"] = hourly_new_tek_count_df.tek_list.diff()\n",
    "hourly_new_tek_count_df[\"new_tek_count\"] = hourly_new_tek_count_df.new_tek_list.apply(\n",
    "    lambda x: len(x) if not pd.isna(x) else 0)\n",
    "hourly_new_tek_count_df.rename(columns={\n",
    "    \"new_tek_count\": \"shared_teks_by_upload_date\"}, inplace=True)\n",
    "hourly_new_tek_count_df = hourly_new_tek_count_df.reset_index()[[\n",
    "    \"extraction_date_with_hour\", \"shared_teks_by_upload_date\"]]\n",
    "hourly_new_tek_count_df.head()"
   ]
  },
  {
   "cell_type": "code",
   "execution_count": 34,
   "metadata": {
    "execution": {
     "iopub.execute_input": "2020-10-04T10:21:08.245967Z",
     "iopub.status.busy": "2020-10-04T10:21:08.245347Z",
     "iopub.status.idle": "2020-10-04T10:21:08.268118Z",
     "shell.execute_reply": "2020-10-04T10:21:08.268711Z"
    },
    "papermill": {
     "duration": 0.170525,
     "end_time": "2020-10-04T10:21:08.268890",
     "exception": false,
     "start_time": "2020-10-04T10:21:08.098365",
     "status": "completed"
    },
    "pycharm": {
     "name": "#%%\n"
    },
    "tags": []
   },
   "outputs": [
    {
     "data": {
      "text/html": [
       "<div>\n",
       "<style scoped>\n",
       "    .dataframe tbody tr th:only-of-type {\n",
       "        vertical-align: middle;\n",
       "    }\n",
       "\n",
       "    .dataframe tbody tr th {\n",
       "        vertical-align: top;\n",
       "    }\n",
       "\n",
       "    .dataframe thead th {\n",
       "        text-align: right;\n",
       "    }\n",
       "</style>\n",
       "<table border=\"1\" class=\"dataframe\">\n",
       "  <thead>\n",
       "    <tr style=\"text-align: right;\">\n",
       "      <th></th>\n",
       "      <th>extraction_date_with_hour</th>\n",
       "      <th>shared_diagnoses</th>\n",
       "    </tr>\n",
       "  </thead>\n",
       "  <tbody>\n",
       "    <tr>\n",
       "      <th>0</th>\n",
       "      <td>2020-10-03@10</td>\n",
       "      <td>0</td>\n",
       "    </tr>\n",
       "    <tr>\n",
       "      <th>1</th>\n",
       "      <td>2020-10-03@11</td>\n",
       "      <td>0</td>\n",
       "    </tr>\n",
       "    <tr>\n",
       "      <th>2</th>\n",
       "      <td>2020-10-03@12</td>\n",
       "      <td>8</td>\n",
       "    </tr>\n",
       "    <tr>\n",
       "      <th>3</th>\n",
       "      <td>2020-10-03@13</td>\n",
       "      <td>0</td>\n",
       "    </tr>\n",
       "    <tr>\n",
       "      <th>4</th>\n",
       "      <td>2020-10-03@14</td>\n",
       "      <td>1</td>\n",
       "    </tr>\n",
       "  </tbody>\n",
       "</table>\n",
       "</div>"
      ],
      "text/plain": [
       "  extraction_date_with_hour  shared_diagnoses\n",
       "0             2020-10-03@10                 0\n",
       "1             2020-10-03@11                 0\n",
       "2             2020-10-03@12                 8\n",
       "3             2020-10-03@13                 0\n",
       "4             2020-10-03@14                 1"
      ]
     },
     "execution_count": 34,
     "metadata": {},
     "output_type": "execute_result"
    }
   ],
   "source": [
    "hourly_estimated_shared_diagnoses_df = hourly_extracted_teks_df.copy()\n",
    "hourly_estimated_shared_diagnoses_df[\"new_sample_extraction_date\"] = \\\n",
    "    pd.to_datetime(hourly_estimated_shared_diagnoses_df.sample_date) + datetime.timedelta(1)\n",
    "hourly_estimated_shared_diagnoses_df[\"extraction_date\"] = \\\n",
    "    pd.to_datetime(hourly_estimated_shared_diagnoses_df.extraction_date)\n",
    "\n",
    "hourly_estimated_shared_diagnoses_df = hourly_estimated_shared_diagnoses_df[\n",
    "    hourly_estimated_shared_diagnoses_df.new_sample_extraction_date ==\n",
    "    hourly_estimated_shared_diagnoses_df.extraction_date]\n",
    "hourly_estimated_shared_diagnoses_df = \\\n",
    "    hourly_estimated_shared_diagnoses_df.merge(same_day_tek_list_df, how=\"left\", on=[\"extraction_date\"])\n",
    "hourly_estimated_shared_diagnoses_df[\"shared_diagnoses\"] = hourly_estimated_shared_diagnoses_df.apply(\n",
    "    lambda x: len(set(x.tek_list).difference(x.same_day_tek_list)), axis=1)\n",
    "hourly_estimated_shared_diagnoses_df = \\\n",
    "    hourly_estimated_shared_diagnoses_df.sort_values(\"extraction_date_with_hour\").copy()\n",
    "hourly_estimated_shared_diagnoses_df[\"shared_diagnoses\"] = hourly_estimated_shared_diagnoses_df \\\n",
    "    .groupby(\"extraction_date\").shared_diagnoses.diff() \\\n",
    "    .fillna(0).astype(int)\n",
    "\n",
    "hourly_estimated_shared_diagnoses_df.set_index(\"extraction_date_with_hour\", inplace=True)\n",
    "hourly_estimated_shared_diagnoses_df.reset_index(inplace=True)\n",
    "hourly_estimated_shared_diagnoses_df = hourly_estimated_shared_diagnoses_df[[\n",
    "    \"extraction_date_with_hour\", \"shared_diagnoses\"]]\n",
    "hourly_estimated_shared_diagnoses_df.head()"
   ]
  },
  {
   "cell_type": "code",
   "execution_count": 35,
   "metadata": {
    "collapsed": false,
    "execution": {
     "iopub.execute_input": "2020-10-04T10:21:08.451688Z",
     "iopub.status.busy": "2020-10-04T10:21:08.451059Z",
     "iopub.status.idle": "2020-10-04T10:21:08.453578Z",
     "shell.execute_reply": "2020-10-04T10:21:08.454085Z"
    },
    "papermill": {
     "duration": 0.081119,
     "end_time": "2020-10-04T10:21:08.454251",
     "exception": false,
     "start_time": "2020-10-04T10:21:08.373132",
     "status": "completed"
    },
    "pycharm": {
     "name": "#%%\n"
    },
    "tags": []
   },
   "outputs": [
    {
     "data": {
      "text/html": [
       "<div>\n",
       "<style scoped>\n",
       "    .dataframe tbody tr th:only-of-type {\n",
       "        vertical-align: middle;\n",
       "    }\n",
       "\n",
       "    .dataframe tbody tr th {\n",
       "        vertical-align: top;\n",
       "    }\n",
       "\n",
       "    .dataframe thead th {\n",
       "        text-align: right;\n",
       "    }\n",
       "</style>\n",
       "<table border=\"1\" class=\"dataframe\">\n",
       "  <thead>\n",
       "    <tr style=\"text-align: right;\">\n",
       "      <th></th>\n",
       "      <th>extraction_date_with_hour</th>\n",
       "      <th>shared_teks_by_upload_date</th>\n",
       "      <th>shared_diagnoses</th>\n",
       "    </tr>\n",
       "    <tr>\n",
       "      <th>datetime_utc</th>\n",
       "      <th></th>\n",
       "      <th></th>\n",
       "      <th></th>\n",
       "    </tr>\n",
       "  </thead>\n",
       "  <tbody>\n",
       "    <tr>\n",
       "      <th>2020-10-03 11:00:00</th>\n",
       "      <td>2020-10-03@11</td>\n",
       "      <td>0</td>\n",
       "      <td>0</td>\n",
       "    </tr>\n",
       "    <tr>\n",
       "      <th>2020-10-03 12:00:00</th>\n",
       "      <td>2020-10-03@12</td>\n",
       "      <td>44</td>\n",
       "      <td>8</td>\n",
       "    </tr>\n",
       "    <tr>\n",
       "      <th>2020-10-03 13:00:00</th>\n",
       "      <td>2020-10-03@13</td>\n",
       "      <td>0</td>\n",
       "      <td>0</td>\n",
       "    </tr>\n",
       "    <tr>\n",
       "      <th>2020-10-03 14:00:00</th>\n",
       "      <td>2020-10-03@14</td>\n",
       "      <td>9</td>\n",
       "      <td>1</td>\n",
       "    </tr>\n",
       "    <tr>\n",
       "      <th>2020-10-03 15:00:00</th>\n",
       "      <td>2020-10-03@15</td>\n",
       "      <td>0</td>\n",
       "      <td>0</td>\n",
       "    </tr>\n",
       "  </tbody>\n",
       "</table>\n",
       "</div>"
      ],
      "text/plain": [
       "                    extraction_date_with_hour  shared_teks_by_upload_date  \\\n",
       "datetime_utc                                                                \n",
       "2020-10-03 11:00:00             2020-10-03@11                           0   \n",
       "2020-10-03 12:00:00             2020-10-03@12                          44   \n",
       "2020-10-03 13:00:00             2020-10-03@13                           0   \n",
       "2020-10-03 14:00:00             2020-10-03@14                           9   \n",
       "2020-10-03 15:00:00             2020-10-03@15                           0   \n",
       "\n",
       "                     shared_diagnoses  \n",
       "datetime_utc                           \n",
       "2020-10-03 11:00:00                 0  \n",
       "2020-10-03 12:00:00                 8  \n",
       "2020-10-03 13:00:00                 0  \n",
       "2020-10-03 14:00:00                 1  \n",
       "2020-10-03 15:00:00                 0  "
      ]
     },
     "execution_count": 35,
     "metadata": {},
     "output_type": "execute_result"
    }
   ],
   "source": [
    "hourly_summary_df = hourly_new_tek_count_df.merge(\n",
    "    hourly_estimated_shared_diagnoses_df, on=[\"extraction_date_with_hour\"], how=\"outer\")\n",
    "hourly_summary_df[\"datetime_utc\"] = pd.to_datetime(\n",
    "    hourly_summary_df.extraction_date_with_hour, format=\"%Y-%m-%d@%H\")\n",
    "hourly_summary_df.set_index(\"datetime_utc\", inplace=True)\n",
    "hourly_summary_df = hourly_summary_df.tail(-1)\n",
    "hourly_summary_df.head()"
   ]
  },
  {
   "cell_type": "markdown",
   "metadata": {
    "collapsed": false,
    "papermill": {
     "duration": 0.056093,
     "end_time": "2020-10-04T10:21:08.634286",
     "exception": false,
     "start_time": "2020-10-04T10:21:08.578193",
     "status": "completed"
    },
    "pycharm": {
     "name": "#%% md\n"
    },
    "tags": []
   },
   "source": [
    "### Data Merge"
   ]
  },
  {
   "cell_type": "code",
   "execution_count": 36,
   "metadata": {
    "collapsed": false,
    "execution": {
     "iopub.execute_input": "2020-10-04T10:21:08.754840Z",
     "iopub.status.busy": "2020-10-04T10:21:08.754228Z",
     "iopub.status.idle": "2020-10-04T10:21:08.758683Z",
     "shell.execute_reply": "2020-10-04T10:21:08.756910Z"
    },
    "papermill": {
     "duration": 0.071659,
     "end_time": "2020-10-04T10:21:08.758825",
     "exception": false,
     "start_time": "2020-10-04T10:21:08.687166",
     "status": "completed"
    },
    "pycharm": {
     "name": "#%%\n"
    },
    "tags": []
   },
   "outputs": [
    {
     "data": {
      "text/html": [
       "<div>\n",
       "<style scoped>\n",
       "    .dataframe tbody tr th:only-of-type {\n",
       "        vertical-align: middle;\n",
       "    }\n",
       "\n",
       "    .dataframe tbody tr th {\n",
       "        vertical-align: top;\n",
       "    }\n",
       "\n",
       "    .dataframe thead th {\n",
       "        text-align: right;\n",
       "    }\n",
       "</style>\n",
       "<table border=\"1\" class=\"dataframe\">\n",
       "  <thead>\n",
       "    <tr style=\"text-align: right;\">\n",
       "      <th></th>\n",
       "      <th>sample_date_string</th>\n",
       "      <th>shared_teks_by_generation_date</th>\n",
       "      <th>shared_teks_by_upload_date</th>\n",
       "    </tr>\n",
       "  </thead>\n",
       "  <tbody>\n",
       "    <tr>\n",
       "      <th>0</th>\n",
       "      <td>2020-10-04</td>\n",
       "      <td>22</td>\n",
       "      <td>100.0</td>\n",
       "    </tr>\n",
       "    <tr>\n",
       "      <th>1</th>\n",
       "      <td>2020-10-03</td>\n",
       "      <td>106</td>\n",
       "      <td>324.0</td>\n",
       "    </tr>\n",
       "    <tr>\n",
       "      <th>2</th>\n",
       "      <td>2020-10-02</td>\n",
       "      <td>161</td>\n",
       "      <td>299.0</td>\n",
       "    </tr>\n",
       "    <tr>\n",
       "      <th>3</th>\n",
       "      <td>2020-10-01</td>\n",
       "      <td>205</td>\n",
       "      <td>367.0</td>\n",
       "    </tr>\n",
       "    <tr>\n",
       "      <th>4</th>\n",
       "      <td>2020-09-30</td>\n",
       "      <td>220</td>\n",
       "      <td>271.0</td>\n",
       "    </tr>\n",
       "  </tbody>\n",
       "</table>\n",
       "</div>"
      ],
      "text/plain": [
       "  sample_date_string  shared_teks_by_generation_date  \\\n",
       "0         2020-10-04                              22   \n",
       "1         2020-10-03                             106   \n",
       "2         2020-10-02                             161   \n",
       "3         2020-10-01                             205   \n",
       "4         2020-09-30                             220   \n",
       "\n",
       "   shared_teks_by_upload_date  \n",
       "0                       100.0  \n",
       "1                       324.0  \n",
       "2                       299.0  \n",
       "3                       367.0  \n",
       "4                       271.0  "
      ]
     },
     "execution_count": 36,
     "metadata": {},
     "output_type": "execute_result"
    }
   ],
   "source": [
    "result_summary_df = exposure_keys_summary_df.merge(\n",
    "    new_tek_df, on=[\"sample_date_string\"], how=\"outer\")\n",
    "result_summary_df.head()"
   ]
  },
  {
   "cell_type": "code",
   "execution_count": 37,
   "metadata": {
    "execution": {
     "iopub.execute_input": "2020-10-04T10:21:08.881119Z",
     "iopub.status.busy": "2020-10-04T10:21:08.880492Z",
     "iopub.status.idle": "2020-10-04T10:21:08.883500Z",
     "shell.execute_reply": "2020-10-04T10:21:08.884083Z"
    },
    "papermill": {
     "duration": 0.07079,
     "end_time": "2020-10-04T10:21:08.884238",
     "exception": false,
     "start_time": "2020-10-04T10:21:08.813448",
     "status": "completed"
    },
    "tags": []
   },
   "outputs": [
    {
     "data": {
      "text/html": [
       "<div>\n",
       "<style scoped>\n",
       "    .dataframe tbody tr th:only-of-type {\n",
       "        vertical-align: middle;\n",
       "    }\n",
       "\n",
       "    .dataframe tbody tr th {\n",
       "        vertical-align: top;\n",
       "    }\n",
       "\n",
       "    .dataframe thead th {\n",
       "        text-align: right;\n",
       "    }\n",
       "</style>\n",
       "<table border=\"1\" class=\"dataframe\">\n",
       "  <thead>\n",
       "    <tr style=\"text-align: right;\">\n",
       "      <th></th>\n",
       "      <th>sample_date_string</th>\n",
       "      <th>shared_teks_by_generation_date</th>\n",
       "      <th>shared_teks_by_upload_date</th>\n",
       "      <th>shared_teks_uploaded_on_generation_date</th>\n",
       "    </tr>\n",
       "  </thead>\n",
       "  <tbody>\n",
       "    <tr>\n",
       "      <th>0</th>\n",
       "      <td>2020-10-04</td>\n",
       "      <td>22</td>\n",
       "      <td>100.0</td>\n",
       "      <td>22.0</td>\n",
       "    </tr>\n",
       "    <tr>\n",
       "      <th>1</th>\n",
       "      <td>2020-10-03</td>\n",
       "      <td>106</td>\n",
       "      <td>324.0</td>\n",
       "      <td>69.0</td>\n",
       "    </tr>\n",
       "    <tr>\n",
       "      <th>2</th>\n",
       "      <td>2020-10-02</td>\n",
       "      <td>161</td>\n",
       "      <td>299.0</td>\n",
       "      <td>72.0</td>\n",
       "    </tr>\n",
       "    <tr>\n",
       "      <th>3</th>\n",
       "      <td>2020-10-01</td>\n",
       "      <td>205</td>\n",
       "      <td>367.0</td>\n",
       "      <td>75.0</td>\n",
       "    </tr>\n",
       "    <tr>\n",
       "      <th>4</th>\n",
       "      <td>2020-09-30</td>\n",
       "      <td>220</td>\n",
       "      <td>271.0</td>\n",
       "      <td>55.0</td>\n",
       "    </tr>\n",
       "  </tbody>\n",
       "</table>\n",
       "</div>"
      ],
      "text/plain": [
       "  sample_date_string  shared_teks_by_generation_date  \\\n",
       "0         2020-10-04                              22   \n",
       "1         2020-10-03                             106   \n",
       "2         2020-10-02                             161   \n",
       "3         2020-10-01                             205   \n",
       "4         2020-09-30                             220   \n",
       "\n",
       "   shared_teks_by_upload_date  shared_teks_uploaded_on_generation_date  \n",
       "0                       100.0                                     22.0  \n",
       "1                       324.0                                     69.0  \n",
       "2                       299.0                                     72.0  \n",
       "3                       367.0                                     75.0  \n",
       "4                       271.0                                     55.0  "
      ]
     },
     "execution_count": 37,
     "metadata": {},
     "output_type": "execute_result"
    }
   ],
   "source": [
    "result_summary_df = result_summary_df.merge(\n",
    "    shared_teks_uploaded_on_generation_date_df, on=[\"sample_date_string\"], how=\"outer\")\n",
    "result_summary_df.head()"
   ]
  },
  {
   "cell_type": "code",
   "execution_count": 38,
   "metadata": {
    "collapsed": false,
    "execution": {
     "iopub.execute_input": "2020-10-04T10:21:09.004398Z",
     "iopub.status.busy": "2020-10-04T10:21:09.003799Z",
     "iopub.status.idle": "2020-10-04T10:21:09.016183Z",
     "shell.execute_reply": "2020-10-04T10:21:09.016678Z"
    },
    "papermill": {
     "duration": 0.079373,
     "end_time": "2020-10-04T10:21:09.016854",
     "exception": false,
     "start_time": "2020-10-04T10:21:08.937481",
     "status": "completed"
    },
    "pycharm": {
     "name": "#%%\n"
    },
    "tags": []
   },
   "outputs": [
    {
     "data": {
      "text/html": [
       "<div>\n",
       "<style scoped>\n",
       "    .dataframe tbody tr th:only-of-type {\n",
       "        vertical-align: middle;\n",
       "    }\n",
       "\n",
       "    .dataframe tbody tr th {\n",
       "        vertical-align: top;\n",
       "    }\n",
       "\n",
       "    .dataframe thead th {\n",
       "        text-align: right;\n",
       "    }\n",
       "</style>\n",
       "<table border=\"1\" class=\"dataframe\">\n",
       "  <thead>\n",
       "    <tr style=\"text-align: right;\">\n",
       "      <th></th>\n",
       "      <th>sample_date_string</th>\n",
       "      <th>shared_teks_by_generation_date</th>\n",
       "      <th>shared_teks_by_upload_date</th>\n",
       "      <th>shared_teks_uploaded_on_generation_date</th>\n",
       "      <th>shared_diagnoses</th>\n",
       "    </tr>\n",
       "  </thead>\n",
       "  <tbody>\n",
       "    <tr>\n",
       "      <th>0</th>\n",
       "      <td>2020-10-04</td>\n",
       "      <td>22</td>\n",
       "      <td>100.0</td>\n",
       "      <td>22.0</td>\n",
       "      <td>37.0</td>\n",
       "    </tr>\n",
       "    <tr>\n",
       "      <th>1</th>\n",
       "      <td>2020-10-03</td>\n",
       "      <td>106</td>\n",
       "      <td>324.0</td>\n",
       "      <td>69.0</td>\n",
       "      <td>76.0</td>\n",
       "    </tr>\n",
       "    <tr>\n",
       "      <th>2</th>\n",
       "      <td>2020-10-02</td>\n",
       "      <td>161</td>\n",
       "      <td>299.0</td>\n",
       "      <td>72.0</td>\n",
       "      <td>72.0</td>\n",
       "    </tr>\n",
       "    <tr>\n",
       "      <th>3</th>\n",
       "      <td>2020-10-01</td>\n",
       "      <td>205</td>\n",
       "      <td>367.0</td>\n",
       "      <td>75.0</td>\n",
       "      <td>74.0</td>\n",
       "    </tr>\n",
       "    <tr>\n",
       "      <th>4</th>\n",
       "      <td>2020-09-30</td>\n",
       "      <td>220</td>\n",
       "      <td>271.0</td>\n",
       "      <td>55.0</td>\n",
       "      <td>51.0</td>\n",
       "    </tr>\n",
       "  </tbody>\n",
       "</table>\n",
       "</div>"
      ],
      "text/plain": [
       "  sample_date_string  shared_teks_by_generation_date  \\\n",
       "0         2020-10-04                              22   \n",
       "1         2020-10-03                             106   \n",
       "2         2020-10-02                             161   \n",
       "3         2020-10-01                             205   \n",
       "4         2020-09-30                             220   \n",
       "\n",
       "   shared_teks_by_upload_date  shared_teks_uploaded_on_generation_date  \\\n",
       "0                       100.0                                     22.0   \n",
       "1                       324.0                                     69.0   \n",
       "2                       299.0                                     72.0   \n",
       "3                       367.0                                     75.0   \n",
       "4                       271.0                                     55.0   \n",
       "\n",
       "   shared_diagnoses  \n",
       "0              37.0  \n",
       "1              76.0  \n",
       "2              72.0  \n",
       "3              74.0  \n",
       "4              51.0  "
      ]
     },
     "execution_count": 38,
     "metadata": {},
     "output_type": "execute_result"
    }
   ],
   "source": [
    "result_summary_df = result_summary_df.merge(\n",
    "    estimated_shared_diagnoses_df, on=[\"sample_date_string\"], how=\"outer\")\n",
    "result_summary_df.head()"
   ]
  },
  {
   "cell_type": "code",
   "execution_count": 39,
   "metadata": {
    "collapsed": false,
    "execution": {
     "iopub.execute_input": "2020-10-04T10:21:09.144094Z",
     "iopub.status.busy": "2020-10-04T10:21:09.143465Z",
     "iopub.status.idle": "2020-10-04T10:21:09.145908Z",
     "shell.execute_reply": "2020-10-04T10:21:09.146444Z"
    },
    "papermill": {
     "duration": 0.075073,
     "end_time": "2020-10-04T10:21:09.146602",
     "exception": false,
     "start_time": "2020-10-04T10:21:09.071529",
     "status": "completed"
    },
    "pycharm": {
     "name": "#%%\n"
    },
    "tags": []
   },
   "outputs": [
    {
     "data": {
      "text/html": [
       "<div>\n",
       "<style scoped>\n",
       "    .dataframe tbody tr th:only-of-type {\n",
       "        vertical-align: middle;\n",
       "    }\n",
       "\n",
       "    .dataframe tbody tr th {\n",
       "        vertical-align: top;\n",
       "    }\n",
       "\n",
       "    .dataframe thead th {\n",
       "        text-align: right;\n",
       "    }\n",
       "</style>\n",
       "<table border=\"1\" class=\"dataframe\">\n",
       "  <thead>\n",
       "    <tr style=\"text-align: right;\">\n",
       "      <th></th>\n",
       "      <th>sample_date_string</th>\n",
       "      <th>cumulative_cases</th>\n",
       "      <th>new_cases</th>\n",
       "      <th>covid_cases</th>\n",
       "      <th>shared_teks_by_generation_date</th>\n",
       "      <th>shared_teks_by_upload_date</th>\n",
       "      <th>shared_teks_uploaded_on_generation_date</th>\n",
       "      <th>shared_diagnoses</th>\n",
       "    </tr>\n",
       "  </thead>\n",
       "  <tbody>\n",
       "    <tr>\n",
       "      <th>0</th>\n",
       "      <td>2020-09-14</td>\n",
       "      <td>593730.0</td>\n",
       "      <td>27404.0</td>\n",
       "      <td>9740</td>\n",
       "      <td>73</td>\n",
       "      <td>61.0</td>\n",
       "      <td>NaN</td>\n",
       "      <td>28.0</td>\n",
       "    </tr>\n",
       "    <tr>\n",
       "      <th>1</th>\n",
       "      <td>2020-09-15</td>\n",
       "      <td>603167.0</td>\n",
       "      <td>9437.0</td>\n",
       "      <td>9808</td>\n",
       "      <td>82</td>\n",
       "      <td>58.0</td>\n",
       "      <td>NaN</td>\n",
       "      <td>23.0</td>\n",
       "    </tr>\n",
       "    <tr>\n",
       "      <th>2</th>\n",
       "      <td>2020-09-16</td>\n",
       "      <td>614360.0</td>\n",
       "      <td>11193.0</td>\n",
       "      <td>10140</td>\n",
       "      <td>119</td>\n",
       "      <td>62.0</td>\n",
       "      <td>NaN</td>\n",
       "      <td>23.0</td>\n",
       "    </tr>\n",
       "    <tr>\n",
       "      <th>3</th>\n",
       "      <td>2020-09-17</td>\n",
       "      <td>625651.0</td>\n",
       "      <td>11291.0</td>\n",
       "      <td>10215</td>\n",
       "      <td>139</td>\n",
       "      <td>63.0</td>\n",
       "      <td>NaN</td>\n",
       "      <td>29.0</td>\n",
       "    </tr>\n",
       "    <tr>\n",
       "      <th>4</th>\n",
       "      <td>2020-09-18</td>\n",
       "      <td>640040.0</td>\n",
       "      <td>14389.0</td>\n",
       "      <td>10531</td>\n",
       "      <td>165</td>\n",
       "      <td>138.0</td>\n",
       "      <td>1.0</td>\n",
       "      <td>52.0</td>\n",
       "    </tr>\n",
       "  </tbody>\n",
       "</table>\n",
       "</div>"
      ],
      "text/plain": [
       "  sample_date_string  cumulative_cases  new_cases  covid_cases  \\\n",
       "0         2020-09-14          593730.0    27404.0         9740   \n",
       "1         2020-09-15          603167.0     9437.0         9808   \n",
       "2         2020-09-16          614360.0    11193.0        10140   \n",
       "3         2020-09-17          625651.0    11291.0        10215   \n",
       "4         2020-09-18          640040.0    14389.0        10531   \n",
       "\n",
       "   shared_teks_by_generation_date  shared_teks_by_upload_date  \\\n",
       "0                              73                        61.0   \n",
       "1                              82                        58.0   \n",
       "2                             119                        62.0   \n",
       "3                             139                        63.0   \n",
       "4                             165                       138.0   \n",
       "\n",
       "   shared_teks_uploaded_on_generation_date  shared_diagnoses  \n",
       "0                                      NaN              28.0  \n",
       "1                                      NaN              23.0  \n",
       "2                                      NaN              23.0  \n",
       "3                                      NaN              29.0  \n",
       "4                                      1.0              52.0  "
      ]
     },
     "execution_count": 39,
     "metadata": {},
     "output_type": "execute_result"
    }
   ],
   "source": [
    "result_summary_df = confirmed_df.tail(daily_summary_days).merge(\n",
    "    result_summary_df, on=[\"sample_date_string\"], how=\"left\")\n",
    "result_summary_df.head()"
   ]
  },
  {
   "cell_type": "code",
   "execution_count": 40,
   "metadata": {
    "collapsed": false,
    "execution": {
     "iopub.execute_input": "2020-10-04T10:21:09.274852Z",
     "iopub.status.busy": "2020-10-04T10:21:09.274236Z",
     "iopub.status.idle": "2020-10-04T10:21:09.277060Z",
     "shell.execute_reply": "2020-10-04T10:21:09.277567Z"
    },
    "papermill": {
     "duration": 0.075545,
     "end_time": "2020-10-04T10:21:09.277724",
     "exception": false,
     "start_time": "2020-10-04T10:21:09.202179",
     "status": "completed"
    },
    "pycharm": {
     "name": "#%%\n"
    },
    "tags": []
   },
   "outputs": [
    {
     "data": {
      "text/html": [
       "<div>\n",
       "<style scoped>\n",
       "    .dataframe tbody tr th:only-of-type {\n",
       "        vertical-align: middle;\n",
       "    }\n",
       "\n",
       "    .dataframe tbody tr th {\n",
       "        vertical-align: top;\n",
       "    }\n",
       "\n",
       "    .dataframe thead th {\n",
       "        text-align: right;\n",
       "    }\n",
       "</style>\n",
       "<table border=\"1\" class=\"dataframe\">\n",
       "  <thead>\n",
       "    <tr style=\"text-align: right;\">\n",
       "      <th></th>\n",
       "      <th>cumulative_cases</th>\n",
       "      <th>new_cases</th>\n",
       "      <th>covid_cases</th>\n",
       "      <th>shared_teks_by_generation_date</th>\n",
       "      <th>shared_teks_by_upload_date</th>\n",
       "      <th>shared_teks_uploaded_on_generation_date</th>\n",
       "      <th>shared_diagnoses</th>\n",
       "    </tr>\n",
       "    <tr>\n",
       "      <th>sample_date</th>\n",
       "      <th></th>\n",
       "      <th></th>\n",
       "      <th></th>\n",
       "      <th></th>\n",
       "      <th></th>\n",
       "      <th></th>\n",
       "      <th></th>\n",
       "    </tr>\n",
       "  </thead>\n",
       "  <tbody>\n",
       "    <tr>\n",
       "      <th>2020-10-04</th>\n",
       "      <td>800425.0</td>\n",
       "      <td>10493.0</td>\n",
       "      <td>10493</td>\n",
       "      <td>22</td>\n",
       "      <td>100.0</td>\n",
       "      <td>22.0</td>\n",
       "      <td>37.0</td>\n",
       "    </tr>\n",
       "    <tr>\n",
       "      <th>2020-10-03</th>\n",
       "      <td>789932.0</td>\n",
       "      <td>0.0</td>\n",
       "      <td>10493</td>\n",
       "      <td>106</td>\n",
       "      <td>324.0</td>\n",
       "      <td>69.0</td>\n",
       "      <td>76.0</td>\n",
       "    </tr>\n",
       "    <tr>\n",
       "      <th>2020-10-02</th>\n",
       "      <td>789932.0</td>\n",
       "      <td>11325.0</td>\n",
       "      <td>10493</td>\n",
       "      <td>161</td>\n",
       "      <td>299.0</td>\n",
       "      <td>72.0</td>\n",
       "      <td>72.0</td>\n",
       "    </tr>\n",
       "    <tr>\n",
       "      <th>2020-10-01</th>\n",
       "      <td>778607.0</td>\n",
       "      <td>9419.0</td>\n",
       "      <td>10628</td>\n",
       "      <td>205</td>\n",
       "      <td>367.0</td>\n",
       "      <td>75.0</td>\n",
       "      <td>74.0</td>\n",
       "    </tr>\n",
       "    <tr>\n",
       "      <th>2020-09-30</th>\n",
       "      <td>769188.0</td>\n",
       "      <td>20922.0</td>\n",
       "      <td>10805</td>\n",
       "      <td>220</td>\n",
       "      <td>271.0</td>\n",
       "      <td>55.0</td>\n",
       "      <td>51.0</td>\n",
       "    </tr>\n",
       "  </tbody>\n",
       "</table>\n",
       "</div>"
      ],
      "text/plain": [
       "             cumulative_cases  new_cases  covid_cases  \\\n",
       "sample_date                                             \n",
       "2020-10-04           800425.0    10493.0        10493   \n",
       "2020-10-03           789932.0        0.0        10493   \n",
       "2020-10-02           789932.0    11325.0        10493   \n",
       "2020-10-01           778607.0     9419.0        10628   \n",
       "2020-09-30           769188.0    20922.0        10805   \n",
       "\n",
       "             shared_teks_by_generation_date  shared_teks_by_upload_date  \\\n",
       "sample_date                                                               \n",
       "2020-10-04                               22                       100.0   \n",
       "2020-10-03                              106                       324.0   \n",
       "2020-10-02                              161                       299.0   \n",
       "2020-10-01                              205                       367.0   \n",
       "2020-09-30                              220                       271.0   \n",
       "\n",
       "             shared_teks_uploaded_on_generation_date  shared_diagnoses  \n",
       "sample_date                                                             \n",
       "2020-10-04                                      22.0              37.0  \n",
       "2020-10-03                                      69.0              76.0  \n",
       "2020-10-02                                      72.0              72.0  \n",
       "2020-10-01                                      75.0              74.0  \n",
       "2020-09-30                                      55.0              51.0  "
      ]
     },
     "execution_count": 40,
     "metadata": {},
     "output_type": "execute_result"
    }
   ],
   "source": [
    "result_summary_df[\"sample_date\"] = pd.to_datetime(result_summary_df.sample_date_string)\n",
    "result_summary_df.set_index(\"sample_date\", inplace=True)\n",
    "result_summary_df.drop(columns=[\"sample_date_string\"], inplace=True)\n",
    "result_summary_df.sort_index(ascending=False, inplace=True)\n",
    "result_summary_df.head()"
   ]
  },
  {
   "cell_type": "code",
   "execution_count": 41,
   "metadata": {
    "collapsed": false,
    "execution": {
     "iopub.execute_input": "2020-10-04T10:21:09.403690Z",
     "iopub.status.busy": "2020-10-04T10:21:09.403074Z",
     "iopub.status.idle": "2020-10-04T10:21:09.406275Z",
     "shell.execute_reply": "2020-10-04T10:21:09.406752Z"
    },
    "papermill": {
     "duration": 0.074219,
     "end_time": "2020-10-04T10:21:09.406904",
     "exception": false,
     "start_time": "2020-10-04T10:21:09.332685",
     "status": "completed"
    },
    "pycharm": {
     "name": "#%%\n"
    },
    "tags": []
   },
   "outputs": [
    {
     "data": {
      "text/html": [
       "<div>\n",
       "<style scoped>\n",
       "    .dataframe tbody tr th:only-of-type {\n",
       "        vertical-align: middle;\n",
       "    }\n",
       "\n",
       "    .dataframe tbody tr th {\n",
       "        vertical-align: top;\n",
       "    }\n",
       "\n",
       "    .dataframe thead th {\n",
       "        text-align: right;\n",
       "    }\n",
       "</style>\n",
       "<table border=\"1\" class=\"dataframe\">\n",
       "  <thead>\n",
       "    <tr style=\"text-align: right;\">\n",
       "      <th></th>\n",
       "      <th>cumulative_cases</th>\n",
       "      <th>new_cases</th>\n",
       "      <th>covid_cases</th>\n",
       "      <th>shared_teks_by_generation_date</th>\n",
       "      <th>shared_teks_by_upload_date</th>\n",
       "      <th>shared_teks_uploaded_on_generation_date</th>\n",
       "      <th>shared_diagnoses</th>\n",
       "      <th>teks_per_shared_diagnosis</th>\n",
       "      <th>shared_diagnoses_per_covid_case</th>\n",
       "    </tr>\n",
       "    <tr>\n",
       "      <th>sample_date</th>\n",
       "      <th></th>\n",
       "      <th></th>\n",
       "      <th></th>\n",
       "      <th></th>\n",
       "      <th></th>\n",
       "      <th></th>\n",
       "      <th></th>\n",
       "      <th></th>\n",
       "      <th></th>\n",
       "    </tr>\n",
       "  </thead>\n",
       "  <tbody>\n",
       "    <tr>\n",
       "      <th>2020-10-04</th>\n",
       "      <td>800425</td>\n",
       "      <td>10493</td>\n",
       "      <td>10493</td>\n",
       "      <td>22</td>\n",
       "      <td>100</td>\n",
       "      <td>22</td>\n",
       "      <td>37</td>\n",
       "      <td>2.702703</td>\n",
       "      <td>0.003526</td>\n",
       "    </tr>\n",
       "    <tr>\n",
       "      <th>2020-10-03</th>\n",
       "      <td>789932</td>\n",
       "      <td>0</td>\n",
       "      <td>10493</td>\n",
       "      <td>106</td>\n",
       "      <td>324</td>\n",
       "      <td>69</td>\n",
       "      <td>76</td>\n",
       "      <td>4.263158</td>\n",
       "      <td>0.007243</td>\n",
       "    </tr>\n",
       "    <tr>\n",
       "      <th>2020-10-02</th>\n",
       "      <td>789932</td>\n",
       "      <td>11325</td>\n",
       "      <td>10493</td>\n",
       "      <td>161</td>\n",
       "      <td>299</td>\n",
       "      <td>72</td>\n",
       "      <td>72</td>\n",
       "      <td>4.152778</td>\n",
       "      <td>0.006862</td>\n",
       "    </tr>\n",
       "    <tr>\n",
       "      <th>2020-10-01</th>\n",
       "      <td>778607</td>\n",
       "      <td>9419</td>\n",
       "      <td>10628</td>\n",
       "      <td>205</td>\n",
       "      <td>367</td>\n",
       "      <td>75</td>\n",
       "      <td>74</td>\n",
       "      <td>4.959459</td>\n",
       "      <td>0.006963</td>\n",
       "    </tr>\n",
       "    <tr>\n",
       "      <th>2020-09-30</th>\n",
       "      <td>769188</td>\n",
       "      <td>20922</td>\n",
       "      <td>10805</td>\n",
       "      <td>220</td>\n",
       "      <td>271</td>\n",
       "      <td>55</td>\n",
       "      <td>51</td>\n",
       "      <td>5.313725</td>\n",
       "      <td>0.004720</td>\n",
       "    </tr>\n",
       "    <tr>\n",
       "      <th>2020-09-29</th>\n",
       "      <td>748266</td>\n",
       "      <td>0</td>\n",
       "      <td>9428</td>\n",
       "      <td>230</td>\n",
       "      <td>178</td>\n",
       "      <td>32</td>\n",
       "      <td>44</td>\n",
       "      <td>4.045455</td>\n",
       "      <td>0.004667</td>\n",
       "    </tr>\n",
       "    <tr>\n",
       "      <th>2020-09-28</th>\n",
       "      <td>748266</td>\n",
       "      <td>31785</td>\n",
       "      <td>10971</td>\n",
       "      <td>266</td>\n",
       "      <td>211</td>\n",
       "      <td>44</td>\n",
       "      <td>54</td>\n",
       "      <td>3.907407</td>\n",
       "      <td>0.004922</td>\n",
       "    </tr>\n",
       "    <tr>\n",
       "      <th>2020-09-27</th>\n",
       "      <td>716481</td>\n",
       "      <td>0</td>\n",
       "      <td>10920</td>\n",
       "      <td>314</td>\n",
       "      <td>449</td>\n",
       "      <td>98</td>\n",
       "      <td>108</td>\n",
       "      <td>4.157407</td>\n",
       "      <td>0.009890</td>\n",
       "    </tr>\n",
       "    <tr>\n",
       "      <th>2020-09-26</th>\n",
       "      <td>716481</td>\n",
       "      <td>0</td>\n",
       "      <td>10920</td>\n",
       "      <td>338</td>\n",
       "      <td>448</td>\n",
       "      <td>79</td>\n",
       "      <td>110</td>\n",
       "      <td>4.072727</td>\n",
       "      <td>0.010073</td>\n",
       "    </tr>\n",
       "    <tr>\n",
       "      <th>2020-09-25</th>\n",
       "      <td>716481</td>\n",
       "      <td>12272</td>\n",
       "      <td>10920</td>\n",
       "      <td>283</td>\n",
       "      <td>306</td>\n",
       "      <td>14</td>\n",
       "      <td>86</td>\n",
       "      <td>3.558140</td>\n",
       "      <td>0.007875</td>\n",
       "    </tr>\n",
       "    <tr>\n",
       "      <th>2020-09-24</th>\n",
       "      <td>704209</td>\n",
       "      <td>10653</td>\n",
       "      <td>11223</td>\n",
       "      <td>286</td>\n",
       "      <td>289</td>\n",
       "      <td>17</td>\n",
       "      <td>89</td>\n",
       "      <td>3.247191</td>\n",
       "      <td>0.007930</td>\n",
       "    </tr>\n",
       "    <tr>\n",
       "      <th>2020-09-23</th>\n",
       "      <td>693556</td>\n",
       "      <td>11289</td>\n",
       "      <td>11314</td>\n",
       "      <td>296</td>\n",
       "      <td>267</td>\n",
       "      <td>4</td>\n",
       "      <td>70</td>\n",
       "      <td>3.814286</td>\n",
       "      <td>0.006187</td>\n",
       "    </tr>\n",
       "    <tr>\n",
       "      <th>2020-09-22</th>\n",
       "      <td>682267</td>\n",
       "      <td>10799</td>\n",
       "      <td>11300</td>\n",
       "      <td>282</td>\n",
       "      <td>148</td>\n",
       "      <td>0</td>\n",
       "      <td>55</td>\n",
       "      <td>2.690909</td>\n",
       "      <td>0.004867</td>\n",
       "    </tr>\n",
       "    <tr>\n",
       "      <th>2020-09-21</th>\n",
       "      <td>671468</td>\n",
       "      <td>31428</td>\n",
       "      <td>11105</td>\n",
       "      <td>268</td>\n",
       "      <td>190</td>\n",
       "      <td>0</td>\n",
       "      <td>45</td>\n",
       "      <td>4.222222</td>\n",
       "      <td>0.004052</td>\n",
       "    </tr>\n",
       "  </tbody>\n",
       "</table>\n",
       "</div>"
      ],
      "text/plain": [
       "             cumulative_cases  new_cases  covid_cases  \\\n",
       "sample_date                                             \n",
       "2020-10-04             800425      10493        10493   \n",
       "2020-10-03             789932          0        10493   \n",
       "2020-10-02             789932      11325        10493   \n",
       "2020-10-01             778607       9419        10628   \n",
       "2020-09-30             769188      20922        10805   \n",
       "2020-09-29             748266          0         9428   \n",
       "2020-09-28             748266      31785        10971   \n",
       "2020-09-27             716481          0        10920   \n",
       "2020-09-26             716481          0        10920   \n",
       "2020-09-25             716481      12272        10920   \n",
       "2020-09-24             704209      10653        11223   \n",
       "2020-09-23             693556      11289        11314   \n",
       "2020-09-22             682267      10799        11300   \n",
       "2020-09-21             671468      31428        11105   \n",
       "\n",
       "             shared_teks_by_generation_date  shared_teks_by_upload_date  \\\n",
       "sample_date                                                               \n",
       "2020-10-04                               22                         100   \n",
       "2020-10-03                              106                         324   \n",
       "2020-10-02                              161                         299   \n",
       "2020-10-01                              205                         367   \n",
       "2020-09-30                              220                         271   \n",
       "2020-09-29                              230                         178   \n",
       "2020-09-28                              266                         211   \n",
       "2020-09-27                              314                         449   \n",
       "2020-09-26                              338                         448   \n",
       "2020-09-25                              283                         306   \n",
       "2020-09-24                              286                         289   \n",
       "2020-09-23                              296                         267   \n",
       "2020-09-22                              282                         148   \n",
       "2020-09-21                              268                         190   \n",
       "\n",
       "             shared_teks_uploaded_on_generation_date  shared_diagnoses  \\\n",
       "sample_date                                                              \n",
       "2020-10-04                                        22                37   \n",
       "2020-10-03                                        69                76   \n",
       "2020-10-02                                        72                72   \n",
       "2020-10-01                                        75                74   \n",
       "2020-09-30                                        55                51   \n",
       "2020-09-29                                        32                44   \n",
       "2020-09-28                                        44                54   \n",
       "2020-09-27                                        98               108   \n",
       "2020-09-26                                        79               110   \n",
       "2020-09-25                                        14                86   \n",
       "2020-09-24                                        17                89   \n",
       "2020-09-23                                         4                70   \n",
       "2020-09-22                                         0                55   \n",
       "2020-09-21                                         0                45   \n",
       "\n",
       "             teks_per_shared_diagnosis  shared_diagnoses_per_covid_case  \n",
       "sample_date                                                              \n",
       "2020-10-04                    2.702703                         0.003526  \n",
       "2020-10-03                    4.263158                         0.007243  \n",
       "2020-10-02                    4.152778                         0.006862  \n",
       "2020-10-01                    4.959459                         0.006963  \n",
       "2020-09-30                    5.313725                         0.004720  \n",
       "2020-09-29                    4.045455                         0.004667  \n",
       "2020-09-28                    3.907407                         0.004922  \n",
       "2020-09-27                    4.157407                         0.009890  \n",
       "2020-09-26                    4.072727                         0.010073  \n",
       "2020-09-25                    3.558140                         0.007875  \n",
       "2020-09-24                    3.247191                         0.007930  \n",
       "2020-09-23                    3.814286                         0.006187  \n",
       "2020-09-22                    2.690909                         0.004867  \n",
       "2020-09-21                    4.222222                         0.004052  "
      ]
     },
     "execution_count": 41,
     "metadata": {},
     "output_type": "execute_result"
    }
   ],
   "source": [
    "result_summary_df = result_summary_df.fillna(0).astype(int)\n",
    "result_summary_df[\"teks_per_shared_diagnosis\"] = \\\n",
    "    result_summary_df.shared_teks_by_upload_date / result_summary_df.shared_diagnoses\n",
    "result_summary_df[\"shared_diagnoses_per_covid_case\"] = \\\n",
    "    result_summary_df.shared_diagnoses / result_summary_df.covid_cases\n",
    "result_summary_df.head(daily_plot_days)"
   ]
  },
  {
   "cell_type": "code",
   "execution_count": 42,
   "metadata": {
    "collapsed": false,
    "execution": {
     "iopub.execute_input": "2020-10-04T10:21:09.531335Z",
     "iopub.status.busy": "2020-10-04T10:21:09.530710Z",
     "iopub.status.idle": "2020-10-04T10:21:09.543456Z",
     "shell.execute_reply": "2020-10-04T10:21:09.543960Z"
    },
    "papermill": {
     "duration": 0.077366,
     "end_time": "2020-10-04T10:21:09.544113",
     "exception": false,
     "start_time": "2020-10-04T10:21:09.466747",
     "status": "completed"
    },
    "pycharm": {
     "name": "#%%\n"
    },
    "tags": []
   },
   "outputs": [
    {
     "data": {
      "text/html": [
       "<div>\n",
       "<style scoped>\n",
       "    .dataframe tbody tr th:only-of-type {\n",
       "        vertical-align: middle;\n",
       "    }\n",
       "\n",
       "    .dataframe tbody tr th {\n",
       "        vertical-align: top;\n",
       "    }\n",
       "\n",
       "    .dataframe thead th {\n",
       "        text-align: right;\n",
       "    }\n",
       "</style>\n",
       "<table border=\"1\" class=\"dataframe\">\n",
       "  <thead>\n",
       "    <tr style=\"text-align: right;\">\n",
       "      <th></th>\n",
       "      <th>covid_cases</th>\n",
       "      <th>shared_teks_by_generation_date</th>\n",
       "      <th>shared_teks_by_upload_date</th>\n",
       "      <th>shared_diagnoses</th>\n",
       "      <th>teks_per_shared_diagnosis</th>\n",
       "      <th>shared_diagnoses_per_covid_case</th>\n",
       "    </tr>\n",
       "    <tr>\n",
       "      <th>sample_date</th>\n",
       "      <th></th>\n",
       "      <th></th>\n",
       "      <th></th>\n",
       "      <th></th>\n",
       "      <th></th>\n",
       "      <th></th>\n",
       "    </tr>\n",
       "  </thead>\n",
       "  <tbody>\n",
       "    <tr>\n",
       "      <th>2020-10-04</th>\n",
       "      <td>73311</td>\n",
       "      <td>1210</td>\n",
       "      <td>1750</td>\n",
       "      <td>408</td>\n",
       "      <td>4.289216</td>\n",
       "      <td>0.005565</td>\n",
       "    </tr>\n",
       "    <tr>\n",
       "      <th>2020-10-03</th>\n",
       "      <td>73738</td>\n",
       "      <td>1502</td>\n",
       "      <td>2099</td>\n",
       "      <td>479</td>\n",
       "      <td>4.382046</td>\n",
       "      <td>0.006496</td>\n",
       "    </tr>\n",
       "    <tr>\n",
       "      <th>2020-10-02</th>\n",
       "      <td>74165</td>\n",
       "      <td>1734</td>\n",
       "      <td>2223</td>\n",
       "      <td>513</td>\n",
       "      <td>4.333333</td>\n",
       "      <td>0.006917</td>\n",
       "    </tr>\n",
       "    <tr>\n",
       "      <th>2020-10-01</th>\n",
       "      <td>74592</td>\n",
       "      <td>1856</td>\n",
       "      <td>2230</td>\n",
       "      <td>527</td>\n",
       "      <td>4.231499</td>\n",
       "      <td>0.007065</td>\n",
       "    </tr>\n",
       "    <tr>\n",
       "      <th>2020-09-30</th>\n",
       "      <td>75187</td>\n",
       "      <td>1937</td>\n",
       "      <td>2152</td>\n",
       "      <td>542</td>\n",
       "      <td>3.970480</td>\n",
       "      <td>0.007209</td>\n",
       "    </tr>\n",
       "  </tbody>\n",
       "</table>\n",
       "</div>"
      ],
      "text/plain": [
       "             covid_cases  shared_teks_by_generation_date  \\\n",
       "sample_date                                                \n",
       "2020-10-04         73311                            1210   \n",
       "2020-10-03         73738                            1502   \n",
       "2020-10-02         74165                            1734   \n",
       "2020-10-01         74592                            1856   \n",
       "2020-09-30         75187                            1937   \n",
       "\n",
       "             shared_teks_by_upload_date  shared_diagnoses  \\\n",
       "sample_date                                                 \n",
       "2020-10-04                         1750               408   \n",
       "2020-10-03                         2099               479   \n",
       "2020-10-02                         2223               513   \n",
       "2020-10-01                         2230               527   \n",
       "2020-09-30                         2152               542   \n",
       "\n",
       "             teks_per_shared_diagnosis  shared_diagnoses_per_covid_case  \n",
       "sample_date                                                              \n",
       "2020-10-04                    4.289216                         0.005565  \n",
       "2020-10-03                    4.382046                         0.006496  \n",
       "2020-10-02                    4.333333                         0.006917  \n",
       "2020-10-01                    4.231499                         0.007065  \n",
       "2020-09-30                    3.970480                         0.007209  "
      ]
     },
     "execution_count": 42,
     "metadata": {},
     "output_type": "execute_result"
    }
   ],
   "source": [
    "weekly_result_summary_df = result_summary_df \\\n",
    "    .sort_index(ascending=True).fillna(0).rolling(7).agg({\n",
    "    \"covid_cases\": \"sum\",\n",
    "    \"shared_teks_by_generation_date\": \"sum\",\n",
    "    \"shared_teks_by_upload_date\": \"sum\",\n",
    "    \"shared_diagnoses\": \"sum\"\n",
    "}).sort_index(ascending=False)\n",
    "weekly_result_summary_df = weekly_result_summary_df.fillna(0).astype(int)\n",
    "weekly_result_summary_df[\"teks_per_shared_diagnosis\"] = \\\n",
    "    weekly_result_summary_df.shared_teks_by_upload_date / weekly_result_summary_df.shared_diagnoses\n",
    "weekly_result_summary_df[\"shared_diagnoses_per_covid_case\"] = \\\n",
    "    weekly_result_summary_df.shared_diagnoses / weekly_result_summary_df.covid_cases\n",
    "weekly_result_summary_df.head()"
   ]
  },
  {
   "cell_type": "code",
   "execution_count": 43,
   "metadata": {
    "execution": {
     "iopub.execute_input": "2020-10-04T10:21:09.664392Z",
     "iopub.status.busy": "2020-10-04T10:21:09.663777Z",
     "iopub.status.idle": "2020-10-04T10:21:09.666997Z",
     "shell.execute_reply": "2020-10-04T10:21:09.666464Z"
    },
    "papermill": {
     "duration": 0.06724,
     "end_time": "2020-10-04T10:21:09.667130",
     "exception": false,
     "start_time": "2020-10-04T10:21:09.599890",
     "status": "completed"
    },
    "pycharm": {
     "name": "#%%\n"
    },
    "tags": []
   },
   "outputs": [
    {
     "data": {
      "text/plain": [
       "{'covid_cases': 73311,\n",
       " 'shared_teks_by_generation_date': 1210,\n",
       " 'shared_teks_by_upload_date': 1750,\n",
       " 'shared_diagnoses': 408,\n",
       " 'teks_per_shared_diagnosis': 4.28921568627451,\n",
       " 'shared_diagnoses_per_covid_case': 0.005565331259974628}"
      ]
     },
     "execution_count": 43,
     "metadata": {},
     "output_type": "execute_result"
    }
   ],
   "source": [
    "last_7_days_summary = weekly_result_summary_df.to_dict(orient=\"records\")[0]\n",
    "last_7_days_summary"
   ]
  },
  {
   "cell_type": "markdown",
   "metadata": {
    "collapsed": false,
    "papermill": {
     "duration": 0.059644,
     "end_time": "2020-10-04T10:21:09.783353",
     "exception": false,
     "start_time": "2020-10-04T10:21:09.723709",
     "status": "completed"
    },
    "pycharm": {
     "name": "#%% md\n"
    },
    "tags": []
   },
   "source": [
    "## Report Results"
   ]
  },
  {
   "cell_type": "code",
   "execution_count": 44,
   "metadata": {
    "collapsed": false,
    "execution": {
     "iopub.execute_input": "2020-10-04T10:21:09.902032Z",
     "iopub.status.busy": "2020-10-04T10:21:09.901410Z",
     "iopub.status.idle": "2020-10-04T10:21:09.904045Z",
     "shell.execute_reply": "2020-10-04T10:21:09.903443Z"
    },
    "papermill": {
     "duration": 0.06385,
     "end_time": "2020-10-04T10:21:09.904176",
     "exception": false,
     "start_time": "2020-10-04T10:21:09.840326",
     "status": "completed"
    },
    "pycharm": {
     "name": "#%%\n"
    },
    "tags": []
   },
   "outputs": [],
   "source": [
    "display_column_name_mapping = {\n",
    "    \"sample_date\": \"Sample\\u00A0Date\\u00A0(UTC)\",\n",
    "    \"datetime_utc\": \"Timestamp (UTC)\",\n",
    "    \"covid_cases\": \"COVID-19 Cases (7-day Rolling Average)\",\n",
    "    \"shared_teks_by_generation_date\": \"Shared TEKs by Generation Date\",\n",
    "    \"shared_teks_by_upload_date\": \"Shared TEKs by Upload Date\",\n",
    "    \"shared_diagnoses\": \"Shared Diagnoses (Estimation)\",\n",
    "    \"teks_per_shared_diagnosis\": \"TEKs Uploaded per Shared Diagnosis\",\n",
    "    \"shared_diagnoses_per_covid_case\": \"Usage Ratio (Fraction of Cases Which Shared Diagnosis)\",\n",
    "    \"shared_teks_uploaded_on_generation_date\": \"Shared TEKs Uploaded on Generation Date\",\n",
    "}"
   ]
  },
  {
   "cell_type": "code",
   "execution_count": 45,
   "metadata": {
    "execution": {
     "iopub.execute_input": "2020-10-04T10:21:10.019309Z",
     "iopub.status.busy": "2020-10-04T10:21:10.018709Z",
     "iopub.status.idle": "2020-10-04T10:21:10.021703Z",
     "shell.execute_reply": "2020-10-04T10:21:10.021217Z"
    },
    "papermill": {
     "duration": 0.061519,
     "end_time": "2020-10-04T10:21:10.021832",
     "exception": false,
     "start_time": "2020-10-04T10:21:09.960313",
     "status": "completed"
    },
    "pycharm": {
     "name": "#%%\n"
    },
    "tags": []
   },
   "outputs": [],
   "source": [
    "summary_columns = [\n",
    "    \"covid_cases\",\n",
    "    \"shared_teks_by_generation_date\",\n",
    "    \"shared_teks_by_upload_date\",\n",
    "    \"shared_teks_uploaded_on_generation_date\",\n",
    "    \"shared_diagnoses\",\n",
    "    \"teks_per_shared_diagnosis\",\n",
    "    \"shared_diagnoses_per_covid_case\",\n",
    "]"
   ]
  },
  {
   "cell_type": "markdown",
   "metadata": {
    "execution": {
     "iopub.execute_input": "2020-09-02T08:20:14.568088Z",
     "iopub.status.busy": "2020-09-02T08:20:14.567425Z",
     "iopub.status.idle": "2020-09-02T08:20:14.571422Z",
     "shell.execute_reply": "2020-09-02T08:20:14.571952Z"
    },
    "papermill": {
     "duration": 0.056603,
     "end_time": "2020-10-04T10:21:10.134718",
     "exception": false,
     "start_time": "2020-10-04T10:21:10.078115",
     "status": "completed"
    },
    "pycharm": {
     "name": "#%% md\n"
    },
    "tags": []
   },
   "source": [
    "### Daily Summary Table"
   ]
  },
  {
   "cell_type": "code",
   "execution_count": 46,
   "metadata": {
    "execution": {
     "iopub.execute_input": "2020-10-04T10:21:10.265472Z",
     "iopub.status.busy": "2020-10-04T10:21:10.264867Z",
     "iopub.status.idle": "2020-10-04T10:21:10.268326Z",
     "shell.execute_reply": "2020-10-04T10:21:10.267800Z"
    },
    "papermill": {
     "duration": 0.076489,
     "end_time": "2020-10-04T10:21:10.268456",
     "exception": false,
     "start_time": "2020-10-04T10:21:10.191967",
     "status": "completed"
    },
    "pycharm": {
     "name": "#%%\n"
    },
    "tags": []
   },
   "outputs": [
    {
     "data": {
      "text/html": [
       "<div>\n",
       "<style scoped>\n",
       "    .dataframe tbody tr th:only-of-type {\n",
       "        vertical-align: middle;\n",
       "    }\n",
       "\n",
       "    .dataframe tbody tr th {\n",
       "        vertical-align: top;\n",
       "    }\n",
       "\n",
       "    .dataframe thead th {\n",
       "        text-align: right;\n",
       "    }\n",
       "</style>\n",
       "<table border=\"1\" class=\"dataframe\">\n",
       "  <thead>\n",
       "    <tr style=\"text-align: right;\">\n",
       "      <th></th>\n",
       "      <th>COVID-19 Cases (7-day Rolling Average)</th>\n",
       "      <th>Shared TEKs by Generation Date</th>\n",
       "      <th>Shared TEKs by Upload Date</th>\n",
       "      <th>Shared TEKs Uploaded on Generation Date</th>\n",
       "      <th>Shared Diagnoses (Estimation)</th>\n",
       "      <th>TEKs Uploaded per Shared Diagnosis</th>\n",
       "      <th>Usage Ratio (Fraction of Cases Which Shared Diagnosis)</th>\n",
       "    </tr>\n",
       "    <tr>\n",
       "      <th>Sample Date (UTC)</th>\n",
       "      <th></th>\n",
       "      <th></th>\n",
       "      <th></th>\n",
       "      <th></th>\n",
       "      <th></th>\n",
       "      <th></th>\n",
       "      <th></th>\n",
       "    </tr>\n",
       "  </thead>\n",
       "  <tbody>\n",
       "    <tr>\n",
       "      <th>2020-10-04</th>\n",
       "      <td>10493</td>\n",
       "      <td>22</td>\n",
       "      <td>100</td>\n",
       "      <td>22</td>\n",
       "      <td>37</td>\n",
       "      <td>2.702703</td>\n",
       "      <td>0.003526</td>\n",
       "    </tr>\n",
       "    <tr>\n",
       "      <th>2020-10-03</th>\n",
       "      <td>10493</td>\n",
       "      <td>106</td>\n",
       "      <td>324</td>\n",
       "      <td>69</td>\n",
       "      <td>76</td>\n",
       "      <td>4.263158</td>\n",
       "      <td>0.007243</td>\n",
       "    </tr>\n",
       "    <tr>\n",
       "      <th>2020-10-02</th>\n",
       "      <td>10493</td>\n",
       "      <td>161</td>\n",
       "      <td>299</td>\n",
       "      <td>72</td>\n",
       "      <td>72</td>\n",
       "      <td>4.152778</td>\n",
       "      <td>0.006862</td>\n",
       "    </tr>\n",
       "    <tr>\n",
       "      <th>2020-10-01</th>\n",
       "      <td>10628</td>\n",
       "      <td>205</td>\n",
       "      <td>367</td>\n",
       "      <td>75</td>\n",
       "      <td>74</td>\n",
       "      <td>4.959459</td>\n",
       "      <td>0.006963</td>\n",
       "    </tr>\n",
       "    <tr>\n",
       "      <th>2020-09-30</th>\n",
       "      <td>10805</td>\n",
       "      <td>220</td>\n",
       "      <td>271</td>\n",
       "      <td>55</td>\n",
       "      <td>51</td>\n",
       "      <td>5.313725</td>\n",
       "      <td>0.004720</td>\n",
       "    </tr>\n",
       "    <tr>\n",
       "      <th>2020-09-29</th>\n",
       "      <td>9428</td>\n",
       "      <td>230</td>\n",
       "      <td>178</td>\n",
       "      <td>32</td>\n",
       "      <td>44</td>\n",
       "      <td>4.045455</td>\n",
       "      <td>0.004667</td>\n",
       "    </tr>\n",
       "    <tr>\n",
       "      <th>2020-09-28</th>\n",
       "      <td>10971</td>\n",
       "      <td>266</td>\n",
       "      <td>211</td>\n",
       "      <td>44</td>\n",
       "      <td>54</td>\n",
       "      <td>3.907407</td>\n",
       "      <td>0.004922</td>\n",
       "    </tr>\n",
       "    <tr>\n",
       "      <th>2020-09-27</th>\n",
       "      <td>10920</td>\n",
       "      <td>314</td>\n",
       "      <td>449</td>\n",
       "      <td>98</td>\n",
       "      <td>108</td>\n",
       "      <td>4.157407</td>\n",
       "      <td>0.009890</td>\n",
       "    </tr>\n",
       "    <tr>\n",
       "      <th>2020-09-26</th>\n",
       "      <td>10920</td>\n",
       "      <td>338</td>\n",
       "      <td>448</td>\n",
       "      <td>79</td>\n",
       "      <td>110</td>\n",
       "      <td>4.072727</td>\n",
       "      <td>0.010073</td>\n",
       "    </tr>\n",
       "    <tr>\n",
       "      <th>2020-09-25</th>\n",
       "      <td>10920</td>\n",
       "      <td>283</td>\n",
       "      <td>306</td>\n",
       "      <td>14</td>\n",
       "      <td>86</td>\n",
       "      <td>3.558140</td>\n",
       "      <td>0.007875</td>\n",
       "    </tr>\n",
       "    <tr>\n",
       "      <th>2020-09-24</th>\n",
       "      <td>11223</td>\n",
       "      <td>286</td>\n",
       "      <td>289</td>\n",
       "      <td>17</td>\n",
       "      <td>89</td>\n",
       "      <td>3.247191</td>\n",
       "      <td>0.007930</td>\n",
       "    </tr>\n",
       "    <tr>\n",
       "      <th>2020-09-23</th>\n",
       "      <td>11314</td>\n",
       "      <td>296</td>\n",
       "      <td>267</td>\n",
       "      <td>4</td>\n",
       "      <td>70</td>\n",
       "      <td>3.814286</td>\n",
       "      <td>0.006187</td>\n",
       "    </tr>\n",
       "    <tr>\n",
       "      <th>2020-09-22</th>\n",
       "      <td>11300</td>\n",
       "      <td>282</td>\n",
       "      <td>148</td>\n",
       "      <td>0</td>\n",
       "      <td>55</td>\n",
       "      <td>2.690909</td>\n",
       "      <td>0.004867</td>\n",
       "    </tr>\n",
       "    <tr>\n",
       "      <th>2020-09-21</th>\n",
       "      <td>11105</td>\n",
       "      <td>268</td>\n",
       "      <td>190</td>\n",
       "      <td>0</td>\n",
       "      <td>45</td>\n",
       "      <td>4.222222</td>\n",
       "      <td>0.004052</td>\n",
       "    </tr>\n",
       "    <tr>\n",
       "      <th>2020-09-20</th>\n",
       "      <td>10531</td>\n",
       "      <td>218</td>\n",
       "      <td>116</td>\n",
       "      <td>0</td>\n",
       "      <td>45</td>\n",
       "      <td>2.577778</td>\n",
       "      <td>0.004273</td>\n",
       "    </tr>\n",
       "    <tr>\n",
       "      <th>2020-09-19</th>\n",
       "      <td>10531</td>\n",
       "      <td>203</td>\n",
       "      <td>90</td>\n",
       "      <td>2</td>\n",
       "      <td>39</td>\n",
       "      <td>2.307692</td>\n",
       "      <td>0.003703</td>\n",
       "    </tr>\n",
       "    <tr>\n",
       "      <th>2020-09-18</th>\n",
       "      <td>10531</td>\n",
       "      <td>165</td>\n",
       "      <td>138</td>\n",
       "      <td>1</td>\n",
       "      <td>52</td>\n",
       "      <td>2.653846</td>\n",
       "      <td>0.004938</td>\n",
       "    </tr>\n",
       "    <tr>\n",
       "      <th>2020-09-17</th>\n",
       "      <td>10215</td>\n",
       "      <td>139</td>\n",
       "      <td>63</td>\n",
       "      <td>0</td>\n",
       "      <td>29</td>\n",
       "      <td>2.172414</td>\n",
       "      <td>0.002839</td>\n",
       "    </tr>\n",
       "    <tr>\n",
       "      <th>2020-09-16</th>\n",
       "      <td>10140</td>\n",
       "      <td>119</td>\n",
       "      <td>62</td>\n",
       "      <td>0</td>\n",
       "      <td>23</td>\n",
       "      <td>2.695652</td>\n",
       "      <td>0.002268</td>\n",
       "    </tr>\n",
       "    <tr>\n",
       "      <th>2020-09-15</th>\n",
       "      <td>9808</td>\n",
       "      <td>82</td>\n",
       "      <td>58</td>\n",
       "      <td>0</td>\n",
       "      <td>23</td>\n",
       "      <td>2.521739</td>\n",
       "      <td>0.002345</td>\n",
       "    </tr>\n",
       "    <tr>\n",
       "      <th>2020-09-14</th>\n",
       "      <td>9740</td>\n",
       "      <td>73</td>\n",
       "      <td>61</td>\n",
       "      <td>0</td>\n",
       "      <td>28</td>\n",
       "      <td>2.178571</td>\n",
       "      <td>0.002875</td>\n",
       "    </tr>\n",
       "  </tbody>\n",
       "</table>\n",
       "</div>"
      ],
      "text/plain": [
       "                   COVID-19 Cases (7-day Rolling Average)  \\\n",
       "Sample Date (UTC)                                           \n",
       "2020-10-04                                          10493   \n",
       "2020-10-03                                          10493   \n",
       "2020-10-02                                          10493   \n",
       "2020-10-01                                          10628   \n",
       "2020-09-30                                          10805   \n",
       "2020-09-29                                           9428   \n",
       "2020-09-28                                          10971   \n",
       "2020-09-27                                          10920   \n",
       "2020-09-26                                          10920   \n",
       "2020-09-25                                          10920   \n",
       "2020-09-24                                          11223   \n",
       "2020-09-23                                          11314   \n",
       "2020-09-22                                          11300   \n",
       "2020-09-21                                          11105   \n",
       "2020-09-20                                          10531   \n",
       "2020-09-19                                          10531   \n",
       "2020-09-18                                          10531   \n",
       "2020-09-17                                          10215   \n",
       "2020-09-16                                          10140   \n",
       "2020-09-15                                           9808   \n",
       "2020-09-14                                           9740   \n",
       "\n",
       "                   Shared TEKs by Generation Date  Shared TEKs by Upload Date  \\\n",
       "Sample Date (UTC)                                                               \n",
       "2020-10-04                                     22                         100   \n",
       "2020-10-03                                    106                         324   \n",
       "2020-10-02                                    161                         299   \n",
       "2020-10-01                                    205                         367   \n",
       "2020-09-30                                    220                         271   \n",
       "2020-09-29                                    230                         178   \n",
       "2020-09-28                                    266                         211   \n",
       "2020-09-27                                    314                         449   \n",
       "2020-09-26                                    338                         448   \n",
       "2020-09-25                                    283                         306   \n",
       "2020-09-24                                    286                         289   \n",
       "2020-09-23                                    296                         267   \n",
       "2020-09-22                                    282                         148   \n",
       "2020-09-21                                    268                         190   \n",
       "2020-09-20                                    218                         116   \n",
       "2020-09-19                                    203                          90   \n",
       "2020-09-18                                    165                         138   \n",
       "2020-09-17                                    139                          63   \n",
       "2020-09-16                                    119                          62   \n",
       "2020-09-15                                     82                          58   \n",
       "2020-09-14                                     73                          61   \n",
       "\n",
       "                   Shared TEKs Uploaded on Generation Date  \\\n",
       "Sample Date (UTC)                                            \n",
       "2020-10-04                                              22   \n",
       "2020-10-03                                              69   \n",
       "2020-10-02                                              72   \n",
       "2020-10-01                                              75   \n",
       "2020-09-30                                              55   \n",
       "2020-09-29                                              32   \n",
       "2020-09-28                                              44   \n",
       "2020-09-27                                              98   \n",
       "2020-09-26                                              79   \n",
       "2020-09-25                                              14   \n",
       "2020-09-24                                              17   \n",
       "2020-09-23                                               4   \n",
       "2020-09-22                                               0   \n",
       "2020-09-21                                               0   \n",
       "2020-09-20                                               0   \n",
       "2020-09-19                                               2   \n",
       "2020-09-18                                               1   \n",
       "2020-09-17                                               0   \n",
       "2020-09-16                                               0   \n",
       "2020-09-15                                               0   \n",
       "2020-09-14                                               0   \n",
       "\n",
       "                   Shared Diagnoses (Estimation)  \\\n",
       "Sample Date (UTC)                                  \n",
       "2020-10-04                                    37   \n",
       "2020-10-03                                    76   \n",
       "2020-10-02                                    72   \n",
       "2020-10-01                                    74   \n",
       "2020-09-30                                    51   \n",
       "2020-09-29                                    44   \n",
       "2020-09-28                                    54   \n",
       "2020-09-27                                   108   \n",
       "2020-09-26                                   110   \n",
       "2020-09-25                                    86   \n",
       "2020-09-24                                    89   \n",
       "2020-09-23                                    70   \n",
       "2020-09-22                                    55   \n",
       "2020-09-21                                    45   \n",
       "2020-09-20                                    45   \n",
       "2020-09-19                                    39   \n",
       "2020-09-18                                    52   \n",
       "2020-09-17                                    29   \n",
       "2020-09-16                                    23   \n",
       "2020-09-15                                    23   \n",
       "2020-09-14                                    28   \n",
       "\n",
       "                   TEKs Uploaded per Shared Diagnosis  \\\n",
       "Sample Date (UTC)                                       \n",
       "2020-10-04                                   2.702703   \n",
       "2020-10-03                                   4.263158   \n",
       "2020-10-02                                   4.152778   \n",
       "2020-10-01                                   4.959459   \n",
       "2020-09-30                                   5.313725   \n",
       "2020-09-29                                   4.045455   \n",
       "2020-09-28                                   3.907407   \n",
       "2020-09-27                                   4.157407   \n",
       "2020-09-26                                   4.072727   \n",
       "2020-09-25                                   3.558140   \n",
       "2020-09-24                                   3.247191   \n",
       "2020-09-23                                   3.814286   \n",
       "2020-09-22                                   2.690909   \n",
       "2020-09-21                                   4.222222   \n",
       "2020-09-20                                   2.577778   \n",
       "2020-09-19                                   2.307692   \n",
       "2020-09-18                                   2.653846   \n",
       "2020-09-17                                   2.172414   \n",
       "2020-09-16                                   2.695652   \n",
       "2020-09-15                                   2.521739   \n",
       "2020-09-14                                   2.178571   \n",
       "\n",
       "                   Usage Ratio (Fraction of Cases Which Shared Diagnosis)  \n",
       "Sample Date (UTC)                                                          \n",
       "2020-10-04                                                  0.003526       \n",
       "2020-10-03                                                  0.007243       \n",
       "2020-10-02                                                  0.006862       \n",
       "2020-10-01                                                  0.006963       \n",
       "2020-09-30                                                  0.004720       \n",
       "2020-09-29                                                  0.004667       \n",
       "2020-09-28                                                  0.004922       \n",
       "2020-09-27                                                  0.009890       \n",
       "2020-09-26                                                  0.010073       \n",
       "2020-09-25                                                  0.007875       \n",
       "2020-09-24                                                  0.007930       \n",
       "2020-09-23                                                  0.006187       \n",
       "2020-09-22                                                  0.004867       \n",
       "2020-09-21                                                  0.004052       \n",
       "2020-09-20                                                  0.004273       \n",
       "2020-09-19                                                  0.003703       \n",
       "2020-09-18                                                  0.004938       \n",
       "2020-09-17                                                  0.002839       \n",
       "2020-09-16                                                  0.002268       \n",
       "2020-09-15                                                  0.002345       \n",
       "2020-09-14                                                  0.002875       "
      ]
     },
     "execution_count": 46,
     "metadata": {},
     "output_type": "execute_result"
    }
   ],
   "source": [
    "result_summary_df_ = result_summary_df.copy()\n",
    "result_summary_df = result_summary_df[summary_columns]\n",
    "result_summary_with_display_names_df = result_summary_df \\\n",
    "    .rename_axis(index=display_column_name_mapping) \\\n",
    "    .rename(columns=display_column_name_mapping)\n",
    "result_summary_with_display_names_df"
   ]
  },
  {
   "cell_type": "markdown",
   "metadata": {
    "execution": {
     "iopub.execute_input": "2020-09-02T08:20:14.726751Z",
     "iopub.status.busy": "2020-09-02T08:20:14.726143Z",
     "iopub.status.idle": "2020-09-02T08:20:16.115081Z",
     "shell.execute_reply": "2020-09-02T08:20:16.115565Z"
    },
    "papermill": {
     "duration": 0.057217,
     "end_time": "2020-10-04T10:21:10.383023",
     "exception": false,
     "start_time": "2020-10-04T10:21:10.325806",
     "status": "completed"
    },
    "pycharm": {
     "name": "#%% md\n"
    },
    "scrolled": false,
    "tags": []
   },
   "source": [
    "### Daily Summary Plots"
   ]
  },
  {
   "cell_type": "code",
   "execution_count": 47,
   "metadata": {
    "execution": {
     "iopub.execute_input": "2020-10-04T10:21:10.520207Z",
     "iopub.status.busy": "2020-10-04T10:21:10.519603Z",
     "iopub.status.idle": "2020-10-04T10:21:11.969145Z",
     "shell.execute_reply": "2020-10-04T10:21:11.969622Z"
    },
    "papermill": {
     "duration": 1.528696,
     "end_time": "2020-10-04T10:21:11.969802",
     "exception": false,
     "start_time": "2020-10-04T10:21:10.441106",
     "status": "completed"
    },
    "pycharm": {
     "name": "#%%\n"
    },
    "tags": []
   },
   "outputs": [
    {
     "data": {
      "image/png": "[encoded data removed]",
      "text/plain": [
       "<Figure size 1080x1584 with 7 Axes>"
      ]
     },
     "metadata": {},
     "output_type": "display_data"
    }
   ],
   "source": [
    "result_plot_summary_df = result_summary_df.head(daily_plot_days)[summary_columns] \\\n",
    "    .rename_axis(index=display_column_name_mapping) \\\n",
    "    .rename(columns=display_column_name_mapping)\n",
    "summary_ax_list = result_plot_summary_df.sort_index(ascending=True).plot.bar(\n",
    "    title=f\"Daily Summary\",\n",
    "    rot=45, subplots=True, figsize=(15, 22), legend=False)\n",
    "ax_ = summary_ax_list[-1]\n",
    "ax_.get_figure().tight_layout()\n",
    "ax_.get_figure().subplots_adjust(top=0.95)\n",
    "ax_.yaxis.set_major_formatter(matplotlib.ticker.PercentFormatter(1.0))\n",
    "_ = ax_.set_xticklabels(sorted(result_plot_summary_df.index.strftime(\"%Y-%m-%d\").tolist()))"
   ]
  },
  {
   "cell_type": "markdown",
   "metadata": {
    "execution": {
     "iopub.execute_input": "2020-09-02T08:20:16.278300Z",
     "iopub.status.busy": "2020-09-02T08:20:16.277679Z",
     "iopub.status.idle": "2020-09-02T08:20:16.821909Z",
     "shell.execute_reply": "2020-09-02T08:20:16.822577Z"
    },
    "papermill": {
     "duration": 0.060022,
     "end_time": "2020-10-04T10:21:12.092375",
     "exception": false,
     "start_time": "2020-10-04T10:21:12.032353",
     "status": "completed"
    },
    "pycharm": {
     "name": "#%% md\n"
    },
    "tags": []
   },
   "source": [
    "### Hourly Summary Plots "
   ]
  },
  {
   "cell_type": "code",
   "execution_count": 48,
   "metadata": {
    "execution": {
     "iopub.execute_input": "2020-10-04T10:21:12.233098Z",
     "iopub.status.busy": "2020-10-04T10:21:12.232435Z",
     "iopub.status.idle": "2020-10-04T10:21:12.797937Z",
     "shell.execute_reply": "2020-10-04T10:21:12.798539Z"
    },
    "papermill": {
     "duration": 0.642055,
     "end_time": "2020-10-04T10:21:12.798714",
     "exception": false,
     "start_time": "2020-10-04T10:21:12.156659",
     "status": "completed"
    },
    "pycharm": {
     "name": "#%%\n"
    },
    "tags": []
   },
   "outputs": [
    {
     "data": {
      "image/png": "[encoded data removed]",
      "text/plain": [
       "<Figure size 1080x432 with 2 Axes>"
      ]
     },
     "metadata": {},
     "output_type": "display_data"
    }
   ],
   "source": [
    "hourly_summary_ax_list = hourly_summary_df \\\n",
    "    .rename_axis(index=display_column_name_mapping) \\\n",
    "    .rename(columns=display_column_name_mapping) \\\n",
    "    .plot.bar(\n",
    "        title=f\"Last 24h Summary\",\n",
    "        rot=45, subplots=True, legend=False)\n",
    "ax_ = hourly_summary_ax_list[-1]\n",
    "ax_.get_figure().tight_layout()\n",
    "ax_.get_figure().subplots_adjust(top=0.9)\n",
    "_ = ax_.set_xticklabels(sorted(hourly_summary_df.index.strftime(\"%Y-%m-%d@%H\").tolist()))"
   ]
  },
  {
   "cell_type": "markdown",
   "metadata": {
    "execution": {
     "iopub.execute_input": "2020-09-02T08:20:16.981187Z",
     "iopub.status.busy": "2020-09-02T08:20:16.980584Z",
     "iopub.status.idle": "2020-09-02T08:20:20.068070Z",
     "shell.execute_reply": "2020-09-02T08:20:20.068598Z"
    },
    "papermill": {
     "duration": 0.061016,
     "end_time": "2020-10-04T10:21:12.923126",
     "exception": false,
     "start_time": "2020-10-04T10:21:12.862110",
     "status": "completed"
    },
    "pycharm": {
     "name": "#%% md\n"
    },
    "tags": []
   },
   "source": [
    "### Publish Results"
   ]
  },
  {
   "cell_type": "code",
   "execution_count": 49,
   "metadata": {
    "collapsed": false,
    "execution": {
     "iopub.execute_input": "2020-10-04T10:21:13.051844Z",
     "iopub.status.busy": "2020-10-04T10:21:13.050517Z",
     "iopub.status.idle": "2020-10-04T10:21:13.052517Z",
     "shell.execute_reply": "2020-10-04T10:21:13.053047Z"
    },
    "papermill": {
     "duration": 0.069684,
     "end_time": "2020-10-04T10:21:13.053205",
     "exception": false,
     "start_time": "2020-10-04T10:21:12.983521",
     "status": "completed"
    },
    "pycharm": {
     "name": "#%%\n"
    },
    "tags": []
   },
   "outputs": [],
   "source": [
    "def get_temporary_image_path() -> str:\n",
    "    return os.path.join(tempfile.gettempdir(), str(uuid.uuid4()) + \".png\")\n",
    "\n",
    "def save_temporary_plot_image(ax):\n",
    "    if isinstance(ax, np.ndarray):\n",
    "        ax = ax[0]\n",
    "    media_path = get_temporary_image_path()\n",
    "    ax.get_figure().savefig(media_path)\n",
    "    return media_path\n",
    "\n",
    "def save_temporary_dataframe_image(df):\n",
    "    import dataframe_image as dfi\n",
    "    media_path = get_temporary_image_path()\n",
    "    dfi.export(df, media_path)\n",
    "    return media_path"
   ]
  },
  {
   "cell_type": "code",
   "execution_count": 50,
   "metadata": {
    "collapsed": false,
    "execution": {
     "iopub.execute_input": "2020-10-04T10:21:13.196975Z",
     "iopub.status.busy": "2020-10-04T10:21:13.196303Z",
     "iopub.status.idle": "2020-10-04T10:21:13.199488Z",
     "shell.execute_reply": "2020-10-04T10:21:13.198654Z"
    },
    "papermill": {
     "duration": 0.083665,
     "end_time": "2020-10-04T10:21:13.199625",
     "exception": false,
     "start_time": "2020-10-04T10:21:13.115960",
     "status": "completed"
    },
    "pycharm": {
     "name": "#%%\n"
    },
    "tags": []
   },
   "outputs": [],
   "source": [
    "github_repository = os.environ.get(\"GITHUB_REPOSITORY\")\n",
    "if github_repository is None:\n",
    "    github_repository = \"pvieito/Radar-STATS\"\n",
    "\n",
    "github_project_base_url = \"https://github.com/\" + github_repository\n",
    "\n",
    "daily_summary_table_html = result_summary_with_display_names_df \\\n",
    "    .head(daily_plot_days) \\\n",
    "    .rename_axis(index=display_column_name_mapping) \\\n",
    "    .rename(columns=display_column_name_mapping) \\\n",
    "    .to_html(\n",
    "        formatters={\n",
    "            display_column_name_mapping[\"teks_per_shared_diagnosis\"]: lambda x: f\"{x:.2f}\",\n",
    "            display_column_name_mapping[\"shared_diagnoses_per_covid_case\"]: lambda x: f\"{x:.2%}\",\n",
    "        })\n",
    "\n",
    "extraction_date_result_summary_df = \\\n",
    "    result_summary_df[result_summary_df.index == extraction_date]\n",
    "extraction_date_result_hourly_summary_df = \\\n",
    "    hourly_summary_df[hourly_summary_df.extraction_date_with_hour == extraction_date_with_hour]\n",
    "\n",
    "covid_cases = \\\n",
    "    extraction_date_result_summary_df.covid_cases.sum()\n",
    "shared_teks_by_generation_date = \\\n",
    "    extraction_date_result_summary_df.shared_teks_by_generation_date.sum()\n",
    "shared_teks_by_upload_date = \\\n",
    "    extraction_date_result_summary_df.shared_teks_by_upload_date.sum()\n",
    "shared_diagnoses = \\\n",
    "    extraction_date_result_summary_df.shared_diagnoses.sum()\n",
    "teks_per_shared_diagnosis = \\\n",
    "    extraction_date_result_summary_df.teks_per_shared_diagnosis.sum()\n",
    "shared_diagnoses_per_covid_case = \\\n",
    "    extraction_date_result_summary_df.shared_diagnoses_per_covid_case.sum()\n",
    "\n",
    "shared_teks_by_upload_date_last_hour = \\\n",
    "    extraction_date_result_hourly_summary_df.shared_teks_by_upload_date.sum().astype(int)\n",
    "shared_diagnoses_last_hour = \\\n",
    "    extraction_date_result_hourly_summary_df.shared_diagnoses.sum().astype(int)"
   ]
  },
  {
   "cell_type": "code",
   "execution_count": 51,
   "metadata": {
    "execution": {
     "iopub.execute_input": "2020-10-04T10:21:13.337387Z",
     "iopub.status.busy": "2020-10-04T10:21:13.336765Z",
     "iopub.status.idle": "2020-10-04T10:21:24.528700Z",
     "shell.execute_reply": "2020-10-04T10:21:24.529220Z"
    },
    "papermill": {
     "duration": 11.267685,
     "end_time": "2020-10-04T10:21:24.529406",
     "exception": false,
     "start_time": "2020-10-04T10:21:13.261721",
     "status": "completed"
    },
    "pycharm": {
     "name": "#%%\n"
    },
    "tags": []
   },
   "outputs": [],
   "source": [
    "summary_plots_image_path = save_temporary_plot_image(\n",
    "    ax=summary_ax_list)\n",
    "summary_table_image_path = save_temporary_dataframe_image(\n",
    "    df=result_summary_with_display_names_df)\n",
    "hourly_summary_plots_image_path = save_temporary_plot_image(\n",
    "    ax=hourly_summary_ax_list)\n",
    "multi_region_summary_table_image_path = save_temporary_dataframe_image(\n",
    "    df=multi_region_summary_df)"
   ]
  },
  {
   "cell_type": "markdown",
   "metadata": {
    "execution": {
     "iopub.execute_input": "2020-09-02T08:20:20.895901Z",
     "iopub.status.busy": "2020-09-02T08:20:20.895301Z",
     "iopub.status.idle": "2020-09-02T08:20:20.942286Z",
     "shell.execute_reply": "2020-09-02T08:20:20.942834Z"
    },
    "papermill": {
     "duration": 0.06005,
     "end_time": "2020-10-04T10:21:24.651641",
     "exception": false,
     "start_time": "2020-10-04T10:21:24.591591",
     "status": "completed"
    },
    "pycharm": {
     "name": "#%% md\n"
    },
    "tags": []
   },
   "source": [
    "### Save Results"
   ]
  },
  {
   "cell_type": "code",
   "execution_count": 52,
   "metadata": {
    "collapsed": false,
    "execution": {
     "iopub.execute_input": "2020-10-04T10:21:24.779702Z",
     "iopub.status.busy": "2020-10-04T10:21:24.779077Z",
     "iopub.status.idle": "2020-10-04T10:21:24.794438Z",
     "shell.execute_reply": "2020-10-04T10:21:24.792690Z"
    },
    "papermill": {
     "duration": 0.082381,
     "end_time": "2020-10-04T10:21:24.794580",
     "exception": false,
     "start_time": "2020-10-04T10:21:24.712199",
     "status": "completed"
    },
    "pycharm": {
     "name": "#%%\n"
    },
    "tags": []
   },
   "outputs": [],
   "source": [
    "report_resources_path_prefix = \"Data/Resources/Current/RadarCOVID-Report-\"\n",
    "result_summary_df.to_csv(report_resources_path_prefix + \"Summary-Table.csv\")\n",
    "result_summary_df.to_html(report_resources_path_prefix + \"Summary-Table.html\")\n",
    "hourly_summary_df.to_csv(report_resources_path_prefix + \"Hourly-Summary-Table.csv\")\n",
    "multi_region_summary_df.to_csv(report_resources_path_prefix + \"Multi-Region-Summary-Table.csv\")\n",
    "_ = shutil.copyfile(summary_plots_image_path, report_resources_path_prefix + \"Summary-Plots.png\")\n",
    "_ = shutil.copyfile(summary_table_image_path, report_resources_path_prefix + \"Summary-Table.png\")\n",
    "_ = shutil.copyfile(hourly_summary_plots_image_path, report_resources_path_prefix + \"Hourly-Summary-Plots.png\")\n",
    "_ = shutil.copyfile(multi_region_summary_table_image_path, report_resources_path_prefix + \"Multi-Region-Summary-Table.png\")"
   ]
  },
  {
   "cell_type": "markdown",
   "metadata": {
    "collapsed": false,
    "papermill": {
     "duration": 0.061008,
     "end_time": "2020-10-04T10:21:24.923340",
     "exception": false,
     "start_time": "2020-10-04T10:21:24.862332",
     "status": "completed"
    },
    "pycharm": {
     "name": "#%% md\n"
    },
    "tags": []
   },
   "source": [
    "### Publish Results as JSON"
   ]
  },
  {
   "cell_type": "code",
   "execution_count": 53,
   "metadata": {
    "collapsed": false,
    "execution": {
     "iopub.execute_input": "2020-10-04T10:21:25.061051Z",
     "iopub.status.busy": "2020-10-04T10:21:25.060378Z",
     "iopub.status.idle": "2020-10-04T10:21:25.063915Z",
     "shell.execute_reply": "2020-10-04T10:21:25.063361Z"
    },
    "papermill": {
     "duration": 0.079568,
     "end_time": "2020-10-04T10:21:25.064047",
     "exception": false,
     "start_time": "2020-10-04T10:21:24.984479",
     "status": "completed"
    },
    "pycharm": {
     "name": "#%%\n"
    },
    "tags": []
   },
   "outputs": [],
   "source": [
    "summary_results_api_df = result_summary_df.reset_index()\n",
    "summary_results_api_df[\"sample_date_string\"] = \\\n",
    "    summary_results_api_df[\"sample_date\"].dt.strftime(\"%Y-%m-%d\")\n",
    "\n",
    "summary_results = dict(\n",
    "    extraction_datetime=extraction_datetime,\n",
    "    extraction_date=extraction_date,\n",
    "    extraction_date_with_hour=extraction_date_with_hour,\n",
    "    last_hour=dict(\n",
    "        shared_teks_by_upload_date=shared_teks_by_upload_date_last_hour,\n",
    "        shared_diagnoses=shared_diagnoses_last_hour,\n",
    "    ),\n",
    "    today=dict(\n",
    "        covid_cases=covid_cases,\n",
    "        shared_teks_by_generation_date=shared_teks_by_generation_date,\n",
    "        shared_teks_by_upload_date=shared_teks_by_upload_date,\n",
    "        shared_diagnoses=shared_diagnoses,\n",
    "        teks_per_shared_diagnosis=teks_per_shared_diagnosis,\n",
    "        shared_diagnoses_per_covid_case=shared_diagnoses_per_covid_case,\n",
    "    ),\n",
    "    last_7_days=last_7_days_summary,\n",
    "    daily_results=summary_results_api_df.to_dict(orient=\"records\"))\n",
    "summary_results = \\\n",
    "    json.loads(pd.Series([summary_results]).to_json(orient=\"records\"))[0]\n",
    "\n",
    "with open(report_resources_path_prefix + \"Summary-Results.json\", \"w\") as f:\n",
    "    json.dump(summary_results, f, indent=4)"
   ]
  },
  {
   "cell_type": "markdown",
   "metadata": {
    "collapsed": false,
    "papermill": {
     "duration": 0.062216,
     "end_time": "2020-10-04T10:21:25.188118",
     "exception": false,
     "start_time": "2020-10-04T10:21:25.125902",
     "status": "completed"
    },
    "pycharm": {
     "name": "#%% md\n"
    },
    "tags": []
   },
   "source": [
    "### Publish on README"
   ]
  },
  {
   "cell_type": "code",
   "execution_count": 54,
   "metadata": {
    "collapsed": false,
    "execution": {
     "iopub.execute_input": "2020-10-04T10:21:25.316675Z",
     "iopub.status.busy": "2020-10-04T10:21:25.316039Z",
     "iopub.status.idle": "2020-10-04T10:21:25.319446Z",
     "shell.execute_reply": "2020-10-04T10:21:25.318916Z"
    },
    "papermill": {
     "duration": 0.069558,
     "end_time": "2020-10-04T10:21:25.319579",
     "exception": false,
     "start_time": "2020-10-04T10:21:25.250021",
     "status": "completed"
    },
    "pycharm": {
     "name": "#%%\n"
    },
    "tags": []
   },
   "outputs": [],
   "source": [
    "with open(\"Data/Templates/README.md\", \"r\") as f:\n",
    "    readme_contents = f.read()\n",
    "\n",
    "readme_contents = readme_contents.format(\n",
    "    github_project_base_url=github_project_base_url,\n",
    "    daily_summary_table_html=daily_summary_table_html,\n",
    "    extraction_date_with_hour=extraction_date_with_hour)\n",
    "\n",
    "with open(\"README.md\", \"w\") as f:\n",
    "    f.write(readme_contents)"
   ]
  },
  {
   "cell_type": "markdown",
   "metadata": {
    "collapsed": false,
    "papermill": {
     "duration": 0.061046,
     "end_time": "2020-10-04T10:21:25.444988",
     "exception": false,
     "start_time": "2020-10-04T10:21:25.383942",
     "status": "completed"
    },
    "pycharm": {
     "name": "#%% md\n"
    },
    "tags": []
   },
   "source": [
    "### Publish on Twitter"
   ]
  },
  {
   "cell_type": "code",
   "execution_count": 55,
   "metadata": {
    "collapsed": false,
    "execution": {
     "iopub.execute_input": "2020-10-04T10:21:25.576399Z",
     "iopub.status.busy": "2020-10-04T10:21:25.575757Z",
     "iopub.status.idle": "2020-10-04T10:21:29.151189Z",
     "shell.execute_reply": "2020-10-04T10:21:29.150047Z"
    },
    "papermill": {
     "duration": 3.644828,
     "end_time": "2020-10-04T10:21:29.151353",
     "exception": false,
     "start_time": "2020-10-04T10:21:25.506525",
     "status": "completed"
    },
    "pycharm": {
     "name": "#%%\n"
    },
    "tags": []
   },
   "outputs": [],
   "source": [
    "enable_share_to_twitter = os.environ.get(\"RADARCOVID_REPORT__ENABLE_PUBLISH_ON_TWITTER\")\n",
    "github_event_name = os.environ.get(\"GITHUB_EVENT_NAME\")\n",
    "\n",
    "if enable_share_to_twitter and github_event_name == \"schedule\":\n",
    "    import tweepy\n",
    "\n",
    "    twitter_api_auth_keys = os.environ[\"RADARCOVID_REPORT__TWITTER_API_AUTH_KEYS\"]\n",
    "    twitter_api_auth_keys = twitter_api_auth_keys.split(\":\")\n",
    "    auth = tweepy.OAuthHandler(twitter_api_auth_keys[0], twitter_api_auth_keys[1])\n",
    "    auth.set_access_token(twitter_api_auth_keys[2], twitter_api_auth_keys[3])\n",
    "\n",
    "    api = tweepy.API(auth)\n",
    "\n",
    "    summary_plots_media = api.media_upload(summary_plots_image_path)\n",
    "    summary_table_media = api.media_upload(summary_table_image_path)\n",
    "    hourly_summary_plots_media = api.media_upload(hourly_summary_plots_image_path)\n",
    "    media_ids = [\n",
    "        summary_plots_media.media_id,\n",
    "        summary_table_media.media_id,\n",
    "        hourly_summary_plots_media.media_id,\n",
    "    ]\n",
    "\n",
    "    status = textwrap.dedent(f\"\"\"\n",
    "        #RadarCOVID Report – {extraction_date_with_hour}\n",
    "\n",
    "        Today:\n",
    "        - Uploaded TEKs: {shared_teks_by_upload_date:.0f} ({shared_teks_by_upload_date_last_hour:+d} last hour)\n",
    "        - Shared Diagnoses: ≤{shared_diagnoses:.0f} ({shared_diagnoses_last_hour:+d} last hour)\n",
    "        - TEKs per Diagnosis: ≥{teks_per_shared_diagnosis:.1f}\n",
    "        - Usage Ratio: ≤{shared_diagnoses_per_covid_case:.2%}\n",
    "\n",
    "        Week:\n",
    "        - Shared Diagnoses: ≤{last_7_days_summary[\"shared_diagnoses\"]:.0f}\n",
    "        - Usage Ratio: ≤{last_7_days_summary[\"shared_diagnoses_per_covid_case\"]:.2%}\n",
    "\n",
    "        More Info: {github_project_base_url}#documentation\n",
    "        \"\"\")\n",
    "    status = status.encode(encoding=\"utf-8\")\n",
    "    api.update_status(status=status, media_ids=media_ids)"
   ]
  }
 ],
 "metadata": {
  "kernelspec": {
   "display_name": "Python 3",
   "language": "python",
   "name": "python3"
  },
  "language_info": {
   "codemirror_mode": {
    "name": "ipython",
    "version": 3
   },
   "file_extension": ".py",
   "mimetype": "text/x-python",
   "name": "python",
   "nbconvert_exporter": "python",
   "pygments_lexer": "ipython3",
   "version": "3.8.5"
  },
  "papermill": {
   "duration": 33.927497,
   "end_time": "2020-10-04T10:21:29.723665",
   "environment_variables": {},
   "exception": null,
   "input_path": "Notebooks/RadarCOVID-Report/Source/RadarCOVID-Report.ipynb",
   "output_path": "RadarCOVID-Report.ipynb",
   "parameters": {},
   "start_time": "2020-10-04T10:20:55.796168",
   "version": "2.1.3"
  }
 },
 "nbformat": 4,
 "nbformat_minor": 1
}