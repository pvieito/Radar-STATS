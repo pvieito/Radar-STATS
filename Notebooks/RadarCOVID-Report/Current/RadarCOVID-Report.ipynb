{
 "cells": [
  {
   "cell_type": "markdown",
   "metadata": {
    "papermill": {
     "duration": 0.039939,
     "end_time": "2020-10-23T23:23:00.219590",
     "exception": false,
     "start_time": "2020-10-23T23:23:00.179651",
     "status": "completed"
    },
    "pycharm": {
     "name": "#%% md\n"
    },
    "tags": []
   },
   "source": [
    "# RadarCOVID-Report"
   ]
  },
  {
   "cell_type": "markdown",
   "metadata": {
    "collapsed": true,
    "papermill": {
     "duration": 0.035921,
     "end_time": "2020-10-23T23:23:00.291942",
     "exception": false,
     "start_time": "2020-10-23T23:23:00.256021",
     "status": "completed"
    },
    "pycharm": {
     "name": "#%% md\n"
    },
    "tags": []
   },
   "source": [
    "## Data Extraction"
   ]
  },
  {
   "cell_type": "code",
   "execution_count": 1,
   "metadata": {
    "execution": {
     "iopub.execute_input": "2020-10-23T23:23:00.372648Z",
     "iopub.status.busy": "2020-10-23T23:23:00.372120Z",
     "iopub.status.idle": "2020-10-23T23:23:03.341773Z",
     "shell.execute_reply": "2020-10-23T23:23:03.341194Z"
    },
    "papermill": {
     "duration": 3.014313,
     "end_time": "2020-10-23T23:23:03.341956",
     "exception": false,
     "start_time": "2020-10-23T23:23:00.327643",
     "status": "completed"
    },
    "pycharm": {
     "name": "#%%\n"
    },
    "tags": []
   },
   "outputs": [],
   "source": [
    "import datetime\n",
    "import json\n",
    "import logging\n",
    "import os\n",
    "import shutil\n",
    "import tempfile\n",
    "import textwrap\n",
    "import uuid\n",
    "\n",
    "import matplotlib.ticker\n",
    "import numpy as np\n",
    "import pandas as pd\n",
    "import seaborn as sns\n",
    "\n",
    "%matplotlib inline"
   ]
  },
  {
   "cell_type": "code",
   "execution_count": 2,
   "metadata": {
    "collapsed": false,
    "execution": {
     "iopub.execute_input": "2020-10-23T23:23:03.434588Z",
     "iopub.status.busy": "2020-10-23T23:23:03.434066Z",
     "iopub.status.idle": "2020-10-23T23:23:03.436432Z",
     "shell.execute_reply": "2020-10-23T23:23:03.435872Z"
    },
    "papermill": {
     "duration": 0.049894,
     "end_time": "2020-10-23T23:23:03.436566",
     "exception": false,
     "start_time": "2020-10-23T23:23:03.386672",
     "status": "completed"
    },
    "pycharm": {
     "name": "#%%\n"
    },
    "tags": []
   },
   "outputs": [],
   "source": [
    "current_working_directory = os.environ.get(\"PWD\")\n",
    "if current_working_directory:\n",
    "    os.chdir(current_working_directory)\n",
    "\n",
    "sns.set()\n",
    "matplotlib.rcParams[\"figure.figsize\"] = (15, 6)\n",
    "\n",
    "extraction_datetime = datetime.datetime.utcnow()\n",
    "extraction_date = extraction_datetime.strftime(\"%Y-%m-%d\")\n",
    "extraction_previous_datetime = extraction_datetime - datetime.timedelta(days=1)\n",
    "extraction_previous_date = extraction_previous_datetime.strftime(\"%Y-%m-%d\")\n",
    "extraction_date_with_hour = datetime.datetime.utcnow().strftime(\"%Y-%m-%d@%H\")"
   ]
  },
  {
   "cell_type": "markdown",
   "metadata": {
    "collapsed": false,
    "papermill": {
     "duration": 0.038433,
     "end_time": "2020-10-23T23:23:03.513818",
     "exception": false,
     "start_time": "2020-10-23T23:23:03.475385",
     "status": "completed"
    },
    "tags": []
   },
   "source": [
    "### Constants"
   ]
  },
  {
   "cell_type": "code",
   "execution_count": 3,
   "metadata": {
    "execution": {
     "iopub.execute_input": "2020-10-23T23:23:03.594577Z",
     "iopub.status.busy": "2020-10-23T23:23:03.593997Z",
     "iopub.status.idle": "2020-10-23T23:23:04.743400Z",
     "shell.execute_reply": "2020-10-23T23:23:04.742297Z"
    },
    "papermill": {
     "duration": 1.192239,
     "end_time": "2020-10-23T23:23:04.743543",
     "exception": false,
     "start_time": "2020-10-23T23:23:03.551304",
     "status": "completed"
    },
    "pycharm": {
     "name": "#%%\n"
    },
    "tags": []
   },
   "outputs": [],
   "source": [
    "from Modules.ExposureNotification import exposure_notification_io\n",
    "\n",
    "spain_region_country_code = \"ES\"\n",
    "germany_region_country_code = \"DE\"\n",
    "\n",
    "default_backend_identifier = spain_region_country_code\n",
    "\n",
    "efgs_supported_countries_backend_identifier = germany_region_country_code\n",
    "efgs_supported_countries_backend_client = \\\n",
    "    exposure_notification_io.get_backend_client_with_identifier(\n",
    "        backend_identifier=efgs_supported_countries_backend_identifier)\n",
    "efgs_source_regions = efgs_supported_countries_backend_client.get_supported_countries()\n",
    "if spain_region_country_code in efgs_source_regions:\n",
    "    default_source_regions = \",\".join(efgs_source_regions)\n",
    "else:\n",
    "    default_source_regions = spain_region_country_code\n",
    "\n",
    "backend_generation_days = 7 * 2\n",
    "daily_summary_days = 7 * 4 * 3\n",
    "daily_plot_days = 7 * 4\n",
    "tek_dumps_load_limit = daily_summary_days + 1"
   ]
  },
  {
   "cell_type": "markdown",
   "metadata": {
    "collapsed": false,
    "papermill": {
     "duration": 0.03102,
     "end_time": "2020-10-23T23:23:04.810091",
     "exception": false,
     "start_time": "2020-10-23T23:23:04.779071",
     "status": "completed"
    },
    "tags": []
   },
   "source": [
    "### Parameters"
   ]
  },
  {
   "cell_type": "code",
   "execution_count": 4,
   "metadata": {
    "collapsed": false,
    "execution": {
     "iopub.execute_input": "2020-10-23T23:23:04.888988Z",
     "iopub.status.busy": "2020-10-23T23:23:04.888456Z",
     "iopub.status.idle": "2020-10-23T23:23:04.891681Z",
     "shell.execute_reply": "2020-10-23T23:23:04.892111Z"
    },
    "papermill": {
     "duration": 0.04987,
     "end_time": "2020-10-23T23:23:04.892257",
     "exception": false,
     "start_time": "2020-10-23T23:23:04.842387",
     "status": "completed"
    },
    "pycharm": {
     "name": "#%%\n"
    },
    "tags": []
   },
   "outputs": [
    {
     "data": {
      "text/plain": [
       "{'report_backend_identifier': 'ES', 'report_source_regions': ['ES']}"
      ]
     },
     "execution_count": 4,
     "metadata": {},
     "output_type": "execute_result"
    }
   ],
   "source": [
    "environment_backend_identifier = os.environ.get(\"RADARCOVID_REPORT__BACKEND_IDENTIFIER\")\n",
    "if environment_backend_identifier:\n",
    "    report_backend_identifier = environment_backend_identifier\n",
    "else:\n",
    "    report_backend_identifier = default_backend_identifier\n",
    "\n",
    "environment_source_regions = os.environ.get(\"RADARCOVID_REPORT__SOURCE_REGIONS\")\n",
    "if environment_source_regions:\n",
    "    report_source_regions = environment_source_regions\n",
    "else:\n",
    "    report_source_regions = default_source_regions\n",
    "report_source_regions = report_source_regions.split(\",\")\n",
    "\n",
    "dict(\n",
    "    report_backend_identifier=report_backend_identifier,\n",
    "    report_source_regions=report_source_regions,\n",
    ")"
   ]
  },
  {
   "cell_type": "markdown",
   "metadata": {
    "collapsed": false,
    "papermill": {
     "duration": 0.035444,
     "end_time": "2020-10-23T23:23:04.963298",
     "exception": false,
     "start_time": "2020-10-23T23:23:04.927854",
     "status": "completed"
    },
    "pycharm": {
     "name": "#%% md\n"
    },
    "tags": []
   },
   "source": [
    "### COVID-19 Cases"
   ]
  },
  {
   "cell_type": "code",
   "execution_count": 5,
   "metadata": {
    "collapsed": false,
    "execution": {
     "iopub.execute_input": "2020-10-23T23:23:05.041489Z",
     "iopub.status.busy": "2020-10-23T23:23:05.040381Z",
     "iopub.status.idle": "2020-10-23T23:23:16.840151Z",
     "shell.execute_reply": "2020-10-23T23:23:16.839359Z"
    },
    "papermill": {
     "duration": 11.843936,
     "end_time": "2020-10-23T23:23:16.840367",
     "exception": false,
     "start_time": "2020-10-23T23:23:04.996431",
     "status": "completed"
    },
    "pycharm": {
     "name": "#%%\n"
    },
    "tags": []
   },
   "outputs": [
    {
     "data": {
      "text/html": [
       "<div>\n",
       "<style scoped>\n",
       "    .dataframe tbody tr th:only-of-type {\n",
       "        vertical-align: middle;\n",
       "    }\n",
       "\n",
       "    .dataframe tbody tr th {\n",
       "        vertical-align: top;\n",
       "    }\n",
       "\n",
       "    .dataframe thead th {\n",
       "        text-align: right;\n",
       "    }\n",
       "</style>\n",
       "<table border=\"1\" class=\"dataframe\">\n",
       "  <thead>\n",
       "    <tr style=\"text-align: right;\">\n",
       "      <th></th>\n",
       "      <th>dateRep</th>\n",
       "      <th>cases</th>\n",
       "    </tr>\n",
       "  </thead>\n",
       "  <tbody>\n",
       "    <tr>\n",
       "      <th>292</th>\n",
       "      <td>2020-10-18</td>\n",
       "      <td>0</td>\n",
       "    </tr>\n",
       "    <tr>\n",
       "      <th>293</th>\n",
       "      <td>2020-10-19</td>\n",
       "      <td>37889</td>\n",
       "    </tr>\n",
       "    <tr>\n",
       "      <th>294</th>\n",
       "      <td>2020-10-20</td>\n",
       "      <td>13873</td>\n",
       "    </tr>\n",
       "    <tr>\n",
       "      <th>295</th>\n",
       "      <td>2020-10-21</td>\n",
       "      <td>16973</td>\n",
       "    </tr>\n",
       "    <tr>\n",
       "      <th>296</th>\n",
       "      <td>2020-10-22</td>\n",
       "      <td>20986</td>\n",
       "    </tr>\n",
       "  </tbody>\n",
       "</table>\n",
       "</div>"
      ],
      "text/plain": [
       "        dateRep  cases\n",
       "292  2020-10-18      0\n",
       "293  2020-10-19  37889\n",
       "294  2020-10-20  13873\n",
       "295  2020-10-21  16973\n",
       "296  2020-10-22  20986"
      ]
     },
     "execution_count": 5,
     "metadata": {},
     "output_type": "execute_result"
    }
   ],
   "source": [
    "confirmed_df = pd.read_csv(\"https://opendata.ecdc.europa.eu/covid19/casedistribution/csv/data.csv\")\n",
    "\n",
    "radar_covid_countries = set(report_source_regions)\n",
    "\n",
    "confirmed_df = confirmed_df[[\"dateRep\", \"cases\", \"geoId\"]]\n",
    "confirmed_df[\"dateRep\"] = pd.to_datetime(confirmed_df.dateRep, dayfirst=True).dt.strftime(\"%Y-%m-%d\")\n",
    "confirmed_df = confirmed_df[confirmed_df.geoId.isin(radar_covid_countries)]\n",
    "confirmed_df = confirmed_df.groupby(\"dateRep\").cases.sum().reset_index()\n",
    "confirmed_df.sort_values(\"dateRep\", inplace=True)\n",
    "confirmed_df.tail()"
   ]
  },
  {
   "cell_type": "code",
   "execution_count": 6,
   "metadata": {
    "collapsed": false,
    "execution": {
     "iopub.execute_input": "2020-10-23T23:23:16.923896Z",
     "iopub.status.busy": "2020-10-23T23:23:16.923371Z",
     "iopub.status.idle": "2020-10-23T23:23:16.926587Z",
     "shell.execute_reply": "2020-10-23T23:23:16.926156Z"
    },
    "papermill": {
     "duration": 0.048692,
     "end_time": "2020-10-23T23:23:16.926703",
     "exception": false,
     "start_time": "2020-10-23T23:23:16.878011",
     "status": "completed"
    },
    "pycharm": {
     "name": "#%%\n"
    },
    "tags": []
   },
   "outputs": [
    {
     "data": {
      "text/html": [
       "<div>\n",
       "<style scoped>\n",
       "    .dataframe tbody tr th:only-of-type {\n",
       "        vertical-align: middle;\n",
       "    }\n",
       "\n",
       "    .dataframe tbody tr th {\n",
       "        vertical-align: top;\n",
       "    }\n",
       "\n",
       "    .dataframe thead th {\n",
       "        text-align: right;\n",
       "    }\n",
       "</style>\n",
       "<table border=\"1\" class=\"dataframe\">\n",
       "  <thead>\n",
       "    <tr style=\"text-align: right;\">\n",
       "      <th></th>\n",
       "      <th>sample_date_string</th>\n",
       "      <th>new_cases</th>\n",
       "      <th>covid_cases</th>\n",
       "    </tr>\n",
       "  </thead>\n",
       "  <tbody>\n",
       "    <tr>\n",
       "      <th>292</th>\n",
       "      <td>2020-10-18</td>\n",
       "      <td>0</td>\n",
       "      <td>10778.0</td>\n",
       "    </tr>\n",
       "    <tr>\n",
       "      <th>293</th>\n",
       "      <td>2020-10-19</td>\n",
       "      <td>37889</td>\n",
       "      <td>12212.0</td>\n",
       "    </tr>\n",
       "    <tr>\n",
       "      <th>294</th>\n",
       "      <td>2020-10-20</td>\n",
       "      <td>13873</td>\n",
       "      <td>13177.0</td>\n",
       "    </tr>\n",
       "    <tr>\n",
       "      <th>295</th>\n",
       "      <td>2020-10-21</td>\n",
       "      <td>16973</td>\n",
       "      <td>13891.0</td>\n",
       "    </tr>\n",
       "    <tr>\n",
       "      <th>296</th>\n",
       "      <td>2020-10-22</td>\n",
       "      <td>20986</td>\n",
       "      <td>14987.0</td>\n",
       "    </tr>\n",
       "  </tbody>\n",
       "</table>\n",
       "</div>"
      ],
      "text/plain": [
       "    sample_date_string  new_cases  covid_cases\n",
       "292         2020-10-18          0      10778.0\n",
       "293         2020-10-19      37889      12212.0\n",
       "294         2020-10-20      13873      13177.0\n",
       "295         2020-10-21      16973      13891.0\n",
       "296         2020-10-22      20986      14987.0"
      ]
     },
     "execution_count": 6,
     "metadata": {},
     "output_type": "execute_result"
    }
   ],
   "source": [
    "confirmed_df.columns = [\"sample_date_string\", \"new_cases\"]\n",
    "confirmed_df.sort_values(\"sample_date_string\", inplace=True)\n",
    "confirmed_df[\"covid_cases\"] = confirmed_df.new_cases.rolling(7).mean().round()\n",
    "confirmed_df.tail()"
   ]
  },
  {
   "cell_type": "code",
   "execution_count": 7,
   "metadata": {
    "execution": {
     "iopub.execute_input": "2020-10-23T23:23:17.007320Z",
     "iopub.status.busy": "2020-10-23T23:23:17.006810Z",
     "iopub.status.idle": "2020-10-23T23:23:17.015829Z",
     "shell.execute_reply": "2020-10-23T23:23:17.015364Z"
    },
    "papermill": {
     "duration": 0.052978,
     "end_time": "2020-10-23T23:23:17.015954",
     "exception": false,
     "start_time": "2020-10-23T23:23:16.962976",
     "status": "completed"
    },
    "pycharm": {
     "name": "#%%\n"
    },
    "tags": []
   },
   "outputs": [
    {
     "data": {
      "text/html": [
       "<div>\n",
       "<style scoped>\n",
       "    .dataframe tbody tr th:only-of-type {\n",
       "        vertical-align: middle;\n",
       "    }\n",
       "\n",
       "    .dataframe tbody tr th {\n",
       "        vertical-align: top;\n",
       "    }\n",
       "\n",
       "    .dataframe thead th {\n",
       "        text-align: right;\n",
       "    }\n",
       "</style>\n",
       "<table border=\"1\" class=\"dataframe\">\n",
       "  <thead>\n",
       "    <tr style=\"text-align: right;\">\n",
       "      <th></th>\n",
       "      <th>sample_date_string</th>\n",
       "      <th>new_cases</th>\n",
       "      <th>covid_cases</th>\n",
       "    </tr>\n",
       "  </thead>\n",
       "  <tbody>\n",
       "    <tr>\n",
       "      <th>293</th>\n",
       "      <td>2020-10-19</td>\n",
       "      <td>37889.0</td>\n",
       "      <td>12212</td>\n",
       "    </tr>\n",
       "    <tr>\n",
       "      <th>294</th>\n",
       "      <td>2020-10-20</td>\n",
       "      <td>13873.0</td>\n",
       "      <td>13177</td>\n",
       "    </tr>\n",
       "    <tr>\n",
       "      <th>295</th>\n",
       "      <td>2020-10-21</td>\n",
       "      <td>16973.0</td>\n",
       "      <td>13891</td>\n",
       "    </tr>\n",
       "    <tr>\n",
       "      <th>296</th>\n",
       "      <td>2020-10-22</td>\n",
       "      <td>20986.0</td>\n",
       "      <td>14987</td>\n",
       "    </tr>\n",
       "    <tr>\n",
       "      <th>296</th>\n",
       "      <td>2020-10-23</td>\n",
       "      <td>14987.0</td>\n",
       "      <td>14987</td>\n",
       "    </tr>\n",
       "  </tbody>\n",
       "</table>\n",
       "</div>"
      ],
      "text/plain": [
       "    sample_date_string  new_cases  covid_cases\n",
       "293         2020-10-19    37889.0        12212\n",
       "294         2020-10-20    13873.0        13177\n",
       "295         2020-10-21    16973.0        13891\n",
       "296         2020-10-22    20986.0        14987\n",
       "296         2020-10-23    14987.0        14987"
      ]
     },
     "execution_count": 7,
     "metadata": {},
     "output_type": "execute_result"
    }
   ],
   "source": [
    "extraction_date_confirmed_df = \\\n",
    "    confirmed_df[confirmed_df.sample_date_string == extraction_date]\n",
    "extraction_previous_date_confirmed_df = \\\n",
    "    confirmed_df[confirmed_df.sample_date_string == extraction_previous_date].copy()\n",
    "\n",
    "if extraction_date_confirmed_df.empty and \\\n",
    "    not extraction_previous_date_confirmed_df.empty:\n",
    "        extraction_previous_date_confirmed_df[\"sample_date_string\"] = extraction_date\n",
    "        extraction_previous_date_confirmed_df[\"new_cases\"] = \\\n",
    "            extraction_previous_date_confirmed_df.covid_cases\n",
    "        confirmed_df = confirmed_df.append(extraction_previous_date_confirmed_df)\n",
    "\n",
    "confirmed_df[\"covid_cases\"] = confirmed_df.covid_cases.fillna(0).astype(int)\n",
    "confirmed_df.tail()"
   ]
  },
  {
   "cell_type": "code",
   "execution_count": 8,
   "metadata": {
    "execution": {
     "iopub.execute_input": "2020-10-23T23:23:17.098668Z",
     "iopub.status.busy": "2020-10-23T23:23:17.098168Z",
     "iopub.status.idle": "2020-10-23T23:23:17.290045Z",
     "shell.execute_reply": "2020-10-23T23:23:17.290773Z"
    },
    "papermill": {
     "duration": 0.239821,
     "end_time": "2020-10-23T23:23:17.290934",
     "exception": false,
     "start_time": "2020-10-23T23:23:17.051113",
     "status": "completed"
    },
    "pycharm": {
     "name": "#%%\n"
    },
    "tags": []
   },
   "outputs": [
    {
     "data": {
      "text/plain": [
       "<matplotlib.axes._subplots.AxesSubplot at 0x7fe6601f1ee0>"
      ]
     },
     "execution_count": 8,
     "metadata": {},
     "output_type": "execute_result"
    },
    {
     "data": {
      "image/png": "[encoded data removed]",
      "text/plain": [
       "<Figure size 1080x432 with 1 Axes>"
      ]
     },
     "metadata": {},
     "output_type": "display_data"
    }
   ],
   "source": [
    "confirmed_df[[\"new_cases\", \"covid_cases\"]].plot()"
   ]
  },
  {
   "cell_type": "markdown",
   "metadata": {
    "execution": {
     "iopub.execute_input": "2020-08-30T22:30:16.351238Z",
     "iopub.status.busy": "2020-08-30T22:30:16.344579Z",
     "iopub.status.idle": "2020-08-30T22:30:16.354285Z",
     "shell.execute_reply": "2020-08-30T22:30:16.353641Z"
    },
    "papermill": {
     "duration": 0.040723,
     "end_time": "2020-10-23T23:23:17.371448",
     "exception": false,
     "start_time": "2020-10-23T23:23:17.330725",
     "status": "completed"
    },
    "pycharm": {
     "name": "#%% md\n"
    },
    "tags": []
   },
   "source": [
    "### Extract API TEKs"
   ]
  },
  {
   "cell_type": "code",
   "execution_count": 9,
   "metadata": {
    "execution": {
     "iopub.execute_input": "2020-10-23T23:23:17.461251Z",
     "iopub.status.busy": "2020-10-23T23:23:17.460652Z",
     "iopub.status.idle": "2020-10-23T23:26:06.656268Z",
     "shell.execute_reply": "2020-10-23T23:26:06.657051Z"
    },
    "papermill": {
     "duration": 169.245461,
     "end_time": "2020-10-23T23:26:06.657230",
     "exception": false,
     "start_time": "2020-10-23T23:23:17.411769",
     "status": "completed"
    },
    "pycharm": {
     "name": "#%%\n"
    },
    "tags": []
   },
   "outputs": [
    {
     "name": "stderr",
     "output_type": "stream",
     "text": [
      "WARNING:root:NoKeysFoundException(\"No exposure keys found on endpoint 'https://stayaway.incm.pt/v1/gaen/exposed/1603411200000' (parameters: {'generation_date': '2020-10-23', 'endpoint_identifier_components': ['2020-10-23'], 'backend_identifier': 'PT', 'server_endpoint_url': 'https://stayaway.incm.pt'}).\")\n"
     ]
    },
    {
     "name": "stderr",
     "output_type": "stream",
     "text": [
      "WARNING:root:NoKeysFoundException(\"No exposure keys found on endpoint 'https://enapi.sm.ee/authorization/v1/gaen/exposed/1603411200000' (parameters: {'generation_date': '2020-10-23', 'endpoint_identifier_components': ['2020-10-23'], 'backend_identifier': 'EE', 'server_endpoint_url': 'https://enapi.sm.ee/authorization'}).\")\n"
     ]
    },
    {
     "name": "stderr",
     "output_type": "stream",
     "text": [
      "WARNING:root:NoKeysFoundException(\"No exposure keys found on endpoint 'https://mt-dpppt-ws.azurewebsites.net/v1/gaen/exposed/1603411200000' (parameters: {'generation_date': '2020-10-23', 'endpoint_identifier_components': ['2020-10-23'], 'backend_identifier': 'MT', 'server_endpoint_url': 'https://mt-dpppt-ws.azurewebsites.net'}).\")\n"
     ]
    },
    {
     "name": "stderr",
     "output_type": "stream",
     "text": [
      "WARNING:root:Error downloading exposure keys from backend 'DE-ES': HTTPError('404 Client Error: Not Found for url: https://svc90.main.px.t-online.de/version/v1/diagnosis-keys/country/ES/date')\n",
      "Traceback (most recent call last):\n",
      "  File \"/home/runner/work/Radar-STATS/Radar-STATS/Modules/ExposureNotification/exposure_notification_io.py\", line 97, in download_exposure_keys_from_backends\n",
      "    backend_exposure_keys_df = backend_client.download_exposure_keys_with_parameters(**kwargs)\n",
      "  File \"/home/runner/work/Radar-STATS/Radar-STATS/Modules/ExposureNotification/Backends/base.py\", line 40, in download_exposure_keys_with_parameters\n",
      "    self.generate_exposure_keys_export_endpoints_with_parameters(**kwargs)\n",
      "  File \"/home/runner/work/Radar-STATS/Radar-STATS/Modules/ExposureNotification/Backends/corona_warn_app.py\", line 25, in generate_exposure_keys_export_endpoints_with_parameters\n",
      "    response.raise_for_status()\n",
      "  File \"/opt/hostedtoolcache/Python/3.8.6/x64/lib/python3.8/site-packages/requests/models.py\", line 941, in raise_for_status\n",
      "    raise HTTPError(http_error_msg, response=self)\n",
      "requests.exceptions.HTTPError: 404 Client Error: Not Found for url: https://svc90.main.px.t-online.de/version/v1/diagnosis-keys/country/ES/date\n"
     ]
    },
    {
     "name": "stderr",
     "output_type": "stream",
     "text": [
      "WARNING:root:Error downloading exposure keys from backend 'DE-IE': HTTPError('404 Client Error: Not Found for url: https://svc90.main.px.t-online.de/version/v1/diagnosis-keys/country/IE/date')\n",
      "Traceback (most recent call last):\n",
      "  File \"/home/runner/work/Radar-STATS/Radar-STATS/Modules/ExposureNotification/exposure_notification_io.py\", line 97, in download_exposure_keys_from_backends\n",
      "    backend_exposure_keys_df = backend_client.download_exposure_keys_with_parameters(**kwargs)\n",
      "  File \"/home/runner/work/Radar-STATS/Radar-STATS/Modules/ExposureNotification/Backends/base.py\", line 40, in download_exposure_keys_with_parameters\n",
      "    self.generate_exposure_keys_export_endpoints_with_parameters(**kwargs)\n",
      "  File \"/home/runner/work/Radar-STATS/Radar-STATS/Modules/ExposureNotification/Backends/corona_warn_app.py\", line 25, in generate_exposure_keys_export_endpoints_with_parameters\n",
      "    response.raise_for_status()\n",
      "  File \"/opt/hostedtoolcache/Python/3.8.6/x64/lib/python3.8/site-packages/requests/models.py\", line 941, in raise_for_status\n",
      "    raise HTTPError(http_error_msg, response=self)\n",
      "requests.exceptions.HTTPError: 404 Client Error: Not Found for url: https://svc90.main.px.t-online.de/version/v1/diagnosis-keys/country/IE/date\n"
     ]
    },
    {
     "name": "stderr",
     "output_type": "stream",
     "text": [
      "WARNING:root:Error downloading exposure keys from backend 'DE-IT': HTTPError('404 Client Error: Not Found for url: https://svc90.main.px.t-online.de/version/v1/diagnosis-keys/country/IT/date')\n",
      "Traceback (most recent call last):\n",
      "  File \"/home/runner/work/Radar-STATS/Radar-STATS/Modules/ExposureNotification/exposure_notification_io.py\", line 97, in download_exposure_keys_from_backends\n",
      "    backend_exposure_keys_df = backend_client.download_exposure_keys_with_parameters(**kwargs)\n",
      "  File \"/home/runner/work/Radar-STATS/Radar-STATS/Modules/ExposureNotification/Backends/base.py\", line 40, in download_exposure_keys_with_parameters\n",
      "    self.generate_exposure_keys_export_endpoints_with_parameters(**kwargs)\n",
      "  File \"/home/runner/work/Radar-STATS/Radar-STATS/Modules/ExposureNotification/Backends/corona_warn_app.py\", line 25, in generate_exposure_keys_export_endpoints_with_parameters\n",
      "    response.raise_for_status()\n",
      "  File \"/opt/hostedtoolcache/Python/3.8.6/x64/lib/python3.8/site-packages/requests/models.py\", line 941, in raise_for_status\n",
      "    raise HTTPError(http_error_msg, response=self)\n",
      "requests.exceptions.HTTPError: 404 Client Error: Not Found for url: https://svc90.main.px.t-online.de/version/v1/diagnosis-keys/country/IT/date\n"
     ]
    },
    {
     "name": "stderr",
     "output_type": "stream",
     "text": [
      "WARNING:root:Error downloading exposure keys from backend 'IT-ES': HTTPError('404 Client Error: Not Found for url: https://get.immuni.gov.it/v1/keys/eu/ES/index')\n",
      "Traceback (most recent call last):\n",
      "  File \"/home/runner/work/Radar-STATS/Radar-STATS/Modules/ExposureNotification/exposure_notification_io.py\", line 97, in download_exposure_keys_from_backends\n",
      "    backend_exposure_keys_df = backend_client.download_exposure_keys_with_parameters(**kwargs)\n",
      "  File \"/home/runner/work/Radar-STATS/Radar-STATS/Modules/ExposureNotification/Backends/base.py\", line 40, in download_exposure_keys_with_parameters\n",
      "    self.generate_exposure_keys_export_endpoints_with_parameters(**kwargs)\n",
      "  File \"/home/runner/work/Radar-STATS/Radar-STATS/Modules/ExposureNotification/Backends/immuni.py\", line 27, in generate_exposure_keys_export_endpoints_with_parameters\n",
      "    response.raise_for_status()\n",
      "  File \"/opt/hostedtoolcache/Python/3.8.6/x64/lib/python3.8/site-packages/requests/models.py\", line 941, in raise_for_status\n",
      "    raise HTTPError(http_error_msg, response=self)\n",
      "requests.exceptions.HTTPError: 404 Client Error: Not Found for url: https://get.immuni.gov.it/v1/keys/eu/ES/index\n"
     ]
    },
    {
     "name": "stderr",
     "output_type": "stream",
     "text": [
      "WARNING:root:Error downloading exposure keys from backend 'IT-IE': HTTPError('404 Client Error: Not Found for url: https://get.immuni.gov.it/v1/keys/eu/IE/index')\n",
      "Traceback (most recent call last):\n",
      "  File \"/home/runner/work/Radar-STATS/Radar-STATS/Modules/ExposureNotification/exposure_notification_io.py\", line 97, in download_exposure_keys_from_backends\n",
      "    backend_exposure_keys_df = backend_client.download_exposure_keys_with_parameters(**kwargs)\n",
      "  File \"/home/runner/work/Radar-STATS/Radar-STATS/Modules/ExposureNotification/Backends/base.py\", line 40, in download_exposure_keys_with_parameters\n",
      "    self.generate_exposure_keys_export_endpoints_with_parameters(**kwargs)\n",
      "  File \"/home/runner/work/Radar-STATS/Radar-STATS/Modules/ExposureNotification/Backends/immuni.py\", line 27, in generate_exposure_keys_export_endpoints_with_parameters\n",
      "    response.raise_for_status()\n",
      "  File \"/opt/hostedtoolcache/Python/3.8.6/x64/lib/python3.8/site-packages/requests/models.py\", line 941, in raise_for_status\n",
      "    raise HTTPError(http_error_msg, response=self)\n",
      "requests.exceptions.HTTPError: 404 Client Error: Not Found for url: https://get.immuni.gov.it/v1/keys/eu/IE/index\n"
     ]
    },
    {
     "name": "stderr",
     "output_type": "stream",
     "text": [
      "WARNING:root:Error downloading exposure keys from backend 'IT-DE': HTTPError('404 Client Error: Not Found for url: https://get.immuni.gov.it/v1/keys/eu/DE/index')\n",
      "Traceback (most recent call last):\n",
      "  File \"/home/runner/work/Radar-STATS/Radar-STATS/Modules/ExposureNotification/exposure_notification_io.py\", line 97, in download_exposure_keys_from_backends\n",
      "    backend_exposure_keys_df = backend_client.download_exposure_keys_with_parameters(**kwargs)\n",
      "  File \"/home/runner/work/Radar-STATS/Radar-STATS/Modules/ExposureNotification/Backends/base.py\", line 40, in download_exposure_keys_with_parameters\n",
      "    self.generate_exposure_keys_export_endpoints_with_parameters(**kwargs)\n",
      "  File \"/home/runner/work/Radar-STATS/Radar-STATS/Modules/ExposureNotification/Backends/immuni.py\", line 27, in generate_exposure_keys_export_endpoints_with_parameters\n",
      "    response.raise_for_status()\n",
      "  File \"/opt/hostedtoolcache/Python/3.8.6/x64/lib/python3.8/site-packages/requests/models.py\", line 941, in raise_for_status\n",
      "    raise HTTPError(http_error_msg, response=self)\n",
      "requests.exceptions.HTTPError: 404 Client Error: Not Found for url: https://get.immuni.gov.it/v1/keys/eu/DE/index\n"
     ]
    },
    {
     "data": {
      "text/html": [
       "<div>\n",
       "<style scoped>\n",
       "    .dataframe tbody tr th:only-of-type {\n",
       "        vertical-align: middle;\n",
       "    }\n",
       "\n",
       "    .dataframe tbody tr th {\n",
       "        vertical-align: top;\n",
       "    }\n",
       "\n",
       "    .dataframe thead th {\n",
       "        text-align: right;\n",
       "    }\n",
       "</style>\n",
       "<table border=\"1\" class=\"dataframe\">\n",
       "  <thead>\n",
       "    <tr style=\"text-align: right;\">\n",
       "      <th></th>\n",
       "      <th>sample_datetime</th>\n",
       "      <th>sample_date_string</th>\n",
       "      <th>region</th>\n",
       "      <th>verification_key_version</th>\n",
       "      <th>verification_key_id</th>\n",
       "      <th>signature_algorithm</th>\n",
       "      <th>key_data</th>\n",
       "      <th>rolling_start_interval_number</th>\n",
       "      <th>rolling_period</th>\n",
       "      <th>transmission_risk_level</th>\n",
       "      <th>backend_identifier</th>\n",
       "    </tr>\n",
       "  </thead>\n",
       "  <tbody>\n",
       "    <tr>\n",
       "      <th>0</th>\n",
       "      <td>2020-10-23</td>\n",
       "      <td>2020-10-23</td>\n",
       "      <td>ES</td>\n",
       "      <td>V1</td>\n",
       "      <td>214</td>\n",
       "      <td>1.2.840.10045.4.3.2</td>\n",
       "      <td>c183bc1b-ab2d-b3e1-593a-25aa1a70be72</td>\n",
       "      <td>2672352</td>\n",
       "      <td>132</td>\n",
       "      <td>0</td>\n",
       "      <td>ES</td>\n",
       "    </tr>\n",
       "    <tr>\n",
       "      <th>1</th>\n",
       "      <td>2020-10-23</td>\n",
       "      <td>2020-10-23</td>\n",
       "      <td>ES</td>\n",
       "      <td>V1</td>\n",
       "      <td>214</td>\n",
       "      <td>1.2.840.10045.4.3.2</td>\n",
       "      <td>decd21d0-c58a-502d-7a08-3dba548de610</td>\n",
       "      <td>2672352</td>\n",
       "      <td>132</td>\n",
       "      <td>0</td>\n",
       "      <td>ES</td>\n",
       "    </tr>\n",
       "    <tr>\n",
       "      <th>2</th>\n",
       "      <td>2020-10-23</td>\n",
       "      <td>2020-10-23</td>\n",
       "      <td>ES</td>\n",
       "      <td>V1</td>\n",
       "      <td>214</td>\n",
       "      <td>1.2.840.10045.4.3.2</td>\n",
       "      <td>20db428c-99fa-9f7a-8c05-b4cdbc0bca7b</td>\n",
       "      <td>2672352</td>\n",
       "      <td>126</td>\n",
       "      <td>0</td>\n",
       "      <td>ES</td>\n",
       "    </tr>\n",
       "    <tr>\n",
       "      <th>3</th>\n",
       "      <td>2020-10-23</td>\n",
       "      <td>2020-10-23</td>\n",
       "      <td>ES</td>\n",
       "      <td>V1</td>\n",
       "      <td>214</td>\n",
       "      <td>1.2.840.10045.4.3.2</td>\n",
       "      <td>328767d8-f53b-7e21-bc1a-dbb07d1597ed</td>\n",
       "      <td>2672352</td>\n",
       "      <td>123</td>\n",
       "      <td>0</td>\n",
       "      <td>ES</td>\n",
       "    </tr>\n",
       "    <tr>\n",
       "      <th>4</th>\n",
       "      <td>2020-10-23</td>\n",
       "      <td>2020-10-23</td>\n",
       "      <td>ES</td>\n",
       "      <td>V1</td>\n",
       "      <td>214</td>\n",
       "      <td>1.2.840.10045.4.3.2</td>\n",
       "      <td>725ce6ae-4db2-801a-ff3d-c2de57263921</td>\n",
       "      <td>2672352</td>\n",
       "      <td>122</td>\n",
       "      <td>0</td>\n",
       "      <td>ES</td>\n",
       "    </tr>\n",
       "  </tbody>\n",
       "</table>\n",
       "</div>"
      ],
      "text/plain": [
       "  sample_datetime sample_date_string region verification_key_version  \\\n",
       "0      2020-10-23         2020-10-23     ES                       V1   \n",
       "1      2020-10-23         2020-10-23     ES                       V1   \n",
       "2      2020-10-23         2020-10-23     ES                       V1   \n",
       "3      2020-10-23         2020-10-23     ES                       V1   \n",
       "4      2020-10-23         2020-10-23     ES                       V1   \n",
       "\n",
       "  verification_key_id  signature_algorithm  \\\n",
       "0                 214  1.2.840.10045.4.3.2   \n",
       "1                 214  1.2.840.10045.4.3.2   \n",
       "2                 214  1.2.840.10045.4.3.2   \n",
       "3                 214  1.2.840.10045.4.3.2   \n",
       "4                 214  1.2.840.10045.4.3.2   \n",
       "\n",
       "                               key_data  rolling_start_interval_number  \\\n",
       "0  c183bc1b-ab2d-b3e1-593a-25aa1a70be72                        2672352   \n",
       "1  decd21d0-c58a-502d-7a08-3dba548de610                        2672352   \n",
       "2  20db428c-99fa-9f7a-8c05-b4cdbc0bca7b                        2672352   \n",
       "3  328767d8-f53b-7e21-bc1a-dbb07d1597ed                        2672352   \n",
       "4  725ce6ae-4db2-801a-ff3d-c2de57263921                        2672352   \n",
       "\n",
       "   rolling_period  transmission_risk_level backend_identifier  \n",
       "0             132                        0                 ES  \n",
       "1             132                        0                 ES  \n",
       "2             126                        0                 ES  \n",
       "3             123                        0                 ES  \n",
       "4             122                        0                 ES  "
      ]
     },
     "execution_count": 9,
     "metadata": {},
     "output_type": "execute_result"
    }
   ],
   "source": [
    "raw_zip_path_prefix = \"Data/TEKs/Raw/\"\n",
    "fail_on_error_backend_identifiers = [report_backend_identifier]\n",
    "multi_backend_exposure_keys_df = \\\n",
    "    exposure_notification_io.download_exposure_keys_from_backends(\n",
    "        generation_days=backend_generation_days,\n",
    "        fail_on_error_backend_identifiers=fail_on_error_backend_identifiers,\n",
    "        save_raw_zip_path_prefix=raw_zip_path_prefix)\n",
    "multi_backend_exposure_keys_df[\"region\"] = multi_backend_exposure_keys_df[\"backend_identifier\"]\n",
    "multi_backend_exposure_keys_df.rename(\n",
    "    columns={\n",
    "        \"generation_datetime\": \"sample_datetime\",\n",
    "        \"generation_date_string\": \"sample_date_string\",\n",
    "    },\n",
    "    inplace=True)\n",
    "multi_backend_exposure_keys_df.head()"
   ]
  },
  {
   "cell_type": "code",
   "execution_count": 10,
   "metadata": {
    "collapsed": false,
    "execution": {
     "iopub.execute_input": "2020-10-23T23:26:06.741371Z",
     "iopub.status.busy": "2020-10-23T23:26:06.740845Z",
     "iopub.status.idle": "2020-10-23T23:26:06.921023Z",
     "shell.execute_reply": "2020-10-23T23:26:06.921771Z"
    },
    "papermill": {
     "duration": 0.223412,
     "end_time": "2020-10-23T23:26:06.921938",
     "exception": false,
     "start_time": "2020-10-23T23:26:06.698526",
     "status": "completed"
    },
    "pycharm": {
     "name": "#%%\n"
    },
    "tags": []
   },
   "outputs": [
    {
     "data": {
      "text/plain": [
       "<matplotlib.axes._subplots.AxesSubplot at 0x7fe61cda9490>"
      ]
     },
     "execution_count": 10,
     "metadata": {},
     "output_type": "execute_result"
    },
    {
     "data": {
      "image/png": "[encoded data removed]",
      "text/plain": [
       "<Figure size 1080x432 with 1 Axes>"
      ]
     },
     "metadata": {},
     "output_type": "display_data"
    }
   ],
   "source": [
    "early_teks_df = multi_backend_exposure_keys_df[\n",
    "    multi_backend_exposure_keys_df.rolling_period < 144].copy()\n",
    "early_teks_df[\"rolling_period_in_hours\"] = early_teks_df.rolling_period / 6\n",
    "early_teks_df[early_teks_df.sample_date_string != extraction_date] \\\n",
    "    .rolling_period_in_hours.hist(bins=list(range(24)))"
   ]
  },
  {
   "cell_type": "code",
   "execution_count": 11,
   "metadata": {
    "collapsed": false,
    "execution": {
     "iopub.execute_input": "2020-10-23T23:26:07.014199Z",
     "iopub.status.busy": "2020-10-23T23:26:07.013608Z",
     "iopub.status.idle": "2020-10-23T23:26:07.197838Z",
     "shell.execute_reply": "2020-10-23T23:26:07.198324Z"
    },
    "papermill": {
     "duration": 0.234288,
     "end_time": "2020-10-23T23:26:07.198475",
     "exception": false,
     "start_time": "2020-10-23T23:26:06.964187",
     "status": "completed"
    },
    "pycharm": {
     "name": "#%%\n"
    },
    "tags": []
   },
   "outputs": [
    {
     "data": {
      "text/plain": [
       "<matplotlib.axes._subplots.AxesSubplot at 0x7fe61c2439d0>"
      ]
     },
     "execution_count": 11,
     "metadata": {},
     "output_type": "execute_result"
    },
    {
     "data": {
      "image/png": "[encoded data removed]",
      "text/plain": [
       "<Figure size 1080x432 with 1 Axes>"
      ]
     },
     "metadata": {},
     "output_type": "display_data"
    }
   ],
   "source": [
    "early_teks_df[early_teks_df.sample_date_string == extraction_date] \\\n",
    "    .rolling_period_in_hours.hist(bins=list(range(24)))"
   ]
  },
  {
   "cell_type": "code",
   "execution_count": 12,
   "metadata": {
    "collapsed": false,
    "execution": {
     "iopub.execute_input": "2020-10-23T23:26:07.293366Z",
     "iopub.status.busy": "2020-10-23T23:26:07.292774Z",
     "iopub.status.idle": "2020-10-23T23:26:07.310378Z",
     "shell.execute_reply": "2020-10-23T23:26:07.309874Z"
    },
    "papermill": {
     "duration": 0.066701,
     "end_time": "2020-10-23T23:26:07.310495",
     "exception": false,
     "start_time": "2020-10-23T23:26:07.243794",
     "status": "completed"
    },
    "pycharm": {
     "name": "#%%\n"
    },
    "tags": []
   },
   "outputs": [
    {
     "data": {
      "text/html": [
       "<div>\n",
       "<style scoped>\n",
       "    .dataframe tbody tr th:only-of-type {\n",
       "        vertical-align: middle;\n",
       "    }\n",
       "\n",
       "    .dataframe tbody tr th {\n",
       "        vertical-align: top;\n",
       "    }\n",
       "\n",
       "    .dataframe thead th {\n",
       "        text-align: right;\n",
       "    }\n",
       "</style>\n",
       "<table border=\"1\" class=\"dataframe\">\n",
       "  <thead>\n",
       "    <tr style=\"text-align: right;\">\n",
       "      <th></th>\n",
       "      <th>sample_date_string</th>\n",
       "      <th>region</th>\n",
       "      <th>key_data</th>\n",
       "    </tr>\n",
       "  </thead>\n",
       "  <tbody>\n",
       "    <tr>\n",
       "      <th>0</th>\n",
       "      <td>2020-10-23</td>\n",
       "      <td>ES</td>\n",
       "      <td>c183bc1b-ab2d-b3e1-593a-25aa1a70be72</td>\n",
       "    </tr>\n",
       "    <tr>\n",
       "      <th>1</th>\n",
       "      <td>2020-10-23</td>\n",
       "      <td>ES</td>\n",
       "      <td>decd21d0-c58a-502d-7a08-3dba548de610</td>\n",
       "    </tr>\n",
       "    <tr>\n",
       "      <th>2</th>\n",
       "      <td>2020-10-23</td>\n",
       "      <td>ES</td>\n",
       "      <td>20db428c-99fa-9f7a-8c05-b4cdbc0bca7b</td>\n",
       "    </tr>\n",
       "    <tr>\n",
       "      <th>3</th>\n",
       "      <td>2020-10-23</td>\n",
       "      <td>ES</td>\n",
       "      <td>328767d8-f53b-7e21-bc1a-dbb07d1597ed</td>\n",
       "    </tr>\n",
       "    <tr>\n",
       "      <th>4</th>\n",
       "      <td>2020-10-23</td>\n",
       "      <td>ES</td>\n",
       "      <td>725ce6ae-4db2-801a-ff3d-c2de57263921</td>\n",
       "    </tr>\n",
       "  </tbody>\n",
       "</table>\n",
       "</div>"
      ],
      "text/plain": [
       "  sample_date_string region                              key_data\n",
       "0         2020-10-23     ES  c183bc1b-ab2d-b3e1-593a-25aa1a70be72\n",
       "1         2020-10-23     ES  decd21d0-c58a-502d-7a08-3dba548de610\n",
       "2         2020-10-23     ES  20db428c-99fa-9f7a-8c05-b4cdbc0bca7b\n",
       "3         2020-10-23     ES  328767d8-f53b-7e21-bc1a-dbb07d1597ed\n",
       "4         2020-10-23     ES  725ce6ae-4db2-801a-ff3d-c2de57263921"
      ]
     },
     "execution_count": 12,
     "metadata": {},
     "output_type": "execute_result"
    }
   ],
   "source": [
    "multi_backend_exposure_keys_df = multi_backend_exposure_keys_df[[\n",
    "    \"sample_date_string\", \"region\", \"key_data\"]]\n",
    "multi_backend_exposure_keys_df.head()"
   ]
  },
  {
   "cell_type": "code",
   "execution_count": 13,
   "metadata": {
    "collapsed": false,
    "execution": {
     "iopub.execute_input": "2020-10-23T23:26:07.403003Z",
     "iopub.status.busy": "2020-10-23T23:26:07.402500Z",
     "iopub.status.idle": "2020-10-23T23:26:08.310683Z",
     "shell.execute_reply": "2020-10-23T23:26:08.310235Z"
    },
    "papermill": {
     "duration": 0.956615,
     "end_time": "2020-10-23T23:26:08.310807",
     "exception": false,
     "start_time": "2020-10-23T23:26:07.354192",
     "status": "completed"
    },
    "pycharm": {
     "name": "#%%\n"
    },
    "tags": []
   },
   "outputs": [
    {
     "data": {
      "text/plain": [
       "['EE', 'BE@TST', 'MT', 'PT', 'ES@PRE', 'ES', 'BE', 'CH', 'IT', 'DE']"
      ]
     },
     "execution_count": 13,
     "metadata": {},
     "output_type": "execute_result"
    }
   ],
   "source": [
    "active_regions = \\\n",
    "    multi_backend_exposure_keys_df.groupby(\"region\").key_data.nunique().sort_values().index.unique().tolist()\n",
    "active_regions"
   ]
  },
  {
   "cell_type": "code",
   "execution_count": 14,
   "metadata": {
    "collapsed": false,
    "execution": {
     "iopub.execute_input": "2020-10-23T23:26:08.416785Z",
     "iopub.status.busy": "2020-10-23T23:26:08.416205Z",
     "iopub.status.idle": "2020-10-23T23:26:09.339214Z",
     "shell.execute_reply": "2020-10-23T23:26:09.339649Z"
    },
    "papermill": {
     "duration": 0.985362,
     "end_time": "2020-10-23T23:26:09.339806",
     "exception": false,
     "start_time": "2020-10-23T23:26:08.354444",
     "status": "completed"
    },
    "pycharm": {
     "name": "#%%\n"
    },
    "tags": []
   },
   "outputs": [
    {
     "data": {
      "text/html": [
       "<div>\n",
       "<style scoped>\n",
       "    .dataframe tbody tr th:only-of-type {\n",
       "        vertical-align: middle;\n",
       "    }\n",
       "\n",
       "    .dataframe tbody tr th {\n",
       "        vertical-align: top;\n",
       "    }\n",
       "\n",
       "    .dataframe thead tr th {\n",
       "        text-align: left;\n",
       "    }\n",
       "\n",
       "    .dataframe thead tr:last-of-type th {\n",
       "        text-align: right;\n",
       "    }\n",
       "</style>\n",
       "<table border=\"1\" class=\"dataframe\">\n",
       "  <thead>\n",
       "    <tr>\n",
       "      <th></th>\n",
       "      <th colspan=\"10\" halign=\"left\">shared_teks_by_generation_date</th>\n",
       "    </tr>\n",
       "    <tr>\n",
       "      <th>region</th>\n",
       "      <th>BE</th>\n",
       "      <th>BE@TST</th>\n",
       "      <th>CH</th>\n",
       "      <th>DE</th>\n",
       "      <th>EE</th>\n",
       "      <th>ES</th>\n",
       "      <th>ES@PRE</th>\n",
       "      <th>IT</th>\n",
       "      <th>MT</th>\n",
       "      <th>PT</th>\n",
       "    </tr>\n",
       "    <tr>\n",
       "      <th>sample_date</th>\n",
       "      <th></th>\n",
       "      <th></th>\n",
       "      <th></th>\n",
       "      <th></th>\n",
       "      <th></th>\n",
       "      <th></th>\n",
       "      <th></th>\n",
       "      <th></th>\n",
       "      <th></th>\n",
       "      <th></th>\n",
       "    </tr>\n",
       "  </thead>\n",
       "  <tbody>\n",
       "    <tr>\n",
       "      <th>2020-10-23</th>\n",
       "      <td>0</td>\n",
       "      <td>0</td>\n",
       "      <td>301</td>\n",
       "      <td>0</td>\n",
       "      <td>0</td>\n",
       "      <td>167</td>\n",
       "      <td>20</td>\n",
       "      <td>0</td>\n",
       "      <td>0</td>\n",
       "      <td>0</td>\n",
       "    </tr>\n",
       "    <tr>\n",
       "      <th>2020-10-22</th>\n",
       "      <td>0</td>\n",
       "      <td>0</td>\n",
       "      <td>1025</td>\n",
       "      <td>0</td>\n",
       "      <td>4</td>\n",
       "      <td>325</td>\n",
       "      <td>86</td>\n",
       "      <td>1546</td>\n",
       "      <td>107</td>\n",
       "      <td>101</td>\n",
       "    </tr>\n",
       "    <tr>\n",
       "      <th>2020-10-21</th>\n",
       "      <td>493</td>\n",
       "      <td>47</td>\n",
       "      <td>1502</td>\n",
       "      <td>1592</td>\n",
       "      <td>11</td>\n",
       "      <td>418</td>\n",
       "      <td>198</td>\n",
       "      <td>1515</td>\n",
       "      <td>111</td>\n",
       "      <td>137</td>\n",
       "    </tr>\n",
       "    <tr>\n",
       "      <th>2020-10-20</th>\n",
       "      <td>797</td>\n",
       "      <td>48</td>\n",
       "      <td>1983</td>\n",
       "      <td>2821</td>\n",
       "      <td>15</td>\n",
       "      <td>522</td>\n",
       "      <td>196</td>\n",
       "      <td>2428</td>\n",
       "      <td>117</td>\n",
       "      <td>169</td>\n",
       "    </tr>\n",
       "    <tr>\n",
       "      <th>2020-10-19</th>\n",
       "      <td>988</td>\n",
       "      <td>50</td>\n",
       "      <td>2389</td>\n",
       "      <td>3622</td>\n",
       "      <td>16</td>\n",
       "      <td>598</td>\n",
       "      <td>238</td>\n",
       "      <td>2821</td>\n",
       "      <td>119</td>\n",
       "      <td>214</td>\n",
       "    </tr>\n",
       "  </tbody>\n",
       "</table>\n",
       "</div>"
      ],
      "text/plain": [
       "            shared_teks_by_generation_date                                     \\\n",
       "region                                  BE BE@TST    CH    DE  EE   ES ES@PRE   \n",
       "sample_date                                                                     \n",
       "2020-10-23                               0      0   301     0   0  167     20   \n",
       "2020-10-22                               0      0  1025     0   4  325     86   \n",
       "2020-10-21                             493     47  1502  1592  11  418    198   \n",
       "2020-10-20                             797     48  1983  2821  15  522    196   \n",
       "2020-10-19                             988     50  2389  3622  16  598    238   \n",
       "\n",
       "                             \n",
       "region         IT   MT   PT  \n",
       "sample_date                  \n",
       "2020-10-23      0    0    0  \n",
       "2020-10-22   1546  107  101  \n",
       "2020-10-21   1515  111  137  \n",
       "2020-10-20   2428  117  169  \n",
       "2020-10-19   2821  119  214  "
      ]
     },
     "execution_count": 14,
     "metadata": {},
     "output_type": "execute_result"
    }
   ],
   "source": [
    "multi_backend_summary_df = multi_backend_exposure_keys_df.groupby(\n",
    "    [\"sample_date_string\", \"region\"]).key_data.nunique().reset_index() \\\n",
    "    .pivot(index=\"sample_date_string\", columns=\"region\") \\\n",
    "    .sort_index(ascending=False)\n",
    "multi_backend_summary_df.rename(\n",
    "    columns={\"key_data\": \"shared_teks_by_generation_date\"},\n",
    "    inplace=True)\n",
    "multi_backend_summary_df.rename_axis(\"sample_date\", inplace=True)\n",
    "multi_backend_summary_df = multi_backend_summary_df.fillna(0).astype(int)\n",
    "multi_backend_summary_df = multi_backend_summary_df.head(backend_generation_days)\n",
    "multi_backend_summary_df.head()"
   ]
  },
  {
   "cell_type": "code",
   "execution_count": 15,
   "metadata": {
    "collapsed": false,
    "execution": {
     "iopub.execute_input": "2020-10-23T23:26:09.448088Z",
     "iopub.status.busy": "2020-10-23T23:26:09.447565Z",
     "iopub.status.idle": "2020-10-23T23:26:10.294160Z",
     "shell.execute_reply": "2020-10-23T23:26:10.293713Z"
    },
    "papermill": {
     "duration": 0.909192,
     "end_time": "2020-10-23T23:26:10.294286",
     "exception": false,
     "start_time": "2020-10-23T23:26:09.385094",
     "status": "completed"
    },
    "pycharm": {
     "name": "#%%\n"
    },
    "tags": []
   },
   "outputs": [
    {
     "data": {
      "text/plain": [
       "['EE', 'BE@TST', 'MT', 'PT', 'ES@PRE', 'BE', 'CH', 'IT', 'DE']"
      ]
     },
     "execution_count": 15,
     "metadata": {},
     "output_type": "execute_result"
    }
   ],
   "source": [
    "multi_backend_without_active_region_exposure_keys_df = \\\n",
    "    multi_backend_exposure_keys_df[multi_backend_exposure_keys_df.region != report_backend_identifier]\n",
    "multi_backend_without_active_region = \\\n",
    "    multi_backend_without_active_region_exposure_keys_df.groupby(\"region\").key_data.nunique().sort_values().index.unique().tolist()\n",
    "multi_backend_without_active_region"
   ]
  },
  {
   "cell_type": "code",
   "execution_count": 16,
   "metadata": {
    "execution": {
     "iopub.execute_input": "2020-10-23T23:26:10.406392Z",
     "iopub.status.busy": "2020-10-23T23:26:10.405748Z",
     "iopub.status.idle": "2020-10-23T23:26:10.454557Z",
     "shell.execute_reply": "2020-10-23T23:26:10.454989Z"
    },
    "papermill": {
     "duration": 0.115619,
     "end_time": "2020-10-23T23:26:10.455146",
     "exception": false,
     "start_time": "2020-10-23T23:26:10.339527",
     "status": "completed"
    },
    "scrolled": false,
    "tags": []
   },
   "outputs": [
    {
     "name": "stderr",
     "output_type": "stream",
     "text": [
      "/opt/hostedtoolcache/Python/3.8.6/x64/lib/python3.8/site-packages/pandas/core/frame.py:4110: SettingWithCopyWarning: \n",
      "A value is trying to be set on a copy of a slice from a DataFrame\n",
      "\n",
      "See the caveats in the documentation: http://pandas.pydata.org/pandas-docs/stable/user_guide/indexing.html#returning-a-view-versus-a-copy\n",
      "  return super().drop(\n"
     ]
    },
    {
     "data": {
      "text/html": [
       "<div>\n",
       "<style scoped>\n",
       "    .dataframe tbody tr th:only-of-type {\n",
       "        vertical-align: middle;\n",
       "    }\n",
       "\n",
       "    .dataframe tbody tr th {\n",
       "        vertical-align: top;\n",
       "    }\n",
       "\n",
       "    .dataframe thead th {\n",
       "        text-align: right;\n",
       "    }\n",
       "</style>\n",
       "<table border=\"1\" class=\"dataframe\">\n",
       "  <thead>\n",
       "    <tr style=\"text-align: right;\">\n",
       "      <th></th>\n",
       "      <th>shared_teks_by_generation_date</th>\n",
       "    </tr>\n",
       "    <tr>\n",
       "      <th>sample_date_string</th>\n",
       "      <th></th>\n",
       "    </tr>\n",
       "  </thead>\n",
       "  <tbody>\n",
       "    <tr>\n",
       "      <th>2020-10-23</th>\n",
       "      <td>167</td>\n",
       "    </tr>\n",
       "    <tr>\n",
       "      <th>2020-10-22</th>\n",
       "      <td>325</td>\n",
       "    </tr>\n",
       "    <tr>\n",
       "      <th>2020-10-21</th>\n",
       "      <td>418</td>\n",
       "    </tr>\n",
       "    <tr>\n",
       "      <th>2020-10-20</th>\n",
       "      <td>522</td>\n",
       "    </tr>\n",
       "    <tr>\n",
       "      <th>2020-10-19</th>\n",
       "      <td>598</td>\n",
       "    </tr>\n",
       "  </tbody>\n",
       "</table>\n",
       "</div>"
      ],
      "text/plain": [
       "                    shared_teks_by_generation_date\n",
       "sample_date_string                                \n",
       "2020-10-23                                     167\n",
       "2020-10-22                                     325\n",
       "2020-10-21                                     418\n",
       "2020-10-20                                     522\n",
       "2020-10-19                                     598"
      ]
     },
     "execution_count": 16,
     "metadata": {},
     "output_type": "execute_result"
    }
   ],
   "source": [
    "exposure_keys_summary_df = multi_backend_exposure_keys_df[\n",
    "    multi_backend_exposure_keys_df.region == report_backend_identifier]\n",
    "exposure_keys_summary_df.drop(columns=[\"region\"], inplace=True)\n",
    "exposure_keys_summary_df = \\\n",
    "    exposure_keys_summary_df.groupby([\"sample_date_string\"]).key_data.nunique().to_frame()\n",
    "exposure_keys_summary_df = \\\n",
    "    exposure_keys_summary_df.reset_index().set_index(\"sample_date_string\")\n",
    "exposure_keys_summary_df.sort_index(ascending=False, inplace=True)\n",
    "exposure_keys_summary_df.rename(columns={\"key_data\": \"shared_teks_by_generation_date\"}, inplace=True)\n",
    "exposure_keys_summary_df.head()"
   ]
  },
  {
   "cell_type": "markdown",
   "metadata": {
    "papermill": {
     "duration": 0.045679,
     "end_time": "2020-10-23T23:26:10.547797",
     "exception": false,
     "start_time": "2020-10-23T23:26:10.502118",
     "status": "completed"
    },
    "tags": []
   },
   "source": [
    "### Dump API TEKs"
   ]
  },
  {
   "cell_type": "code",
   "execution_count": 17,
   "metadata": {
    "execution": {
     "iopub.execute_input": "2020-10-23T23:26:10.646365Z",
     "iopub.status.busy": "2020-10-23T23:26:10.645776Z",
     "iopub.status.idle": "2020-10-23T23:26:11.563586Z",
     "shell.execute_reply": "2020-10-23T23:26:11.564088Z"
    },
    "papermill": {
     "duration": 0.971505,
     "end_time": "2020-10-23T23:26:11.564261",
     "exception": false,
     "start_time": "2020-10-23T23:26:10.592756",
     "status": "completed"
    },
    "tags": []
   },
   "outputs": [
    {
     "data": {
      "text/html": [
       "<div>\n",
       "<style scoped>\n",
       "    .dataframe tbody tr th:only-of-type {\n",
       "        vertical-align: middle;\n",
       "    }\n",
       "\n",
       "    .dataframe tbody tr th {\n",
       "        vertical-align: top;\n",
       "    }\n",
       "\n",
       "    .dataframe thead th {\n",
       "        text-align: right;\n",
       "    }\n",
       "</style>\n",
       "<table border=\"1\" class=\"dataframe\">\n",
       "  <thead>\n",
       "    <tr style=\"text-align: right;\">\n",
       "      <th></th>\n",
       "      <th>sample_date</th>\n",
       "      <th>region</th>\n",
       "      <th>tek_list</th>\n",
       "      <th>extraction_date</th>\n",
       "      <th>extraction_date_with_hour</th>\n",
       "    </tr>\n",
       "  </thead>\n",
       "  <tbody>\n",
       "    <tr>\n",
       "      <th>0</th>\n",
       "      <td>2020-10-10</td>\n",
       "      <td>BE</td>\n",
       "      <td>[06862570-aeed-b5e1-f52b-c84f25b8e6cf, 07be94b...</td>\n",
       "      <td>2020-10-23</td>\n",
       "      <td>2020-10-23@23</td>\n",
       "    </tr>\n",
       "    <tr>\n",
       "      <th>1</th>\n",
       "      <td>2020-10-10</td>\n",
       "      <td>BE@TST</td>\n",
       "      <td>[017a5061-4411-f148-1b6e-fc39b08774b0, 054901d...</td>\n",
       "      <td>2020-10-23</td>\n",
       "      <td>2020-10-23@23</td>\n",
       "    </tr>\n",
       "    <tr>\n",
       "      <th>2</th>\n",
       "      <td>2020-10-10</td>\n",
       "      <td>CH</td>\n",
       "      <td>[6e577a0b-3e4c-524d-93b8-9fd05e741547, 4e31dbf...</td>\n",
       "      <td>2020-10-23</td>\n",
       "      <td>2020-10-23@23</td>\n",
       "    </tr>\n",
       "    <tr>\n",
       "      <th>3</th>\n",
       "      <td>2020-10-10</td>\n",
       "      <td>DE</td>\n",
       "      <td>[00882865-9954-1bc3-c24d-df00d63050d2, 00d72d3...</td>\n",
       "      <td>2020-10-23</td>\n",
       "      <td>2020-10-23@23</td>\n",
       "    </tr>\n",
       "    <tr>\n",
       "      <th>4</th>\n",
       "      <td>2020-10-10</td>\n",
       "      <td>EE</td>\n",
       "      <td>[281e3d47-d5ae-d556-019e-7dd151960654, 5e994cd...</td>\n",
       "      <td>2020-10-23</td>\n",
       "      <td>2020-10-23@23</td>\n",
       "    </tr>\n",
       "  </tbody>\n",
       "</table>\n",
       "</div>"
      ],
      "text/plain": [
       "  sample_date  region                                           tek_list  \\\n",
       "0  2020-10-10      BE  [06862570-aeed-b5e1-f52b-c84f25b8e6cf, 07be94b...   \n",
       "1  2020-10-10  BE@TST  [017a5061-4411-f148-1b6e-fc39b08774b0, 054901d...   \n",
       "2  2020-10-10      CH  [6e577a0b-3e4c-524d-93b8-9fd05e741547, 4e31dbf...   \n",
       "3  2020-10-10      DE  [00882865-9954-1bc3-c24d-df00d63050d2, 00d72d3...   \n",
       "4  2020-10-10      EE  [281e3d47-d5ae-d556-019e-7dd151960654, 5e994cd...   \n",
       "\n",
       "  extraction_date extraction_date_with_hour  \n",
       "0      2020-10-23             2020-10-23@23  \n",
       "1      2020-10-23             2020-10-23@23  \n",
       "2      2020-10-23             2020-10-23@23  \n",
       "3      2020-10-23             2020-10-23@23  \n",
       "4      2020-10-23             2020-10-23@23  "
      ]
     },
     "execution_count": 17,
     "metadata": {},
     "output_type": "execute_result"
    }
   ],
   "source": [
    "tek_list_df = multi_backend_exposure_keys_df[\n",
    "    [\"sample_date_string\", \"region\", \"key_data\"]].copy()\n",
    "tek_list_df[\"key_data\"] = tek_list_df[\"key_data\"].apply(str)\n",
    "tek_list_df.rename(columns={\n",
    "    \"sample_date_string\": \"sample_date\",\n",
    "    \"key_data\": \"tek_list\"}, inplace=True)\n",
    "tek_list_df = tek_list_df.groupby(\n",
    "    [\"sample_date\", \"region\"]).tek_list.unique().reset_index()\n",
    "tek_list_df[\"extraction_date\"] = extraction_date\n",
    "tek_list_df[\"extraction_date_with_hour\"] = extraction_date_with_hour\n",
    "\n",
    "tek_list_path_prefix = \"Data/TEKs/\"\n",
    "tek_list_current_path = tek_list_path_prefix + f\"/Current/RadarCOVID-TEKs.json\"\n",
    "tek_list_daily_path = tek_list_path_prefix + f\"Daily/RadarCOVID-TEKs-{extraction_date}.json\"\n",
    "tek_list_hourly_path = tek_list_path_prefix + f\"Hourly/RadarCOVID-TEKs-{extraction_date_with_hour}.json\"\n",
    "\n",
    "for path in [tek_list_current_path, tek_list_daily_path, tek_list_hourly_path]:\n",
    "    os.makedirs(os.path.dirname(path), exist_ok=True)\n",
    "\n",
    "tek_list_df.drop(columns=[\"extraction_date\", \"extraction_date_with_hour\"]).to_json(\n",
    "    tek_list_current_path,\n",
    "    lines=True, orient=\"records\")\n",
    "tek_list_df.drop(columns=[\"extraction_date_with_hour\"]).to_json(\n",
    "    tek_list_daily_path,\n",
    "    lines=True, orient=\"records\")\n",
    "tek_list_df.to_json(\n",
    "    tek_list_hourly_path,\n",
    "    lines=True, orient=\"records\")\n",
    "tek_list_df.head()"
   ]
  },
  {
   "cell_type": "markdown",
   "metadata": {
    "papermill": {
     "duration": 0.046435,
     "end_time": "2020-10-23T23:26:11.657901",
     "exception": false,
     "start_time": "2020-10-23T23:26:11.611466",
     "status": "completed"
    },
    "tags": []
   },
   "source": [
    "### Load TEK Dumps"
   ]
  },
  {
   "cell_type": "code",
   "execution_count": 18,
   "metadata": {
    "execution": {
     "iopub.execute_input": "2020-10-23T23:26:11.760396Z",
     "iopub.status.busy": "2020-10-23T23:26:11.759864Z",
     "iopub.status.idle": "2020-10-23T23:26:11.763460Z",
     "shell.execute_reply": "2020-10-23T23:26:11.763047Z"
    },
    "papermill": {
     "duration": 0.05908,
     "end_time": "2020-10-23T23:26:11.763594",
     "exception": false,
     "start_time": "2020-10-23T23:26:11.704514",
     "status": "completed"
    },
    "tags": []
   },
   "outputs": [],
   "source": [
    "import glob\n",
    "\n",
    "def load_extracted_teks(mode, region=None, limit=None) -> pd.DataFrame:\n",
    "    extracted_teks_df = pd.DataFrame(columns=[\"region\"])\n",
    "    file_paths = list(reversed(sorted(glob.glob(tek_list_path_prefix + mode + \"/RadarCOVID-TEKs-*.json\"))))\n",
    "    if limit:\n",
    "        file_paths = file_paths[:limit]\n",
    "    for file_path in file_paths:\n",
    "        logging.info(f\"Loading TEKs from '{file_path}'...\")\n",
    "        iteration_extracted_teks_df = pd.read_json(file_path, lines=True)\n",
    "        extracted_teks_df = extracted_teks_df.append(\n",
    "            iteration_extracted_teks_df, sort=False)\n",
    "    extracted_teks_df[\"region\"] = \\\n",
    "        extracted_teks_df.region.fillna(spain_region_country_code).copy()\n",
    "    if region:\n",
    "        extracted_teks_df = \\\n",
    "            extracted_teks_df[extracted_teks_df.region == region]\n",
    "    return extracted_teks_df"
   ]
  },
  {
   "cell_type": "code",
   "execution_count": 19,
   "metadata": {
    "collapsed": false,
    "execution": {
     "iopub.execute_input": "2020-10-23T23:26:11.866779Z",
     "iopub.status.busy": "2020-10-23T23:26:11.866267Z",
     "iopub.status.idle": "2020-10-23T23:26:12.415243Z",
     "shell.execute_reply": "2020-10-23T23:26:12.415679Z"
    },
    "papermill": {
     "duration": 0.604151,
     "end_time": "2020-10-23T23:26:12.415839",
     "exception": false,
     "start_time": "2020-10-23T23:26:11.811688",
     "status": "completed"
    },
    "pycharm": {
     "name": "#%%\n"
    },
    "tags": []
   },
   "outputs": [
    {
     "data": {
      "text/html": [
       "<div>\n",
       "<style scoped>\n",
       "    .dataframe tbody tr th:only-of-type {\n",
       "        vertical-align: middle;\n",
       "    }\n",
       "\n",
       "    .dataframe tbody tr th {\n",
       "        vertical-align: top;\n",
       "    }\n",
       "\n",
       "    .dataframe thead th {\n",
       "        text-align: right;\n",
       "    }\n",
       "</style>\n",
       "<table border=\"1\" class=\"dataframe\">\n",
       "  <thead>\n",
       "    <tr style=\"text-align: right;\">\n",
       "      <th></th>\n",
       "      <th>region</th>\n",
       "      <th>sample_date</th>\n",
       "      <th>tek_list</th>\n",
       "      <th>extraction_date</th>\n",
       "      <th>extraction_date_with_hour</th>\n",
       "    </tr>\n",
       "  </thead>\n",
       "  <tbody>\n",
       "    <tr>\n",
       "      <th>5</th>\n",
       "      <td>ES</td>\n",
       "      <td>2020-10-10</td>\n",
       "      <td>[e6462082-a8e4-17c3-d013-8927f37d39bc, bcd68f2...</td>\n",
       "      <td>2020-10-23</td>\n",
       "      <td>NaN</td>\n",
       "    </tr>\n",
       "    <tr>\n",
       "      <th>15</th>\n",
       "      <td>ES</td>\n",
       "      <td>2020-10-11</td>\n",
       "      <td>[e3976d47-a0cc-50b0-f445-00528a1128a5, cc14a8f...</td>\n",
       "      <td>2020-10-23</td>\n",
       "      <td>NaN</td>\n",
       "    </tr>\n",
       "    <tr>\n",
       "      <th>25</th>\n",
       "      <td>ES</td>\n",
       "      <td>2020-10-12</td>\n",
       "      <td>[a387cfe5-31f1-99fd-dd41-3e12cf93bd84, 98034ea...</td>\n",
       "      <td>2020-10-23</td>\n",
       "      <td>NaN</td>\n",
       "    </tr>\n",
       "    <tr>\n",
       "      <th>35</th>\n",
       "      <td>ES</td>\n",
       "      <td>2020-10-13</td>\n",
       "      <td>[72e14bff-08c3-9526-ba63-51a5b5e16ee4, f6329ec...</td>\n",
       "      <td>2020-10-23</td>\n",
       "      <td>NaN</td>\n",
       "    </tr>\n",
       "    <tr>\n",
       "      <th>45</th>\n",
       "      <td>ES</td>\n",
       "      <td>2020-10-14</td>\n",
       "      <td>[4cac6f68-e9b0-0369-3b65-7ee6098b0f7d, de3b1e0...</td>\n",
       "      <td>2020-10-23</td>\n",
       "      <td>NaN</td>\n",
       "    </tr>\n",
       "  </tbody>\n",
       "</table>\n",
       "</div>"
      ],
      "text/plain": [
       "   region sample_date                                           tek_list  \\\n",
       "5      ES  2020-10-10  [e6462082-a8e4-17c3-d013-8927f37d39bc, bcd68f2...   \n",
       "15     ES  2020-10-11  [e3976d47-a0cc-50b0-f445-00528a1128a5, cc14a8f...   \n",
       "25     ES  2020-10-12  [a387cfe5-31f1-99fd-dd41-3e12cf93bd84, 98034ea...   \n",
       "35     ES  2020-10-13  [72e14bff-08c3-9526-ba63-51a5b5e16ee4, f6329ec...   \n",
       "45     ES  2020-10-14  [4cac6f68-e9b0-0369-3b65-7ee6098b0f7d, de3b1e0...   \n",
       "\n",
       "   extraction_date extraction_date_with_hour  \n",
       "5       2020-10-23                       NaN  \n",
       "15      2020-10-23                       NaN  \n",
       "25      2020-10-23                       NaN  \n",
       "35      2020-10-23                       NaN  \n",
       "45      2020-10-23                       NaN  "
      ]
     },
     "execution_count": 19,
     "metadata": {},
     "output_type": "execute_result"
    }
   ],
   "source": [
    "daily_extracted_teks_df = load_extracted_teks(\n",
    "    mode=\"Daily\",\n",
    "    region=report_backend_identifier,\n",
    "    limit=tek_dumps_load_limit)\n",
    "daily_extracted_teks_df.head()"
   ]
  },
  {
   "cell_type": "code",
   "execution_count": 20,
   "metadata": {
    "collapsed": false,
    "execution": {
     "iopub.execute_input": "2020-10-23T23:26:12.528811Z",
     "iopub.status.busy": "2020-10-23T23:26:12.521388Z",
     "iopub.status.idle": "2020-10-23T23:26:12.530931Z",
     "shell.execute_reply": "2020-10-23T23:26:12.531360Z"
    },
    "papermill": {
     "duration": 0.066931,
     "end_time": "2020-10-23T23:26:12.531512",
     "exception": false,
     "start_time": "2020-10-23T23:26:12.464581",
     "status": "completed"
    },
    "pycharm": {
     "name": "#%%\n"
    },
    "tags": []
   },
   "outputs": [
    {
     "data": {
      "text/html": [
       "<div>\n",
       "<style scoped>\n",
       "    .dataframe tbody tr th:only-of-type {\n",
       "        vertical-align: middle;\n",
       "    }\n",
       "\n",
       "    .dataframe tbody tr th {\n",
       "        vertical-align: top;\n",
       "    }\n",
       "\n",
       "    .dataframe thead th {\n",
       "        text-align: right;\n",
       "    }\n",
       "</style>\n",
       "<table border=\"1\" class=\"dataframe\">\n",
       "  <thead>\n",
       "    <tr style=\"text-align: right;\">\n",
       "      <th></th>\n",
       "      <th>shared_teks_by_generation_date</th>\n",
       "    </tr>\n",
       "    <tr>\n",
       "      <th>sample_date_string</th>\n",
       "      <th></th>\n",
       "    </tr>\n",
       "  </thead>\n",
       "  <tbody>\n",
       "    <tr>\n",
       "      <th>2020-10-23</th>\n",
       "      <td>167</td>\n",
       "    </tr>\n",
       "    <tr>\n",
       "      <th>2020-10-22</th>\n",
       "      <td>325</td>\n",
       "    </tr>\n",
       "    <tr>\n",
       "      <th>2020-10-21</th>\n",
       "      <td>418</td>\n",
       "    </tr>\n",
       "    <tr>\n",
       "      <th>2020-10-20</th>\n",
       "      <td>522</td>\n",
       "    </tr>\n",
       "    <tr>\n",
       "      <th>2020-10-19</th>\n",
       "      <td>598</td>\n",
       "    </tr>\n",
       "  </tbody>\n",
       "</table>\n",
       "</div>"
      ],
      "text/plain": [
       "                    shared_teks_by_generation_date\n",
       "sample_date_string                                \n",
       "2020-10-23                                     167\n",
       "2020-10-22                                     325\n",
       "2020-10-21                                     418\n",
       "2020-10-20                                     522\n",
       "2020-10-19                                     598"
      ]
     },
     "execution_count": 20,
     "metadata": {},
     "output_type": "execute_result"
    }
   ],
   "source": [
    "exposure_keys_summary_df_ = daily_extracted_teks_df \\\n",
    "    .sort_values(\"extraction_date\", ascending=False) \\\n",
    "    .groupby(\"sample_date\").tek_list.first() \\\n",
    "    .to_frame()\n",
    "exposure_keys_summary_df_.index.name = \"sample_date_string\"\n",
    "exposure_keys_summary_df_[\"tek_list\"] = \\\n",
    "    exposure_keys_summary_df_.tek_list.apply(len)\n",
    "exposure_keys_summary_df_ = exposure_keys_summary_df_ \\\n",
    "    .rename(columns={\"tek_list\": \"shared_teks_by_generation_date\"}) \\\n",
    "    .sort_index(ascending=False)\n",
    "exposure_keys_summary_df = exposure_keys_summary_df_\n",
    "exposure_keys_summary_df.head()"
   ]
  },
  {
   "cell_type": "markdown",
   "metadata": {
    "execution": {
     "iopub.execute_input": "2020-08-30T22:30:16.632967Z",
     "iopub.status.busy": "2020-08-30T22:30:16.632308Z",
     "iopub.status.idle": "2020-08-30T22:30:16.634945Z",
     "shell.execute_reply": "2020-08-30T22:30:16.635575Z"
    },
    "papermill": {
     "duration": 0.047674,
     "end_time": "2020-10-23T23:26:12.627282",
     "exception": false,
     "start_time": "2020-10-23T23:26:12.579608",
     "status": "completed"
    },
    "pycharm": {
     "name": "#%% md\n"
    },
    "tags": []
   },
   "source": [
    "### Daily New TEKs"
   ]
  },
  {
   "cell_type": "code",
   "execution_count": 21,
   "metadata": {
    "execution": {
     "iopub.execute_input": "2020-10-23T23:26:12.757060Z",
     "iopub.status.busy": "2020-10-23T23:26:12.746499Z",
     "iopub.status.idle": "2020-10-23T23:26:12.775329Z",
     "shell.execute_reply": "2020-10-23T23:26:12.775925Z"
    },
    "papermill": {
     "duration": 0.101434,
     "end_time": "2020-10-23T23:26:12.776130",
     "exception": false,
     "start_time": "2020-10-23T23:26:12.674696",
     "status": "completed"
    },
    "tags": []
   },
   "outputs": [
    {
     "data": {
      "text/html": [
       "<div>\n",
       "<style scoped>\n",
       "    .dataframe tbody tr th:only-of-type {\n",
       "        vertical-align: middle;\n",
       "    }\n",
       "\n",
       "    .dataframe tbody tr th {\n",
       "        vertical-align: top;\n",
       "    }\n",
       "\n",
       "    .dataframe thead th {\n",
       "        text-align: right;\n",
       "    }\n",
       "</style>\n",
       "<table border=\"1\" class=\"dataframe\">\n",
       "  <thead>\n",
       "    <tr style=\"text-align: right;\">\n",
       "      <th></th>\n",
       "      <th>tek_list</th>\n",
       "    </tr>\n",
       "    <tr>\n",
       "      <th>extraction_date</th>\n",
       "      <th></th>\n",
       "    </tr>\n",
       "  </thead>\n",
       "  <tbody>\n",
       "    <tr>\n",
       "      <th>2020-08-29</th>\n",
       "      <td>{bc310d8b-5ff6-15e6-49cc-bc6273ba0be4, 4b04049...</td>\n",
       "    </tr>\n",
       "    <tr>\n",
       "      <th>2020-08-30</th>\n",
       "      <td>{bc310d8b-5ff6-15e6-49cc-bc6273ba0be4, 4b04049...</td>\n",
       "    </tr>\n",
       "    <tr>\n",
       "      <th>2020-08-31</th>\n",
       "      <td>{bc310d8b-5ff6-15e6-49cc-bc6273ba0be4, 4b04049...</td>\n",
       "    </tr>\n",
       "    <tr>\n",
       "      <th>2020-09-01</th>\n",
       "      <td>{bc310d8b-5ff6-15e6-49cc-bc6273ba0be4, a088632...</td>\n",
       "    </tr>\n",
       "    <tr>\n",
       "      <th>2020-09-02</th>\n",
       "      <td>{bc310d8b-5ff6-15e6-49cc-bc6273ba0be4, 498debb...</td>\n",
       "    </tr>\n",
       "  </tbody>\n",
       "</table>\n",
       "</div>"
      ],
      "text/plain": [
       "                                                          tek_list\n",
       "extraction_date                                                   \n",
       "2020-08-29       {bc310d8b-5ff6-15e6-49cc-bc6273ba0be4, 4b04049...\n",
       "2020-08-30       {bc310d8b-5ff6-15e6-49cc-bc6273ba0be4, 4b04049...\n",
       "2020-08-31       {bc310d8b-5ff6-15e6-49cc-bc6273ba0be4, 4b04049...\n",
       "2020-09-01       {bc310d8b-5ff6-15e6-49cc-bc6273ba0be4, a088632...\n",
       "2020-09-02       {bc310d8b-5ff6-15e6-49cc-bc6273ba0be4, 498debb..."
      ]
     },
     "execution_count": 21,
     "metadata": {},
     "output_type": "execute_result"
    }
   ],
   "source": [
    "tek_list_df = daily_extracted_teks_df.groupby(\"extraction_date\").tek_list.apply(\n",
    "    lambda x: set(sum(x, []))).reset_index()\n",
    "tek_list_df = tek_list_df.set_index(\"extraction_date\").sort_index(ascending=True)\n",
    "tek_list_df.head()"
   ]
  },
  {
   "cell_type": "code",
   "execution_count": 22,
   "metadata": {
    "collapsed": false,
    "execution": {
     "iopub.execute_input": "2020-10-23T23:26:12.924598Z",
     "iopub.status.busy": "2020-10-23T23:26:12.890148Z",
     "iopub.status.idle": "2020-10-23T23:26:13.930846Z",
     "shell.execute_reply": "2020-10-23T23:26:13.930360Z"
    },
    "papermill": {
     "duration": 1.107253,
     "end_time": "2020-10-23T23:26:13.930975",
     "exception": false,
     "start_time": "2020-10-23T23:26:12.823722",
     "status": "completed"
    },
    "pycharm": {
     "name": "#%%\n"
    },
    "tags": []
   },
   "outputs": [
    {
     "name": "stderr",
     "output_type": "stream",
     "text": [
      "<ipython-input-22-827222b35590>:4: FutureWarning: `item` has been deprecated and will be removed in a future version\n",
      "  day_new_teks_set = day_new_teks_set_df[\n"
     ]
    },
    {
     "data": {
      "text/html": [
       "<div>\n",
       "<style scoped>\n",
       "    .dataframe tbody tr th:only-of-type {\n",
       "        vertical-align: middle;\n",
       "    }\n",
       "\n",
       "    .dataframe tbody tr th {\n",
       "        vertical-align: top;\n",
       "    }\n",
       "\n",
       "    .dataframe thead th {\n",
       "        text-align: right;\n",
       "    }\n",
       "</style>\n",
       "<table border=\"1\" class=\"dataframe\">\n",
       "  <thead>\n",
       "    <tr style=\"text-align: right;\">\n",
       "      <th></th>\n",
       "      <th>upload_date</th>\n",
       "      <th>generation_date</th>\n",
       "      <th>shared_teks</th>\n",
       "      <th>generation_to_upload_days</th>\n",
       "    </tr>\n",
       "  </thead>\n",
       "  <tbody>\n",
       "    <tr>\n",
       "      <th>10</th>\n",
       "      <td>2020-08-30</td>\n",
       "      <td>2020-08-29</td>\n",
       "      <td>16</td>\n",
       "      <td>1</td>\n",
       "    </tr>\n",
       "    <tr>\n",
       "      <th>9</th>\n",
       "      <td>2020-08-30</td>\n",
       "      <td>2020-08-28</td>\n",
       "      <td>5</td>\n",
       "      <td>2</td>\n",
       "    </tr>\n",
       "    <tr>\n",
       "      <th>8</th>\n",
       "      <td>2020-08-30</td>\n",
       "      <td>2020-08-27</td>\n",
       "      <td>3</td>\n",
       "      <td>3</td>\n",
       "    </tr>\n",
       "    <tr>\n",
       "      <th>7</th>\n",
       "      <td>2020-08-30</td>\n",
       "      <td>2020-08-26</td>\n",
       "      <td>3</td>\n",
       "      <td>4</td>\n",
       "    </tr>\n",
       "    <tr>\n",
       "      <th>6</th>\n",
       "      <td>2020-08-30</td>\n",
       "      <td>2020-08-25</td>\n",
       "      <td>2</td>\n",
       "      <td>5</td>\n",
       "    </tr>\n",
       "  </tbody>\n",
       "</table>\n",
       "</div>"
      ],
      "text/plain": [
       "   upload_date generation_date  shared_teks  generation_to_upload_days\n",
       "10  2020-08-30      2020-08-29           16                          1\n",
       "9   2020-08-30      2020-08-28            5                          2\n",
       "8   2020-08-30      2020-08-27            3                          3\n",
       "7   2020-08-30      2020-08-26            3                          4\n",
       "6   2020-08-30      2020-08-25            2                          5"
      ]
     },
     "execution_count": 22,
     "metadata": {},
     "output_type": "execute_result"
    }
   ],
   "source": [
    "def compute_teks_by_generation_and_upload_date(date):\n",
    "    day_new_teks_set_df = tek_list_df.copy().diff()\n",
    "    try:\n",
    "        day_new_teks_set = day_new_teks_set_df[\n",
    "            day_new_teks_set_df.index == date].tek_list.item()\n",
    "    except ValueError:\n",
    "        day_new_teks_set = None\n",
    "    if pd.isna(day_new_teks_set):\n",
    "        day_new_teks_set = set()\n",
    "    day_new_teks_df = daily_extracted_teks_df[\n",
    "        daily_extracted_teks_df.extraction_date == date].copy()\n",
    "    day_new_teks_df[\"shared_teks\"] = \\\n",
    "        day_new_teks_df.tek_list.apply(lambda x: set(x).intersection(day_new_teks_set))\n",
    "    day_new_teks_df[\"shared_teks\"] = \\\n",
    "        day_new_teks_df.shared_teks.apply(len)\n",
    "    day_new_teks_df[\"upload_date\"] = date\n",
    "    day_new_teks_df.rename(columns={\"sample_date\": \"generation_date\"}, inplace=True)\n",
    "    day_new_teks_df = day_new_teks_df[\n",
    "        [\"upload_date\", \"generation_date\", \"shared_teks\"]]\n",
    "    day_new_teks_df[\"generation_to_upload_days\"] = \\\n",
    "        (pd.to_datetime(day_new_teks_df.upload_date) -\n",
    "         pd.to_datetime(day_new_teks_df.generation_date)).dt.days\n",
    "    day_new_teks_df = day_new_teks_df[day_new_teks_df.shared_teks > 0]\n",
    "    return day_new_teks_df\n",
    "\n",
    "shared_teks_generation_to_upload_df = pd.DataFrame()\n",
    "for upload_date in daily_extracted_teks_df.extraction_date.unique():\n",
    "    shared_teks_generation_to_upload_df = \\\n",
    "        shared_teks_generation_to_upload_df.append(\n",
    "            compute_teks_by_generation_and_upload_date(date=upload_date))\n",
    "shared_teks_generation_to_upload_df \\\n",
    "    .sort_values([\"upload_date\", \"generation_date\"], ascending=False, inplace=True)\n",
    "shared_teks_generation_to_upload_df.tail()"
   ]
  },
  {
   "cell_type": "code",
   "execution_count": 23,
   "metadata": {
    "collapsed": false,
    "execution": {
     "iopub.execute_input": "2020-10-23T23:26:14.047386Z",
     "iopub.status.busy": "2020-10-23T23:26:14.046824Z",
     "iopub.status.idle": "2020-10-23T23:26:14.051424Z",
     "shell.execute_reply": "2020-10-23T23:26:14.050940Z"
    },
    "papermill": {
     "duration": 0.068818,
     "end_time": "2020-10-23T23:26:14.051548",
     "exception": false,
     "start_time": "2020-10-23T23:26:13.982730",
     "status": "completed"
    },
    "pycharm": {
     "name": "#%%\n"
    },
    "tags": []
   },
   "outputs": [
    {
     "data": {
      "text/html": [
       "<div>\n",
       "<style scoped>\n",
       "    .dataframe tbody tr th:only-of-type {\n",
       "        vertical-align: middle;\n",
       "    }\n",
       "\n",
       "    .dataframe tbody tr th {\n",
       "        vertical-align: top;\n",
       "    }\n",
       "\n",
       "    .dataframe thead th {\n",
       "        text-align: right;\n",
       "    }\n",
       "</style>\n",
       "<table border=\"1\" class=\"dataframe\">\n",
       "  <thead>\n",
       "    <tr style=\"text-align: right;\">\n",
       "      <th></th>\n",
       "      <th>upload_date</th>\n",
       "      <th>generation_date</th>\n",
       "      <th>shared_teks</th>\n",
       "      <th>generation_to_upload_days</th>\n",
       "    </tr>\n",
       "  </thead>\n",
       "  <tbody>\n",
       "    <tr>\n",
       "      <th>45</th>\n",
       "      <td>2020-10-23</td>\n",
       "      <td>2020-10-14</td>\n",
       "      <td>9</td>\n",
       "      <td>9</td>\n",
       "    </tr>\n",
       "    <tr>\n",
       "      <th>35</th>\n",
       "      <td>2020-10-23</td>\n",
       "      <td>2020-10-13</td>\n",
       "      <td>3</td>\n",
       "      <td>10</td>\n",
       "    </tr>\n",
       "    <tr>\n",
       "      <th>25</th>\n",
       "      <td>2020-10-23</td>\n",
       "      <td>2020-10-12</td>\n",
       "      <td>3</td>\n",
       "      <td>11</td>\n",
       "    </tr>\n",
       "    <tr>\n",
       "      <th>15</th>\n",
       "      <td>2020-10-23</td>\n",
       "      <td>2020-10-11</td>\n",
       "      <td>1</td>\n",
       "      <td>12</td>\n",
       "    </tr>\n",
       "    <tr>\n",
       "      <th>5</th>\n",
       "      <td>2020-10-23</td>\n",
       "      <td>2020-10-10</td>\n",
       "      <td>1</td>\n",
       "      <td>13</td>\n",
       "    </tr>\n",
       "  </tbody>\n",
       "</table>\n",
       "</div>"
      ],
      "text/plain": [
       "   upload_date generation_date  shared_teks  generation_to_upload_days\n",
       "45  2020-10-23      2020-10-14            9                          9\n",
       "35  2020-10-23      2020-10-13            3                         10\n",
       "25  2020-10-23      2020-10-12            3                         11\n",
       "15  2020-10-23      2020-10-11            1                         12\n",
       "5   2020-10-23      2020-10-10            1                         13"
      ]
     },
     "execution_count": 23,
     "metadata": {},
     "output_type": "execute_result"
    }
   ],
   "source": [
    "today_new_teks_df = \\\n",
    "    shared_teks_generation_to_upload_df[\n",
    "        shared_teks_generation_to_upload_df.upload_date == extraction_date].copy()\n",
    "today_new_teks_df.tail()"
   ]
  },
  {
   "cell_type": "code",
   "execution_count": 24,
   "metadata": {
    "collapsed": false,
    "execution": {
     "iopub.execute_input": "2020-10-23T23:26:14.180114Z",
     "iopub.status.busy": "2020-10-23T23:26:14.179511Z",
     "iopub.status.idle": "2020-10-23T23:26:14.609174Z",
     "shell.execute_reply": "2020-10-23T23:26:14.609959Z"
    },
    "papermill": {
     "duration": 0.50641,
     "end_time": "2020-10-23T23:26:14.610119",
     "exception": false,
     "start_time": "2020-10-23T23:26:14.103709",
     "status": "completed"
    },
    "pycharm": {
     "name": "#%%\n"
    },
    "tags": []
   },
   "outputs": [
    {
     "data": {
      "image/png": "[encoded data removed]",
      "text/plain": [
       "<Figure size 1080x432 with 1 Axes>"
      ]
     },
     "metadata": {},
     "output_type": "display_data"
    }
   ],
   "source": [
    "if not today_new_teks_df.empty:\n",
    "    today_new_teks_df.set_index(\"generation_to_upload_days\") \\\n",
    "        .sort_index().shared_teks.plot.bar()"
   ]
  },
  {
   "cell_type": "code",
   "execution_count": 25,
   "metadata": {
    "collapsed": false,
    "execution": {
     "iopub.execute_input": "2020-10-23T23:26:14.731072Z",
     "iopub.status.busy": "2020-10-23T23:26:14.730096Z",
     "iopub.status.idle": "2020-10-23T23:26:14.746390Z",
     "shell.execute_reply": "2020-10-23T23:26:14.746924Z"
    },
    "papermill": {
     "duration": 0.084933,
     "end_time": "2020-10-23T23:26:14.747106",
     "exception": false,
     "start_time": "2020-10-23T23:26:14.662173",
     "status": "completed"
    },
    "pycharm": {
     "name": "#%%\n"
    },
    "tags": []
   },
   "outputs": [
    {
     "data": {
      "text/html": [
       "<div>\n",
       "<style scoped>\n",
       "    .dataframe tbody tr th:only-of-type {\n",
       "        vertical-align: middle;\n",
       "    }\n",
       "\n",
       "    .dataframe tbody tr th {\n",
       "        vertical-align: top;\n",
       "    }\n",
       "\n",
       "    .dataframe thead th {\n",
       "        text-align: right;\n",
       "    }\n",
       "</style>\n",
       "<table border=\"1\" class=\"dataframe\">\n",
       "  <thead>\n",
       "    <tr style=\"text-align: right;\">\n",
       "      <th>generation_to_upload_days</th>\n",
       "      <th>0</th>\n",
       "      <th>1</th>\n",
       "      <th>2</th>\n",
       "      <th>3</th>\n",
       "      <th>4</th>\n",
       "      <th>5</th>\n",
       "      <th>6</th>\n",
       "      <th>7</th>\n",
       "      <th>8</th>\n",
       "      <th>9</th>\n",
       "      <th>10</th>\n",
       "      <th>11</th>\n",
       "      <th>12</th>\n",
       "      <th>13</th>\n",
       "    </tr>\n",
       "    <tr>\n",
       "      <th>upload_date</th>\n",
       "      <th></th>\n",
       "      <th></th>\n",
       "      <th></th>\n",
       "      <th></th>\n",
       "      <th></th>\n",
       "      <th></th>\n",
       "      <th></th>\n",
       "      <th></th>\n",
       "      <th></th>\n",
       "      <th></th>\n",
       "      <th></th>\n",
       "      <th></th>\n",
       "      <th></th>\n",
       "      <th></th>\n",
       "    </tr>\n",
       "  </thead>\n",
       "  <tbody>\n",
       "    <tr>\n",
       "      <th>2020-10-23</th>\n",
       "      <td>167</td>\n",
       "      <td>145</td>\n",
       "      <td>129</td>\n",
       "      <td>106</td>\n",
       "      <td>85</td>\n",
       "      <td>58</td>\n",
       "      <td>29</td>\n",
       "      <td>19</td>\n",
       "      <td>14</td>\n",
       "      <td>9</td>\n",
       "      <td>3</td>\n",
       "      <td>3</td>\n",
       "      <td>1</td>\n",
       "      <td>1</td>\n",
       "    </tr>\n",
       "    <tr>\n",
       "      <th>2020-10-22</th>\n",
       "      <td>180</td>\n",
       "      <td>132</td>\n",
       "      <td>114</td>\n",
       "      <td>100</td>\n",
       "      <td>76</td>\n",
       "      <td>51</td>\n",
       "      <td>26</td>\n",
       "      <td>18</td>\n",
       "      <td>10</td>\n",
       "      <td>6</td>\n",
       "      <td>4</td>\n",
       "      <td>4</td>\n",
       "      <td>3</td>\n",
       "      <td>2</td>\n",
       "    </tr>\n",
       "    <tr>\n",
       "      <th>2020-10-21</th>\n",
       "      <td>157</td>\n",
       "      <td>153</td>\n",
       "      <td>136</td>\n",
       "      <td>120</td>\n",
       "      <td>97</td>\n",
       "      <td>62</td>\n",
       "      <td>34</td>\n",
       "      <td>28</td>\n",
       "      <td>20</td>\n",
       "      <td>15</td>\n",
       "      <td>9</td>\n",
       "      <td>4</td>\n",
       "      <td>3</td>\n",
       "      <td>3</td>\n",
       "    </tr>\n",
       "    <tr>\n",
       "      <th>2020-10-20</th>\n",
       "      <td>149</td>\n",
       "      <td>135</td>\n",
       "      <td>119</td>\n",
       "      <td>106</td>\n",
       "      <td>79</td>\n",
       "      <td>59</td>\n",
       "      <td>47</td>\n",
       "      <td>25</td>\n",
       "      <td>21</td>\n",
       "      <td>13</td>\n",
       "      <td>8</td>\n",
       "      <td>6</td>\n",
       "      <td>3</td>\n",
       "      <td>2</td>\n",
       "    </tr>\n",
       "    <tr>\n",
       "      <th>2020-10-19</th>\n",
       "      <td>142</td>\n",
       "      <td>123</td>\n",
       "      <td>118</td>\n",
       "      <td>105</td>\n",
       "      <td>86</td>\n",
       "      <td>72</td>\n",
       "      <td>45</td>\n",
       "      <td>33</td>\n",
       "      <td>22</td>\n",
       "      <td>17</td>\n",
       "      <td>12</td>\n",
       "      <td>9</td>\n",
       "      <td>4</td>\n",
       "      <td>3</td>\n",
       "    </tr>\n",
       "  </tbody>\n",
       "</table>\n",
       "</div>"
      ],
      "text/plain": [
       "generation_to_upload_days   0    1    2    3   4   5   6   7   8   9   10  11  \\\n",
       "upload_date                                                                     \n",
       "2020-10-23                 167  145  129  106  85  58  29  19  14   9   3   3   \n",
       "2020-10-22                 180  132  114  100  76  51  26  18  10   6   4   4   \n",
       "2020-10-21                 157  153  136  120  97  62  34  28  20  15   9   4   \n",
       "2020-10-20                 149  135  119  106  79  59  47  25  21  13   8   6   \n",
       "2020-10-19                 142  123  118  105  86  72  45  33  22  17  12   9   \n",
       "\n",
       "generation_to_upload_days  12  13  \n",
       "upload_date                        \n",
       "2020-10-23                  1   1  \n",
       "2020-10-22                  3   2  \n",
       "2020-10-21                  3   3  \n",
       "2020-10-20                  3   2  \n",
       "2020-10-19                  4   3  "
      ]
     },
     "execution_count": 25,
     "metadata": {},
     "output_type": "execute_result"
    }
   ],
   "source": [
    "generation_to_upload_period_pivot_df = \\\n",
    "    shared_teks_generation_to_upload_df[\n",
    "        [\"upload_date\", \"generation_to_upload_days\", \"shared_teks\"]] \\\n",
    "        .pivot(index=\"upload_date\", columns=\"generation_to_upload_days\") \\\n",
    "        .sort_index(ascending=False).fillna(0).astype(int) \\\n",
    "        .droplevel(level=0, axis=1)\n",
    "generation_to_upload_period_pivot_df.head()"
   ]
  },
  {
   "cell_type": "code",
   "execution_count": 26,
   "metadata": {
    "collapsed": false,
    "execution": {
     "iopub.execute_input": "2020-10-23T23:26:14.874472Z",
     "iopub.status.busy": "2020-10-23T23:26:14.873827Z",
     "iopub.status.idle": "2020-10-23T23:26:14.877516Z",
     "shell.execute_reply": "2020-10-23T23:26:14.877039Z"
    },
    "papermill": {
     "duration": 0.077952,
     "end_time": "2020-10-23T23:26:14.877648",
     "exception": false,
     "start_time": "2020-10-23T23:26:14.799696",
     "status": "completed"
    },
    "pycharm": {
     "name": "#%%\n"
    },
    "tags": []
   },
   "outputs": [
    {
     "data": {
      "text/html": [
       "<div>\n",
       "<style scoped>\n",
       "    .dataframe tbody tr th:only-of-type {\n",
       "        vertical-align: middle;\n",
       "    }\n",
       "\n",
       "    .dataframe tbody tr th {\n",
       "        vertical-align: top;\n",
       "    }\n",
       "\n",
       "    .dataframe thead th {\n",
       "        text-align: right;\n",
       "    }\n",
       "</style>\n",
       "<table border=\"1\" class=\"dataframe\">\n",
       "  <thead>\n",
       "    <tr style=\"text-align: right;\">\n",
       "      <th></th>\n",
       "      <th>sample_date_string</th>\n",
       "      <th>shared_teks_by_upload_date</th>\n",
       "    </tr>\n",
       "  </thead>\n",
       "  <tbody>\n",
       "    <tr>\n",
       "      <th>51</th>\n",
       "      <td>2020-10-19</td>\n",
       "      <td>791.0</td>\n",
       "    </tr>\n",
       "    <tr>\n",
       "      <th>52</th>\n",
       "      <td>2020-10-20</td>\n",
       "      <td>772.0</td>\n",
       "    </tr>\n",
       "    <tr>\n",
       "      <th>53</th>\n",
       "      <td>2020-10-21</td>\n",
       "      <td>841.0</td>\n",
       "    </tr>\n",
       "    <tr>\n",
       "      <th>54</th>\n",
       "      <td>2020-10-22</td>\n",
       "      <td>726.0</td>\n",
       "    </tr>\n",
       "    <tr>\n",
       "      <th>55</th>\n",
       "      <td>2020-10-23</td>\n",
       "      <td>769.0</td>\n",
       "    </tr>\n",
       "  </tbody>\n",
       "</table>\n",
       "</div>"
      ],
      "text/plain": [
       "   sample_date_string  shared_teks_by_upload_date\n",
       "51         2020-10-19                       791.0\n",
       "52         2020-10-20                       772.0\n",
       "53         2020-10-21                       841.0\n",
       "54         2020-10-22                       726.0\n",
       "55         2020-10-23                       769.0"
      ]
     },
     "execution_count": 26,
     "metadata": {},
     "output_type": "execute_result"
    }
   ],
   "source": [
    "new_tek_df = tek_list_df.diff().tek_list.apply(\n",
    "    lambda x: len(x) if not pd.isna(x) else None).to_frame().reset_index()\n",
    "new_tek_df.rename(columns={\n",
    "    \"tek_list\": \"shared_teks_by_upload_date\",\n",
    "    \"extraction_date\": \"sample_date_string\",}, inplace=True)\n",
    "new_tek_df.tail()"
   ]
  },
  {
   "cell_type": "code",
   "execution_count": 27,
   "metadata": {
    "execution": {
     "iopub.execute_input": "2020-10-23T23:26:14.989755Z",
     "iopub.status.busy": "2020-10-23T23:26:14.989177Z",
     "iopub.status.idle": "2020-10-23T23:26:15.009697Z",
     "shell.execute_reply": "2020-10-23T23:26:15.009048Z"
    },
    "papermill": {
     "duration": 0.079993,
     "end_time": "2020-10-23T23:26:15.009868",
     "exception": false,
     "start_time": "2020-10-23T23:26:14.929875",
     "status": "completed"
    },
    "pycharm": {
     "name": "#%%\n"
    },
    "tags": []
   },
   "outputs": [
    {
     "data": {
      "text/html": [
       "<div>\n",
       "<style scoped>\n",
       "    .dataframe tbody tr th:only-of-type {\n",
       "        vertical-align: middle;\n",
       "    }\n",
       "\n",
       "    .dataframe tbody tr th {\n",
       "        vertical-align: top;\n",
       "    }\n",
       "\n",
       "    .dataframe thead th {\n",
       "        text-align: right;\n",
       "    }\n",
       "</style>\n",
       "<table border=\"1\" class=\"dataframe\">\n",
       "  <thead>\n",
       "    <tr style=\"text-align: right;\">\n",
       "      <th></th>\n",
       "      <th>region</th>\n",
       "      <th>sample_date</th>\n",
       "      <th>tek_list</th>\n",
       "      <th>extraction_date</th>\n",
       "      <th>extraction_date_with_hour</th>\n",
       "      <th>new_sample_extraction_date</th>\n",
       "    </tr>\n",
       "  </thead>\n",
       "  <tbody>\n",
       "    <tr>\n",
       "      <th>5</th>\n",
       "      <td>ES</td>\n",
       "      <td>2020-10-10</td>\n",
       "      <td>[e6462082-a8e4-17c3-d013-8927f37d39bc, bcd68f2...</td>\n",
       "      <td>2020-10-23</td>\n",
       "      <td>NaN</td>\n",
       "      <td>2020-10-11</td>\n",
       "    </tr>\n",
       "    <tr>\n",
       "      <th>15</th>\n",
       "      <td>ES</td>\n",
       "      <td>2020-10-11</td>\n",
       "      <td>[e3976d47-a0cc-50b0-f445-00528a1128a5, cc14a8f...</td>\n",
       "      <td>2020-10-23</td>\n",
       "      <td>NaN</td>\n",
       "      <td>2020-10-12</td>\n",
       "    </tr>\n",
       "    <tr>\n",
       "      <th>25</th>\n",
       "      <td>ES</td>\n",
       "      <td>2020-10-12</td>\n",
       "      <td>[a387cfe5-31f1-99fd-dd41-3e12cf93bd84, 98034ea...</td>\n",
       "      <td>2020-10-23</td>\n",
       "      <td>NaN</td>\n",
       "      <td>2020-10-13</td>\n",
       "    </tr>\n",
       "    <tr>\n",
       "      <th>35</th>\n",
       "      <td>ES</td>\n",
       "      <td>2020-10-13</td>\n",
       "      <td>[72e14bff-08c3-9526-ba63-51a5b5e16ee4, f6329ec...</td>\n",
       "      <td>2020-10-23</td>\n",
       "      <td>NaN</td>\n",
       "      <td>2020-10-14</td>\n",
       "    </tr>\n",
       "    <tr>\n",
       "      <th>45</th>\n",
       "      <td>ES</td>\n",
       "      <td>2020-10-14</td>\n",
       "      <td>[4cac6f68-e9b0-0369-3b65-7ee6098b0f7d, de3b1e0...</td>\n",
       "      <td>2020-10-23</td>\n",
       "      <td>NaN</td>\n",
       "      <td>2020-10-15</td>\n",
       "    </tr>\n",
       "  </tbody>\n",
       "</table>\n",
       "</div>"
      ],
      "text/plain": [
       "   region sample_date                                           tek_list  \\\n",
       "5      ES  2020-10-10  [e6462082-a8e4-17c3-d013-8927f37d39bc, bcd68f2...   \n",
       "15     ES  2020-10-11  [e3976d47-a0cc-50b0-f445-00528a1128a5, cc14a8f...   \n",
       "25     ES  2020-10-12  [a387cfe5-31f1-99fd-dd41-3e12cf93bd84, 98034ea...   \n",
       "35     ES  2020-10-13  [72e14bff-08c3-9526-ba63-51a5b5e16ee4, f6329ec...   \n",
       "45     ES  2020-10-14  [4cac6f68-e9b0-0369-3b65-7ee6098b0f7d, de3b1e0...   \n",
       "\n",
       "   extraction_date extraction_date_with_hour new_sample_extraction_date  \n",
       "5       2020-10-23                       NaN                 2020-10-11  \n",
       "15      2020-10-23                       NaN                 2020-10-12  \n",
       "25      2020-10-23                       NaN                 2020-10-13  \n",
       "35      2020-10-23                       NaN                 2020-10-14  \n",
       "45      2020-10-23                       NaN                 2020-10-15  "
      ]
     },
     "execution_count": 27,
     "metadata": {},
     "output_type": "execute_result"
    }
   ],
   "source": [
    "estimated_shared_diagnoses_df = daily_extracted_teks_df.copy()\n",
    "estimated_shared_diagnoses_df[\"new_sample_extraction_date\"] = \\\n",
    "    pd.to_datetime(estimated_shared_diagnoses_df.sample_date) + datetime.timedelta(1)\n",
    "estimated_shared_diagnoses_df[\"extraction_date\"] = pd.to_datetime(estimated_shared_diagnoses_df.extraction_date)\n",
    "estimated_shared_diagnoses_df[\"sample_date\"] = pd.to_datetime(estimated_shared_diagnoses_df.sample_date)\n",
    "estimated_shared_diagnoses_df.head()"
   ]
  },
  {
   "cell_type": "code",
   "execution_count": 28,
   "metadata": {
    "collapsed": false,
    "execution": {
     "iopub.execute_input": "2020-10-23T23:26:15.159365Z",
     "iopub.status.busy": "2020-10-23T23:26:15.158805Z",
     "iopub.status.idle": "2020-10-23T23:26:15.161762Z",
     "shell.execute_reply": "2020-10-23T23:26:15.162174Z"
    },
    "papermill": {
     "duration": 0.098397,
     "end_time": "2020-10-23T23:26:15.162326",
     "exception": false,
     "start_time": "2020-10-23T23:26:15.063929",
     "status": "completed"
    },
    "pycharm": {
     "name": "#%%\n"
    },
    "tags": []
   },
   "outputs": [
    {
     "data": {
      "text/html": [
       "<div>\n",
       "<style scoped>\n",
       "    .dataframe tbody tr th:only-of-type {\n",
       "        vertical-align: middle;\n",
       "    }\n",
       "\n",
       "    .dataframe tbody tr th {\n",
       "        vertical-align: top;\n",
       "    }\n",
       "\n",
       "    .dataframe thead th {\n",
       "        text-align: right;\n",
       "    }\n",
       "</style>\n",
       "<table border=\"1\" class=\"dataframe\">\n",
       "  <thead>\n",
       "    <tr style=\"text-align: right;\">\n",
       "      <th></th>\n",
       "      <th>extraction_date</th>\n",
       "      <th>same_day_tek_list</th>\n",
       "    </tr>\n",
       "  </thead>\n",
       "  <tbody>\n",
       "    <tr>\n",
       "      <th>128</th>\n",
       "      <td>2020-10-23</td>\n",
       "      <td>[c183bc1b-ab2d-b3e1-593a-25aa1a70be72, decd21d...</td>\n",
       "    </tr>\n",
       "    <tr>\n",
       "      <th>139</th>\n",
       "      <td>2020-10-22</td>\n",
       "      <td>[ffcfb805-c03e-e043-997b-fd875bc22cf2, 8e0508d...</td>\n",
       "    </tr>\n",
       "    <tr>\n",
       "      <th>90</th>\n",
       "      <td>2020-10-21</td>\n",
       "      <td>[63d1502a-a158-a5d2-001a-cbb82b9abcf5, ed1bc81...</td>\n",
       "    </tr>\n",
       "    <tr>\n",
       "      <th>78</th>\n",
       "      <td>2020-10-20</td>\n",
       "      <td>[97b27565-a475-f559-44f7-2b692ee719c3, a031a2f...</td>\n",
       "    </tr>\n",
       "    <tr>\n",
       "      <th>78</th>\n",
       "      <td>2020-10-19</td>\n",
       "      <td>[49c35d4b-f069-88fd-c596-f1e5dea1fc8b, b9dc5ad...</td>\n",
       "    </tr>\n",
       "  </tbody>\n",
       "</table>\n",
       "</div>"
      ],
      "text/plain": [
       "    extraction_date                                  same_day_tek_list\n",
       "128      2020-10-23  [c183bc1b-ab2d-b3e1-593a-25aa1a70be72, decd21d...\n",
       "139      2020-10-22  [ffcfb805-c03e-e043-997b-fd875bc22cf2, 8e0508d...\n",
       "90       2020-10-21  [63d1502a-a158-a5d2-001a-cbb82b9abcf5, ed1bc81...\n",
       "78       2020-10-20  [97b27565-a475-f559-44f7-2b692ee719c3, a031a2f...\n",
       "78       2020-10-19  [49c35d4b-f069-88fd-c596-f1e5dea1fc8b, b9dc5ad..."
      ]
     },
     "execution_count": 28,
     "metadata": {},
     "output_type": "execute_result"
    }
   ],
   "source": [
    "# Sometimes TEKs from the same day are uploaded, we do not count them as new TEK devices:\n",
    "same_day_tek_list_df = estimated_shared_diagnoses_df[\n",
    "    estimated_shared_diagnoses_df.sample_date == estimated_shared_diagnoses_df.extraction_date].copy()\n",
    "same_day_tek_list_df = same_day_tek_list_df[[\"extraction_date\", \"tek_list\"]].rename(\n",
    "    columns={\"tek_list\": \"same_day_tek_list\"})\n",
    "same_day_tek_list_df.head()"
   ]
  },
  {
   "cell_type": "code",
   "execution_count": 29,
   "metadata": {
    "collapsed": false,
    "execution": {
     "iopub.execute_input": "2020-10-23T23:26:15.271407Z",
     "iopub.status.busy": "2020-10-23T23:26:15.270828Z",
     "iopub.status.idle": "2020-10-23T23:26:15.285636Z",
     "shell.execute_reply": "2020-10-23T23:26:15.285151Z"
    },
    "papermill": {
     "duration": 0.070516,
     "end_time": "2020-10-23T23:26:15.285771",
     "exception": false,
     "start_time": "2020-10-23T23:26:15.215255",
     "status": "completed"
    },
    "pycharm": {
     "name": "#%%\n"
    },
    "tags": []
   },
   "outputs": [
    {
     "data": {
      "text/html": [
       "<div>\n",
       "<style scoped>\n",
       "    .dataframe tbody tr th:only-of-type {\n",
       "        vertical-align: middle;\n",
       "    }\n",
       "\n",
       "    .dataframe tbody tr th {\n",
       "        vertical-align: top;\n",
       "    }\n",
       "\n",
       "    .dataframe thead th {\n",
       "        text-align: right;\n",
       "    }\n",
       "</style>\n",
       "<table border=\"1\" class=\"dataframe\">\n",
       "  <thead>\n",
       "    <tr style=\"text-align: right;\">\n",
       "      <th></th>\n",
       "      <th>sample_date_string</th>\n",
       "      <th>shared_teks_uploaded_on_generation_date</th>\n",
       "    </tr>\n",
       "  </thead>\n",
       "  <tbody>\n",
       "    <tr>\n",
       "      <th>128</th>\n",
       "      <td>2020-10-23</td>\n",
       "      <td>167</td>\n",
       "    </tr>\n",
       "    <tr>\n",
       "      <th>139</th>\n",
       "      <td>2020-10-22</td>\n",
       "      <td>180</td>\n",
       "    </tr>\n",
       "    <tr>\n",
       "      <th>90</th>\n",
       "      <td>2020-10-21</td>\n",
       "      <td>157</td>\n",
       "    </tr>\n",
       "    <tr>\n",
       "      <th>78</th>\n",
       "      <td>2020-10-20</td>\n",
       "      <td>149</td>\n",
       "    </tr>\n",
       "    <tr>\n",
       "      <th>78</th>\n",
       "      <td>2020-10-19</td>\n",
       "      <td>142</td>\n",
       "    </tr>\n",
       "  </tbody>\n",
       "</table>\n",
       "</div>"
      ],
      "text/plain": [
       "    sample_date_string  shared_teks_uploaded_on_generation_date\n",
       "128         2020-10-23                                      167\n",
       "139         2020-10-22                                      180\n",
       "90          2020-10-21                                      157\n",
       "78          2020-10-20                                      149\n",
       "78          2020-10-19                                      142"
      ]
     },
     "execution_count": 29,
     "metadata": {},
     "output_type": "execute_result"
    }
   ],
   "source": [
    "shared_teks_uploaded_on_generation_date_df = same_day_tek_list_df.rename(\n",
    "    columns={\n",
    "        \"extraction_date\": \"sample_date_string\",\n",
    "        \"same_day_tek_list\": \"shared_teks_uploaded_on_generation_date\",\n",
    "    })\n",
    "shared_teks_uploaded_on_generation_date_df.shared_teks_uploaded_on_generation_date = \\\n",
    " shared_teks_uploaded_on_generation_date_df.shared_teks_uploaded_on_generation_date.apply(len)\n",
    "shared_teks_uploaded_on_generation_date_df.head()\n",
    "shared_teks_uploaded_on_generation_date_df[\"sample_date_string\"] = \\\n",
    "    shared_teks_uploaded_on_generation_date_df.sample_date_string.dt.strftime(\"%Y-%m-%d\")\n",
    "shared_teks_uploaded_on_generation_date_df.head()"
   ]
  },
  {
   "cell_type": "code",
   "execution_count": 30,
   "metadata": {
    "collapsed": false,
    "execution": {
     "iopub.execute_input": "2020-10-23T23:26:15.411760Z",
     "iopub.status.busy": "2020-10-23T23:26:15.410908Z",
     "iopub.status.idle": "2020-10-23T23:26:15.413725Z",
     "shell.execute_reply": "2020-10-23T23:26:15.414161Z"
    },
    "papermill": {
     "duration": 0.075974,
     "end_time": "2020-10-23T23:26:15.414317",
     "exception": false,
     "start_time": "2020-10-23T23:26:15.338343",
     "status": "completed"
    },
    "pycharm": {
     "name": "#%%\n"
    },
    "tags": []
   },
   "outputs": [
    {
     "data": {
      "text/html": [
       "<div>\n",
       "<style scoped>\n",
       "    .dataframe tbody tr th:only-of-type {\n",
       "        vertical-align: middle;\n",
       "    }\n",
       "\n",
       "    .dataframe tbody tr th {\n",
       "        vertical-align: top;\n",
       "    }\n",
       "\n",
       "    .dataframe thead th {\n",
       "        text-align: right;\n",
       "    }\n",
       "</style>\n",
       "<table border=\"1\" class=\"dataframe\">\n",
       "  <thead>\n",
       "    <tr style=\"text-align: right;\">\n",
       "      <th></th>\n",
       "      <th>region</th>\n",
       "      <th>sample_date</th>\n",
       "      <th>tek_list</th>\n",
       "      <th>extraction_date</th>\n",
       "      <th>extraction_date_with_hour</th>\n",
       "      <th>new_sample_extraction_date</th>\n",
       "    </tr>\n",
       "  </thead>\n",
       "  <tbody>\n",
       "    <tr>\n",
       "      <th>122</th>\n",
       "      <td>ES</td>\n",
       "      <td>2020-10-22</td>\n",
       "      <td>[90bdf3aa-9f0b-637e-f6cb-23d10feb6a6b, 950663d...</td>\n",
       "      <td>2020-10-23</td>\n",
       "      <td>NaN</td>\n",
       "      <td>2020-10-23</td>\n",
       "    </tr>\n",
       "    <tr>\n",
       "      <th>133</th>\n",
       "      <td>ES</td>\n",
       "      <td>2020-10-21</td>\n",
       "      <td>[40ae3e69-12c6-0482-2912-ea87d48b1aa3, 1afec6b...</td>\n",
       "      <td>2020-10-22</td>\n",
       "      <td>NaN</td>\n",
       "      <td>2020-10-22</td>\n",
       "    </tr>\n",
       "    <tr>\n",
       "      <th>85</th>\n",
       "      <td>ES</td>\n",
       "      <td>2020-10-20</td>\n",
       "      <td>[0f0e336e-b1c9-a45e-3043-5ed28b80e1b0, e143507...</td>\n",
       "      <td>2020-10-21</td>\n",
       "      <td>NaN</td>\n",
       "      <td>2020-10-21</td>\n",
       "    </tr>\n",
       "    <tr>\n",
       "      <th>73</th>\n",
       "      <td>ES</td>\n",
       "      <td>2020-10-19</td>\n",
       "      <td>[1c849f04-e59b-7f45-7e6b-e13356aec58b, 53ea152...</td>\n",
       "      <td>2020-10-20</td>\n",
       "      <td>NaN</td>\n",
       "      <td>2020-10-20</td>\n",
       "    </tr>\n",
       "    <tr>\n",
       "      <th>73</th>\n",
       "      <td>ES</td>\n",
       "      <td>2020-10-18</td>\n",
       "      <td>[d1d49196-d84e-b08c-f0b0-766022303d56, b51293d...</td>\n",
       "      <td>2020-10-19</td>\n",
       "      <td>NaN</td>\n",
       "      <td>2020-10-19</td>\n",
       "    </tr>\n",
       "  </tbody>\n",
       "</table>\n",
       "</div>"
      ],
      "text/plain": [
       "    region sample_date                                           tek_list  \\\n",
       "122     ES  2020-10-22  [90bdf3aa-9f0b-637e-f6cb-23d10feb6a6b, 950663d...   \n",
       "133     ES  2020-10-21  [40ae3e69-12c6-0482-2912-ea87d48b1aa3, 1afec6b...   \n",
       "85      ES  2020-10-20  [0f0e336e-b1c9-a45e-3043-5ed28b80e1b0, e143507...   \n",
       "73      ES  2020-10-19  [1c849f04-e59b-7f45-7e6b-e13356aec58b, 53ea152...   \n",
       "73      ES  2020-10-18  [d1d49196-d84e-b08c-f0b0-766022303d56, b51293d...   \n",
       "\n",
       "    extraction_date extraction_date_with_hour new_sample_extraction_date  \n",
       "122      2020-10-23                       NaN                 2020-10-23  \n",
       "133      2020-10-22                       NaN                 2020-10-22  \n",
       "85       2020-10-21                       NaN                 2020-10-21  \n",
       "73       2020-10-20                       NaN                 2020-10-20  \n",
       "73       2020-10-19                       NaN                 2020-10-19  "
      ]
     },
     "execution_count": 30,
     "metadata": {},
     "output_type": "execute_result"
    }
   ],
   "source": [
    "estimated_shared_diagnoses_df = estimated_shared_diagnoses_df[\n",
    "    estimated_shared_diagnoses_df.new_sample_extraction_date == estimated_shared_diagnoses_df.extraction_date]\n",
    "estimated_shared_diagnoses_df.head()"
   ]
  },
  {
   "cell_type": "code",
   "execution_count": 31,
   "metadata": {
    "collapsed": false,
    "execution": {
     "iopub.execute_input": "2020-10-23T23:26:15.538490Z",
     "iopub.status.busy": "2020-10-23T23:26:15.537958Z",
     "iopub.status.idle": "2020-10-23T23:26:15.556348Z",
     "shell.execute_reply": "2020-10-23T23:26:15.557006Z"
    },
    "papermill": {
     "duration": 0.086688,
     "end_time": "2020-10-23T23:26:15.557226",
     "exception": false,
     "start_time": "2020-10-23T23:26:15.470538",
     "status": "completed"
    },
    "pycharm": {
     "name": "#%%\n"
    },
    "tags": []
   },
   "outputs": [
    {
     "data": {
      "text/html": [
       "<div>\n",
       "<style scoped>\n",
       "    .dataframe tbody tr th:only-of-type {\n",
       "        vertical-align: middle;\n",
       "    }\n",
       "\n",
       "    .dataframe tbody tr th {\n",
       "        vertical-align: top;\n",
       "    }\n",
       "\n",
       "    .dataframe thead th {\n",
       "        text-align: right;\n",
       "    }\n",
       "</style>\n",
       "<table border=\"1\" class=\"dataframe\">\n",
       "  <thead>\n",
       "    <tr style=\"text-align: right;\">\n",
       "      <th></th>\n",
       "      <th>region</th>\n",
       "      <th>sample_date</th>\n",
       "      <th>tek_list</th>\n",
       "      <th>extraction_date</th>\n",
       "      <th>extraction_date_with_hour</th>\n",
       "      <th>new_sample_extraction_date</th>\n",
       "      <th>same_day_tek_list</th>\n",
       "    </tr>\n",
       "  </thead>\n",
       "  <tbody>\n",
       "    <tr>\n",
       "      <th>0</th>\n",
       "      <td>ES</td>\n",
       "      <td>2020-10-22</td>\n",
       "      <td>[90bdf3aa-9f0b-637e-f6cb-23d10feb6a6b, 950663d...</td>\n",
       "      <td>2020-10-23</td>\n",
       "      <td>NaN</td>\n",
       "      <td>2020-10-23</td>\n",
       "      <td>[ffcfb805-c03e-e043-997b-fd875bc22cf2, 8e0508d...</td>\n",
       "    </tr>\n",
       "    <tr>\n",
       "      <th>1</th>\n",
       "      <td>ES</td>\n",
       "      <td>2020-10-21</td>\n",
       "      <td>[40ae3e69-12c6-0482-2912-ea87d48b1aa3, 1afec6b...</td>\n",
       "      <td>2020-10-22</td>\n",
       "      <td>NaN</td>\n",
       "      <td>2020-10-22</td>\n",
       "      <td>[63d1502a-a158-a5d2-001a-cbb82b9abcf5, ed1bc81...</td>\n",
       "    </tr>\n",
       "    <tr>\n",
       "      <th>2</th>\n",
       "      <td>ES</td>\n",
       "      <td>2020-10-20</td>\n",
       "      <td>[0f0e336e-b1c9-a45e-3043-5ed28b80e1b0, e143507...</td>\n",
       "      <td>2020-10-21</td>\n",
       "      <td>NaN</td>\n",
       "      <td>2020-10-21</td>\n",
       "      <td>[97b27565-a475-f559-44f7-2b692ee719c3, a031a2f...</td>\n",
       "    </tr>\n",
       "    <tr>\n",
       "      <th>3</th>\n",
       "      <td>ES</td>\n",
       "      <td>2020-10-19</td>\n",
       "      <td>[1c849f04-e59b-7f45-7e6b-e13356aec58b, 53ea152...</td>\n",
       "      <td>2020-10-20</td>\n",
       "      <td>NaN</td>\n",
       "      <td>2020-10-20</td>\n",
       "      <td>[49c35d4b-f069-88fd-c596-f1e5dea1fc8b, b9dc5ad...</td>\n",
       "    </tr>\n",
       "    <tr>\n",
       "      <th>4</th>\n",
       "      <td>ES</td>\n",
       "      <td>2020-10-18</td>\n",
       "      <td>[d1d49196-d84e-b08c-f0b0-766022303d56, b51293d...</td>\n",
       "      <td>2020-10-19</td>\n",
       "      <td>NaN</td>\n",
       "      <td>2020-10-19</td>\n",
       "      <td>[655818ea-7b68-5788-d4c5-eaf6aefc8780, 7be987d...</td>\n",
       "    </tr>\n",
       "  </tbody>\n",
       "</table>\n",
       "</div>"
      ],
      "text/plain": [
       "  region sample_date                                           tek_list  \\\n",
       "0     ES  2020-10-22  [90bdf3aa-9f0b-637e-f6cb-23d10feb6a6b, 950663d...   \n",
       "1     ES  2020-10-21  [40ae3e69-12c6-0482-2912-ea87d48b1aa3, 1afec6b...   \n",
       "2     ES  2020-10-20  [0f0e336e-b1c9-a45e-3043-5ed28b80e1b0, e143507...   \n",
       "3     ES  2020-10-19  [1c849f04-e59b-7f45-7e6b-e13356aec58b, 53ea152...   \n",
       "4     ES  2020-10-18  [d1d49196-d84e-b08c-f0b0-766022303d56, b51293d...   \n",
       "\n",
       "  extraction_date extraction_date_with_hour new_sample_extraction_date  \\\n",
       "0      2020-10-23                       NaN                 2020-10-23   \n",
       "1      2020-10-22                       NaN                 2020-10-22   \n",
       "2      2020-10-21                       NaN                 2020-10-21   \n",
       "3      2020-10-20                       NaN                 2020-10-20   \n",
       "4      2020-10-19                       NaN                 2020-10-19   \n",
       "\n",
       "                                   same_day_tek_list  \n",
       "0  [ffcfb805-c03e-e043-997b-fd875bc22cf2, 8e0508d...  \n",
       "1  [63d1502a-a158-a5d2-001a-cbb82b9abcf5, ed1bc81...  \n",
       "2  [97b27565-a475-f559-44f7-2b692ee719c3, a031a2f...  \n",
       "3  [49c35d4b-f069-88fd-c596-f1e5dea1fc8b, b9dc5ad...  \n",
       "4  [655818ea-7b68-5788-d4c5-eaf6aefc8780, 7be987d...  "
      ]
     },
     "execution_count": 31,
     "metadata": {},
     "output_type": "execute_result"
    }
   ],
   "source": [
    "same_day_tek_list_df[\"extraction_date\"] = \\\n",
    "    same_day_tek_list_df.extraction_date + datetime.timedelta(1)\n",
    "estimated_shared_diagnoses_df = \\\n",
    "    estimated_shared_diagnoses_df.merge(same_day_tek_list_df, how=\"left\", on=[\"extraction_date\"])\n",
    "estimated_shared_diagnoses_df[\"same_day_tek_list\"] = \\\n",
    "    estimated_shared_diagnoses_df.same_day_tek_list.apply(lambda x: [] if x is np.nan else x)\n",
    "estimated_shared_diagnoses_df.head()"
   ]
  },
  {
   "cell_type": "code",
   "execution_count": 32,
   "metadata": {
    "execution": {
     "iopub.execute_input": "2020-10-23T23:26:15.694009Z",
     "iopub.status.busy": "2020-10-23T23:26:15.693242Z",
     "iopub.status.idle": "2020-10-23T23:26:15.709617Z",
     "shell.execute_reply": "2020-10-23T23:26:15.710336Z"
    },
    "papermill": {
     "duration": 0.085608,
     "end_time": "2020-10-23T23:26:15.710546",
     "exception": false,
     "start_time": "2020-10-23T23:26:15.624938",
     "status": "completed"
    },
    "tags": []
   },
   "outputs": [
    {
     "data": {
      "text/html": [
       "<div>\n",
       "<style scoped>\n",
       "    .dataframe tbody tr th:only-of-type {\n",
       "        vertical-align: middle;\n",
       "    }\n",
       "\n",
       "    .dataframe tbody tr th {\n",
       "        vertical-align: top;\n",
       "    }\n",
       "\n",
       "    .dataframe thead th {\n",
       "        text-align: right;\n",
       "    }\n",
       "</style>\n",
       "<table border=\"1\" class=\"dataframe\">\n",
       "  <thead>\n",
       "    <tr style=\"text-align: right;\">\n",
       "      <th></th>\n",
       "      <th>sample_date_string</th>\n",
       "      <th>shared_diagnoses</th>\n",
       "    </tr>\n",
       "  </thead>\n",
       "  <tbody>\n",
       "    <tr>\n",
       "      <th>0</th>\n",
       "      <td>2020-10-23</td>\n",
       "      <td>145</td>\n",
       "    </tr>\n",
       "    <tr>\n",
       "      <th>1</th>\n",
       "      <td>2020-10-22</td>\n",
       "      <td>132</td>\n",
       "    </tr>\n",
       "    <tr>\n",
       "      <th>2</th>\n",
       "      <td>2020-10-21</td>\n",
       "      <td>153</td>\n",
       "    </tr>\n",
       "    <tr>\n",
       "      <th>3</th>\n",
       "      <td>2020-10-20</td>\n",
       "      <td>135</td>\n",
       "    </tr>\n",
       "    <tr>\n",
       "      <th>4</th>\n",
       "      <td>2020-10-19</td>\n",
       "      <td>123</td>\n",
       "    </tr>\n",
       "  </tbody>\n",
       "</table>\n",
       "</div>"
      ],
      "text/plain": [
       "  sample_date_string  shared_diagnoses\n",
       "0         2020-10-23               145\n",
       "1         2020-10-22               132\n",
       "2         2020-10-21               153\n",
       "3         2020-10-20               135\n",
       "4         2020-10-19               123"
      ]
     },
     "execution_count": 32,
     "metadata": {},
     "output_type": "execute_result"
    }
   ],
   "source": [
    "estimated_shared_diagnoses_df.set_index(\"extraction_date\", inplace=True)\n",
    "estimated_shared_diagnoses_df[\"shared_diagnoses\"] = estimated_shared_diagnoses_df.apply(\n",
    "    lambda x: len(set(x.tek_list).difference(x.same_day_tek_list)), axis=1).copy()\n",
    "estimated_shared_diagnoses_df.reset_index(inplace=True)\n",
    "estimated_shared_diagnoses_df.rename(columns={\n",
    "    \"extraction_date\": \"sample_date_string\"}, inplace=True)\n",
    "estimated_shared_diagnoses_df = estimated_shared_diagnoses_df[[\"sample_date_string\", \"shared_diagnoses\"]]\n",
    "estimated_shared_diagnoses_df[\"sample_date_string\"] = estimated_shared_diagnoses_df.sample_date_string.dt.strftime(\"%Y-%m-%d\")\n",
    "estimated_shared_diagnoses_df.head()"
   ]
  },
  {
   "cell_type": "markdown",
   "metadata": {
    "papermill": {
     "duration": 0.05679,
     "end_time": "2020-10-23T23:26:15.839038",
     "exception": false,
     "start_time": "2020-10-23T23:26:15.782248",
     "status": "completed"
    },
    "pycharm": {
     "name": "#%% md\n"
    },
    "tags": []
   },
   "source": [
    "### Hourly New TEKs"
   ]
  },
  {
   "cell_type": "code",
   "execution_count": 33,
   "metadata": {
    "execution": {
     "iopub.execute_input": "2020-10-23T23:26:15.969389Z",
     "iopub.status.busy": "2020-10-23T23:26:15.968761Z",
     "iopub.status.idle": "2020-10-23T23:26:17.848255Z",
     "shell.execute_reply": "2020-10-23T23:26:17.849259Z"
    },
    "papermill": {
     "duration": 1.946381,
     "end_time": "2020-10-23T23:26:17.849524",
     "exception": false,
     "start_time": "2020-10-23T23:26:15.903143",
     "status": "completed"
    },
    "pycharm": {
     "name": "#%%\n"
    },
    "tags": []
   },
   "outputs": [
    {
     "data": {
      "text/html": [
       "<div>\n",
       "<style scoped>\n",
       "    .dataframe tbody tr th:only-of-type {\n",
       "        vertical-align: middle;\n",
       "    }\n",
       "\n",
       "    .dataframe tbody tr th {\n",
       "        vertical-align: top;\n",
       "    }\n",
       "\n",
       "    .dataframe thead th {\n",
       "        text-align: right;\n",
       "    }\n",
       "</style>\n",
       "<table border=\"1\" class=\"dataframe\">\n",
       "  <thead>\n",
       "    <tr style=\"text-align: right;\">\n",
       "      <th></th>\n",
       "      <th>region</th>\n",
       "      <th>sample_date</th>\n",
       "      <th>tek_list</th>\n",
       "      <th>extraction_date</th>\n",
       "      <th>extraction_date_with_hour</th>\n",
       "    </tr>\n",
       "  </thead>\n",
       "  <tbody>\n",
       "    <tr>\n",
       "      <th>5</th>\n",
       "      <td>ES</td>\n",
       "      <td>2020-10-10</td>\n",
       "      <td>[e6462082-a8e4-17c3-d013-8927f37d39bc, bcd68f2...</td>\n",
       "      <td>2020-10-23</td>\n",
       "      <td>2020-10-23@23</td>\n",
       "    </tr>\n",
       "    <tr>\n",
       "      <th>15</th>\n",
       "      <td>ES</td>\n",
       "      <td>2020-10-11</td>\n",
       "      <td>[e3976d47-a0cc-50b0-f445-00528a1128a5, cc14a8f...</td>\n",
       "      <td>2020-10-23</td>\n",
       "      <td>2020-10-23@23</td>\n",
       "    </tr>\n",
       "    <tr>\n",
       "      <th>25</th>\n",
       "      <td>ES</td>\n",
       "      <td>2020-10-12</td>\n",
       "      <td>[a387cfe5-31f1-99fd-dd41-3e12cf93bd84, 98034ea...</td>\n",
       "      <td>2020-10-23</td>\n",
       "      <td>2020-10-23@23</td>\n",
       "    </tr>\n",
       "    <tr>\n",
       "      <th>35</th>\n",
       "      <td>ES</td>\n",
       "      <td>2020-10-13</td>\n",
       "      <td>[72e14bff-08c3-9526-ba63-51a5b5e16ee4, f6329ec...</td>\n",
       "      <td>2020-10-23</td>\n",
       "      <td>2020-10-23@23</td>\n",
       "    </tr>\n",
       "    <tr>\n",
       "      <th>45</th>\n",
       "      <td>ES</td>\n",
       "      <td>2020-10-14</td>\n",
       "      <td>[4cac6f68-e9b0-0369-3b65-7ee6098b0f7d, de3b1e0...</td>\n",
       "      <td>2020-10-23</td>\n",
       "      <td>2020-10-23@23</td>\n",
       "    </tr>\n",
       "  </tbody>\n",
       "</table>\n",
       "</div>"
      ],
      "text/plain": [
       "   region sample_date                                           tek_list  \\\n",
       "5      ES  2020-10-10  [e6462082-a8e4-17c3-d013-8927f37d39bc, bcd68f2...   \n",
       "15     ES  2020-10-11  [e3976d47-a0cc-50b0-f445-00528a1128a5, cc14a8f...   \n",
       "25     ES  2020-10-12  [a387cfe5-31f1-99fd-dd41-3e12cf93bd84, 98034ea...   \n",
       "35     ES  2020-10-13  [72e14bff-08c3-9526-ba63-51a5b5e16ee4, f6329ec...   \n",
       "45     ES  2020-10-14  [4cac6f68-e9b0-0369-3b65-7ee6098b0f7d, de3b1e0...   \n",
       "\n",
       "   extraction_date extraction_date_with_hour  \n",
       "5       2020-10-23             2020-10-23@23  \n",
       "15      2020-10-23             2020-10-23@23  \n",
       "25      2020-10-23             2020-10-23@23  \n",
       "35      2020-10-23             2020-10-23@23  \n",
       "45      2020-10-23             2020-10-23@23  "
      ]
     },
     "execution_count": 33,
     "metadata": {},
     "output_type": "execute_result"
    }
   ],
   "source": [
    "hourly_extracted_teks_df = load_extracted_teks(\n",
    "    mode=\"Hourly\", region=report_backend_identifier, limit=25)\n",
    "hourly_extracted_teks_df.head()"
   ]
  },
  {
   "cell_type": "code",
   "execution_count": 34,
   "metadata": {
    "collapsed": false,
    "execution": {
     "iopub.execute_input": "2020-10-23T23:26:17.971652Z",
     "iopub.status.busy": "2020-10-23T23:26:17.971080Z",
     "iopub.status.idle": "2020-10-23T23:26:18.033242Z",
     "shell.execute_reply": "2020-10-23T23:26:18.034032Z"
    },
    "papermill": {
     "duration": 0.125786,
     "end_time": "2020-10-23T23:26:18.034285",
     "exception": false,
     "start_time": "2020-10-23T23:26:17.908499",
     "status": "completed"
    },
    "pycharm": {
     "name": "#%%\n"
    },
    "tags": []
   },
   "outputs": [
    {
     "data": {
      "text/html": [
       "<div>\n",
       "<style scoped>\n",
       "    .dataframe tbody tr th:only-of-type {\n",
       "        vertical-align: middle;\n",
       "    }\n",
       "\n",
       "    .dataframe tbody tr th {\n",
       "        vertical-align: top;\n",
       "    }\n",
       "\n",
       "    .dataframe thead th {\n",
       "        text-align: right;\n",
       "    }\n",
       "</style>\n",
       "<table border=\"1\" class=\"dataframe\">\n",
       "  <thead>\n",
       "    <tr style=\"text-align: right;\">\n",
       "      <th></th>\n",
       "      <th>extraction_date_with_hour</th>\n",
       "      <th>shared_teks_by_upload_date</th>\n",
       "    </tr>\n",
       "  </thead>\n",
       "  <tbody>\n",
       "    <tr>\n",
       "      <th>0</th>\n",
       "      <td>2020-10-22@22</td>\n",
       "      <td>0</td>\n",
       "    </tr>\n",
       "    <tr>\n",
       "      <th>1</th>\n",
       "      <td>2020-10-22@23</td>\n",
       "      <td>0</td>\n",
       "    </tr>\n",
       "    <tr>\n",
       "      <th>2</th>\n",
       "      <td>2020-10-23@01</td>\n",
       "      <td>15</td>\n",
       "    </tr>\n",
       "    <tr>\n",
       "      <th>3</th>\n",
       "      <td>2020-10-23@02</td>\n",
       "      <td>11</td>\n",
       "    </tr>\n",
       "    <tr>\n",
       "      <th>4</th>\n",
       "      <td>2020-10-23@03</td>\n",
       "      <td>0</td>\n",
       "    </tr>\n",
       "  </tbody>\n",
       "</table>\n",
       "</div>"
      ],
      "text/plain": [
       "  extraction_date_with_hour  shared_teks_by_upload_date\n",
       "0             2020-10-22@22                           0\n",
       "1             2020-10-22@23                           0\n",
       "2             2020-10-23@01                          15\n",
       "3             2020-10-23@02                          11\n",
       "4             2020-10-23@03                           0"
      ]
     },
     "execution_count": 34,
     "metadata": {},
     "output_type": "execute_result"
    }
   ],
   "source": [
    "hourly_new_tek_count_df = hourly_extracted_teks_df \\\n",
    "    .groupby(\"extraction_date_with_hour\").tek_list. \\\n",
    "    apply(lambda x: set(sum(x, []))).reset_index().copy()\n",
    "hourly_new_tek_count_df = hourly_new_tek_count_df.set_index(\"extraction_date_with_hour\") \\\n",
    "    .sort_index(ascending=True)\n",
    "\n",
    "hourly_new_tek_count_df[\"new_tek_list\"] = hourly_new_tek_count_df.tek_list.diff()\n",
    "hourly_new_tek_count_df[\"new_tek_count\"] = hourly_new_tek_count_df.new_tek_list.apply(\n",
    "    lambda x: len(x) if not pd.isna(x) else 0)\n",
    "hourly_new_tek_count_df.rename(columns={\n",
    "    \"new_tek_count\": \"shared_teks_by_upload_date\"}, inplace=True)\n",
    "hourly_new_tek_count_df = hourly_new_tek_count_df.reset_index()[[\n",
    "    \"extraction_date_with_hour\", \"shared_teks_by_upload_date\"]]\n",
    "hourly_new_tek_count_df.head()"
   ]
  },
  {
   "cell_type": "code",
   "execution_count": 35,
   "metadata": {
    "execution": {
     "iopub.execute_input": "2020-10-23T23:26:18.159603Z",
     "iopub.status.busy": "2020-10-23T23:26:18.159008Z",
     "iopub.status.idle": "2020-10-23T23:26:18.185241Z",
     "shell.execute_reply": "2020-10-23T23:26:18.185853Z"
    },
    "papermill": {
     "duration": 0.09471,
     "end_time": "2020-10-23T23:26:18.186056",
     "exception": false,
     "start_time": "2020-10-23T23:26:18.091346",
     "status": "completed"
    },
    "pycharm": {
     "name": "#%%\n"
    },
    "tags": []
   },
   "outputs": [
    {
     "data": {
      "text/html": [
       "<div>\n",
       "<style scoped>\n",
       "    .dataframe tbody tr th:only-of-type {\n",
       "        vertical-align: middle;\n",
       "    }\n",
       "\n",
       "    .dataframe tbody tr th {\n",
       "        vertical-align: top;\n",
       "    }\n",
       "\n",
       "    .dataframe thead th {\n",
       "        text-align: right;\n",
       "    }\n",
       "</style>\n",
       "<table border=\"1\" class=\"dataframe\">\n",
       "  <thead>\n",
       "    <tr style=\"text-align: right;\">\n",
       "      <th></th>\n",
       "      <th>extraction_date_with_hour</th>\n",
       "      <th>shared_diagnoses</th>\n",
       "    </tr>\n",
       "  </thead>\n",
       "  <tbody>\n",
       "    <tr>\n",
       "      <th>0</th>\n",
       "      <td>2020-10-22@22</td>\n",
       "      <td>0</td>\n",
       "    </tr>\n",
       "    <tr>\n",
       "      <th>1</th>\n",
       "      <td>2020-10-22@23</td>\n",
       "      <td>0</td>\n",
       "    </tr>\n",
       "    <tr>\n",
       "      <th>2</th>\n",
       "      <td>2020-10-23@01</td>\n",
       "      <td>0</td>\n",
       "    </tr>\n",
       "    <tr>\n",
       "      <th>3</th>\n",
       "      <td>2020-10-23@02</td>\n",
       "      <td>6</td>\n",
       "    </tr>\n",
       "    <tr>\n",
       "      <th>4</th>\n",
       "      <td>2020-10-23@03</td>\n",
       "      <td>0</td>\n",
       "    </tr>\n",
       "  </tbody>\n",
       "</table>\n",
       "</div>"
      ],
      "text/plain": [
       "  extraction_date_with_hour  shared_diagnoses\n",
       "0             2020-10-22@22                 0\n",
       "1             2020-10-22@23                 0\n",
       "2             2020-10-23@01                 0\n",
       "3             2020-10-23@02                 6\n",
       "4             2020-10-23@03                 0"
      ]
     },
     "execution_count": 35,
     "metadata": {},
     "output_type": "execute_result"
    }
   ],
   "source": [
    "hourly_estimated_shared_diagnoses_df = hourly_extracted_teks_df.copy()\n",
    "hourly_estimated_shared_diagnoses_df[\"new_sample_extraction_date\"] = \\\n",
    "    pd.to_datetime(hourly_estimated_shared_diagnoses_df.sample_date) + datetime.timedelta(1)\n",
    "hourly_estimated_shared_diagnoses_df[\"extraction_date\"] = \\\n",
    "    pd.to_datetime(hourly_estimated_shared_diagnoses_df.extraction_date)\n",
    "\n",
    "hourly_estimated_shared_diagnoses_df = hourly_estimated_shared_diagnoses_df[\n",
    "    hourly_estimated_shared_diagnoses_df.new_sample_extraction_date ==\n",
    "    hourly_estimated_shared_diagnoses_df.extraction_date]\n",
    "hourly_estimated_shared_diagnoses_df = \\\n",
    "    hourly_estimated_shared_diagnoses_df.merge(same_day_tek_list_df, how=\"left\", on=[\"extraction_date\"])\n",
    "hourly_estimated_shared_diagnoses_df[\"same_day_tek_list\"] = \\\n",
    "    hourly_estimated_shared_diagnoses_df.same_day_tek_list.apply(lambda x: [] if x is np.nan else x)\n",
    "hourly_estimated_shared_diagnoses_df[\"shared_diagnoses\"] = hourly_estimated_shared_diagnoses_df.apply(\n",
    "    lambda x: len(set(x.tek_list).difference(x.same_day_tek_list)), axis=1)\n",
    "hourly_estimated_shared_diagnoses_df = \\\n",
    "    hourly_estimated_shared_diagnoses_df.sort_values(\"extraction_date_with_hour\").copy()\n",
    "hourly_estimated_shared_diagnoses_df[\"shared_diagnoses\"] = hourly_estimated_shared_diagnoses_df \\\n",
    "    .groupby(\"extraction_date\").shared_diagnoses.diff() \\\n",
    "    .fillna(0).astype(int)\n",
    "\n",
    "hourly_estimated_shared_diagnoses_df.set_index(\"extraction_date_with_hour\", inplace=True)\n",
    "hourly_estimated_shared_diagnoses_df.reset_index(inplace=True)\n",
    "hourly_estimated_shared_diagnoses_df = hourly_estimated_shared_diagnoses_df[[\n",
    "    \"extraction_date_with_hour\", \"shared_diagnoses\"]]\n",
    "hourly_estimated_shared_diagnoses_df.head()"
   ]
  },
  {
   "cell_type": "code",
   "execution_count": 36,
   "metadata": {
    "collapsed": false,
    "execution": {
     "iopub.execute_input": "2020-10-23T23:26:18.334349Z",
     "iopub.status.busy": "2020-10-23T23:26:18.333659Z",
     "iopub.status.idle": "2020-10-23T23:26:18.338050Z",
     "shell.execute_reply": "2020-10-23T23:26:18.337372Z"
    },
    "papermill": {
     "duration": 0.085292,
     "end_time": "2020-10-23T23:26:18.338214",
     "exception": false,
     "start_time": "2020-10-23T23:26:18.252922",
     "status": "completed"
    },
    "pycharm": {
     "name": "#%%\n"
    },
    "tags": []
   },
   "outputs": [
    {
     "data": {
      "text/html": [
       "<div>\n",
       "<style scoped>\n",
       "    .dataframe tbody tr th:only-of-type {\n",
       "        vertical-align: middle;\n",
       "    }\n",
       "\n",
       "    .dataframe tbody tr th {\n",
       "        vertical-align: top;\n",
       "    }\n",
       "\n",
       "    .dataframe thead th {\n",
       "        text-align: right;\n",
       "    }\n",
       "</style>\n",
       "<table border=\"1\" class=\"dataframe\">\n",
       "  <thead>\n",
       "    <tr style=\"text-align: right;\">\n",
       "      <th></th>\n",
       "      <th>extraction_date_with_hour</th>\n",
       "      <th>shared_teks_by_upload_date</th>\n",
       "      <th>shared_diagnoses</th>\n",
       "    </tr>\n",
       "    <tr>\n",
       "      <th>datetime_utc</th>\n",
       "      <th></th>\n",
       "      <th></th>\n",
       "      <th></th>\n",
       "    </tr>\n",
       "  </thead>\n",
       "  <tbody>\n",
       "    <tr>\n",
       "      <th>2020-10-22 23:00:00</th>\n",
       "      <td>2020-10-22@23</td>\n",
       "      <td>0</td>\n",
       "      <td>0</td>\n",
       "    </tr>\n",
       "    <tr>\n",
       "      <th>2020-10-23 01:00:00</th>\n",
       "      <td>2020-10-23@01</td>\n",
       "      <td>15</td>\n",
       "      <td>0</td>\n",
       "    </tr>\n",
       "    <tr>\n",
       "      <th>2020-10-23 02:00:00</th>\n",
       "      <td>2020-10-23@02</td>\n",
       "      <td>11</td>\n",
       "      <td>6</td>\n",
       "    </tr>\n",
       "    <tr>\n",
       "      <th>2020-10-23 03:00:00</th>\n",
       "      <td>2020-10-23@03</td>\n",
       "      <td>0</td>\n",
       "      <td>0</td>\n",
       "    </tr>\n",
       "    <tr>\n",
       "      <th>2020-10-23 04:00:00</th>\n",
       "      <td>2020-10-23@04</td>\n",
       "      <td>5</td>\n",
       "      <td>1</td>\n",
       "    </tr>\n",
       "  </tbody>\n",
       "</table>\n",
       "</div>"
      ],
      "text/plain": [
       "                    extraction_date_with_hour  shared_teks_by_upload_date  \\\n",
       "datetime_utc                                                                \n",
       "2020-10-22 23:00:00             2020-10-22@23                           0   \n",
       "2020-10-23 01:00:00             2020-10-23@01                          15   \n",
       "2020-10-23 02:00:00             2020-10-23@02                          11   \n",
       "2020-10-23 03:00:00             2020-10-23@03                           0   \n",
       "2020-10-23 04:00:00             2020-10-23@04                           5   \n",
       "\n",
       "                     shared_diagnoses  \n",
       "datetime_utc                           \n",
       "2020-10-22 23:00:00                 0  \n",
       "2020-10-23 01:00:00                 0  \n",
       "2020-10-23 02:00:00                 6  \n",
       "2020-10-23 03:00:00                 0  \n",
       "2020-10-23 04:00:00                 1  "
      ]
     },
     "execution_count": 36,
     "metadata": {},
     "output_type": "execute_result"
    }
   ],
   "source": [
    "hourly_summary_df = hourly_new_tek_count_df.merge(\n",
    "    hourly_estimated_shared_diagnoses_df, on=[\"extraction_date_with_hour\"], how=\"outer\")\n",
    "hourly_summary_df.set_index(\"extraction_date_with_hour\", inplace=True)\n",
    "hourly_summary_df = hourly_summary_df.fillna(0).astype(int).reset_index()\n",
    "hourly_summary_df[\"datetime_utc\"] = pd.to_datetime(\n",
    "    hourly_summary_df.extraction_date_with_hour, format=\"%Y-%m-%d@%H\")\n",
    "hourly_summary_df.set_index(\"datetime_utc\", inplace=True)\n",
    "hourly_summary_df = hourly_summary_df.tail(-1)\n",
    "hourly_summary_df.head()"
   ]
  },
  {
   "cell_type": "markdown",
   "metadata": {
    "collapsed": false,
    "papermill": {
     "duration": 0.055236,
     "end_time": "2020-10-23T23:26:18.451046",
     "exception": false,
     "start_time": "2020-10-23T23:26:18.395810",
     "status": "completed"
    },
    "pycharm": {
     "name": "#%% md\n"
    },
    "tags": []
   },
   "source": [
    "### Data Merge"
   ]
  },
  {
   "cell_type": "code",
   "execution_count": 37,
   "metadata": {
    "collapsed": false,
    "execution": {
     "iopub.execute_input": "2020-10-23T23:26:18.576201Z",
     "iopub.status.busy": "2020-10-23T23:26:18.575644Z",
     "iopub.status.idle": "2020-10-23T23:26:18.577894Z",
     "shell.execute_reply": "2020-10-23T23:26:18.578416Z"
    },
    "papermill": {
     "duration": 0.071193,
     "end_time": "2020-10-23T23:26:18.578580",
     "exception": false,
     "start_time": "2020-10-23T23:26:18.507387",
     "status": "completed"
    },
    "pycharm": {
     "name": "#%%\n"
    },
    "tags": []
   },
   "outputs": [
    {
     "data": {
      "text/html": [
       "<div>\n",
       "<style scoped>\n",
       "    .dataframe tbody tr th:only-of-type {\n",
       "        vertical-align: middle;\n",
       "    }\n",
       "\n",
       "    .dataframe tbody tr th {\n",
       "        vertical-align: top;\n",
       "    }\n",
       "\n",
       "    .dataframe thead th {\n",
       "        text-align: right;\n",
       "    }\n",
       "</style>\n",
       "<table border=\"1\" class=\"dataframe\">\n",
       "  <thead>\n",
       "    <tr style=\"text-align: right;\">\n",
       "      <th></th>\n",
       "      <th>sample_date_string</th>\n",
       "      <th>shared_teks_by_generation_date</th>\n",
       "      <th>shared_teks_by_upload_date</th>\n",
       "    </tr>\n",
       "  </thead>\n",
       "  <tbody>\n",
       "    <tr>\n",
       "      <th>0</th>\n",
       "      <td>2020-10-23</td>\n",
       "      <td>167</td>\n",
       "      <td>769.0</td>\n",
       "    </tr>\n",
       "    <tr>\n",
       "      <th>1</th>\n",
       "      <td>2020-10-22</td>\n",
       "      <td>325</td>\n",
       "      <td>726.0</td>\n",
       "    </tr>\n",
       "    <tr>\n",
       "      <th>2</th>\n",
       "      <td>2020-10-21</td>\n",
       "      <td>418</td>\n",
       "      <td>841.0</td>\n",
       "    </tr>\n",
       "    <tr>\n",
       "      <th>3</th>\n",
       "      <td>2020-10-20</td>\n",
       "      <td>522</td>\n",
       "      <td>772.0</td>\n",
       "    </tr>\n",
       "    <tr>\n",
       "      <th>4</th>\n",
       "      <td>2020-10-19</td>\n",
       "      <td>598</td>\n",
       "      <td>791.0</td>\n",
       "    </tr>\n",
       "  </tbody>\n",
       "</table>\n",
       "</div>"
      ],
      "text/plain": [
       "  sample_date_string  shared_teks_by_generation_date  \\\n",
       "0         2020-10-23                             167   \n",
       "1         2020-10-22                             325   \n",
       "2         2020-10-21                             418   \n",
       "3         2020-10-20                             522   \n",
       "4         2020-10-19                             598   \n",
       "\n",
       "   shared_teks_by_upload_date  \n",
       "0                       769.0  \n",
       "1                       726.0  \n",
       "2                       841.0  \n",
       "3                       772.0  \n",
       "4                       791.0  "
      ]
     },
     "execution_count": 37,
     "metadata": {},
     "output_type": "execute_result"
    }
   ],
   "source": [
    "result_summary_df = exposure_keys_summary_df.merge(\n",
    "    new_tek_df, on=[\"sample_date_string\"], how=\"outer\")\n",
    "result_summary_df.head()"
   ]
  },
  {
   "cell_type": "code",
   "execution_count": 38,
   "metadata": {
    "execution": {
     "iopub.execute_input": "2020-10-23T23:26:18.702998Z",
     "iopub.status.busy": "2020-10-23T23:26:18.702420Z",
     "iopub.status.idle": "2020-10-23T23:26:18.704960Z",
     "shell.execute_reply": "2020-10-23T23:26:18.705424Z"
    },
    "papermill": {
     "duration": 0.071312,
     "end_time": "2020-10-23T23:26:18.705577",
     "exception": false,
     "start_time": "2020-10-23T23:26:18.634265",
     "status": "completed"
    },
    "tags": []
   },
   "outputs": [
    {
     "data": {
      "text/html": [
       "<div>\n",
       "<style scoped>\n",
       "    .dataframe tbody tr th:only-of-type {\n",
       "        vertical-align: middle;\n",
       "    }\n",
       "\n",
       "    .dataframe tbody tr th {\n",
       "        vertical-align: top;\n",
       "    }\n",
       "\n",
       "    .dataframe thead th {\n",
       "        text-align: right;\n",
       "    }\n",
       "</style>\n",
       "<table border=\"1\" class=\"dataframe\">\n",
       "  <thead>\n",
       "    <tr style=\"text-align: right;\">\n",
       "      <th></th>\n",
       "      <th>sample_date_string</th>\n",
       "      <th>shared_teks_by_generation_date</th>\n",
       "      <th>shared_teks_by_upload_date</th>\n",
       "      <th>shared_teks_uploaded_on_generation_date</th>\n",
       "    </tr>\n",
       "  </thead>\n",
       "  <tbody>\n",
       "    <tr>\n",
       "      <th>0</th>\n",
       "      <td>2020-10-23</td>\n",
       "      <td>167</td>\n",
       "      <td>769.0</td>\n",
       "      <td>167.0</td>\n",
       "    </tr>\n",
       "    <tr>\n",
       "      <th>1</th>\n",
       "      <td>2020-10-22</td>\n",
       "      <td>325</td>\n",
       "      <td>726.0</td>\n",
       "      <td>180.0</td>\n",
       "    </tr>\n",
       "    <tr>\n",
       "      <th>2</th>\n",
       "      <td>2020-10-21</td>\n",
       "      <td>418</td>\n",
       "      <td>841.0</td>\n",
       "      <td>157.0</td>\n",
       "    </tr>\n",
       "    <tr>\n",
       "      <th>3</th>\n",
       "      <td>2020-10-20</td>\n",
       "      <td>522</td>\n",
       "      <td>772.0</td>\n",
       "      <td>149.0</td>\n",
       "    </tr>\n",
       "    <tr>\n",
       "      <th>4</th>\n",
       "      <td>2020-10-19</td>\n",
       "      <td>598</td>\n",
       "      <td>791.0</td>\n",
       "      <td>142.0</td>\n",
       "    </tr>\n",
       "  </tbody>\n",
       "</table>\n",
       "</div>"
      ],
      "text/plain": [
       "  sample_date_string  shared_teks_by_generation_date  \\\n",
       "0         2020-10-23                             167   \n",
       "1         2020-10-22                             325   \n",
       "2         2020-10-21                             418   \n",
       "3         2020-10-20                             522   \n",
       "4         2020-10-19                             598   \n",
       "\n",
       "   shared_teks_by_upload_date  shared_teks_uploaded_on_generation_date  \n",
       "0                       769.0                                    167.0  \n",
       "1                       726.0                                    180.0  \n",
       "2                       841.0                                    157.0  \n",
       "3                       772.0                                    149.0  \n",
       "4                       791.0                                    142.0  "
      ]
     },
     "execution_count": 38,
     "metadata": {},
     "output_type": "execute_result"
    }
   ],
   "source": [
    "result_summary_df = result_summary_df.merge(\n",
    "    shared_teks_uploaded_on_generation_date_df, on=[\"sample_date_string\"], how=\"outer\")\n",
    "result_summary_df.head()"
   ]
  },
  {
   "cell_type": "code",
   "execution_count": 39,
   "metadata": {
    "collapsed": false,
    "execution": {
     "iopub.execute_input": "2020-10-23T23:26:18.831024Z",
     "iopub.status.busy": "2020-10-23T23:26:18.830475Z",
     "iopub.status.idle": "2020-10-23T23:26:18.834739Z",
     "shell.execute_reply": "2020-10-23T23:26:18.834272Z"
    },
    "papermill": {
     "duration": 0.074236,
     "end_time": "2020-10-23T23:26:18.834862",
     "exception": false,
     "start_time": "2020-10-23T23:26:18.760626",
     "status": "completed"
    },
    "pycharm": {
     "name": "#%%\n"
    },
    "tags": []
   },
   "outputs": [
    {
     "data": {
      "text/html": [
       "<div>\n",
       "<style scoped>\n",
       "    .dataframe tbody tr th:only-of-type {\n",
       "        vertical-align: middle;\n",
       "    }\n",
       "\n",
       "    .dataframe tbody tr th {\n",
       "        vertical-align: top;\n",
       "    }\n",
       "\n",
       "    .dataframe thead th {\n",
       "        text-align: right;\n",
       "    }\n",
       "</style>\n",
       "<table border=\"1\" class=\"dataframe\">\n",
       "  <thead>\n",
       "    <tr style=\"text-align: right;\">\n",
       "      <th></th>\n",
       "      <th>sample_date_string</th>\n",
       "      <th>shared_teks_by_generation_date</th>\n",
       "      <th>shared_teks_by_upload_date</th>\n",
       "      <th>shared_teks_uploaded_on_generation_date</th>\n",
       "      <th>shared_diagnoses</th>\n",
       "    </tr>\n",
       "  </thead>\n",
       "  <tbody>\n",
       "    <tr>\n",
       "      <th>0</th>\n",
       "      <td>2020-10-23</td>\n",
       "      <td>167</td>\n",
       "      <td>769.0</td>\n",
       "      <td>167.0</td>\n",
       "      <td>145.0</td>\n",
       "    </tr>\n",
       "    <tr>\n",
       "      <th>1</th>\n",
       "      <td>2020-10-22</td>\n",
       "      <td>325</td>\n",
       "      <td>726.0</td>\n",
       "      <td>180.0</td>\n",
       "      <td>132.0</td>\n",
       "    </tr>\n",
       "    <tr>\n",
       "      <th>2</th>\n",
       "      <td>2020-10-21</td>\n",
       "      <td>418</td>\n",
       "      <td>841.0</td>\n",
       "      <td>157.0</td>\n",
       "      <td>153.0</td>\n",
       "    </tr>\n",
       "    <tr>\n",
       "      <th>3</th>\n",
       "      <td>2020-10-20</td>\n",
       "      <td>522</td>\n",
       "      <td>772.0</td>\n",
       "      <td>149.0</td>\n",
       "      <td>135.0</td>\n",
       "    </tr>\n",
       "    <tr>\n",
       "      <th>4</th>\n",
       "      <td>2020-10-19</td>\n",
       "      <td>598</td>\n",
       "      <td>791.0</td>\n",
       "      <td>142.0</td>\n",
       "      <td>123.0</td>\n",
       "    </tr>\n",
       "  </tbody>\n",
       "</table>\n",
       "</div>"
      ],
      "text/plain": [
       "  sample_date_string  shared_teks_by_generation_date  \\\n",
       "0         2020-10-23                             167   \n",
       "1         2020-10-22                             325   \n",
       "2         2020-10-21                             418   \n",
       "3         2020-10-20                             522   \n",
       "4         2020-10-19                             598   \n",
       "\n",
       "   shared_teks_by_upload_date  shared_teks_uploaded_on_generation_date  \\\n",
       "0                       769.0                                    167.0   \n",
       "1                       726.0                                    180.0   \n",
       "2                       841.0                                    157.0   \n",
       "3                       772.0                                    149.0   \n",
       "4                       791.0                                    142.0   \n",
       "\n",
       "   shared_diagnoses  \n",
       "0             145.0  \n",
       "1             132.0  \n",
       "2             153.0  \n",
       "3             135.0  \n",
       "4             123.0  "
      ]
     },
     "execution_count": 39,
     "metadata": {},
     "output_type": "execute_result"
    }
   ],
   "source": [
    "result_summary_df = result_summary_df.merge(\n",
    "    estimated_shared_diagnoses_df, on=[\"sample_date_string\"], how=\"outer\")\n",
    "result_summary_df.head()"
   ]
  },
  {
   "cell_type": "code",
   "execution_count": 40,
   "metadata": {
    "collapsed": false,
    "execution": {
     "iopub.execute_input": "2020-10-23T23:26:18.958195Z",
     "iopub.status.busy": "2020-10-23T23:26:18.955253Z",
     "iopub.status.idle": "2020-10-23T23:26:18.968909Z",
     "shell.execute_reply": "2020-10-23T23:26:18.968460Z"
    },
    "papermill": {
     "duration": 0.078573,
     "end_time": "2020-10-23T23:26:18.969037",
     "exception": false,
     "start_time": "2020-10-23T23:26:18.890464",
     "status": "completed"
    },
    "pycharm": {
     "name": "#%%\n"
    },
    "tags": []
   },
   "outputs": [
    {
     "data": {
      "text/html": [
       "<div>\n",
       "<style scoped>\n",
       "    .dataframe tbody tr th:only-of-type {\n",
       "        vertical-align: middle;\n",
       "    }\n",
       "\n",
       "    .dataframe tbody tr th {\n",
       "        vertical-align: top;\n",
       "    }\n",
       "\n",
       "    .dataframe thead th {\n",
       "        text-align: right;\n",
       "    }\n",
       "</style>\n",
       "<table border=\"1\" class=\"dataframe\">\n",
       "  <thead>\n",
       "    <tr style=\"text-align: right;\">\n",
       "      <th></th>\n",
       "      <th>sample_date_string</th>\n",
       "      <th>new_cases</th>\n",
       "      <th>covid_cases</th>\n",
       "      <th>shared_teks_by_generation_date</th>\n",
       "      <th>shared_teks_by_upload_date</th>\n",
       "      <th>shared_teks_uploaded_on_generation_date</th>\n",
       "      <th>shared_diagnoses</th>\n",
       "    </tr>\n",
       "  </thead>\n",
       "  <tbody>\n",
       "    <tr>\n",
       "      <th>0</th>\n",
       "      <td>2020-08-01</td>\n",
       "      <td>0.0</td>\n",
       "      <td>2300</td>\n",
       "      <td>NaN</td>\n",
       "      <td>NaN</td>\n",
       "      <td>NaN</td>\n",
       "      <td>NaN</td>\n",
       "    </tr>\n",
       "    <tr>\n",
       "      <th>1</th>\n",
       "      <td>2020-08-02</td>\n",
       "      <td>0.0</td>\n",
       "      <td>2300</td>\n",
       "      <td>NaN</td>\n",
       "      <td>NaN</td>\n",
       "      <td>NaN</td>\n",
       "      <td>NaN</td>\n",
       "    </tr>\n",
       "    <tr>\n",
       "      <th>2</th>\n",
       "      <td>2020-08-03</td>\n",
       "      <td>8532.0</td>\n",
       "      <td>2610</td>\n",
       "      <td>NaN</td>\n",
       "      <td>NaN</td>\n",
       "      <td>NaN</td>\n",
       "      <td>NaN</td>\n",
       "    </tr>\n",
       "    <tr>\n",
       "      <th>3</th>\n",
       "      <td>2020-08-04</td>\n",
       "      <td>5760.0</td>\n",
       "      <td>3172</td>\n",
       "      <td>NaN</td>\n",
       "      <td>NaN</td>\n",
       "      <td>NaN</td>\n",
       "      <td>NaN</td>\n",
       "    </tr>\n",
       "    <tr>\n",
       "      <th>4</th>\n",
       "      <td>2020-08-05</td>\n",
       "      <td>2953.0</td>\n",
       "      <td>3304</td>\n",
       "      <td>NaN</td>\n",
       "      <td>NaN</td>\n",
       "      <td>NaN</td>\n",
       "      <td>NaN</td>\n",
       "    </tr>\n",
       "  </tbody>\n",
       "</table>\n",
       "</div>"
      ],
      "text/plain": [
       "  sample_date_string  new_cases  covid_cases  shared_teks_by_generation_date  \\\n",
       "0         2020-08-01        0.0         2300                             NaN   \n",
       "1         2020-08-02        0.0         2300                             NaN   \n",
       "2         2020-08-03     8532.0         2610                             NaN   \n",
       "3         2020-08-04     5760.0         3172                             NaN   \n",
       "4         2020-08-05     2953.0         3304                             NaN   \n",
       "\n",
       "   shared_teks_by_upload_date  shared_teks_uploaded_on_generation_date  \\\n",
       "0                         NaN                                      NaN   \n",
       "1                         NaN                                      NaN   \n",
       "2                         NaN                                      NaN   \n",
       "3                         NaN                                      NaN   \n",
       "4                         NaN                                      NaN   \n",
       "\n",
       "   shared_diagnoses  \n",
       "0               NaN  \n",
       "1               NaN  \n",
       "2               NaN  \n",
       "3               NaN  \n",
       "4               NaN  "
      ]
     },
     "execution_count": 40,
     "metadata": {},
     "output_type": "execute_result"
    }
   ],
   "source": [
    "result_summary_df = confirmed_df.tail(daily_summary_days).merge(\n",
    "    result_summary_df, on=[\"sample_date_string\"], how=\"left\")\n",
    "result_summary_df.head()"
   ]
  },
  {
   "cell_type": "code",
   "execution_count": 41,
   "metadata": {
    "collapsed": false,
    "execution": {
     "iopub.execute_input": "2020-10-23T23:26:19.089192Z",
     "iopub.status.busy": "2020-10-23T23:26:19.088649Z",
     "iopub.status.idle": "2020-10-23T23:26:19.101298Z",
     "shell.execute_reply": "2020-10-23T23:26:19.101776Z"
    },
    "papermill": {
     "duration": 0.076899,
     "end_time": "2020-10-23T23:26:19.101929",
     "exception": false,
     "start_time": "2020-10-23T23:26:19.025030",
     "status": "completed"
    },
    "pycharm": {
     "name": "#%%\n"
    },
    "tags": []
   },
   "outputs": [
    {
     "data": {
      "text/html": [
       "<div>\n",
       "<style scoped>\n",
       "    .dataframe tbody tr th:only-of-type {\n",
       "        vertical-align: middle;\n",
       "    }\n",
       "\n",
       "    .dataframe tbody tr th {\n",
       "        vertical-align: top;\n",
       "    }\n",
       "\n",
       "    .dataframe thead th {\n",
       "        text-align: right;\n",
       "    }\n",
       "</style>\n",
       "<table border=\"1\" class=\"dataframe\">\n",
       "  <thead>\n",
       "    <tr style=\"text-align: right;\">\n",
       "      <th></th>\n",
       "      <th>new_cases</th>\n",
       "      <th>covid_cases</th>\n",
       "      <th>shared_teks_by_generation_date</th>\n",
       "      <th>shared_teks_by_upload_date</th>\n",
       "      <th>shared_teks_uploaded_on_generation_date</th>\n",
       "      <th>shared_diagnoses</th>\n",
       "    </tr>\n",
       "    <tr>\n",
       "      <th>sample_date</th>\n",
       "      <th></th>\n",
       "      <th></th>\n",
       "      <th></th>\n",
       "      <th></th>\n",
       "      <th></th>\n",
       "      <th></th>\n",
       "    </tr>\n",
       "  </thead>\n",
       "  <tbody>\n",
       "    <tr>\n",
       "      <th>2020-10-23</th>\n",
       "      <td>14987.0</td>\n",
       "      <td>14987</td>\n",
       "      <td>167.0</td>\n",
       "      <td>769.0</td>\n",
       "      <td>167.0</td>\n",
       "      <td>145.0</td>\n",
       "    </tr>\n",
       "    <tr>\n",
       "      <th>2020-10-22</th>\n",
       "      <td>20986.0</td>\n",
       "      <td>14987</td>\n",
       "      <td>325.0</td>\n",
       "      <td>726.0</td>\n",
       "      <td>180.0</td>\n",
       "      <td>132.0</td>\n",
       "    </tr>\n",
       "    <tr>\n",
       "      <th>2020-10-21</th>\n",
       "      <td>16973.0</td>\n",
       "      <td>13891</td>\n",
       "      <td>418.0</td>\n",
       "      <td>841.0</td>\n",
       "      <td>157.0</td>\n",
       "      <td>153.0</td>\n",
       "    </tr>\n",
       "    <tr>\n",
       "      <th>2020-10-20</th>\n",
       "      <td>13873.0</td>\n",
       "      <td>13177</td>\n",
       "      <td>522.0</td>\n",
       "      <td>772.0</td>\n",
       "      <td>149.0</td>\n",
       "      <td>135.0</td>\n",
       "    </tr>\n",
       "    <tr>\n",
       "      <th>2020-10-19</th>\n",
       "      <td>37889.0</td>\n",
       "      <td>12212</td>\n",
       "      <td>598.0</td>\n",
       "      <td>791.0</td>\n",
       "      <td>142.0</td>\n",
       "      <td>123.0</td>\n",
       "    </tr>\n",
       "  </tbody>\n",
       "</table>\n",
       "</div>"
      ],
      "text/plain": [
       "             new_cases  covid_cases  shared_teks_by_generation_date  \\\n",
       "sample_date                                                           \n",
       "2020-10-23     14987.0        14987                           167.0   \n",
       "2020-10-22     20986.0        14987                           325.0   \n",
       "2020-10-21     16973.0        13891                           418.0   \n",
       "2020-10-20     13873.0        13177                           522.0   \n",
       "2020-10-19     37889.0        12212                           598.0   \n",
       "\n",
       "             shared_teks_by_upload_date  \\\n",
       "sample_date                               \n",
       "2020-10-23                        769.0   \n",
       "2020-10-22                        726.0   \n",
       "2020-10-21                        841.0   \n",
       "2020-10-20                        772.0   \n",
       "2020-10-19                        791.0   \n",
       "\n",
       "             shared_teks_uploaded_on_generation_date  shared_diagnoses  \n",
       "sample_date                                                             \n",
       "2020-10-23                                     167.0             145.0  \n",
       "2020-10-22                                     180.0             132.0  \n",
       "2020-10-21                                     157.0             153.0  \n",
       "2020-10-20                                     149.0             135.0  \n",
       "2020-10-19                                     142.0             123.0  "
      ]
     },
     "execution_count": 41,
     "metadata": {},
     "output_type": "execute_result"
    }
   ],
   "source": [
    "result_summary_df[\"sample_date\"] = pd.to_datetime(result_summary_df.sample_date_string)\n",
    "result_summary_df.set_index(\"sample_date\", inplace=True)\n",
    "result_summary_df.drop(columns=[\"sample_date_string\"], inplace=True)\n",
    "result_summary_df.sort_index(ascending=False, inplace=True)\n",
    "result_summary_df.head()"
   ]
  },
  {
   "cell_type": "code",
   "execution_count": 42,
   "metadata": {
    "collapsed": false,
    "execution": {
     "iopub.execute_input": "2020-10-23T23:26:19.239342Z",
     "iopub.status.busy": "2020-10-23T23:26:19.238811Z",
     "iopub.status.idle": "2020-10-23T23:26:19.242223Z",
     "shell.execute_reply": "2020-10-23T23:26:19.241803Z"
    },
    "papermill": {
     "duration": 0.083224,
     "end_time": "2020-10-23T23:26:19.242346",
     "exception": false,
     "start_time": "2020-10-23T23:26:19.159122",
     "status": "completed"
    },
    "pycharm": {
     "name": "#%%\n"
    },
    "tags": []
   },
   "outputs": [
    {
     "data": {
      "text/html": [
       "<div>\n",
       "<style scoped>\n",
       "    .dataframe tbody tr th:only-of-type {\n",
       "        vertical-align: middle;\n",
       "    }\n",
       "\n",
       "    .dataframe tbody tr th {\n",
       "        vertical-align: top;\n",
       "    }\n",
       "\n",
       "    .dataframe thead th {\n",
       "        text-align: right;\n",
       "    }\n",
       "</style>\n",
       "<table border=\"1\" class=\"dataframe\">\n",
       "  <thead>\n",
       "    <tr style=\"text-align: right;\">\n",
       "      <th></th>\n",
       "      <th>new_cases</th>\n",
       "      <th>covid_cases</th>\n",
       "      <th>shared_teks_by_generation_date</th>\n",
       "      <th>shared_teks_by_upload_date</th>\n",
       "      <th>shared_teks_uploaded_on_generation_date</th>\n",
       "      <th>shared_diagnoses</th>\n",
       "      <th>teks_per_shared_diagnosis</th>\n",
       "      <th>shared_diagnoses_per_covid_case</th>\n",
       "    </tr>\n",
       "    <tr>\n",
       "      <th>sample_date</th>\n",
       "      <th></th>\n",
       "      <th></th>\n",
       "      <th></th>\n",
       "      <th></th>\n",
       "      <th></th>\n",
       "      <th></th>\n",
       "      <th></th>\n",
       "      <th></th>\n",
       "    </tr>\n",
       "  </thead>\n",
       "  <tbody>\n",
       "    <tr>\n",
       "      <th>2020-10-23</th>\n",
       "      <td>14987</td>\n",
       "      <td>14987</td>\n",
       "      <td>167</td>\n",
       "      <td>769</td>\n",
       "      <td>167</td>\n",
       "      <td>145</td>\n",
       "      <td>5.303448</td>\n",
       "      <td>0.009675</td>\n",
       "    </tr>\n",
       "    <tr>\n",
       "      <th>2020-10-22</th>\n",
       "      <td>20986</td>\n",
       "      <td>14987</td>\n",
       "      <td>325</td>\n",
       "      <td>726</td>\n",
       "      <td>180</td>\n",
       "      <td>132</td>\n",
       "      <td>5.500000</td>\n",
       "      <td>0.008808</td>\n",
       "    </tr>\n",
       "    <tr>\n",
       "      <th>2020-10-21</th>\n",
       "      <td>16973</td>\n",
       "      <td>13891</td>\n",
       "      <td>418</td>\n",
       "      <td>841</td>\n",
       "      <td>157</td>\n",
       "      <td>153</td>\n",
       "      <td>5.496732</td>\n",
       "      <td>0.011014</td>\n",
       "    </tr>\n",
       "    <tr>\n",
       "      <th>2020-10-20</th>\n",
       "      <td>13873</td>\n",
       "      <td>13177</td>\n",
       "      <td>522</td>\n",
       "      <td>772</td>\n",
       "      <td>149</td>\n",
       "      <td>135</td>\n",
       "      <td>5.718519</td>\n",
       "      <td>0.010245</td>\n",
       "    </tr>\n",
       "    <tr>\n",
       "      <th>2020-10-19</th>\n",
       "      <td>37889</td>\n",
       "      <td>12212</td>\n",
       "      <td>598</td>\n",
       "      <td>791</td>\n",
       "      <td>142</td>\n",
       "      <td>123</td>\n",
       "      <td>6.430894</td>\n",
       "      <td>0.010072</td>\n",
       "    </tr>\n",
       "    <tr>\n",
       "      <th>2020-10-18</th>\n",
       "      <td>0</td>\n",
       "      <td>10778</td>\n",
       "      <td>642</td>\n",
       "      <td>726</td>\n",
       "      <td>146</td>\n",
       "      <td>132</td>\n",
       "      <td>5.500000</td>\n",
       "      <td>0.012247</td>\n",
       "    </tr>\n",
       "    <tr>\n",
       "      <th>2020-10-17</th>\n",
       "      <td>0</td>\n",
       "      <td>10778</td>\n",
       "      <td>707</td>\n",
       "      <td>767</td>\n",
       "      <td>174</td>\n",
       "      <td>138</td>\n",
       "      <td>5.557971</td>\n",
       "      <td>0.012804</td>\n",
       "    </tr>\n",
       "    <tr>\n",
       "      <th>2020-10-16</th>\n",
       "      <td>15186</td>\n",
       "      <td>10778</td>\n",
       "      <td>692</td>\n",
       "      <td>769</td>\n",
       "      <td>149</td>\n",
       "      <td>141</td>\n",
       "      <td>5.453901</td>\n",
       "      <td>0.013082</td>\n",
       "    </tr>\n",
       "    <tr>\n",
       "      <th>2020-10-15</th>\n",
       "      <td>13318</td>\n",
       "      <td>10436</td>\n",
       "      <td>717</td>\n",
       "      <td>671</td>\n",
       "      <td>151</td>\n",
       "      <td>175</td>\n",
       "      <td>3.834286</td>\n",
       "      <td>0.016769</td>\n",
       "    </tr>\n",
       "    <tr>\n",
       "      <th>2020-10-14</th>\n",
       "      <td>11970</td>\n",
       "      <td>10308</td>\n",
       "      <td>662</td>\n",
       "      <td>463</td>\n",
       "      <td>1</td>\n",
       "      <td>133</td>\n",
       "      <td>3.481203</td>\n",
       "      <td>0.012903</td>\n",
       "    </tr>\n",
       "    <tr>\n",
       "      <th>2020-10-13</th>\n",
       "      <td>7118</td>\n",
       "      <td>10097</td>\n",
       "      <td>582</td>\n",
       "      <td>334</td>\n",
       "      <td>1</td>\n",
       "      <td>112</td>\n",
       "      <td>2.982143</td>\n",
       "      <td>0.011092</td>\n",
       "    </tr>\n",
       "    <tr>\n",
       "      <th>2020-10-12</th>\n",
       "      <td>27856</td>\n",
       "      <td>10794</td>\n",
       "      <td>527</td>\n",
       "      <td>326</td>\n",
       "      <td>2</td>\n",
       "      <td>136</td>\n",
       "      <td>2.397059</td>\n",
       "      <td>0.012600</td>\n",
       "    </tr>\n",
       "    <tr>\n",
       "      <th>2020-10-11</th>\n",
       "      <td>0</td>\n",
       "      <td>10169</td>\n",
       "      <td>477</td>\n",
       "      <td>422</td>\n",
       "      <td>1</td>\n",
       "      <td>147</td>\n",
       "      <td>2.870748</td>\n",
       "      <td>0.014456</td>\n",
       "    </tr>\n",
       "    <tr>\n",
       "      <th>2020-10-10</th>\n",
       "      <td>0</td>\n",
       "      <td>10169</td>\n",
       "      <td>438</td>\n",
       "      <td>429</td>\n",
       "      <td>0</td>\n",
       "      <td>133</td>\n",
       "      <td>3.225564</td>\n",
       "      <td>0.013079</td>\n",
       "    </tr>\n",
       "    <tr>\n",
       "      <th>2020-10-09</th>\n",
       "      <td>12788</td>\n",
       "      <td>10169</td>\n",
       "      <td>426</td>\n",
       "      <td>348</td>\n",
       "      <td>1</td>\n",
       "      <td>105</td>\n",
       "      <td>3.314286</td>\n",
       "      <td>0.010325</td>\n",
       "    </tr>\n",
       "    <tr>\n",
       "      <th>2020-10-08</th>\n",
       "      <td>12423</td>\n",
       "      <td>9960</td>\n",
       "      <td>417</td>\n",
       "      <td>272</td>\n",
       "      <td>1</td>\n",
       "      <td>86</td>\n",
       "      <td>3.162791</td>\n",
       "      <td>0.008635</td>\n",
       "    </tr>\n",
       "    <tr>\n",
       "      <th>2020-10-07</th>\n",
       "      <td>10491</td>\n",
       "      <td>9530</td>\n",
       "      <td>375</td>\n",
       "      <td>178</td>\n",
       "      <td>0</td>\n",
       "      <td>54</td>\n",
       "      <td>3.296296</td>\n",
       "      <td>0.005666</td>\n",
       "    </tr>\n",
       "    <tr>\n",
       "      <th>2020-10-06</th>\n",
       "      <td>11998</td>\n",
       "      <td>9605</td>\n",
       "      <td>384</td>\n",
       "      <td>233</td>\n",
       "      <td>60</td>\n",
       "      <td>56</td>\n",
       "      <td>4.160714</td>\n",
       "      <td>0.005830</td>\n",
       "    </tr>\n",
       "    <tr>\n",
       "      <th>2020-10-05</th>\n",
       "      <td>23480</td>\n",
       "      <td>9307</td>\n",
       "      <td>350</td>\n",
       "      <td>273</td>\n",
       "      <td>52</td>\n",
       "      <td>69</td>\n",
       "      <td>3.956522</td>\n",
       "      <td>0.007414</td>\n",
       "    </tr>\n",
       "    <tr>\n",
       "      <th>2020-10-04</th>\n",
       "      <td>0</td>\n",
       "      <td>10493</td>\n",
       "      <td>353</td>\n",
       "      <td>331</td>\n",
       "      <td>76</td>\n",
       "      <td>78</td>\n",
       "      <td>4.243590</td>\n",
       "      <td>0.007434</td>\n",
       "    </tr>\n",
       "    <tr>\n",
       "      <th>2020-10-03</th>\n",
       "      <td>0</td>\n",
       "      <td>10493</td>\n",
       "      <td>312</td>\n",
       "      <td>324</td>\n",
       "      <td>69</td>\n",
       "      <td>76</td>\n",
       "      <td>4.263158</td>\n",
       "      <td>0.007243</td>\n",
       "    </tr>\n",
       "    <tr>\n",
       "      <th>2020-10-02</th>\n",
       "      <td>11325</td>\n",
       "      <td>10493</td>\n",
       "      <td>312</td>\n",
       "      <td>299</td>\n",
       "      <td>72</td>\n",
       "      <td>72</td>\n",
       "      <td>4.152778</td>\n",
       "      <td>0.006862</td>\n",
       "    </tr>\n",
       "    <tr>\n",
       "      <th>2020-10-01</th>\n",
       "      <td>9419</td>\n",
       "      <td>10628</td>\n",
       "      <td>317</td>\n",
       "      <td>367</td>\n",
       "      <td>75</td>\n",
       "      <td>74</td>\n",
       "      <td>4.959459</td>\n",
       "      <td>0.006963</td>\n",
       "    </tr>\n",
       "    <tr>\n",
       "      <th>2020-09-30</th>\n",
       "      <td>11016</td>\n",
       "      <td>10805</td>\n",
       "      <td>294</td>\n",
       "      <td>271</td>\n",
       "      <td>55</td>\n",
       "      <td>51</td>\n",
       "      <td>5.313725</td>\n",
       "      <td>0.004720</td>\n",
       "    </tr>\n",
       "    <tr>\n",
       "      <th>2020-09-29</th>\n",
       "      <td>9906</td>\n",
       "      <td>10844</td>\n",
       "      <td>265</td>\n",
       "      <td>178</td>\n",
       "      <td>32</td>\n",
       "      <td>44</td>\n",
       "      <td>4.045455</td>\n",
       "      <td>0.004058</td>\n",
       "    </tr>\n",
       "    <tr>\n",
       "      <th>2020-09-28</th>\n",
       "      <td>31785</td>\n",
       "      <td>10971</td>\n",
       "      <td>269</td>\n",
       "      <td>211</td>\n",
       "      <td>44</td>\n",
       "      <td>54</td>\n",
       "      <td>3.907407</td>\n",
       "      <td>0.004922</td>\n",
       "    </tr>\n",
       "    <tr>\n",
       "      <th>2020-09-27</th>\n",
       "      <td>0</td>\n",
       "      <td>10920</td>\n",
       "      <td>315</td>\n",
       "      <td>449</td>\n",
       "      <td>98</td>\n",
       "      <td>108</td>\n",
       "      <td>4.157407</td>\n",
       "      <td>0.009890</td>\n",
       "    </tr>\n",
       "    <tr>\n",
       "      <th>2020-09-26</th>\n",
       "      <td>0</td>\n",
       "      <td>10920</td>\n",
       "      <td>339</td>\n",
       "      <td>448</td>\n",
       "      <td>79</td>\n",
       "      <td>110</td>\n",
       "      <td>4.072727</td>\n",
       "      <td>0.010073</td>\n",
       "    </tr>\n",
       "  </tbody>\n",
       "</table>\n",
       "</div>"
      ],
      "text/plain": [
       "             new_cases  covid_cases  shared_teks_by_generation_date  \\\n",
       "sample_date                                                           \n",
       "2020-10-23       14987        14987                             167   \n",
       "2020-10-22       20986        14987                             325   \n",
       "2020-10-21       16973        13891                             418   \n",
       "2020-10-20       13873        13177                             522   \n",
       "2020-10-19       37889        12212                             598   \n",
       "2020-10-18           0        10778                             642   \n",
       "2020-10-17           0        10778                             707   \n",
       "2020-10-16       15186        10778                             692   \n",
       "2020-10-15       13318        10436                             717   \n",
       "2020-10-14       11970        10308                             662   \n",
       "2020-10-13        7118        10097                             582   \n",
       "2020-10-12       27856        10794                             527   \n",
       "2020-10-11           0        10169                             477   \n",
       "2020-10-10           0        10169                             438   \n",
       "2020-10-09       12788        10169                             426   \n",
       "2020-10-08       12423         9960                             417   \n",
       "2020-10-07       10491         9530                             375   \n",
       "2020-10-06       11998         9605                             384   \n",
       "2020-10-05       23480         9307                             350   \n",
       "2020-10-04           0        10493                             353   \n",
       "2020-10-03           0        10493                             312   \n",
       "2020-10-02       11325        10493                             312   \n",
       "2020-10-01        9419        10628                             317   \n",
       "2020-09-30       11016        10805                             294   \n",
       "2020-09-29        9906        10844                             265   \n",
       "2020-09-28       31785        10971                             269   \n",
       "2020-09-27           0        10920                             315   \n",
       "2020-09-26           0        10920                             339   \n",
       "\n",
       "             shared_teks_by_upload_date  \\\n",
       "sample_date                               \n",
       "2020-10-23                          769   \n",
       "2020-10-22                          726   \n",
       "2020-10-21                          841   \n",
       "2020-10-20                          772   \n",
       "2020-10-19                          791   \n",
       "2020-10-18                          726   \n",
       "2020-10-17                          767   \n",
       "2020-10-16                          769   \n",
       "2020-10-15                          671   \n",
       "2020-10-14                          463   \n",
       "2020-10-13                          334   \n",
       "2020-10-12                          326   \n",
       "2020-10-11                          422   \n",
       "2020-10-10                          429   \n",
       "2020-10-09                          348   \n",
       "2020-10-08                          272   \n",
       "2020-10-07                          178   \n",
       "2020-10-06                          233   \n",
       "2020-10-05                          273   \n",
       "2020-10-04                          331   \n",
       "2020-10-03                          324   \n",
       "2020-10-02                          299   \n",
       "2020-10-01                          367   \n",
       "2020-09-30                          271   \n",
       "2020-09-29                          178   \n",
       "2020-09-28                          211   \n",
       "2020-09-27                          449   \n",
       "2020-09-26                          448   \n",
       "\n",
       "             shared_teks_uploaded_on_generation_date  shared_diagnoses  \\\n",
       "sample_date                                                              \n",
       "2020-10-23                                       167               145   \n",
       "2020-10-22                                       180               132   \n",
       "2020-10-21                                       157               153   \n",
       "2020-10-20                                       149               135   \n",
       "2020-10-19                                       142               123   \n",
       "2020-10-18                                       146               132   \n",
       "2020-10-17                                       174               138   \n",
       "2020-10-16                                       149               141   \n",
       "2020-10-15                                       151               175   \n",
       "2020-10-14                                         1               133   \n",
       "2020-10-13                                         1               112   \n",
       "2020-10-12                                         2               136   \n",
       "2020-10-11                                         1               147   \n",
       "2020-10-10                                         0               133   \n",
       "2020-10-09                                         1               105   \n",
       "2020-10-08                                         1                86   \n",
       "2020-10-07                                         0                54   \n",
       "2020-10-06                                        60                56   \n",
       "2020-10-05                                        52                69   \n",
       "2020-10-04                                        76                78   \n",
       "2020-10-03                                        69                76   \n",
       "2020-10-02                                        72                72   \n",
       "2020-10-01                                        75                74   \n",
       "2020-09-30                                        55                51   \n",
       "2020-09-29                                        32                44   \n",
       "2020-09-28                                        44                54   \n",
       "2020-09-27                                        98               108   \n",
       "2020-09-26                                        79               110   \n",
       "\n",
       "             teks_per_shared_diagnosis  shared_diagnoses_per_covid_case  \n",
       "sample_date                                                              \n",
       "2020-10-23                    5.303448                         0.009675  \n",
       "2020-10-22                    5.500000                         0.008808  \n",
       "2020-10-21                    5.496732                         0.011014  \n",
       "2020-10-20                    5.718519                         0.010245  \n",
       "2020-10-19                    6.430894                         0.010072  \n",
       "2020-10-18                    5.500000                         0.012247  \n",
       "2020-10-17                    5.557971                         0.012804  \n",
       "2020-10-16                    5.453901                         0.013082  \n",
       "2020-10-15                    3.834286                         0.016769  \n",
       "2020-10-14                    3.481203                         0.012903  \n",
       "2020-10-13                    2.982143                         0.011092  \n",
       "2020-10-12                    2.397059                         0.012600  \n",
       "2020-10-11                    2.870748                         0.014456  \n",
       "2020-10-10                    3.225564                         0.013079  \n",
       "2020-10-09                    3.314286                         0.010325  \n",
       "2020-10-08                    3.162791                         0.008635  \n",
       "2020-10-07                    3.296296                         0.005666  \n",
       "2020-10-06                    4.160714                         0.005830  \n",
       "2020-10-05                    3.956522                         0.007414  \n",
       "2020-10-04                    4.243590                         0.007434  \n",
       "2020-10-03                    4.263158                         0.007243  \n",
       "2020-10-02                    4.152778                         0.006862  \n",
       "2020-10-01                    4.959459                         0.006963  \n",
       "2020-09-30                    5.313725                         0.004720  \n",
       "2020-09-29                    4.045455                         0.004058  \n",
       "2020-09-28                    3.907407                         0.004922  \n",
       "2020-09-27                    4.157407                         0.009890  \n",
       "2020-09-26                    4.072727                         0.010073  "
      ]
     },
     "execution_count": 42,
     "metadata": {},
     "output_type": "execute_result"
    }
   ],
   "source": [
    "with pd.option_context(\"mode.use_inf_as_na\", True):\n",
    "    result_summary_df = result_summary_df.fillna(0).astype(int)\n",
    "    result_summary_df[\"teks_per_shared_diagnosis\"] = \\\n",
    "        (result_summary_df.shared_teks_by_upload_date / result_summary_df.shared_diagnoses).fillna(0)\n",
    "    result_summary_df[\"shared_diagnoses_per_covid_case\"] = \\\n",
    "        (result_summary_df.shared_diagnoses / result_summary_df.covid_cases).fillna(0)\n",
    "\n",
    "result_summary_df.head(daily_plot_days)"
   ]
  },
  {
   "cell_type": "code",
   "execution_count": 43,
   "metadata": {
    "collapsed": false,
    "execution": {
     "iopub.execute_input": "2020-10-23T23:26:19.364884Z",
     "iopub.status.busy": "2020-10-23T23:26:19.364318Z",
     "iopub.status.idle": "2020-10-23T23:26:19.380754Z",
     "shell.execute_reply": "2020-10-23T23:26:19.381165Z"
    },
    "papermill": {
     "duration": 0.081548,
     "end_time": "2020-10-23T23:26:19.381325",
     "exception": false,
     "start_time": "2020-10-23T23:26:19.299777",
     "status": "completed"
    },
    "pycharm": {
     "name": "#%%\n"
    },
    "tags": []
   },
   "outputs": [
    {
     "data": {
      "text/html": [
       "<div>\n",
       "<style scoped>\n",
       "    .dataframe tbody tr th:only-of-type {\n",
       "        vertical-align: middle;\n",
       "    }\n",
       "\n",
       "    .dataframe tbody tr th {\n",
       "        vertical-align: top;\n",
       "    }\n",
       "\n",
       "    .dataframe thead th {\n",
       "        text-align: right;\n",
       "    }\n",
       "</style>\n",
       "<table border=\"1\" class=\"dataframe\">\n",
       "  <thead>\n",
       "    <tr style=\"text-align: right;\">\n",
       "      <th></th>\n",
       "      <th>covid_cases</th>\n",
       "      <th>shared_teks_by_generation_date</th>\n",
       "      <th>shared_teks_by_upload_date</th>\n",
       "      <th>shared_diagnoses</th>\n",
       "      <th>teks_per_shared_diagnosis</th>\n",
       "      <th>shared_diagnoses_per_covid_case</th>\n",
       "    </tr>\n",
       "    <tr>\n",
       "      <th>sample_date</th>\n",
       "      <th></th>\n",
       "      <th></th>\n",
       "      <th></th>\n",
       "      <th></th>\n",
       "      <th></th>\n",
       "      <th></th>\n",
       "    </tr>\n",
       "  </thead>\n",
       "  <tbody>\n",
       "    <tr>\n",
       "      <th>2020-10-23</th>\n",
       "      <td>90810</td>\n",
       "      <td>3379</td>\n",
       "      <td>5392</td>\n",
       "      <td>958</td>\n",
       "      <td>5.628392</td>\n",
       "      <td>0.010549</td>\n",
       "    </tr>\n",
       "    <tr>\n",
       "      <th>2020-10-22</th>\n",
       "      <td>86601</td>\n",
       "      <td>3904</td>\n",
       "      <td>5392</td>\n",
       "      <td>954</td>\n",
       "      <td>5.651992</td>\n",
       "      <td>0.011016</td>\n",
       "    </tr>\n",
       "    <tr>\n",
       "      <th>2020-10-21</th>\n",
       "      <td>82050</td>\n",
       "      <td>4296</td>\n",
       "      <td>5337</td>\n",
       "      <td>997</td>\n",
       "      <td>5.353059</td>\n",
       "      <td>0.012151</td>\n",
       "    </tr>\n",
       "    <tr>\n",
       "      <th>2020-10-20</th>\n",
       "      <td>78467</td>\n",
       "      <td>4540</td>\n",
       "      <td>4959</td>\n",
       "      <td>977</td>\n",
       "      <td>5.075742</td>\n",
       "      <td>0.012451</td>\n",
       "    </tr>\n",
       "    <tr>\n",
       "      <th>2020-10-19</th>\n",
       "      <td>75387</td>\n",
       "      <td>4600</td>\n",
       "      <td>4521</td>\n",
       "      <td>954</td>\n",
       "      <td>4.738994</td>\n",
       "      <td>0.012655</td>\n",
       "    </tr>\n",
       "  </tbody>\n",
       "</table>\n",
       "</div>"
      ],
      "text/plain": [
       "             covid_cases  shared_teks_by_generation_date  \\\n",
       "sample_date                                                \n",
       "2020-10-23         90810                            3379   \n",
       "2020-10-22         86601                            3904   \n",
       "2020-10-21         82050                            4296   \n",
       "2020-10-20         78467                            4540   \n",
       "2020-10-19         75387                            4600   \n",
       "\n",
       "             shared_teks_by_upload_date  shared_diagnoses  \\\n",
       "sample_date                                                 \n",
       "2020-10-23                         5392               958   \n",
       "2020-10-22                         5392               954   \n",
       "2020-10-21                         5337               997   \n",
       "2020-10-20                         4959               977   \n",
       "2020-10-19                         4521               954   \n",
       "\n",
       "             teks_per_shared_diagnosis  shared_diagnoses_per_covid_case  \n",
       "sample_date                                                              \n",
       "2020-10-23                    5.628392                         0.010549  \n",
       "2020-10-22                    5.651992                         0.011016  \n",
       "2020-10-21                    5.353059                         0.012151  \n",
       "2020-10-20                    5.075742                         0.012451  \n",
       "2020-10-19                    4.738994                         0.012655  "
      ]
     },
     "execution_count": 43,
     "metadata": {},
     "output_type": "execute_result"
    }
   ],
   "source": [
    "weekly_result_summary_df = result_summary_df \\\n",
    "    .sort_index(ascending=True).fillna(0).rolling(7).agg({\n",
    "    \"covid_cases\": \"sum\",\n",
    "    \"shared_teks_by_generation_date\": \"sum\",\n",
    "    \"shared_teks_by_upload_date\": \"sum\",\n",
    "    \"shared_diagnoses\": \"sum\"\n",
    "}).sort_index(ascending=False)\n",
    "\n",
    "with pd.option_context(\"mode.use_inf_as_na\", True):\n",
    "    weekly_result_summary_df = weekly_result_summary_df.fillna(0).astype(int)\n",
    "    weekly_result_summary_df[\"teks_per_shared_diagnosis\"] = \\\n",
    "        (weekly_result_summary_df.shared_teks_by_upload_date / weekly_result_summary_df.shared_diagnoses).fillna(0)\n",
    "    weekly_result_summary_df[\"shared_diagnoses_per_covid_case\"] = \\\n",
    "        (weekly_result_summary_df.shared_diagnoses / weekly_result_summary_df.covid_cases).fillna(0)\n",
    "\n",
    "weekly_result_summary_df.head()"
   ]
  },
  {
   "cell_type": "code",
   "execution_count": 44,
   "metadata": {
    "execution": {
     "iopub.execute_input": "2020-10-23T23:26:19.504704Z",
     "iopub.status.busy": "2020-10-23T23:26:19.504150Z",
     "iopub.status.idle": "2020-10-23T23:26:19.506282Z",
     "shell.execute_reply": "2020-10-23T23:26:19.506723Z"
    },
    "papermill": {
     "duration": 0.066861,
     "end_time": "2020-10-23T23:26:19.506880",
     "exception": false,
     "start_time": "2020-10-23T23:26:19.440019",
     "status": "completed"
    },
    "pycharm": {
     "name": "#%%\n"
    },
    "tags": []
   },
   "outputs": [
    {
     "data": {
      "text/plain": [
       "{'covid_cases': 90810,\n",
       " 'shared_teks_by_generation_date': 3379,\n",
       " 'shared_teks_by_upload_date': 5392,\n",
       " 'shared_diagnoses': 958,\n",
       " 'teks_per_shared_diagnosis': 5.62839248434238,\n",
       " 'shared_diagnoses_per_covid_case': 0.010549498953859707}"
      ]
     },
     "execution_count": 44,
     "metadata": {},
     "output_type": "execute_result"
    }
   ],
   "source": [
    "last_7_days_summary = weekly_result_summary_df.to_dict(orient=\"records\")[0]\n",
    "last_7_days_summary"
   ]
  },
  {
   "cell_type": "markdown",
   "metadata": {
    "collapsed": false,
    "papermill": {
     "duration": 0.060641,
     "end_time": "2020-10-23T23:26:19.628083",
     "exception": false,
     "start_time": "2020-10-23T23:26:19.567442",
     "status": "completed"
    },
    "pycharm": {
     "name": "#%% md\n"
    },
    "tags": []
   },
   "source": [
    "## Report Results"
   ]
  },
  {
   "cell_type": "code",
   "execution_count": 45,
   "metadata": {
    "collapsed": false,
    "execution": {
     "iopub.execute_input": "2020-10-23T23:26:19.754961Z",
     "iopub.status.busy": "2020-10-23T23:26:19.754369Z",
     "iopub.status.idle": "2020-10-23T23:26:19.756189Z",
     "shell.execute_reply": "2020-10-23T23:26:19.756597Z"
    },
    "papermill": {
     "duration": 0.068247,
     "end_time": "2020-10-23T23:26:19.756742",
     "exception": false,
     "start_time": "2020-10-23T23:26:19.688495",
     "status": "completed"
    },
    "pycharm": {
     "name": "#%%\n"
    },
    "tags": []
   },
   "outputs": [],
   "source": [
    "display_column_name_mapping = {\n",
    "    \"sample_date\": \"Sample\\u00A0Date\\u00A0(UTC)\",\n",
    "    \"datetime_utc\": \"Timestamp (UTC)\",\n",
    "    \"upload_date\": \"Upload Date (UTC)\",\n",
    "    \"generation_to_upload_days\": \"Generation to Upload Period in Days\",\n",
    "    \"region\": \"Backend Identifier\",\n",
    "    \"covid_cases\": \"COVID-19 Cases in Source Countries (7-day Rolling Average)\",\n",
    "    \"shared_teks_by_generation_date\": \"Shared TEKs by Generation Date\",\n",
    "    \"shared_teks_by_upload_date\": \"Shared TEKs by Upload Date\",\n",
    "    \"shared_diagnoses\": \"Shared Diagnoses (Estimation)\",\n",
    "    \"teks_per_shared_diagnosis\": \"TEKs Uploaded per Shared Diagnosis\",\n",
    "    \"shared_diagnoses_per_covid_case\": \"Usage Ratio (Fraction of Cases in Source Countries Which Shared Diagnosis)\",\n",
    "    \"shared_teks_uploaded_on_generation_date\": \"Shared TEKs Uploaded on Generation Date\",\n",
    "}"
   ]
  },
  {
   "cell_type": "code",
   "execution_count": 46,
   "metadata": {
    "execution": {
     "iopub.execute_input": "2020-10-23T23:26:19.886037Z",
     "iopub.status.busy": "2020-10-23T23:26:19.885517Z",
     "iopub.status.idle": "2020-10-23T23:26:19.888300Z",
     "shell.execute_reply": "2020-10-23T23:26:19.887831Z"
    },
    "papermill": {
     "duration": 0.074679,
     "end_time": "2020-10-23T23:26:19.888423",
     "exception": false,
     "start_time": "2020-10-23T23:26:19.813744",
     "status": "completed"
    },
    "pycharm": {
     "name": "#%%\n"
    },
    "tags": []
   },
   "outputs": [],
   "source": [
    "summary_columns = [\n",
    "    \"covid_cases\",\n",
    "    \"shared_teks_by_generation_date\",\n",
    "    \"shared_teks_by_upload_date\",\n",
    "    \"shared_teks_uploaded_on_generation_date\",\n",
    "    \"shared_diagnoses\",\n",
    "    \"teks_per_shared_diagnosis\",\n",
    "    \"shared_diagnoses_per_covid_case\",\n",
    "]"
   ]
  },
  {
   "cell_type": "markdown",
   "metadata": {
    "execution": {
     "iopub.execute_input": "2020-09-02T08:20:14.568088Z",
     "iopub.status.busy": "2020-09-02T08:20:14.567425Z",
     "iopub.status.idle": "2020-09-02T08:20:14.571422Z",
     "shell.execute_reply": "2020-09-02T08:20:14.571952Z"
    },
    "papermill": {
     "duration": 0.059443,
     "end_time": "2020-10-23T23:26:20.008370",
     "exception": false,
     "start_time": "2020-10-23T23:26:19.948927",
     "status": "completed"
    },
    "pycharm": {
     "name": "#%% md\n"
    },
    "tags": []
   },
   "source": [
    "### Daily Summary Table"
   ]
  },
  {
   "cell_type": "code",
   "execution_count": 47,
   "metadata": {
    "execution": {
     "iopub.execute_input": "2020-10-23T23:26:20.150408Z",
     "iopub.status.busy": "2020-10-23T23:26:20.149824Z",
     "iopub.status.idle": "2020-10-23T23:26:20.152110Z",
     "shell.execute_reply": "2020-10-23T23:26:20.152645Z"
    },
    "papermill": {
     "duration": 0.083716,
     "end_time": "2020-10-23T23:26:20.152806",
     "exception": false,
     "start_time": "2020-10-23T23:26:20.069090",
     "status": "completed"
    },
    "pycharm": {
     "name": "#%%\n"
    },
    "tags": []
   },
   "outputs": [
    {
     "data": {
      "text/html": [
       "<div>\n",
       "<style scoped>\n",
       "    .dataframe tbody tr th:only-of-type {\n",
       "        vertical-align: middle;\n",
       "    }\n",
       "\n",
       "    .dataframe tbody tr th {\n",
       "        vertical-align: top;\n",
       "    }\n",
       "\n",
       "    .dataframe thead th {\n",
       "        text-align: right;\n",
       "    }\n",
       "</style>\n",
       "<table border=\"1\" class=\"dataframe\">\n",
       "  <thead>\n",
       "    <tr style=\"text-align: right;\">\n",
       "      <th></th>\n",
       "      <th>COVID-19 Cases in Source Countries (7-day Rolling Average)</th>\n",
       "      <th>Shared TEKs by Generation Date</th>\n",
       "      <th>Shared TEKs by Upload Date</th>\n",
       "      <th>Shared TEKs Uploaded on Generation Date</th>\n",
       "      <th>Shared Diagnoses (Estimation)</th>\n",
       "      <th>TEKs Uploaded per Shared Diagnosis</th>\n",
       "      <th>Usage Ratio (Fraction of Cases in Source Countries Which Shared Diagnosis)</th>\n",
       "    </tr>\n",
       "    <tr>\n",
       "      <th>Sample Date (UTC)</th>\n",
       "      <th></th>\n",
       "      <th></th>\n",
       "      <th></th>\n",
       "      <th></th>\n",
       "      <th></th>\n",
       "      <th></th>\n",
       "      <th></th>\n",
       "    </tr>\n",
       "  </thead>\n",
       "  <tbody>\n",
       "    <tr>\n",
       "      <th>2020-10-23</th>\n",
       "      <td>14987</td>\n",
       "      <td>167</td>\n",
       "      <td>769</td>\n",
       "      <td>167</td>\n",
       "      <td>145</td>\n",
       "      <td>5.303448</td>\n",
       "      <td>0.009675</td>\n",
       "    </tr>\n",
       "    <tr>\n",
       "      <th>2020-10-22</th>\n",
       "      <td>14987</td>\n",
       "      <td>325</td>\n",
       "      <td>726</td>\n",
       "      <td>180</td>\n",
       "      <td>132</td>\n",
       "      <td>5.500000</td>\n",
       "      <td>0.008808</td>\n",
       "    </tr>\n",
       "    <tr>\n",
       "      <th>2020-10-21</th>\n",
       "      <td>13891</td>\n",
       "      <td>418</td>\n",
       "      <td>841</td>\n",
       "      <td>157</td>\n",
       "      <td>153</td>\n",
       "      <td>5.496732</td>\n",
       "      <td>0.011014</td>\n",
       "    </tr>\n",
       "    <tr>\n",
       "      <th>2020-10-20</th>\n",
       "      <td>13177</td>\n",
       "      <td>522</td>\n",
       "      <td>772</td>\n",
       "      <td>149</td>\n",
       "      <td>135</td>\n",
       "      <td>5.718519</td>\n",
       "      <td>0.010245</td>\n",
       "    </tr>\n",
       "    <tr>\n",
       "      <th>2020-10-19</th>\n",
       "      <td>12212</td>\n",
       "      <td>598</td>\n",
       "      <td>791</td>\n",
       "      <td>142</td>\n",
       "      <td>123</td>\n",
       "      <td>6.430894</td>\n",
       "      <td>0.010072</td>\n",
       "    </tr>\n",
       "    <tr>\n",
       "      <th>...</th>\n",
       "      <td>...</td>\n",
       "      <td>...</td>\n",
       "      <td>...</td>\n",
       "      <td>...</td>\n",
       "      <td>...</td>\n",
       "      <td>...</td>\n",
       "      <td>...</td>\n",
       "    </tr>\n",
       "    <tr>\n",
       "      <th>2020-08-05</th>\n",
       "      <td>3304</td>\n",
       "      <td>0</td>\n",
       "      <td>0</td>\n",
       "      <td>0</td>\n",
       "      <td>0</td>\n",
       "      <td>0.000000</td>\n",
       "      <td>0.000000</td>\n",
       "    </tr>\n",
       "    <tr>\n",
       "      <th>2020-08-04</th>\n",
       "      <td>3172</td>\n",
       "      <td>0</td>\n",
       "      <td>0</td>\n",
       "      <td>0</td>\n",
       "      <td>0</td>\n",
       "      <td>0.000000</td>\n",
       "      <td>0.000000</td>\n",
       "    </tr>\n",
       "    <tr>\n",
       "      <th>2020-08-03</th>\n",
       "      <td>2610</td>\n",
       "      <td>0</td>\n",
       "      <td>0</td>\n",
       "      <td>0</td>\n",
       "      <td>0</td>\n",
       "      <td>0.000000</td>\n",
       "      <td>0.000000</td>\n",
       "    </tr>\n",
       "    <tr>\n",
       "      <th>2020-08-02</th>\n",
       "      <td>2300</td>\n",
       "      <td>0</td>\n",
       "      <td>0</td>\n",
       "      <td>0</td>\n",
       "      <td>0</td>\n",
       "      <td>0.000000</td>\n",
       "      <td>0.000000</td>\n",
       "    </tr>\n",
       "    <tr>\n",
       "      <th>2020-08-01</th>\n",
       "      <td>2300</td>\n",
       "      <td>0</td>\n",
       "      <td>0</td>\n",
       "      <td>0</td>\n",
       "      <td>0</td>\n",
       "      <td>0.000000</td>\n",
       "      <td>0.000000</td>\n",
       "    </tr>\n",
       "  </tbody>\n",
       "</table>\n",
       "<p>84 rows × 7 columns</p>\n",
       "</div>"
      ],
      "text/plain": [
       "                   COVID-19 Cases in Source Countries (7-day Rolling Average)  \\\n",
       "Sample Date (UTC)                                                               \n",
       "2020-10-23                                                     14987            \n",
       "2020-10-22                                                     14987            \n",
       "2020-10-21                                                     13891            \n",
       "2020-10-20                                                     13177            \n",
       "2020-10-19                                                     12212            \n",
       "...                                                              ...            \n",
       "2020-08-05                                                      3304            \n",
       "2020-08-04                                                      3172            \n",
       "2020-08-03                                                      2610            \n",
       "2020-08-02                                                      2300            \n",
       "2020-08-01                                                      2300            \n",
       "\n",
       "                   Shared TEKs by Generation Date  Shared TEKs by Upload Date  \\\n",
       "Sample Date (UTC)                                                               \n",
       "2020-10-23                                    167                         769   \n",
       "2020-10-22                                    325                         726   \n",
       "2020-10-21                                    418                         841   \n",
       "2020-10-20                                    522                         772   \n",
       "2020-10-19                                    598                         791   \n",
       "...                                           ...                         ...   \n",
       "2020-08-05                                      0                           0   \n",
       "2020-08-04                                      0                           0   \n",
       "2020-08-03                                      0                           0   \n",
       "2020-08-02                                      0                           0   \n",
       "2020-08-01                                      0                           0   \n",
       "\n",
       "                   Shared TEKs Uploaded on Generation Date  \\\n",
       "Sample Date (UTC)                                            \n",
       "2020-10-23                                             167   \n",
       "2020-10-22                                             180   \n",
       "2020-10-21                                             157   \n",
       "2020-10-20                                             149   \n",
       "2020-10-19                                             142   \n",
       "...                                                    ...   \n",
       "2020-08-05                                               0   \n",
       "2020-08-04                                               0   \n",
       "2020-08-03                                               0   \n",
       "2020-08-02                                               0   \n",
       "2020-08-01                                               0   \n",
       "\n",
       "                   Shared Diagnoses (Estimation)  \\\n",
       "Sample Date (UTC)                                  \n",
       "2020-10-23                                   145   \n",
       "2020-10-22                                   132   \n",
       "2020-10-21                                   153   \n",
       "2020-10-20                                   135   \n",
       "2020-10-19                                   123   \n",
       "...                                          ...   \n",
       "2020-08-05                                     0   \n",
       "2020-08-04                                     0   \n",
       "2020-08-03                                     0   \n",
       "2020-08-02                                     0   \n",
       "2020-08-01                                     0   \n",
       "\n",
       "                   TEKs Uploaded per Shared Diagnosis  \\\n",
       "Sample Date (UTC)                                       \n",
       "2020-10-23                                   5.303448   \n",
       "2020-10-22                                   5.500000   \n",
       "2020-10-21                                   5.496732   \n",
       "2020-10-20                                   5.718519   \n",
       "2020-10-19                                   6.430894   \n",
       "...                                               ...   \n",
       "2020-08-05                                   0.000000   \n",
       "2020-08-04                                   0.000000   \n",
       "2020-08-03                                   0.000000   \n",
       "2020-08-02                                   0.000000   \n",
       "2020-08-01                                   0.000000   \n",
       "\n",
       "                   Usage Ratio (Fraction of Cases in Source Countries Which Shared Diagnosis)  \n",
       "Sample Date (UTC)                                                                              \n",
       "2020-10-23                                                  0.009675                           \n",
       "2020-10-22                                                  0.008808                           \n",
       "2020-10-21                                                  0.011014                           \n",
       "2020-10-20                                                  0.010245                           \n",
       "2020-10-19                                                  0.010072                           \n",
       "...                                                              ...                           \n",
       "2020-08-05                                                  0.000000                           \n",
       "2020-08-04                                                  0.000000                           \n",
       "2020-08-03                                                  0.000000                           \n",
       "2020-08-02                                                  0.000000                           \n",
       "2020-08-01                                                  0.000000                           \n",
       "\n",
       "[84 rows x 7 columns]"
      ]
     },
     "execution_count": 47,
     "metadata": {},
     "output_type": "execute_result"
    }
   ],
   "source": [
    "result_summary_df_ = result_summary_df.copy()\n",
    "result_summary_df = result_summary_df[summary_columns]\n",
    "result_summary_with_display_names_df = result_summary_df \\\n",
    "    .rename_axis(index=display_column_name_mapping) \\\n",
    "    .rename(columns=display_column_name_mapping)\n",
    "result_summary_with_display_names_df"
   ]
  },
  {
   "cell_type": "markdown",
   "metadata": {
    "execution": {
     "iopub.execute_input": "2020-09-02T08:20:14.726751Z",
     "iopub.status.busy": "2020-09-02T08:20:14.726143Z",
     "iopub.status.idle": "2020-09-02T08:20:16.115081Z",
     "shell.execute_reply": "2020-09-02T08:20:16.115565Z"
    },
    "papermill": {
     "duration": 0.069491,
     "end_time": "2020-10-23T23:26:20.287226",
     "exception": false,
     "start_time": "2020-10-23T23:26:20.217735",
     "status": "completed"
    },
    "pycharm": {
     "name": "#%% md\n"
    },
    "scrolled": false,
    "tags": []
   },
   "source": [
    "### Daily Summary Plots"
   ]
  },
  {
   "cell_type": "code",
   "execution_count": 48,
   "metadata": {
    "execution": {
     "iopub.execute_input": "2020-10-23T23:26:20.433567Z",
     "iopub.status.busy": "2020-10-23T23:26:20.432985Z",
     "iopub.status.idle": "2020-10-23T23:26:22.096108Z",
     "shell.execute_reply": "2020-10-23T23:26:22.095654Z"
    },
    "papermill": {
     "duration": 1.745604,
     "end_time": "2020-10-23T23:26:22.096249",
     "exception": false,
     "start_time": "2020-10-23T23:26:20.350645",
     "status": "completed"
    },
    "pycharm": {
     "name": "#%%\n"
    },
    "tags": []
   },
   "outputs": [
    {
     "data": {
      "image/png": "[encoded data removed]",
      "text/plain": [
       "<Figure size 1080x1584 with 7 Axes>"
      ]
     },
     "metadata": {},
     "output_type": "display_data"
    }
   ],
   "source": [
    "result_plot_summary_df = result_summary_df.head(daily_plot_days)[summary_columns] \\\n",
    "    .rename_axis(index=display_column_name_mapping) \\\n",
    "    .rename(columns=display_column_name_mapping)\n",
    "summary_ax_list = result_plot_summary_df.sort_index(ascending=True).plot.bar(\n",
    "    title=f\"Daily Summary\",\n",
    "    rot=45, subplots=True, figsize=(15, 22), legend=False)\n",
    "ax_ = summary_ax_list[-1]\n",
    "ax_.get_figure().tight_layout()\n",
    "ax_.get_figure().subplots_adjust(top=0.95)\n",
    "ax_.yaxis.set_major_formatter(matplotlib.ticker.PercentFormatter(1.0))\n",
    "_ = ax_.set_xticklabels(sorted(result_plot_summary_df.index.strftime(\"%Y-%m-%d\").tolist()))"
   ]
  },
  {
   "cell_type": "markdown",
   "metadata": {
    "collapsed": false,
    "papermill": {
     "duration": 0.062306,
     "end_time": "2020-10-23T23:26:22.220842",
     "exception": false,
     "start_time": "2020-10-23T23:26:22.158536",
     "status": "completed"
    },
    "tags": []
   },
   "source": [
    "### Daily Generation to Upload Period Table"
   ]
  },
  {
   "cell_type": "code",
   "execution_count": 49,
   "metadata": {
    "collapsed": false,
    "execution": {
     "iopub.execute_input": "2020-10-23T23:26:22.359925Z",
     "iopub.status.busy": "2020-10-23T23:26:22.359335Z",
     "iopub.status.idle": "2020-10-23T23:26:22.361897Z",
     "shell.execute_reply": "2020-10-23T23:26:22.362332Z"
    },
    "papermill": {
     "duration": 0.079274,
     "end_time": "2020-10-23T23:26:22.362479",
     "exception": false,
     "start_time": "2020-10-23T23:26:22.283205",
     "status": "completed"
    },
    "pycharm": {
     "name": "#%%\n"
    },
    "tags": []
   },
   "outputs": [
    {
     "data": {
      "text/html": [
       "<div>\n",
       "<style scoped>\n",
       "    .dataframe tbody tr th:only-of-type {\n",
       "        vertical-align: middle;\n",
       "    }\n",
       "\n",
       "    .dataframe tbody tr th {\n",
       "        vertical-align: top;\n",
       "    }\n",
       "\n",
       "    .dataframe thead th {\n",
       "        text-align: right;\n",
       "    }\n",
       "</style>\n",
       "<table border=\"1\" class=\"dataframe\">\n",
       "  <thead>\n",
       "    <tr style=\"text-align: right;\">\n",
       "      <th>Generation to Upload Period in Days</th>\n",
       "      <th>0</th>\n",
       "      <th>1</th>\n",
       "      <th>2</th>\n",
       "      <th>3</th>\n",
       "      <th>4</th>\n",
       "      <th>5</th>\n",
       "      <th>6</th>\n",
       "      <th>7</th>\n",
       "      <th>8</th>\n",
       "      <th>9</th>\n",
       "      <th>10</th>\n",
       "      <th>11</th>\n",
       "      <th>12</th>\n",
       "      <th>13</th>\n",
       "    </tr>\n",
       "    <tr>\n",
       "      <th>Upload Date (UTC)</th>\n",
       "      <th></th>\n",
       "      <th></th>\n",
       "      <th></th>\n",
       "      <th></th>\n",
       "      <th></th>\n",
       "      <th></th>\n",
       "      <th></th>\n",
       "      <th></th>\n",
       "      <th></th>\n",
       "      <th></th>\n",
       "      <th></th>\n",
       "      <th></th>\n",
       "      <th></th>\n",
       "      <th></th>\n",
       "    </tr>\n",
       "  </thead>\n",
       "  <tbody>\n",
       "    <tr>\n",
       "      <th>2020-10-23</th>\n",
       "      <td>167</td>\n",
       "      <td>145</td>\n",
       "      <td>129</td>\n",
       "      <td>106</td>\n",
       "      <td>85</td>\n",
       "      <td>58</td>\n",
       "      <td>29</td>\n",
       "      <td>19</td>\n",
       "      <td>14</td>\n",
       "      <td>9</td>\n",
       "      <td>3</td>\n",
       "      <td>3</td>\n",
       "      <td>1</td>\n",
       "      <td>1</td>\n",
       "    </tr>\n",
       "    <tr>\n",
       "      <th>2020-10-22</th>\n",
       "      <td>180</td>\n",
       "      <td>132</td>\n",
       "      <td>114</td>\n",
       "      <td>100</td>\n",
       "      <td>76</td>\n",
       "      <td>51</td>\n",
       "      <td>26</td>\n",
       "      <td>18</td>\n",
       "      <td>10</td>\n",
       "      <td>6</td>\n",
       "      <td>4</td>\n",
       "      <td>4</td>\n",
       "      <td>3</td>\n",
       "      <td>2</td>\n",
       "    </tr>\n",
       "    <tr>\n",
       "      <th>2020-10-21</th>\n",
       "      <td>157</td>\n",
       "      <td>153</td>\n",
       "      <td>136</td>\n",
       "      <td>120</td>\n",
       "      <td>97</td>\n",
       "      <td>62</td>\n",
       "      <td>34</td>\n",
       "      <td>28</td>\n",
       "      <td>20</td>\n",
       "      <td>15</td>\n",
       "      <td>9</td>\n",
       "      <td>4</td>\n",
       "      <td>3</td>\n",
       "      <td>3</td>\n",
       "    </tr>\n",
       "    <tr>\n",
       "      <th>2020-10-20</th>\n",
       "      <td>149</td>\n",
       "      <td>135</td>\n",
       "      <td>119</td>\n",
       "      <td>106</td>\n",
       "      <td>79</td>\n",
       "      <td>59</td>\n",
       "      <td>47</td>\n",
       "      <td>25</td>\n",
       "      <td>21</td>\n",
       "      <td>13</td>\n",
       "      <td>8</td>\n",
       "      <td>6</td>\n",
       "      <td>3</td>\n",
       "      <td>2</td>\n",
       "    </tr>\n",
       "    <tr>\n",
       "      <th>2020-10-19</th>\n",
       "      <td>142</td>\n",
       "      <td>123</td>\n",
       "      <td>118</td>\n",
       "      <td>105</td>\n",
       "      <td>86</td>\n",
       "      <td>72</td>\n",
       "      <td>45</td>\n",
       "      <td>33</td>\n",
       "      <td>22</td>\n",
       "      <td>17</td>\n",
       "      <td>12</td>\n",
       "      <td>9</td>\n",
       "      <td>4</td>\n",
       "      <td>3</td>\n",
       "    </tr>\n",
       "    <tr>\n",
       "      <th>2020-10-18</th>\n",
       "      <td>146</td>\n",
       "      <td>132</td>\n",
       "      <td>114</td>\n",
       "      <td>96</td>\n",
       "      <td>87</td>\n",
       "      <td>54</td>\n",
       "      <td>33</td>\n",
       "      <td>18</td>\n",
       "      <td>12</td>\n",
       "      <td>10</td>\n",
       "      <td>9</td>\n",
       "      <td>7</td>\n",
       "      <td>5</td>\n",
       "      <td>3</td>\n",
       "    </tr>\n",
       "    <tr>\n",
       "      <th>2020-10-17</th>\n",
       "      <td>174</td>\n",
       "      <td>138</td>\n",
       "      <td>118</td>\n",
       "      <td>108</td>\n",
       "      <td>84</td>\n",
       "      <td>54</td>\n",
       "      <td>32</td>\n",
       "      <td>19</td>\n",
       "      <td>15</td>\n",
       "      <td>11</td>\n",
       "      <td>7</td>\n",
       "      <td>4</td>\n",
       "      <td>2</td>\n",
       "      <td>1</td>\n",
       "    </tr>\n",
       "    <tr>\n",
       "      <th>2020-10-16</th>\n",
       "      <td>149</td>\n",
       "      <td>141</td>\n",
       "      <td>125</td>\n",
       "      <td>107</td>\n",
       "      <td>84</td>\n",
       "      <td>53</td>\n",
       "      <td>32</td>\n",
       "      <td>24</td>\n",
       "      <td>20</td>\n",
       "      <td>15</td>\n",
       "      <td>7</td>\n",
       "      <td>5</td>\n",
       "      <td>3</td>\n",
       "      <td>4</td>\n",
       "    </tr>\n",
       "    <tr>\n",
       "      <th>2020-10-15</th>\n",
       "      <td>151</td>\n",
       "      <td>175</td>\n",
       "      <td>104</td>\n",
       "      <td>86</td>\n",
       "      <td>58</td>\n",
       "      <td>38</td>\n",
       "      <td>23</td>\n",
       "      <td>14</td>\n",
       "      <td>8</td>\n",
       "      <td>6</td>\n",
       "      <td>4</td>\n",
       "      <td>2</td>\n",
       "      <td>1</td>\n",
       "      <td>1</td>\n",
       "    </tr>\n",
       "    <tr>\n",
       "      <th>2020-10-14</th>\n",
       "      <td>1</td>\n",
       "      <td>133</td>\n",
       "      <td>80</td>\n",
       "      <td>69</td>\n",
       "      <td>54</td>\n",
       "      <td>38</td>\n",
       "      <td>30</td>\n",
       "      <td>24</td>\n",
       "      <td>14</td>\n",
       "      <td>9</td>\n",
       "      <td>6</td>\n",
       "      <td>3</td>\n",
       "      <td>1</td>\n",
       "      <td>1</td>\n",
       "    </tr>\n",
       "    <tr>\n",
       "      <th>2020-10-13</th>\n",
       "      <td>1</td>\n",
       "      <td>112</td>\n",
       "      <td>61</td>\n",
       "      <td>50</td>\n",
       "      <td>37</td>\n",
       "      <td>32</td>\n",
       "      <td>19</td>\n",
       "      <td>10</td>\n",
       "      <td>4</td>\n",
       "      <td>4</td>\n",
       "      <td>2</td>\n",
       "      <td>1</td>\n",
       "      <td>1</td>\n",
       "      <td>0</td>\n",
       "    </tr>\n",
       "    <tr>\n",
       "      <th>2020-10-12</th>\n",
       "      <td>2</td>\n",
       "      <td>136</td>\n",
       "      <td>53</td>\n",
       "      <td>47</td>\n",
       "      <td>33</td>\n",
       "      <td>19</td>\n",
       "      <td>14</td>\n",
       "      <td>12</td>\n",
       "      <td>5</td>\n",
       "      <td>2</td>\n",
       "      <td>2</td>\n",
       "      <td>1</td>\n",
       "      <td>0</td>\n",
       "      <td>0</td>\n",
       "    </tr>\n",
       "    <tr>\n",
       "      <th>2020-10-11</th>\n",
       "      <td>1</td>\n",
       "      <td>147</td>\n",
       "      <td>75</td>\n",
       "      <td>62</td>\n",
       "      <td>51</td>\n",
       "      <td>38</td>\n",
       "      <td>18</td>\n",
       "      <td>9</td>\n",
       "      <td>6</td>\n",
       "      <td>5</td>\n",
       "      <td>3</td>\n",
       "      <td>3</td>\n",
       "      <td>2</td>\n",
       "      <td>2</td>\n",
       "    </tr>\n",
       "    <tr>\n",
       "      <th>2020-10-10</th>\n",
       "      <td>0</td>\n",
       "      <td>133</td>\n",
       "      <td>85</td>\n",
       "      <td>68</td>\n",
       "      <td>61</td>\n",
       "      <td>50</td>\n",
       "      <td>15</td>\n",
       "      <td>9</td>\n",
       "      <td>6</td>\n",
       "      <td>2</td>\n",
       "      <td>0</td>\n",
       "      <td>0</td>\n",
       "      <td>0</td>\n",
       "      <td>0</td>\n",
       "    </tr>\n",
       "  </tbody>\n",
       "</table>\n",
       "</div>"
      ],
      "text/plain": [
       "Generation to Upload Period in Days   0    1    2    3   4   5   6   7   8   \\\n",
       "Upload Date (UTC)                                                             \n",
       "2020-10-23                           167  145  129  106  85  58  29  19  14   \n",
       "2020-10-22                           180  132  114  100  76  51  26  18  10   \n",
       "2020-10-21                           157  153  136  120  97  62  34  28  20   \n",
       "2020-10-20                           149  135  119  106  79  59  47  25  21   \n",
       "2020-10-19                           142  123  118  105  86  72  45  33  22   \n",
       "2020-10-18                           146  132  114   96  87  54  33  18  12   \n",
       "2020-10-17                           174  138  118  108  84  54  32  19  15   \n",
       "2020-10-16                           149  141  125  107  84  53  32  24  20   \n",
       "2020-10-15                           151  175  104   86  58  38  23  14   8   \n",
       "2020-10-14                             1  133   80   69  54  38  30  24  14   \n",
       "2020-10-13                             1  112   61   50  37  32  19  10   4   \n",
       "2020-10-12                             2  136   53   47  33  19  14  12   5   \n",
       "2020-10-11                             1  147   75   62  51  38  18   9   6   \n",
       "2020-10-10                             0  133   85   68  61  50  15   9   6   \n",
       "\n",
       "Generation to Upload Period in Days  9   10  11  12  13  \n",
       "Upload Date (UTC)                                        \n",
       "2020-10-23                            9   3   3   1   1  \n",
       "2020-10-22                            6   4   4   3   2  \n",
       "2020-10-21                           15   9   4   3   3  \n",
       "2020-10-20                           13   8   6   3   2  \n",
       "2020-10-19                           17  12   9   4   3  \n",
       "2020-10-18                           10   9   7   5   3  \n",
       "2020-10-17                           11   7   4   2   1  \n",
       "2020-10-16                           15   7   5   3   4  \n",
       "2020-10-15                            6   4   2   1   1  \n",
       "2020-10-14                            9   6   3   1   1  \n",
       "2020-10-13                            4   2   1   1   0  \n",
       "2020-10-12                            2   2   1   0   0  \n",
       "2020-10-11                            5   3   3   2   2  \n",
       "2020-10-10                            2   0   0   0   0  "
      ]
     },
     "execution_count": 49,
     "metadata": {},
     "output_type": "execute_result"
    }
   ],
   "source": [
    "display_generation_to_upload_period_pivot_df = \\\n",
    "    generation_to_upload_period_pivot_df \\\n",
    "        .head(backend_generation_days)\n",
    "display_generation_to_upload_period_pivot_df \\\n",
    "    .head(backend_generation_days) \\\n",
    "    .rename_axis(columns=display_column_name_mapping) \\\n",
    "    .rename_axis(index=display_column_name_mapping)"
   ]
  },
  {
   "cell_type": "code",
   "execution_count": 50,
   "metadata": {
    "collapsed": false,
    "execution": {
     "iopub.execute_input": "2020-10-23T23:26:22.511527Z",
     "iopub.status.busy": "2020-10-23T23:26:22.510957Z",
     "iopub.status.idle": "2020-10-23T23:26:23.384120Z",
     "shell.execute_reply": "2020-10-23T23:26:23.384865Z"
    },
    "papermill": {
     "duration": 0.958675,
     "end_time": "2020-10-23T23:26:23.385032",
     "exception": false,
     "start_time": "2020-10-23T23:26:22.426357",
     "status": "completed"
    },
    "pycharm": {
     "name": "#%%\n"
    },
    "tags": []
   },
   "outputs": [
    {
     "data": {
      "image/png": "[encoded data removed]",
      "text/plain": [
       "<Figure size 720x576 with 2 Axes>"
      ]
     },
     "metadata": {},
     "output_type": "display_data"
    }
   ],
   "source": [
    "import matplotlib.pyplot as plt\n",
    "\n",
    "fig, generation_to_upload_period_pivot_table_ax = plt.subplots(\n",
    "    figsize=(10, 1 + 0.5 * len(display_generation_to_upload_period_pivot_df)))\n",
    "generation_to_upload_period_pivot_table_ax.set_title(\n",
    "    \"Shared TEKs Generation to Upload Period Table\")\n",
    "sns.heatmap(\n",
    "    data=display_generation_to_upload_period_pivot_df\n",
    "        .rename_axis(columns=display_column_name_mapping)\n",
    "        .rename_axis(index=display_column_name_mapping),\n",
    "    fmt=\".0f\",\n",
    "    annot=True,\n",
    "    ax=generation_to_upload_period_pivot_table_ax)\n",
    "generation_to_upload_period_pivot_table_ax.get_figure().tight_layout()"
   ]
  },
  {
   "cell_type": "markdown",
   "metadata": {
    "execution": {
     "iopub.execute_input": "2020-09-02T08:20:16.278300Z",
     "iopub.status.busy": "2020-09-02T08:20:16.277679Z",
     "iopub.status.idle": "2020-09-02T08:20:16.821909Z",
     "shell.execute_reply": "2020-09-02T08:20:16.822577Z"
    },
    "papermill": {
     "duration": 0.067777,
     "end_time": "2020-10-23T23:26:23.520306",
     "exception": false,
     "start_time": "2020-10-23T23:26:23.452529",
     "status": "completed"
    },
    "pycharm": {
     "name": "#%% md\n"
    },
    "tags": []
   },
   "source": [
    "### Hourly Summary Plots "
   ]
  },
  {
   "cell_type": "code",
   "execution_count": 51,
   "metadata": {
    "execution": {
     "iopub.execute_input": "2020-10-23T23:26:23.686003Z",
     "iopub.status.busy": "2020-10-23T23:26:23.683572Z",
     "iopub.status.idle": "2020-10-23T23:26:24.168176Z",
     "shell.execute_reply": "2020-10-23T23:26:24.168922Z"
    },
    "papermill": {
     "duration": 0.580665,
     "end_time": "2020-10-23T23:26:24.169081",
     "exception": false,
     "start_time": "2020-10-23T23:26:23.588416",
     "status": "completed"
    },
    "pycharm": {
     "name": "#%%\n"
    },
    "tags": []
   },
   "outputs": [
    {
     "data": {
      "image/png": "[encoded data removed]",
      "text/plain": [
       "<Figure size 1080x432 with 2 Axes>"
      ]
     },
     "metadata": {},
     "output_type": "display_data"
    }
   ],
   "source": [
    "hourly_summary_ax_list = hourly_summary_df \\\n",
    "    .rename_axis(index=display_column_name_mapping) \\\n",
    "    .rename(columns=display_column_name_mapping) \\\n",
    "    .plot.bar(\n",
    "        title=f\"Last 24h Summary\",\n",
    "        rot=45, subplots=True, legend=False)\n",
    "ax_ = hourly_summary_ax_list[-1]\n",
    "ax_.get_figure().tight_layout()\n",
    "ax_.get_figure().subplots_adjust(top=0.9)\n",
    "_ = ax_.set_xticklabels(sorted(hourly_summary_df.index.strftime(\"%Y-%m-%d@%H\").tolist()))"
   ]
  },
  {
   "cell_type": "markdown",
   "metadata": {
    "execution": {
     "iopub.execute_input": "2020-09-02T08:20:16.981187Z",
     "iopub.status.busy": "2020-09-02T08:20:16.980584Z",
     "iopub.status.idle": "2020-09-02T08:20:20.068070Z",
     "shell.execute_reply": "2020-09-02T08:20:20.068598Z"
    },
    "papermill": {
     "duration": 0.067539,
     "end_time": "2020-10-23T23:26:24.304929",
     "exception": false,
     "start_time": "2020-10-23T23:26:24.237390",
     "status": "completed"
    },
    "pycharm": {
     "name": "#%% md\n"
    },
    "tags": []
   },
   "source": [
    "### Publish Results"
   ]
  },
  {
   "cell_type": "code",
   "execution_count": 52,
   "metadata": {
    "collapsed": false,
    "execution": {
     "iopub.execute_input": "2020-10-23T23:26:24.445808Z",
     "iopub.status.busy": "2020-10-23T23:26:24.445227Z",
     "iopub.status.idle": "2020-10-23T23:26:24.447575Z",
     "shell.execute_reply": "2020-10-23T23:26:24.447978Z"
    },
    "papermill": {
     "duration": 0.076434,
     "end_time": "2020-10-23T23:26:24.448148",
     "exception": false,
     "start_time": "2020-10-23T23:26:24.371714",
     "status": "completed"
    },
    "pycharm": {
     "name": "#%%\n"
    },
    "tags": []
   },
   "outputs": [],
   "source": [
    "def get_temporary_image_path() -> str:\n",
    "    return os.path.join(tempfile.gettempdir(), str(uuid.uuid4()) + \".png\")\n",
    "\n",
    "def save_temporary_plot_image(ax):\n",
    "    if isinstance(ax, np.ndarray):\n",
    "        ax = ax[0]\n",
    "    media_path = get_temporary_image_path()\n",
    "    ax.get_figure().savefig(media_path)\n",
    "    return media_path\n",
    "\n",
    "def save_temporary_dataframe_image(df):\n",
    "    import dataframe_image as dfi\n",
    "    media_path = get_temporary_image_path()\n",
    "    dfi.export(df, media_path)\n",
    "    return media_path"
   ]
  },
  {
   "cell_type": "code",
   "execution_count": 53,
   "metadata": {
    "collapsed": false,
    "execution": {
     "iopub.execute_input": "2020-10-23T23:26:24.590640Z",
     "iopub.status.busy": "2020-10-23T23:26:24.590017Z",
     "iopub.status.idle": "2020-10-23T23:26:24.611335Z",
     "shell.execute_reply": "2020-10-23T23:26:24.610765Z"
    },
    "papermill": {
     "duration": 0.097284,
     "end_time": "2020-10-23T23:26:24.611496",
     "exception": false,
     "start_time": "2020-10-23T23:26:24.514212",
     "status": "completed"
    },
    "pycharm": {
     "name": "#%%\n"
    },
    "tags": []
   },
   "outputs": [],
   "source": [
    "github_repository = os.environ.get(\"GITHUB_REPOSITORY\")\n",
    "if github_repository is None:\n",
    "    github_repository = \"pvieito/Radar-STATS\"\n",
    "\n",
    "github_project_base_url = \"https://github.com/\" + github_repository\n",
    "\n",
    "display_formatters = {\n",
    "    display_column_name_mapping[\"teks_per_shared_diagnosis\"]: lambda x: f\"{x:.2f}\",\n",
    "    display_column_name_mapping[\"shared_diagnoses_per_covid_case\"]: lambda x: f\"{x:.2%}\",\n",
    "}\n",
    "daily_summary_table_html = result_summary_with_display_names_df \\\n",
    "    .head(daily_plot_days) \\\n",
    "    .rename_axis(index=display_column_name_mapping) \\\n",
    "    .rename(columns=display_column_name_mapping) \\\n",
    "    .to_html(formatters=display_formatters)\n",
    "multi_backend_summary_table_html = multi_backend_summary_df \\\n",
    "    .head(daily_plot_days) \\\n",
    "    .rename_axis(columns=display_column_name_mapping) \\\n",
    "    .rename(columns=display_column_name_mapping) \\\n",
    "    .rename_axis(index=display_column_name_mapping) \\\n",
    "    .to_html(formatters=display_formatters)\n",
    "\n",
    "extraction_date_result_summary_df = \\\n",
    "    result_summary_df[result_summary_df.index == extraction_date]\n",
    "extraction_date_result_hourly_summary_df = \\\n",
    "    hourly_summary_df[hourly_summary_df.extraction_date_with_hour == extraction_date_with_hour]\n",
    "\n",
    "covid_cases = \\\n",
    "    extraction_date_result_summary_df.covid_cases.sum()\n",
    "shared_teks_by_generation_date = \\\n",
    "    extraction_date_result_summary_df.shared_teks_by_generation_date.sum()\n",
    "shared_teks_by_upload_date = \\\n",
    "    extraction_date_result_summary_df.shared_teks_by_upload_date.sum()\n",
    "shared_diagnoses = \\\n",
    "    extraction_date_result_summary_df.shared_diagnoses.sum()\n",
    "teks_per_shared_diagnosis = \\\n",
    "    extraction_date_result_summary_df.teks_per_shared_diagnosis.sum()\n",
    "shared_diagnoses_per_covid_case = \\\n",
    "    extraction_date_result_summary_df.shared_diagnoses_per_covid_case.sum()\n",
    "\n",
    "shared_teks_by_upload_date_last_hour = \\\n",
    "    extraction_date_result_hourly_summary_df.shared_teks_by_upload_date.sum().astype(int)\n",
    "shared_diagnoses_last_hour = \\\n",
    "    extraction_date_result_hourly_summary_df.shared_diagnoses.sum().astype(int)\n",
    "\n",
    "display_source_regions = \", \".join(report_source_regions)"
   ]
  },
  {
   "cell_type": "code",
   "execution_count": 54,
   "metadata": {
    "execution": {
     "iopub.execute_input": "2020-10-23T23:26:24.748564Z",
     "iopub.status.busy": "2020-10-23T23:26:24.748009Z",
     "iopub.status.idle": "2020-10-23T23:26:38.578977Z",
     "shell.execute_reply": "2020-10-23T23:26:38.579520Z"
    },
    "papermill": {
     "duration": 13.902448,
     "end_time": "2020-10-23T23:26:38.579675",
     "exception": false,
     "start_time": "2020-10-23T23:26:24.677227",
     "status": "completed"
    },
    "pycharm": {
     "name": "#%%\n"
    },
    "tags": []
   },
   "outputs": [],
   "source": [
    "summary_plots_image_path = save_temporary_plot_image(\n",
    "    ax=summary_ax_list)\n",
    "summary_table_image_path = save_temporary_dataframe_image(\n",
    "    df=result_summary_with_display_names_df)\n",
    "hourly_summary_plots_image_path = save_temporary_plot_image(\n",
    "    ax=hourly_summary_ax_list)\n",
    "multi_backend_summary_table_image_path = save_temporary_dataframe_image(\n",
    "    df=multi_backend_summary_df)\n",
    "generation_to_upload_period_pivot_table_image_path = save_temporary_plot_image(\n",
    "    ax=generation_to_upload_period_pivot_table_ax)"
   ]
  },
  {
   "cell_type": "markdown",
   "metadata": {
    "execution": {
     "iopub.execute_input": "2020-09-02T08:20:20.895901Z",
     "iopub.status.busy": "2020-09-02T08:20:20.895301Z",
     "iopub.status.idle": "2020-09-02T08:20:20.942286Z",
     "shell.execute_reply": "2020-09-02T08:20:20.942834Z"
    },
    "papermill": {
     "duration": 0.06615,
     "end_time": "2020-10-23T23:26:38.711327",
     "exception": false,
     "start_time": "2020-10-23T23:26:38.645177",
     "status": "completed"
    },
    "pycharm": {
     "name": "#%% md\n"
    },
    "tags": []
   },
   "source": [
    "### Save Results"
   ]
  },
  {
   "cell_type": "code",
   "execution_count": 55,
   "metadata": {
    "collapsed": false,
    "execution": {
     "iopub.execute_input": "2020-10-23T23:26:38.846494Z",
     "iopub.status.busy": "2020-10-23T23:26:38.845908Z",
     "iopub.status.idle": "2020-10-23T23:26:38.872772Z",
     "shell.execute_reply": "2020-10-23T23:26:38.871748Z"
    },
    "papermill": {
     "duration": 0.097007,
     "end_time": "2020-10-23T23:26:38.872896",
     "exception": false,
     "start_time": "2020-10-23T23:26:38.775889",
     "status": "completed"
    },
    "pycharm": {
     "name": "#%%\n"
    },
    "tags": []
   },
   "outputs": [],
   "source": [
    "report_resources_path_prefix = \"Data/Resources/Current/RadarCOVID-Report-\"\n",
    "result_summary_df.to_csv(\n",
    "    report_resources_path_prefix + \"Summary-Table.csv\")\n",
    "result_summary_df.to_html(\n",
    "    report_resources_path_prefix + \"Summary-Table.html\")\n",
    "hourly_summary_df.to_csv(\n",
    "    report_resources_path_prefix + \"Hourly-Summary-Table.csv\")\n",
    "multi_backend_summary_df.to_csv(\n",
    "    report_resources_path_prefix + \"Multi-Backend-Summary-Table.csv\")\n",
    "generation_to_upload_period_pivot_df.to_csv(\n",
    "    report_resources_path_prefix + \"Generation-Upload-Period-Table.csv\")\n",
    "_ = shutil.copyfile(\n",
    "    summary_plots_image_path,\n",
    "    report_resources_path_prefix + \"Summary-Plots.png\")\n",
    "_ = shutil.copyfile(\n",
    "    summary_table_image_path,\n",
    "    report_resources_path_prefix + \"Summary-Table.png\")\n",
    "_ = shutil.copyfile(\n",
    "    hourly_summary_plots_image_path,\n",
    "    report_resources_path_prefix + \"Hourly-Summary-Plots.png\")\n",
    "_ = shutil.copyfile(\n",
    "    multi_backend_summary_table_image_path,\n",
    "    report_resources_path_prefix + \"Multi-Backend-Summary-Table.png\")\n",
    "_ = shutil.copyfile(\n",
    "    generation_to_upload_period_pivot_table_image_path,\n",
    "    report_resources_path_prefix + \"Generation-Upload-Period-Table.png\")"
   ]
  },
  {
   "cell_type": "markdown",
   "metadata": {
    "collapsed": false,
    "papermill": {
     "duration": 0.06807,
     "end_time": "2020-10-23T23:26:39.009886",
     "exception": false,
     "start_time": "2020-10-23T23:26:38.941816",
     "status": "completed"
    },
    "pycharm": {
     "name": "#%% md\n"
    },
    "tags": []
   },
   "source": [
    "### Publish Results as JSON"
   ]
  },
  {
   "cell_type": "code",
   "execution_count": 56,
   "metadata": {
    "collapsed": false,
    "execution": {
     "iopub.execute_input": "2020-10-23T23:26:39.156945Z",
     "iopub.status.busy": "2020-10-23T23:26:39.156346Z",
     "iopub.status.idle": "2020-10-23T23:26:39.161811Z",
     "shell.execute_reply": "2020-10-23T23:26:39.162248Z"
    },
    "papermill": {
     "duration": 0.085804,
     "end_time": "2020-10-23T23:26:39.162394",
     "exception": false,
     "start_time": "2020-10-23T23:26:39.076590",
     "status": "completed"
    },
    "pycharm": {
     "name": "#%%\n"
    },
    "tags": []
   },
   "outputs": [],
   "source": [
    "summary_results_api_df = result_summary_df.reset_index()\n",
    "summary_results_api_df[\"sample_date_string\"] = \\\n",
    "    summary_results_api_df[\"sample_date\"].dt.strftime(\"%Y-%m-%d\")\n",
    "\n",
    "summary_results = dict(\n",
    "    source_regions=report_source_regions,\n",
    "    extraction_datetime=extraction_datetime,\n",
    "    extraction_date=extraction_date,\n",
    "    extraction_date_with_hour=extraction_date_with_hour,\n",
    "    last_hour=dict(\n",
    "        shared_teks_by_upload_date=shared_teks_by_upload_date_last_hour,\n",
    "        shared_diagnoses=shared_diagnoses_last_hour,\n",
    "    ),\n",
    "    today=dict(\n",
    "        covid_cases=covid_cases,\n",
    "        shared_teks_by_generation_date=shared_teks_by_generation_date,\n",
    "        shared_teks_by_upload_date=shared_teks_by_upload_date,\n",
    "        shared_diagnoses=shared_diagnoses,\n",
    "        teks_per_shared_diagnosis=teks_per_shared_diagnosis,\n",
    "        shared_diagnoses_per_covid_case=shared_diagnoses_per_covid_case,\n",
    "    ),\n",
    "    last_7_days=last_7_days_summary,\n",
    "    daily_results=summary_results_api_df.to_dict(orient=\"records\"))\n",
    "summary_results = \\\n",
    "    json.loads(pd.Series([summary_results]).to_json(orient=\"records\"))[0]\n",
    "\n",
    "with open(report_resources_path_prefix + \"Summary-Results.json\", \"w\") as f:\n",
    "    json.dump(summary_results, f, indent=4)"
   ]
  },
  {
   "cell_type": "markdown",
   "metadata": {
    "collapsed": false,
    "papermill": {
     "duration": 0.068597,
     "end_time": "2020-10-23T23:26:39.301329",
     "exception": false,
     "start_time": "2020-10-23T23:26:39.232732",
     "status": "completed"
    },
    "pycharm": {
     "name": "#%% md\n"
    },
    "tags": []
   },
   "source": [
    "### Publish on README"
   ]
  },
  {
   "cell_type": "code",
   "execution_count": 57,
   "metadata": {
    "collapsed": false,
    "execution": {
     "iopub.execute_input": "2020-10-23T23:26:39.446237Z",
     "iopub.status.busy": "2020-10-23T23:26:39.444989Z",
     "iopub.status.idle": "2020-10-23T23:26:39.447282Z",
     "shell.execute_reply": "2020-10-23T23:26:39.448026Z"
    },
    "papermill": {
     "duration": 0.077394,
     "end_time": "2020-10-23T23:26:39.448263",
     "exception": false,
     "start_time": "2020-10-23T23:26:39.370869",
     "status": "completed"
    },
    "pycharm": {
     "name": "#%%\n"
    },
    "tags": []
   },
   "outputs": [],
   "source": [
    "with open(\"Data/Templates/README.md\", \"r\") as f:\n",
    "    readme_contents = f.read()\n",
    "\n",
    "readme_contents = readme_contents.format(\n",
    "    extraction_date_with_hour=extraction_date_with_hour,\n",
    "    github_project_base_url=github_project_base_url,\n",
    "    daily_summary_table_html=daily_summary_table_html,\n",
    "    multi_backend_summary_table_html=multi_backend_summary_table_html,\n",
    "    display_source_regions=display_source_regions)\n",
    "\n",
    "with open(\"README.md\", \"w\") as f:\n",
    "    f.write(readme_contents)"
   ]
  },
  {
   "cell_type": "markdown",
   "metadata": {
    "collapsed": false,
    "papermill": {
     "duration": 0.070529,
     "end_time": "2020-10-23T23:26:39.587560",
     "exception": false,
     "start_time": "2020-10-23T23:26:39.517031",
     "status": "completed"
    },
    "pycharm": {
     "name": "#%% md\n"
    },
    "tags": []
   },
   "source": [
    "### Publish on Twitter"
   ]
  },
  {
   "cell_type": "code",
   "execution_count": 58,
   "metadata": {
    "collapsed": false,
    "execution": {
     "iopub.execute_input": "2020-10-23T23:26:39.740660Z",
     "iopub.status.busy": "2020-10-23T23:26:39.740062Z",
     "iopub.status.idle": "2020-10-23T23:26:48.627624Z",
     "shell.execute_reply": "2020-10-23T23:26:48.626816Z"
    },
    "papermill": {
     "duration": 8.970285,
     "end_time": "2020-10-23T23:26:48.627845",
     "exception": false,
     "start_time": "2020-10-23T23:26:39.657560",
     "status": "completed"
    },
    "pycharm": {
     "name": "#%%\n"
    },
    "tags": []
   },
   "outputs": [],
   "source": [
    "enable_share_to_twitter = os.environ.get(\"RADARCOVID_REPORT__ENABLE_PUBLISH_ON_TWITTER\")\n",
    "github_event_name = os.environ.get(\"GITHUB_EVENT_NAME\")\n",
    "\n",
    "if enable_share_to_twitter and github_event_name == \"schedule\":\n",
    "    import tweepy\n",
    "\n",
    "    twitter_api_auth_keys = os.environ[\"RADARCOVID_REPORT__TWITTER_API_AUTH_KEYS\"]\n",
    "    twitter_api_auth_keys = twitter_api_auth_keys.split(\":\")\n",
    "    auth = tweepy.OAuthHandler(twitter_api_auth_keys[0], twitter_api_auth_keys[1])\n",
    "    auth.set_access_token(twitter_api_auth_keys[2], twitter_api_auth_keys[3])\n",
    "\n",
    "    api = tweepy.API(auth)\n",
    "\n",
    "    summary_plots_media = api.media_upload(summary_plots_image_path)\n",
    "    summary_table_media = api.media_upload(summary_table_image_path)\n",
    "    generation_to_upload_period_pivot_table_image_media = api.media_upload(generation_to_upload_period_pivot_table_image_path)\n",
    "    media_ids = [\n",
    "        summary_plots_media.media_id,\n",
    "        summary_table_media.media_id,\n",
    "        generation_to_upload_period_pivot_table_image_media.media_id,\n",
    "    ]\n",
    "\n",
    "    status = textwrap.dedent(f\"\"\"\n",
    "        #RadarCOVID Report – {extraction_date_with_hour}\n",
    "\n",
    "        Source Countries: {display_source_regions}\n",
    "\n",
    "        Today:\n",
    "        - Uploaded TEKs: {shared_teks_by_upload_date:.0f} ({shared_teks_by_upload_date_last_hour:+d} last hour)\n",
    "        - Shared Diagnoses: ≤{shared_diagnoses:.0f} ({shared_diagnoses_last_hour:+d} last hour)\n",
    "        - Usage Ratio: ≤{shared_diagnoses_per_covid_case:.2%}\n",
    "\n",
    "        Week:\n",
    "        - Shared Diagnoses: ≤{last_7_days_summary[\"shared_diagnoses\"]:.0f}\n",
    "        - Usage Ratio: ≤{last_7_days_summary[\"shared_diagnoses_per_covid_case\"]:.2%}\n",
    "\n",
    "        More Info: {github_project_base_url}#documentation\n",
    "        \"\"\")\n",
    "    status = status.encode(encoding=\"utf-8\")\n",
    "    api.update_status(status=status, media_ids=media_ids)"
   ]
  },
  {
   "cell_type": "code",
   "execution_count": null,
   "metadata": {
    "collapsed": false,
    "papermill": {
     "duration": 0.065995,
     "end_time": "2020-10-23T23:26:48.760334",
     "exception": false,
     "start_time": "2020-10-23T23:26:48.694339",
     "status": "completed"
    },
    "pycharm": {
     "name": "#%%\n"
    },
    "tags": []
   },
   "outputs": [],
   "source": []
  }
 ],
 "metadata": {
  "kernelspec": {
   "display_name": "Python 3",
   "language": "python",
   "name": "python3"
  },
  "language_info": {
   "codemirror_mode": {
    "name": "ipython",
    "version": 3
   },
   "file_extension": ".py",
   "mimetype": "text/x-python",
   "name": "python",
   "nbconvert_exporter": "python",
   "pygments_lexer": "ipython3",
   "version": "3.8.6"
  },
  "papermill": {
   "duration": 231.453023,
   "end_time": "2020-10-23T23:26:50.590684",
   "environment_variables": {},
   "exception": null,
   "input_path": "Notebooks/RadarCOVID-Report/Source/RadarCOVID-Report.ipynb",
   "output_path": "RadarCOVID-Report.ipynb",
   "parameters": {},
   "start_time": "2020-10-23T23:22:59.137661",
   "version": "2.1.3"
  }
 },
 "nbformat": 4,
 "nbformat_minor": 1
}