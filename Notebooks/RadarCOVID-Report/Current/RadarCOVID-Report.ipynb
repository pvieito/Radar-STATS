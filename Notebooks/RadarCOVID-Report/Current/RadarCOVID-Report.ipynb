{
 "cells": [
  {
   "cell_type": "markdown",
   "metadata": {
    "papermill": {
     "duration": 0.040602,
     "end_time": "2020-10-24T04:27:33.334112",
     "exception": false,
     "start_time": "2020-10-24T04:27:33.293510",
     "status": "completed"
    },
    "pycharm": {
     "name": "#%% md\n"
    },
    "tags": []
   },
   "source": [
    "# RadarCOVID-Report"
   ]
  },
  {
   "cell_type": "markdown",
   "metadata": {
    "collapsed": true,
    "papermill": {
     "duration": 0.036302,
     "end_time": "2020-10-24T04:27:33.412453",
     "exception": false,
     "start_time": "2020-10-24T04:27:33.376151",
     "status": "completed"
    },
    "pycharm": {
     "name": "#%% md\n"
    },
    "tags": []
   },
   "source": [
    "## Data Extraction"
   ]
  },
  {
   "cell_type": "code",
   "execution_count": 1,
   "metadata": {
    "execution": {
     "iopub.execute_input": "2020-10-24T04:27:33.492334Z",
     "iopub.status.busy": "2020-10-24T04:27:33.491749Z",
     "iopub.status.idle": "2020-10-24T04:27:36.431721Z",
     "shell.execute_reply": "2020-10-24T04:27:36.431135Z"
    },
    "papermill": {
     "duration": 2.982872,
     "end_time": "2020-10-24T04:27:36.431925",
     "exception": false,
     "start_time": "2020-10-24T04:27:33.449053",
     "status": "completed"
    },
    "pycharm": {
     "name": "#%%\n"
    },
    "tags": []
   },
   "outputs": [],
   "source": [
    "import datetime\n",
    "import json\n",
    "import logging\n",
    "import os\n",
    "import shutil\n",
    "import tempfile\n",
    "import textwrap\n",
    "import uuid\n",
    "\n",
    "import matplotlib.ticker\n",
    "import numpy as np\n",
    "import pandas as pd\n",
    "import seaborn as sns\n",
    "\n",
    "%matplotlib inline"
   ]
  },
  {
   "cell_type": "code",
   "execution_count": 2,
   "metadata": {
    "collapsed": false,
    "execution": {
     "iopub.execute_input": "2020-10-24T04:27:36.515743Z",
     "iopub.status.busy": "2020-10-24T04:27:36.515135Z",
     "iopub.status.idle": "2020-10-24T04:27:36.517276Z",
     "shell.execute_reply": "2020-10-24T04:27:36.517731Z"
    },
    "papermill": {
     "duration": 0.047947,
     "end_time": "2020-10-24T04:27:36.517893",
     "exception": false,
     "start_time": "2020-10-24T04:27:36.469946",
     "status": "completed"
    },
    "pycharm": {
     "name": "#%%\n"
    },
    "tags": []
   },
   "outputs": [],
   "source": [
    "current_working_directory = os.environ.get(\"PWD\")\n",
    "if current_working_directory:\n",
    "    os.chdir(current_working_directory)\n",
    "\n",
    "sns.set()\n",
    "matplotlib.rcParams[\"figure.figsize\"] = (15, 6)\n",
    "\n",
    "extraction_datetime = datetime.datetime.utcnow()\n",
    "extraction_date = extraction_datetime.strftime(\"%Y-%m-%d\")\n",
    "extraction_previous_datetime = extraction_datetime - datetime.timedelta(days=1)\n",
    "extraction_previous_date = extraction_previous_datetime.strftime(\"%Y-%m-%d\")\n",
    "extraction_date_with_hour = datetime.datetime.utcnow().strftime(\"%Y-%m-%d@%H\")"
   ]
  },
  {
   "cell_type": "markdown",
   "metadata": {
    "collapsed": false,
    "papermill": {
     "duration": 0.037094,
     "end_time": "2020-10-24T04:27:36.593184",
     "exception": false,
     "start_time": "2020-10-24T04:27:36.556090",
     "status": "completed"
    },
    "tags": []
   },
   "source": [
    "### Constants"
   ]
  },
  {
   "cell_type": "code",
   "execution_count": 3,
   "metadata": {
    "execution": {
     "iopub.execute_input": "2020-10-24T04:27:36.673392Z",
     "iopub.status.busy": "2020-10-24T04:27:36.672815Z",
     "iopub.status.idle": "2020-10-24T04:27:37.776389Z",
     "shell.execute_reply": "2020-10-24T04:27:37.777176Z"
    },
    "papermill": {
     "duration": 1.147301,
     "end_time": "2020-10-24T04:27:37.777345",
     "exception": false,
     "start_time": "2020-10-24T04:27:36.630044",
     "status": "completed"
    },
    "pycharm": {
     "name": "#%%\n"
    },
    "tags": []
   },
   "outputs": [],
   "source": [
    "from Modules.ExposureNotification import exposure_notification_io\n",
    "\n",
    "spain_region_country_code = \"ES\"\n",
    "germany_region_country_code = \"DE\"\n",
    "\n",
    "default_backend_identifier = spain_region_country_code\n",
    "\n",
    "efgs_supported_countries_backend_identifier = germany_region_country_code\n",
    "efgs_supported_countries_backend_client = \\\n",
    "    exposure_notification_io.get_backend_client_with_identifier(\n",
    "        backend_identifier=efgs_supported_countries_backend_identifier)\n",
    "efgs_source_regions = efgs_supported_countries_backend_client.get_supported_countries()\n",
    "if spain_region_country_code in efgs_source_regions:\n",
    "    default_source_regions = \",\".join(efgs_source_regions)\n",
    "else:\n",
    "    default_source_regions = spain_region_country_code\n",
    "\n",
    "backend_generation_days = 7 * 2\n",
    "daily_summary_days = 7 * 4 * 3\n",
    "daily_plot_days = 7 * 4\n",
    "tek_dumps_load_limit = daily_summary_days + 1"
   ]
  },
  {
   "cell_type": "markdown",
   "metadata": {
    "collapsed": false,
    "papermill": {
     "duration": 0.0368,
     "end_time": "2020-10-24T04:27:37.852395",
     "exception": false,
     "start_time": "2020-10-24T04:27:37.815595",
     "status": "completed"
    },
    "tags": []
   },
   "source": [
    "### Parameters"
   ]
  },
  {
   "cell_type": "code",
   "execution_count": 4,
   "metadata": {
    "collapsed": false,
    "execution": {
     "iopub.execute_input": "2020-10-24T04:27:37.940358Z",
     "iopub.status.busy": "2020-10-24T04:27:37.939806Z",
     "iopub.status.idle": "2020-10-24T04:27:37.942800Z",
     "shell.execute_reply": "2020-10-24T04:27:37.943234Z"
    },
    "papermill": {
     "duration": 0.051959,
     "end_time": "2020-10-24T04:27:37.943387",
     "exception": false,
     "start_time": "2020-10-24T04:27:37.891428",
     "status": "completed"
    },
    "pycharm": {
     "name": "#%%\n"
    },
    "tags": []
   },
   "outputs": [
    {
     "data": {
      "text/plain": [
       "{'report_backend_identifier': 'ES', 'report_source_regions': ['ES']}"
      ]
     },
     "execution_count": 4,
     "metadata": {},
     "output_type": "execute_result"
    }
   ],
   "source": [
    "environment_backend_identifier = os.environ.get(\"RADARCOVID_REPORT__BACKEND_IDENTIFIER\")\n",
    "if environment_backend_identifier:\n",
    "    report_backend_identifier = environment_backend_identifier\n",
    "else:\n",
    "    report_backend_identifier = default_backend_identifier\n",
    "\n",
    "environment_source_regions = os.environ.get(\"RADARCOVID_REPORT__SOURCE_REGIONS\")\n",
    "if environment_source_regions:\n",
    "    report_source_regions = environment_source_regions\n",
    "else:\n",
    "    report_source_regions = default_source_regions\n",
    "report_source_regions = report_source_regions.split(\",\")\n",
    "\n",
    "dict(\n",
    "    report_backend_identifier=report_backend_identifier,\n",
    "    report_source_regions=report_source_regions,\n",
    ")"
   ]
  },
  {
   "cell_type": "markdown",
   "metadata": {
    "collapsed": false,
    "papermill": {
     "duration": 0.045349,
     "end_time": "2020-10-24T04:27:38.030733",
     "exception": false,
     "start_time": "2020-10-24T04:27:37.985384",
     "status": "completed"
    },
    "pycharm": {
     "name": "#%% md\n"
    },
    "tags": []
   },
   "source": [
    "### COVID-19 Cases"
   ]
  },
  {
   "cell_type": "code",
   "execution_count": 5,
   "metadata": {
    "collapsed": false,
    "execution": {
     "iopub.execute_input": "2020-10-24T04:27:38.236895Z",
     "iopub.status.busy": "2020-10-24T04:27:38.235386Z",
     "iopub.status.idle": "2020-10-24T04:27:49.783310Z",
     "shell.execute_reply": "2020-10-24T04:27:49.782514Z"
    },
    "papermill": {
     "duration": 11.713686,
     "end_time": "2020-10-24T04:27:49.783459",
     "exception": false,
     "start_time": "2020-10-24T04:27:38.069773",
     "status": "completed"
    },
    "pycharm": {
     "name": "#%%\n"
    },
    "tags": []
   },
   "outputs": [
    {
     "data": {
      "text/html": [
       "<div>\n",
       "<style scoped>\n",
       "    .dataframe tbody tr th:only-of-type {\n",
       "        vertical-align: middle;\n",
       "    }\n",
       "\n",
       "    .dataframe tbody tr th {\n",
       "        vertical-align: top;\n",
       "    }\n",
       "\n",
       "    .dataframe thead th {\n",
       "        text-align: right;\n",
       "    }\n",
       "</style>\n",
       "<table border=\"1\" class=\"dataframe\">\n",
       "  <thead>\n",
       "    <tr style=\"text-align: right;\">\n",
       "      <th></th>\n",
       "      <th>dateRep</th>\n",
       "      <th>cases</th>\n",
       "    </tr>\n",
       "  </thead>\n",
       "  <tbody>\n",
       "    <tr>\n",
       "      <th>292</th>\n",
       "      <td>2020-10-18</td>\n",
       "      <td>0</td>\n",
       "    </tr>\n",
       "    <tr>\n",
       "      <th>293</th>\n",
       "      <td>2020-10-19</td>\n",
       "      <td>37889</td>\n",
       "    </tr>\n",
       "    <tr>\n",
       "      <th>294</th>\n",
       "      <td>2020-10-20</td>\n",
       "      <td>13873</td>\n",
       "    </tr>\n",
       "    <tr>\n",
       "      <th>295</th>\n",
       "      <td>2020-10-21</td>\n",
       "      <td>16973</td>\n",
       "    </tr>\n",
       "    <tr>\n",
       "      <th>296</th>\n",
       "      <td>2020-10-22</td>\n",
       "      <td>20986</td>\n",
       "    </tr>\n",
       "  </tbody>\n",
       "</table>\n",
       "</div>"
      ],
      "text/plain": [
       "        dateRep  cases\n",
       "292  2020-10-18      0\n",
       "293  2020-10-19  37889\n",
       "294  2020-10-20  13873\n",
       "295  2020-10-21  16973\n",
       "296  2020-10-22  20986"
      ]
     },
     "execution_count": 5,
     "metadata": {},
     "output_type": "execute_result"
    }
   ],
   "source": [
    "confirmed_df = pd.read_csv(\"https://opendata.ecdc.europa.eu/covid19/casedistribution/csv/data.csv\")\n",
    "\n",
    "radar_covid_countries = set(report_source_regions)\n",
    "\n",
    "confirmed_df = confirmed_df[[\"dateRep\", \"cases\", \"geoId\"]]\n",
    "confirmed_df[\"dateRep\"] = pd.to_datetime(confirmed_df.dateRep, dayfirst=True).dt.strftime(\"%Y-%m-%d\")\n",
    "confirmed_df = confirmed_df[confirmed_df.geoId.isin(radar_covid_countries)]\n",
    "confirmed_df = confirmed_df.groupby(\"dateRep\").cases.sum().reset_index()\n",
    "confirmed_df.sort_values(\"dateRep\", inplace=True)\n",
    "confirmed_df.tail()"
   ]
  },
  {
   "cell_type": "code",
   "execution_count": 6,
   "metadata": {
    "collapsed": false,
    "execution": {
     "iopub.execute_input": "2020-10-24T04:27:49.869894Z",
     "iopub.status.busy": "2020-10-24T04:27:49.869285Z",
     "iopub.status.idle": "2020-10-24T04:27:49.872330Z",
     "shell.execute_reply": "2020-10-24T04:27:49.871786Z"
    },
    "papermill": {
     "duration": 0.052894,
     "end_time": "2020-10-24T04:27:49.872758",
     "exception": false,
     "start_time": "2020-10-24T04:27:49.819864",
     "status": "completed"
    },
    "pycharm": {
     "name": "#%%\n"
    },
    "tags": []
   },
   "outputs": [
    {
     "data": {
      "text/html": [
       "<div>\n",
       "<style scoped>\n",
       "    .dataframe tbody tr th:only-of-type {\n",
       "        vertical-align: middle;\n",
       "    }\n",
       "\n",
       "    .dataframe tbody tr th {\n",
       "        vertical-align: top;\n",
       "    }\n",
       "\n",
       "    .dataframe thead th {\n",
       "        text-align: right;\n",
       "    }\n",
       "</style>\n",
       "<table border=\"1\" class=\"dataframe\">\n",
       "  <thead>\n",
       "    <tr style=\"text-align: right;\">\n",
       "      <th></th>\n",
       "      <th>sample_date_string</th>\n",
       "      <th>new_cases</th>\n",
       "      <th>covid_cases</th>\n",
       "    </tr>\n",
       "  </thead>\n",
       "  <tbody>\n",
       "    <tr>\n",
       "      <th>292</th>\n",
       "      <td>2020-10-18</td>\n",
       "      <td>0</td>\n",
       "      <td>10778.0</td>\n",
       "    </tr>\n",
       "    <tr>\n",
       "      <th>293</th>\n",
       "      <td>2020-10-19</td>\n",
       "      <td>37889</td>\n",
       "      <td>12212.0</td>\n",
       "    </tr>\n",
       "    <tr>\n",
       "      <th>294</th>\n",
       "      <td>2020-10-20</td>\n",
       "      <td>13873</td>\n",
       "      <td>13177.0</td>\n",
       "    </tr>\n",
       "    <tr>\n",
       "      <th>295</th>\n",
       "      <td>2020-10-21</td>\n",
       "      <td>16973</td>\n",
       "      <td>13891.0</td>\n",
       "    </tr>\n",
       "    <tr>\n",
       "      <th>296</th>\n",
       "      <td>2020-10-22</td>\n",
       "      <td>20986</td>\n",
       "      <td>14987.0</td>\n",
       "    </tr>\n",
       "  </tbody>\n",
       "</table>\n",
       "</div>"
      ],
      "text/plain": [
       "    sample_date_string  new_cases  covid_cases\n",
       "292         2020-10-18          0      10778.0\n",
       "293         2020-10-19      37889      12212.0\n",
       "294         2020-10-20      13873      13177.0\n",
       "295         2020-10-21      16973      13891.0\n",
       "296         2020-10-22      20986      14987.0"
      ]
     },
     "execution_count": 6,
     "metadata": {},
     "output_type": "execute_result"
    }
   ],
   "source": [
    "confirmed_df.columns = [\"sample_date_string\", \"new_cases\"]\n",
    "confirmed_df.sort_values(\"sample_date_string\", inplace=True)\n",
    "confirmed_df[\"covid_cases\"] = confirmed_df.new_cases.rolling(7).mean().round()\n",
    "confirmed_df.tail()"
   ]
  },
  {
   "cell_type": "code",
   "execution_count": 7,
   "metadata": {
    "execution": {
     "iopub.execute_input": "2020-10-24T04:27:49.971212Z",
     "iopub.status.busy": "2020-10-24T04:27:49.970636Z",
     "iopub.status.idle": "2020-10-24T04:27:49.973934Z",
     "shell.execute_reply": "2020-10-24T04:27:49.973428Z"
    },
    "papermill": {
     "duration": 0.060596,
     "end_time": "2020-10-24T04:27:49.974062",
     "exception": false,
     "start_time": "2020-10-24T04:27:49.913466",
     "status": "completed"
    },
    "pycharm": {
     "name": "#%%\n"
    },
    "tags": []
   },
   "outputs": [
    {
     "data": {
      "text/html": [
       "<div>\n",
       "<style scoped>\n",
       "    .dataframe tbody tr th:only-of-type {\n",
       "        vertical-align: middle;\n",
       "    }\n",
       "\n",
       "    .dataframe tbody tr th {\n",
       "        vertical-align: top;\n",
       "    }\n",
       "\n",
       "    .dataframe thead th {\n",
       "        text-align: right;\n",
       "    }\n",
       "</style>\n",
       "<table border=\"1\" class=\"dataframe\">\n",
       "  <thead>\n",
       "    <tr style=\"text-align: right;\">\n",
       "      <th></th>\n",
       "      <th>sample_date_string</th>\n",
       "      <th>new_cases</th>\n",
       "      <th>covid_cases</th>\n",
       "    </tr>\n",
       "  </thead>\n",
       "  <tbody>\n",
       "    <tr>\n",
       "      <th>292</th>\n",
       "      <td>2020-10-18</td>\n",
       "      <td>0</td>\n",
       "      <td>10778</td>\n",
       "    </tr>\n",
       "    <tr>\n",
       "      <th>293</th>\n",
       "      <td>2020-10-19</td>\n",
       "      <td>37889</td>\n",
       "      <td>12212</td>\n",
       "    </tr>\n",
       "    <tr>\n",
       "      <th>294</th>\n",
       "      <td>2020-10-20</td>\n",
       "      <td>13873</td>\n",
       "      <td>13177</td>\n",
       "    </tr>\n",
       "    <tr>\n",
       "      <th>295</th>\n",
       "      <td>2020-10-21</td>\n",
       "      <td>16973</td>\n",
       "      <td>13891</td>\n",
       "    </tr>\n",
       "    <tr>\n",
       "      <th>296</th>\n",
       "      <td>2020-10-22</td>\n",
       "      <td>20986</td>\n",
       "      <td>14987</td>\n",
       "    </tr>\n",
       "  </tbody>\n",
       "</table>\n",
       "</div>"
      ],
      "text/plain": [
       "    sample_date_string  new_cases  covid_cases\n",
       "292         2020-10-18          0        10778\n",
       "293         2020-10-19      37889        12212\n",
       "294         2020-10-20      13873        13177\n",
       "295         2020-10-21      16973        13891\n",
       "296         2020-10-22      20986        14987"
      ]
     },
     "execution_count": 7,
     "metadata": {},
     "output_type": "execute_result"
    }
   ],
   "source": [
    "extraction_date_confirmed_df = \\\n",
    "    confirmed_df[confirmed_df.sample_date_string == extraction_date]\n",
    "extraction_previous_date_confirmed_df = \\\n",
    "    confirmed_df[confirmed_df.sample_date_string == extraction_previous_date].copy()\n",
    "\n",
    "if extraction_date_confirmed_df.empty and \\\n",
    "    not extraction_previous_date_confirmed_df.empty:\n",
    "        extraction_previous_date_confirmed_df[\"sample_date_string\"] = extraction_date\n",
    "        extraction_previous_date_confirmed_df[\"new_cases\"] = \\\n",
    "            extraction_previous_date_confirmed_df.covid_cases\n",
    "        confirmed_df = confirmed_df.append(extraction_previous_date_confirmed_df)\n",
    "\n",
    "confirmed_df[\"covid_cases\"] = confirmed_df.covid_cases.fillna(0).astype(int)\n",
    "confirmed_df.tail()"
   ]
  },
  {
   "cell_type": "code",
   "execution_count": 8,
   "metadata": {
    "execution": {
     "iopub.execute_input": "2020-10-24T04:27:50.063431Z",
     "iopub.status.busy": "2020-10-24T04:27:50.062882Z",
     "iopub.status.idle": "2020-10-24T04:27:50.261411Z",
     "shell.execute_reply": "2020-10-24T04:27:50.262179Z"
    },
    "papermill": {
     "duration": 0.249614,
     "end_time": "2020-10-24T04:27:50.262333",
     "exception": false,
     "start_time": "2020-10-24T04:27:50.012719",
     "status": "completed"
    },
    "pycharm": {
     "name": "#%%\n"
    },
    "tags": []
   },
   "outputs": [
    {
     "data": {
      "text/plain": [
       "<matplotlib.axes._subplots.AxesSubplot at 0x7f374ecc5ca0>"
      ]
     },
     "execution_count": 8,
     "metadata": {},
     "output_type": "execute_result"
    },
    {
     "data": {
      "image/png": "[encoded data removed]",
      "text/plain": [
       "<Figure size 1080x432 with 1 Axes>"
      ]
     },
     "metadata": {},
     "output_type": "display_data"
    }
   ],
   "source": [
    "confirmed_df[[\"new_cases\", \"covid_cases\"]].plot()"
   ]
  },
  {
   "cell_type": "markdown",
   "metadata": {
    "execution": {
     "iopub.execute_input": "2020-08-30T22:30:16.351238Z",
     "iopub.status.busy": "2020-08-30T22:30:16.344579Z",
     "iopub.status.idle": "2020-08-30T22:30:16.354285Z",
     "shell.execute_reply": "2020-08-30T22:30:16.353641Z"
    },
    "papermill": {
     "duration": 0.04071,
     "end_time": "2020-10-24T04:27:50.343868",
     "exception": false,
     "start_time": "2020-10-24T04:27:50.303158",
     "status": "completed"
    },
    "pycharm": {
     "name": "#%% md\n"
    },
    "tags": []
   },
   "source": [
    "### Extract API TEKs"
   ]
  },
  {
   "cell_type": "code",
   "execution_count": 9,
   "metadata": {
    "execution": {
     "iopub.execute_input": "2020-10-24T04:27:50.432109Z",
     "iopub.status.busy": "2020-10-24T04:27:50.431329Z",
     "iopub.status.idle": "2020-10-24T04:30:42.710664Z",
     "shell.execute_reply": "2020-10-24T04:30:42.710225Z"
    },
    "papermill": {
     "duration": 172.326946,
     "end_time": "2020-10-24T04:30:42.710791",
     "exception": false,
     "start_time": "2020-10-24T04:27:50.383845",
     "status": "completed"
    },
    "pycharm": {
     "name": "#%%\n"
    },
    "tags": []
   },
   "outputs": [
    {
     "name": "stderr",
     "output_type": "stream",
     "text": [
      "WARNING:root:NoKeysFoundException(\"No exposure keys found on endpoint 'https://radarcovidpre.covid19.gob.es/dp3t/v1/gaen/exposed/1603497600000' (parameters: {'generation_date': '2020-10-24', 'endpoint_identifier_components': ['2020-10-24'], 'backend_identifier': 'ES@PRE', 'server_endpoint_url': 'https://radarcovidpre.covid19.gob.es/dp3t'}).\")\n"
     ]
    },
    {
     "name": "stderr",
     "output_type": "stream",
     "text": [
      "WARNING:root:NoKeysFoundException(\"No exposure keys found on endpoint 'https://www.pt.bfs.admin.ch/v1/gaen/exposed/1603497600000' (parameters: {'generation_date': '2020-10-24', 'endpoint_identifier_components': ['2020-10-24'], 'backend_identifier': 'CH', 'server_endpoint_url': 'https://www.pt.bfs.admin.ch'}).\")\n"
     ]
    },
    {
     "name": "stderr",
     "output_type": "stream",
     "text": [
      "WARNING:root:NoKeysFoundException(\"No exposure keys found on endpoint 'https://stayaway.incm.pt/v1/gaen/exposed/1603497600000' (parameters: {'generation_date': '2020-10-24', 'endpoint_identifier_components': ['2020-10-24'], 'backend_identifier': 'PT', 'server_endpoint_url': 'https://stayaway.incm.pt'}).\")\n"
     ]
    },
    {
     "name": "stderr",
     "output_type": "stream",
     "text": [
      "WARNING:root:NoKeysFoundException(\"No exposure keys found on endpoint 'https://enapi.sm.ee/authorization/v1/gaen/exposed/1603497600000' (parameters: {'generation_date': '2020-10-24', 'endpoint_identifier_components': ['2020-10-24'], 'backend_identifier': 'EE', 'server_endpoint_url': 'https://enapi.sm.ee/authorization'}).\")\n"
     ]
    },
    {
     "name": "stderr",
     "output_type": "stream",
     "text": [
      "WARNING:root:NoKeysFoundException(\"No exposure keys found on endpoint 'https://enapi.sm.ee/authorization/v1/gaen/exposed/1603411200000' (parameters: {'generation_date': '2020-10-23', 'endpoint_identifier_components': ['2020-10-23'], 'backend_identifier': 'EE', 'server_endpoint_url': 'https://enapi.sm.ee/authorization'}).\")\n"
     ]
    },
    {
     "name": "stderr",
     "output_type": "stream",
     "text": [
      "WARNING:root:NoKeysFoundException(\"No exposure keys found on endpoint 'https://mt-dpppt-ws.azurewebsites.net/v1/gaen/exposed/1603497600000' (parameters: {'generation_date': '2020-10-24', 'endpoint_identifier_components': ['2020-10-24'], 'backend_identifier': 'MT', 'server_endpoint_url': 'https://mt-dpppt-ws.azurewebsites.net'}).\")\n"
     ]
    },
    {
     "name": "stderr",
     "output_type": "stream",
     "text": [
      "WARNING:root:Error downloading exposure keys from backend 'DE-ES': HTTPError('404 Client Error: Not Found for url: https://svc90.main.px.t-online.de/version/v1/diagnosis-keys/country/ES/date')\n",
      "Traceback (most recent call last):\n",
      "  File \"/home/runner/work/Radar-STATS/Radar-STATS/Modules/ExposureNotification/exposure_notification_io.py\", line 97, in download_exposure_keys_from_backends\n",
      "    backend_exposure_keys_df = backend_client.download_exposure_keys_with_parameters(**kwargs)\n",
      "  File \"/home/runner/work/Radar-STATS/Radar-STATS/Modules/ExposureNotification/Backends/base.py\", line 40, in download_exposure_keys_with_parameters\n",
      "    self.generate_exposure_keys_export_endpoints_with_parameters(**kwargs)\n",
      "  File \"/home/runner/work/Radar-STATS/Radar-STATS/Modules/ExposureNotification/Backends/corona_warn_app.py\", line 25, in generate_exposure_keys_export_endpoints_with_parameters\n",
      "    response.raise_for_status()\n",
      "  File \"/opt/hostedtoolcache/Python/3.8.6/x64/lib/python3.8/site-packages/requests/models.py\", line 941, in raise_for_status\n",
      "    raise HTTPError(http_error_msg, response=self)\n",
      "requests.exceptions.HTTPError: 404 Client Error: Not Found for url: https://svc90.main.px.t-online.de/version/v1/diagnosis-keys/country/ES/date\n"
     ]
    },
    {
     "name": "stderr",
     "output_type": "stream",
     "text": [
      "WARNING:root:Error downloading exposure keys from backend 'DE-IE': HTTPError('404 Client Error: Not Found for url: https://svc90.main.px.t-online.de/version/v1/diagnosis-keys/country/IE/date')\n",
      "Traceback (most recent call last):\n",
      "  File \"/home/runner/work/Radar-STATS/Radar-STATS/Modules/ExposureNotification/exposure_notification_io.py\", line 97, in download_exposure_keys_from_backends\n",
      "    backend_exposure_keys_df = backend_client.download_exposure_keys_with_parameters(**kwargs)\n",
      "  File \"/home/runner/work/Radar-STATS/Radar-STATS/Modules/ExposureNotification/Backends/base.py\", line 40, in download_exposure_keys_with_parameters\n",
      "    self.generate_exposure_keys_export_endpoints_with_parameters(**kwargs)\n",
      "  File \"/home/runner/work/Radar-STATS/Radar-STATS/Modules/ExposureNotification/Backends/corona_warn_app.py\", line 25, in generate_exposure_keys_export_endpoints_with_parameters\n",
      "    response.raise_for_status()\n",
      "  File \"/opt/hostedtoolcache/Python/3.8.6/x64/lib/python3.8/site-packages/requests/models.py\", line 941, in raise_for_status\n",
      "    raise HTTPError(http_error_msg, response=self)\n",
      "requests.exceptions.HTTPError: 404 Client Error: Not Found for url: https://svc90.main.px.t-online.de/version/v1/diagnosis-keys/country/IE/date\n"
     ]
    },
    {
     "name": "stderr",
     "output_type": "stream",
     "text": [
      "WARNING:root:Error downloading exposure keys from backend 'DE-IT': HTTPError('404 Client Error: Not Found for url: https://svc90.main.px.t-online.de/version/v1/diagnosis-keys/country/IT/date')\n",
      "Traceback (most recent call last):\n",
      "  File \"/home/runner/work/Radar-STATS/Radar-STATS/Modules/ExposureNotification/exposure_notification_io.py\", line 97, in download_exposure_keys_from_backends\n",
      "    backend_exposure_keys_df = backend_client.download_exposure_keys_with_parameters(**kwargs)\n",
      "  File \"/home/runner/work/Radar-STATS/Radar-STATS/Modules/ExposureNotification/Backends/base.py\", line 40, in download_exposure_keys_with_parameters\n",
      "    self.generate_exposure_keys_export_endpoints_with_parameters(**kwargs)\n",
      "  File \"/home/runner/work/Radar-STATS/Radar-STATS/Modules/ExposureNotification/Backends/corona_warn_app.py\", line 25, in generate_exposure_keys_export_endpoints_with_parameters\n",
      "    response.raise_for_status()\n",
      "  File \"/opt/hostedtoolcache/Python/3.8.6/x64/lib/python3.8/site-packages/requests/models.py\", line 941, in raise_for_status\n",
      "    raise HTTPError(http_error_msg, response=self)\n",
      "requests.exceptions.HTTPError: 404 Client Error: Not Found for url: https://svc90.main.px.t-online.de/version/v1/diagnosis-keys/country/IT/date\n"
     ]
    },
    {
     "name": "stderr",
     "output_type": "stream",
     "text": [
      "WARNING:root:Error downloading exposure keys from backend 'IT-ES': HTTPError('404 Client Error: Not Found for url: https://get.immuni.gov.it/v1/keys/eu/ES/index')\n",
      "Traceback (most recent call last):\n",
      "  File \"/home/runner/work/Radar-STATS/Radar-STATS/Modules/ExposureNotification/exposure_notification_io.py\", line 97, in download_exposure_keys_from_backends\n",
      "    backend_exposure_keys_df = backend_client.download_exposure_keys_with_parameters(**kwargs)\n",
      "  File \"/home/runner/work/Radar-STATS/Radar-STATS/Modules/ExposureNotification/Backends/base.py\", line 40, in download_exposure_keys_with_parameters\n",
      "    self.generate_exposure_keys_export_endpoints_with_parameters(**kwargs)\n",
      "  File \"/home/runner/work/Radar-STATS/Radar-STATS/Modules/ExposureNotification/Backends/immuni.py\", line 27, in generate_exposure_keys_export_endpoints_with_parameters\n",
      "    response.raise_for_status()\n",
      "  File \"/opt/hostedtoolcache/Python/3.8.6/x64/lib/python3.8/site-packages/requests/models.py\", line 941, in raise_for_status\n",
      "    raise HTTPError(http_error_msg, response=self)\n",
      "requests.exceptions.HTTPError: 404 Client Error: Not Found for url: https://get.immuni.gov.it/v1/keys/eu/ES/index\n"
     ]
    },
    {
     "name": "stderr",
     "output_type": "stream",
     "text": [
      "WARNING:root:Error downloading exposure keys from backend 'IT-IE': HTTPError('404 Client Error: Not Found for url: https://get.immuni.gov.it/v1/keys/eu/IE/index')\n",
      "Traceback (most recent call last):\n",
      "  File \"/home/runner/work/Radar-STATS/Radar-STATS/Modules/ExposureNotification/exposure_notification_io.py\", line 97, in download_exposure_keys_from_backends\n",
      "    backend_exposure_keys_df = backend_client.download_exposure_keys_with_parameters(**kwargs)\n",
      "  File \"/home/runner/work/Radar-STATS/Radar-STATS/Modules/ExposureNotification/Backends/base.py\", line 40, in download_exposure_keys_with_parameters\n",
      "    self.generate_exposure_keys_export_endpoints_with_parameters(**kwargs)\n",
      "  File \"/home/runner/work/Radar-STATS/Radar-STATS/Modules/ExposureNotification/Backends/immuni.py\", line 27, in generate_exposure_keys_export_endpoints_with_parameters\n",
      "    response.raise_for_status()\n",
      "  File \"/opt/hostedtoolcache/Python/3.8.6/x64/lib/python3.8/site-packages/requests/models.py\", line 941, in raise_for_status\n",
      "    raise HTTPError(http_error_msg, response=self)\n",
      "requests.exceptions.HTTPError: 404 Client Error: Not Found for url: https://get.immuni.gov.it/v1/keys/eu/IE/index\n"
     ]
    },
    {
     "name": "stderr",
     "output_type": "stream",
     "text": [
      "WARNING:root:Error downloading exposure keys from backend 'IT-DE': HTTPError('404 Client Error: Not Found for url: https://get.immuni.gov.it/v1/keys/eu/DE/index')\n",
      "Traceback (most recent call last):\n",
      "  File \"/home/runner/work/Radar-STATS/Radar-STATS/Modules/ExposureNotification/exposure_notification_io.py\", line 97, in download_exposure_keys_from_backends\n",
      "    backend_exposure_keys_df = backend_client.download_exposure_keys_with_parameters(**kwargs)\n",
      "  File \"/home/runner/work/Radar-STATS/Radar-STATS/Modules/ExposureNotification/Backends/base.py\", line 40, in download_exposure_keys_with_parameters\n",
      "    self.generate_exposure_keys_export_endpoints_with_parameters(**kwargs)\n",
      "  File \"/home/runner/work/Radar-STATS/Radar-STATS/Modules/ExposureNotification/Backends/immuni.py\", line 27, in generate_exposure_keys_export_endpoints_with_parameters\n",
      "    response.raise_for_status()\n",
      "  File \"/opt/hostedtoolcache/Python/3.8.6/x64/lib/python3.8/site-packages/requests/models.py\", line 941, in raise_for_status\n",
      "    raise HTTPError(http_error_msg, response=self)\n",
      "requests.exceptions.HTTPError: 404 Client Error: Not Found for url: https://get.immuni.gov.it/v1/keys/eu/DE/index\n"
     ]
    },
    {
     "data": {
      "text/html": [
       "<div>\n",
       "<style scoped>\n",
       "    .dataframe tbody tr th:only-of-type {\n",
       "        vertical-align: middle;\n",
       "    }\n",
       "\n",
       "    .dataframe tbody tr th {\n",
       "        vertical-align: top;\n",
       "    }\n",
       "\n",
       "    .dataframe thead th {\n",
       "        text-align: right;\n",
       "    }\n",
       "</style>\n",
       "<table border=\"1\" class=\"dataframe\">\n",
       "  <thead>\n",
       "    <tr style=\"text-align: right;\">\n",
       "      <th></th>\n",
       "      <th>sample_datetime</th>\n",
       "      <th>sample_date_string</th>\n",
       "      <th>region</th>\n",
       "      <th>verification_key_version</th>\n",
       "      <th>verification_key_id</th>\n",
       "      <th>signature_algorithm</th>\n",
       "      <th>key_data</th>\n",
       "      <th>rolling_start_interval_number</th>\n",
       "      <th>rolling_period</th>\n",
       "      <th>transmission_risk_level</th>\n",
       "      <th>backend_identifier</th>\n",
       "    </tr>\n",
       "  </thead>\n",
       "  <tbody>\n",
       "    <tr>\n",
       "      <th>0</th>\n",
       "      <td>2020-10-24</td>\n",
       "      <td>2020-10-24</td>\n",
       "      <td>ES</td>\n",
       "      <td>V1</td>\n",
       "      <td>214</td>\n",
       "      <td>1.2.840.10045.4.3.2</td>\n",
       "      <td>9573d3cb-45c2-bb1f-994b-d8119e480755</td>\n",
       "      <td>2672496</td>\n",
       "      <td>22</td>\n",
       "      <td>0</td>\n",
       "      <td>ES</td>\n",
       "    </tr>\n",
       "    <tr>\n",
       "      <th>1</th>\n",
       "      <td>2020-10-24</td>\n",
       "      <td>2020-10-24</td>\n",
       "      <td>ES</td>\n",
       "      <td>V1</td>\n",
       "      <td>214</td>\n",
       "      <td>1.2.840.10045.4.3.2</td>\n",
       "      <td>fbac1f0a-c690-1e8c-e00a-f9ee5979978c</td>\n",
       "      <td>2672496</td>\n",
       "      <td>10</td>\n",
       "      <td>0</td>\n",
       "      <td>ES</td>\n",
       "    </tr>\n",
       "    <tr>\n",
       "      <th>2</th>\n",
       "      <td>2020-10-24</td>\n",
       "      <td>2020-10-24</td>\n",
       "      <td>ES</td>\n",
       "      <td>V1</td>\n",
       "      <td>214</td>\n",
       "      <td>1.2.840.10045.4.3.2</td>\n",
       "      <td>6fd867ad-9f79-e6fc-6230-58ca79877a71</td>\n",
       "      <td>2672496</td>\n",
       "      <td>5</td>\n",
       "      <td>0</td>\n",
       "      <td>ES</td>\n",
       "    </tr>\n",
       "    <tr>\n",
       "      <th>0</th>\n",
       "      <td>2020-10-23</td>\n",
       "      <td>2020-10-23</td>\n",
       "      <td>ES</td>\n",
       "      <td>V1</td>\n",
       "      <td>214</td>\n",
       "      <td>1.2.840.10045.4.3.2</td>\n",
       "      <td>0c3ac77d-a44c-f133-b810-9b6af4d89ac3</td>\n",
       "      <td>2672352</td>\n",
       "      <td>144</td>\n",
       "      <td>0</td>\n",
       "      <td>ES</td>\n",
       "    </tr>\n",
       "    <tr>\n",
       "      <th>1</th>\n",
       "      <td>2020-10-23</td>\n",
       "      <td>2020-10-23</td>\n",
       "      <td>ES</td>\n",
       "      <td>V1</td>\n",
       "      <td>214</td>\n",
       "      <td>1.2.840.10045.4.3.2</td>\n",
       "      <td>30fa9e70-0c93-a96d-d033-4f142627f382</td>\n",
       "      <td>2672352</td>\n",
       "      <td>144</td>\n",
       "      <td>0</td>\n",
       "      <td>ES</td>\n",
       "    </tr>\n",
       "  </tbody>\n",
       "</table>\n",
       "</div>"
      ],
      "text/plain": [
       "  sample_datetime sample_date_string region verification_key_version  \\\n",
       "0      2020-10-24         2020-10-24     ES                       V1   \n",
       "1      2020-10-24         2020-10-24     ES                       V1   \n",
       "2      2020-10-24         2020-10-24     ES                       V1   \n",
       "0      2020-10-23         2020-10-23     ES                       V1   \n",
       "1      2020-10-23         2020-10-23     ES                       V1   \n",
       "\n",
       "  verification_key_id  signature_algorithm  \\\n",
       "0                 214  1.2.840.10045.4.3.2   \n",
       "1                 214  1.2.840.10045.4.3.2   \n",
       "2                 214  1.2.840.10045.4.3.2   \n",
       "0                 214  1.2.840.10045.4.3.2   \n",
       "1                 214  1.2.840.10045.4.3.2   \n",
       "\n",
       "                               key_data  rolling_start_interval_number  \\\n",
       "0  9573d3cb-45c2-bb1f-994b-d8119e480755                        2672496   \n",
       "1  fbac1f0a-c690-1e8c-e00a-f9ee5979978c                        2672496   \n",
       "2  6fd867ad-9f79-e6fc-6230-58ca79877a71                        2672496   \n",
       "0  0c3ac77d-a44c-f133-b810-9b6af4d89ac3                        2672352   \n",
       "1  30fa9e70-0c93-a96d-d033-4f142627f382                        2672352   \n",
       "\n",
       "   rolling_period  transmission_risk_level backend_identifier  \n",
       "0              22                        0                 ES  \n",
       "1              10                        0                 ES  \n",
       "2               5                        0                 ES  \n",
       "0             144                        0                 ES  \n",
       "1             144                        0                 ES  "
      ]
     },
     "execution_count": 9,
     "metadata": {},
     "output_type": "execute_result"
    }
   ],
   "source": [
    "raw_zip_path_prefix = \"Data/TEKs/Raw/\"\n",
    "fail_on_error_backend_identifiers = [report_backend_identifier]\n",
    "multi_backend_exposure_keys_df = \\\n",
    "    exposure_notification_io.download_exposure_keys_from_backends(\n",
    "        generation_days=backend_generation_days,\n",
    "        fail_on_error_backend_identifiers=fail_on_error_backend_identifiers,\n",
    "        save_raw_zip_path_prefix=raw_zip_path_prefix)\n",
    "multi_backend_exposure_keys_df[\"region\"] = multi_backend_exposure_keys_df[\"backend_identifier\"]\n",
    "multi_backend_exposure_keys_df.rename(\n",
    "    columns={\n",
    "        \"generation_datetime\": \"sample_datetime\",\n",
    "        \"generation_date_string\": \"sample_date_string\",\n",
    "    },\n",
    "    inplace=True)\n",
    "multi_backend_exposure_keys_df.head()"
   ]
  },
  {
   "cell_type": "code",
   "execution_count": 10,
   "metadata": {
    "collapsed": false,
    "execution": {
     "iopub.execute_input": "2020-10-24T04:30:42.815073Z",
     "iopub.status.busy": "2020-10-24T04:30:42.814232Z",
     "iopub.status.idle": "2020-10-24T04:30:43.175837Z",
     "shell.execute_reply": "2020-10-24T04:30:43.176575Z"
    },
    "papermill": {
     "duration": 0.413367,
     "end_time": "2020-10-24T04:30:43.176741",
     "exception": false,
     "start_time": "2020-10-24T04:30:42.763374",
     "status": "completed"
    },
    "pycharm": {
     "name": "#%%\n"
    },
    "tags": []
   },
   "outputs": [
    {
     "data": {
      "text/plain": [
       "<matplotlib.axes._subplots.AxesSubplot at 0x7f37474f3f70>"
      ]
     },
     "execution_count": 10,
     "metadata": {},
     "output_type": "execute_result"
    },
    {
     "data": {
      "image/png": "[encoded data removed]",
      "text/plain": [
       "<Figure size 1080x432 with 1 Axes>"
      ]
     },
     "metadata": {},
     "output_type": "display_data"
    }
   ],
   "source": [
    "early_teks_df = multi_backend_exposure_keys_df[\n",
    "    multi_backend_exposure_keys_df.rolling_period < 144].copy()\n",
    "early_teks_df[\"rolling_period_in_hours\"] = early_teks_df.rolling_period / 6\n",
    "early_teks_df[early_teks_df.sample_date_string != extraction_date] \\\n",
    "    .rolling_period_in_hours.hist(bins=list(range(24)))"
   ]
  },
  {
   "cell_type": "code",
   "execution_count": 11,
   "metadata": {
    "collapsed": false,
    "execution": {
     "iopub.execute_input": "2020-10-24T04:30:43.294828Z",
     "iopub.status.busy": "2020-10-24T04:30:43.294236Z",
     "iopub.status.idle": "2020-10-24T04:30:43.474159Z",
     "shell.execute_reply": "2020-10-24T04:30:43.474852Z"
    },
    "papermill": {
     "duration": 0.252351,
     "end_time": "2020-10-24T04:30:43.475018",
     "exception": false,
     "start_time": "2020-10-24T04:30:43.222667",
     "status": "completed"
    },
    "pycharm": {
     "name": "#%%\n"
    },
    "tags": []
   },
   "outputs": [
    {
     "data": {
      "text/plain": [
       "<matplotlib.axes._subplots.AxesSubplot at 0x7f37462a2e80>"
      ]
     },
     "execution_count": 11,
     "metadata": {},
     "output_type": "execute_result"
    },
    {
     "data": {
      "image/png": "[encoded data removed]",
      "text/plain": [
       "<Figure size 1080x432 with 1 Axes>"
      ]
     },
     "metadata": {},
     "output_type": "display_data"
    }
   ],
   "source": [
    "early_teks_df[early_teks_df.sample_date_string == extraction_date] \\\n",
    "    .rolling_period_in_hours.hist(bins=list(range(24)))"
   ]
  },
  {
   "cell_type": "code",
   "execution_count": 12,
   "metadata": {
    "collapsed": false,
    "execution": {
     "iopub.execute_input": "2020-10-24T04:30:43.576819Z",
     "iopub.status.busy": "2020-10-24T04:30:43.576269Z",
     "iopub.status.idle": "2020-10-24T04:30:43.594980Z",
     "shell.execute_reply": "2020-10-24T04:30:43.595419Z"
    },
    "papermill": {
     "duration": 0.070146,
     "end_time": "2020-10-24T04:30:43.595571",
     "exception": false,
     "start_time": "2020-10-24T04:30:43.525425",
     "status": "completed"
    },
    "pycharm": {
     "name": "#%%\n"
    },
    "tags": []
   },
   "outputs": [
    {
     "data": {
      "text/html": [
       "<div>\n",
       "<style scoped>\n",
       "    .dataframe tbody tr th:only-of-type {\n",
       "        vertical-align: middle;\n",
       "    }\n",
       "\n",
       "    .dataframe tbody tr th {\n",
       "        vertical-align: top;\n",
       "    }\n",
       "\n",
       "    .dataframe thead th {\n",
       "        text-align: right;\n",
       "    }\n",
       "</style>\n",
       "<table border=\"1\" class=\"dataframe\">\n",
       "  <thead>\n",
       "    <tr style=\"text-align: right;\">\n",
       "      <th></th>\n",
       "      <th>sample_date_string</th>\n",
       "      <th>region</th>\n",
       "      <th>key_data</th>\n",
       "    </tr>\n",
       "  </thead>\n",
       "  <tbody>\n",
       "    <tr>\n",
       "      <th>0</th>\n",
       "      <td>2020-10-24</td>\n",
       "      <td>ES</td>\n",
       "      <td>9573d3cb-45c2-bb1f-994b-d8119e480755</td>\n",
       "    </tr>\n",
       "    <tr>\n",
       "      <th>1</th>\n",
       "      <td>2020-10-24</td>\n",
       "      <td>ES</td>\n",
       "      <td>fbac1f0a-c690-1e8c-e00a-f9ee5979978c</td>\n",
       "    </tr>\n",
       "    <tr>\n",
       "      <th>2</th>\n",
       "      <td>2020-10-24</td>\n",
       "      <td>ES</td>\n",
       "      <td>6fd867ad-9f79-e6fc-6230-58ca79877a71</td>\n",
       "    </tr>\n",
       "    <tr>\n",
       "      <th>0</th>\n",
       "      <td>2020-10-23</td>\n",
       "      <td>ES</td>\n",
       "      <td>0c3ac77d-a44c-f133-b810-9b6af4d89ac3</td>\n",
       "    </tr>\n",
       "    <tr>\n",
       "      <th>1</th>\n",
       "      <td>2020-10-23</td>\n",
       "      <td>ES</td>\n",
       "      <td>30fa9e70-0c93-a96d-d033-4f142627f382</td>\n",
       "    </tr>\n",
       "  </tbody>\n",
       "</table>\n",
       "</div>"
      ],
      "text/plain": [
       "  sample_date_string region                              key_data\n",
       "0         2020-10-24     ES  9573d3cb-45c2-bb1f-994b-d8119e480755\n",
       "1         2020-10-24     ES  fbac1f0a-c690-1e8c-e00a-f9ee5979978c\n",
       "2         2020-10-24     ES  6fd867ad-9f79-e6fc-6230-58ca79877a71\n",
       "0         2020-10-23     ES  0c3ac77d-a44c-f133-b810-9b6af4d89ac3\n",
       "1         2020-10-23     ES  30fa9e70-0c93-a96d-d033-4f142627f382"
      ]
     },
     "execution_count": 12,
     "metadata": {},
     "output_type": "execute_result"
    }
   ],
   "source": [
    "multi_backend_exposure_keys_df = multi_backend_exposure_keys_df[[\n",
    "    \"sample_date_string\", \"region\", \"key_data\"]]\n",
    "multi_backend_exposure_keys_df.head()"
   ]
  },
  {
   "cell_type": "code",
   "execution_count": 13,
   "metadata": {
    "collapsed": false,
    "execution": {
     "iopub.execute_input": "2020-10-24T04:30:43.701994Z",
     "iopub.status.busy": "2020-10-24T04:30:43.701404Z",
     "iopub.status.idle": "2020-10-24T04:30:44.624682Z",
     "shell.execute_reply": "2020-10-24T04:30:44.623775Z"
    },
    "papermill": {
     "duration": 0.980273,
     "end_time": "2020-10-24T04:30:44.624823",
     "exception": false,
     "start_time": "2020-10-24T04:30:43.644550",
     "status": "completed"
    },
    "pycharm": {
     "name": "#%%\n"
    },
    "tags": []
   },
   "outputs": [
    {
     "data": {
      "text/plain": [
       "['EE', 'BE@TST', 'MT', 'PT', 'ES@PRE', 'ES', 'BE', 'CH', 'IT', 'DE']"
      ]
     },
     "execution_count": 13,
     "metadata": {},
     "output_type": "execute_result"
    }
   ],
   "source": [
    "active_regions = \\\n",
    "    multi_backend_exposure_keys_df.groupby(\"region\").key_data.nunique().sort_values().index.unique().tolist()\n",
    "active_regions"
   ]
  },
  {
   "cell_type": "code",
   "execution_count": 14,
   "metadata": {
    "collapsed": false,
    "execution": {
     "iopub.execute_input": "2020-10-24T04:30:44.733936Z",
     "iopub.status.busy": "2020-10-24T04:30:44.733281Z",
     "iopub.status.idle": "2020-10-24T04:30:45.702958Z",
     "shell.execute_reply": "2020-10-24T04:30:45.703756Z"
    },
    "papermill": {
     "duration": 1.033822,
     "end_time": "2020-10-24T04:30:45.703923",
     "exception": false,
     "start_time": "2020-10-24T04:30:44.670101",
     "status": "completed"
    },
    "pycharm": {
     "name": "#%%\n"
    },
    "tags": []
   },
   "outputs": [
    {
     "data": {
      "text/html": [
       "<div>\n",
       "<style scoped>\n",
       "    .dataframe tbody tr th:only-of-type {\n",
       "        vertical-align: middle;\n",
       "    }\n",
       "\n",
       "    .dataframe tbody tr th {\n",
       "        vertical-align: top;\n",
       "    }\n",
       "\n",
       "    .dataframe thead tr th {\n",
       "        text-align: left;\n",
       "    }\n",
       "\n",
       "    .dataframe thead tr:last-of-type th {\n",
       "        text-align: right;\n",
       "    }\n",
       "</style>\n",
       "<table border=\"1\" class=\"dataframe\">\n",
       "  <thead>\n",
       "    <tr>\n",
       "      <th></th>\n",
       "      <th colspan=\"10\" halign=\"left\">shared_teks_by_generation_date</th>\n",
       "    </tr>\n",
       "    <tr>\n",
       "      <th>region</th>\n",
       "      <th>BE</th>\n",
       "      <th>BE@TST</th>\n",
       "      <th>CH</th>\n",
       "      <th>DE</th>\n",
       "      <th>EE</th>\n",
       "      <th>ES</th>\n",
       "      <th>ES@PRE</th>\n",
       "      <th>IT</th>\n",
       "      <th>MT</th>\n",
       "      <th>PT</th>\n",
       "    </tr>\n",
       "    <tr>\n",
       "      <th>sample_date</th>\n",
       "      <th></th>\n",
       "      <th></th>\n",
       "      <th></th>\n",
       "      <th></th>\n",
       "      <th></th>\n",
       "      <th></th>\n",
       "      <th></th>\n",
       "      <th></th>\n",
       "      <th></th>\n",
       "      <th></th>\n",
       "    </tr>\n",
       "  </thead>\n",
       "  <tbody>\n",
       "    <tr>\n",
       "      <th>2020-10-24</th>\n",
       "      <td>0</td>\n",
       "      <td>0</td>\n",
       "      <td>0</td>\n",
       "      <td>0</td>\n",
       "      <td>0</td>\n",
       "      <td>3</td>\n",
       "      <td>0</td>\n",
       "      <td>0</td>\n",
       "      <td>0</td>\n",
       "      <td>0</td>\n",
       "    </tr>\n",
       "    <tr>\n",
       "      <th>2020-10-23</th>\n",
       "      <td>0</td>\n",
       "      <td>0</td>\n",
       "      <td>343</td>\n",
       "      <td>0</td>\n",
       "      <td>0</td>\n",
       "      <td>178</td>\n",
       "      <td>20</td>\n",
       "      <td>0</td>\n",
       "      <td>102</td>\n",
       "      <td>32</td>\n",
       "    </tr>\n",
       "    <tr>\n",
       "      <th>2020-10-22</th>\n",
       "      <td>478</td>\n",
       "      <td>51</td>\n",
       "      <td>1027</td>\n",
       "      <td>1775</td>\n",
       "      <td>4</td>\n",
       "      <td>327</td>\n",
       "      <td>106</td>\n",
       "      <td>1546</td>\n",
       "      <td>107</td>\n",
       "      <td>101</td>\n",
       "    </tr>\n",
       "    <tr>\n",
       "      <th>2020-10-21</th>\n",
       "      <td>908</td>\n",
       "      <td>47</td>\n",
       "      <td>1504</td>\n",
       "      <td>3243</td>\n",
       "      <td>11</td>\n",
       "      <td>420</td>\n",
       "      <td>218</td>\n",
       "      <td>1515</td>\n",
       "      <td>111</td>\n",
       "      <td>137</td>\n",
       "    </tr>\n",
       "    <tr>\n",
       "      <th>2020-10-20</th>\n",
       "      <td>1171</td>\n",
       "      <td>48</td>\n",
       "      <td>1985</td>\n",
       "      <td>4360</td>\n",
       "      <td>15</td>\n",
       "      <td>524</td>\n",
       "      <td>216</td>\n",
       "      <td>2428</td>\n",
       "      <td>117</td>\n",
       "      <td>169</td>\n",
       "    </tr>\n",
       "  </tbody>\n",
       "</table>\n",
       "</div>"
      ],
      "text/plain": [
       "            shared_teks_by_generation_date                                     \\\n",
       "region                                  BE BE@TST    CH    DE  EE   ES ES@PRE   \n",
       "sample_date                                                                     \n",
       "2020-10-24                               0      0     0     0   0    3      0   \n",
       "2020-10-23                               0      0   343     0   0  178     20   \n",
       "2020-10-22                             478     51  1027  1775   4  327    106   \n",
       "2020-10-21                             908     47  1504  3243  11  420    218   \n",
       "2020-10-20                            1171     48  1985  4360  15  524    216   \n",
       "\n",
       "                             \n",
       "region         IT   MT   PT  \n",
       "sample_date                  \n",
       "2020-10-24      0    0    0  \n",
       "2020-10-23      0  102   32  \n",
       "2020-10-22   1546  107  101  \n",
       "2020-10-21   1515  111  137  \n",
       "2020-10-20   2428  117  169  "
      ]
     },
     "execution_count": 14,
     "metadata": {},
     "output_type": "execute_result"
    }
   ],
   "source": [
    "multi_backend_summary_df = multi_backend_exposure_keys_df.groupby(\n",
    "    [\"sample_date_string\", \"region\"]).key_data.nunique().reset_index() \\\n",
    "    .pivot(index=\"sample_date_string\", columns=\"region\") \\\n",
    "    .sort_index(ascending=False)\n",
    "multi_backend_summary_df.rename(\n",
    "    columns={\"key_data\": \"shared_teks_by_generation_date\"},\n",
    "    inplace=True)\n",
    "multi_backend_summary_df.rename_axis(\"sample_date\", inplace=True)\n",
    "multi_backend_summary_df = multi_backend_summary_df.fillna(0).astype(int)\n",
    "multi_backend_summary_df = multi_backend_summary_df.head(backend_generation_days)\n",
    "multi_backend_summary_df.head()"
   ]
  },
  {
   "cell_type": "code",
   "execution_count": 15,
   "metadata": {
    "collapsed": false,
    "execution": {
     "iopub.execute_input": "2020-10-24T04:30:45.834650Z",
     "iopub.status.busy": "2020-10-24T04:30:45.817726Z",
     "iopub.status.idle": "2020-10-24T04:30:46.656921Z",
     "shell.execute_reply": "2020-10-24T04:30:46.656455Z"
    },
    "papermill": {
     "duration": 0.905398,
     "end_time": "2020-10-24T04:30:46.657057",
     "exception": false,
     "start_time": "2020-10-24T04:30:45.751659",
     "status": "completed"
    },
    "pycharm": {
     "name": "#%%\n"
    },
    "tags": []
   },
   "outputs": [
    {
     "data": {
      "text/plain": [
       "['EE', 'BE@TST', 'MT', 'PT', 'ES@PRE', 'BE', 'CH', 'IT', 'DE']"
      ]
     },
     "execution_count": 15,
     "metadata": {},
     "output_type": "execute_result"
    }
   ],
   "source": [
    "multi_backend_without_active_region_exposure_keys_df = \\\n",
    "    multi_backend_exposure_keys_df[multi_backend_exposure_keys_df.region != report_backend_identifier]\n",
    "multi_backend_without_active_region = \\\n",
    "    multi_backend_without_active_region_exposure_keys_df.groupby(\"region\").key_data.nunique().sort_values().index.unique().tolist()\n",
    "multi_backend_without_active_region"
   ]
  },
  {
   "cell_type": "code",
   "execution_count": 16,
   "metadata": {
    "execution": {
     "iopub.execute_input": "2020-10-24T04:30:46.773771Z",
     "iopub.status.busy": "2020-10-24T04:30:46.773165Z",
     "iopub.status.idle": "2020-10-24T04:30:46.828250Z",
     "shell.execute_reply": "2020-10-24T04:30:46.827429Z"
    },
    "papermill": {
     "duration": 0.123614,
     "end_time": "2020-10-24T04:30:46.828434",
     "exception": false,
     "start_time": "2020-10-24T04:30:46.704820",
     "status": "completed"
    },
    "scrolled": false,
    "tags": []
   },
   "outputs": [
    {
     "name": "stderr",
     "output_type": "stream",
     "text": [
      "/opt/hostedtoolcache/Python/3.8.6/x64/lib/python3.8/site-packages/pandas/core/frame.py:4110: SettingWithCopyWarning: \n",
      "A value is trying to be set on a copy of a slice from a DataFrame\n",
      "\n",
      "See the caveats in the documentation: http://pandas.pydata.org/pandas-docs/stable/user_guide/indexing.html#returning-a-view-versus-a-copy\n",
      "  return super().drop(\n"
     ]
    },
    {
     "data": {
      "text/html": [
       "<div>\n",
       "<style scoped>\n",
       "    .dataframe tbody tr th:only-of-type {\n",
       "        vertical-align: middle;\n",
       "    }\n",
       "\n",
       "    .dataframe tbody tr th {\n",
       "        vertical-align: top;\n",
       "    }\n",
       "\n",
       "    .dataframe thead th {\n",
       "        text-align: right;\n",
       "    }\n",
       "</style>\n",
       "<table border=\"1\" class=\"dataframe\">\n",
       "  <thead>\n",
       "    <tr style=\"text-align: right;\">\n",
       "      <th></th>\n",
       "      <th>shared_teks_by_generation_date</th>\n",
       "    </tr>\n",
       "    <tr>\n",
       "      <th>sample_date_string</th>\n",
       "      <th></th>\n",
       "    </tr>\n",
       "  </thead>\n",
       "  <tbody>\n",
       "    <tr>\n",
       "      <th>2020-10-24</th>\n",
       "      <td>3</td>\n",
       "    </tr>\n",
       "    <tr>\n",
       "      <th>2020-10-23</th>\n",
       "      <td>178</td>\n",
       "    </tr>\n",
       "    <tr>\n",
       "      <th>2020-10-22</th>\n",
       "      <td>327</td>\n",
       "    </tr>\n",
       "    <tr>\n",
       "      <th>2020-10-21</th>\n",
       "      <td>420</td>\n",
       "    </tr>\n",
       "    <tr>\n",
       "      <th>2020-10-20</th>\n",
       "      <td>524</td>\n",
       "    </tr>\n",
       "  </tbody>\n",
       "</table>\n",
       "</div>"
      ],
      "text/plain": [
       "                    shared_teks_by_generation_date\n",
       "sample_date_string                                \n",
       "2020-10-24                                       3\n",
       "2020-10-23                                     178\n",
       "2020-10-22                                     327\n",
       "2020-10-21                                     420\n",
       "2020-10-20                                     524"
      ]
     },
     "execution_count": 16,
     "metadata": {},
     "output_type": "execute_result"
    }
   ],
   "source": [
    "exposure_keys_summary_df = multi_backend_exposure_keys_df[\n",
    "    multi_backend_exposure_keys_df.region == report_backend_identifier]\n",
    "exposure_keys_summary_df.drop(columns=[\"region\"], inplace=True)\n",
    "exposure_keys_summary_df = \\\n",
    "    exposure_keys_summary_df.groupby([\"sample_date_string\"]).key_data.nunique().to_frame()\n",
    "exposure_keys_summary_df = \\\n",
    "    exposure_keys_summary_df.reset_index().set_index(\"sample_date_string\")\n",
    "exposure_keys_summary_df.sort_index(ascending=False, inplace=True)\n",
    "exposure_keys_summary_df.rename(columns={\"key_data\": \"shared_teks_by_generation_date\"}, inplace=True)\n",
    "exposure_keys_summary_df.head()"
   ]
  },
  {
   "cell_type": "markdown",
   "metadata": {
    "papermill": {
     "duration": 0.047165,
     "end_time": "2020-10-24T04:30:46.923883",
     "exception": false,
     "start_time": "2020-10-24T04:30:46.876718",
     "status": "completed"
    },
    "tags": []
   },
   "source": [
    "### Dump API TEKs"
   ]
  },
  {
   "cell_type": "code",
   "execution_count": 17,
   "metadata": {
    "execution": {
     "iopub.execute_input": "2020-10-24T04:30:47.028141Z",
     "iopub.status.busy": "2020-10-24T04:30:47.027584Z",
     "iopub.status.idle": "2020-10-24T04:30:47.870815Z",
     "shell.execute_reply": "2020-10-24T04:30:47.871254Z"
    },
    "papermill": {
     "duration": 0.89971,
     "end_time": "2020-10-24T04:30:47.871412",
     "exception": false,
     "start_time": "2020-10-24T04:30:46.971702",
     "status": "completed"
    },
    "tags": []
   },
   "outputs": [
    {
     "data": {
      "text/html": [
       "<div>\n",
       "<style scoped>\n",
       "    .dataframe tbody tr th:only-of-type {\n",
       "        vertical-align: middle;\n",
       "    }\n",
       "\n",
       "    .dataframe tbody tr th {\n",
       "        vertical-align: top;\n",
       "    }\n",
       "\n",
       "    .dataframe thead th {\n",
       "        text-align: right;\n",
       "    }\n",
       "</style>\n",
       "<table border=\"1\" class=\"dataframe\">\n",
       "  <thead>\n",
       "    <tr style=\"text-align: right;\">\n",
       "      <th></th>\n",
       "      <th>sample_date</th>\n",
       "      <th>region</th>\n",
       "      <th>tek_list</th>\n",
       "      <th>extraction_date</th>\n",
       "      <th>extraction_date_with_hour</th>\n",
       "    </tr>\n",
       "  </thead>\n",
       "  <tbody>\n",
       "    <tr>\n",
       "      <th>0</th>\n",
       "      <td>2020-10-11</td>\n",
       "      <td>BE</td>\n",
       "      <td>[00072e89-f579-4bd9-edc1-7c0c0dde2174, 01cfaa7...</td>\n",
       "      <td>2020-10-24</td>\n",
       "      <td>2020-10-24@04</td>\n",
       "    </tr>\n",
       "    <tr>\n",
       "      <th>1</th>\n",
       "      <td>2020-10-11</td>\n",
       "      <td>BE@TST</td>\n",
       "      <td>[00000000-0000-0000-0000-000000000000, 0149a07...</td>\n",
       "      <td>2020-10-24</td>\n",
       "      <td>2020-10-24@04</td>\n",
       "    </tr>\n",
       "    <tr>\n",
       "      <th>2</th>\n",
       "      <td>2020-10-11</td>\n",
       "      <td>CH</td>\n",
       "      <td>[36efa643-095c-a168-5809-c1133bbdd820, 15e22dc...</td>\n",
       "      <td>2020-10-24</td>\n",
       "      <td>2020-10-24@04</td>\n",
       "    </tr>\n",
       "    <tr>\n",
       "      <th>3</th>\n",
       "      <td>2020-10-11</td>\n",
       "      <td>DE</td>\n",
       "      <td>[0001eeeb-4f0b-4a11-bee2-9c0e890795e0, 003511c...</td>\n",
       "      <td>2020-10-24</td>\n",
       "      <td>2020-10-24@04</td>\n",
       "    </tr>\n",
       "    <tr>\n",
       "      <th>4</th>\n",
       "      <td>2020-10-11</td>\n",
       "      <td>EE</td>\n",
       "      <td>[1673a9cf-2b2a-862a-c077-83dbb51b68bd, 906a9a3...</td>\n",
       "      <td>2020-10-24</td>\n",
       "      <td>2020-10-24@04</td>\n",
       "    </tr>\n",
       "  </tbody>\n",
       "</table>\n",
       "</div>"
      ],
      "text/plain": [
       "  sample_date  region                                           tek_list  \\\n",
       "0  2020-10-11      BE  [00072e89-f579-4bd9-edc1-7c0c0dde2174, 01cfaa7...   \n",
       "1  2020-10-11  BE@TST  [00000000-0000-0000-0000-000000000000, 0149a07...   \n",
       "2  2020-10-11      CH  [36efa643-095c-a168-5809-c1133bbdd820, 15e22dc...   \n",
       "3  2020-10-11      DE  [0001eeeb-4f0b-4a11-bee2-9c0e890795e0, 003511c...   \n",
       "4  2020-10-11      EE  [1673a9cf-2b2a-862a-c077-83dbb51b68bd, 906a9a3...   \n",
       "\n",
       "  extraction_date extraction_date_with_hour  \n",
       "0      2020-10-24             2020-10-24@04  \n",
       "1      2020-10-24             2020-10-24@04  \n",
       "2      2020-10-24             2020-10-24@04  \n",
       "3      2020-10-24             2020-10-24@04  \n",
       "4      2020-10-24             2020-10-24@04  "
      ]
     },
     "execution_count": 17,
     "metadata": {},
     "output_type": "execute_result"
    }
   ],
   "source": [
    "tek_list_df = multi_backend_exposure_keys_df[\n",
    "    [\"sample_date_string\", \"region\", \"key_data\"]].copy()\n",
    "tek_list_df[\"key_data\"] = tek_list_df[\"key_data\"].apply(str)\n",
    "tek_list_df.rename(columns={\n",
    "    \"sample_date_string\": \"sample_date\",\n",
    "    \"key_data\": \"tek_list\"}, inplace=True)\n",
    "tek_list_df = tek_list_df.groupby(\n",
    "    [\"sample_date\", \"region\"]).tek_list.unique().reset_index()\n",
    "tek_list_df[\"extraction_date\"] = extraction_date\n",
    "tek_list_df[\"extraction_date_with_hour\"] = extraction_date_with_hour\n",
    "\n",
    "tek_list_path_prefix = \"Data/TEKs/\"\n",
    "tek_list_current_path = tek_list_path_prefix + f\"/Current/RadarCOVID-TEKs.json\"\n",
    "tek_list_daily_path = tek_list_path_prefix + f\"Daily/RadarCOVID-TEKs-{extraction_date}.json\"\n",
    "tek_list_hourly_path = tek_list_path_prefix + f\"Hourly/RadarCOVID-TEKs-{extraction_date_with_hour}.json\"\n",
    "\n",
    "for path in [tek_list_current_path, tek_list_daily_path, tek_list_hourly_path]:\n",
    "    os.makedirs(os.path.dirname(path), exist_ok=True)\n",
    "\n",
    "tek_list_df.drop(columns=[\"extraction_date\", \"extraction_date_with_hour\"]).to_json(\n",
    "    tek_list_current_path,\n",
    "    lines=True, orient=\"records\")\n",
    "tek_list_df.drop(columns=[\"extraction_date_with_hour\"]).to_json(\n",
    "    tek_list_daily_path,\n",
    "    lines=True, orient=\"records\")\n",
    "tek_list_df.to_json(\n",
    "    tek_list_hourly_path,\n",
    "    lines=True, orient=\"records\")\n",
    "tek_list_df.head()"
   ]
  },
  {
   "cell_type": "markdown",
   "metadata": {
    "papermill": {
     "duration": 0.050643,
     "end_time": "2020-10-24T04:30:47.975908",
     "exception": false,
     "start_time": "2020-10-24T04:30:47.925265",
     "status": "completed"
    },
    "tags": []
   },
   "source": [
    "### Load TEK Dumps"
   ]
  },
  {
   "cell_type": "code",
   "execution_count": 18,
   "metadata": {
    "execution": {
     "iopub.execute_input": "2020-10-24T04:30:48.089789Z",
     "iopub.status.busy": "2020-10-24T04:30:48.088527Z",
     "iopub.status.idle": "2020-10-24T04:30:48.090416Z",
     "shell.execute_reply": "2020-10-24T04:30:48.091145Z"
    },
    "papermill": {
     "duration": 0.065501,
     "end_time": "2020-10-24T04:30:48.091307",
     "exception": false,
     "start_time": "2020-10-24T04:30:48.025806",
     "status": "completed"
    },
    "tags": []
   },
   "outputs": [],
   "source": [
    "import glob\n",
    "\n",
    "def load_extracted_teks(mode, region=None, limit=None) -> pd.DataFrame:\n",
    "    extracted_teks_df = pd.DataFrame(columns=[\"region\"])\n",
    "    file_paths = list(reversed(sorted(glob.glob(tek_list_path_prefix + mode + \"/RadarCOVID-TEKs-*.json\"))))\n",
    "    if limit:\n",
    "        file_paths = file_paths[:limit]\n",
    "    for file_path in file_paths:\n",
    "        logging.info(f\"Loading TEKs from '{file_path}'...\")\n",
    "        iteration_extracted_teks_df = pd.read_json(file_path, lines=True)\n",
    "        extracted_teks_df = extracted_teks_df.append(\n",
    "            iteration_extracted_teks_df, sort=False)\n",
    "    extracted_teks_df[\"region\"] = \\\n",
    "        extracted_teks_df.region.fillna(spain_region_country_code).copy()\n",
    "    if region:\n",
    "        extracted_teks_df = \\\n",
    "            extracted_teks_df[extracted_teks_df.region == region]\n",
    "    return extracted_teks_df"
   ]
  },
  {
   "cell_type": "code",
   "execution_count": 19,
   "metadata": {
    "collapsed": false,
    "execution": {
     "iopub.execute_input": "2020-10-24T04:30:48.207794Z",
     "iopub.status.busy": "2020-10-24T04:30:48.207216Z",
     "iopub.status.idle": "2020-10-24T04:30:48.864165Z",
     "shell.execute_reply": "2020-10-24T04:30:48.864601Z"
    },
    "papermill": {
     "duration": 0.720149,
     "end_time": "2020-10-24T04:30:48.864769",
     "exception": false,
     "start_time": "2020-10-24T04:30:48.144620",
     "status": "completed"
    },
    "pycharm": {
     "name": "#%%\n"
    },
    "tags": []
   },
   "outputs": [
    {
     "data": {
      "text/html": [
       "<div>\n",
       "<style scoped>\n",
       "    .dataframe tbody tr th:only-of-type {\n",
       "        vertical-align: middle;\n",
       "    }\n",
       "\n",
       "    .dataframe tbody tr th {\n",
       "        vertical-align: top;\n",
       "    }\n",
       "\n",
       "    .dataframe thead th {\n",
       "        text-align: right;\n",
       "    }\n",
       "</style>\n",
       "<table border=\"1\" class=\"dataframe\">\n",
       "  <thead>\n",
       "    <tr style=\"text-align: right;\">\n",
       "      <th></th>\n",
       "      <th>region</th>\n",
       "      <th>sample_date</th>\n",
       "      <th>tek_list</th>\n",
       "      <th>extraction_date</th>\n",
       "      <th>extraction_date_with_hour</th>\n",
       "    </tr>\n",
       "  </thead>\n",
       "  <tbody>\n",
       "    <tr>\n",
       "      <th>5</th>\n",
       "      <td>ES</td>\n",
       "      <td>2020-10-11</td>\n",
       "      <td>[e3976d47-a0cc-50b0-f445-00528a1128a5, cc14a8f...</td>\n",
       "      <td>2020-10-24</td>\n",
       "      <td>NaN</td>\n",
       "    </tr>\n",
       "    <tr>\n",
       "      <th>15</th>\n",
       "      <td>ES</td>\n",
       "      <td>2020-10-12</td>\n",
       "      <td>[a387cfe5-31f1-99fd-dd41-3e12cf93bd84, 98034ea...</td>\n",
       "      <td>2020-10-24</td>\n",
       "      <td>NaN</td>\n",
       "    </tr>\n",
       "    <tr>\n",
       "      <th>25</th>\n",
       "      <td>ES</td>\n",
       "      <td>2020-10-13</td>\n",
       "      <td>[72e14bff-08c3-9526-ba63-51a5b5e16ee4, f6329ec...</td>\n",
       "      <td>2020-10-24</td>\n",
       "      <td>NaN</td>\n",
       "    </tr>\n",
       "    <tr>\n",
       "      <th>35</th>\n",
       "      <td>ES</td>\n",
       "      <td>2020-10-14</td>\n",
       "      <td>[4cac6f68-e9b0-0369-3b65-7ee6098b0f7d, de3b1e0...</td>\n",
       "      <td>2020-10-24</td>\n",
       "      <td>NaN</td>\n",
       "    </tr>\n",
       "    <tr>\n",
       "      <th>45</th>\n",
       "      <td>ES</td>\n",
       "      <td>2020-10-15</td>\n",
       "      <td>[17b1b6cf-ef54-25c1-93ef-d5c1196ef5e6, 4426d19...</td>\n",
       "      <td>2020-10-24</td>\n",
       "      <td>NaN</td>\n",
       "    </tr>\n",
       "  </tbody>\n",
       "</table>\n",
       "</div>"
      ],
      "text/plain": [
       "   region sample_date                                           tek_list  \\\n",
       "5      ES  2020-10-11  [e3976d47-a0cc-50b0-f445-00528a1128a5, cc14a8f...   \n",
       "15     ES  2020-10-12  [a387cfe5-31f1-99fd-dd41-3e12cf93bd84, 98034ea...   \n",
       "25     ES  2020-10-13  [72e14bff-08c3-9526-ba63-51a5b5e16ee4, f6329ec...   \n",
       "35     ES  2020-10-14  [4cac6f68-e9b0-0369-3b65-7ee6098b0f7d, de3b1e0...   \n",
       "45     ES  2020-10-15  [17b1b6cf-ef54-25c1-93ef-d5c1196ef5e6, 4426d19...   \n",
       "\n",
       "   extraction_date extraction_date_with_hour  \n",
       "5       2020-10-24                       NaN  \n",
       "15      2020-10-24                       NaN  \n",
       "25      2020-10-24                       NaN  \n",
       "35      2020-10-24                       NaN  \n",
       "45      2020-10-24                       NaN  "
      ]
     },
     "execution_count": 19,
     "metadata": {},
     "output_type": "execute_result"
    }
   ],
   "source": [
    "daily_extracted_teks_df = load_extracted_teks(\n",
    "    mode=\"Daily\",\n",
    "    region=report_backend_identifier,\n",
    "    limit=tek_dumps_load_limit)\n",
    "daily_extracted_teks_df.head()"
   ]
  },
  {
   "cell_type": "code",
   "execution_count": 20,
   "metadata": {
    "collapsed": false,
    "execution": {
     "iopub.execute_input": "2020-10-24T04:30:48.972240Z",
     "iopub.status.busy": "2020-10-24T04:30:48.971293Z",
     "iopub.status.idle": "2020-10-24T04:30:48.982483Z",
     "shell.execute_reply": "2020-10-24T04:30:48.981907Z"
    },
    "papermill": {
     "duration": 0.067422,
     "end_time": "2020-10-24T04:30:48.982602",
     "exception": false,
     "start_time": "2020-10-24T04:30:48.915180",
     "status": "completed"
    },
    "pycharm": {
     "name": "#%%\n"
    },
    "tags": []
   },
   "outputs": [
    {
     "data": {
      "text/html": [
       "<div>\n",
       "<style scoped>\n",
       "    .dataframe tbody tr th:only-of-type {\n",
       "        vertical-align: middle;\n",
       "    }\n",
       "\n",
       "    .dataframe tbody tr th {\n",
       "        vertical-align: top;\n",
       "    }\n",
       "\n",
       "    .dataframe thead th {\n",
       "        text-align: right;\n",
       "    }\n",
       "</style>\n",
       "<table border=\"1\" class=\"dataframe\">\n",
       "  <thead>\n",
       "    <tr style=\"text-align: right;\">\n",
       "      <th></th>\n",
       "      <th>shared_teks_by_generation_date</th>\n",
       "    </tr>\n",
       "    <tr>\n",
       "      <th>sample_date_string</th>\n",
       "      <th></th>\n",
       "    </tr>\n",
       "  </thead>\n",
       "  <tbody>\n",
       "    <tr>\n",
       "      <th>2020-10-24</th>\n",
       "      <td>3</td>\n",
       "    </tr>\n",
       "    <tr>\n",
       "      <th>2020-10-23</th>\n",
       "      <td>178</td>\n",
       "    </tr>\n",
       "    <tr>\n",
       "      <th>2020-10-22</th>\n",
       "      <td>327</td>\n",
       "    </tr>\n",
       "    <tr>\n",
       "      <th>2020-10-21</th>\n",
       "      <td>420</td>\n",
       "    </tr>\n",
       "    <tr>\n",
       "      <th>2020-10-20</th>\n",
       "      <td>524</td>\n",
       "    </tr>\n",
       "  </tbody>\n",
       "</table>\n",
       "</div>"
      ],
      "text/plain": [
       "                    shared_teks_by_generation_date\n",
       "sample_date_string                                \n",
       "2020-10-24                                       3\n",
       "2020-10-23                                     178\n",
       "2020-10-22                                     327\n",
       "2020-10-21                                     420\n",
       "2020-10-20                                     524"
      ]
     },
     "execution_count": 20,
     "metadata": {},
     "output_type": "execute_result"
    }
   ],
   "source": [
    "exposure_keys_summary_df_ = daily_extracted_teks_df \\\n",
    "    .sort_values(\"extraction_date\", ascending=False) \\\n",
    "    .groupby(\"sample_date\").tek_list.first() \\\n",
    "    .to_frame()\n",
    "exposure_keys_summary_df_.index.name = \"sample_date_string\"\n",
    "exposure_keys_summary_df_[\"tek_list\"] = \\\n",
    "    exposure_keys_summary_df_.tek_list.apply(len)\n",
    "exposure_keys_summary_df_ = exposure_keys_summary_df_ \\\n",
    "    .rename(columns={\"tek_list\": \"shared_teks_by_generation_date\"}) \\\n",
    "    .sort_index(ascending=False)\n",
    "exposure_keys_summary_df = exposure_keys_summary_df_\n",
    "exposure_keys_summary_df.head()"
   ]
  },
  {
   "cell_type": "markdown",
   "metadata": {
    "execution": {
     "iopub.execute_input": "2020-08-30T22:30:16.632967Z",
     "iopub.status.busy": "2020-08-30T22:30:16.632308Z",
     "iopub.status.idle": "2020-08-30T22:30:16.634945Z",
     "shell.execute_reply": "2020-08-30T22:30:16.635575Z"
    },
    "papermill": {
     "duration": 0.051521,
     "end_time": "2020-10-24T04:30:49.087915",
     "exception": false,
     "start_time": "2020-10-24T04:30:49.036394",
     "status": "completed"
    },
    "pycharm": {
     "name": "#%% md\n"
    },
    "tags": []
   },
   "source": [
    "### Daily New TEKs"
   ]
  },
  {
   "cell_type": "code",
   "execution_count": 21,
   "metadata": {
    "execution": {
     "iopub.execute_input": "2020-10-24T04:30:49.198637Z",
     "iopub.status.busy": "2020-10-24T04:30:49.198079Z",
     "iopub.status.idle": "2020-10-24T04:30:49.241144Z",
     "shell.execute_reply": "2020-10-24T04:30:49.241725Z"
    },
    "papermill": {
     "duration": 0.101331,
     "end_time": "2020-10-24T04:30:49.241886",
     "exception": false,
     "start_time": "2020-10-24T04:30:49.140555",
     "status": "completed"
    },
    "tags": []
   },
   "outputs": [
    {
     "data": {
      "text/html": [
       "<div>\n",
       "<style scoped>\n",
       "    .dataframe tbody tr th:only-of-type {\n",
       "        vertical-align: middle;\n",
       "    }\n",
       "\n",
       "    .dataframe tbody tr th {\n",
       "        vertical-align: top;\n",
       "    }\n",
       "\n",
       "    .dataframe thead th {\n",
       "        text-align: right;\n",
       "    }\n",
       "</style>\n",
       "<table border=\"1\" class=\"dataframe\">\n",
       "  <thead>\n",
       "    <tr style=\"text-align: right;\">\n",
       "      <th></th>\n",
       "      <th>tek_list</th>\n",
       "    </tr>\n",
       "    <tr>\n",
       "      <th>extraction_date</th>\n",
       "      <th></th>\n",
       "    </tr>\n",
       "  </thead>\n",
       "  <tbody>\n",
       "    <tr>\n",
       "      <th>2020-08-29</th>\n",
       "      <td>{2ca30bae-c8f2-104e-c28e-f23c2353a8b4, 5d8a9ba...</td>\n",
       "    </tr>\n",
       "    <tr>\n",
       "      <th>2020-08-30</th>\n",
       "      <td>{2ca30bae-c8f2-104e-c28e-f23c2353a8b4, 5d8a9ba...</td>\n",
       "    </tr>\n",
       "    <tr>\n",
       "      <th>2020-08-31</th>\n",
       "      <td>{2ca30bae-c8f2-104e-c28e-f23c2353a8b4, 5d8a9ba...</td>\n",
       "    </tr>\n",
       "    <tr>\n",
       "      <th>2020-09-01</th>\n",
       "      <td>{c680e899-d16e-7008-a206-7c1c3256d2cc, 2ca30ba...</td>\n",
       "    </tr>\n",
       "    <tr>\n",
       "      <th>2020-09-02</th>\n",
       "      <td>{c680e899-d16e-7008-a206-7c1c3256d2cc, 2ca30ba...</td>\n",
       "    </tr>\n",
       "  </tbody>\n",
       "</table>\n",
       "</div>"
      ],
      "text/plain": [
       "                                                          tek_list\n",
       "extraction_date                                                   \n",
       "2020-08-29       {2ca30bae-c8f2-104e-c28e-f23c2353a8b4, 5d8a9ba...\n",
       "2020-08-30       {2ca30bae-c8f2-104e-c28e-f23c2353a8b4, 5d8a9ba...\n",
       "2020-08-31       {2ca30bae-c8f2-104e-c28e-f23c2353a8b4, 5d8a9ba...\n",
       "2020-09-01       {c680e899-d16e-7008-a206-7c1c3256d2cc, 2ca30ba...\n",
       "2020-09-02       {c680e899-d16e-7008-a206-7c1c3256d2cc, 2ca30ba..."
      ]
     },
     "execution_count": 21,
     "metadata": {},
     "output_type": "execute_result"
    }
   ],
   "source": [
    "tek_list_df = daily_extracted_teks_df.groupby(\"extraction_date\").tek_list.apply(\n",
    "    lambda x: set(sum(x, []))).reset_index()\n",
    "tek_list_df = tek_list_df.set_index(\"extraction_date\").sort_index(ascending=True)\n",
    "tek_list_df.head()"
   ]
  },
  {
   "cell_type": "code",
   "execution_count": 22,
   "metadata": {
    "collapsed": false,
    "execution": {
     "iopub.execute_input": "2020-10-24T04:30:49.354816Z",
     "iopub.status.busy": "2020-10-24T04:30:49.354248Z",
     "iopub.status.idle": "2020-10-24T04:30:50.359367Z",
     "shell.execute_reply": "2020-10-24T04:30:50.358909Z"
    },
    "papermill": {
     "duration": 1.067546,
     "end_time": "2020-10-24T04:30:50.359499",
     "exception": false,
     "start_time": "2020-10-24T04:30:49.291953",
     "status": "completed"
    },
    "pycharm": {
     "name": "#%%\n"
    },
    "tags": []
   },
   "outputs": [
    {
     "name": "stderr",
     "output_type": "stream",
     "text": [
      "<ipython-input-22-827222b35590>:4: FutureWarning: `item` has been deprecated and will be removed in a future version\n",
      "  day_new_teks_set = day_new_teks_set_df[\n"
     ]
    },
    {
     "data": {
      "text/html": [
       "<div>\n",
       "<style scoped>\n",
       "    .dataframe tbody tr th:only-of-type {\n",
       "        vertical-align: middle;\n",
       "    }\n",
       "\n",
       "    .dataframe tbody tr th {\n",
       "        vertical-align: top;\n",
       "    }\n",
       "\n",
       "    .dataframe thead th {\n",
       "        text-align: right;\n",
       "    }\n",
       "</style>\n",
       "<table border=\"1\" class=\"dataframe\">\n",
       "  <thead>\n",
       "    <tr style=\"text-align: right;\">\n",
       "      <th></th>\n",
       "      <th>upload_date</th>\n",
       "      <th>generation_date</th>\n",
       "      <th>shared_teks</th>\n",
       "      <th>generation_to_upload_days</th>\n",
       "    </tr>\n",
       "  </thead>\n",
       "  <tbody>\n",
       "    <tr>\n",
       "      <th>10</th>\n",
       "      <td>2020-08-30</td>\n",
       "      <td>2020-08-29</td>\n",
       "      <td>16</td>\n",
       "      <td>1</td>\n",
       "    </tr>\n",
       "    <tr>\n",
       "      <th>9</th>\n",
       "      <td>2020-08-30</td>\n",
       "      <td>2020-08-28</td>\n",
       "      <td>5</td>\n",
       "      <td>2</td>\n",
       "    </tr>\n",
       "    <tr>\n",
       "      <th>8</th>\n",
       "      <td>2020-08-30</td>\n",
       "      <td>2020-08-27</td>\n",
       "      <td>3</td>\n",
       "      <td>3</td>\n",
       "    </tr>\n",
       "    <tr>\n",
       "      <th>7</th>\n",
       "      <td>2020-08-30</td>\n",
       "      <td>2020-08-26</td>\n",
       "      <td>3</td>\n",
       "      <td>4</td>\n",
       "    </tr>\n",
       "    <tr>\n",
       "      <th>6</th>\n",
       "      <td>2020-08-30</td>\n",
       "      <td>2020-08-25</td>\n",
       "      <td>2</td>\n",
       "      <td>5</td>\n",
       "    </tr>\n",
       "  </tbody>\n",
       "</table>\n",
       "</div>"
      ],
      "text/plain": [
       "   upload_date generation_date  shared_teks  generation_to_upload_days\n",
       "10  2020-08-30      2020-08-29           16                          1\n",
       "9   2020-08-30      2020-08-28            5                          2\n",
       "8   2020-08-30      2020-08-27            3                          3\n",
       "7   2020-08-30      2020-08-26            3                          4\n",
       "6   2020-08-30      2020-08-25            2                          5"
      ]
     },
     "execution_count": 22,
     "metadata": {},
     "output_type": "execute_result"
    }
   ],
   "source": [
    "def compute_teks_by_generation_and_upload_date(date):\n",
    "    day_new_teks_set_df = tek_list_df.copy().diff()\n",
    "    try:\n",
    "        day_new_teks_set = day_new_teks_set_df[\n",
    "            day_new_teks_set_df.index == date].tek_list.item()\n",
    "    except ValueError:\n",
    "        day_new_teks_set = None\n",
    "    if pd.isna(day_new_teks_set):\n",
    "        day_new_teks_set = set()\n",
    "    day_new_teks_df = daily_extracted_teks_df[\n",
    "        daily_extracted_teks_df.extraction_date == date].copy()\n",
    "    day_new_teks_df[\"shared_teks\"] = \\\n",
    "        day_new_teks_df.tek_list.apply(lambda x: set(x).intersection(day_new_teks_set))\n",
    "    day_new_teks_df[\"shared_teks\"] = \\\n",
    "        day_new_teks_df.shared_teks.apply(len)\n",
    "    day_new_teks_df[\"upload_date\"] = date\n",
    "    day_new_teks_df.rename(columns={\"sample_date\": \"generation_date\"}, inplace=True)\n",
    "    day_new_teks_df = day_new_teks_df[\n",
    "        [\"upload_date\", \"generation_date\", \"shared_teks\"]]\n",
    "    day_new_teks_df[\"generation_to_upload_days\"] = \\\n",
    "        (pd.to_datetime(day_new_teks_df.upload_date) -\n",
    "         pd.to_datetime(day_new_teks_df.generation_date)).dt.days\n",
    "    day_new_teks_df = day_new_teks_df[day_new_teks_df.shared_teks > 0]\n",
    "    return day_new_teks_df\n",
    "\n",
    "shared_teks_generation_to_upload_df = pd.DataFrame()\n",
    "for upload_date in daily_extracted_teks_df.extraction_date.unique():\n",
    "    shared_teks_generation_to_upload_df = \\\n",
    "        shared_teks_generation_to_upload_df.append(\n",
    "            compute_teks_by_generation_and_upload_date(date=upload_date))\n",
    "shared_teks_generation_to_upload_df \\\n",
    "    .sort_values([\"upload_date\", \"generation_date\"], ascending=False, inplace=True)\n",
    "shared_teks_generation_to_upload_df.tail()"
   ]
  },
  {
   "cell_type": "code",
   "execution_count": 23,
   "metadata": {
    "collapsed": false,
    "execution": {
     "iopub.execute_input": "2020-10-24T04:30:50.488510Z",
     "iopub.status.busy": "2020-10-24T04:30:50.487966Z",
     "iopub.status.idle": "2020-10-24T04:30:50.490802Z",
     "shell.execute_reply": "2020-10-24T04:30:50.490291Z"
    },
    "papermill": {
     "duration": 0.068982,
     "end_time": "2020-10-24T04:30:50.490924",
     "exception": false,
     "start_time": "2020-10-24T04:30:50.421942",
     "status": "completed"
    },
    "pycharm": {
     "name": "#%%\n"
    },
    "tags": []
   },
   "outputs": [
    {
     "data": {
      "text/html": [
       "<div>\n",
       "<style scoped>\n",
       "    .dataframe tbody tr th:only-of-type {\n",
       "        vertical-align: middle;\n",
       "    }\n",
       "\n",
       "    .dataframe tbody tr th {\n",
       "        vertical-align: top;\n",
       "    }\n",
       "\n",
       "    .dataframe thead th {\n",
       "        text-align: right;\n",
       "    }\n",
       "</style>\n",
       "<table border=\"1\" class=\"dataframe\">\n",
       "  <thead>\n",
       "    <tr style=\"text-align: right;\">\n",
       "      <th></th>\n",
       "      <th>upload_date</th>\n",
       "      <th>generation_date</th>\n",
       "      <th>shared_teks</th>\n",
       "      <th>generation_to_upload_days</th>\n",
       "    </tr>\n",
       "  </thead>\n",
       "  <tbody>\n",
       "    <tr>\n",
       "      <th>121</th>\n",
       "      <td>2020-10-24</td>\n",
       "      <td>2020-10-23</td>\n",
       "      <td>11</td>\n",
       "      <td>1</td>\n",
       "    </tr>\n",
       "    <tr>\n",
       "      <th>115</th>\n",
       "      <td>2020-10-24</td>\n",
       "      <td>2020-10-22</td>\n",
       "      <td>2</td>\n",
       "      <td>2</td>\n",
       "    </tr>\n",
       "    <tr>\n",
       "      <th>105</th>\n",
       "      <td>2020-10-24</td>\n",
       "      <td>2020-10-21</td>\n",
       "      <td>2</td>\n",
       "      <td>3</td>\n",
       "    </tr>\n",
       "    <tr>\n",
       "      <th>95</th>\n",
       "      <td>2020-10-24</td>\n",
       "      <td>2020-10-20</td>\n",
       "      <td>2</td>\n",
       "      <td>4</td>\n",
       "    </tr>\n",
       "    <tr>\n",
       "      <th>85</th>\n",
       "      <td>2020-10-24</td>\n",
       "      <td>2020-10-19</td>\n",
       "      <td>2</td>\n",
       "      <td>5</td>\n",
       "    </tr>\n",
       "  </tbody>\n",
       "</table>\n",
       "</div>"
      ],
      "text/plain": [
       "    upload_date generation_date  shared_teks  generation_to_upload_days\n",
       "121  2020-10-24      2020-10-23           11                          1\n",
       "115  2020-10-24      2020-10-22            2                          2\n",
       "105  2020-10-24      2020-10-21            2                          3\n",
       "95   2020-10-24      2020-10-20            2                          4\n",
       "85   2020-10-24      2020-10-19            2                          5"
      ]
     },
     "execution_count": 23,
     "metadata": {},
     "output_type": "execute_result"
    }
   ],
   "source": [
    "today_new_teks_df = \\\n",
    "    shared_teks_generation_to_upload_df[\n",
    "        shared_teks_generation_to_upload_df.upload_date == extraction_date].copy()\n",
    "today_new_teks_df.tail()"
   ]
  },
  {
   "cell_type": "code",
   "execution_count": 24,
   "metadata": {
    "collapsed": false,
    "execution": {
     "iopub.execute_input": "2020-10-24T04:30:50.636411Z",
     "iopub.status.busy": "2020-10-24T04:30:50.633120Z",
     "iopub.status.idle": "2020-10-24T04:30:50.776930Z",
     "shell.execute_reply": "2020-10-24T04:30:50.777619Z"
    },
    "papermill": {
     "duration": 0.230096,
     "end_time": "2020-10-24T04:30:50.777800",
     "exception": false,
     "start_time": "2020-10-24T04:30:50.547704",
     "status": "completed"
    },
    "pycharm": {
     "name": "#%%\n"
    },
    "tags": []
   },
   "outputs": [
    {
     "data": {
      "image/png": "[encoded data removed]",
      "text/plain": [
       "<Figure size 1080x432 with 1 Axes>"
      ]
     },
     "metadata": {},
     "output_type": "display_data"
    }
   ],
   "source": [
    "if not today_new_teks_df.empty:\n",
    "    today_new_teks_df.set_index(\"generation_to_upload_days\") \\\n",
    "        .sort_index().shared_teks.plot.bar()"
   ]
  },
  {
   "cell_type": "code",
   "execution_count": 25,
   "metadata": {
    "collapsed": false,
    "execution": {
     "iopub.execute_input": "2020-10-24T04:30:50.890473Z",
     "iopub.status.busy": "2020-10-24T04:30:50.889907Z",
     "iopub.status.idle": "2020-10-24T04:30:50.904552Z",
     "shell.execute_reply": "2020-10-24T04:30:50.904081Z"
    },
    "papermill": {
     "duration": 0.073641,
     "end_time": "2020-10-24T04:30:50.904677",
     "exception": false,
     "start_time": "2020-10-24T04:30:50.831036",
     "status": "completed"
    },
    "pycharm": {
     "name": "#%%\n"
    },
    "tags": []
   },
   "outputs": [
    {
     "data": {
      "text/html": [
       "<div>\n",
       "<style scoped>\n",
       "    .dataframe tbody tr th:only-of-type {\n",
       "        vertical-align: middle;\n",
       "    }\n",
       "\n",
       "    .dataframe tbody tr th {\n",
       "        vertical-align: top;\n",
       "    }\n",
       "\n",
       "    .dataframe thead th {\n",
       "        text-align: right;\n",
       "    }\n",
       "</style>\n",
       "<table border=\"1\" class=\"dataframe\">\n",
       "  <thead>\n",
       "    <tr style=\"text-align: right;\">\n",
       "      <th>generation_to_upload_days</th>\n",
       "      <th>0</th>\n",
       "      <th>1</th>\n",
       "      <th>2</th>\n",
       "      <th>3</th>\n",
       "      <th>4</th>\n",
       "      <th>5</th>\n",
       "      <th>6</th>\n",
       "      <th>7</th>\n",
       "      <th>8</th>\n",
       "      <th>9</th>\n",
       "      <th>10</th>\n",
       "      <th>11</th>\n",
       "      <th>12</th>\n",
       "      <th>13</th>\n",
       "    </tr>\n",
       "    <tr>\n",
       "      <th>upload_date</th>\n",
       "      <th></th>\n",
       "      <th></th>\n",
       "      <th></th>\n",
       "      <th></th>\n",
       "      <th></th>\n",
       "      <th></th>\n",
       "      <th></th>\n",
       "      <th></th>\n",
       "      <th></th>\n",
       "      <th></th>\n",
       "      <th></th>\n",
       "      <th></th>\n",
       "      <th></th>\n",
       "      <th></th>\n",
       "    </tr>\n",
       "  </thead>\n",
       "  <tbody>\n",
       "    <tr>\n",
       "      <th>2020-10-24</th>\n",
       "      <td>3</td>\n",
       "      <td>11</td>\n",
       "      <td>2</td>\n",
       "      <td>2</td>\n",
       "      <td>2</td>\n",
       "      <td>2</td>\n",
       "      <td>0</td>\n",
       "      <td>0</td>\n",
       "      <td>0</td>\n",
       "      <td>0</td>\n",
       "      <td>0</td>\n",
       "      <td>0</td>\n",
       "      <td>0</td>\n",
       "      <td>0</td>\n",
       "    </tr>\n",
       "    <tr>\n",
       "      <th>2020-10-23</th>\n",
       "      <td>167</td>\n",
       "      <td>145</td>\n",
       "      <td>129</td>\n",
       "      <td>106</td>\n",
       "      <td>85</td>\n",
       "      <td>58</td>\n",
       "      <td>29</td>\n",
       "      <td>19</td>\n",
       "      <td>14</td>\n",
       "      <td>9</td>\n",
       "      <td>3</td>\n",
       "      <td>3</td>\n",
       "      <td>1</td>\n",
       "      <td>1</td>\n",
       "    </tr>\n",
       "    <tr>\n",
       "      <th>2020-10-22</th>\n",
       "      <td>180</td>\n",
       "      <td>132</td>\n",
       "      <td>114</td>\n",
       "      <td>100</td>\n",
       "      <td>76</td>\n",
       "      <td>51</td>\n",
       "      <td>26</td>\n",
       "      <td>18</td>\n",
       "      <td>10</td>\n",
       "      <td>6</td>\n",
       "      <td>4</td>\n",
       "      <td>4</td>\n",
       "      <td>3</td>\n",
       "      <td>2</td>\n",
       "    </tr>\n",
       "    <tr>\n",
       "      <th>2020-10-21</th>\n",
       "      <td>157</td>\n",
       "      <td>153</td>\n",
       "      <td>136</td>\n",
       "      <td>120</td>\n",
       "      <td>97</td>\n",
       "      <td>62</td>\n",
       "      <td>34</td>\n",
       "      <td>28</td>\n",
       "      <td>20</td>\n",
       "      <td>15</td>\n",
       "      <td>9</td>\n",
       "      <td>4</td>\n",
       "      <td>3</td>\n",
       "      <td>3</td>\n",
       "    </tr>\n",
       "    <tr>\n",
       "      <th>2020-10-20</th>\n",
       "      <td>149</td>\n",
       "      <td>135</td>\n",
       "      <td>119</td>\n",
       "      <td>106</td>\n",
       "      <td>79</td>\n",
       "      <td>59</td>\n",
       "      <td>47</td>\n",
       "      <td>25</td>\n",
       "      <td>21</td>\n",
       "      <td>13</td>\n",
       "      <td>8</td>\n",
       "      <td>6</td>\n",
       "      <td>3</td>\n",
       "      <td>2</td>\n",
       "    </tr>\n",
       "  </tbody>\n",
       "</table>\n",
       "</div>"
      ],
      "text/plain": [
       "generation_to_upload_days   0    1    2    3   4   5   6   7   8   9   10  11  \\\n",
       "upload_date                                                                     \n",
       "2020-10-24                   3   11    2    2   2   2   0   0   0   0   0   0   \n",
       "2020-10-23                 167  145  129  106  85  58  29  19  14   9   3   3   \n",
       "2020-10-22                 180  132  114  100  76  51  26  18  10   6   4   4   \n",
       "2020-10-21                 157  153  136  120  97  62  34  28  20  15   9   4   \n",
       "2020-10-20                 149  135  119  106  79  59  47  25  21  13   8   6   \n",
       "\n",
       "generation_to_upload_days  12  13  \n",
       "upload_date                        \n",
       "2020-10-24                  0   0  \n",
       "2020-10-23                  1   1  \n",
       "2020-10-22                  3   2  \n",
       "2020-10-21                  3   3  \n",
       "2020-10-20                  3   2  "
      ]
     },
     "execution_count": 25,
     "metadata": {},
     "output_type": "execute_result"
    }
   ],
   "source": [
    "generation_to_upload_period_pivot_df = \\\n",
    "    shared_teks_generation_to_upload_df[\n",
    "        [\"upload_date\", \"generation_to_upload_days\", \"shared_teks\"]] \\\n",
    "        .pivot(index=\"upload_date\", columns=\"generation_to_upload_days\") \\\n",
    "        .sort_index(ascending=False).fillna(0).astype(int) \\\n",
    "        .droplevel(level=0, axis=1)\n",
    "generation_to_upload_period_pivot_df.head()"
   ]
  },
  {
   "cell_type": "code",
   "execution_count": 26,
   "metadata": {
    "collapsed": false,
    "execution": {
     "iopub.execute_input": "2020-10-24T04:30:51.031512Z",
     "iopub.status.busy": "2020-10-24T04:30:51.030942Z",
     "iopub.status.idle": "2020-10-24T04:30:51.033974Z",
     "shell.execute_reply": "2020-10-24T04:30:51.034493Z"
    },
    "papermill": {
     "duration": 0.077666,
     "end_time": "2020-10-24T04:30:51.034651",
     "exception": false,
     "start_time": "2020-10-24T04:30:50.956985",
     "status": "completed"
    },
    "pycharm": {
     "name": "#%%\n"
    },
    "tags": []
   },
   "outputs": [
    {
     "data": {
      "text/html": [
       "<div>\n",
       "<style scoped>\n",
       "    .dataframe tbody tr th:only-of-type {\n",
       "        vertical-align: middle;\n",
       "    }\n",
       "\n",
       "    .dataframe tbody tr th {\n",
       "        vertical-align: top;\n",
       "    }\n",
       "\n",
       "    .dataframe thead th {\n",
       "        text-align: right;\n",
       "    }\n",
       "</style>\n",
       "<table border=\"1\" class=\"dataframe\">\n",
       "  <thead>\n",
       "    <tr style=\"text-align: right;\">\n",
       "      <th></th>\n",
       "      <th>sample_date_string</th>\n",
       "      <th>shared_teks_by_upload_date</th>\n",
       "    </tr>\n",
       "  </thead>\n",
       "  <tbody>\n",
       "    <tr>\n",
       "      <th>52</th>\n",
       "      <td>2020-10-20</td>\n",
       "      <td>772.0</td>\n",
       "    </tr>\n",
       "    <tr>\n",
       "      <th>53</th>\n",
       "      <td>2020-10-21</td>\n",
       "      <td>841.0</td>\n",
       "    </tr>\n",
       "    <tr>\n",
       "      <th>54</th>\n",
       "      <td>2020-10-22</td>\n",
       "      <td>726.0</td>\n",
       "    </tr>\n",
       "    <tr>\n",
       "      <th>55</th>\n",
       "      <td>2020-10-23</td>\n",
       "      <td>769.0</td>\n",
       "    </tr>\n",
       "    <tr>\n",
       "      <th>56</th>\n",
       "      <td>2020-10-24</td>\n",
       "      <td>22.0</td>\n",
       "    </tr>\n",
       "  </tbody>\n",
       "</table>\n",
       "</div>"
      ],
      "text/plain": [
       "   sample_date_string  shared_teks_by_upload_date\n",
       "52         2020-10-20                       772.0\n",
       "53         2020-10-21                       841.0\n",
       "54         2020-10-22                       726.0\n",
       "55         2020-10-23                       769.0\n",
       "56         2020-10-24                        22.0"
      ]
     },
     "execution_count": 26,
     "metadata": {},
     "output_type": "execute_result"
    }
   ],
   "source": [
    "new_tek_df = tek_list_df.diff().tek_list.apply(\n",
    "    lambda x: len(x) if not pd.isna(x) else None).to_frame().reset_index()\n",
    "new_tek_df.rename(columns={\n",
    "    \"tek_list\": \"shared_teks_by_upload_date\",\n",
    "    \"extraction_date\": \"sample_date_string\",}, inplace=True)\n",
    "new_tek_df.tail()"
   ]
  },
  {
   "cell_type": "code",
   "execution_count": 27,
   "metadata": {
    "execution": {
     "iopub.execute_input": "2020-10-24T04:30:51.147032Z",
     "iopub.status.busy": "2020-10-24T04:30:51.146476Z",
     "iopub.status.idle": "2020-10-24T04:30:51.166531Z",
     "shell.execute_reply": "2020-10-24T04:30:51.166029Z"
    },
    "papermill": {
     "duration": 0.078893,
     "end_time": "2020-10-24T04:30:51.166660",
     "exception": false,
     "start_time": "2020-10-24T04:30:51.087767",
     "status": "completed"
    },
    "pycharm": {
     "name": "#%%\n"
    },
    "tags": []
   },
   "outputs": [
    {
     "data": {
      "text/html": [
       "<div>\n",
       "<style scoped>\n",
       "    .dataframe tbody tr th:only-of-type {\n",
       "        vertical-align: middle;\n",
       "    }\n",
       "\n",
       "    .dataframe tbody tr th {\n",
       "        vertical-align: top;\n",
       "    }\n",
       "\n",
       "    .dataframe thead th {\n",
       "        text-align: right;\n",
       "    }\n",
       "</style>\n",
       "<table border=\"1\" class=\"dataframe\">\n",
       "  <thead>\n",
       "    <tr style=\"text-align: right;\">\n",
       "      <th></th>\n",
       "      <th>region</th>\n",
       "      <th>sample_date</th>\n",
       "      <th>tek_list</th>\n",
       "      <th>extraction_date</th>\n",
       "      <th>extraction_date_with_hour</th>\n",
       "      <th>new_sample_extraction_date</th>\n",
       "    </tr>\n",
       "  </thead>\n",
       "  <tbody>\n",
       "    <tr>\n",
       "      <th>5</th>\n",
       "      <td>ES</td>\n",
       "      <td>2020-10-11</td>\n",
       "      <td>[e3976d47-a0cc-50b0-f445-00528a1128a5, cc14a8f...</td>\n",
       "      <td>2020-10-24</td>\n",
       "      <td>NaN</td>\n",
       "      <td>2020-10-12</td>\n",
       "    </tr>\n",
       "    <tr>\n",
       "      <th>15</th>\n",
       "      <td>ES</td>\n",
       "      <td>2020-10-12</td>\n",
       "      <td>[a387cfe5-31f1-99fd-dd41-3e12cf93bd84, 98034ea...</td>\n",
       "      <td>2020-10-24</td>\n",
       "      <td>NaN</td>\n",
       "      <td>2020-10-13</td>\n",
       "    </tr>\n",
       "    <tr>\n",
       "      <th>25</th>\n",
       "      <td>ES</td>\n",
       "      <td>2020-10-13</td>\n",
       "      <td>[72e14bff-08c3-9526-ba63-51a5b5e16ee4, f6329ec...</td>\n",
       "      <td>2020-10-24</td>\n",
       "      <td>NaN</td>\n",
       "      <td>2020-10-14</td>\n",
       "    </tr>\n",
       "    <tr>\n",
       "      <th>35</th>\n",
       "      <td>ES</td>\n",
       "      <td>2020-10-14</td>\n",
       "      <td>[4cac6f68-e9b0-0369-3b65-7ee6098b0f7d, de3b1e0...</td>\n",
       "      <td>2020-10-24</td>\n",
       "      <td>NaN</td>\n",
       "      <td>2020-10-15</td>\n",
       "    </tr>\n",
       "    <tr>\n",
       "      <th>45</th>\n",
       "      <td>ES</td>\n",
       "      <td>2020-10-15</td>\n",
       "      <td>[17b1b6cf-ef54-25c1-93ef-d5c1196ef5e6, 4426d19...</td>\n",
       "      <td>2020-10-24</td>\n",
       "      <td>NaN</td>\n",
       "      <td>2020-10-16</td>\n",
       "    </tr>\n",
       "  </tbody>\n",
       "</table>\n",
       "</div>"
      ],
      "text/plain": [
       "   region sample_date                                           tek_list  \\\n",
       "5      ES  2020-10-11  [e3976d47-a0cc-50b0-f445-00528a1128a5, cc14a8f...   \n",
       "15     ES  2020-10-12  [a387cfe5-31f1-99fd-dd41-3e12cf93bd84, 98034ea...   \n",
       "25     ES  2020-10-13  [72e14bff-08c3-9526-ba63-51a5b5e16ee4, f6329ec...   \n",
       "35     ES  2020-10-14  [4cac6f68-e9b0-0369-3b65-7ee6098b0f7d, de3b1e0...   \n",
       "45     ES  2020-10-15  [17b1b6cf-ef54-25c1-93ef-d5c1196ef5e6, 4426d19...   \n",
       "\n",
       "   extraction_date extraction_date_with_hour new_sample_extraction_date  \n",
       "5       2020-10-24                       NaN                 2020-10-12  \n",
       "15      2020-10-24                       NaN                 2020-10-13  \n",
       "25      2020-10-24                       NaN                 2020-10-14  \n",
       "35      2020-10-24                       NaN                 2020-10-15  \n",
       "45      2020-10-24                       NaN                 2020-10-16  "
      ]
     },
     "execution_count": 27,
     "metadata": {},
     "output_type": "execute_result"
    }
   ],
   "source": [
    "estimated_shared_diagnoses_df = daily_extracted_teks_df.copy()\n",
    "estimated_shared_diagnoses_df[\"new_sample_extraction_date\"] = \\\n",
    "    pd.to_datetime(estimated_shared_diagnoses_df.sample_date) + datetime.timedelta(1)\n",
    "estimated_shared_diagnoses_df[\"extraction_date\"] = pd.to_datetime(estimated_shared_diagnoses_df.extraction_date)\n",
    "estimated_shared_diagnoses_df[\"sample_date\"] = pd.to_datetime(estimated_shared_diagnoses_df.sample_date)\n",
    "estimated_shared_diagnoses_df.head()"
   ]
  },
  {
   "cell_type": "code",
   "execution_count": 28,
   "metadata": {
    "collapsed": false,
    "execution": {
     "iopub.execute_input": "2020-10-24T04:30:51.302799Z",
     "iopub.status.busy": "2020-10-24T04:30:51.302293Z",
     "iopub.status.idle": "2020-10-24T04:30:51.316634Z",
     "shell.execute_reply": "2020-10-24T04:30:51.316208Z"
    },
    "papermill": {
     "duration": 0.096913,
     "end_time": "2020-10-24T04:30:51.316750",
     "exception": false,
     "start_time": "2020-10-24T04:30:51.219837",
     "status": "completed"
    },
    "pycharm": {
     "name": "#%%\n"
    },
    "tags": []
   },
   "outputs": [
    {
     "data": {
      "text/html": [
       "<div>\n",
       "<style scoped>\n",
       "    .dataframe tbody tr th:only-of-type {\n",
       "        vertical-align: middle;\n",
       "    }\n",
       "\n",
       "    .dataframe tbody tr th {\n",
       "        vertical-align: top;\n",
       "    }\n",
       "\n",
       "    .dataframe thead th {\n",
       "        text-align: right;\n",
       "    }\n",
       "</style>\n",
       "<table border=\"1\" class=\"dataframe\">\n",
       "  <thead>\n",
       "    <tr style=\"text-align: right;\">\n",
       "      <th></th>\n",
       "      <th>extraction_date</th>\n",
       "      <th>same_day_tek_list</th>\n",
       "    </tr>\n",
       "  </thead>\n",
       "  <tbody>\n",
       "    <tr>\n",
       "      <th>125</th>\n",
       "      <td>2020-10-24</td>\n",
       "      <td>[9573d3cb-45c2-bb1f-994b-d8119e480755, fbac1f0...</td>\n",
       "    </tr>\n",
       "    <tr>\n",
       "      <th>128</th>\n",
       "      <td>2020-10-23</td>\n",
       "      <td>[c183bc1b-ab2d-b3e1-593a-25aa1a70be72, decd21d...</td>\n",
       "    </tr>\n",
       "    <tr>\n",
       "      <th>139</th>\n",
       "      <td>2020-10-22</td>\n",
       "      <td>[ffcfb805-c03e-e043-997b-fd875bc22cf2, 8e0508d...</td>\n",
       "    </tr>\n",
       "    <tr>\n",
       "      <th>90</th>\n",
       "      <td>2020-10-21</td>\n",
       "      <td>[63d1502a-a158-a5d2-001a-cbb82b9abcf5, ed1bc81...</td>\n",
       "    </tr>\n",
       "    <tr>\n",
       "      <th>78</th>\n",
       "      <td>2020-10-20</td>\n",
       "      <td>[97b27565-a475-f559-44f7-2b692ee719c3, a031a2f...</td>\n",
       "    </tr>\n",
       "  </tbody>\n",
       "</table>\n",
       "</div>"
      ],
      "text/plain": [
       "    extraction_date                                  same_day_tek_list\n",
       "125      2020-10-24  [9573d3cb-45c2-bb1f-994b-d8119e480755, fbac1f0...\n",
       "128      2020-10-23  [c183bc1b-ab2d-b3e1-593a-25aa1a70be72, decd21d...\n",
       "139      2020-10-22  [ffcfb805-c03e-e043-997b-fd875bc22cf2, 8e0508d...\n",
       "90       2020-10-21  [63d1502a-a158-a5d2-001a-cbb82b9abcf5, ed1bc81...\n",
       "78       2020-10-20  [97b27565-a475-f559-44f7-2b692ee719c3, a031a2f..."
      ]
     },
     "execution_count": 28,
     "metadata": {},
     "output_type": "execute_result"
    }
   ],
   "source": [
    "# Sometimes TEKs from the same day are uploaded, we do not count them as new TEK devices:\n",
    "same_day_tek_list_df = estimated_shared_diagnoses_df[\n",
    "    estimated_shared_diagnoses_df.sample_date == estimated_shared_diagnoses_df.extraction_date].copy()\n",
    "same_day_tek_list_df = same_day_tek_list_df[[\"extraction_date\", \"tek_list\"]].rename(\n",
    "    columns={\"tek_list\": \"same_day_tek_list\"})\n",
    "same_day_tek_list_df.head()"
   ]
  },
  {
   "cell_type": "code",
   "execution_count": 29,
   "metadata": {
    "collapsed": false,
    "execution": {
     "iopub.execute_input": "2020-10-24T04:30:51.435129Z",
     "iopub.status.busy": "2020-10-24T04:30:51.434534Z",
     "iopub.status.idle": "2020-10-24T04:30:51.437151Z",
     "shell.execute_reply": "2020-10-24T04:30:51.437578Z"
    },
    "papermill": {
     "duration": 0.06909,
     "end_time": "2020-10-24T04:30:51.437749",
     "exception": false,
     "start_time": "2020-10-24T04:30:51.368659",
     "status": "completed"
    },
    "pycharm": {
     "name": "#%%\n"
    },
    "tags": []
   },
   "outputs": [
    {
     "data": {
      "text/html": [
       "<div>\n",
       "<style scoped>\n",
       "    .dataframe tbody tr th:only-of-type {\n",
       "        vertical-align: middle;\n",
       "    }\n",
       "\n",
       "    .dataframe tbody tr th {\n",
       "        vertical-align: top;\n",
       "    }\n",
       "\n",
       "    .dataframe thead th {\n",
       "        text-align: right;\n",
       "    }\n",
       "</style>\n",
       "<table border=\"1\" class=\"dataframe\">\n",
       "  <thead>\n",
       "    <tr style=\"text-align: right;\">\n",
       "      <th></th>\n",
       "      <th>sample_date_string</th>\n",
       "      <th>shared_teks_uploaded_on_generation_date</th>\n",
       "    </tr>\n",
       "  </thead>\n",
       "  <tbody>\n",
       "    <tr>\n",
       "      <th>125</th>\n",
       "      <td>2020-10-24</td>\n",
       "      <td>3</td>\n",
       "    </tr>\n",
       "    <tr>\n",
       "      <th>128</th>\n",
       "      <td>2020-10-23</td>\n",
       "      <td>167</td>\n",
       "    </tr>\n",
       "    <tr>\n",
       "      <th>139</th>\n",
       "      <td>2020-10-22</td>\n",
       "      <td>180</td>\n",
       "    </tr>\n",
       "    <tr>\n",
       "      <th>90</th>\n",
       "      <td>2020-10-21</td>\n",
       "      <td>157</td>\n",
       "    </tr>\n",
       "    <tr>\n",
       "      <th>78</th>\n",
       "      <td>2020-10-20</td>\n",
       "      <td>149</td>\n",
       "    </tr>\n",
       "  </tbody>\n",
       "</table>\n",
       "</div>"
      ],
      "text/plain": [
       "    sample_date_string  shared_teks_uploaded_on_generation_date\n",
       "125         2020-10-24                                        3\n",
       "128         2020-10-23                                      167\n",
       "139         2020-10-22                                      180\n",
       "90          2020-10-21                                      157\n",
       "78          2020-10-20                                      149"
      ]
     },
     "execution_count": 29,
     "metadata": {},
     "output_type": "execute_result"
    }
   ],
   "source": [
    "shared_teks_uploaded_on_generation_date_df = same_day_tek_list_df.rename(\n",
    "    columns={\n",
    "        \"extraction_date\": \"sample_date_string\",\n",
    "        \"same_day_tek_list\": \"shared_teks_uploaded_on_generation_date\",\n",
    "    })\n",
    "shared_teks_uploaded_on_generation_date_df.shared_teks_uploaded_on_generation_date = \\\n",
    " shared_teks_uploaded_on_generation_date_df.shared_teks_uploaded_on_generation_date.apply(len)\n",
    "shared_teks_uploaded_on_generation_date_df.head()\n",
    "shared_teks_uploaded_on_generation_date_df[\"sample_date_string\"] = \\\n",
    "    shared_teks_uploaded_on_generation_date_df.sample_date_string.dt.strftime(\"%Y-%m-%d\")\n",
    "shared_teks_uploaded_on_generation_date_df.head()"
   ]
  },
  {
   "cell_type": "code",
   "execution_count": 30,
   "metadata": {
    "collapsed": false,
    "execution": {
     "iopub.execute_input": "2020-10-24T04:30:51.561043Z",
     "iopub.status.busy": "2020-10-24T04:30:51.560483Z",
     "iopub.status.idle": "2020-10-24T04:30:51.563848Z",
     "shell.execute_reply": "2020-10-24T04:30:51.563428Z"
    },
    "papermill": {
     "duration": 0.073539,
     "end_time": "2020-10-24T04:30:51.563968",
     "exception": false,
     "start_time": "2020-10-24T04:30:51.490429",
     "status": "completed"
    },
    "pycharm": {
     "name": "#%%\n"
    },
    "tags": []
   },
   "outputs": [
    {
     "data": {
      "text/html": [
       "<div>\n",
       "<style scoped>\n",
       "    .dataframe tbody tr th:only-of-type {\n",
       "        vertical-align: middle;\n",
       "    }\n",
       "\n",
       "    .dataframe tbody tr th {\n",
       "        vertical-align: top;\n",
       "    }\n",
       "\n",
       "    .dataframe thead th {\n",
       "        text-align: right;\n",
       "    }\n",
       "</style>\n",
       "<table border=\"1\" class=\"dataframe\">\n",
       "  <thead>\n",
       "    <tr style=\"text-align: right;\">\n",
       "      <th></th>\n",
       "      <th>region</th>\n",
       "      <th>sample_date</th>\n",
       "      <th>tek_list</th>\n",
       "      <th>extraction_date</th>\n",
       "      <th>extraction_date_with_hour</th>\n",
       "      <th>new_sample_extraction_date</th>\n",
       "    </tr>\n",
       "  </thead>\n",
       "  <tbody>\n",
       "    <tr>\n",
       "      <th>121</th>\n",
       "      <td>ES</td>\n",
       "      <td>2020-10-23</td>\n",
       "      <td>[0c3ac77d-a44c-f133-b810-9b6af4d89ac3, 30fa9e7...</td>\n",
       "      <td>2020-10-24</td>\n",
       "      <td>NaN</td>\n",
       "      <td>2020-10-24</td>\n",
       "    </tr>\n",
       "    <tr>\n",
       "      <th>122</th>\n",
       "      <td>ES</td>\n",
       "      <td>2020-10-22</td>\n",
       "      <td>[90bdf3aa-9f0b-637e-f6cb-23d10feb6a6b, 950663d...</td>\n",
       "      <td>2020-10-23</td>\n",
       "      <td>NaN</td>\n",
       "      <td>2020-10-23</td>\n",
       "    </tr>\n",
       "    <tr>\n",
       "      <th>133</th>\n",
       "      <td>ES</td>\n",
       "      <td>2020-10-21</td>\n",
       "      <td>[40ae3e69-12c6-0482-2912-ea87d48b1aa3, 1afec6b...</td>\n",
       "      <td>2020-10-22</td>\n",
       "      <td>NaN</td>\n",
       "      <td>2020-10-22</td>\n",
       "    </tr>\n",
       "    <tr>\n",
       "      <th>85</th>\n",
       "      <td>ES</td>\n",
       "      <td>2020-10-20</td>\n",
       "      <td>[0f0e336e-b1c9-a45e-3043-5ed28b80e1b0, e143507...</td>\n",
       "      <td>2020-10-21</td>\n",
       "      <td>NaN</td>\n",
       "      <td>2020-10-21</td>\n",
       "    </tr>\n",
       "    <tr>\n",
       "      <th>73</th>\n",
       "      <td>ES</td>\n",
       "      <td>2020-10-19</td>\n",
       "      <td>[1c849f04-e59b-7f45-7e6b-e13356aec58b, 53ea152...</td>\n",
       "      <td>2020-10-20</td>\n",
       "      <td>NaN</td>\n",
       "      <td>2020-10-20</td>\n",
       "    </tr>\n",
       "  </tbody>\n",
       "</table>\n",
       "</div>"
      ],
      "text/plain": [
       "    region sample_date                                           tek_list  \\\n",
       "121     ES  2020-10-23  [0c3ac77d-a44c-f133-b810-9b6af4d89ac3, 30fa9e7...   \n",
       "122     ES  2020-10-22  [90bdf3aa-9f0b-637e-f6cb-23d10feb6a6b, 950663d...   \n",
       "133     ES  2020-10-21  [40ae3e69-12c6-0482-2912-ea87d48b1aa3, 1afec6b...   \n",
       "85      ES  2020-10-20  [0f0e336e-b1c9-a45e-3043-5ed28b80e1b0, e143507...   \n",
       "73      ES  2020-10-19  [1c849f04-e59b-7f45-7e6b-e13356aec58b, 53ea152...   \n",
       "\n",
       "    extraction_date extraction_date_with_hour new_sample_extraction_date  \n",
       "121      2020-10-24                       NaN                 2020-10-24  \n",
       "122      2020-10-23                       NaN                 2020-10-23  \n",
       "133      2020-10-22                       NaN                 2020-10-22  \n",
       "85       2020-10-21                       NaN                 2020-10-21  \n",
       "73       2020-10-20                       NaN                 2020-10-20  "
      ]
     },
     "execution_count": 30,
     "metadata": {},
     "output_type": "execute_result"
    }
   ],
   "source": [
    "estimated_shared_diagnoses_df = estimated_shared_diagnoses_df[\n",
    "    estimated_shared_diagnoses_df.new_sample_extraction_date == estimated_shared_diagnoses_df.extraction_date]\n",
    "estimated_shared_diagnoses_df.head()"
   ]
  },
  {
   "cell_type": "code",
   "execution_count": 31,
   "metadata": {
    "collapsed": false,
    "execution": {
     "iopub.execute_input": "2020-10-24T04:30:51.694622Z",
     "iopub.status.busy": "2020-10-24T04:30:51.694074Z",
     "iopub.status.idle": "2020-10-24T04:30:51.705290Z",
     "shell.execute_reply": "2020-10-24T04:30:51.704842Z"
    },
    "papermill": {
     "duration": 0.086139,
     "end_time": "2020-10-24T04:30:51.705424",
     "exception": false,
     "start_time": "2020-10-24T04:30:51.619285",
     "status": "completed"
    },
    "pycharm": {
     "name": "#%%\n"
    },
    "tags": []
   },
   "outputs": [
    {
     "data": {
      "text/html": [
       "<div>\n",
       "<style scoped>\n",
       "    .dataframe tbody tr th:only-of-type {\n",
       "        vertical-align: middle;\n",
       "    }\n",
       "\n",
       "    .dataframe tbody tr th {\n",
       "        vertical-align: top;\n",
       "    }\n",
       "\n",
       "    .dataframe thead th {\n",
       "        text-align: right;\n",
       "    }\n",
       "</style>\n",
       "<table border=\"1\" class=\"dataframe\">\n",
       "  <thead>\n",
       "    <tr style=\"text-align: right;\">\n",
       "      <th></th>\n",
       "      <th>region</th>\n",
       "      <th>sample_date</th>\n",
       "      <th>tek_list</th>\n",
       "      <th>extraction_date</th>\n",
       "      <th>extraction_date_with_hour</th>\n",
       "      <th>new_sample_extraction_date</th>\n",
       "      <th>same_day_tek_list</th>\n",
       "    </tr>\n",
       "  </thead>\n",
       "  <tbody>\n",
       "    <tr>\n",
       "      <th>0</th>\n",
       "      <td>ES</td>\n",
       "      <td>2020-10-23</td>\n",
       "      <td>[0c3ac77d-a44c-f133-b810-9b6af4d89ac3, 30fa9e7...</td>\n",
       "      <td>2020-10-24</td>\n",
       "      <td>NaN</td>\n",
       "      <td>2020-10-24</td>\n",
       "      <td>[c183bc1b-ab2d-b3e1-593a-25aa1a70be72, decd21d...</td>\n",
       "    </tr>\n",
       "    <tr>\n",
       "      <th>1</th>\n",
       "      <td>ES</td>\n",
       "      <td>2020-10-22</td>\n",
       "      <td>[90bdf3aa-9f0b-637e-f6cb-23d10feb6a6b, 950663d...</td>\n",
       "      <td>2020-10-23</td>\n",
       "      <td>NaN</td>\n",
       "      <td>2020-10-23</td>\n",
       "      <td>[ffcfb805-c03e-e043-997b-fd875bc22cf2, 8e0508d...</td>\n",
       "    </tr>\n",
       "    <tr>\n",
       "      <th>2</th>\n",
       "      <td>ES</td>\n",
       "      <td>2020-10-21</td>\n",
       "      <td>[40ae3e69-12c6-0482-2912-ea87d48b1aa3, 1afec6b...</td>\n",
       "      <td>2020-10-22</td>\n",
       "      <td>NaN</td>\n",
       "      <td>2020-10-22</td>\n",
       "      <td>[63d1502a-a158-a5d2-001a-cbb82b9abcf5, ed1bc81...</td>\n",
       "    </tr>\n",
       "    <tr>\n",
       "      <th>3</th>\n",
       "      <td>ES</td>\n",
       "      <td>2020-10-20</td>\n",
       "      <td>[0f0e336e-b1c9-a45e-3043-5ed28b80e1b0, e143507...</td>\n",
       "      <td>2020-10-21</td>\n",
       "      <td>NaN</td>\n",
       "      <td>2020-10-21</td>\n",
       "      <td>[97b27565-a475-f559-44f7-2b692ee719c3, a031a2f...</td>\n",
       "    </tr>\n",
       "    <tr>\n",
       "      <th>4</th>\n",
       "      <td>ES</td>\n",
       "      <td>2020-10-19</td>\n",
       "      <td>[1c849f04-e59b-7f45-7e6b-e13356aec58b, 53ea152...</td>\n",
       "      <td>2020-10-20</td>\n",
       "      <td>NaN</td>\n",
       "      <td>2020-10-20</td>\n",
       "      <td>[49c35d4b-f069-88fd-c596-f1e5dea1fc8b, b9dc5ad...</td>\n",
       "    </tr>\n",
       "  </tbody>\n",
       "</table>\n",
       "</div>"
      ],
      "text/plain": [
       "  region sample_date                                           tek_list  \\\n",
       "0     ES  2020-10-23  [0c3ac77d-a44c-f133-b810-9b6af4d89ac3, 30fa9e7...   \n",
       "1     ES  2020-10-22  [90bdf3aa-9f0b-637e-f6cb-23d10feb6a6b, 950663d...   \n",
       "2     ES  2020-10-21  [40ae3e69-12c6-0482-2912-ea87d48b1aa3, 1afec6b...   \n",
       "3     ES  2020-10-20  [0f0e336e-b1c9-a45e-3043-5ed28b80e1b0, e143507...   \n",
       "4     ES  2020-10-19  [1c849f04-e59b-7f45-7e6b-e13356aec58b, 53ea152...   \n",
       "\n",
       "  extraction_date extraction_date_with_hour new_sample_extraction_date  \\\n",
       "0      2020-10-24                       NaN                 2020-10-24   \n",
       "1      2020-10-23                       NaN                 2020-10-23   \n",
       "2      2020-10-22                       NaN                 2020-10-22   \n",
       "3      2020-10-21                       NaN                 2020-10-21   \n",
       "4      2020-10-20                       NaN                 2020-10-20   \n",
       "\n",
       "                                   same_day_tek_list  \n",
       "0  [c183bc1b-ab2d-b3e1-593a-25aa1a70be72, decd21d...  \n",
       "1  [ffcfb805-c03e-e043-997b-fd875bc22cf2, 8e0508d...  \n",
       "2  [63d1502a-a158-a5d2-001a-cbb82b9abcf5, ed1bc81...  \n",
       "3  [97b27565-a475-f559-44f7-2b692ee719c3, a031a2f...  \n",
       "4  [49c35d4b-f069-88fd-c596-f1e5dea1fc8b, b9dc5ad...  "
      ]
     },
     "execution_count": 31,
     "metadata": {},
     "output_type": "execute_result"
    }
   ],
   "source": [
    "same_day_tek_list_df[\"extraction_date\"] = \\\n",
    "    same_day_tek_list_df.extraction_date + datetime.timedelta(1)\n",
    "estimated_shared_diagnoses_df = \\\n",
    "    estimated_shared_diagnoses_df.merge(same_day_tek_list_df, how=\"left\", on=[\"extraction_date\"])\n",
    "estimated_shared_diagnoses_df[\"same_day_tek_list\"] = \\\n",
    "    estimated_shared_diagnoses_df.same_day_tek_list.apply(lambda x: [] if x is np.nan else x)\n",
    "estimated_shared_diagnoses_df.head()"
   ]
  },
  {
   "cell_type": "code",
   "execution_count": 32,
   "metadata": {
    "execution": {
     "iopub.execute_input": "2020-10-24T04:30:51.821149Z",
     "iopub.status.busy": "2020-10-24T04:30:51.820584Z",
     "iopub.status.idle": "2020-10-24T04:30:51.837105Z",
     "shell.execute_reply": "2020-10-24T04:30:51.837548Z"
    },
    "papermill": {
     "duration": 0.078393,
     "end_time": "2020-10-24T04:30:51.837736",
     "exception": false,
     "start_time": "2020-10-24T04:30:51.759343",
     "status": "completed"
    },
    "tags": []
   },
   "outputs": [
    {
     "data": {
      "text/html": [
       "<div>\n",
       "<style scoped>\n",
       "    .dataframe tbody tr th:only-of-type {\n",
       "        vertical-align: middle;\n",
       "    }\n",
       "\n",
       "    .dataframe tbody tr th {\n",
       "        vertical-align: top;\n",
       "    }\n",
       "\n",
       "    .dataframe thead th {\n",
       "        text-align: right;\n",
       "    }\n",
       "</style>\n",
       "<table border=\"1\" class=\"dataframe\">\n",
       "  <thead>\n",
       "    <tr style=\"text-align: right;\">\n",
       "      <th></th>\n",
       "      <th>sample_date_string</th>\n",
       "      <th>shared_diagnoses</th>\n",
       "    </tr>\n",
       "  </thead>\n",
       "  <tbody>\n",
       "    <tr>\n",
       "      <th>0</th>\n",
       "      <td>2020-10-24</td>\n",
       "      <td>11</td>\n",
       "    </tr>\n",
       "    <tr>\n",
       "      <th>1</th>\n",
       "      <td>2020-10-23</td>\n",
       "      <td>145</td>\n",
       "    </tr>\n",
       "    <tr>\n",
       "      <th>2</th>\n",
       "      <td>2020-10-22</td>\n",
       "      <td>132</td>\n",
       "    </tr>\n",
       "    <tr>\n",
       "      <th>3</th>\n",
       "      <td>2020-10-21</td>\n",
       "      <td>153</td>\n",
       "    </tr>\n",
       "    <tr>\n",
       "      <th>4</th>\n",
       "      <td>2020-10-20</td>\n",
       "      <td>135</td>\n",
       "    </tr>\n",
       "  </tbody>\n",
       "</table>\n",
       "</div>"
      ],
      "text/plain": [
       "  sample_date_string  shared_diagnoses\n",
       "0         2020-10-24                11\n",
       "1         2020-10-23               145\n",
       "2         2020-10-22               132\n",
       "3         2020-10-21               153\n",
       "4         2020-10-20               135"
      ]
     },
     "execution_count": 32,
     "metadata": {},
     "output_type": "execute_result"
    }
   ],
   "source": [
    "estimated_shared_diagnoses_df.set_index(\"extraction_date\", inplace=True)\n",
    "estimated_shared_diagnoses_df[\"shared_diagnoses\"] = estimated_shared_diagnoses_df.apply(\n",
    "    lambda x: len(set(x.tek_list).difference(x.same_day_tek_list)), axis=1).copy()\n",
    "estimated_shared_diagnoses_df.reset_index(inplace=True)\n",
    "estimated_shared_diagnoses_df.rename(columns={\n",
    "    \"extraction_date\": \"sample_date_string\"}, inplace=True)\n",
    "estimated_shared_diagnoses_df = estimated_shared_diagnoses_df[[\"sample_date_string\", \"shared_diagnoses\"]]\n",
    "estimated_shared_diagnoses_df[\"sample_date_string\"] = estimated_shared_diagnoses_df.sample_date_string.dt.strftime(\"%Y-%m-%d\")\n",
    "estimated_shared_diagnoses_df.head()"
   ]
  },
  {
   "cell_type": "markdown",
   "metadata": {
    "papermill": {
     "duration": 0.055683,
     "end_time": "2020-10-24T04:30:51.949454",
     "exception": false,
     "start_time": "2020-10-24T04:30:51.893771",
     "status": "completed"
    },
    "pycharm": {
     "name": "#%% md\n"
    },
    "tags": []
   },
   "source": [
    "### Hourly New TEKs"
   ]
  },
  {
   "cell_type": "code",
   "execution_count": 33,
   "metadata": {
    "execution": {
     "iopub.execute_input": "2020-10-24T04:30:52.068497Z",
     "iopub.status.busy": "2020-10-24T04:30:52.067924Z",
     "iopub.status.idle": "2020-10-24T04:30:53.942282Z",
     "shell.execute_reply": "2020-10-24T04:30:53.943341Z"
    },
    "papermill": {
     "duration": 1.938262,
     "end_time": "2020-10-24T04:30:53.943722",
     "exception": false,
     "start_time": "2020-10-24T04:30:52.005460",
     "status": "completed"
    },
    "pycharm": {
     "name": "#%%\n"
    },
    "tags": []
   },
   "outputs": [
    {
     "data": {
      "text/html": [
       "<div>\n",
       "<style scoped>\n",
       "    .dataframe tbody tr th:only-of-type {\n",
       "        vertical-align: middle;\n",
       "    }\n",
       "\n",
       "    .dataframe tbody tr th {\n",
       "        vertical-align: top;\n",
       "    }\n",
       "\n",
       "    .dataframe thead th {\n",
       "        text-align: right;\n",
       "    }\n",
       "</style>\n",
       "<table border=\"1\" class=\"dataframe\">\n",
       "  <thead>\n",
       "    <tr style=\"text-align: right;\">\n",
       "      <th></th>\n",
       "      <th>region</th>\n",
       "      <th>sample_date</th>\n",
       "      <th>tek_list</th>\n",
       "      <th>extraction_date</th>\n",
       "      <th>extraction_date_with_hour</th>\n",
       "    </tr>\n",
       "  </thead>\n",
       "  <tbody>\n",
       "    <tr>\n",
       "      <th>5</th>\n",
       "      <td>ES</td>\n",
       "      <td>2020-10-11</td>\n",
       "      <td>[e3976d47-a0cc-50b0-f445-00528a1128a5, cc14a8f...</td>\n",
       "      <td>2020-10-24</td>\n",
       "      <td>2020-10-24@04</td>\n",
       "    </tr>\n",
       "    <tr>\n",
       "      <th>15</th>\n",
       "      <td>ES</td>\n",
       "      <td>2020-10-12</td>\n",
       "      <td>[a387cfe5-31f1-99fd-dd41-3e12cf93bd84, 98034ea...</td>\n",
       "      <td>2020-10-24</td>\n",
       "      <td>2020-10-24@04</td>\n",
       "    </tr>\n",
       "    <tr>\n",
       "      <th>25</th>\n",
       "      <td>ES</td>\n",
       "      <td>2020-10-13</td>\n",
       "      <td>[72e14bff-08c3-9526-ba63-51a5b5e16ee4, f6329ec...</td>\n",
       "      <td>2020-10-24</td>\n",
       "      <td>2020-10-24@04</td>\n",
       "    </tr>\n",
       "    <tr>\n",
       "      <th>35</th>\n",
       "      <td>ES</td>\n",
       "      <td>2020-10-14</td>\n",
       "      <td>[4cac6f68-e9b0-0369-3b65-7ee6098b0f7d, de3b1e0...</td>\n",
       "      <td>2020-10-24</td>\n",
       "      <td>2020-10-24@04</td>\n",
       "    </tr>\n",
       "    <tr>\n",
       "      <th>45</th>\n",
       "      <td>ES</td>\n",
       "      <td>2020-10-15</td>\n",
       "      <td>[17b1b6cf-ef54-25c1-93ef-d5c1196ef5e6, 4426d19...</td>\n",
       "      <td>2020-10-24</td>\n",
       "      <td>2020-10-24@04</td>\n",
       "    </tr>\n",
       "  </tbody>\n",
       "</table>\n",
       "</div>"
      ],
      "text/plain": [
       "   region sample_date                                           tek_list  \\\n",
       "5      ES  2020-10-11  [e3976d47-a0cc-50b0-f445-00528a1128a5, cc14a8f...   \n",
       "15     ES  2020-10-12  [a387cfe5-31f1-99fd-dd41-3e12cf93bd84, 98034ea...   \n",
       "25     ES  2020-10-13  [72e14bff-08c3-9526-ba63-51a5b5e16ee4, f6329ec...   \n",
       "35     ES  2020-10-14  [4cac6f68-e9b0-0369-3b65-7ee6098b0f7d, de3b1e0...   \n",
       "45     ES  2020-10-15  [17b1b6cf-ef54-25c1-93ef-d5c1196ef5e6, 4426d19...   \n",
       "\n",
       "   extraction_date extraction_date_with_hour  \n",
       "5       2020-10-24             2020-10-24@04  \n",
       "15      2020-10-24             2020-10-24@04  \n",
       "25      2020-10-24             2020-10-24@04  \n",
       "35      2020-10-24             2020-10-24@04  \n",
       "45      2020-10-24             2020-10-24@04  "
      ]
     },
     "execution_count": 33,
     "metadata": {},
     "output_type": "execute_result"
    }
   ],
   "source": [
    "hourly_extracted_teks_df = load_extracted_teks(\n",
    "    mode=\"Hourly\", region=report_backend_identifier, limit=25)\n",
    "hourly_extracted_teks_df.head()"
   ]
  },
  {
   "cell_type": "code",
   "execution_count": 34,
   "metadata": {
    "collapsed": false,
    "execution": {
     "iopub.execute_input": "2020-10-24T04:30:54.078405Z",
     "iopub.status.busy": "2020-10-24T04:30:54.077839Z",
     "iopub.status.idle": "2020-10-24T04:30:54.138086Z",
     "shell.execute_reply": "2020-10-24T04:30:54.138530Z"
    },
    "papermill": {
     "duration": 0.125231,
     "end_time": "2020-10-24T04:30:54.138685",
     "exception": false,
     "start_time": "2020-10-24T04:30:54.013454",
     "status": "completed"
    },
    "pycharm": {
     "name": "#%%\n"
    },
    "tags": []
   },
   "outputs": [
    {
     "data": {
      "text/html": [
       "<div>\n",
       "<style scoped>\n",
       "    .dataframe tbody tr th:only-of-type {\n",
       "        vertical-align: middle;\n",
       "    }\n",
       "\n",
       "    .dataframe tbody tr th {\n",
       "        vertical-align: top;\n",
       "    }\n",
       "\n",
       "    .dataframe thead th {\n",
       "        text-align: right;\n",
       "    }\n",
       "</style>\n",
       "<table border=\"1\" class=\"dataframe\">\n",
       "  <thead>\n",
       "    <tr style=\"text-align: right;\">\n",
       "      <th></th>\n",
       "      <th>extraction_date_with_hour</th>\n",
       "      <th>shared_teks_by_upload_date</th>\n",
       "    </tr>\n",
       "  </thead>\n",
       "  <tbody>\n",
       "    <tr>\n",
       "      <th>0</th>\n",
       "      <td>2020-10-23@03</td>\n",
       "      <td>0</td>\n",
       "    </tr>\n",
       "    <tr>\n",
       "      <th>1</th>\n",
       "      <td>2020-10-23@04</td>\n",
       "      <td>5</td>\n",
       "    </tr>\n",
       "    <tr>\n",
       "      <th>2</th>\n",
       "      <td>2020-10-23@05</td>\n",
       "      <td>0</td>\n",
       "    </tr>\n",
       "    <tr>\n",
       "      <th>3</th>\n",
       "      <td>2020-10-23@06</td>\n",
       "      <td>6</td>\n",
       "    </tr>\n",
       "    <tr>\n",
       "      <th>4</th>\n",
       "      <td>2020-10-23@07</td>\n",
       "      <td>0</td>\n",
       "    </tr>\n",
       "  </tbody>\n",
       "</table>\n",
       "</div>"
      ],
      "text/plain": [
       "  extraction_date_with_hour  shared_teks_by_upload_date\n",
       "0             2020-10-23@03                           0\n",
       "1             2020-10-23@04                           5\n",
       "2             2020-10-23@05                           0\n",
       "3             2020-10-23@06                           6\n",
       "4             2020-10-23@07                           0"
      ]
     },
     "execution_count": 34,
     "metadata": {},
     "output_type": "execute_result"
    }
   ],
   "source": [
    "hourly_new_tek_count_df = hourly_extracted_teks_df \\\n",
    "    .groupby(\"extraction_date_with_hour\").tek_list. \\\n",
    "    apply(lambda x: set(sum(x, []))).reset_index().copy()\n",
    "hourly_new_tek_count_df = hourly_new_tek_count_df.set_index(\"extraction_date_with_hour\") \\\n",
    "    .sort_index(ascending=True)\n",
    "\n",
    "hourly_new_tek_count_df[\"new_tek_list\"] = hourly_new_tek_count_df.tek_list.diff()\n",
    "hourly_new_tek_count_df[\"new_tek_count\"] = hourly_new_tek_count_df.new_tek_list.apply(\n",
    "    lambda x: len(x) if not pd.isna(x) else 0)\n",
    "hourly_new_tek_count_df.rename(columns={\n",
    "    \"new_tek_count\": \"shared_teks_by_upload_date\"}, inplace=True)\n",
    "hourly_new_tek_count_df = hourly_new_tek_count_df.reset_index()[[\n",
    "    \"extraction_date_with_hour\", \"shared_teks_by_upload_date\"]]\n",
    "hourly_new_tek_count_df.head()"
   ]
  },
  {
   "cell_type": "code",
   "execution_count": 35,
   "metadata": {
    "execution": {
     "iopub.execute_input": "2020-10-24T04:30:54.262517Z",
     "iopub.status.busy": "2020-10-24T04:30:54.261981Z",
     "iopub.status.idle": "2020-10-24T04:30:54.291495Z",
     "shell.execute_reply": "2020-10-24T04:30:54.291936Z"
    },
    "papermill": {
     "duration": 0.094916,
     "end_time": "2020-10-24T04:30:54.292093",
     "exception": false,
     "start_time": "2020-10-24T04:30:54.197177",
     "status": "completed"
    },
    "pycharm": {
     "name": "#%%\n"
    },
    "tags": []
   },
   "outputs": [
    {
     "data": {
      "text/html": [
       "<div>\n",
       "<style scoped>\n",
       "    .dataframe tbody tr th:only-of-type {\n",
       "        vertical-align: middle;\n",
       "    }\n",
       "\n",
       "    .dataframe tbody tr th {\n",
       "        vertical-align: top;\n",
       "    }\n",
       "\n",
       "    .dataframe thead th {\n",
       "        text-align: right;\n",
       "    }\n",
       "</style>\n",
       "<table border=\"1\" class=\"dataframe\">\n",
       "  <thead>\n",
       "    <tr style=\"text-align: right;\">\n",
       "      <th></th>\n",
       "      <th>extraction_date_with_hour</th>\n",
       "      <th>shared_diagnoses</th>\n",
       "    </tr>\n",
       "  </thead>\n",
       "  <tbody>\n",
       "    <tr>\n",
       "      <th>0</th>\n",
       "      <td>2020-10-23@03</td>\n",
       "      <td>0</td>\n",
       "    </tr>\n",
       "    <tr>\n",
       "      <th>1</th>\n",
       "      <td>2020-10-23@04</td>\n",
       "      <td>1</td>\n",
       "    </tr>\n",
       "    <tr>\n",
       "      <th>2</th>\n",
       "      <td>2020-10-23@05</td>\n",
       "      <td>0</td>\n",
       "    </tr>\n",
       "    <tr>\n",
       "      <th>3</th>\n",
       "      <td>2020-10-23@06</td>\n",
       "      <td>1</td>\n",
       "    </tr>\n",
       "    <tr>\n",
       "      <th>4</th>\n",
       "      <td>2020-10-23@07</td>\n",
       "      <td>0</td>\n",
       "    </tr>\n",
       "  </tbody>\n",
       "</table>\n",
       "</div>"
      ],
      "text/plain": [
       "  extraction_date_with_hour  shared_diagnoses\n",
       "0             2020-10-23@03                 0\n",
       "1             2020-10-23@04                 1\n",
       "2             2020-10-23@05                 0\n",
       "3             2020-10-23@06                 1\n",
       "4             2020-10-23@07                 0"
      ]
     },
     "execution_count": 35,
     "metadata": {},
     "output_type": "execute_result"
    }
   ],
   "source": [
    "hourly_estimated_shared_diagnoses_df = hourly_extracted_teks_df.copy()\n",
    "hourly_estimated_shared_diagnoses_df[\"new_sample_extraction_date\"] = \\\n",
    "    pd.to_datetime(hourly_estimated_shared_diagnoses_df.sample_date) + datetime.timedelta(1)\n",
    "hourly_estimated_shared_diagnoses_df[\"extraction_date\"] = \\\n",
    "    pd.to_datetime(hourly_estimated_shared_diagnoses_df.extraction_date)\n",
    "\n",
    "hourly_estimated_shared_diagnoses_df = hourly_estimated_shared_diagnoses_df[\n",
    "    hourly_estimated_shared_diagnoses_df.new_sample_extraction_date ==\n",
    "    hourly_estimated_shared_diagnoses_df.extraction_date]\n",
    "hourly_estimated_shared_diagnoses_df = \\\n",
    "    hourly_estimated_shared_diagnoses_df.merge(same_day_tek_list_df, how=\"left\", on=[\"extraction_date\"])\n",
    "hourly_estimated_shared_diagnoses_df[\"same_day_tek_list\"] = \\\n",
    "    hourly_estimated_shared_diagnoses_df.same_day_tek_list.apply(lambda x: [] if x is np.nan else x)\n",
    "hourly_estimated_shared_diagnoses_df[\"shared_diagnoses\"] = hourly_estimated_shared_diagnoses_df.apply(\n",
    "    lambda x: len(set(x.tek_list).difference(x.same_day_tek_list)), axis=1)\n",
    "hourly_estimated_shared_diagnoses_df = \\\n",
    "    hourly_estimated_shared_diagnoses_df.sort_values(\"extraction_date_with_hour\").copy()\n",
    "hourly_estimated_shared_diagnoses_df[\"shared_diagnoses\"] = hourly_estimated_shared_diagnoses_df \\\n",
    "    .groupby(\"extraction_date\").shared_diagnoses.diff() \\\n",
    "    .fillna(0).astype(int)\n",
    "\n",
    "hourly_estimated_shared_diagnoses_df.set_index(\"extraction_date_with_hour\", inplace=True)\n",
    "hourly_estimated_shared_diagnoses_df.reset_index(inplace=True)\n",
    "hourly_estimated_shared_diagnoses_df = hourly_estimated_shared_diagnoses_df[[\n",
    "    \"extraction_date_with_hour\", \"shared_diagnoses\"]]\n",
    "hourly_estimated_shared_diagnoses_df.head()"
   ]
  },
  {
   "cell_type": "code",
   "execution_count": 36,
   "metadata": {
    "collapsed": false,
    "execution": {
     "iopub.execute_input": "2020-10-24T04:30:54.418608Z",
     "iopub.status.busy": "2020-10-24T04:30:54.418051Z",
     "iopub.status.idle": "2020-10-24T04:30:54.430979Z",
     "shell.execute_reply": "2020-10-24T04:30:54.430508Z"
    },
    "papermill": {
     "duration": 0.076313,
     "end_time": "2020-10-24T04:30:54.431103",
     "exception": false,
     "start_time": "2020-10-24T04:30:54.354790",
     "status": "completed"
    },
    "pycharm": {
     "name": "#%%\n"
    },
    "tags": []
   },
   "outputs": [
    {
     "data": {
      "text/html": [
       "<div>\n",
       "<style scoped>\n",
       "    .dataframe tbody tr th:only-of-type {\n",
       "        vertical-align: middle;\n",
       "    }\n",
       "\n",
       "    .dataframe tbody tr th {\n",
       "        vertical-align: top;\n",
       "    }\n",
       "\n",
       "    .dataframe thead th {\n",
       "        text-align: right;\n",
       "    }\n",
       "</style>\n",
       "<table border=\"1\" class=\"dataframe\">\n",
       "  <thead>\n",
       "    <tr style=\"text-align: right;\">\n",
       "      <th></th>\n",
       "      <th>extraction_date_with_hour</th>\n",
       "      <th>shared_teks_by_upload_date</th>\n",
       "      <th>shared_diagnoses</th>\n",
       "    </tr>\n",
       "    <tr>\n",
       "      <th>datetime_utc</th>\n",
       "      <th></th>\n",
       "      <th></th>\n",
       "      <th></th>\n",
       "    </tr>\n",
       "  </thead>\n",
       "  <tbody>\n",
       "    <tr>\n",
       "      <th>2020-10-23 04:00:00</th>\n",
       "      <td>2020-10-23@04</td>\n",
       "      <td>5</td>\n",
       "      <td>1</td>\n",
       "    </tr>\n",
       "    <tr>\n",
       "      <th>2020-10-23 05:00:00</th>\n",
       "      <td>2020-10-23@05</td>\n",
       "      <td>0</td>\n",
       "      <td>0</td>\n",
       "    </tr>\n",
       "    <tr>\n",
       "      <th>2020-10-23 06:00:00</th>\n",
       "      <td>2020-10-23@06</td>\n",
       "      <td>6</td>\n",
       "      <td>1</td>\n",
       "    </tr>\n",
       "    <tr>\n",
       "      <th>2020-10-23 07:00:00</th>\n",
       "      <td>2020-10-23@07</td>\n",
       "      <td>0</td>\n",
       "      <td>0</td>\n",
       "    </tr>\n",
       "    <tr>\n",
       "      <th>2020-10-23 08:00:00</th>\n",
       "      <td>2020-10-23@08</td>\n",
       "      <td>85</td>\n",
       "      <td>18</td>\n",
       "    </tr>\n",
       "  </tbody>\n",
       "</table>\n",
       "</div>"
      ],
      "text/plain": [
       "                    extraction_date_with_hour  shared_teks_by_upload_date  \\\n",
       "datetime_utc                                                                \n",
       "2020-10-23 04:00:00             2020-10-23@04                           5   \n",
       "2020-10-23 05:00:00             2020-10-23@05                           0   \n",
       "2020-10-23 06:00:00             2020-10-23@06                           6   \n",
       "2020-10-23 07:00:00             2020-10-23@07                           0   \n",
       "2020-10-23 08:00:00             2020-10-23@08                          85   \n",
       "\n",
       "                     shared_diagnoses  \n",
       "datetime_utc                           \n",
       "2020-10-23 04:00:00                 1  \n",
       "2020-10-23 05:00:00                 0  \n",
       "2020-10-23 06:00:00                 1  \n",
       "2020-10-23 07:00:00                 0  \n",
       "2020-10-23 08:00:00                18  "
      ]
     },
     "execution_count": 36,
     "metadata": {},
     "output_type": "execute_result"
    }
   ],
   "source": [
    "hourly_summary_df = hourly_new_tek_count_df.merge(\n",
    "    hourly_estimated_shared_diagnoses_df, on=[\"extraction_date_with_hour\"], how=\"outer\")\n",
    "hourly_summary_df.set_index(\"extraction_date_with_hour\", inplace=True)\n",
    "hourly_summary_df = hourly_summary_df.fillna(0).astype(int).reset_index()\n",
    "hourly_summary_df[\"datetime_utc\"] = pd.to_datetime(\n",
    "    hourly_summary_df.extraction_date_with_hour, format=\"%Y-%m-%d@%H\")\n",
    "hourly_summary_df.set_index(\"datetime_utc\", inplace=True)\n",
    "hourly_summary_df = hourly_summary_df.tail(-1)\n",
    "hourly_summary_df.head()"
   ]
  },
  {
   "cell_type": "markdown",
   "metadata": {
    "collapsed": false,
    "papermill": {
     "duration": 0.057263,
     "end_time": "2020-10-24T04:30:54.544164",
     "exception": false,
     "start_time": "2020-10-24T04:30:54.486901",
     "status": "completed"
    },
    "pycharm": {
     "name": "#%% md\n"
    },
    "tags": []
   },
   "source": [
    "### Data Merge"
   ]
  },
  {
   "cell_type": "code",
   "execution_count": 37,
   "metadata": {
    "collapsed": false,
    "execution": {
     "iopub.execute_input": "2020-10-24T04:30:54.671625Z",
     "iopub.status.busy": "2020-10-24T04:30:54.670896Z",
     "iopub.status.idle": "2020-10-24T04:30:54.673242Z",
     "shell.execute_reply": "2020-10-24T04:30:54.673701Z"
    },
    "papermill": {
     "duration": 0.072887,
     "end_time": "2020-10-24T04:30:54.673857",
     "exception": false,
     "start_time": "2020-10-24T04:30:54.600970",
     "status": "completed"
    },
    "pycharm": {
     "name": "#%%\n"
    },
    "tags": []
   },
   "outputs": [
    {
     "data": {
      "text/html": [
       "<div>\n",
       "<style scoped>\n",
       "    .dataframe tbody tr th:only-of-type {\n",
       "        vertical-align: middle;\n",
       "    }\n",
       "\n",
       "    .dataframe tbody tr th {\n",
       "        vertical-align: top;\n",
       "    }\n",
       "\n",
       "    .dataframe thead th {\n",
       "        text-align: right;\n",
       "    }\n",
       "</style>\n",
       "<table border=\"1\" class=\"dataframe\">\n",
       "  <thead>\n",
       "    <tr style=\"text-align: right;\">\n",
       "      <th></th>\n",
       "      <th>sample_date_string</th>\n",
       "      <th>shared_teks_by_generation_date</th>\n",
       "      <th>shared_teks_by_upload_date</th>\n",
       "    </tr>\n",
       "  </thead>\n",
       "  <tbody>\n",
       "    <tr>\n",
       "      <th>0</th>\n",
       "      <td>2020-10-24</td>\n",
       "      <td>3</td>\n",
       "      <td>22.0</td>\n",
       "    </tr>\n",
       "    <tr>\n",
       "      <th>1</th>\n",
       "      <td>2020-10-23</td>\n",
       "      <td>178</td>\n",
       "      <td>769.0</td>\n",
       "    </tr>\n",
       "    <tr>\n",
       "      <th>2</th>\n",
       "      <td>2020-10-22</td>\n",
       "      <td>327</td>\n",
       "      <td>726.0</td>\n",
       "    </tr>\n",
       "    <tr>\n",
       "      <th>3</th>\n",
       "      <td>2020-10-21</td>\n",
       "      <td>420</td>\n",
       "      <td>841.0</td>\n",
       "    </tr>\n",
       "    <tr>\n",
       "      <th>4</th>\n",
       "      <td>2020-10-20</td>\n",
       "      <td>524</td>\n",
       "      <td>772.0</td>\n",
       "    </tr>\n",
       "  </tbody>\n",
       "</table>\n",
       "</div>"
      ],
      "text/plain": [
       "  sample_date_string  shared_teks_by_generation_date  \\\n",
       "0         2020-10-24                               3   \n",
       "1         2020-10-23                             178   \n",
       "2         2020-10-22                             327   \n",
       "3         2020-10-21                             420   \n",
       "4         2020-10-20                             524   \n",
       "\n",
       "   shared_teks_by_upload_date  \n",
       "0                        22.0  \n",
       "1                       769.0  \n",
       "2                       726.0  \n",
       "3                       841.0  \n",
       "4                       772.0  "
      ]
     },
     "execution_count": 37,
     "metadata": {},
     "output_type": "execute_result"
    }
   ],
   "source": [
    "result_summary_df = exposure_keys_summary_df.merge(\n",
    "    new_tek_df, on=[\"sample_date_string\"], how=\"outer\")\n",
    "result_summary_df.head()"
   ]
  },
  {
   "cell_type": "code",
   "execution_count": 38,
   "metadata": {
    "execution": {
     "iopub.execute_input": "2020-10-24T04:30:54.804536Z",
     "iopub.status.busy": "2020-10-24T04:30:54.804003Z",
     "iopub.status.idle": "2020-10-24T04:30:54.808673Z",
     "shell.execute_reply": "2020-10-24T04:30:54.808192Z"
    },
    "papermill": {
     "duration": 0.075643,
     "end_time": "2020-10-24T04:30:54.808789",
     "exception": false,
     "start_time": "2020-10-24T04:30:54.733146",
     "status": "completed"
    },
    "tags": []
   },
   "outputs": [
    {
     "data": {
      "text/html": [
       "<div>\n",
       "<style scoped>\n",
       "    .dataframe tbody tr th:only-of-type {\n",
       "        vertical-align: middle;\n",
       "    }\n",
       "\n",
       "    .dataframe tbody tr th {\n",
       "        vertical-align: top;\n",
       "    }\n",
       "\n",
       "    .dataframe thead th {\n",
       "        text-align: right;\n",
       "    }\n",
       "</style>\n",
       "<table border=\"1\" class=\"dataframe\">\n",
       "  <thead>\n",
       "    <tr style=\"text-align: right;\">\n",
       "      <th></th>\n",
       "      <th>sample_date_string</th>\n",
       "      <th>shared_teks_by_generation_date</th>\n",
       "      <th>shared_teks_by_upload_date</th>\n",
       "      <th>shared_teks_uploaded_on_generation_date</th>\n",
       "    </tr>\n",
       "  </thead>\n",
       "  <tbody>\n",
       "    <tr>\n",
       "      <th>0</th>\n",
       "      <td>2020-10-24</td>\n",
       "      <td>3</td>\n",
       "      <td>22.0</td>\n",
       "      <td>3.0</td>\n",
       "    </tr>\n",
       "    <tr>\n",
       "      <th>1</th>\n",
       "      <td>2020-10-23</td>\n",
       "      <td>178</td>\n",
       "      <td>769.0</td>\n",
       "      <td>167.0</td>\n",
       "    </tr>\n",
       "    <tr>\n",
       "      <th>2</th>\n",
       "      <td>2020-10-22</td>\n",
       "      <td>327</td>\n",
       "      <td>726.0</td>\n",
       "      <td>180.0</td>\n",
       "    </tr>\n",
       "    <tr>\n",
       "      <th>3</th>\n",
       "      <td>2020-10-21</td>\n",
       "      <td>420</td>\n",
       "      <td>841.0</td>\n",
       "      <td>157.0</td>\n",
       "    </tr>\n",
       "    <tr>\n",
       "      <th>4</th>\n",
       "      <td>2020-10-20</td>\n",
       "      <td>524</td>\n",
       "      <td>772.0</td>\n",
       "      <td>149.0</td>\n",
       "    </tr>\n",
       "  </tbody>\n",
       "</table>\n",
       "</div>"
      ],
      "text/plain": [
       "  sample_date_string  shared_teks_by_generation_date  \\\n",
       "0         2020-10-24                               3   \n",
       "1         2020-10-23                             178   \n",
       "2         2020-10-22                             327   \n",
       "3         2020-10-21                             420   \n",
       "4         2020-10-20                             524   \n",
       "\n",
       "   shared_teks_by_upload_date  shared_teks_uploaded_on_generation_date  \n",
       "0                        22.0                                      3.0  \n",
       "1                       769.0                                    167.0  \n",
       "2                       726.0                                    180.0  \n",
       "3                       841.0                                    157.0  \n",
       "4                       772.0                                    149.0  "
      ]
     },
     "execution_count": 38,
     "metadata": {},
     "output_type": "execute_result"
    }
   ],
   "source": [
    "result_summary_df = result_summary_df.merge(\n",
    "    shared_teks_uploaded_on_generation_date_df, on=[\"sample_date_string\"], how=\"outer\")\n",
    "result_summary_df.head()"
   ]
  },
  {
   "cell_type": "code",
   "execution_count": 39,
   "metadata": {
    "collapsed": false,
    "execution": {
     "iopub.execute_input": "2020-10-24T04:30:54.946645Z",
     "iopub.status.busy": "2020-10-24T04:30:54.946064Z",
     "iopub.status.idle": "2020-10-24T04:30:54.949170Z",
     "shell.execute_reply": "2020-10-24T04:30:54.949623Z"
    },
    "papermill": {
     "duration": 0.083781,
     "end_time": "2020-10-24T04:30:54.949803",
     "exception": false,
     "start_time": "2020-10-24T04:30:54.866022",
     "status": "completed"
    },
    "pycharm": {
     "name": "#%%\n"
    },
    "tags": []
   },
   "outputs": [
    {
     "data": {
      "text/html": [
       "<div>\n",
       "<style scoped>\n",
       "    .dataframe tbody tr th:only-of-type {\n",
       "        vertical-align: middle;\n",
       "    }\n",
       "\n",
       "    .dataframe tbody tr th {\n",
       "        vertical-align: top;\n",
       "    }\n",
       "\n",
       "    .dataframe thead th {\n",
       "        text-align: right;\n",
       "    }\n",
       "</style>\n",
       "<table border=\"1\" class=\"dataframe\">\n",
       "  <thead>\n",
       "    <tr style=\"text-align: right;\">\n",
       "      <th></th>\n",
       "      <th>sample_date_string</th>\n",
       "      <th>shared_teks_by_generation_date</th>\n",
       "      <th>shared_teks_by_upload_date</th>\n",
       "      <th>shared_teks_uploaded_on_generation_date</th>\n",
       "      <th>shared_diagnoses</th>\n",
       "    </tr>\n",
       "  </thead>\n",
       "  <tbody>\n",
       "    <tr>\n",
       "      <th>0</th>\n",
       "      <td>2020-10-24</td>\n",
       "      <td>3</td>\n",
       "      <td>22.0</td>\n",
       "      <td>3.0</td>\n",
       "      <td>11.0</td>\n",
       "    </tr>\n",
       "    <tr>\n",
       "      <th>1</th>\n",
       "      <td>2020-10-23</td>\n",
       "      <td>178</td>\n",
       "      <td>769.0</td>\n",
       "      <td>167.0</td>\n",
       "      <td>145.0</td>\n",
       "    </tr>\n",
       "    <tr>\n",
       "      <th>2</th>\n",
       "      <td>2020-10-22</td>\n",
       "      <td>327</td>\n",
       "      <td>726.0</td>\n",
       "      <td>180.0</td>\n",
       "      <td>132.0</td>\n",
       "    </tr>\n",
       "    <tr>\n",
       "      <th>3</th>\n",
       "      <td>2020-10-21</td>\n",
       "      <td>420</td>\n",
       "      <td>841.0</td>\n",
       "      <td>157.0</td>\n",
       "      <td>153.0</td>\n",
       "    </tr>\n",
       "    <tr>\n",
       "      <th>4</th>\n",
       "      <td>2020-10-20</td>\n",
       "      <td>524</td>\n",
       "      <td>772.0</td>\n",
       "      <td>149.0</td>\n",
       "      <td>135.0</td>\n",
       "    </tr>\n",
       "  </tbody>\n",
       "</table>\n",
       "</div>"
      ],
      "text/plain": [
       "  sample_date_string  shared_teks_by_generation_date  \\\n",
       "0         2020-10-24                               3   \n",
       "1         2020-10-23                             178   \n",
       "2         2020-10-22                             327   \n",
       "3         2020-10-21                             420   \n",
       "4         2020-10-20                             524   \n",
       "\n",
       "   shared_teks_by_upload_date  shared_teks_uploaded_on_generation_date  \\\n",
       "0                        22.0                                      3.0   \n",
       "1                       769.0                                    167.0   \n",
       "2                       726.0                                    180.0   \n",
       "3                       841.0                                    157.0   \n",
       "4                       772.0                                    149.0   \n",
       "\n",
       "   shared_diagnoses  \n",
       "0              11.0  \n",
       "1             145.0  \n",
       "2             132.0  \n",
       "3             153.0  \n",
       "4             135.0  "
      ]
     },
     "execution_count": 39,
     "metadata": {},
     "output_type": "execute_result"
    }
   ],
   "source": [
    "result_summary_df = result_summary_df.merge(\n",
    "    estimated_shared_diagnoses_df, on=[\"sample_date_string\"], how=\"outer\")\n",
    "result_summary_df.head()"
   ]
  },
  {
   "cell_type": "code",
   "execution_count": 40,
   "metadata": {
    "collapsed": false,
    "execution": {
     "iopub.execute_input": "2020-10-24T04:30:55.095409Z",
     "iopub.status.busy": "2020-10-24T04:30:55.084896Z",
     "iopub.status.idle": "2020-10-24T04:30:55.096963Z",
     "shell.execute_reply": "2020-10-24T04:30:55.097481Z"
    },
    "papermill": {
     "duration": 0.078545,
     "end_time": "2020-10-24T04:30:55.097660",
     "exception": false,
     "start_time": "2020-10-24T04:30:55.019115",
     "status": "completed"
    },
    "pycharm": {
     "name": "#%%\n"
    },
    "tags": []
   },
   "outputs": [
    {
     "data": {
      "text/html": [
       "<div>\n",
       "<style scoped>\n",
       "    .dataframe tbody tr th:only-of-type {\n",
       "        vertical-align: middle;\n",
       "    }\n",
       "\n",
       "    .dataframe tbody tr th {\n",
       "        vertical-align: top;\n",
       "    }\n",
       "\n",
       "    .dataframe thead th {\n",
       "        text-align: right;\n",
       "    }\n",
       "</style>\n",
       "<table border=\"1\" class=\"dataframe\">\n",
       "  <thead>\n",
       "    <tr style=\"text-align: right;\">\n",
       "      <th></th>\n",
       "      <th>sample_date_string</th>\n",
       "      <th>new_cases</th>\n",
       "      <th>covid_cases</th>\n",
       "      <th>shared_teks_by_generation_date</th>\n",
       "      <th>shared_teks_by_upload_date</th>\n",
       "      <th>shared_teks_uploaded_on_generation_date</th>\n",
       "      <th>shared_diagnoses</th>\n",
       "    </tr>\n",
       "  </thead>\n",
       "  <tbody>\n",
       "    <tr>\n",
       "      <th>0</th>\n",
       "      <td>2020-07-31</td>\n",
       "      <td>3092</td>\n",
       "      <td>2300</td>\n",
       "      <td>NaN</td>\n",
       "      <td>NaN</td>\n",
       "      <td>NaN</td>\n",
       "      <td>NaN</td>\n",
       "    </tr>\n",
       "    <tr>\n",
       "      <th>1</th>\n",
       "      <td>2020-08-01</td>\n",
       "      <td>0</td>\n",
       "      <td>2300</td>\n",
       "      <td>NaN</td>\n",
       "      <td>NaN</td>\n",
       "      <td>NaN</td>\n",
       "      <td>NaN</td>\n",
       "    </tr>\n",
       "    <tr>\n",
       "      <th>2</th>\n",
       "      <td>2020-08-02</td>\n",
       "      <td>0</td>\n",
       "      <td>2300</td>\n",
       "      <td>NaN</td>\n",
       "      <td>NaN</td>\n",
       "      <td>NaN</td>\n",
       "      <td>NaN</td>\n",
       "    </tr>\n",
       "    <tr>\n",
       "      <th>3</th>\n",
       "      <td>2020-08-03</td>\n",
       "      <td>8532</td>\n",
       "      <td>2610</td>\n",
       "      <td>NaN</td>\n",
       "      <td>NaN</td>\n",
       "      <td>NaN</td>\n",
       "      <td>NaN</td>\n",
       "    </tr>\n",
       "    <tr>\n",
       "      <th>4</th>\n",
       "      <td>2020-08-04</td>\n",
       "      <td>5760</td>\n",
       "      <td>3172</td>\n",
       "      <td>NaN</td>\n",
       "      <td>NaN</td>\n",
       "      <td>NaN</td>\n",
       "      <td>NaN</td>\n",
       "    </tr>\n",
       "  </tbody>\n",
       "</table>\n",
       "</div>"
      ],
      "text/plain": [
       "  sample_date_string  new_cases  covid_cases  shared_teks_by_generation_date  \\\n",
       "0         2020-07-31       3092         2300                             NaN   \n",
       "1         2020-08-01          0         2300                             NaN   \n",
       "2         2020-08-02          0         2300                             NaN   \n",
       "3         2020-08-03       8532         2610                             NaN   \n",
       "4         2020-08-04       5760         3172                             NaN   \n",
       "\n",
       "   shared_teks_by_upload_date  shared_teks_uploaded_on_generation_date  \\\n",
       "0                         NaN                                      NaN   \n",
       "1                         NaN                                      NaN   \n",
       "2                         NaN                                      NaN   \n",
       "3                         NaN                                      NaN   \n",
       "4                         NaN                                      NaN   \n",
       "\n",
       "   shared_diagnoses  \n",
       "0               NaN  \n",
       "1               NaN  \n",
       "2               NaN  \n",
       "3               NaN  \n",
       "4               NaN  "
      ]
     },
     "execution_count": 40,
     "metadata": {},
     "output_type": "execute_result"
    }
   ],
   "source": [
    "result_summary_df = confirmed_df.tail(daily_summary_days).merge(\n",
    "    result_summary_df, on=[\"sample_date_string\"], how=\"left\")\n",
    "result_summary_df.head()"
   ]
  },
  {
   "cell_type": "code",
   "execution_count": 41,
   "metadata": {
    "collapsed": false,
    "execution": {
     "iopub.execute_input": "2020-10-24T04:30:55.226553Z",
     "iopub.status.busy": "2020-10-24T04:30:55.225983Z",
     "iopub.status.idle": "2020-10-24T04:30:55.238676Z",
     "shell.execute_reply": "2020-10-24T04:30:55.238209Z"
    },
    "papermill": {
     "duration": 0.080441,
     "end_time": "2020-10-24T04:30:55.238800",
     "exception": false,
     "start_time": "2020-10-24T04:30:55.158359",
     "status": "completed"
    },
    "pycharm": {
     "name": "#%%\n"
    },
    "tags": []
   },
   "outputs": [
    {
     "data": {
      "text/html": [
       "<div>\n",
       "<style scoped>\n",
       "    .dataframe tbody tr th:only-of-type {\n",
       "        vertical-align: middle;\n",
       "    }\n",
       "\n",
       "    .dataframe tbody tr th {\n",
       "        vertical-align: top;\n",
       "    }\n",
       "\n",
       "    .dataframe thead th {\n",
       "        text-align: right;\n",
       "    }\n",
       "</style>\n",
       "<table border=\"1\" class=\"dataframe\">\n",
       "  <thead>\n",
       "    <tr style=\"text-align: right;\">\n",
       "      <th></th>\n",
       "      <th>new_cases</th>\n",
       "      <th>covid_cases</th>\n",
       "      <th>shared_teks_by_generation_date</th>\n",
       "      <th>shared_teks_by_upload_date</th>\n",
       "      <th>shared_teks_uploaded_on_generation_date</th>\n",
       "      <th>shared_diagnoses</th>\n",
       "    </tr>\n",
       "    <tr>\n",
       "      <th>sample_date</th>\n",
       "      <th></th>\n",
       "      <th></th>\n",
       "      <th></th>\n",
       "      <th></th>\n",
       "      <th></th>\n",
       "      <th></th>\n",
       "    </tr>\n",
       "  </thead>\n",
       "  <tbody>\n",
       "    <tr>\n",
       "      <th>2020-10-22</th>\n",
       "      <td>20986</td>\n",
       "      <td>14987</td>\n",
       "      <td>327.0</td>\n",
       "      <td>726.0</td>\n",
       "      <td>180.0</td>\n",
       "      <td>132.0</td>\n",
       "    </tr>\n",
       "    <tr>\n",
       "      <th>2020-10-21</th>\n",
       "      <td>16973</td>\n",
       "      <td>13891</td>\n",
       "      <td>420.0</td>\n",
       "      <td>841.0</td>\n",
       "      <td>157.0</td>\n",
       "      <td>153.0</td>\n",
       "    </tr>\n",
       "    <tr>\n",
       "      <th>2020-10-20</th>\n",
       "      <td>13873</td>\n",
       "      <td>13177</td>\n",
       "      <td>524.0</td>\n",
       "      <td>772.0</td>\n",
       "      <td>149.0</td>\n",
       "      <td>135.0</td>\n",
       "    </tr>\n",
       "    <tr>\n",
       "      <th>2020-10-19</th>\n",
       "      <td>37889</td>\n",
       "      <td>12212</td>\n",
       "      <td>600.0</td>\n",
       "      <td>791.0</td>\n",
       "      <td>142.0</td>\n",
       "      <td>123.0</td>\n",
       "    </tr>\n",
       "    <tr>\n",
       "      <th>2020-10-18</th>\n",
       "      <td>0</td>\n",
       "      <td>10778</td>\n",
       "      <td>642.0</td>\n",
       "      <td>726.0</td>\n",
       "      <td>146.0</td>\n",
       "      <td>132.0</td>\n",
       "    </tr>\n",
       "  </tbody>\n",
       "</table>\n",
       "</div>"
      ],
      "text/plain": [
       "             new_cases  covid_cases  shared_teks_by_generation_date  \\\n",
       "sample_date                                                           \n",
       "2020-10-22       20986        14987                           327.0   \n",
       "2020-10-21       16973        13891                           420.0   \n",
       "2020-10-20       13873        13177                           524.0   \n",
       "2020-10-19       37889        12212                           600.0   \n",
       "2020-10-18           0        10778                           642.0   \n",
       "\n",
       "             shared_teks_by_upload_date  \\\n",
       "sample_date                               \n",
       "2020-10-22                        726.0   \n",
       "2020-10-21                        841.0   \n",
       "2020-10-20                        772.0   \n",
       "2020-10-19                        791.0   \n",
       "2020-10-18                        726.0   \n",
       "\n",
       "             shared_teks_uploaded_on_generation_date  shared_diagnoses  \n",
       "sample_date                                                             \n",
       "2020-10-22                                     180.0             132.0  \n",
       "2020-10-21                                     157.0             153.0  \n",
       "2020-10-20                                     149.0             135.0  \n",
       "2020-10-19                                     142.0             123.0  \n",
       "2020-10-18                                     146.0             132.0  "
      ]
     },
     "execution_count": 41,
     "metadata": {},
     "output_type": "execute_result"
    }
   ],
   "source": [
    "result_summary_df[\"sample_date\"] = pd.to_datetime(result_summary_df.sample_date_string)\n",
    "result_summary_df.set_index(\"sample_date\", inplace=True)\n",
    "result_summary_df.drop(columns=[\"sample_date_string\"], inplace=True)\n",
    "result_summary_df.sort_index(ascending=False, inplace=True)\n",
    "result_summary_df.head()"
   ]
  },
  {
   "cell_type": "code",
   "execution_count": 42,
   "metadata": {
    "collapsed": false,
    "execution": {
     "iopub.execute_input": "2020-10-24T04:30:55.390622Z",
     "iopub.status.busy": "2020-10-24T04:30:55.389880Z",
     "iopub.status.idle": "2020-10-24T04:30:55.392859Z",
     "shell.execute_reply": "2020-10-24T04:30:55.393275Z"
    },
    "papermill": {
     "duration": 0.089126,
     "end_time": "2020-10-24T04:30:55.393431",
     "exception": false,
     "start_time": "2020-10-24T04:30:55.304305",
     "status": "completed"
    },
    "pycharm": {
     "name": "#%%\n"
    },
    "tags": []
   },
   "outputs": [
    {
     "data": {
      "text/html": [
       "<div>\n",
       "<style scoped>\n",
       "    .dataframe tbody tr th:only-of-type {\n",
       "        vertical-align: middle;\n",
       "    }\n",
       "\n",
       "    .dataframe tbody tr th {\n",
       "        vertical-align: top;\n",
       "    }\n",
       "\n",
       "    .dataframe thead th {\n",
       "        text-align: right;\n",
       "    }\n",
       "</style>\n",
       "<table border=\"1\" class=\"dataframe\">\n",
       "  <thead>\n",
       "    <tr style=\"text-align: right;\">\n",
       "      <th></th>\n",
       "      <th>new_cases</th>\n",
       "      <th>covid_cases</th>\n",
       "      <th>shared_teks_by_generation_date</th>\n",
       "      <th>shared_teks_by_upload_date</th>\n",
       "      <th>shared_teks_uploaded_on_generation_date</th>\n",
       "      <th>shared_diagnoses</th>\n",
       "      <th>teks_per_shared_diagnosis</th>\n",
       "      <th>shared_diagnoses_per_covid_case</th>\n",
       "    </tr>\n",
       "    <tr>\n",
       "      <th>sample_date</th>\n",
       "      <th></th>\n",
       "      <th></th>\n",
       "      <th></th>\n",
       "      <th></th>\n",
       "      <th></th>\n",
       "      <th></th>\n",
       "      <th></th>\n",
       "      <th></th>\n",
       "    </tr>\n",
       "  </thead>\n",
       "  <tbody>\n",
       "    <tr>\n",
       "      <th>2020-10-22</th>\n",
       "      <td>20986</td>\n",
       "      <td>14987</td>\n",
       "      <td>327</td>\n",
       "      <td>726</td>\n",
       "      <td>180</td>\n",
       "      <td>132</td>\n",
       "      <td>5.500000</td>\n",
       "      <td>0.008808</td>\n",
       "    </tr>\n",
       "    <tr>\n",
       "      <th>2020-10-21</th>\n",
       "      <td>16973</td>\n",
       "      <td>13891</td>\n",
       "      <td>420</td>\n",
       "      <td>841</td>\n",
       "      <td>157</td>\n",
       "      <td>153</td>\n",
       "      <td>5.496732</td>\n",
       "      <td>0.011014</td>\n",
       "    </tr>\n",
       "    <tr>\n",
       "      <th>2020-10-20</th>\n",
       "      <td>13873</td>\n",
       "      <td>13177</td>\n",
       "      <td>524</td>\n",
       "      <td>772</td>\n",
       "      <td>149</td>\n",
       "      <td>135</td>\n",
       "      <td>5.718519</td>\n",
       "      <td>0.010245</td>\n",
       "    </tr>\n",
       "    <tr>\n",
       "      <th>2020-10-19</th>\n",
       "      <td>37889</td>\n",
       "      <td>12212</td>\n",
       "      <td>600</td>\n",
       "      <td>791</td>\n",
       "      <td>142</td>\n",
       "      <td>123</td>\n",
       "      <td>6.430894</td>\n",
       "      <td>0.010072</td>\n",
       "    </tr>\n",
       "    <tr>\n",
       "      <th>2020-10-18</th>\n",
       "      <td>0</td>\n",
       "      <td>10778</td>\n",
       "      <td>642</td>\n",
       "      <td>726</td>\n",
       "      <td>146</td>\n",
       "      <td>132</td>\n",
       "      <td>5.500000</td>\n",
       "      <td>0.012247</td>\n",
       "    </tr>\n",
       "    <tr>\n",
       "      <th>2020-10-17</th>\n",
       "      <td>0</td>\n",
       "      <td>10778</td>\n",
       "      <td>707</td>\n",
       "      <td>767</td>\n",
       "      <td>174</td>\n",
       "      <td>138</td>\n",
       "      <td>5.557971</td>\n",
       "      <td>0.012804</td>\n",
       "    </tr>\n",
       "    <tr>\n",
       "      <th>2020-10-16</th>\n",
       "      <td>15186</td>\n",
       "      <td>10778</td>\n",
       "      <td>692</td>\n",
       "      <td>769</td>\n",
       "      <td>149</td>\n",
       "      <td>141</td>\n",
       "      <td>5.453901</td>\n",
       "      <td>0.013082</td>\n",
       "    </tr>\n",
       "    <tr>\n",
       "      <th>2020-10-15</th>\n",
       "      <td>13318</td>\n",
       "      <td>10436</td>\n",
       "      <td>717</td>\n",
       "      <td>671</td>\n",
       "      <td>151</td>\n",
       "      <td>175</td>\n",
       "      <td>3.834286</td>\n",
       "      <td>0.016769</td>\n",
       "    </tr>\n",
       "    <tr>\n",
       "      <th>2020-10-14</th>\n",
       "      <td>11970</td>\n",
       "      <td>10308</td>\n",
       "      <td>662</td>\n",
       "      <td>463</td>\n",
       "      <td>1</td>\n",
       "      <td>133</td>\n",
       "      <td>3.481203</td>\n",
       "      <td>0.012903</td>\n",
       "    </tr>\n",
       "    <tr>\n",
       "      <th>2020-10-13</th>\n",
       "      <td>7118</td>\n",
       "      <td>10097</td>\n",
       "      <td>582</td>\n",
       "      <td>334</td>\n",
       "      <td>1</td>\n",
       "      <td>112</td>\n",
       "      <td>2.982143</td>\n",
       "      <td>0.011092</td>\n",
       "    </tr>\n",
       "    <tr>\n",
       "      <th>2020-10-12</th>\n",
       "      <td>27856</td>\n",
       "      <td>10794</td>\n",
       "      <td>527</td>\n",
       "      <td>326</td>\n",
       "      <td>2</td>\n",
       "      <td>136</td>\n",
       "      <td>2.397059</td>\n",
       "      <td>0.012600</td>\n",
       "    </tr>\n",
       "    <tr>\n",
       "      <th>2020-10-11</th>\n",
       "      <td>0</td>\n",
       "      <td>10169</td>\n",
       "      <td>477</td>\n",
       "      <td>422</td>\n",
       "      <td>1</td>\n",
       "      <td>147</td>\n",
       "      <td>2.870748</td>\n",
       "      <td>0.014456</td>\n",
       "    </tr>\n",
       "    <tr>\n",
       "      <th>2020-10-10</th>\n",
       "      <td>0</td>\n",
       "      <td>10169</td>\n",
       "      <td>438</td>\n",
       "      <td>429</td>\n",
       "      <td>0</td>\n",
       "      <td>133</td>\n",
       "      <td>3.225564</td>\n",
       "      <td>0.013079</td>\n",
       "    </tr>\n",
       "    <tr>\n",
       "      <th>2020-10-09</th>\n",
       "      <td>12788</td>\n",
       "      <td>10169</td>\n",
       "      <td>426</td>\n",
       "      <td>348</td>\n",
       "      <td>1</td>\n",
       "      <td>105</td>\n",
       "      <td>3.314286</td>\n",
       "      <td>0.010325</td>\n",
       "    </tr>\n",
       "    <tr>\n",
       "      <th>2020-10-08</th>\n",
       "      <td>12423</td>\n",
       "      <td>9960</td>\n",
       "      <td>417</td>\n",
       "      <td>272</td>\n",
       "      <td>1</td>\n",
       "      <td>86</td>\n",
       "      <td>3.162791</td>\n",
       "      <td>0.008635</td>\n",
       "    </tr>\n",
       "    <tr>\n",
       "      <th>2020-10-07</th>\n",
       "      <td>10491</td>\n",
       "      <td>9530</td>\n",
       "      <td>375</td>\n",
       "      <td>178</td>\n",
       "      <td>0</td>\n",
       "      <td>54</td>\n",
       "      <td>3.296296</td>\n",
       "      <td>0.005666</td>\n",
       "    </tr>\n",
       "    <tr>\n",
       "      <th>2020-10-06</th>\n",
       "      <td>11998</td>\n",
       "      <td>9605</td>\n",
       "      <td>384</td>\n",
       "      <td>233</td>\n",
       "      <td>60</td>\n",
       "      <td>56</td>\n",
       "      <td>4.160714</td>\n",
       "      <td>0.005830</td>\n",
       "    </tr>\n",
       "    <tr>\n",
       "      <th>2020-10-05</th>\n",
       "      <td>23480</td>\n",
       "      <td>9307</td>\n",
       "      <td>350</td>\n",
       "      <td>273</td>\n",
       "      <td>52</td>\n",
       "      <td>69</td>\n",
       "      <td>3.956522</td>\n",
       "      <td>0.007414</td>\n",
       "    </tr>\n",
       "    <tr>\n",
       "      <th>2020-10-04</th>\n",
       "      <td>0</td>\n",
       "      <td>10493</td>\n",
       "      <td>353</td>\n",
       "      <td>331</td>\n",
       "      <td>76</td>\n",
       "      <td>78</td>\n",
       "      <td>4.243590</td>\n",
       "      <td>0.007434</td>\n",
       "    </tr>\n",
       "    <tr>\n",
       "      <th>2020-10-03</th>\n",
       "      <td>0</td>\n",
       "      <td>10493</td>\n",
       "      <td>312</td>\n",
       "      <td>324</td>\n",
       "      <td>69</td>\n",
       "      <td>76</td>\n",
       "      <td>4.263158</td>\n",
       "      <td>0.007243</td>\n",
       "    </tr>\n",
       "    <tr>\n",
       "      <th>2020-10-02</th>\n",
       "      <td>11325</td>\n",
       "      <td>10493</td>\n",
       "      <td>312</td>\n",
       "      <td>299</td>\n",
       "      <td>72</td>\n",
       "      <td>72</td>\n",
       "      <td>4.152778</td>\n",
       "      <td>0.006862</td>\n",
       "    </tr>\n",
       "    <tr>\n",
       "      <th>2020-10-01</th>\n",
       "      <td>9419</td>\n",
       "      <td>10628</td>\n",
       "      <td>317</td>\n",
       "      <td>367</td>\n",
       "      <td>75</td>\n",
       "      <td>74</td>\n",
       "      <td>4.959459</td>\n",
       "      <td>0.006963</td>\n",
       "    </tr>\n",
       "    <tr>\n",
       "      <th>2020-09-30</th>\n",
       "      <td>11016</td>\n",
       "      <td>10805</td>\n",
       "      <td>294</td>\n",
       "      <td>271</td>\n",
       "      <td>55</td>\n",
       "      <td>51</td>\n",
       "      <td>5.313725</td>\n",
       "      <td>0.004720</td>\n",
       "    </tr>\n",
       "    <tr>\n",
       "      <th>2020-09-29</th>\n",
       "      <td>9906</td>\n",
       "      <td>10844</td>\n",
       "      <td>265</td>\n",
       "      <td>178</td>\n",
       "      <td>32</td>\n",
       "      <td>44</td>\n",
       "      <td>4.045455</td>\n",
       "      <td>0.004058</td>\n",
       "    </tr>\n",
       "    <tr>\n",
       "      <th>2020-09-28</th>\n",
       "      <td>31785</td>\n",
       "      <td>10971</td>\n",
       "      <td>269</td>\n",
       "      <td>211</td>\n",
       "      <td>44</td>\n",
       "      <td>54</td>\n",
       "      <td>3.907407</td>\n",
       "      <td>0.004922</td>\n",
       "    </tr>\n",
       "    <tr>\n",
       "      <th>2020-09-27</th>\n",
       "      <td>0</td>\n",
       "      <td>10920</td>\n",
       "      <td>315</td>\n",
       "      <td>449</td>\n",
       "      <td>98</td>\n",
       "      <td>108</td>\n",
       "      <td>4.157407</td>\n",
       "      <td>0.009890</td>\n",
       "    </tr>\n",
       "    <tr>\n",
       "      <th>2020-09-26</th>\n",
       "      <td>0</td>\n",
       "      <td>10920</td>\n",
       "      <td>339</td>\n",
       "      <td>448</td>\n",
       "      <td>79</td>\n",
       "      <td>110</td>\n",
       "      <td>4.072727</td>\n",
       "      <td>0.010073</td>\n",
       "    </tr>\n",
       "    <tr>\n",
       "      <th>2020-09-25</th>\n",
       "      <td>12272</td>\n",
       "      <td>10920</td>\n",
       "      <td>284</td>\n",
       "      <td>306</td>\n",
       "      <td>14</td>\n",
       "      <td>86</td>\n",
       "      <td>3.558140</td>\n",
       "      <td>0.007875</td>\n",
       "    </tr>\n",
       "  </tbody>\n",
       "</table>\n",
       "</div>"
      ],
      "text/plain": [
       "             new_cases  covid_cases  shared_teks_by_generation_date  \\\n",
       "sample_date                                                           \n",
       "2020-10-22       20986        14987                             327   \n",
       "2020-10-21       16973        13891                             420   \n",
       "2020-10-20       13873        13177                             524   \n",
       "2020-10-19       37889        12212                             600   \n",
       "2020-10-18           0        10778                             642   \n",
       "2020-10-17           0        10778                             707   \n",
       "2020-10-16       15186        10778                             692   \n",
       "2020-10-15       13318        10436                             717   \n",
       "2020-10-14       11970        10308                             662   \n",
       "2020-10-13        7118        10097                             582   \n",
       "2020-10-12       27856        10794                             527   \n",
       "2020-10-11           0        10169                             477   \n",
       "2020-10-10           0        10169                             438   \n",
       "2020-10-09       12788        10169                             426   \n",
       "2020-10-08       12423         9960                             417   \n",
       "2020-10-07       10491         9530                             375   \n",
       "2020-10-06       11998         9605                             384   \n",
       "2020-10-05       23480         9307                             350   \n",
       "2020-10-04           0        10493                             353   \n",
       "2020-10-03           0        10493                             312   \n",
       "2020-10-02       11325        10493                             312   \n",
       "2020-10-01        9419        10628                             317   \n",
       "2020-09-30       11016        10805                             294   \n",
       "2020-09-29        9906        10844                             265   \n",
       "2020-09-28       31785        10971                             269   \n",
       "2020-09-27           0        10920                             315   \n",
       "2020-09-26           0        10920                             339   \n",
       "2020-09-25       12272        10920                             284   \n",
       "\n",
       "             shared_teks_by_upload_date  \\\n",
       "sample_date                               \n",
       "2020-10-22                          726   \n",
       "2020-10-21                          841   \n",
       "2020-10-20                          772   \n",
       "2020-10-19                          791   \n",
       "2020-10-18                          726   \n",
       "2020-10-17                          767   \n",
       "2020-10-16                          769   \n",
       "2020-10-15                          671   \n",
       "2020-10-14                          463   \n",
       "2020-10-13                          334   \n",
       "2020-10-12                          326   \n",
       "2020-10-11                          422   \n",
       "2020-10-10                          429   \n",
       "2020-10-09                          348   \n",
       "2020-10-08                          272   \n",
       "2020-10-07                          178   \n",
       "2020-10-06                          233   \n",
       "2020-10-05                          273   \n",
       "2020-10-04                          331   \n",
       "2020-10-03                          324   \n",
       "2020-10-02                          299   \n",
       "2020-10-01                          367   \n",
       "2020-09-30                          271   \n",
       "2020-09-29                          178   \n",
       "2020-09-28                          211   \n",
       "2020-09-27                          449   \n",
       "2020-09-26                          448   \n",
       "2020-09-25                          306   \n",
       "\n",
       "             shared_teks_uploaded_on_generation_date  shared_diagnoses  \\\n",
       "sample_date                                                              \n",
       "2020-10-22                                       180               132   \n",
       "2020-10-21                                       157               153   \n",
       "2020-10-20                                       149               135   \n",
       "2020-10-19                                       142               123   \n",
       "2020-10-18                                       146               132   \n",
       "2020-10-17                                       174               138   \n",
       "2020-10-16                                       149               141   \n",
       "2020-10-15                                       151               175   \n",
       "2020-10-14                                         1               133   \n",
       "2020-10-13                                         1               112   \n",
       "2020-10-12                                         2               136   \n",
       "2020-10-11                                         1               147   \n",
       "2020-10-10                                         0               133   \n",
       "2020-10-09                                         1               105   \n",
       "2020-10-08                                         1                86   \n",
       "2020-10-07                                         0                54   \n",
       "2020-10-06                                        60                56   \n",
       "2020-10-05                                        52                69   \n",
       "2020-10-04                                        76                78   \n",
       "2020-10-03                                        69                76   \n",
       "2020-10-02                                        72                72   \n",
       "2020-10-01                                        75                74   \n",
       "2020-09-30                                        55                51   \n",
       "2020-09-29                                        32                44   \n",
       "2020-09-28                                        44                54   \n",
       "2020-09-27                                        98               108   \n",
       "2020-09-26                                        79               110   \n",
       "2020-09-25                                        14                86   \n",
       "\n",
       "             teks_per_shared_diagnosis  shared_diagnoses_per_covid_case  \n",
       "sample_date                                                              \n",
       "2020-10-22                    5.500000                         0.008808  \n",
       "2020-10-21                    5.496732                         0.011014  \n",
       "2020-10-20                    5.718519                         0.010245  \n",
       "2020-10-19                    6.430894                         0.010072  \n",
       "2020-10-18                    5.500000                         0.012247  \n",
       "2020-10-17                    5.557971                         0.012804  \n",
       "2020-10-16                    5.453901                         0.013082  \n",
       "2020-10-15                    3.834286                         0.016769  \n",
       "2020-10-14                    3.481203                         0.012903  \n",
       "2020-10-13                    2.982143                         0.011092  \n",
       "2020-10-12                    2.397059                         0.012600  \n",
       "2020-10-11                    2.870748                         0.014456  \n",
       "2020-10-10                    3.225564                         0.013079  \n",
       "2020-10-09                    3.314286                         0.010325  \n",
       "2020-10-08                    3.162791                         0.008635  \n",
       "2020-10-07                    3.296296                         0.005666  \n",
       "2020-10-06                    4.160714                         0.005830  \n",
       "2020-10-05                    3.956522                         0.007414  \n",
       "2020-10-04                    4.243590                         0.007434  \n",
       "2020-10-03                    4.263158                         0.007243  \n",
       "2020-10-02                    4.152778                         0.006862  \n",
       "2020-10-01                    4.959459                         0.006963  \n",
       "2020-09-30                    5.313725                         0.004720  \n",
       "2020-09-29                    4.045455                         0.004058  \n",
       "2020-09-28                    3.907407                         0.004922  \n",
       "2020-09-27                    4.157407                         0.009890  \n",
       "2020-09-26                    4.072727                         0.010073  \n",
       "2020-09-25                    3.558140                         0.007875  "
      ]
     },
     "execution_count": 42,
     "metadata": {},
     "output_type": "execute_result"
    }
   ],
   "source": [
    "with pd.option_context(\"mode.use_inf_as_na\", True):\n",
    "    result_summary_df = result_summary_df.fillna(0).astype(int)\n",
    "    result_summary_df[\"teks_per_shared_diagnosis\"] = \\\n",
    "        (result_summary_df.shared_teks_by_upload_date / result_summary_df.shared_diagnoses).fillna(0)\n",
    "    result_summary_df[\"shared_diagnoses_per_covid_case\"] = \\\n",
    "        (result_summary_df.shared_diagnoses / result_summary_df.covid_cases).fillna(0)\n",
    "\n",
    "result_summary_df.head(daily_plot_days)"
   ]
  },
  {
   "cell_type": "code",
   "execution_count": 43,
   "metadata": {
    "collapsed": false,
    "execution": {
     "iopub.execute_input": "2020-10-24T04:30:55.520455Z",
     "iopub.status.busy": "2020-10-24T04:30:55.519891Z",
     "iopub.status.idle": "2020-10-24T04:30:55.537551Z",
     "shell.execute_reply": "2020-10-24T04:30:55.537099Z"
    },
    "papermill": {
     "duration": 0.084358,
     "end_time": "2020-10-24T04:30:55.537716",
     "exception": false,
     "start_time": "2020-10-24T04:30:55.453358",
     "status": "completed"
    },
    "pycharm": {
     "name": "#%%\n"
    },
    "tags": []
   },
   "outputs": [
    {
     "data": {
      "text/html": [
       "<div>\n",
       "<style scoped>\n",
       "    .dataframe tbody tr th:only-of-type {\n",
       "        vertical-align: middle;\n",
       "    }\n",
       "\n",
       "    .dataframe tbody tr th {\n",
       "        vertical-align: top;\n",
       "    }\n",
       "\n",
       "    .dataframe thead th {\n",
       "        text-align: right;\n",
       "    }\n",
       "</style>\n",
       "<table border=\"1\" class=\"dataframe\">\n",
       "  <thead>\n",
       "    <tr style=\"text-align: right;\">\n",
       "      <th></th>\n",
       "      <th>covid_cases</th>\n",
       "      <th>shared_teks_by_generation_date</th>\n",
       "      <th>shared_teks_by_upload_date</th>\n",
       "      <th>shared_diagnoses</th>\n",
       "      <th>teks_per_shared_diagnosis</th>\n",
       "      <th>shared_diagnoses_per_covid_case</th>\n",
       "    </tr>\n",
       "    <tr>\n",
       "      <th>sample_date</th>\n",
       "      <th></th>\n",
       "      <th></th>\n",
       "      <th></th>\n",
       "      <th></th>\n",
       "      <th></th>\n",
       "      <th></th>\n",
       "    </tr>\n",
       "  </thead>\n",
       "  <tbody>\n",
       "    <tr>\n",
       "      <th>2020-10-22</th>\n",
       "      <td>86601</td>\n",
       "      <td>3912</td>\n",
       "      <td>5392</td>\n",
       "      <td>954</td>\n",
       "      <td>5.651992</td>\n",
       "      <td>0.011016</td>\n",
       "    </tr>\n",
       "    <tr>\n",
       "      <th>2020-10-21</th>\n",
       "      <td>82050</td>\n",
       "      <td>4302</td>\n",
       "      <td>5337</td>\n",
       "      <td>997</td>\n",
       "      <td>5.353059</td>\n",
       "      <td>0.012151</td>\n",
       "    </tr>\n",
       "    <tr>\n",
       "      <th>2020-10-20</th>\n",
       "      <td>78467</td>\n",
       "      <td>4544</td>\n",
       "      <td>4959</td>\n",
       "      <td>977</td>\n",
       "      <td>5.075742</td>\n",
       "      <td>0.012451</td>\n",
       "    </tr>\n",
       "    <tr>\n",
       "      <th>2020-10-19</th>\n",
       "      <td>75387</td>\n",
       "      <td>4602</td>\n",
       "      <td>4521</td>\n",
       "      <td>954</td>\n",
       "      <td>4.738994</td>\n",
       "      <td>0.012655</td>\n",
       "    </tr>\n",
       "    <tr>\n",
       "      <th>2020-10-18</th>\n",
       "      <td>73969</td>\n",
       "      <td>4529</td>\n",
       "      <td>4056</td>\n",
       "      <td>967</td>\n",
       "      <td>4.194416</td>\n",
       "      <td>0.013073</td>\n",
       "    </tr>\n",
       "  </tbody>\n",
       "</table>\n",
       "</div>"
      ],
      "text/plain": [
       "             covid_cases  shared_teks_by_generation_date  \\\n",
       "sample_date                                                \n",
       "2020-10-22         86601                            3912   \n",
       "2020-10-21         82050                            4302   \n",
       "2020-10-20         78467                            4544   \n",
       "2020-10-19         75387                            4602   \n",
       "2020-10-18         73969                            4529   \n",
       "\n",
       "             shared_teks_by_upload_date  shared_diagnoses  \\\n",
       "sample_date                                                 \n",
       "2020-10-22                         5392               954   \n",
       "2020-10-21                         5337               997   \n",
       "2020-10-20                         4959               977   \n",
       "2020-10-19                         4521               954   \n",
       "2020-10-18                         4056               967   \n",
       "\n",
       "             teks_per_shared_diagnosis  shared_diagnoses_per_covid_case  \n",
       "sample_date                                                              \n",
       "2020-10-22                    5.651992                         0.011016  \n",
       "2020-10-21                    5.353059                         0.012151  \n",
       "2020-10-20                    5.075742                         0.012451  \n",
       "2020-10-19                    4.738994                         0.012655  \n",
       "2020-10-18                    4.194416                         0.013073  "
      ]
     },
     "execution_count": 43,
     "metadata": {},
     "output_type": "execute_result"
    }
   ],
   "source": [
    "weekly_result_summary_df = result_summary_df \\\n",
    "    .sort_index(ascending=True).fillna(0).rolling(7).agg({\n",
    "    \"covid_cases\": \"sum\",\n",
    "    \"shared_teks_by_generation_date\": \"sum\",\n",
    "    \"shared_teks_by_upload_date\": \"sum\",\n",
    "    \"shared_diagnoses\": \"sum\"\n",
    "}).sort_index(ascending=False)\n",
    "\n",
    "with pd.option_context(\"mode.use_inf_as_na\", True):\n",
    "    weekly_result_summary_df = weekly_result_summary_df.fillna(0).astype(int)\n",
    "    weekly_result_summary_df[\"teks_per_shared_diagnosis\"] = \\\n",
    "        (weekly_result_summary_df.shared_teks_by_upload_date / weekly_result_summary_df.shared_diagnoses).fillna(0)\n",
    "    weekly_result_summary_df[\"shared_diagnoses_per_covid_case\"] = \\\n",
    "        (weekly_result_summary_df.shared_diagnoses / weekly_result_summary_df.covid_cases).fillna(0)\n",
    "\n",
    "weekly_result_summary_df.head()"
   ]
  },
  {
   "cell_type": "code",
   "execution_count": 44,
   "metadata": {
    "execution": {
     "iopub.execute_input": "2020-10-24T04:30:55.664367Z",
     "iopub.status.busy": "2020-10-24T04:30:55.663828Z",
     "iopub.status.idle": "2020-10-24T04:30:55.667013Z",
     "shell.execute_reply": "2020-10-24T04:30:55.666553Z"
    },
    "papermill": {
     "duration": 0.069117,
     "end_time": "2020-10-24T04:30:55.667138",
     "exception": false,
     "start_time": "2020-10-24T04:30:55.598021",
     "status": "completed"
    },
    "pycharm": {
     "name": "#%%\n"
    },
    "tags": []
   },
   "outputs": [
    {
     "data": {
      "text/plain": [
       "{'covid_cases': 86601,\n",
       " 'shared_teks_by_generation_date': 3912,\n",
       " 'shared_teks_by_upload_date': 5392,\n",
       " 'shared_diagnoses': 954,\n",
       " 'teks_per_shared_diagnosis': 5.651991614255765,\n",
       " 'shared_diagnoses_per_covid_case': 0.01101603907576125}"
      ]
     },
     "execution_count": 44,
     "metadata": {},
     "output_type": "execute_result"
    }
   ],
   "source": [
    "last_7_days_summary = weekly_result_summary_df.to_dict(orient=\"records\")[0]\n",
    "last_7_days_summary"
   ]
  },
  {
   "cell_type": "markdown",
   "metadata": {
    "collapsed": false,
    "papermill": {
     "duration": 0.060424,
     "end_time": "2020-10-24T04:30:55.787403",
     "exception": false,
     "start_time": "2020-10-24T04:30:55.726979",
     "status": "completed"
    },
    "pycharm": {
     "name": "#%% md\n"
    },
    "tags": []
   },
   "source": [
    "## Report Results"
   ]
  },
  {
   "cell_type": "code",
   "execution_count": 45,
   "metadata": {
    "collapsed": false,
    "execution": {
     "iopub.execute_input": "2020-10-24T04:30:55.913266Z",
     "iopub.status.busy": "2020-10-24T04:30:55.912737Z",
     "iopub.status.idle": "2020-10-24T04:30:55.915237Z",
     "shell.execute_reply": "2020-10-24T04:30:55.914782Z"
    },
    "papermill": {
     "duration": 0.068067,
     "end_time": "2020-10-24T04:30:55.915377",
     "exception": false,
     "start_time": "2020-10-24T04:30:55.847310",
     "status": "completed"
    },
    "pycharm": {
     "name": "#%%\n"
    },
    "tags": []
   },
   "outputs": [],
   "source": [
    "display_column_name_mapping = {\n",
    "    \"sample_date\": \"Sample\\u00A0Date\\u00A0(UTC)\",\n",
    "    \"datetime_utc\": \"Timestamp (UTC)\",\n",
    "    \"upload_date\": \"Upload Date (UTC)\",\n",
    "    \"generation_to_upload_days\": \"Generation to Upload Period in Days\",\n",
    "    \"region\": \"Backend Identifier\",\n",
    "    \"covid_cases\": \"COVID-19 Cases in Source Countries (7-day Rolling Average)\",\n",
    "    \"shared_teks_by_generation_date\": \"Shared TEKs by Generation Date\",\n",
    "    \"shared_teks_by_upload_date\": \"Shared TEKs by Upload Date\",\n",
    "    \"shared_diagnoses\": \"Shared Diagnoses (Estimation)\",\n",
    "    \"teks_per_shared_diagnosis\": \"TEKs Uploaded per Shared Diagnosis\",\n",
    "    \"shared_diagnoses_per_covid_case\": \"Usage Ratio (Fraction of Cases in Source Countries Which Shared Diagnosis)\",\n",
    "    \"shared_teks_uploaded_on_generation_date\": \"Shared TEKs Uploaded on Generation Date\",\n",
    "}"
   ]
  },
  {
   "cell_type": "code",
   "execution_count": 46,
   "metadata": {
    "execution": {
     "iopub.execute_input": "2020-10-24T04:30:56.043416Z",
     "iopub.status.busy": "2020-10-24T04:30:56.042740Z",
     "iopub.status.idle": "2020-10-24T04:30:56.044612Z",
     "shell.execute_reply": "2020-10-24T04:30:56.045128Z"
    },
    "papermill": {
     "duration": 0.068165,
     "end_time": "2020-10-24T04:30:56.045314",
     "exception": false,
     "start_time": "2020-10-24T04:30:55.977149",
     "status": "completed"
    },
    "pycharm": {
     "name": "#%%\n"
    },
    "tags": []
   },
   "outputs": [],
   "source": [
    "summary_columns = [\n",
    "    \"covid_cases\",\n",
    "    \"shared_teks_by_generation_date\",\n",
    "    \"shared_teks_by_upload_date\",\n",
    "    \"shared_teks_uploaded_on_generation_date\",\n",
    "    \"shared_diagnoses\",\n",
    "    \"teks_per_shared_diagnosis\",\n",
    "    \"shared_diagnoses_per_covid_case\",\n",
    "]"
   ]
  },
  {
   "cell_type": "markdown",
   "metadata": {
    "execution": {
     "iopub.execute_input": "2020-09-02T08:20:14.568088Z",
     "iopub.status.busy": "2020-09-02T08:20:14.567425Z",
     "iopub.status.idle": "2020-09-02T08:20:14.571422Z",
     "shell.execute_reply": "2020-09-02T08:20:14.571952Z"
    },
    "papermill": {
     "duration": 0.061091,
     "end_time": "2020-10-24T04:30:56.177611",
     "exception": false,
     "start_time": "2020-10-24T04:30:56.116520",
     "status": "completed"
    },
    "pycharm": {
     "name": "#%% md\n"
    },
    "tags": []
   },
   "source": [
    "### Daily Summary Table"
   ]
  },
  {
   "cell_type": "code",
   "execution_count": 47,
   "metadata": {
    "execution": {
     "iopub.execute_input": "2020-10-24T04:30:56.317532Z",
     "iopub.status.busy": "2020-10-24T04:30:56.316955Z",
     "iopub.status.idle": "2020-10-24T04:30:56.319445Z",
     "shell.execute_reply": "2020-10-24T04:30:56.320006Z"
    },
    "papermill": {
     "duration": 0.08146,
     "end_time": "2020-10-24T04:30:56.320330",
     "exception": false,
     "start_time": "2020-10-24T04:30:56.238870",
     "status": "completed"
    },
    "pycharm": {
     "name": "#%%\n"
    },
    "tags": []
   },
   "outputs": [
    {
     "data": {
      "text/html": [
       "<div>\n",
       "<style scoped>\n",
       "    .dataframe tbody tr th:only-of-type {\n",
       "        vertical-align: middle;\n",
       "    }\n",
       "\n",
       "    .dataframe tbody tr th {\n",
       "        vertical-align: top;\n",
       "    }\n",
       "\n",
       "    .dataframe thead th {\n",
       "        text-align: right;\n",
       "    }\n",
       "</style>\n",
       "<table border=\"1\" class=\"dataframe\">\n",
       "  <thead>\n",
       "    <tr style=\"text-align: right;\">\n",
       "      <th></th>\n",
       "      <th>COVID-19 Cases in Source Countries (7-day Rolling Average)</th>\n",
       "      <th>Shared TEKs by Generation Date</th>\n",
       "      <th>Shared TEKs by Upload Date</th>\n",
       "      <th>Shared TEKs Uploaded on Generation Date</th>\n",
       "      <th>Shared Diagnoses (Estimation)</th>\n",
       "      <th>TEKs Uploaded per Shared Diagnosis</th>\n",
       "      <th>Usage Ratio (Fraction of Cases in Source Countries Which Shared Diagnosis)</th>\n",
       "    </tr>\n",
       "    <tr>\n",
       "      <th>Sample Date (UTC)</th>\n",
       "      <th></th>\n",
       "      <th></th>\n",
       "      <th></th>\n",
       "      <th></th>\n",
       "      <th></th>\n",
       "      <th></th>\n",
       "      <th></th>\n",
       "    </tr>\n",
       "  </thead>\n",
       "  <tbody>\n",
       "    <tr>\n",
       "      <th>2020-10-22</th>\n",
       "      <td>14987</td>\n",
       "      <td>327</td>\n",
       "      <td>726</td>\n",
       "      <td>180</td>\n",
       "      <td>132</td>\n",
       "      <td>5.500000</td>\n",
       "      <td>0.008808</td>\n",
       "    </tr>\n",
       "    <tr>\n",
       "      <th>2020-10-21</th>\n",
       "      <td>13891</td>\n",
       "      <td>420</td>\n",
       "      <td>841</td>\n",
       "      <td>157</td>\n",
       "      <td>153</td>\n",
       "      <td>5.496732</td>\n",
       "      <td>0.011014</td>\n",
       "    </tr>\n",
       "    <tr>\n",
       "      <th>2020-10-20</th>\n",
       "      <td>13177</td>\n",
       "      <td>524</td>\n",
       "      <td>772</td>\n",
       "      <td>149</td>\n",
       "      <td>135</td>\n",
       "      <td>5.718519</td>\n",
       "      <td>0.010245</td>\n",
       "    </tr>\n",
       "    <tr>\n",
       "      <th>2020-10-19</th>\n",
       "      <td>12212</td>\n",
       "      <td>600</td>\n",
       "      <td>791</td>\n",
       "      <td>142</td>\n",
       "      <td>123</td>\n",
       "      <td>6.430894</td>\n",
       "      <td>0.010072</td>\n",
       "    </tr>\n",
       "    <tr>\n",
       "      <th>2020-10-18</th>\n",
       "      <td>10778</td>\n",
       "      <td>642</td>\n",
       "      <td>726</td>\n",
       "      <td>146</td>\n",
       "      <td>132</td>\n",
       "      <td>5.500000</td>\n",
       "      <td>0.012247</td>\n",
       "    </tr>\n",
       "    <tr>\n",
       "      <th>...</th>\n",
       "      <td>...</td>\n",
       "      <td>...</td>\n",
       "      <td>...</td>\n",
       "      <td>...</td>\n",
       "      <td>...</td>\n",
       "      <td>...</td>\n",
       "      <td>...</td>\n",
       "    </tr>\n",
       "    <tr>\n",
       "      <th>2020-08-04</th>\n",
       "      <td>3172</td>\n",
       "      <td>0</td>\n",
       "      <td>0</td>\n",
       "      <td>0</td>\n",
       "      <td>0</td>\n",
       "      <td>0.000000</td>\n",
       "      <td>0.000000</td>\n",
       "    </tr>\n",
       "    <tr>\n",
       "      <th>2020-08-03</th>\n",
       "      <td>2610</td>\n",
       "      <td>0</td>\n",
       "      <td>0</td>\n",
       "      <td>0</td>\n",
       "      <td>0</td>\n",
       "      <td>0.000000</td>\n",
       "      <td>0.000000</td>\n",
       "    </tr>\n",
       "    <tr>\n",
       "      <th>2020-08-02</th>\n",
       "      <td>2300</td>\n",
       "      <td>0</td>\n",
       "      <td>0</td>\n",
       "      <td>0</td>\n",
       "      <td>0</td>\n",
       "      <td>0.000000</td>\n",
       "      <td>0.000000</td>\n",
       "    </tr>\n",
       "    <tr>\n",
       "      <th>2020-08-01</th>\n",
       "      <td>2300</td>\n",
       "      <td>0</td>\n",
       "      <td>0</td>\n",
       "      <td>0</td>\n",
       "      <td>0</td>\n",
       "      <td>0.000000</td>\n",
       "      <td>0.000000</td>\n",
       "    </tr>\n",
       "    <tr>\n",
       "      <th>2020-07-31</th>\n",
       "      <td>2300</td>\n",
       "      <td>0</td>\n",
       "      <td>0</td>\n",
       "      <td>0</td>\n",
       "      <td>0</td>\n",
       "      <td>0.000000</td>\n",
       "      <td>0.000000</td>\n",
       "    </tr>\n",
       "  </tbody>\n",
       "</table>\n",
       "<p>84 rows × 7 columns</p>\n",
       "</div>"
      ],
      "text/plain": [
       "                   COVID-19 Cases in Source Countries (7-day Rolling Average)  \\\n",
       "Sample Date (UTC)                                                               \n",
       "2020-10-22                                                     14987            \n",
       "2020-10-21                                                     13891            \n",
       "2020-10-20                                                     13177            \n",
       "2020-10-19                                                     12212            \n",
       "2020-10-18                                                     10778            \n",
       "...                                                              ...            \n",
       "2020-08-04                                                      3172            \n",
       "2020-08-03                                                      2610            \n",
       "2020-08-02                                                      2300            \n",
       "2020-08-01                                                      2300            \n",
       "2020-07-31                                                      2300            \n",
       "\n",
       "                   Shared TEKs by Generation Date  Shared TEKs by Upload Date  \\\n",
       "Sample Date (UTC)                                                               \n",
       "2020-10-22                                    327                         726   \n",
       "2020-10-21                                    420                         841   \n",
       "2020-10-20                                    524                         772   \n",
       "2020-10-19                                    600                         791   \n",
       "2020-10-18                                    642                         726   \n",
       "...                                           ...                         ...   \n",
       "2020-08-04                                      0                           0   \n",
       "2020-08-03                                      0                           0   \n",
       "2020-08-02                                      0                           0   \n",
       "2020-08-01                                      0                           0   \n",
       "2020-07-31                                      0                           0   \n",
       "\n",
       "                   Shared TEKs Uploaded on Generation Date  \\\n",
       "Sample Date (UTC)                                            \n",
       "2020-10-22                                             180   \n",
       "2020-10-21                                             157   \n",
       "2020-10-20                                             149   \n",
       "2020-10-19                                             142   \n",
       "2020-10-18                                             146   \n",
       "...                                                    ...   \n",
       "2020-08-04                                               0   \n",
       "2020-08-03                                               0   \n",
       "2020-08-02                                               0   \n",
       "2020-08-01                                               0   \n",
       "2020-07-31                                               0   \n",
       "\n",
       "                   Shared Diagnoses (Estimation)  \\\n",
       "Sample Date (UTC)                                  \n",
       "2020-10-22                                   132   \n",
       "2020-10-21                                   153   \n",
       "2020-10-20                                   135   \n",
       "2020-10-19                                   123   \n",
       "2020-10-18                                   132   \n",
       "...                                          ...   \n",
       "2020-08-04                                     0   \n",
       "2020-08-03                                     0   \n",
       "2020-08-02                                     0   \n",
       "2020-08-01                                     0   \n",
       "2020-07-31                                     0   \n",
       "\n",
       "                   TEKs Uploaded per Shared Diagnosis  \\\n",
       "Sample Date (UTC)                                       \n",
       "2020-10-22                                   5.500000   \n",
       "2020-10-21                                   5.496732   \n",
       "2020-10-20                                   5.718519   \n",
       "2020-10-19                                   6.430894   \n",
       "2020-10-18                                   5.500000   \n",
       "...                                               ...   \n",
       "2020-08-04                                   0.000000   \n",
       "2020-08-03                                   0.000000   \n",
       "2020-08-02                                   0.000000   \n",
       "2020-08-01                                   0.000000   \n",
       "2020-07-31                                   0.000000   \n",
       "\n",
       "                   Usage Ratio (Fraction of Cases in Source Countries Which Shared Diagnosis)  \n",
       "Sample Date (UTC)                                                                              \n",
       "2020-10-22                                                  0.008808                           \n",
       "2020-10-21                                                  0.011014                           \n",
       "2020-10-20                                                  0.010245                           \n",
       "2020-10-19                                                  0.010072                           \n",
       "2020-10-18                                                  0.012247                           \n",
       "...                                                              ...                           \n",
       "2020-08-04                                                  0.000000                           \n",
       "2020-08-03                                                  0.000000                           \n",
       "2020-08-02                                                  0.000000                           \n",
       "2020-08-01                                                  0.000000                           \n",
       "2020-07-31                                                  0.000000                           \n",
       "\n",
       "[84 rows x 7 columns]"
      ]
     },
     "execution_count": 47,
     "metadata": {},
     "output_type": "execute_result"
    }
   ],
   "source": [
    "result_summary_df_ = result_summary_df.copy()\n",
    "result_summary_df = result_summary_df[summary_columns]\n",
    "result_summary_with_display_names_df = result_summary_df \\\n",
    "    .rename_axis(index=display_column_name_mapping) \\\n",
    "    .rename(columns=display_column_name_mapping)\n",
    "result_summary_with_display_names_df"
   ]
  },
  {
   "cell_type": "markdown",
   "metadata": {
    "execution": {
     "iopub.execute_input": "2020-09-02T08:20:14.726751Z",
     "iopub.status.busy": "2020-09-02T08:20:14.726143Z",
     "iopub.status.idle": "2020-09-02T08:20:16.115081Z",
     "shell.execute_reply": "2020-09-02T08:20:16.115565Z"
    },
    "papermill": {
     "duration": 0.063101,
     "end_time": "2020-10-24T04:30:56.447516",
     "exception": false,
     "start_time": "2020-10-24T04:30:56.384415",
     "status": "completed"
    },
    "pycharm": {
     "name": "#%% md\n"
    },
    "scrolled": false,
    "tags": []
   },
   "source": [
    "### Daily Summary Plots"
   ]
  },
  {
   "cell_type": "code",
   "execution_count": 48,
   "metadata": {
    "execution": {
     "iopub.execute_input": "2020-10-24T04:30:56.604492Z",
     "iopub.status.busy": "2020-10-24T04:30:56.603923Z",
     "iopub.status.idle": "2020-10-24T04:30:58.423409Z",
     "shell.execute_reply": "2020-10-24T04:30:58.423829Z"
    },
    "papermill": {
     "duration": 1.913933,
     "end_time": "2020-10-24T04:30:58.423988",
     "exception": false,
     "start_time": "2020-10-24T04:30:56.510055",
     "status": "completed"
    },
    "pycharm": {
     "name": "#%%\n"
    },
    "tags": []
   },
   "outputs": [
    {
     "data": {
      "image/png": "[encoded data removed]",
      "text/plain": [
       "<Figure size 1080x1584 with 7 Axes>"
      ]
     },
     "metadata": {},
     "output_type": "display_data"
    }
   ],
   "source": [
    "result_plot_summary_df = result_summary_df.head(daily_plot_days)[summary_columns] \\\n",
    "    .rename_axis(index=display_column_name_mapping) \\\n",
    "    .rename(columns=display_column_name_mapping)\n",
    "summary_ax_list = result_plot_summary_df.sort_index(ascending=True).plot.bar(\n",
    "    title=f\"Daily Summary\",\n",
    "    rot=45, subplots=True, figsize=(15, 22), legend=False)\n",
    "ax_ = summary_ax_list[-1]\n",
    "ax_.get_figure().tight_layout()\n",
    "ax_.get_figure().subplots_adjust(top=0.95)\n",
    "ax_.yaxis.set_major_formatter(matplotlib.ticker.PercentFormatter(1.0))\n",
    "_ = ax_.set_xticklabels(sorted(result_plot_summary_df.index.strftime(\"%Y-%m-%d\").tolist()))"
   ]
  },
  {
   "cell_type": "markdown",
   "metadata": {
    "collapsed": false,
    "papermill": {
     "duration": 0.064664,
     "end_time": "2020-10-24T04:30:58.552628",
     "exception": false,
     "start_time": "2020-10-24T04:30:58.487964",
     "status": "completed"
    },
    "tags": []
   },
   "source": [
    "### Daily Generation to Upload Period Table"
   ]
  },
  {
   "cell_type": "code",
   "execution_count": 49,
   "metadata": {
    "collapsed": false,
    "execution": {
     "iopub.execute_input": "2020-10-24T04:30:58.697969Z",
     "iopub.status.busy": "2020-10-24T04:30:58.697374Z",
     "iopub.status.idle": "2020-10-24T04:30:58.700475Z",
     "shell.execute_reply": "2020-10-24T04:30:58.700007Z"
    },
    "papermill": {
     "duration": 0.083642,
     "end_time": "2020-10-24T04:30:58.700597",
     "exception": false,
     "start_time": "2020-10-24T04:30:58.616955",
     "status": "completed"
    },
    "pycharm": {
     "name": "#%%\n"
    },
    "tags": []
   },
   "outputs": [
    {
     "data": {
      "text/html": [
       "<div>\n",
       "<style scoped>\n",
       "    .dataframe tbody tr th:only-of-type {\n",
       "        vertical-align: middle;\n",
       "    }\n",
       "\n",
       "    .dataframe tbody tr th {\n",
       "        vertical-align: top;\n",
       "    }\n",
       "\n",
       "    .dataframe thead th {\n",
       "        text-align: right;\n",
       "    }\n",
       "</style>\n",
       "<table border=\"1\" class=\"dataframe\">\n",
       "  <thead>\n",
       "    <tr style=\"text-align: right;\">\n",
       "      <th>Generation to Upload Period in Days</th>\n",
       "      <th>0</th>\n",
       "      <th>1</th>\n",
       "      <th>2</th>\n",
       "      <th>3</th>\n",
       "      <th>4</th>\n",
       "      <th>5</th>\n",
       "      <th>6</th>\n",
       "      <th>7</th>\n",
       "      <th>8</th>\n",
       "      <th>9</th>\n",
       "      <th>10</th>\n",
       "      <th>11</th>\n",
       "      <th>12</th>\n",
       "      <th>13</th>\n",
       "    </tr>\n",
       "    <tr>\n",
       "      <th>Upload Date (UTC)</th>\n",
       "      <th></th>\n",
       "      <th></th>\n",
       "      <th></th>\n",
       "      <th></th>\n",
       "      <th></th>\n",
       "      <th></th>\n",
       "      <th></th>\n",
       "      <th></th>\n",
       "      <th></th>\n",
       "      <th></th>\n",
       "      <th></th>\n",
       "      <th></th>\n",
       "      <th></th>\n",
       "      <th></th>\n",
       "    </tr>\n",
       "  </thead>\n",
       "  <tbody>\n",
       "    <tr>\n",
       "      <th>2020-10-24</th>\n",
       "      <td>3</td>\n",
       "      <td>11</td>\n",
       "      <td>2</td>\n",
       "      <td>2</td>\n",
       "      <td>2</td>\n",
       "      <td>2</td>\n",
       "      <td>0</td>\n",
       "      <td>0</td>\n",
       "      <td>0</td>\n",
       "      <td>0</td>\n",
       "      <td>0</td>\n",
       "      <td>0</td>\n",
       "      <td>0</td>\n",
       "      <td>0</td>\n",
       "    </tr>\n",
       "    <tr>\n",
       "      <th>2020-10-23</th>\n",
       "      <td>167</td>\n",
       "      <td>145</td>\n",
       "      <td>129</td>\n",
       "      <td>106</td>\n",
       "      <td>85</td>\n",
       "      <td>58</td>\n",
       "      <td>29</td>\n",
       "      <td>19</td>\n",
       "      <td>14</td>\n",
       "      <td>9</td>\n",
       "      <td>3</td>\n",
       "      <td>3</td>\n",
       "      <td>1</td>\n",
       "      <td>1</td>\n",
       "    </tr>\n",
       "    <tr>\n",
       "      <th>2020-10-22</th>\n",
       "      <td>180</td>\n",
       "      <td>132</td>\n",
       "      <td>114</td>\n",
       "      <td>100</td>\n",
       "      <td>76</td>\n",
       "      <td>51</td>\n",
       "      <td>26</td>\n",
       "      <td>18</td>\n",
       "      <td>10</td>\n",
       "      <td>6</td>\n",
       "      <td>4</td>\n",
       "      <td>4</td>\n",
       "      <td>3</td>\n",
       "      <td>2</td>\n",
       "    </tr>\n",
       "    <tr>\n",
       "      <th>2020-10-21</th>\n",
       "      <td>157</td>\n",
       "      <td>153</td>\n",
       "      <td>136</td>\n",
       "      <td>120</td>\n",
       "      <td>97</td>\n",
       "      <td>62</td>\n",
       "      <td>34</td>\n",
       "      <td>28</td>\n",
       "      <td>20</td>\n",
       "      <td>15</td>\n",
       "      <td>9</td>\n",
       "      <td>4</td>\n",
       "      <td>3</td>\n",
       "      <td>3</td>\n",
       "    </tr>\n",
       "    <tr>\n",
       "      <th>2020-10-20</th>\n",
       "      <td>149</td>\n",
       "      <td>135</td>\n",
       "      <td>119</td>\n",
       "      <td>106</td>\n",
       "      <td>79</td>\n",
       "      <td>59</td>\n",
       "      <td>47</td>\n",
       "      <td>25</td>\n",
       "      <td>21</td>\n",
       "      <td>13</td>\n",
       "      <td>8</td>\n",
       "      <td>6</td>\n",
       "      <td>3</td>\n",
       "      <td>2</td>\n",
       "    </tr>\n",
       "    <tr>\n",
       "      <th>2020-10-19</th>\n",
       "      <td>142</td>\n",
       "      <td>123</td>\n",
       "      <td>118</td>\n",
       "      <td>105</td>\n",
       "      <td>86</td>\n",
       "      <td>72</td>\n",
       "      <td>45</td>\n",
       "      <td>33</td>\n",
       "      <td>22</td>\n",
       "      <td>17</td>\n",
       "      <td>12</td>\n",
       "      <td>9</td>\n",
       "      <td>4</td>\n",
       "      <td>3</td>\n",
       "    </tr>\n",
       "    <tr>\n",
       "      <th>2020-10-18</th>\n",
       "      <td>146</td>\n",
       "      <td>132</td>\n",
       "      <td>114</td>\n",
       "      <td>96</td>\n",
       "      <td>87</td>\n",
       "      <td>54</td>\n",
       "      <td>33</td>\n",
       "      <td>18</td>\n",
       "      <td>12</td>\n",
       "      <td>10</td>\n",
       "      <td>9</td>\n",
       "      <td>7</td>\n",
       "      <td>5</td>\n",
       "      <td>3</td>\n",
       "    </tr>\n",
       "    <tr>\n",
       "      <th>2020-10-17</th>\n",
       "      <td>174</td>\n",
       "      <td>138</td>\n",
       "      <td>118</td>\n",
       "      <td>108</td>\n",
       "      <td>84</td>\n",
       "      <td>54</td>\n",
       "      <td>32</td>\n",
       "      <td>19</td>\n",
       "      <td>15</td>\n",
       "      <td>11</td>\n",
       "      <td>7</td>\n",
       "      <td>4</td>\n",
       "      <td>2</td>\n",
       "      <td>1</td>\n",
       "    </tr>\n",
       "    <tr>\n",
       "      <th>2020-10-16</th>\n",
       "      <td>149</td>\n",
       "      <td>141</td>\n",
       "      <td>125</td>\n",
       "      <td>107</td>\n",
       "      <td>84</td>\n",
       "      <td>53</td>\n",
       "      <td>32</td>\n",
       "      <td>24</td>\n",
       "      <td>20</td>\n",
       "      <td>15</td>\n",
       "      <td>7</td>\n",
       "      <td>5</td>\n",
       "      <td>3</td>\n",
       "      <td>4</td>\n",
       "    </tr>\n",
       "    <tr>\n",
       "      <th>2020-10-15</th>\n",
       "      <td>151</td>\n",
       "      <td>175</td>\n",
       "      <td>104</td>\n",
       "      <td>86</td>\n",
       "      <td>58</td>\n",
       "      <td>38</td>\n",
       "      <td>23</td>\n",
       "      <td>14</td>\n",
       "      <td>8</td>\n",
       "      <td>6</td>\n",
       "      <td>4</td>\n",
       "      <td>2</td>\n",
       "      <td>1</td>\n",
       "      <td>1</td>\n",
       "    </tr>\n",
       "    <tr>\n",
       "      <th>2020-10-14</th>\n",
       "      <td>1</td>\n",
       "      <td>133</td>\n",
       "      <td>80</td>\n",
       "      <td>69</td>\n",
       "      <td>54</td>\n",
       "      <td>38</td>\n",
       "      <td>30</td>\n",
       "      <td>24</td>\n",
       "      <td>14</td>\n",
       "      <td>9</td>\n",
       "      <td>6</td>\n",
       "      <td>3</td>\n",
       "      <td>1</td>\n",
       "      <td>1</td>\n",
       "    </tr>\n",
       "    <tr>\n",
       "      <th>2020-10-13</th>\n",
       "      <td>1</td>\n",
       "      <td>112</td>\n",
       "      <td>61</td>\n",
       "      <td>50</td>\n",
       "      <td>37</td>\n",
       "      <td>32</td>\n",
       "      <td>19</td>\n",
       "      <td>10</td>\n",
       "      <td>4</td>\n",
       "      <td>4</td>\n",
       "      <td>2</td>\n",
       "      <td>1</td>\n",
       "      <td>1</td>\n",
       "      <td>0</td>\n",
       "    </tr>\n",
       "    <tr>\n",
       "      <th>2020-10-12</th>\n",
       "      <td>2</td>\n",
       "      <td>136</td>\n",
       "      <td>53</td>\n",
       "      <td>47</td>\n",
       "      <td>33</td>\n",
       "      <td>19</td>\n",
       "      <td>14</td>\n",
       "      <td>12</td>\n",
       "      <td>5</td>\n",
       "      <td>2</td>\n",
       "      <td>2</td>\n",
       "      <td>1</td>\n",
       "      <td>0</td>\n",
       "      <td>0</td>\n",
       "    </tr>\n",
       "    <tr>\n",
       "      <th>2020-10-11</th>\n",
       "      <td>1</td>\n",
       "      <td>147</td>\n",
       "      <td>75</td>\n",
       "      <td>62</td>\n",
       "      <td>51</td>\n",
       "      <td>38</td>\n",
       "      <td>18</td>\n",
       "      <td>9</td>\n",
       "      <td>6</td>\n",
       "      <td>5</td>\n",
       "      <td>3</td>\n",
       "      <td>3</td>\n",
       "      <td>2</td>\n",
       "      <td>2</td>\n",
       "    </tr>\n",
       "  </tbody>\n",
       "</table>\n",
       "</div>"
      ],
      "text/plain": [
       "Generation to Upload Period in Days   0    1    2    3   4   5   6   7   8   \\\n",
       "Upload Date (UTC)                                                             \n",
       "2020-10-24                             3   11    2    2   2   2   0   0   0   \n",
       "2020-10-23                           167  145  129  106  85  58  29  19  14   \n",
       "2020-10-22                           180  132  114  100  76  51  26  18  10   \n",
       "2020-10-21                           157  153  136  120  97  62  34  28  20   \n",
       "2020-10-20                           149  135  119  106  79  59  47  25  21   \n",
       "2020-10-19                           142  123  118  105  86  72  45  33  22   \n",
       "2020-10-18                           146  132  114   96  87  54  33  18  12   \n",
       "2020-10-17                           174  138  118  108  84  54  32  19  15   \n",
       "2020-10-16                           149  141  125  107  84  53  32  24  20   \n",
       "2020-10-15                           151  175  104   86  58  38  23  14   8   \n",
       "2020-10-14                             1  133   80   69  54  38  30  24  14   \n",
       "2020-10-13                             1  112   61   50  37  32  19  10   4   \n",
       "2020-10-12                             2  136   53   47  33  19  14  12   5   \n",
       "2020-10-11                             1  147   75   62  51  38  18   9   6   \n",
       "\n",
       "Generation to Upload Period in Days  9   10  11  12  13  \n",
       "Upload Date (UTC)                                        \n",
       "2020-10-24                            0   0   0   0   0  \n",
       "2020-10-23                            9   3   3   1   1  \n",
       "2020-10-22                            6   4   4   3   2  \n",
       "2020-10-21                           15   9   4   3   3  \n",
       "2020-10-20                           13   8   6   3   2  \n",
       "2020-10-19                           17  12   9   4   3  \n",
       "2020-10-18                           10   9   7   5   3  \n",
       "2020-10-17                           11   7   4   2   1  \n",
       "2020-10-16                           15   7   5   3   4  \n",
       "2020-10-15                            6   4   2   1   1  \n",
       "2020-10-14                            9   6   3   1   1  \n",
       "2020-10-13                            4   2   1   1   0  \n",
       "2020-10-12                            2   2   1   0   0  \n",
       "2020-10-11                            5   3   3   2   2  "
      ]
     },
     "execution_count": 49,
     "metadata": {},
     "output_type": "execute_result"
    }
   ],
   "source": [
    "display_generation_to_upload_period_pivot_df = \\\n",
    "    generation_to_upload_period_pivot_df \\\n",
    "        .head(backend_generation_days)\n",
    "display_generation_to_upload_period_pivot_df \\\n",
    "    .head(backend_generation_days) \\\n",
    "    .rename_axis(columns=display_column_name_mapping) \\\n",
    "    .rename_axis(index=display_column_name_mapping)"
   ]
  },
  {
   "cell_type": "code",
   "execution_count": 50,
   "metadata": {
    "collapsed": false,
    "execution": {
     "iopub.execute_input": "2020-10-24T04:30:58.838943Z",
     "iopub.status.busy": "2020-10-24T04:30:58.838402Z",
     "iopub.status.idle": "2020-10-24T04:30:59.699171Z",
     "shell.execute_reply": "2020-10-24T04:30:59.699930Z"
    },
    "papermill": {
     "duration": 0.935545,
     "end_time": "2020-10-24T04:30:59.700091",
     "exception": false,
     "start_time": "2020-10-24T04:30:58.764546",
     "status": "completed"
    },
    "pycharm": {
     "name": "#%%\n"
    },
    "tags": []
   },
   "outputs": [
    {
     "data": {
      "image/png": "[encoded data removed]",
      "text/plain": [
       "<Figure size 720x576 with 2 Axes>"
      ]
     },
     "metadata": {},
     "output_type": "display_data"
    }
   ],
   "source": [
    "import matplotlib.pyplot as plt\n",
    "\n",
    "fig, generation_to_upload_period_pivot_table_ax = plt.subplots(\n",
    "    figsize=(10, 1 + 0.5 * len(display_generation_to_upload_period_pivot_df)))\n",
    "generation_to_upload_period_pivot_table_ax.set_title(\n",
    "    \"Shared TEKs Generation to Upload Period Table\")\n",
    "sns.heatmap(\n",
    "    data=display_generation_to_upload_period_pivot_df\n",
    "        .rename_axis(columns=display_column_name_mapping)\n",
    "        .rename_axis(index=display_column_name_mapping),\n",
    "    fmt=\".0f\",\n",
    "    annot=True,\n",
    "    ax=generation_to_upload_period_pivot_table_ax)\n",
    "generation_to_upload_period_pivot_table_ax.get_figure().tight_layout()"
   ]
  },
  {
   "cell_type": "markdown",
   "metadata": {
    "execution": {
     "iopub.execute_input": "2020-09-02T08:20:16.278300Z",
     "iopub.status.busy": "2020-09-02T08:20:16.277679Z",
     "iopub.status.idle": "2020-09-02T08:20:16.821909Z",
     "shell.execute_reply": "2020-09-02T08:20:16.822577Z"
    },
    "papermill": {
     "duration": 0.068164,
     "end_time": "2020-10-24T04:30:59.838158",
     "exception": false,
     "start_time": "2020-10-24T04:30:59.769994",
     "status": "completed"
    },
    "pycharm": {
     "name": "#%% md\n"
    },
    "tags": []
   },
   "source": [
    "### Hourly Summary Plots "
   ]
  },
  {
   "cell_type": "code",
   "execution_count": 51,
   "metadata": {
    "execution": {
     "iopub.execute_input": "2020-10-24T04:30:59.983139Z",
     "iopub.status.busy": "2020-10-24T04:30:59.982529Z",
     "iopub.status.idle": "2020-10-24T04:31:00.489092Z",
     "shell.execute_reply": "2020-10-24T04:31:00.489515Z"
    },
    "papermill": {
     "duration": 0.584888,
     "end_time": "2020-10-24T04:31:00.489723",
     "exception": false,
     "start_time": "2020-10-24T04:30:59.904835",
     "status": "completed"
    },
    "pycharm": {
     "name": "#%%\n"
    },
    "tags": []
   },
   "outputs": [
    {
     "data": {
      "image/png": "[encoded data removed]",
      "text/plain": [
       "<Figure size 1080x432 with 2 Axes>"
      ]
     },
     "metadata": {},
     "output_type": "display_data"
    }
   ],
   "source": [
    "hourly_summary_ax_list = hourly_summary_df \\\n",
    "    .rename_axis(index=display_column_name_mapping) \\\n",
    "    .rename(columns=display_column_name_mapping) \\\n",
    "    .plot.bar(\n",
    "        title=f\"Last 24h Summary\",\n",
    "        rot=45, subplots=True, legend=False)\n",
    "ax_ = hourly_summary_ax_list[-1]\n",
    "ax_.get_figure().tight_layout()\n",
    "ax_.get_figure().subplots_adjust(top=0.9)\n",
    "_ = ax_.set_xticklabels(sorted(hourly_summary_df.index.strftime(\"%Y-%m-%d@%H\").tolist()))"
   ]
  },
  {
   "cell_type": "markdown",
   "metadata": {
    "execution": {
     "iopub.execute_input": "2020-09-02T08:20:16.981187Z",
     "iopub.status.busy": "2020-09-02T08:20:16.980584Z",
     "iopub.status.idle": "2020-09-02T08:20:20.068070Z",
     "shell.execute_reply": "2020-09-02T08:20:20.068598Z"
    },
    "papermill": {
     "duration": 0.068507,
     "end_time": "2020-10-24T04:31:00.628205",
     "exception": false,
     "start_time": "2020-10-24T04:31:00.559698",
     "status": "completed"
    },
    "pycharm": {
     "name": "#%% md\n"
    },
    "tags": []
   },
   "source": [
    "### Publish Results"
   ]
  },
  {
   "cell_type": "code",
   "execution_count": 52,
   "metadata": {
    "collapsed": false,
    "execution": {
     "iopub.execute_input": "2020-10-24T04:31:00.770795Z",
     "iopub.status.busy": "2020-10-24T04:31:00.770249Z",
     "iopub.status.idle": "2020-10-24T04:31:00.774120Z",
     "shell.execute_reply": "2020-10-24T04:31:00.773625Z"
    },
    "papermill": {
     "duration": 0.078149,
     "end_time": "2020-10-24T04:31:00.774250",
     "exception": false,
     "start_time": "2020-10-24T04:31:00.696101",
     "status": "completed"
    },
    "pycharm": {
     "name": "#%%\n"
    },
    "tags": []
   },
   "outputs": [],
   "source": [
    "def get_temporary_image_path() -> str:\n",
    "    return os.path.join(tempfile.gettempdir(), str(uuid.uuid4()) + \".png\")\n",
    "\n",
    "def save_temporary_plot_image(ax):\n",
    "    if isinstance(ax, np.ndarray):\n",
    "        ax = ax[0]\n",
    "    media_path = get_temporary_image_path()\n",
    "    ax.get_figure().savefig(media_path)\n",
    "    return media_path\n",
    "\n",
    "def save_temporary_dataframe_image(df):\n",
    "    import dataframe_image as dfi\n",
    "    media_path = get_temporary_image_path()\n",
    "    dfi.export(df, media_path)\n",
    "    return media_path"
   ]
  },
  {
   "cell_type": "code",
   "execution_count": 53,
   "metadata": {
    "collapsed": false,
    "execution": {
     "iopub.execute_input": "2020-10-24T04:31:00.952450Z",
     "iopub.status.busy": "2020-10-24T04:31:00.951174Z",
     "iopub.status.idle": "2020-10-24T04:31:00.953064Z",
     "shell.execute_reply": "2020-10-24T04:31:00.953493Z"
    },
    "papermill": {
     "duration": 0.105628,
     "end_time": "2020-10-24T04:31:00.953669",
     "exception": false,
     "start_time": "2020-10-24T04:31:00.848041",
     "status": "completed"
    },
    "pycharm": {
     "name": "#%%\n"
    },
    "tags": []
   },
   "outputs": [],
   "source": [
    "github_repository = os.environ.get(\"GITHUB_REPOSITORY\")\n",
    "if github_repository is None:\n",
    "    github_repository = \"pvieito/Radar-STATS\"\n",
    "\n",
    "github_project_base_url = \"https://github.com/\" + github_repository\n",
    "\n",
    "display_formatters = {\n",
    "    display_column_name_mapping[\"teks_per_shared_diagnosis\"]: lambda x: f\"{x:.2f}\",\n",
    "    display_column_name_mapping[\"shared_diagnoses_per_covid_case\"]: lambda x: f\"{x:.2%}\",\n",
    "}\n",
    "daily_summary_table_html = result_summary_with_display_names_df \\\n",
    "    .head(daily_plot_days) \\\n",
    "    .rename_axis(index=display_column_name_mapping) \\\n",
    "    .rename(columns=display_column_name_mapping) \\\n",
    "    .to_html(formatters=display_formatters)\n",
    "multi_backend_summary_table_html = multi_backend_summary_df \\\n",
    "    .head(daily_plot_days) \\\n",
    "    .rename_axis(columns=display_column_name_mapping) \\\n",
    "    .rename(columns=display_column_name_mapping) \\\n",
    "    .rename_axis(index=display_column_name_mapping) \\\n",
    "    .to_html(formatters=display_formatters)\n",
    "\n",
    "extraction_date_result_summary_df = \\\n",
    "    result_summary_df[result_summary_df.index == extraction_date]\n",
    "extraction_date_result_hourly_summary_df = \\\n",
    "    hourly_summary_df[hourly_summary_df.extraction_date_with_hour == extraction_date_with_hour]\n",
    "\n",
    "covid_cases = \\\n",
    "    extraction_date_result_summary_df.covid_cases.sum()\n",
    "shared_teks_by_generation_date = \\\n",
    "    extraction_date_result_summary_df.shared_teks_by_generation_date.sum()\n",
    "shared_teks_by_upload_date = \\\n",
    "    extraction_date_result_summary_df.shared_teks_by_upload_date.sum()\n",
    "shared_diagnoses = \\\n",
    "    extraction_date_result_summary_df.shared_diagnoses.sum()\n",
    "teks_per_shared_diagnosis = \\\n",
    "    extraction_date_result_summary_df.teks_per_shared_diagnosis.sum()\n",
    "shared_diagnoses_per_covid_case = \\\n",
    "    extraction_date_result_summary_df.shared_diagnoses_per_covid_case.sum()\n",
    "\n",
    "shared_teks_by_upload_date_last_hour = \\\n",
    "    extraction_date_result_hourly_summary_df.shared_teks_by_upload_date.sum().astype(int)\n",
    "shared_diagnoses_last_hour = \\\n",
    "    extraction_date_result_hourly_summary_df.shared_diagnoses.sum().astype(int)\n",
    "\n",
    "display_source_regions = \", \".join(report_source_regions)"
   ]
  },
  {
   "cell_type": "code",
   "execution_count": 54,
   "metadata": {
    "execution": {
     "iopub.execute_input": "2020-10-24T04:31:01.097937Z",
     "iopub.status.busy": "2020-10-24T04:31:01.097354Z",
     "iopub.status.idle": "2020-10-24T04:31:08.712762Z",
     "shell.execute_reply": "2020-10-24T04:31:08.713610Z"
    },
    "papermill": {
     "duration": 7.69123,
     "end_time": "2020-10-24T04:31:08.713808",
     "exception": false,
     "start_time": "2020-10-24T04:31:01.022578",
     "status": "completed"
    },
    "pycharm": {
     "name": "#%%\n"
    },
    "tags": []
   },
   "outputs": [],
   "source": [
    "summary_plots_image_path = save_temporary_plot_image(\n",
    "    ax=summary_ax_list)\n",
    "summary_table_image_path = save_temporary_dataframe_image(\n",
    "    df=result_summary_with_display_names_df)\n",
    "hourly_summary_plots_image_path = save_temporary_plot_image(\n",
    "    ax=hourly_summary_ax_list)\n",
    "multi_backend_summary_table_image_path = save_temporary_dataframe_image(\n",
    "    df=multi_backend_summary_df)\n",
    "generation_to_upload_period_pivot_table_image_path = save_temporary_plot_image(\n",
    "    ax=generation_to_upload_period_pivot_table_ax)"
   ]
  },
  {
   "cell_type": "markdown",
   "metadata": {
    "execution": {
     "iopub.execute_input": "2020-09-02T08:20:20.895901Z",
     "iopub.status.busy": "2020-09-02T08:20:20.895301Z",
     "iopub.status.idle": "2020-09-02T08:20:20.942286Z",
     "shell.execute_reply": "2020-09-02T08:20:20.942834Z"
    },
    "papermill": {
     "duration": 0.069477,
     "end_time": "2020-10-24T04:31:08.854464",
     "exception": false,
     "start_time": "2020-10-24T04:31:08.784987",
     "status": "completed"
    },
    "pycharm": {
     "name": "#%% md\n"
    },
    "tags": []
   },
   "source": [
    "### Save Results"
   ]
  },
  {
   "cell_type": "code",
   "execution_count": 55,
   "metadata": {
    "collapsed": false,
    "execution": {
     "iopub.execute_input": "2020-10-24T04:31:09.000575Z",
     "iopub.status.busy": "2020-10-24T04:31:08.999456Z",
     "iopub.status.idle": "2020-10-24T04:31:09.021365Z",
     "shell.execute_reply": "2020-10-24T04:31:09.020896Z"
    },
    "papermill": {
     "duration": 0.097175,
     "end_time": "2020-10-24T04:31:09.021498",
     "exception": false,
     "start_time": "2020-10-24T04:31:08.924323",
     "status": "completed"
    },
    "pycharm": {
     "name": "#%%\n"
    },
    "tags": []
   },
   "outputs": [],
   "source": [
    "report_resources_path_prefix = \"Data/Resources/Current/RadarCOVID-Report-\"\n",
    "result_summary_df.to_csv(\n",
    "    report_resources_path_prefix + \"Summary-Table.csv\")\n",
    "result_summary_df.to_html(\n",
    "    report_resources_path_prefix + \"Summary-Table.html\")\n",
    "hourly_summary_df.to_csv(\n",
    "    report_resources_path_prefix + \"Hourly-Summary-Table.csv\")\n",
    "multi_backend_summary_df.to_csv(\n",
    "    report_resources_path_prefix + \"Multi-Backend-Summary-Table.csv\")\n",
    "generation_to_upload_period_pivot_df.to_csv(\n",
    "    report_resources_path_prefix + \"Generation-Upload-Period-Table.csv\")\n",
    "_ = shutil.copyfile(\n",
    "    summary_plots_image_path,\n",
    "    report_resources_path_prefix + \"Summary-Plots.png\")\n",
    "_ = shutil.copyfile(\n",
    "    summary_table_image_path,\n",
    "    report_resources_path_prefix + \"Summary-Table.png\")\n",
    "_ = shutil.copyfile(\n",
    "    hourly_summary_plots_image_path,\n",
    "    report_resources_path_prefix + \"Hourly-Summary-Plots.png\")\n",
    "_ = shutil.copyfile(\n",
    "    multi_backend_summary_table_image_path,\n",
    "    report_resources_path_prefix + \"Multi-Backend-Summary-Table.png\")\n",
    "_ = shutil.copyfile(\n",
    "    generation_to_upload_period_pivot_table_image_path,\n",
    "    report_resources_path_prefix + \"Generation-Upload-Period-Table.png\")"
   ]
  },
  {
   "cell_type": "markdown",
   "metadata": {
    "collapsed": false,
    "papermill": {
     "duration": 0.070308,
     "end_time": "2020-10-24T04:31:09.162953",
     "exception": false,
     "start_time": "2020-10-24T04:31:09.092645",
     "status": "completed"
    },
    "pycharm": {
     "name": "#%% md\n"
    },
    "tags": []
   },
   "source": [
    "### Publish Results as JSON"
   ]
  },
  {
   "cell_type": "code",
   "execution_count": 56,
   "metadata": {
    "collapsed": false,
    "execution": {
     "iopub.execute_input": "2020-10-24T04:31:09.325866Z",
     "iopub.status.busy": "2020-10-24T04:31:09.324806Z",
     "iopub.status.idle": "2020-10-24T04:31:09.326909Z",
     "shell.execute_reply": "2020-10-24T04:31:09.327667Z"
    },
    "papermill": {
     "duration": 0.090408,
     "end_time": "2020-10-24T04:31:09.327917",
     "exception": false,
     "start_time": "2020-10-24T04:31:09.237509",
     "status": "completed"
    },
    "pycharm": {
     "name": "#%%\n"
    },
    "tags": []
   },
   "outputs": [],
   "source": [
    "summary_results_api_df = result_summary_df.reset_index()\n",
    "summary_results_api_df[\"sample_date_string\"] = \\\n",
    "    summary_results_api_df[\"sample_date\"].dt.strftime(\"%Y-%m-%d\")\n",
    "\n",
    "summary_results = dict(\n",
    "    source_regions=report_source_regions,\n",
    "    extraction_datetime=extraction_datetime,\n",
    "    extraction_date=extraction_date,\n",
    "    extraction_date_with_hour=extraction_date_with_hour,\n",
    "    last_hour=dict(\n",
    "        shared_teks_by_upload_date=shared_teks_by_upload_date_last_hour,\n",
    "        shared_diagnoses=shared_diagnoses_last_hour,\n",
    "    ),\n",
    "    today=dict(\n",
    "        covid_cases=covid_cases,\n",
    "        shared_teks_by_generation_date=shared_teks_by_generation_date,\n",
    "        shared_teks_by_upload_date=shared_teks_by_upload_date,\n",
    "        shared_diagnoses=shared_diagnoses,\n",
    "        teks_per_shared_diagnosis=teks_per_shared_diagnosis,\n",
    "        shared_diagnoses_per_covid_case=shared_diagnoses_per_covid_case,\n",
    "    ),\n",
    "    last_7_days=last_7_days_summary,\n",
    "    daily_results=summary_results_api_df.to_dict(orient=\"records\"))\n",
    "summary_results = \\\n",
    "    json.loads(pd.Series([summary_results]).to_json(orient=\"records\"))[0]\n",
    "\n",
    "with open(report_resources_path_prefix + \"Summary-Results.json\", \"w\") as f:\n",
    "    json.dump(summary_results, f, indent=4)"
   ]
  },
  {
   "cell_type": "markdown",
   "metadata": {
    "collapsed": false,
    "papermill": {
     "duration": 0.07223,
     "end_time": "2020-10-24T04:31:09.473439",
     "exception": false,
     "start_time": "2020-10-24T04:31:09.401209",
     "status": "completed"
    },
    "pycharm": {
     "name": "#%% md\n"
    },
    "tags": []
   },
   "source": [
    "### Publish on README"
   ]
  },
  {
   "cell_type": "code",
   "execution_count": 57,
   "metadata": {
    "collapsed": false,
    "execution": {
     "iopub.execute_input": "2020-10-24T04:31:09.622953Z",
     "iopub.status.busy": "2020-10-24T04:31:09.621972Z",
     "iopub.status.idle": "2020-10-24T04:31:09.623958Z",
     "shell.execute_reply": "2020-10-24T04:31:09.624706Z"
    },
    "papermill": {
     "duration": 0.080315,
     "end_time": "2020-10-24T04:31:09.624943",
     "exception": false,
     "start_time": "2020-10-24T04:31:09.544628",
     "status": "completed"
    },
    "pycharm": {
     "name": "#%%\n"
    },
    "tags": []
   },
   "outputs": [],
   "source": [
    "with open(\"Data/Templates/README.md\", \"r\") as f:\n",
    "    readme_contents = f.read()\n",
    "\n",
    "readme_contents = readme_contents.format(\n",
    "    extraction_date_with_hour=extraction_date_with_hour,\n",
    "    github_project_base_url=github_project_base_url,\n",
    "    daily_summary_table_html=daily_summary_table_html,\n",
    "    multi_backend_summary_table_html=multi_backend_summary_table_html,\n",
    "    display_source_regions=display_source_regions)\n",
    "\n",
    "with open(\"README.md\", \"w\") as f:\n",
    "    f.write(readme_contents)"
   ]
  },
  {
   "cell_type": "markdown",
   "metadata": {
    "collapsed": false,
    "papermill": {
     "duration": 0.074328,
     "end_time": "2020-10-24T04:31:09.773324",
     "exception": false,
     "start_time": "2020-10-24T04:31:09.698996",
     "status": "completed"
    },
    "pycharm": {
     "name": "#%% md\n"
    },
    "tags": []
   },
   "source": [
    "### Publish on Twitter"
   ]
  },
  {
   "cell_type": "code",
   "execution_count": 58,
   "metadata": {
    "collapsed": false,
    "execution": {
     "iopub.execute_input": "2020-10-24T04:31:09.935529Z",
     "iopub.status.busy": "2020-10-24T04:31:09.934898Z",
     "iopub.status.idle": "2020-10-24T04:31:18.372035Z",
     "shell.execute_reply": "2020-10-24T04:31:18.370947Z"
    },
    "papermill": {
     "duration": 8.523935,
     "end_time": "2020-10-24T04:31:18.372176",
     "exception": false,
     "start_time": "2020-10-24T04:31:09.848241",
     "status": "completed"
    },
    "pycharm": {
     "name": "#%%\n"
    },
    "tags": []
   },
   "outputs": [],
   "source": [
    "enable_share_to_twitter = os.environ.get(\"RADARCOVID_REPORT__ENABLE_PUBLISH_ON_TWITTER\")\n",
    "github_event_name = os.environ.get(\"GITHUB_EVENT_NAME\")\n",
    "\n",
    "if enable_share_to_twitter and github_event_name == \"schedule\":\n",
    "    import tweepy\n",
    "\n",
    "    twitter_api_auth_keys = os.environ[\"RADARCOVID_REPORT__TWITTER_API_AUTH_KEYS\"]\n",
    "    twitter_api_auth_keys = twitter_api_auth_keys.split(\":\")\n",
    "    auth = tweepy.OAuthHandler(twitter_api_auth_keys[0], twitter_api_auth_keys[1])\n",
    "    auth.set_access_token(twitter_api_auth_keys[2], twitter_api_auth_keys[3])\n",
    "\n",
    "    api = tweepy.API(auth)\n",
    "\n",
    "    summary_plots_media = api.media_upload(summary_plots_image_path)\n",
    "    summary_table_media = api.media_upload(summary_table_image_path)\n",
    "    generation_to_upload_period_pivot_table_image_media = api.media_upload(generation_to_upload_period_pivot_table_image_path)\n",
    "    media_ids = [\n",
    "        summary_plots_media.media_id,\n",
    "        summary_table_media.media_id,\n",
    "        generation_to_upload_period_pivot_table_image_media.media_id,\n",
    "    ]\n",
    "\n",
    "    status = textwrap.dedent(f\"\"\"\n",
    "        #RadarCOVID Report – {extraction_date_with_hour}\n",
    "\n",
    "        Source Countries: {display_source_regions}\n",
    "\n",
    "        Today:\n",
    "        - Uploaded TEKs: {shared_teks_by_upload_date:.0f} ({shared_teks_by_upload_date_last_hour:+d} last hour)\n",
    "        - Shared Diagnoses: ≤{shared_diagnoses:.0f} ({shared_diagnoses_last_hour:+d} last hour)\n",
    "        - Usage Ratio: ≤{shared_diagnoses_per_covid_case:.2%}\n",
    "\n",
    "        Week:\n",
    "        - Shared Diagnoses: ≤{last_7_days_summary[\"shared_diagnoses\"]:.0f}\n",
    "        - Usage Ratio: ≤{last_7_days_summary[\"shared_diagnoses_per_covid_case\"]:.2%}\n",
    "\n",
    "        More Info: {github_project_base_url}#documentation\n",
    "        \"\"\")\n",
    "    status = status.encode(encoding=\"utf-8\")\n",
    "    api.update_status(status=status, media_ids=media_ids)"
   ]
  },
  {
   "cell_type": "code",
   "execution_count": null,
   "metadata": {
    "collapsed": false,
    "papermill": {
     "duration": 0.075189,
     "end_time": "2020-10-24T04:31:18.522305",
     "exception": false,
     "start_time": "2020-10-24T04:31:18.447116",
     "status": "completed"
    },
    "pycharm": {
     "name": "#%%\n"
    },
    "tags": []
   },
   "outputs": [],
   "source": []
  }
 ],
 "metadata": {
  "kernelspec": {
   "display_name": "Python 3",
   "language": "python",
   "name": "python3"
  },
  "language_info": {
   "codemirror_mode": {
    "name": "ipython",
    "version": 3
   },
   "file_extension": ".py",
   "mimetype": "text/x-python",
   "name": "python",
   "nbconvert_exporter": "python",
   "pygments_lexer": "ipython3",
   "version": "3.8.6"
  },
  "papermill": {
   "duration": 227.166122,
   "end_time": "2020-10-24T04:31:19.402417",
   "environment_variables": {},
   "exception": null,
   "input_path": "Notebooks/RadarCOVID-Report/Source/RadarCOVID-Report.ipynb",
   "output_path": "RadarCOVID-Report.ipynb",
   "parameters": {},
   "start_time": "2020-10-24T04:27:32.236295",
   "version": "2.1.3"
  }
 },
 "nbformat": 4,
 "nbformat_minor": 1
}