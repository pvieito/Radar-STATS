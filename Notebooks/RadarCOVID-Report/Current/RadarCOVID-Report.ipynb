{
 "cells": [
  {
   "cell_type": "markdown",
   "metadata": {
    "papermill": {
     "duration": 0.037928,
     "end_time": "2020-10-25T03:24:02.157422",
     "exception": false,
     "start_time": "2020-10-25T03:24:02.119494",
     "status": "completed"
    },
    "pycharm": {
     "name": "#%% md\n"
    },
    "tags": []
   },
   "source": [
    "# RadarCOVID-Report"
   ]
  },
  {
   "cell_type": "markdown",
   "metadata": {
    "collapsed": true,
    "papermill": {
     "duration": 0.035585,
     "end_time": "2020-10-25T03:24:02.226063",
     "exception": false,
     "start_time": "2020-10-25T03:24:02.190478",
     "status": "completed"
    },
    "pycharm": {
     "name": "#%% md\n"
    },
    "tags": []
   },
   "source": [
    "## Data Extraction"
   ]
  },
  {
   "cell_type": "code",
   "execution_count": 1,
   "metadata": {
    "execution": {
     "iopub.execute_input": "2020-10-25T03:24:02.303257Z",
     "iopub.status.busy": "2020-10-25T03:24:02.301804Z",
     "iopub.status.idle": "2020-10-25T03:24:05.153421Z",
     "shell.execute_reply": "2020-10-25T03:24:05.152045Z"
    },
    "papermill": {
     "duration": 2.894089,
     "end_time": "2020-10-25T03:24:05.153609",
     "exception": false,
     "start_time": "2020-10-25T03:24:02.259520",
     "status": "completed"
    },
    "pycharm": {
     "name": "#%%\n"
    },
    "tags": []
   },
   "outputs": [],
   "source": [
    "import datetime\n",
    "import json\n",
    "import logging\n",
    "import os\n",
    "import shutil\n",
    "import tempfile\n",
    "import textwrap\n",
    "import uuid\n",
    "\n",
    "import matplotlib.ticker\n",
    "import numpy as np\n",
    "import pandas as pd\n",
    "import seaborn as sns\n",
    "\n",
    "%matplotlib inline"
   ]
  },
  {
   "cell_type": "code",
   "execution_count": 2,
   "metadata": {
    "collapsed": false,
    "execution": {
     "iopub.execute_input": "2020-10-25T03:24:05.255005Z",
     "iopub.status.busy": "2020-10-25T03:24:05.253878Z",
     "iopub.status.idle": "2020-10-25T03:24:05.260706Z",
     "shell.execute_reply": "2020-10-25T03:24:05.261448Z"
    },
    "papermill": {
     "duration": 0.07348,
     "end_time": "2020-10-25T03:24:05.261596",
     "exception": false,
     "start_time": "2020-10-25T03:24:05.188116",
     "status": "completed"
    },
    "pycharm": {
     "name": "#%%\n"
    },
    "tags": []
   },
   "outputs": [],
   "source": [
    "current_working_directory = os.environ.get(\"PWD\")\n",
    "if current_working_directory:\n",
    "    os.chdir(current_working_directory)\n",
    "\n",
    "sns.set()\n",
    "matplotlib.rcParams[\"figure.figsize\"] = (15, 6)\n",
    "\n",
    "extraction_datetime = datetime.datetime.utcnow()\n",
    "extraction_date = extraction_datetime.strftime(\"%Y-%m-%d\")\n",
    "extraction_previous_datetime = extraction_datetime - datetime.timedelta(days=1)\n",
    "extraction_previous_date = extraction_previous_datetime.strftime(\"%Y-%m-%d\")\n",
    "extraction_date_with_hour = datetime.datetime.utcnow().strftime(\"%Y-%m-%d@%H\")\n",
    "current_hour = datetime.datetime.utcnow().hour\n",
    "are_today_results_partial = current_hour != 23"
   ]
  },
  {
   "cell_type": "markdown",
   "metadata": {
    "collapsed": false,
    "papermill": {
     "duration": 0.035559,
     "end_time": "2020-10-25T03:24:05.333864",
     "exception": false,
     "start_time": "2020-10-25T03:24:05.298305",
     "status": "completed"
    },
    "tags": []
   },
   "source": [
    "### Constants"
   ]
  },
  {
   "cell_type": "code",
   "execution_count": 3,
   "metadata": {
    "execution": {
     "iopub.execute_input": "2020-10-25T03:24:05.399603Z",
     "iopub.status.busy": "2020-10-25T03:24:05.399160Z",
     "iopub.status.idle": "2020-10-25T03:24:05.519907Z",
     "shell.execute_reply": "2020-10-25T03:24:05.519341Z"
    },
    "papermill": {
     "duration": 0.154893,
     "end_time": "2020-10-25T03:24:05.520037",
     "exception": false,
     "start_time": "2020-10-25T03:24:05.365144",
     "status": "completed"
    },
    "pycharm": {
     "name": "#%%\n"
    },
    "tags": []
   },
   "outputs": [],
   "source": [
    "from Modules.ExposureNotification import exposure_notification_io\n",
    "\n",
    "spain_region_country_code = \"ES\"\n",
    "germany_region_country_code = \"DE\"\n",
    "\n",
    "default_backend_identifier = spain_region_country_code\n",
    "\n",
    "backend_generation_days = 7 * 2\n",
    "daily_summary_days = 7 * 4 * 3\n",
    "daily_plot_days = 7 * 4\n",
    "tek_dumps_load_limit = daily_summary_days + 1\n",
    "\n",
    "default_shared_diagnosis_generation_to_upload_days = 1"
   ]
  },
  {
   "cell_type": "markdown",
   "metadata": {
    "collapsed": false,
    "papermill": {
     "duration": 0.033285,
     "end_time": "2020-10-25T03:24:05.587323",
     "exception": false,
     "start_time": "2020-10-25T03:24:05.554038",
     "status": "completed"
    },
    "tags": []
   },
   "source": [
    "### Parameters"
   ]
  },
  {
   "cell_type": "code",
   "execution_count": 4,
   "metadata": {
    "collapsed": false,
    "execution": {
     "iopub.execute_input": "2020-10-25T03:24:05.667271Z",
     "iopub.status.busy": "2020-10-25T03:24:05.666626Z",
     "iopub.status.idle": "2020-10-25T03:24:05.669569Z",
     "shell.execute_reply": "2020-10-25T03:24:05.669955Z"
    },
    "papermill": {
     "duration": 0.044056,
     "end_time": "2020-10-25T03:24:05.670078",
     "exception": false,
     "start_time": "2020-10-25T03:24:05.626022",
     "status": "completed"
    },
    "pycharm": {
     "name": "#%%\n"
    },
    "tags": []
   },
   "outputs": [
    {
     "data": {
      "text/plain": [
       "'ES'"
      ]
     },
     "execution_count": 4,
     "metadata": {},
     "output_type": "execute_result"
    }
   ],
   "source": [
    "environment_backend_identifier = os.environ.get(\"RADARCOVID_REPORT__BACKEND_IDENTIFIER\")\n",
    "if environment_backend_identifier:\n",
    "    report_backend_identifier = environment_backend_identifier\n",
    "else:\n",
    "    report_backend_identifier = default_backend_identifier\n",
    "report_backend_identifier"
   ]
  },
  {
   "cell_type": "code",
   "execution_count": 5,
   "metadata": {
    "collapsed": false,
    "execution": {
     "iopub.execute_input": "2020-10-25T03:24:05.750195Z",
     "iopub.status.busy": "2020-10-25T03:24:05.749691Z",
     "iopub.status.idle": "2020-10-25T03:24:06.769013Z",
     "shell.execute_reply": "2020-10-25T03:24:06.768423Z"
    },
    "papermill": {
     "duration": 1.063816,
     "end_time": "2020-10-25T03:24:06.769164",
     "exception": false,
     "start_time": "2020-10-25T03:24:05.705348",
     "status": "completed"
    },
    "pycharm": {
     "name": "#%%\n"
    },
    "tags": []
   },
   "outputs": [
    {
     "data": {
      "text/plain": [
       "['ES']"
      ]
     },
     "execution_count": 5,
     "metadata": {},
     "output_type": "execute_result"
    }
   ],
   "source": [
    "efgs_supported_countries_backend_identifier = germany_region_country_code\n",
    "efgs_supported_countries_backend_client = \\\n",
    "    exposure_notification_io.get_backend_client_with_identifier(\n",
    "        backend_identifier=efgs_supported_countries_backend_identifier)\n",
    "efgs_source_regions = efgs_supported_countries_backend_client.get_supported_countries()\n",
    "if report_backend_identifier in efgs_source_regions:\n",
    "    default_source_regions = \"EFGS\"\n",
    "else:\n",
    "    default_source_regions = report_backend_identifier.split(\"-\")[0].split(\"@\")[0]\n",
    "\n",
    "environment_source_regions = os.environ.get(\"RADARCOVID_REPORT__SOURCE_REGIONS\")\n",
    "if environment_source_regions:\n",
    "    report_source_regions = environment_source_regions\n",
    "else:\n",
    "    report_source_regions = default_source_regions\n",
    "\n",
    "if report_source_regions == \"EFGS\":\n",
    "    if report_backend_identifier in efgs_source_regions:\n",
    "        efgs_source_regions = \\\n",
    "            [report_backend_identifier] + \\\n",
    "            sorted(list(set(efgs_source_regions).difference([report_backend_identifier])))\n",
    "    report_source_regions = efgs_source_regions\n",
    "else:\n",
    "    report_source_regions = report_source_regions.split(\",\")\n",
    "\n",
    "report_source_regions"
   ]
  },
  {
   "cell_type": "code",
   "execution_count": 6,
   "metadata": {
    "collapsed": false,
    "execution": {
     "iopub.execute_input": "2020-10-25T03:24:06.837794Z",
     "iopub.status.busy": "2020-10-25T03:24:06.837291Z",
     "iopub.status.idle": "2020-10-25T03:24:06.839775Z",
     "shell.execute_reply": "2020-10-25T03:24:06.839315Z"
    },
    "papermill": {
     "duration": 0.037873,
     "end_time": "2020-10-25T03:24:06.839895",
     "exception": false,
     "start_time": "2020-10-25T03:24:06.802022",
     "status": "completed"
    },
    "pycharm": {
     "name": "#%%\n"
    },
    "tags": []
   },
   "outputs": [],
   "source": [
    "environment_download_only_from_report_backend = \\\n",
    "    os.environ.get(\"RADARCOVID_REPORT__DOWNLOAD_ONLY_FROM_REPORT_BACKEND\")\n",
    "if environment_download_only_from_report_backend:\n",
    "    report_backend_identifiers = [report_backend_identifier]\n",
    "else:\n",
    "    report_backend_identifiers = None\n",
    "\n",
    "report_backend_identifiers"
   ]
  },
  {
   "cell_type": "code",
   "execution_count": 7,
   "metadata": {
    "collapsed": false,
    "execution": {
     "iopub.execute_input": "2020-10-25T03:24:06.903371Z",
     "iopub.status.busy": "2020-10-25T03:24:06.902877Z",
     "iopub.status.idle": "2020-10-25T03:24:06.906118Z",
     "shell.execute_reply": "2020-10-25T03:24:06.906539Z"
    },
    "papermill": {
     "duration": 0.038604,
     "end_time": "2020-10-25T03:24:06.906644",
     "exception": false,
     "start_time": "2020-10-25T03:24:06.868040",
     "status": "completed"
    },
    "pycharm": {
     "name": "#%%\n"
    },
    "tags": []
   },
   "outputs": [
    {
     "data": {
      "text/plain": [
       "1"
      ]
     },
     "execution_count": 7,
     "metadata": {},
     "output_type": "execute_result"
    }
   ],
   "source": [
    "environment_shared_diagnosis_generation_to_upload_days = \\\n",
    "    os.environ.get(\"RADARCOVID_REPORT__SHARED_DIAGNOSIS_GENERATION_TO_UPLOAD_DAYS\")\n",
    "if environment_shared_diagnosis_generation_to_upload_days:\n",
    "    shared_diagnosis_generation_to_upload_days = \\\n",
    "        int(environment_shared_diagnosis_generation_to_upload_days)\n",
    "else:\n",
    "    shared_diagnosis_generation_to_upload_days = \\\n",
    "        default_shared_diagnosis_generation_to_upload_days\n",
    "\n",
    "shared_diagnosis_generation_to_upload_days"
   ]
  },
  {
   "cell_type": "markdown",
   "metadata": {
    "collapsed": false,
    "papermill": {
     "duration": 0.031822,
     "end_time": "2020-10-25T03:24:06.968630",
     "exception": false,
     "start_time": "2020-10-25T03:24:06.936808",
     "status": "completed"
    },
    "pycharm": {
     "name": "#%% md\n"
    },
    "tags": []
   },
   "source": [
    "### COVID-19 Cases"
   ]
  },
  {
   "cell_type": "code",
   "execution_count": 8,
   "metadata": {
    "collapsed": false,
    "execution": {
     "iopub.execute_input": "2020-10-25T03:24:07.036529Z",
     "iopub.status.busy": "2020-10-25T03:24:07.036011Z",
     "iopub.status.idle": "2020-10-25T03:24:18.391934Z",
     "shell.execute_reply": "2020-10-25T03:24:18.391216Z"
    },
    "papermill": {
     "duration": 11.392354,
     "end_time": "2020-10-25T03:24:18.392123",
     "exception": false,
     "start_time": "2020-10-25T03:24:06.999769",
     "status": "completed"
    },
    "pycharm": {
     "name": "#%%\n"
    },
    "tags": []
   },
   "outputs": [
    {
     "data": {
      "text/html": [
       "<div>\n",
       "<style scoped>\n",
       "    .dataframe tbody tr th:only-of-type {\n",
       "        vertical-align: middle;\n",
       "    }\n",
       "\n",
       "    .dataframe tbody tr th {\n",
       "        vertical-align: top;\n",
       "    }\n",
       "\n",
       "    .dataframe thead th {\n",
       "        text-align: right;\n",
       "    }\n",
       "</style>\n",
       "<table border=\"1\" class=\"dataframe\">\n",
       "  <thead>\n",
       "    <tr style=\"text-align: right;\">\n",
       "      <th></th>\n",
       "      <th>sample_date</th>\n",
       "      <th>new_cases</th>\n",
       "    </tr>\n",
       "  </thead>\n",
       "  <tbody>\n",
       "    <tr>\n",
       "      <th>293</th>\n",
       "      <td>2020-10-19</td>\n",
       "      <td>37889</td>\n",
       "    </tr>\n",
       "    <tr>\n",
       "      <th>294</th>\n",
       "      <td>2020-10-20</td>\n",
       "      <td>13873</td>\n",
       "    </tr>\n",
       "    <tr>\n",
       "      <th>295</th>\n",
       "      <td>2020-10-21</td>\n",
       "      <td>16973</td>\n",
       "    </tr>\n",
       "    <tr>\n",
       "      <th>296</th>\n",
       "      <td>2020-10-22</td>\n",
       "      <td>20986</td>\n",
       "    </tr>\n",
       "    <tr>\n",
       "      <th>297</th>\n",
       "      <td>2020-10-23</td>\n",
       "      <td>19851</td>\n",
       "    </tr>\n",
       "  </tbody>\n",
       "</table>\n",
       "</div>"
      ],
      "text/plain": [
       "    sample_date  new_cases\n",
       "293  2020-10-19      37889\n",
       "294  2020-10-20      13873\n",
       "295  2020-10-21      16973\n",
       "296  2020-10-22      20986\n",
       "297  2020-10-23      19851"
      ]
     },
     "execution_count": 8,
     "metadata": {},
     "output_type": "execute_result"
    }
   ],
   "source": [
    "confirmed_df = pd.read_csv(\"https://opendata.ecdc.europa.eu/covid19/casedistribution/csv/data.csv\")\n",
    "\n",
    "radar_covid_countries = set(report_source_regions)\n",
    "\n",
    "confirmed_df = confirmed_df[[\"dateRep\", \"cases\", \"geoId\"]]\n",
    "confirmed_df.rename(\n",
    "    columns={\n",
    "        \"dateRep\":\"sample_date\",\n",
    "        \"cases\": \"new_cases\",\n",
    "        \"geoId\": \"country_code\",\n",
    "    },\n",
    "    inplace=True)\n",
    "confirmed_df = confirmed_df[confirmed_df.country_code.isin(radar_covid_countries)]\n",
    "confirmed_df[\"sample_date\"] = pd.to_datetime(confirmed_df.sample_date, dayfirst=True)\n",
    "confirmed_df = confirmed_df.groupby(\"sample_date\").new_cases.sum().reset_index()\n",
    "confirmed_df.sort_values(\"sample_date\", inplace=True)\n",
    "confirmed_df.tail()"
   ]
  },
  {
   "cell_type": "code",
   "execution_count": 9,
   "metadata": {
    "collapsed": false,
    "execution": {
     "iopub.execute_input": "2020-10-25T03:24:18.466387Z",
     "iopub.status.busy": "2020-10-25T03:24:18.465412Z",
     "iopub.status.idle": "2020-10-25T03:24:18.477795Z",
     "shell.execute_reply": "2020-10-25T03:24:18.477458Z"
    },
    "papermill": {
     "duration": 0.049971,
     "end_time": "2020-10-25T03:24:18.477881",
     "exception": false,
     "start_time": "2020-10-25T03:24:18.427910",
     "status": "completed"
    },
    "pycharm": {
     "name": "#%%\n"
    },
    "tags": []
   },
   "outputs": [
    {
     "data": {
      "text/html": [
       "<div>\n",
       "<style scoped>\n",
       "    .dataframe tbody tr th:only-of-type {\n",
       "        vertical-align: middle;\n",
       "    }\n",
       "\n",
       "    .dataframe tbody tr th {\n",
       "        vertical-align: top;\n",
       "    }\n",
       "\n",
       "    .dataframe thead th {\n",
       "        text-align: right;\n",
       "    }\n",
       "</style>\n",
       "<table border=\"1\" class=\"dataframe\">\n",
       "  <thead>\n",
       "    <tr style=\"text-align: right;\">\n",
       "      <th></th>\n",
       "      <th>sample_date</th>\n",
       "      <th>new_cases</th>\n",
       "    </tr>\n",
       "  </thead>\n",
       "  <tbody>\n",
       "    <tr>\n",
       "      <th>295</th>\n",
       "      <td>2020-10-21</td>\n",
       "      <td>16973.0</td>\n",
       "    </tr>\n",
       "    <tr>\n",
       "      <th>296</th>\n",
       "      <td>2020-10-22</td>\n",
       "      <td>20986.0</td>\n",
       "    </tr>\n",
       "    <tr>\n",
       "      <th>297</th>\n",
       "      <td>2020-10-23</td>\n",
       "      <td>19851.0</td>\n",
       "    </tr>\n",
       "    <tr>\n",
       "      <th>298</th>\n",
       "      <td>2020-10-24</td>\n",
       "      <td>NaN</td>\n",
       "    </tr>\n",
       "    <tr>\n",
       "      <th>299</th>\n",
       "      <td>2020-10-25</td>\n",
       "      <td>NaN</td>\n",
       "    </tr>\n",
       "  </tbody>\n",
       "</table>\n",
       "</div>"
      ],
      "text/plain": [
       "    sample_date  new_cases\n",
       "295  2020-10-21    16973.0\n",
       "296  2020-10-22    20986.0\n",
       "297  2020-10-23    19851.0\n",
       "298  2020-10-24        NaN\n",
       "299  2020-10-25        NaN"
      ]
     },
     "execution_count": 9,
     "metadata": {},
     "output_type": "execute_result"
    }
   ],
   "source": [
    "confirmed_days = pd.date_range(\n",
    "    start=confirmed_df.iloc[0].sample_date,\n",
    "    end=extraction_datetime)\n",
    "confirmed_days_df = pd.DataFrame(data=confirmed_days, columns=[\"sample_date\"])\n",
    "confirmed_df = confirmed_days_df.merge(confirmed_df, how=\"left\")\n",
    "confirmed_df[\"sample_date\"] = confirmed_df.sample_date.dt.strftime(\"%Y-%m-%d\")\n",
    "confirmed_df.sort_values(\"sample_date\", inplace=True)\n",
    "confirmed_df.tail()"
   ]
  },
  {
   "cell_type": "code",
   "execution_count": 10,
   "metadata": {
    "collapsed": false,
    "execution": {
     "iopub.execute_input": "2020-10-25T03:24:18.551204Z",
     "iopub.status.busy": "2020-10-25T03:24:18.550821Z",
     "iopub.status.idle": "2020-10-25T03:24:18.554496Z",
     "shell.execute_reply": "2020-10-25T03:24:18.554821Z"
    },
    "papermill": {
     "duration": 0.045969,
     "end_time": "2020-10-25T03:24:18.554920",
     "exception": false,
     "start_time": "2020-10-25T03:24:18.508951",
     "status": "completed"
    },
    "pycharm": {
     "name": "#%%\n"
    },
    "tags": []
   },
   "outputs": [
    {
     "data": {
      "text/html": [
       "<div>\n",
       "<style scoped>\n",
       "    .dataframe tbody tr th:only-of-type {\n",
       "        vertical-align: middle;\n",
       "    }\n",
       "\n",
       "    .dataframe tbody tr th {\n",
       "        vertical-align: top;\n",
       "    }\n",
       "\n",
       "    .dataframe thead th {\n",
       "        text-align: right;\n",
       "    }\n",
       "</style>\n",
       "<table border=\"1\" class=\"dataframe\">\n",
       "  <thead>\n",
       "    <tr style=\"text-align: right;\">\n",
       "      <th></th>\n",
       "      <th>sample_date_string</th>\n",
       "      <th>new_cases</th>\n",
       "      <th>covid_cases</th>\n",
       "    </tr>\n",
       "  </thead>\n",
       "  <tbody>\n",
       "    <tr>\n",
       "      <th>295</th>\n",
       "      <td>2020-10-21</td>\n",
       "      <td>16973.0</td>\n",
       "      <td>13891.0</td>\n",
       "    </tr>\n",
       "    <tr>\n",
       "      <th>296</th>\n",
       "      <td>2020-10-22</td>\n",
       "      <td>20986.0</td>\n",
       "      <td>14987.0</td>\n",
       "    </tr>\n",
       "    <tr>\n",
       "      <th>297</th>\n",
       "      <td>2020-10-23</td>\n",
       "      <td>19851.0</td>\n",
       "      <td>15653.0</td>\n",
       "    </tr>\n",
       "    <tr>\n",
       "      <th>298</th>\n",
       "      <td>2020-10-24</td>\n",
       "      <td>19851.0</td>\n",
       "      <td>18489.0</td>\n",
       "    </tr>\n",
       "    <tr>\n",
       "      <th>299</th>\n",
       "      <td>2020-10-25</td>\n",
       "      <td>19851.0</td>\n",
       "      <td>21325.0</td>\n",
       "    </tr>\n",
       "  </tbody>\n",
       "</table>\n",
       "</div>"
      ],
      "text/plain": [
       "    sample_date_string  new_cases  covid_cases\n",
       "295         2020-10-21    16973.0      13891.0\n",
       "296         2020-10-22    20986.0      14987.0\n",
       "297         2020-10-23    19851.0      15653.0\n",
       "298         2020-10-24    19851.0      18489.0\n",
       "299         2020-10-25    19851.0      21325.0"
      ]
     },
     "execution_count": 10,
     "metadata": {},
     "output_type": "execute_result"
    }
   ],
   "source": [
    "confirmed_df.columns = [\"sample_date_string\", \"new_cases\"]\n",
    "confirmed_df.sort_values(\"sample_date_string\", inplace=True)\n",
    "confirmed_df.fillna(method=\"ffill\", inplace=True)\n",
    "confirmed_df[\"covid_cases\"] = confirmed_df.new_cases.rolling(7).mean().round()\n",
    "confirmed_df.tail()"
   ]
  },
  {
   "cell_type": "code",
   "execution_count": 11,
   "metadata": {
    "execution": {
     "iopub.execute_input": "2020-10-25T03:24:18.638337Z",
     "iopub.status.busy": "2020-10-25T03:24:18.636858Z",
     "iopub.status.idle": "2020-10-25T03:24:18.790969Z",
     "shell.execute_reply": "2020-10-25T03:24:18.791464Z"
    },
    "papermill": {
     "duration": 0.206214,
     "end_time": "2020-10-25T03:24:18.791588",
     "exception": false,
     "start_time": "2020-10-25T03:24:18.585374",
     "status": "completed"
    },
    "pycharm": {
     "name": "#%%\n"
    },
    "tags": []
   },
   "outputs": [
    {
     "data": {
      "text/plain": [
       "<matplotlib.axes._subplots.AxesSubplot at 0x7f0e3915efa0>"
      ]
     },
     "execution_count": 11,
     "metadata": {},
     "output_type": "execute_result"
    },
    {
     "data": {
      "image/png": "[encoded data removed]",
      "text/plain": [
       "<Figure size 1080x432 with 1 Axes>"
      ]
     },
     "metadata": {},
     "output_type": "display_data"
    }
   ],
   "source": [
    "confirmed_df[[\"new_cases\", \"covid_cases\"]].plot()"
   ]
  },
  {
   "cell_type": "markdown",
   "metadata": {
    "execution": {
     "iopub.execute_input": "2020-08-30T22:30:16.351238Z",
     "iopub.status.busy": "2020-08-30T22:30:16.344579Z",
     "iopub.status.idle": "2020-08-30T22:30:16.354285Z",
     "shell.execute_reply": "2020-08-30T22:30:16.353641Z"
    },
    "papermill": {
     "duration": 0.035798,
     "end_time": "2020-10-25T03:24:18.863938",
     "exception": false,
     "start_time": "2020-10-25T03:24:18.828140",
     "status": "completed"
    },
    "pycharm": {
     "name": "#%% md\n"
    },
    "tags": []
   },
   "source": [
    "### Extract API TEKs"
   ]
  },
  {
   "cell_type": "code",
   "execution_count": 12,
   "metadata": {
    "execution": {
     "iopub.execute_input": "2020-10-25T03:24:18.943726Z",
     "iopub.status.busy": "2020-10-25T03:24:18.943184Z",
     "iopub.status.idle": "2020-10-25T03:27:08.128327Z",
     "shell.execute_reply": "2020-10-25T03:27:08.127844Z"
    },
    "papermill": {
     "duration": 169.226008,
     "end_time": "2020-10-25T03:27:08.128438",
     "exception": false,
     "start_time": "2020-10-25T03:24:18.902430",
     "status": "completed"
    },
    "pycharm": {
     "name": "#%%\n"
    },
    "tags": []
   },
   "outputs": [
    {
     "name": "stderr",
     "output_type": "stream",
     "text": [
      "WARNING:root:NoKeysFoundException(\"No exposure keys found on endpoint 'https://radarcovidpre.covid19.gob.es/dp3t/v1/gaen/exposed/1603584000000' (parameters: {'generation_date': '2020-10-25', 'endpoint_identifier_components': ['2020-10-25'], 'backend_identifier': 'ES@PRE', 'server_endpoint_url': 'https://radarcovidpre.covid19.gob.es/dp3t'}).\")\n"
     ]
    },
    {
     "name": "stderr",
     "output_type": "stream",
     "text": [
      "WARNING:root:NoKeysFoundException(\"No exposure keys found on endpoint 'https://www.pt.bfs.admin.ch/v1/gaen/exposed/1603584000000' (parameters: {'generation_date': '2020-10-25', 'endpoint_identifier_components': ['2020-10-25'], 'backend_identifier': 'CH', 'server_endpoint_url': 'https://www.pt.bfs.admin.ch'}).\")\n"
     ]
    },
    {
     "name": "stderr",
     "output_type": "stream",
     "text": [
      "WARNING:root:NoKeysFoundException(\"No exposure keys found on endpoint 'https://stayaway.incm.pt/v1/gaen/exposed/1603584000000' (parameters: {'generation_date': '2020-10-25', 'endpoint_identifier_components': ['2020-10-25'], 'backend_identifier': 'PT', 'server_endpoint_url': 'https://stayaway.incm.pt'}).\")\n"
     ]
    },
    {
     "name": "stderr",
     "output_type": "stream",
     "text": [
      "WARNING:root:NoKeysFoundException(\"No exposure keys found on endpoint 'https://enapi.sm.ee/authorization/v1/gaen/exposed/1603584000000' (parameters: {'generation_date': '2020-10-25', 'endpoint_identifier_components': ['2020-10-25'], 'backend_identifier': 'EE', 'server_endpoint_url': 'https://enapi.sm.ee/authorization'}).\")\n"
     ]
    },
    {
     "name": "stderr",
     "output_type": "stream",
     "text": [
      "WARNING:root:NoKeysFoundException(\"No exposure keys found on endpoint 'https://enapi.sm.ee/authorization/v1/gaen/exposed/1603497600000' (parameters: {'generation_date': '2020-10-24', 'endpoint_identifier_components': ['2020-10-24'], 'backend_identifier': 'EE', 'server_endpoint_url': 'https://enapi.sm.ee/authorization'}).\")\n"
     ]
    },
    {
     "name": "stderr",
     "output_type": "stream",
     "text": [
      "WARNING:root:NoKeysFoundException(\"No exposure keys found on endpoint 'https://mt-dpppt-ws.azurewebsites.net/v1/gaen/exposed/1603584000000' (parameters: {'generation_date': '2020-10-25', 'endpoint_identifier_components': ['2020-10-25'], 'backend_identifier': 'MT', 'server_endpoint_url': 'https://mt-dpppt-ws.azurewebsites.net'}).\")\n"
     ]
    },
    {
     "name": "stderr",
     "output_type": "stream",
     "text": [
      "WARNING:root:Error downloading exposure keys from backend 'DE-ES': HTTPError('404 Client Error: Not Found for url: https://svc90.main.px.t-online.de/version/v1/diagnosis-keys/country/ES/date')\n",
      "Traceback (most recent call last):\n",
      "  File \"/home/runner/work/Radar-STATS/Radar-STATS/Modules/ExposureNotification/exposure_notification_io.py\", line 97, in download_exposure_keys_from_backends\n",
      "    backend_exposure_keys_df = backend_client.download_exposure_keys_with_parameters(**kwargs)\n",
      "  File \"/home/runner/work/Radar-STATS/Radar-STATS/Modules/ExposureNotification/Backends/base.py\", line 40, in download_exposure_keys_with_parameters\n",
      "    self.generate_exposure_keys_export_endpoints_with_parameters(**kwargs)\n",
      "  File \"/home/runner/work/Radar-STATS/Radar-STATS/Modules/ExposureNotification/Backends/corona_warn_app.py\", line 25, in generate_exposure_keys_export_endpoints_with_parameters\n",
      "    response.raise_for_status()\n",
      "  File \"/opt/hostedtoolcache/Python/3.8.6/x64/lib/python3.8/site-packages/requests/models.py\", line 941, in raise_for_status\n",
      "    raise HTTPError(http_error_msg, response=self)\n",
      "requests.exceptions.HTTPError: 404 Client Error: Not Found for url: https://svc90.main.px.t-online.de/version/v1/diagnosis-keys/country/ES/date\n"
     ]
    },
    {
     "name": "stderr",
     "output_type": "stream",
     "text": [
      "WARNING:root:Error downloading exposure keys from backend 'DE-IE': HTTPError('404 Client Error: Not Found for url: https://svc90.main.px.t-online.de/version/v1/diagnosis-keys/country/IE/date')\n",
      "Traceback (most recent call last):\n",
      "  File \"/home/runner/work/Radar-STATS/Radar-STATS/Modules/ExposureNotification/exposure_notification_io.py\", line 97, in download_exposure_keys_from_backends\n",
      "    backend_exposure_keys_df = backend_client.download_exposure_keys_with_parameters(**kwargs)\n",
      "  File \"/home/runner/work/Radar-STATS/Radar-STATS/Modules/ExposureNotification/Backends/base.py\", line 40, in download_exposure_keys_with_parameters\n",
      "    self.generate_exposure_keys_export_endpoints_with_parameters(**kwargs)\n",
      "  File \"/home/runner/work/Radar-STATS/Radar-STATS/Modules/ExposureNotification/Backends/corona_warn_app.py\", line 25, in generate_exposure_keys_export_endpoints_with_parameters\n",
      "    response.raise_for_status()\n",
      "  File \"/opt/hostedtoolcache/Python/3.8.6/x64/lib/python3.8/site-packages/requests/models.py\", line 941, in raise_for_status\n",
      "    raise HTTPError(http_error_msg, response=self)\n",
      "requests.exceptions.HTTPError: 404 Client Error: Not Found for url: https://svc90.main.px.t-online.de/version/v1/diagnosis-keys/country/IE/date\n"
     ]
    },
    {
     "name": "stderr",
     "output_type": "stream",
     "text": [
      "WARNING:root:Error downloading exposure keys from backend 'DE-IT': HTTPError('404 Client Error: Not Found for url: https://svc90.main.px.t-online.de/version/v1/diagnosis-keys/country/IT/date')\n",
      "Traceback (most recent call last):\n",
      "  File \"/home/runner/work/Radar-STATS/Radar-STATS/Modules/ExposureNotification/exposure_notification_io.py\", line 97, in download_exposure_keys_from_backends\n",
      "    backend_exposure_keys_df = backend_client.download_exposure_keys_with_parameters(**kwargs)\n",
      "  File \"/home/runner/work/Radar-STATS/Radar-STATS/Modules/ExposureNotification/Backends/base.py\", line 40, in download_exposure_keys_with_parameters\n",
      "    self.generate_exposure_keys_export_endpoints_with_parameters(**kwargs)\n",
      "  File \"/home/runner/work/Radar-STATS/Radar-STATS/Modules/ExposureNotification/Backends/corona_warn_app.py\", line 25, in generate_exposure_keys_export_endpoints_with_parameters\n",
      "    response.raise_for_status()\n",
      "  File \"/opt/hostedtoolcache/Python/3.8.6/x64/lib/python3.8/site-packages/requests/models.py\", line 941, in raise_for_status\n",
      "    raise HTTPError(http_error_msg, response=self)\n",
      "requests.exceptions.HTTPError: 404 Client Error: Not Found for url: https://svc90.main.px.t-online.de/version/v1/diagnosis-keys/country/IT/date\n"
     ]
    },
    {
     "name": "stderr",
     "output_type": "stream",
     "text": [
      "WARNING:root:Error downloading exposure keys from backend 'IT-ES': HTTPError('404 Client Error: Not Found for url: https://get.immuni.gov.it/v1/keys/eu/ES/index')\n",
      "Traceback (most recent call last):\n",
      "  File \"/home/runner/work/Radar-STATS/Radar-STATS/Modules/ExposureNotification/exposure_notification_io.py\", line 97, in download_exposure_keys_from_backends\n",
      "    backend_exposure_keys_df = backend_client.download_exposure_keys_with_parameters(**kwargs)\n",
      "  File \"/home/runner/work/Radar-STATS/Radar-STATS/Modules/ExposureNotification/Backends/base.py\", line 40, in download_exposure_keys_with_parameters\n",
      "    self.generate_exposure_keys_export_endpoints_with_parameters(**kwargs)\n",
      "  File \"/home/runner/work/Radar-STATS/Radar-STATS/Modules/ExposureNotification/Backends/immuni.py\", line 27, in generate_exposure_keys_export_endpoints_with_parameters\n",
      "    response.raise_for_status()\n",
      "  File \"/opt/hostedtoolcache/Python/3.8.6/x64/lib/python3.8/site-packages/requests/models.py\", line 941, in raise_for_status\n",
      "    raise HTTPError(http_error_msg, response=self)\n",
      "requests.exceptions.HTTPError: 404 Client Error: Not Found for url: https://get.immuni.gov.it/v1/keys/eu/ES/index\n"
     ]
    },
    {
     "name": "stderr",
     "output_type": "stream",
     "text": [
      "WARNING:root:Error downloading exposure keys from backend 'IT-IE': HTTPError('404 Client Error: Not Found for url: https://get.immuni.gov.it/v1/keys/eu/IE/index')\n",
      "Traceback (most recent call last):\n",
      "  File \"/home/runner/work/Radar-STATS/Radar-STATS/Modules/ExposureNotification/exposure_notification_io.py\", line 97, in download_exposure_keys_from_backends\n",
      "    backend_exposure_keys_df = backend_client.download_exposure_keys_with_parameters(**kwargs)\n",
      "  File \"/home/runner/work/Radar-STATS/Radar-STATS/Modules/ExposureNotification/Backends/base.py\", line 40, in download_exposure_keys_with_parameters\n",
      "    self.generate_exposure_keys_export_endpoints_with_parameters(**kwargs)\n",
      "  File \"/home/runner/work/Radar-STATS/Radar-STATS/Modules/ExposureNotification/Backends/immuni.py\", line 27, in generate_exposure_keys_export_endpoints_with_parameters\n",
      "    response.raise_for_status()\n",
      "  File \"/opt/hostedtoolcache/Python/3.8.6/x64/lib/python3.8/site-packages/requests/models.py\", line 941, in raise_for_status\n",
      "    raise HTTPError(http_error_msg, response=self)\n",
      "requests.exceptions.HTTPError: 404 Client Error: Not Found for url: https://get.immuni.gov.it/v1/keys/eu/IE/index\n"
     ]
    },
    {
     "name": "stderr",
     "output_type": "stream",
     "text": [
      "WARNING:root:Error downloading exposure keys from backend 'IT-DE': HTTPError('404 Client Error: Not Found for url: https://get.immuni.gov.it/v1/keys/eu/DE/index')\n",
      "Traceback (most recent call last):\n",
      "  File \"/home/runner/work/Radar-STATS/Radar-STATS/Modules/ExposureNotification/exposure_notification_io.py\", line 97, in download_exposure_keys_from_backends\n",
      "    backend_exposure_keys_df = backend_client.download_exposure_keys_with_parameters(**kwargs)\n",
      "  File \"/home/runner/work/Radar-STATS/Radar-STATS/Modules/ExposureNotification/Backends/base.py\", line 40, in download_exposure_keys_with_parameters\n",
      "    self.generate_exposure_keys_export_endpoints_with_parameters(**kwargs)\n",
      "  File \"/home/runner/work/Radar-STATS/Radar-STATS/Modules/ExposureNotification/Backends/immuni.py\", line 27, in generate_exposure_keys_export_endpoints_with_parameters\n",
      "    response.raise_for_status()\n",
      "  File \"/opt/hostedtoolcache/Python/3.8.6/x64/lib/python3.8/site-packages/requests/models.py\", line 941, in raise_for_status\n",
      "    raise HTTPError(http_error_msg, response=self)\n",
      "requests.exceptions.HTTPError: 404 Client Error: Not Found for url: https://get.immuni.gov.it/v1/keys/eu/DE/index\n"
     ]
    },
    {
     "data": {
      "text/html": [
       "<div>\n",
       "<style scoped>\n",
       "    .dataframe tbody tr th:only-of-type {\n",
       "        vertical-align: middle;\n",
       "    }\n",
       "\n",
       "    .dataframe tbody tr th {\n",
       "        vertical-align: top;\n",
       "    }\n",
       "\n",
       "    .dataframe thead th {\n",
       "        text-align: right;\n",
       "    }\n",
       "</style>\n",
       "<table border=\"1\" class=\"dataframe\">\n",
       "  <thead>\n",
       "    <tr style=\"text-align: right;\">\n",
       "      <th></th>\n",
       "      <th>sample_datetime</th>\n",
       "      <th>sample_date_string</th>\n",
       "      <th>region</th>\n",
       "      <th>verification_key_version</th>\n",
       "      <th>verification_key_id</th>\n",
       "      <th>signature_algorithm</th>\n",
       "      <th>key_data</th>\n",
       "      <th>rolling_start_interval_number</th>\n",
       "      <th>rolling_period</th>\n",
       "      <th>transmission_risk_level</th>\n",
       "      <th>backend_identifier</th>\n",
       "    </tr>\n",
       "  </thead>\n",
       "  <tbody>\n",
       "    <tr>\n",
       "      <th>0</th>\n",
       "      <td>2020-10-25</td>\n",
       "      <td>2020-10-25</td>\n",
       "      <td>ES</td>\n",
       "      <td>V1</td>\n",
       "      <td>214</td>\n",
       "      <td>1.2.840.10045.4.3.2</td>\n",
       "      <td>3f767c1a-6bdc-0498-36fa-6ef72011734a</td>\n",
       "      <td>2672640</td>\n",
       "      <td>11</td>\n",
       "      <td>0</td>\n",
       "      <td>ES</td>\n",
       "    </tr>\n",
       "    <tr>\n",
       "      <th>0</th>\n",
       "      <td>2020-10-24</td>\n",
       "      <td>2020-10-24</td>\n",
       "      <td>ES</td>\n",
       "      <td>V1</td>\n",
       "      <td>214</td>\n",
       "      <td>1.2.840.10045.4.3.2</td>\n",
       "      <td>02f9c0a8-818a-0f58-c178-7e2f849bcf10</td>\n",
       "      <td>2672496</td>\n",
       "      <td>144</td>\n",
       "      <td>0</td>\n",
       "      <td>ES</td>\n",
       "    </tr>\n",
       "    <tr>\n",
       "      <th>1</th>\n",
       "      <td>2020-10-24</td>\n",
       "      <td>2020-10-24</td>\n",
       "      <td>ES</td>\n",
       "      <td>V1</td>\n",
       "      <td>214</td>\n",
       "      <td>1.2.840.10045.4.3.2</td>\n",
       "      <td>f13f1f74-1b47-1c66-4fa4-451198ef472a</td>\n",
       "      <td>2672496</td>\n",
       "      <td>144</td>\n",
       "      <td>0</td>\n",
       "      <td>ES</td>\n",
       "    </tr>\n",
       "    <tr>\n",
       "      <th>2</th>\n",
       "      <td>2020-10-24</td>\n",
       "      <td>2020-10-24</td>\n",
       "      <td>ES</td>\n",
       "      <td>V1</td>\n",
       "      <td>214</td>\n",
       "      <td>1.2.840.10045.4.3.2</td>\n",
       "      <td>7d696307-6615-521b-e441-42ca8bce3655</td>\n",
       "      <td>2672496</td>\n",
       "      <td>144</td>\n",
       "      <td>0</td>\n",
       "      <td>ES</td>\n",
       "    </tr>\n",
       "    <tr>\n",
       "      <th>3</th>\n",
       "      <td>2020-10-24</td>\n",
       "      <td>2020-10-24</td>\n",
       "      <td>ES</td>\n",
       "      <td>V1</td>\n",
       "      <td>214</td>\n",
       "      <td>1.2.840.10045.4.3.2</td>\n",
       "      <td>3fe13406-3668-aa57-1c0d-035c33a4a6df</td>\n",
       "      <td>2672496</td>\n",
       "      <td>144</td>\n",
       "      <td>0</td>\n",
       "      <td>ES</td>\n",
       "    </tr>\n",
       "  </tbody>\n",
       "</table>\n",
       "</div>"
      ],
      "text/plain": [
       "  sample_datetime sample_date_string region verification_key_version  \\\n",
       "0      2020-10-25         2020-10-25     ES                       V1   \n",
       "0      2020-10-24         2020-10-24     ES                       V1   \n",
       "1      2020-10-24         2020-10-24     ES                       V1   \n",
       "2      2020-10-24         2020-10-24     ES                       V1   \n",
       "3      2020-10-24         2020-10-24     ES                       V1   \n",
       "\n",
       "  verification_key_id  signature_algorithm  \\\n",
       "0                 214  1.2.840.10045.4.3.2   \n",
       "0                 214  1.2.840.10045.4.3.2   \n",
       "1                 214  1.2.840.10045.4.3.2   \n",
       "2                 214  1.2.840.10045.4.3.2   \n",
       "3                 214  1.2.840.10045.4.3.2   \n",
       "\n",
       "                               key_data  rolling_start_interval_number  \\\n",
       "0  3f767c1a-6bdc-0498-36fa-6ef72011734a                        2672640   \n",
       "0  02f9c0a8-818a-0f58-c178-7e2f849bcf10                        2672496   \n",
       "1  f13f1f74-1b47-1c66-4fa4-451198ef472a                        2672496   \n",
       "2  7d696307-6615-521b-e441-42ca8bce3655                        2672496   \n",
       "3  3fe13406-3668-aa57-1c0d-035c33a4a6df                        2672496   \n",
       "\n",
       "   rolling_period  transmission_risk_level backend_identifier  \n",
       "0              11                        0                 ES  \n",
       "0             144                        0                 ES  \n",
       "1             144                        0                 ES  \n",
       "2             144                        0                 ES  \n",
       "3             144                        0                 ES  "
      ]
     },
     "execution_count": 12,
     "metadata": {},
     "output_type": "execute_result"
    }
   ],
   "source": [
    "raw_zip_path_prefix = \"Data/TEKs/Raw/\"\n",
    "fail_on_error_backend_identifiers = [report_backend_identifier]\n",
    "multi_backend_exposure_keys_df = \\\n",
    "    exposure_notification_io.download_exposure_keys_from_backends(\n",
    "        backend_identifiers=report_backend_identifiers,\n",
    "        generation_days=backend_generation_days,\n",
    "        fail_on_error_backend_identifiers=fail_on_error_backend_identifiers,\n",
    "        save_raw_zip_path_prefix=raw_zip_path_prefix)\n",
    "multi_backend_exposure_keys_df[\"region\"] = multi_backend_exposure_keys_df[\"backend_identifier\"]\n",
    "multi_backend_exposure_keys_df.rename(\n",
    "    columns={\n",
    "        \"generation_datetime\": \"sample_datetime\",\n",
    "        \"generation_date_string\": \"sample_date_string\",\n",
    "    },\n",
    "    inplace=True)\n",
    "multi_backend_exposure_keys_df.head()"
   ]
  },
  {
   "cell_type": "code",
   "execution_count": 13,
   "metadata": {
    "collapsed": false,
    "execution": {
     "iopub.execute_input": "2020-10-25T03:27:08.221466Z",
     "iopub.status.busy": "2020-10-25T03:27:08.220898Z",
     "iopub.status.idle": "2020-10-25T03:27:08.427726Z",
     "shell.execute_reply": "2020-10-25T03:27:08.428309Z"
    },
    "papermill": {
     "duration": 0.255038,
     "end_time": "2020-10-25T03:27:08.428468",
     "exception": false,
     "start_time": "2020-10-25T03:27:08.173430",
     "status": "completed"
    },
    "pycharm": {
     "name": "#%%\n"
    },
    "tags": []
   },
   "outputs": [
    {
     "data": {
      "text/plain": [
       "<matplotlib.axes._subplots.AxesSubplot at 0x7f0e31c80e80>"
      ]
     },
     "execution_count": 13,
     "metadata": {},
     "output_type": "execute_result"
    },
    {
     "data": {
      "image/png": "[encoded data removed]",
      "text/plain": [
       "<Figure size 1080x432 with 1 Axes>"
      ]
     },
     "metadata": {},
     "output_type": "display_data"
    }
   ],
   "source": [
    "early_teks_df = multi_backend_exposure_keys_df[\n",
    "    multi_backend_exposure_keys_df.rolling_period < 144].copy()\n",
    "early_teks_df[\"rolling_period_in_hours\"] = early_teks_df.rolling_period / 6\n",
    "early_teks_df[early_teks_df.sample_date_string != extraction_date] \\\n",
    "    .rolling_period_in_hours.hist(bins=list(range(24)))"
   ]
  },
  {
   "cell_type": "code",
   "execution_count": 14,
   "metadata": {
    "collapsed": false,
    "execution": {
     "iopub.execute_input": "2020-10-25T03:27:08.530820Z",
     "iopub.status.busy": "2020-10-25T03:27:08.530252Z",
     "iopub.status.idle": "2020-10-25T03:27:08.728313Z",
     "shell.execute_reply": "2020-10-25T03:27:08.729070Z"
    },
    "papermill": {
     "duration": 0.253984,
     "end_time": "2020-10-25T03:27:08.729259",
     "exception": false,
     "start_time": "2020-10-25T03:27:08.475275",
     "status": "completed"
    },
    "pycharm": {
     "name": "#%%\n"
    },
    "tags": []
   },
   "outputs": [
    {
     "data": {
      "text/plain": [
       "<matplotlib.axes._subplots.AxesSubplot at 0x7f0e31bc1220>"
      ]
     },
     "execution_count": 14,
     "metadata": {},
     "output_type": "execute_result"
    },
    {
     "data": {
      "image/png": "[encoded data removed]",
      "text/plain": [
       "<Figure size 1080x432 with 1 Axes>"
      ]
     },
     "metadata": {},
     "output_type": "display_data"
    }
   ],
   "source": [
    "early_teks_df[early_teks_df.sample_date_string == extraction_date] \\\n",
    "    .rolling_period_in_hours.hist(bins=list(range(24)))"
   ]
  },
  {
   "cell_type": "code",
   "execution_count": 15,
   "metadata": {
    "collapsed": false,
    "execution": {
     "iopub.execute_input": "2020-10-25T03:27:08.833629Z",
     "iopub.status.busy": "2020-10-25T03:27:08.832572Z",
     "iopub.status.idle": "2020-10-25T03:27:08.848806Z",
     "shell.execute_reply": "2020-10-25T03:27:08.848442Z"
    },
    "papermill": {
     "duration": 0.063873,
     "end_time": "2020-10-25T03:27:08.848913",
     "exception": false,
     "start_time": "2020-10-25T03:27:08.785040",
     "status": "completed"
    },
    "pycharm": {
     "name": "#%%\n"
    },
    "tags": []
   },
   "outputs": [
    {
     "data": {
      "text/html": [
       "<div>\n",
       "<style scoped>\n",
       "    .dataframe tbody tr th:only-of-type {\n",
       "        vertical-align: middle;\n",
       "    }\n",
       "\n",
       "    .dataframe tbody tr th {\n",
       "        vertical-align: top;\n",
       "    }\n",
       "\n",
       "    .dataframe thead th {\n",
       "        text-align: right;\n",
       "    }\n",
       "</style>\n",
       "<table border=\"1\" class=\"dataframe\">\n",
       "  <thead>\n",
       "    <tr style=\"text-align: right;\">\n",
       "      <th></th>\n",
       "      <th>sample_date_string</th>\n",
       "      <th>region</th>\n",
       "      <th>key_data</th>\n",
       "    </tr>\n",
       "  </thead>\n",
       "  <tbody>\n",
       "    <tr>\n",
       "      <th>0</th>\n",
       "      <td>2020-10-25</td>\n",
       "      <td>ES</td>\n",
       "      <td>3f767c1a-6bdc-0498-36fa-6ef72011734a</td>\n",
       "    </tr>\n",
       "    <tr>\n",
       "      <th>0</th>\n",
       "      <td>2020-10-24</td>\n",
       "      <td>ES</td>\n",
       "      <td>02f9c0a8-818a-0f58-c178-7e2f849bcf10</td>\n",
       "    </tr>\n",
       "    <tr>\n",
       "      <th>1</th>\n",
       "      <td>2020-10-24</td>\n",
       "      <td>ES</td>\n",
       "      <td>f13f1f74-1b47-1c66-4fa4-451198ef472a</td>\n",
       "    </tr>\n",
       "    <tr>\n",
       "      <th>2</th>\n",
       "      <td>2020-10-24</td>\n",
       "      <td>ES</td>\n",
       "      <td>7d696307-6615-521b-e441-42ca8bce3655</td>\n",
       "    </tr>\n",
       "    <tr>\n",
       "      <th>3</th>\n",
       "      <td>2020-10-24</td>\n",
       "      <td>ES</td>\n",
       "      <td>3fe13406-3668-aa57-1c0d-035c33a4a6df</td>\n",
       "    </tr>\n",
       "  </tbody>\n",
       "</table>\n",
       "</div>"
      ],
      "text/plain": [
       "  sample_date_string region                              key_data\n",
       "0         2020-10-25     ES  3f767c1a-6bdc-0498-36fa-6ef72011734a\n",
       "0         2020-10-24     ES  02f9c0a8-818a-0f58-c178-7e2f849bcf10\n",
       "1         2020-10-24     ES  f13f1f74-1b47-1c66-4fa4-451198ef472a\n",
       "2         2020-10-24     ES  7d696307-6615-521b-e441-42ca8bce3655\n",
       "3         2020-10-24     ES  3fe13406-3668-aa57-1c0d-035c33a4a6df"
      ]
     },
     "execution_count": 15,
     "metadata": {},
     "output_type": "execute_result"
    }
   ],
   "source": [
    "multi_backend_exposure_keys_df = multi_backend_exposure_keys_df[[\n",
    "    \"sample_date_string\", \"region\", \"key_data\"]]\n",
    "multi_backend_exposure_keys_df.head()"
   ]
  },
  {
   "cell_type": "code",
   "execution_count": 16,
   "metadata": {
    "collapsed": false,
    "execution": {
     "iopub.execute_input": "2020-10-25T03:27:08.946970Z",
     "iopub.status.busy": "2020-10-25T03:27:08.946588Z",
     "iopub.status.idle": "2020-10-25T03:27:09.806689Z",
     "shell.execute_reply": "2020-10-25T03:27:09.806312Z"
    },
    "papermill": {
     "duration": 0.910519,
     "end_time": "2020-10-25T03:27:09.806798",
     "exception": false,
     "start_time": "2020-10-25T03:27:08.896279",
     "status": "completed"
    },
    "pycharm": {
     "name": "#%%\n"
    },
    "tags": []
   },
   "outputs": [
    {
     "data": {
      "text/plain": [
       "['EE', 'BE@TST', 'MT', 'PT', 'ES@PRE', 'ES', 'BE', 'CH', 'IT', 'DE']"
      ]
     },
     "execution_count": 16,
     "metadata": {},
     "output_type": "execute_result"
    }
   ],
   "source": [
    "active_regions = \\\n",
    "    multi_backend_exposure_keys_df.groupby(\"region\").key_data.nunique().sort_values().index.unique().tolist()\n",
    "active_regions"
   ]
  },
  {
   "cell_type": "code",
   "execution_count": 17,
   "metadata": {
    "collapsed": false,
    "execution": {
     "iopub.execute_input": "2020-10-25T03:27:09.911065Z",
     "iopub.status.busy": "2020-10-25T03:27:09.910667Z",
     "iopub.status.idle": "2020-10-25T03:27:10.715706Z",
     "shell.execute_reply": "2020-10-25T03:27:10.715216Z"
    },
    "papermill": {
     "duration": 0.859369,
     "end_time": "2020-10-25T03:27:10.715823",
     "exception": false,
     "start_time": "2020-10-25T03:27:09.856454",
     "status": "completed"
    },
    "pycharm": {
     "name": "#%%\n"
    },
    "tags": []
   },
   "outputs": [
    {
     "data": {
      "text/html": [
       "<div>\n",
       "<style scoped>\n",
       "    .dataframe tbody tr th:only-of-type {\n",
       "        vertical-align: middle;\n",
       "    }\n",
       "\n",
       "    .dataframe tbody tr th {\n",
       "        vertical-align: top;\n",
       "    }\n",
       "\n",
       "    .dataframe thead tr th {\n",
       "        text-align: left;\n",
       "    }\n",
       "\n",
       "    .dataframe thead tr:last-of-type th {\n",
       "        text-align: right;\n",
       "    }\n",
       "</style>\n",
       "<table border=\"1\" class=\"dataframe\">\n",
       "  <thead>\n",
       "    <tr>\n",
       "      <th></th>\n",
       "      <th colspan=\"10\" halign=\"left\">shared_teks_by_generation_date</th>\n",
       "    </tr>\n",
       "    <tr>\n",
       "      <th>region</th>\n",
       "      <th>BE</th>\n",
       "      <th>BE@TST</th>\n",
       "      <th>CH</th>\n",
       "      <th>DE</th>\n",
       "      <th>EE</th>\n",
       "      <th>ES</th>\n",
       "      <th>ES@PRE</th>\n",
       "      <th>IT</th>\n",
       "      <th>MT</th>\n",
       "      <th>PT</th>\n",
       "    </tr>\n",
       "    <tr>\n",
       "      <th>sample_date</th>\n",
       "      <th></th>\n",
       "      <th></th>\n",
       "      <th></th>\n",
       "      <th></th>\n",
       "      <th></th>\n",
       "      <th></th>\n",
       "      <th></th>\n",
       "      <th></th>\n",
       "      <th></th>\n",
       "      <th></th>\n",
       "    </tr>\n",
       "  </thead>\n",
       "  <tbody>\n",
       "    <tr>\n",
       "      <th>2020-10-25</th>\n",
       "      <td>0</td>\n",
       "      <td>0</td>\n",
       "      <td>0</td>\n",
       "      <td>0</td>\n",
       "      <td>0</td>\n",
       "      <td>1</td>\n",
       "      <td>0</td>\n",
       "      <td>0</td>\n",
       "      <td>0</td>\n",
       "      <td>0</td>\n",
       "    </tr>\n",
       "    <tr>\n",
       "      <th>2020-10-24</th>\n",
       "      <td>0</td>\n",
       "      <td>0</td>\n",
       "      <td>310</td>\n",
       "      <td>0</td>\n",
       "      <td>0</td>\n",
       "      <td>186</td>\n",
       "      <td>5</td>\n",
       "      <td>0</td>\n",
       "      <td>101</td>\n",
       "      <td>32</td>\n",
       "    </tr>\n",
       "    <tr>\n",
       "      <th>2020-10-23</th>\n",
       "      <td>376</td>\n",
       "      <td>47</td>\n",
       "      <td>1059</td>\n",
       "      <td>1360</td>\n",
       "      <td>1</td>\n",
       "      <td>294</td>\n",
       "      <td>64</td>\n",
       "      <td>1197</td>\n",
       "      <td>107</td>\n",
       "      <td>82</td>\n",
       "    </tr>\n",
       "    <tr>\n",
       "      <th>2020-10-22</th>\n",
       "      <td>794</td>\n",
       "      <td>52</td>\n",
       "      <td>1692</td>\n",
       "      <td>3152</td>\n",
       "      <td>5</td>\n",
       "      <td>433</td>\n",
       "      <td>130</td>\n",
       "      <td>2903</td>\n",
       "      <td>110</td>\n",
       "      <td>146</td>\n",
       "    </tr>\n",
       "    <tr>\n",
       "      <th>2020-10-21</th>\n",
       "      <td>1191</td>\n",
       "      <td>47</td>\n",
       "      <td>2158</td>\n",
       "      <td>4478</td>\n",
       "      <td>12</td>\n",
       "      <td>508</td>\n",
       "      <td>242</td>\n",
       "      <td>2713</td>\n",
       "      <td>114</td>\n",
       "      <td>180</td>\n",
       "    </tr>\n",
       "  </tbody>\n",
       "</table>\n",
       "</div>"
      ],
      "text/plain": [
       "            shared_teks_by_generation_date                                     \\\n",
       "region                                  BE BE@TST    CH    DE  EE   ES ES@PRE   \n",
       "sample_date                                                                     \n",
       "2020-10-25                               0      0     0     0   0    1      0   \n",
       "2020-10-24                               0      0   310     0   0  186      5   \n",
       "2020-10-23                             376     47  1059  1360   1  294     64   \n",
       "2020-10-22                             794     52  1692  3152   5  433    130   \n",
       "2020-10-21                            1191     47  2158  4478  12  508    242   \n",
       "\n",
       "                             \n",
       "region         IT   MT   PT  \n",
       "sample_date                  \n",
       "2020-10-25      0    0    0  \n",
       "2020-10-24      0  101   32  \n",
       "2020-10-23   1197  107   82  \n",
       "2020-10-22   2903  110  146  \n",
       "2020-10-21   2713  114  180  "
      ]
     },
     "execution_count": 17,
     "metadata": {},
     "output_type": "execute_result"
    }
   ],
   "source": [
    "multi_backend_summary_df = multi_backend_exposure_keys_df.groupby(\n",
    "    [\"sample_date_string\", \"region\"]).key_data.nunique().reset_index() \\\n",
    "    .pivot(index=\"sample_date_string\", columns=\"region\") \\\n",
    "    .sort_index(ascending=False)\n",
    "multi_backend_summary_df.rename(\n",
    "    columns={\"key_data\": \"shared_teks_by_generation_date\"},\n",
    "    inplace=True)\n",
    "multi_backend_summary_df.rename_axis(\"sample_date\", inplace=True)\n",
    "multi_backend_summary_df = multi_backend_summary_df.fillna(0).astype(int)\n",
    "multi_backend_summary_df = multi_backend_summary_df.head(backend_generation_days)\n",
    "multi_backend_summary_df.head()"
   ]
  },
  {
   "cell_type": "code",
   "execution_count": 18,
   "metadata": {
    "collapsed": false,
    "execution": {
     "iopub.execute_input": "2020-10-25T03:27:10.811417Z",
     "iopub.status.busy": "2020-10-25T03:27:10.810977Z",
     "iopub.status.idle": "2020-10-25T03:27:11.561424Z",
     "shell.execute_reply": "2020-10-25T03:27:11.561894Z"
    },
    "papermill": {
     "duration": 0.80784,
     "end_time": "2020-10-25T03:27:11.562063",
     "exception": false,
     "start_time": "2020-10-25T03:27:10.754223",
     "status": "completed"
    },
    "pycharm": {
     "name": "#%%\n"
    },
    "tags": []
   },
   "outputs": [
    {
     "data": {
      "text/plain": [
       "['EE', 'BE@TST', 'MT', 'PT', 'ES@PRE', 'BE', 'CH', 'IT', 'DE']"
      ]
     },
     "execution_count": 18,
     "metadata": {},
     "output_type": "execute_result"
    }
   ],
   "source": [
    "multi_backend_without_active_region_exposure_keys_df = \\\n",
    "    multi_backend_exposure_keys_df[multi_backend_exposure_keys_df.region != report_backend_identifier]\n",
    "multi_backend_without_active_region = \\\n",
    "    multi_backend_without_active_region_exposure_keys_df.groupby(\"region\").key_data.nunique().sort_values().index.unique().tolist()\n",
    "multi_backend_without_active_region"
   ]
  },
  {
   "cell_type": "code",
   "execution_count": 19,
   "metadata": {
    "execution": {
     "iopub.execute_input": "2020-10-25T03:27:11.659638Z",
     "iopub.status.busy": "2020-10-25T03:27:11.659186Z",
     "iopub.status.idle": "2020-10-25T03:27:11.710915Z",
     "shell.execute_reply": "2020-10-25T03:27:11.709721Z"
    },
    "papermill": {
     "duration": 0.106172,
     "end_time": "2020-10-25T03:27:11.711122",
     "exception": false,
     "start_time": "2020-10-25T03:27:11.604950",
     "status": "completed"
    },
    "scrolled": false,
    "tags": []
   },
   "outputs": [
    {
     "name": "stderr",
     "output_type": "stream",
     "text": [
      "/opt/hostedtoolcache/Python/3.8.6/x64/lib/python3.8/site-packages/pandas/core/frame.py:4110: SettingWithCopyWarning: \n",
      "A value is trying to be set on a copy of a slice from a DataFrame\n",
      "\n",
      "See the caveats in the documentation: http://pandas.pydata.org/pandas-docs/stable/user_guide/indexing.html#returning-a-view-versus-a-copy\n",
      "  return super().drop(\n"
     ]
    },
    {
     "data": {
      "text/html": [
       "<div>\n",
       "<style scoped>\n",
       "    .dataframe tbody tr th:only-of-type {\n",
       "        vertical-align: middle;\n",
       "    }\n",
       "\n",
       "    .dataframe tbody tr th {\n",
       "        vertical-align: top;\n",
       "    }\n",
       "\n",
       "    .dataframe thead th {\n",
       "        text-align: right;\n",
       "    }\n",
       "</style>\n",
       "<table border=\"1\" class=\"dataframe\">\n",
       "  <thead>\n",
       "    <tr style=\"text-align: right;\">\n",
       "      <th></th>\n",
       "      <th>shared_teks_by_generation_date</th>\n",
       "    </tr>\n",
       "    <tr>\n",
       "      <th>sample_date_string</th>\n",
       "      <th></th>\n",
       "    </tr>\n",
       "  </thead>\n",
       "  <tbody>\n",
       "    <tr>\n",
       "      <th>2020-10-25</th>\n",
       "      <td>1</td>\n",
       "    </tr>\n",
       "    <tr>\n",
       "      <th>2020-10-24</th>\n",
       "      <td>186</td>\n",
       "    </tr>\n",
       "    <tr>\n",
       "      <th>2020-10-23</th>\n",
       "      <td>294</td>\n",
       "    </tr>\n",
       "    <tr>\n",
       "      <th>2020-10-22</th>\n",
       "      <td>433</td>\n",
       "    </tr>\n",
       "    <tr>\n",
       "      <th>2020-10-21</th>\n",
       "      <td>508</td>\n",
       "    </tr>\n",
       "  </tbody>\n",
       "</table>\n",
       "</div>"
      ],
      "text/plain": [
       "                    shared_teks_by_generation_date\n",
       "sample_date_string                                \n",
       "2020-10-25                                       1\n",
       "2020-10-24                                     186\n",
       "2020-10-23                                     294\n",
       "2020-10-22                                     433\n",
       "2020-10-21                                     508"
      ]
     },
     "execution_count": 19,
     "metadata": {},
     "output_type": "execute_result"
    }
   ],
   "source": [
    "exposure_keys_summary_df = multi_backend_exposure_keys_df[\n",
    "    multi_backend_exposure_keys_df.region == report_backend_identifier]\n",
    "exposure_keys_summary_df.drop(columns=[\"region\"], inplace=True)\n",
    "exposure_keys_summary_df = \\\n",
    "    exposure_keys_summary_df.groupby([\"sample_date_string\"]).key_data.nunique().to_frame()\n",
    "exposure_keys_summary_df = \\\n",
    "    exposure_keys_summary_df.reset_index().set_index(\"sample_date_string\")\n",
    "exposure_keys_summary_df.sort_index(ascending=False, inplace=True)\n",
    "exposure_keys_summary_df.rename(columns={\"key_data\": \"shared_teks_by_generation_date\"}, inplace=True)\n",
    "exposure_keys_summary_df.head()"
   ]
  },
  {
   "cell_type": "markdown",
   "metadata": {
    "papermill": {
     "duration": 0.039258,
     "end_time": "2020-10-25T03:27:11.791807",
     "exception": false,
     "start_time": "2020-10-25T03:27:11.752549",
     "status": "completed"
    },
    "tags": []
   },
   "source": [
    "### Dump API TEKs"
   ]
  },
  {
   "cell_type": "code",
   "execution_count": 20,
   "metadata": {
    "execution": {
     "iopub.execute_input": "2020-10-25T03:27:11.876368Z",
     "iopub.status.busy": "2020-10-25T03:27:11.875912Z",
     "iopub.status.idle": "2020-10-25T03:27:12.607322Z",
     "shell.execute_reply": "2020-10-25T03:27:12.607764Z"
    },
    "papermill": {
     "duration": 0.777003,
     "end_time": "2020-10-25T03:27:12.607929",
     "exception": false,
     "start_time": "2020-10-25T03:27:11.830926",
     "status": "completed"
    },
    "tags": []
   },
   "outputs": [
    {
     "data": {
      "text/html": [
       "<div>\n",
       "<style scoped>\n",
       "    .dataframe tbody tr th:only-of-type {\n",
       "        vertical-align: middle;\n",
       "    }\n",
       "\n",
       "    .dataframe tbody tr th {\n",
       "        vertical-align: top;\n",
       "    }\n",
       "\n",
       "    .dataframe thead th {\n",
       "        text-align: right;\n",
       "    }\n",
       "</style>\n",
       "<table border=\"1\" class=\"dataframe\">\n",
       "  <thead>\n",
       "    <tr style=\"text-align: right;\">\n",
       "      <th></th>\n",
       "      <th>sample_date</th>\n",
       "      <th>region</th>\n",
       "      <th>tek_list</th>\n",
       "      <th>extraction_date</th>\n",
       "      <th>extraction_date_with_hour</th>\n",
       "    </tr>\n",
       "  </thead>\n",
       "  <tbody>\n",
       "    <tr>\n",
       "      <th>0</th>\n",
       "      <td>2020-10-12</td>\n",
       "      <td>BE</td>\n",
       "      <td>[0157eb00-837b-e83c-00ed-094ad1bd57ab, 04a8e07...</td>\n",
       "      <td>2020-10-25</td>\n",
       "      <td>2020-10-25@03</td>\n",
       "    </tr>\n",
       "    <tr>\n",
       "      <th>1</th>\n",
       "      <td>2020-10-12</td>\n",
       "      <td>BE@TST</td>\n",
       "      <td>[01034ab4-cbac-d94d-ff68-e57b003d9091, 0106e7f...</td>\n",
       "      <td>2020-10-25</td>\n",
       "      <td>2020-10-25@03</td>\n",
       "    </tr>\n",
       "    <tr>\n",
       "      <th>2</th>\n",
       "      <td>2020-10-12</td>\n",
       "      <td>CH</td>\n",
       "      <td>[ba518ef3-673b-16a3-0b6b-63c6778623d6, 8ccac85...</td>\n",
       "      <td>2020-10-25</td>\n",
       "      <td>2020-10-25@03</td>\n",
       "    </tr>\n",
       "    <tr>\n",
       "      <th>3</th>\n",
       "      <td>2020-10-12</td>\n",
       "      <td>DE</td>\n",
       "      <td>[0003a6cd-3069-11f0-7221-50079f4e9636, 001c68e...</td>\n",
       "      <td>2020-10-25</td>\n",
       "      <td>2020-10-25@03</td>\n",
       "    </tr>\n",
       "    <tr>\n",
       "      <th>4</th>\n",
       "      <td>2020-10-12</td>\n",
       "      <td>EE</td>\n",
       "      <td>[ece7e2fc-58cd-3d70-1f91-081f8f637fb5, 54d8f6b...</td>\n",
       "      <td>2020-10-25</td>\n",
       "      <td>2020-10-25@03</td>\n",
       "    </tr>\n",
       "  </tbody>\n",
       "</table>\n",
       "</div>"
      ],
      "text/plain": [
       "  sample_date  region                                           tek_list  \\\n",
       "0  2020-10-12      BE  [0157eb00-837b-e83c-00ed-094ad1bd57ab, 04a8e07...   \n",
       "1  2020-10-12  BE@TST  [01034ab4-cbac-d94d-ff68-e57b003d9091, 0106e7f...   \n",
       "2  2020-10-12      CH  [ba518ef3-673b-16a3-0b6b-63c6778623d6, 8ccac85...   \n",
       "3  2020-10-12      DE  [0003a6cd-3069-11f0-7221-50079f4e9636, 001c68e...   \n",
       "4  2020-10-12      EE  [ece7e2fc-58cd-3d70-1f91-081f8f637fb5, 54d8f6b...   \n",
       "\n",
       "  extraction_date extraction_date_with_hour  \n",
       "0      2020-10-25             2020-10-25@03  \n",
       "1      2020-10-25             2020-10-25@03  \n",
       "2      2020-10-25             2020-10-25@03  \n",
       "3      2020-10-25             2020-10-25@03  \n",
       "4      2020-10-25             2020-10-25@03  "
      ]
     },
     "execution_count": 20,
     "metadata": {},
     "output_type": "execute_result"
    }
   ],
   "source": [
    "tek_list_df = multi_backend_exposure_keys_df[\n",
    "    [\"sample_date_string\", \"region\", \"key_data\"]].copy()\n",
    "tek_list_df[\"key_data\"] = tek_list_df[\"key_data\"].apply(str)\n",
    "tek_list_df.rename(columns={\n",
    "    \"sample_date_string\": \"sample_date\",\n",
    "    \"key_data\": \"tek_list\"}, inplace=True)\n",
    "tek_list_df = tek_list_df.groupby(\n",
    "    [\"sample_date\", \"region\"]).tek_list.unique().reset_index()\n",
    "tek_list_df[\"extraction_date\"] = extraction_date\n",
    "tek_list_df[\"extraction_date_with_hour\"] = extraction_date_with_hour\n",
    "\n",
    "tek_list_path_prefix = \"Data/TEKs/\"\n",
    "tek_list_current_path = tek_list_path_prefix + f\"/Current/RadarCOVID-TEKs.json\"\n",
    "tek_list_daily_path = tek_list_path_prefix + f\"Daily/RadarCOVID-TEKs-{extraction_date}.json\"\n",
    "tek_list_hourly_path = tek_list_path_prefix + f\"Hourly/RadarCOVID-TEKs-{extraction_date_with_hour}.json\"\n",
    "\n",
    "for path in [tek_list_current_path, tek_list_daily_path, tek_list_hourly_path]:\n",
    "    os.makedirs(os.path.dirname(path), exist_ok=True)\n",
    "\n",
    "tek_list_df.drop(columns=[\"extraction_date\", \"extraction_date_with_hour\"]).to_json(\n",
    "    tek_list_current_path,\n",
    "    lines=True, orient=\"records\")\n",
    "tek_list_df.drop(columns=[\"extraction_date_with_hour\"]).to_json(\n",
    "    tek_list_daily_path,\n",
    "    lines=True, orient=\"records\")\n",
    "tek_list_df.to_json(\n",
    "    tek_list_hourly_path,\n",
    "    lines=True, orient=\"records\")\n",
    "tek_list_df.head()"
   ]
  },
  {
   "cell_type": "markdown",
   "metadata": {
    "papermill": {
     "duration": 0.039428,
     "end_time": "2020-10-25T03:27:12.685313",
     "exception": false,
     "start_time": "2020-10-25T03:27:12.645885",
     "status": "completed"
    },
    "tags": []
   },
   "source": [
    "### Load TEK Dumps"
   ]
  },
  {
   "cell_type": "code",
   "execution_count": 21,
   "metadata": {
    "execution": {
     "iopub.execute_input": "2020-10-25T03:27:12.774979Z",
     "iopub.status.busy": "2020-10-25T03:27:12.774394Z",
     "iopub.status.idle": "2020-10-25T03:27:12.777956Z",
     "shell.execute_reply": "2020-10-25T03:27:12.777547Z"
    },
    "papermill": {
     "duration": 0.051625,
     "end_time": "2020-10-25T03:27:12.778043",
     "exception": false,
     "start_time": "2020-10-25T03:27:12.726418",
     "status": "completed"
    },
    "tags": []
   },
   "outputs": [],
   "source": [
    "import glob\n",
    "\n",
    "def load_extracted_teks(mode, region=None, limit=None) -> pd.DataFrame:\n",
    "    extracted_teks_df = pd.DataFrame(columns=[\"region\"])\n",
    "    file_paths = list(reversed(sorted(glob.glob(tek_list_path_prefix + mode + \"/RadarCOVID-TEKs-*.json\"))))\n",
    "    if limit:\n",
    "        file_paths = file_paths[:limit]\n",
    "    for file_path in file_paths:\n",
    "        logging.info(f\"Loading TEKs from '{file_path}'...\")\n",
    "        iteration_extracted_teks_df = pd.read_json(file_path, lines=True)\n",
    "        extracted_teks_df = extracted_teks_df.append(\n",
    "            iteration_extracted_teks_df, sort=False)\n",
    "    extracted_teks_df[\"region\"] = \\\n",
    "        extracted_teks_df.region.fillna(spain_region_country_code).copy()\n",
    "    if region:\n",
    "        extracted_teks_df = \\\n",
    "            extracted_teks_df[extracted_teks_df.region == region]\n",
    "    return extracted_teks_df"
   ]
  },
  {
   "cell_type": "code",
   "execution_count": 22,
   "metadata": {
    "collapsed": false,
    "execution": {
     "iopub.execute_input": "2020-10-25T03:27:12.863383Z",
     "iopub.status.busy": "2020-10-25T03:27:12.863005Z",
     "iopub.status.idle": "2020-10-25T03:27:13.474038Z",
     "shell.execute_reply": "2020-10-25T03:27:13.473644Z"
    },
    "papermill": {
     "duration": 0.657759,
     "end_time": "2020-10-25T03:27:13.474135",
     "exception": false,
     "start_time": "2020-10-25T03:27:12.816376",
     "status": "completed"
    },
    "pycharm": {
     "name": "#%%\n"
    },
    "tags": []
   },
   "outputs": [
    {
     "data": {
      "text/html": [
       "<div>\n",
       "<style scoped>\n",
       "    .dataframe tbody tr th:only-of-type {\n",
       "        vertical-align: middle;\n",
       "    }\n",
       "\n",
       "    .dataframe tbody tr th {\n",
       "        vertical-align: top;\n",
       "    }\n",
       "\n",
       "    .dataframe thead th {\n",
       "        text-align: right;\n",
       "    }\n",
       "</style>\n",
       "<table border=\"1\" class=\"dataframe\">\n",
       "  <thead>\n",
       "    <tr style=\"text-align: right;\">\n",
       "      <th></th>\n",
       "      <th>region</th>\n",
       "      <th>sample_date</th>\n",
       "      <th>tek_list</th>\n",
       "      <th>extraction_date</th>\n",
       "      <th>extraction_date_with_hour</th>\n",
       "    </tr>\n",
       "  </thead>\n",
       "  <tbody>\n",
       "    <tr>\n",
       "      <th>5</th>\n",
       "      <td>ES</td>\n",
       "      <td>2020-10-12</td>\n",
       "      <td>[ac63d836-be8a-442b-c542-c5d588091579, 442ae33...</td>\n",
       "      <td>2020-10-25</td>\n",
       "      <td>NaN</td>\n",
       "    </tr>\n",
       "    <tr>\n",
       "      <th>15</th>\n",
       "      <td>ES</td>\n",
       "      <td>2020-10-13</td>\n",
       "      <td>[43fb9b19-33a0-809a-873c-2523924e3969, f871744...</td>\n",
       "      <td>2020-10-25</td>\n",
       "      <td>NaN</td>\n",
       "    </tr>\n",
       "    <tr>\n",
       "      <th>25</th>\n",
       "      <td>ES</td>\n",
       "      <td>2020-10-14</td>\n",
       "      <td>[b5536203-fb67-77da-3395-a135ad406a66, bc600ff...</td>\n",
       "      <td>2020-10-25</td>\n",
       "      <td>NaN</td>\n",
       "    </tr>\n",
       "    <tr>\n",
       "      <th>35</th>\n",
       "      <td>ES</td>\n",
       "      <td>2020-10-15</td>\n",
       "      <td>[c8570ea6-535e-6523-1acd-8129bf3eb289, 76694a4...</td>\n",
       "      <td>2020-10-25</td>\n",
       "      <td>NaN</td>\n",
       "    </tr>\n",
       "    <tr>\n",
       "      <th>45</th>\n",
       "      <td>ES</td>\n",
       "      <td>2020-10-16</td>\n",
       "      <td>[366452bc-5244-f987-d7f1-77b16f26e899, d576f17...</td>\n",
       "      <td>2020-10-25</td>\n",
       "      <td>NaN</td>\n",
       "    </tr>\n",
       "  </tbody>\n",
       "</table>\n",
       "</div>"
      ],
      "text/plain": [
       "   region sample_date                                           tek_list  \\\n",
       "5      ES  2020-10-12  [ac63d836-be8a-442b-c542-c5d588091579, 442ae33...   \n",
       "15     ES  2020-10-13  [43fb9b19-33a0-809a-873c-2523924e3969, f871744...   \n",
       "25     ES  2020-10-14  [b5536203-fb67-77da-3395-a135ad406a66, bc600ff...   \n",
       "35     ES  2020-10-15  [c8570ea6-535e-6523-1acd-8129bf3eb289, 76694a4...   \n",
       "45     ES  2020-10-16  [366452bc-5244-f987-d7f1-77b16f26e899, d576f17...   \n",
       "\n",
       "   extraction_date extraction_date_with_hour  \n",
       "5       2020-10-25                       NaN  \n",
       "15      2020-10-25                       NaN  \n",
       "25      2020-10-25                       NaN  \n",
       "35      2020-10-25                       NaN  \n",
       "45      2020-10-25                       NaN  "
      ]
     },
     "execution_count": 22,
     "metadata": {},
     "output_type": "execute_result"
    }
   ],
   "source": [
    "daily_extracted_teks_df = load_extracted_teks(\n",
    "    mode=\"Daily\",\n",
    "    region=report_backend_identifier,\n",
    "    limit=tek_dumps_load_limit)\n",
    "daily_extracted_teks_df.head()"
   ]
  },
  {
   "cell_type": "code",
   "execution_count": 23,
   "metadata": {
    "collapsed": false,
    "execution": {
     "iopub.execute_input": "2020-10-25T03:27:13.561146Z",
     "iopub.status.busy": "2020-10-25T03:27:13.560173Z",
     "iopub.status.idle": "2020-10-25T03:27:13.568518Z",
     "shell.execute_reply": "2020-10-25T03:27:13.568198Z"
    },
    "papermill": {
     "duration": 0.054862,
     "end_time": "2020-10-25T03:27:13.568608",
     "exception": false,
     "start_time": "2020-10-25T03:27:13.513746",
     "status": "completed"
    },
    "pycharm": {
     "name": "#%%\n"
    },
    "tags": []
   },
   "outputs": [
    {
     "data": {
      "text/html": [
       "<div>\n",
       "<style scoped>\n",
       "    .dataframe tbody tr th:only-of-type {\n",
       "        vertical-align: middle;\n",
       "    }\n",
       "\n",
       "    .dataframe tbody tr th {\n",
       "        vertical-align: top;\n",
       "    }\n",
       "\n",
       "    .dataframe thead th {\n",
       "        text-align: right;\n",
       "    }\n",
       "</style>\n",
       "<table border=\"1\" class=\"dataframe\">\n",
       "  <thead>\n",
       "    <tr style=\"text-align: right;\">\n",
       "      <th></th>\n",
       "      <th>shared_teks_by_generation_date</th>\n",
       "    </tr>\n",
       "    <tr>\n",
       "      <th>sample_date_string</th>\n",
       "      <th></th>\n",
       "    </tr>\n",
       "  </thead>\n",
       "  <tbody>\n",
       "    <tr>\n",
       "      <th>2020-10-25</th>\n",
       "      <td>1</td>\n",
       "    </tr>\n",
       "    <tr>\n",
       "      <th>2020-10-24</th>\n",
       "      <td>186</td>\n",
       "    </tr>\n",
       "    <tr>\n",
       "      <th>2020-10-23</th>\n",
       "      <td>294</td>\n",
       "    </tr>\n",
       "    <tr>\n",
       "      <th>2020-10-22</th>\n",
       "      <td>433</td>\n",
       "    </tr>\n",
       "    <tr>\n",
       "      <th>2020-10-21</th>\n",
       "      <td>508</td>\n",
       "    </tr>\n",
       "  </tbody>\n",
       "</table>\n",
       "</div>"
      ],
      "text/plain": [
       "                    shared_teks_by_generation_date\n",
       "sample_date_string                                \n",
       "2020-10-25                                       1\n",
       "2020-10-24                                     186\n",
       "2020-10-23                                     294\n",
       "2020-10-22                                     433\n",
       "2020-10-21                                     508"
      ]
     },
     "execution_count": 23,
     "metadata": {},
     "output_type": "execute_result"
    }
   ],
   "source": [
    "exposure_keys_summary_df_ = daily_extracted_teks_df \\\n",
    "    .sort_values(\"extraction_date\", ascending=False) \\\n",
    "    .groupby(\"sample_date\").tek_list.first() \\\n",
    "    .to_frame()\n",
    "exposure_keys_summary_df_.index.name = \"sample_date_string\"\n",
    "exposure_keys_summary_df_[\"tek_list\"] = \\\n",
    "    exposure_keys_summary_df_.tek_list.apply(len)\n",
    "exposure_keys_summary_df_ = exposure_keys_summary_df_ \\\n",
    "    .rename(columns={\"tek_list\": \"shared_teks_by_generation_date\"}) \\\n",
    "    .sort_index(ascending=False)\n",
    "exposure_keys_summary_df = exposure_keys_summary_df_\n",
    "exposure_keys_summary_df.head()"
   ]
  },
  {
   "cell_type": "markdown",
   "metadata": {
    "execution": {
     "iopub.execute_input": "2020-08-30T22:30:16.632967Z",
     "iopub.status.busy": "2020-08-30T22:30:16.632308Z",
     "iopub.status.idle": "2020-08-30T22:30:16.634945Z",
     "shell.execute_reply": "2020-08-30T22:30:16.635575Z"
    },
    "papermill": {
     "duration": 0.040531,
     "end_time": "2020-10-25T03:27:13.652090",
     "exception": false,
     "start_time": "2020-10-25T03:27:13.611559",
     "status": "completed"
    },
    "pycharm": {
     "name": "#%% md\n"
    },
    "tags": []
   },
   "source": [
    "### Daily New TEKs"
   ]
  },
  {
   "cell_type": "code",
   "execution_count": 24,
   "metadata": {
    "execution": {
     "iopub.execute_input": "2020-10-25T03:27:13.770650Z",
     "iopub.status.busy": "2020-10-25T03:27:13.770075Z",
     "iopub.status.idle": "2020-10-25T03:27:13.775071Z",
     "shell.execute_reply": "2020-10-25T03:27:13.774681Z"
    },
    "papermill": {
     "duration": 0.082857,
     "end_time": "2020-10-25T03:27:13.775174",
     "exception": false,
     "start_time": "2020-10-25T03:27:13.692317",
     "status": "completed"
    },
    "tags": []
   },
   "outputs": [
    {
     "data": {
      "text/html": [
       "<div>\n",
       "<style scoped>\n",
       "    .dataframe tbody tr th:only-of-type {\n",
       "        vertical-align: middle;\n",
       "    }\n",
       "\n",
       "    .dataframe tbody tr th {\n",
       "        vertical-align: top;\n",
       "    }\n",
       "\n",
       "    .dataframe thead th {\n",
       "        text-align: right;\n",
       "    }\n",
       "</style>\n",
       "<table border=\"1\" class=\"dataframe\">\n",
       "  <thead>\n",
       "    <tr style=\"text-align: right;\">\n",
       "      <th></th>\n",
       "      <th>tek_list</th>\n",
       "    </tr>\n",
       "    <tr>\n",
       "      <th>extraction_date</th>\n",
       "      <th></th>\n",
       "    </tr>\n",
       "  </thead>\n",
       "  <tbody>\n",
       "    <tr>\n",
       "      <th>2020-08-29</th>\n",
       "      <td>{6e8eb4ae-d7cc-2dfe-9709-58c6de6aa724, 5a0bb4b...</td>\n",
       "    </tr>\n",
       "    <tr>\n",
       "      <th>2020-08-30</th>\n",
       "      <td>{6e8eb4ae-d7cc-2dfe-9709-58c6de6aa724, 5a0bb4b...</td>\n",
       "    </tr>\n",
       "    <tr>\n",
       "      <th>2020-08-31</th>\n",
       "      <td>{5c83d17f-ff0d-9363-16f4-79bcd8cbcbcb, 6e8eb4a...</td>\n",
       "    </tr>\n",
       "    <tr>\n",
       "      <th>2020-09-01</th>\n",
       "      <td>{5c83d17f-ff0d-9363-16f4-79bcd8cbcbcb, 6e8eb4a...</td>\n",
       "    </tr>\n",
       "    <tr>\n",
       "      <th>2020-09-02</th>\n",
       "      <td>{5c83d17f-ff0d-9363-16f4-79bcd8cbcbcb, 673a878...</td>\n",
       "    </tr>\n",
       "  </tbody>\n",
       "</table>\n",
       "</div>"
      ],
      "text/plain": [
       "                                                          tek_list\n",
       "extraction_date                                                   \n",
       "2020-08-29       {6e8eb4ae-d7cc-2dfe-9709-58c6de6aa724, 5a0bb4b...\n",
       "2020-08-30       {6e8eb4ae-d7cc-2dfe-9709-58c6de6aa724, 5a0bb4b...\n",
       "2020-08-31       {5c83d17f-ff0d-9363-16f4-79bcd8cbcbcb, 6e8eb4a...\n",
       "2020-09-01       {5c83d17f-ff0d-9363-16f4-79bcd8cbcbcb, 6e8eb4a...\n",
       "2020-09-02       {5c83d17f-ff0d-9363-16f4-79bcd8cbcbcb, 673a878..."
      ]
     },
     "execution_count": 24,
     "metadata": {},
     "output_type": "execute_result"
    }
   ],
   "source": [
    "tek_list_df = daily_extracted_teks_df.groupby(\"extraction_date\").tek_list.apply(\n",
    "    lambda x: set(sum(x, []))).reset_index()\n",
    "tek_list_df = tek_list_df.set_index(\"extraction_date\").sort_index(ascending=True)\n",
    "tek_list_df.head()"
   ]
  },
  {
   "cell_type": "code",
   "execution_count": 25,
   "metadata": {
    "collapsed": false,
    "execution": {
     "iopub.execute_input": "2020-10-25T03:27:13.871561Z",
     "iopub.status.busy": "2020-10-25T03:27:13.870984Z",
     "iopub.status.idle": "2020-10-25T03:27:14.753281Z",
     "shell.execute_reply": "2020-10-25T03:27:14.752830Z"
    },
    "papermill": {
     "duration": 0.935007,
     "end_time": "2020-10-25T03:27:14.753402",
     "exception": false,
     "start_time": "2020-10-25T03:27:13.818395",
     "status": "completed"
    },
    "pycharm": {
     "name": "#%%\n"
    },
    "tags": []
   },
   "outputs": [
    {
     "name": "stderr",
     "output_type": "stream",
     "text": [
      "<ipython-input-25-827222b35590>:4: FutureWarning: `item` has been deprecated and will be removed in a future version\n",
      "  day_new_teks_set = day_new_teks_set_df[\n"
     ]
    },
    {
     "data": {
      "text/html": [
       "<div>\n",
       "<style scoped>\n",
       "    .dataframe tbody tr th:only-of-type {\n",
       "        vertical-align: middle;\n",
       "    }\n",
       "\n",
       "    .dataframe tbody tr th {\n",
       "        vertical-align: top;\n",
       "    }\n",
       "\n",
       "    .dataframe thead th {\n",
       "        text-align: right;\n",
       "    }\n",
       "</style>\n",
       "<table border=\"1\" class=\"dataframe\">\n",
       "  <thead>\n",
       "    <tr style=\"text-align: right;\">\n",
       "      <th></th>\n",
       "      <th>upload_date</th>\n",
       "      <th>generation_date</th>\n",
       "      <th>shared_teks</th>\n",
       "      <th>generation_to_upload_days</th>\n",
       "    </tr>\n",
       "  </thead>\n",
       "  <tbody>\n",
       "    <tr>\n",
       "      <th>10</th>\n",
       "      <td>2020-08-30</td>\n",
       "      <td>2020-08-29</td>\n",
       "      <td>16</td>\n",
       "      <td>1</td>\n",
       "    </tr>\n",
       "    <tr>\n",
       "      <th>9</th>\n",
       "      <td>2020-08-30</td>\n",
       "      <td>2020-08-28</td>\n",
       "      <td>5</td>\n",
       "      <td>2</td>\n",
       "    </tr>\n",
       "    <tr>\n",
       "      <th>8</th>\n",
       "      <td>2020-08-30</td>\n",
       "      <td>2020-08-27</td>\n",
       "      <td>3</td>\n",
       "      <td>3</td>\n",
       "    </tr>\n",
       "    <tr>\n",
       "      <th>7</th>\n",
       "      <td>2020-08-30</td>\n",
       "      <td>2020-08-26</td>\n",
       "      <td>3</td>\n",
       "      <td>4</td>\n",
       "    </tr>\n",
       "    <tr>\n",
       "      <th>6</th>\n",
       "      <td>2020-08-30</td>\n",
       "      <td>2020-08-25</td>\n",
       "      <td>2</td>\n",
       "      <td>5</td>\n",
       "    </tr>\n",
       "  </tbody>\n",
       "</table>\n",
       "</div>"
      ],
      "text/plain": [
       "   upload_date generation_date  shared_teks  generation_to_upload_days\n",
       "10  2020-08-30      2020-08-29           16                          1\n",
       "9   2020-08-30      2020-08-28            5                          2\n",
       "8   2020-08-30      2020-08-27            3                          3\n",
       "7   2020-08-30      2020-08-26            3                          4\n",
       "6   2020-08-30      2020-08-25            2                          5"
      ]
     },
     "execution_count": 25,
     "metadata": {},
     "output_type": "execute_result"
    }
   ],
   "source": [
    "def compute_teks_by_generation_and_upload_date(date):\n",
    "    day_new_teks_set_df = tek_list_df.copy().diff()\n",
    "    try:\n",
    "        day_new_teks_set = day_new_teks_set_df[\n",
    "            day_new_teks_set_df.index == date].tek_list.item()\n",
    "    except ValueError:\n",
    "        day_new_teks_set = None\n",
    "    if pd.isna(day_new_teks_set):\n",
    "        day_new_teks_set = set()\n",
    "    day_new_teks_df = daily_extracted_teks_df[\n",
    "        daily_extracted_teks_df.extraction_date == date].copy()\n",
    "    day_new_teks_df[\"shared_teks\"] = \\\n",
    "        day_new_teks_df.tek_list.apply(lambda x: set(x).intersection(day_new_teks_set))\n",
    "    day_new_teks_df[\"shared_teks\"] = \\\n",
    "        day_new_teks_df.shared_teks.apply(len)\n",
    "    day_new_teks_df[\"upload_date\"] = date\n",
    "    day_new_teks_df.rename(columns={\"sample_date\": \"generation_date\"}, inplace=True)\n",
    "    day_new_teks_df = day_new_teks_df[\n",
    "        [\"upload_date\", \"generation_date\", \"shared_teks\"]]\n",
    "    day_new_teks_df[\"generation_to_upload_days\"] = \\\n",
    "        (pd.to_datetime(day_new_teks_df.upload_date) -\n",
    "         pd.to_datetime(day_new_teks_df.generation_date)).dt.days\n",
    "    day_new_teks_df = day_new_teks_df[day_new_teks_df.shared_teks > 0]\n",
    "    return day_new_teks_df\n",
    "\n",
    "shared_teks_generation_to_upload_df = pd.DataFrame()\n",
    "for upload_date in daily_extracted_teks_df.extraction_date.unique():\n",
    "    shared_teks_generation_to_upload_df = \\\n",
    "        shared_teks_generation_to_upload_df.append(\n",
    "            compute_teks_by_generation_and_upload_date(date=upload_date))\n",
    "shared_teks_generation_to_upload_df \\\n",
    "    .sort_values([\"upload_date\", \"generation_date\"], ascending=False, inplace=True)\n",
    "shared_teks_generation_to_upload_df.tail()"
   ]
  },
  {
   "cell_type": "code",
   "execution_count": 26,
   "metadata": {
    "collapsed": false,
    "execution": {
     "iopub.execute_input": "2020-10-25T03:27:14.882616Z",
     "iopub.status.busy": "2020-10-25T03:27:14.882107Z",
     "iopub.status.idle": "2020-10-25T03:27:14.887324Z",
     "shell.execute_reply": "2020-10-25T03:27:14.886884Z"
    },
    "papermill": {
     "duration": 0.083942,
     "end_time": "2020-10-25T03:27:14.887430",
     "exception": false,
     "start_time": "2020-10-25T03:27:14.803488",
     "status": "completed"
    },
    "pycharm": {
     "name": "#%%\n"
    },
    "tags": []
   },
   "outputs": [
    {
     "data": {
      "text/html": [
       "<div>\n",
       "<style scoped>\n",
       "    .dataframe tbody tr th:only-of-type {\n",
       "        vertical-align: middle;\n",
       "    }\n",
       "\n",
       "    .dataframe tbody tr th {\n",
       "        vertical-align: top;\n",
       "    }\n",
       "\n",
       "    .dataframe thead th {\n",
       "        text-align: right;\n",
       "    }\n",
       "</style>\n",
       "<table border=\"1\" class=\"dataframe\">\n",
       "  <thead>\n",
       "    <tr style=\"text-align: right;\">\n",
       "      <th></th>\n",
       "      <th>upload_date</th>\n",
       "      <th>generation_date</th>\n",
       "      <th>shared_teks</th>\n",
       "      <th>generation_to_upload_days</th>\n",
       "    </tr>\n",
       "  </thead>\n",
       "  <tbody>\n",
       "    <tr>\n",
       "      <th>95</th>\n",
       "      <td>2020-10-25</td>\n",
       "      <td>2020-10-21</td>\n",
       "      <td>1</td>\n",
       "      <td>4</td>\n",
       "    </tr>\n",
       "    <tr>\n",
       "      <th>85</th>\n",
       "      <td>2020-10-25</td>\n",
       "      <td>2020-10-20</td>\n",
       "      <td>1</td>\n",
       "      <td>5</td>\n",
       "    </tr>\n",
       "    <tr>\n",
       "      <th>75</th>\n",
       "      <td>2020-10-25</td>\n",
       "      <td>2020-10-19</td>\n",
       "      <td>1</td>\n",
       "      <td>6</td>\n",
       "    </tr>\n",
       "    <tr>\n",
       "      <th>55</th>\n",
       "      <td>2020-10-25</td>\n",
       "      <td>2020-10-17</td>\n",
       "      <td>1</td>\n",
       "      <td>8</td>\n",
       "    </tr>\n",
       "    <tr>\n",
       "      <th>45</th>\n",
       "      <td>2020-10-25</td>\n",
       "      <td>2020-10-16</td>\n",
       "      <td>1</td>\n",
       "      <td>9</td>\n",
       "    </tr>\n",
       "  </tbody>\n",
       "</table>\n",
       "</div>"
      ],
      "text/plain": [
       "   upload_date generation_date  shared_teks  generation_to_upload_days\n",
       "95  2020-10-25      2020-10-21            1                          4\n",
       "85  2020-10-25      2020-10-20            1                          5\n",
       "75  2020-10-25      2020-10-19            1                          6\n",
       "55  2020-10-25      2020-10-17            1                          8\n",
       "45  2020-10-25      2020-10-16            1                          9"
      ]
     },
     "execution_count": 26,
     "metadata": {},
     "output_type": "execute_result"
    }
   ],
   "source": [
    "today_new_teks_df = \\\n",
    "    shared_teks_generation_to_upload_df[\n",
    "        shared_teks_generation_to_upload_df.upload_date == extraction_date].copy()\n",
    "today_new_teks_df.tail()"
   ]
  },
  {
   "cell_type": "code",
   "execution_count": 27,
   "metadata": {
    "collapsed": false,
    "execution": {
     "iopub.execute_input": "2020-10-25T03:27:15.012110Z",
     "iopub.status.busy": "2020-10-25T03:27:14.987131Z",
     "iopub.status.idle": "2020-10-25T03:27:15.151040Z",
     "shell.execute_reply": "2020-10-25T03:27:15.151583Z"
    },
    "papermill": {
     "duration": 0.216472,
     "end_time": "2020-10-25T03:27:15.151764",
     "exception": false,
     "start_time": "2020-10-25T03:27:14.935292",
     "status": "completed"
    },
    "pycharm": {
     "name": "#%%\n"
    },
    "tags": []
   },
   "outputs": [
    {
     "data": {
      "image/png": "[encoded data removed]",
      "text/plain": [
       "<Figure size 1080x432 with 1 Axes>"
      ]
     },
     "metadata": {},
     "output_type": "display_data"
    }
   ],
   "source": [
    "if not today_new_teks_df.empty:\n",
    "    today_new_teks_df.set_index(\"generation_to_upload_days\") \\\n",
    "        .sort_index().shared_teks.plot.bar()"
   ]
  },
  {
   "cell_type": "code",
   "execution_count": 28,
   "metadata": {
    "collapsed": false,
    "execution": {
     "iopub.execute_input": "2020-10-25T03:27:15.266859Z",
     "iopub.status.busy": "2020-10-25T03:27:15.266293Z",
     "iopub.status.idle": "2020-10-25T03:27:15.280282Z",
     "shell.execute_reply": "2020-10-25T03:27:15.279799Z"
    },
    "papermill": {
     "duration": 0.074411,
     "end_time": "2020-10-25T03:27:15.280427",
     "exception": false,
     "start_time": "2020-10-25T03:27:15.206016",
     "status": "completed"
    },
    "pycharm": {
     "name": "#%%\n"
    },
    "tags": []
   },
   "outputs": [
    {
     "data": {
      "text/html": [
       "<div>\n",
       "<style scoped>\n",
       "    .dataframe tbody tr th:only-of-type {\n",
       "        vertical-align: middle;\n",
       "    }\n",
       "\n",
       "    .dataframe tbody tr th {\n",
       "        vertical-align: top;\n",
       "    }\n",
       "\n",
       "    .dataframe thead th {\n",
       "        text-align: right;\n",
       "    }\n",
       "</style>\n",
       "<table border=\"1\" class=\"dataframe\">\n",
       "  <thead>\n",
       "    <tr style=\"text-align: right;\">\n",
       "      <th>generation_to_upload_days</th>\n",
       "      <th>0</th>\n",
       "      <th>1</th>\n",
       "      <th>2</th>\n",
       "      <th>3</th>\n",
       "      <th>4</th>\n",
       "      <th>5</th>\n",
       "      <th>6</th>\n",
       "      <th>7</th>\n",
       "      <th>8</th>\n",
       "      <th>9</th>\n",
       "      <th>10</th>\n",
       "      <th>11</th>\n",
       "      <th>12</th>\n",
       "      <th>13</th>\n",
       "    </tr>\n",
       "    <tr>\n",
       "      <th>upload_date</th>\n",
       "      <th></th>\n",
       "      <th></th>\n",
       "      <th></th>\n",
       "      <th></th>\n",
       "      <th></th>\n",
       "      <th></th>\n",
       "      <th></th>\n",
       "      <th></th>\n",
       "      <th></th>\n",
       "      <th></th>\n",
       "      <th></th>\n",
       "      <th></th>\n",
       "      <th></th>\n",
       "      <th></th>\n",
       "    </tr>\n",
       "  </thead>\n",
       "  <tbody>\n",
       "    <tr>\n",
       "      <th>2020-10-25</th>\n",
       "      <td>1</td>\n",
       "      <td>9</td>\n",
       "      <td>2</td>\n",
       "      <td>2</td>\n",
       "      <td>1</td>\n",
       "      <td>1</td>\n",
       "      <td>1</td>\n",
       "      <td>0</td>\n",
       "      <td>1</td>\n",
       "      <td>1</td>\n",
       "      <td>0</td>\n",
       "      <td>0</td>\n",
       "      <td>0</td>\n",
       "      <td>0</td>\n",
       "    </tr>\n",
       "    <tr>\n",
       "      <th>2020-10-24</th>\n",
       "      <td>177</td>\n",
       "      <td>125</td>\n",
       "      <td>106</td>\n",
       "      <td>89</td>\n",
       "      <td>69</td>\n",
       "      <td>50</td>\n",
       "      <td>28</td>\n",
       "      <td>19</td>\n",
       "      <td>12</td>\n",
       "      <td>10</td>\n",
       "      <td>6</td>\n",
       "      <td>5</td>\n",
       "      <td>5</td>\n",
       "      <td>2</td>\n",
       "    </tr>\n",
       "    <tr>\n",
       "      <th>2020-10-23</th>\n",
       "      <td>167</td>\n",
       "      <td>145</td>\n",
       "      <td>129</td>\n",
       "      <td>106</td>\n",
       "      <td>85</td>\n",
       "      <td>58</td>\n",
       "      <td>29</td>\n",
       "      <td>19</td>\n",
       "      <td>14</td>\n",
       "      <td>9</td>\n",
       "      <td>3</td>\n",
       "      <td>3</td>\n",
       "      <td>1</td>\n",
       "      <td>1</td>\n",
       "    </tr>\n",
       "    <tr>\n",
       "      <th>2020-10-22</th>\n",
       "      <td>180</td>\n",
       "      <td>132</td>\n",
       "      <td>114</td>\n",
       "      <td>100</td>\n",
       "      <td>76</td>\n",
       "      <td>51</td>\n",
       "      <td>26</td>\n",
       "      <td>18</td>\n",
       "      <td>10</td>\n",
       "      <td>6</td>\n",
       "      <td>4</td>\n",
       "      <td>4</td>\n",
       "      <td>3</td>\n",
       "      <td>2</td>\n",
       "    </tr>\n",
       "    <tr>\n",
       "      <th>2020-10-21</th>\n",
       "      <td>157</td>\n",
       "      <td>153</td>\n",
       "      <td>136</td>\n",
       "      <td>120</td>\n",
       "      <td>97</td>\n",
       "      <td>62</td>\n",
       "      <td>34</td>\n",
       "      <td>28</td>\n",
       "      <td>20</td>\n",
       "      <td>15</td>\n",
       "      <td>9</td>\n",
       "      <td>4</td>\n",
       "      <td>3</td>\n",
       "      <td>3</td>\n",
       "    </tr>\n",
       "  </tbody>\n",
       "</table>\n",
       "</div>"
      ],
      "text/plain": [
       "generation_to_upload_days   0    1    2    3   4   5   6   7   8   9   10  11  \\\n",
       "upload_date                                                                     \n",
       "2020-10-25                   1    9    2    2   1   1   1   0   1   1   0   0   \n",
       "2020-10-24                 177  125  106   89  69  50  28  19  12  10   6   5   \n",
       "2020-10-23                 167  145  129  106  85  58  29  19  14   9   3   3   \n",
       "2020-10-22                 180  132  114  100  76  51  26  18  10   6   4   4   \n",
       "2020-10-21                 157  153  136  120  97  62  34  28  20  15   9   4   \n",
       "\n",
       "generation_to_upload_days  12  13  \n",
       "upload_date                        \n",
       "2020-10-25                  0   0  \n",
       "2020-10-24                  5   2  \n",
       "2020-10-23                  1   1  \n",
       "2020-10-22                  3   2  \n",
       "2020-10-21                  3   3  "
      ]
     },
     "execution_count": 28,
     "metadata": {},
     "output_type": "execute_result"
    }
   ],
   "source": [
    "generation_to_upload_period_pivot_df = \\\n",
    "    shared_teks_generation_to_upload_df[\n",
    "        [\"upload_date\", \"generation_to_upload_days\", \"shared_teks\"]] \\\n",
    "        .pivot(index=\"upload_date\", columns=\"generation_to_upload_days\") \\\n",
    "        .sort_index(ascending=False).fillna(0).astype(int) \\\n",
    "        .droplevel(level=0, axis=1)\n",
    "generation_to_upload_period_pivot_df.head()"
   ]
  },
  {
   "cell_type": "code",
   "execution_count": 29,
   "metadata": {
    "collapsed": false,
    "execution": {
     "iopub.execute_input": "2020-10-25T03:27:15.414146Z",
     "iopub.status.busy": "2020-10-25T03:27:15.413568Z",
     "iopub.status.idle": "2020-10-25T03:27:15.416399Z",
     "shell.execute_reply": "2020-10-25T03:27:15.416864Z"
    },
    "papermill": {
     "duration": 0.081851,
     "end_time": "2020-10-25T03:27:15.417014",
     "exception": false,
     "start_time": "2020-10-25T03:27:15.335163",
     "status": "completed"
    },
    "pycharm": {
     "name": "#%%\n"
    },
    "tags": []
   },
   "outputs": [
    {
     "data": {
      "text/html": [
       "<div>\n",
       "<style scoped>\n",
       "    .dataframe tbody tr th:only-of-type {\n",
       "        vertical-align: middle;\n",
       "    }\n",
       "\n",
       "    .dataframe tbody tr th {\n",
       "        vertical-align: top;\n",
       "    }\n",
       "\n",
       "    .dataframe thead th {\n",
       "        text-align: right;\n",
       "    }\n",
       "</style>\n",
       "<table border=\"1\" class=\"dataframe\">\n",
       "  <thead>\n",
       "    <tr style=\"text-align: right;\">\n",
       "      <th></th>\n",
       "      <th>sample_date_string</th>\n",
       "      <th>shared_teks_by_upload_date</th>\n",
       "    </tr>\n",
       "  </thead>\n",
       "  <tbody>\n",
       "    <tr>\n",
       "      <th>53</th>\n",
       "      <td>2020-10-21</td>\n",
       "      <td>841.0</td>\n",
       "    </tr>\n",
       "    <tr>\n",
       "      <th>54</th>\n",
       "      <td>2020-10-22</td>\n",
       "      <td>726.0</td>\n",
       "    </tr>\n",
       "    <tr>\n",
       "      <th>55</th>\n",
       "      <td>2020-10-23</td>\n",
       "      <td>769.0</td>\n",
       "    </tr>\n",
       "    <tr>\n",
       "      <th>56</th>\n",
       "      <td>2020-10-24</td>\n",
       "      <td>703.0</td>\n",
       "    </tr>\n",
       "    <tr>\n",
       "      <th>57</th>\n",
       "      <td>2020-10-25</td>\n",
       "      <td>19.0</td>\n",
       "    </tr>\n",
       "  </tbody>\n",
       "</table>\n",
       "</div>"
      ],
      "text/plain": [
       "   sample_date_string  shared_teks_by_upload_date\n",
       "53         2020-10-21                       841.0\n",
       "54         2020-10-22                       726.0\n",
       "55         2020-10-23                       769.0\n",
       "56         2020-10-24                       703.0\n",
       "57         2020-10-25                        19.0"
      ]
     },
     "execution_count": 29,
     "metadata": {},
     "output_type": "execute_result"
    }
   ],
   "source": [
    "new_tek_df = tek_list_df.diff().tek_list.apply(\n",
    "    lambda x: len(x) if not pd.isna(x) else None).to_frame().reset_index()\n",
    "new_tek_df.rename(columns={\n",
    "    \"tek_list\": \"shared_teks_by_upload_date\",\n",
    "    \"extraction_date\": \"sample_date_string\",}, inplace=True)\n",
    "new_tek_df.tail()"
   ]
  },
  {
   "cell_type": "code",
   "execution_count": 30,
   "metadata": {
    "execution": {
     "iopub.execute_input": "2020-10-25T03:27:15.536027Z",
     "iopub.status.busy": "2020-10-25T03:27:15.535004Z",
     "iopub.status.idle": "2020-10-25T03:27:15.552330Z",
     "shell.execute_reply": "2020-10-25T03:27:15.552967Z"
    },
    "papermill": {
     "duration": 0.079779,
     "end_time": "2020-10-25T03:27:15.553158",
     "exception": false,
     "start_time": "2020-10-25T03:27:15.473379",
     "status": "completed"
    },
    "pycharm": {
     "name": "#%%\n"
    },
    "tags": []
   },
   "outputs": [
    {
     "data": {
      "text/html": [
       "<div>\n",
       "<style scoped>\n",
       "    .dataframe tbody tr th:only-of-type {\n",
       "        vertical-align: middle;\n",
       "    }\n",
       "\n",
       "    .dataframe tbody tr th {\n",
       "        vertical-align: top;\n",
       "    }\n",
       "\n",
       "    .dataframe thead th {\n",
       "        text-align: right;\n",
       "    }\n",
       "</style>\n",
       "<table border=\"1\" class=\"dataframe\">\n",
       "  <thead>\n",
       "    <tr style=\"text-align: right;\">\n",
       "      <th></th>\n",
       "      <th>region</th>\n",
       "      <th>sample_date</th>\n",
       "      <th>tek_list</th>\n",
       "      <th>extraction_date</th>\n",
       "      <th>extraction_date_with_hour</th>\n",
       "      <th>new_sample_extraction_date</th>\n",
       "    </tr>\n",
       "  </thead>\n",
       "  <tbody>\n",
       "    <tr>\n",
       "      <th>5</th>\n",
       "      <td>ES</td>\n",
       "      <td>2020-10-12</td>\n",
       "      <td>[ac63d836-be8a-442b-c542-c5d588091579, 442ae33...</td>\n",
       "      <td>2020-10-25</td>\n",
       "      <td>NaN</td>\n",
       "      <td>2020-10-13</td>\n",
       "    </tr>\n",
       "    <tr>\n",
       "      <th>15</th>\n",
       "      <td>ES</td>\n",
       "      <td>2020-10-13</td>\n",
       "      <td>[43fb9b19-33a0-809a-873c-2523924e3969, f871744...</td>\n",
       "      <td>2020-10-25</td>\n",
       "      <td>NaN</td>\n",
       "      <td>2020-10-14</td>\n",
       "    </tr>\n",
       "    <tr>\n",
       "      <th>25</th>\n",
       "      <td>ES</td>\n",
       "      <td>2020-10-14</td>\n",
       "      <td>[b5536203-fb67-77da-3395-a135ad406a66, bc600ff...</td>\n",
       "      <td>2020-10-25</td>\n",
       "      <td>NaN</td>\n",
       "      <td>2020-10-15</td>\n",
       "    </tr>\n",
       "    <tr>\n",
       "      <th>35</th>\n",
       "      <td>ES</td>\n",
       "      <td>2020-10-15</td>\n",
       "      <td>[c8570ea6-535e-6523-1acd-8129bf3eb289, 76694a4...</td>\n",
       "      <td>2020-10-25</td>\n",
       "      <td>NaN</td>\n",
       "      <td>2020-10-16</td>\n",
       "    </tr>\n",
       "    <tr>\n",
       "      <th>45</th>\n",
       "      <td>ES</td>\n",
       "      <td>2020-10-16</td>\n",
       "      <td>[366452bc-5244-f987-d7f1-77b16f26e899, d576f17...</td>\n",
       "      <td>2020-10-25</td>\n",
       "      <td>NaN</td>\n",
       "      <td>2020-10-17</td>\n",
       "    </tr>\n",
       "  </tbody>\n",
       "</table>\n",
       "</div>"
      ],
      "text/plain": [
       "   region sample_date                                           tek_list  \\\n",
       "5      ES  2020-10-12  [ac63d836-be8a-442b-c542-c5d588091579, 442ae33...   \n",
       "15     ES  2020-10-13  [43fb9b19-33a0-809a-873c-2523924e3969, f871744...   \n",
       "25     ES  2020-10-14  [b5536203-fb67-77da-3395-a135ad406a66, bc600ff...   \n",
       "35     ES  2020-10-15  [c8570ea6-535e-6523-1acd-8129bf3eb289, 76694a4...   \n",
       "45     ES  2020-10-16  [366452bc-5244-f987-d7f1-77b16f26e899, d576f17...   \n",
       "\n",
       "   extraction_date extraction_date_with_hour new_sample_extraction_date  \n",
       "5       2020-10-25                       NaN                 2020-10-13  \n",
       "15      2020-10-25                       NaN                 2020-10-14  \n",
       "25      2020-10-25                       NaN                 2020-10-15  \n",
       "35      2020-10-25                       NaN                 2020-10-16  \n",
       "45      2020-10-25                       NaN                 2020-10-17  "
      ]
     },
     "execution_count": 30,
     "metadata": {},
     "output_type": "execute_result"
    }
   ],
   "source": [
    "estimated_shared_diagnoses_df = daily_extracted_teks_df.copy()\n",
    "estimated_shared_diagnoses_df[\"new_sample_extraction_date\"] = \\\n",
    "    pd.to_datetime(estimated_shared_diagnoses_df.sample_date) + \\\n",
    "    datetime.timedelta(shared_diagnosis_generation_to_upload_days)\n",
    "estimated_shared_diagnoses_df[\"extraction_date\"] = pd.to_datetime(estimated_shared_diagnoses_df.extraction_date)\n",
    "estimated_shared_diagnoses_df[\"sample_date\"] = pd.to_datetime(estimated_shared_diagnoses_df.sample_date)\n",
    "estimated_shared_diagnoses_df.head()"
   ]
  },
  {
   "cell_type": "code",
   "execution_count": 31,
   "metadata": {
    "collapsed": false,
    "execution": {
     "iopub.execute_input": "2020-10-25T03:27:15.677770Z",
     "iopub.status.busy": "2020-10-25T03:27:15.677236Z",
     "iopub.status.idle": "2020-10-25T03:27:15.680395Z",
     "shell.execute_reply": "2020-10-25T03:27:15.679936Z"
    },
    "papermill": {
     "duration": 0.073237,
     "end_time": "2020-10-25T03:27:15.680505",
     "exception": false,
     "start_time": "2020-10-25T03:27:15.607268",
     "status": "completed"
    },
    "pycharm": {
     "name": "#%%\n"
    },
    "tags": []
   },
   "outputs": [
    {
     "data": {
      "text/html": [
       "<div>\n",
       "<style scoped>\n",
       "    .dataframe tbody tr th:only-of-type {\n",
       "        vertical-align: middle;\n",
       "    }\n",
       "\n",
       "    .dataframe tbody tr th {\n",
       "        vertical-align: top;\n",
       "    }\n",
       "\n",
       "    .dataframe thead th {\n",
       "        text-align: right;\n",
       "    }\n",
       "</style>\n",
       "<table border=\"1\" class=\"dataframe\">\n",
       "  <thead>\n",
       "    <tr style=\"text-align: right;\">\n",
       "      <th></th>\n",
       "      <th>extraction_date</th>\n",
       "      <th>same_day_tek_list</th>\n",
       "    </tr>\n",
       "  </thead>\n",
       "  <tbody>\n",
       "    <tr>\n",
       "      <th>125</th>\n",
       "      <td>2020-10-25</td>\n",
       "      <td>[3f767c1a-6bdc-0498-36fa-6ef72011734a]</td>\n",
       "    </tr>\n",
       "    <tr>\n",
       "      <th>128</th>\n",
       "      <td>2020-10-24</td>\n",
       "      <td>[98c7e64d-c2ca-6272-3114-84c70734315d, 663f955...</td>\n",
       "    </tr>\n",
       "    <tr>\n",
       "      <th>128</th>\n",
       "      <td>2020-10-23</td>\n",
       "      <td>[c183bc1b-ab2d-b3e1-593a-25aa1a70be72, decd21d...</td>\n",
       "    </tr>\n",
       "    <tr>\n",
       "      <th>139</th>\n",
       "      <td>2020-10-22</td>\n",
       "      <td>[ffcfb805-c03e-e043-997b-fd875bc22cf2, 8e0508d...</td>\n",
       "    </tr>\n",
       "    <tr>\n",
       "      <th>90</th>\n",
       "      <td>2020-10-21</td>\n",
       "      <td>[63d1502a-a158-a5d2-001a-cbb82b9abcf5, ed1bc81...</td>\n",
       "    </tr>\n",
       "  </tbody>\n",
       "</table>\n",
       "</div>"
      ],
      "text/plain": [
       "    extraction_date                                  same_day_tek_list\n",
       "125      2020-10-25             [3f767c1a-6bdc-0498-36fa-6ef72011734a]\n",
       "128      2020-10-24  [98c7e64d-c2ca-6272-3114-84c70734315d, 663f955...\n",
       "128      2020-10-23  [c183bc1b-ab2d-b3e1-593a-25aa1a70be72, decd21d...\n",
       "139      2020-10-22  [ffcfb805-c03e-e043-997b-fd875bc22cf2, 8e0508d...\n",
       "90       2020-10-21  [63d1502a-a158-a5d2-001a-cbb82b9abcf5, ed1bc81..."
      ]
     },
     "execution_count": 31,
     "metadata": {},
     "output_type": "execute_result"
    }
   ],
   "source": [
    "# Sometimes TEKs from the same day are uploaded, we do not count them as new TEK devices:\n",
    "same_day_tek_list_df = estimated_shared_diagnoses_df[\n",
    "    estimated_shared_diagnoses_df.sample_date == estimated_shared_diagnoses_df.extraction_date].copy()\n",
    "same_day_tek_list_df = same_day_tek_list_df[[\"extraction_date\", \"tek_list\"]].rename(\n",
    "    columns={\"tek_list\": \"same_day_tek_list\"})\n",
    "same_day_tek_list_df.head()"
   ]
  },
  {
   "cell_type": "code",
   "execution_count": 32,
   "metadata": {
    "collapsed": false,
    "execution": {
     "iopub.execute_input": "2020-10-25T03:27:15.797268Z",
     "iopub.status.busy": "2020-10-25T03:27:15.796693Z",
     "iopub.status.idle": "2020-10-25T03:27:15.801958Z",
     "shell.execute_reply": "2020-10-25T03:27:15.801521Z"
    },
    "papermill": {
     "duration": 0.06826,
     "end_time": "2020-10-25T03:27:15.802069",
     "exception": false,
     "start_time": "2020-10-25T03:27:15.733809",
     "status": "completed"
    },
    "pycharm": {
     "name": "#%%\n"
    },
    "tags": []
   },
   "outputs": [
    {
     "data": {
      "text/html": [
       "<div>\n",
       "<style scoped>\n",
       "    .dataframe tbody tr th:only-of-type {\n",
       "        vertical-align: middle;\n",
       "    }\n",
       "\n",
       "    .dataframe tbody tr th {\n",
       "        vertical-align: top;\n",
       "    }\n",
       "\n",
       "    .dataframe thead th {\n",
       "        text-align: right;\n",
       "    }\n",
       "</style>\n",
       "<table border=\"1\" class=\"dataframe\">\n",
       "  <thead>\n",
       "    <tr style=\"text-align: right;\">\n",
       "      <th></th>\n",
       "      <th>sample_date_string</th>\n",
       "      <th>shared_teks_uploaded_on_generation_date</th>\n",
       "    </tr>\n",
       "  </thead>\n",
       "  <tbody>\n",
       "    <tr>\n",
       "      <th>125</th>\n",
       "      <td>2020-10-25</td>\n",
       "      <td>1</td>\n",
       "    </tr>\n",
       "    <tr>\n",
       "      <th>128</th>\n",
       "      <td>2020-10-24</td>\n",
       "      <td>177</td>\n",
       "    </tr>\n",
       "    <tr>\n",
       "      <th>128</th>\n",
       "      <td>2020-10-23</td>\n",
       "      <td>167</td>\n",
       "    </tr>\n",
       "    <tr>\n",
       "      <th>139</th>\n",
       "      <td>2020-10-22</td>\n",
       "      <td>180</td>\n",
       "    </tr>\n",
       "    <tr>\n",
       "      <th>90</th>\n",
       "      <td>2020-10-21</td>\n",
       "      <td>157</td>\n",
       "    </tr>\n",
       "  </tbody>\n",
       "</table>\n",
       "</div>"
      ],
      "text/plain": [
       "    sample_date_string  shared_teks_uploaded_on_generation_date\n",
       "125         2020-10-25                                        1\n",
       "128         2020-10-24                                      177\n",
       "128         2020-10-23                                      167\n",
       "139         2020-10-22                                      180\n",
       "90          2020-10-21                                      157"
      ]
     },
     "execution_count": 32,
     "metadata": {},
     "output_type": "execute_result"
    }
   ],
   "source": [
    "shared_teks_uploaded_on_generation_date_df = same_day_tek_list_df.rename(\n",
    "    columns={\n",
    "        \"extraction_date\": \"sample_date_string\",\n",
    "        \"same_day_tek_list\": \"shared_teks_uploaded_on_generation_date\",\n",
    "    })\n",
    "shared_teks_uploaded_on_generation_date_df.shared_teks_uploaded_on_generation_date = \\\n",
    " shared_teks_uploaded_on_generation_date_df.shared_teks_uploaded_on_generation_date.apply(len)\n",
    "shared_teks_uploaded_on_generation_date_df.head()\n",
    "shared_teks_uploaded_on_generation_date_df[\"sample_date_string\"] = \\\n",
    "    shared_teks_uploaded_on_generation_date_df.sample_date_string.dt.strftime(\"%Y-%m-%d\")\n",
    "shared_teks_uploaded_on_generation_date_df.head()"
   ]
  },
  {
   "cell_type": "code",
   "execution_count": 33,
   "metadata": {
    "collapsed": false,
    "execution": {
     "iopub.execute_input": "2020-10-25T03:27:15.916844Z",
     "iopub.status.busy": "2020-10-25T03:27:15.916014Z",
     "iopub.status.idle": "2020-10-25T03:27:15.919094Z",
     "shell.execute_reply": "2020-10-25T03:27:15.919799Z"
    },
    "papermill": {
     "duration": 0.068812,
     "end_time": "2020-10-25T03:27:15.920009",
     "exception": false,
     "start_time": "2020-10-25T03:27:15.851197",
     "status": "completed"
    },
    "pycharm": {
     "name": "#%%\n"
    },
    "tags": []
   },
   "outputs": [
    {
     "data": {
      "text/html": [
       "<div>\n",
       "<style scoped>\n",
       "    .dataframe tbody tr th:only-of-type {\n",
       "        vertical-align: middle;\n",
       "    }\n",
       "\n",
       "    .dataframe tbody tr th {\n",
       "        vertical-align: top;\n",
       "    }\n",
       "\n",
       "    .dataframe thead th {\n",
       "        text-align: right;\n",
       "    }\n",
       "</style>\n",
       "<table border=\"1\" class=\"dataframe\">\n",
       "  <thead>\n",
       "    <tr style=\"text-align: right;\">\n",
       "      <th></th>\n",
       "      <th>region</th>\n",
       "      <th>sample_date</th>\n",
       "      <th>tek_list</th>\n",
       "      <th>extraction_date</th>\n",
       "      <th>extraction_date_with_hour</th>\n",
       "      <th>new_sample_extraction_date</th>\n",
       "    </tr>\n",
       "  </thead>\n",
       "  <tbody>\n",
       "    <tr>\n",
       "      <th>121</th>\n",
       "      <td>ES</td>\n",
       "      <td>2020-10-24</td>\n",
       "      <td>[02f9c0a8-818a-0f58-c178-7e2f849bcf10, f13f1f7...</td>\n",
       "      <td>2020-10-25</td>\n",
       "      <td>NaN</td>\n",
       "      <td>2020-10-25</td>\n",
       "    </tr>\n",
       "    <tr>\n",
       "      <th>122</th>\n",
       "      <td>ES</td>\n",
       "      <td>2020-10-23</td>\n",
       "      <td>[c3d59eb7-01f2-ad63-af9d-1ba1f017f356, 110b8d6...</td>\n",
       "      <td>2020-10-24</td>\n",
       "      <td>NaN</td>\n",
       "      <td>2020-10-24</td>\n",
       "    </tr>\n",
       "    <tr>\n",
       "      <th>122</th>\n",
       "      <td>ES</td>\n",
       "      <td>2020-10-22</td>\n",
       "      <td>[90bdf3aa-9f0b-637e-f6cb-23d10feb6a6b, 950663d...</td>\n",
       "      <td>2020-10-23</td>\n",
       "      <td>NaN</td>\n",
       "      <td>2020-10-23</td>\n",
       "    </tr>\n",
       "    <tr>\n",
       "      <th>133</th>\n",
       "      <td>ES</td>\n",
       "      <td>2020-10-21</td>\n",
       "      <td>[40ae3e69-12c6-0482-2912-ea87d48b1aa3, 1afec6b...</td>\n",
       "      <td>2020-10-22</td>\n",
       "      <td>NaN</td>\n",
       "      <td>2020-10-22</td>\n",
       "    </tr>\n",
       "    <tr>\n",
       "      <th>85</th>\n",
       "      <td>ES</td>\n",
       "      <td>2020-10-20</td>\n",
       "      <td>[0f0e336e-b1c9-a45e-3043-5ed28b80e1b0, e143507...</td>\n",
       "      <td>2020-10-21</td>\n",
       "      <td>NaN</td>\n",
       "      <td>2020-10-21</td>\n",
       "    </tr>\n",
       "  </tbody>\n",
       "</table>\n",
       "</div>"
      ],
      "text/plain": [
       "    region sample_date                                           tek_list  \\\n",
       "121     ES  2020-10-24  [02f9c0a8-818a-0f58-c178-7e2f849bcf10, f13f1f7...   \n",
       "122     ES  2020-10-23  [c3d59eb7-01f2-ad63-af9d-1ba1f017f356, 110b8d6...   \n",
       "122     ES  2020-10-22  [90bdf3aa-9f0b-637e-f6cb-23d10feb6a6b, 950663d...   \n",
       "133     ES  2020-10-21  [40ae3e69-12c6-0482-2912-ea87d48b1aa3, 1afec6b...   \n",
       "85      ES  2020-10-20  [0f0e336e-b1c9-a45e-3043-5ed28b80e1b0, e143507...   \n",
       "\n",
       "    extraction_date extraction_date_with_hour new_sample_extraction_date  \n",
       "121      2020-10-25                       NaN                 2020-10-25  \n",
       "122      2020-10-24                       NaN                 2020-10-24  \n",
       "122      2020-10-23                       NaN                 2020-10-23  \n",
       "133      2020-10-22                       NaN                 2020-10-22  \n",
       "85       2020-10-21                       NaN                 2020-10-21  "
      ]
     },
     "execution_count": 33,
     "metadata": {},
     "output_type": "execute_result"
    }
   ],
   "source": [
    "estimated_shared_diagnoses_df = estimated_shared_diagnoses_df[\n",
    "    estimated_shared_diagnoses_df.new_sample_extraction_date == estimated_shared_diagnoses_df.extraction_date]\n",
    "estimated_shared_diagnoses_df.head()"
   ]
  },
  {
   "cell_type": "code",
   "execution_count": 34,
   "metadata": {
    "collapsed": false,
    "execution": {
     "iopub.execute_input": "2020-10-25T03:27:16.024698Z",
     "iopub.status.busy": "2020-10-25T03:27:16.023658Z",
     "iopub.status.idle": "2020-10-25T03:27:16.038866Z",
     "shell.execute_reply": "2020-10-25T03:27:16.038530Z"
    },
    "papermill": {
     "duration": 0.069442,
     "end_time": "2020-10-25T03:27:16.038954",
     "exception": false,
     "start_time": "2020-10-25T03:27:15.969512",
     "status": "completed"
    },
    "pycharm": {
     "name": "#%%\n"
    },
    "tags": []
   },
   "outputs": [
    {
     "data": {
      "text/html": [
       "<div>\n",
       "<style scoped>\n",
       "    .dataframe tbody tr th:only-of-type {\n",
       "        vertical-align: middle;\n",
       "    }\n",
       "\n",
       "    .dataframe tbody tr th {\n",
       "        vertical-align: top;\n",
       "    }\n",
       "\n",
       "    .dataframe thead th {\n",
       "        text-align: right;\n",
       "    }\n",
       "</style>\n",
       "<table border=\"1\" class=\"dataframe\">\n",
       "  <thead>\n",
       "    <tr style=\"text-align: right;\">\n",
       "      <th></th>\n",
       "      <th>region</th>\n",
       "      <th>sample_date</th>\n",
       "      <th>tek_list</th>\n",
       "      <th>extraction_date</th>\n",
       "      <th>extraction_date_with_hour</th>\n",
       "      <th>new_sample_extraction_date</th>\n",
       "      <th>same_day_tek_list</th>\n",
       "    </tr>\n",
       "  </thead>\n",
       "  <tbody>\n",
       "    <tr>\n",
       "      <th>0</th>\n",
       "      <td>ES</td>\n",
       "      <td>2020-10-24</td>\n",
       "      <td>[02f9c0a8-818a-0f58-c178-7e2f849bcf10, f13f1f7...</td>\n",
       "      <td>2020-10-25</td>\n",
       "      <td>NaN</td>\n",
       "      <td>2020-10-25</td>\n",
       "      <td>[98c7e64d-c2ca-6272-3114-84c70734315d, 663f955...</td>\n",
       "    </tr>\n",
       "    <tr>\n",
       "      <th>1</th>\n",
       "      <td>ES</td>\n",
       "      <td>2020-10-23</td>\n",
       "      <td>[c3d59eb7-01f2-ad63-af9d-1ba1f017f356, 110b8d6...</td>\n",
       "      <td>2020-10-24</td>\n",
       "      <td>NaN</td>\n",
       "      <td>2020-10-24</td>\n",
       "      <td>[c183bc1b-ab2d-b3e1-593a-25aa1a70be72, decd21d...</td>\n",
       "    </tr>\n",
       "    <tr>\n",
       "      <th>2</th>\n",
       "      <td>ES</td>\n",
       "      <td>2020-10-22</td>\n",
       "      <td>[90bdf3aa-9f0b-637e-f6cb-23d10feb6a6b, 950663d...</td>\n",
       "      <td>2020-10-23</td>\n",
       "      <td>NaN</td>\n",
       "      <td>2020-10-23</td>\n",
       "      <td>[ffcfb805-c03e-e043-997b-fd875bc22cf2, 8e0508d...</td>\n",
       "    </tr>\n",
       "    <tr>\n",
       "      <th>3</th>\n",
       "      <td>ES</td>\n",
       "      <td>2020-10-21</td>\n",
       "      <td>[40ae3e69-12c6-0482-2912-ea87d48b1aa3, 1afec6b...</td>\n",
       "      <td>2020-10-22</td>\n",
       "      <td>NaN</td>\n",
       "      <td>2020-10-22</td>\n",
       "      <td>[63d1502a-a158-a5d2-001a-cbb82b9abcf5, ed1bc81...</td>\n",
       "    </tr>\n",
       "    <tr>\n",
       "      <th>4</th>\n",
       "      <td>ES</td>\n",
       "      <td>2020-10-20</td>\n",
       "      <td>[0f0e336e-b1c9-a45e-3043-5ed28b80e1b0, e143507...</td>\n",
       "      <td>2020-10-21</td>\n",
       "      <td>NaN</td>\n",
       "      <td>2020-10-21</td>\n",
       "      <td>[97b27565-a475-f559-44f7-2b692ee719c3, a031a2f...</td>\n",
       "    </tr>\n",
       "  </tbody>\n",
       "</table>\n",
       "</div>"
      ],
      "text/plain": [
       "  region sample_date                                           tek_list  \\\n",
       "0     ES  2020-10-24  [02f9c0a8-818a-0f58-c178-7e2f849bcf10, f13f1f7...   \n",
       "1     ES  2020-10-23  [c3d59eb7-01f2-ad63-af9d-1ba1f017f356, 110b8d6...   \n",
       "2     ES  2020-10-22  [90bdf3aa-9f0b-637e-f6cb-23d10feb6a6b, 950663d...   \n",
       "3     ES  2020-10-21  [40ae3e69-12c6-0482-2912-ea87d48b1aa3, 1afec6b...   \n",
       "4     ES  2020-10-20  [0f0e336e-b1c9-a45e-3043-5ed28b80e1b0, e143507...   \n",
       "\n",
       "  extraction_date extraction_date_with_hour new_sample_extraction_date  \\\n",
       "0      2020-10-25                       NaN                 2020-10-25   \n",
       "1      2020-10-24                       NaN                 2020-10-24   \n",
       "2      2020-10-23                       NaN                 2020-10-23   \n",
       "3      2020-10-22                       NaN                 2020-10-22   \n",
       "4      2020-10-21                       NaN                 2020-10-21   \n",
       "\n",
       "                                   same_day_tek_list  \n",
       "0  [98c7e64d-c2ca-6272-3114-84c70734315d, 663f955...  \n",
       "1  [c183bc1b-ab2d-b3e1-593a-25aa1a70be72, decd21d...  \n",
       "2  [ffcfb805-c03e-e043-997b-fd875bc22cf2, 8e0508d...  \n",
       "3  [63d1502a-a158-a5d2-001a-cbb82b9abcf5, ed1bc81...  \n",
       "4  [97b27565-a475-f559-44f7-2b692ee719c3, a031a2f...  "
      ]
     },
     "execution_count": 34,
     "metadata": {},
     "output_type": "execute_result"
    }
   ],
   "source": [
    "same_day_tek_list_df[\"extraction_date\"] = \\\n",
    "    same_day_tek_list_df.extraction_date + datetime.timedelta(1)\n",
    "estimated_shared_diagnoses_df = \\\n",
    "    estimated_shared_diagnoses_df.merge(same_day_tek_list_df, how=\"left\", on=[\"extraction_date\"])\n",
    "estimated_shared_diagnoses_df[\"same_day_tek_list\"] = \\\n",
    "    estimated_shared_diagnoses_df.same_day_tek_list.apply(lambda x: [] if x is np.nan else x)\n",
    "estimated_shared_diagnoses_df.head()"
   ]
  },
  {
   "cell_type": "code",
   "execution_count": 35,
   "metadata": {
    "execution": {
     "iopub.execute_input": "2020-10-25T03:27:16.136875Z",
     "iopub.status.busy": "2020-10-25T03:27:16.136329Z",
     "iopub.status.idle": "2020-10-25T03:27:16.151916Z",
     "shell.execute_reply": "2020-10-25T03:27:16.151410Z"
    },
    "papermill": {
     "duration": 0.068166,
     "end_time": "2020-10-25T03:27:16.152037",
     "exception": false,
     "start_time": "2020-10-25T03:27:16.083871",
     "status": "completed"
    },
    "tags": []
   },
   "outputs": [
    {
     "data": {
      "text/html": [
       "<div>\n",
       "<style scoped>\n",
       "    .dataframe tbody tr th:only-of-type {\n",
       "        vertical-align: middle;\n",
       "    }\n",
       "\n",
       "    .dataframe tbody tr th {\n",
       "        vertical-align: top;\n",
       "    }\n",
       "\n",
       "    .dataframe thead th {\n",
       "        text-align: right;\n",
       "    }\n",
       "</style>\n",
       "<table border=\"1\" class=\"dataframe\">\n",
       "  <thead>\n",
       "    <tr style=\"text-align: right;\">\n",
       "      <th></th>\n",
       "      <th>sample_date_string</th>\n",
       "      <th>shared_diagnoses</th>\n",
       "    </tr>\n",
       "  </thead>\n",
       "  <tbody>\n",
       "    <tr>\n",
       "      <th>0</th>\n",
       "      <td>2020-10-25</td>\n",
       "      <td>9</td>\n",
       "    </tr>\n",
       "    <tr>\n",
       "      <th>1</th>\n",
       "      <td>2020-10-24</td>\n",
       "      <td>125</td>\n",
       "    </tr>\n",
       "    <tr>\n",
       "      <th>2</th>\n",
       "      <td>2020-10-23</td>\n",
       "      <td>145</td>\n",
       "    </tr>\n",
       "    <tr>\n",
       "      <th>3</th>\n",
       "      <td>2020-10-22</td>\n",
       "      <td>132</td>\n",
       "    </tr>\n",
       "    <tr>\n",
       "      <th>4</th>\n",
       "      <td>2020-10-21</td>\n",
       "      <td>153</td>\n",
       "    </tr>\n",
       "  </tbody>\n",
       "</table>\n",
       "</div>"
      ],
      "text/plain": [
       "  sample_date_string  shared_diagnoses\n",
       "0         2020-10-25                 9\n",
       "1         2020-10-24               125\n",
       "2         2020-10-23               145\n",
       "3         2020-10-22               132\n",
       "4         2020-10-21               153"
      ]
     },
     "execution_count": 35,
     "metadata": {},
     "output_type": "execute_result"
    }
   ],
   "source": [
    "estimated_shared_diagnoses_df.set_index(\"extraction_date\", inplace=True)\n",
    "if estimated_shared_diagnoses_df.empty:\n",
    "    estimated_shared_diagnoses_df[\"shared_diagnoses\"] = 0\n",
    "else:\n",
    "    estimated_shared_diagnoses_df[\"shared_diagnoses\"] = estimated_shared_diagnoses_df.apply(\n",
    "        lambda x: len(set(x.tek_list).difference(x.same_day_tek_list)), axis=1).copy()\n",
    "estimated_shared_diagnoses_df.reset_index(inplace=True)\n",
    "estimated_shared_diagnoses_df.rename(columns={\n",
    "    \"extraction_date\": \"sample_date_string\"}, inplace=True)\n",
    "estimated_shared_diagnoses_df = estimated_shared_diagnoses_df[[\"sample_date_string\", \"shared_diagnoses\"]]\n",
    "if not estimated_shared_diagnoses_df.empty:\n",
    "    estimated_shared_diagnoses_df[\"sample_date_string\"] = \\\n",
    "        estimated_shared_diagnoses_df.sample_date_string.dt.strftime(\"%Y-%m-%d\")\n",
    "estimated_shared_diagnoses_df.head()"
   ]
  },
  {
   "cell_type": "markdown",
   "metadata": {
    "papermill": {
     "duration": 0.050769,
     "end_time": "2020-10-25T03:27:16.255592",
     "exception": false,
     "start_time": "2020-10-25T03:27:16.204823",
     "status": "completed"
    },
    "pycharm": {
     "name": "#%% md\n"
    },
    "tags": []
   },
   "source": [
    "### Hourly New TEKs"
   ]
  },
  {
   "cell_type": "code",
   "execution_count": 36,
   "metadata": {
    "execution": {
     "iopub.execute_input": "2020-10-25T03:27:16.362524Z",
     "iopub.status.busy": "2020-10-25T03:27:16.361961Z",
     "iopub.status.idle": "2020-10-25T03:27:18.274236Z",
     "shell.execute_reply": "2020-10-25T03:27:18.273808Z"
    },
    "papermill": {
     "duration": 1.969862,
     "end_time": "2020-10-25T03:27:18.274359",
     "exception": false,
     "start_time": "2020-10-25T03:27:16.304497",
     "status": "completed"
    },
    "pycharm": {
     "name": "#%%\n"
    },
    "tags": []
   },
   "outputs": [
    {
     "data": {
      "text/html": [
       "<div>\n",
       "<style scoped>\n",
       "    .dataframe tbody tr th:only-of-type {\n",
       "        vertical-align: middle;\n",
       "    }\n",
       "\n",
       "    .dataframe tbody tr th {\n",
       "        vertical-align: top;\n",
       "    }\n",
       "\n",
       "    .dataframe thead th {\n",
       "        text-align: right;\n",
       "    }\n",
       "</style>\n",
       "<table border=\"1\" class=\"dataframe\">\n",
       "  <thead>\n",
       "    <tr style=\"text-align: right;\">\n",
       "      <th></th>\n",
       "      <th>region</th>\n",
       "      <th>sample_date</th>\n",
       "      <th>tek_list</th>\n",
       "      <th>extraction_date</th>\n",
       "      <th>extraction_date_with_hour</th>\n",
       "    </tr>\n",
       "  </thead>\n",
       "  <tbody>\n",
       "    <tr>\n",
       "      <th>5</th>\n",
       "      <td>ES</td>\n",
       "      <td>2020-10-12</td>\n",
       "      <td>[ac63d836-be8a-442b-c542-c5d588091579, 442ae33...</td>\n",
       "      <td>2020-10-25</td>\n",
       "      <td>2020-10-25@03</td>\n",
       "    </tr>\n",
       "    <tr>\n",
       "      <th>15</th>\n",
       "      <td>ES</td>\n",
       "      <td>2020-10-13</td>\n",
       "      <td>[43fb9b19-33a0-809a-873c-2523924e3969, f871744...</td>\n",
       "      <td>2020-10-25</td>\n",
       "      <td>2020-10-25@03</td>\n",
       "    </tr>\n",
       "    <tr>\n",
       "      <th>25</th>\n",
       "      <td>ES</td>\n",
       "      <td>2020-10-14</td>\n",
       "      <td>[b5536203-fb67-77da-3395-a135ad406a66, bc600ff...</td>\n",
       "      <td>2020-10-25</td>\n",
       "      <td>2020-10-25@03</td>\n",
       "    </tr>\n",
       "    <tr>\n",
       "      <th>35</th>\n",
       "      <td>ES</td>\n",
       "      <td>2020-10-15</td>\n",
       "      <td>[c8570ea6-535e-6523-1acd-8129bf3eb289, 76694a4...</td>\n",
       "      <td>2020-10-25</td>\n",
       "      <td>2020-10-25@03</td>\n",
       "    </tr>\n",
       "    <tr>\n",
       "      <th>45</th>\n",
       "      <td>ES</td>\n",
       "      <td>2020-10-16</td>\n",
       "      <td>[366452bc-5244-f987-d7f1-77b16f26e899, d576f17...</td>\n",
       "      <td>2020-10-25</td>\n",
       "      <td>2020-10-25@03</td>\n",
       "    </tr>\n",
       "  </tbody>\n",
       "</table>\n",
       "</div>"
      ],
      "text/plain": [
       "   region sample_date                                           tek_list  \\\n",
       "5      ES  2020-10-12  [ac63d836-be8a-442b-c542-c5d588091579, 442ae33...   \n",
       "15     ES  2020-10-13  [43fb9b19-33a0-809a-873c-2523924e3969, f871744...   \n",
       "25     ES  2020-10-14  [b5536203-fb67-77da-3395-a135ad406a66, bc600ff...   \n",
       "35     ES  2020-10-15  [c8570ea6-535e-6523-1acd-8129bf3eb289, 76694a4...   \n",
       "45     ES  2020-10-16  [366452bc-5244-f987-d7f1-77b16f26e899, d576f17...   \n",
       "\n",
       "   extraction_date extraction_date_with_hour  \n",
       "5       2020-10-25             2020-10-25@03  \n",
       "15      2020-10-25             2020-10-25@03  \n",
       "25      2020-10-25             2020-10-25@03  \n",
       "35      2020-10-25             2020-10-25@03  \n",
       "45      2020-10-25             2020-10-25@03  "
      ]
     },
     "execution_count": 36,
     "metadata": {},
     "output_type": "execute_result"
    }
   ],
   "source": [
    "hourly_extracted_teks_df = load_extracted_teks(\n",
    "    mode=\"Hourly\", region=report_backend_identifier, limit=25)\n",
    "hourly_extracted_teks_df.head()"
   ]
  },
  {
   "cell_type": "code",
   "execution_count": 37,
   "metadata": {
    "collapsed": false,
    "execution": {
     "iopub.execute_input": "2020-10-25T03:27:18.387960Z",
     "iopub.status.busy": "2020-10-25T03:27:18.387414Z",
     "iopub.status.idle": "2020-10-25T03:27:18.446634Z",
     "shell.execute_reply": "2020-10-25T03:27:18.447042Z"
    },
    "papermill": {
     "duration": 0.118128,
     "end_time": "2020-10-25T03:27:18.447192",
     "exception": false,
     "start_time": "2020-10-25T03:27:18.329064",
     "status": "completed"
    },
    "pycharm": {
     "name": "#%%\n"
    },
    "tags": []
   },
   "outputs": [
    {
     "data": {
      "text/html": [
       "<div>\n",
       "<style scoped>\n",
       "    .dataframe tbody tr th:only-of-type {\n",
       "        vertical-align: middle;\n",
       "    }\n",
       "\n",
       "    .dataframe tbody tr th {\n",
       "        vertical-align: top;\n",
       "    }\n",
       "\n",
       "    .dataframe thead th {\n",
       "        text-align: right;\n",
       "    }\n",
       "</style>\n",
       "<table border=\"1\" class=\"dataframe\">\n",
       "  <thead>\n",
       "    <tr style=\"text-align: right;\">\n",
       "      <th></th>\n",
       "      <th>extraction_date_with_hour</th>\n",
       "      <th>shared_teks_by_upload_date</th>\n",
       "    </tr>\n",
       "  </thead>\n",
       "  <tbody>\n",
       "    <tr>\n",
       "      <th>0</th>\n",
       "      <td>2020-10-24@01</td>\n",
       "      <td>0</td>\n",
       "    </tr>\n",
       "    <tr>\n",
       "      <th>1</th>\n",
       "      <td>2020-10-24@02</td>\n",
       "      <td>20</td>\n",
       "    </tr>\n",
       "    <tr>\n",
       "      <th>2</th>\n",
       "      <td>2020-10-24@03</td>\n",
       "      <td>0</td>\n",
       "    </tr>\n",
       "    <tr>\n",
       "      <th>3</th>\n",
       "      <td>2020-10-24@04</td>\n",
       "      <td>2</td>\n",
       "    </tr>\n",
       "    <tr>\n",
       "      <th>4</th>\n",
       "      <td>2020-10-24@06</td>\n",
       "      <td>11</td>\n",
       "    </tr>\n",
       "  </tbody>\n",
       "</table>\n",
       "</div>"
      ],
      "text/plain": [
       "  extraction_date_with_hour  shared_teks_by_upload_date\n",
       "0             2020-10-24@01                           0\n",
       "1             2020-10-24@02                          20\n",
       "2             2020-10-24@03                           0\n",
       "3             2020-10-24@04                           2\n",
       "4             2020-10-24@06                          11"
      ]
     },
     "execution_count": 37,
     "metadata": {},
     "output_type": "execute_result"
    }
   ],
   "source": [
    "hourly_new_tek_count_df = hourly_extracted_teks_df \\\n",
    "    .groupby(\"extraction_date_with_hour\").tek_list. \\\n",
    "    apply(lambda x: set(sum(x, []))).reset_index().copy()\n",
    "hourly_new_tek_count_df = hourly_new_tek_count_df.set_index(\"extraction_date_with_hour\") \\\n",
    "    .sort_index(ascending=True)\n",
    "\n",
    "hourly_new_tek_count_df[\"new_tek_list\"] = hourly_new_tek_count_df.tek_list.diff()\n",
    "hourly_new_tek_count_df[\"new_tek_count\"] = hourly_new_tek_count_df.new_tek_list.apply(\n",
    "    lambda x: len(x) if not pd.isna(x) else 0)\n",
    "hourly_new_tek_count_df.rename(columns={\n",
    "    \"new_tek_count\": \"shared_teks_by_upload_date\"}, inplace=True)\n",
    "hourly_new_tek_count_df = hourly_new_tek_count_df.reset_index()[[\n",
    "    \"extraction_date_with_hour\", \"shared_teks_by_upload_date\"]]\n",
    "hourly_new_tek_count_df.head()"
   ]
  },
  {
   "cell_type": "code",
   "execution_count": 38,
   "metadata": {
    "execution": {
     "iopub.execute_input": "2020-10-25T03:27:18.573876Z",
     "iopub.status.busy": "2020-10-25T03:27:18.567516Z",
     "iopub.status.idle": "2020-10-25T03:27:18.594469Z",
     "shell.execute_reply": "2020-10-25T03:27:18.593809Z"
    },
    "papermill": {
     "duration": 0.091186,
     "end_time": "2020-10-25T03:27:18.594589",
     "exception": false,
     "start_time": "2020-10-25T03:27:18.503403",
     "status": "completed"
    },
    "pycharm": {
     "name": "#%%\n"
    },
    "tags": []
   },
   "outputs": [
    {
     "data": {
      "text/html": [
       "<div>\n",
       "<style scoped>\n",
       "    .dataframe tbody tr th:only-of-type {\n",
       "        vertical-align: middle;\n",
       "    }\n",
       "\n",
       "    .dataframe tbody tr th {\n",
       "        vertical-align: top;\n",
       "    }\n",
       "\n",
       "    .dataframe thead th {\n",
       "        text-align: right;\n",
       "    }\n",
       "</style>\n",
       "<table border=\"1\" class=\"dataframe\">\n",
       "  <thead>\n",
       "    <tr style=\"text-align: right;\">\n",
       "      <th></th>\n",
       "      <th>extraction_date_with_hour</th>\n",
       "      <th>shared_diagnoses</th>\n",
       "    </tr>\n",
       "  </thead>\n",
       "  <tbody>\n",
       "    <tr>\n",
       "      <th>0</th>\n",
       "      <td>2020-10-24@01</td>\n",
       "      <td>0</td>\n",
       "    </tr>\n",
       "    <tr>\n",
       "      <th>1</th>\n",
       "      <td>2020-10-24@02</td>\n",
       "      <td>10</td>\n",
       "    </tr>\n",
       "    <tr>\n",
       "      <th>2</th>\n",
       "      <td>2020-10-24@03</td>\n",
       "      <td>0</td>\n",
       "    </tr>\n",
       "    <tr>\n",
       "      <th>3</th>\n",
       "      <td>2020-10-24@04</td>\n",
       "      <td>1</td>\n",
       "    </tr>\n",
       "    <tr>\n",
       "      <th>4</th>\n",
       "      <td>2020-10-24@06</td>\n",
       "      <td>2</td>\n",
       "    </tr>\n",
       "  </tbody>\n",
       "</table>\n",
       "</div>"
      ],
      "text/plain": [
       "  extraction_date_with_hour  shared_diagnoses\n",
       "0             2020-10-24@01                 0\n",
       "1             2020-10-24@02                10\n",
       "2             2020-10-24@03                 0\n",
       "3             2020-10-24@04                 1\n",
       "4             2020-10-24@06                 2"
      ]
     },
     "execution_count": 38,
     "metadata": {},
     "output_type": "execute_result"
    }
   ],
   "source": [
    "hourly_estimated_shared_diagnoses_df = hourly_extracted_teks_df.copy()\n",
    "hourly_estimated_shared_diagnoses_df[\"new_sample_extraction_date\"] = \\\n",
    "    pd.to_datetime(hourly_estimated_shared_diagnoses_df.sample_date) + \\\n",
    "    datetime.timedelta(shared_diagnosis_generation_to_upload_days)\n",
    "hourly_estimated_shared_diagnoses_df[\"extraction_date\"] = \\\n",
    "    pd.to_datetime(hourly_estimated_shared_diagnoses_df.extraction_date)\n",
    "\n",
    "hourly_estimated_shared_diagnoses_df = hourly_estimated_shared_diagnoses_df[\n",
    "    hourly_estimated_shared_diagnoses_df.new_sample_extraction_date ==\n",
    "    hourly_estimated_shared_diagnoses_df.extraction_date]\n",
    "hourly_estimated_shared_diagnoses_df = \\\n",
    "    hourly_estimated_shared_diagnoses_df.merge(same_day_tek_list_df, how=\"left\", on=[\"extraction_date\"])\n",
    "hourly_estimated_shared_diagnoses_df[\"same_day_tek_list\"] = \\\n",
    "    hourly_estimated_shared_diagnoses_df.same_day_tek_list.apply(lambda x: [] if x is np.nan else x)\n",
    "\n",
    "if hourly_estimated_shared_diagnoses_df.empty:\n",
    "    hourly_estimated_shared_diagnoses_df[\"shared_diagnoses\"] = 0\n",
    "else:\n",
    "    hourly_estimated_shared_diagnoses_df[\"shared_diagnoses\"] = \\\n",
    "        hourly_estimated_shared_diagnoses_df.apply(\n",
    "            lambda x: len(set(x.tek_list).difference(x.same_day_tek_list)), axis=1)\n",
    "hourly_estimated_shared_diagnoses_df = \\\n",
    "    hourly_estimated_shared_diagnoses_df.sort_values(\"extraction_date_with_hour\").copy()\n",
    "hourly_estimated_shared_diagnoses_df[\"shared_diagnoses\"] = hourly_estimated_shared_diagnoses_df \\\n",
    "    .groupby(\"extraction_date\").shared_diagnoses.diff() \\\n",
    "    .fillna(0).astype(int)\n",
    "\n",
    "hourly_estimated_shared_diagnoses_df.set_index(\"extraction_date_with_hour\", inplace=True)\n",
    "hourly_estimated_shared_diagnoses_df.reset_index(inplace=True)\n",
    "hourly_estimated_shared_diagnoses_df = hourly_estimated_shared_diagnoses_df[[\n",
    "    \"extraction_date_with_hour\", \"shared_diagnoses\"]]\n",
    "hourly_estimated_shared_diagnoses_df.head()"
   ]
  },
  {
   "cell_type": "code",
   "execution_count": 39,
   "metadata": {
    "collapsed": false,
    "execution": {
     "iopub.execute_input": "2020-10-25T03:27:18.708611Z",
     "iopub.status.busy": "2020-10-25T03:27:18.708051Z",
     "iopub.status.idle": "2020-10-25T03:27:18.710739Z",
     "shell.execute_reply": "2020-10-25T03:27:18.711050Z"
    },
    "papermill": {
     "duration": 0.070271,
     "end_time": "2020-10-25T03:27:18.711160",
     "exception": false,
     "start_time": "2020-10-25T03:27:18.640889",
     "status": "completed"
    },
    "pycharm": {
     "name": "#%%\n"
    },
    "tags": []
   },
   "outputs": [
    {
     "data": {
      "text/html": [
       "<div>\n",
       "<style scoped>\n",
       "    .dataframe tbody tr th:only-of-type {\n",
       "        vertical-align: middle;\n",
       "    }\n",
       "\n",
       "    .dataframe tbody tr th {\n",
       "        vertical-align: top;\n",
       "    }\n",
       "\n",
       "    .dataframe thead th {\n",
       "        text-align: right;\n",
       "    }\n",
       "</style>\n",
       "<table border=\"1\" class=\"dataframe\">\n",
       "  <thead>\n",
       "    <tr style=\"text-align: right;\">\n",
       "      <th></th>\n",
       "      <th>extraction_date_with_hour</th>\n",
       "      <th>shared_teks_by_upload_date</th>\n",
       "      <th>shared_diagnoses</th>\n",
       "    </tr>\n",
       "    <tr>\n",
       "      <th>datetime_utc</th>\n",
       "      <th></th>\n",
       "      <th></th>\n",
       "      <th></th>\n",
       "    </tr>\n",
       "  </thead>\n",
       "  <tbody>\n",
       "    <tr>\n",
       "      <th>2020-10-24 02:00:00</th>\n",
       "      <td>2020-10-24@02</td>\n",
       "      <td>20</td>\n",
       "      <td>10</td>\n",
       "    </tr>\n",
       "    <tr>\n",
       "      <th>2020-10-24 03:00:00</th>\n",
       "      <td>2020-10-24@03</td>\n",
       "      <td>0</td>\n",
       "      <td>0</td>\n",
       "    </tr>\n",
       "    <tr>\n",
       "      <th>2020-10-24 04:00:00</th>\n",
       "      <td>2020-10-24@04</td>\n",
       "      <td>2</td>\n",
       "      <td>1</td>\n",
       "    </tr>\n",
       "    <tr>\n",
       "      <th>2020-10-24 06:00:00</th>\n",
       "      <td>2020-10-24@06</td>\n",
       "      <td>11</td>\n",
       "      <td>2</td>\n",
       "    </tr>\n",
       "    <tr>\n",
       "      <th>2020-10-24 07:00:00</th>\n",
       "      <td>2020-10-24@07</td>\n",
       "      <td>0</td>\n",
       "      <td>0</td>\n",
       "    </tr>\n",
       "  </tbody>\n",
       "</table>\n",
       "</div>"
      ],
      "text/plain": [
       "                    extraction_date_with_hour  shared_teks_by_upload_date  \\\n",
       "datetime_utc                                                                \n",
       "2020-10-24 02:00:00             2020-10-24@02                          20   \n",
       "2020-10-24 03:00:00             2020-10-24@03                           0   \n",
       "2020-10-24 04:00:00             2020-10-24@04                           2   \n",
       "2020-10-24 06:00:00             2020-10-24@06                          11   \n",
       "2020-10-24 07:00:00             2020-10-24@07                           0   \n",
       "\n",
       "                     shared_diagnoses  \n",
       "datetime_utc                           \n",
       "2020-10-24 02:00:00                10  \n",
       "2020-10-24 03:00:00                 0  \n",
       "2020-10-24 04:00:00                 1  \n",
       "2020-10-24 06:00:00                 2  \n",
       "2020-10-24 07:00:00                 0  "
      ]
     },
     "execution_count": 39,
     "metadata": {},
     "output_type": "execute_result"
    }
   ],
   "source": [
    "hourly_summary_df = hourly_new_tek_count_df.merge(\n",
    "    hourly_estimated_shared_diagnoses_df, on=[\"extraction_date_with_hour\"], how=\"outer\")\n",
    "hourly_summary_df.set_index(\"extraction_date_with_hour\", inplace=True)\n",
    "hourly_summary_df = hourly_summary_df.fillna(0).astype(int).reset_index()\n",
    "hourly_summary_df[\"datetime_utc\"] = pd.to_datetime(\n",
    "    hourly_summary_df.extraction_date_with_hour, format=\"%Y-%m-%d@%H\")\n",
    "hourly_summary_df.set_index(\"datetime_utc\", inplace=True)\n",
    "hourly_summary_df = hourly_summary_df.tail(-1)\n",
    "hourly_summary_df.head()"
   ]
  },
  {
   "cell_type": "markdown",
   "metadata": {
    "collapsed": false,
    "papermill": {
     "duration": 0.047615,
     "end_time": "2020-10-25T03:27:18.806471",
     "exception": false,
     "start_time": "2020-10-25T03:27:18.758856",
     "status": "completed"
    },
    "pycharm": {
     "name": "#%% md\n"
    },
    "tags": []
   },
   "source": [
    "### Data Merge"
   ]
  },
  {
   "cell_type": "code",
   "execution_count": 40,
   "metadata": {
    "collapsed": false,
    "execution": {
     "iopub.execute_input": "2020-10-25T03:27:18.915060Z",
     "iopub.status.busy": "2020-10-25T03:27:18.914549Z",
     "iopub.status.idle": "2020-10-25T03:27:18.916529Z",
     "shell.execute_reply": "2020-10-25T03:27:18.916873Z"
    },
    "papermill": {
     "duration": 0.064541,
     "end_time": "2020-10-25T03:27:18.917018",
     "exception": false,
     "start_time": "2020-10-25T03:27:18.852477",
     "status": "completed"
    },
    "pycharm": {
     "name": "#%%\n"
    },
    "tags": []
   },
   "outputs": [
    {
     "data": {
      "text/html": [
       "<div>\n",
       "<style scoped>\n",
       "    .dataframe tbody tr th:only-of-type {\n",
       "        vertical-align: middle;\n",
       "    }\n",
       "\n",
       "    .dataframe tbody tr th {\n",
       "        vertical-align: top;\n",
       "    }\n",
       "\n",
       "    .dataframe thead th {\n",
       "        text-align: right;\n",
       "    }\n",
       "</style>\n",
       "<table border=\"1\" class=\"dataframe\">\n",
       "  <thead>\n",
       "    <tr style=\"text-align: right;\">\n",
       "      <th></th>\n",
       "      <th>sample_date_string</th>\n",
       "      <th>shared_teks_by_generation_date</th>\n",
       "      <th>shared_teks_by_upload_date</th>\n",
       "    </tr>\n",
       "  </thead>\n",
       "  <tbody>\n",
       "    <tr>\n",
       "      <th>0</th>\n",
       "      <td>2020-10-25</td>\n",
       "      <td>1</td>\n",
       "      <td>19.0</td>\n",
       "    </tr>\n",
       "    <tr>\n",
       "      <th>1</th>\n",
       "      <td>2020-10-24</td>\n",
       "      <td>186</td>\n",
       "      <td>703.0</td>\n",
       "    </tr>\n",
       "    <tr>\n",
       "      <th>2</th>\n",
       "      <td>2020-10-23</td>\n",
       "      <td>294</td>\n",
       "      <td>769.0</td>\n",
       "    </tr>\n",
       "    <tr>\n",
       "      <th>3</th>\n",
       "      <td>2020-10-22</td>\n",
       "      <td>433</td>\n",
       "      <td>726.0</td>\n",
       "    </tr>\n",
       "    <tr>\n",
       "      <th>4</th>\n",
       "      <td>2020-10-21</td>\n",
       "      <td>508</td>\n",
       "      <td>841.0</td>\n",
       "    </tr>\n",
       "  </tbody>\n",
       "</table>\n",
       "</div>"
      ],
      "text/plain": [
       "  sample_date_string  shared_teks_by_generation_date  \\\n",
       "0         2020-10-25                               1   \n",
       "1         2020-10-24                             186   \n",
       "2         2020-10-23                             294   \n",
       "3         2020-10-22                             433   \n",
       "4         2020-10-21                             508   \n",
       "\n",
       "   shared_teks_by_upload_date  \n",
       "0                        19.0  \n",
       "1                       703.0  \n",
       "2                       769.0  \n",
       "3                       726.0  \n",
       "4                       841.0  "
      ]
     },
     "execution_count": 40,
     "metadata": {},
     "output_type": "execute_result"
    }
   ],
   "source": [
    "result_summary_df = exposure_keys_summary_df.merge(\n",
    "    new_tek_df, on=[\"sample_date_string\"], how=\"outer\")\n",
    "result_summary_df.head()"
   ]
  },
  {
   "cell_type": "code",
   "execution_count": 41,
   "metadata": {
    "execution": {
     "iopub.execute_input": "2020-10-25T03:27:19.038617Z",
     "iopub.status.busy": "2020-10-25T03:27:19.038158Z",
     "iopub.status.idle": "2020-10-25T03:27:19.040867Z",
     "shell.execute_reply": "2020-10-25T03:27:19.041202Z"
    },
    "papermill": {
     "duration": 0.070481,
     "end_time": "2020-10-25T03:27:19.041345",
     "exception": false,
     "start_time": "2020-10-25T03:27:18.970864",
     "status": "completed"
    },
    "tags": []
   },
   "outputs": [
    {
     "data": {
      "text/html": [
       "<div>\n",
       "<style scoped>\n",
       "    .dataframe tbody tr th:only-of-type {\n",
       "        vertical-align: middle;\n",
       "    }\n",
       "\n",
       "    .dataframe tbody tr th {\n",
       "        vertical-align: top;\n",
       "    }\n",
       "\n",
       "    .dataframe thead th {\n",
       "        text-align: right;\n",
       "    }\n",
       "</style>\n",
       "<table border=\"1\" class=\"dataframe\">\n",
       "  <thead>\n",
       "    <tr style=\"text-align: right;\">\n",
       "      <th></th>\n",
       "      <th>sample_date_string</th>\n",
       "      <th>shared_teks_by_generation_date</th>\n",
       "      <th>shared_teks_by_upload_date</th>\n",
       "      <th>shared_teks_uploaded_on_generation_date</th>\n",
       "    </tr>\n",
       "  </thead>\n",
       "  <tbody>\n",
       "    <tr>\n",
       "      <th>0</th>\n",
       "      <td>2020-10-25</td>\n",
       "      <td>1</td>\n",
       "      <td>19.0</td>\n",
       "      <td>1.0</td>\n",
       "    </tr>\n",
       "    <tr>\n",
       "      <th>1</th>\n",
       "      <td>2020-10-24</td>\n",
       "      <td>186</td>\n",
       "      <td>703.0</td>\n",
       "      <td>177.0</td>\n",
       "    </tr>\n",
       "    <tr>\n",
       "      <th>2</th>\n",
       "      <td>2020-10-23</td>\n",
       "      <td>294</td>\n",
       "      <td>769.0</td>\n",
       "      <td>167.0</td>\n",
       "    </tr>\n",
       "    <tr>\n",
       "      <th>3</th>\n",
       "      <td>2020-10-22</td>\n",
       "      <td>433</td>\n",
       "      <td>726.0</td>\n",
       "      <td>180.0</td>\n",
       "    </tr>\n",
       "    <tr>\n",
       "      <th>4</th>\n",
       "      <td>2020-10-21</td>\n",
       "      <td>508</td>\n",
       "      <td>841.0</td>\n",
       "      <td>157.0</td>\n",
       "    </tr>\n",
       "  </tbody>\n",
       "</table>\n",
       "</div>"
      ],
      "text/plain": [
       "  sample_date_string  shared_teks_by_generation_date  \\\n",
       "0         2020-10-25                               1   \n",
       "1         2020-10-24                             186   \n",
       "2         2020-10-23                             294   \n",
       "3         2020-10-22                             433   \n",
       "4         2020-10-21                             508   \n",
       "\n",
       "   shared_teks_by_upload_date  shared_teks_uploaded_on_generation_date  \n",
       "0                        19.0                                      1.0  \n",
       "1                       703.0                                    177.0  \n",
       "2                       769.0                                    167.0  \n",
       "3                       726.0                                    180.0  \n",
       "4                       841.0                                    157.0  "
      ]
     },
     "execution_count": 41,
     "metadata": {},
     "output_type": "execute_result"
    }
   ],
   "source": [
    "result_summary_df = result_summary_df.merge(\n",
    "    shared_teks_uploaded_on_generation_date_df, on=[\"sample_date_string\"], how=\"outer\")\n",
    "result_summary_df.head()"
   ]
  },
  {
   "cell_type": "code",
   "execution_count": 42,
   "metadata": {
    "collapsed": false,
    "execution": {
     "iopub.execute_input": "2020-10-25T03:27:19.162889Z",
     "iopub.status.busy": "2020-10-25T03:27:19.162379Z",
     "iopub.status.idle": "2020-10-25T03:27:19.164871Z",
     "shell.execute_reply": "2020-10-25T03:27:19.165253Z"
    },
    "papermill": {
     "duration": 0.069005,
     "end_time": "2020-10-25T03:27:19.165391",
     "exception": false,
     "start_time": "2020-10-25T03:27:19.096386",
     "status": "completed"
    },
    "pycharm": {
     "name": "#%%\n"
    },
    "tags": []
   },
   "outputs": [
    {
     "data": {
      "text/html": [
       "<div>\n",
       "<style scoped>\n",
       "    .dataframe tbody tr th:only-of-type {\n",
       "        vertical-align: middle;\n",
       "    }\n",
       "\n",
       "    .dataframe tbody tr th {\n",
       "        vertical-align: top;\n",
       "    }\n",
       "\n",
       "    .dataframe thead th {\n",
       "        text-align: right;\n",
       "    }\n",
       "</style>\n",
       "<table border=\"1\" class=\"dataframe\">\n",
       "  <thead>\n",
       "    <tr style=\"text-align: right;\">\n",
       "      <th></th>\n",
       "      <th>sample_date_string</th>\n",
       "      <th>shared_teks_by_generation_date</th>\n",
       "      <th>shared_teks_by_upload_date</th>\n",
       "      <th>shared_teks_uploaded_on_generation_date</th>\n",
       "      <th>shared_diagnoses</th>\n",
       "    </tr>\n",
       "  </thead>\n",
       "  <tbody>\n",
       "    <tr>\n",
       "      <th>0</th>\n",
       "      <td>2020-10-25</td>\n",
       "      <td>1</td>\n",
       "      <td>19.0</td>\n",
       "      <td>1.0</td>\n",
       "      <td>9.0</td>\n",
       "    </tr>\n",
       "    <tr>\n",
       "      <th>1</th>\n",
       "      <td>2020-10-24</td>\n",
       "      <td>186</td>\n",
       "      <td>703.0</td>\n",
       "      <td>177.0</td>\n",
       "      <td>125.0</td>\n",
       "    </tr>\n",
       "    <tr>\n",
       "      <th>2</th>\n",
       "      <td>2020-10-23</td>\n",
       "      <td>294</td>\n",
       "      <td>769.0</td>\n",
       "      <td>167.0</td>\n",
       "      <td>145.0</td>\n",
       "    </tr>\n",
       "    <tr>\n",
       "      <th>3</th>\n",
       "      <td>2020-10-22</td>\n",
       "      <td>433</td>\n",
       "      <td>726.0</td>\n",
       "      <td>180.0</td>\n",
       "      <td>132.0</td>\n",
       "    </tr>\n",
       "    <tr>\n",
       "      <th>4</th>\n",
       "      <td>2020-10-21</td>\n",
       "      <td>508</td>\n",
       "      <td>841.0</td>\n",
       "      <td>157.0</td>\n",
       "      <td>153.0</td>\n",
       "    </tr>\n",
       "  </tbody>\n",
       "</table>\n",
       "</div>"
      ],
      "text/plain": [
       "  sample_date_string  shared_teks_by_generation_date  \\\n",
       "0         2020-10-25                               1   \n",
       "1         2020-10-24                             186   \n",
       "2         2020-10-23                             294   \n",
       "3         2020-10-22                             433   \n",
       "4         2020-10-21                             508   \n",
       "\n",
       "   shared_teks_by_upload_date  shared_teks_uploaded_on_generation_date  \\\n",
       "0                        19.0                                      1.0   \n",
       "1                       703.0                                    177.0   \n",
       "2                       769.0                                    167.0   \n",
       "3                       726.0                                    180.0   \n",
       "4                       841.0                                    157.0   \n",
       "\n",
       "   shared_diagnoses  \n",
       "0               9.0  \n",
       "1             125.0  \n",
       "2             145.0  \n",
       "3             132.0  \n",
       "4             153.0  "
      ]
     },
     "execution_count": 42,
     "metadata": {},
     "output_type": "execute_result"
    }
   ],
   "source": [
    "result_summary_df = result_summary_df.merge(\n",
    "    estimated_shared_diagnoses_df, on=[\"sample_date_string\"], how=\"outer\")\n",
    "result_summary_df.head()"
   ]
  },
  {
   "cell_type": "code",
   "execution_count": 43,
   "metadata": {
    "collapsed": false,
    "execution": {
     "iopub.execute_input": "2020-10-25T03:27:19.287380Z",
     "iopub.status.busy": "2020-10-25T03:27:19.286831Z",
     "iopub.status.idle": "2020-10-25T03:27:19.297275Z",
     "shell.execute_reply": "2020-10-25T03:27:19.297748Z"
    },
    "papermill": {
     "duration": 0.07975,
     "end_time": "2020-10-25T03:27:19.297895",
     "exception": false,
     "start_time": "2020-10-25T03:27:19.218145",
     "status": "completed"
    },
    "pycharm": {
     "name": "#%%\n"
    },
    "tags": []
   },
   "outputs": [
    {
     "data": {
      "text/html": [
       "<div>\n",
       "<style scoped>\n",
       "    .dataframe tbody tr th:only-of-type {\n",
       "        vertical-align: middle;\n",
       "    }\n",
       "\n",
       "    .dataframe tbody tr th {\n",
       "        vertical-align: top;\n",
       "    }\n",
       "\n",
       "    .dataframe thead th {\n",
       "        text-align: right;\n",
       "    }\n",
       "</style>\n",
       "<table border=\"1\" class=\"dataframe\">\n",
       "  <thead>\n",
       "    <tr style=\"text-align: right;\">\n",
       "      <th></th>\n",
       "      <th>sample_date_string</th>\n",
       "      <th>new_cases</th>\n",
       "      <th>covid_cases</th>\n",
       "      <th>shared_teks_by_generation_date</th>\n",
       "      <th>shared_teks_by_upload_date</th>\n",
       "      <th>shared_teks_uploaded_on_generation_date</th>\n",
       "      <th>shared_diagnoses</th>\n",
       "    </tr>\n",
       "  </thead>\n",
       "  <tbody>\n",
       "    <tr>\n",
       "      <th>0</th>\n",
       "      <td>2020-08-03</td>\n",
       "      <td>8532.0</td>\n",
       "      <td>2610.0</td>\n",
       "      <td>NaN</td>\n",
       "      <td>NaN</td>\n",
       "      <td>NaN</td>\n",
       "      <td>NaN</td>\n",
       "    </tr>\n",
       "    <tr>\n",
       "      <th>1</th>\n",
       "      <td>2020-08-04</td>\n",
       "      <td>5760.0</td>\n",
       "      <td>3172.0</td>\n",
       "      <td>NaN</td>\n",
       "      <td>NaN</td>\n",
       "      <td>NaN</td>\n",
       "      <td>NaN</td>\n",
       "    </tr>\n",
       "    <tr>\n",
       "      <th>2</th>\n",
       "      <td>2020-08-05</td>\n",
       "      <td>2953.0</td>\n",
       "      <td>3304.0</td>\n",
       "      <td>NaN</td>\n",
       "      <td>NaN</td>\n",
       "      <td>NaN</td>\n",
       "      <td>NaN</td>\n",
       "    </tr>\n",
       "    <tr>\n",
       "      <th>3</th>\n",
       "      <td>2020-08-06</td>\n",
       "      <td>4088.0</td>\n",
       "      <td>3489.0</td>\n",
       "      <td>NaN</td>\n",
       "      <td>NaN</td>\n",
       "      <td>NaN</td>\n",
       "      <td>NaN</td>\n",
       "    </tr>\n",
       "    <tr>\n",
       "      <th>4</th>\n",
       "      <td>2020-08-07</td>\n",
       "      <td>4507.0</td>\n",
       "      <td>3691.0</td>\n",
       "      <td>NaN</td>\n",
       "      <td>NaN</td>\n",
       "      <td>NaN</td>\n",
       "      <td>NaN</td>\n",
       "    </tr>\n",
       "  </tbody>\n",
       "</table>\n",
       "</div>"
      ],
      "text/plain": [
       "  sample_date_string  new_cases  covid_cases  shared_teks_by_generation_date  \\\n",
       "0         2020-08-03     8532.0       2610.0                             NaN   \n",
       "1         2020-08-04     5760.0       3172.0                             NaN   \n",
       "2         2020-08-05     2953.0       3304.0                             NaN   \n",
       "3         2020-08-06     4088.0       3489.0                             NaN   \n",
       "4         2020-08-07     4507.0       3691.0                             NaN   \n",
       "\n",
       "   shared_teks_by_upload_date  shared_teks_uploaded_on_generation_date  \\\n",
       "0                         NaN                                      NaN   \n",
       "1                         NaN                                      NaN   \n",
       "2                         NaN                                      NaN   \n",
       "3                         NaN                                      NaN   \n",
       "4                         NaN                                      NaN   \n",
       "\n",
       "   shared_diagnoses  \n",
       "0               NaN  \n",
       "1               NaN  \n",
       "2               NaN  \n",
       "3               NaN  \n",
       "4               NaN  "
      ]
     },
     "execution_count": 43,
     "metadata": {},
     "output_type": "execute_result"
    }
   ],
   "source": [
    "result_summary_df = confirmed_df.tail(daily_summary_days).merge(\n",
    "    result_summary_df, on=[\"sample_date_string\"], how=\"left\")\n",
    "result_summary_df.head()"
   ]
  },
  {
   "cell_type": "code",
   "execution_count": 44,
   "metadata": {
    "collapsed": false,
    "execution": {
     "iopub.execute_input": "2020-10-25T03:27:19.423344Z",
     "iopub.status.busy": "2020-10-25T03:27:19.422792Z",
     "iopub.status.idle": "2020-10-25T03:27:19.434712Z",
     "shell.execute_reply": "2020-10-25T03:27:19.434268Z"
    },
    "papermill": {
     "duration": 0.078271,
     "end_time": "2020-10-25T03:27:19.434834",
     "exception": false,
     "start_time": "2020-10-25T03:27:19.356563",
     "status": "completed"
    },
    "pycharm": {
     "name": "#%%\n"
    },
    "tags": []
   },
   "outputs": [
    {
     "data": {
      "text/html": [
       "<div>\n",
       "<style scoped>\n",
       "    .dataframe tbody tr th:only-of-type {\n",
       "        vertical-align: middle;\n",
       "    }\n",
       "\n",
       "    .dataframe tbody tr th {\n",
       "        vertical-align: top;\n",
       "    }\n",
       "\n",
       "    .dataframe thead th {\n",
       "        text-align: right;\n",
       "    }\n",
       "</style>\n",
       "<table border=\"1\" class=\"dataframe\">\n",
       "  <thead>\n",
       "    <tr style=\"text-align: right;\">\n",
       "      <th></th>\n",
       "      <th>new_cases</th>\n",
       "      <th>covid_cases</th>\n",
       "      <th>shared_teks_by_generation_date</th>\n",
       "      <th>shared_teks_by_upload_date</th>\n",
       "      <th>shared_teks_uploaded_on_generation_date</th>\n",
       "      <th>shared_diagnoses</th>\n",
       "    </tr>\n",
       "    <tr>\n",
       "      <th>sample_date</th>\n",
       "      <th></th>\n",
       "      <th></th>\n",
       "      <th></th>\n",
       "      <th></th>\n",
       "      <th></th>\n",
       "      <th></th>\n",
       "    </tr>\n",
       "  </thead>\n",
       "  <tbody>\n",
       "    <tr>\n",
       "      <th>2020-10-25</th>\n",
       "      <td>19851.0</td>\n",
       "      <td>21325.0</td>\n",
       "      <td>1.0</td>\n",
       "      <td>19.0</td>\n",
       "      <td>1.0</td>\n",
       "      <td>9.0</td>\n",
       "    </tr>\n",
       "    <tr>\n",
       "      <th>2020-10-24</th>\n",
       "      <td>19851.0</td>\n",
       "      <td>18489.0</td>\n",
       "      <td>186.0</td>\n",
       "      <td>703.0</td>\n",
       "      <td>177.0</td>\n",
       "      <td>125.0</td>\n",
       "    </tr>\n",
       "    <tr>\n",
       "      <th>2020-10-23</th>\n",
       "      <td>19851.0</td>\n",
       "      <td>15653.0</td>\n",
       "      <td>294.0</td>\n",
       "      <td>769.0</td>\n",
       "      <td>167.0</td>\n",
       "      <td>145.0</td>\n",
       "    </tr>\n",
       "    <tr>\n",
       "      <th>2020-10-22</th>\n",
       "      <td>20986.0</td>\n",
       "      <td>14987.0</td>\n",
       "      <td>433.0</td>\n",
       "      <td>726.0</td>\n",
       "      <td>180.0</td>\n",
       "      <td>132.0</td>\n",
       "    </tr>\n",
       "    <tr>\n",
       "      <th>2020-10-21</th>\n",
       "      <td>16973.0</td>\n",
       "      <td>13891.0</td>\n",
       "      <td>508.0</td>\n",
       "      <td>841.0</td>\n",
       "      <td>157.0</td>\n",
       "      <td>153.0</td>\n",
       "    </tr>\n",
       "  </tbody>\n",
       "</table>\n",
       "</div>"
      ],
      "text/plain": [
       "             new_cases  covid_cases  shared_teks_by_generation_date  \\\n",
       "sample_date                                                           \n",
       "2020-10-25     19851.0      21325.0                             1.0   \n",
       "2020-10-24     19851.0      18489.0                           186.0   \n",
       "2020-10-23     19851.0      15653.0                           294.0   \n",
       "2020-10-22     20986.0      14987.0                           433.0   \n",
       "2020-10-21     16973.0      13891.0                           508.0   \n",
       "\n",
       "             shared_teks_by_upload_date  \\\n",
       "sample_date                               \n",
       "2020-10-25                         19.0   \n",
       "2020-10-24                        703.0   \n",
       "2020-10-23                        769.0   \n",
       "2020-10-22                        726.0   \n",
       "2020-10-21                        841.0   \n",
       "\n",
       "             shared_teks_uploaded_on_generation_date  shared_diagnoses  \n",
       "sample_date                                                             \n",
       "2020-10-25                                       1.0               9.0  \n",
       "2020-10-24                                     177.0             125.0  \n",
       "2020-10-23                                     167.0             145.0  \n",
       "2020-10-22                                     180.0             132.0  \n",
       "2020-10-21                                     157.0             153.0  "
      ]
     },
     "execution_count": 44,
     "metadata": {},
     "output_type": "execute_result"
    }
   ],
   "source": [
    "result_summary_df[\"sample_date\"] = pd.to_datetime(result_summary_df.sample_date_string)\n",
    "result_summary_df.set_index(\"sample_date\", inplace=True)\n",
    "result_summary_df.drop(columns=[\"sample_date_string\"], inplace=True)\n",
    "result_summary_df.sort_index(ascending=False, inplace=True)\n",
    "result_summary_df.head()"
   ]
  },
  {
   "cell_type": "code",
   "execution_count": 45,
   "metadata": {
    "collapsed": false,
    "execution": {
     "iopub.execute_input": "2020-10-25T03:27:19.573771Z",
     "iopub.status.busy": "2020-10-25T03:27:19.561930Z",
     "iopub.status.idle": "2020-10-25T03:27:19.578174Z",
     "shell.execute_reply": "2020-10-25T03:27:19.577469Z"
    },
    "papermill": {
     "duration": 0.083614,
     "end_time": "2020-10-25T03:27:19.578308",
     "exception": false,
     "start_time": "2020-10-25T03:27:19.494694",
     "status": "completed"
    },
    "pycharm": {
     "name": "#%%\n"
    },
    "tags": []
   },
   "outputs": [
    {
     "data": {
      "text/html": [
       "<div>\n",
       "<style scoped>\n",
       "    .dataframe tbody tr th:only-of-type {\n",
       "        vertical-align: middle;\n",
       "    }\n",
       "\n",
       "    .dataframe tbody tr th {\n",
       "        vertical-align: top;\n",
       "    }\n",
       "\n",
       "    .dataframe thead th {\n",
       "        text-align: right;\n",
       "    }\n",
       "</style>\n",
       "<table border=\"1\" class=\"dataframe\">\n",
       "  <thead>\n",
       "    <tr style=\"text-align: right;\">\n",
       "      <th></th>\n",
       "      <th>new_cases</th>\n",
       "      <th>covid_cases</th>\n",
       "      <th>shared_teks_by_generation_date</th>\n",
       "      <th>shared_teks_by_upload_date</th>\n",
       "      <th>shared_teks_uploaded_on_generation_date</th>\n",
       "      <th>shared_diagnoses</th>\n",
       "      <th>teks_per_shared_diagnosis</th>\n",
       "      <th>shared_diagnoses_per_covid_case</th>\n",
       "    </tr>\n",
       "    <tr>\n",
       "      <th>sample_date</th>\n",
       "      <th></th>\n",
       "      <th></th>\n",
       "      <th></th>\n",
       "      <th></th>\n",
       "      <th></th>\n",
       "      <th></th>\n",
       "      <th></th>\n",
       "      <th></th>\n",
       "    </tr>\n",
       "  </thead>\n",
       "  <tbody>\n",
       "    <tr>\n",
       "      <th>2020-10-25</th>\n",
       "      <td>19851</td>\n",
       "      <td>21325</td>\n",
       "      <td>1</td>\n",
       "      <td>19</td>\n",
       "      <td>1</td>\n",
       "      <td>9</td>\n",
       "      <td>2.111111</td>\n",
       "      <td>0.000422</td>\n",
       "    </tr>\n",
       "    <tr>\n",
       "      <th>2020-10-24</th>\n",
       "      <td>19851</td>\n",
       "      <td>18489</td>\n",
       "      <td>186</td>\n",
       "      <td>703</td>\n",
       "      <td>177</td>\n",
       "      <td>125</td>\n",
       "      <td>5.624000</td>\n",
       "      <td>0.006761</td>\n",
       "    </tr>\n",
       "    <tr>\n",
       "      <th>2020-10-23</th>\n",
       "      <td>19851</td>\n",
       "      <td>15653</td>\n",
       "      <td>294</td>\n",
       "      <td>769</td>\n",
       "      <td>167</td>\n",
       "      <td>145</td>\n",
       "      <td>5.303448</td>\n",
       "      <td>0.009263</td>\n",
       "    </tr>\n",
       "    <tr>\n",
       "      <th>2020-10-22</th>\n",
       "      <td>20986</td>\n",
       "      <td>14987</td>\n",
       "      <td>433</td>\n",
       "      <td>726</td>\n",
       "      <td>180</td>\n",
       "      <td>132</td>\n",
       "      <td>5.500000</td>\n",
       "      <td>0.008808</td>\n",
       "    </tr>\n",
       "    <tr>\n",
       "      <th>2020-10-21</th>\n",
       "      <td>16973</td>\n",
       "      <td>13891</td>\n",
       "      <td>508</td>\n",
       "      <td>841</td>\n",
       "      <td>157</td>\n",
       "      <td>153</td>\n",
       "      <td>5.496732</td>\n",
       "      <td>0.011014</td>\n",
       "    </tr>\n",
       "    <tr>\n",
       "      <th>2020-10-20</th>\n",
       "      <td>13873</td>\n",
       "      <td>13177</td>\n",
       "      <td>592</td>\n",
       "      <td>772</td>\n",
       "      <td>149</td>\n",
       "      <td>135</td>\n",
       "      <td>5.718519</td>\n",
       "      <td>0.010245</td>\n",
       "    </tr>\n",
       "    <tr>\n",
       "      <th>2020-10-19</th>\n",
       "      <td>37889</td>\n",
       "      <td>12212</td>\n",
       "      <td>649</td>\n",
       "      <td>791</td>\n",
       "      <td>142</td>\n",
       "      <td>123</td>\n",
       "      <td>6.430894</td>\n",
       "      <td>0.010072</td>\n",
       "    </tr>\n",
       "    <tr>\n",
       "      <th>2020-10-18</th>\n",
       "      <td>0</td>\n",
       "      <td>10778</td>\n",
       "      <td>670</td>\n",
       "      <td>726</td>\n",
       "      <td>146</td>\n",
       "      <td>132</td>\n",
       "      <td>5.500000</td>\n",
       "      <td>0.012247</td>\n",
       "    </tr>\n",
       "    <tr>\n",
       "      <th>2020-10-17</th>\n",
       "      <td>0</td>\n",
       "      <td>10778</td>\n",
       "      <td>727</td>\n",
       "      <td>767</td>\n",
       "      <td>174</td>\n",
       "      <td>138</td>\n",
       "      <td>5.557971</td>\n",
       "      <td>0.012804</td>\n",
       "    </tr>\n",
       "    <tr>\n",
       "      <th>2020-10-16</th>\n",
       "      <td>15186</td>\n",
       "      <td>10778</td>\n",
       "      <td>705</td>\n",
       "      <td>769</td>\n",
       "      <td>149</td>\n",
       "      <td>141</td>\n",
       "      <td>5.453901</td>\n",
       "      <td>0.013082</td>\n",
       "    </tr>\n",
       "    <tr>\n",
       "      <th>2020-10-15</th>\n",
       "      <td>13318</td>\n",
       "      <td>10436</td>\n",
       "      <td>727</td>\n",
       "      <td>671</td>\n",
       "      <td>151</td>\n",
       "      <td>175</td>\n",
       "      <td>3.834286</td>\n",
       "      <td>0.016769</td>\n",
       "    </tr>\n",
       "    <tr>\n",
       "      <th>2020-10-14</th>\n",
       "      <td>11970</td>\n",
       "      <td>10308</td>\n",
       "      <td>668</td>\n",
       "      <td>463</td>\n",
       "      <td>1</td>\n",
       "      <td>133</td>\n",
       "      <td>3.481203</td>\n",
       "      <td>0.012903</td>\n",
       "    </tr>\n",
       "    <tr>\n",
       "      <th>2020-10-13</th>\n",
       "      <td>7118</td>\n",
       "      <td>10097</td>\n",
       "      <td>587</td>\n",
       "      <td>334</td>\n",
       "      <td>1</td>\n",
       "      <td>112</td>\n",
       "      <td>2.982143</td>\n",
       "      <td>0.011092</td>\n",
       "    </tr>\n",
       "    <tr>\n",
       "      <th>2020-10-12</th>\n",
       "      <td>27856</td>\n",
       "      <td>10794</td>\n",
       "      <td>532</td>\n",
       "      <td>326</td>\n",
       "      <td>2</td>\n",
       "      <td>136</td>\n",
       "      <td>2.397059</td>\n",
       "      <td>0.012600</td>\n",
       "    </tr>\n",
       "    <tr>\n",
       "      <th>2020-10-11</th>\n",
       "      <td>0</td>\n",
       "      <td>10169</td>\n",
       "      <td>479</td>\n",
       "      <td>422</td>\n",
       "      <td>1</td>\n",
       "      <td>147</td>\n",
       "      <td>2.870748</td>\n",
       "      <td>0.014456</td>\n",
       "    </tr>\n",
       "    <tr>\n",
       "      <th>2020-10-10</th>\n",
       "      <td>0</td>\n",
       "      <td>10169</td>\n",
       "      <td>438</td>\n",
       "      <td>429</td>\n",
       "      <td>0</td>\n",
       "      <td>133</td>\n",
       "      <td>3.225564</td>\n",
       "      <td>0.013079</td>\n",
       "    </tr>\n",
       "    <tr>\n",
       "      <th>2020-10-09</th>\n",
       "      <td>12788</td>\n",
       "      <td>10169</td>\n",
       "      <td>426</td>\n",
       "      <td>348</td>\n",
       "      <td>1</td>\n",
       "      <td>105</td>\n",
       "      <td>3.314286</td>\n",
       "      <td>0.010325</td>\n",
       "    </tr>\n",
       "    <tr>\n",
       "      <th>2020-10-08</th>\n",
       "      <td>12423</td>\n",
       "      <td>9960</td>\n",
       "      <td>417</td>\n",
       "      <td>272</td>\n",
       "      <td>1</td>\n",
       "      <td>86</td>\n",
       "      <td>3.162791</td>\n",
       "      <td>0.008635</td>\n",
       "    </tr>\n",
       "    <tr>\n",
       "      <th>2020-10-07</th>\n",
       "      <td>10491</td>\n",
       "      <td>9530</td>\n",
       "      <td>375</td>\n",
       "      <td>178</td>\n",
       "      <td>0</td>\n",
       "      <td>54</td>\n",
       "      <td>3.296296</td>\n",
       "      <td>0.005666</td>\n",
       "    </tr>\n",
       "    <tr>\n",
       "      <th>2020-10-06</th>\n",
       "      <td>11998</td>\n",
       "      <td>9605</td>\n",
       "      <td>384</td>\n",
       "      <td>233</td>\n",
       "      <td>60</td>\n",
       "      <td>56</td>\n",
       "      <td>4.160714</td>\n",
       "      <td>0.005830</td>\n",
       "    </tr>\n",
       "    <tr>\n",
       "      <th>2020-10-05</th>\n",
       "      <td>23480</td>\n",
       "      <td>9307</td>\n",
       "      <td>350</td>\n",
       "      <td>273</td>\n",
       "      <td>52</td>\n",
       "      <td>69</td>\n",
       "      <td>3.956522</td>\n",
       "      <td>0.007414</td>\n",
       "    </tr>\n",
       "    <tr>\n",
       "      <th>2020-10-04</th>\n",
       "      <td>0</td>\n",
       "      <td>10493</td>\n",
       "      <td>353</td>\n",
       "      <td>331</td>\n",
       "      <td>76</td>\n",
       "      <td>78</td>\n",
       "      <td>4.243590</td>\n",
       "      <td>0.007434</td>\n",
       "    </tr>\n",
       "    <tr>\n",
       "      <th>2020-10-03</th>\n",
       "      <td>0</td>\n",
       "      <td>10493</td>\n",
       "      <td>312</td>\n",
       "      <td>324</td>\n",
       "      <td>69</td>\n",
       "      <td>76</td>\n",
       "      <td>4.263158</td>\n",
       "      <td>0.007243</td>\n",
       "    </tr>\n",
       "    <tr>\n",
       "      <th>2020-10-02</th>\n",
       "      <td>11325</td>\n",
       "      <td>10493</td>\n",
       "      <td>312</td>\n",
       "      <td>299</td>\n",
       "      <td>72</td>\n",
       "      <td>72</td>\n",
       "      <td>4.152778</td>\n",
       "      <td>0.006862</td>\n",
       "    </tr>\n",
       "    <tr>\n",
       "      <th>2020-10-01</th>\n",
       "      <td>9419</td>\n",
       "      <td>10628</td>\n",
       "      <td>317</td>\n",
       "      <td>367</td>\n",
       "      <td>75</td>\n",
       "      <td>74</td>\n",
       "      <td>4.959459</td>\n",
       "      <td>0.006963</td>\n",
       "    </tr>\n",
       "    <tr>\n",
       "      <th>2020-09-30</th>\n",
       "      <td>11016</td>\n",
       "      <td>10805</td>\n",
       "      <td>294</td>\n",
       "      <td>271</td>\n",
       "      <td>55</td>\n",
       "      <td>51</td>\n",
       "      <td>5.313725</td>\n",
       "      <td>0.004720</td>\n",
       "    </tr>\n",
       "    <tr>\n",
       "      <th>2020-09-29</th>\n",
       "      <td>9906</td>\n",
       "      <td>10844</td>\n",
       "      <td>265</td>\n",
       "      <td>178</td>\n",
       "      <td>32</td>\n",
       "      <td>44</td>\n",
       "      <td>4.045455</td>\n",
       "      <td>0.004058</td>\n",
       "    </tr>\n",
       "    <tr>\n",
       "      <th>2020-09-28</th>\n",
       "      <td>31785</td>\n",
       "      <td>10971</td>\n",
       "      <td>269</td>\n",
       "      <td>211</td>\n",
       "      <td>44</td>\n",
       "      <td>54</td>\n",
       "      <td>3.907407</td>\n",
       "      <td>0.004922</td>\n",
       "    </tr>\n",
       "  </tbody>\n",
       "</table>\n",
       "</div>"
      ],
      "text/plain": [
       "             new_cases  covid_cases  shared_teks_by_generation_date  \\\n",
       "sample_date                                                           \n",
       "2020-10-25       19851        21325                               1   \n",
       "2020-10-24       19851        18489                             186   \n",
       "2020-10-23       19851        15653                             294   \n",
       "2020-10-22       20986        14987                             433   \n",
       "2020-10-21       16973        13891                             508   \n",
       "2020-10-20       13873        13177                             592   \n",
       "2020-10-19       37889        12212                             649   \n",
       "2020-10-18           0        10778                             670   \n",
       "2020-10-17           0        10778                             727   \n",
       "2020-10-16       15186        10778                             705   \n",
       "2020-10-15       13318        10436                             727   \n",
       "2020-10-14       11970        10308                             668   \n",
       "2020-10-13        7118        10097                             587   \n",
       "2020-10-12       27856        10794                             532   \n",
       "2020-10-11           0        10169                             479   \n",
       "2020-10-10           0        10169                             438   \n",
       "2020-10-09       12788        10169                             426   \n",
       "2020-10-08       12423         9960                             417   \n",
       "2020-10-07       10491         9530                             375   \n",
       "2020-10-06       11998         9605                             384   \n",
       "2020-10-05       23480         9307                             350   \n",
       "2020-10-04           0        10493                             353   \n",
       "2020-10-03           0        10493                             312   \n",
       "2020-10-02       11325        10493                             312   \n",
       "2020-10-01        9419        10628                             317   \n",
       "2020-09-30       11016        10805                             294   \n",
       "2020-09-29        9906        10844                             265   \n",
       "2020-09-28       31785        10971                             269   \n",
       "\n",
       "             shared_teks_by_upload_date  \\\n",
       "sample_date                               \n",
       "2020-10-25                           19   \n",
       "2020-10-24                          703   \n",
       "2020-10-23                          769   \n",
       "2020-10-22                          726   \n",
       "2020-10-21                          841   \n",
       "2020-10-20                          772   \n",
       "2020-10-19                          791   \n",
       "2020-10-18                          726   \n",
       "2020-10-17                          767   \n",
       "2020-10-16                          769   \n",
       "2020-10-15                          671   \n",
       "2020-10-14                          463   \n",
       "2020-10-13                          334   \n",
       "2020-10-12                          326   \n",
       "2020-10-11                          422   \n",
       "2020-10-10                          429   \n",
       "2020-10-09                          348   \n",
       "2020-10-08                          272   \n",
       "2020-10-07                          178   \n",
       "2020-10-06                          233   \n",
       "2020-10-05                          273   \n",
       "2020-10-04                          331   \n",
       "2020-10-03                          324   \n",
       "2020-10-02                          299   \n",
       "2020-10-01                          367   \n",
       "2020-09-30                          271   \n",
       "2020-09-29                          178   \n",
       "2020-09-28                          211   \n",
       "\n",
       "             shared_teks_uploaded_on_generation_date  shared_diagnoses  \\\n",
       "sample_date                                                              \n",
       "2020-10-25                                         1                 9   \n",
       "2020-10-24                                       177               125   \n",
       "2020-10-23                                       167               145   \n",
       "2020-10-22                                       180               132   \n",
       "2020-10-21                                       157               153   \n",
       "2020-10-20                                       149               135   \n",
       "2020-10-19                                       142               123   \n",
       "2020-10-18                                       146               132   \n",
       "2020-10-17                                       174               138   \n",
       "2020-10-16                                       149               141   \n",
       "2020-10-15                                       151               175   \n",
       "2020-10-14                                         1               133   \n",
       "2020-10-13                                         1               112   \n",
       "2020-10-12                                         2               136   \n",
       "2020-10-11                                         1               147   \n",
       "2020-10-10                                         0               133   \n",
       "2020-10-09                                         1               105   \n",
       "2020-10-08                                         1                86   \n",
       "2020-10-07                                         0                54   \n",
       "2020-10-06                                        60                56   \n",
       "2020-10-05                                        52                69   \n",
       "2020-10-04                                        76                78   \n",
       "2020-10-03                                        69                76   \n",
       "2020-10-02                                        72                72   \n",
       "2020-10-01                                        75                74   \n",
       "2020-09-30                                        55                51   \n",
       "2020-09-29                                        32                44   \n",
       "2020-09-28                                        44                54   \n",
       "\n",
       "             teks_per_shared_diagnosis  shared_diagnoses_per_covid_case  \n",
       "sample_date                                                              \n",
       "2020-10-25                    2.111111                         0.000422  \n",
       "2020-10-24                    5.624000                         0.006761  \n",
       "2020-10-23                    5.303448                         0.009263  \n",
       "2020-10-22                    5.500000                         0.008808  \n",
       "2020-10-21                    5.496732                         0.011014  \n",
       "2020-10-20                    5.718519                         0.010245  \n",
       "2020-10-19                    6.430894                         0.010072  \n",
       "2020-10-18                    5.500000                         0.012247  \n",
       "2020-10-17                    5.557971                         0.012804  \n",
       "2020-10-16                    5.453901                         0.013082  \n",
       "2020-10-15                    3.834286                         0.016769  \n",
       "2020-10-14                    3.481203                         0.012903  \n",
       "2020-10-13                    2.982143                         0.011092  \n",
       "2020-10-12                    2.397059                         0.012600  \n",
       "2020-10-11                    2.870748                         0.014456  \n",
       "2020-10-10                    3.225564                         0.013079  \n",
       "2020-10-09                    3.314286                         0.010325  \n",
       "2020-10-08                    3.162791                         0.008635  \n",
       "2020-10-07                    3.296296                         0.005666  \n",
       "2020-10-06                    4.160714                         0.005830  \n",
       "2020-10-05                    3.956522                         0.007414  \n",
       "2020-10-04                    4.243590                         0.007434  \n",
       "2020-10-03                    4.263158                         0.007243  \n",
       "2020-10-02                    4.152778                         0.006862  \n",
       "2020-10-01                    4.959459                         0.006963  \n",
       "2020-09-30                    5.313725                         0.004720  \n",
       "2020-09-29                    4.045455                         0.004058  \n",
       "2020-09-28                    3.907407                         0.004922  "
      ]
     },
     "execution_count": 45,
     "metadata": {},
     "output_type": "execute_result"
    }
   ],
   "source": [
    "with pd.option_context(\"mode.use_inf_as_na\", True):\n",
    "    result_summary_df = result_summary_df.fillna(0).astype(int)\n",
    "    result_summary_df[\"teks_per_shared_diagnosis\"] = \\\n",
    "        (result_summary_df.shared_teks_by_upload_date / result_summary_df.shared_diagnoses).fillna(0)\n",
    "    result_summary_df[\"shared_diagnoses_per_covid_case\"] = \\\n",
    "        (result_summary_df.shared_diagnoses / result_summary_df.covid_cases).fillna(0)\n",
    "\n",
    "result_summary_df.head(daily_plot_days)"
   ]
  },
  {
   "cell_type": "code",
   "execution_count": 46,
   "metadata": {
    "collapsed": false,
    "execution": {
     "iopub.execute_input": "2020-10-25T03:27:19.705501Z",
     "iopub.status.busy": "2020-10-25T03:27:19.704950Z",
     "iopub.status.idle": "2020-10-25T03:27:19.721221Z",
     "shell.execute_reply": "2020-10-25T03:27:19.720810Z"
    },
    "papermill": {
     "duration": 0.082667,
     "end_time": "2020-10-25T03:27:19.721355",
     "exception": false,
     "start_time": "2020-10-25T03:27:19.638688",
     "status": "completed"
    },
    "pycharm": {
     "name": "#%%\n"
    },
    "tags": []
   },
   "outputs": [
    {
     "data": {
      "text/html": [
       "<div>\n",
       "<style scoped>\n",
       "    .dataframe tbody tr th:only-of-type {\n",
       "        vertical-align: middle;\n",
       "    }\n",
       "\n",
       "    .dataframe tbody tr th {\n",
       "        vertical-align: top;\n",
       "    }\n",
       "\n",
       "    .dataframe thead th {\n",
       "        text-align: right;\n",
       "    }\n",
       "</style>\n",
       "<table border=\"1\" class=\"dataframe\">\n",
       "  <thead>\n",
       "    <tr style=\"text-align: right;\">\n",
       "      <th></th>\n",
       "      <th>covid_cases</th>\n",
       "      <th>shared_teks_by_generation_date</th>\n",
       "      <th>shared_teks_by_upload_date</th>\n",
       "      <th>shared_diagnoses</th>\n",
       "      <th>teks_per_shared_diagnosis</th>\n",
       "      <th>shared_diagnoses_per_covid_case</th>\n",
       "    </tr>\n",
       "    <tr>\n",
       "      <th>sample_date</th>\n",
       "      <th></th>\n",
       "      <th></th>\n",
       "      <th></th>\n",
       "      <th></th>\n",
       "      <th></th>\n",
       "      <th></th>\n",
       "    </tr>\n",
       "  </thead>\n",
       "  <tbody>\n",
       "    <tr>\n",
       "      <th>2020-10-25</th>\n",
       "      <td>109734</td>\n",
       "      <td>2663</td>\n",
       "      <td>4621</td>\n",
       "      <td>822</td>\n",
       "      <td>5.621655</td>\n",
       "      <td>0.007491</td>\n",
       "    </tr>\n",
       "    <tr>\n",
       "      <th>2020-10-24</th>\n",
       "      <td>99187</td>\n",
       "      <td>3332</td>\n",
       "      <td>5328</td>\n",
       "      <td>945</td>\n",
       "      <td>5.638095</td>\n",
       "      <td>0.009527</td>\n",
       "    </tr>\n",
       "    <tr>\n",
       "      <th>2020-10-23</th>\n",
       "      <td>91476</td>\n",
       "      <td>3873</td>\n",
       "      <td>5392</td>\n",
       "      <td>958</td>\n",
       "      <td>5.628392</td>\n",
       "      <td>0.010473</td>\n",
       "    </tr>\n",
       "    <tr>\n",
       "      <th>2020-10-22</th>\n",
       "      <td>86601</td>\n",
       "      <td>4284</td>\n",
       "      <td>5392</td>\n",
       "      <td>954</td>\n",
       "      <td>5.651992</td>\n",
       "      <td>0.011016</td>\n",
       "    </tr>\n",
       "    <tr>\n",
       "      <th>2020-10-21</th>\n",
       "      <td>82050</td>\n",
       "      <td>4578</td>\n",
       "      <td>5337</td>\n",
       "      <td>997</td>\n",
       "      <td>5.353059</td>\n",
       "      <td>0.012151</td>\n",
       "    </tr>\n",
       "  </tbody>\n",
       "</table>\n",
       "</div>"
      ],
      "text/plain": [
       "             covid_cases  shared_teks_by_generation_date  \\\n",
       "sample_date                                                \n",
       "2020-10-25        109734                            2663   \n",
       "2020-10-24         99187                            3332   \n",
       "2020-10-23         91476                            3873   \n",
       "2020-10-22         86601                            4284   \n",
       "2020-10-21         82050                            4578   \n",
       "\n",
       "             shared_teks_by_upload_date  shared_diagnoses  \\\n",
       "sample_date                                                 \n",
       "2020-10-25                         4621               822   \n",
       "2020-10-24                         5328               945   \n",
       "2020-10-23                         5392               958   \n",
       "2020-10-22                         5392               954   \n",
       "2020-10-21                         5337               997   \n",
       "\n",
       "             teks_per_shared_diagnosis  shared_diagnoses_per_covid_case  \n",
       "sample_date                                                              \n",
       "2020-10-25                    5.621655                         0.007491  \n",
       "2020-10-24                    5.638095                         0.009527  \n",
       "2020-10-23                    5.628392                         0.010473  \n",
       "2020-10-22                    5.651992                         0.011016  \n",
       "2020-10-21                    5.353059                         0.012151  "
      ]
     },
     "execution_count": 46,
     "metadata": {},
     "output_type": "execute_result"
    }
   ],
   "source": [
    "weekly_result_summary_df = result_summary_df \\\n",
    "    .sort_index(ascending=True).fillna(0).rolling(7).agg({\n",
    "    \"covid_cases\": \"sum\",\n",
    "    \"shared_teks_by_generation_date\": \"sum\",\n",
    "    \"shared_teks_by_upload_date\": \"sum\",\n",
    "    \"shared_diagnoses\": \"sum\"\n",
    "}).sort_index(ascending=False)\n",
    "\n",
    "with pd.option_context(\"mode.use_inf_as_na\", True):\n",
    "    weekly_result_summary_df = weekly_result_summary_df.fillna(0).astype(int)\n",
    "    weekly_result_summary_df[\"teks_per_shared_diagnosis\"] = \\\n",
    "        (weekly_result_summary_df.shared_teks_by_upload_date / weekly_result_summary_df.shared_diagnoses).fillna(0)\n",
    "    weekly_result_summary_df[\"shared_diagnoses_per_covid_case\"] = \\\n",
    "        (weekly_result_summary_df.shared_diagnoses / weekly_result_summary_df.covid_cases).fillna(0)\n",
    "\n",
    "weekly_result_summary_df.head()"
   ]
  },
  {
   "cell_type": "code",
   "execution_count": 47,
   "metadata": {
    "execution": {
     "iopub.execute_input": "2020-10-25T03:27:19.846289Z",
     "iopub.status.busy": "2020-10-25T03:27:19.845786Z",
     "iopub.status.idle": "2020-10-25T03:27:19.848285Z",
     "shell.execute_reply": "2020-10-25T03:27:19.848662Z"
    },
    "papermill": {
     "duration": 0.067499,
     "end_time": "2020-10-25T03:27:19.848798",
     "exception": false,
     "start_time": "2020-10-25T03:27:19.781299",
     "status": "completed"
    },
    "pycharm": {
     "name": "#%%\n"
    },
    "tags": []
   },
   "outputs": [
    {
     "data": {
      "text/plain": [
       "{'covid_cases': 99187,\n",
       " 'shared_teks_by_generation_date': 3332,\n",
       " 'shared_teks_by_upload_date': 5328,\n",
       " 'shared_diagnoses': 945,\n",
       " 'teks_per_shared_diagnosis': 5.6380952380952385,\n",
       " 'shared_diagnoses_per_covid_case': 0.009527458235454244}"
      ]
     },
     "execution_count": 47,
     "metadata": {},
     "output_type": "execute_result"
    }
   ],
   "source": [
    "last_7_days_summary = weekly_result_summary_df.to_dict(orient=\"records\")[1]\n",
    "last_7_days_summary"
   ]
  },
  {
   "cell_type": "markdown",
   "metadata": {
    "collapsed": false,
    "papermill": {
     "duration": 0.057676,
     "end_time": "2020-10-25T03:27:19.963858",
     "exception": false,
     "start_time": "2020-10-25T03:27:19.906182",
     "status": "completed"
    },
    "pycharm": {
     "name": "#%% md\n"
    },
    "tags": []
   },
   "source": [
    "## Report Results"
   ]
  },
  {
   "cell_type": "code",
   "execution_count": 48,
   "metadata": {
    "collapsed": false,
    "execution": {
     "iopub.execute_input": "2020-10-25T03:27:20.084116Z",
     "iopub.status.busy": "2020-10-25T03:27:20.083524Z",
     "iopub.status.idle": "2020-10-25T03:27:20.085791Z",
     "shell.execute_reply": "2020-10-25T03:27:20.086309Z"
    },
    "papermill": {
     "duration": 0.066552,
     "end_time": "2020-10-25T03:27:20.086451",
     "exception": false,
     "start_time": "2020-10-25T03:27:20.019899",
     "status": "completed"
    },
    "pycharm": {
     "name": "#%%\n"
    },
    "tags": []
   },
   "outputs": [],
   "source": [
    "display_column_name_mapping = {\n",
    "    \"sample_date\": \"Sample\\u00A0Date\\u00A0(UTC)\",\n",
    "    \"datetime_utc\": \"Timestamp (UTC)\",\n",
    "    \"upload_date\": \"Upload Date (UTC)\",\n",
    "    \"generation_to_upload_days\": \"Generation to Upload Period in Days\",\n",
    "    \"region\": \"Backend Identifier\",\n",
    "    \"covid_cases\": \"COVID-19 Cases in Source Countries (7-day Rolling Average)\",\n",
    "    \"shared_teks_by_generation_date\": \"Shared TEKs by Generation Date\",\n",
    "    \"shared_teks_by_upload_date\": \"Shared TEKs by Upload Date\",\n",
    "    \"shared_diagnoses\": \"Shared Diagnoses (Estimation)\",\n",
    "    \"teks_per_shared_diagnosis\": \"TEKs Uploaded per Shared Diagnosis\",\n",
    "    \"shared_diagnoses_per_covid_case\": \"Usage Ratio (Fraction of Cases in Source Countries Which Shared Diagnosis)\",\n",
    "    \"shared_teks_uploaded_on_generation_date\": \"Shared TEKs Uploaded on Generation Date\",\n",
    "}"
   ]
  },
  {
   "cell_type": "code",
   "execution_count": 49,
   "metadata": {
    "execution": {
     "iopub.execute_input": "2020-10-25T03:27:20.212283Z",
     "iopub.status.busy": "2020-10-25T03:27:20.211734Z",
     "iopub.status.idle": "2020-10-25T03:27:20.214041Z",
     "shell.execute_reply": "2020-10-25T03:27:20.214558Z"
    },
    "papermill": {
     "duration": 0.067551,
     "end_time": "2020-10-25T03:27:20.214696",
     "exception": false,
     "start_time": "2020-10-25T03:27:20.147145",
     "status": "completed"
    },
    "pycharm": {
     "name": "#%%\n"
    },
    "tags": []
   },
   "outputs": [],
   "source": [
    "summary_columns = [\n",
    "    \"covid_cases\",\n",
    "    \"shared_teks_by_generation_date\",\n",
    "    \"shared_teks_by_upload_date\",\n",
    "    \"shared_teks_uploaded_on_generation_date\",\n",
    "    \"shared_diagnoses\",\n",
    "    \"teks_per_shared_diagnosis\",\n",
    "    \"shared_diagnoses_per_covid_case\",\n",
    "]"
   ]
  },
  {
   "cell_type": "markdown",
   "metadata": {
    "execution": {
     "iopub.execute_input": "2020-09-02T08:20:14.568088Z",
     "iopub.status.busy": "2020-09-02T08:20:14.567425Z",
     "iopub.status.idle": "2020-09-02T08:20:14.571422Z",
     "shell.execute_reply": "2020-09-02T08:20:14.571952Z"
    },
    "papermill": {
     "duration": 0.055462,
     "end_time": "2020-10-25T03:27:20.330846",
     "exception": false,
     "start_time": "2020-10-25T03:27:20.275384",
     "status": "completed"
    },
    "pycharm": {
     "name": "#%% md\n"
    },
    "tags": []
   },
   "source": [
    "### Daily Summary Table"
   ]
  },
  {
   "cell_type": "code",
   "execution_count": 50,
   "metadata": {
    "execution": {
     "iopub.execute_input": "2020-10-25T03:27:20.447586Z",
     "iopub.status.busy": "2020-10-25T03:27:20.447121Z",
     "iopub.status.idle": "2020-10-25T03:27:20.453754Z",
     "shell.execute_reply": "2020-10-25T03:27:20.454135Z"
    },
    "papermill": {
     "duration": 0.07064,
     "end_time": "2020-10-25T03:27:20.454262",
     "exception": false,
     "start_time": "2020-10-25T03:27:20.383622",
     "status": "completed"
    },
    "pycharm": {
     "name": "#%%\n"
    },
    "tags": []
   },
   "outputs": [
    {
     "data": {
      "text/html": [
       "<div>\n",
       "<style scoped>\n",
       "    .dataframe tbody tr th:only-of-type {\n",
       "        vertical-align: middle;\n",
       "    }\n",
       "\n",
       "    .dataframe tbody tr th {\n",
       "        vertical-align: top;\n",
       "    }\n",
       "\n",
       "    .dataframe thead th {\n",
       "        text-align: right;\n",
       "    }\n",
       "</style>\n",
       "<table border=\"1\" class=\"dataframe\">\n",
       "  <thead>\n",
       "    <tr style=\"text-align: right;\">\n",
       "      <th></th>\n",
       "      <th>COVID-19 Cases in Source Countries (7-day Rolling Average)</th>\n",
       "      <th>Shared TEKs by Generation Date</th>\n",
       "      <th>Shared TEKs by Upload Date</th>\n",
       "      <th>Shared TEKs Uploaded on Generation Date</th>\n",
       "      <th>Shared Diagnoses (Estimation)</th>\n",
       "      <th>TEKs Uploaded per Shared Diagnosis</th>\n",
       "      <th>Usage Ratio (Fraction of Cases in Source Countries Which Shared Diagnosis)</th>\n",
       "    </tr>\n",
       "    <tr>\n",
       "      <th>Sample Date (UTC)</th>\n",
       "      <th></th>\n",
       "      <th></th>\n",
       "      <th></th>\n",
       "      <th></th>\n",
       "      <th></th>\n",
       "      <th></th>\n",
       "      <th></th>\n",
       "    </tr>\n",
       "  </thead>\n",
       "  <tbody>\n",
       "    <tr>\n",
       "      <th>2020-10-25</th>\n",
       "      <td>21325</td>\n",
       "      <td>1</td>\n",
       "      <td>19</td>\n",
       "      <td>1</td>\n",
       "      <td>9</td>\n",
       "      <td>2.111111</td>\n",
       "      <td>0.000422</td>\n",
       "    </tr>\n",
       "    <tr>\n",
       "      <th>2020-10-24</th>\n",
       "      <td>18489</td>\n",
       "      <td>186</td>\n",
       "      <td>703</td>\n",
       "      <td>177</td>\n",
       "      <td>125</td>\n",
       "      <td>5.624000</td>\n",
       "      <td>0.006761</td>\n",
       "    </tr>\n",
       "    <tr>\n",
       "      <th>2020-10-23</th>\n",
       "      <td>15653</td>\n",
       "      <td>294</td>\n",
       "      <td>769</td>\n",
       "      <td>167</td>\n",
       "      <td>145</td>\n",
       "      <td>5.303448</td>\n",
       "      <td>0.009263</td>\n",
       "    </tr>\n",
       "    <tr>\n",
       "      <th>2020-10-22</th>\n",
       "      <td>14987</td>\n",
       "      <td>433</td>\n",
       "      <td>726</td>\n",
       "      <td>180</td>\n",
       "      <td>132</td>\n",
       "      <td>5.500000</td>\n",
       "      <td>0.008808</td>\n",
       "    </tr>\n",
       "    <tr>\n",
       "      <th>2020-10-21</th>\n",
       "      <td>13891</td>\n",
       "      <td>508</td>\n",
       "      <td>841</td>\n",
       "      <td>157</td>\n",
       "      <td>153</td>\n",
       "      <td>5.496732</td>\n",
       "      <td>0.011014</td>\n",
       "    </tr>\n",
       "    <tr>\n",
       "      <th>...</th>\n",
       "      <td>...</td>\n",
       "      <td>...</td>\n",
       "      <td>...</td>\n",
       "      <td>...</td>\n",
       "      <td>...</td>\n",
       "      <td>...</td>\n",
       "      <td>...</td>\n",
       "    </tr>\n",
       "    <tr>\n",
       "      <th>2020-08-07</th>\n",
       "      <td>3691</td>\n",
       "      <td>0</td>\n",
       "      <td>0</td>\n",
       "      <td>0</td>\n",
       "      <td>0</td>\n",
       "      <td>0.000000</td>\n",
       "      <td>0.000000</td>\n",
       "    </tr>\n",
       "    <tr>\n",
       "      <th>2020-08-06</th>\n",
       "      <td>3489</td>\n",
       "      <td>0</td>\n",
       "      <td>0</td>\n",
       "      <td>0</td>\n",
       "      <td>0</td>\n",
       "      <td>0.000000</td>\n",
       "      <td>0.000000</td>\n",
       "    </tr>\n",
       "    <tr>\n",
       "      <th>2020-08-05</th>\n",
       "      <td>3304</td>\n",
       "      <td>0</td>\n",
       "      <td>0</td>\n",
       "      <td>0</td>\n",
       "      <td>0</td>\n",
       "      <td>0.000000</td>\n",
       "      <td>0.000000</td>\n",
       "    </tr>\n",
       "    <tr>\n",
       "      <th>2020-08-04</th>\n",
       "      <td>3172</td>\n",
       "      <td>0</td>\n",
       "      <td>0</td>\n",
       "      <td>0</td>\n",
       "      <td>0</td>\n",
       "      <td>0.000000</td>\n",
       "      <td>0.000000</td>\n",
       "    </tr>\n",
       "    <tr>\n",
       "      <th>2020-08-03</th>\n",
       "      <td>2610</td>\n",
       "      <td>0</td>\n",
       "      <td>0</td>\n",
       "      <td>0</td>\n",
       "      <td>0</td>\n",
       "      <td>0.000000</td>\n",
       "      <td>0.000000</td>\n",
       "    </tr>\n",
       "  </tbody>\n",
       "</table>\n",
       "<p>84 rows × 7 columns</p>\n",
       "</div>"
      ],
      "text/plain": [
       "                   COVID-19 Cases in Source Countries (7-day Rolling Average)  \\\n",
       "Sample Date (UTC)                                                               \n",
       "2020-10-25                                                     21325            \n",
       "2020-10-24                                                     18489            \n",
       "2020-10-23                                                     15653            \n",
       "2020-10-22                                                     14987            \n",
       "2020-10-21                                                     13891            \n",
       "...                                                              ...            \n",
       "2020-08-07                                                      3691            \n",
       "2020-08-06                                                      3489            \n",
       "2020-08-05                                                      3304            \n",
       "2020-08-04                                                      3172            \n",
       "2020-08-03                                                      2610            \n",
       "\n",
       "                   Shared TEKs by Generation Date  Shared TEKs by Upload Date  \\\n",
       "Sample Date (UTC)                                                               \n",
       "2020-10-25                                      1                          19   \n",
       "2020-10-24                                    186                         703   \n",
       "2020-10-23                                    294                         769   \n",
       "2020-10-22                                    433                         726   \n",
       "2020-10-21                                    508                         841   \n",
       "...                                           ...                         ...   \n",
       "2020-08-07                                      0                           0   \n",
       "2020-08-06                                      0                           0   \n",
       "2020-08-05                                      0                           0   \n",
       "2020-08-04                                      0                           0   \n",
       "2020-08-03                                      0                           0   \n",
       "\n",
       "                   Shared TEKs Uploaded on Generation Date  \\\n",
       "Sample Date (UTC)                                            \n",
       "2020-10-25                                               1   \n",
       "2020-10-24                                             177   \n",
       "2020-10-23                                             167   \n",
       "2020-10-22                                             180   \n",
       "2020-10-21                                             157   \n",
       "...                                                    ...   \n",
       "2020-08-07                                               0   \n",
       "2020-08-06                                               0   \n",
       "2020-08-05                                               0   \n",
       "2020-08-04                                               0   \n",
       "2020-08-03                                               0   \n",
       "\n",
       "                   Shared Diagnoses (Estimation)  \\\n",
       "Sample Date (UTC)                                  \n",
       "2020-10-25                                     9   \n",
       "2020-10-24                                   125   \n",
       "2020-10-23                                   145   \n",
       "2020-10-22                                   132   \n",
       "2020-10-21                                   153   \n",
       "...                                          ...   \n",
       "2020-08-07                                     0   \n",
       "2020-08-06                                     0   \n",
       "2020-08-05                                     0   \n",
       "2020-08-04                                     0   \n",
       "2020-08-03                                     0   \n",
       "\n",
       "                   TEKs Uploaded per Shared Diagnosis  \\\n",
       "Sample Date (UTC)                                       \n",
       "2020-10-25                                   2.111111   \n",
       "2020-10-24                                   5.624000   \n",
       "2020-10-23                                   5.303448   \n",
       "2020-10-22                                   5.500000   \n",
       "2020-10-21                                   5.496732   \n",
       "...                                               ...   \n",
       "2020-08-07                                   0.000000   \n",
       "2020-08-06                                   0.000000   \n",
       "2020-08-05                                   0.000000   \n",
       "2020-08-04                                   0.000000   \n",
       "2020-08-03                                   0.000000   \n",
       "\n",
       "                   Usage Ratio (Fraction of Cases in Source Countries Which Shared Diagnosis)  \n",
       "Sample Date (UTC)                                                                              \n",
       "2020-10-25                                                  0.000422                           \n",
       "2020-10-24                                                  0.006761                           \n",
       "2020-10-23                                                  0.009263                           \n",
       "2020-10-22                                                  0.008808                           \n",
       "2020-10-21                                                  0.011014                           \n",
       "...                                                              ...                           \n",
       "2020-08-07                                                  0.000000                           \n",
       "2020-08-06                                                  0.000000                           \n",
       "2020-08-05                                                  0.000000                           \n",
       "2020-08-04                                                  0.000000                           \n",
       "2020-08-03                                                  0.000000                           \n",
       "\n",
       "[84 rows x 7 columns]"
      ]
     },
     "execution_count": 50,
     "metadata": {},
     "output_type": "execute_result"
    }
   ],
   "source": [
    "result_summary_df_ = result_summary_df.copy()\n",
    "result_summary_df = result_summary_df[summary_columns]\n",
    "result_summary_with_display_names_df = result_summary_df \\\n",
    "    .rename_axis(index=display_column_name_mapping) \\\n",
    "    .rename(columns=display_column_name_mapping)\n",
    "result_summary_with_display_names_df"
   ]
  },
  {
   "cell_type": "markdown",
   "metadata": {
    "execution": {
     "iopub.execute_input": "2020-09-02T08:20:14.726751Z",
     "iopub.status.busy": "2020-09-02T08:20:14.726143Z",
     "iopub.status.idle": "2020-09-02T08:20:16.115081Z",
     "shell.execute_reply": "2020-09-02T08:20:16.115565Z"
    },
    "papermill": {
     "duration": 0.053901,
     "end_time": "2020-10-25T03:27:20.559517",
     "exception": false,
     "start_time": "2020-10-25T03:27:20.505616",
     "status": "completed"
    },
    "pycharm": {
     "name": "#%% md\n"
    },
    "scrolled": false,
    "tags": []
   },
   "source": [
    "### Daily Summary Plots"
   ]
  },
  {
   "cell_type": "code",
   "execution_count": 51,
   "metadata": {
    "execution": {
     "iopub.execute_input": "2020-10-25T03:27:20.679120Z",
     "iopub.status.busy": "2020-10-25T03:27:20.678662Z",
     "iopub.status.idle": "2020-10-25T03:27:22.270498Z",
     "shell.execute_reply": "2020-10-25T03:27:22.270908Z"
    },
    "papermill": {
     "duration": 1.663005,
     "end_time": "2020-10-25T03:27:22.271059",
     "exception": false,
     "start_time": "2020-10-25T03:27:20.608054",
     "status": "completed"
    },
    "pycharm": {
     "name": "#%%\n"
    },
    "tags": []
   },
   "outputs": [
    {
     "data": {
      "image/png": "[encoded data removed]",
      "text/plain": [
       "<Figure size 1080x1584 with 7 Axes>"
      ]
     },
     "metadata": {},
     "output_type": "display_data"
    }
   ],
   "source": [
    "result_plot_summary_df = result_summary_df.head(daily_plot_days)[summary_columns] \\\n",
    "    .rename_axis(index=display_column_name_mapping) \\\n",
    "    .rename(columns=display_column_name_mapping)\n",
    "summary_ax_list = result_plot_summary_df.sort_index(ascending=True).plot.bar(\n",
    "    title=f\"Daily Summary\",\n",
    "    rot=45, subplots=True, figsize=(15, 22), legend=False)\n",
    "ax_ = summary_ax_list[-1]\n",
    "ax_.get_figure().tight_layout()\n",
    "ax_.get_figure().subplots_adjust(top=0.95)\n",
    "ax_.yaxis.set_major_formatter(matplotlib.ticker.PercentFormatter(1.0))\n",
    "_ = ax_.set_xticklabels(sorted(result_plot_summary_df.index.strftime(\"%Y-%m-%d\").tolist()))"
   ]
  },
  {
   "cell_type": "markdown",
   "metadata": {
    "collapsed": false,
    "papermill": {
     "duration": 0.063757,
     "end_time": "2020-10-25T03:27:22.400250",
     "exception": false,
     "start_time": "2020-10-25T03:27:22.336493",
     "status": "completed"
    },
    "tags": []
   },
   "source": [
    "### Daily Generation to Upload Period Table"
   ]
  },
  {
   "cell_type": "code",
   "execution_count": 52,
   "metadata": {
    "collapsed": false,
    "execution": {
     "iopub.execute_input": "2020-10-25T03:27:22.542944Z",
     "iopub.status.busy": "2020-10-25T03:27:22.542381Z",
     "iopub.status.idle": "2020-10-25T03:27:22.552062Z",
     "shell.execute_reply": "2020-10-25T03:27:22.552830Z"
    },
    "papermill": {
     "duration": 0.088035,
     "end_time": "2020-10-25T03:27:22.553061",
     "exception": false,
     "start_time": "2020-10-25T03:27:22.465026",
     "status": "completed"
    },
    "pycharm": {
     "name": "#%%\n"
    },
    "tags": []
   },
   "outputs": [
    {
     "data": {
      "text/html": [
       "<div>\n",
       "<style scoped>\n",
       "    .dataframe tbody tr th:only-of-type {\n",
       "        vertical-align: middle;\n",
       "    }\n",
       "\n",
       "    .dataframe tbody tr th {\n",
       "        vertical-align: top;\n",
       "    }\n",
       "\n",
       "    .dataframe thead th {\n",
       "        text-align: right;\n",
       "    }\n",
       "</style>\n",
       "<table border=\"1\" class=\"dataframe\">\n",
       "  <thead>\n",
       "    <tr style=\"text-align: right;\">\n",
       "      <th>Generation to Upload Period in Days</th>\n",
       "      <th>0</th>\n",
       "      <th>1</th>\n",
       "      <th>2</th>\n",
       "      <th>3</th>\n",
       "      <th>4</th>\n",
       "      <th>5</th>\n",
       "      <th>6</th>\n",
       "      <th>7</th>\n",
       "      <th>8</th>\n",
       "      <th>9</th>\n",
       "      <th>10</th>\n",
       "      <th>11</th>\n",
       "      <th>12</th>\n",
       "      <th>13</th>\n",
       "    </tr>\n",
       "    <tr>\n",
       "      <th>Upload Date (UTC)</th>\n",
       "      <th></th>\n",
       "      <th></th>\n",
       "      <th></th>\n",
       "      <th></th>\n",
       "      <th></th>\n",
       "      <th></th>\n",
       "      <th></th>\n",
       "      <th></th>\n",
       "      <th></th>\n",
       "      <th></th>\n",
       "      <th></th>\n",
       "      <th></th>\n",
       "      <th></th>\n",
       "      <th></th>\n",
       "    </tr>\n",
       "  </thead>\n",
       "  <tbody>\n",
       "    <tr>\n",
       "      <th>2020-10-25</th>\n",
       "      <td>1</td>\n",
       "      <td>9</td>\n",
       "      <td>2</td>\n",
       "      <td>2</td>\n",
       "      <td>1</td>\n",
       "      <td>1</td>\n",
       "      <td>1</td>\n",
       "      <td>0</td>\n",
       "      <td>1</td>\n",
       "      <td>1</td>\n",
       "      <td>0</td>\n",
       "      <td>0</td>\n",
       "      <td>0</td>\n",
       "      <td>0</td>\n",
       "    </tr>\n",
       "    <tr>\n",
       "      <th>2020-10-24</th>\n",
       "      <td>177</td>\n",
       "      <td>125</td>\n",
       "      <td>106</td>\n",
       "      <td>89</td>\n",
       "      <td>69</td>\n",
       "      <td>50</td>\n",
       "      <td>28</td>\n",
       "      <td>19</td>\n",
       "      <td>12</td>\n",
       "      <td>10</td>\n",
       "      <td>6</td>\n",
       "      <td>5</td>\n",
       "      <td>5</td>\n",
       "      <td>2</td>\n",
       "    </tr>\n",
       "    <tr>\n",
       "      <th>2020-10-23</th>\n",
       "      <td>167</td>\n",
       "      <td>145</td>\n",
       "      <td>129</td>\n",
       "      <td>106</td>\n",
       "      <td>85</td>\n",
       "      <td>58</td>\n",
       "      <td>29</td>\n",
       "      <td>19</td>\n",
       "      <td>14</td>\n",
       "      <td>9</td>\n",
       "      <td>3</td>\n",
       "      <td>3</td>\n",
       "      <td>1</td>\n",
       "      <td>1</td>\n",
       "    </tr>\n",
       "    <tr>\n",
       "      <th>2020-10-22</th>\n",
       "      <td>180</td>\n",
       "      <td>132</td>\n",
       "      <td>114</td>\n",
       "      <td>100</td>\n",
       "      <td>76</td>\n",
       "      <td>51</td>\n",
       "      <td>26</td>\n",
       "      <td>18</td>\n",
       "      <td>10</td>\n",
       "      <td>6</td>\n",
       "      <td>4</td>\n",
       "      <td>4</td>\n",
       "      <td>3</td>\n",
       "      <td>2</td>\n",
       "    </tr>\n",
       "    <tr>\n",
       "      <th>2020-10-21</th>\n",
       "      <td>157</td>\n",
       "      <td>153</td>\n",
       "      <td>136</td>\n",
       "      <td>120</td>\n",
       "      <td>97</td>\n",
       "      <td>62</td>\n",
       "      <td>34</td>\n",
       "      <td>28</td>\n",
       "      <td>20</td>\n",
       "      <td>15</td>\n",
       "      <td>9</td>\n",
       "      <td>4</td>\n",
       "      <td>3</td>\n",
       "      <td>3</td>\n",
       "    </tr>\n",
       "    <tr>\n",
       "      <th>2020-10-20</th>\n",
       "      <td>149</td>\n",
       "      <td>135</td>\n",
       "      <td>119</td>\n",
       "      <td>106</td>\n",
       "      <td>79</td>\n",
       "      <td>59</td>\n",
       "      <td>47</td>\n",
       "      <td>25</td>\n",
       "      <td>21</td>\n",
       "      <td>13</td>\n",
       "      <td>8</td>\n",
       "      <td>6</td>\n",
       "      <td>3</td>\n",
       "      <td>2</td>\n",
       "    </tr>\n",
       "    <tr>\n",
       "      <th>2020-10-19</th>\n",
       "      <td>142</td>\n",
       "      <td>123</td>\n",
       "      <td>118</td>\n",
       "      <td>105</td>\n",
       "      <td>86</td>\n",
       "      <td>72</td>\n",
       "      <td>45</td>\n",
       "      <td>33</td>\n",
       "      <td>22</td>\n",
       "      <td>17</td>\n",
       "      <td>12</td>\n",
       "      <td>9</td>\n",
       "      <td>4</td>\n",
       "      <td>3</td>\n",
       "    </tr>\n",
       "    <tr>\n",
       "      <th>2020-10-18</th>\n",
       "      <td>146</td>\n",
       "      <td>132</td>\n",
       "      <td>114</td>\n",
       "      <td>96</td>\n",
       "      <td>87</td>\n",
       "      <td>54</td>\n",
       "      <td>33</td>\n",
       "      <td>18</td>\n",
       "      <td>12</td>\n",
       "      <td>10</td>\n",
       "      <td>9</td>\n",
       "      <td>7</td>\n",
       "      <td>5</td>\n",
       "      <td>3</td>\n",
       "    </tr>\n",
       "    <tr>\n",
       "      <th>2020-10-17</th>\n",
       "      <td>174</td>\n",
       "      <td>138</td>\n",
       "      <td>118</td>\n",
       "      <td>108</td>\n",
       "      <td>84</td>\n",
       "      <td>54</td>\n",
       "      <td>32</td>\n",
       "      <td>19</td>\n",
       "      <td>15</td>\n",
       "      <td>11</td>\n",
       "      <td>7</td>\n",
       "      <td>4</td>\n",
       "      <td>2</td>\n",
       "      <td>1</td>\n",
       "    </tr>\n",
       "    <tr>\n",
       "      <th>2020-10-16</th>\n",
       "      <td>149</td>\n",
       "      <td>141</td>\n",
       "      <td>125</td>\n",
       "      <td>107</td>\n",
       "      <td>84</td>\n",
       "      <td>53</td>\n",
       "      <td>32</td>\n",
       "      <td>24</td>\n",
       "      <td>20</td>\n",
       "      <td>15</td>\n",
       "      <td>7</td>\n",
       "      <td>5</td>\n",
       "      <td>3</td>\n",
       "      <td>4</td>\n",
       "    </tr>\n",
       "    <tr>\n",
       "      <th>2020-10-15</th>\n",
       "      <td>151</td>\n",
       "      <td>175</td>\n",
       "      <td>104</td>\n",
       "      <td>86</td>\n",
       "      <td>58</td>\n",
       "      <td>38</td>\n",
       "      <td>23</td>\n",
       "      <td>14</td>\n",
       "      <td>8</td>\n",
       "      <td>6</td>\n",
       "      <td>4</td>\n",
       "      <td>2</td>\n",
       "      <td>1</td>\n",
       "      <td>1</td>\n",
       "    </tr>\n",
       "    <tr>\n",
       "      <th>2020-10-14</th>\n",
       "      <td>1</td>\n",
       "      <td>133</td>\n",
       "      <td>80</td>\n",
       "      <td>69</td>\n",
       "      <td>54</td>\n",
       "      <td>38</td>\n",
       "      <td>30</td>\n",
       "      <td>24</td>\n",
       "      <td>14</td>\n",
       "      <td>9</td>\n",
       "      <td>6</td>\n",
       "      <td>3</td>\n",
       "      <td>1</td>\n",
       "      <td>1</td>\n",
       "    </tr>\n",
       "    <tr>\n",
       "      <th>2020-10-13</th>\n",
       "      <td>1</td>\n",
       "      <td>112</td>\n",
       "      <td>61</td>\n",
       "      <td>50</td>\n",
       "      <td>37</td>\n",
       "      <td>32</td>\n",
       "      <td>19</td>\n",
       "      <td>10</td>\n",
       "      <td>4</td>\n",
       "      <td>4</td>\n",
       "      <td>2</td>\n",
       "      <td>1</td>\n",
       "      <td>1</td>\n",
       "      <td>0</td>\n",
       "    </tr>\n",
       "    <tr>\n",
       "      <th>2020-10-12</th>\n",
       "      <td>2</td>\n",
       "      <td>136</td>\n",
       "      <td>53</td>\n",
       "      <td>47</td>\n",
       "      <td>33</td>\n",
       "      <td>19</td>\n",
       "      <td>14</td>\n",
       "      <td>12</td>\n",
       "      <td>5</td>\n",
       "      <td>2</td>\n",
       "      <td>2</td>\n",
       "      <td>1</td>\n",
       "      <td>0</td>\n",
       "      <td>0</td>\n",
       "    </tr>\n",
       "  </tbody>\n",
       "</table>\n",
       "</div>"
      ],
      "text/plain": [
       "Generation to Upload Period in Days   0    1    2    3   4   5   6   7   8   \\\n",
       "Upload Date (UTC)                                                             \n",
       "2020-10-25                             1    9    2    2   1   1   1   0   1   \n",
       "2020-10-24                           177  125  106   89  69  50  28  19  12   \n",
       "2020-10-23                           167  145  129  106  85  58  29  19  14   \n",
       "2020-10-22                           180  132  114  100  76  51  26  18  10   \n",
       "2020-10-21                           157  153  136  120  97  62  34  28  20   \n",
       "2020-10-20                           149  135  119  106  79  59  47  25  21   \n",
       "2020-10-19                           142  123  118  105  86  72  45  33  22   \n",
       "2020-10-18                           146  132  114   96  87  54  33  18  12   \n",
       "2020-10-17                           174  138  118  108  84  54  32  19  15   \n",
       "2020-10-16                           149  141  125  107  84  53  32  24  20   \n",
       "2020-10-15                           151  175  104   86  58  38  23  14   8   \n",
       "2020-10-14                             1  133   80   69  54  38  30  24  14   \n",
       "2020-10-13                             1  112   61   50  37  32  19  10   4   \n",
       "2020-10-12                             2  136   53   47  33  19  14  12   5   \n",
       "\n",
       "Generation to Upload Period in Days  9   10  11  12  13  \n",
       "Upload Date (UTC)                                        \n",
       "2020-10-25                            1   0   0   0   0  \n",
       "2020-10-24                           10   6   5   5   2  \n",
       "2020-10-23                            9   3   3   1   1  \n",
       "2020-10-22                            6   4   4   3   2  \n",
       "2020-10-21                           15   9   4   3   3  \n",
       "2020-10-20                           13   8   6   3   2  \n",
       "2020-10-19                           17  12   9   4   3  \n",
       "2020-10-18                           10   9   7   5   3  \n",
       "2020-10-17                           11   7   4   2   1  \n",
       "2020-10-16                           15   7   5   3   4  \n",
       "2020-10-15                            6   4   2   1   1  \n",
       "2020-10-14                            9   6   3   1   1  \n",
       "2020-10-13                            4   2   1   1   0  \n",
       "2020-10-12                            2   2   1   0   0  "
      ]
     },
     "execution_count": 52,
     "metadata": {},
     "output_type": "execute_result"
    }
   ],
   "source": [
    "display_generation_to_upload_period_pivot_df = \\\n",
    "    generation_to_upload_period_pivot_df \\\n",
    "        .head(backend_generation_days)\n",
    "display_generation_to_upload_period_pivot_df \\\n",
    "    .head(backend_generation_days) \\\n",
    "    .rename_axis(columns=display_column_name_mapping) \\\n",
    "    .rename_axis(index=display_column_name_mapping)"
   ]
  },
  {
   "cell_type": "code",
   "execution_count": 53,
   "metadata": {
    "collapsed": false,
    "execution": {
     "iopub.execute_input": "2020-10-25T03:27:22.698902Z",
     "iopub.status.busy": "2020-10-25T03:27:22.698200Z",
     "iopub.status.idle": "2020-10-25T03:27:23.508541Z",
     "shell.execute_reply": "2020-10-25T03:27:23.509031Z"
    },
    "papermill": {
     "duration": 0.891783,
     "end_time": "2020-10-25T03:27:23.509180",
     "exception": false,
     "start_time": "2020-10-25T03:27:22.617397",
     "status": "completed"
    },
    "pycharm": {
     "name": "#%%\n"
    },
    "tags": []
   },
   "outputs": [
    {
     "data": {
      "image/png": "[encoded data removed]",
      "text/plain": [
       "<Figure size 720x576 with 2 Axes>"
      ]
     },
     "metadata": {},
     "output_type": "display_data"
    }
   ],
   "source": [
    "import matplotlib.pyplot as plt\n",
    "\n",
    "fig, generation_to_upload_period_pivot_table_ax = plt.subplots(\n",
    "    figsize=(10, 1 + 0.5 * len(display_generation_to_upload_period_pivot_df)))\n",
    "generation_to_upload_period_pivot_table_ax.set_title(\n",
    "    \"Shared TEKs Generation to Upload Period Table\")\n",
    "sns.heatmap(\n",
    "    data=display_generation_to_upload_period_pivot_df\n",
    "        .rename_axis(columns=display_column_name_mapping)\n",
    "        .rename_axis(index=display_column_name_mapping),\n",
    "    fmt=\".0f\",\n",
    "    annot=True,\n",
    "    ax=generation_to_upload_period_pivot_table_ax)\n",
    "generation_to_upload_period_pivot_table_ax.get_figure().tight_layout()"
   ]
  },
  {
   "cell_type": "markdown",
   "metadata": {
    "execution": {
     "iopub.execute_input": "2020-09-02T08:20:16.278300Z",
     "iopub.status.busy": "2020-09-02T08:20:16.277679Z",
     "iopub.status.idle": "2020-09-02T08:20:16.821909Z",
     "shell.execute_reply": "2020-09-02T08:20:16.822577Z"
    },
    "papermill": {
     "duration": 0.068152,
     "end_time": "2020-10-25T03:27:23.648348",
     "exception": false,
     "start_time": "2020-10-25T03:27:23.580196",
     "status": "completed"
    },
    "pycharm": {
     "name": "#%% md\n"
    },
    "tags": []
   },
   "source": [
    "### Hourly Summary Plots "
   ]
  },
  {
   "cell_type": "code",
   "execution_count": 54,
   "metadata": {
    "execution": {
     "iopub.execute_input": "2020-10-25T03:27:23.796928Z",
     "iopub.status.busy": "2020-10-25T03:27:23.796473Z",
     "iopub.status.idle": "2020-10-25T03:27:24.474992Z",
     "shell.execute_reply": "2020-10-25T03:27:24.474587Z"
    },
    "papermill": {
     "duration": 0.761351,
     "end_time": "2020-10-25T03:27:24.475099",
     "exception": false,
     "start_time": "2020-10-25T03:27:23.713748",
     "status": "completed"
    },
    "pycharm": {
     "name": "#%%\n"
    },
    "tags": []
   },
   "outputs": [
    {
     "data": {
      "image/png": "[encoded data removed]",
      "text/plain": [
       "<Figure size 1080x432 with 2 Axes>"
      ]
     },
     "metadata": {},
     "output_type": "display_data"
    }
   ],
   "source": [
    "hourly_summary_ax_list = hourly_summary_df \\\n",
    "    .rename_axis(index=display_column_name_mapping) \\\n",
    "    .rename(columns=display_column_name_mapping) \\\n",
    "    .plot.bar(\n",
    "        title=f\"Last 24h Summary\",\n",
    "        rot=45, subplots=True, legend=False)\n",
    "ax_ = hourly_summary_ax_list[-1]\n",
    "ax_.get_figure().tight_layout()\n",
    "ax_.get_figure().subplots_adjust(top=0.9)\n",
    "_ = ax_.set_xticklabels(sorted(hourly_summary_df.index.strftime(\"%Y-%m-%d@%H\").tolist()))"
   ]
  },
  {
   "cell_type": "markdown",
   "metadata": {
    "execution": {
     "iopub.execute_input": "2020-09-02T08:20:16.981187Z",
     "iopub.status.busy": "2020-09-02T08:20:16.980584Z",
     "iopub.status.idle": "2020-09-02T08:20:20.068070Z",
     "shell.execute_reply": "2020-09-02T08:20:20.068598Z"
    },
    "papermill": {
     "duration": 0.059377,
     "end_time": "2020-10-25T03:27:24.600600",
     "exception": false,
     "start_time": "2020-10-25T03:27:24.541223",
     "status": "completed"
    },
    "pycharm": {
     "name": "#%% md\n"
    },
    "tags": []
   },
   "source": [
    "### Publish Results"
   ]
  },
  {
   "cell_type": "code",
   "execution_count": 55,
   "metadata": {
    "collapsed": false,
    "execution": {
     "iopub.execute_input": "2020-10-25T03:27:24.734711Z",
     "iopub.status.busy": "2020-10-25T03:27:24.733063Z",
     "iopub.status.idle": "2020-10-25T03:27:24.735904Z",
     "shell.execute_reply": "2020-10-25T03:27:24.736341Z"
    },
    "papermill": {
     "duration": 0.076471,
     "end_time": "2020-10-25T03:27:24.736639",
     "exception": false,
     "start_time": "2020-10-25T03:27:24.660168",
     "status": "completed"
    },
    "pycharm": {
     "name": "#%%\n"
    },
    "tags": []
   },
   "outputs": [],
   "source": [
    "def get_temporary_image_path() -> str:\n",
    "    return os.path.join(tempfile.gettempdir(), str(uuid.uuid4()) + \".png\")\n",
    "\n",
    "def save_temporary_plot_image(ax):\n",
    "    if isinstance(ax, np.ndarray):\n",
    "        ax = ax[0]\n",
    "    media_path = get_temporary_image_path()\n",
    "    ax.get_figure().savefig(media_path)\n",
    "    return media_path\n",
    "\n",
    "def save_temporary_dataframe_image(df):\n",
    "    import dataframe_image as dfi\n",
    "    media_path = get_temporary_image_path()\n",
    "    dfi.export(df, media_path)\n",
    "    return media_path"
   ]
  },
  {
   "cell_type": "code",
   "execution_count": 56,
   "metadata": {
    "collapsed": false,
    "execution": {
     "iopub.execute_input": "2020-10-25T03:27:24.917540Z",
     "iopub.status.busy": "2020-10-25T03:27:24.898797Z",
     "iopub.status.idle": "2020-10-25T03:27:24.919804Z",
     "shell.execute_reply": "2020-10-25T03:27:24.919284Z"
    },
    "papermill": {
     "duration": 0.097786,
     "end_time": "2020-10-25T03:27:24.919924",
     "exception": false,
     "start_time": "2020-10-25T03:27:24.822138",
     "status": "completed"
    },
    "pycharm": {
     "name": "#%%\n"
    },
    "tags": []
   },
   "outputs": [],
   "source": [
    "github_repository = os.environ.get(\"GITHUB_REPOSITORY\")\n",
    "if github_repository is None:\n",
    "    github_repository = \"pvieito/Radar-STATS\"\n",
    "\n",
    "github_project_base_url = \"https://github.com/\" + github_repository\n",
    "\n",
    "display_formatters = {\n",
    "    display_column_name_mapping[\"teks_per_shared_diagnosis\"]: lambda x: f\"{x:.2f}\",\n",
    "    display_column_name_mapping[\"shared_diagnoses_per_covid_case\"]: lambda x: f\"{x:.2%}\",\n",
    "}\n",
    "daily_summary_table_html = result_summary_with_display_names_df \\\n",
    "    .head(daily_plot_days) \\\n",
    "    .rename_axis(index=display_column_name_mapping) \\\n",
    "    .rename(columns=display_column_name_mapping) \\\n",
    "    .to_html(formatters=display_formatters)\n",
    "multi_backend_summary_table_html = multi_backend_summary_df \\\n",
    "    .head(daily_plot_days) \\\n",
    "    .rename_axis(columns=display_column_name_mapping) \\\n",
    "    .rename(columns=display_column_name_mapping) \\\n",
    "    .rename_axis(index=display_column_name_mapping) \\\n",
    "    .to_html(formatters=display_formatters)\n",
    "\n",
    "extraction_date_result_summary_df = \\\n",
    "    result_summary_df[result_summary_df.index == extraction_date]\n",
    "extraction_date_result_hourly_summary_df = \\\n",
    "    hourly_summary_df[hourly_summary_df.extraction_date_with_hour == extraction_date_with_hour]\n",
    "\n",
    "covid_cases = \\\n",
    "    extraction_date_result_summary_df.covid_cases.sum()\n",
    "shared_teks_by_generation_date = \\\n",
    "    extraction_date_result_summary_df.shared_teks_by_generation_date.sum()\n",
    "shared_teks_by_upload_date = \\\n",
    "    extraction_date_result_summary_df.shared_teks_by_upload_date.sum()\n",
    "shared_diagnoses = \\\n",
    "    extraction_date_result_summary_df.shared_diagnoses.sum()\n",
    "teks_per_shared_diagnosis = \\\n",
    "    extraction_date_result_summary_df.teks_per_shared_diagnosis.sum()\n",
    "shared_diagnoses_per_covid_case = \\\n",
    "    extraction_date_result_summary_df.shared_diagnoses_per_covid_case.sum()\n",
    "\n",
    "shared_teks_by_upload_date_last_hour = \\\n",
    "    extraction_date_result_hourly_summary_df.shared_teks_by_upload_date.sum().astype(int)\n",
    "shared_diagnoses_last_hour = \\\n",
    "    extraction_date_result_hourly_summary_df.shared_diagnoses.sum().astype(int)\n",
    "\n",
    "display_source_regions = \", \".join(report_source_regions)\n",
    "\n",
    "display_brief_source_regions_limit = 2\n",
    "if len(report_source_regions) <= display_brief_source_regions_limit:\n",
    "    display_brief_source_regions = display_source_regions\n",
    "else:\n",
    "    prefix_countries = \", \".join(report_source_regions[:display_brief_source_regions_limit])\n",
    "    display_brief_source_regions = f\"{len(report_source_regions)} ({prefix_countries}…)\""
   ]
  },
  {
   "cell_type": "code",
   "execution_count": 57,
   "metadata": {
    "execution": {
     "iopub.execute_input": "2020-10-25T03:27:25.054679Z",
     "iopub.status.busy": "2020-10-25T03:27:25.054230Z",
     "iopub.status.idle": "2020-10-25T03:27:31.839907Z",
     "shell.execute_reply": "2020-10-25T03:27:31.840353Z"
    },
    "papermill": {
     "duration": 6.856924,
     "end_time": "2020-10-25T03:27:31.840523",
     "exception": false,
     "start_time": "2020-10-25T03:27:24.983599",
     "status": "completed"
    },
    "pycharm": {
     "name": "#%%\n"
    },
    "tags": []
   },
   "outputs": [],
   "source": [
    "summary_plots_image_path = save_temporary_plot_image(\n",
    "    ax=summary_ax_list)\n",
    "summary_table_image_path = save_temporary_dataframe_image(\n",
    "    df=result_summary_with_display_names_df)\n",
    "hourly_summary_plots_image_path = save_temporary_plot_image(\n",
    "    ax=hourly_summary_ax_list)\n",
    "multi_backend_summary_table_image_path = save_temporary_dataframe_image(\n",
    "    df=multi_backend_summary_df)\n",
    "generation_to_upload_period_pivot_table_image_path = save_temporary_plot_image(\n",
    "    ax=generation_to_upload_period_pivot_table_ax)"
   ]
  },
  {
   "cell_type": "markdown",
   "metadata": {
    "execution": {
     "iopub.execute_input": "2020-09-02T08:20:20.895901Z",
     "iopub.status.busy": "2020-09-02T08:20:20.895301Z",
     "iopub.status.idle": "2020-09-02T08:20:20.942286Z",
     "shell.execute_reply": "2020-09-02T08:20:20.942834Z"
    },
    "papermill": {
     "duration": 0.058626,
     "end_time": "2020-10-25T03:27:31.962064",
     "exception": false,
     "start_time": "2020-10-25T03:27:31.903438",
     "status": "completed"
    },
    "pycharm": {
     "name": "#%% md\n"
    },
    "tags": []
   },
   "source": [
    "### Save Results"
   ]
  },
  {
   "cell_type": "code",
   "execution_count": 58,
   "metadata": {
    "collapsed": false,
    "execution": {
     "iopub.execute_input": "2020-10-25T03:27:32.092972Z",
     "iopub.status.busy": "2020-10-25T03:27:32.092426Z",
     "iopub.status.idle": "2020-10-25T03:27:32.116324Z",
     "shell.execute_reply": "2020-10-25T03:27:32.115874Z"
    },
    "papermill": {
     "duration": 0.091073,
     "end_time": "2020-10-25T03:27:32.116454",
     "exception": false,
     "start_time": "2020-10-25T03:27:32.025381",
     "status": "completed"
    },
    "pycharm": {
     "name": "#%%\n"
    },
    "tags": []
   },
   "outputs": [],
   "source": [
    "report_resources_path_prefix = \"Data/Resources/Current/RadarCOVID-Report-\"\n",
    "result_summary_df.to_csv(\n",
    "    report_resources_path_prefix + \"Summary-Table.csv\")\n",
    "result_summary_df.to_html(\n",
    "    report_resources_path_prefix + \"Summary-Table.html\")\n",
    "hourly_summary_df.to_csv(\n",
    "    report_resources_path_prefix + \"Hourly-Summary-Table.csv\")\n",
    "multi_backend_summary_df.to_csv(\n",
    "    report_resources_path_prefix + \"Multi-Backend-Summary-Table.csv\")\n",
    "generation_to_upload_period_pivot_df.to_csv(\n",
    "    report_resources_path_prefix + \"Generation-Upload-Period-Table.csv\")\n",
    "_ = shutil.copyfile(\n",
    "    summary_plots_image_path,\n",
    "    report_resources_path_prefix + \"Summary-Plots.png\")\n",
    "_ = shutil.copyfile(\n",
    "    summary_table_image_path,\n",
    "    report_resources_path_prefix + \"Summary-Table.png\")\n",
    "_ = shutil.copyfile(\n",
    "    hourly_summary_plots_image_path,\n",
    "    report_resources_path_prefix + \"Hourly-Summary-Plots.png\")\n",
    "_ = shutil.copyfile(\n",
    "    multi_backend_summary_table_image_path,\n",
    "    report_resources_path_prefix + \"Multi-Backend-Summary-Table.png\")\n",
    "_ = shutil.copyfile(\n",
    "    generation_to_upload_period_pivot_table_image_path,\n",
    "    report_resources_path_prefix + \"Generation-Upload-Period-Table.png\")"
   ]
  },
  {
   "cell_type": "markdown",
   "metadata": {
    "collapsed": false,
    "papermill": {
     "duration": 0.05893,
     "end_time": "2020-10-25T03:27:32.232287",
     "exception": false,
     "start_time": "2020-10-25T03:27:32.173357",
     "status": "completed"
    },
    "pycharm": {
     "name": "#%% md\n"
    },
    "tags": []
   },
   "source": [
    "### Publish Results as JSON"
   ]
  },
  {
   "cell_type": "code",
   "execution_count": 59,
   "metadata": {
    "collapsed": false,
    "execution": {
     "iopub.execute_input": "2020-10-25T03:27:32.366247Z",
     "iopub.status.busy": "2020-10-25T03:27:32.365588Z",
     "iopub.status.idle": "2020-10-25T03:27:32.370321Z",
     "shell.execute_reply": "2020-10-25T03:27:32.369958Z"
    },
    "papermill": {
     "duration": 0.078096,
     "end_time": "2020-10-25T03:27:32.370422",
     "exception": false,
     "start_time": "2020-10-25T03:27:32.292326",
     "status": "completed"
    },
    "pycharm": {
     "name": "#%%\n"
    },
    "tags": []
   },
   "outputs": [],
   "source": [
    "summary_results_api_df = result_summary_df.reset_index()\n",
    "summary_results_api_df[\"sample_date_string\"] = \\\n",
    "    summary_results_api_df[\"sample_date\"].dt.strftime(\"%Y-%m-%d\")\n",
    "\n",
    "summary_results = dict(\n",
    "    source_regions=report_source_regions,\n",
    "    extraction_datetime=extraction_datetime,\n",
    "    extraction_date=extraction_date,\n",
    "    extraction_date_with_hour=extraction_date_with_hour,\n",
    "    last_hour=dict(\n",
    "        shared_teks_by_upload_date=shared_teks_by_upload_date_last_hour,\n",
    "        shared_diagnoses=shared_diagnoses_last_hour,\n",
    "    ),\n",
    "    today=dict(\n",
    "        covid_cases=covid_cases,\n",
    "        shared_teks_by_generation_date=shared_teks_by_generation_date,\n",
    "        shared_teks_by_upload_date=shared_teks_by_upload_date,\n",
    "        shared_diagnoses=shared_diagnoses,\n",
    "        teks_per_shared_diagnosis=teks_per_shared_diagnosis,\n",
    "        shared_diagnoses_per_covid_case=shared_diagnoses_per_covid_case,\n",
    "    ),\n",
    "    last_7_days=last_7_days_summary,\n",
    "    daily_results=summary_results_api_df.to_dict(orient=\"records\"))\n",
    "summary_results = \\\n",
    "    json.loads(pd.Series([summary_results]).to_json(orient=\"records\"))[0]\n",
    "\n",
    "with open(report_resources_path_prefix + \"Summary-Results.json\", \"w\") as f:\n",
    "    json.dump(summary_results, f, indent=4)"
   ]
  },
  {
   "cell_type": "markdown",
   "metadata": {
    "collapsed": false,
    "papermill": {
     "duration": 0.056196,
     "end_time": "2020-10-25T03:27:32.481387",
     "exception": false,
     "start_time": "2020-10-25T03:27:32.425191",
     "status": "completed"
    },
    "pycharm": {
     "name": "#%% md\n"
    },
    "tags": []
   },
   "source": [
    "### Publish on README"
   ]
  },
  {
   "cell_type": "code",
   "execution_count": 60,
   "metadata": {
    "collapsed": false,
    "execution": {
     "iopub.execute_input": "2020-10-25T03:27:32.601309Z",
     "iopub.status.busy": "2020-10-25T03:27:32.600407Z",
     "iopub.status.idle": "2020-10-25T03:27:32.603642Z",
     "shell.execute_reply": "2020-10-25T03:27:32.603256Z"
    },
    "papermill": {
     "duration": 0.063715,
     "end_time": "2020-10-25T03:27:32.603765",
     "exception": false,
     "start_time": "2020-10-25T03:27:32.540050",
     "status": "completed"
    },
    "pycharm": {
     "name": "#%%\n"
    },
    "tags": []
   },
   "outputs": [],
   "source": [
    "with open(\"Data/Templates/README.md\", \"r\") as f:\n",
    "    readme_contents = f.read()\n",
    "\n",
    "readme_contents = readme_contents.format(\n",
    "    extraction_date_with_hour=extraction_date_with_hour,\n",
    "    github_project_base_url=github_project_base_url,\n",
    "    daily_summary_table_html=daily_summary_table_html,\n",
    "    multi_backend_summary_table_html=multi_backend_summary_table_html,\n",
    "    display_source_regions=display_source_regions)\n",
    "\n",
    "with open(\"README.md\", \"w\") as f:\n",
    "    f.write(readme_contents)"
   ]
  },
  {
   "cell_type": "markdown",
   "metadata": {
    "collapsed": false,
    "papermill": {
     "duration": 0.065502,
     "end_time": "2020-10-25T03:27:32.727149",
     "exception": false,
     "start_time": "2020-10-25T03:27:32.661647",
     "status": "completed"
    },
    "pycharm": {
     "name": "#%% md\n"
    },
    "tags": []
   },
   "source": [
    "### Publish on Twitter"
   ]
  },
  {
   "cell_type": "code",
   "execution_count": 61,
   "metadata": {
    "collapsed": false,
    "execution": {
     "iopub.execute_input": "2020-10-25T03:27:32.864875Z",
     "iopub.status.busy": "2020-10-25T03:27:32.864319Z",
     "iopub.status.idle": "2020-10-25T03:27:41.348033Z",
     "shell.execute_reply": "2020-10-25T03:27:41.347126Z"
    },
    "papermill": {
     "duration": 8.557108,
     "end_time": "2020-10-25T03:27:41.348153",
     "exception": false,
     "start_time": "2020-10-25T03:27:32.791045",
     "status": "completed"
    },
    "pycharm": {
     "name": "#%%\n"
    },
    "tags": []
   },
   "outputs": [],
   "source": [
    "enable_share_to_twitter = os.environ.get(\"RADARCOVID_REPORT__ENABLE_PUBLISH_ON_TWITTER\")\n",
    "github_event_name = os.environ.get(\"GITHUB_EVENT_NAME\")\n",
    "\n",
    "if enable_share_to_twitter and github_event_name == \"schedule\":\n",
    "    import tweepy\n",
    "\n",
    "    twitter_api_auth_keys = os.environ[\"RADARCOVID_REPORT__TWITTER_API_AUTH_KEYS\"]\n",
    "    twitter_api_auth_keys = twitter_api_auth_keys.split(\":\")\n",
    "    auth = tweepy.OAuthHandler(twitter_api_auth_keys[0], twitter_api_auth_keys[1])\n",
    "    auth.set_access_token(twitter_api_auth_keys[2], twitter_api_auth_keys[3])\n",
    "\n",
    "    api = tweepy.API(auth)\n",
    "\n",
    "    summary_plots_media = api.media_upload(summary_plots_image_path)\n",
    "    summary_table_media = api.media_upload(summary_table_image_path)\n",
    "    generation_to_upload_period_pivot_table_image_media = api.media_upload(generation_to_upload_period_pivot_table_image_path)\n",
    "    media_ids = [\n",
    "        summary_plots_media.media_id,\n",
    "        summary_table_media.media_id,\n",
    "        generation_to_upload_period_pivot_table_image_media.media_id,\n",
    "    ]\n",
    "\n",
    "    if are_today_results_partial:\n",
    "        today_addendum = \" (Partial)\"\n",
    "    else:\n",
    "        today_addendum = \"\"\n",
    "\n",
    "    status = textwrap.dedent(f\"\"\"\n",
    "        #RadarCOVID – {extraction_date_with_hour}\n",
    "\n",
    "        Countries: {display_brief_source_regions}\n",
    "\n",
    "        Today{today_addendum}:\n",
    "        - Uploaded TEKs: {shared_teks_by_upload_date:.0f} ({shared_teks_by_upload_date_last_hour:+d} last hour)\n",
    "        - Shared Diagnoses: ≤{shared_diagnoses:.0f} ({shared_diagnoses_last_hour:+d} last hour)\n",
    "        - Usage Ratio: ≤{shared_diagnoses_per_covid_case:.2%}\n",
    "\n",
    "        Last 7 Days:\n",
    "        - Shared Diagnoses: ≤{last_7_days_summary[\"shared_diagnoses\"]:.0f}\n",
    "        - Usage Ratio: ≤{last_7_days_summary[\"shared_diagnoses_per_covid_case\"]:.2%}\n",
    "\n",
    "        Info: {github_project_base_url}#documentation\n",
    "        \"\"\")\n",
    "    status = status.encode(encoding=\"utf-8\")\n",
    "    api.update_status(status=status, media_ids=media_ids)"
   ]
  },
  {
   "cell_type": "code",
   "execution_count": null,
   "metadata": {
    "collapsed": false,
    "papermill": {
     "duration": 0.053345,
     "end_time": "2020-10-25T03:27:41.455043",
     "exception": false,
     "start_time": "2020-10-25T03:27:41.401698",
     "status": "completed"
    },
    "pycharm": {
     "name": "#%%\n"
    },
    "tags": []
   },
   "outputs": [],
   "source": []
  }
 ],
 "metadata": {
  "kernelspec": {
   "display_name": "Python 3",
   "language": "python",
   "name": "python3"
  },
  "language_info": {
   "codemirror_mode": {
    "name": "ipython",
    "version": 3
   },
   "file_extension": ".py",
   "mimetype": "text/x-python",
   "name": "python",
   "nbconvert_exporter": "python",
   "pygments_lexer": "ipython3",
   "version": "3.8.6"
  },
  "papermill": {
   "duration": 221.088342,
   "end_time": "2020-10-25T03:27:42.321022",
   "environment_variables": {},
   "exception": null,
   "input_path": "Notebooks/RadarCOVID-Report/Source/RadarCOVID-Report.ipynb",
   "output_path": "RadarCOVID-Report.ipynb",
   "parameters": {},
   "start_time": "2020-10-25T03:24:01.232680",
   "version": "2.1.3"
  }
 },
 "nbformat": 4,
 "nbformat_minor": 1
}