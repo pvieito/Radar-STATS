{
 "cells": [
  {
   "cell_type": "markdown",
   "metadata": {
    "papermill": {
     "duration": 0.039814,
     "end_time": "2020-10-22T17:23:10.091885",
     "exception": false,
     "start_time": "2020-10-22T17:23:10.052071",
     "status": "completed"
    },
    "pycharm": {
     "name": "#%% md\n"
    },
    "tags": []
   },
   "source": [
    "# RadarCOVID-Report"
   ]
  },
  {
   "cell_type": "markdown",
   "metadata": {
    "collapsed": true,
    "papermill": {
     "duration": 0.037972,
     "end_time": "2020-10-22T17:23:10.167832",
     "exception": false,
     "start_time": "2020-10-22T17:23:10.129860",
     "status": "completed"
    },
    "pycharm": {
     "name": "#%% md\n"
    },
    "tags": []
   },
   "source": [
    "## Data Extraction"
   ]
  },
  {
   "cell_type": "code",
   "execution_count": 1,
   "metadata": {
    "execution": {
     "iopub.execute_input": "2020-10-22T17:23:10.249857Z",
     "iopub.status.busy": "2020-10-22T17:23:10.249298Z",
     "iopub.status.idle": "2020-10-22T17:23:13.076893Z",
     "shell.execute_reply": "2020-10-22T17:23:13.077346Z"
    },
    "papermill": {
     "duration": 2.871487,
     "end_time": "2020-10-22T17:23:13.077643",
     "exception": false,
     "start_time": "2020-10-22T17:23:10.206156",
     "status": "completed"
    },
    "pycharm": {
     "name": "#%%\n"
    },
    "tags": []
   },
   "outputs": [],
   "source": [
    "import datetime\n",
    "import json\n",
    "import logging\n",
    "import os\n",
    "import shutil\n",
    "import tempfile\n",
    "import textwrap\n",
    "import uuid\n",
    "\n",
    "import matplotlib.ticker\n",
    "import numpy as np\n",
    "import pandas as pd\n",
    "import seaborn as sns\n",
    "\n",
    "%matplotlib inline"
   ]
  },
  {
   "cell_type": "code",
   "execution_count": 2,
   "metadata": {
    "collapsed": false,
    "execution": {
     "iopub.execute_input": "2020-10-22T17:23:13.161348Z",
     "iopub.status.busy": "2020-10-22T17:23:13.160795Z",
     "iopub.status.idle": "2020-10-22T17:23:13.163366Z",
     "shell.execute_reply": "2020-10-22T17:23:13.162864Z"
    },
    "papermill": {
     "duration": 0.04727,
     "end_time": "2020-10-22T17:23:13.163492",
     "exception": false,
     "start_time": "2020-10-22T17:23:13.116222",
     "status": "completed"
    },
    "pycharm": {
     "name": "#%%\n"
    },
    "tags": []
   },
   "outputs": [],
   "source": [
    "current_working_directory = os.environ.get(\"PWD\")\n",
    "if current_working_directory:\n",
    "    os.chdir(current_working_directory)\n",
    "\n",
    "sns.set()\n",
    "matplotlib.rcParams[\"figure.figsize\"] = (15, 6)\n",
    "\n",
    "extraction_datetime = datetime.datetime.utcnow()\n",
    "extraction_date = extraction_datetime.strftime(\"%Y-%m-%d\")\n",
    "extraction_previous_datetime = extraction_datetime - datetime.timedelta(days=1)\n",
    "extraction_previous_date = extraction_previous_datetime.strftime(\"%Y-%m-%d\")\n",
    "extraction_date_with_hour = datetime.datetime.utcnow().strftime(\"%Y-%m-%d@%H\")"
   ]
  },
  {
   "cell_type": "markdown",
   "metadata": {
    "collapsed": false,
    "papermill": {
     "duration": 0.038093,
     "end_time": "2020-10-22T17:23:13.239361",
     "exception": false,
     "start_time": "2020-10-22T17:23:13.201268",
     "status": "completed"
    },
    "tags": []
   },
   "source": [
    "### Constants"
   ]
  },
  {
   "cell_type": "code",
   "execution_count": 3,
   "metadata": {
    "execution": {
     "iopub.execute_input": "2020-10-22T17:23:13.320219Z",
     "iopub.status.busy": "2020-10-22T17:23:13.319679Z",
     "iopub.status.idle": "2020-10-22T17:23:13.321511Z",
     "shell.execute_reply": "2020-10-22T17:23:13.321916Z"
    },
    "papermill": {
     "duration": 0.044798,
     "end_time": "2020-10-22T17:23:13.322071",
     "exception": false,
     "start_time": "2020-10-22T17:23:13.277273",
     "status": "completed"
    },
    "pycharm": {
     "name": "#%%\n"
    },
    "tags": []
   },
   "outputs": [],
   "source": [
    "spain_region_country_name = \"Spain\"\n",
    "spain_region_country_code = \"ES\"\n",
    "\n",
    "backend_generation_days = 7 * 2\n",
    "daily_summary_days = 7 * 4 * 3\n",
    "daily_plot_days = 7 * 4\n",
    "tek_dumps_load_limit = daily_summary_days + 1"
   ]
  },
  {
   "cell_type": "markdown",
   "metadata": {
    "collapsed": false,
    "papermill": {
     "duration": 0.037685,
     "end_time": "2020-10-22T17:23:13.397782",
     "exception": false,
     "start_time": "2020-10-22T17:23:13.360097",
     "status": "completed"
    },
    "tags": []
   },
   "source": [
    "### Parameters"
   ]
  },
  {
   "cell_type": "code",
   "execution_count": 4,
   "metadata": {
    "collapsed": false,
    "execution": {
     "iopub.execute_input": "2020-10-22T17:23:13.477962Z",
     "iopub.status.busy": "2020-10-22T17:23:13.477419Z",
     "iopub.status.idle": "2020-10-22T17:23:13.479545Z",
     "shell.execute_reply": "2020-10-22T17:23:13.478968Z"
    },
    "papermill": {
     "duration": 0.043903,
     "end_time": "2020-10-22T17:23:13.479666",
     "exception": false,
     "start_time": "2020-10-22T17:23:13.435763",
     "status": "completed"
    },
    "pycharm": {
     "name": "#%%\n"
    },
    "tags": []
   },
   "outputs": [],
   "source": [
    "active_region_parameter = os.environ.get(\"RADARCOVID_REPORT__ACTIVE_REGION\")\n",
    "if active_region_parameter:\n",
    "    active_region_country_code, active_region_country_name = \\\n",
    "        active_region_parameter.split(\":\")\n",
    "else:\n",
    "    active_region_country_code, active_region_country_name = \\\n",
    "        spain_region_country_code, spain_region_country_name"
   ]
  },
  {
   "cell_type": "markdown",
   "metadata": {
    "collapsed": false,
    "papermill": {
     "duration": 0.037585,
     "end_time": "2020-10-22T17:23:13.555104",
     "exception": false,
     "start_time": "2020-10-22T17:23:13.517519",
     "status": "completed"
    },
    "pycharm": {
     "name": "#%% md\n"
    },
    "tags": []
   },
   "source": [
    "### COVID-19 Cases"
   ]
  },
  {
   "cell_type": "code",
   "execution_count": 5,
   "metadata": {
    "collapsed": false,
    "execution": {
     "iopub.execute_input": "2020-10-22T17:23:13.636940Z",
     "iopub.status.busy": "2020-10-22T17:23:13.636367Z",
     "iopub.status.idle": "2020-10-22T17:23:15.620229Z",
     "shell.execute_reply": "2020-10-22T17:23:15.619744Z"
    },
    "papermill": {
     "duration": 2.027289,
     "end_time": "2020-10-22T17:23:15.620365",
     "exception": false,
     "start_time": "2020-10-22T17:23:13.593076",
     "status": "completed"
    },
    "pycharm": {
     "name": "#%%\n"
    },
    "tags": []
   },
   "outputs": [
    {
     "data": {
      "text/html": [
       "<div>\n",
       "<style scoped>\n",
       "    .dataframe tbody tr th:only-of-type {\n",
       "        vertical-align: middle;\n",
       "    }\n",
       "\n",
       "    .dataframe tbody tr th {\n",
       "        vertical-align: top;\n",
       "    }\n",
       "\n",
       "    .dataframe thead th {\n",
       "        text-align: right;\n",
       "    }\n",
       "</style>\n",
       "<table border=\"1\" class=\"dataframe\">\n",
       "  <thead>\n",
       "    <tr style=\"text-align: right;\">\n",
       "      <th></th>\n",
       "      <th>Country_EN</th>\n",
       "      <th>Country_ES</th>\n",
       "      <th>Country_IT</th>\n",
       "      <th>Region</th>\n",
       "      <th>2020-01-23</th>\n",
       "      <th>2020-01-24</th>\n",
       "      <th>2020-01-25</th>\n",
       "      <th>2020-01-26</th>\n",
       "      <th>2020-01-27</th>\n",
       "      <th>2020-01-28</th>\n",
       "      <th>...</th>\n",
       "      <th>2020-10-12</th>\n",
       "      <th>2020-10-13</th>\n",
       "      <th>2020-10-14</th>\n",
       "      <th>2020-10-15</th>\n",
       "      <th>2020-10-16</th>\n",
       "      <th>2020-10-17</th>\n",
       "      <th>2020-10-18</th>\n",
       "      <th>2020-10-19</th>\n",
       "      <th>2020-10-20</th>\n",
       "      <th>2020-10-21</th>\n",
       "    </tr>\n",
       "  </thead>\n",
       "  <tbody>\n",
       "    <tr>\n",
       "      <th>233</th>\n",
       "      <td>Spain</td>\n",
       "      <td>España</td>\n",
       "      <td>Spagna</td>\n",
       "      <td>NaN</td>\n",
       "      <td>0.0</td>\n",
       "      <td>0.0</td>\n",
       "      <td>0.0</td>\n",
       "      <td>0.0</td>\n",
       "      <td>0.0</td>\n",
       "      <td>0.0</td>\n",
       "      <td>...</td>\n",
       "      <td>888968.0</td>\n",
       "      <td>896086.0</td>\n",
       "      <td>908056.0</td>\n",
       "      <td>921374.0</td>\n",
       "      <td>936560.0</td>\n",
       "      <td>936560.0</td>\n",
       "      <td>936560.0</td>\n",
       "      <td>974449.0</td>\n",
       "      <td>988322.0</td>\n",
       "      <td>1005295.0</td>\n",
       "    </tr>\n",
       "  </tbody>\n",
       "</table>\n",
       "<p>1 rows × 277 columns</p>\n",
       "</div>"
      ],
      "text/plain": [
       "    Country_EN Country_ES Country_IT Region  2020-01-23  2020-01-24  \\\n",
       "233      Spain     España     Spagna    NaN         0.0         0.0   \n",
       "\n",
       "     2020-01-25  2020-01-26  2020-01-27  2020-01-28  ...  2020-10-12  \\\n",
       "233         0.0         0.0         0.0         0.0  ...    888968.0   \n",
       "\n",
       "     2020-10-13  2020-10-14  2020-10-15  2020-10-16  2020-10-17  2020-10-18  \\\n",
       "233    896086.0    908056.0    921374.0    936560.0    936560.0    936560.0   \n",
       "\n",
       "     2020-10-19  2020-10-20  2020-10-21  \n",
       "233    974449.0    988322.0   1005295.0  \n",
       "\n",
       "[1 rows x 277 columns]"
      ]
     },
     "execution_count": 5,
     "metadata": {},
     "output_type": "execute_result"
    }
   ],
   "source": [
    "confirmed_df = pd.read_csv(\"https://covid19tracking.narrativa.com/csv/confirmed.csv\")\n",
    "\n",
    "radar_covid_countries = {active_region_country_name}\n",
    "\n",
    "confirmed_df = confirmed_df[confirmed_df[\"Country_EN\"].isin(radar_covid_countries)]\n",
    "confirmed_df = confirmed_df[pd.isna(confirmed_df.Region)]\n",
    "confirmed_df.head()"
   ]
  },
  {
   "cell_type": "code",
   "execution_count": 6,
   "metadata": {
    "collapsed": false,
    "execution": {
     "iopub.execute_input": "2020-10-22T17:23:15.716164Z",
     "iopub.status.busy": "2020-10-22T17:23:15.715593Z",
     "iopub.status.idle": "2020-10-22T17:23:15.725920Z",
     "shell.execute_reply": "2020-10-22T17:23:15.726386Z"
    },
    "papermill": {
     "duration": 0.064867,
     "end_time": "2020-10-22T17:23:15.726550",
     "exception": false,
     "start_time": "2020-10-22T17:23:15.661683",
     "status": "completed"
    },
    "pycharm": {
     "name": "#%%\n"
    },
    "tags": []
   },
   "outputs": [
    {
     "data": {
      "text/html": [
       "<div>\n",
       "<style scoped>\n",
       "    .dataframe tbody tr th:only-of-type {\n",
       "        vertical-align: middle;\n",
       "    }\n",
       "\n",
       "    .dataframe tbody tr th {\n",
       "        vertical-align: top;\n",
       "    }\n",
       "\n",
       "    .dataframe thead th {\n",
       "        text-align: right;\n",
       "    }\n",
       "</style>\n",
       "<table border=\"1\" class=\"dataframe\">\n",
       "  <thead>\n",
       "    <tr style=\"text-align: right;\">\n",
       "      <th></th>\n",
       "      <th>2020-01-23</th>\n",
       "      <th>2020-01-24</th>\n",
       "      <th>2020-01-25</th>\n",
       "      <th>2020-01-26</th>\n",
       "      <th>2020-01-27</th>\n",
       "      <th>2020-01-28</th>\n",
       "      <th>2020-01-29</th>\n",
       "      <th>2020-01-30</th>\n",
       "      <th>2020-01-31</th>\n",
       "      <th>2020-02-01</th>\n",
       "      <th>...</th>\n",
       "      <th>2020-10-12</th>\n",
       "      <th>2020-10-13</th>\n",
       "      <th>2020-10-14</th>\n",
       "      <th>2020-10-15</th>\n",
       "      <th>2020-10-16</th>\n",
       "      <th>2020-10-17</th>\n",
       "      <th>2020-10-18</th>\n",
       "      <th>2020-10-19</th>\n",
       "      <th>2020-10-20</th>\n",
       "      <th>2020-10-21</th>\n",
       "    </tr>\n",
       "  </thead>\n",
       "  <tbody>\n",
       "    <tr>\n",
       "      <th>233</th>\n",
       "      <td>0.0</td>\n",
       "      <td>0.0</td>\n",
       "      <td>0.0</td>\n",
       "      <td>0.0</td>\n",
       "      <td>0.0</td>\n",
       "      <td>0.0</td>\n",
       "      <td>0.0</td>\n",
       "      <td>0.0</td>\n",
       "      <td>0.0</td>\n",
       "      <td>1.0</td>\n",
       "      <td>...</td>\n",
       "      <td>888968.0</td>\n",
       "      <td>896086.0</td>\n",
       "      <td>908056.0</td>\n",
       "      <td>921374.0</td>\n",
       "      <td>936560.0</td>\n",
       "      <td>936560.0</td>\n",
       "      <td>936560.0</td>\n",
       "      <td>974449.0</td>\n",
       "      <td>988322.0</td>\n",
       "      <td>1005295.0</td>\n",
       "    </tr>\n",
       "  </tbody>\n",
       "</table>\n",
       "<p>1 rows × 273 columns</p>\n",
       "</div>"
      ],
      "text/plain": [
       "     2020-01-23  2020-01-24  2020-01-25  2020-01-26  2020-01-27  2020-01-28  \\\n",
       "233         0.0         0.0         0.0         0.0         0.0         0.0   \n",
       "\n",
       "     2020-01-29  2020-01-30  2020-01-31  2020-02-01  ...  2020-10-12  \\\n",
       "233         0.0         0.0         0.0         1.0  ...    888968.0   \n",
       "\n",
       "     2020-10-13  2020-10-14  2020-10-15  2020-10-16  2020-10-17  2020-10-18  \\\n",
       "233    896086.0    908056.0    921374.0    936560.0    936560.0    936560.0   \n",
       "\n",
       "     2020-10-19  2020-10-20  2020-10-21  \n",
       "233    974449.0    988322.0   1005295.0  \n",
       "\n",
       "[1 rows x 273 columns]"
      ]
     },
     "execution_count": 6,
     "metadata": {},
     "output_type": "execute_result"
    }
   ],
   "source": [
    "confirmed_country_columns = list(filter(lambda x: x.startswith(\"Country_\"), confirmed_df.columns))\n",
    "confirmed_regional_columns = confirmed_country_columns + [\"Region\"]\n",
    "confirmed_df.drop(columns=confirmed_regional_columns, inplace=True)\n",
    "confirmed_df.head()"
   ]
  },
  {
   "cell_type": "code",
   "execution_count": 7,
   "metadata": {
    "collapsed": false,
    "execution": {
     "iopub.execute_input": "2020-10-22T17:23:15.815277Z",
     "iopub.status.busy": "2020-10-22T17:23:15.814659Z",
     "iopub.status.idle": "2020-10-22T17:23:15.817621Z",
     "shell.execute_reply": "2020-10-22T17:23:15.818122Z"
    },
    "papermill": {
     "duration": 0.050881,
     "end_time": "2020-10-22T17:23:15.818267",
     "exception": false,
     "start_time": "2020-10-22T17:23:15.767386",
     "status": "completed"
    },
    "pycharm": {
     "name": "#%%\n"
    },
    "tags": []
   },
   "outputs": [
    {
     "data": {
      "text/html": [
       "<div>\n",
       "<style scoped>\n",
       "    .dataframe tbody tr th:only-of-type {\n",
       "        vertical-align: middle;\n",
       "    }\n",
       "\n",
       "    .dataframe tbody tr th {\n",
       "        vertical-align: top;\n",
       "    }\n",
       "\n",
       "    .dataframe thead th {\n",
       "        text-align: right;\n",
       "    }\n",
       "</style>\n",
       "<table border=\"1\" class=\"dataframe\">\n",
       "  <thead>\n",
       "    <tr style=\"text-align: right;\">\n",
       "      <th></th>\n",
       "      <th>0</th>\n",
       "    </tr>\n",
       "  </thead>\n",
       "  <tbody>\n",
       "    <tr>\n",
       "      <th>2020-10-17</th>\n",
       "      <td>936560.0</td>\n",
       "    </tr>\n",
       "    <tr>\n",
       "      <th>2020-10-18</th>\n",
       "      <td>936560.0</td>\n",
       "    </tr>\n",
       "    <tr>\n",
       "      <th>2020-10-19</th>\n",
       "      <td>974449.0</td>\n",
       "    </tr>\n",
       "    <tr>\n",
       "      <th>2020-10-20</th>\n",
       "      <td>988322.0</td>\n",
       "    </tr>\n",
       "    <tr>\n",
       "      <th>2020-10-21</th>\n",
       "      <td>1005295.0</td>\n",
       "    </tr>\n",
       "  </tbody>\n",
       "</table>\n",
       "</div>"
      ],
      "text/plain": [
       "                    0\n",
       "2020-10-17   936560.0\n",
       "2020-10-18   936560.0\n",
       "2020-10-19   974449.0\n",
       "2020-10-20   988322.0\n",
       "2020-10-21  1005295.0"
      ]
     },
     "execution_count": 7,
     "metadata": {},
     "output_type": "execute_result"
    }
   ],
   "source": [
    "confirmed_df = confirmed_df.sum().to_frame()\n",
    "confirmed_df.tail()"
   ]
  },
  {
   "cell_type": "code",
   "execution_count": 8,
   "metadata": {
    "collapsed": false,
    "execution": {
     "iopub.execute_input": "2020-10-22T17:23:15.905738Z",
     "iopub.status.busy": "2020-10-22T17:23:15.905185Z",
     "iopub.status.idle": "2020-10-22T17:23:15.915499Z",
     "shell.execute_reply": "2020-10-22T17:23:15.915038Z"
    },
    "papermill": {
     "duration": 0.057141,
     "end_time": "2020-10-22T17:23:15.915627",
     "exception": false,
     "start_time": "2020-10-22T17:23:15.858486",
     "status": "completed"
    },
    "pycharm": {
     "name": "#%%\n"
    },
    "tags": []
   },
   "outputs": [
    {
     "data": {
      "text/html": [
       "<div>\n",
       "<style scoped>\n",
       "    .dataframe tbody tr th:only-of-type {\n",
       "        vertical-align: middle;\n",
       "    }\n",
       "\n",
       "    .dataframe tbody tr th {\n",
       "        vertical-align: top;\n",
       "    }\n",
       "\n",
       "    .dataframe thead th {\n",
       "        text-align: right;\n",
       "    }\n",
       "</style>\n",
       "<table border=\"1\" class=\"dataframe\">\n",
       "  <thead>\n",
       "    <tr style=\"text-align: right;\">\n",
       "      <th></th>\n",
       "      <th>sample_date_string</th>\n",
       "      <th>cumulative_cases</th>\n",
       "      <th>new_cases</th>\n",
       "      <th>covid_cases</th>\n",
       "    </tr>\n",
       "  </thead>\n",
       "  <tbody>\n",
       "    <tr>\n",
       "      <th>268</th>\n",
       "      <td>2020-10-17</td>\n",
       "      <td>936560.0</td>\n",
       "      <td>0.0</td>\n",
       "      <td>10778.0</td>\n",
       "    </tr>\n",
       "    <tr>\n",
       "      <th>269</th>\n",
       "      <td>2020-10-18</td>\n",
       "      <td>936560.0</td>\n",
       "      <td>0.0</td>\n",
       "      <td>10778.0</td>\n",
       "    </tr>\n",
       "    <tr>\n",
       "      <th>270</th>\n",
       "      <td>2020-10-19</td>\n",
       "      <td>974449.0</td>\n",
       "      <td>37889.0</td>\n",
       "      <td>12212.0</td>\n",
       "    </tr>\n",
       "    <tr>\n",
       "      <th>271</th>\n",
       "      <td>2020-10-20</td>\n",
       "      <td>988322.0</td>\n",
       "      <td>13873.0</td>\n",
       "      <td>13177.0</td>\n",
       "    </tr>\n",
       "    <tr>\n",
       "      <th>272</th>\n",
       "      <td>2020-10-21</td>\n",
       "      <td>1005295.0</td>\n",
       "      <td>16973.0</td>\n",
       "      <td>13891.0</td>\n",
       "    </tr>\n",
       "  </tbody>\n",
       "</table>\n",
       "</div>"
      ],
      "text/plain": [
       "    sample_date_string  cumulative_cases  new_cases  covid_cases\n",
       "268         2020-10-17          936560.0        0.0      10778.0\n",
       "269         2020-10-18          936560.0        0.0      10778.0\n",
       "270         2020-10-19          974449.0    37889.0      12212.0\n",
       "271         2020-10-20          988322.0    13873.0      13177.0\n",
       "272         2020-10-21         1005295.0    16973.0      13891.0"
      ]
     },
     "execution_count": 8,
     "metadata": {},
     "output_type": "execute_result"
    }
   ],
   "source": [
    "confirmed_df.reset_index(inplace=True)\n",
    "confirmed_df.columns = [\"sample_date_string\", \"cumulative_cases\"]\n",
    "confirmed_df.sort_values(\"sample_date_string\", inplace=True)\n",
    "confirmed_df[\"new_cases\"] = confirmed_df.cumulative_cases.diff()\n",
    "confirmed_df[\"covid_cases\"] = confirmed_df.new_cases.rolling(7).mean().round()\n",
    "confirmed_df.tail()"
   ]
  },
  {
   "cell_type": "code",
   "execution_count": 9,
   "metadata": {
    "execution": {
     "iopub.execute_input": "2020-10-22T17:23:16.004618Z",
     "iopub.status.busy": "2020-10-22T17:23:16.004052Z",
     "iopub.status.idle": "2020-10-22T17:23:16.014785Z",
     "shell.execute_reply": "2020-10-22T17:23:16.014329Z"
    },
    "papermill": {
     "duration": 0.05953,
     "end_time": "2020-10-22T17:23:16.014916",
     "exception": false,
     "start_time": "2020-10-22T17:23:15.955386",
     "status": "completed"
    },
    "pycharm": {
     "name": "#%%\n"
    },
    "tags": []
   },
   "outputs": [
    {
     "data": {
      "text/html": [
       "<div>\n",
       "<style scoped>\n",
       "    .dataframe tbody tr th:only-of-type {\n",
       "        vertical-align: middle;\n",
       "    }\n",
       "\n",
       "    .dataframe tbody tr th {\n",
       "        vertical-align: top;\n",
       "    }\n",
       "\n",
       "    .dataframe thead th {\n",
       "        text-align: right;\n",
       "    }\n",
       "</style>\n",
       "<table border=\"1\" class=\"dataframe\">\n",
       "  <thead>\n",
       "    <tr style=\"text-align: right;\">\n",
       "      <th></th>\n",
       "      <th>sample_date_string</th>\n",
       "      <th>cumulative_cases</th>\n",
       "      <th>new_cases</th>\n",
       "      <th>covid_cases</th>\n",
       "    </tr>\n",
       "  </thead>\n",
       "  <tbody>\n",
       "    <tr>\n",
       "      <th>269</th>\n",
       "      <td>2020-10-18</td>\n",
       "      <td>936560.0</td>\n",
       "      <td>0.0</td>\n",
       "      <td>10778</td>\n",
       "    </tr>\n",
       "    <tr>\n",
       "      <th>270</th>\n",
       "      <td>2020-10-19</td>\n",
       "      <td>974449.0</td>\n",
       "      <td>37889.0</td>\n",
       "      <td>12212</td>\n",
       "    </tr>\n",
       "    <tr>\n",
       "      <th>271</th>\n",
       "      <td>2020-10-20</td>\n",
       "      <td>988322.0</td>\n",
       "      <td>13873.0</td>\n",
       "      <td>13177</td>\n",
       "    </tr>\n",
       "    <tr>\n",
       "      <th>272</th>\n",
       "      <td>2020-10-21</td>\n",
       "      <td>1005295.0</td>\n",
       "      <td>16973.0</td>\n",
       "      <td>13891</td>\n",
       "    </tr>\n",
       "    <tr>\n",
       "      <th>272</th>\n",
       "      <td>2020-10-22</td>\n",
       "      <td>1019186.0</td>\n",
       "      <td>13891.0</td>\n",
       "      <td>13891</td>\n",
       "    </tr>\n",
       "  </tbody>\n",
       "</table>\n",
       "</div>"
      ],
      "text/plain": [
       "    sample_date_string  cumulative_cases  new_cases  covid_cases\n",
       "269         2020-10-18          936560.0        0.0        10778\n",
       "270         2020-10-19          974449.0    37889.0        12212\n",
       "271         2020-10-20          988322.0    13873.0        13177\n",
       "272         2020-10-21         1005295.0    16973.0        13891\n",
       "272         2020-10-22         1019186.0    13891.0        13891"
      ]
     },
     "execution_count": 9,
     "metadata": {},
     "output_type": "execute_result"
    }
   ],
   "source": [
    "extraction_date_confirmed_df = \\\n",
    "    confirmed_df[confirmed_df.sample_date_string == extraction_date]\n",
    "extraction_previous_date_confirmed_df = \\\n",
    "    confirmed_df[confirmed_df.sample_date_string == extraction_previous_date].copy()\n",
    "\n",
    "if extraction_date_confirmed_df.empty and \\\n",
    "    not extraction_previous_date_confirmed_df.empty:\n",
    "        extraction_previous_date_confirmed_df[\"sample_date_string\"] = extraction_date\n",
    "        extraction_previous_date_confirmed_df[\"new_cases\"] = \\\n",
    "            extraction_previous_date_confirmed_df.covid_cases\n",
    "        extraction_previous_date_confirmed_df[\"cumulative_cases\"] = \\\n",
    "            extraction_previous_date_confirmed_df.new_cases + \\\n",
    "            extraction_previous_date_confirmed_df.cumulative_cases\n",
    "        confirmed_df = confirmed_df.append(extraction_previous_date_confirmed_df)\n",
    "\n",
    "confirmed_df[\"covid_cases\"] = confirmed_df.covid_cases.fillna(0).astype(int)\n",
    "confirmed_df.tail()"
   ]
  },
  {
   "cell_type": "code",
   "execution_count": 10,
   "metadata": {
    "execution": {
     "iopub.execute_input": "2020-10-22T17:23:16.223141Z",
     "iopub.status.busy": "2020-10-22T17:23:16.222561Z",
     "iopub.status.idle": "2020-10-22T17:23:16.425887Z",
     "shell.execute_reply": "2020-10-22T17:23:16.426331Z"
    },
    "papermill": {
     "duration": 0.371059,
     "end_time": "2020-10-22T17:23:16.426494",
     "exception": false,
     "start_time": "2020-10-22T17:23:16.055435",
     "status": "completed"
    },
    "pycharm": {
     "name": "#%%\n"
    },
    "tags": []
   },
   "outputs": [
    {
     "data": {
      "text/plain": [
       "<matplotlib.axes._subplots.AxesSubplot at 0x7f0f8f6ae5e0>"
      ]
     },
     "execution_count": 10,
     "metadata": {},
     "output_type": "execute_result"
    },
    {
     "data": {
      "image/png": "[encoded data removed]",
      "text/plain": [
       "<Figure size 1080x432 with 1 Axes>"
      ]
     },
     "metadata": {},
     "output_type": "display_data"
    }
   ],
   "source": [
    "confirmed_df[[\"new_cases\", \"covid_cases\"]].plot()"
   ]
  },
  {
   "cell_type": "markdown",
   "metadata": {
    "execution": {
     "iopub.execute_input": "2020-08-30T22:30:16.351238Z",
     "iopub.status.busy": "2020-08-30T22:30:16.344579Z",
     "iopub.status.idle": "2020-08-30T22:30:16.354285Z",
     "shell.execute_reply": "2020-08-30T22:30:16.353641Z"
    },
    "papermill": {
     "duration": 0.042322,
     "end_time": "2020-10-22T17:23:16.511338",
     "exception": false,
     "start_time": "2020-10-22T17:23:16.469016",
     "status": "completed"
    },
    "pycharm": {
     "name": "#%% md\n"
    },
    "tags": []
   },
   "source": [
    "### Extract API TEKs"
   ]
  },
  {
   "cell_type": "code",
   "execution_count": 11,
   "metadata": {
    "execution": {
     "iopub.execute_input": "2020-10-22T17:23:16.606143Z",
     "iopub.status.busy": "2020-10-22T17:23:16.605580Z",
     "iopub.status.idle": "2020-10-22T17:26:05.522874Z",
     "shell.execute_reply": "2020-10-22T17:26:05.522347Z"
    },
    "papermill": {
     "duration": 168.964444,
     "end_time": "2020-10-22T17:26:05.523042",
     "exception": false,
     "start_time": "2020-10-22T17:23:16.558598",
     "status": "completed"
    },
    "pycharm": {
     "name": "#%%\n"
    },
    "tags": []
   },
   "outputs": [
    {
     "name": "stderr",
     "output_type": "stream",
     "text": [
      "WARNING:root:NoKeysFoundException(\"No exposure keys found on endpoint 'https://stayaway.incm.pt/v1/gaen/exposed/1603324800000' (parameters: {'generation_date': '2020-10-22', 'endpoint_identifier_components': ['2020-10-22'], 'backend_identifier': 'PT', 'server_endpoint_url': 'https://stayaway.incm.pt'}).\")\n"
     ]
    },
    {
     "name": "stderr",
     "output_type": "stream",
     "text": [
      "WARNING:root:NoKeysFoundException(\"No exposure keys found on endpoint 'https://enapi.sm.ee/authorization/v1/gaen/exposed/1603324800000' (parameters: {'generation_date': '2020-10-22', 'endpoint_identifier_components': ['2020-10-22'], 'backend_identifier': 'EE', 'server_endpoint_url': 'https://enapi.sm.ee/authorization'}).\")\n"
     ]
    },
    {
     "name": "stderr",
     "output_type": "stream",
     "text": [
      "WARNING:root:NoKeysFoundException(\"No exposure keys found on endpoint 'https://mt-dpppt-ws.azurewebsites.net/v1/gaen/exposed/1603324800000' (parameters: {'generation_date': '2020-10-22', 'endpoint_identifier_components': ['2020-10-22'], 'backend_identifier': 'MT', 'server_endpoint_url': 'https://mt-dpppt-ws.azurewebsites.net'}).\")\n"
     ]
    },
    {
     "name": "stderr",
     "output_type": "stream",
     "text": [
      "WARNING:root:Error downloading exposure keys from backend 'DE-ES': HTTPError('404 Client Error: Not Found for url: https://svc90.main.px.t-online.de/version/v1/diagnosis-keys/country/ES/date')\n",
      "Traceback (most recent call last):\n",
      "  File \"/home/runner/work/Radar-STATS/Radar-STATS/Modules/ExposureNotification/exposure_notification_io.py\", line 91, in download_exposure_keys_from_backends\n",
      "    backend_exposure_keys_df = downloader.download_exposure_keys_with_parameters(**kwargs)\n",
      "  File \"/home/runner/work/Radar-STATS/Radar-STATS/Modules/ExposureNotification/Backends/base.py\", line 36, in download_exposure_keys_with_parameters\n",
      "    self.generate_exposure_keys_export_endpoints_with_parameters(**kwargs)\n",
      "  File \"/home/runner/work/Radar-STATS/Radar-STATS/Modules/ExposureNotification/Backends/corona_warn_app.py\", line 22, in generate_exposure_keys_export_endpoints_with_parameters\n",
      "    response.raise_for_status()\n",
      "  File \"/opt/hostedtoolcache/Python/3.8.6/x64/lib/python3.8/site-packages/requests/models.py\", line 941, in raise_for_status\n",
      "    raise HTTPError(http_error_msg, response=self)\n",
      "requests.exceptions.HTTPError: 404 Client Error: Not Found for url: https://svc90.main.px.t-online.de/version/v1/diagnosis-keys/country/ES/date\n"
     ]
    },
    {
     "name": "stderr",
     "output_type": "stream",
     "text": [
      "WARNING:root:Error downloading exposure keys from backend 'DE-IE': HTTPError('404 Client Error: Not Found for url: https://svc90.main.px.t-online.de/version/v1/diagnosis-keys/country/IE/date')\n",
      "Traceback (most recent call last):\n",
      "  File \"/home/runner/work/Radar-STATS/Radar-STATS/Modules/ExposureNotification/exposure_notification_io.py\", line 91, in download_exposure_keys_from_backends\n",
      "    backend_exposure_keys_df = downloader.download_exposure_keys_with_parameters(**kwargs)\n",
      "  File \"/home/runner/work/Radar-STATS/Radar-STATS/Modules/ExposureNotification/Backends/base.py\", line 36, in download_exposure_keys_with_parameters\n",
      "    self.generate_exposure_keys_export_endpoints_with_parameters(**kwargs)\n",
      "  File \"/home/runner/work/Radar-STATS/Radar-STATS/Modules/ExposureNotification/Backends/corona_warn_app.py\", line 22, in generate_exposure_keys_export_endpoints_with_parameters\n",
      "    response.raise_for_status()\n",
      "  File \"/opt/hostedtoolcache/Python/3.8.6/x64/lib/python3.8/site-packages/requests/models.py\", line 941, in raise_for_status\n",
      "    raise HTTPError(http_error_msg, response=self)\n",
      "requests.exceptions.HTTPError: 404 Client Error: Not Found for url: https://svc90.main.px.t-online.de/version/v1/diagnosis-keys/country/IE/date\n"
     ]
    },
    {
     "name": "stderr",
     "output_type": "stream",
     "text": [
      "WARNING:root:Error downloading exposure keys from backend 'DE-IT': HTTPError('404 Client Error: Not Found for url: https://svc90.main.px.t-online.de/version/v1/diagnosis-keys/country/IT/date')\n",
      "Traceback (most recent call last):\n",
      "  File \"/home/runner/work/Radar-STATS/Radar-STATS/Modules/ExposureNotification/exposure_notification_io.py\", line 91, in download_exposure_keys_from_backends\n",
      "    backend_exposure_keys_df = downloader.download_exposure_keys_with_parameters(**kwargs)\n",
      "  File \"/home/runner/work/Radar-STATS/Radar-STATS/Modules/ExposureNotification/Backends/base.py\", line 36, in download_exposure_keys_with_parameters\n",
      "    self.generate_exposure_keys_export_endpoints_with_parameters(**kwargs)\n",
      "  File \"/home/runner/work/Radar-STATS/Radar-STATS/Modules/ExposureNotification/Backends/corona_warn_app.py\", line 22, in generate_exposure_keys_export_endpoints_with_parameters\n",
      "    response.raise_for_status()\n",
      "  File \"/opt/hostedtoolcache/Python/3.8.6/x64/lib/python3.8/site-packages/requests/models.py\", line 941, in raise_for_status\n",
      "    raise HTTPError(http_error_msg, response=self)\n",
      "requests.exceptions.HTTPError: 404 Client Error: Not Found for url: https://svc90.main.px.t-online.de/version/v1/diagnosis-keys/country/IT/date\n"
     ]
    },
    {
     "name": "stderr",
     "output_type": "stream",
     "text": [
      "WARNING:root:Error downloading exposure keys from backend 'IT-ES': HTTPError('404 Client Error: Not Found for url: https://get.immuni.gov.it/v1/keys/eu/ES/index')\n",
      "Traceback (most recent call last):\n",
      "  File \"/home/runner/work/Radar-STATS/Radar-STATS/Modules/ExposureNotification/exposure_notification_io.py\", line 91, in download_exposure_keys_from_backends\n",
      "    backend_exposure_keys_df = downloader.download_exposure_keys_with_parameters(**kwargs)\n",
      "  File \"/home/runner/work/Radar-STATS/Radar-STATS/Modules/ExposureNotification/Backends/base.py\", line 36, in download_exposure_keys_with_parameters\n",
      "    self.generate_exposure_keys_export_endpoints_with_parameters(**kwargs)\n",
      "  File \"/home/runner/work/Radar-STATS/Radar-STATS/Modules/ExposureNotification/Backends/immuni.py\", line 27, in generate_exposure_keys_export_endpoints_with_parameters\n",
      "    response.raise_for_status()\n",
      "  File \"/opt/hostedtoolcache/Python/3.8.6/x64/lib/python3.8/site-packages/requests/models.py\", line 941, in raise_for_status\n",
      "    raise HTTPError(http_error_msg, response=self)\n",
      "requests.exceptions.HTTPError: 404 Client Error: Not Found for url: https://get.immuni.gov.it/v1/keys/eu/ES/index\n"
     ]
    },
    {
     "name": "stderr",
     "output_type": "stream",
     "text": [
      "WARNING:root:Error downloading exposure keys from backend 'IT-IE': HTTPError('404 Client Error: Not Found for url: https://get.immuni.gov.it/v1/keys/eu/IE/index')\n",
      "Traceback (most recent call last):\n",
      "  File \"/home/runner/work/Radar-STATS/Radar-STATS/Modules/ExposureNotification/exposure_notification_io.py\", line 91, in download_exposure_keys_from_backends\n",
      "    backend_exposure_keys_df = downloader.download_exposure_keys_with_parameters(**kwargs)\n",
      "  File \"/home/runner/work/Radar-STATS/Radar-STATS/Modules/ExposureNotification/Backends/base.py\", line 36, in download_exposure_keys_with_parameters\n",
      "    self.generate_exposure_keys_export_endpoints_with_parameters(**kwargs)\n",
      "  File \"/home/runner/work/Radar-STATS/Radar-STATS/Modules/ExposureNotification/Backends/immuni.py\", line 27, in generate_exposure_keys_export_endpoints_with_parameters\n",
      "    response.raise_for_status()\n",
      "  File \"/opt/hostedtoolcache/Python/3.8.6/x64/lib/python3.8/site-packages/requests/models.py\", line 941, in raise_for_status\n",
      "    raise HTTPError(http_error_msg, response=self)\n",
      "requests.exceptions.HTTPError: 404 Client Error: Not Found for url: https://get.immuni.gov.it/v1/keys/eu/IE/index\n"
     ]
    },
    {
     "name": "stderr",
     "output_type": "stream",
     "text": [
      "WARNING:root:Error downloading exposure keys from backend 'IT-DE': HTTPError('404 Client Error: Not Found for url: https://get.immuni.gov.it/v1/keys/eu/DE/index')\n",
      "Traceback (most recent call last):\n",
      "  File \"/home/runner/work/Radar-STATS/Radar-STATS/Modules/ExposureNotification/exposure_notification_io.py\", line 91, in download_exposure_keys_from_backends\n",
      "    backend_exposure_keys_df = downloader.download_exposure_keys_with_parameters(**kwargs)\n",
      "  File \"/home/runner/work/Radar-STATS/Radar-STATS/Modules/ExposureNotification/Backends/base.py\", line 36, in download_exposure_keys_with_parameters\n",
      "    self.generate_exposure_keys_export_endpoints_with_parameters(**kwargs)\n",
      "  File \"/home/runner/work/Radar-STATS/Radar-STATS/Modules/ExposureNotification/Backends/immuni.py\", line 27, in generate_exposure_keys_export_endpoints_with_parameters\n",
      "    response.raise_for_status()\n",
      "  File \"/opt/hostedtoolcache/Python/3.8.6/x64/lib/python3.8/site-packages/requests/models.py\", line 941, in raise_for_status\n",
      "    raise HTTPError(http_error_msg, response=self)\n",
      "requests.exceptions.HTTPError: 404 Client Error: Not Found for url: https://get.immuni.gov.it/v1/keys/eu/DE/index\n"
     ]
    },
    {
     "data": {
      "text/html": [
       "<div>\n",
       "<style scoped>\n",
       "    .dataframe tbody tr th:only-of-type {\n",
       "        vertical-align: middle;\n",
       "    }\n",
       "\n",
       "    .dataframe tbody tr th {\n",
       "        vertical-align: top;\n",
       "    }\n",
       "\n",
       "    .dataframe thead th {\n",
       "        text-align: right;\n",
       "    }\n",
       "</style>\n",
       "<table border=\"1\" class=\"dataframe\">\n",
       "  <thead>\n",
       "    <tr style=\"text-align: right;\">\n",
       "      <th></th>\n",
       "      <th>sample_datetime</th>\n",
       "      <th>sample_date_string</th>\n",
       "      <th>region</th>\n",
       "      <th>verification_key_version</th>\n",
       "      <th>verification_key_id</th>\n",
       "      <th>signature_algorithm</th>\n",
       "      <th>key_data</th>\n",
       "      <th>rolling_start_interval_number</th>\n",
       "      <th>rolling_period</th>\n",
       "      <th>transmission_risk_level</th>\n",
       "      <th>backend_identifier</th>\n",
       "    </tr>\n",
       "  </thead>\n",
       "  <tbody>\n",
       "    <tr>\n",
       "      <th>0</th>\n",
       "      <td>2020-10-22</td>\n",
       "      <td>2020-10-22</td>\n",
       "      <td>ES</td>\n",
       "      <td>V1</td>\n",
       "      <td>214</td>\n",
       "      <td>1.2.840.10045.4.3.2</td>\n",
       "      <td>84734ab3-0543-6c54-fba4-ac98f9081ec6</td>\n",
       "      <td>2672208</td>\n",
       "      <td>96</td>\n",
       "      <td>0</td>\n",
       "      <td>ES</td>\n",
       "    </tr>\n",
       "    <tr>\n",
       "      <th>1</th>\n",
       "      <td>2020-10-22</td>\n",
       "      <td>2020-10-22</td>\n",
       "      <td>ES</td>\n",
       "      <td>V1</td>\n",
       "      <td>214</td>\n",
       "      <td>1.2.840.10045.4.3.2</td>\n",
       "      <td>cd43cccf-7a51-328f-c77c-031eee407ed1</td>\n",
       "      <td>2672208</td>\n",
       "      <td>95</td>\n",
       "      <td>0</td>\n",
       "      <td>ES</td>\n",
       "    </tr>\n",
       "    <tr>\n",
       "      <th>2</th>\n",
       "      <td>2020-10-22</td>\n",
       "      <td>2020-10-22</td>\n",
       "      <td>ES</td>\n",
       "      <td>V1</td>\n",
       "      <td>214</td>\n",
       "      <td>1.2.840.10045.4.3.2</td>\n",
       "      <td>5bc57f3e-861a-1af5-c985-4eb42250d0ea</td>\n",
       "      <td>2672208</td>\n",
       "      <td>95</td>\n",
       "      <td>0</td>\n",
       "      <td>ES</td>\n",
       "    </tr>\n",
       "    <tr>\n",
       "      <th>3</th>\n",
       "      <td>2020-10-22</td>\n",
       "      <td>2020-10-22</td>\n",
       "      <td>ES</td>\n",
       "      <td>V1</td>\n",
       "      <td>214</td>\n",
       "      <td>1.2.840.10045.4.3.2</td>\n",
       "      <td>99695df2-99fc-494f-8727-c730d171317a</td>\n",
       "      <td>2672208</td>\n",
       "      <td>94</td>\n",
       "      <td>0</td>\n",
       "      <td>ES</td>\n",
       "    </tr>\n",
       "    <tr>\n",
       "      <th>4</th>\n",
       "      <td>2020-10-22</td>\n",
       "      <td>2020-10-22</td>\n",
       "      <td>ES</td>\n",
       "      <td>V1</td>\n",
       "      <td>214</td>\n",
       "      <td>1.2.840.10045.4.3.2</td>\n",
       "      <td>0ec577b7-d49e-a6fa-8211-e3d2e75f3a05</td>\n",
       "      <td>2672208</td>\n",
       "      <td>94</td>\n",
       "      <td>0</td>\n",
       "      <td>ES</td>\n",
       "    </tr>\n",
       "  </tbody>\n",
       "</table>\n",
       "</div>"
      ],
      "text/plain": [
       "  sample_datetime sample_date_string region verification_key_version  \\\n",
       "0      2020-10-22         2020-10-22     ES                       V1   \n",
       "1      2020-10-22         2020-10-22     ES                       V1   \n",
       "2      2020-10-22         2020-10-22     ES                       V1   \n",
       "3      2020-10-22         2020-10-22     ES                       V1   \n",
       "4      2020-10-22         2020-10-22     ES                       V1   \n",
       "\n",
       "  verification_key_id  signature_algorithm  \\\n",
       "0                 214  1.2.840.10045.4.3.2   \n",
       "1                 214  1.2.840.10045.4.3.2   \n",
       "2                 214  1.2.840.10045.4.3.2   \n",
       "3                 214  1.2.840.10045.4.3.2   \n",
       "4                 214  1.2.840.10045.4.3.2   \n",
       "\n",
       "                               key_data  rolling_start_interval_number  \\\n",
       "0  84734ab3-0543-6c54-fba4-ac98f9081ec6                        2672208   \n",
       "1  cd43cccf-7a51-328f-c77c-031eee407ed1                        2672208   \n",
       "2  5bc57f3e-861a-1af5-c985-4eb42250d0ea                        2672208   \n",
       "3  99695df2-99fc-494f-8727-c730d171317a                        2672208   \n",
       "4  0ec577b7-d49e-a6fa-8211-e3d2e75f3a05                        2672208   \n",
       "\n",
       "   rolling_period  transmission_risk_level backend_identifier  \n",
       "0              96                        0                 ES  \n",
       "1              95                        0                 ES  \n",
       "2              95                        0                 ES  \n",
       "3              94                        0                 ES  \n",
       "4              94                        0                 ES  "
      ]
     },
     "execution_count": 11,
     "metadata": {},
     "output_type": "execute_result"
    }
   ],
   "source": [
    "from Modules.ExposureNotification import exposure_notification_io\n",
    "\n",
    "raw_zip_path_prefix = \"Data/TEKs/Raw/\"\n",
    "fail_on_error_backend_identifiers = [active_region_country_code]\n",
    "multi_region_exposure_keys_df = \\\n",
    "    exposure_notification_io.download_exposure_keys_from_backends(\n",
    "        generation_days=backend_generation_days,\n",
    "        fail_on_error_backend_identifiers=fail_on_error_backend_identifiers,\n",
    "        save_raw_zip_path_prefix=raw_zip_path_prefix)\n",
    "multi_region_exposure_keys_df[\"region\"] = multi_region_exposure_keys_df[\"backend_identifier\"]\n",
    "multi_region_exposure_keys_df.rename(\n",
    "    columns={\n",
    "        \"generation_datetime\": \"sample_datetime\",\n",
    "        \"generation_date_string\": \"sample_date_string\",\n",
    "    },\n",
    "    inplace=True)\n",
    "multi_region_exposure_keys_df.head()"
   ]
  },
  {
   "cell_type": "code",
   "execution_count": 12,
   "metadata": {
    "collapsed": false,
    "execution": {
     "iopub.execute_input": "2020-10-22T17:26:05.626501Z",
     "iopub.status.busy": "2020-10-22T17:26:05.625937Z",
     "iopub.status.idle": "2020-10-22T17:26:05.834266Z",
     "shell.execute_reply": "2020-10-22T17:26:05.835090Z"
    },
    "papermill": {
     "duration": 0.26478,
     "end_time": "2020-10-22T17:26:05.835263",
     "exception": false,
     "start_time": "2020-10-22T17:26:05.570483",
     "status": "completed"
    },
    "pycharm": {
     "name": "#%%\n"
    },
    "tags": []
   },
   "outputs": [
    {
     "data": {
      "text/plain": [
       "<matplotlib.axes._subplots.AxesSubplot at 0x7f0f85c08cd0>"
      ]
     },
     "execution_count": 12,
     "metadata": {},
     "output_type": "execute_result"
    },
    {
     "data": {
      "image/png": "[encoded data removed]",
      "text/plain": [
       "<Figure size 1080x432 with 1 Axes>"
      ]
     },
     "metadata": {},
     "output_type": "display_data"
    }
   ],
   "source": [
    "early_teks_df = multi_region_exposure_keys_df[\n",
    "    multi_region_exposure_keys_df.rolling_period < 144].copy()\n",
    "early_teks_df[\"rolling_period_in_hours\"] = early_teks_df.rolling_period / 6\n",
    "early_teks_df[early_teks_df.sample_date_string != extraction_date] \\\n",
    "    .rolling_period_in_hours.hist(bins=list(range(24)))"
   ]
  },
  {
   "cell_type": "code",
   "execution_count": 13,
   "metadata": {
    "collapsed": false,
    "execution": {
     "iopub.execute_input": "2020-10-22T17:26:06.122300Z",
     "iopub.status.busy": "2020-10-22T17:26:05.938962Z",
     "iopub.status.idle": "2020-10-22T17:26:06.311995Z",
     "shell.execute_reply": "2020-10-22T17:26:06.312752Z"
    },
    "papermill": {
     "duration": 0.429141,
     "end_time": "2020-10-22T17:26:06.312933",
     "exception": false,
     "start_time": "2020-10-22T17:26:05.883792",
     "status": "completed"
    },
    "pycharm": {
     "name": "#%%\n"
    },
    "tags": []
   },
   "outputs": [
    {
     "data": {
      "text/plain": [
       "<matplotlib.axes._subplots.AxesSubplot at 0x7f0f84369ca0>"
      ]
     },
     "execution_count": 13,
     "metadata": {},
     "output_type": "execute_result"
    },
    {
     "data": {
      "image/png": "[encoded data removed]",
      "text/plain": [
       "<Figure size 1080x432 with 1 Axes>"
      ]
     },
     "metadata": {},
     "output_type": "display_data"
    }
   ],
   "source": [
    "early_teks_df[early_teks_df.sample_date_string == extraction_date] \\\n",
    "    .rolling_period_in_hours.hist(bins=list(range(24)))"
   ]
  },
  {
   "cell_type": "code",
   "execution_count": 14,
   "metadata": {
    "collapsed": false,
    "execution": {
     "iopub.execute_input": "2020-10-22T17:26:06.413565Z",
     "iopub.status.busy": "2020-10-22T17:26:06.412990Z",
     "iopub.status.idle": "2020-10-22T17:26:06.430556Z",
     "shell.execute_reply": "2020-10-22T17:26:06.431072Z"
    },
    "papermill": {
     "duration": 0.07052,
     "end_time": "2020-10-22T17:26:06.431245",
     "exception": false,
     "start_time": "2020-10-22T17:26:06.360725",
     "status": "completed"
    },
    "pycharm": {
     "name": "#%%\n"
    },
    "tags": []
   },
   "outputs": [
    {
     "data": {
      "text/html": [
       "<div>\n",
       "<style scoped>\n",
       "    .dataframe tbody tr th:only-of-type {\n",
       "        vertical-align: middle;\n",
       "    }\n",
       "\n",
       "    .dataframe tbody tr th {\n",
       "        vertical-align: top;\n",
       "    }\n",
       "\n",
       "    .dataframe thead th {\n",
       "        text-align: right;\n",
       "    }\n",
       "</style>\n",
       "<table border=\"1\" class=\"dataframe\">\n",
       "  <thead>\n",
       "    <tr style=\"text-align: right;\">\n",
       "      <th></th>\n",
       "      <th>sample_date_string</th>\n",
       "      <th>region</th>\n",
       "      <th>key_data</th>\n",
       "    </tr>\n",
       "  </thead>\n",
       "  <tbody>\n",
       "    <tr>\n",
       "      <th>0</th>\n",
       "      <td>2020-10-22</td>\n",
       "      <td>ES</td>\n",
       "      <td>84734ab3-0543-6c54-fba4-ac98f9081ec6</td>\n",
       "    </tr>\n",
       "    <tr>\n",
       "      <th>1</th>\n",
       "      <td>2020-10-22</td>\n",
       "      <td>ES</td>\n",
       "      <td>cd43cccf-7a51-328f-c77c-031eee407ed1</td>\n",
       "    </tr>\n",
       "    <tr>\n",
       "      <th>2</th>\n",
       "      <td>2020-10-22</td>\n",
       "      <td>ES</td>\n",
       "      <td>5bc57f3e-861a-1af5-c985-4eb42250d0ea</td>\n",
       "    </tr>\n",
       "    <tr>\n",
       "      <th>3</th>\n",
       "      <td>2020-10-22</td>\n",
       "      <td>ES</td>\n",
       "      <td>99695df2-99fc-494f-8727-c730d171317a</td>\n",
       "    </tr>\n",
       "    <tr>\n",
       "      <th>4</th>\n",
       "      <td>2020-10-22</td>\n",
       "      <td>ES</td>\n",
       "      <td>0ec577b7-d49e-a6fa-8211-e3d2e75f3a05</td>\n",
       "    </tr>\n",
       "  </tbody>\n",
       "</table>\n",
       "</div>"
      ],
      "text/plain": [
       "  sample_date_string region                              key_data\n",
       "0         2020-10-22     ES  84734ab3-0543-6c54-fba4-ac98f9081ec6\n",
       "1         2020-10-22     ES  cd43cccf-7a51-328f-c77c-031eee407ed1\n",
       "2         2020-10-22     ES  5bc57f3e-861a-1af5-c985-4eb42250d0ea\n",
       "3         2020-10-22     ES  99695df2-99fc-494f-8727-c730d171317a\n",
       "4         2020-10-22     ES  0ec577b7-d49e-a6fa-8211-e3d2e75f3a05"
      ]
     },
     "execution_count": 14,
     "metadata": {},
     "output_type": "execute_result"
    }
   ],
   "source": [
    "multi_region_exposure_keys_df = multi_region_exposure_keys_df[[\n",
    "    \"sample_date_string\", \"region\", \"key_data\"]]\n",
    "multi_region_exposure_keys_df.head()"
   ]
  },
  {
   "cell_type": "code",
   "execution_count": 15,
   "metadata": {
    "collapsed": false,
    "execution": {
     "iopub.execute_input": "2020-10-22T17:26:06.536193Z",
     "iopub.status.busy": "2020-10-22T17:26:06.535635Z",
     "iopub.status.idle": "2020-10-22T17:26:07.385751Z",
     "shell.execute_reply": "2020-10-22T17:26:07.385249Z"
    },
    "papermill": {
     "duration": 0.906927,
     "end_time": "2020-10-22T17:26:07.385889",
     "exception": false,
     "start_time": "2020-10-22T17:26:06.478962",
     "status": "completed"
    },
    "pycharm": {
     "name": "#%%\n"
    },
    "tags": []
   },
   "outputs": [
    {
     "data": {
      "text/plain": [
       "['EE', 'BE@TST', 'IT-IT', 'MT', 'PT', 'ES@PRE', 'ES', 'BE', 'IT', 'CH', 'DE']"
      ]
     },
     "execution_count": 15,
     "metadata": {},
     "output_type": "execute_result"
    }
   ],
   "source": [
    "active_regions = \\\n",
    "    multi_region_exposure_keys_df.groupby(\"region\").key_data.nunique().sort_values().index.unique().tolist()\n",
    "active_regions"
   ]
  },
  {
   "cell_type": "code",
   "execution_count": 16,
   "metadata": {
    "collapsed": false,
    "execution": {
     "iopub.execute_input": "2020-10-22T17:26:07.504352Z",
     "iopub.status.busy": "2020-10-22T17:26:07.503739Z",
     "iopub.status.idle": "2020-10-22T17:26:08.411080Z",
     "shell.execute_reply": "2020-10-22T17:26:08.411685Z"
    },
    "papermill": {
     "duration": 0.975179,
     "end_time": "2020-10-22T17:26:08.411898",
     "exception": false,
     "start_time": "2020-10-22T17:26:07.436719",
     "status": "completed"
    },
    "pycharm": {
     "name": "#%%\n"
    },
    "tags": []
   },
   "outputs": [
    {
     "data": {
      "text/html": [
       "<div>\n",
       "<style scoped>\n",
       "    .dataframe tbody tr th:only-of-type {\n",
       "        vertical-align: middle;\n",
       "    }\n",
       "\n",
       "    .dataframe tbody tr th {\n",
       "        vertical-align: top;\n",
       "    }\n",
       "\n",
       "    .dataframe thead tr th {\n",
       "        text-align: left;\n",
       "    }\n",
       "\n",
       "    .dataframe thead tr:last-of-type th {\n",
       "        text-align: right;\n",
       "    }\n",
       "</style>\n",
       "<table border=\"1\" class=\"dataframe\">\n",
       "  <thead>\n",
       "    <tr>\n",
       "      <th></th>\n",
       "      <th colspan=\"11\" halign=\"left\">shared_teks_by_generation_date</th>\n",
       "    </tr>\n",
       "    <tr>\n",
       "      <th>region</th>\n",
       "      <th>BE</th>\n",
       "      <th>BE@TST</th>\n",
       "      <th>CH</th>\n",
       "      <th>DE</th>\n",
       "      <th>EE</th>\n",
       "      <th>ES</th>\n",
       "      <th>ES@PRE</th>\n",
       "      <th>IT</th>\n",
       "      <th>IT-IT</th>\n",
       "      <th>MT</th>\n",
       "      <th>PT</th>\n",
       "    </tr>\n",
       "    <tr>\n",
       "      <th>sample_date</th>\n",
       "      <th></th>\n",
       "      <th></th>\n",
       "      <th></th>\n",
       "      <th></th>\n",
       "      <th></th>\n",
       "      <th></th>\n",
       "      <th></th>\n",
       "      <th></th>\n",
       "      <th></th>\n",
       "      <th></th>\n",
       "      <th></th>\n",
       "    </tr>\n",
       "  </thead>\n",
       "  <tbody>\n",
       "    <tr>\n",
       "      <th>2020-10-22</th>\n",
       "      <td>0</td>\n",
       "      <td>0</td>\n",
       "      <td>188</td>\n",
       "      <td>0</td>\n",
       "      <td>0</td>\n",
       "      <td>115</td>\n",
       "      <td>24</td>\n",
       "      <td>0</td>\n",
       "      <td>0</td>\n",
       "      <td>0</td>\n",
       "      <td>0</td>\n",
       "    </tr>\n",
       "    <tr>\n",
       "      <th>2020-10-21</th>\n",
       "      <td>0</td>\n",
       "      <td>0</td>\n",
       "      <td>680</td>\n",
       "      <td>0</td>\n",
       "      <td>8</td>\n",
       "      <td>253</td>\n",
       "      <td>47</td>\n",
       "      <td>44</td>\n",
       "      <td>0</td>\n",
       "      <td>107</td>\n",
       "      <td>62</td>\n",
       "    </tr>\n",
       "    <tr>\n",
       "      <th>2020-10-20</th>\n",
       "      <td>370</td>\n",
       "      <td>48</td>\n",
       "      <td>1171</td>\n",
       "      <td>1374</td>\n",
       "      <td>13</td>\n",
       "      <td>380</td>\n",
       "      <td>47</td>\n",
       "      <td>1068</td>\n",
       "      <td>0</td>\n",
       "      <td>113</td>\n",
       "      <td>93</td>\n",
       "    </tr>\n",
       "    <tr>\n",
       "      <th>2020-10-19</th>\n",
       "      <td>597</td>\n",
       "      <td>50</td>\n",
       "      <td>1627</td>\n",
       "      <td>2300</td>\n",
       "      <td>14</td>\n",
       "      <td>483</td>\n",
       "      <td>89</td>\n",
       "      <td>1522</td>\n",
       "      <td>76</td>\n",
       "      <td>115</td>\n",
       "      <td>134</td>\n",
       "    </tr>\n",
       "    <tr>\n",
       "      <th>2020-10-18</th>\n",
       "      <td>678</td>\n",
       "      <td>45</td>\n",
       "      <td>1982</td>\n",
       "      <td>2649</td>\n",
       "      <td>14</td>\n",
       "      <td>560</td>\n",
       "      <td>96</td>\n",
       "      <td>1422</td>\n",
       "      <td>61</td>\n",
       "      <td>118</td>\n",
       "      <td>182</td>\n",
       "    </tr>\n",
       "  </tbody>\n",
       "</table>\n",
       "</div>"
      ],
      "text/plain": [
       "            shared_teks_by_generation_date                                     \\\n",
       "region                                  BE BE@TST    CH    DE  EE   ES ES@PRE   \n",
       "sample_date                                                                     \n",
       "2020-10-22                               0      0   188     0   0  115     24   \n",
       "2020-10-21                               0      0   680     0   8  253     47   \n",
       "2020-10-20                             370     48  1171  1374  13  380     47   \n",
       "2020-10-19                             597     50  1627  2300  14  483     89   \n",
       "2020-10-18                             678     45  1982  2649  14  560     96   \n",
       "\n",
       "                                   \n",
       "region         IT IT-IT   MT   PT  \n",
       "sample_date                        \n",
       "2020-10-22      0     0    0    0  \n",
       "2020-10-21     44     0  107   62  \n",
       "2020-10-20   1068     0  113   93  \n",
       "2020-10-19   1522    76  115  134  \n",
       "2020-10-18   1422    61  118  182  "
      ]
     },
     "execution_count": 16,
     "metadata": {},
     "output_type": "execute_result"
    }
   ],
   "source": [
    "multi_region_summary_df = multi_region_exposure_keys_df.groupby(\n",
    "    [\"sample_date_string\", \"region\"]).key_data.nunique().reset_index() \\\n",
    "    .pivot(index=\"sample_date_string\", columns=\"region\") \\\n",
    "    .sort_index(ascending=False)\n",
    "multi_region_summary_df.rename(\n",
    "    columns={\"key_data\": \"shared_teks_by_generation_date\"},\n",
    "    inplace=True)\n",
    "multi_region_summary_df.rename_axis(\"sample_date\", inplace=True)\n",
    "multi_region_summary_df = multi_region_summary_df.fillna(0).astype(int)\n",
    "multi_region_summary_df = multi_region_summary_df.head(backend_generation_days)\n",
    "multi_region_summary_df.head()"
   ]
  },
  {
   "cell_type": "code",
   "execution_count": 17,
   "metadata": {
    "collapsed": false,
    "execution": {
     "iopub.execute_input": "2020-10-22T17:26:08.528680Z",
     "iopub.status.busy": "2020-10-22T17:26:08.528085Z",
     "iopub.status.idle": "2020-10-22T17:26:09.335337Z",
     "shell.execute_reply": "2020-10-22T17:26:09.335762Z"
    },
    "papermill": {
     "duration": 0.873389,
     "end_time": "2020-10-22T17:26:09.335933",
     "exception": false,
     "start_time": "2020-10-22T17:26:08.462544",
     "status": "completed"
    },
    "pycharm": {
     "name": "#%%\n"
    },
    "tags": []
   },
   "outputs": [
    {
     "data": {
      "text/plain": [
       "['EE', 'BE@TST', 'IT-IT', 'MT', 'PT', 'ES@PRE', 'BE', 'IT', 'CH', 'DE']"
      ]
     },
     "execution_count": 17,
     "metadata": {},
     "output_type": "execute_result"
    }
   ],
   "source": [
    "multi_region_without_active_region_exposure_keys_df = \\\n",
    "    multi_region_exposure_keys_df[multi_region_exposure_keys_df.region != active_region_country_code]\n",
    "multi_region_without_active_region = \\\n",
    "    multi_region_without_active_region_exposure_keys_df.groupby(\"region\").key_data.nunique().sort_values().index.unique().tolist()\n",
    "multi_region_without_active_region"
   ]
  },
  {
   "cell_type": "code",
   "execution_count": 18,
   "metadata": {
    "execution": {
     "iopub.execute_input": "2020-10-22T17:26:09.462583Z",
     "iopub.status.busy": "2020-10-22T17:26:09.461963Z",
     "iopub.status.idle": "2020-10-22T17:26:09.512528Z",
     "shell.execute_reply": "2020-10-22T17:26:09.512954Z"
    },
    "papermill": {
     "duration": 0.118619,
     "end_time": "2020-10-22T17:26:09.513126",
     "exception": false,
     "start_time": "2020-10-22T17:26:09.394507",
     "status": "completed"
    },
    "scrolled": false,
    "tags": []
   },
   "outputs": [
    {
     "name": "stderr",
     "output_type": "stream",
     "text": [
      "/opt/hostedtoolcache/Python/3.8.6/x64/lib/python3.8/site-packages/pandas/core/frame.py:4110: SettingWithCopyWarning: \n",
      "A value is trying to be set on a copy of a slice from a DataFrame\n",
      "\n",
      "See the caveats in the documentation: http://pandas.pydata.org/pandas-docs/stable/user_guide/indexing.html#returning-a-view-versus-a-copy\n",
      "  return super().drop(\n"
     ]
    },
    {
     "data": {
      "text/html": [
       "<div>\n",
       "<style scoped>\n",
       "    .dataframe tbody tr th:only-of-type {\n",
       "        vertical-align: middle;\n",
       "    }\n",
       "\n",
       "    .dataframe tbody tr th {\n",
       "        vertical-align: top;\n",
       "    }\n",
       "\n",
       "    .dataframe thead th {\n",
       "        text-align: right;\n",
       "    }\n",
       "</style>\n",
       "<table border=\"1\" class=\"dataframe\">\n",
       "  <thead>\n",
       "    <tr style=\"text-align: right;\">\n",
       "      <th></th>\n",
       "      <th>shared_teks_by_generation_date</th>\n",
       "    </tr>\n",
       "    <tr>\n",
       "      <th>sample_date_string</th>\n",
       "      <th></th>\n",
       "    </tr>\n",
       "  </thead>\n",
       "  <tbody>\n",
       "    <tr>\n",
       "      <th>2020-10-22</th>\n",
       "      <td>115</td>\n",
       "    </tr>\n",
       "    <tr>\n",
       "      <th>2020-10-21</th>\n",
       "      <td>253</td>\n",
       "    </tr>\n",
       "    <tr>\n",
       "      <th>2020-10-20</th>\n",
       "      <td>380</td>\n",
       "    </tr>\n",
       "    <tr>\n",
       "      <th>2020-10-19</th>\n",
       "      <td>483</td>\n",
       "    </tr>\n",
       "    <tr>\n",
       "      <th>2020-10-18</th>\n",
       "      <td>560</td>\n",
       "    </tr>\n",
       "  </tbody>\n",
       "</table>\n",
       "</div>"
      ],
      "text/plain": [
       "                    shared_teks_by_generation_date\n",
       "sample_date_string                                \n",
       "2020-10-22                                     115\n",
       "2020-10-21                                     253\n",
       "2020-10-20                                     380\n",
       "2020-10-19                                     483\n",
       "2020-10-18                                     560"
      ]
     },
     "execution_count": 18,
     "metadata": {},
     "output_type": "execute_result"
    }
   ],
   "source": [
    "exposure_keys_summary_df = multi_region_exposure_keys_df[\n",
    "    multi_region_exposure_keys_df.region == active_region_country_code]\n",
    "exposure_keys_summary_df.drop(columns=[\"region\"], inplace=True)\n",
    "exposure_keys_summary_df = \\\n",
    "    exposure_keys_summary_df.groupby([\"sample_date_string\"]).key_data.nunique().to_frame()\n",
    "exposure_keys_summary_df = \\\n",
    "    exposure_keys_summary_df.reset_index().set_index(\"sample_date_string\")\n",
    "exposure_keys_summary_df.sort_index(ascending=False, inplace=True)\n",
    "exposure_keys_summary_df.rename(columns={\"key_data\": \"shared_teks_by_generation_date\"}, inplace=True)\n",
    "exposure_keys_summary_df.head()"
   ]
  },
  {
   "cell_type": "markdown",
   "metadata": {
    "papermill": {
     "duration": 0.0492,
     "end_time": "2020-10-22T17:26:09.611670",
     "exception": false,
     "start_time": "2020-10-22T17:26:09.562470",
     "status": "completed"
    },
    "tags": []
   },
   "source": [
    "### Dump API TEKs"
   ]
  },
  {
   "cell_type": "code",
   "execution_count": 19,
   "metadata": {
    "execution": {
     "iopub.execute_input": "2020-10-22T17:26:09.719392Z",
     "iopub.status.busy": "2020-10-22T17:26:09.718761Z",
     "iopub.status.idle": "2020-10-22T17:26:10.547026Z",
     "shell.execute_reply": "2020-10-22T17:26:10.547486Z"
    },
    "papermill": {
     "duration": 0.886654,
     "end_time": "2020-10-22T17:26:10.547654",
     "exception": false,
     "start_time": "2020-10-22T17:26:09.661000",
     "status": "completed"
    },
    "tags": []
   },
   "outputs": [
    {
     "data": {
      "text/html": [
       "<div>\n",
       "<style scoped>\n",
       "    .dataframe tbody tr th:only-of-type {\n",
       "        vertical-align: middle;\n",
       "    }\n",
       "\n",
       "    .dataframe tbody tr th {\n",
       "        vertical-align: top;\n",
       "    }\n",
       "\n",
       "    .dataframe thead th {\n",
       "        text-align: right;\n",
       "    }\n",
       "</style>\n",
       "<table border=\"1\" class=\"dataframe\">\n",
       "  <thead>\n",
       "    <tr style=\"text-align: right;\">\n",
       "      <th></th>\n",
       "      <th>sample_date</th>\n",
       "      <th>region</th>\n",
       "      <th>tek_list</th>\n",
       "      <th>extraction_date</th>\n",
       "      <th>extraction_date_with_hour</th>\n",
       "    </tr>\n",
       "  </thead>\n",
       "  <tbody>\n",
       "    <tr>\n",
       "      <th>0</th>\n",
       "      <td>2020-10-09</td>\n",
       "      <td>BE</td>\n",
       "      <td>[01f2109d-f69d-2976-27b3-58e628713ba2, 026167c...</td>\n",
       "      <td>2020-10-22</td>\n",
       "      <td>2020-10-22@17</td>\n",
       "    </tr>\n",
       "    <tr>\n",
       "      <th>1</th>\n",
       "      <td>2020-10-09</td>\n",
       "      <td>BE@TST</td>\n",
       "      <td>[07c71759-8493-55b4-52fa-f9165be0f8f2, 096ef72...</td>\n",
       "      <td>2020-10-22</td>\n",
       "      <td>2020-10-22@17</td>\n",
       "    </tr>\n",
       "    <tr>\n",
       "      <th>2</th>\n",
       "      <td>2020-10-09</td>\n",
       "      <td>CH</td>\n",
       "      <td>[3cef7e44-8c6e-63e6-1350-9f021336174b, 05b45b1...</td>\n",
       "      <td>2020-10-22</td>\n",
       "      <td>2020-10-22@17</td>\n",
       "    </tr>\n",
       "    <tr>\n",
       "      <th>3</th>\n",
       "      <td>2020-10-09</td>\n",
       "      <td>DE</td>\n",
       "      <td>[0014e0f1-2c0f-92ab-7048-e573793698a0, 0017e32...</td>\n",
       "      <td>2020-10-22</td>\n",
       "      <td>2020-10-22@17</td>\n",
       "    </tr>\n",
       "    <tr>\n",
       "      <th>4</th>\n",
       "      <td>2020-10-09</td>\n",
       "      <td>EE</td>\n",
       "      <td>[29785eb4-dc4d-9ef2-9cbe-ea94a9a44d87, 7d3c0b3...</td>\n",
       "      <td>2020-10-22</td>\n",
       "      <td>2020-10-22@17</td>\n",
       "    </tr>\n",
       "  </tbody>\n",
       "</table>\n",
       "</div>"
      ],
      "text/plain": [
       "  sample_date  region                                           tek_list  \\\n",
       "0  2020-10-09      BE  [01f2109d-f69d-2976-27b3-58e628713ba2, 026167c...   \n",
       "1  2020-10-09  BE@TST  [07c71759-8493-55b4-52fa-f9165be0f8f2, 096ef72...   \n",
       "2  2020-10-09      CH  [3cef7e44-8c6e-63e6-1350-9f021336174b, 05b45b1...   \n",
       "3  2020-10-09      DE  [0014e0f1-2c0f-92ab-7048-e573793698a0, 0017e32...   \n",
       "4  2020-10-09      EE  [29785eb4-dc4d-9ef2-9cbe-ea94a9a44d87, 7d3c0b3...   \n",
       "\n",
       "  extraction_date extraction_date_with_hour  \n",
       "0      2020-10-22             2020-10-22@17  \n",
       "1      2020-10-22             2020-10-22@17  \n",
       "2      2020-10-22             2020-10-22@17  \n",
       "3      2020-10-22             2020-10-22@17  \n",
       "4      2020-10-22             2020-10-22@17  "
      ]
     },
     "execution_count": 19,
     "metadata": {},
     "output_type": "execute_result"
    }
   ],
   "source": [
    "tek_list_df = multi_region_exposure_keys_df[\n",
    "    [\"sample_date_string\", \"region\", \"key_data\"]].copy()\n",
    "tek_list_df[\"key_data\"] = tek_list_df[\"key_data\"].apply(str)\n",
    "tek_list_df.rename(columns={\n",
    "    \"sample_date_string\": \"sample_date\",\n",
    "    \"key_data\": \"tek_list\"}, inplace=True)\n",
    "tek_list_df = tek_list_df.groupby(\n",
    "    [\"sample_date\", \"region\"]).tek_list.unique().reset_index()\n",
    "tek_list_df[\"extraction_date\"] = extraction_date\n",
    "tek_list_df[\"extraction_date_with_hour\"] = extraction_date_with_hour\n",
    "\n",
    "tek_list_path_prefix = \"Data/TEKs/\"\n",
    "tek_list_current_path = tek_list_path_prefix + f\"/Current/RadarCOVID-TEKs.json\"\n",
    "tek_list_daily_path = tek_list_path_prefix + f\"Daily/RadarCOVID-TEKs-{extraction_date}.json\"\n",
    "tek_list_hourly_path = tek_list_path_prefix + f\"Hourly/RadarCOVID-TEKs-{extraction_date_with_hour}.json\"\n",
    "\n",
    "for path in [tek_list_current_path, tek_list_daily_path, tek_list_hourly_path]:\n",
    "    os.makedirs(os.path.dirname(path), exist_ok=True)\n",
    "\n",
    "tek_list_df.drop(columns=[\"extraction_date\", \"extraction_date_with_hour\"]).to_json(\n",
    "    tek_list_current_path,\n",
    "    lines=True, orient=\"records\")\n",
    "tek_list_df.drop(columns=[\"extraction_date_with_hour\"]).to_json(\n",
    "    tek_list_daily_path,\n",
    "    lines=True, orient=\"records\")\n",
    "tek_list_df.to_json(\n",
    "    tek_list_hourly_path,\n",
    "    lines=True, orient=\"records\")\n",
    "tek_list_df.head()"
   ]
  },
  {
   "cell_type": "markdown",
   "metadata": {
    "papermill": {
     "duration": 0.05025,
     "end_time": "2020-10-22T17:26:10.648729",
     "exception": false,
     "start_time": "2020-10-22T17:26:10.598479",
     "status": "completed"
    },
    "tags": []
   },
   "source": [
    "### Load TEK Dumps"
   ]
  },
  {
   "cell_type": "code",
   "execution_count": 20,
   "metadata": {
    "execution": {
     "iopub.execute_input": "2020-10-22T17:26:10.759381Z",
     "iopub.status.busy": "2020-10-22T17:26:10.758027Z",
     "iopub.status.idle": "2020-10-22T17:26:10.760027Z",
     "shell.execute_reply": "2020-10-22T17:26:10.760473Z"
    },
    "papermill": {
     "duration": 0.06207,
     "end_time": "2020-10-22T17:26:10.760647",
     "exception": false,
     "start_time": "2020-10-22T17:26:10.698577",
     "status": "completed"
    },
    "tags": []
   },
   "outputs": [],
   "source": [
    "import glob\n",
    "\n",
    "def load_extracted_teks(mode, region=None, limit=None) -> pd.DataFrame:\n",
    "    extracted_teks_df = pd.DataFrame(columns=[\"region\"])\n",
    "    paths = list(reversed(sorted(glob.glob(tek_list_path_prefix + mode + \"/RadarCOVID-TEKs-*.json\"))))\n",
    "    if limit:\n",
    "        paths = paths[:limit]\n",
    "    for path in paths:\n",
    "        logging.info(f\"Loading TEKs from '{path}'...\")\n",
    "        iteration_extracted_teks_df = pd.read_json(path, lines=True)\n",
    "        extracted_teks_df = extracted_teks_df.append(\n",
    "            iteration_extracted_teks_df, sort=False)\n",
    "    extracted_teks_df[\"region\"] = \\\n",
    "        extracted_teks_df.region.fillna(spain_region_country_code).copy()\n",
    "    if region:\n",
    "        extracted_teks_df = \\\n",
    "            extracted_teks_df[extracted_teks_df.region == region]\n",
    "    return extracted_teks_df"
   ]
  },
  {
   "cell_type": "code",
   "execution_count": 21,
   "metadata": {
    "collapsed": false,
    "execution": {
     "iopub.execute_input": "2020-10-22T17:26:10.870249Z",
     "iopub.status.busy": "2020-10-22T17:26:10.869672Z",
     "iopub.status.idle": "2020-10-22T17:26:11.373003Z",
     "shell.execute_reply": "2020-10-22T17:26:11.372481Z"
    },
    "papermill": {
     "duration": 0.562496,
     "end_time": "2020-10-22T17:26:11.373156",
     "exception": false,
     "start_time": "2020-10-22T17:26:10.810660",
     "status": "completed"
    },
    "pycharm": {
     "name": "#%%\n"
    },
    "tags": []
   },
   "outputs": [
    {
     "data": {
      "text/html": [
       "<div>\n",
       "<style scoped>\n",
       "    .dataframe tbody tr th:only-of-type {\n",
       "        vertical-align: middle;\n",
       "    }\n",
       "\n",
       "    .dataframe tbody tr th {\n",
       "        vertical-align: top;\n",
       "    }\n",
       "\n",
       "    .dataframe thead th {\n",
       "        text-align: right;\n",
       "    }\n",
       "</style>\n",
       "<table border=\"1\" class=\"dataframe\">\n",
       "  <thead>\n",
       "    <tr style=\"text-align: right;\">\n",
       "      <th></th>\n",
       "      <th>region</th>\n",
       "      <th>sample_date</th>\n",
       "      <th>tek_list</th>\n",
       "      <th>extraction_date</th>\n",
       "      <th>extraction_date_with_hour</th>\n",
       "    </tr>\n",
       "  </thead>\n",
       "  <tbody>\n",
       "    <tr>\n",
       "      <th>5</th>\n",
       "      <td>ES</td>\n",
       "      <td>2020-10-09</td>\n",
       "      <td>[15d46f9f-e32c-e3af-ed45-5ac54d644e79, 808f4df...</td>\n",
       "      <td>2020-10-22</td>\n",
       "      <td>NaN</td>\n",
       "    </tr>\n",
       "    <tr>\n",
       "      <th>16</th>\n",
       "      <td>ES</td>\n",
       "      <td>2020-10-10</td>\n",
       "      <td>[bcd68f2c-0117-7b8a-c1bf-1f7969be087a, 5cdf321...</td>\n",
       "      <td>2020-10-22</td>\n",
       "      <td>NaN</td>\n",
       "    </tr>\n",
       "    <tr>\n",
       "      <th>27</th>\n",
       "      <td>ES</td>\n",
       "      <td>2020-10-11</td>\n",
       "      <td>[cc14a8f6-049d-fc1a-a2a3-95940c7b3ac1, 1070dc5...</td>\n",
       "      <td>2020-10-22</td>\n",
       "      <td>NaN</td>\n",
       "    </tr>\n",
       "    <tr>\n",
       "      <th>38</th>\n",
       "      <td>ES</td>\n",
       "      <td>2020-10-12</td>\n",
       "      <td>[e2be1136-09b6-cc6e-d95b-fd60103e29c3, 61b859a...</td>\n",
       "      <td>2020-10-22</td>\n",
       "      <td>NaN</td>\n",
       "    </tr>\n",
       "    <tr>\n",
       "      <th>49</th>\n",
       "      <td>ES</td>\n",
       "      <td>2020-10-13</td>\n",
       "      <td>[0d67b699-88f5-c5ea-5ce6-5805c23d2bc7, 726646a...</td>\n",
       "      <td>2020-10-22</td>\n",
       "      <td>NaN</td>\n",
       "    </tr>\n",
       "  </tbody>\n",
       "</table>\n",
       "</div>"
      ],
      "text/plain": [
       "   region sample_date                                           tek_list  \\\n",
       "5      ES  2020-10-09  [15d46f9f-e32c-e3af-ed45-5ac54d644e79, 808f4df...   \n",
       "16     ES  2020-10-10  [bcd68f2c-0117-7b8a-c1bf-1f7969be087a, 5cdf321...   \n",
       "27     ES  2020-10-11  [cc14a8f6-049d-fc1a-a2a3-95940c7b3ac1, 1070dc5...   \n",
       "38     ES  2020-10-12  [e2be1136-09b6-cc6e-d95b-fd60103e29c3, 61b859a...   \n",
       "49     ES  2020-10-13  [0d67b699-88f5-c5ea-5ce6-5805c23d2bc7, 726646a...   \n",
       "\n",
       "   extraction_date extraction_date_with_hour  \n",
       "5       2020-10-22                       NaN  \n",
       "16      2020-10-22                       NaN  \n",
       "27      2020-10-22                       NaN  \n",
       "38      2020-10-22                       NaN  \n",
       "49      2020-10-22                       NaN  "
      ]
     },
     "execution_count": 21,
     "metadata": {},
     "output_type": "execute_result"
    }
   ],
   "source": [
    "daily_extracted_teks_df = load_extracted_teks(\n",
    "    mode=\"Daily\",\n",
    "    region=active_region_country_code,\n",
    "    limit=tek_dumps_load_limit)\n",
    "daily_extracted_teks_df.head()"
   ]
  },
  {
   "cell_type": "code",
   "execution_count": 22,
   "metadata": {
    "collapsed": false,
    "execution": {
     "iopub.execute_input": "2020-10-22T17:26:11.482929Z",
     "iopub.status.busy": "2020-10-22T17:26:11.481610Z",
     "iopub.status.idle": "2020-10-22T17:26:11.495138Z",
     "shell.execute_reply": "2020-10-22T17:26:11.494619Z"
    },
    "papermill": {
     "duration": 0.070502,
     "end_time": "2020-10-22T17:26:11.495273",
     "exception": false,
     "start_time": "2020-10-22T17:26:11.424771",
     "status": "completed"
    },
    "pycharm": {
     "name": "#%%\n"
    },
    "tags": []
   },
   "outputs": [
    {
     "data": {
      "text/html": [
       "<div>\n",
       "<style scoped>\n",
       "    .dataframe tbody tr th:only-of-type {\n",
       "        vertical-align: middle;\n",
       "    }\n",
       "\n",
       "    .dataframe tbody tr th {\n",
       "        vertical-align: top;\n",
       "    }\n",
       "\n",
       "    .dataframe thead th {\n",
       "        text-align: right;\n",
       "    }\n",
       "</style>\n",
       "<table border=\"1\" class=\"dataframe\">\n",
       "  <thead>\n",
       "    <tr style=\"text-align: right;\">\n",
       "      <th></th>\n",
       "      <th>shared_teks_by_generation_date</th>\n",
       "    </tr>\n",
       "    <tr>\n",
       "      <th>sample_date_string</th>\n",
       "      <th></th>\n",
       "    </tr>\n",
       "  </thead>\n",
       "  <tbody>\n",
       "    <tr>\n",
       "      <th>2020-10-22</th>\n",
       "      <td>115</td>\n",
       "    </tr>\n",
       "    <tr>\n",
       "      <th>2020-10-21</th>\n",
       "      <td>253</td>\n",
       "    </tr>\n",
       "    <tr>\n",
       "      <th>2020-10-20</th>\n",
       "      <td>380</td>\n",
       "    </tr>\n",
       "    <tr>\n",
       "      <th>2020-10-19</th>\n",
       "      <td>483</td>\n",
       "    </tr>\n",
       "    <tr>\n",
       "      <th>2020-10-18</th>\n",
       "      <td>560</td>\n",
       "    </tr>\n",
       "  </tbody>\n",
       "</table>\n",
       "</div>"
      ],
      "text/plain": [
       "                    shared_teks_by_generation_date\n",
       "sample_date_string                                \n",
       "2020-10-22                                     115\n",
       "2020-10-21                                     253\n",
       "2020-10-20                                     380\n",
       "2020-10-19                                     483\n",
       "2020-10-18                                     560"
      ]
     },
     "execution_count": 22,
     "metadata": {},
     "output_type": "execute_result"
    }
   ],
   "source": [
    "exposure_keys_summary_df_ = daily_extracted_teks_df \\\n",
    "    .sort_values(\"extraction_date\", ascending=False) \\\n",
    "    .groupby(\"sample_date\").tek_list.first() \\\n",
    "    .to_frame()\n",
    "exposure_keys_summary_df_.index.name = \"sample_date_string\"\n",
    "exposure_keys_summary_df_[\"tek_list\"] = \\\n",
    "    exposure_keys_summary_df_.tek_list.apply(len)\n",
    "exposure_keys_summary_df_ = exposure_keys_summary_df_ \\\n",
    "    .rename(columns={\"tek_list\": \"shared_teks_by_generation_date\"}) \\\n",
    "    .sort_index(ascending=False)\n",
    "exposure_keys_summary_df = exposure_keys_summary_df_\n",
    "exposure_keys_summary_df.head()"
   ]
  },
  {
   "cell_type": "markdown",
   "metadata": {
    "execution": {
     "iopub.execute_input": "2020-08-30T22:30:16.632967Z",
     "iopub.status.busy": "2020-08-30T22:30:16.632308Z",
     "iopub.status.idle": "2020-08-30T22:30:16.634945Z",
     "shell.execute_reply": "2020-08-30T22:30:16.635575Z"
    },
    "papermill": {
     "duration": 0.050683,
     "end_time": "2020-10-22T17:26:11.596974",
     "exception": false,
     "start_time": "2020-10-22T17:26:11.546291",
     "status": "completed"
    },
    "pycharm": {
     "name": "#%% md\n"
    },
    "tags": []
   },
   "source": [
    "### Daily New TEKs"
   ]
  },
  {
   "cell_type": "code",
   "execution_count": 23,
   "metadata": {
    "execution": {
     "iopub.execute_input": "2020-10-22T17:26:11.740616Z",
     "iopub.status.busy": "2020-10-22T17:26:11.725422Z",
     "iopub.status.idle": "2020-10-22T17:26:11.742940Z",
     "shell.execute_reply": "2020-10-22T17:26:11.743406Z"
    },
    "papermill": {
     "duration": 0.095605,
     "end_time": "2020-10-22T17:26:11.743574",
     "exception": false,
     "start_time": "2020-10-22T17:26:11.647969",
     "status": "completed"
    },
    "tags": []
   },
   "outputs": [
    {
     "data": {
      "text/html": [
       "<div>\n",
       "<style scoped>\n",
       "    .dataframe tbody tr th:only-of-type {\n",
       "        vertical-align: middle;\n",
       "    }\n",
       "\n",
       "    .dataframe tbody tr th {\n",
       "        vertical-align: top;\n",
       "    }\n",
       "\n",
       "    .dataframe thead th {\n",
       "        text-align: right;\n",
       "    }\n",
       "</style>\n",
       "<table border=\"1\" class=\"dataframe\">\n",
       "  <thead>\n",
       "    <tr style=\"text-align: right;\">\n",
       "      <th></th>\n",
       "      <th>tek_list</th>\n",
       "    </tr>\n",
       "    <tr>\n",
       "      <th>extraction_date</th>\n",
       "      <th></th>\n",
       "    </tr>\n",
       "  </thead>\n",
       "  <tbody>\n",
       "    <tr>\n",
       "      <th>2020-08-29</th>\n",
       "      <td>{8647bd94-5658-5fde-9031-3ddb5a9e64fb, b9788d1...</td>\n",
       "    </tr>\n",
       "    <tr>\n",
       "      <th>2020-08-30</th>\n",
       "      <td>{8647bd94-5658-5fde-9031-3ddb5a9e64fb, b9788d1...</td>\n",
       "    </tr>\n",
       "    <tr>\n",
       "      <th>2020-08-31</th>\n",
       "      <td>{8647bd94-5658-5fde-9031-3ddb5a9e64fb, b9788d1...</td>\n",
       "    </tr>\n",
       "    <tr>\n",
       "      <th>2020-09-01</th>\n",
       "      <td>{8647bd94-5658-5fde-9031-3ddb5a9e64fb, b9788d1...</td>\n",
       "    </tr>\n",
       "    <tr>\n",
       "      <th>2020-09-02</th>\n",
       "      <td>{8647bd94-5658-5fde-9031-3ddb5a9e64fb, b9788d1...</td>\n",
       "    </tr>\n",
       "  </tbody>\n",
       "</table>\n",
       "</div>"
      ],
      "text/plain": [
       "                                                          tek_list\n",
       "extraction_date                                                   \n",
       "2020-08-29       {8647bd94-5658-5fde-9031-3ddb5a9e64fb, b9788d1...\n",
       "2020-08-30       {8647bd94-5658-5fde-9031-3ddb5a9e64fb, b9788d1...\n",
       "2020-08-31       {8647bd94-5658-5fde-9031-3ddb5a9e64fb, b9788d1...\n",
       "2020-09-01       {8647bd94-5658-5fde-9031-3ddb5a9e64fb, b9788d1...\n",
       "2020-09-02       {8647bd94-5658-5fde-9031-3ddb5a9e64fb, b9788d1..."
      ]
     },
     "execution_count": 23,
     "metadata": {},
     "output_type": "execute_result"
    }
   ],
   "source": [
    "tek_list_df = daily_extracted_teks_df.groupby(\"extraction_date\").tek_list.apply(\n",
    "    lambda x: set(sum(x, []))).reset_index()\n",
    "tek_list_df = tek_list_df.set_index(\"extraction_date\").sort_index(ascending=True)\n",
    "tek_list_df.head()"
   ]
  },
  {
   "cell_type": "code",
   "execution_count": 24,
   "metadata": {
    "collapsed": false,
    "execution": {
     "iopub.execute_input": "2020-10-22T17:26:11.873417Z",
     "iopub.status.busy": "2020-10-22T17:26:11.872793Z",
     "iopub.status.idle": "2020-10-22T17:26:12.910938Z",
     "shell.execute_reply": "2020-10-22T17:26:12.911411Z"
    },
    "papermill": {
     "duration": 1.117206,
     "end_time": "2020-10-22T17:26:12.911600",
     "exception": false,
     "start_time": "2020-10-22T17:26:11.794394",
     "status": "completed"
    },
    "pycharm": {
     "name": "#%%\n"
    },
    "tags": []
   },
   "outputs": [
    {
     "name": "stderr",
     "output_type": "stream",
     "text": [
      "<ipython-input-24-827222b35590>:4: FutureWarning: `item` has been deprecated and will be removed in a future version\n",
      "  day_new_teks_set = day_new_teks_set_df[\n"
     ]
    },
    {
     "data": {
      "text/html": [
       "<div>\n",
       "<style scoped>\n",
       "    .dataframe tbody tr th:only-of-type {\n",
       "        vertical-align: middle;\n",
       "    }\n",
       "\n",
       "    .dataframe tbody tr th {\n",
       "        vertical-align: top;\n",
       "    }\n",
       "\n",
       "    .dataframe thead th {\n",
       "        text-align: right;\n",
       "    }\n",
       "</style>\n",
       "<table border=\"1\" class=\"dataframe\">\n",
       "  <thead>\n",
       "    <tr style=\"text-align: right;\">\n",
       "      <th></th>\n",
       "      <th>upload_date</th>\n",
       "      <th>generation_date</th>\n",
       "      <th>shared_teks</th>\n",
       "      <th>generation_to_upload_days</th>\n",
       "    </tr>\n",
       "  </thead>\n",
       "  <tbody>\n",
       "    <tr>\n",
       "      <th>10</th>\n",
       "      <td>2020-08-30</td>\n",
       "      <td>2020-08-29</td>\n",
       "      <td>16</td>\n",
       "      <td>1</td>\n",
       "    </tr>\n",
       "    <tr>\n",
       "      <th>9</th>\n",
       "      <td>2020-08-30</td>\n",
       "      <td>2020-08-28</td>\n",
       "      <td>5</td>\n",
       "      <td>2</td>\n",
       "    </tr>\n",
       "    <tr>\n",
       "      <th>8</th>\n",
       "      <td>2020-08-30</td>\n",
       "      <td>2020-08-27</td>\n",
       "      <td>3</td>\n",
       "      <td>3</td>\n",
       "    </tr>\n",
       "    <tr>\n",
       "      <th>7</th>\n",
       "      <td>2020-08-30</td>\n",
       "      <td>2020-08-26</td>\n",
       "      <td>3</td>\n",
       "      <td>4</td>\n",
       "    </tr>\n",
       "    <tr>\n",
       "      <th>6</th>\n",
       "      <td>2020-08-30</td>\n",
       "      <td>2020-08-25</td>\n",
       "      <td>2</td>\n",
       "      <td>5</td>\n",
       "    </tr>\n",
       "  </tbody>\n",
       "</table>\n",
       "</div>"
      ],
      "text/plain": [
       "   upload_date generation_date  shared_teks  generation_to_upload_days\n",
       "10  2020-08-30      2020-08-29           16                          1\n",
       "9   2020-08-30      2020-08-28            5                          2\n",
       "8   2020-08-30      2020-08-27            3                          3\n",
       "7   2020-08-30      2020-08-26            3                          4\n",
       "6   2020-08-30      2020-08-25            2                          5"
      ]
     },
     "execution_count": 24,
     "metadata": {},
     "output_type": "execute_result"
    }
   ],
   "source": [
    "def compute_teks_by_generation_and_upload_date(date):\n",
    "    day_new_teks_set_df = tek_list_df.copy().diff()\n",
    "    try:\n",
    "        day_new_teks_set = day_new_teks_set_df[\n",
    "            day_new_teks_set_df.index == date].tek_list.item()\n",
    "    except ValueError:\n",
    "        day_new_teks_set = None\n",
    "    if pd.isna(day_new_teks_set):\n",
    "        day_new_teks_set = set()\n",
    "    day_new_teks_df = daily_extracted_teks_df[\n",
    "        daily_extracted_teks_df.extraction_date == date].copy()\n",
    "    day_new_teks_df[\"shared_teks\"] = \\\n",
    "        day_new_teks_df.tek_list.apply(lambda x: set(x).intersection(day_new_teks_set))\n",
    "    day_new_teks_df[\"shared_teks\"] = \\\n",
    "        day_new_teks_df.shared_teks.apply(len)\n",
    "    day_new_teks_df[\"upload_date\"] = date\n",
    "    day_new_teks_df.rename(columns={\"sample_date\": \"generation_date\"}, inplace=True)\n",
    "    day_new_teks_df = day_new_teks_df[\n",
    "        [\"upload_date\", \"generation_date\", \"shared_teks\"]]\n",
    "    day_new_teks_df[\"generation_to_upload_days\"] = \\\n",
    "        (pd.to_datetime(day_new_teks_df.upload_date) -\n",
    "         pd.to_datetime(day_new_teks_df.generation_date)).dt.days\n",
    "    day_new_teks_df = day_new_teks_df[day_new_teks_df.shared_teks > 0]\n",
    "    return day_new_teks_df\n",
    "\n",
    "shared_teks_generation_to_upload_df = pd.DataFrame()\n",
    "for upload_date in daily_extracted_teks_df.extraction_date.unique():\n",
    "    shared_teks_generation_to_upload_df = \\\n",
    "        shared_teks_generation_to_upload_df.append(\n",
    "            compute_teks_by_generation_and_upload_date(date=upload_date))\n",
    "shared_teks_generation_to_upload_df \\\n",
    "    .sort_values([\"upload_date\", \"generation_date\"], ascending=False, inplace=True)\n",
    "shared_teks_generation_to_upload_df.tail()"
   ]
  },
  {
   "cell_type": "code",
   "execution_count": 25,
   "metadata": {
    "collapsed": false,
    "execution": {
     "iopub.execute_input": "2020-10-22T17:26:13.026928Z",
     "iopub.status.busy": "2020-10-22T17:26:13.026296Z",
     "iopub.status.idle": "2020-10-22T17:26:13.028742Z",
     "shell.execute_reply": "2020-10-22T17:26:13.029188Z"
    },
    "papermill": {
     "duration": 0.065681,
     "end_time": "2020-10-22T17:26:13.029360",
     "exception": false,
     "start_time": "2020-10-22T17:26:12.963679",
     "status": "completed"
    },
    "pycharm": {
     "name": "#%%\n"
    },
    "tags": []
   },
   "outputs": [
    {
     "data": {
      "text/html": [
       "<div>\n",
       "<style scoped>\n",
       "    .dataframe tbody tr th:only-of-type {\n",
       "        vertical-align: middle;\n",
       "    }\n",
       "\n",
       "    .dataframe tbody tr th {\n",
       "        vertical-align: top;\n",
       "    }\n",
       "\n",
       "    .dataframe thead th {\n",
       "        text-align: right;\n",
       "    }\n",
       "</style>\n",
       "<table border=\"1\" class=\"dataframe\">\n",
       "  <thead>\n",
       "    <tr style=\"text-align: right;\">\n",
       "      <th></th>\n",
       "      <th>upload_date</th>\n",
       "      <th>generation_date</th>\n",
       "      <th>shared_teks</th>\n",
       "      <th>generation_to_upload_days</th>\n",
       "    </tr>\n",
       "  </thead>\n",
       "  <tbody>\n",
       "    <tr>\n",
       "      <th>49</th>\n",
       "      <td>2020-10-22</td>\n",
       "      <td>2020-10-13</td>\n",
       "      <td>5</td>\n",
       "      <td>9</td>\n",
       "    </tr>\n",
       "    <tr>\n",
       "      <th>38</th>\n",
       "      <td>2020-10-22</td>\n",
       "      <td>2020-10-12</td>\n",
       "      <td>4</td>\n",
       "      <td>10</td>\n",
       "    </tr>\n",
       "    <tr>\n",
       "      <th>27</th>\n",
       "      <td>2020-10-22</td>\n",
       "      <td>2020-10-11</td>\n",
       "      <td>4</td>\n",
       "      <td>11</td>\n",
       "    </tr>\n",
       "    <tr>\n",
       "      <th>16</th>\n",
       "      <td>2020-10-22</td>\n",
       "      <td>2020-10-10</td>\n",
       "      <td>3</td>\n",
       "      <td>12</td>\n",
       "    </tr>\n",
       "    <tr>\n",
       "      <th>5</th>\n",
       "      <td>2020-10-22</td>\n",
       "      <td>2020-10-09</td>\n",
       "      <td>2</td>\n",
       "      <td>13</td>\n",
       "    </tr>\n",
       "  </tbody>\n",
       "</table>\n",
       "</div>"
      ],
      "text/plain": [
       "   upload_date generation_date  shared_teks  generation_to_upload_days\n",
       "49  2020-10-22      2020-10-13            5                          9\n",
       "38  2020-10-22      2020-10-12            4                         10\n",
       "27  2020-10-22      2020-10-11            4                         11\n",
       "16  2020-10-22      2020-10-10            3                         12\n",
       "5   2020-10-22      2020-10-09            2                         13"
      ]
     },
     "execution_count": 25,
     "metadata": {},
     "output_type": "execute_result"
    }
   ],
   "source": [
    "today_new_teks_df = \\\n",
    "    shared_teks_generation_to_upload_df[\n",
    "        shared_teks_generation_to_upload_df.upload_date == extraction_date].copy()\n",
    "today_new_teks_df.tail()"
   ]
  },
  {
   "cell_type": "code",
   "execution_count": 26,
   "metadata": {
    "collapsed": false,
    "execution": {
     "iopub.execute_input": "2020-10-22T17:26:13.138877Z",
     "iopub.status.busy": "2020-10-22T17:26:13.138317Z",
     "iopub.status.idle": "2020-10-22T17:26:13.371022Z",
     "shell.execute_reply": "2020-10-22T17:26:13.371721Z"
    },
    "papermill": {
     "duration": 0.290184,
     "end_time": "2020-10-22T17:26:13.371896",
     "exception": false,
     "start_time": "2020-10-22T17:26:13.081712",
     "status": "completed"
    },
    "pycharm": {
     "name": "#%%\n"
    },
    "tags": []
   },
   "outputs": [
    {
     "data": {
      "image/png": "[encoded data removed]",
      "text/plain": [
       "<Figure size 1080x432 with 1 Axes>"
      ]
     },
     "metadata": {},
     "output_type": "display_data"
    }
   ],
   "source": [
    "if not today_new_teks_df.empty:\n",
    "    today_new_teks_df.set_index(\"generation_to_upload_days\") \\\n",
    "        .sort_index().shared_teks.plot.bar()"
   ]
  },
  {
   "cell_type": "code",
   "execution_count": 27,
   "metadata": {
    "collapsed": false,
    "execution": {
     "iopub.execute_input": "2020-10-22T17:26:13.530170Z",
     "iopub.status.busy": "2020-10-22T17:26:13.529578Z",
     "iopub.status.idle": "2020-10-22T17:26:13.542608Z",
     "shell.execute_reply": "2020-10-22T17:26:13.543053Z"
    },
    "papermill": {
     "duration": 0.083214,
     "end_time": "2020-10-22T17:26:13.543221",
     "exception": false,
     "start_time": "2020-10-22T17:26:13.460007",
     "status": "completed"
    },
    "pycharm": {
     "name": "#%%\n"
    },
    "tags": []
   },
   "outputs": [
    {
     "data": {
      "text/html": [
       "<div>\n",
       "<style scoped>\n",
       "    .dataframe tbody tr th:only-of-type {\n",
       "        vertical-align: middle;\n",
       "    }\n",
       "\n",
       "    .dataframe tbody tr th {\n",
       "        vertical-align: top;\n",
       "    }\n",
       "\n",
       "    .dataframe thead th {\n",
       "        text-align: right;\n",
       "    }\n",
       "</style>\n",
       "<table border=\"1\" class=\"dataframe\">\n",
       "  <thead>\n",
       "    <tr style=\"text-align: right;\">\n",
       "      <th>generation_to_upload_days</th>\n",
       "      <th>0</th>\n",
       "      <th>1</th>\n",
       "      <th>2</th>\n",
       "      <th>3</th>\n",
       "      <th>4</th>\n",
       "      <th>5</th>\n",
       "      <th>6</th>\n",
       "      <th>7</th>\n",
       "      <th>8</th>\n",
       "      <th>9</th>\n",
       "      <th>10</th>\n",
       "      <th>11</th>\n",
       "      <th>12</th>\n",
       "      <th>13</th>\n",
       "    </tr>\n",
       "    <tr>\n",
       "      <th>upload_date</th>\n",
       "      <th></th>\n",
       "      <th></th>\n",
       "      <th></th>\n",
       "      <th></th>\n",
       "      <th></th>\n",
       "      <th></th>\n",
       "      <th></th>\n",
       "      <th></th>\n",
       "      <th></th>\n",
       "      <th></th>\n",
       "      <th></th>\n",
       "      <th></th>\n",
       "      <th></th>\n",
       "      <th></th>\n",
       "    </tr>\n",
       "  </thead>\n",
       "  <tbody>\n",
       "    <tr>\n",
       "      <th>2020-10-22</th>\n",
       "      <td>115</td>\n",
       "      <td>96</td>\n",
       "      <td>78</td>\n",
       "      <td>70</td>\n",
       "      <td>52</td>\n",
       "      <td>36</td>\n",
       "      <td>17</td>\n",
       "      <td>13</td>\n",
       "      <td>9</td>\n",
       "      <td>5</td>\n",
       "      <td>4</td>\n",
       "      <td>4</td>\n",
       "      <td>3</td>\n",
       "      <td>2</td>\n",
       "    </tr>\n",
       "    <tr>\n",
       "      <th>2020-10-21</th>\n",
       "      <td>157</td>\n",
       "      <td>153</td>\n",
       "      <td>136</td>\n",
       "      <td>120</td>\n",
       "      <td>97</td>\n",
       "      <td>62</td>\n",
       "      <td>34</td>\n",
       "      <td>28</td>\n",
       "      <td>20</td>\n",
       "      <td>15</td>\n",
       "      <td>9</td>\n",
       "      <td>4</td>\n",
       "      <td>3</td>\n",
       "      <td>3</td>\n",
       "    </tr>\n",
       "    <tr>\n",
       "      <th>2020-10-20</th>\n",
       "      <td>149</td>\n",
       "      <td>135</td>\n",
       "      <td>119</td>\n",
       "      <td>106</td>\n",
       "      <td>79</td>\n",
       "      <td>59</td>\n",
       "      <td>47</td>\n",
       "      <td>25</td>\n",
       "      <td>21</td>\n",
       "      <td>13</td>\n",
       "      <td>8</td>\n",
       "      <td>6</td>\n",
       "      <td>3</td>\n",
       "      <td>2</td>\n",
       "    </tr>\n",
       "    <tr>\n",
       "      <th>2020-10-19</th>\n",
       "      <td>142</td>\n",
       "      <td>123</td>\n",
       "      <td>118</td>\n",
       "      <td>105</td>\n",
       "      <td>86</td>\n",
       "      <td>72</td>\n",
       "      <td>45</td>\n",
       "      <td>33</td>\n",
       "      <td>22</td>\n",
       "      <td>17</td>\n",
       "      <td>12</td>\n",
       "      <td>9</td>\n",
       "      <td>4</td>\n",
       "      <td>3</td>\n",
       "    </tr>\n",
       "    <tr>\n",
       "      <th>2020-10-18</th>\n",
       "      <td>146</td>\n",
       "      <td>132</td>\n",
       "      <td>114</td>\n",
       "      <td>96</td>\n",
       "      <td>87</td>\n",
       "      <td>54</td>\n",
       "      <td>33</td>\n",
       "      <td>18</td>\n",
       "      <td>12</td>\n",
       "      <td>10</td>\n",
       "      <td>9</td>\n",
       "      <td>7</td>\n",
       "      <td>5</td>\n",
       "      <td>3</td>\n",
       "    </tr>\n",
       "  </tbody>\n",
       "</table>\n",
       "</div>"
      ],
      "text/plain": [
       "generation_to_upload_days   0    1    2    3   4   5   6   7   8   9   10  11  \\\n",
       "upload_date                                                                     \n",
       "2020-10-22                 115   96   78   70  52  36  17  13   9   5   4   4   \n",
       "2020-10-21                 157  153  136  120  97  62  34  28  20  15   9   4   \n",
       "2020-10-20                 149  135  119  106  79  59  47  25  21  13   8   6   \n",
       "2020-10-19                 142  123  118  105  86  72  45  33  22  17  12   9   \n",
       "2020-10-18                 146  132  114   96  87  54  33  18  12  10   9   7   \n",
       "\n",
       "generation_to_upload_days  12  13  \n",
       "upload_date                        \n",
       "2020-10-22                  3   2  \n",
       "2020-10-21                  3   3  \n",
       "2020-10-20                  3   2  \n",
       "2020-10-19                  4   3  \n",
       "2020-10-18                  5   3  "
      ]
     },
     "execution_count": 27,
     "metadata": {},
     "output_type": "execute_result"
    }
   ],
   "source": [
    "generation_to_upload_period_pivot_df = \\\n",
    "    shared_teks_generation_to_upload_df[\n",
    "        [\"upload_date\", \"generation_to_upload_days\", \"shared_teks\"]] \\\n",
    "        .pivot(index=\"upload_date\", columns=\"generation_to_upload_days\") \\\n",
    "        .sort_index(ascending=False).fillna(0).astype(int) \\\n",
    "        .droplevel(level=0, axis=1)\n",
    "generation_to_upload_period_pivot_df.head()"
   ]
  },
  {
   "cell_type": "code",
   "execution_count": 28,
   "metadata": {
    "collapsed": false,
    "execution": {
     "iopub.execute_input": "2020-10-22T17:26:13.682288Z",
     "iopub.status.busy": "2020-10-22T17:26:13.680239Z",
     "iopub.status.idle": "2020-10-22T17:26:13.684013Z",
     "shell.execute_reply": "2020-10-22T17:26:13.684455Z"
    },
    "papermill": {
     "duration": 0.084723,
     "end_time": "2020-10-22T17:26:13.684670",
     "exception": false,
     "start_time": "2020-10-22T17:26:13.599947",
     "status": "completed"
    },
    "pycharm": {
     "name": "#%%\n"
    },
    "tags": []
   },
   "outputs": [
    {
     "data": {
      "text/html": [
       "<div>\n",
       "<style scoped>\n",
       "    .dataframe tbody tr th:only-of-type {\n",
       "        vertical-align: middle;\n",
       "    }\n",
       "\n",
       "    .dataframe tbody tr th {\n",
       "        vertical-align: top;\n",
       "    }\n",
       "\n",
       "    .dataframe thead th {\n",
       "        text-align: right;\n",
       "    }\n",
       "</style>\n",
       "<table border=\"1\" class=\"dataframe\">\n",
       "  <thead>\n",
       "    <tr style=\"text-align: right;\">\n",
       "      <th></th>\n",
       "      <th>sample_date_string</th>\n",
       "      <th>shared_teks_by_upload_date</th>\n",
       "    </tr>\n",
       "  </thead>\n",
       "  <tbody>\n",
       "    <tr>\n",
       "      <th>50</th>\n",
       "      <td>2020-10-18</td>\n",
       "      <td>726.0</td>\n",
       "    </tr>\n",
       "    <tr>\n",
       "      <th>51</th>\n",
       "      <td>2020-10-19</td>\n",
       "      <td>791.0</td>\n",
       "    </tr>\n",
       "    <tr>\n",
       "      <th>52</th>\n",
       "      <td>2020-10-20</td>\n",
       "      <td>772.0</td>\n",
       "    </tr>\n",
       "    <tr>\n",
       "      <th>53</th>\n",
       "      <td>2020-10-21</td>\n",
       "      <td>841.0</td>\n",
       "    </tr>\n",
       "    <tr>\n",
       "      <th>54</th>\n",
       "      <td>2020-10-22</td>\n",
       "      <td>504.0</td>\n",
       "    </tr>\n",
       "  </tbody>\n",
       "</table>\n",
       "</div>"
      ],
      "text/plain": [
       "   sample_date_string  shared_teks_by_upload_date\n",
       "50         2020-10-18                       726.0\n",
       "51         2020-10-19                       791.0\n",
       "52         2020-10-20                       772.0\n",
       "53         2020-10-21                       841.0\n",
       "54         2020-10-22                       504.0"
      ]
     },
     "execution_count": 28,
     "metadata": {},
     "output_type": "execute_result"
    }
   ],
   "source": [
    "new_tek_df = tek_list_df.diff().tek_list.apply(\n",
    "    lambda x: len(x) if not pd.isna(x) else None).to_frame().reset_index()\n",
    "new_tek_df.rename(columns={\n",
    "    \"tek_list\": \"shared_teks_by_upload_date\",\n",
    "    \"extraction_date\": \"sample_date_string\",}, inplace=True)\n",
    "new_tek_df.tail()"
   ]
  },
  {
   "cell_type": "code",
   "execution_count": 29,
   "metadata": {
    "execution": {
     "iopub.execute_input": "2020-10-22T17:26:13.801900Z",
     "iopub.status.busy": "2020-10-22T17:26:13.801321Z",
     "iopub.status.idle": "2020-10-22T17:26:13.821744Z",
     "shell.execute_reply": "2020-10-22T17:26:13.822164Z"
    },
    "papermill": {
     "duration": 0.08247,
     "end_time": "2020-10-22T17:26:13.822331",
     "exception": false,
     "start_time": "2020-10-22T17:26:13.739861",
     "status": "completed"
    },
    "pycharm": {
     "name": "#%%\n"
    },
    "tags": []
   },
   "outputs": [
    {
     "data": {
      "text/html": [
       "<div>\n",
       "<style scoped>\n",
       "    .dataframe tbody tr th:only-of-type {\n",
       "        vertical-align: middle;\n",
       "    }\n",
       "\n",
       "    .dataframe tbody tr th {\n",
       "        vertical-align: top;\n",
       "    }\n",
       "\n",
       "    .dataframe thead th {\n",
       "        text-align: right;\n",
       "    }\n",
       "</style>\n",
       "<table border=\"1\" class=\"dataframe\">\n",
       "  <thead>\n",
       "    <tr style=\"text-align: right;\">\n",
       "      <th></th>\n",
       "      <th>region</th>\n",
       "      <th>sample_date</th>\n",
       "      <th>tek_list</th>\n",
       "      <th>extraction_date</th>\n",
       "      <th>extraction_date_with_hour</th>\n",
       "      <th>new_sample_extraction_date</th>\n",
       "    </tr>\n",
       "  </thead>\n",
       "  <tbody>\n",
       "    <tr>\n",
       "      <th>5</th>\n",
       "      <td>ES</td>\n",
       "      <td>2020-10-09</td>\n",
       "      <td>[15d46f9f-e32c-e3af-ed45-5ac54d644e79, 808f4df...</td>\n",
       "      <td>2020-10-22</td>\n",
       "      <td>NaN</td>\n",
       "      <td>2020-10-10</td>\n",
       "    </tr>\n",
       "    <tr>\n",
       "      <th>16</th>\n",
       "      <td>ES</td>\n",
       "      <td>2020-10-10</td>\n",
       "      <td>[bcd68f2c-0117-7b8a-c1bf-1f7969be087a, 5cdf321...</td>\n",
       "      <td>2020-10-22</td>\n",
       "      <td>NaN</td>\n",
       "      <td>2020-10-11</td>\n",
       "    </tr>\n",
       "    <tr>\n",
       "      <th>27</th>\n",
       "      <td>ES</td>\n",
       "      <td>2020-10-11</td>\n",
       "      <td>[cc14a8f6-049d-fc1a-a2a3-95940c7b3ac1, 1070dc5...</td>\n",
       "      <td>2020-10-22</td>\n",
       "      <td>NaN</td>\n",
       "      <td>2020-10-12</td>\n",
       "    </tr>\n",
       "    <tr>\n",
       "      <th>38</th>\n",
       "      <td>ES</td>\n",
       "      <td>2020-10-12</td>\n",
       "      <td>[e2be1136-09b6-cc6e-d95b-fd60103e29c3, 61b859a...</td>\n",
       "      <td>2020-10-22</td>\n",
       "      <td>NaN</td>\n",
       "      <td>2020-10-13</td>\n",
       "    </tr>\n",
       "    <tr>\n",
       "      <th>49</th>\n",
       "      <td>ES</td>\n",
       "      <td>2020-10-13</td>\n",
       "      <td>[0d67b699-88f5-c5ea-5ce6-5805c23d2bc7, 726646a...</td>\n",
       "      <td>2020-10-22</td>\n",
       "      <td>NaN</td>\n",
       "      <td>2020-10-14</td>\n",
       "    </tr>\n",
       "  </tbody>\n",
       "</table>\n",
       "</div>"
      ],
      "text/plain": [
       "   region sample_date                                           tek_list  \\\n",
       "5      ES  2020-10-09  [15d46f9f-e32c-e3af-ed45-5ac54d644e79, 808f4df...   \n",
       "16     ES  2020-10-10  [bcd68f2c-0117-7b8a-c1bf-1f7969be087a, 5cdf321...   \n",
       "27     ES  2020-10-11  [cc14a8f6-049d-fc1a-a2a3-95940c7b3ac1, 1070dc5...   \n",
       "38     ES  2020-10-12  [e2be1136-09b6-cc6e-d95b-fd60103e29c3, 61b859a...   \n",
       "49     ES  2020-10-13  [0d67b699-88f5-c5ea-5ce6-5805c23d2bc7, 726646a...   \n",
       "\n",
       "   extraction_date extraction_date_with_hour new_sample_extraction_date  \n",
       "5       2020-10-22                       NaN                 2020-10-10  \n",
       "16      2020-10-22                       NaN                 2020-10-11  \n",
       "27      2020-10-22                       NaN                 2020-10-12  \n",
       "38      2020-10-22                       NaN                 2020-10-13  \n",
       "49      2020-10-22                       NaN                 2020-10-14  "
      ]
     },
     "execution_count": 29,
     "metadata": {},
     "output_type": "execute_result"
    }
   ],
   "source": [
    "estimated_shared_diagnoses_df = daily_extracted_teks_df.copy()\n",
    "estimated_shared_diagnoses_df[\"new_sample_extraction_date\"] = \\\n",
    "    pd.to_datetime(estimated_shared_diagnoses_df.sample_date) + datetime.timedelta(1)\n",
    "estimated_shared_diagnoses_df[\"extraction_date\"] = pd.to_datetime(estimated_shared_diagnoses_df.extraction_date)\n",
    "estimated_shared_diagnoses_df[\"sample_date\"] = pd.to_datetime(estimated_shared_diagnoses_df.sample_date)\n",
    "estimated_shared_diagnoses_df.head()"
   ]
  },
  {
   "cell_type": "code",
   "execution_count": 30,
   "metadata": {
    "collapsed": false,
    "execution": {
     "iopub.execute_input": "2020-10-22T17:26:13.937803Z",
     "iopub.status.busy": "2020-10-22T17:26:13.937247Z",
     "iopub.status.idle": "2020-10-22T17:26:13.950959Z",
     "shell.execute_reply": "2020-10-22T17:26:13.950486Z"
    },
    "papermill": {
     "duration": 0.073968,
     "end_time": "2020-10-22T17:26:13.951127",
     "exception": false,
     "start_time": "2020-10-22T17:26:13.877159",
     "status": "completed"
    },
    "pycharm": {
     "name": "#%%\n"
    },
    "tags": []
   },
   "outputs": [
    {
     "data": {
      "text/html": [
       "<div>\n",
       "<style scoped>\n",
       "    .dataframe tbody tr th:only-of-type {\n",
       "        vertical-align: middle;\n",
       "    }\n",
       "\n",
       "    .dataframe tbody tr th {\n",
       "        vertical-align: top;\n",
       "    }\n",
       "\n",
       "    .dataframe thead th {\n",
       "        text-align: right;\n",
       "    }\n",
       "</style>\n",
       "<table border=\"1\" class=\"dataframe\">\n",
       "  <thead>\n",
       "    <tr style=\"text-align: right;\">\n",
       "      <th></th>\n",
       "      <th>extraction_date</th>\n",
       "      <th>same_day_tek_list</th>\n",
       "    </tr>\n",
       "  </thead>\n",
       "  <tbody>\n",
       "    <tr>\n",
       "      <th>139</th>\n",
       "      <td>2020-10-22</td>\n",
       "      <td>[84734ab3-0543-6c54-fba4-ac98f9081ec6, cd43ccc...</td>\n",
       "    </tr>\n",
       "    <tr>\n",
       "      <th>90</th>\n",
       "      <td>2020-10-21</td>\n",
       "      <td>[63d1502a-a158-a5d2-001a-cbb82b9abcf5, ed1bc81...</td>\n",
       "    </tr>\n",
       "    <tr>\n",
       "      <th>78</th>\n",
       "      <td>2020-10-20</td>\n",
       "      <td>[97b27565-a475-f559-44f7-2b692ee719c3, a031a2f...</td>\n",
       "    </tr>\n",
       "    <tr>\n",
       "      <th>78</th>\n",
       "      <td>2020-10-19</td>\n",
       "      <td>[49c35d4b-f069-88fd-c596-f1e5dea1fc8b, b9dc5ad...</td>\n",
       "    </tr>\n",
       "    <tr>\n",
       "      <th>116</th>\n",
       "      <td>2020-10-18</td>\n",
       "      <td>[655818ea-7b68-5788-d4c5-eaf6aefc8780, 7be987d...</td>\n",
       "    </tr>\n",
       "  </tbody>\n",
       "</table>\n",
       "</div>"
      ],
      "text/plain": [
       "    extraction_date                                  same_day_tek_list\n",
       "139      2020-10-22  [84734ab3-0543-6c54-fba4-ac98f9081ec6, cd43ccc...\n",
       "90       2020-10-21  [63d1502a-a158-a5d2-001a-cbb82b9abcf5, ed1bc81...\n",
       "78       2020-10-20  [97b27565-a475-f559-44f7-2b692ee719c3, a031a2f...\n",
       "78       2020-10-19  [49c35d4b-f069-88fd-c596-f1e5dea1fc8b, b9dc5ad...\n",
       "116      2020-10-18  [655818ea-7b68-5788-d4c5-eaf6aefc8780, 7be987d..."
      ]
     },
     "execution_count": 30,
     "metadata": {},
     "output_type": "execute_result"
    }
   ],
   "source": [
    "# Sometimes TEKs from the same day are uploaded, we do not count them as new TEK devices:\n",
    "same_day_tek_list_df = estimated_shared_diagnoses_df[\n",
    "    estimated_shared_diagnoses_df.sample_date == estimated_shared_diagnoses_df.extraction_date].copy()\n",
    "same_day_tek_list_df = same_day_tek_list_df[[\"extraction_date\", \"tek_list\"]].rename(\n",
    "    columns={\"tek_list\": \"same_day_tek_list\"})\n",
    "same_day_tek_list_df.head()"
   ]
  },
  {
   "cell_type": "code",
   "execution_count": 31,
   "metadata": {
    "collapsed": false,
    "execution": {
     "iopub.execute_input": "2020-10-22T17:26:14.074966Z",
     "iopub.status.busy": "2020-10-22T17:26:14.074287Z",
     "iopub.status.idle": "2020-10-22T17:26:14.076780Z",
     "shell.execute_reply": "2020-10-22T17:26:14.077229Z"
    },
    "papermill": {
     "duration": 0.070784,
     "end_time": "2020-10-22T17:26:14.077393",
     "exception": false,
     "start_time": "2020-10-22T17:26:14.006609",
     "status": "completed"
    },
    "pycharm": {
     "name": "#%%\n"
    },
    "tags": []
   },
   "outputs": [
    {
     "data": {
      "text/html": [
       "<div>\n",
       "<style scoped>\n",
       "    .dataframe tbody tr th:only-of-type {\n",
       "        vertical-align: middle;\n",
       "    }\n",
       "\n",
       "    .dataframe tbody tr th {\n",
       "        vertical-align: top;\n",
       "    }\n",
       "\n",
       "    .dataframe thead th {\n",
       "        text-align: right;\n",
       "    }\n",
       "</style>\n",
       "<table border=\"1\" class=\"dataframe\">\n",
       "  <thead>\n",
       "    <tr style=\"text-align: right;\">\n",
       "      <th></th>\n",
       "      <th>sample_date_string</th>\n",
       "      <th>shared_teks_uploaded_on_generation_date</th>\n",
       "    </tr>\n",
       "  </thead>\n",
       "  <tbody>\n",
       "    <tr>\n",
       "      <th>139</th>\n",
       "      <td>2020-10-22</td>\n",
       "      <td>115</td>\n",
       "    </tr>\n",
       "    <tr>\n",
       "      <th>90</th>\n",
       "      <td>2020-10-21</td>\n",
       "      <td>157</td>\n",
       "    </tr>\n",
       "    <tr>\n",
       "      <th>78</th>\n",
       "      <td>2020-10-20</td>\n",
       "      <td>149</td>\n",
       "    </tr>\n",
       "    <tr>\n",
       "      <th>78</th>\n",
       "      <td>2020-10-19</td>\n",
       "      <td>142</td>\n",
       "    </tr>\n",
       "    <tr>\n",
       "      <th>116</th>\n",
       "      <td>2020-10-18</td>\n",
       "      <td>146</td>\n",
       "    </tr>\n",
       "  </tbody>\n",
       "</table>\n",
       "</div>"
      ],
      "text/plain": [
       "    sample_date_string  shared_teks_uploaded_on_generation_date\n",
       "139         2020-10-22                                      115\n",
       "90          2020-10-21                                      157\n",
       "78          2020-10-20                                      149\n",
       "78          2020-10-19                                      142\n",
       "116         2020-10-18                                      146"
      ]
     },
     "execution_count": 31,
     "metadata": {},
     "output_type": "execute_result"
    }
   ],
   "source": [
    "shared_teks_uploaded_on_generation_date_df = same_day_tek_list_df.rename(\n",
    "    columns={\n",
    "        \"extraction_date\": \"sample_date_string\",\n",
    "        \"same_day_tek_list\": \"shared_teks_uploaded_on_generation_date\",\n",
    "    })\n",
    "shared_teks_uploaded_on_generation_date_df.shared_teks_uploaded_on_generation_date = \\\n",
    " shared_teks_uploaded_on_generation_date_df.shared_teks_uploaded_on_generation_date.apply(len)\n",
    "shared_teks_uploaded_on_generation_date_df.head()\n",
    "shared_teks_uploaded_on_generation_date_df[\"sample_date_string\"] = \\\n",
    "    shared_teks_uploaded_on_generation_date_df.sample_date_string.dt.strftime(\"%Y-%m-%d\")\n",
    "shared_teks_uploaded_on_generation_date_df.head()"
   ]
  },
  {
   "cell_type": "code",
   "execution_count": 32,
   "metadata": {
    "collapsed": false,
    "execution": {
     "iopub.execute_input": "2020-10-22T17:26:14.205162Z",
     "iopub.status.busy": "2020-10-22T17:26:14.204575Z",
     "iopub.status.idle": "2020-10-22T17:26:14.206884Z",
     "shell.execute_reply": "2020-10-22T17:26:14.207354Z"
    },
    "papermill": {
     "duration": 0.074532,
     "end_time": "2020-10-22T17:26:14.207519",
     "exception": false,
     "start_time": "2020-10-22T17:26:14.132987",
     "status": "completed"
    },
    "pycharm": {
     "name": "#%%\n"
    },
    "tags": []
   },
   "outputs": [
    {
     "data": {
      "text/html": [
       "<div>\n",
       "<style scoped>\n",
       "    .dataframe tbody tr th:only-of-type {\n",
       "        vertical-align: middle;\n",
       "    }\n",
       "\n",
       "    .dataframe tbody tr th {\n",
       "        vertical-align: top;\n",
       "    }\n",
       "\n",
       "    .dataframe thead th {\n",
       "        text-align: right;\n",
       "    }\n",
       "</style>\n",
       "<table border=\"1\" class=\"dataframe\">\n",
       "  <thead>\n",
       "    <tr style=\"text-align: right;\">\n",
       "      <th></th>\n",
       "      <th>region</th>\n",
       "      <th>sample_date</th>\n",
       "      <th>tek_list</th>\n",
       "      <th>extraction_date</th>\n",
       "      <th>extraction_date_with_hour</th>\n",
       "      <th>new_sample_extraction_date</th>\n",
       "    </tr>\n",
       "  </thead>\n",
       "  <tbody>\n",
       "    <tr>\n",
       "      <th>133</th>\n",
       "      <td>ES</td>\n",
       "      <td>2020-10-21</td>\n",
       "      <td>[a55c3f57-08ed-20ad-658c-5ed71dd5ca64, 1e46e0f...</td>\n",
       "      <td>2020-10-22</td>\n",
       "      <td>NaN</td>\n",
       "      <td>2020-10-22</td>\n",
       "    </tr>\n",
       "    <tr>\n",
       "      <th>85</th>\n",
       "      <td>ES</td>\n",
       "      <td>2020-10-20</td>\n",
       "      <td>[0f0e336e-b1c9-a45e-3043-5ed28b80e1b0, e143507...</td>\n",
       "      <td>2020-10-21</td>\n",
       "      <td>NaN</td>\n",
       "      <td>2020-10-21</td>\n",
       "    </tr>\n",
       "    <tr>\n",
       "      <th>73</th>\n",
       "      <td>ES</td>\n",
       "      <td>2020-10-19</td>\n",
       "      <td>[1c849f04-e59b-7f45-7e6b-e13356aec58b, 53ea152...</td>\n",
       "      <td>2020-10-20</td>\n",
       "      <td>NaN</td>\n",
       "      <td>2020-10-20</td>\n",
       "    </tr>\n",
       "    <tr>\n",
       "      <th>73</th>\n",
       "      <td>ES</td>\n",
       "      <td>2020-10-18</td>\n",
       "      <td>[d1d49196-d84e-b08c-f0b0-766022303d56, b51293d...</td>\n",
       "      <td>2020-10-19</td>\n",
       "      <td>NaN</td>\n",
       "      <td>2020-10-19</td>\n",
       "    </tr>\n",
       "    <tr>\n",
       "      <th>110</th>\n",
       "      <td>ES</td>\n",
       "      <td>2020-10-17</td>\n",
       "      <td>[6a7f4f73-937b-46ae-caa5-55ec962fd39b, 5de6c32...</td>\n",
       "      <td>2020-10-18</td>\n",
       "      <td>NaN</td>\n",
       "      <td>2020-10-18</td>\n",
       "    </tr>\n",
       "  </tbody>\n",
       "</table>\n",
       "</div>"
      ],
      "text/plain": [
       "    region sample_date                                           tek_list  \\\n",
       "133     ES  2020-10-21  [a55c3f57-08ed-20ad-658c-5ed71dd5ca64, 1e46e0f...   \n",
       "85      ES  2020-10-20  [0f0e336e-b1c9-a45e-3043-5ed28b80e1b0, e143507...   \n",
       "73      ES  2020-10-19  [1c849f04-e59b-7f45-7e6b-e13356aec58b, 53ea152...   \n",
       "73      ES  2020-10-18  [d1d49196-d84e-b08c-f0b0-766022303d56, b51293d...   \n",
       "110     ES  2020-10-17  [6a7f4f73-937b-46ae-caa5-55ec962fd39b, 5de6c32...   \n",
       "\n",
       "    extraction_date extraction_date_with_hour new_sample_extraction_date  \n",
       "133      2020-10-22                       NaN                 2020-10-22  \n",
       "85       2020-10-21                       NaN                 2020-10-21  \n",
       "73       2020-10-20                       NaN                 2020-10-20  \n",
       "73       2020-10-19                       NaN                 2020-10-19  \n",
       "110      2020-10-18                       NaN                 2020-10-18  "
      ]
     },
     "execution_count": 32,
     "metadata": {},
     "output_type": "execute_result"
    }
   ],
   "source": [
    "estimated_shared_diagnoses_df = estimated_shared_diagnoses_df[\n",
    "    estimated_shared_diagnoses_df.new_sample_extraction_date == estimated_shared_diagnoses_df.extraction_date]\n",
    "estimated_shared_diagnoses_df.head()"
   ]
  },
  {
   "cell_type": "code",
   "execution_count": 33,
   "metadata": {
    "collapsed": false,
    "execution": {
     "iopub.execute_input": "2020-10-22T17:26:14.333621Z",
     "iopub.status.busy": "2020-10-22T17:26:14.333046Z",
     "iopub.status.idle": "2020-10-22T17:26:14.355407Z",
     "shell.execute_reply": "2020-10-22T17:26:14.355857Z"
    },
    "papermill": {
     "duration": 0.089007,
     "end_time": "2020-10-22T17:26:14.356027",
     "exception": false,
     "start_time": "2020-10-22T17:26:14.267020",
     "status": "completed"
    },
    "pycharm": {
     "name": "#%%\n"
    },
    "tags": []
   },
   "outputs": [
    {
     "data": {
      "text/html": [
       "<div>\n",
       "<style scoped>\n",
       "    .dataframe tbody tr th:only-of-type {\n",
       "        vertical-align: middle;\n",
       "    }\n",
       "\n",
       "    .dataframe tbody tr th {\n",
       "        vertical-align: top;\n",
       "    }\n",
       "\n",
       "    .dataframe thead th {\n",
       "        text-align: right;\n",
       "    }\n",
       "</style>\n",
       "<table border=\"1\" class=\"dataframe\">\n",
       "  <thead>\n",
       "    <tr style=\"text-align: right;\">\n",
       "      <th></th>\n",
       "      <th>region</th>\n",
       "      <th>sample_date</th>\n",
       "      <th>tek_list</th>\n",
       "      <th>extraction_date</th>\n",
       "      <th>extraction_date_with_hour</th>\n",
       "      <th>new_sample_extraction_date</th>\n",
       "      <th>same_day_tek_list</th>\n",
       "    </tr>\n",
       "  </thead>\n",
       "  <tbody>\n",
       "    <tr>\n",
       "      <th>0</th>\n",
       "      <td>ES</td>\n",
       "      <td>2020-10-21</td>\n",
       "      <td>[a55c3f57-08ed-20ad-658c-5ed71dd5ca64, 1e46e0f...</td>\n",
       "      <td>2020-10-22</td>\n",
       "      <td>NaN</td>\n",
       "      <td>2020-10-22</td>\n",
       "      <td>[63d1502a-a158-a5d2-001a-cbb82b9abcf5, ed1bc81...</td>\n",
       "    </tr>\n",
       "    <tr>\n",
       "      <th>1</th>\n",
       "      <td>ES</td>\n",
       "      <td>2020-10-20</td>\n",
       "      <td>[0f0e336e-b1c9-a45e-3043-5ed28b80e1b0, e143507...</td>\n",
       "      <td>2020-10-21</td>\n",
       "      <td>NaN</td>\n",
       "      <td>2020-10-21</td>\n",
       "      <td>[97b27565-a475-f559-44f7-2b692ee719c3, a031a2f...</td>\n",
       "    </tr>\n",
       "    <tr>\n",
       "      <th>2</th>\n",
       "      <td>ES</td>\n",
       "      <td>2020-10-19</td>\n",
       "      <td>[1c849f04-e59b-7f45-7e6b-e13356aec58b, 53ea152...</td>\n",
       "      <td>2020-10-20</td>\n",
       "      <td>NaN</td>\n",
       "      <td>2020-10-20</td>\n",
       "      <td>[49c35d4b-f069-88fd-c596-f1e5dea1fc8b, b9dc5ad...</td>\n",
       "    </tr>\n",
       "    <tr>\n",
       "      <th>3</th>\n",
       "      <td>ES</td>\n",
       "      <td>2020-10-18</td>\n",
       "      <td>[d1d49196-d84e-b08c-f0b0-766022303d56, b51293d...</td>\n",
       "      <td>2020-10-19</td>\n",
       "      <td>NaN</td>\n",
       "      <td>2020-10-19</td>\n",
       "      <td>[655818ea-7b68-5788-d4c5-eaf6aefc8780, 7be987d...</td>\n",
       "    </tr>\n",
       "    <tr>\n",
       "      <th>4</th>\n",
       "      <td>ES</td>\n",
       "      <td>2020-10-17</td>\n",
       "      <td>[6a7f4f73-937b-46ae-caa5-55ec962fd39b, 5de6c32...</td>\n",
       "      <td>2020-10-18</td>\n",
       "      <td>NaN</td>\n",
       "      <td>2020-10-18</td>\n",
       "      <td>[a9e26e0b-d9eb-dab7-e470-13e1d3b974c9, 7ba307a...</td>\n",
       "    </tr>\n",
       "  </tbody>\n",
       "</table>\n",
       "</div>"
      ],
      "text/plain": [
       "  region sample_date                                           tek_list  \\\n",
       "0     ES  2020-10-21  [a55c3f57-08ed-20ad-658c-5ed71dd5ca64, 1e46e0f...   \n",
       "1     ES  2020-10-20  [0f0e336e-b1c9-a45e-3043-5ed28b80e1b0, e143507...   \n",
       "2     ES  2020-10-19  [1c849f04-e59b-7f45-7e6b-e13356aec58b, 53ea152...   \n",
       "3     ES  2020-10-18  [d1d49196-d84e-b08c-f0b0-766022303d56, b51293d...   \n",
       "4     ES  2020-10-17  [6a7f4f73-937b-46ae-caa5-55ec962fd39b, 5de6c32...   \n",
       "\n",
       "  extraction_date extraction_date_with_hour new_sample_extraction_date  \\\n",
       "0      2020-10-22                       NaN                 2020-10-22   \n",
       "1      2020-10-21                       NaN                 2020-10-21   \n",
       "2      2020-10-20                       NaN                 2020-10-20   \n",
       "3      2020-10-19                       NaN                 2020-10-19   \n",
       "4      2020-10-18                       NaN                 2020-10-18   \n",
       "\n",
       "                                   same_day_tek_list  \n",
       "0  [63d1502a-a158-a5d2-001a-cbb82b9abcf5, ed1bc81...  \n",
       "1  [97b27565-a475-f559-44f7-2b692ee719c3, a031a2f...  \n",
       "2  [49c35d4b-f069-88fd-c596-f1e5dea1fc8b, b9dc5ad...  \n",
       "3  [655818ea-7b68-5788-d4c5-eaf6aefc8780, 7be987d...  \n",
       "4  [a9e26e0b-d9eb-dab7-e470-13e1d3b974c9, 7ba307a...  "
      ]
     },
     "execution_count": 33,
     "metadata": {},
     "output_type": "execute_result"
    }
   ],
   "source": [
    "same_day_tek_list_df[\"extraction_date\"] = \\\n",
    "    same_day_tek_list_df.extraction_date + datetime.timedelta(1)\n",
    "estimated_shared_diagnoses_df = \\\n",
    "    estimated_shared_diagnoses_df.merge(same_day_tek_list_df, how=\"left\", on=[\"extraction_date\"])\n",
    "estimated_shared_diagnoses_df[\"same_day_tek_list\"] = \\\n",
    "    estimated_shared_diagnoses_df.same_day_tek_list.apply(lambda x: [] if x is np.nan else x)\n",
    "estimated_shared_diagnoses_df.head()"
   ]
  },
  {
   "cell_type": "code",
   "execution_count": 34,
   "metadata": {
    "execution": {
     "iopub.execute_input": "2020-10-22T17:26:14.477978Z",
     "iopub.status.busy": "2020-10-22T17:26:14.477397Z",
     "iopub.status.idle": "2020-10-22T17:26:14.496715Z",
     "shell.execute_reply": "2020-10-22T17:26:14.497271Z"
    },
    "papermill": {
     "duration": 0.082678,
     "end_time": "2020-10-22T17:26:14.497482",
     "exception": false,
     "start_time": "2020-10-22T17:26:14.414804",
     "status": "completed"
    },
    "tags": []
   },
   "outputs": [
    {
     "data": {
      "text/html": [
       "<div>\n",
       "<style scoped>\n",
       "    .dataframe tbody tr th:only-of-type {\n",
       "        vertical-align: middle;\n",
       "    }\n",
       "\n",
       "    .dataframe tbody tr th {\n",
       "        vertical-align: top;\n",
       "    }\n",
       "\n",
       "    .dataframe thead th {\n",
       "        text-align: right;\n",
       "    }\n",
       "</style>\n",
       "<table border=\"1\" class=\"dataframe\">\n",
       "  <thead>\n",
       "    <tr style=\"text-align: right;\">\n",
       "      <th></th>\n",
       "      <th>sample_date_string</th>\n",
       "      <th>shared_diagnoses</th>\n",
       "    </tr>\n",
       "  </thead>\n",
       "  <tbody>\n",
       "    <tr>\n",
       "      <th>0</th>\n",
       "      <td>2020-10-22</td>\n",
       "      <td>96</td>\n",
       "    </tr>\n",
       "    <tr>\n",
       "      <th>1</th>\n",
       "      <td>2020-10-21</td>\n",
       "      <td>153</td>\n",
       "    </tr>\n",
       "    <tr>\n",
       "      <th>2</th>\n",
       "      <td>2020-10-20</td>\n",
       "      <td>135</td>\n",
       "    </tr>\n",
       "    <tr>\n",
       "      <th>3</th>\n",
       "      <td>2020-10-19</td>\n",
       "      <td>123</td>\n",
       "    </tr>\n",
       "    <tr>\n",
       "      <th>4</th>\n",
       "      <td>2020-10-18</td>\n",
       "      <td>132</td>\n",
       "    </tr>\n",
       "  </tbody>\n",
       "</table>\n",
       "</div>"
      ],
      "text/plain": [
       "  sample_date_string  shared_diagnoses\n",
       "0         2020-10-22                96\n",
       "1         2020-10-21               153\n",
       "2         2020-10-20               135\n",
       "3         2020-10-19               123\n",
       "4         2020-10-18               132"
      ]
     },
     "execution_count": 34,
     "metadata": {},
     "output_type": "execute_result"
    }
   ],
   "source": [
    "estimated_shared_diagnoses_df.set_index(\"extraction_date\", inplace=True)\n",
    "estimated_shared_diagnoses_df[\"shared_diagnoses\"] = estimated_shared_diagnoses_df.apply(\n",
    "    lambda x: len(set(x.tek_list).difference(x.same_day_tek_list)), axis=1).copy()\n",
    "estimated_shared_diagnoses_df.reset_index(inplace=True)\n",
    "estimated_shared_diagnoses_df.rename(columns={\n",
    "    \"extraction_date\": \"sample_date_string\"}, inplace=True)\n",
    "estimated_shared_diagnoses_df = estimated_shared_diagnoses_df[[\"sample_date_string\", \"shared_diagnoses\"]]\n",
    "estimated_shared_diagnoses_df[\"sample_date_string\"] = estimated_shared_diagnoses_df.sample_date_string.dt.strftime(\"%Y-%m-%d\")\n",
    "estimated_shared_diagnoses_df.head()"
   ]
  },
  {
   "cell_type": "markdown",
   "metadata": {
    "papermill": {
     "duration": 0.056732,
     "end_time": "2020-10-22T17:26:14.611980",
     "exception": false,
     "start_time": "2020-10-22T17:26:14.555248",
     "status": "completed"
    },
    "pycharm": {
     "name": "#%% md\n"
    },
    "tags": []
   },
   "source": [
    "### Hourly New TEKs"
   ]
  },
  {
   "cell_type": "code",
   "execution_count": 35,
   "metadata": {
    "execution": {
     "iopub.execute_input": "2020-10-22T17:26:14.736282Z",
     "iopub.status.busy": "2020-10-22T17:26:14.734700Z",
     "iopub.status.idle": "2020-10-22T17:26:15.820821Z",
     "shell.execute_reply": "2020-10-22T17:26:15.820319Z"
    },
    "papermill": {
     "duration": 1.151808,
     "end_time": "2020-10-22T17:26:15.820952",
     "exception": false,
     "start_time": "2020-10-22T17:26:14.669144",
     "status": "completed"
    },
    "pycharm": {
     "name": "#%%\n"
    },
    "tags": []
   },
   "outputs": [
    {
     "data": {
      "text/html": [
       "<div>\n",
       "<style scoped>\n",
       "    .dataframe tbody tr th:only-of-type {\n",
       "        vertical-align: middle;\n",
       "    }\n",
       "\n",
       "    .dataframe tbody tr th {\n",
       "        vertical-align: top;\n",
       "    }\n",
       "\n",
       "    .dataframe thead th {\n",
       "        text-align: right;\n",
       "    }\n",
       "</style>\n",
       "<table border=\"1\" class=\"dataframe\">\n",
       "  <thead>\n",
       "    <tr style=\"text-align: right;\">\n",
       "      <th></th>\n",
       "      <th>region</th>\n",
       "      <th>sample_date</th>\n",
       "      <th>tek_list</th>\n",
       "      <th>extraction_date</th>\n",
       "      <th>extraction_date_with_hour</th>\n",
       "    </tr>\n",
       "  </thead>\n",
       "  <tbody>\n",
       "    <tr>\n",
       "      <th>5</th>\n",
       "      <td>ES</td>\n",
       "      <td>2020-10-09</td>\n",
       "      <td>[15d46f9f-e32c-e3af-ed45-5ac54d644e79, 808f4df...</td>\n",
       "      <td>2020-10-22</td>\n",
       "      <td>2020-10-22@17</td>\n",
       "    </tr>\n",
       "    <tr>\n",
       "      <th>16</th>\n",
       "      <td>ES</td>\n",
       "      <td>2020-10-10</td>\n",
       "      <td>[bcd68f2c-0117-7b8a-c1bf-1f7969be087a, 5cdf321...</td>\n",
       "      <td>2020-10-22</td>\n",
       "      <td>2020-10-22@17</td>\n",
       "    </tr>\n",
       "    <tr>\n",
       "      <th>27</th>\n",
       "      <td>ES</td>\n",
       "      <td>2020-10-11</td>\n",
       "      <td>[cc14a8f6-049d-fc1a-a2a3-95940c7b3ac1, 1070dc5...</td>\n",
       "      <td>2020-10-22</td>\n",
       "      <td>2020-10-22@17</td>\n",
       "    </tr>\n",
       "    <tr>\n",
       "      <th>38</th>\n",
       "      <td>ES</td>\n",
       "      <td>2020-10-12</td>\n",
       "      <td>[e2be1136-09b6-cc6e-d95b-fd60103e29c3, 61b859a...</td>\n",
       "      <td>2020-10-22</td>\n",
       "      <td>2020-10-22@17</td>\n",
       "    </tr>\n",
       "    <tr>\n",
       "      <th>49</th>\n",
       "      <td>ES</td>\n",
       "      <td>2020-10-13</td>\n",
       "      <td>[0d67b699-88f5-c5ea-5ce6-5805c23d2bc7, 726646a...</td>\n",
       "      <td>2020-10-22</td>\n",
       "      <td>2020-10-22@17</td>\n",
       "    </tr>\n",
       "  </tbody>\n",
       "</table>\n",
       "</div>"
      ],
      "text/plain": [
       "   region sample_date                                           tek_list  \\\n",
       "5      ES  2020-10-09  [15d46f9f-e32c-e3af-ed45-5ac54d644e79, 808f4df...   \n",
       "16     ES  2020-10-10  [bcd68f2c-0117-7b8a-c1bf-1f7969be087a, 5cdf321...   \n",
       "27     ES  2020-10-11  [cc14a8f6-049d-fc1a-a2a3-95940c7b3ac1, 1070dc5...   \n",
       "38     ES  2020-10-12  [e2be1136-09b6-cc6e-d95b-fd60103e29c3, 61b859a...   \n",
       "49     ES  2020-10-13  [0d67b699-88f5-c5ea-5ce6-5805c23d2bc7, 726646a...   \n",
       "\n",
       "   extraction_date extraction_date_with_hour  \n",
       "5       2020-10-22             2020-10-22@17  \n",
       "16      2020-10-22             2020-10-22@17  \n",
       "27      2020-10-22             2020-10-22@17  \n",
       "38      2020-10-22             2020-10-22@17  \n",
       "49      2020-10-22             2020-10-22@17  "
      ]
     },
     "execution_count": 35,
     "metadata": {},
     "output_type": "execute_result"
    }
   ],
   "source": [
    "hourly_extracted_teks_df = load_extracted_teks(\n",
    "    mode=\"Hourly\", region=active_region_country_code, limit=25)\n",
    "hourly_extracted_teks_df.head()"
   ]
  },
  {
   "cell_type": "code",
   "execution_count": 36,
   "metadata": {
    "collapsed": false,
    "execution": {
     "iopub.execute_input": "2020-10-22T17:26:16.000621Z",
     "iopub.status.busy": "2020-10-22T17:26:15.947556Z",
     "iopub.status.idle": "2020-10-22T17:26:16.006233Z",
     "shell.execute_reply": "2020-10-22T17:26:16.005534Z"
    },
    "papermill": {
     "duration": 0.128208,
     "end_time": "2020-10-22T17:26:16.006375",
     "exception": false,
     "start_time": "2020-10-22T17:26:15.878167",
     "status": "completed"
    },
    "pycharm": {
     "name": "#%%\n"
    },
    "tags": []
   },
   "outputs": [
    {
     "data": {
      "text/html": [
       "<div>\n",
       "<style scoped>\n",
       "    .dataframe tbody tr th:only-of-type {\n",
       "        vertical-align: middle;\n",
       "    }\n",
       "\n",
       "    .dataframe tbody tr th {\n",
       "        vertical-align: top;\n",
       "    }\n",
       "\n",
       "    .dataframe thead th {\n",
       "        text-align: right;\n",
       "    }\n",
       "</style>\n",
       "<table border=\"1\" class=\"dataframe\">\n",
       "  <thead>\n",
       "    <tr style=\"text-align: right;\">\n",
       "      <th></th>\n",
       "      <th>extraction_date_with_hour</th>\n",
       "      <th>shared_teks_by_upload_date</th>\n",
       "    </tr>\n",
       "  </thead>\n",
       "  <tbody>\n",
       "    <tr>\n",
       "      <th>0</th>\n",
       "      <td>2020-10-21@16</td>\n",
       "      <td>0</td>\n",
       "    </tr>\n",
       "    <tr>\n",
       "      <th>1</th>\n",
       "      <td>2020-10-21@17</td>\n",
       "      <td>0</td>\n",
       "    </tr>\n",
       "    <tr>\n",
       "      <th>2</th>\n",
       "      <td>2020-10-21@18</td>\n",
       "      <td>77</td>\n",
       "    </tr>\n",
       "    <tr>\n",
       "      <th>3</th>\n",
       "      <td>2020-10-21@19</td>\n",
       "      <td>0</td>\n",
       "    </tr>\n",
       "    <tr>\n",
       "      <th>4</th>\n",
       "      <td>2020-10-21@20</td>\n",
       "      <td>44</td>\n",
       "    </tr>\n",
       "  </tbody>\n",
       "</table>\n",
       "</div>"
      ],
      "text/plain": [
       "  extraction_date_with_hour  shared_teks_by_upload_date\n",
       "0             2020-10-21@16                           0\n",
       "1             2020-10-21@17                           0\n",
       "2             2020-10-21@18                          77\n",
       "3             2020-10-21@19                           0\n",
       "4             2020-10-21@20                          44"
      ]
     },
     "execution_count": 36,
     "metadata": {},
     "output_type": "execute_result"
    }
   ],
   "source": [
    "hourly_new_tek_count_df = hourly_extracted_teks_df \\\n",
    "    .groupby(\"extraction_date_with_hour\").tek_list. \\\n",
    "    apply(lambda x: set(sum(x, []))).reset_index().copy()\n",
    "hourly_new_tek_count_df = hourly_new_tek_count_df.set_index(\"extraction_date_with_hour\") \\\n",
    "    .sort_index(ascending=True)\n",
    "\n",
    "hourly_new_tek_count_df[\"new_tek_list\"] = hourly_new_tek_count_df.tek_list.diff()\n",
    "hourly_new_tek_count_df[\"new_tek_count\"] = hourly_new_tek_count_df.new_tek_list.apply(\n",
    "    lambda x: len(x) if not pd.isna(x) else 0)\n",
    "hourly_new_tek_count_df.rename(columns={\n",
    "    \"new_tek_count\": \"shared_teks_by_upload_date\"}, inplace=True)\n",
    "hourly_new_tek_count_df = hourly_new_tek_count_df.reset_index()[[\n",
    "    \"extraction_date_with_hour\", \"shared_teks_by_upload_date\"]]\n",
    "hourly_new_tek_count_df.head()"
   ]
  },
  {
   "cell_type": "code",
   "execution_count": 37,
   "metadata": {
    "execution": {
     "iopub.execute_input": "2020-10-22T17:26:16.156467Z",
     "iopub.status.busy": "2020-10-22T17:26:16.133146Z",
     "iopub.status.idle": "2020-10-22T17:26:16.158722Z",
     "shell.execute_reply": "2020-10-22T17:26:16.159193Z"
    },
    "papermill": {
     "duration": 0.095534,
     "end_time": "2020-10-22T17:26:16.159366",
     "exception": false,
     "start_time": "2020-10-22T17:26:16.063832",
     "status": "completed"
    },
    "pycharm": {
     "name": "#%%\n"
    },
    "tags": []
   },
   "outputs": [
    {
     "data": {
      "text/html": [
       "<div>\n",
       "<style scoped>\n",
       "    .dataframe tbody tr th:only-of-type {\n",
       "        vertical-align: middle;\n",
       "    }\n",
       "\n",
       "    .dataframe tbody tr th {\n",
       "        vertical-align: top;\n",
       "    }\n",
       "\n",
       "    .dataframe thead th {\n",
       "        text-align: right;\n",
       "    }\n",
       "</style>\n",
       "<table border=\"1\" class=\"dataframe\">\n",
       "  <thead>\n",
       "    <tr style=\"text-align: right;\">\n",
       "      <th></th>\n",
       "      <th>extraction_date_with_hour</th>\n",
       "      <th>shared_diagnoses</th>\n",
       "    </tr>\n",
       "  </thead>\n",
       "  <tbody>\n",
       "    <tr>\n",
       "      <th>0</th>\n",
       "      <td>2020-10-21@16</td>\n",
       "      <td>0</td>\n",
       "    </tr>\n",
       "    <tr>\n",
       "      <th>1</th>\n",
       "      <td>2020-10-21@17</td>\n",
       "      <td>0</td>\n",
       "    </tr>\n",
       "    <tr>\n",
       "      <th>2</th>\n",
       "      <td>2020-10-21@18</td>\n",
       "      <td>14</td>\n",
       "    </tr>\n",
       "    <tr>\n",
       "      <th>3</th>\n",
       "      <td>2020-10-21@19</td>\n",
       "      <td>0</td>\n",
       "    </tr>\n",
       "    <tr>\n",
       "      <th>4</th>\n",
       "      <td>2020-10-21@20</td>\n",
       "      <td>8</td>\n",
       "    </tr>\n",
       "  </tbody>\n",
       "</table>\n",
       "</div>"
      ],
      "text/plain": [
       "  extraction_date_with_hour  shared_diagnoses\n",
       "0             2020-10-21@16                 0\n",
       "1             2020-10-21@17                 0\n",
       "2             2020-10-21@18                14\n",
       "3             2020-10-21@19                 0\n",
       "4             2020-10-21@20                 8"
      ]
     },
     "execution_count": 37,
     "metadata": {},
     "output_type": "execute_result"
    }
   ],
   "source": [
    "hourly_estimated_shared_diagnoses_df = hourly_extracted_teks_df.copy()\n",
    "hourly_estimated_shared_diagnoses_df[\"new_sample_extraction_date\"] = \\\n",
    "    pd.to_datetime(hourly_estimated_shared_diagnoses_df.sample_date) + datetime.timedelta(1)\n",
    "hourly_estimated_shared_diagnoses_df[\"extraction_date\"] = \\\n",
    "    pd.to_datetime(hourly_estimated_shared_diagnoses_df.extraction_date)\n",
    "\n",
    "hourly_estimated_shared_diagnoses_df = hourly_estimated_shared_diagnoses_df[\n",
    "    hourly_estimated_shared_diagnoses_df.new_sample_extraction_date ==\n",
    "    hourly_estimated_shared_diagnoses_df.extraction_date]\n",
    "hourly_estimated_shared_diagnoses_df = \\\n",
    "    hourly_estimated_shared_diagnoses_df.merge(same_day_tek_list_df, how=\"left\", on=[\"extraction_date\"])\n",
    "hourly_estimated_shared_diagnoses_df[\"same_day_tek_list\"] = \\\n",
    "    hourly_estimated_shared_diagnoses_df.same_day_tek_list.apply(lambda x: [] if x is np.nan else x)\n",
    "hourly_estimated_shared_diagnoses_df[\"shared_diagnoses\"] = hourly_estimated_shared_diagnoses_df.apply(\n",
    "    lambda x: len(set(x.tek_list).difference(x.same_day_tek_list)), axis=1)\n",
    "hourly_estimated_shared_diagnoses_df = \\\n",
    "    hourly_estimated_shared_diagnoses_df.sort_values(\"extraction_date_with_hour\").copy()\n",
    "hourly_estimated_shared_diagnoses_df[\"shared_diagnoses\"] = hourly_estimated_shared_diagnoses_df \\\n",
    "    .groupby(\"extraction_date\").shared_diagnoses.diff() \\\n",
    "    .fillna(0).astype(int)\n",
    "\n",
    "hourly_estimated_shared_diagnoses_df.set_index(\"extraction_date_with_hour\", inplace=True)\n",
    "hourly_estimated_shared_diagnoses_df.reset_index(inplace=True)\n",
    "hourly_estimated_shared_diagnoses_df = hourly_estimated_shared_diagnoses_df[[\n",
    "    \"extraction_date_with_hour\", \"shared_diagnoses\"]]\n",
    "hourly_estimated_shared_diagnoses_df.head()"
   ]
  },
  {
   "cell_type": "code",
   "execution_count": 38,
   "metadata": {
    "collapsed": false,
    "execution": {
     "iopub.execute_input": "2020-10-22T17:26:16.293002Z",
     "iopub.status.busy": "2020-10-22T17:26:16.292409Z",
     "iopub.status.idle": "2020-10-22T17:26:16.297293Z",
     "shell.execute_reply": "2020-10-22T17:26:16.296801Z"
    },
    "papermill": {
     "duration": 0.080171,
     "end_time": "2020-10-22T17:26:16.297425",
     "exception": false,
     "start_time": "2020-10-22T17:26:16.217254",
     "status": "completed"
    },
    "pycharm": {
     "name": "#%%\n"
    },
    "tags": []
   },
   "outputs": [
    {
     "data": {
      "text/html": [
       "<div>\n",
       "<style scoped>\n",
       "    .dataframe tbody tr th:only-of-type {\n",
       "        vertical-align: middle;\n",
       "    }\n",
       "\n",
       "    .dataframe tbody tr th {\n",
       "        vertical-align: top;\n",
       "    }\n",
       "\n",
       "    .dataframe thead th {\n",
       "        text-align: right;\n",
       "    }\n",
       "</style>\n",
       "<table border=\"1\" class=\"dataframe\">\n",
       "  <thead>\n",
       "    <tr style=\"text-align: right;\">\n",
       "      <th></th>\n",
       "      <th>extraction_date_with_hour</th>\n",
       "      <th>shared_teks_by_upload_date</th>\n",
       "      <th>shared_diagnoses</th>\n",
       "    </tr>\n",
       "    <tr>\n",
       "      <th>datetime_utc</th>\n",
       "      <th></th>\n",
       "      <th></th>\n",
       "      <th></th>\n",
       "    </tr>\n",
       "  </thead>\n",
       "  <tbody>\n",
       "    <tr>\n",
       "      <th>2020-10-21 17:00:00</th>\n",
       "      <td>2020-10-21@17</td>\n",
       "      <td>0</td>\n",
       "      <td>0</td>\n",
       "    </tr>\n",
       "    <tr>\n",
       "      <th>2020-10-21 18:00:00</th>\n",
       "      <td>2020-10-21@18</td>\n",
       "      <td>77</td>\n",
       "      <td>14</td>\n",
       "    </tr>\n",
       "    <tr>\n",
       "      <th>2020-10-21 19:00:00</th>\n",
       "      <td>2020-10-21@19</td>\n",
       "      <td>0</td>\n",
       "      <td>0</td>\n",
       "    </tr>\n",
       "    <tr>\n",
       "      <th>2020-10-21 20:00:00</th>\n",
       "      <td>2020-10-21@20</td>\n",
       "      <td>44</td>\n",
       "      <td>8</td>\n",
       "    </tr>\n",
       "    <tr>\n",
       "      <th>2020-10-21 21:00:00</th>\n",
       "      <td>2020-10-21@21</td>\n",
       "      <td>0</td>\n",
       "      <td>0</td>\n",
       "    </tr>\n",
       "  </tbody>\n",
       "</table>\n",
       "</div>"
      ],
      "text/plain": [
       "                    extraction_date_with_hour  shared_teks_by_upload_date  \\\n",
       "datetime_utc                                                                \n",
       "2020-10-21 17:00:00             2020-10-21@17                           0   \n",
       "2020-10-21 18:00:00             2020-10-21@18                          77   \n",
       "2020-10-21 19:00:00             2020-10-21@19                           0   \n",
       "2020-10-21 20:00:00             2020-10-21@20                          44   \n",
       "2020-10-21 21:00:00             2020-10-21@21                           0   \n",
       "\n",
       "                     shared_diagnoses  \n",
       "datetime_utc                           \n",
       "2020-10-21 17:00:00                 0  \n",
       "2020-10-21 18:00:00                14  \n",
       "2020-10-21 19:00:00                 0  \n",
       "2020-10-21 20:00:00                 8  \n",
       "2020-10-21 21:00:00                 0  "
      ]
     },
     "execution_count": 38,
     "metadata": {},
     "output_type": "execute_result"
    }
   ],
   "source": [
    "hourly_summary_df = hourly_new_tek_count_df.merge(\n",
    "    hourly_estimated_shared_diagnoses_df, on=[\"extraction_date_with_hour\"], how=\"outer\")\n",
    "hourly_summary_df.set_index(\"extraction_date_with_hour\", inplace=True)\n",
    "hourly_summary_df = hourly_summary_df.fillna(0).astype(int).reset_index()\n",
    "hourly_summary_df[\"datetime_utc\"] = pd.to_datetime(\n",
    "    hourly_summary_df.extraction_date_with_hour, format=\"%Y-%m-%d@%H\")\n",
    "hourly_summary_df.set_index(\"datetime_utc\", inplace=True)\n",
    "hourly_summary_df = hourly_summary_df.tail(-1)\n",
    "hourly_summary_df.head()"
   ]
  },
  {
   "cell_type": "markdown",
   "metadata": {
    "collapsed": false,
    "papermill": {
     "duration": 0.058917,
     "end_time": "2020-10-22T17:26:16.415041",
     "exception": false,
     "start_time": "2020-10-22T17:26:16.356124",
     "status": "completed"
    },
    "pycharm": {
     "name": "#%% md\n"
    },
    "tags": []
   },
   "source": [
    "### Data Merge"
   ]
  },
  {
   "cell_type": "code",
   "execution_count": 39,
   "metadata": {
    "collapsed": false,
    "execution": {
     "iopub.execute_input": "2020-10-22T17:26:16.556447Z",
     "iopub.status.busy": "2020-10-22T17:26:16.550914Z",
     "iopub.status.idle": "2020-10-22T17:26:16.559287Z",
     "shell.execute_reply": "2020-10-22T17:26:16.559730Z"
    },
    "papermill": {
     "duration": 0.086394,
     "end_time": "2020-10-22T17:26:16.559906",
     "exception": false,
     "start_time": "2020-10-22T17:26:16.473512",
     "status": "completed"
    },
    "pycharm": {
     "name": "#%%\n"
    },
    "tags": []
   },
   "outputs": [
    {
     "data": {
      "text/html": [
       "<div>\n",
       "<style scoped>\n",
       "    .dataframe tbody tr th:only-of-type {\n",
       "        vertical-align: middle;\n",
       "    }\n",
       "\n",
       "    .dataframe tbody tr th {\n",
       "        vertical-align: top;\n",
       "    }\n",
       "\n",
       "    .dataframe thead th {\n",
       "        text-align: right;\n",
       "    }\n",
       "</style>\n",
       "<table border=\"1\" class=\"dataframe\">\n",
       "  <thead>\n",
       "    <tr style=\"text-align: right;\">\n",
       "      <th></th>\n",
       "      <th>sample_date_string</th>\n",
       "      <th>shared_teks_by_generation_date</th>\n",
       "      <th>shared_teks_by_upload_date</th>\n",
       "    </tr>\n",
       "  </thead>\n",
       "  <tbody>\n",
       "    <tr>\n",
       "      <th>0</th>\n",
       "      <td>2020-10-22</td>\n",
       "      <td>115</td>\n",
       "      <td>504.0</td>\n",
       "    </tr>\n",
       "    <tr>\n",
       "      <th>1</th>\n",
       "      <td>2020-10-21</td>\n",
       "      <td>253</td>\n",
       "      <td>841.0</td>\n",
       "    </tr>\n",
       "    <tr>\n",
       "      <th>2</th>\n",
       "      <td>2020-10-20</td>\n",
       "      <td>380</td>\n",
       "      <td>772.0</td>\n",
       "    </tr>\n",
       "    <tr>\n",
       "      <th>3</th>\n",
       "      <td>2020-10-19</td>\n",
       "      <td>483</td>\n",
       "      <td>791.0</td>\n",
       "    </tr>\n",
       "    <tr>\n",
       "      <th>4</th>\n",
       "      <td>2020-10-18</td>\n",
       "      <td>560</td>\n",
       "      <td>726.0</td>\n",
       "    </tr>\n",
       "  </tbody>\n",
       "</table>\n",
       "</div>"
      ],
      "text/plain": [
       "  sample_date_string  shared_teks_by_generation_date  \\\n",
       "0         2020-10-22                             115   \n",
       "1         2020-10-21                             253   \n",
       "2         2020-10-20                             380   \n",
       "3         2020-10-19                             483   \n",
       "4         2020-10-18                             560   \n",
       "\n",
       "   shared_teks_by_upload_date  \n",
       "0                       504.0  \n",
       "1                       841.0  \n",
       "2                       772.0  \n",
       "3                       791.0  \n",
       "4                       726.0  "
      ]
     },
     "execution_count": 39,
     "metadata": {},
     "output_type": "execute_result"
    }
   ],
   "source": [
    "result_summary_df = exposure_keys_summary_df.merge(\n",
    "    new_tek_df, on=[\"sample_date_string\"], how=\"outer\")\n",
    "result_summary_df.head()"
   ]
  },
  {
   "cell_type": "code",
   "execution_count": 40,
   "metadata": {
    "execution": {
     "iopub.execute_input": "2020-10-22T17:26:16.683722Z",
     "iopub.status.busy": "2020-10-22T17:26:16.683159Z",
     "iopub.status.idle": "2020-10-22T17:26:16.700254Z",
     "shell.execute_reply": "2020-10-22T17:26:16.700701Z"
    },
    "papermill": {
     "duration": 0.082033,
     "end_time": "2020-10-22T17:26:16.700864",
     "exception": false,
     "start_time": "2020-10-22T17:26:16.618831",
     "status": "completed"
    },
    "tags": []
   },
   "outputs": [
    {
     "data": {
      "text/html": [
       "<div>\n",
       "<style scoped>\n",
       "    .dataframe tbody tr th:only-of-type {\n",
       "        vertical-align: middle;\n",
       "    }\n",
       "\n",
       "    .dataframe tbody tr th {\n",
       "        vertical-align: top;\n",
       "    }\n",
       "\n",
       "    .dataframe thead th {\n",
       "        text-align: right;\n",
       "    }\n",
       "</style>\n",
       "<table border=\"1\" class=\"dataframe\">\n",
       "  <thead>\n",
       "    <tr style=\"text-align: right;\">\n",
       "      <th></th>\n",
       "      <th>sample_date_string</th>\n",
       "      <th>shared_teks_by_generation_date</th>\n",
       "      <th>shared_teks_by_upload_date</th>\n",
       "      <th>shared_teks_uploaded_on_generation_date</th>\n",
       "    </tr>\n",
       "  </thead>\n",
       "  <tbody>\n",
       "    <tr>\n",
       "      <th>0</th>\n",
       "      <td>2020-10-22</td>\n",
       "      <td>115</td>\n",
       "      <td>504.0</td>\n",
       "      <td>115.0</td>\n",
       "    </tr>\n",
       "    <tr>\n",
       "      <th>1</th>\n",
       "      <td>2020-10-21</td>\n",
       "      <td>253</td>\n",
       "      <td>841.0</td>\n",
       "      <td>157.0</td>\n",
       "    </tr>\n",
       "    <tr>\n",
       "      <th>2</th>\n",
       "      <td>2020-10-20</td>\n",
       "      <td>380</td>\n",
       "      <td>772.0</td>\n",
       "      <td>149.0</td>\n",
       "    </tr>\n",
       "    <tr>\n",
       "      <th>3</th>\n",
       "      <td>2020-10-19</td>\n",
       "      <td>483</td>\n",
       "      <td>791.0</td>\n",
       "      <td>142.0</td>\n",
       "    </tr>\n",
       "    <tr>\n",
       "      <th>4</th>\n",
       "      <td>2020-10-18</td>\n",
       "      <td>560</td>\n",
       "      <td>726.0</td>\n",
       "      <td>146.0</td>\n",
       "    </tr>\n",
       "  </tbody>\n",
       "</table>\n",
       "</div>"
      ],
      "text/plain": [
       "  sample_date_string  shared_teks_by_generation_date  \\\n",
       "0         2020-10-22                             115   \n",
       "1         2020-10-21                             253   \n",
       "2         2020-10-20                             380   \n",
       "3         2020-10-19                             483   \n",
       "4         2020-10-18                             560   \n",
       "\n",
       "   shared_teks_by_upload_date  shared_teks_uploaded_on_generation_date  \n",
       "0                       504.0                                    115.0  \n",
       "1                       841.0                                    157.0  \n",
       "2                       772.0                                    149.0  \n",
       "3                       791.0                                    142.0  \n",
       "4                       726.0                                    146.0  "
      ]
     },
     "execution_count": 40,
     "metadata": {},
     "output_type": "execute_result"
    }
   ],
   "source": [
    "result_summary_df = result_summary_df.merge(\n",
    "    shared_teks_uploaded_on_generation_date_df, on=[\"sample_date_string\"], how=\"outer\")\n",
    "result_summary_df.head()"
   ]
  },
  {
   "cell_type": "code",
   "execution_count": 41,
   "metadata": {
    "collapsed": false,
    "execution": {
     "iopub.execute_input": "2020-10-22T17:26:16.828054Z",
     "iopub.status.busy": "2020-10-22T17:26:16.827475Z",
     "iopub.status.idle": "2020-10-22T17:26:16.837365Z",
     "shell.execute_reply": "2020-10-22T17:26:16.836890Z"
    },
    "papermill": {
     "duration": 0.077215,
     "end_time": "2020-10-22T17:26:16.837500",
     "exception": false,
     "start_time": "2020-10-22T17:26:16.760285",
     "status": "completed"
    },
    "pycharm": {
     "name": "#%%\n"
    },
    "tags": []
   },
   "outputs": [
    {
     "data": {
      "text/html": [
       "<div>\n",
       "<style scoped>\n",
       "    .dataframe tbody tr th:only-of-type {\n",
       "        vertical-align: middle;\n",
       "    }\n",
       "\n",
       "    .dataframe tbody tr th {\n",
       "        vertical-align: top;\n",
       "    }\n",
       "\n",
       "    .dataframe thead th {\n",
       "        text-align: right;\n",
       "    }\n",
       "</style>\n",
       "<table border=\"1\" class=\"dataframe\">\n",
       "  <thead>\n",
       "    <tr style=\"text-align: right;\">\n",
       "      <th></th>\n",
       "      <th>sample_date_string</th>\n",
       "      <th>shared_teks_by_generation_date</th>\n",
       "      <th>shared_teks_by_upload_date</th>\n",
       "      <th>shared_teks_uploaded_on_generation_date</th>\n",
       "      <th>shared_diagnoses</th>\n",
       "    </tr>\n",
       "  </thead>\n",
       "  <tbody>\n",
       "    <tr>\n",
       "      <th>0</th>\n",
       "      <td>2020-10-22</td>\n",
       "      <td>115</td>\n",
       "      <td>504.0</td>\n",
       "      <td>115.0</td>\n",
       "      <td>96.0</td>\n",
       "    </tr>\n",
       "    <tr>\n",
       "      <th>1</th>\n",
       "      <td>2020-10-21</td>\n",
       "      <td>253</td>\n",
       "      <td>841.0</td>\n",
       "      <td>157.0</td>\n",
       "      <td>153.0</td>\n",
       "    </tr>\n",
       "    <tr>\n",
       "      <th>2</th>\n",
       "      <td>2020-10-20</td>\n",
       "      <td>380</td>\n",
       "      <td>772.0</td>\n",
       "      <td>149.0</td>\n",
       "      <td>135.0</td>\n",
       "    </tr>\n",
       "    <tr>\n",
       "      <th>3</th>\n",
       "      <td>2020-10-19</td>\n",
       "      <td>483</td>\n",
       "      <td>791.0</td>\n",
       "      <td>142.0</td>\n",
       "      <td>123.0</td>\n",
       "    </tr>\n",
       "    <tr>\n",
       "      <th>4</th>\n",
       "      <td>2020-10-18</td>\n",
       "      <td>560</td>\n",
       "      <td>726.0</td>\n",
       "      <td>146.0</td>\n",
       "      <td>132.0</td>\n",
       "    </tr>\n",
       "  </tbody>\n",
       "</table>\n",
       "</div>"
      ],
      "text/plain": [
       "  sample_date_string  shared_teks_by_generation_date  \\\n",
       "0         2020-10-22                             115   \n",
       "1         2020-10-21                             253   \n",
       "2         2020-10-20                             380   \n",
       "3         2020-10-19                             483   \n",
       "4         2020-10-18                             560   \n",
       "\n",
       "   shared_teks_by_upload_date  shared_teks_uploaded_on_generation_date  \\\n",
       "0                       504.0                                    115.0   \n",
       "1                       841.0                                    157.0   \n",
       "2                       772.0                                    149.0   \n",
       "3                       791.0                                    142.0   \n",
       "4                       726.0                                    146.0   \n",
       "\n",
       "   shared_diagnoses  \n",
       "0              96.0  \n",
       "1             153.0  \n",
       "2             135.0  \n",
       "3             123.0  \n",
       "4             132.0  "
      ]
     },
     "execution_count": 41,
     "metadata": {},
     "output_type": "execute_result"
    }
   ],
   "source": [
    "result_summary_df = result_summary_df.merge(\n",
    "    estimated_shared_diagnoses_df, on=[\"sample_date_string\"], how=\"outer\")\n",
    "result_summary_df.head()"
   ]
  },
  {
   "cell_type": "code",
   "execution_count": 42,
   "metadata": {
    "collapsed": false,
    "execution": {
     "iopub.execute_input": "2020-10-22T17:26:16.970285Z",
     "iopub.status.busy": "2020-10-22T17:26:16.965432Z",
     "iopub.status.idle": "2020-10-22T17:26:16.978454Z",
     "shell.execute_reply": "2020-10-22T17:26:16.977958Z"
    },
    "papermill": {
     "duration": 0.080985,
     "end_time": "2020-10-22T17:26:16.978583",
     "exception": false,
     "start_time": "2020-10-22T17:26:16.897598",
     "status": "completed"
    },
    "pycharm": {
     "name": "#%%\n"
    },
    "tags": []
   },
   "outputs": [
    {
     "data": {
      "text/html": [
       "<div>\n",
       "<style scoped>\n",
       "    .dataframe tbody tr th:only-of-type {\n",
       "        vertical-align: middle;\n",
       "    }\n",
       "\n",
       "    .dataframe tbody tr th {\n",
       "        vertical-align: top;\n",
       "    }\n",
       "\n",
       "    .dataframe thead th {\n",
       "        text-align: right;\n",
       "    }\n",
       "</style>\n",
       "<table border=\"1\" class=\"dataframe\">\n",
       "  <thead>\n",
       "    <tr style=\"text-align: right;\">\n",
       "      <th></th>\n",
       "      <th>sample_date_string</th>\n",
       "      <th>cumulative_cases</th>\n",
       "      <th>new_cases</th>\n",
       "      <th>covid_cases</th>\n",
       "      <th>shared_teks_by_generation_date</th>\n",
       "      <th>shared_teks_by_upload_date</th>\n",
       "      <th>shared_teks_uploaded_on_generation_date</th>\n",
       "      <th>shared_diagnoses</th>\n",
       "    </tr>\n",
       "  </thead>\n",
       "  <tbody>\n",
       "    <tr>\n",
       "      <th>0</th>\n",
       "      <td>2020-07-31</td>\n",
       "      <td>288522.0</td>\n",
       "      <td>3092.0</td>\n",
       "      <td>2300</td>\n",
       "      <td>NaN</td>\n",
       "      <td>NaN</td>\n",
       "      <td>NaN</td>\n",
       "      <td>NaN</td>\n",
       "    </tr>\n",
       "    <tr>\n",
       "      <th>1</th>\n",
       "      <td>2020-08-01</td>\n",
       "      <td>288522.0</td>\n",
       "      <td>0.0</td>\n",
       "      <td>2300</td>\n",
       "      <td>NaN</td>\n",
       "      <td>NaN</td>\n",
       "      <td>NaN</td>\n",
       "      <td>NaN</td>\n",
       "    </tr>\n",
       "    <tr>\n",
       "      <th>2</th>\n",
       "      <td>2020-08-02</td>\n",
       "      <td>288522.0</td>\n",
       "      <td>0.0</td>\n",
       "      <td>2300</td>\n",
       "      <td>NaN</td>\n",
       "      <td>NaN</td>\n",
       "      <td>NaN</td>\n",
       "      <td>NaN</td>\n",
       "    </tr>\n",
       "    <tr>\n",
       "      <th>3</th>\n",
       "      <td>2020-08-03</td>\n",
       "      <td>297054.0</td>\n",
       "      <td>8532.0</td>\n",
       "      <td>3519</td>\n",
       "      <td>NaN</td>\n",
       "      <td>NaN</td>\n",
       "      <td>NaN</td>\n",
       "      <td>NaN</td>\n",
       "    </tr>\n",
       "    <tr>\n",
       "      <th>4</th>\n",
       "      <td>2020-08-04</td>\n",
       "      <td>302814.0</td>\n",
       "      <td>5760.0</td>\n",
       "      <td>3172</td>\n",
       "      <td>NaN</td>\n",
       "      <td>NaN</td>\n",
       "      <td>NaN</td>\n",
       "      <td>NaN</td>\n",
       "    </tr>\n",
       "  </tbody>\n",
       "</table>\n",
       "</div>"
      ],
      "text/plain": [
       "  sample_date_string  cumulative_cases  new_cases  covid_cases  \\\n",
       "0         2020-07-31          288522.0     3092.0         2300   \n",
       "1         2020-08-01          288522.0        0.0         2300   \n",
       "2         2020-08-02          288522.0        0.0         2300   \n",
       "3         2020-08-03          297054.0     8532.0         3519   \n",
       "4         2020-08-04          302814.0     5760.0         3172   \n",
       "\n",
       "   shared_teks_by_generation_date  shared_teks_by_upload_date  \\\n",
       "0                             NaN                         NaN   \n",
       "1                             NaN                         NaN   \n",
       "2                             NaN                         NaN   \n",
       "3                             NaN                         NaN   \n",
       "4                             NaN                         NaN   \n",
       "\n",
       "   shared_teks_uploaded_on_generation_date  shared_diagnoses  \n",
       "0                                      NaN               NaN  \n",
       "1                                      NaN               NaN  \n",
       "2                                      NaN               NaN  \n",
       "3                                      NaN               NaN  \n",
       "4                                      NaN               NaN  "
      ]
     },
     "execution_count": 42,
     "metadata": {},
     "output_type": "execute_result"
    }
   ],
   "source": [
    "result_summary_df = confirmed_df.tail(daily_summary_days).merge(\n",
    "    result_summary_df, on=[\"sample_date_string\"], how=\"left\")\n",
    "result_summary_df.head()"
   ]
  },
  {
   "cell_type": "code",
   "execution_count": 43,
   "metadata": {
    "collapsed": false,
    "execution": {
     "iopub.execute_input": "2020-10-22T17:26:17.109478Z",
     "iopub.status.busy": "2020-10-22T17:26:17.108911Z",
     "iopub.status.idle": "2020-10-22T17:26:17.124670Z",
     "shell.execute_reply": "2020-10-22T17:26:17.124149Z"
    },
    "papermill": {
     "duration": 0.085516,
     "end_time": "2020-10-22T17:26:17.124801",
     "exception": false,
     "start_time": "2020-10-22T17:26:17.039285",
     "status": "completed"
    },
    "pycharm": {
     "name": "#%%\n"
    },
    "tags": []
   },
   "outputs": [
    {
     "data": {
      "text/html": [
       "<div>\n",
       "<style scoped>\n",
       "    .dataframe tbody tr th:only-of-type {\n",
       "        vertical-align: middle;\n",
       "    }\n",
       "\n",
       "    .dataframe tbody tr th {\n",
       "        vertical-align: top;\n",
       "    }\n",
       "\n",
       "    .dataframe thead th {\n",
       "        text-align: right;\n",
       "    }\n",
       "</style>\n",
       "<table border=\"1\" class=\"dataframe\">\n",
       "  <thead>\n",
       "    <tr style=\"text-align: right;\">\n",
       "      <th></th>\n",
       "      <th>cumulative_cases</th>\n",
       "      <th>new_cases</th>\n",
       "      <th>covid_cases</th>\n",
       "      <th>shared_teks_by_generation_date</th>\n",
       "      <th>shared_teks_by_upload_date</th>\n",
       "      <th>shared_teks_uploaded_on_generation_date</th>\n",
       "      <th>shared_diagnoses</th>\n",
       "    </tr>\n",
       "    <tr>\n",
       "      <th>sample_date</th>\n",
       "      <th></th>\n",
       "      <th></th>\n",
       "      <th></th>\n",
       "      <th></th>\n",
       "      <th></th>\n",
       "      <th></th>\n",
       "      <th></th>\n",
       "    </tr>\n",
       "  </thead>\n",
       "  <tbody>\n",
       "    <tr>\n",
       "      <th>2020-10-22</th>\n",
       "      <td>1019186.0</td>\n",
       "      <td>13891.0</td>\n",
       "      <td>13891</td>\n",
       "      <td>115.0</td>\n",
       "      <td>504.0</td>\n",
       "      <td>115.0</td>\n",
       "      <td>96.0</td>\n",
       "    </tr>\n",
       "    <tr>\n",
       "      <th>2020-10-21</th>\n",
       "      <td>1005295.0</td>\n",
       "      <td>16973.0</td>\n",
       "      <td>13891</td>\n",
       "      <td>253.0</td>\n",
       "      <td>841.0</td>\n",
       "      <td>157.0</td>\n",
       "      <td>153.0</td>\n",
       "    </tr>\n",
       "    <tr>\n",
       "      <th>2020-10-20</th>\n",
       "      <td>988322.0</td>\n",
       "      <td>13873.0</td>\n",
       "      <td>13177</td>\n",
       "      <td>380.0</td>\n",
       "      <td>772.0</td>\n",
       "      <td>149.0</td>\n",
       "      <td>135.0</td>\n",
       "    </tr>\n",
       "    <tr>\n",
       "      <th>2020-10-19</th>\n",
       "      <td>974449.0</td>\n",
       "      <td>37889.0</td>\n",
       "      <td>12212</td>\n",
       "      <td>483.0</td>\n",
       "      <td>791.0</td>\n",
       "      <td>142.0</td>\n",
       "      <td>123.0</td>\n",
       "    </tr>\n",
       "    <tr>\n",
       "      <th>2020-10-18</th>\n",
       "      <td>936560.0</td>\n",
       "      <td>0.0</td>\n",
       "      <td>10778</td>\n",
       "      <td>560.0</td>\n",
       "      <td>726.0</td>\n",
       "      <td>146.0</td>\n",
       "      <td>132.0</td>\n",
       "    </tr>\n",
       "  </tbody>\n",
       "</table>\n",
       "</div>"
      ],
      "text/plain": [
       "             cumulative_cases  new_cases  covid_cases  \\\n",
       "sample_date                                             \n",
       "2020-10-22          1019186.0    13891.0        13891   \n",
       "2020-10-21          1005295.0    16973.0        13891   \n",
       "2020-10-20           988322.0    13873.0        13177   \n",
       "2020-10-19           974449.0    37889.0        12212   \n",
       "2020-10-18           936560.0        0.0        10778   \n",
       "\n",
       "             shared_teks_by_generation_date  shared_teks_by_upload_date  \\\n",
       "sample_date                                                               \n",
       "2020-10-22                            115.0                       504.0   \n",
       "2020-10-21                            253.0                       841.0   \n",
       "2020-10-20                            380.0                       772.0   \n",
       "2020-10-19                            483.0                       791.0   \n",
       "2020-10-18                            560.0                       726.0   \n",
       "\n",
       "             shared_teks_uploaded_on_generation_date  shared_diagnoses  \n",
       "sample_date                                                             \n",
       "2020-10-22                                     115.0              96.0  \n",
       "2020-10-21                                     157.0             153.0  \n",
       "2020-10-20                                     149.0             135.0  \n",
       "2020-10-19                                     142.0             123.0  \n",
       "2020-10-18                                     146.0             132.0  "
      ]
     },
     "execution_count": 43,
     "metadata": {},
     "output_type": "execute_result"
    }
   ],
   "source": [
    "result_summary_df[\"sample_date\"] = pd.to_datetime(result_summary_df.sample_date_string)\n",
    "result_summary_df.set_index(\"sample_date\", inplace=True)\n",
    "result_summary_df.drop(columns=[\"sample_date_string\"], inplace=True)\n",
    "result_summary_df.sort_index(ascending=False, inplace=True)\n",
    "result_summary_df.head()"
   ]
  },
  {
   "cell_type": "code",
   "execution_count": 44,
   "metadata": {
    "collapsed": false,
    "execution": {
     "iopub.execute_input": "2020-10-22T17:26:17.268028Z",
     "iopub.status.busy": "2020-10-22T17:26:17.267428Z",
     "iopub.status.idle": "2020-10-22T17:26:17.271209Z",
     "shell.execute_reply": "2020-10-22T17:26:17.271999Z"
    },
    "papermill": {
     "duration": 0.086835,
     "end_time": "2020-10-22T17:26:17.272467",
     "exception": false,
     "start_time": "2020-10-22T17:26:17.185632",
     "status": "completed"
    },
    "pycharm": {
     "name": "#%%\n"
    },
    "tags": []
   },
   "outputs": [
    {
     "data": {
      "text/html": [
       "<div>\n",
       "<style scoped>\n",
       "    .dataframe tbody tr th:only-of-type {\n",
       "        vertical-align: middle;\n",
       "    }\n",
       "\n",
       "    .dataframe tbody tr th {\n",
       "        vertical-align: top;\n",
       "    }\n",
       "\n",
       "    .dataframe thead th {\n",
       "        text-align: right;\n",
       "    }\n",
       "</style>\n",
       "<table border=\"1\" class=\"dataframe\">\n",
       "  <thead>\n",
       "    <tr style=\"text-align: right;\">\n",
       "      <th></th>\n",
       "      <th>cumulative_cases</th>\n",
       "      <th>new_cases</th>\n",
       "      <th>covid_cases</th>\n",
       "      <th>shared_teks_by_generation_date</th>\n",
       "      <th>shared_teks_by_upload_date</th>\n",
       "      <th>shared_teks_uploaded_on_generation_date</th>\n",
       "      <th>shared_diagnoses</th>\n",
       "      <th>teks_per_shared_diagnosis</th>\n",
       "      <th>shared_diagnoses_per_covid_case</th>\n",
       "    </tr>\n",
       "    <tr>\n",
       "      <th>sample_date</th>\n",
       "      <th></th>\n",
       "      <th></th>\n",
       "      <th></th>\n",
       "      <th></th>\n",
       "      <th></th>\n",
       "      <th></th>\n",
       "      <th></th>\n",
       "      <th></th>\n",
       "      <th></th>\n",
       "    </tr>\n",
       "  </thead>\n",
       "  <tbody>\n",
       "    <tr>\n",
       "      <th>2020-10-22</th>\n",
       "      <td>1019186</td>\n",
       "      <td>13891</td>\n",
       "      <td>13891</td>\n",
       "      <td>115</td>\n",
       "      <td>504</td>\n",
       "      <td>115</td>\n",
       "      <td>96</td>\n",
       "      <td>5.250000</td>\n",
       "      <td>0.006911</td>\n",
       "    </tr>\n",
       "    <tr>\n",
       "      <th>2020-10-21</th>\n",
       "      <td>1005295</td>\n",
       "      <td>16973</td>\n",
       "      <td>13891</td>\n",
       "      <td>253</td>\n",
       "      <td>841</td>\n",
       "      <td>157</td>\n",
       "      <td>153</td>\n",
       "      <td>5.496732</td>\n",
       "      <td>0.011014</td>\n",
       "    </tr>\n",
       "    <tr>\n",
       "      <th>2020-10-20</th>\n",
       "      <td>988322</td>\n",
       "      <td>13873</td>\n",
       "      <td>13177</td>\n",
       "      <td>380</td>\n",
       "      <td>772</td>\n",
       "      <td>149</td>\n",
       "      <td>135</td>\n",
       "      <td>5.718519</td>\n",
       "      <td>0.010245</td>\n",
       "    </tr>\n",
       "    <tr>\n",
       "      <th>2020-10-19</th>\n",
       "      <td>974449</td>\n",
       "      <td>37889</td>\n",
       "      <td>12212</td>\n",
       "      <td>483</td>\n",
       "      <td>791</td>\n",
       "      <td>142</td>\n",
       "      <td>123</td>\n",
       "      <td>6.430894</td>\n",
       "      <td>0.010072</td>\n",
       "    </tr>\n",
       "    <tr>\n",
       "      <th>2020-10-18</th>\n",
       "      <td>936560</td>\n",
       "      <td>0</td>\n",
       "      <td>10778</td>\n",
       "      <td>560</td>\n",
       "      <td>726</td>\n",
       "      <td>146</td>\n",
       "      <td>132</td>\n",
       "      <td>5.500000</td>\n",
       "      <td>0.012247</td>\n",
       "    </tr>\n",
       "    <tr>\n",
       "      <th>2020-10-17</th>\n",
       "      <td>936560</td>\n",
       "      <td>0</td>\n",
       "      <td>10778</td>\n",
       "      <td>663</td>\n",
       "      <td>767</td>\n",
       "      <td>174</td>\n",
       "      <td>138</td>\n",
       "      <td>5.557971</td>\n",
       "      <td>0.012804</td>\n",
       "    </tr>\n",
       "    <tr>\n",
       "      <th>2020-10-16</th>\n",
       "      <td>936560</td>\n",
       "      <td>15186</td>\n",
       "      <td>10778</td>\n",
       "      <td>664</td>\n",
       "      <td>769</td>\n",
       "      <td>149</td>\n",
       "      <td>141</td>\n",
       "      <td>5.453901</td>\n",
       "      <td>0.013082</td>\n",
       "    </tr>\n",
       "    <tr>\n",
       "      <th>2020-10-15</th>\n",
       "      <td>921374</td>\n",
       "      <td>13318</td>\n",
       "      <td>10436</td>\n",
       "      <td>698</td>\n",
       "      <td>671</td>\n",
       "      <td>151</td>\n",
       "      <td>175</td>\n",
       "      <td>3.834286</td>\n",
       "      <td>0.016769</td>\n",
       "    </tr>\n",
       "    <tr>\n",
       "      <th>2020-10-14</th>\n",
       "      <td>908056</td>\n",
       "      <td>11970</td>\n",
       "      <td>10308</td>\n",
       "      <td>652</td>\n",
       "      <td>463</td>\n",
       "      <td>1</td>\n",
       "      <td>133</td>\n",
       "      <td>3.481203</td>\n",
       "      <td>0.012903</td>\n",
       "    </tr>\n",
       "    <tr>\n",
       "      <th>2020-10-13</th>\n",
       "      <td>896086</td>\n",
       "      <td>7118</td>\n",
       "      <td>10097</td>\n",
       "      <td>578</td>\n",
       "      <td>334</td>\n",
       "      <td>1</td>\n",
       "      <td>112</td>\n",
       "      <td>2.982143</td>\n",
       "      <td>0.011092</td>\n",
       "    </tr>\n",
       "    <tr>\n",
       "      <th>2020-10-12</th>\n",
       "      <td>888968</td>\n",
       "      <td>27856</td>\n",
       "      <td>10794</td>\n",
       "      <td>524</td>\n",
       "      <td>326</td>\n",
       "      <td>2</td>\n",
       "      <td>136</td>\n",
       "      <td>2.397059</td>\n",
       "      <td>0.012600</td>\n",
       "    </tr>\n",
       "    <tr>\n",
       "      <th>2020-10-11</th>\n",
       "      <td>861112</td>\n",
       "      <td>0</td>\n",
       "      <td>10169</td>\n",
       "      <td>476</td>\n",
       "      <td>422</td>\n",
       "      <td>1</td>\n",
       "      <td>147</td>\n",
       "      <td>2.870748</td>\n",
       "      <td>0.014456</td>\n",
       "    </tr>\n",
       "    <tr>\n",
       "      <th>2020-10-10</th>\n",
       "      <td>861112</td>\n",
       "      <td>0</td>\n",
       "      <td>10169</td>\n",
       "      <td>437</td>\n",
       "      <td>429</td>\n",
       "      <td>0</td>\n",
       "      <td>133</td>\n",
       "      <td>3.225564</td>\n",
       "      <td>0.013079</td>\n",
       "    </tr>\n",
       "    <tr>\n",
       "      <th>2020-10-09</th>\n",
       "      <td>861112</td>\n",
       "      <td>12788</td>\n",
       "      <td>10169</td>\n",
       "      <td>426</td>\n",
       "      <td>348</td>\n",
       "      <td>1</td>\n",
       "      <td>105</td>\n",
       "      <td>3.314286</td>\n",
       "      <td>0.010325</td>\n",
       "    </tr>\n",
       "    <tr>\n",
       "      <th>2020-10-08</th>\n",
       "      <td>848324</td>\n",
       "      <td>12423</td>\n",
       "      <td>9960</td>\n",
       "      <td>417</td>\n",
       "      <td>272</td>\n",
       "      <td>1</td>\n",
       "      <td>86</td>\n",
       "      <td>3.162791</td>\n",
       "      <td>0.008635</td>\n",
       "    </tr>\n",
       "    <tr>\n",
       "      <th>2020-10-07</th>\n",
       "      <td>835901</td>\n",
       "      <td>10491</td>\n",
       "      <td>9530</td>\n",
       "      <td>375</td>\n",
       "      <td>178</td>\n",
       "      <td>0</td>\n",
       "      <td>54</td>\n",
       "      <td>3.296296</td>\n",
       "      <td>0.005666</td>\n",
       "    </tr>\n",
       "    <tr>\n",
       "      <th>2020-10-06</th>\n",
       "      <td>825410</td>\n",
       "      <td>11998</td>\n",
       "      <td>11021</td>\n",
       "      <td>384</td>\n",
       "      <td>233</td>\n",
       "      <td>60</td>\n",
       "      <td>56</td>\n",
       "      <td>4.160714</td>\n",
       "      <td>0.005081</td>\n",
       "    </tr>\n",
       "    <tr>\n",
       "      <th>2020-10-05</th>\n",
       "      <td>813412</td>\n",
       "      <td>23480</td>\n",
       "      <td>9307</td>\n",
       "      <td>350</td>\n",
       "      <td>273</td>\n",
       "      <td>52</td>\n",
       "      <td>69</td>\n",
       "      <td>3.956522</td>\n",
       "      <td>0.007414</td>\n",
       "    </tr>\n",
       "    <tr>\n",
       "      <th>2020-10-04</th>\n",
       "      <td>789932</td>\n",
       "      <td>0</td>\n",
       "      <td>10493</td>\n",
       "      <td>353</td>\n",
       "      <td>331</td>\n",
       "      <td>76</td>\n",
       "      <td>78</td>\n",
       "      <td>4.243590</td>\n",
       "      <td>0.007434</td>\n",
       "    </tr>\n",
       "    <tr>\n",
       "      <th>2020-10-03</th>\n",
       "      <td>789932</td>\n",
       "      <td>0</td>\n",
       "      <td>10493</td>\n",
       "      <td>312</td>\n",
       "      <td>324</td>\n",
       "      <td>69</td>\n",
       "      <td>76</td>\n",
       "      <td>4.263158</td>\n",
       "      <td>0.007243</td>\n",
       "    </tr>\n",
       "    <tr>\n",
       "      <th>2020-10-02</th>\n",
       "      <td>789932</td>\n",
       "      <td>11325</td>\n",
       "      <td>10493</td>\n",
       "      <td>312</td>\n",
       "      <td>299</td>\n",
       "      <td>72</td>\n",
       "      <td>72</td>\n",
       "      <td>4.152778</td>\n",
       "      <td>0.006862</td>\n",
       "    </tr>\n",
       "    <tr>\n",
       "      <th>2020-10-01</th>\n",
       "      <td>778607</td>\n",
       "      <td>9419</td>\n",
       "      <td>10628</td>\n",
       "      <td>317</td>\n",
       "      <td>367</td>\n",
       "      <td>75</td>\n",
       "      <td>74</td>\n",
       "      <td>4.959459</td>\n",
       "      <td>0.006963</td>\n",
       "    </tr>\n",
       "    <tr>\n",
       "      <th>2020-09-30</th>\n",
       "      <td>769188</td>\n",
       "      <td>20922</td>\n",
       "      <td>10805</td>\n",
       "      <td>294</td>\n",
       "      <td>271</td>\n",
       "      <td>55</td>\n",
       "      <td>51</td>\n",
       "      <td>5.313725</td>\n",
       "      <td>0.004720</td>\n",
       "    </tr>\n",
       "    <tr>\n",
       "      <th>2020-09-29</th>\n",
       "      <td>748266</td>\n",
       "      <td>0</td>\n",
       "      <td>9428</td>\n",
       "      <td>265</td>\n",
       "      <td>178</td>\n",
       "      <td>32</td>\n",
       "      <td>44</td>\n",
       "      <td>4.045455</td>\n",
       "      <td>0.004667</td>\n",
       "    </tr>\n",
       "    <tr>\n",
       "      <th>2020-09-28</th>\n",
       "      <td>748266</td>\n",
       "      <td>31785</td>\n",
       "      <td>10971</td>\n",
       "      <td>269</td>\n",
       "      <td>211</td>\n",
       "      <td>44</td>\n",
       "      <td>54</td>\n",
       "      <td>3.907407</td>\n",
       "      <td>0.004922</td>\n",
       "    </tr>\n",
       "    <tr>\n",
       "      <th>2020-09-27</th>\n",
       "      <td>716481</td>\n",
       "      <td>0</td>\n",
       "      <td>10920</td>\n",
       "      <td>315</td>\n",
       "      <td>449</td>\n",
       "      <td>98</td>\n",
       "      <td>108</td>\n",
       "      <td>4.157407</td>\n",
       "      <td>0.009890</td>\n",
       "    </tr>\n",
       "    <tr>\n",
       "      <th>2020-09-26</th>\n",
       "      <td>716481</td>\n",
       "      <td>0</td>\n",
       "      <td>10920</td>\n",
       "      <td>339</td>\n",
       "      <td>448</td>\n",
       "      <td>79</td>\n",
       "      <td>110</td>\n",
       "      <td>4.072727</td>\n",
       "      <td>0.010073</td>\n",
       "    </tr>\n",
       "    <tr>\n",
       "      <th>2020-09-25</th>\n",
       "      <td>716481</td>\n",
       "      <td>12272</td>\n",
       "      <td>10920</td>\n",
       "      <td>284</td>\n",
       "      <td>306</td>\n",
       "      <td>14</td>\n",
       "      <td>86</td>\n",
       "      <td>3.558140</td>\n",
       "      <td>0.007875</td>\n",
       "    </tr>\n",
       "  </tbody>\n",
       "</table>\n",
       "</div>"
      ],
      "text/plain": [
       "             cumulative_cases  new_cases  covid_cases  \\\n",
       "sample_date                                             \n",
       "2020-10-22            1019186      13891        13891   \n",
       "2020-10-21            1005295      16973        13891   \n",
       "2020-10-20             988322      13873        13177   \n",
       "2020-10-19             974449      37889        12212   \n",
       "2020-10-18             936560          0        10778   \n",
       "2020-10-17             936560          0        10778   \n",
       "2020-10-16             936560      15186        10778   \n",
       "2020-10-15             921374      13318        10436   \n",
       "2020-10-14             908056      11970        10308   \n",
       "2020-10-13             896086       7118        10097   \n",
       "2020-10-12             888968      27856        10794   \n",
       "2020-10-11             861112          0        10169   \n",
       "2020-10-10             861112          0        10169   \n",
       "2020-10-09             861112      12788        10169   \n",
       "2020-10-08             848324      12423         9960   \n",
       "2020-10-07             835901      10491         9530   \n",
       "2020-10-06             825410      11998        11021   \n",
       "2020-10-05             813412      23480         9307   \n",
       "2020-10-04             789932          0        10493   \n",
       "2020-10-03             789932          0        10493   \n",
       "2020-10-02             789932      11325        10493   \n",
       "2020-10-01             778607       9419        10628   \n",
       "2020-09-30             769188      20922        10805   \n",
       "2020-09-29             748266          0         9428   \n",
       "2020-09-28             748266      31785        10971   \n",
       "2020-09-27             716481          0        10920   \n",
       "2020-09-26             716481          0        10920   \n",
       "2020-09-25             716481      12272        10920   \n",
       "\n",
       "             shared_teks_by_generation_date  shared_teks_by_upload_date  \\\n",
       "sample_date                                                               \n",
       "2020-10-22                              115                         504   \n",
       "2020-10-21                              253                         841   \n",
       "2020-10-20                              380                         772   \n",
       "2020-10-19                              483                         791   \n",
       "2020-10-18                              560                         726   \n",
       "2020-10-17                              663                         767   \n",
       "2020-10-16                              664                         769   \n",
       "2020-10-15                              698                         671   \n",
       "2020-10-14                              652                         463   \n",
       "2020-10-13                              578                         334   \n",
       "2020-10-12                              524                         326   \n",
       "2020-10-11                              476                         422   \n",
       "2020-10-10                              437                         429   \n",
       "2020-10-09                              426                         348   \n",
       "2020-10-08                              417                         272   \n",
       "2020-10-07                              375                         178   \n",
       "2020-10-06                              384                         233   \n",
       "2020-10-05                              350                         273   \n",
       "2020-10-04                              353                         331   \n",
       "2020-10-03                              312                         324   \n",
       "2020-10-02                              312                         299   \n",
       "2020-10-01                              317                         367   \n",
       "2020-09-30                              294                         271   \n",
       "2020-09-29                              265                         178   \n",
       "2020-09-28                              269                         211   \n",
       "2020-09-27                              315                         449   \n",
       "2020-09-26                              339                         448   \n",
       "2020-09-25                              284                         306   \n",
       "\n",
       "             shared_teks_uploaded_on_generation_date  shared_diagnoses  \\\n",
       "sample_date                                                              \n",
       "2020-10-22                                       115                96   \n",
       "2020-10-21                                       157               153   \n",
       "2020-10-20                                       149               135   \n",
       "2020-10-19                                       142               123   \n",
       "2020-10-18                                       146               132   \n",
       "2020-10-17                                       174               138   \n",
       "2020-10-16                                       149               141   \n",
       "2020-10-15                                       151               175   \n",
       "2020-10-14                                         1               133   \n",
       "2020-10-13                                         1               112   \n",
       "2020-10-12                                         2               136   \n",
       "2020-10-11                                         1               147   \n",
       "2020-10-10                                         0               133   \n",
       "2020-10-09                                         1               105   \n",
       "2020-10-08                                         1                86   \n",
       "2020-10-07                                         0                54   \n",
       "2020-10-06                                        60                56   \n",
       "2020-10-05                                        52                69   \n",
       "2020-10-04                                        76                78   \n",
       "2020-10-03                                        69                76   \n",
       "2020-10-02                                        72                72   \n",
       "2020-10-01                                        75                74   \n",
       "2020-09-30                                        55                51   \n",
       "2020-09-29                                        32                44   \n",
       "2020-09-28                                        44                54   \n",
       "2020-09-27                                        98               108   \n",
       "2020-09-26                                        79               110   \n",
       "2020-09-25                                        14                86   \n",
       "\n",
       "             teks_per_shared_diagnosis  shared_diagnoses_per_covid_case  \n",
       "sample_date                                                              \n",
       "2020-10-22                    5.250000                         0.006911  \n",
       "2020-10-21                    5.496732                         0.011014  \n",
       "2020-10-20                    5.718519                         0.010245  \n",
       "2020-10-19                    6.430894                         0.010072  \n",
       "2020-10-18                    5.500000                         0.012247  \n",
       "2020-10-17                    5.557971                         0.012804  \n",
       "2020-10-16                    5.453901                         0.013082  \n",
       "2020-10-15                    3.834286                         0.016769  \n",
       "2020-10-14                    3.481203                         0.012903  \n",
       "2020-10-13                    2.982143                         0.011092  \n",
       "2020-10-12                    2.397059                         0.012600  \n",
       "2020-10-11                    2.870748                         0.014456  \n",
       "2020-10-10                    3.225564                         0.013079  \n",
       "2020-10-09                    3.314286                         0.010325  \n",
       "2020-10-08                    3.162791                         0.008635  \n",
       "2020-10-07                    3.296296                         0.005666  \n",
       "2020-10-06                    4.160714                         0.005081  \n",
       "2020-10-05                    3.956522                         0.007414  \n",
       "2020-10-04                    4.243590                         0.007434  \n",
       "2020-10-03                    4.263158                         0.007243  \n",
       "2020-10-02                    4.152778                         0.006862  \n",
       "2020-10-01                    4.959459                         0.006963  \n",
       "2020-09-30                    5.313725                         0.004720  \n",
       "2020-09-29                    4.045455                         0.004667  \n",
       "2020-09-28                    3.907407                         0.004922  \n",
       "2020-09-27                    4.157407                         0.009890  \n",
       "2020-09-26                    4.072727                         0.010073  \n",
       "2020-09-25                    3.558140                         0.007875  "
      ]
     },
     "execution_count": 44,
     "metadata": {},
     "output_type": "execute_result"
    }
   ],
   "source": [
    "with pd.option_context(\"mode.use_inf_as_na\", True):\n",
    "    result_summary_df = result_summary_df.fillna(0).astype(int)\n",
    "    result_summary_df[\"teks_per_shared_diagnosis\"] = \\\n",
    "        (result_summary_df.shared_teks_by_upload_date / result_summary_df.shared_diagnoses).fillna(0)\n",
    "    result_summary_df[\"shared_diagnoses_per_covid_case\"] = \\\n",
    "        (result_summary_df.shared_diagnoses / result_summary_df.covid_cases).fillna(0)\n",
    "\n",
    "result_summary_df.head(daily_plot_days)"
   ]
  },
  {
   "cell_type": "code",
   "execution_count": 45,
   "metadata": {
    "collapsed": false,
    "execution": {
     "iopub.execute_input": "2020-10-22T17:26:17.434111Z",
     "iopub.status.busy": "2020-10-22T17:26:17.433274Z",
     "iopub.status.idle": "2020-10-22T17:26:17.438208Z",
     "shell.execute_reply": "2020-10-22T17:26:17.437718Z"
    },
    "papermill": {
     "duration": 0.097875,
     "end_time": "2020-10-22T17:26:17.438392",
     "exception": false,
     "start_time": "2020-10-22T17:26:17.340517",
     "status": "completed"
    },
    "pycharm": {
     "name": "#%%\n"
    },
    "tags": []
   },
   "outputs": [
    {
     "data": {
      "text/html": [
       "<div>\n",
       "<style scoped>\n",
       "    .dataframe tbody tr th:only-of-type {\n",
       "        vertical-align: middle;\n",
       "    }\n",
       "\n",
       "    .dataframe tbody tr th {\n",
       "        vertical-align: top;\n",
       "    }\n",
       "\n",
       "    .dataframe thead th {\n",
       "        text-align: right;\n",
       "    }\n",
       "</style>\n",
       "<table border=\"1\" class=\"dataframe\">\n",
       "  <thead>\n",
       "    <tr style=\"text-align: right;\">\n",
       "      <th></th>\n",
       "      <th>covid_cases</th>\n",
       "      <th>shared_teks_by_generation_date</th>\n",
       "      <th>shared_teks_by_upload_date</th>\n",
       "      <th>shared_diagnoses</th>\n",
       "      <th>teks_per_shared_diagnosis</th>\n",
       "      <th>shared_diagnoses_per_covid_case</th>\n",
       "    </tr>\n",
       "    <tr>\n",
       "      <th>sample_date</th>\n",
       "      <th></th>\n",
       "      <th></th>\n",
       "      <th></th>\n",
       "      <th></th>\n",
       "      <th></th>\n",
       "      <th></th>\n",
       "    </tr>\n",
       "  </thead>\n",
       "  <tbody>\n",
       "    <tr>\n",
       "      <th>2020-10-22</th>\n",
       "      <td>85505</td>\n",
       "      <td>3118</td>\n",
       "      <td>5170</td>\n",
       "      <td>918</td>\n",
       "      <td>5.631808</td>\n",
       "      <td>0.010736</td>\n",
       "    </tr>\n",
       "    <tr>\n",
       "      <th>2020-10-21</th>\n",
       "      <td>82050</td>\n",
       "      <td>3701</td>\n",
       "      <td>5337</td>\n",
       "      <td>997</td>\n",
       "      <td>5.353059</td>\n",
       "      <td>0.012151</td>\n",
       "    </tr>\n",
       "    <tr>\n",
       "      <th>2020-10-20</th>\n",
       "      <td>78467</td>\n",
       "      <td>4100</td>\n",
       "      <td>4959</td>\n",
       "      <td>977</td>\n",
       "      <td>5.075742</td>\n",
       "      <td>0.012451</td>\n",
       "    </tr>\n",
       "    <tr>\n",
       "      <th>2020-10-19</th>\n",
       "      <td>75387</td>\n",
       "      <td>4298</td>\n",
       "      <td>4521</td>\n",
       "      <td>954</td>\n",
       "      <td>4.738994</td>\n",
       "      <td>0.012655</td>\n",
       "    </tr>\n",
       "    <tr>\n",
       "      <th>2020-10-18</th>\n",
       "      <td>73969</td>\n",
       "      <td>4339</td>\n",
       "      <td>4056</td>\n",
       "      <td>967</td>\n",
       "      <td>4.194416</td>\n",
       "      <td>0.013073</td>\n",
       "    </tr>\n",
       "  </tbody>\n",
       "</table>\n",
       "</div>"
      ],
      "text/plain": [
       "             covid_cases  shared_teks_by_generation_date  \\\n",
       "sample_date                                                \n",
       "2020-10-22         85505                            3118   \n",
       "2020-10-21         82050                            3701   \n",
       "2020-10-20         78467                            4100   \n",
       "2020-10-19         75387                            4298   \n",
       "2020-10-18         73969                            4339   \n",
       "\n",
       "             shared_teks_by_upload_date  shared_diagnoses  \\\n",
       "sample_date                                                 \n",
       "2020-10-22                         5170               918   \n",
       "2020-10-21                         5337               997   \n",
       "2020-10-20                         4959               977   \n",
       "2020-10-19                         4521               954   \n",
       "2020-10-18                         4056               967   \n",
       "\n",
       "             teks_per_shared_diagnosis  shared_diagnoses_per_covid_case  \n",
       "sample_date                                                              \n",
       "2020-10-22                    5.631808                         0.010736  \n",
       "2020-10-21                    5.353059                         0.012151  \n",
       "2020-10-20                    5.075742                         0.012451  \n",
       "2020-10-19                    4.738994                         0.012655  \n",
       "2020-10-18                    4.194416                         0.013073  "
      ]
     },
     "execution_count": 45,
     "metadata": {},
     "output_type": "execute_result"
    }
   ],
   "source": [
    "weekly_result_summary_df = result_summary_df \\\n",
    "    .sort_index(ascending=True).fillna(0).rolling(7).agg({\n",
    "    \"covid_cases\": \"sum\",\n",
    "    \"shared_teks_by_generation_date\": \"sum\",\n",
    "    \"shared_teks_by_upload_date\": \"sum\",\n",
    "    \"shared_diagnoses\": \"sum\"\n",
    "}).sort_index(ascending=False)\n",
    "\n",
    "with pd.option_context(\"mode.use_inf_as_na\", True):\n",
    "    weekly_result_summary_df = weekly_result_summary_df.fillna(0).astype(int)\n",
    "    weekly_result_summary_df[\"teks_per_shared_diagnosis\"] = \\\n",
    "        (weekly_result_summary_df.shared_teks_by_upload_date / weekly_result_summary_df.shared_diagnoses).fillna(0)\n",
    "    weekly_result_summary_df[\"shared_diagnoses_per_covid_case\"] = \\\n",
    "        (weekly_result_summary_df.shared_diagnoses / weekly_result_summary_df.covid_cases).fillna(0)\n",
    "\n",
    "weekly_result_summary_df.head()"
   ]
  },
  {
   "cell_type": "code",
   "execution_count": 46,
   "metadata": {
    "execution": {
     "iopub.execute_input": "2020-10-22T17:26:17.573623Z",
     "iopub.status.busy": "2020-10-22T17:26:17.573055Z",
     "iopub.status.idle": "2020-10-22T17:26:17.576425Z",
     "shell.execute_reply": "2020-10-22T17:26:17.575959Z"
    },
    "papermill": {
     "duration": 0.071409,
     "end_time": "2020-10-22T17:26:17.576561",
     "exception": false,
     "start_time": "2020-10-22T17:26:17.505152",
     "status": "completed"
    },
    "pycharm": {
     "name": "#%%\n"
    },
    "tags": []
   },
   "outputs": [
    {
     "data": {
      "text/plain": [
       "{'covid_cases': 85505,\n",
       " 'shared_teks_by_generation_date': 3118,\n",
       " 'shared_teks_by_upload_date': 5170,\n",
       " 'shared_diagnoses': 918,\n",
       " 'teks_per_shared_diagnosis': 5.631808278867102,\n",
       " 'shared_diagnoses_per_covid_case': 0.01073621425647623}"
      ]
     },
     "execution_count": 46,
     "metadata": {},
     "output_type": "execute_result"
    }
   ],
   "source": [
    "last_7_days_summary = weekly_result_summary_df.to_dict(orient=\"records\")[0]\n",
    "last_7_days_summary"
   ]
  },
  {
   "cell_type": "markdown",
   "metadata": {
    "collapsed": false,
    "papermill": {
     "duration": 0.062098,
     "end_time": "2020-10-22T17:26:17.700936",
     "exception": false,
     "start_time": "2020-10-22T17:26:17.638838",
     "status": "completed"
    },
    "pycharm": {
     "name": "#%% md\n"
    },
    "tags": []
   },
   "source": [
    "## Report Results"
   ]
  },
  {
   "cell_type": "code",
   "execution_count": 47,
   "metadata": {
    "collapsed": false,
    "execution": {
     "iopub.execute_input": "2020-10-22T17:26:17.830361Z",
     "iopub.status.busy": "2020-10-22T17:26:17.829786Z",
     "iopub.status.idle": "2020-10-22T17:26:17.831973Z",
     "shell.execute_reply": "2020-10-22T17:26:17.831494Z"
    },
    "papermill": {
     "duration": 0.068786,
     "end_time": "2020-10-22T17:26:17.832096",
     "exception": false,
     "start_time": "2020-10-22T17:26:17.763310",
     "status": "completed"
    },
    "pycharm": {
     "name": "#%%\n"
    },
    "tags": []
   },
   "outputs": [],
   "source": [
    "display_column_name_mapping = {\n",
    "    \"sample_date\": \"Sample\\u00A0Date\\u00A0(UTC)\",\n",
    "    \"datetime_utc\": \"Timestamp (UTC)\",\n",
    "    \"upload_date\": \"Upload Date (UTC)\",\n",
    "    \"generation_to_upload_days\": \"Generation to Upload Period in Days\",\n",
    "    \"region\": \"Backend Region\",\n",
    "    \"covid_cases\": \"COVID-19 Cases (7-day Rolling Average)\",\n",
    "    \"shared_teks_by_generation_date\": \"Shared TEKs by Generation Date\",\n",
    "    \"shared_teks_by_upload_date\": \"Shared TEKs by Upload Date\",\n",
    "    \"shared_diagnoses\": \"Shared Diagnoses (Estimation)\",\n",
    "    \"teks_per_shared_diagnosis\": \"TEKs Uploaded per Shared Diagnosis\",\n",
    "    \"shared_diagnoses_per_covid_case\": \"Usage Ratio (Fraction of Cases Which Shared Diagnosis)\",\n",
    "    \"shared_teks_uploaded_on_generation_date\": \"Shared TEKs Uploaded on Generation Date\",\n",
    "}"
   ]
  },
  {
   "cell_type": "code",
   "execution_count": 48,
   "metadata": {
    "execution": {
     "iopub.execute_input": "2020-10-22T17:26:17.961736Z",
     "iopub.status.busy": "2020-10-22T17:26:17.961147Z",
     "iopub.status.idle": "2020-10-22T17:26:17.963075Z",
     "shell.execute_reply": "2020-10-22T17:26:17.963539Z"
    },
    "papermill": {
     "duration": 0.06916,
     "end_time": "2020-10-22T17:26:17.963714",
     "exception": false,
     "start_time": "2020-10-22T17:26:17.894554",
     "status": "completed"
    },
    "pycharm": {
     "name": "#%%\n"
    },
    "tags": []
   },
   "outputs": [],
   "source": [
    "summary_columns = [\n",
    "    \"covid_cases\",\n",
    "    \"shared_teks_by_generation_date\",\n",
    "    \"shared_teks_by_upload_date\",\n",
    "    \"shared_teks_uploaded_on_generation_date\",\n",
    "    \"shared_diagnoses\",\n",
    "    \"teks_per_shared_diagnosis\",\n",
    "    \"shared_diagnoses_per_covid_case\",\n",
    "]"
   ]
  },
  {
   "cell_type": "markdown",
   "metadata": {
    "execution": {
     "iopub.execute_input": "2020-09-02T08:20:14.568088Z",
     "iopub.status.busy": "2020-09-02T08:20:14.567425Z",
     "iopub.status.idle": "2020-09-02T08:20:14.571422Z",
     "shell.execute_reply": "2020-09-02T08:20:14.571952Z"
    },
    "papermill": {
     "duration": 0.061891,
     "end_time": "2020-10-22T17:26:18.088266",
     "exception": false,
     "start_time": "2020-10-22T17:26:18.026375",
     "status": "completed"
    },
    "pycharm": {
     "name": "#%% md\n"
    },
    "tags": []
   },
   "source": [
    "### Daily Summary Table"
   ]
  },
  {
   "cell_type": "code",
   "execution_count": 49,
   "metadata": {
    "execution": {
     "iopub.execute_input": "2020-10-22T17:26:18.218133Z",
     "iopub.status.busy": "2020-10-22T17:26:18.217580Z",
     "iopub.status.idle": "2020-10-22T17:26:18.242968Z",
     "shell.execute_reply": "2020-10-22T17:26:18.242348Z"
    },
    "papermill": {
     "duration": 0.09269,
     "end_time": "2020-10-22T17:26:18.243168",
     "exception": false,
     "start_time": "2020-10-22T17:26:18.150478",
     "status": "completed"
    },
    "pycharm": {
     "name": "#%%\n"
    },
    "tags": []
   },
   "outputs": [
    {
     "data": {
      "text/html": [
       "<div>\n",
       "<style scoped>\n",
       "    .dataframe tbody tr th:only-of-type {\n",
       "        vertical-align: middle;\n",
       "    }\n",
       "\n",
       "    .dataframe tbody tr th {\n",
       "        vertical-align: top;\n",
       "    }\n",
       "\n",
       "    .dataframe thead th {\n",
       "        text-align: right;\n",
       "    }\n",
       "</style>\n",
       "<table border=\"1\" class=\"dataframe\">\n",
       "  <thead>\n",
       "    <tr style=\"text-align: right;\">\n",
       "      <th></th>\n",
       "      <th>COVID-19 Cases (7-day Rolling Average)</th>\n",
       "      <th>Shared TEKs by Generation Date</th>\n",
       "      <th>Shared TEKs by Upload Date</th>\n",
       "      <th>Shared TEKs Uploaded on Generation Date</th>\n",
       "      <th>Shared Diagnoses (Estimation)</th>\n",
       "      <th>TEKs Uploaded per Shared Diagnosis</th>\n",
       "      <th>Usage Ratio (Fraction of Cases Which Shared Diagnosis)</th>\n",
       "    </tr>\n",
       "    <tr>\n",
       "      <th>Sample Date (UTC)</th>\n",
       "      <th></th>\n",
       "      <th></th>\n",
       "      <th></th>\n",
       "      <th></th>\n",
       "      <th></th>\n",
       "      <th></th>\n",
       "      <th></th>\n",
       "    </tr>\n",
       "  </thead>\n",
       "  <tbody>\n",
       "    <tr>\n",
       "      <th>2020-10-22</th>\n",
       "      <td>13891</td>\n",
       "      <td>115</td>\n",
       "      <td>504</td>\n",
       "      <td>115</td>\n",
       "      <td>96</td>\n",
       "      <td>5.250000</td>\n",
       "      <td>0.006911</td>\n",
       "    </tr>\n",
       "    <tr>\n",
       "      <th>2020-10-21</th>\n",
       "      <td>13891</td>\n",
       "      <td>253</td>\n",
       "      <td>841</td>\n",
       "      <td>157</td>\n",
       "      <td>153</td>\n",
       "      <td>5.496732</td>\n",
       "      <td>0.011014</td>\n",
       "    </tr>\n",
       "    <tr>\n",
       "      <th>2020-10-20</th>\n",
       "      <td>13177</td>\n",
       "      <td>380</td>\n",
       "      <td>772</td>\n",
       "      <td>149</td>\n",
       "      <td>135</td>\n",
       "      <td>5.718519</td>\n",
       "      <td>0.010245</td>\n",
       "    </tr>\n",
       "    <tr>\n",
       "      <th>2020-10-19</th>\n",
       "      <td>12212</td>\n",
       "      <td>483</td>\n",
       "      <td>791</td>\n",
       "      <td>142</td>\n",
       "      <td>123</td>\n",
       "      <td>6.430894</td>\n",
       "      <td>0.010072</td>\n",
       "    </tr>\n",
       "    <tr>\n",
       "      <th>2020-10-18</th>\n",
       "      <td>10778</td>\n",
       "      <td>560</td>\n",
       "      <td>726</td>\n",
       "      <td>146</td>\n",
       "      <td>132</td>\n",
       "      <td>5.500000</td>\n",
       "      <td>0.012247</td>\n",
       "    </tr>\n",
       "    <tr>\n",
       "      <th>...</th>\n",
       "      <td>...</td>\n",
       "      <td>...</td>\n",
       "      <td>...</td>\n",
       "      <td>...</td>\n",
       "      <td>...</td>\n",
       "      <td>...</td>\n",
       "      <td>...</td>\n",
       "    </tr>\n",
       "    <tr>\n",
       "      <th>2020-08-04</th>\n",
       "      <td>3172</td>\n",
       "      <td>0</td>\n",
       "      <td>0</td>\n",
       "      <td>0</td>\n",
       "      <td>0</td>\n",
       "      <td>0.000000</td>\n",
       "      <td>0.000000</td>\n",
       "    </tr>\n",
       "    <tr>\n",
       "      <th>2020-08-03</th>\n",
       "      <td>3519</td>\n",
       "      <td>0</td>\n",
       "      <td>0</td>\n",
       "      <td>0</td>\n",
       "      <td>0</td>\n",
       "      <td>0.000000</td>\n",
       "      <td>0.000000</td>\n",
       "    </tr>\n",
       "    <tr>\n",
       "      <th>2020-08-02</th>\n",
       "      <td>2300</td>\n",
       "      <td>0</td>\n",
       "      <td>0</td>\n",
       "      <td>0</td>\n",
       "      <td>0</td>\n",
       "      <td>0.000000</td>\n",
       "      <td>0.000000</td>\n",
       "    </tr>\n",
       "    <tr>\n",
       "      <th>2020-08-01</th>\n",
       "      <td>2300</td>\n",
       "      <td>0</td>\n",
       "      <td>0</td>\n",
       "      <td>0</td>\n",
       "      <td>0</td>\n",
       "      <td>0.000000</td>\n",
       "      <td>0.000000</td>\n",
       "    </tr>\n",
       "    <tr>\n",
       "      <th>2020-07-31</th>\n",
       "      <td>2300</td>\n",
       "      <td>0</td>\n",
       "      <td>0</td>\n",
       "      <td>0</td>\n",
       "      <td>0</td>\n",
       "      <td>0.000000</td>\n",
       "      <td>0.000000</td>\n",
       "    </tr>\n",
       "  </tbody>\n",
       "</table>\n",
       "<p>84 rows × 7 columns</p>\n",
       "</div>"
      ],
      "text/plain": [
       "                   COVID-19 Cases (7-day Rolling Average)  \\\n",
       "Sample Date (UTC)                                           \n",
       "2020-10-22                                          13891   \n",
       "2020-10-21                                          13891   \n",
       "2020-10-20                                          13177   \n",
       "2020-10-19                                          12212   \n",
       "2020-10-18                                          10778   \n",
       "...                                                   ...   \n",
       "2020-08-04                                           3172   \n",
       "2020-08-03                                           3519   \n",
       "2020-08-02                                           2300   \n",
       "2020-08-01                                           2300   \n",
       "2020-07-31                                           2300   \n",
       "\n",
       "                   Shared TEKs by Generation Date  Shared TEKs by Upload Date  \\\n",
       "Sample Date (UTC)                                                               \n",
       "2020-10-22                                    115                         504   \n",
       "2020-10-21                                    253                         841   \n",
       "2020-10-20                                    380                         772   \n",
       "2020-10-19                                    483                         791   \n",
       "2020-10-18                                    560                         726   \n",
       "...                                           ...                         ...   \n",
       "2020-08-04                                      0                           0   \n",
       "2020-08-03                                      0                           0   \n",
       "2020-08-02                                      0                           0   \n",
       "2020-08-01                                      0                           0   \n",
       "2020-07-31                                      0                           0   \n",
       "\n",
       "                   Shared TEKs Uploaded on Generation Date  \\\n",
       "Sample Date (UTC)                                            \n",
       "2020-10-22                                             115   \n",
       "2020-10-21                                             157   \n",
       "2020-10-20                                             149   \n",
       "2020-10-19                                             142   \n",
       "2020-10-18                                             146   \n",
       "...                                                    ...   \n",
       "2020-08-04                                               0   \n",
       "2020-08-03                                               0   \n",
       "2020-08-02                                               0   \n",
       "2020-08-01                                               0   \n",
       "2020-07-31                                               0   \n",
       "\n",
       "                   Shared Diagnoses (Estimation)  \\\n",
       "Sample Date (UTC)                                  \n",
       "2020-10-22                                    96   \n",
       "2020-10-21                                   153   \n",
       "2020-10-20                                   135   \n",
       "2020-10-19                                   123   \n",
       "2020-10-18                                   132   \n",
       "...                                          ...   \n",
       "2020-08-04                                     0   \n",
       "2020-08-03                                     0   \n",
       "2020-08-02                                     0   \n",
       "2020-08-01                                     0   \n",
       "2020-07-31                                     0   \n",
       "\n",
       "                   TEKs Uploaded per Shared Diagnosis  \\\n",
       "Sample Date (UTC)                                       \n",
       "2020-10-22                                   5.250000   \n",
       "2020-10-21                                   5.496732   \n",
       "2020-10-20                                   5.718519   \n",
       "2020-10-19                                   6.430894   \n",
       "2020-10-18                                   5.500000   \n",
       "...                                               ...   \n",
       "2020-08-04                                   0.000000   \n",
       "2020-08-03                                   0.000000   \n",
       "2020-08-02                                   0.000000   \n",
       "2020-08-01                                   0.000000   \n",
       "2020-07-31                                   0.000000   \n",
       "\n",
       "                   Usage Ratio (Fraction of Cases Which Shared Diagnosis)  \n",
       "Sample Date (UTC)                                                          \n",
       "2020-10-22                                                  0.006911       \n",
       "2020-10-21                                                  0.011014       \n",
       "2020-10-20                                                  0.010245       \n",
       "2020-10-19                                                  0.010072       \n",
       "2020-10-18                                                  0.012247       \n",
       "...                                                              ...       \n",
       "2020-08-04                                                  0.000000       \n",
       "2020-08-03                                                  0.000000       \n",
       "2020-08-02                                                  0.000000       \n",
       "2020-08-01                                                  0.000000       \n",
       "2020-07-31                                                  0.000000       \n",
       "\n",
       "[84 rows x 7 columns]"
      ]
     },
     "execution_count": 49,
     "metadata": {},
     "output_type": "execute_result"
    }
   ],
   "source": [
    "result_summary_df_ = result_summary_df.copy()\n",
    "result_summary_df = result_summary_df[summary_columns]\n",
    "result_summary_with_display_names_df = result_summary_df \\\n",
    "    .rename_axis(index=display_column_name_mapping) \\\n",
    "    .rename(columns=display_column_name_mapping)\n",
    "result_summary_with_display_names_df"
   ]
  },
  {
   "cell_type": "markdown",
   "metadata": {
    "execution": {
     "iopub.execute_input": "2020-09-02T08:20:14.726751Z",
     "iopub.status.busy": "2020-09-02T08:20:14.726143Z",
     "iopub.status.idle": "2020-09-02T08:20:16.115081Z",
     "shell.execute_reply": "2020-09-02T08:20:16.115565Z"
    },
    "papermill": {
     "duration": 0.063378,
     "end_time": "2020-10-22T17:26:18.370746",
     "exception": false,
     "start_time": "2020-10-22T17:26:18.307368",
     "status": "completed"
    },
    "pycharm": {
     "name": "#%% md\n"
    },
    "scrolled": false,
    "tags": []
   },
   "source": [
    "### Daily Summary Plots"
   ]
  },
  {
   "cell_type": "code",
   "execution_count": 50,
   "metadata": {
    "execution": {
     "iopub.execute_input": "2020-10-22T17:26:18.511252Z",
     "iopub.status.busy": "2020-10-22T17:26:18.510637Z",
     "iopub.status.idle": "2020-10-22T17:26:20.273430Z",
     "shell.execute_reply": "2020-10-22T17:26:20.273878Z"
    },
    "papermill": {
     "duration": 1.839084,
     "end_time": "2020-10-22T17:26:20.274044",
     "exception": false,
     "start_time": "2020-10-22T17:26:18.434960",
     "status": "completed"
    },
    "pycharm": {
     "name": "#%%\n"
    },
    "tags": []
   },
   "outputs": [
    {
     "data": {
      "image/png": "[encoded data removed]",
      "text/plain": [
       "<Figure size 1080x1584 with 7 Axes>"
      ]
     },
     "metadata": {},
     "output_type": "display_data"
    }
   ],
   "source": [
    "result_plot_summary_df = result_summary_df.head(daily_plot_days)[summary_columns] \\\n",
    "    .rename_axis(index=display_column_name_mapping) \\\n",
    "    .rename(columns=display_column_name_mapping)\n",
    "summary_ax_list = result_plot_summary_df.sort_index(ascending=True).plot.bar(\n",
    "    title=f\"Daily Summary\",\n",
    "    rot=45, subplots=True, figsize=(15, 22), legend=False)\n",
    "ax_ = summary_ax_list[-1]\n",
    "ax_.get_figure().tight_layout()\n",
    "ax_.get_figure().subplots_adjust(top=0.95)\n",
    "ax_.yaxis.set_major_formatter(matplotlib.ticker.PercentFormatter(1.0))\n",
    "_ = ax_.set_xticklabels(sorted(result_plot_summary_df.index.strftime(\"%Y-%m-%d\").tolist()))"
   ]
  },
  {
   "cell_type": "markdown",
   "metadata": {
    "collapsed": false,
    "papermill": {
     "duration": 0.065886,
     "end_time": "2020-10-22T17:26:20.406229",
     "exception": false,
     "start_time": "2020-10-22T17:26:20.340343",
     "status": "completed"
    },
    "tags": []
   },
   "source": [
    "### Daily Generation to Upload Period Table"
   ]
  },
  {
   "cell_type": "code",
   "execution_count": 51,
   "metadata": {
    "collapsed": false,
    "execution": {
     "iopub.execute_input": "2020-10-22T17:26:20.548939Z",
     "iopub.status.busy": "2020-10-22T17:26:20.548336Z",
     "iopub.status.idle": "2020-10-22T17:26:20.566609Z",
     "shell.execute_reply": "2020-10-22T17:26:20.566085Z"
    },
    "papermill": {
     "duration": 0.093813,
     "end_time": "2020-10-22T17:26:20.566744",
     "exception": false,
     "start_time": "2020-10-22T17:26:20.472931",
     "status": "completed"
    },
    "pycharm": {
     "name": "#%%\n"
    },
    "tags": []
   },
   "outputs": [
    {
     "data": {
      "text/html": [
       "<div>\n",
       "<style scoped>\n",
       "    .dataframe tbody tr th:only-of-type {\n",
       "        vertical-align: middle;\n",
       "    }\n",
       "\n",
       "    .dataframe tbody tr th {\n",
       "        vertical-align: top;\n",
       "    }\n",
       "\n",
       "    .dataframe thead th {\n",
       "        text-align: right;\n",
       "    }\n",
       "</style>\n",
       "<table border=\"1\" class=\"dataframe\">\n",
       "  <thead>\n",
       "    <tr style=\"text-align: right;\">\n",
       "      <th>Generation to Upload Period in Days</th>\n",
       "      <th>0</th>\n",
       "      <th>1</th>\n",
       "      <th>2</th>\n",
       "      <th>3</th>\n",
       "      <th>4</th>\n",
       "      <th>5</th>\n",
       "      <th>6</th>\n",
       "      <th>7</th>\n",
       "      <th>8</th>\n",
       "      <th>9</th>\n",
       "      <th>10</th>\n",
       "      <th>11</th>\n",
       "      <th>12</th>\n",
       "      <th>13</th>\n",
       "    </tr>\n",
       "    <tr>\n",
       "      <th>Upload Date (UTC)</th>\n",
       "      <th></th>\n",
       "      <th></th>\n",
       "      <th></th>\n",
       "      <th></th>\n",
       "      <th></th>\n",
       "      <th></th>\n",
       "      <th></th>\n",
       "      <th></th>\n",
       "      <th></th>\n",
       "      <th></th>\n",
       "      <th></th>\n",
       "      <th></th>\n",
       "      <th></th>\n",
       "      <th></th>\n",
       "    </tr>\n",
       "  </thead>\n",
       "  <tbody>\n",
       "    <tr>\n",
       "      <th>2020-10-22</th>\n",
       "      <td>115</td>\n",
       "      <td>96</td>\n",
       "      <td>78</td>\n",
       "      <td>70</td>\n",
       "      <td>52</td>\n",
       "      <td>36</td>\n",
       "      <td>17</td>\n",
       "      <td>13</td>\n",
       "      <td>9</td>\n",
       "      <td>5</td>\n",
       "      <td>4</td>\n",
       "      <td>4</td>\n",
       "      <td>3</td>\n",
       "      <td>2</td>\n",
       "    </tr>\n",
       "    <tr>\n",
       "      <th>2020-10-21</th>\n",
       "      <td>157</td>\n",
       "      <td>153</td>\n",
       "      <td>136</td>\n",
       "      <td>120</td>\n",
       "      <td>97</td>\n",
       "      <td>62</td>\n",
       "      <td>34</td>\n",
       "      <td>28</td>\n",
       "      <td>20</td>\n",
       "      <td>15</td>\n",
       "      <td>9</td>\n",
       "      <td>4</td>\n",
       "      <td>3</td>\n",
       "      <td>3</td>\n",
       "    </tr>\n",
       "    <tr>\n",
       "      <th>2020-10-20</th>\n",
       "      <td>149</td>\n",
       "      <td>135</td>\n",
       "      <td>119</td>\n",
       "      <td>106</td>\n",
       "      <td>79</td>\n",
       "      <td>59</td>\n",
       "      <td>47</td>\n",
       "      <td>25</td>\n",
       "      <td>21</td>\n",
       "      <td>13</td>\n",
       "      <td>8</td>\n",
       "      <td>6</td>\n",
       "      <td>3</td>\n",
       "      <td>2</td>\n",
       "    </tr>\n",
       "    <tr>\n",
       "      <th>2020-10-19</th>\n",
       "      <td>142</td>\n",
       "      <td>123</td>\n",
       "      <td>118</td>\n",
       "      <td>105</td>\n",
       "      <td>86</td>\n",
       "      <td>72</td>\n",
       "      <td>45</td>\n",
       "      <td>33</td>\n",
       "      <td>22</td>\n",
       "      <td>17</td>\n",
       "      <td>12</td>\n",
       "      <td>9</td>\n",
       "      <td>4</td>\n",
       "      <td>3</td>\n",
       "    </tr>\n",
       "    <tr>\n",
       "      <th>2020-10-18</th>\n",
       "      <td>146</td>\n",
       "      <td>132</td>\n",
       "      <td>114</td>\n",
       "      <td>96</td>\n",
       "      <td>87</td>\n",
       "      <td>54</td>\n",
       "      <td>33</td>\n",
       "      <td>18</td>\n",
       "      <td>12</td>\n",
       "      <td>10</td>\n",
       "      <td>9</td>\n",
       "      <td>7</td>\n",
       "      <td>5</td>\n",
       "      <td>3</td>\n",
       "    </tr>\n",
       "    <tr>\n",
       "      <th>2020-10-17</th>\n",
       "      <td>174</td>\n",
       "      <td>138</td>\n",
       "      <td>118</td>\n",
       "      <td>108</td>\n",
       "      <td>84</td>\n",
       "      <td>54</td>\n",
       "      <td>32</td>\n",
       "      <td>19</td>\n",
       "      <td>15</td>\n",
       "      <td>11</td>\n",
       "      <td>7</td>\n",
       "      <td>4</td>\n",
       "      <td>2</td>\n",
       "      <td>1</td>\n",
       "    </tr>\n",
       "    <tr>\n",
       "      <th>2020-10-16</th>\n",
       "      <td>149</td>\n",
       "      <td>141</td>\n",
       "      <td>125</td>\n",
       "      <td>107</td>\n",
       "      <td>84</td>\n",
       "      <td>53</td>\n",
       "      <td>32</td>\n",
       "      <td>24</td>\n",
       "      <td>20</td>\n",
       "      <td>15</td>\n",
       "      <td>7</td>\n",
       "      <td>5</td>\n",
       "      <td>3</td>\n",
       "      <td>4</td>\n",
       "    </tr>\n",
       "    <tr>\n",
       "      <th>2020-10-15</th>\n",
       "      <td>151</td>\n",
       "      <td>175</td>\n",
       "      <td>104</td>\n",
       "      <td>86</td>\n",
       "      <td>58</td>\n",
       "      <td>38</td>\n",
       "      <td>23</td>\n",
       "      <td>14</td>\n",
       "      <td>8</td>\n",
       "      <td>6</td>\n",
       "      <td>4</td>\n",
       "      <td>2</td>\n",
       "      <td>1</td>\n",
       "      <td>1</td>\n",
       "    </tr>\n",
       "    <tr>\n",
       "      <th>2020-10-14</th>\n",
       "      <td>1</td>\n",
       "      <td>133</td>\n",
       "      <td>80</td>\n",
       "      <td>69</td>\n",
       "      <td>54</td>\n",
       "      <td>38</td>\n",
       "      <td>30</td>\n",
       "      <td>24</td>\n",
       "      <td>14</td>\n",
       "      <td>9</td>\n",
       "      <td>6</td>\n",
       "      <td>3</td>\n",
       "      <td>1</td>\n",
       "      <td>1</td>\n",
       "    </tr>\n",
       "    <tr>\n",
       "      <th>2020-10-13</th>\n",
       "      <td>1</td>\n",
       "      <td>112</td>\n",
       "      <td>61</td>\n",
       "      <td>50</td>\n",
       "      <td>37</td>\n",
       "      <td>32</td>\n",
       "      <td>19</td>\n",
       "      <td>10</td>\n",
       "      <td>4</td>\n",
       "      <td>4</td>\n",
       "      <td>2</td>\n",
       "      <td>1</td>\n",
       "      <td>1</td>\n",
       "      <td>0</td>\n",
       "    </tr>\n",
       "    <tr>\n",
       "      <th>2020-10-12</th>\n",
       "      <td>2</td>\n",
       "      <td>136</td>\n",
       "      <td>53</td>\n",
       "      <td>47</td>\n",
       "      <td>33</td>\n",
       "      <td>19</td>\n",
       "      <td>14</td>\n",
       "      <td>12</td>\n",
       "      <td>5</td>\n",
       "      <td>2</td>\n",
       "      <td>2</td>\n",
       "      <td>1</td>\n",
       "      <td>0</td>\n",
       "      <td>0</td>\n",
       "    </tr>\n",
       "    <tr>\n",
       "      <th>2020-10-11</th>\n",
       "      <td>1</td>\n",
       "      <td>147</td>\n",
       "      <td>75</td>\n",
       "      <td>62</td>\n",
       "      <td>51</td>\n",
       "      <td>38</td>\n",
       "      <td>18</td>\n",
       "      <td>9</td>\n",
       "      <td>6</td>\n",
       "      <td>5</td>\n",
       "      <td>3</td>\n",
       "      <td>3</td>\n",
       "      <td>2</td>\n",
       "      <td>2</td>\n",
       "    </tr>\n",
       "    <tr>\n",
       "      <th>2020-10-10</th>\n",
       "      <td>0</td>\n",
       "      <td>133</td>\n",
       "      <td>85</td>\n",
       "      <td>68</td>\n",
       "      <td>61</td>\n",
       "      <td>50</td>\n",
       "      <td>15</td>\n",
       "      <td>9</td>\n",
       "      <td>6</td>\n",
       "      <td>2</td>\n",
       "      <td>0</td>\n",
       "      <td>0</td>\n",
       "      <td>0</td>\n",
       "      <td>0</td>\n",
       "    </tr>\n",
       "    <tr>\n",
       "      <th>2020-10-09</th>\n",
       "      <td>1</td>\n",
       "      <td>105</td>\n",
       "      <td>65</td>\n",
       "      <td>61</td>\n",
       "      <td>57</td>\n",
       "      <td>57</td>\n",
       "      <td>2</td>\n",
       "      <td>0</td>\n",
       "      <td>0</td>\n",
       "      <td>0</td>\n",
       "      <td>0</td>\n",
       "      <td>0</td>\n",
       "      <td>0</td>\n",
       "      <td>0</td>\n",
       "    </tr>\n",
       "  </tbody>\n",
       "</table>\n",
       "</div>"
      ],
      "text/plain": [
       "Generation to Upload Period in Days   0    1    2    3   4   5   6   7   8   \\\n",
       "Upload Date (UTC)                                                             \n",
       "2020-10-22                           115   96   78   70  52  36  17  13   9   \n",
       "2020-10-21                           157  153  136  120  97  62  34  28  20   \n",
       "2020-10-20                           149  135  119  106  79  59  47  25  21   \n",
       "2020-10-19                           142  123  118  105  86  72  45  33  22   \n",
       "2020-10-18                           146  132  114   96  87  54  33  18  12   \n",
       "2020-10-17                           174  138  118  108  84  54  32  19  15   \n",
       "2020-10-16                           149  141  125  107  84  53  32  24  20   \n",
       "2020-10-15                           151  175  104   86  58  38  23  14   8   \n",
       "2020-10-14                             1  133   80   69  54  38  30  24  14   \n",
       "2020-10-13                             1  112   61   50  37  32  19  10   4   \n",
       "2020-10-12                             2  136   53   47  33  19  14  12   5   \n",
       "2020-10-11                             1  147   75   62  51  38  18   9   6   \n",
       "2020-10-10                             0  133   85   68  61  50  15   9   6   \n",
       "2020-10-09                             1  105   65   61  57  57   2   0   0   \n",
       "\n",
       "Generation to Upload Period in Days  9   10  11  12  13  \n",
       "Upload Date (UTC)                                        \n",
       "2020-10-22                            5   4   4   3   2  \n",
       "2020-10-21                           15   9   4   3   3  \n",
       "2020-10-20                           13   8   6   3   2  \n",
       "2020-10-19                           17  12   9   4   3  \n",
       "2020-10-18                           10   9   7   5   3  \n",
       "2020-10-17                           11   7   4   2   1  \n",
       "2020-10-16                           15   7   5   3   4  \n",
       "2020-10-15                            6   4   2   1   1  \n",
       "2020-10-14                            9   6   3   1   1  \n",
       "2020-10-13                            4   2   1   1   0  \n",
       "2020-10-12                            2   2   1   0   0  \n",
       "2020-10-11                            5   3   3   2   2  \n",
       "2020-10-10                            2   0   0   0   0  \n",
       "2020-10-09                            0   0   0   0   0  "
      ]
     },
     "execution_count": 51,
     "metadata": {},
     "output_type": "execute_result"
    }
   ],
   "source": [
    "display_generation_to_upload_period_pivot_df = \\\n",
    "    generation_to_upload_period_pivot_df \\\n",
    "        .head(backend_generation_days)\n",
    "display_generation_to_upload_period_pivot_df \\\n",
    "    .head(backend_generation_days) \\\n",
    "    .rename_axis(columns=display_column_name_mapping) \\\n",
    "    .rename_axis(index=display_column_name_mapping)"
   ]
  },
  {
   "cell_type": "code",
   "execution_count": 52,
   "metadata": {
    "collapsed": false,
    "execution": {
     "iopub.execute_input": "2020-10-22T17:26:20.729071Z",
     "iopub.status.busy": "2020-10-22T17:26:20.728482Z",
     "iopub.status.idle": "2020-10-22T17:26:21.619779Z",
     "shell.execute_reply": "2020-10-22T17:26:21.620304Z"
    },
    "papermill": {
     "duration": 0.983329,
     "end_time": "2020-10-22T17:26:21.620471",
     "exception": false,
     "start_time": "2020-10-22T17:26:20.637142",
     "status": "completed"
    },
    "pycharm": {
     "name": "#%%\n"
    },
    "tags": []
   },
   "outputs": [
    {
     "data": {
      "image/png": "[encoded data removed]",
      "text/plain": [
       "<Figure size 720x576 with 2 Axes>"
      ]
     },
     "metadata": {},
     "output_type": "display_data"
    }
   ],
   "source": [
    "import matplotlib.pyplot as plt\n",
    "\n",
    "fig, generation_to_upload_period_pivot_table_ax = plt.subplots(\n",
    "    figsize=(10, 1 + 0.5 * len(display_generation_to_upload_period_pivot_df)))\n",
    "generation_to_upload_period_pivot_table_ax.set_title(\n",
    "    \"Shared TEKs Generation to Upload Period Table\")\n",
    "sns.heatmap(\n",
    "    data=display_generation_to_upload_period_pivot_df\n",
    "        .rename_axis(columns=display_column_name_mapping)\n",
    "        .rename_axis(index=display_column_name_mapping),\n",
    "    fmt=\".0f\",\n",
    "    annot=True,\n",
    "    ax=generation_to_upload_period_pivot_table_ax)\n",
    "generation_to_upload_period_pivot_table_ax.get_figure().tight_layout()"
   ]
  },
  {
   "cell_type": "markdown",
   "metadata": {
    "execution": {
     "iopub.execute_input": "2020-09-02T08:20:16.278300Z",
     "iopub.status.busy": "2020-09-02T08:20:16.277679Z",
     "iopub.status.idle": "2020-09-02T08:20:16.821909Z",
     "shell.execute_reply": "2020-09-02T08:20:16.822577Z"
    },
    "papermill": {
     "duration": 0.069524,
     "end_time": "2020-10-22T17:26:21.760372",
     "exception": false,
     "start_time": "2020-10-22T17:26:21.690848",
     "status": "completed"
    },
    "pycharm": {
     "name": "#%% md\n"
    },
    "tags": []
   },
   "source": [
    "### Hourly Summary Plots "
   ]
  },
  {
   "cell_type": "code",
   "execution_count": 53,
   "metadata": {
    "execution": {
     "iopub.execute_input": "2020-10-22T17:26:21.943896Z",
     "iopub.status.busy": "2020-10-22T17:26:21.923121Z",
     "iopub.status.idle": "2020-10-22T17:26:22.419846Z",
     "shell.execute_reply": "2020-10-22T17:26:22.420310Z"
    },
    "papermill": {
     "duration": 0.590638,
     "end_time": "2020-10-22T17:26:22.420473",
     "exception": false,
     "start_time": "2020-10-22T17:26:21.829835",
     "status": "completed"
    },
    "pycharm": {
     "name": "#%%\n"
    },
    "tags": []
   },
   "outputs": [
    {
     "data": {
      "image/png": "[encoded data removed]",
      "text/plain": [
       "<Figure size 1080x432 with 2 Axes>"
      ]
     },
     "metadata": {},
     "output_type": "display_data"
    }
   ],
   "source": [
    "hourly_summary_ax_list = hourly_summary_df \\\n",
    "    .rename_axis(index=display_column_name_mapping) \\\n",
    "    .rename(columns=display_column_name_mapping) \\\n",
    "    .plot.bar(\n",
    "        title=f\"Last 24h Summary\",\n",
    "        rot=45, subplots=True, legend=False)\n",
    "ax_ = hourly_summary_ax_list[-1]\n",
    "ax_.get_figure().tight_layout()\n",
    "ax_.get_figure().subplots_adjust(top=0.9)\n",
    "_ = ax_.set_xticklabels(sorted(hourly_summary_df.index.strftime(\"%Y-%m-%d@%H\").tolist()))"
   ]
  },
  {
   "cell_type": "markdown",
   "metadata": {
    "execution": {
     "iopub.execute_input": "2020-09-02T08:20:16.981187Z",
     "iopub.status.busy": "2020-09-02T08:20:16.980584Z",
     "iopub.status.idle": "2020-09-02T08:20:20.068070Z",
     "shell.execute_reply": "2020-09-02T08:20:20.068598Z"
    },
    "papermill": {
     "duration": 0.070121,
     "end_time": "2020-10-22T17:26:22.561766",
     "exception": false,
     "start_time": "2020-10-22T17:26:22.491645",
     "status": "completed"
    },
    "pycharm": {
     "name": "#%% md\n"
    },
    "tags": []
   },
   "source": [
    "### Publish Results"
   ]
  },
  {
   "cell_type": "code",
   "execution_count": 54,
   "metadata": {
    "collapsed": false,
    "execution": {
     "iopub.execute_input": "2020-10-22T17:26:22.710590Z",
     "iopub.status.busy": "2020-10-22T17:26:22.710023Z",
     "iopub.status.idle": "2020-10-22T17:26:22.713340Z",
     "shell.execute_reply": "2020-10-22T17:26:22.713760Z"
    },
    "papermill": {
     "duration": 0.081561,
     "end_time": "2020-10-22T17:26:22.713920",
     "exception": false,
     "start_time": "2020-10-22T17:26:22.632359",
     "status": "completed"
    },
    "pycharm": {
     "name": "#%%\n"
    },
    "tags": []
   },
   "outputs": [],
   "source": [
    "def get_temporary_image_path() -> str:\n",
    "    return os.path.join(tempfile.gettempdir(), str(uuid.uuid4()) + \".png\")\n",
    "\n",
    "def save_temporary_plot_image(ax):\n",
    "    if isinstance(ax, np.ndarray):\n",
    "        ax = ax[0]\n",
    "    media_path = get_temporary_image_path()\n",
    "    ax.get_figure().savefig(media_path)\n",
    "    return media_path\n",
    "\n",
    "def save_temporary_dataframe_image(df):\n",
    "    import dataframe_image as dfi\n",
    "    media_path = get_temporary_image_path()\n",
    "    dfi.export(df, media_path)\n",
    "    return media_path"
   ]
  },
  {
   "cell_type": "code",
   "execution_count": 55,
   "metadata": {
    "collapsed": false,
    "execution": {
     "iopub.execute_input": "2020-10-22T17:26:22.879713Z",
     "iopub.status.busy": "2020-10-22T17:26:22.879080Z",
     "iopub.status.idle": "2020-10-22T17:26:22.882333Z",
     "shell.execute_reply": "2020-10-22T17:26:22.881589Z"
    },
    "papermill": {
     "duration": 0.098157,
     "end_time": "2020-10-22T17:26:22.882467",
     "exception": false,
     "start_time": "2020-10-22T17:26:22.784310",
     "status": "completed"
    },
    "pycharm": {
     "name": "#%%\n"
    },
    "tags": []
   },
   "outputs": [],
   "source": [
    "github_repository = os.environ.get(\"GITHUB_REPOSITORY\")\n",
    "if github_repository is None:\n",
    "    github_repository = \"pvieito/Radar-STATS\"\n",
    "\n",
    "github_project_base_url = \"https://github.com/\" + github_repository\n",
    "\n",
    "display_formatters = {\n",
    "    display_column_name_mapping[\"teks_per_shared_diagnosis\"]: lambda x: f\"{x:.2f}\",\n",
    "    display_column_name_mapping[\"shared_diagnoses_per_covid_case\"]: lambda x: f\"{x:.2%}\",\n",
    "}\n",
    "daily_summary_table_html = result_summary_with_display_names_df \\\n",
    "    .head(daily_plot_days) \\\n",
    "    .rename_axis(index=display_column_name_mapping) \\\n",
    "    .rename(columns=display_column_name_mapping) \\\n",
    "    .to_html(formatters=display_formatters)\n",
    "multi_region_summary_table_html = multi_region_summary_df \\\n",
    "    .head(daily_plot_days) \\\n",
    "    .rename_axis(columns=display_column_name_mapping) \\\n",
    "    .rename(columns=display_column_name_mapping) \\\n",
    "    .rename_axis(index=display_column_name_mapping) \\\n",
    "    .to_html(formatters=display_formatters)\n",
    "\n",
    "extraction_date_result_summary_df = \\\n",
    "    result_summary_df[result_summary_df.index == extraction_date]\n",
    "extraction_date_result_hourly_summary_df = \\\n",
    "    hourly_summary_df[hourly_summary_df.extraction_date_with_hour == extraction_date_with_hour]\n",
    "\n",
    "covid_cases = \\\n",
    "    extraction_date_result_summary_df.covid_cases.sum()\n",
    "shared_teks_by_generation_date = \\\n",
    "    extraction_date_result_summary_df.shared_teks_by_generation_date.sum()\n",
    "shared_teks_by_upload_date = \\\n",
    "    extraction_date_result_summary_df.shared_teks_by_upload_date.sum()\n",
    "shared_diagnoses = \\\n",
    "    extraction_date_result_summary_df.shared_diagnoses.sum()\n",
    "teks_per_shared_diagnosis = \\\n",
    "    extraction_date_result_summary_df.teks_per_shared_diagnosis.sum()\n",
    "shared_diagnoses_per_covid_case = \\\n",
    "    extraction_date_result_summary_df.shared_diagnoses_per_covid_case.sum()\n",
    "\n",
    "shared_teks_by_upload_date_last_hour = \\\n",
    "    extraction_date_result_hourly_summary_df.shared_teks_by_upload_date.sum().astype(int)\n",
    "shared_diagnoses_last_hour = \\\n",
    "    extraction_date_result_hourly_summary_df.shared_diagnoses.sum().astype(int)"
   ]
  },
  {
   "cell_type": "code",
   "execution_count": 56,
   "metadata": {
    "execution": {
     "iopub.execute_input": "2020-10-22T17:26:23.036689Z",
     "iopub.status.busy": "2020-10-22T17:26:23.036118Z",
     "iopub.status.idle": "2020-10-22T17:26:30.500378Z",
     "shell.execute_reply": "2020-10-22T17:26:30.501140Z"
    },
    "papermill": {
     "duration": 7.548417,
     "end_time": "2020-10-22T17:26:30.501311",
     "exception": false,
     "start_time": "2020-10-22T17:26:22.952894",
     "status": "completed"
    },
    "pycharm": {
     "name": "#%%\n"
    },
    "tags": []
   },
   "outputs": [],
   "source": [
    "summary_plots_image_path = save_temporary_plot_image(\n",
    "    ax=summary_ax_list)\n",
    "summary_table_image_path = save_temporary_dataframe_image(\n",
    "    df=result_summary_with_display_names_df)\n",
    "hourly_summary_plots_image_path = save_temporary_plot_image(\n",
    "    ax=hourly_summary_ax_list)\n",
    "multi_region_summary_table_image_path = save_temporary_dataframe_image(\n",
    "    df=multi_region_summary_df)\n",
    "generation_to_upload_period_pivot_table_image_path = save_temporary_plot_image(\n",
    "    ax=generation_to_upload_period_pivot_table_ax)"
   ]
  },
  {
   "cell_type": "markdown",
   "metadata": {
    "execution": {
     "iopub.execute_input": "2020-09-02T08:20:20.895901Z",
     "iopub.status.busy": "2020-09-02T08:20:20.895301Z",
     "iopub.status.idle": "2020-09-02T08:20:20.942286Z",
     "shell.execute_reply": "2020-09-02T08:20:20.942834Z"
    },
    "papermill": {
     "duration": 0.069785,
     "end_time": "2020-10-22T17:26:30.642050",
     "exception": false,
     "start_time": "2020-10-22T17:26:30.572265",
     "status": "completed"
    },
    "pycharm": {
     "name": "#%% md\n"
    },
    "tags": []
   },
   "source": [
    "### Save Results"
   ]
  },
  {
   "cell_type": "code",
   "execution_count": 57,
   "metadata": {
    "collapsed": false,
    "execution": {
     "iopub.execute_input": "2020-10-22T17:26:30.791351Z",
     "iopub.status.busy": "2020-10-22T17:26:30.790733Z",
     "iopub.status.idle": "2020-10-22T17:26:30.812785Z",
     "shell.execute_reply": "2020-10-22T17:26:30.812296Z"
    },
    "papermill": {
     "duration": 0.100344,
     "end_time": "2020-10-22T17:26:30.812913",
     "exception": false,
     "start_time": "2020-10-22T17:26:30.712569",
     "status": "completed"
    },
    "pycharm": {
     "name": "#%%\n"
    },
    "tags": []
   },
   "outputs": [],
   "source": [
    "report_resources_path_prefix = \"Data/Resources/Current/RadarCOVID-Report-\"\n",
    "result_summary_df.to_csv(\n",
    "    report_resources_path_prefix + \"Summary-Table.csv\")\n",
    "result_summary_df.to_html(\n",
    "    report_resources_path_prefix + \"Summary-Table.html\")\n",
    "hourly_summary_df.to_csv(\n",
    "    report_resources_path_prefix + \"Hourly-Summary-Table.csv\")\n",
    "multi_region_summary_df.to_csv(\n",
    "    report_resources_path_prefix + \"Multi-Region-Summary-Table.csv\")\n",
    "generation_to_upload_period_pivot_df.to_csv(\n",
    "    report_resources_path_prefix + \"Generation-Upload-Period-Table.csv\")\n",
    "_ = shutil.copyfile(\n",
    "    summary_plots_image_path,\n",
    "    report_resources_path_prefix + \"Summary-Plots.png\")\n",
    "_ = shutil.copyfile(\n",
    "    summary_table_image_path,\n",
    "    report_resources_path_prefix + \"Summary-Table.png\")\n",
    "_ = shutil.copyfile(\n",
    "    hourly_summary_plots_image_path,\n",
    "    report_resources_path_prefix + \"Hourly-Summary-Plots.png\")\n",
    "_ = shutil.copyfile(\n",
    "    multi_region_summary_table_image_path,\n",
    "    report_resources_path_prefix + \"Multi-Region-Summary-Table.png\")\n",
    "_ = shutil.copyfile(\n",
    "    generation_to_upload_period_pivot_table_image_path,\n",
    "    report_resources_path_prefix + \"Generation-Upload-Period-Table.png\")"
   ]
  },
  {
   "cell_type": "markdown",
   "metadata": {
    "collapsed": false,
    "papermill": {
     "duration": 0.06982,
     "end_time": "2020-10-22T17:26:30.953144",
     "exception": false,
     "start_time": "2020-10-22T17:26:30.883324",
     "status": "completed"
    },
    "pycharm": {
     "name": "#%% md\n"
    },
    "tags": []
   },
   "source": [
    "### Publish Results as JSON"
   ]
  },
  {
   "cell_type": "code",
   "execution_count": 58,
   "metadata": {
    "collapsed": false,
    "execution": {
     "iopub.execute_input": "2020-10-22T17:26:31.101628Z",
     "iopub.status.busy": "2020-10-22T17:26:31.101059Z",
     "iopub.status.idle": "2020-10-22T17:26:31.111459Z",
     "shell.execute_reply": "2020-10-22T17:26:31.111939Z"
    },
    "papermill": {
     "duration": 0.088294,
     "end_time": "2020-10-22T17:26:31.112098",
     "exception": false,
     "start_time": "2020-10-22T17:26:31.023804",
     "status": "completed"
    },
    "pycharm": {
     "name": "#%%\n"
    },
    "tags": []
   },
   "outputs": [],
   "source": [
    "summary_results_api_df = result_summary_df.reset_index()\n",
    "summary_results_api_df[\"sample_date_string\"] = \\\n",
    "    summary_results_api_df[\"sample_date\"].dt.strftime(\"%Y-%m-%d\")\n",
    "\n",
    "summary_results = dict(\n",
    "    extraction_datetime=extraction_datetime,\n",
    "    extraction_date=extraction_date,\n",
    "    extraction_date_with_hour=extraction_date_with_hour,\n",
    "    last_hour=dict(\n",
    "        shared_teks_by_upload_date=shared_teks_by_upload_date_last_hour,\n",
    "        shared_diagnoses=shared_diagnoses_last_hour,\n",
    "    ),\n",
    "    today=dict(\n",
    "        covid_cases=covid_cases,\n",
    "        shared_teks_by_generation_date=shared_teks_by_generation_date,\n",
    "        shared_teks_by_upload_date=shared_teks_by_upload_date,\n",
    "        shared_diagnoses=shared_diagnoses,\n",
    "        teks_per_shared_diagnosis=teks_per_shared_diagnosis,\n",
    "        shared_diagnoses_per_covid_case=shared_diagnoses_per_covid_case,\n",
    "    ),\n",
    "    last_7_days=last_7_days_summary,\n",
    "    daily_results=summary_results_api_df.to_dict(orient=\"records\"))\n",
    "summary_results = \\\n",
    "    json.loads(pd.Series([summary_results]).to_json(orient=\"records\"))[0]\n",
    "\n",
    "with open(report_resources_path_prefix + \"Summary-Results.json\", \"w\") as f:\n",
    "    json.dump(summary_results, f, indent=4)"
   ]
  },
  {
   "cell_type": "markdown",
   "metadata": {
    "collapsed": false,
    "papermill": {
     "duration": 0.07424,
     "end_time": "2020-10-22T17:26:31.259792",
     "exception": false,
     "start_time": "2020-10-22T17:26:31.185552",
     "status": "completed"
    },
    "pycharm": {
     "name": "#%% md\n"
    },
    "tags": []
   },
   "source": [
    "### Publish on README"
   ]
  },
  {
   "cell_type": "code",
   "execution_count": 59,
   "metadata": {
    "collapsed": false,
    "execution": {
     "iopub.execute_input": "2020-10-22T17:26:31.406056Z",
     "iopub.status.busy": "2020-10-22T17:26:31.405505Z",
     "iopub.status.idle": "2020-10-22T17:26:31.409581Z",
     "shell.execute_reply": "2020-10-22T17:26:31.410102Z"
    },
    "papermill": {
     "duration": 0.080298,
     "end_time": "2020-10-22T17:26:31.410255",
     "exception": false,
     "start_time": "2020-10-22T17:26:31.329957",
     "status": "completed"
    },
    "pycharm": {
     "name": "#%%\n"
    },
    "tags": []
   },
   "outputs": [],
   "source": [
    "with open(\"Data/Templates/README.md\", \"r\") as f:\n",
    "    readme_contents = f.read()\n",
    "\n",
    "readme_contents = readme_contents.format(\n",
    "    extraction_date_with_hour=extraction_date_with_hour,\n",
    "    github_project_base_url=github_project_base_url,\n",
    "    daily_summary_table_html=daily_summary_table_html,\n",
    "    multi_region_summary_table_html=multi_region_summary_table_html)\n",
    "\n",
    "with open(\"README.md\", \"w\") as f:\n",
    "    f.write(readme_contents)"
   ]
  },
  {
   "cell_type": "markdown",
   "metadata": {
    "collapsed": false,
    "papermill": {
     "duration": 0.070479,
     "end_time": "2020-10-22T17:26:31.552465",
     "exception": false,
     "start_time": "2020-10-22T17:26:31.481986",
     "status": "completed"
    },
    "pycharm": {
     "name": "#%% md\n"
    },
    "tags": []
   },
   "source": [
    "### Publish on Twitter"
   ]
  },
  {
   "cell_type": "code",
   "execution_count": 60,
   "metadata": {
    "collapsed": false,
    "execution": {
     "iopub.execute_input": "2020-10-22T17:26:31.701999Z",
     "iopub.status.busy": "2020-10-22T17:26:31.701410Z",
     "iopub.status.idle": "2020-10-22T17:26:40.419156Z",
     "shell.execute_reply": "2020-10-22T17:26:40.418619Z"
    },
    "papermill": {
     "duration": 8.795803,
     "end_time": "2020-10-22T17:26:40.419303",
     "exception": false,
     "start_time": "2020-10-22T17:26:31.623500",
     "status": "completed"
    },
    "pycharm": {
     "name": "#%%\n"
    },
    "tags": []
   },
   "outputs": [],
   "source": [
    "enable_share_to_twitter = os.environ.get(\"RADARCOVID_REPORT__ENABLE_PUBLISH_ON_TWITTER\")\n",
    "github_event_name = os.environ.get(\"GITHUB_EVENT_NAME\")\n",
    "\n",
    "if enable_share_to_twitter and github_event_name == \"schedule\":\n",
    "    import tweepy\n",
    "\n",
    "    twitter_api_auth_keys = os.environ[\"RADARCOVID_REPORT__TWITTER_API_AUTH_KEYS\"]\n",
    "    twitter_api_auth_keys = twitter_api_auth_keys.split(\":\")\n",
    "    auth = tweepy.OAuthHandler(twitter_api_auth_keys[0], twitter_api_auth_keys[1])\n",
    "    auth.set_access_token(twitter_api_auth_keys[2], twitter_api_auth_keys[3])\n",
    "\n",
    "    api = tweepy.API(auth)\n",
    "\n",
    "    summary_plots_media = api.media_upload(summary_plots_image_path)\n",
    "    summary_table_media = api.media_upload(summary_table_image_path)\n",
    "    generation_to_upload_period_pivot_table_image_media = api.media_upload(generation_to_upload_period_pivot_table_image_path)\n",
    "    media_ids = [\n",
    "        summary_plots_media.media_id,\n",
    "        summary_table_media.media_id,\n",
    "        generation_to_upload_period_pivot_table_image_media.media_id,\n",
    "    ]\n",
    "\n",
    "    status = textwrap.dedent(f\"\"\"\n",
    "        #RadarCOVID Report – {extraction_date_with_hour}\n",
    "\n",
    "        Today:\n",
    "        - Uploaded TEKs: {shared_teks_by_upload_date:.0f} ({shared_teks_by_upload_date_last_hour:+d} last hour)\n",
    "        - Shared Diagnoses: ≤{shared_diagnoses:.0f} ({shared_diagnoses_last_hour:+d} last hour)\n",
    "        - TEKs per Diagnosis: ≥{teks_per_shared_diagnosis:.1f}\n",
    "        - Usage Ratio: ≤{shared_diagnoses_per_covid_case:.2%}\n",
    "\n",
    "        Week:\n",
    "        - Shared Diagnoses: ≤{last_7_days_summary[\"shared_diagnoses\"]:.0f}\n",
    "        - Usage Ratio: ≤{last_7_days_summary[\"shared_diagnoses_per_covid_case\"]:.2%}\n",
    "\n",
    "        More Info: {github_project_base_url}#documentation\n",
    "        \"\"\")\n",
    "    status = status.encode(encoding=\"utf-8\")\n",
    "    api.update_status(status=status, media_ids=media_ids)"
   ]
  },
  {
   "cell_type": "code",
   "execution_count": null,
   "metadata": {
    "collapsed": false,
    "papermill": {
     "duration": 0.071139,
     "end_time": "2020-10-22T17:26:40.564083",
     "exception": false,
     "start_time": "2020-10-22T17:26:40.492944",
     "status": "completed"
    },
    "pycharm": {
     "name": "#%%\n"
    },
    "tags": []
   },
   "outputs": [],
   "source": []
  }
 ],
 "metadata": {
  "kernelspec": {
   "display_name": "Python 3",
   "language": "python",
   "name": "python3"
  },
  "language_info": {
   "codemirror_mode": {
    "name": "ipython",
    "version": 3
   },
   "file_extension": ".py",
   "mimetype": "text/x-python",
   "name": "python",
   "nbconvert_exporter": "python",
   "pygments_lexer": "ipython3",
   "version": "3.8.6"
  },
  "papermill": {
   "duration": 213.468912,
   "end_time": "2020-10-22T17:26:42.458887",
   "environment_variables": {},
   "exception": null,
   "input_path": "Notebooks/RadarCOVID-Report/Source/RadarCOVID-Report.ipynb",
   "output_path": "RadarCOVID-Report.ipynb",
   "parameters": {},
   "start_time": "2020-10-22T17:23:08.989975",
   "version": "2.1.3"
  }
 },
 "nbformat": 4,
 "nbformat_minor": 1
}