{
 "cells": [
  {
   "cell_type": "markdown",
   "metadata": {
    "papermill": {
     "duration": 0.057394,
     "end_time": "2020-10-12T20:09:34.714667",
     "exception": false,
     "start_time": "2020-10-12T20:09:34.657273",
     "status": "completed"
    },
    "pycharm": {
     "name": "#%% md\n"
    },
    "tags": []
   },
   "source": [
    "# RadarCOVID-Report"
   ]
  },
  {
   "cell_type": "markdown",
   "metadata": {
    "collapsed": true,
    "papermill": {
     "duration": 0.050911,
     "end_time": "2020-10-12T20:09:34.812604",
     "exception": false,
     "start_time": "2020-10-12T20:09:34.761693",
     "status": "completed"
    },
    "pycharm": {
     "name": "#%% md\n"
    },
    "tags": []
   },
   "source": [
    "## Data Extraction"
   ]
  },
  {
   "cell_type": "code",
   "execution_count": 1,
   "metadata": {
    "execution": {
     "iopub.execute_input": "2020-10-12T20:09:34.910867Z",
     "iopub.status.busy": "2020-10-12T20:09:34.910101Z",
     "iopub.status.idle": "2020-10-12T20:09:38.357425Z",
     "shell.execute_reply": "2020-10-12T20:09:38.357980Z"
    },
    "papermill": {
     "duration": 3.499816,
     "end_time": "2020-10-12T20:09:38.358298",
     "exception": false,
     "start_time": "2020-10-12T20:09:34.858482",
     "status": "completed"
    },
    "pycharm": {
     "name": "#%%\n"
    },
    "tags": []
   },
   "outputs": [],
   "source": [
    "import datetime\n",
    "import json\n",
    "import logging\n",
    "import os\n",
    "import shutil\n",
    "import tempfile\n",
    "import textwrap\n",
    "import uuid\n",
    "\n",
    "import matplotlib.ticker\n",
    "import numpy as np\n",
    "import pandas as pd\n",
    "import seaborn as sns\n",
    "\n",
    "%matplotlib inline"
   ]
  },
  {
   "cell_type": "code",
   "execution_count": 2,
   "metadata": {
    "collapsed": false,
    "execution": {
     "iopub.execute_input": "2020-10-12T20:09:38.460956Z",
     "iopub.status.busy": "2020-10-12T20:09:38.460230Z",
     "iopub.status.idle": "2020-10-12T20:09:38.462856Z",
     "shell.execute_reply": "2020-10-12T20:09:38.462150Z"
    },
    "papermill": {
     "duration": 0.058423,
     "end_time": "2020-10-12T20:09:38.463004",
     "exception": false,
     "start_time": "2020-10-12T20:09:38.404581",
     "status": "completed"
    },
    "pycharm": {
     "name": "#%%\n"
    },
    "tags": []
   },
   "outputs": [],
   "source": [
    "current_working_directory = os.environ.get(\"PWD\")\n",
    "if current_working_directory:\n",
    "    os.chdir(current_working_directory)\n",
    "\n",
    "sns.set()\n",
    "matplotlib.rcParams[\"figure.figsize\"] = (15, 6)\n",
    "\n",
    "extraction_datetime = datetime.datetime.utcnow()\n",
    "extraction_date = extraction_datetime.strftime(\"%Y-%m-%d\")\n",
    "extraction_previous_datetime = extraction_datetime - datetime.timedelta(days=1)\n",
    "extraction_previous_date = extraction_previous_datetime.strftime(\"%Y-%m-%d\")\n",
    "extraction_date_with_hour = datetime.datetime.utcnow().strftime(\"%Y-%m-%d@%H\")"
   ]
  },
  {
   "cell_type": "markdown",
   "metadata": {
    "collapsed": false,
    "papermill": {
     "duration": 0.046762,
     "end_time": "2020-10-12T20:09:38.555525",
     "exception": false,
     "start_time": "2020-10-12T20:09:38.508763",
     "status": "completed"
    },
    "tags": []
   },
   "source": [
    "### Constants"
   ]
  },
  {
   "cell_type": "code",
   "execution_count": 3,
   "metadata": {
    "execution": {
     "iopub.execute_input": "2020-10-12T20:09:38.656327Z",
     "iopub.status.busy": "2020-10-12T20:09:38.655583Z",
     "iopub.status.idle": "2020-10-12T20:09:38.657805Z",
     "shell.execute_reply": "2020-10-12T20:09:38.658488Z"
    },
    "papermill": {
     "duration": 0.057908,
     "end_time": "2020-10-12T20:09:38.658706",
     "exception": false,
     "start_time": "2020-10-12T20:09:38.600798",
     "status": "completed"
    },
    "pycharm": {
     "name": "#%%\n"
    },
    "tags": []
   },
   "outputs": [],
   "source": [
    "spain_region_country_name = \"Spain\"\n",
    "spain_region_country_code = \"ES\"\n",
    "\n",
    "backend_extraction_days = 7 * 2\n",
    "daily_summary_days = 7 * 4 * 3\n",
    "daily_plot_days = 7 * 4\n",
    "tek_dumps_load_limit = daily_summary_days + 1"
   ]
  },
  {
   "cell_type": "markdown",
   "metadata": {
    "collapsed": false,
    "papermill": {
     "duration": 0.046268,
     "end_time": "2020-10-12T20:09:38.749870",
     "exception": false,
     "start_time": "2020-10-12T20:09:38.703602",
     "status": "completed"
    },
    "pycharm": {
     "name": "#%% md\n"
    },
    "tags": []
   },
   "source": [
    "### COVID-19 Cases"
   ]
  },
  {
   "cell_type": "code",
   "execution_count": 4,
   "metadata": {
    "collapsed": false,
    "execution": {
     "iopub.execute_input": "2020-10-12T20:09:38.855789Z",
     "iopub.status.busy": "2020-10-12T20:09:38.855101Z",
     "iopub.status.idle": "2020-10-12T20:09:39.259240Z",
     "shell.execute_reply": "2020-10-12T20:09:39.259810Z"
    },
    "papermill": {
     "duration": 0.462911,
     "end_time": "2020-10-12T20:09:39.260043",
     "exception": false,
     "start_time": "2020-10-12T20:09:38.797132",
     "status": "completed"
    },
    "pycharm": {
     "name": "#%%\n"
    },
    "tags": []
   },
   "outputs": [
    {
     "data": {
      "text/html": [
       "<div>\n",
       "<style scoped>\n",
       "    .dataframe tbody tr th:only-of-type {\n",
       "        vertical-align: middle;\n",
       "    }\n",
       "\n",
       "    .dataframe tbody tr th {\n",
       "        vertical-align: top;\n",
       "    }\n",
       "\n",
       "    .dataframe thead th {\n",
       "        text-align: right;\n",
       "    }\n",
       "</style>\n",
       "<table border=\"1\" class=\"dataframe\">\n",
       "  <thead>\n",
       "    <tr style=\"text-align: right;\">\n",
       "      <th></th>\n",
       "      <th>Country_EN</th>\n",
       "      <th>Country_ES</th>\n",
       "      <th>Country_IT</th>\n",
       "      <th>Region</th>\n",
       "      <th>2020-01-23</th>\n",
       "      <th>2020-01-24</th>\n",
       "      <th>2020-01-25</th>\n",
       "      <th>2020-01-26</th>\n",
       "      <th>2020-01-27</th>\n",
       "      <th>2020-01-28</th>\n",
       "      <th>...</th>\n",
       "      <th>2020-10-02</th>\n",
       "      <th>2020-10-03</th>\n",
       "      <th>2020-10-04</th>\n",
       "      <th>2020-10-05</th>\n",
       "      <th>2020-10-06</th>\n",
       "      <th>2020-10-07</th>\n",
       "      <th>2020-10-08</th>\n",
       "      <th>2020-10-09</th>\n",
       "      <th>2020-10-10</th>\n",
       "      <th>2020-10-11</th>\n",
       "    </tr>\n",
       "  </thead>\n",
       "  <tbody>\n",
       "    <tr>\n",
       "      <th>233</th>\n",
       "      <td>Spain</td>\n",
       "      <td>España</td>\n",
       "      <td>Spagna</td>\n",
       "      <td>NaN</td>\n",
       "      <td>0.0</td>\n",
       "      <td>0.0</td>\n",
       "      <td>0.0</td>\n",
       "      <td>0.0</td>\n",
       "      <td>0.0</td>\n",
       "      <td>0.0</td>\n",
       "      <td>...</td>\n",
       "      <td>789932.0</td>\n",
       "      <td>789932.0</td>\n",
       "      <td>789932.0</td>\n",
       "      <td>813412.0</td>\n",
       "      <td>825410.0</td>\n",
       "      <td>835901.0</td>\n",
       "      <td>848324.0</td>\n",
       "      <td>861112.0</td>\n",
       "      <td>861112.0</td>\n",
       "      <td>861112.0</td>\n",
       "    </tr>\n",
       "  </tbody>\n",
       "</table>\n",
       "<p>1 rows × 267 columns</p>\n",
       "</div>"
      ],
      "text/plain": [
       "    Country_EN Country_ES Country_IT Region  2020-01-23  2020-01-24  \\\n",
       "233      Spain     España     Spagna    NaN         0.0         0.0   \n",
       "\n",
       "     2020-01-25  2020-01-26  2020-01-27  2020-01-28  ...  2020-10-02  \\\n",
       "233         0.0         0.0         0.0         0.0  ...    789932.0   \n",
       "\n",
       "     2020-10-03  2020-10-04  2020-10-05  2020-10-06  2020-10-07  2020-10-08  \\\n",
       "233    789932.0    789932.0    813412.0    825410.0    835901.0    848324.0   \n",
       "\n",
       "     2020-10-09  2020-10-10  2020-10-11  \n",
       "233    861112.0    861112.0    861112.0  \n",
       "\n",
       "[1 rows x 267 columns]"
      ]
     },
     "execution_count": 4,
     "metadata": {},
     "output_type": "execute_result"
    }
   ],
   "source": [
    "confirmed_df = pd.read_csv(\"https://covid19tracking.narrativa.com/csv/confirmed.csv\")\n",
    "\n",
    "radar_covid_countries = {spain_region_country_name}\n",
    "\n",
    "confirmed_df = confirmed_df[confirmed_df[\"Country_EN\"].isin(radar_covid_countries)]\n",
    "confirmed_df = confirmed_df[pd.isna(confirmed_df.Region)]\n",
    "confirmed_df.head()"
   ]
  },
  {
   "cell_type": "code",
   "execution_count": 5,
   "metadata": {
    "collapsed": false,
    "execution": {
     "iopub.execute_input": "2020-10-12T20:09:39.372171Z",
     "iopub.status.busy": "2020-10-12T20:09:39.371465Z",
     "iopub.status.idle": "2020-10-12T20:09:39.384391Z",
     "shell.execute_reply": "2020-10-12T20:09:39.384987Z"
    },
    "papermill": {
     "duration": 0.078267,
     "end_time": "2020-10-12T20:09:39.385169",
     "exception": false,
     "start_time": "2020-10-12T20:09:39.306902",
     "status": "completed"
    },
    "pycharm": {
     "name": "#%%\n"
    },
    "tags": []
   },
   "outputs": [
    {
     "data": {
      "text/html": [
       "<div>\n",
       "<style scoped>\n",
       "    .dataframe tbody tr th:only-of-type {\n",
       "        vertical-align: middle;\n",
       "    }\n",
       "\n",
       "    .dataframe tbody tr th {\n",
       "        vertical-align: top;\n",
       "    }\n",
       "\n",
       "    .dataframe thead th {\n",
       "        text-align: right;\n",
       "    }\n",
       "</style>\n",
       "<table border=\"1\" class=\"dataframe\">\n",
       "  <thead>\n",
       "    <tr style=\"text-align: right;\">\n",
       "      <th></th>\n",
       "      <th>2020-01-23</th>\n",
       "      <th>2020-01-24</th>\n",
       "      <th>2020-01-25</th>\n",
       "      <th>2020-01-26</th>\n",
       "      <th>2020-01-27</th>\n",
       "      <th>2020-01-28</th>\n",
       "      <th>2020-01-29</th>\n",
       "      <th>2020-01-30</th>\n",
       "      <th>2020-01-31</th>\n",
       "      <th>2020-02-01</th>\n",
       "      <th>...</th>\n",
       "      <th>2020-10-02</th>\n",
       "      <th>2020-10-03</th>\n",
       "      <th>2020-10-04</th>\n",
       "      <th>2020-10-05</th>\n",
       "      <th>2020-10-06</th>\n",
       "      <th>2020-10-07</th>\n",
       "      <th>2020-10-08</th>\n",
       "      <th>2020-10-09</th>\n",
       "      <th>2020-10-10</th>\n",
       "      <th>2020-10-11</th>\n",
       "    </tr>\n",
       "  </thead>\n",
       "  <tbody>\n",
       "    <tr>\n",
       "      <th>233</th>\n",
       "      <td>0.0</td>\n",
       "      <td>0.0</td>\n",
       "      <td>0.0</td>\n",
       "      <td>0.0</td>\n",
       "      <td>0.0</td>\n",
       "      <td>0.0</td>\n",
       "      <td>0.0</td>\n",
       "      <td>0.0</td>\n",
       "      <td>0.0</td>\n",
       "      <td>1.0</td>\n",
       "      <td>...</td>\n",
       "      <td>789932.0</td>\n",
       "      <td>789932.0</td>\n",
       "      <td>789932.0</td>\n",
       "      <td>813412.0</td>\n",
       "      <td>825410.0</td>\n",
       "      <td>835901.0</td>\n",
       "      <td>848324.0</td>\n",
       "      <td>861112.0</td>\n",
       "      <td>861112.0</td>\n",
       "      <td>861112.0</td>\n",
       "    </tr>\n",
       "  </tbody>\n",
       "</table>\n",
       "<p>1 rows × 263 columns</p>\n",
       "</div>"
      ],
      "text/plain": [
       "     2020-01-23  2020-01-24  2020-01-25  2020-01-26  2020-01-27  2020-01-28  \\\n",
       "233         0.0         0.0         0.0         0.0         0.0         0.0   \n",
       "\n",
       "     2020-01-29  2020-01-30  2020-01-31  2020-02-01  ...  2020-10-02  \\\n",
       "233         0.0         0.0         0.0         1.0  ...    789932.0   \n",
       "\n",
       "     2020-10-03  2020-10-04  2020-10-05  2020-10-06  2020-10-07  2020-10-08  \\\n",
       "233    789932.0    789932.0    813412.0    825410.0    835901.0    848324.0   \n",
       "\n",
       "     2020-10-09  2020-10-10  2020-10-11  \n",
       "233    861112.0    861112.0    861112.0  \n",
       "\n",
       "[1 rows x 263 columns]"
      ]
     },
     "execution_count": 5,
     "metadata": {},
     "output_type": "execute_result"
    }
   ],
   "source": [
    "confirmed_country_columns = list(filter(lambda x: x.startswith(\"Country_\"), confirmed_df.columns))\n",
    "confirmed_regional_columns = confirmed_country_columns + [\"Region\"]\n",
    "confirmed_df.drop(columns=confirmed_regional_columns, inplace=True)\n",
    "confirmed_df.head()"
   ]
  },
  {
   "cell_type": "code",
   "execution_count": 6,
   "metadata": {
    "collapsed": false,
    "execution": {
     "iopub.execute_input": "2020-10-12T20:09:39.486472Z",
     "iopub.status.busy": "2020-10-12T20:09:39.485706Z",
     "iopub.status.idle": "2020-10-12T20:09:39.491099Z",
     "shell.execute_reply": "2020-10-12T20:09:39.490555Z"
    },
    "papermill": {
     "duration": 0.06014,
     "end_time": "2020-10-12T20:09:39.491236",
     "exception": false,
     "start_time": "2020-10-12T20:09:39.431096",
     "status": "completed"
    },
    "pycharm": {
     "name": "#%%\n"
    },
    "tags": []
   },
   "outputs": [
    {
     "data": {
      "text/html": [
       "<div>\n",
       "<style scoped>\n",
       "    .dataframe tbody tr th:only-of-type {\n",
       "        vertical-align: middle;\n",
       "    }\n",
       "\n",
       "    .dataframe tbody tr th {\n",
       "        vertical-align: top;\n",
       "    }\n",
       "\n",
       "    .dataframe thead th {\n",
       "        text-align: right;\n",
       "    }\n",
       "</style>\n",
       "<table border=\"1\" class=\"dataframe\">\n",
       "  <thead>\n",
       "    <tr style=\"text-align: right;\">\n",
       "      <th></th>\n",
       "      <th>0</th>\n",
       "    </tr>\n",
       "  </thead>\n",
       "  <tbody>\n",
       "    <tr>\n",
       "      <th>2020-10-07</th>\n",
       "      <td>835901.0</td>\n",
       "    </tr>\n",
       "    <tr>\n",
       "      <th>2020-10-08</th>\n",
       "      <td>848324.0</td>\n",
       "    </tr>\n",
       "    <tr>\n",
       "      <th>2020-10-09</th>\n",
       "      <td>861112.0</td>\n",
       "    </tr>\n",
       "    <tr>\n",
       "      <th>2020-10-10</th>\n",
       "      <td>861112.0</td>\n",
       "    </tr>\n",
       "    <tr>\n",
       "      <th>2020-10-11</th>\n",
       "      <td>861112.0</td>\n",
       "    </tr>\n",
       "  </tbody>\n",
       "</table>\n",
       "</div>"
      ],
      "text/plain": [
       "                   0\n",
       "2020-10-07  835901.0\n",
       "2020-10-08  848324.0\n",
       "2020-10-09  861112.0\n",
       "2020-10-10  861112.0\n",
       "2020-10-11  861112.0"
      ]
     },
     "execution_count": 6,
     "metadata": {},
     "output_type": "execute_result"
    }
   ],
   "source": [
    "confirmed_df = confirmed_df.sum().to_frame()\n",
    "confirmed_df.tail()"
   ]
  },
  {
   "cell_type": "code",
   "execution_count": 7,
   "metadata": {
    "collapsed": false,
    "execution": {
     "iopub.execute_input": "2020-10-12T20:09:39.593931Z",
     "iopub.status.busy": "2020-10-12T20:09:39.593247Z",
     "iopub.status.idle": "2020-10-12T20:09:39.606903Z",
     "shell.execute_reply": "2020-10-12T20:09:39.606208Z"
    },
    "papermill": {
     "duration": 0.068832,
     "end_time": "2020-10-12T20:09:39.607144",
     "exception": false,
     "start_time": "2020-10-12T20:09:39.538312",
     "status": "completed"
    },
    "pycharm": {
     "name": "#%%\n"
    },
    "tags": []
   },
   "outputs": [
    {
     "data": {
      "text/html": [
       "<div>\n",
       "<style scoped>\n",
       "    .dataframe tbody tr th:only-of-type {\n",
       "        vertical-align: middle;\n",
       "    }\n",
       "\n",
       "    .dataframe tbody tr th {\n",
       "        vertical-align: top;\n",
       "    }\n",
       "\n",
       "    .dataframe thead th {\n",
       "        text-align: right;\n",
       "    }\n",
       "</style>\n",
       "<table border=\"1\" class=\"dataframe\">\n",
       "  <thead>\n",
       "    <tr style=\"text-align: right;\">\n",
       "      <th></th>\n",
       "      <th>sample_date_string</th>\n",
       "      <th>cumulative_cases</th>\n",
       "      <th>new_cases</th>\n",
       "      <th>covid_cases</th>\n",
       "    </tr>\n",
       "  </thead>\n",
       "  <tbody>\n",
       "    <tr>\n",
       "      <th>258</th>\n",
       "      <td>2020-10-07</td>\n",
       "      <td>835901.0</td>\n",
       "      <td>10491.0</td>\n",
       "      <td>9530.0</td>\n",
       "    </tr>\n",
       "    <tr>\n",
       "      <th>259</th>\n",
       "      <td>2020-10-08</td>\n",
       "      <td>848324.0</td>\n",
       "      <td>12423.0</td>\n",
       "      <td>9960.0</td>\n",
       "    </tr>\n",
       "    <tr>\n",
       "      <th>260</th>\n",
       "      <td>2020-10-09</td>\n",
       "      <td>861112.0</td>\n",
       "      <td>12788.0</td>\n",
       "      <td>10169.0</td>\n",
       "    </tr>\n",
       "    <tr>\n",
       "      <th>261</th>\n",
       "      <td>2020-10-10</td>\n",
       "      <td>861112.0</td>\n",
       "      <td>0.0</td>\n",
       "      <td>10169.0</td>\n",
       "    </tr>\n",
       "    <tr>\n",
       "      <th>262</th>\n",
       "      <td>2020-10-11</td>\n",
       "      <td>861112.0</td>\n",
       "      <td>0.0</td>\n",
       "      <td>10169.0</td>\n",
       "    </tr>\n",
       "  </tbody>\n",
       "</table>\n",
       "</div>"
      ],
      "text/plain": [
       "    sample_date_string  cumulative_cases  new_cases  covid_cases\n",
       "258         2020-10-07          835901.0    10491.0       9530.0\n",
       "259         2020-10-08          848324.0    12423.0       9960.0\n",
       "260         2020-10-09          861112.0    12788.0      10169.0\n",
       "261         2020-10-10          861112.0        0.0      10169.0\n",
       "262         2020-10-11          861112.0        0.0      10169.0"
      ]
     },
     "execution_count": 7,
     "metadata": {},
     "output_type": "execute_result"
    }
   ],
   "source": [
    "confirmed_df.reset_index(inplace=True)\n",
    "confirmed_df.columns = [\"sample_date_string\", \"cumulative_cases\"]\n",
    "confirmed_df.sort_values(\"sample_date_string\", inplace=True)\n",
    "confirmed_df[\"new_cases\"] = confirmed_df.cumulative_cases.diff()\n",
    "confirmed_df[\"covid_cases\"] = confirmed_df.new_cases.rolling(7).mean().round()\n",
    "confirmed_df.tail()"
   ]
  },
  {
   "cell_type": "code",
   "execution_count": 8,
   "metadata": {
    "execution": {
     "iopub.execute_input": "2020-10-12T20:09:39.709851Z",
     "iopub.status.busy": "2020-10-12T20:09:39.709197Z",
     "iopub.status.idle": "2020-10-12T20:09:39.723708Z",
     "shell.execute_reply": "2020-10-12T20:09:39.724306Z"
    },
    "papermill": {
     "duration": 0.069728,
     "end_time": "2020-10-12T20:09:39.724496",
     "exception": false,
     "start_time": "2020-10-12T20:09:39.654768",
     "status": "completed"
    },
    "pycharm": {
     "name": "#%%\n"
    },
    "tags": []
   },
   "outputs": [
    {
     "data": {
      "text/html": [
       "<div>\n",
       "<style scoped>\n",
       "    .dataframe tbody tr th:only-of-type {\n",
       "        vertical-align: middle;\n",
       "    }\n",
       "\n",
       "    .dataframe tbody tr th {\n",
       "        vertical-align: top;\n",
       "    }\n",
       "\n",
       "    .dataframe thead th {\n",
       "        text-align: right;\n",
       "    }\n",
       "</style>\n",
       "<table border=\"1\" class=\"dataframe\">\n",
       "  <thead>\n",
       "    <tr style=\"text-align: right;\">\n",
       "      <th></th>\n",
       "      <th>sample_date_string</th>\n",
       "      <th>cumulative_cases</th>\n",
       "      <th>new_cases</th>\n",
       "      <th>covid_cases</th>\n",
       "    </tr>\n",
       "  </thead>\n",
       "  <tbody>\n",
       "    <tr>\n",
       "      <th>259</th>\n",
       "      <td>2020-10-08</td>\n",
       "      <td>848324.0</td>\n",
       "      <td>12423.0</td>\n",
       "      <td>9960</td>\n",
       "    </tr>\n",
       "    <tr>\n",
       "      <th>260</th>\n",
       "      <td>2020-10-09</td>\n",
       "      <td>861112.0</td>\n",
       "      <td>12788.0</td>\n",
       "      <td>10169</td>\n",
       "    </tr>\n",
       "    <tr>\n",
       "      <th>261</th>\n",
       "      <td>2020-10-10</td>\n",
       "      <td>861112.0</td>\n",
       "      <td>0.0</td>\n",
       "      <td>10169</td>\n",
       "    </tr>\n",
       "    <tr>\n",
       "      <th>262</th>\n",
       "      <td>2020-10-11</td>\n",
       "      <td>861112.0</td>\n",
       "      <td>0.0</td>\n",
       "      <td>10169</td>\n",
       "    </tr>\n",
       "    <tr>\n",
       "      <th>262</th>\n",
       "      <td>2020-10-12</td>\n",
       "      <td>871281.0</td>\n",
       "      <td>10169.0</td>\n",
       "      <td>10169</td>\n",
       "    </tr>\n",
       "  </tbody>\n",
       "</table>\n",
       "</div>"
      ],
      "text/plain": [
       "    sample_date_string  cumulative_cases  new_cases  covid_cases\n",
       "259         2020-10-08          848324.0    12423.0         9960\n",
       "260         2020-10-09          861112.0    12788.0        10169\n",
       "261         2020-10-10          861112.0        0.0        10169\n",
       "262         2020-10-11          861112.0        0.0        10169\n",
       "262         2020-10-12          871281.0    10169.0        10169"
      ]
     },
     "execution_count": 8,
     "metadata": {},
     "output_type": "execute_result"
    }
   ],
   "source": [
    "extraction_date_confirmed_df = \\\n",
    "    confirmed_df[confirmed_df.sample_date_string == extraction_date]\n",
    "extraction_previous_date_confirmed_df = \\\n",
    "    confirmed_df[confirmed_df.sample_date_string == extraction_previous_date].copy()\n",
    "\n",
    "if extraction_date_confirmed_df.empty and \\\n",
    "    not extraction_previous_date_confirmed_df.empty:\n",
    "        extraction_previous_date_confirmed_df[\"sample_date_string\"] = extraction_date\n",
    "        extraction_previous_date_confirmed_df[\"new_cases\"] = \\\n",
    "            extraction_previous_date_confirmed_df.covid_cases\n",
    "        extraction_previous_date_confirmed_df[\"cumulative_cases\"] = \\\n",
    "            extraction_previous_date_confirmed_df.new_cases + \\\n",
    "            extraction_previous_date_confirmed_df.cumulative_cases\n",
    "        confirmed_df = confirmed_df.append(extraction_previous_date_confirmed_df)\n",
    "\n",
    "confirmed_df[\"covid_cases\"] = confirmed_df.covid_cases.fillna(0).astype(int)\n",
    "confirmed_df.tail()"
   ]
  },
  {
   "cell_type": "code",
   "execution_count": 9,
   "metadata": {
    "execution": {
     "iopub.execute_input": "2020-10-12T20:09:39.838380Z",
     "iopub.status.busy": "2020-10-12T20:09:39.837578Z",
     "iopub.status.idle": "2020-10-12T20:09:40.084622Z",
     "shell.execute_reply": "2020-10-12T20:09:40.085288Z"
    },
    "papermill": {
     "duration": 0.31229,
     "end_time": "2020-10-12T20:09:40.085480",
     "exception": false,
     "start_time": "2020-10-12T20:09:39.773190",
     "status": "completed"
    },
    "pycharm": {
     "name": "#%%\n"
    },
    "tags": []
   },
   "outputs": [
    {
     "data": {
      "text/plain": [
       "<matplotlib.axes._subplots.AxesSubplot at 0x7fcc8b0d0130>"
      ]
     },
     "execution_count": 9,
     "metadata": {},
     "output_type": "execute_result"
    },
    {
     "data": {
      "image/png": "[encoded data removed]",
      "text/plain": [
       "<Figure size 1080x432 with 1 Axes>"
      ]
     },
     "metadata": {},
     "output_type": "display_data"
    }
   ],
   "source": [
    "confirmed_df[[\"new_cases\", \"covid_cases\"]].plot()"
   ]
  },
  {
   "cell_type": "markdown",
   "metadata": {
    "execution": {
     "iopub.execute_input": "2020-08-30T22:30:16.351238Z",
     "iopub.status.busy": "2020-08-30T22:30:16.344579Z",
     "iopub.status.idle": "2020-08-30T22:30:16.354285Z",
     "shell.execute_reply": "2020-08-30T22:30:16.353641Z"
    },
    "papermill": {
     "duration": 0.051022,
     "end_time": "2020-10-12T20:09:40.188298",
     "exception": false,
     "start_time": "2020-10-12T20:09:40.137276",
     "status": "completed"
    },
    "pycharm": {
     "name": "#%% md\n"
    },
    "tags": []
   },
   "source": [
    "### Extract API TEKs"
   ]
  },
  {
   "cell_type": "code",
   "execution_count": 10,
   "metadata": {
    "execution": {
     "iopub.execute_input": "2020-10-12T20:09:40.295509Z",
     "iopub.status.busy": "2020-10-12T20:09:40.294872Z",
     "iopub.status.idle": "2020-10-12T20:10:06.804317Z",
     "shell.execute_reply": "2020-10-12T20:10:06.803596Z"
    },
    "papermill": {
     "duration": 26.566086,
     "end_time": "2020-10-12T20:10:06.804474",
     "exception": false,
     "start_time": "2020-10-12T20:09:40.238388",
     "status": "completed"
    },
    "pycharm": {
     "name": "#%%\n"
    },
    "tags": []
   },
   "outputs": [
    {
     "name": "stderr",
     "output_type": "stream",
     "text": [
      "WARNING:root:NoKeysFoundException(\"No exposure keys found on endpoint 'https://www.pt.bfs.admin.ch/v1/gaen/exposed/1602460800000' (parameters: {'sample_date': '2020-10-12', 'server_endpoint_url': 'https://www.pt.bfs.admin.ch', 'backend_identifier': 'CH'}).\")\n"
     ]
    },
    {
     "name": "stderr",
     "output_type": "stream",
     "text": [
      "WARNING:root:NoKeysFoundException(\"No exposure keys found on endpoint 'https://stayaway.incm.pt/v1/gaen/exposed/1602460800000' (parameters: {'sample_date': '2020-10-12', 'server_endpoint_url': 'https://stayaway.incm.pt', 'backend_identifier': 'PT'}).\")\n"
     ]
    },
    {
     "name": "stderr",
     "output_type": "stream",
     "text": [
      "WARNING:root:NoKeysFoundException(\"No exposure keys found on endpoint 'https://svc90.main.px.t-online.de/version/v1/diagnosis-keys/country/NL/date/2020-10-12' (parameters: {'country': 'NL', 'sample_date': '2020-10-12', 'server_endpoint_url': 'https://svc90.main.px.t-online.de', 'backend_identifier': 'DE-NL'}).\")\n"
     ]
    },
    {
     "name": "stderr",
     "output_type": "stream",
     "text": [
      "WARNING:root:NoKeysFoundException(\"No exposure keys found on endpoint 'https://svc90.main.px.t-online.de/version/v1/diagnosis-keys/country/NL/date/2020-10-11' (parameters: {'country': 'NL', 'sample_date': '2020-10-11', 'server_endpoint_url': 'https://svc90.main.px.t-online.de', 'backend_identifier': 'DE-NL'}).\")\n"
     ]
    },
    {
     "name": "stderr",
     "output_type": "stream",
     "text": [
      "WARNING:root:NoKeysFoundException(\"No exposure keys found on endpoint 'https://svc90.main.px.t-online.de/version/v1/diagnosis-keys/country/NL/date/2020-10-10' (parameters: {'country': 'NL', 'sample_date': '2020-10-10', 'server_endpoint_url': 'https://svc90.main.px.t-online.de', 'backend_identifier': 'DE-NL'}).\")\n"
     ]
    },
    {
     "name": "stderr",
     "output_type": "stream",
     "text": [
      "WARNING:root:NoKeysFoundException(\"No exposure keys found on endpoint 'https://svc90.main.px.t-online.de/version/v1/diagnosis-keys/country/NL/date/2020-10-09' (parameters: {'country': 'NL', 'sample_date': '2020-10-09', 'server_endpoint_url': 'https://svc90.main.px.t-online.de', 'backend_identifier': 'DE-NL'}).\")\n"
     ]
    },
    {
     "name": "stderr",
     "output_type": "stream",
     "text": [
      "WARNING:root:NoKeysFoundException(\"No exposure keys found on endpoint 'https://svc90.main.px.t-online.de/version/v1/diagnosis-keys/country/NL/date/2020-10-08' (parameters: {'country': 'NL', 'sample_date': '2020-10-08', 'server_endpoint_url': 'https://svc90.main.px.t-online.de', 'backend_identifier': 'DE-NL'}).\")\n"
     ]
    },
    {
     "name": "stderr",
     "output_type": "stream",
     "text": [
      "WARNING:root:NoKeysFoundException(\"No exposure keys found on endpoint 'https://svc90.main.px.t-online.de/version/v1/diagnosis-keys/country/NL/date/2020-10-07' (parameters: {'country': 'NL', 'sample_date': '2020-10-07', 'server_endpoint_url': 'https://svc90.main.px.t-online.de', 'backend_identifier': 'DE-NL'}).\")\n"
     ]
    },
    {
     "name": "stderr",
     "output_type": "stream",
     "text": [
      "WARNING:root:NoKeysFoundException(\"No exposure keys found on endpoint 'https://svc90.main.px.t-online.de/version/v1/diagnosis-keys/country/NL/date/2020-10-06' (parameters: {'country': 'NL', 'sample_date': '2020-10-06', 'server_endpoint_url': 'https://svc90.main.px.t-online.de', 'backend_identifier': 'DE-NL'}).\")\n"
     ]
    },
    {
     "name": "stderr",
     "output_type": "stream",
     "text": [
      "WARNING:root:NoKeysFoundException(\"No exposure keys found on endpoint 'https://svc90.main.px.t-online.de/version/v1/diagnosis-keys/country/NL/date/2020-10-05' (parameters: {'country': 'NL', 'sample_date': '2020-10-05', 'server_endpoint_url': 'https://svc90.main.px.t-online.de', 'backend_identifier': 'DE-NL'}).\")\n"
     ]
    },
    {
     "name": "stderr",
     "output_type": "stream",
     "text": [
      "WARNING:root:NoKeysFoundException(\"No exposure keys found on endpoint 'https://svc90.main.px.t-online.de/version/v1/diagnosis-keys/country/NL/date/2020-10-04' (parameters: {'country': 'NL', 'sample_date': '2020-10-04', 'server_endpoint_url': 'https://svc90.main.px.t-online.de', 'backend_identifier': 'DE-NL'}).\")\n"
     ]
    },
    {
     "name": "stderr",
     "output_type": "stream",
     "text": [
      "WARNING:root:NoKeysFoundException(\"No exposure keys found on endpoint 'https://svc90.main.px.t-online.de/version/v1/diagnosis-keys/country/NL/date/2020-10-03' (parameters: {'country': 'NL', 'sample_date': '2020-10-03', 'server_endpoint_url': 'https://svc90.main.px.t-online.de', 'backend_identifier': 'DE-NL'}).\")\n"
     ]
    },
    {
     "name": "stderr",
     "output_type": "stream",
     "text": [
      "WARNING:root:NoKeysFoundException(\"No exposure keys found on endpoint 'https://svc90.main.px.t-online.de/version/v1/diagnosis-keys/country/NL/date/2020-10-02' (parameters: {'country': 'NL', 'sample_date': '2020-10-02', 'server_endpoint_url': 'https://svc90.main.px.t-online.de', 'backend_identifier': 'DE-NL'}).\")\n"
     ]
    },
    {
     "name": "stderr",
     "output_type": "stream",
     "text": [
      "WARNING:root:NoKeysFoundException(\"No exposure keys found on endpoint 'https://svc90.main.px.t-online.de/version/v1/diagnosis-keys/country/NL/date/2020-10-01' (parameters: {'country': 'NL', 'sample_date': '2020-10-01', 'server_endpoint_url': 'https://svc90.main.px.t-online.de', 'backend_identifier': 'DE-NL'}).\")\n"
     ]
    },
    {
     "name": "stderr",
     "output_type": "stream",
     "text": [
      "WARNING:root:NoKeysFoundException(\"No exposure keys found on endpoint 'https://svc90.main.px.t-online.de/version/v1/diagnosis-keys/country/NL/date/2020-09-30' (parameters: {'country': 'NL', 'sample_date': '2020-09-30', 'server_endpoint_url': 'https://svc90.main.px.t-online.de', 'backend_identifier': 'DE-NL'}).\")\n"
     ]
    },
    {
     "name": "stderr",
     "output_type": "stream",
     "text": [
      "WARNING:root:NoKeysFoundException(\"No exposure keys found on endpoint 'https://svc90.main.px.t-online.de/version/v1/diagnosis-keys/country/NL/date/2020-09-29' (parameters: {'country': 'NL', 'sample_date': '2020-09-29', 'server_endpoint_url': 'https://svc90.main.px.t-online.de', 'backend_identifier': 'DE-NL'}).\")\n"
     ]
    },
    {
     "name": "stderr",
     "output_type": "stream",
     "text": [
      "WARNING:root:NoKeysFoundException(\"No exposure keys found on endpoint 'https://svc90.main.px.t-online.de/version/v1/diagnosis-keys/country/ES/date/2020-10-12' (parameters: {'country': 'ES', 'sample_date': '2020-10-12', 'server_endpoint_url': 'https://svc90.main.px.t-online.de', 'backend_identifier': 'DE-ES'}).\")\n"
     ]
    },
    {
     "name": "stderr",
     "output_type": "stream",
     "text": [
      "WARNING:root:NoKeysFoundException(\"No exposure keys found on endpoint 'https://svc90.main.px.t-online.de/version/v1/diagnosis-keys/country/ES/date/2020-10-11' (parameters: {'country': 'ES', 'sample_date': '2020-10-11', 'server_endpoint_url': 'https://svc90.main.px.t-online.de', 'backend_identifier': 'DE-ES'}).\")\n"
     ]
    },
    {
     "name": "stderr",
     "output_type": "stream",
     "text": [
      "WARNING:root:NoKeysFoundException(\"No exposure keys found on endpoint 'https://svc90.main.px.t-online.de/version/v1/diagnosis-keys/country/ES/date/2020-10-10' (parameters: {'country': 'ES', 'sample_date': '2020-10-10', 'server_endpoint_url': 'https://svc90.main.px.t-online.de', 'backend_identifier': 'DE-ES'}).\")\n"
     ]
    },
    {
     "name": "stderr",
     "output_type": "stream",
     "text": [
      "WARNING:root:NoKeysFoundException(\"No exposure keys found on endpoint 'https://svc90.main.px.t-online.de/version/v1/diagnosis-keys/country/ES/date/2020-10-09' (parameters: {'country': 'ES', 'sample_date': '2020-10-09', 'server_endpoint_url': 'https://svc90.main.px.t-online.de', 'backend_identifier': 'DE-ES'}).\")\n"
     ]
    },
    {
     "name": "stderr",
     "output_type": "stream",
     "text": [
      "WARNING:root:NoKeysFoundException(\"No exposure keys found on endpoint 'https://svc90.main.px.t-online.de/version/v1/diagnosis-keys/country/ES/date/2020-10-08' (parameters: {'country': 'ES', 'sample_date': '2020-10-08', 'server_endpoint_url': 'https://svc90.main.px.t-online.de', 'backend_identifier': 'DE-ES'}).\")\n"
     ]
    },
    {
     "name": "stderr",
     "output_type": "stream",
     "text": [
      "WARNING:root:NoKeysFoundException(\"No exposure keys found on endpoint 'https://svc90.main.px.t-online.de/version/v1/diagnosis-keys/country/ES/date/2020-10-07' (parameters: {'country': 'ES', 'sample_date': '2020-10-07', 'server_endpoint_url': 'https://svc90.main.px.t-online.de', 'backend_identifier': 'DE-ES'}).\")\n"
     ]
    },
    {
     "name": "stderr",
     "output_type": "stream",
     "text": [
      "WARNING:root:NoKeysFoundException(\"No exposure keys found on endpoint 'https://svc90.main.px.t-online.de/version/v1/diagnosis-keys/country/ES/date/2020-10-06' (parameters: {'country': 'ES', 'sample_date': '2020-10-06', 'server_endpoint_url': 'https://svc90.main.px.t-online.de', 'backend_identifier': 'DE-ES'}).\")\n"
     ]
    },
    {
     "name": "stderr",
     "output_type": "stream",
     "text": [
      "WARNING:root:NoKeysFoundException(\"No exposure keys found on endpoint 'https://svc90.main.px.t-online.de/version/v1/diagnosis-keys/country/ES/date/2020-10-05' (parameters: {'country': 'ES', 'sample_date': '2020-10-05', 'server_endpoint_url': 'https://svc90.main.px.t-online.de', 'backend_identifier': 'DE-ES'}).\")\n"
     ]
    },
    {
     "name": "stderr",
     "output_type": "stream",
     "text": [
      "WARNING:root:NoKeysFoundException(\"No exposure keys found on endpoint 'https://svc90.main.px.t-online.de/version/v1/diagnosis-keys/country/ES/date/2020-10-04' (parameters: {'country': 'ES', 'sample_date': '2020-10-04', 'server_endpoint_url': 'https://svc90.main.px.t-online.de', 'backend_identifier': 'DE-ES'}).\")\n"
     ]
    },
    {
     "name": "stderr",
     "output_type": "stream",
     "text": [
      "WARNING:root:NoKeysFoundException(\"No exposure keys found on endpoint 'https://svc90.main.px.t-online.de/version/v1/diagnosis-keys/country/ES/date/2020-10-03' (parameters: {'country': 'ES', 'sample_date': '2020-10-03', 'server_endpoint_url': 'https://svc90.main.px.t-online.de', 'backend_identifier': 'DE-ES'}).\")\n"
     ]
    },
    {
     "name": "stderr",
     "output_type": "stream",
     "text": [
      "WARNING:root:NoKeysFoundException(\"No exposure keys found on endpoint 'https://svc90.main.px.t-online.de/version/v1/diagnosis-keys/country/ES/date/2020-10-02' (parameters: {'country': 'ES', 'sample_date': '2020-10-02', 'server_endpoint_url': 'https://svc90.main.px.t-online.de', 'backend_identifier': 'DE-ES'}).\")\n"
     ]
    },
    {
     "name": "stderr",
     "output_type": "stream",
     "text": [
      "WARNING:root:NoKeysFoundException(\"No exposure keys found on endpoint 'https://svc90.main.px.t-online.de/version/v1/diagnosis-keys/country/ES/date/2020-10-01' (parameters: {'country': 'ES', 'sample_date': '2020-10-01', 'server_endpoint_url': 'https://svc90.main.px.t-online.de', 'backend_identifier': 'DE-ES'}).\")\n"
     ]
    },
    {
     "name": "stderr",
     "output_type": "stream",
     "text": [
      "WARNING:root:NoKeysFoundException(\"No exposure keys found on endpoint 'https://svc90.main.px.t-online.de/version/v1/diagnosis-keys/country/ES/date/2020-09-30' (parameters: {'country': 'ES', 'sample_date': '2020-09-30', 'server_endpoint_url': 'https://svc90.main.px.t-online.de', 'backend_identifier': 'DE-ES'}).\")\n"
     ]
    },
    {
     "name": "stderr",
     "output_type": "stream",
     "text": [
      "WARNING:root:NoKeysFoundException(\"No exposure keys found on endpoint 'https://svc90.main.px.t-online.de/version/v1/diagnosis-keys/country/ES/date/2020-09-29' (parameters: {'country': 'ES', 'sample_date': '2020-09-29', 'server_endpoint_url': 'https://svc90.main.px.t-online.de', 'backend_identifier': 'DE-ES'}).\")\n"
     ]
    },
    {
     "data": {
      "text/html": [
       "<div>\n",
       "<style scoped>\n",
       "    .dataframe tbody tr th:only-of-type {\n",
       "        vertical-align: middle;\n",
       "    }\n",
       "\n",
       "    .dataframe tbody tr th {\n",
       "        vertical-align: top;\n",
       "    }\n",
       "\n",
       "    .dataframe thead th {\n",
       "        text-align: right;\n",
       "    }\n",
       "</style>\n",
       "<table border=\"1\" class=\"dataframe\">\n",
       "  <thead>\n",
       "    <tr style=\"text-align: right;\">\n",
       "      <th></th>\n",
       "      <th>sample_datetime</th>\n",
       "      <th>sample_date_string</th>\n",
       "      <th>region</th>\n",
       "      <th>verification_key_version</th>\n",
       "      <th>verification_key_id</th>\n",
       "      <th>signature_algorithm</th>\n",
       "      <th>key_data</th>\n",
       "      <th>rolling_start_interval_number</th>\n",
       "      <th>rolling_period</th>\n",
       "      <th>transmission_risk_level</th>\n",
       "      <th>backend_identifier</th>\n",
       "    </tr>\n",
       "  </thead>\n",
       "  <tbody>\n",
       "    <tr>\n",
       "      <th>0</th>\n",
       "      <td>2020-10-12</td>\n",
       "      <td>2020-10-12</td>\n",
       "      <td>ES</td>\n",
       "      <td>V1</td>\n",
       "      <td>214</td>\n",
       "      <td>1.2.840.10045.4.3.2</td>\n",
       "      <td>c19f0624-898b-eabe-8358-dc43c24f61bc</td>\n",
       "      <td>2670768</td>\n",
       "      <td>116</td>\n",
       "      <td>0</td>\n",
       "      <td>ES</td>\n",
       "    </tr>\n",
       "    <tr>\n",
       "      <th>1</th>\n",
       "      <td>2020-10-12</td>\n",
       "      <td>2020-10-12</td>\n",
       "      <td>ES</td>\n",
       "      <td>V1</td>\n",
       "      <td>214</td>\n",
       "      <td>1.2.840.10045.4.3.2</td>\n",
       "      <td>64367b32-39d3-dd38-a28f-53812c0e4157</td>\n",
       "      <td>2670768</td>\n",
       "      <td>86</td>\n",
       "      <td>0</td>\n",
       "      <td>ES</td>\n",
       "    </tr>\n",
       "    <tr>\n",
       "      <th>0</th>\n",
       "      <td>2020-10-11</td>\n",
       "      <td>2020-10-11</td>\n",
       "      <td>ES</td>\n",
       "      <td>V1</td>\n",
       "      <td>214</td>\n",
       "      <td>1.2.840.10045.4.3.2</td>\n",
       "      <td>44a77a71-dd40-21da-1aba-6292ee9f482d</td>\n",
       "      <td>2670624</td>\n",
       "      <td>144</td>\n",
       "      <td>0</td>\n",
       "      <td>ES</td>\n",
       "    </tr>\n",
       "    <tr>\n",
       "      <th>1</th>\n",
       "      <td>2020-10-11</td>\n",
       "      <td>2020-10-11</td>\n",
       "      <td>ES</td>\n",
       "      <td>V1</td>\n",
       "      <td>214</td>\n",
       "      <td>1.2.840.10045.4.3.2</td>\n",
       "      <td>d128f80d-e699-a7d2-cd10-26e1f3ac5fdd</td>\n",
       "      <td>2670624</td>\n",
       "      <td>144</td>\n",
       "      <td>0</td>\n",
       "      <td>ES</td>\n",
       "    </tr>\n",
       "    <tr>\n",
       "      <th>2</th>\n",
       "      <td>2020-10-11</td>\n",
       "      <td>2020-10-11</td>\n",
       "      <td>ES</td>\n",
       "      <td>V1</td>\n",
       "      <td>214</td>\n",
       "      <td>1.2.840.10045.4.3.2</td>\n",
       "      <td>0f04bf1d-540c-5e48-59db-9817c54353ce</td>\n",
       "      <td>2670624</td>\n",
       "      <td>144</td>\n",
       "      <td>0</td>\n",
       "      <td>ES</td>\n",
       "    </tr>\n",
       "  </tbody>\n",
       "</table>\n",
       "</div>"
      ],
      "text/plain": [
       "  sample_datetime sample_date_string region verification_key_version  \\\n",
       "0      2020-10-12         2020-10-12     ES                       V1   \n",
       "1      2020-10-12         2020-10-12     ES                       V1   \n",
       "0      2020-10-11         2020-10-11     ES                       V1   \n",
       "1      2020-10-11         2020-10-11     ES                       V1   \n",
       "2      2020-10-11         2020-10-11     ES                       V1   \n",
       "\n",
       "  verification_key_id  signature_algorithm  \\\n",
       "0                 214  1.2.840.10045.4.3.2   \n",
       "1                 214  1.2.840.10045.4.3.2   \n",
       "0                 214  1.2.840.10045.4.3.2   \n",
       "1                 214  1.2.840.10045.4.3.2   \n",
       "2                 214  1.2.840.10045.4.3.2   \n",
       "\n",
       "                               key_data  rolling_start_interval_number  \\\n",
       "0  c19f0624-898b-eabe-8358-dc43c24f61bc                        2670768   \n",
       "1  64367b32-39d3-dd38-a28f-53812c0e4157                        2670768   \n",
       "0  44a77a71-dd40-21da-1aba-6292ee9f482d                        2670624   \n",
       "1  d128f80d-e699-a7d2-cd10-26e1f3ac5fdd                        2670624   \n",
       "2  0f04bf1d-540c-5e48-59db-9817c54353ce                        2670624   \n",
       "\n",
       "   rolling_period  transmission_risk_level backend_identifier  \n",
       "0             116                        0                 ES  \n",
       "1              86                        0                 ES  \n",
       "0             144                        0                 ES  \n",
       "1             144                        0                 ES  \n",
       "2             144                        0                 ES  "
      ]
     },
     "execution_count": 10,
     "metadata": {},
     "output_type": "execute_result"
    }
   ],
   "source": [
    "from Modules.ExposureNotification import exposure_notification_io\n",
    "\n",
    "raw_zip_path_prefix = \"Data/TEKs/Raw/{backend_identifier}/\"\n",
    "raw_zip_path_suffix = \"/TEKs-{backend_identifier}-{sample_date}.zip\"\n",
    "raw_zip_paths = [\n",
    "    \"Current\",\n",
    "    f\"Daily/{extraction_date}\",\n",
    "]\n",
    "raw_zip_paths = list(map(lambda x: raw_zip_path_prefix + x + raw_zip_path_suffix, raw_zip_paths))\n",
    "\n",
    "backend_identifiers = [spain_region_country_code, \"DE-ES\", \"DE-NL\", \"CH\", \"PT\"]\n",
    "fail_on_error_backend_identifiers = [spain_region_country_code]\n",
    "multi_region_exposure_keys_df = \\\n",
    "    exposure_notification_io.download_exposure_keys_from_backends(\n",
    "        days=backend_extraction_days,\n",
    "        backend_identifiers=backend_identifiers,\n",
    "        fail_on_error_backend_identifiers=fail_on_error_backend_identifiers,\n",
    "        save_raw_zip_path=raw_zip_paths)\n",
    "multi_region_exposure_keys_df[\"region\"] = multi_region_exposure_keys_df[\"backend_identifier\"]\n",
    "multi_region_exposure_keys_df.rename(\n",
    "    columns={\n",
    "        \"generation_datetime\": \"sample_datetime\",\n",
    "        \"generation_date_string\": \"sample_date_string\",\n",
    "    },\n",
    "    inplace=True)\n",
    "multi_region_exposure_keys_df.head()"
   ]
  },
  {
   "cell_type": "code",
   "execution_count": 11,
   "metadata": {
    "collapsed": false,
    "execution": {
     "iopub.execute_input": "2020-10-12T20:10:06.953427Z",
     "iopub.status.busy": "2020-10-12T20:10:06.931896Z",
     "iopub.status.idle": "2020-10-12T20:10:07.200316Z",
     "shell.execute_reply": "2020-10-12T20:10:07.201215Z"
    },
    "papermill": {
     "duration": 0.335942,
     "end_time": "2020-10-12T20:10:07.201393",
     "exception": false,
     "start_time": "2020-10-12T20:10:06.865451",
     "status": "completed"
    },
    "pycharm": {
     "name": "#%%\n"
    },
    "tags": []
   },
   "outputs": [
    {
     "data": {
      "text/plain": [
       "<matplotlib.axes._subplots.AxesSubplot at 0x7fccc469de80>"
      ]
     },
     "execution_count": 11,
     "metadata": {},
     "output_type": "execute_result"
    },
    {
     "data": {
      "image/png": "[encoded data removed]",
      "text/plain": [
       "<Figure size 1080x432 with 1 Axes>"
      ]
     },
     "metadata": {},
     "output_type": "display_data"
    }
   ],
   "source": [
    "early_teks_df = multi_region_exposure_keys_df[\n",
    "    multi_region_exposure_keys_df.rolling_period < 144].copy()\n",
    "early_teks_df[\"rolling_period_in_hours\"] = early_teks_df.rolling_period / 6\n",
    "early_teks_df[early_teks_df.sample_date_string != extraction_date] \\\n",
    "    .rolling_period_in_hours.hist(bins=list(range(24)))"
   ]
  },
  {
   "cell_type": "code",
   "execution_count": 12,
   "metadata": {
    "collapsed": false,
    "execution": {
     "iopub.execute_input": "2020-10-12T20:10:07.356090Z",
     "iopub.status.busy": "2020-10-12T20:10:07.355291Z",
     "iopub.status.idle": "2020-10-12T20:10:07.663619Z",
     "shell.execute_reply": "2020-10-12T20:10:07.664593Z"
    },
    "papermill": {
     "duration": 0.394245,
     "end_time": "2020-10-12T20:10:07.664801",
     "exception": false,
     "start_time": "2020-10-12T20:10:07.270556",
     "status": "completed"
    },
    "pycharm": {
     "name": "#%%\n"
    },
    "tags": []
   },
   "outputs": [
    {
     "data": {
      "text/plain": [
       "<matplotlib.axes._subplots.AxesSubplot at 0x7fcc87c84460>"
      ]
     },
     "execution_count": 12,
     "metadata": {},
     "output_type": "execute_result"
    },
    {
     "data": {
      "image/png": "[encoded data removed]",
      "text/plain": [
       "<Figure size 1080x432 with 1 Axes>"
      ]
     },
     "metadata": {},
     "output_type": "display_data"
    }
   ],
   "source": [
    "early_teks_df[early_teks_df.sample_date_string == extraction_date] \\\n",
    "    .rolling_period_in_hours.hist(bins=list(range(24)))"
   ]
  },
  {
   "cell_type": "code",
   "execution_count": 13,
   "metadata": {
    "collapsed": false,
    "execution": {
     "iopub.execute_input": "2020-10-12T20:10:07.813666Z",
     "iopub.status.busy": "2020-10-12T20:10:07.802186Z",
     "iopub.status.idle": "2020-10-12T20:10:07.816162Z",
     "shell.execute_reply": "2020-10-12T20:10:07.815554Z"
    },
    "papermill": {
     "duration": 0.089374,
     "end_time": "2020-10-12T20:10:07.816306",
     "exception": false,
     "start_time": "2020-10-12T20:10:07.726932",
     "status": "completed"
    },
    "pycharm": {
     "name": "#%%\n"
    },
    "tags": []
   },
   "outputs": [
    {
     "data": {
      "text/html": [
       "<div>\n",
       "<style scoped>\n",
       "    .dataframe tbody tr th:only-of-type {\n",
       "        vertical-align: middle;\n",
       "    }\n",
       "\n",
       "    .dataframe tbody tr th {\n",
       "        vertical-align: top;\n",
       "    }\n",
       "\n",
       "    .dataframe thead th {\n",
       "        text-align: right;\n",
       "    }\n",
       "</style>\n",
       "<table border=\"1\" class=\"dataframe\">\n",
       "  <thead>\n",
       "    <tr style=\"text-align: right;\">\n",
       "      <th></th>\n",
       "      <th>sample_date_string</th>\n",
       "      <th>region</th>\n",
       "      <th>key_data</th>\n",
       "    </tr>\n",
       "  </thead>\n",
       "  <tbody>\n",
       "    <tr>\n",
       "      <th>0</th>\n",
       "      <td>2020-10-12</td>\n",
       "      <td>ES</td>\n",
       "      <td>c19f0624-898b-eabe-8358-dc43c24f61bc</td>\n",
       "    </tr>\n",
       "    <tr>\n",
       "      <th>1</th>\n",
       "      <td>2020-10-12</td>\n",
       "      <td>ES</td>\n",
       "      <td>64367b32-39d3-dd38-a28f-53812c0e4157</td>\n",
       "    </tr>\n",
       "    <tr>\n",
       "      <th>0</th>\n",
       "      <td>2020-10-11</td>\n",
       "      <td>ES</td>\n",
       "      <td>44a77a71-dd40-21da-1aba-6292ee9f482d</td>\n",
       "    </tr>\n",
       "    <tr>\n",
       "      <th>1</th>\n",
       "      <td>2020-10-11</td>\n",
       "      <td>ES</td>\n",
       "      <td>d128f80d-e699-a7d2-cd10-26e1f3ac5fdd</td>\n",
       "    </tr>\n",
       "    <tr>\n",
       "      <th>2</th>\n",
       "      <td>2020-10-11</td>\n",
       "      <td>ES</td>\n",
       "      <td>0f04bf1d-540c-5e48-59db-9817c54353ce</td>\n",
       "    </tr>\n",
       "  </tbody>\n",
       "</table>\n",
       "</div>"
      ],
      "text/plain": [
       "  sample_date_string region                              key_data\n",
       "0         2020-10-12     ES  c19f0624-898b-eabe-8358-dc43c24f61bc\n",
       "1         2020-10-12     ES  64367b32-39d3-dd38-a28f-53812c0e4157\n",
       "0         2020-10-11     ES  44a77a71-dd40-21da-1aba-6292ee9f482d\n",
       "1         2020-10-11     ES  d128f80d-e699-a7d2-cd10-26e1f3ac5fdd\n",
       "2         2020-10-11     ES  0f04bf1d-540c-5e48-59db-9817c54353ce"
      ]
     },
     "execution_count": 13,
     "metadata": {},
     "output_type": "execute_result"
    }
   ],
   "source": [
    "multi_region_exposure_keys_df = multi_region_exposure_keys_df[[\n",
    "    \"sample_date_string\", \"region\", \"key_data\"]]\n",
    "multi_region_exposure_keys_df.head()"
   ]
  },
  {
   "cell_type": "code",
   "execution_count": 14,
   "metadata": {
    "collapsed": false,
    "execution": {
     "iopub.execute_input": "2020-10-12T20:10:07.949855Z",
     "iopub.status.busy": "2020-10-12T20:10:07.949212Z",
     "iopub.status.idle": "2020-10-12T20:10:08.035394Z",
     "shell.execute_reply": "2020-10-12T20:10:08.035927Z"
    },
    "papermill": {
     "duration": 0.156759,
     "end_time": "2020-10-12T20:10:08.036132",
     "exception": false,
     "start_time": "2020-10-12T20:10:07.879373",
     "status": "completed"
    },
    "pycharm": {
     "name": "#%%\n"
    },
    "tags": []
   },
   "outputs": [
    {
     "data": {
      "text/plain": [
       "['PT', 'ES', 'CH']"
      ]
     },
     "execution_count": 14,
     "metadata": {},
     "output_type": "execute_result"
    }
   ],
   "source": [
    "active_regions = \\\n",
    "    multi_region_exposure_keys_df.groupby(\"region\").key_data.nunique().sort_values().index.unique().tolist()\n",
    "active_regions"
   ]
  },
  {
   "cell_type": "code",
   "execution_count": 15,
   "metadata": {
    "collapsed": false,
    "execution": {
     "iopub.execute_input": "2020-10-12T20:10:08.171197Z",
     "iopub.status.busy": "2020-10-12T20:10:08.170518Z",
     "iopub.status.idle": "2020-10-12T20:10:08.273869Z",
     "shell.execute_reply": "2020-10-12T20:10:08.274436Z"
    },
    "papermill": {
     "duration": 0.174175,
     "end_time": "2020-10-12T20:10:08.274646",
     "exception": false,
     "start_time": "2020-10-12T20:10:08.100471",
     "status": "completed"
    },
    "pycharm": {
     "name": "#%%\n"
    },
    "tags": []
   },
   "outputs": [
    {
     "data": {
      "text/html": [
       "<div>\n",
       "<style scoped>\n",
       "    .dataframe tbody tr th:only-of-type {\n",
       "        vertical-align: middle;\n",
       "    }\n",
       "\n",
       "    .dataframe tbody tr th {\n",
       "        vertical-align: top;\n",
       "    }\n",
       "\n",
       "    .dataframe thead tr th {\n",
       "        text-align: left;\n",
       "    }\n",
       "\n",
       "    .dataframe thead tr:last-of-type th {\n",
       "        text-align: right;\n",
       "    }\n",
       "</style>\n",
       "<table border=\"1\" class=\"dataframe\">\n",
       "  <thead>\n",
       "    <tr>\n",
       "      <th></th>\n",
       "      <th colspan=\"3\" halign=\"left\">shared_teks_by_generation_date</th>\n",
       "    </tr>\n",
       "    <tr>\n",
       "      <th>region</th>\n",
       "      <th>CH</th>\n",
       "      <th>ES</th>\n",
       "      <th>PT</th>\n",
       "    </tr>\n",
       "    <tr>\n",
       "      <th>sample_date</th>\n",
       "      <th></th>\n",
       "      <th></th>\n",
       "      <th></th>\n",
       "    </tr>\n",
       "  </thead>\n",
       "  <tbody>\n",
       "    <tr>\n",
       "      <th>2020-10-12</th>\n",
       "      <td>0</td>\n",
       "      <td>2</td>\n",
       "      <td>0</td>\n",
       "    </tr>\n",
       "    <tr>\n",
       "      <th>2020-10-11</th>\n",
       "      <td>266</td>\n",
       "      <td>135</td>\n",
       "      <td>21</td>\n",
       "    </tr>\n",
       "    <tr>\n",
       "      <th>2020-10-10</th>\n",
       "      <td>469</td>\n",
       "      <td>199</td>\n",
       "      <td>29</td>\n",
       "    </tr>\n",
       "    <tr>\n",
       "      <th>2020-10-09</th>\n",
       "      <td>652</td>\n",
       "      <td>255</td>\n",
       "      <td>37</td>\n",
       "    </tr>\n",
       "    <tr>\n",
       "      <th>2020-10-08</th>\n",
       "      <td>816</td>\n",
       "      <td>285</td>\n",
       "      <td>42</td>\n",
       "    </tr>\n",
       "  </tbody>\n",
       "</table>\n",
       "</div>"
      ],
      "text/plain": [
       "            shared_teks_by_generation_date         \n",
       "region                                  CH   ES  PT\n",
       "sample_date                                        \n",
       "2020-10-12                               0    2   0\n",
       "2020-10-11                             266  135  21\n",
       "2020-10-10                             469  199  29\n",
       "2020-10-09                             652  255  37\n",
       "2020-10-08                             816  285  42"
      ]
     },
     "execution_count": 15,
     "metadata": {},
     "output_type": "execute_result"
    }
   ],
   "source": [
    "multi_region_summary_df = multi_region_exposure_keys_df.groupby(\n",
    "    [\"sample_date_string\", \"region\"]).key_data.nunique().reset_index() \\\n",
    "    .pivot(index=\"sample_date_string\", columns=\"region\") \\\n",
    "    .sort_index(ascending=False)\n",
    "multi_region_summary_df.rename(\n",
    "    columns={\"key_data\": \"shared_teks_by_generation_date\"},\n",
    "    inplace=True)\n",
    "multi_region_summary_df.rename_axis(\"sample_date\", inplace=True)\n",
    "multi_region_summary_df = multi_region_summary_df.fillna(0).astype(int)\n",
    "multi_region_summary_df = multi_region_summary_df.head(backend_extraction_days)\n",
    "multi_region_summary_df.head()"
   ]
  },
  {
   "cell_type": "code",
   "execution_count": 16,
   "metadata": {
    "collapsed": false,
    "execution": {
     "iopub.execute_input": "2020-10-12T20:10:08.412848Z",
     "iopub.status.busy": "2020-10-12T20:10:08.412194Z",
     "iopub.status.idle": "2020-10-12T20:10:08.474574Z",
     "shell.execute_reply": "2020-10-12T20:10:08.475146Z"
    },
    "papermill": {
     "duration": 0.135901,
     "end_time": "2020-10-12T20:10:08.475353",
     "exception": false,
     "start_time": "2020-10-12T20:10:08.339452",
     "status": "completed"
    },
    "pycharm": {
     "name": "#%%\n"
    },
    "tags": []
   },
   "outputs": [
    {
     "data": {
      "text/plain": [
       "['PT', 'CH']"
      ]
     },
     "execution_count": 16,
     "metadata": {},
     "output_type": "execute_result"
    }
   ],
   "source": [
    "multi_region_without_spain_exposure_keys_df = \\\n",
    "    multi_region_exposure_keys_df[multi_region_exposure_keys_df.region != spain_region_country_code]\n",
    "active_regions_excluding_spain = \\\n",
    "    multi_region_without_spain_exposure_keys_df.groupby(\"region\").key_data.nunique().sort_values().index.unique().tolist()\n",
    "active_regions_excluding_spain"
   ]
  },
  {
   "cell_type": "code",
   "execution_count": 17,
   "metadata": {
    "execution": {
     "iopub.execute_input": "2020-10-12T20:10:08.610286Z",
     "iopub.status.busy": "2020-10-12T20:10:08.609591Z",
     "iopub.status.idle": "2020-10-12T20:10:08.645039Z",
     "shell.execute_reply": "2020-10-12T20:10:08.645623Z"
    },
    "papermill": {
     "duration": 0.106204,
     "end_time": "2020-10-12T20:10:08.645833",
     "exception": false,
     "start_time": "2020-10-12T20:10:08.539629",
     "status": "completed"
    },
    "scrolled": false,
    "tags": []
   },
   "outputs": [
    {
     "name": "stderr",
     "output_type": "stream",
     "text": [
      "/opt/hostedtoolcache/Python/3.8.6/x64/lib/python3.8/site-packages/pandas/core/frame.py:4110: SettingWithCopyWarning: \n",
      "A value is trying to be set on a copy of a slice from a DataFrame\n",
      "\n",
      "See the caveats in the documentation: http://pandas.pydata.org/pandas-docs/stable/user_guide/indexing.html#returning-a-view-versus-a-copy\n",
      "  return super().drop(\n"
     ]
    },
    {
     "data": {
      "text/html": [
       "<div>\n",
       "<style scoped>\n",
       "    .dataframe tbody tr th:only-of-type {\n",
       "        vertical-align: middle;\n",
       "    }\n",
       "\n",
       "    .dataframe tbody tr th {\n",
       "        vertical-align: top;\n",
       "    }\n",
       "\n",
       "    .dataframe thead th {\n",
       "        text-align: right;\n",
       "    }\n",
       "</style>\n",
       "<table border=\"1\" class=\"dataframe\">\n",
       "  <thead>\n",
       "    <tr style=\"text-align: right;\">\n",
       "      <th></th>\n",
       "      <th>shared_teks_by_generation_date</th>\n",
       "    </tr>\n",
       "    <tr>\n",
       "      <th>sample_date_string</th>\n",
       "      <th></th>\n",
       "    </tr>\n",
       "  </thead>\n",
       "  <tbody>\n",
       "    <tr>\n",
       "      <th>2020-10-12</th>\n",
       "      <td>2</td>\n",
       "    </tr>\n",
       "    <tr>\n",
       "      <th>2020-10-11</th>\n",
       "      <td>135</td>\n",
       "    </tr>\n",
       "    <tr>\n",
       "      <th>2020-10-10</th>\n",
       "      <td>199</td>\n",
       "    </tr>\n",
       "    <tr>\n",
       "      <th>2020-10-09</th>\n",
       "      <td>255</td>\n",
       "    </tr>\n",
       "    <tr>\n",
       "      <th>2020-10-08</th>\n",
       "      <td>285</td>\n",
       "    </tr>\n",
       "  </tbody>\n",
       "</table>\n",
       "</div>"
      ],
      "text/plain": [
       "                    shared_teks_by_generation_date\n",
       "sample_date_string                                \n",
       "2020-10-12                                       2\n",
       "2020-10-11                                     135\n",
       "2020-10-10                                     199\n",
       "2020-10-09                                     255\n",
       "2020-10-08                                     285"
      ]
     },
     "execution_count": 17,
     "metadata": {},
     "output_type": "execute_result"
    }
   ],
   "source": [
    "exposure_keys_summary_df = multi_region_exposure_keys_df[\n",
    "    multi_region_exposure_keys_df.region == spain_region_country_code]\n",
    "exposure_keys_summary_df.drop(columns=[\"region\"], inplace=True)\n",
    "exposure_keys_summary_df = \\\n",
    "    exposure_keys_summary_df.groupby([\"sample_date_string\"]).key_data.nunique().to_frame()\n",
    "exposure_keys_summary_df = \\\n",
    "    exposure_keys_summary_df.reset_index().set_index(\"sample_date_string\")\n",
    "exposure_keys_summary_df.sort_index(ascending=False, inplace=True)\n",
    "exposure_keys_summary_df.rename(columns={\"key_data\": \"shared_teks_by_generation_date\"}, inplace=True)\n",
    "exposure_keys_summary_df.head()"
   ]
  },
  {
   "cell_type": "markdown",
   "metadata": {
    "papermill": {
     "duration": 0.062528,
     "end_time": "2020-10-12T20:10:08.777084",
     "exception": false,
     "start_time": "2020-10-12T20:10:08.714556",
     "status": "completed"
    },
    "tags": []
   },
   "source": [
    "### Dump API TEKs"
   ]
  },
  {
   "cell_type": "code",
   "execution_count": 18,
   "metadata": {
    "execution": {
     "iopub.execute_input": "2020-10-12T20:10:08.926527Z",
     "iopub.status.busy": "2020-10-12T20:10:08.925851Z",
     "iopub.status.idle": "2020-10-12T20:10:09.023387Z",
     "shell.execute_reply": "2020-10-12T20:10:09.023944Z"
    },
    "papermill": {
     "duration": 0.173234,
     "end_time": "2020-10-12T20:10:09.024172",
     "exception": false,
     "start_time": "2020-10-12T20:10:08.850938",
     "status": "completed"
    },
    "tags": []
   },
   "outputs": [
    {
     "data": {
      "text/html": [
       "<div>\n",
       "<style scoped>\n",
       "    .dataframe tbody tr th:only-of-type {\n",
       "        vertical-align: middle;\n",
       "    }\n",
       "\n",
       "    .dataframe tbody tr th {\n",
       "        vertical-align: top;\n",
       "    }\n",
       "\n",
       "    .dataframe thead th {\n",
       "        text-align: right;\n",
       "    }\n",
       "</style>\n",
       "<table border=\"1\" class=\"dataframe\">\n",
       "  <thead>\n",
       "    <tr style=\"text-align: right;\">\n",
       "      <th></th>\n",
       "      <th>sample_date</th>\n",
       "      <th>region</th>\n",
       "      <th>tek_list</th>\n",
       "      <th>extraction_date</th>\n",
       "      <th>extraction_date_with_hour</th>\n",
       "    </tr>\n",
       "  </thead>\n",
       "  <tbody>\n",
       "    <tr>\n",
       "      <th>0</th>\n",
       "      <td>2020-09-29</td>\n",
       "      <td>CH</td>\n",
       "      <td>[de1e2a7f-1457-1bb4-8d9d-84cb4df5713f, 443ccca...</td>\n",
       "      <td>2020-10-12</td>\n",
       "      <td>2020-10-12@20</td>\n",
       "    </tr>\n",
       "    <tr>\n",
       "      <th>1</th>\n",
       "      <td>2020-09-29</td>\n",
       "      <td>ES</td>\n",
       "      <td>[56a6e90b-34e2-a0fb-686f-d13a217d81f1, 90da4d2...</td>\n",
       "      <td>2020-10-12</td>\n",
       "      <td>2020-10-12@20</td>\n",
       "    </tr>\n",
       "    <tr>\n",
       "      <th>2</th>\n",
       "      <td>2020-09-29</td>\n",
       "      <td>PT</td>\n",
       "      <td>[44c38710-c37a-0d02-14db-86c135076600, e00b885...</td>\n",
       "      <td>2020-10-12</td>\n",
       "      <td>2020-10-12@20</td>\n",
       "    </tr>\n",
       "    <tr>\n",
       "      <th>3</th>\n",
       "      <td>2020-09-30</td>\n",
       "      <td>CH</td>\n",
       "      <td>[3651e0f5-6e5b-dad3-00dc-8135b7aafc0d, 9d1e119...</td>\n",
       "      <td>2020-10-12</td>\n",
       "      <td>2020-10-12@20</td>\n",
       "    </tr>\n",
       "    <tr>\n",
       "      <th>4</th>\n",
       "      <td>2020-09-30</td>\n",
       "      <td>ES</td>\n",
       "      <td>[d5c32461-c8d1-9bf1-13f1-30c574eff3a4, b1300d1...</td>\n",
       "      <td>2020-10-12</td>\n",
       "      <td>2020-10-12@20</td>\n",
       "    </tr>\n",
       "  </tbody>\n",
       "</table>\n",
       "</div>"
      ],
      "text/plain": [
       "  sample_date region                                           tek_list  \\\n",
       "0  2020-09-29     CH  [de1e2a7f-1457-1bb4-8d9d-84cb4df5713f, 443ccca...   \n",
       "1  2020-09-29     ES  [56a6e90b-34e2-a0fb-686f-d13a217d81f1, 90da4d2...   \n",
       "2  2020-09-29     PT  [44c38710-c37a-0d02-14db-86c135076600, e00b885...   \n",
       "3  2020-09-30     CH  [3651e0f5-6e5b-dad3-00dc-8135b7aafc0d, 9d1e119...   \n",
       "4  2020-09-30     ES  [d5c32461-c8d1-9bf1-13f1-30c574eff3a4, b1300d1...   \n",
       "\n",
       "  extraction_date extraction_date_with_hour  \n",
       "0      2020-10-12             2020-10-12@20  \n",
       "1      2020-10-12             2020-10-12@20  \n",
       "2      2020-10-12             2020-10-12@20  \n",
       "3      2020-10-12             2020-10-12@20  \n",
       "4      2020-10-12             2020-10-12@20  "
      ]
     },
     "execution_count": 18,
     "metadata": {},
     "output_type": "execute_result"
    }
   ],
   "source": [
    "tek_list_df = multi_region_exposure_keys_df[\n",
    "    [\"sample_date_string\", \"region\", \"key_data\"]].copy()\n",
    "tek_list_df[\"key_data\"] = tek_list_df[\"key_data\"].apply(str)\n",
    "tek_list_df.rename(columns={\n",
    "    \"sample_date_string\": \"sample_date\",\n",
    "    \"key_data\": \"tek_list\"}, inplace=True)\n",
    "tek_list_df = tek_list_df.groupby(\n",
    "    [\"sample_date\", \"region\"]).tek_list.unique().reset_index()\n",
    "tek_list_df[\"extraction_date\"] = extraction_date\n",
    "tek_list_df[\"extraction_date_with_hour\"] = extraction_date_with_hour\n",
    "\n",
    "tek_list_path_prefix = \"Data/TEKs/\"\n",
    "tek_list_current_path = tek_list_path_prefix + f\"/Current/RadarCOVID-TEKs.json\"\n",
    "tek_list_daily_path = tek_list_path_prefix + f\"Daily/RadarCOVID-TEKs-{extraction_date}.json\"\n",
    "tek_list_hourly_path = tek_list_path_prefix + f\"Hourly/RadarCOVID-TEKs-{extraction_date_with_hour}.json\"\n",
    "\n",
    "for path in [tek_list_current_path, tek_list_daily_path, tek_list_hourly_path]:\n",
    "    os.makedirs(os.path.dirname(path), exist_ok=True)\n",
    "\n",
    "tek_list_df.drop(columns=[\"extraction_date\", \"extraction_date_with_hour\"]).to_json(\n",
    "    tek_list_current_path,\n",
    "    lines=True, orient=\"records\")\n",
    "tek_list_df.drop(columns=[\"extraction_date_with_hour\"]).to_json(\n",
    "    tek_list_daily_path,\n",
    "    lines=True, orient=\"records\")\n",
    "tek_list_df.to_json(\n",
    "    tek_list_hourly_path,\n",
    "    lines=True, orient=\"records\")\n",
    "tek_list_df.head()"
   ]
  },
  {
   "cell_type": "markdown",
   "metadata": {
    "papermill": {
     "duration": 0.065158,
     "end_time": "2020-10-12T20:10:09.156057",
     "exception": false,
     "start_time": "2020-10-12T20:10:09.090899",
     "status": "completed"
    },
    "tags": []
   },
   "source": [
    "### Load TEK Dumps"
   ]
  },
  {
   "cell_type": "code",
   "execution_count": 19,
   "metadata": {
    "execution": {
     "iopub.execute_input": "2020-10-12T20:10:09.291586Z",
     "iopub.status.busy": "2020-10-12T20:10:09.290914Z",
     "iopub.status.idle": "2020-10-12T20:10:09.293275Z",
     "shell.execute_reply": "2020-10-12T20:10:09.293913Z"
    },
    "papermill": {
     "duration": 0.073492,
     "end_time": "2020-10-12T20:10:09.294084",
     "exception": false,
     "start_time": "2020-10-12T20:10:09.220592",
     "status": "completed"
    },
    "tags": []
   },
   "outputs": [],
   "source": [
    "import glob\n",
    "\n",
    "def load_extracted_teks(mode, region=None, limit=None) -> pd.DataFrame:\n",
    "    extracted_teks_df = pd.DataFrame(columns=[\"region\"])\n",
    "    paths = list(reversed(sorted(glob.glob(tek_list_path_prefix + mode + \"/RadarCOVID-TEKs-*.json\"))))\n",
    "    if limit:\n",
    "        paths = paths[:limit]\n",
    "    for path in paths:\n",
    "        logging.info(f\"Loading TEKs from '{path}'...\")\n",
    "        iteration_extracted_teks_df = pd.read_json(path, lines=True)\n",
    "        extracted_teks_df = extracted_teks_df.append(\n",
    "            iteration_extracted_teks_df, sort=False)\n",
    "    extracted_teks_df[\"region\"] = \\\n",
    "        extracted_teks_df.region.fillna(spain_region_country_code).copy()\n",
    "    if region:\n",
    "        extracted_teks_df = \\\n",
    "            extracted_teks_df[extracted_teks_df.region == region]\n",
    "    return extracted_teks_df"
   ]
  },
  {
   "cell_type": "code",
   "execution_count": 20,
   "metadata": {
    "collapsed": false,
    "execution": {
     "iopub.execute_input": "2020-10-12T20:10:09.434786Z",
     "iopub.status.busy": "2020-10-12T20:10:09.434150Z",
     "iopub.status.idle": "2020-10-12T20:10:09.751033Z",
     "shell.execute_reply": "2020-10-12T20:10:09.751645Z"
    },
    "papermill": {
     "duration": 0.391537,
     "end_time": "2020-10-12T20:10:09.751858",
     "exception": false,
     "start_time": "2020-10-12T20:10:09.360321",
     "status": "completed"
    },
    "pycharm": {
     "name": "#%%\n"
    },
    "tags": []
   },
   "outputs": [
    {
     "data": {
      "text/html": [
       "<div>\n",
       "<style scoped>\n",
       "    .dataframe tbody tr th:only-of-type {\n",
       "        vertical-align: middle;\n",
       "    }\n",
       "\n",
       "    .dataframe tbody tr th {\n",
       "        vertical-align: top;\n",
       "    }\n",
       "\n",
       "    .dataframe thead th {\n",
       "        text-align: right;\n",
       "    }\n",
       "</style>\n",
       "<table border=\"1\" class=\"dataframe\">\n",
       "  <thead>\n",
       "    <tr style=\"text-align: right;\">\n",
       "      <th></th>\n",
       "      <th>region</th>\n",
       "      <th>sample_date</th>\n",
       "      <th>tek_list</th>\n",
       "      <th>extraction_date</th>\n",
       "      <th>extraction_date_with_hour</th>\n",
       "    </tr>\n",
       "  </thead>\n",
       "  <tbody>\n",
       "    <tr>\n",
       "      <th>1</th>\n",
       "      <td>ES</td>\n",
       "      <td>2020-09-29</td>\n",
       "      <td>[56a6e90b-34e2-a0fb-686f-d13a217d81f1, 90da4d2...</td>\n",
       "      <td>2020-10-12</td>\n",
       "      <td>NaN</td>\n",
       "    </tr>\n",
       "    <tr>\n",
       "      <th>4</th>\n",
       "      <td>ES</td>\n",
       "      <td>2020-09-30</td>\n",
       "      <td>[d5c32461-c8d1-9bf1-13f1-30c574eff3a4, b1300d1...</td>\n",
       "      <td>2020-10-12</td>\n",
       "      <td>NaN</td>\n",
       "    </tr>\n",
       "    <tr>\n",
       "      <th>7</th>\n",
       "      <td>ES</td>\n",
       "      <td>2020-10-01</td>\n",
       "      <td>[a651de0a-fa37-9246-86d2-db8f2528d4d6, 3e8815b...</td>\n",
       "      <td>2020-10-12</td>\n",
       "      <td>NaN</td>\n",
       "    </tr>\n",
       "    <tr>\n",
       "      <th>10</th>\n",
       "      <td>ES</td>\n",
       "      <td>2020-10-02</td>\n",
       "      <td>[c67a952d-6379-d25d-a2fc-79b6259a8f33, 025e88d...</td>\n",
       "      <td>2020-10-12</td>\n",
       "      <td>NaN</td>\n",
       "    </tr>\n",
       "    <tr>\n",
       "      <th>13</th>\n",
       "      <td>ES</td>\n",
       "      <td>2020-10-03</td>\n",
       "      <td>[cdedec64-ddf9-b026-6500-453aee74eecf, fad1e68...</td>\n",
       "      <td>2020-10-12</td>\n",
       "      <td>NaN</td>\n",
       "    </tr>\n",
       "  </tbody>\n",
       "</table>\n",
       "</div>"
      ],
      "text/plain": [
       "   region sample_date                                           tek_list  \\\n",
       "1      ES  2020-09-29  [56a6e90b-34e2-a0fb-686f-d13a217d81f1, 90da4d2...   \n",
       "4      ES  2020-09-30  [d5c32461-c8d1-9bf1-13f1-30c574eff3a4, b1300d1...   \n",
       "7      ES  2020-10-01  [a651de0a-fa37-9246-86d2-db8f2528d4d6, 3e8815b...   \n",
       "10     ES  2020-10-02  [c67a952d-6379-d25d-a2fc-79b6259a8f33, 025e88d...   \n",
       "13     ES  2020-10-03  [cdedec64-ddf9-b026-6500-453aee74eecf, fad1e68...   \n",
       "\n",
       "   extraction_date extraction_date_with_hour  \n",
       "1       2020-10-12                       NaN  \n",
       "4       2020-10-12                       NaN  \n",
       "7       2020-10-12                       NaN  \n",
       "10      2020-10-12                       NaN  \n",
       "13      2020-10-12                       NaN  "
      ]
     },
     "execution_count": 20,
     "metadata": {},
     "output_type": "execute_result"
    }
   ],
   "source": [
    "daily_extracted_teks_df = load_extracted_teks(\n",
    "    mode=\"Daily\",\n",
    "    region=spain_region_country_code,\n",
    "    limit=tek_dumps_load_limit)\n",
    "daily_extracted_teks_df.head()"
   ]
  },
  {
   "cell_type": "code",
   "execution_count": 21,
   "metadata": {
    "collapsed": false,
    "execution": {
     "iopub.execute_input": "2020-10-12T20:10:09.891234Z",
     "iopub.status.busy": "2020-10-12T20:10:09.890522Z",
     "iopub.status.idle": "2020-10-12T20:10:09.902827Z",
     "shell.execute_reply": "2020-10-12T20:10:09.902215Z"
    },
    "papermill": {
     "duration": 0.084612,
     "end_time": "2020-10-12T20:10:09.902975",
     "exception": false,
     "start_time": "2020-10-12T20:10:09.818363",
     "status": "completed"
    },
    "pycharm": {
     "name": "#%%\n"
    },
    "tags": []
   },
   "outputs": [
    {
     "data": {
      "text/html": [
       "<div>\n",
       "<style scoped>\n",
       "    .dataframe tbody tr th:only-of-type {\n",
       "        vertical-align: middle;\n",
       "    }\n",
       "\n",
       "    .dataframe tbody tr th {\n",
       "        vertical-align: top;\n",
       "    }\n",
       "\n",
       "    .dataframe thead th {\n",
       "        text-align: right;\n",
       "    }\n",
       "</style>\n",
       "<table border=\"1\" class=\"dataframe\">\n",
       "  <thead>\n",
       "    <tr style=\"text-align: right;\">\n",
       "      <th></th>\n",
       "      <th>shared_teks_by_generation_date</th>\n",
       "    </tr>\n",
       "    <tr>\n",
       "      <th>sample_date_string</th>\n",
       "      <th></th>\n",
       "    </tr>\n",
       "  </thead>\n",
       "  <tbody>\n",
       "    <tr>\n",
       "      <th>2020-10-12</th>\n",
       "      <td>2</td>\n",
       "    </tr>\n",
       "    <tr>\n",
       "      <th>2020-10-11</th>\n",
       "      <td>135</td>\n",
       "    </tr>\n",
       "    <tr>\n",
       "      <th>2020-10-10</th>\n",
       "      <td>199</td>\n",
       "    </tr>\n",
       "    <tr>\n",
       "      <th>2020-10-09</th>\n",
       "      <td>255</td>\n",
       "    </tr>\n",
       "    <tr>\n",
       "      <th>2020-10-08</th>\n",
       "      <td>285</td>\n",
       "    </tr>\n",
       "  </tbody>\n",
       "</table>\n",
       "</div>"
      ],
      "text/plain": [
       "                    shared_teks_by_generation_date\n",
       "sample_date_string                                \n",
       "2020-10-12                                       2\n",
       "2020-10-11                                     135\n",
       "2020-10-10                                     199\n",
       "2020-10-09                                     255\n",
       "2020-10-08                                     285"
      ]
     },
     "execution_count": 21,
     "metadata": {},
     "output_type": "execute_result"
    }
   ],
   "source": [
    "exposure_keys_summary_df_ = daily_extracted_teks_df \\\n",
    "    .sort_values(\"extraction_date\", ascending=False) \\\n",
    "    .groupby(\"sample_date\").tek_list.first() \\\n",
    "    .to_frame()\n",
    "exposure_keys_summary_df_.index.name = \"sample_date_string\"\n",
    "exposure_keys_summary_df_[\"tek_list\"] = \\\n",
    "    exposure_keys_summary_df_.tek_list.apply(len)\n",
    "exposure_keys_summary_df_ = exposure_keys_summary_df_ \\\n",
    "    .rename(columns={\"tek_list\": \"shared_teks_by_generation_date\"}) \\\n",
    "    .sort_index(ascending=False)\n",
    "exposure_keys_summary_df = exposure_keys_summary_df_\n",
    "exposure_keys_summary_df.head()"
   ]
  },
  {
   "cell_type": "markdown",
   "metadata": {
    "execution": {
     "iopub.execute_input": "2020-08-30T22:30:16.632967Z",
     "iopub.status.busy": "2020-08-30T22:30:16.632308Z",
     "iopub.status.idle": "2020-08-30T22:30:16.634945Z",
     "shell.execute_reply": "2020-08-30T22:30:16.635575Z"
    },
    "papermill": {
     "duration": 0.064087,
     "end_time": "2020-10-12T20:10:10.032639",
     "exception": false,
     "start_time": "2020-10-12T20:10:09.968552",
     "status": "completed"
    },
    "pycharm": {
     "name": "#%% md\n"
    },
    "tags": []
   },
   "source": [
    "### Daily New TEKs"
   ]
  },
  {
   "cell_type": "code",
   "execution_count": 22,
   "metadata": {
    "execution": {
     "iopub.execute_input": "2020-10-12T20:10:10.172618Z",
     "iopub.status.busy": "2020-10-12T20:10:10.171953Z",
     "iopub.status.idle": "2020-10-12T20:10:10.206747Z",
     "shell.execute_reply": "2020-10-12T20:10:10.206029Z"
    },
    "papermill": {
     "duration": 0.104517,
     "end_time": "2020-10-12T20:10:10.206911",
     "exception": false,
     "start_time": "2020-10-12T20:10:10.102394",
     "status": "completed"
    },
    "tags": []
   },
   "outputs": [
    {
     "data": {
      "text/html": [
       "<div>\n",
       "<style scoped>\n",
       "    .dataframe tbody tr th:only-of-type {\n",
       "        vertical-align: middle;\n",
       "    }\n",
       "\n",
       "    .dataframe tbody tr th {\n",
       "        vertical-align: top;\n",
       "    }\n",
       "\n",
       "    .dataframe thead th {\n",
       "        text-align: right;\n",
       "    }\n",
       "</style>\n",
       "<table border=\"1\" class=\"dataframe\">\n",
       "  <thead>\n",
       "    <tr style=\"text-align: right;\">\n",
       "      <th></th>\n",
       "      <th>tek_list</th>\n",
       "    </tr>\n",
       "    <tr>\n",
       "      <th>extraction_date</th>\n",
       "      <th></th>\n",
       "    </tr>\n",
       "  </thead>\n",
       "  <tbody>\n",
       "    <tr>\n",
       "      <th>2020-08-29</th>\n",
       "      <td>{beff7159-b6d2-f491-454c-78ed3d82a11b, 1fdae65...</td>\n",
       "    </tr>\n",
       "    <tr>\n",
       "      <th>2020-08-30</th>\n",
       "      <td>{beff7159-b6d2-f491-454c-78ed3d82a11b, 1fdae65...</td>\n",
       "    </tr>\n",
       "    <tr>\n",
       "      <th>2020-08-31</th>\n",
       "      <td>{beff7159-b6d2-f491-454c-78ed3d82a11b, 1fdae65...</td>\n",
       "    </tr>\n",
       "    <tr>\n",
       "      <th>2020-09-01</th>\n",
       "      <td>{beff7159-b6d2-f491-454c-78ed3d82a11b, 1fdae65...</td>\n",
       "    </tr>\n",
       "    <tr>\n",
       "      <th>2020-09-02</th>\n",
       "      <td>{beff7159-b6d2-f491-454c-78ed3d82a11b, 1fdae65...</td>\n",
       "    </tr>\n",
       "  </tbody>\n",
       "</table>\n",
       "</div>"
      ],
      "text/plain": [
       "                                                          tek_list\n",
       "extraction_date                                                   \n",
       "2020-08-29       {beff7159-b6d2-f491-454c-78ed3d82a11b, 1fdae65...\n",
       "2020-08-30       {beff7159-b6d2-f491-454c-78ed3d82a11b, 1fdae65...\n",
       "2020-08-31       {beff7159-b6d2-f491-454c-78ed3d82a11b, 1fdae65...\n",
       "2020-09-01       {beff7159-b6d2-f491-454c-78ed3d82a11b, 1fdae65...\n",
       "2020-09-02       {beff7159-b6d2-f491-454c-78ed3d82a11b, 1fdae65..."
      ]
     },
     "execution_count": 22,
     "metadata": {},
     "output_type": "execute_result"
    }
   ],
   "source": [
    "tek_list_df = daily_extracted_teks_df.groupby(\"extraction_date\").tek_list.apply(\n",
    "    lambda x: set(sum(x, []))).reset_index()\n",
    "tek_list_df = tek_list_df.set_index(\"extraction_date\").sort_index(ascending=True)\n",
    "tek_list_df.head()"
   ]
  },
  {
   "cell_type": "code",
   "execution_count": 23,
   "metadata": {
    "collapsed": false,
    "execution": {
     "iopub.execute_input": "2020-10-12T20:10:10.356599Z",
     "iopub.status.busy": "2020-10-12T20:10:10.351465Z",
     "iopub.status.idle": "2020-10-12T20:10:11.023668Z",
     "shell.execute_reply": "2020-10-12T20:10:11.023104Z"
    },
    "papermill": {
     "duration": 0.749589,
     "end_time": "2020-10-12T20:10:11.023817",
     "exception": false,
     "start_time": "2020-10-12T20:10:10.274228",
     "status": "completed"
    },
    "pycharm": {
     "name": "#%%\n"
    },
    "tags": []
   },
   "outputs": [
    {
     "name": "stderr",
     "output_type": "stream",
     "text": [
      "<ipython-input-23-827222b35590>:4: FutureWarning: `item` has been deprecated and will be removed in a future version\n",
      "  day_new_teks_set = day_new_teks_set_df[\n"
     ]
    },
    {
     "data": {
      "text/html": [
       "<div>\n",
       "<style scoped>\n",
       "    .dataframe tbody tr th:only-of-type {\n",
       "        vertical-align: middle;\n",
       "    }\n",
       "\n",
       "    .dataframe tbody tr th {\n",
       "        vertical-align: top;\n",
       "    }\n",
       "\n",
       "    .dataframe thead th {\n",
       "        text-align: right;\n",
       "    }\n",
       "</style>\n",
       "<table border=\"1\" class=\"dataframe\">\n",
       "  <thead>\n",
       "    <tr style=\"text-align: right;\">\n",
       "      <th></th>\n",
       "      <th>upload_date</th>\n",
       "      <th>generation_date</th>\n",
       "      <th>shared_teks</th>\n",
       "      <th>generation_to_upload_days</th>\n",
       "    </tr>\n",
       "  </thead>\n",
       "  <tbody>\n",
       "    <tr>\n",
       "      <th>10</th>\n",
       "      <td>2020-08-30</td>\n",
       "      <td>2020-08-29</td>\n",
       "      <td>16</td>\n",
       "      <td>1</td>\n",
       "    </tr>\n",
       "    <tr>\n",
       "      <th>9</th>\n",
       "      <td>2020-08-30</td>\n",
       "      <td>2020-08-28</td>\n",
       "      <td>5</td>\n",
       "      <td>2</td>\n",
       "    </tr>\n",
       "    <tr>\n",
       "      <th>8</th>\n",
       "      <td>2020-08-30</td>\n",
       "      <td>2020-08-27</td>\n",
       "      <td>3</td>\n",
       "      <td>3</td>\n",
       "    </tr>\n",
       "    <tr>\n",
       "      <th>7</th>\n",
       "      <td>2020-08-30</td>\n",
       "      <td>2020-08-26</td>\n",
       "      <td>3</td>\n",
       "      <td>4</td>\n",
       "    </tr>\n",
       "    <tr>\n",
       "      <th>6</th>\n",
       "      <td>2020-08-30</td>\n",
       "      <td>2020-08-25</td>\n",
       "      <td>2</td>\n",
       "      <td>5</td>\n",
       "    </tr>\n",
       "  </tbody>\n",
       "</table>\n",
       "</div>"
      ],
      "text/plain": [
       "   upload_date generation_date  shared_teks  generation_to_upload_days\n",
       "10  2020-08-30      2020-08-29           16                          1\n",
       "9   2020-08-30      2020-08-28            5                          2\n",
       "8   2020-08-30      2020-08-27            3                          3\n",
       "7   2020-08-30      2020-08-26            3                          4\n",
       "6   2020-08-30      2020-08-25            2                          5"
      ]
     },
     "execution_count": 23,
     "metadata": {},
     "output_type": "execute_result"
    }
   ],
   "source": [
    "def compute_teks_by_generation_and_upload_date(date):\n",
    "    day_new_teks_set_df = tek_list_df.copy().diff()\n",
    "    try:\n",
    "        day_new_teks_set = day_new_teks_set_df[\n",
    "            day_new_teks_set_df.index == date].tek_list.item()\n",
    "    except ValueError:\n",
    "        day_new_teks_set = None\n",
    "    if pd.isna(day_new_teks_set):\n",
    "        day_new_teks_set = set()\n",
    "    day_new_teks_df = daily_extracted_teks_df[\n",
    "        daily_extracted_teks_df.extraction_date == date].copy()\n",
    "    day_new_teks_df[\"shared_teks\"] = \\\n",
    "        day_new_teks_df.tek_list.apply(lambda x: set(x).intersection(day_new_teks_set))\n",
    "    day_new_teks_df[\"shared_teks\"] = \\\n",
    "        day_new_teks_df.shared_teks.apply(len)\n",
    "    day_new_teks_df[\"upload_date\"] = date\n",
    "    day_new_teks_df.rename(columns={\"sample_date\": \"generation_date\"}, inplace=True)\n",
    "    day_new_teks_df = day_new_teks_df[\n",
    "        [\"upload_date\", \"generation_date\", \"shared_teks\"]]\n",
    "    day_new_teks_df[\"generation_to_upload_days\"] = \\\n",
    "        (pd.to_datetime(day_new_teks_df.upload_date) -\n",
    "         pd.to_datetime(day_new_teks_df.generation_date)).dt.days\n",
    "    day_new_teks_df = day_new_teks_df[day_new_teks_df.shared_teks > 0]\n",
    "    return day_new_teks_df\n",
    "\n",
    "shared_teks_generation_to_upload_df = pd.DataFrame()\n",
    "for upload_date in daily_extracted_teks_df.extraction_date.unique():\n",
    "    shared_teks_generation_to_upload_df = \\\n",
    "        shared_teks_generation_to_upload_df.append(\n",
    "            compute_teks_by_generation_and_upload_date(date=upload_date))\n",
    "shared_teks_generation_to_upload_df \\\n",
    "    .sort_values([\"upload_date\", \"generation_date\"], ascending=False, inplace=True)\n",
    "shared_teks_generation_to_upload_df.tail()"
   ]
  },
  {
   "cell_type": "code",
   "execution_count": 24,
   "metadata": {
    "collapsed": false,
    "execution": {
     "iopub.execute_input": "2020-10-12T20:10:11.168201Z",
     "iopub.status.busy": "2020-10-12T20:10:11.167079Z",
     "iopub.status.idle": "2020-10-12T20:10:11.171245Z",
     "shell.execute_reply": "2020-10-12T20:10:11.171775Z"
    },
    "papermill": {
     "duration": 0.081411,
     "end_time": "2020-10-12T20:10:11.171965",
     "exception": false,
     "start_time": "2020-10-12T20:10:11.090554",
     "status": "completed"
    },
    "pycharm": {
     "name": "#%%\n"
    },
    "tags": []
   },
   "outputs": [
    {
     "data": {
      "text/html": [
       "<div>\n",
       "<style scoped>\n",
       "    .dataframe tbody tr th:only-of-type {\n",
       "        vertical-align: middle;\n",
       "    }\n",
       "\n",
       "    .dataframe tbody tr th {\n",
       "        vertical-align: top;\n",
       "    }\n",
       "\n",
       "    .dataframe thead th {\n",
       "        text-align: right;\n",
       "    }\n",
       "</style>\n",
       "<table border=\"1\" class=\"dataframe\">\n",
       "  <thead>\n",
       "    <tr style=\"text-align: right;\">\n",
       "      <th></th>\n",
       "      <th>upload_date</th>\n",
       "      <th>generation_date</th>\n",
       "      <th>shared_teks</th>\n",
       "      <th>generation_to_upload_days</th>\n",
       "    </tr>\n",
       "  </thead>\n",
       "  <tbody>\n",
       "    <tr>\n",
       "      <th>19</th>\n",
       "      <td>2020-10-12</td>\n",
       "      <td>2020-10-05</td>\n",
       "      <td>11</td>\n",
       "      <td>7</td>\n",
       "    </tr>\n",
       "    <tr>\n",
       "      <th>16</th>\n",
       "      <td>2020-10-12</td>\n",
       "      <td>2020-10-04</td>\n",
       "      <td>5</td>\n",
       "      <td>8</td>\n",
       "    </tr>\n",
       "    <tr>\n",
       "      <th>13</th>\n",
       "      <td>2020-10-12</td>\n",
       "      <td>2020-10-03</td>\n",
       "      <td>2</td>\n",
       "      <td>9</td>\n",
       "    </tr>\n",
       "    <tr>\n",
       "      <th>10</th>\n",
       "      <td>2020-10-12</td>\n",
       "      <td>2020-10-02</td>\n",
       "      <td>2</td>\n",
       "      <td>10</td>\n",
       "    </tr>\n",
       "    <tr>\n",
       "      <th>7</th>\n",
       "      <td>2020-10-12</td>\n",
       "      <td>2020-10-01</td>\n",
       "      <td>1</td>\n",
       "      <td>11</td>\n",
       "    </tr>\n",
       "  </tbody>\n",
       "</table>\n",
       "</div>"
      ],
      "text/plain": [
       "   upload_date generation_date  shared_teks  generation_to_upload_days\n",
       "19  2020-10-12      2020-10-05           11                          7\n",
       "16  2020-10-12      2020-10-04            5                          8\n",
       "13  2020-10-12      2020-10-03            2                          9\n",
       "10  2020-10-12      2020-10-02            2                         10\n",
       "7   2020-10-12      2020-10-01            1                         11"
      ]
     },
     "execution_count": 24,
     "metadata": {},
     "output_type": "execute_result"
    }
   ],
   "source": [
    "today_new_teks_df = \\\n",
    "    shared_teks_generation_to_upload_df[\n",
    "        shared_teks_generation_to_upload_df.upload_date == extraction_date].copy()\n",
    "today_new_teks_df.tail()"
   ]
  },
  {
   "cell_type": "code",
   "execution_count": 25,
   "metadata": {
    "collapsed": false,
    "execution": {
     "iopub.execute_input": "2020-10-12T20:10:11.320574Z",
     "iopub.status.busy": "2020-10-12T20:10:11.319854Z",
     "iopub.status.idle": "2020-10-12T20:10:11.576358Z",
     "shell.execute_reply": "2020-10-12T20:10:11.576996Z"
    },
    "papermill": {
     "duration": 0.338928,
     "end_time": "2020-10-12T20:10:11.577167",
     "exception": false,
     "start_time": "2020-10-12T20:10:11.238239",
     "status": "completed"
    },
    "pycharm": {
     "name": "#%%\n"
    },
    "tags": []
   },
   "outputs": [
    {
     "data": {
      "image/png": "[encoded data removed]",
      "text/plain": [
       "<Figure size 1080x432 with 1 Axes>"
      ]
     },
     "metadata": {},
     "output_type": "display_data"
    }
   ],
   "source": [
    "if not today_new_teks_df.empty:\n",
    "    today_new_teks_df.set_index(\"generation_to_upload_days\") \\\n",
    "        .sort_index().shared_teks.plot.bar()"
   ]
  },
  {
   "cell_type": "code",
   "execution_count": 26,
   "metadata": {
    "collapsed": false,
    "execution": {
     "iopub.execute_input": "2020-10-12T20:10:11.723850Z",
     "iopub.status.busy": "2020-10-12T20:10:11.723131Z",
     "iopub.status.idle": "2020-10-12T20:10:11.740553Z",
     "shell.execute_reply": "2020-10-12T20:10:11.741153Z"
    },
    "papermill": {
     "duration": 0.096705,
     "end_time": "2020-10-12T20:10:11.741345",
     "exception": false,
     "start_time": "2020-10-12T20:10:11.644640",
     "status": "completed"
    },
    "pycharm": {
     "name": "#%%\n"
    },
    "tags": []
   },
   "outputs": [
    {
     "data": {
      "text/html": [
       "<div>\n",
       "<style scoped>\n",
       "    .dataframe tbody tr th:only-of-type {\n",
       "        vertical-align: middle;\n",
       "    }\n",
       "\n",
       "    .dataframe tbody tr th {\n",
       "        vertical-align: top;\n",
       "    }\n",
       "\n",
       "    .dataframe thead th {\n",
       "        text-align: right;\n",
       "    }\n",
       "</style>\n",
       "<table border=\"1\" class=\"dataframe\">\n",
       "  <thead>\n",
       "    <tr style=\"text-align: right;\">\n",
       "      <th>generation_to_upload_days</th>\n",
       "      <th>0</th>\n",
       "      <th>1</th>\n",
       "      <th>2</th>\n",
       "      <th>3</th>\n",
       "      <th>4</th>\n",
       "      <th>5</th>\n",
       "      <th>6</th>\n",
       "      <th>7</th>\n",
       "      <th>8</th>\n",
       "      <th>9</th>\n",
       "      <th>10</th>\n",
       "      <th>11</th>\n",
       "      <th>12</th>\n",
       "      <th>13</th>\n",
       "    </tr>\n",
       "    <tr>\n",
       "      <th>upload_date</th>\n",
       "      <th></th>\n",
       "      <th></th>\n",
       "      <th></th>\n",
       "      <th></th>\n",
       "      <th></th>\n",
       "      <th></th>\n",
       "      <th></th>\n",
       "      <th></th>\n",
       "      <th></th>\n",
       "      <th></th>\n",
       "      <th></th>\n",
       "      <th></th>\n",
       "      <th></th>\n",
       "      <th></th>\n",
       "    </tr>\n",
       "  </thead>\n",
       "  <tbody>\n",
       "    <tr>\n",
       "      <th>2020-10-12</th>\n",
       "      <td>2</td>\n",
       "      <td>134</td>\n",
       "      <td>52</td>\n",
       "      <td>46</td>\n",
       "      <td>32</td>\n",
       "      <td>18</td>\n",
       "      <td>13</td>\n",
       "      <td>11</td>\n",
       "      <td>5</td>\n",
       "      <td>2</td>\n",
       "      <td>2</td>\n",
       "      <td>1</td>\n",
       "      <td>0</td>\n",
       "      <td>0</td>\n",
       "    </tr>\n",
       "    <tr>\n",
       "      <th>2020-10-11</th>\n",
       "      <td>1</td>\n",
       "      <td>147</td>\n",
       "      <td>75</td>\n",
       "      <td>62</td>\n",
       "      <td>51</td>\n",
       "      <td>38</td>\n",
       "      <td>18</td>\n",
       "      <td>9</td>\n",
       "      <td>6</td>\n",
       "      <td>5</td>\n",
       "      <td>3</td>\n",
       "      <td>3</td>\n",
       "      <td>2</td>\n",
       "      <td>2</td>\n",
       "    </tr>\n",
       "    <tr>\n",
       "      <th>2020-10-10</th>\n",
       "      <td>0</td>\n",
       "      <td>133</td>\n",
       "      <td>85</td>\n",
       "      <td>68</td>\n",
       "      <td>61</td>\n",
       "      <td>50</td>\n",
       "      <td>15</td>\n",
       "      <td>9</td>\n",
       "      <td>6</td>\n",
       "      <td>2</td>\n",
       "      <td>0</td>\n",
       "      <td>0</td>\n",
       "      <td>0</td>\n",
       "      <td>0</td>\n",
       "    </tr>\n",
       "    <tr>\n",
       "      <th>2020-10-09</th>\n",
       "      <td>1</td>\n",
       "      <td>105</td>\n",
       "      <td>65</td>\n",
       "      <td>61</td>\n",
       "      <td>57</td>\n",
       "      <td>57</td>\n",
       "      <td>2</td>\n",
       "      <td>0</td>\n",
       "      <td>0</td>\n",
       "      <td>0</td>\n",
       "      <td>0</td>\n",
       "      <td>0</td>\n",
       "      <td>0</td>\n",
       "      <td>0</td>\n",
       "    </tr>\n",
       "    <tr>\n",
       "      <th>2020-10-08</th>\n",
       "      <td>1</td>\n",
       "      <td>86</td>\n",
       "      <td>47</td>\n",
       "      <td>45</td>\n",
       "      <td>43</td>\n",
       "      <td>41</td>\n",
       "      <td>2</td>\n",
       "      <td>1</td>\n",
       "      <td>1</td>\n",
       "      <td>1</td>\n",
       "      <td>1</td>\n",
       "      <td>1</td>\n",
       "      <td>1</td>\n",
       "      <td>1</td>\n",
       "    </tr>\n",
       "  </tbody>\n",
       "</table>\n",
       "</div>"
      ],
      "text/plain": [
       "generation_to_upload_days  0    1   2   3   4   5   6   7   8   9   10  11  \\\n",
       "upload_date                                                                  \n",
       "2020-10-12                  2  134  52  46  32  18  13  11   5   2   2   1   \n",
       "2020-10-11                  1  147  75  62  51  38  18   9   6   5   3   3   \n",
       "2020-10-10                  0  133  85  68  61  50  15   9   6   2   0   0   \n",
       "2020-10-09                  1  105  65  61  57  57   2   0   0   0   0   0   \n",
       "2020-10-08                  1   86  47  45  43  41   2   1   1   1   1   1   \n",
       "\n",
       "generation_to_upload_days  12  13  \n",
       "upload_date                        \n",
       "2020-10-12                  0   0  \n",
       "2020-10-11                  2   2  \n",
       "2020-10-10                  0   0  \n",
       "2020-10-09                  0   0  \n",
       "2020-10-08                  1   1  "
      ]
     },
     "execution_count": 26,
     "metadata": {},
     "output_type": "execute_result"
    }
   ],
   "source": [
    "generation_to_upload_period_pivot_df = \\\n",
    "    shared_teks_generation_to_upload_df[\n",
    "        [\"upload_date\", \"generation_to_upload_days\", \"shared_teks\"]] \\\n",
    "        .pivot(index=\"upload_date\", columns=\"generation_to_upload_days\") \\\n",
    "        .sort_index(ascending=False).fillna(0).astype(int) \\\n",
    "        .droplevel(level=0, axis=1)\n",
    "generation_to_upload_period_pivot_df.head()"
   ]
  },
  {
   "cell_type": "code",
   "execution_count": 27,
   "metadata": {
    "collapsed": false,
    "execution": {
     "iopub.execute_input": "2020-10-12T20:10:11.901240Z",
     "iopub.status.busy": "2020-10-12T20:10:11.900544Z",
     "iopub.status.idle": "2020-10-12T20:10:11.910808Z",
     "shell.execute_reply": "2020-10-12T20:10:11.911397Z"
    },
    "papermill": {
     "duration": 0.100704,
     "end_time": "2020-10-12T20:10:11.911653",
     "exception": false,
     "start_time": "2020-10-12T20:10:11.810949",
     "status": "completed"
    },
    "pycharm": {
     "name": "#%%\n"
    },
    "tags": []
   },
   "outputs": [
    {
     "data": {
      "text/html": [
       "<div>\n",
       "<style scoped>\n",
       "    .dataframe tbody tr th:only-of-type {\n",
       "        vertical-align: middle;\n",
       "    }\n",
       "\n",
       "    .dataframe tbody tr th {\n",
       "        vertical-align: top;\n",
       "    }\n",
       "\n",
       "    .dataframe thead th {\n",
       "        text-align: right;\n",
       "    }\n",
       "</style>\n",
       "<table border=\"1\" class=\"dataframe\">\n",
       "  <thead>\n",
       "    <tr style=\"text-align: right;\">\n",
       "      <th></th>\n",
       "      <th>sample_date_string</th>\n",
       "      <th>shared_teks_by_upload_date</th>\n",
       "    </tr>\n",
       "  </thead>\n",
       "  <tbody>\n",
       "    <tr>\n",
       "      <th>40</th>\n",
       "      <td>2020-10-08</td>\n",
       "      <td>272.0</td>\n",
       "    </tr>\n",
       "    <tr>\n",
       "      <th>41</th>\n",
       "      <td>2020-10-09</td>\n",
       "      <td>348.0</td>\n",
       "    </tr>\n",
       "    <tr>\n",
       "      <th>42</th>\n",
       "      <td>2020-10-10</td>\n",
       "      <td>429.0</td>\n",
       "    </tr>\n",
       "    <tr>\n",
       "      <th>43</th>\n",
       "      <td>2020-10-11</td>\n",
       "      <td>422.0</td>\n",
       "    </tr>\n",
       "    <tr>\n",
       "      <th>44</th>\n",
       "      <td>2020-10-12</td>\n",
       "      <td>318.0</td>\n",
       "    </tr>\n",
       "  </tbody>\n",
       "</table>\n",
       "</div>"
      ],
      "text/plain": [
       "   sample_date_string  shared_teks_by_upload_date\n",
       "40         2020-10-08                       272.0\n",
       "41         2020-10-09                       348.0\n",
       "42         2020-10-10                       429.0\n",
       "43         2020-10-11                       422.0\n",
       "44         2020-10-12                       318.0"
      ]
     },
     "execution_count": 27,
     "metadata": {},
     "output_type": "execute_result"
    }
   ],
   "source": [
    "new_tek_df = tek_list_df.diff().tek_list.apply(\n",
    "    lambda x: len(x) if not pd.isna(x) else None).to_frame().reset_index()\n",
    "new_tek_df.rename(columns={\n",
    "    \"tek_list\": \"shared_teks_by_upload_date\",\n",
    "    \"extraction_date\": \"sample_date_string\",}, inplace=True)\n",
    "new_tek_df.tail()"
   ]
  },
  {
   "cell_type": "code",
   "execution_count": 28,
   "metadata": {
    "execution": {
     "iopub.execute_input": "2020-10-12T20:10:12.055298Z",
     "iopub.status.busy": "2020-10-12T20:10:12.054658Z",
     "iopub.status.idle": "2020-10-12T20:10:12.077905Z",
     "shell.execute_reply": "2020-10-12T20:10:12.077333Z"
    },
    "papermill": {
     "duration": 0.098952,
     "end_time": "2020-10-12T20:10:12.078073",
     "exception": false,
     "start_time": "2020-10-12T20:10:11.979121",
     "status": "completed"
    },
    "pycharm": {
     "name": "#%%\n"
    },
    "tags": []
   },
   "outputs": [
    {
     "data": {
      "text/html": [
       "<div>\n",
       "<style scoped>\n",
       "    .dataframe tbody tr th:only-of-type {\n",
       "        vertical-align: middle;\n",
       "    }\n",
       "\n",
       "    .dataframe tbody tr th {\n",
       "        vertical-align: top;\n",
       "    }\n",
       "\n",
       "    .dataframe thead th {\n",
       "        text-align: right;\n",
       "    }\n",
       "</style>\n",
       "<table border=\"1\" class=\"dataframe\">\n",
       "  <thead>\n",
       "    <tr style=\"text-align: right;\">\n",
       "      <th></th>\n",
       "      <th>region</th>\n",
       "      <th>sample_date</th>\n",
       "      <th>tek_list</th>\n",
       "      <th>extraction_date</th>\n",
       "      <th>extraction_date_with_hour</th>\n",
       "      <th>new_sample_extraction_date</th>\n",
       "    </tr>\n",
       "  </thead>\n",
       "  <tbody>\n",
       "    <tr>\n",
       "      <th>1</th>\n",
       "      <td>ES</td>\n",
       "      <td>2020-09-29</td>\n",
       "      <td>[56a6e90b-34e2-a0fb-686f-d13a217d81f1, 90da4d2...</td>\n",
       "      <td>2020-10-12</td>\n",
       "      <td>NaN</td>\n",
       "      <td>2020-09-30</td>\n",
       "    </tr>\n",
       "    <tr>\n",
       "      <th>4</th>\n",
       "      <td>ES</td>\n",
       "      <td>2020-09-30</td>\n",
       "      <td>[d5c32461-c8d1-9bf1-13f1-30c574eff3a4, b1300d1...</td>\n",
       "      <td>2020-10-12</td>\n",
       "      <td>NaN</td>\n",
       "      <td>2020-10-01</td>\n",
       "    </tr>\n",
       "    <tr>\n",
       "      <th>7</th>\n",
       "      <td>ES</td>\n",
       "      <td>2020-10-01</td>\n",
       "      <td>[a651de0a-fa37-9246-86d2-db8f2528d4d6, 3e8815b...</td>\n",
       "      <td>2020-10-12</td>\n",
       "      <td>NaN</td>\n",
       "      <td>2020-10-02</td>\n",
       "    </tr>\n",
       "    <tr>\n",
       "      <th>10</th>\n",
       "      <td>ES</td>\n",
       "      <td>2020-10-02</td>\n",
       "      <td>[c67a952d-6379-d25d-a2fc-79b6259a8f33, 025e88d...</td>\n",
       "      <td>2020-10-12</td>\n",
       "      <td>NaN</td>\n",
       "      <td>2020-10-03</td>\n",
       "    </tr>\n",
       "    <tr>\n",
       "      <th>13</th>\n",
       "      <td>ES</td>\n",
       "      <td>2020-10-03</td>\n",
       "      <td>[cdedec64-ddf9-b026-6500-453aee74eecf, fad1e68...</td>\n",
       "      <td>2020-10-12</td>\n",
       "      <td>NaN</td>\n",
       "      <td>2020-10-04</td>\n",
       "    </tr>\n",
       "  </tbody>\n",
       "</table>\n",
       "</div>"
      ],
      "text/plain": [
       "   region sample_date                                           tek_list  \\\n",
       "1      ES  2020-09-29  [56a6e90b-34e2-a0fb-686f-d13a217d81f1, 90da4d2...   \n",
       "4      ES  2020-09-30  [d5c32461-c8d1-9bf1-13f1-30c574eff3a4, b1300d1...   \n",
       "7      ES  2020-10-01  [a651de0a-fa37-9246-86d2-db8f2528d4d6, 3e8815b...   \n",
       "10     ES  2020-10-02  [c67a952d-6379-d25d-a2fc-79b6259a8f33, 025e88d...   \n",
       "13     ES  2020-10-03  [cdedec64-ddf9-b026-6500-453aee74eecf, fad1e68...   \n",
       "\n",
       "   extraction_date extraction_date_with_hour new_sample_extraction_date  \n",
       "1       2020-10-12                       NaN                 2020-09-30  \n",
       "4       2020-10-12                       NaN                 2020-10-01  \n",
       "7       2020-10-12                       NaN                 2020-10-02  \n",
       "10      2020-10-12                       NaN                 2020-10-03  \n",
       "13      2020-10-12                       NaN                 2020-10-04  "
      ]
     },
     "execution_count": 28,
     "metadata": {},
     "output_type": "execute_result"
    }
   ],
   "source": [
    "estimated_shared_diagnoses_df = daily_extracted_teks_df.copy()\n",
    "estimated_shared_diagnoses_df[\"new_sample_extraction_date\"] = \\\n",
    "    pd.to_datetime(estimated_shared_diagnoses_df.sample_date) + datetime.timedelta(1)\n",
    "estimated_shared_diagnoses_df[\"extraction_date\"] = pd.to_datetime(estimated_shared_diagnoses_df.extraction_date)\n",
    "estimated_shared_diagnoses_df[\"sample_date\"] = pd.to_datetime(estimated_shared_diagnoses_df.sample_date)\n",
    "estimated_shared_diagnoses_df.head()"
   ]
  },
  {
   "cell_type": "code",
   "execution_count": 29,
   "metadata": {
    "collapsed": false,
    "execution": {
     "iopub.execute_input": "2020-10-12T20:10:12.245279Z",
     "iopub.status.busy": "2020-10-12T20:10:12.244599Z",
     "iopub.status.idle": "2020-10-12T20:10:12.258181Z",
     "shell.execute_reply": "2020-10-12T20:10:12.257666Z"
    },
    "papermill": {
     "duration": 0.086977,
     "end_time": "2020-10-12T20:10:12.258322",
     "exception": false,
     "start_time": "2020-10-12T20:10:12.171345",
     "status": "completed"
    },
    "pycharm": {
     "name": "#%%\n"
    },
    "tags": []
   },
   "outputs": [
    {
     "data": {
      "text/html": [
       "<div>\n",
       "<style scoped>\n",
       "    .dataframe tbody tr th:only-of-type {\n",
       "        vertical-align: middle;\n",
       "    }\n",
       "\n",
       "    .dataframe tbody tr th {\n",
       "        vertical-align: top;\n",
       "    }\n",
       "\n",
       "    .dataframe thead th {\n",
       "        text-align: right;\n",
       "    }\n",
       "</style>\n",
       "<table border=\"1\" class=\"dataframe\">\n",
       "  <thead>\n",
       "    <tr style=\"text-align: right;\">\n",
       "      <th></th>\n",
       "      <th>extraction_date</th>\n",
       "      <th>same_day_tek_list</th>\n",
       "    </tr>\n",
       "  </thead>\n",
       "  <tbody>\n",
       "    <tr>\n",
       "      <th>39</th>\n",
       "      <td>2020-10-12</td>\n",
       "      <td>[c19f0624-898b-eabe-8358-dc43c24f61bc, 64367b3...</td>\n",
       "    </tr>\n",
       "    <tr>\n",
       "      <th>39</th>\n",
       "      <td>2020-10-11</td>\n",
       "      <td>[30fa166d-d446-2020-c49c-8f9c4279e4f1]</td>\n",
       "    </tr>\n",
       "    <tr>\n",
       "      <th>13</th>\n",
       "      <td>2020-10-09</td>\n",
       "      <td>[2608c66d-6985-9936-30a3-05ce2ddb259f]</td>\n",
       "    </tr>\n",
       "    <tr>\n",
       "      <th>13</th>\n",
       "      <td>2020-10-08</td>\n",
       "      <td>[a663b30a-8b02-d298-a9f7-9c9153f7f590]</td>\n",
       "    </tr>\n",
       "    <tr>\n",
       "      <th>13</th>\n",
       "      <td>2020-10-06</td>\n",
       "      <td>[2ed478e1-6fb4-7433-2ba5-5ddcaf3e7f8b, 147e075...</td>\n",
       "    </tr>\n",
       "  </tbody>\n",
       "</table>\n",
       "</div>"
      ],
      "text/plain": [
       "   extraction_date                                  same_day_tek_list\n",
       "39      2020-10-12  [c19f0624-898b-eabe-8358-dc43c24f61bc, 64367b3...\n",
       "39      2020-10-11             [30fa166d-d446-2020-c49c-8f9c4279e4f1]\n",
       "13      2020-10-09             [2608c66d-6985-9936-30a3-05ce2ddb259f]\n",
       "13      2020-10-08             [a663b30a-8b02-d298-a9f7-9c9153f7f590]\n",
       "13      2020-10-06  [2ed478e1-6fb4-7433-2ba5-5ddcaf3e7f8b, 147e075..."
      ]
     },
     "execution_count": 29,
     "metadata": {},
     "output_type": "execute_result"
    }
   ],
   "source": [
    "# Sometimes TEKs from the same day are uploaded, we do not count them as new TEK devices:\n",
    "same_day_tek_list_df = estimated_shared_diagnoses_df[\n",
    "    estimated_shared_diagnoses_df.sample_date == estimated_shared_diagnoses_df.extraction_date].copy()\n",
    "same_day_tek_list_df = same_day_tek_list_df[[\"extraction_date\", \"tek_list\"]].rename(\n",
    "    columns={\"tek_list\": \"same_day_tek_list\"})\n",
    "same_day_tek_list_df.head()"
   ]
  },
  {
   "cell_type": "code",
   "execution_count": 30,
   "metadata": {
    "collapsed": false,
    "execution": {
     "iopub.execute_input": "2020-10-12T20:10:12.427358Z",
     "iopub.status.busy": "2020-10-12T20:10:12.422852Z",
     "iopub.status.idle": "2020-10-12T20:10:12.430642Z",
     "shell.execute_reply": "2020-10-12T20:10:12.431175Z"
    },
    "papermill": {
     "duration": 0.103846,
     "end_time": "2020-10-12T20:10:12.431367",
     "exception": false,
     "start_time": "2020-10-12T20:10:12.327521",
     "status": "completed"
    },
    "pycharm": {
     "name": "#%%\n"
    },
    "tags": []
   },
   "outputs": [
    {
     "data": {
      "text/html": [
       "<div>\n",
       "<style scoped>\n",
       "    .dataframe tbody tr th:only-of-type {\n",
       "        vertical-align: middle;\n",
       "    }\n",
       "\n",
       "    .dataframe tbody tr th {\n",
       "        vertical-align: top;\n",
       "    }\n",
       "\n",
       "    .dataframe thead th {\n",
       "        text-align: right;\n",
       "    }\n",
       "</style>\n",
       "<table border=\"1\" class=\"dataframe\">\n",
       "  <thead>\n",
       "    <tr style=\"text-align: right;\">\n",
       "      <th></th>\n",
       "      <th>sample_date_string</th>\n",
       "      <th>shared_teks_uploaded_on_generation_date</th>\n",
       "    </tr>\n",
       "  </thead>\n",
       "  <tbody>\n",
       "    <tr>\n",
       "      <th>39</th>\n",
       "      <td>2020-10-12</td>\n",
       "      <td>2</td>\n",
       "    </tr>\n",
       "    <tr>\n",
       "      <th>39</th>\n",
       "      <td>2020-10-11</td>\n",
       "      <td>1</td>\n",
       "    </tr>\n",
       "    <tr>\n",
       "      <th>13</th>\n",
       "      <td>2020-10-09</td>\n",
       "      <td>1</td>\n",
       "    </tr>\n",
       "    <tr>\n",
       "      <th>13</th>\n",
       "      <td>2020-10-08</td>\n",
       "      <td>1</td>\n",
       "    </tr>\n",
       "    <tr>\n",
       "      <th>13</th>\n",
       "      <td>2020-10-06</td>\n",
       "      <td>60</td>\n",
       "    </tr>\n",
       "  </tbody>\n",
       "</table>\n",
       "</div>"
      ],
      "text/plain": [
       "   sample_date_string  shared_teks_uploaded_on_generation_date\n",
       "39         2020-10-12                                        2\n",
       "39         2020-10-11                                        1\n",
       "13         2020-10-09                                        1\n",
       "13         2020-10-08                                        1\n",
       "13         2020-10-06                                       60"
      ]
     },
     "execution_count": 30,
     "metadata": {},
     "output_type": "execute_result"
    }
   ],
   "source": [
    "shared_teks_uploaded_on_generation_date_df = same_day_tek_list_df.rename(\n",
    "    columns={\n",
    "        \"extraction_date\": \"sample_date_string\",\n",
    "        \"same_day_tek_list\": \"shared_teks_uploaded_on_generation_date\",\n",
    "    })\n",
    "shared_teks_uploaded_on_generation_date_df.shared_teks_uploaded_on_generation_date = \\\n",
    " shared_teks_uploaded_on_generation_date_df.shared_teks_uploaded_on_generation_date.apply(len)\n",
    "shared_teks_uploaded_on_generation_date_df.head()\n",
    "shared_teks_uploaded_on_generation_date_df[\"sample_date_string\"] = \\\n",
    "    shared_teks_uploaded_on_generation_date_df.sample_date_string.dt.strftime(\"%Y-%m-%d\")\n",
    "shared_teks_uploaded_on_generation_date_df.head()"
   ]
  },
  {
   "cell_type": "code",
   "execution_count": 31,
   "metadata": {
    "collapsed": false,
    "execution": {
     "iopub.execute_input": "2020-10-12T20:10:12.595603Z",
     "iopub.status.busy": "2020-10-12T20:10:12.594791Z",
     "iopub.status.idle": "2020-10-12T20:10:12.600540Z",
     "shell.execute_reply": "2020-10-12T20:10:12.599933Z"
    },
    "papermill": {
     "duration": 0.096556,
     "end_time": "2020-10-12T20:10:12.600720",
     "exception": false,
     "start_time": "2020-10-12T20:10:12.504164",
     "status": "completed"
    },
    "pycharm": {
     "name": "#%%\n"
    },
    "tags": []
   },
   "outputs": [
    {
     "data": {
      "text/html": [
       "<div>\n",
       "<style scoped>\n",
       "    .dataframe tbody tr th:only-of-type {\n",
       "        vertical-align: middle;\n",
       "    }\n",
       "\n",
       "    .dataframe tbody tr th {\n",
       "        vertical-align: top;\n",
       "    }\n",
       "\n",
       "    .dataframe thead th {\n",
       "        text-align: right;\n",
       "    }\n",
       "</style>\n",
       "<table border=\"1\" class=\"dataframe\">\n",
       "  <thead>\n",
       "    <tr style=\"text-align: right;\">\n",
       "      <th></th>\n",
       "      <th>region</th>\n",
       "      <th>sample_date</th>\n",
       "      <th>tek_list</th>\n",
       "      <th>extraction_date</th>\n",
       "      <th>extraction_date_with_hour</th>\n",
       "      <th>new_sample_extraction_date</th>\n",
       "    </tr>\n",
       "  </thead>\n",
       "  <tbody>\n",
       "    <tr>\n",
       "      <th>37</th>\n",
       "      <td>ES</td>\n",
       "      <td>2020-10-11</td>\n",
       "      <td>[44a77a71-dd40-21da-1aba-6292ee9f482d, d128f80...</td>\n",
       "      <td>2020-10-12</td>\n",
       "      <td>NaN</td>\n",
       "      <td>2020-10-12</td>\n",
       "    </tr>\n",
       "    <tr>\n",
       "      <th>37</th>\n",
       "      <td>ES</td>\n",
       "      <td>2020-10-10</td>\n",
       "      <td>[84d55cd4-1727-5281-1f88-89cf7fb60250, 6d881d8...</td>\n",
       "      <td>2020-10-11</td>\n",
       "      <td>NaN</td>\n",
       "      <td>2020-10-11</td>\n",
       "    </tr>\n",
       "    <tr>\n",
       "      <th>37</th>\n",
       "      <td>ES</td>\n",
       "      <td>2020-10-09</td>\n",
       "      <td>[2a2f3e71-daba-5d03-fe20-9e8827a9036a, ca53e30...</td>\n",
       "      <td>2020-10-10</td>\n",
       "      <td>NaN</td>\n",
       "      <td>2020-10-10</td>\n",
       "    </tr>\n",
       "    <tr>\n",
       "      <th>12</th>\n",
       "      <td>ES</td>\n",
       "      <td>2020-10-08</td>\n",
       "      <td>[5947e8d7-76cb-6e84-0056-9b6e2c269d95, da29223...</td>\n",
       "      <td>2020-10-09</td>\n",
       "      <td>NaN</td>\n",
       "      <td>2020-10-09</td>\n",
       "    </tr>\n",
       "    <tr>\n",
       "      <th>12</th>\n",
       "      <td>ES</td>\n",
       "      <td>2020-10-07</td>\n",
       "      <td>[572a44e5-b040-f739-3ae9-3e1e617ba26e, 93bb79e...</td>\n",
       "      <td>2020-10-08</td>\n",
       "      <td>NaN</td>\n",
       "      <td>2020-10-08</td>\n",
       "    </tr>\n",
       "  </tbody>\n",
       "</table>\n",
       "</div>"
      ],
      "text/plain": [
       "   region sample_date                                           tek_list  \\\n",
       "37     ES  2020-10-11  [44a77a71-dd40-21da-1aba-6292ee9f482d, d128f80...   \n",
       "37     ES  2020-10-10  [84d55cd4-1727-5281-1f88-89cf7fb60250, 6d881d8...   \n",
       "37     ES  2020-10-09  [2a2f3e71-daba-5d03-fe20-9e8827a9036a, ca53e30...   \n",
       "12     ES  2020-10-08  [5947e8d7-76cb-6e84-0056-9b6e2c269d95, da29223...   \n",
       "12     ES  2020-10-07  [572a44e5-b040-f739-3ae9-3e1e617ba26e, 93bb79e...   \n",
       "\n",
       "   extraction_date extraction_date_with_hour new_sample_extraction_date  \n",
       "37      2020-10-12                       NaN                 2020-10-12  \n",
       "37      2020-10-11                       NaN                 2020-10-11  \n",
       "37      2020-10-10                       NaN                 2020-10-10  \n",
       "12      2020-10-09                       NaN                 2020-10-09  \n",
       "12      2020-10-08                       NaN                 2020-10-08  "
      ]
     },
     "execution_count": 31,
     "metadata": {},
     "output_type": "execute_result"
    }
   ],
   "source": [
    "estimated_shared_diagnoses_df = estimated_shared_diagnoses_df[\n",
    "    estimated_shared_diagnoses_df.new_sample_extraction_date == estimated_shared_diagnoses_df.extraction_date]\n",
    "estimated_shared_diagnoses_df.head()"
   ]
  },
  {
   "cell_type": "code",
   "execution_count": 32,
   "metadata": {
    "collapsed": false,
    "execution": {
     "iopub.execute_input": "2020-10-12T20:10:12.780456Z",
     "iopub.status.busy": "2020-10-12T20:10:12.779744Z",
     "iopub.status.idle": "2020-10-12T20:10:12.783782Z",
     "shell.execute_reply": "2020-10-12T20:10:12.783216Z"
    },
    "papermill": {
     "duration": 0.10647,
     "end_time": "2020-10-12T20:10:12.783930",
     "exception": false,
     "start_time": "2020-10-12T20:10:12.677460",
     "status": "completed"
    },
    "pycharm": {
     "name": "#%%\n"
    },
    "tags": []
   },
   "outputs": [
    {
     "data": {
      "text/html": [
       "<div>\n",
       "<style scoped>\n",
       "    .dataframe tbody tr th:only-of-type {\n",
       "        vertical-align: middle;\n",
       "    }\n",
       "\n",
       "    .dataframe tbody tr th {\n",
       "        vertical-align: top;\n",
       "    }\n",
       "\n",
       "    .dataframe thead th {\n",
       "        text-align: right;\n",
       "    }\n",
       "</style>\n",
       "<table border=\"1\" class=\"dataframe\">\n",
       "  <thead>\n",
       "    <tr style=\"text-align: right;\">\n",
       "      <th></th>\n",
       "      <th>region</th>\n",
       "      <th>sample_date</th>\n",
       "      <th>tek_list</th>\n",
       "      <th>extraction_date</th>\n",
       "      <th>extraction_date_with_hour</th>\n",
       "      <th>new_sample_extraction_date</th>\n",
       "      <th>same_day_tek_list</th>\n",
       "    </tr>\n",
       "  </thead>\n",
       "  <tbody>\n",
       "    <tr>\n",
       "      <th>0</th>\n",
       "      <td>ES</td>\n",
       "      <td>2020-10-11</td>\n",
       "      <td>[44a77a71-dd40-21da-1aba-6292ee9f482d, d128f80...</td>\n",
       "      <td>2020-10-12</td>\n",
       "      <td>NaN</td>\n",
       "      <td>2020-10-12</td>\n",
       "      <td>[30fa166d-d446-2020-c49c-8f9c4279e4f1]</td>\n",
       "    </tr>\n",
       "    <tr>\n",
       "      <th>1</th>\n",
       "      <td>ES</td>\n",
       "      <td>2020-10-10</td>\n",
       "      <td>[84d55cd4-1727-5281-1f88-89cf7fb60250, 6d881d8...</td>\n",
       "      <td>2020-10-11</td>\n",
       "      <td>NaN</td>\n",
       "      <td>2020-10-11</td>\n",
       "      <td>[]</td>\n",
       "    </tr>\n",
       "    <tr>\n",
       "      <th>2</th>\n",
       "      <td>ES</td>\n",
       "      <td>2020-10-09</td>\n",
       "      <td>[2a2f3e71-daba-5d03-fe20-9e8827a9036a, ca53e30...</td>\n",
       "      <td>2020-10-10</td>\n",
       "      <td>NaN</td>\n",
       "      <td>2020-10-10</td>\n",
       "      <td>[2608c66d-6985-9936-30a3-05ce2ddb259f]</td>\n",
       "    </tr>\n",
       "    <tr>\n",
       "      <th>3</th>\n",
       "      <td>ES</td>\n",
       "      <td>2020-10-08</td>\n",
       "      <td>[5947e8d7-76cb-6e84-0056-9b6e2c269d95, da29223...</td>\n",
       "      <td>2020-10-09</td>\n",
       "      <td>NaN</td>\n",
       "      <td>2020-10-09</td>\n",
       "      <td>[a663b30a-8b02-d298-a9f7-9c9153f7f590]</td>\n",
       "    </tr>\n",
       "    <tr>\n",
       "      <th>4</th>\n",
       "      <td>ES</td>\n",
       "      <td>2020-10-07</td>\n",
       "      <td>[572a44e5-b040-f739-3ae9-3e1e617ba26e, 93bb79e...</td>\n",
       "      <td>2020-10-08</td>\n",
       "      <td>NaN</td>\n",
       "      <td>2020-10-08</td>\n",
       "      <td>[]</td>\n",
       "    </tr>\n",
       "  </tbody>\n",
       "</table>\n",
       "</div>"
      ],
      "text/plain": [
       "  region sample_date                                           tek_list  \\\n",
       "0     ES  2020-10-11  [44a77a71-dd40-21da-1aba-6292ee9f482d, d128f80...   \n",
       "1     ES  2020-10-10  [84d55cd4-1727-5281-1f88-89cf7fb60250, 6d881d8...   \n",
       "2     ES  2020-10-09  [2a2f3e71-daba-5d03-fe20-9e8827a9036a, ca53e30...   \n",
       "3     ES  2020-10-08  [5947e8d7-76cb-6e84-0056-9b6e2c269d95, da29223...   \n",
       "4     ES  2020-10-07  [572a44e5-b040-f739-3ae9-3e1e617ba26e, 93bb79e...   \n",
       "\n",
       "  extraction_date extraction_date_with_hour new_sample_extraction_date  \\\n",
       "0      2020-10-12                       NaN                 2020-10-12   \n",
       "1      2020-10-11                       NaN                 2020-10-11   \n",
       "2      2020-10-10                       NaN                 2020-10-10   \n",
       "3      2020-10-09                       NaN                 2020-10-09   \n",
       "4      2020-10-08                       NaN                 2020-10-08   \n",
       "\n",
       "                        same_day_tek_list  \n",
       "0  [30fa166d-d446-2020-c49c-8f9c4279e4f1]  \n",
       "1                                      []  \n",
       "2  [2608c66d-6985-9936-30a3-05ce2ddb259f]  \n",
       "3  [a663b30a-8b02-d298-a9f7-9c9153f7f590]  \n",
       "4                                      []  "
      ]
     },
     "execution_count": 32,
     "metadata": {},
     "output_type": "execute_result"
    }
   ],
   "source": [
    "same_day_tek_list_df[\"extraction_date\"] = \\\n",
    "    same_day_tek_list_df.extraction_date + datetime.timedelta(1)\n",
    "estimated_shared_diagnoses_df = \\\n",
    "    estimated_shared_diagnoses_df.merge(same_day_tek_list_df, how=\"left\", on=[\"extraction_date\"])\n",
    "estimated_shared_diagnoses_df[\"same_day_tek_list\"] = \\\n",
    "    estimated_shared_diagnoses_df.same_day_tek_list.apply(lambda x: [] if x is np.nan else x)\n",
    "estimated_shared_diagnoses_df.head()"
   ]
  },
  {
   "cell_type": "code",
   "execution_count": 33,
   "metadata": {
    "execution": {
     "iopub.execute_input": "2020-10-12T20:10:12.947987Z",
     "iopub.status.busy": "2020-10-12T20:10:12.947280Z",
     "iopub.status.idle": "2020-10-12T20:10:12.967145Z",
     "shell.execute_reply": "2020-10-12T20:10:12.967705Z"
    },
    "papermill": {
     "duration": 0.108066,
     "end_time": "2020-10-12T20:10:12.967891",
     "exception": false,
     "start_time": "2020-10-12T20:10:12.859825",
     "status": "completed"
    },
    "tags": []
   },
   "outputs": [
    {
     "data": {
      "text/html": [
       "<div>\n",
       "<style scoped>\n",
       "    .dataframe tbody tr th:only-of-type {\n",
       "        vertical-align: middle;\n",
       "    }\n",
       "\n",
       "    .dataframe tbody tr th {\n",
       "        vertical-align: top;\n",
       "    }\n",
       "\n",
       "    .dataframe thead th {\n",
       "        text-align: right;\n",
       "    }\n",
       "</style>\n",
       "<table border=\"1\" class=\"dataframe\">\n",
       "  <thead>\n",
       "    <tr style=\"text-align: right;\">\n",
       "      <th></th>\n",
       "      <th>sample_date_string</th>\n",
       "      <th>shared_diagnoses</th>\n",
       "    </tr>\n",
       "  </thead>\n",
       "  <tbody>\n",
       "    <tr>\n",
       "      <th>0</th>\n",
       "      <td>2020-10-12</td>\n",
       "      <td>134</td>\n",
       "    </tr>\n",
       "    <tr>\n",
       "      <th>1</th>\n",
       "      <td>2020-10-11</td>\n",
       "      <td>147</td>\n",
       "    </tr>\n",
       "    <tr>\n",
       "      <th>2</th>\n",
       "      <td>2020-10-10</td>\n",
       "      <td>133</td>\n",
       "    </tr>\n",
       "    <tr>\n",
       "      <th>3</th>\n",
       "      <td>2020-10-09</td>\n",
       "      <td>105</td>\n",
       "    </tr>\n",
       "    <tr>\n",
       "      <th>4</th>\n",
       "      <td>2020-10-08</td>\n",
       "      <td>86</td>\n",
       "    </tr>\n",
       "  </tbody>\n",
       "</table>\n",
       "</div>"
      ],
      "text/plain": [
       "  sample_date_string  shared_diagnoses\n",
       "0         2020-10-12               134\n",
       "1         2020-10-11               147\n",
       "2         2020-10-10               133\n",
       "3         2020-10-09               105\n",
       "4         2020-10-08                86"
      ]
     },
     "execution_count": 33,
     "metadata": {},
     "output_type": "execute_result"
    }
   ],
   "source": [
    "estimated_shared_diagnoses_df.set_index(\"extraction_date\", inplace=True)\n",
    "estimated_shared_diagnoses_df[\"shared_diagnoses\"] = estimated_shared_diagnoses_df.apply(\n",
    "    lambda x: len(set(x.tek_list).difference(x.same_day_tek_list)), axis=1).copy()\n",
    "estimated_shared_diagnoses_df.reset_index(inplace=True)\n",
    "estimated_shared_diagnoses_df.rename(columns={\n",
    "    \"extraction_date\": \"sample_date_string\"}, inplace=True)\n",
    "estimated_shared_diagnoses_df = estimated_shared_diagnoses_df[[\"sample_date_string\", \"shared_diagnoses\"]]\n",
    "estimated_shared_diagnoses_df[\"sample_date_string\"] = estimated_shared_diagnoses_df.sample_date_string.dt.strftime(\"%Y-%m-%d\")\n",
    "estimated_shared_diagnoses_df.head()"
   ]
  },
  {
   "cell_type": "markdown",
   "metadata": {
    "papermill": {
     "duration": 0.072511,
     "end_time": "2020-10-12T20:10:13.111039",
     "exception": false,
     "start_time": "2020-10-12T20:10:13.038528",
     "status": "completed"
    },
    "pycharm": {
     "name": "#%% md\n"
    },
    "tags": []
   },
   "source": [
    "### Hourly New TEKs"
   ]
  },
  {
   "cell_type": "code",
   "execution_count": 34,
   "metadata": {
    "execution": {
     "iopub.execute_input": "2020-10-12T20:10:13.265833Z",
     "iopub.status.busy": "2020-10-12T20:10:13.265127Z",
     "iopub.status.idle": "2020-10-12T20:10:13.592503Z",
     "shell.execute_reply": "2020-10-12T20:10:13.593018Z"
    },
    "papermill": {
     "duration": 0.408662,
     "end_time": "2020-10-12T20:10:13.593217",
     "exception": false,
     "start_time": "2020-10-12T20:10:13.184555",
     "status": "completed"
    },
    "pycharm": {
     "name": "#%%\n"
    },
    "tags": []
   },
   "outputs": [
    {
     "data": {
      "text/html": [
       "<div>\n",
       "<style scoped>\n",
       "    .dataframe tbody tr th:only-of-type {\n",
       "        vertical-align: middle;\n",
       "    }\n",
       "\n",
       "    .dataframe tbody tr th {\n",
       "        vertical-align: top;\n",
       "    }\n",
       "\n",
       "    .dataframe thead th {\n",
       "        text-align: right;\n",
       "    }\n",
       "</style>\n",
       "<table border=\"1\" class=\"dataframe\">\n",
       "  <thead>\n",
       "    <tr style=\"text-align: right;\">\n",
       "      <th></th>\n",
       "      <th>region</th>\n",
       "      <th>sample_date</th>\n",
       "      <th>tek_list</th>\n",
       "      <th>extraction_date</th>\n",
       "      <th>extraction_date_with_hour</th>\n",
       "    </tr>\n",
       "  </thead>\n",
       "  <tbody>\n",
       "    <tr>\n",
       "      <th>1</th>\n",
       "      <td>ES</td>\n",
       "      <td>2020-09-29</td>\n",
       "      <td>[56a6e90b-34e2-a0fb-686f-d13a217d81f1, 90da4d2...</td>\n",
       "      <td>2020-10-12</td>\n",
       "      <td>2020-10-12@20</td>\n",
       "    </tr>\n",
       "    <tr>\n",
       "      <th>4</th>\n",
       "      <td>ES</td>\n",
       "      <td>2020-09-30</td>\n",
       "      <td>[d5c32461-c8d1-9bf1-13f1-30c574eff3a4, b1300d1...</td>\n",
       "      <td>2020-10-12</td>\n",
       "      <td>2020-10-12@20</td>\n",
       "    </tr>\n",
       "    <tr>\n",
       "      <th>7</th>\n",
       "      <td>ES</td>\n",
       "      <td>2020-10-01</td>\n",
       "      <td>[a651de0a-fa37-9246-86d2-db8f2528d4d6, 3e8815b...</td>\n",
       "      <td>2020-10-12</td>\n",
       "      <td>2020-10-12@20</td>\n",
       "    </tr>\n",
       "    <tr>\n",
       "      <th>10</th>\n",
       "      <td>ES</td>\n",
       "      <td>2020-10-02</td>\n",
       "      <td>[c67a952d-6379-d25d-a2fc-79b6259a8f33, 025e88d...</td>\n",
       "      <td>2020-10-12</td>\n",
       "      <td>2020-10-12@20</td>\n",
       "    </tr>\n",
       "    <tr>\n",
       "      <th>13</th>\n",
       "      <td>ES</td>\n",
       "      <td>2020-10-03</td>\n",
       "      <td>[cdedec64-ddf9-b026-6500-453aee74eecf, fad1e68...</td>\n",
       "      <td>2020-10-12</td>\n",
       "      <td>2020-10-12@20</td>\n",
       "    </tr>\n",
       "  </tbody>\n",
       "</table>\n",
       "</div>"
      ],
      "text/plain": [
       "   region sample_date                                           tek_list  \\\n",
       "1      ES  2020-09-29  [56a6e90b-34e2-a0fb-686f-d13a217d81f1, 90da4d2...   \n",
       "4      ES  2020-09-30  [d5c32461-c8d1-9bf1-13f1-30c574eff3a4, b1300d1...   \n",
       "7      ES  2020-10-01  [a651de0a-fa37-9246-86d2-db8f2528d4d6, 3e8815b...   \n",
       "10     ES  2020-10-02  [c67a952d-6379-d25d-a2fc-79b6259a8f33, 025e88d...   \n",
       "13     ES  2020-10-03  [cdedec64-ddf9-b026-6500-453aee74eecf, fad1e68...   \n",
       "\n",
       "   extraction_date extraction_date_with_hour  \n",
       "1       2020-10-12             2020-10-12@20  \n",
       "4       2020-10-12             2020-10-12@20  \n",
       "7       2020-10-12             2020-10-12@20  \n",
       "10      2020-10-12             2020-10-12@20  \n",
       "13      2020-10-12             2020-10-12@20  "
      ]
     },
     "execution_count": 34,
     "metadata": {},
     "output_type": "execute_result"
    }
   ],
   "source": [
    "hourly_extracted_teks_df = load_extracted_teks(\n",
    "    mode=\"Hourly\", region=spain_region_country_code, limit=25)\n",
    "hourly_extracted_teks_df.head()"
   ]
  },
  {
   "cell_type": "code",
   "execution_count": 35,
   "metadata": {
    "collapsed": false,
    "execution": {
     "iopub.execute_input": "2020-10-12T20:10:13.766655Z",
     "iopub.status.busy": "2020-10-12T20:10:13.756388Z",
     "iopub.status.idle": "2020-10-12T20:10:13.805927Z",
     "shell.execute_reply": "2020-10-12T20:10:13.806874Z"
    },
    "papermill": {
     "duration": 0.13826,
     "end_time": "2020-10-12T20:10:13.807052",
     "exception": false,
     "start_time": "2020-10-12T20:10:13.668792",
     "status": "completed"
    },
    "pycharm": {
     "name": "#%%\n"
    },
    "tags": []
   },
   "outputs": [
    {
     "data": {
      "text/html": [
       "<div>\n",
       "<style scoped>\n",
       "    .dataframe tbody tr th:only-of-type {\n",
       "        vertical-align: middle;\n",
       "    }\n",
       "\n",
       "    .dataframe tbody tr th {\n",
       "        vertical-align: top;\n",
       "    }\n",
       "\n",
       "    .dataframe thead th {\n",
       "        text-align: right;\n",
       "    }\n",
       "</style>\n",
       "<table border=\"1\" class=\"dataframe\">\n",
       "  <thead>\n",
       "    <tr style=\"text-align: right;\">\n",
       "      <th></th>\n",
       "      <th>extraction_date_with_hour</th>\n",
       "      <th>shared_teks_by_upload_date</th>\n",
       "    </tr>\n",
       "  </thead>\n",
       "  <tbody>\n",
       "    <tr>\n",
       "      <th>0</th>\n",
       "      <td>2020-10-11@18</td>\n",
       "      <td>0</td>\n",
       "    </tr>\n",
       "    <tr>\n",
       "      <th>1</th>\n",
       "      <td>2020-10-11@19</td>\n",
       "      <td>0</td>\n",
       "    </tr>\n",
       "    <tr>\n",
       "      <th>2</th>\n",
       "      <td>2020-10-11@20</td>\n",
       "      <td>32</td>\n",
       "    </tr>\n",
       "    <tr>\n",
       "      <th>3</th>\n",
       "      <td>2020-10-11@21</td>\n",
       "      <td>0</td>\n",
       "    </tr>\n",
       "    <tr>\n",
       "      <th>4</th>\n",
       "      <td>2020-10-11@22</td>\n",
       "      <td>0</td>\n",
       "    </tr>\n",
       "  </tbody>\n",
       "</table>\n",
       "</div>"
      ],
      "text/plain": [
       "  extraction_date_with_hour  shared_teks_by_upload_date\n",
       "0             2020-10-11@18                           0\n",
       "1             2020-10-11@19                           0\n",
       "2             2020-10-11@20                          32\n",
       "3             2020-10-11@21                           0\n",
       "4             2020-10-11@22                           0"
      ]
     },
     "execution_count": 35,
     "metadata": {},
     "output_type": "execute_result"
    }
   ],
   "source": [
    "hourly_new_tek_count_df = hourly_extracted_teks_df \\\n",
    "    .groupby(\"extraction_date_with_hour\").tek_list. \\\n",
    "    apply(lambda x: set(sum(x, []))).reset_index().copy()\n",
    "hourly_new_tek_count_df = hourly_new_tek_count_df.set_index(\"extraction_date_with_hour\") \\\n",
    "    .sort_index(ascending=True)\n",
    "\n",
    "hourly_new_tek_count_df[\"new_tek_list\"] = hourly_new_tek_count_df.tek_list.diff()\n",
    "hourly_new_tek_count_df[\"new_tek_count\"] = hourly_new_tek_count_df.new_tek_list.apply(\n",
    "    lambda x: len(x) if not pd.isna(x) else 0)\n",
    "hourly_new_tek_count_df.rename(columns={\n",
    "    \"new_tek_count\": \"shared_teks_by_upload_date\"}, inplace=True)\n",
    "hourly_new_tek_count_df = hourly_new_tek_count_df.reset_index()[[\n",
    "    \"extraction_date_with_hour\", \"shared_teks_by_upload_date\"]]\n",
    "hourly_new_tek_count_df.head()"
   ]
  },
  {
   "cell_type": "code",
   "execution_count": 36,
   "metadata": {
    "execution": {
     "iopub.execute_input": "2020-10-12T20:10:13.978521Z",
     "iopub.status.busy": "2020-10-12T20:10:13.977794Z",
     "iopub.status.idle": "2020-10-12T20:10:14.008447Z",
     "shell.execute_reply": "2020-10-12T20:10:14.009013Z"
    },
    "papermill": {
     "duration": 0.125566,
     "end_time": "2020-10-12T20:10:14.009204",
     "exception": false,
     "start_time": "2020-10-12T20:10:13.883638",
     "status": "completed"
    },
    "pycharm": {
     "name": "#%%\n"
    },
    "tags": []
   },
   "outputs": [
    {
     "data": {
      "text/html": [
       "<div>\n",
       "<style scoped>\n",
       "    .dataframe tbody tr th:only-of-type {\n",
       "        vertical-align: middle;\n",
       "    }\n",
       "\n",
       "    .dataframe tbody tr th {\n",
       "        vertical-align: top;\n",
       "    }\n",
       "\n",
       "    .dataframe thead th {\n",
       "        text-align: right;\n",
       "    }\n",
       "</style>\n",
       "<table border=\"1\" class=\"dataframe\">\n",
       "  <thead>\n",
       "    <tr style=\"text-align: right;\">\n",
       "      <th></th>\n",
       "      <th>extraction_date_with_hour</th>\n",
       "      <th>shared_diagnoses</th>\n",
       "    </tr>\n",
       "  </thead>\n",
       "  <tbody>\n",
       "    <tr>\n",
       "      <th>0</th>\n",
       "      <td>2020-10-11@18</td>\n",
       "      <td>0</td>\n",
       "    </tr>\n",
       "    <tr>\n",
       "      <th>1</th>\n",
       "      <td>2020-10-11@19</td>\n",
       "      <td>0</td>\n",
       "    </tr>\n",
       "    <tr>\n",
       "      <th>2</th>\n",
       "      <td>2020-10-11@20</td>\n",
       "      <td>8</td>\n",
       "    </tr>\n",
       "    <tr>\n",
       "      <th>3</th>\n",
       "      <td>2020-10-11@21</td>\n",
       "      <td>0</td>\n",
       "    </tr>\n",
       "    <tr>\n",
       "      <th>4</th>\n",
       "      <td>2020-10-11@22</td>\n",
       "      <td>0</td>\n",
       "    </tr>\n",
       "  </tbody>\n",
       "</table>\n",
       "</div>"
      ],
      "text/plain": [
       "  extraction_date_with_hour  shared_diagnoses\n",
       "0             2020-10-11@18                 0\n",
       "1             2020-10-11@19                 0\n",
       "2             2020-10-11@20                 8\n",
       "3             2020-10-11@21                 0\n",
       "4             2020-10-11@22                 0"
      ]
     },
     "execution_count": 36,
     "metadata": {},
     "output_type": "execute_result"
    }
   ],
   "source": [
    "hourly_estimated_shared_diagnoses_df = hourly_extracted_teks_df.copy()\n",
    "hourly_estimated_shared_diagnoses_df[\"new_sample_extraction_date\"] = \\\n",
    "    pd.to_datetime(hourly_estimated_shared_diagnoses_df.sample_date) + datetime.timedelta(1)\n",
    "hourly_estimated_shared_diagnoses_df[\"extraction_date\"] = \\\n",
    "    pd.to_datetime(hourly_estimated_shared_diagnoses_df.extraction_date)\n",
    "\n",
    "hourly_estimated_shared_diagnoses_df = hourly_estimated_shared_diagnoses_df[\n",
    "    hourly_estimated_shared_diagnoses_df.new_sample_extraction_date ==\n",
    "    hourly_estimated_shared_diagnoses_df.extraction_date]\n",
    "hourly_estimated_shared_diagnoses_df = \\\n",
    "    hourly_estimated_shared_diagnoses_df.merge(same_day_tek_list_df, how=\"left\", on=[\"extraction_date\"])\n",
    "hourly_estimated_shared_diagnoses_df[\"same_day_tek_list\"] = \\\n",
    "    hourly_estimated_shared_diagnoses_df.same_day_tek_list.apply(lambda x: [] if x is np.nan else x)\n",
    "hourly_estimated_shared_diagnoses_df[\"shared_diagnoses\"] = hourly_estimated_shared_diagnoses_df.apply(\n",
    "    lambda x: len(set(x.tek_list).difference(x.same_day_tek_list)), axis=1)\n",
    "hourly_estimated_shared_diagnoses_df = \\\n",
    "    hourly_estimated_shared_diagnoses_df.sort_values(\"extraction_date_with_hour\").copy()\n",
    "hourly_estimated_shared_diagnoses_df[\"shared_diagnoses\"] = hourly_estimated_shared_diagnoses_df \\\n",
    "    .groupby(\"extraction_date\").shared_diagnoses.diff() \\\n",
    "    .fillna(0).astype(int)\n",
    "\n",
    "hourly_estimated_shared_diagnoses_df.set_index(\"extraction_date_with_hour\", inplace=True)\n",
    "hourly_estimated_shared_diagnoses_df.reset_index(inplace=True)\n",
    "hourly_estimated_shared_diagnoses_df = hourly_estimated_shared_diagnoses_df[[\n",
    "    \"extraction_date_with_hour\", \"shared_diagnoses\"]]\n",
    "hourly_estimated_shared_diagnoses_df.head()"
   ]
  },
  {
   "cell_type": "code",
   "execution_count": 37,
   "metadata": {
    "collapsed": false,
    "execution": {
     "iopub.execute_input": "2020-10-12T20:10:14.171942Z",
     "iopub.status.busy": "2020-10-12T20:10:14.171331Z",
     "iopub.status.idle": "2020-10-12T20:10:14.181569Z",
     "shell.execute_reply": "2020-10-12T20:10:14.181057Z"
    },
    "papermill": {
     "duration": 0.09915,
     "end_time": "2020-10-12T20:10:14.181704",
     "exception": false,
     "start_time": "2020-10-12T20:10:14.082554",
     "status": "completed"
    },
    "pycharm": {
     "name": "#%%\n"
    },
    "tags": []
   },
   "outputs": [
    {
     "data": {
      "text/html": [
       "<div>\n",
       "<style scoped>\n",
       "    .dataframe tbody tr th:only-of-type {\n",
       "        vertical-align: middle;\n",
       "    }\n",
       "\n",
       "    .dataframe tbody tr th {\n",
       "        vertical-align: top;\n",
       "    }\n",
       "\n",
       "    .dataframe thead th {\n",
       "        text-align: right;\n",
       "    }\n",
       "</style>\n",
       "<table border=\"1\" class=\"dataframe\">\n",
       "  <thead>\n",
       "    <tr style=\"text-align: right;\">\n",
       "      <th></th>\n",
       "      <th>extraction_date_with_hour</th>\n",
       "      <th>shared_teks_by_upload_date</th>\n",
       "      <th>shared_diagnoses</th>\n",
       "    </tr>\n",
       "    <tr>\n",
       "      <th>datetime_utc</th>\n",
       "      <th></th>\n",
       "      <th></th>\n",
       "      <th></th>\n",
       "    </tr>\n",
       "  </thead>\n",
       "  <tbody>\n",
       "    <tr>\n",
       "      <th>2020-10-11 19:00:00</th>\n",
       "      <td>2020-10-11@19</td>\n",
       "      <td>0</td>\n",
       "      <td>0</td>\n",
       "    </tr>\n",
       "    <tr>\n",
       "      <th>2020-10-11 20:00:00</th>\n",
       "      <td>2020-10-11@20</td>\n",
       "      <td>32</td>\n",
       "      <td>8</td>\n",
       "    </tr>\n",
       "    <tr>\n",
       "      <th>2020-10-11 21:00:00</th>\n",
       "      <td>2020-10-11@21</td>\n",
       "      <td>0</td>\n",
       "      <td>0</td>\n",
       "    </tr>\n",
       "    <tr>\n",
       "      <th>2020-10-11 22:00:00</th>\n",
       "      <td>2020-10-11@22</td>\n",
       "      <td>0</td>\n",
       "      <td>0</td>\n",
       "    </tr>\n",
       "    <tr>\n",
       "      <th>2020-10-11 23:00:00</th>\n",
       "      <td>2020-10-11@23</td>\n",
       "      <td>0</td>\n",
       "      <td>0</td>\n",
       "    </tr>\n",
       "  </tbody>\n",
       "</table>\n",
       "</div>"
      ],
      "text/plain": [
       "                    extraction_date_with_hour  shared_teks_by_upload_date  \\\n",
       "datetime_utc                                                                \n",
       "2020-10-11 19:00:00             2020-10-11@19                           0   \n",
       "2020-10-11 20:00:00             2020-10-11@20                          32   \n",
       "2020-10-11 21:00:00             2020-10-11@21                           0   \n",
       "2020-10-11 22:00:00             2020-10-11@22                           0   \n",
       "2020-10-11 23:00:00             2020-10-11@23                           0   \n",
       "\n",
       "                     shared_diagnoses  \n",
       "datetime_utc                           \n",
       "2020-10-11 19:00:00                 0  \n",
       "2020-10-11 20:00:00                 8  \n",
       "2020-10-11 21:00:00                 0  \n",
       "2020-10-11 22:00:00                 0  \n",
       "2020-10-11 23:00:00                 0  "
      ]
     },
     "execution_count": 37,
     "metadata": {},
     "output_type": "execute_result"
    }
   ],
   "source": [
    "hourly_summary_df = hourly_new_tek_count_df.merge(\n",
    "    hourly_estimated_shared_diagnoses_df, on=[\"extraction_date_with_hour\"], how=\"outer\")\n",
    "hourly_summary_df.set_index(\"extraction_date_with_hour\", inplace=True)\n",
    "hourly_summary_df = hourly_summary_df.fillna(0).astype(int).reset_index()\n",
    "hourly_summary_df[\"datetime_utc\"] = pd.to_datetime(\n",
    "    hourly_summary_df.extraction_date_with_hour, format=\"%Y-%m-%d@%H\")\n",
    "hourly_summary_df.set_index(\"datetime_utc\", inplace=True)\n",
    "hourly_summary_df = hourly_summary_df.tail(-1)\n",
    "hourly_summary_df.head()"
   ]
  },
  {
   "cell_type": "markdown",
   "metadata": {
    "collapsed": false,
    "papermill": {
     "duration": 0.073574,
     "end_time": "2020-10-12T20:10:14.328316",
     "exception": false,
     "start_time": "2020-10-12T20:10:14.254742",
     "status": "completed"
    },
    "pycharm": {
     "name": "#%% md\n"
    },
    "tags": []
   },
   "source": [
    "### Data Merge"
   ]
  },
  {
   "cell_type": "code",
   "execution_count": 38,
   "metadata": {
    "collapsed": false,
    "execution": {
     "iopub.execute_input": "2020-10-12T20:10:14.497186Z",
     "iopub.status.busy": "2020-10-12T20:10:14.496488Z",
     "iopub.status.idle": "2020-10-12T20:10:14.500773Z",
     "shell.execute_reply": "2020-10-12T20:10:14.500201Z"
    },
    "papermill": {
     "duration": 0.09391,
     "end_time": "2020-10-12T20:10:14.500925",
     "exception": false,
     "start_time": "2020-10-12T20:10:14.407015",
     "status": "completed"
    },
    "pycharm": {
     "name": "#%%\n"
    },
    "tags": []
   },
   "outputs": [
    {
     "data": {
      "text/html": [
       "<div>\n",
       "<style scoped>\n",
       "    .dataframe tbody tr th:only-of-type {\n",
       "        vertical-align: middle;\n",
       "    }\n",
       "\n",
       "    .dataframe tbody tr th {\n",
       "        vertical-align: top;\n",
       "    }\n",
       "\n",
       "    .dataframe thead th {\n",
       "        text-align: right;\n",
       "    }\n",
       "</style>\n",
       "<table border=\"1\" class=\"dataframe\">\n",
       "  <thead>\n",
       "    <tr style=\"text-align: right;\">\n",
       "      <th></th>\n",
       "      <th>sample_date_string</th>\n",
       "      <th>shared_teks_by_generation_date</th>\n",
       "      <th>shared_teks_by_upload_date</th>\n",
       "    </tr>\n",
       "  </thead>\n",
       "  <tbody>\n",
       "    <tr>\n",
       "      <th>0</th>\n",
       "      <td>2020-10-12</td>\n",
       "      <td>2</td>\n",
       "      <td>318.0</td>\n",
       "    </tr>\n",
       "    <tr>\n",
       "      <th>1</th>\n",
       "      <td>2020-10-11</td>\n",
       "      <td>135</td>\n",
       "      <td>422.0</td>\n",
       "    </tr>\n",
       "    <tr>\n",
       "      <th>2</th>\n",
       "      <td>2020-10-10</td>\n",
       "      <td>199</td>\n",
       "      <td>429.0</td>\n",
       "    </tr>\n",
       "    <tr>\n",
       "      <th>3</th>\n",
       "      <td>2020-10-09</td>\n",
       "      <td>255</td>\n",
       "      <td>348.0</td>\n",
       "    </tr>\n",
       "    <tr>\n",
       "      <th>4</th>\n",
       "      <td>2020-10-08</td>\n",
       "      <td>285</td>\n",
       "      <td>272.0</td>\n",
       "    </tr>\n",
       "  </tbody>\n",
       "</table>\n",
       "</div>"
      ],
      "text/plain": [
       "  sample_date_string  shared_teks_by_generation_date  \\\n",
       "0         2020-10-12                               2   \n",
       "1         2020-10-11                             135   \n",
       "2         2020-10-10                             199   \n",
       "3         2020-10-09                             255   \n",
       "4         2020-10-08                             285   \n",
       "\n",
       "   shared_teks_by_upload_date  \n",
       "0                       318.0  \n",
       "1                       422.0  \n",
       "2                       429.0  \n",
       "3                       348.0  \n",
       "4                       272.0  "
      ]
     },
     "execution_count": 38,
     "metadata": {},
     "output_type": "execute_result"
    }
   ],
   "source": [
    "result_summary_df = exposure_keys_summary_df.merge(\n",
    "    new_tek_df, on=[\"sample_date_string\"], how=\"outer\")\n",
    "result_summary_df.head()"
   ]
  },
  {
   "cell_type": "code",
   "execution_count": 39,
   "metadata": {
    "execution": {
     "iopub.execute_input": "2020-10-12T20:10:14.665463Z",
     "iopub.status.busy": "2020-10-12T20:10:14.664799Z",
     "iopub.status.idle": "2020-10-12T20:10:14.677127Z",
     "shell.execute_reply": "2020-10-12T20:10:14.677794Z"
    },
    "papermill": {
     "duration": 0.102091,
     "end_time": "2020-10-12T20:10:14.677970",
     "exception": false,
     "start_time": "2020-10-12T20:10:14.575879",
     "status": "completed"
    },
    "tags": []
   },
   "outputs": [
    {
     "data": {
      "text/html": [
       "<div>\n",
       "<style scoped>\n",
       "    .dataframe tbody tr th:only-of-type {\n",
       "        vertical-align: middle;\n",
       "    }\n",
       "\n",
       "    .dataframe tbody tr th {\n",
       "        vertical-align: top;\n",
       "    }\n",
       "\n",
       "    .dataframe thead th {\n",
       "        text-align: right;\n",
       "    }\n",
       "</style>\n",
       "<table border=\"1\" class=\"dataframe\">\n",
       "  <thead>\n",
       "    <tr style=\"text-align: right;\">\n",
       "      <th></th>\n",
       "      <th>sample_date_string</th>\n",
       "      <th>shared_teks_by_generation_date</th>\n",
       "      <th>shared_teks_by_upload_date</th>\n",
       "      <th>shared_teks_uploaded_on_generation_date</th>\n",
       "    </tr>\n",
       "  </thead>\n",
       "  <tbody>\n",
       "    <tr>\n",
       "      <th>0</th>\n",
       "      <td>2020-10-12</td>\n",
       "      <td>2</td>\n",
       "      <td>318.0</td>\n",
       "      <td>2.0</td>\n",
       "    </tr>\n",
       "    <tr>\n",
       "      <th>1</th>\n",
       "      <td>2020-10-11</td>\n",
       "      <td>135</td>\n",
       "      <td>422.0</td>\n",
       "      <td>1.0</td>\n",
       "    </tr>\n",
       "    <tr>\n",
       "      <th>2</th>\n",
       "      <td>2020-10-10</td>\n",
       "      <td>199</td>\n",
       "      <td>429.0</td>\n",
       "      <td>NaN</td>\n",
       "    </tr>\n",
       "    <tr>\n",
       "      <th>3</th>\n",
       "      <td>2020-10-09</td>\n",
       "      <td>255</td>\n",
       "      <td>348.0</td>\n",
       "      <td>1.0</td>\n",
       "    </tr>\n",
       "    <tr>\n",
       "      <th>4</th>\n",
       "      <td>2020-10-08</td>\n",
       "      <td>285</td>\n",
       "      <td>272.0</td>\n",
       "      <td>1.0</td>\n",
       "    </tr>\n",
       "  </tbody>\n",
       "</table>\n",
       "</div>"
      ],
      "text/plain": [
       "  sample_date_string  shared_teks_by_generation_date  \\\n",
       "0         2020-10-12                               2   \n",
       "1         2020-10-11                             135   \n",
       "2         2020-10-10                             199   \n",
       "3         2020-10-09                             255   \n",
       "4         2020-10-08                             285   \n",
       "\n",
       "   shared_teks_by_upload_date  shared_teks_uploaded_on_generation_date  \n",
       "0                       318.0                                      2.0  \n",
       "1                       422.0                                      1.0  \n",
       "2                       429.0                                      NaN  \n",
       "3                       348.0                                      1.0  \n",
       "4                       272.0                                      1.0  "
      ]
     },
     "execution_count": 39,
     "metadata": {},
     "output_type": "execute_result"
    }
   ],
   "source": [
    "result_summary_df = result_summary_df.merge(\n",
    "    shared_teks_uploaded_on_generation_date_df, on=[\"sample_date_string\"], how=\"outer\")\n",
    "result_summary_df.head()"
   ]
  },
  {
   "cell_type": "code",
   "execution_count": 40,
   "metadata": {
    "collapsed": false,
    "execution": {
     "iopub.execute_input": "2020-10-12T20:10:14.856685Z",
     "iopub.status.busy": "2020-10-12T20:10:14.855712Z",
     "iopub.status.idle": "2020-10-12T20:10:14.858778Z",
     "shell.execute_reply": "2020-10-12T20:10:14.859270Z"
    },
    "papermill": {
     "duration": 0.100885,
     "end_time": "2020-10-12T20:10:14.859449",
     "exception": false,
     "start_time": "2020-10-12T20:10:14.758564",
     "status": "completed"
    },
    "pycharm": {
     "name": "#%%\n"
    },
    "tags": []
   },
   "outputs": [
    {
     "data": {
      "text/html": [
       "<div>\n",
       "<style scoped>\n",
       "    .dataframe tbody tr th:only-of-type {\n",
       "        vertical-align: middle;\n",
       "    }\n",
       "\n",
       "    .dataframe tbody tr th {\n",
       "        vertical-align: top;\n",
       "    }\n",
       "\n",
       "    .dataframe thead th {\n",
       "        text-align: right;\n",
       "    }\n",
       "</style>\n",
       "<table border=\"1\" class=\"dataframe\">\n",
       "  <thead>\n",
       "    <tr style=\"text-align: right;\">\n",
       "      <th></th>\n",
       "      <th>sample_date_string</th>\n",
       "      <th>shared_teks_by_generation_date</th>\n",
       "      <th>shared_teks_by_upload_date</th>\n",
       "      <th>shared_teks_uploaded_on_generation_date</th>\n",
       "      <th>shared_diagnoses</th>\n",
       "    </tr>\n",
       "  </thead>\n",
       "  <tbody>\n",
       "    <tr>\n",
       "      <th>0</th>\n",
       "      <td>2020-10-12</td>\n",
       "      <td>2</td>\n",
       "      <td>318.0</td>\n",
       "      <td>2.0</td>\n",
       "      <td>134.0</td>\n",
       "    </tr>\n",
       "    <tr>\n",
       "      <th>1</th>\n",
       "      <td>2020-10-11</td>\n",
       "      <td>135</td>\n",
       "      <td>422.0</td>\n",
       "      <td>1.0</td>\n",
       "      <td>147.0</td>\n",
       "    </tr>\n",
       "    <tr>\n",
       "      <th>2</th>\n",
       "      <td>2020-10-10</td>\n",
       "      <td>199</td>\n",
       "      <td>429.0</td>\n",
       "      <td>NaN</td>\n",
       "      <td>133.0</td>\n",
       "    </tr>\n",
       "    <tr>\n",
       "      <th>3</th>\n",
       "      <td>2020-10-09</td>\n",
       "      <td>255</td>\n",
       "      <td>348.0</td>\n",
       "      <td>1.0</td>\n",
       "      <td>105.0</td>\n",
       "    </tr>\n",
       "    <tr>\n",
       "      <th>4</th>\n",
       "      <td>2020-10-08</td>\n",
       "      <td>285</td>\n",
       "      <td>272.0</td>\n",
       "      <td>1.0</td>\n",
       "      <td>86.0</td>\n",
       "    </tr>\n",
       "  </tbody>\n",
       "</table>\n",
       "</div>"
      ],
      "text/plain": [
       "  sample_date_string  shared_teks_by_generation_date  \\\n",
       "0         2020-10-12                               2   \n",
       "1         2020-10-11                             135   \n",
       "2         2020-10-10                             199   \n",
       "3         2020-10-09                             255   \n",
       "4         2020-10-08                             285   \n",
       "\n",
       "   shared_teks_by_upload_date  shared_teks_uploaded_on_generation_date  \\\n",
       "0                       318.0                                      2.0   \n",
       "1                       422.0                                      1.0   \n",
       "2                       429.0                                      NaN   \n",
       "3                       348.0                                      1.0   \n",
       "4                       272.0                                      1.0   \n",
       "\n",
       "   shared_diagnoses  \n",
       "0             134.0  \n",
       "1             147.0  \n",
       "2             133.0  \n",
       "3             105.0  \n",
       "4              86.0  "
      ]
     },
     "execution_count": 40,
     "metadata": {},
     "output_type": "execute_result"
    }
   ],
   "source": [
    "result_summary_df = result_summary_df.merge(\n",
    "    estimated_shared_diagnoses_df, on=[\"sample_date_string\"], how=\"outer\")\n",
    "result_summary_df.head()"
   ]
  },
  {
   "cell_type": "code",
   "execution_count": 41,
   "metadata": {
    "collapsed": false,
    "execution": {
     "iopub.execute_input": "2020-10-12T20:10:15.031935Z",
     "iopub.status.busy": "2020-10-12T20:10:15.031256Z",
     "iopub.status.idle": "2020-10-12T20:10:15.047872Z",
     "shell.execute_reply": "2020-10-12T20:10:15.048467Z"
    },
    "papermill": {
     "duration": 0.109662,
     "end_time": "2020-10-12T20:10:15.048649",
     "exception": false,
     "start_time": "2020-10-12T20:10:14.938987",
     "status": "completed"
    },
    "pycharm": {
     "name": "#%%\n"
    },
    "tags": []
   },
   "outputs": [
    {
     "data": {
      "text/html": [
       "<div>\n",
       "<style scoped>\n",
       "    .dataframe tbody tr th:only-of-type {\n",
       "        vertical-align: middle;\n",
       "    }\n",
       "\n",
       "    .dataframe tbody tr th {\n",
       "        vertical-align: top;\n",
       "    }\n",
       "\n",
       "    .dataframe thead th {\n",
       "        text-align: right;\n",
       "    }\n",
       "</style>\n",
       "<table border=\"1\" class=\"dataframe\">\n",
       "  <thead>\n",
       "    <tr style=\"text-align: right;\">\n",
       "      <th></th>\n",
       "      <th>sample_date_string</th>\n",
       "      <th>cumulative_cases</th>\n",
       "      <th>new_cases</th>\n",
       "      <th>covid_cases</th>\n",
       "      <th>shared_teks_by_generation_date</th>\n",
       "      <th>shared_teks_by_upload_date</th>\n",
       "      <th>shared_teks_uploaded_on_generation_date</th>\n",
       "      <th>shared_diagnoses</th>\n",
       "    </tr>\n",
       "  </thead>\n",
       "  <tbody>\n",
       "    <tr>\n",
       "      <th>0</th>\n",
       "      <td>2020-07-21</td>\n",
       "      <td>266194.0</td>\n",
       "      <td>1358.0</td>\n",
       "      <td>1243</td>\n",
       "      <td>NaN</td>\n",
       "      <td>NaN</td>\n",
       "      <td>NaN</td>\n",
       "      <td>NaN</td>\n",
       "    </tr>\n",
       "    <tr>\n",
       "      <th>1</th>\n",
       "      <td>2020-07-22</td>\n",
       "      <td>267551.0</td>\n",
       "      <td>1357.0</td>\n",
       "      <td>1242</td>\n",
       "      <td>NaN</td>\n",
       "      <td>NaN</td>\n",
       "      <td>NaN</td>\n",
       "      <td>NaN</td>\n",
       "    </tr>\n",
       "    <tr>\n",
       "      <th>2</th>\n",
       "      <td>2020-07-23</td>\n",
       "      <td>270166.0</td>\n",
       "      <td>2615.0</td>\n",
       "      <td>1416</td>\n",
       "      <td>NaN</td>\n",
       "      <td>NaN</td>\n",
       "      <td>NaN</td>\n",
       "      <td>NaN</td>\n",
       "    </tr>\n",
       "    <tr>\n",
       "      <th>3</th>\n",
       "      <td>2020-07-24</td>\n",
       "      <td>272421.0</td>\n",
       "      <td>2255.0</td>\n",
       "      <td>1738</td>\n",
       "      <td>NaN</td>\n",
       "      <td>NaN</td>\n",
       "      <td>NaN</td>\n",
       "      <td>NaN</td>\n",
       "    </tr>\n",
       "    <tr>\n",
       "      <th>4</th>\n",
       "      <td>2020-07-25</td>\n",
       "      <td>272421.0</td>\n",
       "      <td>0.0</td>\n",
       "      <td>1738</td>\n",
       "      <td>NaN</td>\n",
       "      <td>NaN</td>\n",
       "      <td>NaN</td>\n",
       "      <td>NaN</td>\n",
       "    </tr>\n",
       "  </tbody>\n",
       "</table>\n",
       "</div>"
      ],
      "text/plain": [
       "  sample_date_string  cumulative_cases  new_cases  covid_cases  \\\n",
       "0         2020-07-21          266194.0     1358.0         1243   \n",
       "1         2020-07-22          267551.0     1357.0         1242   \n",
       "2         2020-07-23          270166.0     2615.0         1416   \n",
       "3         2020-07-24          272421.0     2255.0         1738   \n",
       "4         2020-07-25          272421.0        0.0         1738   \n",
       "\n",
       "   shared_teks_by_generation_date  shared_teks_by_upload_date  \\\n",
       "0                             NaN                         NaN   \n",
       "1                             NaN                         NaN   \n",
       "2                             NaN                         NaN   \n",
       "3                             NaN                         NaN   \n",
       "4                             NaN                         NaN   \n",
       "\n",
       "   shared_teks_uploaded_on_generation_date  shared_diagnoses  \n",
       "0                                      NaN               NaN  \n",
       "1                                      NaN               NaN  \n",
       "2                                      NaN               NaN  \n",
       "3                                      NaN               NaN  \n",
       "4                                      NaN               NaN  "
      ]
     },
     "execution_count": 41,
     "metadata": {},
     "output_type": "execute_result"
    }
   ],
   "source": [
    "result_summary_df = confirmed_df.tail(daily_summary_days).merge(\n",
    "    result_summary_df, on=[\"sample_date_string\"], how=\"left\")\n",
    "result_summary_df.head()"
   ]
  },
  {
   "cell_type": "code",
   "execution_count": 42,
   "metadata": {
    "collapsed": false,
    "execution": {
     "iopub.execute_input": "2020-10-12T20:10:15.212604Z",
     "iopub.status.busy": "2020-10-12T20:10:15.211915Z",
     "iopub.status.idle": "2020-10-12T20:10:15.227516Z",
     "shell.execute_reply": "2020-10-12T20:10:15.228089Z"
    },
    "papermill": {
     "duration": 0.100803,
     "end_time": "2020-10-12T20:10:15.228334",
     "exception": false,
     "start_time": "2020-10-12T20:10:15.127531",
     "status": "completed"
    },
    "pycharm": {
     "name": "#%%\n"
    },
    "tags": []
   },
   "outputs": [
    {
     "data": {
      "text/html": [
       "<div>\n",
       "<style scoped>\n",
       "    .dataframe tbody tr th:only-of-type {\n",
       "        vertical-align: middle;\n",
       "    }\n",
       "\n",
       "    .dataframe tbody tr th {\n",
       "        vertical-align: top;\n",
       "    }\n",
       "\n",
       "    .dataframe thead th {\n",
       "        text-align: right;\n",
       "    }\n",
       "</style>\n",
       "<table border=\"1\" class=\"dataframe\">\n",
       "  <thead>\n",
       "    <tr style=\"text-align: right;\">\n",
       "      <th></th>\n",
       "      <th>cumulative_cases</th>\n",
       "      <th>new_cases</th>\n",
       "      <th>covid_cases</th>\n",
       "      <th>shared_teks_by_generation_date</th>\n",
       "      <th>shared_teks_by_upload_date</th>\n",
       "      <th>shared_teks_uploaded_on_generation_date</th>\n",
       "      <th>shared_diagnoses</th>\n",
       "    </tr>\n",
       "    <tr>\n",
       "      <th>sample_date</th>\n",
       "      <th></th>\n",
       "      <th></th>\n",
       "      <th></th>\n",
       "      <th></th>\n",
       "      <th></th>\n",
       "      <th></th>\n",
       "      <th></th>\n",
       "    </tr>\n",
       "  </thead>\n",
       "  <tbody>\n",
       "    <tr>\n",
       "      <th>2020-10-12</th>\n",
       "      <td>871281.0</td>\n",
       "      <td>10169.0</td>\n",
       "      <td>10169</td>\n",
       "      <td>2.0</td>\n",
       "      <td>318.0</td>\n",
       "      <td>2.0</td>\n",
       "      <td>134.0</td>\n",
       "    </tr>\n",
       "    <tr>\n",
       "      <th>2020-10-11</th>\n",
       "      <td>861112.0</td>\n",
       "      <td>0.0</td>\n",
       "      <td>10169</td>\n",
       "      <td>135.0</td>\n",
       "      <td>422.0</td>\n",
       "      <td>1.0</td>\n",
       "      <td>147.0</td>\n",
       "    </tr>\n",
       "    <tr>\n",
       "      <th>2020-10-10</th>\n",
       "      <td>861112.0</td>\n",
       "      <td>0.0</td>\n",
       "      <td>10169</td>\n",
       "      <td>199.0</td>\n",
       "      <td>429.0</td>\n",
       "      <td>NaN</td>\n",
       "      <td>133.0</td>\n",
       "    </tr>\n",
       "    <tr>\n",
       "      <th>2020-10-09</th>\n",
       "      <td>861112.0</td>\n",
       "      <td>12788.0</td>\n",
       "      <td>10169</td>\n",
       "      <td>255.0</td>\n",
       "      <td>348.0</td>\n",
       "      <td>1.0</td>\n",
       "      <td>105.0</td>\n",
       "    </tr>\n",
       "    <tr>\n",
       "      <th>2020-10-08</th>\n",
       "      <td>848324.0</td>\n",
       "      <td>12423.0</td>\n",
       "      <td>9960</td>\n",
       "      <td>285.0</td>\n",
       "      <td>272.0</td>\n",
       "      <td>1.0</td>\n",
       "      <td>86.0</td>\n",
       "    </tr>\n",
       "  </tbody>\n",
       "</table>\n",
       "</div>"
      ],
      "text/plain": [
       "             cumulative_cases  new_cases  covid_cases  \\\n",
       "sample_date                                             \n",
       "2020-10-12           871281.0    10169.0        10169   \n",
       "2020-10-11           861112.0        0.0        10169   \n",
       "2020-10-10           861112.0        0.0        10169   \n",
       "2020-10-09           861112.0    12788.0        10169   \n",
       "2020-10-08           848324.0    12423.0         9960   \n",
       "\n",
       "             shared_teks_by_generation_date  shared_teks_by_upload_date  \\\n",
       "sample_date                                                               \n",
       "2020-10-12                              2.0                       318.0   \n",
       "2020-10-11                            135.0                       422.0   \n",
       "2020-10-10                            199.0                       429.0   \n",
       "2020-10-09                            255.0                       348.0   \n",
       "2020-10-08                            285.0                       272.0   \n",
       "\n",
       "             shared_teks_uploaded_on_generation_date  shared_diagnoses  \n",
       "sample_date                                                             \n",
       "2020-10-12                                       2.0             134.0  \n",
       "2020-10-11                                       1.0             147.0  \n",
       "2020-10-10                                       NaN             133.0  \n",
       "2020-10-09                                       1.0             105.0  \n",
       "2020-10-08                                       1.0              86.0  "
      ]
     },
     "execution_count": 42,
     "metadata": {},
     "output_type": "execute_result"
    }
   ],
   "source": [
    "result_summary_df[\"sample_date\"] = pd.to_datetime(result_summary_df.sample_date_string)\n",
    "result_summary_df.set_index(\"sample_date\", inplace=True)\n",
    "result_summary_df.drop(columns=[\"sample_date_string\"], inplace=True)\n",
    "result_summary_df.sort_index(ascending=False, inplace=True)\n",
    "result_summary_df.head()"
   ]
  },
  {
   "cell_type": "code",
   "execution_count": 43,
   "metadata": {
    "collapsed": false,
    "execution": {
     "iopub.execute_input": "2020-10-12T20:10:15.426966Z",
     "iopub.status.busy": "2020-10-12T20:10:15.426248Z",
     "iopub.status.idle": "2020-10-12T20:10:15.429509Z",
     "shell.execute_reply": "2020-10-12T20:10:15.430148Z"
    },
    "papermill": {
     "duration": 0.117708,
     "end_time": "2020-10-12T20:10:15.430387",
     "exception": false,
     "start_time": "2020-10-12T20:10:15.312679",
     "status": "completed"
    },
    "pycharm": {
     "name": "#%%\n"
    },
    "tags": []
   },
   "outputs": [
    {
     "data": {
      "text/html": [
       "<div>\n",
       "<style scoped>\n",
       "    .dataframe tbody tr th:only-of-type {\n",
       "        vertical-align: middle;\n",
       "    }\n",
       "\n",
       "    .dataframe tbody tr th {\n",
       "        vertical-align: top;\n",
       "    }\n",
       "\n",
       "    .dataframe thead th {\n",
       "        text-align: right;\n",
       "    }\n",
       "</style>\n",
       "<table border=\"1\" class=\"dataframe\">\n",
       "  <thead>\n",
       "    <tr style=\"text-align: right;\">\n",
       "      <th></th>\n",
       "      <th>cumulative_cases</th>\n",
       "      <th>new_cases</th>\n",
       "      <th>covid_cases</th>\n",
       "      <th>shared_teks_by_generation_date</th>\n",
       "      <th>shared_teks_by_upload_date</th>\n",
       "      <th>shared_teks_uploaded_on_generation_date</th>\n",
       "      <th>shared_diagnoses</th>\n",
       "      <th>teks_per_shared_diagnosis</th>\n",
       "      <th>shared_diagnoses_per_covid_case</th>\n",
       "    </tr>\n",
       "    <tr>\n",
       "      <th>sample_date</th>\n",
       "      <th></th>\n",
       "      <th></th>\n",
       "      <th></th>\n",
       "      <th></th>\n",
       "      <th></th>\n",
       "      <th></th>\n",
       "      <th></th>\n",
       "      <th></th>\n",
       "      <th></th>\n",
       "    </tr>\n",
       "  </thead>\n",
       "  <tbody>\n",
       "    <tr>\n",
       "      <th>2020-10-12</th>\n",
       "      <td>871281</td>\n",
       "      <td>10169</td>\n",
       "      <td>10169</td>\n",
       "      <td>2</td>\n",
       "      <td>318</td>\n",
       "      <td>2</td>\n",
       "      <td>134</td>\n",
       "      <td>2.373134</td>\n",
       "      <td>0.013177</td>\n",
       "    </tr>\n",
       "    <tr>\n",
       "      <th>2020-10-11</th>\n",
       "      <td>861112</td>\n",
       "      <td>0</td>\n",
       "      <td>10169</td>\n",
       "      <td>135</td>\n",
       "      <td>422</td>\n",
       "      <td>1</td>\n",
       "      <td>147</td>\n",
       "      <td>2.870748</td>\n",
       "      <td>0.014456</td>\n",
       "    </tr>\n",
       "    <tr>\n",
       "      <th>2020-10-10</th>\n",
       "      <td>861112</td>\n",
       "      <td>0</td>\n",
       "      <td>10169</td>\n",
       "      <td>199</td>\n",
       "      <td>429</td>\n",
       "      <td>0</td>\n",
       "      <td>133</td>\n",
       "      <td>3.225564</td>\n",
       "      <td>0.013079</td>\n",
       "    </tr>\n",
       "    <tr>\n",
       "      <th>2020-10-09</th>\n",
       "      <td>861112</td>\n",
       "      <td>12788</td>\n",
       "      <td>10169</td>\n",
       "      <td>255</td>\n",
       "      <td>348</td>\n",
       "      <td>1</td>\n",
       "      <td>105</td>\n",
       "      <td>3.314286</td>\n",
       "      <td>0.010325</td>\n",
       "    </tr>\n",
       "    <tr>\n",
       "      <th>2020-10-08</th>\n",
       "      <td>848324</td>\n",
       "      <td>12423</td>\n",
       "      <td>9960</td>\n",
       "      <td>285</td>\n",
       "      <td>272</td>\n",
       "      <td>1</td>\n",
       "      <td>86</td>\n",
       "      <td>3.162791</td>\n",
       "      <td>0.008635</td>\n",
       "    </tr>\n",
       "    <tr>\n",
       "      <th>2020-10-07</th>\n",
       "      <td>835901</td>\n",
       "      <td>10491</td>\n",
       "      <td>9530</td>\n",
       "      <td>288</td>\n",
       "      <td>178</td>\n",
       "      <td>0</td>\n",
       "      <td>54</td>\n",
       "      <td>3.296296</td>\n",
       "      <td>0.005666</td>\n",
       "    </tr>\n",
       "    <tr>\n",
       "      <th>2020-10-06</th>\n",
       "      <td>825410</td>\n",
       "      <td>11998</td>\n",
       "      <td>11021</td>\n",
       "      <td>334</td>\n",
       "      <td>233</td>\n",
       "      <td>60</td>\n",
       "      <td>56</td>\n",
       "      <td>4.160714</td>\n",
       "      <td>0.005081</td>\n",
       "    </tr>\n",
       "    <tr>\n",
       "      <th>2020-10-05</th>\n",
       "      <td>813412</td>\n",
       "      <td>23480</td>\n",
       "      <td>9307</td>\n",
       "      <td>322</td>\n",
       "      <td>273</td>\n",
       "      <td>52</td>\n",
       "      <td>69</td>\n",
       "      <td>3.956522</td>\n",
       "      <td>0.007414</td>\n",
       "    </tr>\n",
       "    <tr>\n",
       "      <th>2020-10-04</th>\n",
       "      <td>789932</td>\n",
       "      <td>0</td>\n",
       "      <td>10493</td>\n",
       "      <td>337</td>\n",
       "      <td>331</td>\n",
       "      <td>76</td>\n",
       "      <td>78</td>\n",
       "      <td>4.243590</td>\n",
       "      <td>0.007434</td>\n",
       "    </tr>\n",
       "    <tr>\n",
       "      <th>2020-10-03</th>\n",
       "      <td>789932</td>\n",
       "      <td>0</td>\n",
       "      <td>10493</td>\n",
       "      <td>302</td>\n",
       "      <td>324</td>\n",
       "      <td>69</td>\n",
       "      <td>76</td>\n",
       "      <td>4.263158</td>\n",
       "      <td>0.007243</td>\n",
       "    </tr>\n",
       "    <tr>\n",
       "      <th>2020-10-02</th>\n",
       "      <td>789932</td>\n",
       "      <td>11325</td>\n",
       "      <td>10493</td>\n",
       "      <td>309</td>\n",
       "      <td>299</td>\n",
       "      <td>72</td>\n",
       "      <td>72</td>\n",
       "      <td>4.152778</td>\n",
       "      <td>0.006862</td>\n",
       "    </tr>\n",
       "    <tr>\n",
       "      <th>2020-10-01</th>\n",
       "      <td>778607</td>\n",
       "      <td>9419</td>\n",
       "      <td>10628</td>\n",
       "      <td>315</td>\n",
       "      <td>367</td>\n",
       "      <td>75</td>\n",
       "      <td>74</td>\n",
       "      <td>4.959459</td>\n",
       "      <td>0.006963</td>\n",
       "    </tr>\n",
       "    <tr>\n",
       "      <th>2020-09-30</th>\n",
       "      <td>769188</td>\n",
       "      <td>20922</td>\n",
       "      <td>10805</td>\n",
       "      <td>294</td>\n",
       "      <td>271</td>\n",
       "      <td>55</td>\n",
       "      <td>51</td>\n",
       "      <td>5.313725</td>\n",
       "      <td>0.004720</td>\n",
       "    </tr>\n",
       "    <tr>\n",
       "      <th>2020-09-29</th>\n",
       "      <td>748266</td>\n",
       "      <td>0</td>\n",
       "      <td>9428</td>\n",
       "      <td>265</td>\n",
       "      <td>178</td>\n",
       "      <td>32</td>\n",
       "      <td>44</td>\n",
       "      <td>4.045455</td>\n",
       "      <td>0.004667</td>\n",
       "    </tr>\n",
       "    <tr>\n",
       "      <th>2020-09-28</th>\n",
       "      <td>748266</td>\n",
       "      <td>31785</td>\n",
       "      <td>10971</td>\n",
       "      <td>269</td>\n",
       "      <td>211</td>\n",
       "      <td>44</td>\n",
       "      <td>54</td>\n",
       "      <td>3.907407</td>\n",
       "      <td>0.004922</td>\n",
       "    </tr>\n",
       "    <tr>\n",
       "      <th>2020-09-27</th>\n",
       "      <td>716481</td>\n",
       "      <td>0</td>\n",
       "      <td>10920</td>\n",
       "      <td>315</td>\n",
       "      <td>449</td>\n",
       "      <td>98</td>\n",
       "      <td>108</td>\n",
       "      <td>4.157407</td>\n",
       "      <td>0.009890</td>\n",
       "    </tr>\n",
       "    <tr>\n",
       "      <th>2020-09-26</th>\n",
       "      <td>716481</td>\n",
       "      <td>0</td>\n",
       "      <td>10920</td>\n",
       "      <td>339</td>\n",
       "      <td>448</td>\n",
       "      <td>79</td>\n",
       "      <td>110</td>\n",
       "      <td>4.072727</td>\n",
       "      <td>0.010073</td>\n",
       "    </tr>\n",
       "    <tr>\n",
       "      <th>2020-09-25</th>\n",
       "      <td>716481</td>\n",
       "      <td>12272</td>\n",
       "      <td>10920</td>\n",
       "      <td>284</td>\n",
       "      <td>306</td>\n",
       "      <td>14</td>\n",
       "      <td>86</td>\n",
       "      <td>3.558140</td>\n",
       "      <td>0.007875</td>\n",
       "    </tr>\n",
       "    <tr>\n",
       "      <th>2020-09-24</th>\n",
       "      <td>704209</td>\n",
       "      <td>10653</td>\n",
       "      <td>11223</td>\n",
       "      <td>286</td>\n",
       "      <td>289</td>\n",
       "      <td>17</td>\n",
       "      <td>89</td>\n",
       "      <td>3.247191</td>\n",
       "      <td>0.007930</td>\n",
       "    </tr>\n",
       "    <tr>\n",
       "      <th>2020-09-23</th>\n",
       "      <td>693556</td>\n",
       "      <td>11289</td>\n",
       "      <td>11314</td>\n",
       "      <td>296</td>\n",
       "      <td>267</td>\n",
       "      <td>4</td>\n",
       "      <td>70</td>\n",
       "      <td>3.814286</td>\n",
       "      <td>0.006187</td>\n",
       "    </tr>\n",
       "    <tr>\n",
       "      <th>2020-09-22</th>\n",
       "      <td>682267</td>\n",
       "      <td>10799</td>\n",
       "      <td>11300</td>\n",
       "      <td>282</td>\n",
       "      <td>148</td>\n",
       "      <td>0</td>\n",
       "      <td>55</td>\n",
       "      <td>2.690909</td>\n",
       "      <td>0.004867</td>\n",
       "    </tr>\n",
       "    <tr>\n",
       "      <th>2020-09-21</th>\n",
       "      <td>671468</td>\n",
       "      <td>31428</td>\n",
       "      <td>11105</td>\n",
       "      <td>268</td>\n",
       "      <td>190</td>\n",
       "      <td>0</td>\n",
       "      <td>45</td>\n",
       "      <td>4.222222</td>\n",
       "      <td>0.004052</td>\n",
       "    </tr>\n",
       "    <tr>\n",
       "      <th>2020-09-20</th>\n",
       "      <td>640040</td>\n",
       "      <td>0</td>\n",
       "      <td>10531</td>\n",
       "      <td>218</td>\n",
       "      <td>116</td>\n",
       "      <td>0</td>\n",
       "      <td>45</td>\n",
       "      <td>2.577778</td>\n",
       "      <td>0.004273</td>\n",
       "    </tr>\n",
       "    <tr>\n",
       "      <th>2020-09-19</th>\n",
       "      <td>640040</td>\n",
       "      <td>0</td>\n",
       "      <td>10531</td>\n",
       "      <td>203</td>\n",
       "      <td>90</td>\n",
       "      <td>2</td>\n",
       "      <td>39</td>\n",
       "      <td>2.307692</td>\n",
       "      <td>0.003703</td>\n",
       "    </tr>\n",
       "    <tr>\n",
       "      <th>2020-09-18</th>\n",
       "      <td>640040</td>\n",
       "      <td>14389</td>\n",
       "      <td>10531</td>\n",
       "      <td>165</td>\n",
       "      <td>138</td>\n",
       "      <td>1</td>\n",
       "      <td>52</td>\n",
       "      <td>2.653846</td>\n",
       "      <td>0.004938</td>\n",
       "    </tr>\n",
       "    <tr>\n",
       "      <th>2020-09-17</th>\n",
       "      <td>625651</td>\n",
       "      <td>11291</td>\n",
       "      <td>10215</td>\n",
       "      <td>139</td>\n",
       "      <td>63</td>\n",
       "      <td>0</td>\n",
       "      <td>29</td>\n",
       "      <td>2.172414</td>\n",
       "      <td>0.002839</td>\n",
       "    </tr>\n",
       "    <tr>\n",
       "      <th>2020-09-16</th>\n",
       "      <td>614360</td>\n",
       "      <td>11193</td>\n",
       "      <td>10140</td>\n",
       "      <td>119</td>\n",
       "      <td>62</td>\n",
       "      <td>0</td>\n",
       "      <td>23</td>\n",
       "      <td>2.695652</td>\n",
       "      <td>0.002268</td>\n",
       "    </tr>\n",
       "    <tr>\n",
       "      <th>2020-09-15</th>\n",
       "      <td>603167</td>\n",
       "      <td>9437</td>\n",
       "      <td>9808</td>\n",
       "      <td>82</td>\n",
       "      <td>58</td>\n",
       "      <td>0</td>\n",
       "      <td>23</td>\n",
       "      <td>2.521739</td>\n",
       "      <td>0.002345</td>\n",
       "    </tr>\n",
       "  </tbody>\n",
       "</table>\n",
       "</div>"
      ],
      "text/plain": [
       "             cumulative_cases  new_cases  covid_cases  \\\n",
       "sample_date                                             \n",
       "2020-10-12             871281      10169        10169   \n",
       "2020-10-11             861112          0        10169   \n",
       "2020-10-10             861112          0        10169   \n",
       "2020-10-09             861112      12788        10169   \n",
       "2020-10-08             848324      12423         9960   \n",
       "2020-10-07             835901      10491         9530   \n",
       "2020-10-06             825410      11998        11021   \n",
       "2020-10-05             813412      23480         9307   \n",
       "2020-10-04             789932          0        10493   \n",
       "2020-10-03             789932          0        10493   \n",
       "2020-10-02             789932      11325        10493   \n",
       "2020-10-01             778607       9419        10628   \n",
       "2020-09-30             769188      20922        10805   \n",
       "2020-09-29             748266          0         9428   \n",
       "2020-09-28             748266      31785        10971   \n",
       "2020-09-27             716481          0        10920   \n",
       "2020-09-26             716481          0        10920   \n",
       "2020-09-25             716481      12272        10920   \n",
       "2020-09-24             704209      10653        11223   \n",
       "2020-09-23             693556      11289        11314   \n",
       "2020-09-22             682267      10799        11300   \n",
       "2020-09-21             671468      31428        11105   \n",
       "2020-09-20             640040          0        10531   \n",
       "2020-09-19             640040          0        10531   \n",
       "2020-09-18             640040      14389        10531   \n",
       "2020-09-17             625651      11291        10215   \n",
       "2020-09-16             614360      11193        10140   \n",
       "2020-09-15             603167       9437         9808   \n",
       "\n",
       "             shared_teks_by_generation_date  shared_teks_by_upload_date  \\\n",
       "sample_date                                                               \n",
       "2020-10-12                                2                         318   \n",
       "2020-10-11                              135                         422   \n",
       "2020-10-10                              199                         429   \n",
       "2020-10-09                              255                         348   \n",
       "2020-10-08                              285                         272   \n",
       "2020-10-07                              288                         178   \n",
       "2020-10-06                              334                         233   \n",
       "2020-10-05                              322                         273   \n",
       "2020-10-04                              337                         331   \n",
       "2020-10-03                              302                         324   \n",
       "2020-10-02                              309                         299   \n",
       "2020-10-01                              315                         367   \n",
       "2020-09-30                              294                         271   \n",
       "2020-09-29                              265                         178   \n",
       "2020-09-28                              269                         211   \n",
       "2020-09-27                              315                         449   \n",
       "2020-09-26                              339                         448   \n",
       "2020-09-25                              284                         306   \n",
       "2020-09-24                              286                         289   \n",
       "2020-09-23                              296                         267   \n",
       "2020-09-22                              282                         148   \n",
       "2020-09-21                              268                         190   \n",
       "2020-09-20                              218                         116   \n",
       "2020-09-19                              203                          90   \n",
       "2020-09-18                              165                         138   \n",
       "2020-09-17                              139                          63   \n",
       "2020-09-16                              119                          62   \n",
       "2020-09-15                               82                          58   \n",
       "\n",
       "             shared_teks_uploaded_on_generation_date  shared_diagnoses  \\\n",
       "sample_date                                                              \n",
       "2020-10-12                                         2               134   \n",
       "2020-10-11                                         1               147   \n",
       "2020-10-10                                         0               133   \n",
       "2020-10-09                                         1               105   \n",
       "2020-10-08                                         1                86   \n",
       "2020-10-07                                         0                54   \n",
       "2020-10-06                                        60                56   \n",
       "2020-10-05                                        52                69   \n",
       "2020-10-04                                        76                78   \n",
       "2020-10-03                                        69                76   \n",
       "2020-10-02                                        72                72   \n",
       "2020-10-01                                        75                74   \n",
       "2020-09-30                                        55                51   \n",
       "2020-09-29                                        32                44   \n",
       "2020-09-28                                        44                54   \n",
       "2020-09-27                                        98               108   \n",
       "2020-09-26                                        79               110   \n",
       "2020-09-25                                        14                86   \n",
       "2020-09-24                                        17                89   \n",
       "2020-09-23                                         4                70   \n",
       "2020-09-22                                         0                55   \n",
       "2020-09-21                                         0                45   \n",
       "2020-09-20                                         0                45   \n",
       "2020-09-19                                         2                39   \n",
       "2020-09-18                                         1                52   \n",
       "2020-09-17                                         0                29   \n",
       "2020-09-16                                         0                23   \n",
       "2020-09-15                                         0                23   \n",
       "\n",
       "             teks_per_shared_diagnosis  shared_diagnoses_per_covid_case  \n",
       "sample_date                                                              \n",
       "2020-10-12                    2.373134                         0.013177  \n",
       "2020-10-11                    2.870748                         0.014456  \n",
       "2020-10-10                    3.225564                         0.013079  \n",
       "2020-10-09                    3.314286                         0.010325  \n",
       "2020-10-08                    3.162791                         0.008635  \n",
       "2020-10-07                    3.296296                         0.005666  \n",
       "2020-10-06                    4.160714                         0.005081  \n",
       "2020-10-05                    3.956522                         0.007414  \n",
       "2020-10-04                    4.243590                         0.007434  \n",
       "2020-10-03                    4.263158                         0.007243  \n",
       "2020-10-02                    4.152778                         0.006862  \n",
       "2020-10-01                    4.959459                         0.006963  \n",
       "2020-09-30                    5.313725                         0.004720  \n",
       "2020-09-29                    4.045455                         0.004667  \n",
       "2020-09-28                    3.907407                         0.004922  \n",
       "2020-09-27                    4.157407                         0.009890  \n",
       "2020-09-26                    4.072727                         0.010073  \n",
       "2020-09-25                    3.558140                         0.007875  \n",
       "2020-09-24                    3.247191                         0.007930  \n",
       "2020-09-23                    3.814286                         0.006187  \n",
       "2020-09-22                    2.690909                         0.004867  \n",
       "2020-09-21                    4.222222                         0.004052  \n",
       "2020-09-20                    2.577778                         0.004273  \n",
       "2020-09-19                    2.307692                         0.003703  \n",
       "2020-09-18                    2.653846                         0.004938  \n",
       "2020-09-17                    2.172414                         0.002839  \n",
       "2020-09-16                    2.695652                         0.002268  \n",
       "2020-09-15                    2.521739                         0.002345  "
      ]
     },
     "execution_count": 43,
     "metadata": {},
     "output_type": "execute_result"
    }
   ],
   "source": [
    "with pd.option_context(\"mode.use_inf_as_na\", True):\n",
    "    result_summary_df = result_summary_df.fillna(0).astype(int)\n",
    "    result_summary_df[\"teks_per_shared_diagnosis\"] = \\\n",
    "        (result_summary_df.shared_teks_by_upload_date / result_summary_df.shared_diagnoses).fillna(0)\n",
    "    result_summary_df[\"shared_diagnoses_per_covid_case\"] = \\\n",
    "        (result_summary_df.shared_diagnoses / result_summary_df.covid_cases).fillna(0)\n",
    "\n",
    "result_summary_df.head(daily_plot_days)"
   ]
  },
  {
   "cell_type": "code",
   "execution_count": 44,
   "metadata": {
    "collapsed": false,
    "execution": {
     "iopub.execute_input": "2020-10-12T20:10:15.610768Z",
     "iopub.status.busy": "2020-10-12T20:10:15.610141Z",
     "iopub.status.idle": "2020-10-12T20:10:15.613678Z",
     "shell.execute_reply": "2020-10-12T20:10:15.614312Z"
    },
    "papermill": {
     "duration": 0.106895,
     "end_time": "2020-10-12T20:10:15.614466",
     "exception": false,
     "start_time": "2020-10-12T20:10:15.507571",
     "status": "completed"
    },
    "pycharm": {
     "name": "#%%\n"
    },
    "tags": []
   },
   "outputs": [
    {
     "data": {
      "text/html": [
       "<div>\n",
       "<style scoped>\n",
       "    .dataframe tbody tr th:only-of-type {\n",
       "        vertical-align: middle;\n",
       "    }\n",
       "\n",
       "    .dataframe tbody tr th {\n",
       "        vertical-align: top;\n",
       "    }\n",
       "\n",
       "    .dataframe thead th {\n",
       "        text-align: right;\n",
       "    }\n",
       "</style>\n",
       "<table border=\"1\" class=\"dataframe\">\n",
       "  <thead>\n",
       "    <tr style=\"text-align: right;\">\n",
       "      <th></th>\n",
       "      <th>covid_cases</th>\n",
       "      <th>shared_teks_by_generation_date</th>\n",
       "      <th>shared_teks_by_upload_date</th>\n",
       "      <th>shared_diagnoses</th>\n",
       "      <th>teks_per_shared_diagnosis</th>\n",
       "      <th>shared_diagnoses_per_covid_case</th>\n",
       "    </tr>\n",
       "    <tr>\n",
       "      <th>sample_date</th>\n",
       "      <th></th>\n",
       "      <th></th>\n",
       "      <th></th>\n",
       "      <th></th>\n",
       "      <th></th>\n",
       "      <th></th>\n",
       "    </tr>\n",
       "  </thead>\n",
       "  <tbody>\n",
       "    <tr>\n",
       "      <th>2020-10-12</th>\n",
       "      <td>71187</td>\n",
       "      <td>1498</td>\n",
       "      <td>2200</td>\n",
       "      <td>715</td>\n",
       "      <td>3.076923</td>\n",
       "      <td>0.010044</td>\n",
       "    </tr>\n",
       "    <tr>\n",
       "      <th>2020-10-11</th>\n",
       "      <td>70325</td>\n",
       "      <td>1818</td>\n",
       "      <td>2155</td>\n",
       "      <td>650</td>\n",
       "      <td>3.315385</td>\n",
       "      <td>0.009243</td>\n",
       "    </tr>\n",
       "    <tr>\n",
       "      <th>2020-10-10</th>\n",
       "      <td>70649</td>\n",
       "      <td>2020</td>\n",
       "      <td>2064</td>\n",
       "      <td>581</td>\n",
       "      <td>3.552496</td>\n",
       "      <td>0.008224</td>\n",
       "    </tr>\n",
       "    <tr>\n",
       "      <th>2020-10-09</th>\n",
       "      <td>70973</td>\n",
       "      <td>2123</td>\n",
       "      <td>1959</td>\n",
       "      <td>524</td>\n",
       "      <td>3.738550</td>\n",
       "      <td>0.007383</td>\n",
       "    </tr>\n",
       "    <tr>\n",
       "      <th>2020-10-08</th>\n",
       "      <td>71297</td>\n",
       "      <td>2177</td>\n",
       "      <td>1910</td>\n",
       "      <td>491</td>\n",
       "      <td>3.890020</td>\n",
       "      <td>0.006887</td>\n",
       "    </tr>\n",
       "  </tbody>\n",
       "</table>\n",
       "</div>"
      ],
      "text/plain": [
       "             covid_cases  shared_teks_by_generation_date  \\\n",
       "sample_date                                                \n",
       "2020-10-12         71187                            1498   \n",
       "2020-10-11         70325                            1818   \n",
       "2020-10-10         70649                            2020   \n",
       "2020-10-09         70973                            2123   \n",
       "2020-10-08         71297                            2177   \n",
       "\n",
       "             shared_teks_by_upload_date  shared_diagnoses  \\\n",
       "sample_date                                                 \n",
       "2020-10-12                         2200               715   \n",
       "2020-10-11                         2155               650   \n",
       "2020-10-10                         2064               581   \n",
       "2020-10-09                         1959               524   \n",
       "2020-10-08                         1910               491   \n",
       "\n",
       "             teks_per_shared_diagnosis  shared_diagnoses_per_covid_case  \n",
       "sample_date                                                              \n",
       "2020-10-12                    3.076923                         0.010044  \n",
       "2020-10-11                    3.315385                         0.009243  \n",
       "2020-10-10                    3.552496                         0.008224  \n",
       "2020-10-09                    3.738550                         0.007383  \n",
       "2020-10-08                    3.890020                         0.006887  "
      ]
     },
     "execution_count": 44,
     "metadata": {},
     "output_type": "execute_result"
    }
   ],
   "source": [
    "weekly_result_summary_df = result_summary_df \\\n",
    "    .sort_index(ascending=True).fillna(0).rolling(7).agg({\n",
    "    \"covid_cases\": \"sum\",\n",
    "    \"shared_teks_by_generation_date\": \"sum\",\n",
    "    \"shared_teks_by_upload_date\": \"sum\",\n",
    "    \"shared_diagnoses\": \"sum\"\n",
    "}).sort_index(ascending=False)\n",
    "\n",
    "with pd.option_context(\"mode.use_inf_as_na\", True):\n",
    "    weekly_result_summary_df = weekly_result_summary_df.fillna(0).astype(int)\n",
    "    weekly_result_summary_df[\"teks_per_shared_diagnosis\"] = \\\n",
    "        (weekly_result_summary_df.shared_teks_by_upload_date / weekly_result_summary_df.shared_diagnoses).fillna(0)\n",
    "    weekly_result_summary_df[\"shared_diagnoses_per_covid_case\"] = \\\n",
    "        (weekly_result_summary_df.shared_diagnoses / weekly_result_summary_df.covid_cases).fillna(0)\n",
    "\n",
    "weekly_result_summary_df.head()"
   ]
  },
  {
   "cell_type": "code",
   "execution_count": 45,
   "metadata": {
    "execution": {
     "iopub.execute_input": "2020-10-12T20:10:15.780181Z",
     "iopub.status.busy": "2020-10-12T20:10:15.779437Z",
     "iopub.status.idle": "2020-10-12T20:10:15.782643Z",
     "shell.execute_reply": "2020-10-12T20:10:15.783215Z"
    },
    "papermill": {
     "duration": 0.091551,
     "end_time": "2020-10-12T20:10:15.783378",
     "exception": false,
     "start_time": "2020-10-12T20:10:15.691827",
     "status": "completed"
    },
    "pycharm": {
     "name": "#%%\n"
    },
    "tags": []
   },
   "outputs": [
    {
     "data": {
      "text/plain": [
       "{'covid_cases': 71187,\n",
       " 'shared_teks_by_generation_date': 1498,\n",
       " 'shared_teks_by_upload_date': 2200,\n",
       " 'shared_diagnoses': 715,\n",
       " 'teks_per_shared_diagnosis': 3.076923076923077,\n",
       " 'shared_diagnoses_per_covid_case': 0.010043968702150673}"
      ]
     },
     "execution_count": 45,
     "metadata": {},
     "output_type": "execute_result"
    }
   ],
   "source": [
    "last_7_days_summary = weekly_result_summary_df.to_dict(orient=\"records\")[0]\n",
    "last_7_days_summary"
   ]
  },
  {
   "cell_type": "markdown",
   "metadata": {
    "collapsed": false,
    "papermill": {
     "duration": 0.086397,
     "end_time": "2020-10-12T20:10:15.947761",
     "exception": false,
     "start_time": "2020-10-12T20:10:15.861364",
     "status": "completed"
    },
    "pycharm": {
     "name": "#%% md\n"
    },
    "tags": []
   },
   "source": [
    "## Report Results"
   ]
  },
  {
   "cell_type": "code",
   "execution_count": 46,
   "metadata": {
    "collapsed": false,
    "execution": {
     "iopub.execute_input": "2020-10-12T20:10:16.110036Z",
     "iopub.status.busy": "2020-10-12T20:10:16.109147Z",
     "iopub.status.idle": "2020-10-12T20:10:16.111498Z",
     "shell.execute_reply": "2020-10-12T20:10:16.112004Z"
    },
    "papermill": {
     "duration": 0.086155,
     "end_time": "2020-10-12T20:10:16.112260",
     "exception": false,
     "start_time": "2020-10-12T20:10:16.026105",
     "status": "completed"
    },
    "pycharm": {
     "name": "#%%\n"
    },
    "tags": []
   },
   "outputs": [],
   "source": [
    "display_column_name_mapping = {\n",
    "    \"sample_date\": \"Sample\\u00A0Date\\u00A0(UTC)\",\n",
    "    \"datetime_utc\": \"Timestamp (UTC)\",\n",
    "    \"upload_date\": \"Upload Date (UTC)\",\n",
    "    \"generation_to_upload_days\": \"Generation to Upload Period in Days\",\n",
    "    \"region\": \"Backend Region\",\n",
    "    \"covid_cases\": \"COVID-19 Cases (7-day Rolling Average)\",\n",
    "    \"shared_teks_by_generation_date\": \"Shared TEKs by Generation Date\",\n",
    "    \"shared_teks_by_upload_date\": \"Shared TEKs by Upload Date\",\n",
    "    \"shared_diagnoses\": \"Shared Diagnoses (Estimation)\",\n",
    "    \"teks_per_shared_diagnosis\": \"TEKs Uploaded per Shared Diagnosis\",\n",
    "    \"shared_diagnoses_per_covid_case\": \"Usage Ratio (Fraction of Cases Which Shared Diagnosis)\",\n",
    "    \"shared_teks_uploaded_on_generation_date\": \"Shared TEKs Uploaded on Generation Date\",\n",
    "}"
   ]
  },
  {
   "cell_type": "code",
   "execution_count": 47,
   "metadata": {
    "execution": {
     "iopub.execute_input": "2020-10-12T20:10:16.275800Z",
     "iopub.status.busy": "2020-10-12T20:10:16.275083Z",
     "iopub.status.idle": "2020-10-12T20:10:16.277733Z",
     "shell.execute_reply": "2020-10-12T20:10:16.277150Z"
    },
    "papermill": {
     "duration": 0.086911,
     "end_time": "2020-10-12T20:10:16.277867",
     "exception": false,
     "start_time": "2020-10-12T20:10:16.190956",
     "status": "completed"
    },
    "pycharm": {
     "name": "#%%\n"
    },
    "tags": []
   },
   "outputs": [],
   "source": [
    "summary_columns = [\n",
    "    \"covid_cases\",\n",
    "    \"shared_teks_by_generation_date\",\n",
    "    \"shared_teks_by_upload_date\",\n",
    "    \"shared_teks_uploaded_on_generation_date\",\n",
    "    \"shared_diagnoses\",\n",
    "    \"teks_per_shared_diagnosis\",\n",
    "    \"shared_diagnoses_per_covid_case\",\n",
    "]"
   ]
  },
  {
   "cell_type": "markdown",
   "metadata": {
    "execution": {
     "iopub.execute_input": "2020-09-02T08:20:14.568088Z",
     "iopub.status.busy": "2020-09-02T08:20:14.567425Z",
     "iopub.status.idle": "2020-09-02T08:20:14.571422Z",
     "shell.execute_reply": "2020-09-02T08:20:14.571952Z"
    },
    "papermill": {
     "duration": 0.082017,
     "end_time": "2020-10-12T20:10:16.447033",
     "exception": false,
     "start_time": "2020-10-12T20:10:16.365016",
     "status": "completed"
    },
    "pycharm": {
     "name": "#%% md\n"
    },
    "tags": []
   },
   "source": [
    "### Daily Summary Table"
   ]
  },
  {
   "cell_type": "code",
   "execution_count": 48,
   "metadata": {
    "execution": {
     "iopub.execute_input": "2020-10-12T20:10:16.636691Z",
     "iopub.status.busy": "2020-10-12T20:10:16.623385Z",
     "iopub.status.idle": "2020-10-12T20:10:16.640227Z",
     "shell.execute_reply": "2020-10-12T20:10:16.640856Z"
    },
    "papermill": {
     "duration": 0.112749,
     "end_time": "2020-10-12T20:10:16.641099",
     "exception": false,
     "start_time": "2020-10-12T20:10:16.528350",
     "status": "completed"
    },
    "pycharm": {
     "name": "#%%\n"
    },
    "tags": []
   },
   "outputs": [
    {
     "data": {
      "text/html": [
       "<div>\n",
       "<style scoped>\n",
       "    .dataframe tbody tr th:only-of-type {\n",
       "        vertical-align: middle;\n",
       "    }\n",
       "\n",
       "    .dataframe tbody tr th {\n",
       "        vertical-align: top;\n",
       "    }\n",
       "\n",
       "    .dataframe thead th {\n",
       "        text-align: right;\n",
       "    }\n",
       "</style>\n",
       "<table border=\"1\" class=\"dataframe\">\n",
       "  <thead>\n",
       "    <tr style=\"text-align: right;\">\n",
       "      <th></th>\n",
       "      <th>COVID-19 Cases (7-day Rolling Average)</th>\n",
       "      <th>Shared TEKs by Generation Date</th>\n",
       "      <th>Shared TEKs by Upload Date</th>\n",
       "      <th>Shared TEKs Uploaded on Generation Date</th>\n",
       "      <th>Shared Diagnoses (Estimation)</th>\n",
       "      <th>TEKs Uploaded per Shared Diagnosis</th>\n",
       "      <th>Usage Ratio (Fraction of Cases Which Shared Diagnosis)</th>\n",
       "    </tr>\n",
       "    <tr>\n",
       "      <th>Sample Date (UTC)</th>\n",
       "      <th></th>\n",
       "      <th></th>\n",
       "      <th></th>\n",
       "      <th></th>\n",
       "      <th></th>\n",
       "      <th></th>\n",
       "      <th></th>\n",
       "    </tr>\n",
       "  </thead>\n",
       "  <tbody>\n",
       "    <tr>\n",
       "      <th>2020-10-12</th>\n",
       "      <td>10169</td>\n",
       "      <td>2</td>\n",
       "      <td>318</td>\n",
       "      <td>2</td>\n",
       "      <td>134</td>\n",
       "      <td>2.373134</td>\n",
       "      <td>0.013177</td>\n",
       "    </tr>\n",
       "    <tr>\n",
       "      <th>2020-10-11</th>\n",
       "      <td>10169</td>\n",
       "      <td>135</td>\n",
       "      <td>422</td>\n",
       "      <td>1</td>\n",
       "      <td>147</td>\n",
       "      <td>2.870748</td>\n",
       "      <td>0.014456</td>\n",
       "    </tr>\n",
       "    <tr>\n",
       "      <th>2020-10-10</th>\n",
       "      <td>10169</td>\n",
       "      <td>199</td>\n",
       "      <td>429</td>\n",
       "      <td>0</td>\n",
       "      <td>133</td>\n",
       "      <td>3.225564</td>\n",
       "      <td>0.013079</td>\n",
       "    </tr>\n",
       "    <tr>\n",
       "      <th>2020-10-09</th>\n",
       "      <td>10169</td>\n",
       "      <td>255</td>\n",
       "      <td>348</td>\n",
       "      <td>1</td>\n",
       "      <td>105</td>\n",
       "      <td>3.314286</td>\n",
       "      <td>0.010325</td>\n",
       "    </tr>\n",
       "    <tr>\n",
       "      <th>2020-10-08</th>\n",
       "      <td>9960</td>\n",
       "      <td>285</td>\n",
       "      <td>272</td>\n",
       "      <td>1</td>\n",
       "      <td>86</td>\n",
       "      <td>3.162791</td>\n",
       "      <td>0.008635</td>\n",
       "    </tr>\n",
       "    <tr>\n",
       "      <th>...</th>\n",
       "      <td>...</td>\n",
       "      <td>...</td>\n",
       "      <td>...</td>\n",
       "      <td>...</td>\n",
       "      <td>...</td>\n",
       "      <td>...</td>\n",
       "      <td>...</td>\n",
       "    </tr>\n",
       "    <tr>\n",
       "      <th>2020-07-25</th>\n",
       "      <td>1738</td>\n",
       "      <td>0</td>\n",
       "      <td>0</td>\n",
       "      <td>0</td>\n",
       "      <td>0</td>\n",
       "      <td>0.000000</td>\n",
       "      <td>0.000000</td>\n",
       "    </tr>\n",
       "    <tr>\n",
       "      <th>2020-07-24</th>\n",
       "      <td>1738</td>\n",
       "      <td>0</td>\n",
       "      <td>0</td>\n",
       "      <td>0</td>\n",
       "      <td>0</td>\n",
       "      <td>0.000000</td>\n",
       "      <td>0.000000</td>\n",
       "    </tr>\n",
       "    <tr>\n",
       "      <th>2020-07-23</th>\n",
       "      <td>1416</td>\n",
       "      <td>0</td>\n",
       "      <td>0</td>\n",
       "      <td>0</td>\n",
       "      <td>0</td>\n",
       "      <td>0.000000</td>\n",
       "      <td>0.000000</td>\n",
       "    </tr>\n",
       "    <tr>\n",
       "      <th>2020-07-22</th>\n",
       "      <td>1242</td>\n",
       "      <td>0</td>\n",
       "      <td>0</td>\n",
       "      <td>0</td>\n",
       "      <td>0</td>\n",
       "      <td>0.000000</td>\n",
       "      <td>0.000000</td>\n",
       "    </tr>\n",
       "    <tr>\n",
       "      <th>2020-07-21</th>\n",
       "      <td>1243</td>\n",
       "      <td>0</td>\n",
       "      <td>0</td>\n",
       "      <td>0</td>\n",
       "      <td>0</td>\n",
       "      <td>0.000000</td>\n",
       "      <td>0.000000</td>\n",
       "    </tr>\n",
       "  </tbody>\n",
       "</table>\n",
       "<p>84 rows × 7 columns</p>\n",
       "</div>"
      ],
      "text/plain": [
       "                   COVID-19 Cases (7-day Rolling Average)  \\\n",
       "Sample Date (UTC)                                           \n",
       "2020-10-12                                          10169   \n",
       "2020-10-11                                          10169   \n",
       "2020-10-10                                          10169   \n",
       "2020-10-09                                          10169   \n",
       "2020-10-08                                           9960   \n",
       "...                                                   ...   \n",
       "2020-07-25                                           1738   \n",
       "2020-07-24                                           1738   \n",
       "2020-07-23                                           1416   \n",
       "2020-07-22                                           1242   \n",
       "2020-07-21                                           1243   \n",
       "\n",
       "                   Shared TEKs by Generation Date  Shared TEKs by Upload Date  \\\n",
       "Sample Date (UTC)                                                               \n",
       "2020-10-12                                      2                         318   \n",
       "2020-10-11                                    135                         422   \n",
       "2020-10-10                                    199                         429   \n",
       "2020-10-09                                    255                         348   \n",
       "2020-10-08                                    285                         272   \n",
       "...                                           ...                         ...   \n",
       "2020-07-25                                      0                           0   \n",
       "2020-07-24                                      0                           0   \n",
       "2020-07-23                                      0                           0   \n",
       "2020-07-22                                      0                           0   \n",
       "2020-07-21                                      0                           0   \n",
       "\n",
       "                   Shared TEKs Uploaded on Generation Date  \\\n",
       "Sample Date (UTC)                                            \n",
       "2020-10-12                                               2   \n",
       "2020-10-11                                               1   \n",
       "2020-10-10                                               0   \n",
       "2020-10-09                                               1   \n",
       "2020-10-08                                               1   \n",
       "...                                                    ...   \n",
       "2020-07-25                                               0   \n",
       "2020-07-24                                               0   \n",
       "2020-07-23                                               0   \n",
       "2020-07-22                                               0   \n",
       "2020-07-21                                               0   \n",
       "\n",
       "                   Shared Diagnoses (Estimation)  \\\n",
       "Sample Date (UTC)                                  \n",
       "2020-10-12                                   134   \n",
       "2020-10-11                                   147   \n",
       "2020-10-10                                   133   \n",
       "2020-10-09                                   105   \n",
       "2020-10-08                                    86   \n",
       "...                                          ...   \n",
       "2020-07-25                                     0   \n",
       "2020-07-24                                     0   \n",
       "2020-07-23                                     0   \n",
       "2020-07-22                                     0   \n",
       "2020-07-21                                     0   \n",
       "\n",
       "                   TEKs Uploaded per Shared Diagnosis  \\\n",
       "Sample Date (UTC)                                       \n",
       "2020-10-12                                   2.373134   \n",
       "2020-10-11                                   2.870748   \n",
       "2020-10-10                                   3.225564   \n",
       "2020-10-09                                   3.314286   \n",
       "2020-10-08                                   3.162791   \n",
       "...                                               ...   \n",
       "2020-07-25                                   0.000000   \n",
       "2020-07-24                                   0.000000   \n",
       "2020-07-23                                   0.000000   \n",
       "2020-07-22                                   0.000000   \n",
       "2020-07-21                                   0.000000   \n",
       "\n",
       "                   Usage Ratio (Fraction of Cases Which Shared Diagnosis)  \n",
       "Sample Date (UTC)                                                          \n",
       "2020-10-12                                                  0.013177       \n",
       "2020-10-11                                                  0.014456       \n",
       "2020-10-10                                                  0.013079       \n",
       "2020-10-09                                                  0.010325       \n",
       "2020-10-08                                                  0.008635       \n",
       "...                                                              ...       \n",
       "2020-07-25                                                  0.000000       \n",
       "2020-07-24                                                  0.000000       \n",
       "2020-07-23                                                  0.000000       \n",
       "2020-07-22                                                  0.000000       \n",
       "2020-07-21                                                  0.000000       \n",
       "\n",
       "[84 rows x 7 columns]"
      ]
     },
     "execution_count": 48,
     "metadata": {},
     "output_type": "execute_result"
    }
   ],
   "source": [
    "result_summary_df_ = result_summary_df.copy()\n",
    "result_summary_df = result_summary_df[summary_columns]\n",
    "result_summary_with_display_names_df = result_summary_df \\\n",
    "    .rename_axis(index=display_column_name_mapping) \\\n",
    "    .rename(columns=display_column_name_mapping)\n",
    "result_summary_with_display_names_df"
   ]
  },
  {
   "cell_type": "markdown",
   "metadata": {
    "execution": {
     "iopub.execute_input": "2020-09-02T08:20:14.726751Z",
     "iopub.status.busy": "2020-09-02T08:20:14.726143Z",
     "iopub.status.idle": "2020-09-02T08:20:16.115081Z",
     "shell.execute_reply": "2020-09-02T08:20:16.115565Z"
    },
    "papermill": {
     "duration": 0.080674,
     "end_time": "2020-10-12T20:10:16.801947",
     "exception": false,
     "start_time": "2020-10-12T20:10:16.721273",
     "status": "completed"
    },
    "pycharm": {
     "name": "#%% md\n"
    },
    "scrolled": false,
    "tags": []
   },
   "source": [
    "### Daily Summary Plots"
   ]
  },
  {
   "cell_type": "code",
   "execution_count": 49,
   "metadata": {
    "execution": {
     "iopub.execute_input": "2020-10-12T20:10:16.977991Z",
     "iopub.status.busy": "2020-10-12T20:10:16.977294Z",
     "iopub.status.idle": "2020-10-12T20:10:19.411721Z",
     "shell.execute_reply": "2020-10-12T20:10:19.412314Z"
    },
    "papermill": {
     "duration": 2.529386,
     "end_time": "2020-10-12T20:10:19.412521",
     "exception": false,
     "start_time": "2020-10-12T20:10:16.883135",
     "status": "completed"
    },
    "pycharm": {
     "name": "#%%\n"
    },
    "tags": []
   },
   "outputs": [
    {
     "data": {
      "image/png": "[encoded data removed]",
      "text/plain": [
       "<Figure size 1080x1584 with 7 Axes>"
      ]
     },
     "metadata": {},
     "output_type": "display_data"
    }
   ],
   "source": [
    "result_plot_summary_df = result_summary_df.head(daily_plot_days)[summary_columns] \\\n",
    "    .rename_axis(index=display_column_name_mapping) \\\n",
    "    .rename(columns=display_column_name_mapping)\n",
    "summary_ax_list = result_plot_summary_df.sort_index(ascending=True).plot.bar(\n",
    "    title=f\"Daily Summary\",\n",
    "    rot=45, subplots=True, figsize=(15, 22), legend=False)\n",
    "ax_ = summary_ax_list[-1]\n",
    "ax_.get_figure().tight_layout()\n",
    "ax_.get_figure().subplots_adjust(top=0.95)\n",
    "ax_.yaxis.set_major_formatter(matplotlib.ticker.PercentFormatter(1.0))\n",
    "_ = ax_.set_xticklabels(sorted(result_plot_summary_df.index.strftime(\"%Y-%m-%d\").tolist()))"
   ]
  },
  {
   "cell_type": "markdown",
   "metadata": {
    "collapsed": false,
    "papermill": {
     "duration": 0.089569,
     "end_time": "2020-10-12T20:10:19.585024",
     "exception": false,
     "start_time": "2020-10-12T20:10:19.495455",
     "status": "completed"
    },
    "tags": []
   },
   "source": [
    "### Daily Generation to Upload Period Table"
   ]
  },
  {
   "cell_type": "code",
   "execution_count": 50,
   "metadata": {
    "collapsed": false,
    "execution": {
     "iopub.execute_input": "2020-10-12T20:10:19.769645Z",
     "iopub.status.busy": "2020-10-12T20:10:19.768992Z",
     "iopub.status.idle": "2020-10-12T20:10:19.771606Z",
     "shell.execute_reply": "2020-10-12T20:10:19.772317Z"
    },
    "papermill": {
     "duration": 0.104101,
     "end_time": "2020-10-12T20:10:19.772510",
     "exception": false,
     "start_time": "2020-10-12T20:10:19.668409",
     "status": "completed"
    },
    "pycharm": {
     "name": "#%%\n"
    },
    "tags": []
   },
   "outputs": [
    {
     "data": {
      "text/html": [
       "<div>\n",
       "<style scoped>\n",
       "    .dataframe tbody tr th:only-of-type {\n",
       "        vertical-align: middle;\n",
       "    }\n",
       "\n",
       "    .dataframe tbody tr th {\n",
       "        vertical-align: top;\n",
       "    }\n",
       "\n",
       "    .dataframe thead th {\n",
       "        text-align: right;\n",
       "    }\n",
       "</style>\n",
       "<table border=\"1\" class=\"dataframe\">\n",
       "  <thead>\n",
       "    <tr style=\"text-align: right;\">\n",
       "      <th>Generation to Upload Period in Days</th>\n",
       "      <th>0</th>\n",
       "      <th>1</th>\n",
       "      <th>2</th>\n",
       "      <th>3</th>\n",
       "      <th>4</th>\n",
       "      <th>5</th>\n",
       "      <th>6</th>\n",
       "      <th>7</th>\n",
       "      <th>8</th>\n",
       "      <th>9</th>\n",
       "      <th>10</th>\n",
       "      <th>11</th>\n",
       "      <th>12</th>\n",
       "      <th>13</th>\n",
       "    </tr>\n",
       "    <tr>\n",
       "      <th>Upload Date (UTC)</th>\n",
       "      <th></th>\n",
       "      <th></th>\n",
       "      <th></th>\n",
       "      <th></th>\n",
       "      <th></th>\n",
       "      <th></th>\n",
       "      <th></th>\n",
       "      <th></th>\n",
       "      <th></th>\n",
       "      <th></th>\n",
       "      <th></th>\n",
       "      <th></th>\n",
       "      <th></th>\n",
       "      <th></th>\n",
       "    </tr>\n",
       "  </thead>\n",
       "  <tbody>\n",
       "    <tr>\n",
       "      <th>2020-10-12</th>\n",
       "      <td>2</td>\n",
       "      <td>134</td>\n",
       "      <td>52</td>\n",
       "      <td>46</td>\n",
       "      <td>32</td>\n",
       "      <td>18</td>\n",
       "      <td>13</td>\n",
       "      <td>11</td>\n",
       "      <td>5</td>\n",
       "      <td>2</td>\n",
       "      <td>2</td>\n",
       "      <td>1</td>\n",
       "      <td>0</td>\n",
       "      <td>0</td>\n",
       "    </tr>\n",
       "    <tr>\n",
       "      <th>2020-10-11</th>\n",
       "      <td>1</td>\n",
       "      <td>147</td>\n",
       "      <td>75</td>\n",
       "      <td>62</td>\n",
       "      <td>51</td>\n",
       "      <td>38</td>\n",
       "      <td>18</td>\n",
       "      <td>9</td>\n",
       "      <td>6</td>\n",
       "      <td>5</td>\n",
       "      <td>3</td>\n",
       "      <td>3</td>\n",
       "      <td>2</td>\n",
       "      <td>2</td>\n",
       "    </tr>\n",
       "    <tr>\n",
       "      <th>2020-10-10</th>\n",
       "      <td>0</td>\n",
       "      <td>133</td>\n",
       "      <td>85</td>\n",
       "      <td>68</td>\n",
       "      <td>61</td>\n",
       "      <td>50</td>\n",
       "      <td>15</td>\n",
       "      <td>9</td>\n",
       "      <td>6</td>\n",
       "      <td>2</td>\n",
       "      <td>0</td>\n",
       "      <td>0</td>\n",
       "      <td>0</td>\n",
       "      <td>0</td>\n",
       "    </tr>\n",
       "    <tr>\n",
       "      <th>2020-10-09</th>\n",
       "      <td>1</td>\n",
       "      <td>105</td>\n",
       "      <td>65</td>\n",
       "      <td>61</td>\n",
       "      <td>57</td>\n",
       "      <td>57</td>\n",
       "      <td>2</td>\n",
       "      <td>0</td>\n",
       "      <td>0</td>\n",
       "      <td>0</td>\n",
       "      <td>0</td>\n",
       "      <td>0</td>\n",
       "      <td>0</td>\n",
       "      <td>0</td>\n",
       "    </tr>\n",
       "    <tr>\n",
       "      <th>2020-10-08</th>\n",
       "      <td>1</td>\n",
       "      <td>86</td>\n",
       "      <td>47</td>\n",
       "      <td>45</td>\n",
       "      <td>43</td>\n",
       "      <td>41</td>\n",
       "      <td>2</td>\n",
       "      <td>1</td>\n",
       "      <td>1</td>\n",
       "      <td>1</td>\n",
       "      <td>1</td>\n",
       "      <td>1</td>\n",
       "      <td>1</td>\n",
       "      <td>1</td>\n",
       "    </tr>\n",
       "    <tr>\n",
       "      <th>2020-10-07</th>\n",
       "      <td>0</td>\n",
       "      <td>54</td>\n",
       "      <td>33</td>\n",
       "      <td>30</td>\n",
       "      <td>30</td>\n",
       "      <td>30</td>\n",
       "      <td>1</td>\n",
       "      <td>0</td>\n",
       "      <td>0</td>\n",
       "      <td>0</td>\n",
       "      <td>0</td>\n",
       "      <td>0</td>\n",
       "      <td>0</td>\n",
       "      <td>0</td>\n",
       "    </tr>\n",
       "    <tr>\n",
       "      <th>2020-10-06</th>\n",
       "      <td>60</td>\n",
       "      <td>56</td>\n",
       "      <td>33</td>\n",
       "      <td>26</td>\n",
       "      <td>29</td>\n",
       "      <td>29</td>\n",
       "      <td>0</td>\n",
       "      <td>0</td>\n",
       "      <td>0</td>\n",
       "      <td>0</td>\n",
       "      <td>0</td>\n",
       "      <td>0</td>\n",
       "      <td>0</td>\n",
       "      <td>0</td>\n",
       "    </tr>\n",
       "    <tr>\n",
       "      <th>2020-10-05</th>\n",
       "      <td>52</td>\n",
       "      <td>69</td>\n",
       "      <td>39</td>\n",
       "      <td>39</td>\n",
       "      <td>38</td>\n",
       "      <td>36</td>\n",
       "      <td>0</td>\n",
       "      <td>0</td>\n",
       "      <td>0</td>\n",
       "      <td>0</td>\n",
       "      <td>0</td>\n",
       "      <td>0</td>\n",
       "      <td>0</td>\n",
       "      <td>0</td>\n",
       "    </tr>\n",
       "    <tr>\n",
       "      <th>2020-10-04</th>\n",
       "      <td>76</td>\n",
       "      <td>78</td>\n",
       "      <td>48</td>\n",
       "      <td>45</td>\n",
       "      <td>42</td>\n",
       "      <td>42</td>\n",
       "      <td>0</td>\n",
       "      <td>0</td>\n",
       "      <td>0</td>\n",
       "      <td>0</td>\n",
       "      <td>0</td>\n",
       "      <td>0</td>\n",
       "      <td>0</td>\n",
       "      <td>0</td>\n",
       "    </tr>\n",
       "    <tr>\n",
       "      <th>2020-10-03</th>\n",
       "      <td>69</td>\n",
       "      <td>76</td>\n",
       "      <td>48</td>\n",
       "      <td>44</td>\n",
       "      <td>42</td>\n",
       "      <td>43</td>\n",
       "      <td>2</td>\n",
       "      <td>0</td>\n",
       "      <td>0</td>\n",
       "      <td>0</td>\n",
       "      <td>0</td>\n",
       "      <td>0</td>\n",
       "      <td>0</td>\n",
       "      <td>0</td>\n",
       "    </tr>\n",
       "    <tr>\n",
       "      <th>2020-10-02</th>\n",
       "      <td>72</td>\n",
       "      <td>72</td>\n",
       "      <td>39</td>\n",
       "      <td>39</td>\n",
       "      <td>39</td>\n",
       "      <td>37</td>\n",
       "      <td>1</td>\n",
       "      <td>0</td>\n",
       "      <td>0</td>\n",
       "      <td>0</td>\n",
       "      <td>0</td>\n",
       "      <td>0</td>\n",
       "      <td>0</td>\n",
       "      <td>0</td>\n",
       "    </tr>\n",
       "    <tr>\n",
       "      <th>2020-10-01</th>\n",
       "      <td>75</td>\n",
       "      <td>74</td>\n",
       "      <td>56</td>\n",
       "      <td>54</td>\n",
       "      <td>55</td>\n",
       "      <td>53</td>\n",
       "      <td>0</td>\n",
       "      <td>0</td>\n",
       "      <td>0</td>\n",
       "      <td>0</td>\n",
       "      <td>0</td>\n",
       "      <td>0</td>\n",
       "      <td>0</td>\n",
       "      <td>0</td>\n",
       "    </tr>\n",
       "    <tr>\n",
       "      <th>2020-09-30</th>\n",
       "      <td>55</td>\n",
       "      <td>51</td>\n",
       "      <td>42</td>\n",
       "      <td>42</td>\n",
       "      <td>41</td>\n",
       "      <td>38</td>\n",
       "      <td>2</td>\n",
       "      <td>0</td>\n",
       "      <td>0</td>\n",
       "      <td>0</td>\n",
       "      <td>0</td>\n",
       "      <td>0</td>\n",
       "      <td>0</td>\n",
       "      <td>0</td>\n",
       "    </tr>\n",
       "    <tr>\n",
       "      <th>2020-09-29</th>\n",
       "      <td>32</td>\n",
       "      <td>44</td>\n",
       "      <td>26</td>\n",
       "      <td>27</td>\n",
       "      <td>24</td>\n",
       "      <td>25</td>\n",
       "      <td>0</td>\n",
       "      <td>0</td>\n",
       "      <td>0</td>\n",
       "      <td>0</td>\n",
       "      <td>0</td>\n",
       "      <td>0</td>\n",
       "      <td>0</td>\n",
       "      <td>0</td>\n",
       "    </tr>\n",
       "  </tbody>\n",
       "</table>\n",
       "</div>"
      ],
      "text/plain": [
       "Generation to Upload Period in Days  0    1   2   3   4   5   6   7   8   9   \\\n",
       "Upload Date (UTC)                                                              \n",
       "2020-10-12                            2  134  52  46  32  18  13  11   5   2   \n",
       "2020-10-11                            1  147  75  62  51  38  18   9   6   5   \n",
       "2020-10-10                            0  133  85  68  61  50  15   9   6   2   \n",
       "2020-10-09                            1  105  65  61  57  57   2   0   0   0   \n",
       "2020-10-08                            1   86  47  45  43  41   2   1   1   1   \n",
       "2020-10-07                            0   54  33  30  30  30   1   0   0   0   \n",
       "2020-10-06                           60   56  33  26  29  29   0   0   0   0   \n",
       "2020-10-05                           52   69  39  39  38  36   0   0   0   0   \n",
       "2020-10-04                           76   78  48  45  42  42   0   0   0   0   \n",
       "2020-10-03                           69   76  48  44  42  43   2   0   0   0   \n",
       "2020-10-02                           72   72  39  39  39  37   1   0   0   0   \n",
       "2020-10-01                           75   74  56  54  55  53   0   0   0   0   \n",
       "2020-09-30                           55   51  42  42  41  38   2   0   0   0   \n",
       "2020-09-29                           32   44  26  27  24  25   0   0   0   0   \n",
       "\n",
       "Generation to Upload Period in Days  10  11  12  13  \n",
       "Upload Date (UTC)                                    \n",
       "2020-10-12                            2   1   0   0  \n",
       "2020-10-11                            3   3   2   2  \n",
       "2020-10-10                            0   0   0   0  \n",
       "2020-10-09                            0   0   0   0  \n",
       "2020-10-08                            1   1   1   1  \n",
       "2020-10-07                            0   0   0   0  \n",
       "2020-10-06                            0   0   0   0  \n",
       "2020-10-05                            0   0   0   0  \n",
       "2020-10-04                            0   0   0   0  \n",
       "2020-10-03                            0   0   0   0  \n",
       "2020-10-02                            0   0   0   0  \n",
       "2020-10-01                            0   0   0   0  \n",
       "2020-09-30                            0   0   0   0  \n",
       "2020-09-29                            0   0   0   0  "
      ]
     },
     "execution_count": 50,
     "metadata": {},
     "output_type": "execute_result"
    }
   ],
   "source": [
    "generation_to_upload_period_pivot_df \\\n",
    "    .head(backend_extraction_days) \\\n",
    "    .rename_axis(columns=display_column_name_mapping) \\\n",
    "    .rename_axis(index=display_column_name_mapping)"
   ]
  },
  {
   "cell_type": "code",
   "execution_count": 51,
   "metadata": {
    "collapsed": false,
    "execution": {
     "iopub.execute_input": "2020-10-12T20:10:19.958379Z",
     "iopub.status.busy": "2020-10-12T20:10:19.957595Z",
     "iopub.status.idle": "2020-10-12T20:10:21.312351Z",
     "shell.execute_reply": "2020-10-12T20:10:21.313079Z"
    },
    "papermill": {
     "duration": 1.454831,
     "end_time": "2020-10-12T20:10:21.313266",
     "exception": false,
     "start_time": "2020-10-12T20:10:19.858435",
     "status": "completed"
    },
    "pycharm": {
     "name": "#%%\n"
    },
    "tags": []
   },
   "outputs": [
    {
     "data": {
      "image/png": "[encoded data removed]",
      "text/plain": [
       "<Figure size 720x720 with 2 Axes>"
      ]
     },
     "metadata": {},
     "output_type": "display_data"
    }
   ],
   "source": [
    "import matplotlib.pyplot as plt\n",
    "\n",
    "fig, generation_to_upload_period_pivot_table_ax = plt.subplots(\n",
    "    figsize=(10, 10))\n",
    "generation_to_upload_period_pivot_table_ax.set_title(\n",
    "    \"Shared TEKs Generation to Upload Period Table\")\n",
    "sns.heatmap(\n",
    "    data=generation_to_upload_period_pivot_df \\\n",
    "        .head(backend_extraction_days) \\\n",
    "        .rename_axis(columns=display_column_name_mapping) \\\n",
    "        .rename_axis(index=display_column_name_mapping),\n",
    "    fmt=\".0f\",\n",
    "    annot=True,\n",
    "    ax=generation_to_upload_period_pivot_table_ax)\n",
    "generation_to_upload_period_pivot_table_ax.get_figure().tight_layout()"
   ]
  },
  {
   "cell_type": "markdown",
   "metadata": {
    "execution": {
     "iopub.execute_input": "2020-09-02T08:20:16.278300Z",
     "iopub.status.busy": "2020-09-02T08:20:16.277679Z",
     "iopub.status.idle": "2020-09-02T08:20:16.821909Z",
     "shell.execute_reply": "2020-09-02T08:20:16.822577Z"
    },
    "papermill": {
     "duration": 0.093314,
     "end_time": "2020-10-12T20:10:21.496610",
     "exception": false,
     "start_time": "2020-10-12T20:10:21.403296",
     "status": "completed"
    },
    "pycharm": {
     "name": "#%% md\n"
    },
    "tags": []
   },
   "source": [
    "### Hourly Summary Plots "
   ]
  },
  {
   "cell_type": "code",
   "execution_count": 52,
   "metadata": {
    "execution": {
     "iopub.execute_input": "2020-10-12T20:10:21.690709Z",
     "iopub.status.busy": "2020-10-12T20:10:21.690012Z",
     "iopub.status.idle": "2020-10-12T20:10:22.389817Z",
     "shell.execute_reply": "2020-10-12T20:10:22.390404Z"
    },
    "papermill": {
     "duration": 0.803046,
     "end_time": "2020-10-12T20:10:22.390600",
     "exception": false,
     "start_time": "2020-10-12T20:10:21.587554",
     "status": "completed"
    },
    "pycharm": {
     "name": "#%%\n"
    },
    "tags": []
   },
   "outputs": [
    {
     "data": {
      "image/png": "[encoded data removed]",
      "text/plain": [
       "<Figure size 1080x432 with 2 Axes>"
      ]
     },
     "metadata": {},
     "output_type": "display_data"
    }
   ],
   "source": [
    "hourly_summary_ax_list = hourly_summary_df \\\n",
    "    .rename_axis(index=display_column_name_mapping) \\\n",
    "    .rename(columns=display_column_name_mapping) \\\n",
    "    .plot.bar(\n",
    "        title=f\"Last 24h Summary\",\n",
    "        rot=45, subplots=True, legend=False)\n",
    "ax_ = hourly_summary_ax_list[-1]\n",
    "ax_.get_figure().tight_layout()\n",
    "ax_.get_figure().subplots_adjust(top=0.9)\n",
    "_ = ax_.set_xticklabels(sorted(hourly_summary_df.index.strftime(\"%Y-%m-%d@%H\").tolist()))"
   ]
  },
  {
   "cell_type": "markdown",
   "metadata": {
    "execution": {
     "iopub.execute_input": "2020-09-02T08:20:16.981187Z",
     "iopub.status.busy": "2020-09-02T08:20:16.980584Z",
     "iopub.status.idle": "2020-09-02T08:20:20.068070Z",
     "shell.execute_reply": "2020-09-02T08:20:20.068598Z"
    },
    "papermill": {
     "duration": 0.095917,
     "end_time": "2020-10-12T20:10:22.576597",
     "exception": false,
     "start_time": "2020-10-12T20:10:22.480680",
     "status": "completed"
    },
    "pycharm": {
     "name": "#%% md\n"
    },
    "tags": []
   },
   "source": [
    "### Publish Results"
   ]
  },
  {
   "cell_type": "code",
   "execution_count": 53,
   "metadata": {
    "collapsed": false,
    "execution": {
     "iopub.execute_input": "2020-10-12T20:10:22.752937Z",
     "iopub.status.busy": "2020-10-12T20:10:22.751570Z",
     "iopub.status.idle": "2020-10-12T20:10:22.753717Z",
     "shell.execute_reply": "2020-10-12T20:10:22.754303Z"
    },
    "papermill": {
     "duration": 0.093153,
     "end_time": "2020-10-12T20:10:22.754473",
     "exception": false,
     "start_time": "2020-10-12T20:10:22.661320",
     "status": "completed"
    },
    "pycharm": {
     "name": "#%%\n"
    },
    "tags": []
   },
   "outputs": [],
   "source": [
    "def get_temporary_image_path() -> str:\n",
    "    return os.path.join(tempfile.gettempdir(), str(uuid.uuid4()) + \".png\")\n",
    "\n",
    "def save_temporary_plot_image(ax):\n",
    "    if isinstance(ax, np.ndarray):\n",
    "        ax = ax[0]\n",
    "    media_path = get_temporary_image_path()\n",
    "    ax.get_figure().savefig(media_path)\n",
    "    return media_path\n",
    "\n",
    "def save_temporary_dataframe_image(df):\n",
    "    import dataframe_image as dfi\n",
    "    media_path = get_temporary_image_path()\n",
    "    dfi.export(df, media_path)\n",
    "    return media_path"
   ]
  },
  {
   "cell_type": "code",
   "execution_count": 54,
   "metadata": {
    "collapsed": false,
    "execution": {
     "iopub.execute_input": "2020-10-12T20:10:22.936276Z",
     "iopub.status.busy": "2020-10-12T20:10:22.934736Z",
     "iopub.status.idle": "2020-10-12T20:10:22.956708Z",
     "shell.execute_reply": "2020-10-12T20:10:22.956128Z"
    },
    "papermill": {
     "duration": 0.115962,
     "end_time": "2020-10-12T20:10:22.956915",
     "exception": false,
     "start_time": "2020-10-12T20:10:22.840953",
     "status": "completed"
    },
    "pycharm": {
     "name": "#%%\n"
    },
    "tags": []
   },
   "outputs": [],
   "source": [
    "github_repository = os.environ.get(\"GITHUB_REPOSITORY\")\n",
    "if github_repository is None:\n",
    "    github_repository = \"pvieito/Radar-STATS\"\n",
    "\n",
    "github_project_base_url = \"https://github.com/\" + github_repository\n",
    "\n",
    "display_formatters = {\n",
    "    display_column_name_mapping[\"teks_per_shared_diagnosis\"]: lambda x: f\"{x:.2f}\",\n",
    "    display_column_name_mapping[\"shared_diagnoses_per_covid_case\"]: lambda x: f\"{x:.2%}\",\n",
    "}\n",
    "daily_summary_table_html = result_summary_with_display_names_df \\\n",
    "    .head(daily_plot_days) \\\n",
    "    .rename_axis(index=display_column_name_mapping) \\\n",
    "    .rename(columns=display_column_name_mapping) \\\n",
    "    .to_html(formatters=display_formatters)\n",
    "multi_region_summary_table_html = multi_region_summary_df \\\n",
    "    .head(daily_plot_days) \\\n",
    "    .rename_axis(columns=display_column_name_mapping) \\\n",
    "    .rename(columns=display_column_name_mapping) \\\n",
    "    .rename_axis(index=display_column_name_mapping) \\\n",
    "    .to_html(formatters=display_formatters)\n",
    "\n",
    "extraction_date_result_summary_df = \\\n",
    "    result_summary_df[result_summary_df.index == extraction_date]\n",
    "extraction_date_result_hourly_summary_df = \\\n",
    "    hourly_summary_df[hourly_summary_df.extraction_date_with_hour == extraction_date_with_hour]\n",
    "\n",
    "covid_cases = \\\n",
    "    extraction_date_result_summary_df.covid_cases.sum()\n",
    "shared_teks_by_generation_date = \\\n",
    "    extraction_date_result_summary_df.shared_teks_by_generation_date.sum()\n",
    "shared_teks_by_upload_date = \\\n",
    "    extraction_date_result_summary_df.shared_teks_by_upload_date.sum()\n",
    "shared_diagnoses = \\\n",
    "    extraction_date_result_summary_df.shared_diagnoses.sum()\n",
    "teks_per_shared_diagnosis = \\\n",
    "    extraction_date_result_summary_df.teks_per_shared_diagnosis.sum()\n",
    "shared_diagnoses_per_covid_case = \\\n",
    "    extraction_date_result_summary_df.shared_diagnoses_per_covid_case.sum()\n",
    "\n",
    "shared_teks_by_upload_date_last_hour = \\\n",
    "    extraction_date_result_hourly_summary_df.shared_teks_by_upload_date.sum().astype(int)\n",
    "shared_diagnoses_last_hour = \\\n",
    "    extraction_date_result_hourly_summary_df.shared_diagnoses.sum().astype(int)"
   ]
  },
  {
   "cell_type": "code",
   "execution_count": 55,
   "metadata": {
    "execution": {
     "iopub.execute_input": "2020-10-12T20:10:23.160647Z",
     "iopub.status.busy": "2020-10-12T20:10:23.159964Z",
     "iopub.status.idle": "2020-10-12T20:10:37.709388Z",
     "shell.execute_reply": "2020-10-12T20:10:37.710344Z"
    },
    "papermill": {
     "duration": 14.661532,
     "end_time": "2020-10-12T20:10:37.710531",
     "exception": false,
     "start_time": "2020-10-12T20:10:23.048999",
     "status": "completed"
    },
    "pycharm": {
     "name": "#%%\n"
    },
    "tags": []
   },
   "outputs": [],
   "source": [
    "summary_plots_image_path = save_temporary_plot_image(\n",
    "    ax=summary_ax_list)\n",
    "summary_table_image_path = save_temporary_dataframe_image(\n",
    "    df=result_summary_with_display_names_df)\n",
    "hourly_summary_plots_image_path = save_temporary_plot_image(\n",
    "    ax=hourly_summary_ax_list)\n",
    "multi_region_summary_table_image_path = save_temporary_dataframe_image(\n",
    "    df=multi_region_summary_df)\n",
    "generation_to_upload_period_pivot_table_image_path = save_temporary_plot_image(\n",
    "    ax=generation_to_upload_period_pivot_table_ax)"
   ]
  },
  {
   "cell_type": "markdown",
   "metadata": {
    "execution": {
     "iopub.execute_input": "2020-09-02T08:20:20.895901Z",
     "iopub.status.busy": "2020-09-02T08:20:20.895301Z",
     "iopub.status.idle": "2020-09-02T08:20:20.942286Z",
     "shell.execute_reply": "2020-09-02T08:20:20.942834Z"
    },
    "papermill": {
     "duration": 0.093452,
     "end_time": "2020-10-12T20:10:37.897422",
     "exception": false,
     "start_time": "2020-10-12T20:10:37.803970",
     "status": "completed"
    },
    "pycharm": {
     "name": "#%% md\n"
    },
    "tags": []
   },
   "source": [
    "### Save Results"
   ]
  },
  {
   "cell_type": "code",
   "execution_count": 56,
   "metadata": {
    "collapsed": false,
    "execution": {
     "iopub.execute_input": "2020-10-12T20:10:38.085574Z",
     "iopub.status.busy": "2020-10-12T20:10:38.084798Z",
     "iopub.status.idle": "2020-10-12T20:10:38.113086Z",
     "shell.execute_reply": "2020-10-12T20:10:38.112450Z"
    },
    "papermill": {
     "duration": 0.121621,
     "end_time": "2020-10-12T20:10:38.113264",
     "exception": false,
     "start_time": "2020-10-12T20:10:37.991643",
     "status": "completed"
    },
    "pycharm": {
     "name": "#%%\n"
    },
    "tags": []
   },
   "outputs": [],
   "source": [
    "report_resources_path_prefix = \"Data/Resources/Current/RadarCOVID-Report-\"\n",
    "result_summary_df.to_csv(\n",
    "    report_resources_path_prefix + \"Summary-Table.csv\")\n",
    "result_summary_df.to_html(\n",
    "    report_resources_path_prefix + \"Summary-Table.html\")\n",
    "hourly_summary_df.to_csv(\n",
    "    report_resources_path_prefix + \"Hourly-Summary-Table.csv\")\n",
    "multi_region_summary_df.to_csv(\n",
    "    report_resources_path_prefix + \"Multi-Region-Summary-Table.csv\")\n",
    "generation_to_upload_period_pivot_df.to_csv(\n",
    "    report_resources_path_prefix + \"Generation-Upload-Period-Table.csv\")\n",
    "_ = shutil.copyfile(\n",
    "    summary_plots_image_path,\n",
    "    report_resources_path_prefix + \"Summary-Plots.png\")\n",
    "_ = shutil.copyfile(\n",
    "    summary_table_image_path,\n",
    "    report_resources_path_prefix + \"Summary-Table.png\")\n",
    "_ = shutil.copyfile(\n",
    "    hourly_summary_plots_image_path,\n",
    "    report_resources_path_prefix + \"Hourly-Summary-Plots.png\")\n",
    "_ = shutil.copyfile(\n",
    "    multi_region_summary_table_image_path,\n",
    "    report_resources_path_prefix + \"Multi-Region-Summary-Table.png\")\n",
    "_ = shutil.copyfile(\n",
    "    generation_to_upload_period_pivot_table_image_path,\n",
    "    report_resources_path_prefix + \"Generation-Upload-Period-Table.png\")"
   ]
  },
  {
   "cell_type": "markdown",
   "metadata": {
    "collapsed": false,
    "papermill": {
     "duration": 0.087803,
     "end_time": "2020-10-12T20:10:38.295169",
     "exception": false,
     "start_time": "2020-10-12T20:10:38.207366",
     "status": "completed"
    },
    "pycharm": {
     "name": "#%% md\n"
    },
    "tags": []
   },
   "source": [
    "### Publish Results as JSON"
   ]
  },
  {
   "cell_type": "code",
   "execution_count": 57,
   "metadata": {
    "collapsed": false,
    "execution": {
     "iopub.execute_input": "2020-10-12T20:10:38.479013Z",
     "iopub.status.busy": "2020-10-12T20:10:38.478280Z",
     "iopub.status.idle": "2020-10-12T20:10:38.491794Z",
     "shell.execute_reply": "2020-10-12T20:10:38.492347Z"
    },
    "papermill": {
     "duration": 0.110114,
     "end_time": "2020-10-12T20:10:38.492525",
     "exception": false,
     "start_time": "2020-10-12T20:10:38.382411",
     "status": "completed"
    },
    "pycharm": {
     "name": "#%%\n"
    },
    "tags": []
   },
   "outputs": [],
   "source": [
    "summary_results_api_df = result_summary_df.reset_index()\n",
    "summary_results_api_df[\"sample_date_string\"] = \\\n",
    "    summary_results_api_df[\"sample_date\"].dt.strftime(\"%Y-%m-%d\")\n",
    "\n",
    "summary_results = dict(\n",
    "    extraction_datetime=extraction_datetime,\n",
    "    extraction_date=extraction_date,\n",
    "    extraction_date_with_hour=extraction_date_with_hour,\n",
    "    last_hour=dict(\n",
    "        shared_teks_by_upload_date=shared_teks_by_upload_date_last_hour,\n",
    "        shared_diagnoses=shared_diagnoses_last_hour,\n",
    "    ),\n",
    "    today=dict(\n",
    "        covid_cases=covid_cases,\n",
    "        shared_teks_by_generation_date=shared_teks_by_generation_date,\n",
    "        shared_teks_by_upload_date=shared_teks_by_upload_date,\n",
    "        shared_diagnoses=shared_diagnoses,\n",
    "        teks_per_shared_diagnosis=teks_per_shared_diagnosis,\n",
    "        shared_diagnoses_per_covid_case=shared_diagnoses_per_covid_case,\n",
    "    ),\n",
    "    last_7_days=last_7_days_summary,\n",
    "    daily_results=summary_results_api_df.to_dict(orient=\"records\"))\n",
    "summary_results = \\\n",
    "    json.loads(pd.Series([summary_results]).to_json(orient=\"records\"))[0]\n",
    "\n",
    "with open(report_resources_path_prefix + \"Summary-Results.json\", \"w\") as f:\n",
    "    json.dump(summary_results, f, indent=4)"
   ]
  },
  {
   "cell_type": "markdown",
   "metadata": {
    "collapsed": false,
    "papermill": {
     "duration": 0.08914,
     "end_time": "2020-10-12T20:10:38.670575",
     "exception": false,
     "start_time": "2020-10-12T20:10:38.581435",
     "status": "completed"
    },
    "pycharm": {
     "name": "#%% md\n"
    },
    "tags": []
   },
   "source": [
    "### Publish on README"
   ]
  },
  {
   "cell_type": "code",
   "execution_count": 58,
   "metadata": {
    "collapsed": false,
    "execution": {
     "iopub.execute_input": "2020-10-12T20:10:38.857726Z",
     "iopub.status.busy": "2020-10-12T20:10:38.856263Z",
     "iopub.status.idle": "2020-10-12T20:10:38.859189Z",
     "shell.execute_reply": "2020-10-12T20:10:38.859771Z"
    },
    "papermill": {
     "duration": 0.098591,
     "end_time": "2020-10-12T20:10:38.860005",
     "exception": false,
     "start_time": "2020-10-12T20:10:38.761414",
     "status": "completed"
    },
    "pycharm": {
     "name": "#%%\n"
    },
    "tags": []
   },
   "outputs": [],
   "source": [
    "with open(\"Data/Templates/README.md\", \"r\") as f:\n",
    "    readme_contents = f.read()\n",
    "\n",
    "readme_contents = readme_contents.format(\n",
    "    extraction_date_with_hour=extraction_date_with_hour,\n",
    "    github_project_base_url=github_project_base_url,\n",
    "    daily_summary_table_html=daily_summary_table_html,\n",
    "    multi_region_summary_table_html=multi_region_summary_table_html)\n",
    "\n",
    "with open(\"README.md\", \"w\") as f:\n",
    "    f.write(readme_contents)"
   ]
  },
  {
   "cell_type": "markdown",
   "metadata": {
    "collapsed": false,
    "papermill": {
     "duration": 0.096148,
     "end_time": "2020-10-12T20:10:39.046365",
     "exception": false,
     "start_time": "2020-10-12T20:10:38.950217",
     "status": "completed"
    },
    "pycharm": {
     "name": "#%% md\n"
    },
    "tags": []
   },
   "source": [
    "### Publish on Twitter"
   ]
  },
  {
   "cell_type": "code",
   "execution_count": 59,
   "metadata": {
    "collapsed": false,
    "execution": {
     "iopub.execute_input": "2020-10-12T20:10:39.231345Z",
     "iopub.status.busy": "2020-10-12T20:10:39.230649Z",
     "iopub.status.idle": "2020-10-12T20:10:39.233242Z",
     "shell.execute_reply": "2020-10-12T20:10:39.232588Z"
    },
    "papermill": {
     "duration": 0.098289,
     "end_time": "2020-10-12T20:10:39.233378",
     "exception": false,
     "start_time": "2020-10-12T20:10:39.135089",
     "status": "completed"
    },
    "pycharm": {
     "name": "#%%\n"
    },
    "tags": []
   },
   "outputs": [],
   "source": [
    "enable_share_to_twitter = os.environ.get(\"RADARCOVID_REPORT__ENABLE_PUBLISH_ON_TWITTER\")\n",
    "github_event_name = os.environ.get(\"GITHUB_EVENT_NAME\")\n",
    "\n",
    "if enable_share_to_twitter and github_event_name == \"schedule\":\n",
    "    import tweepy\n",
    "\n",
    "    twitter_api_auth_keys = os.environ[\"RADARCOVID_REPORT__TWITTER_API_AUTH_KEYS\"]\n",
    "    twitter_api_auth_keys = twitter_api_auth_keys.split(\":\")\n",
    "    auth = tweepy.OAuthHandler(twitter_api_auth_keys[0], twitter_api_auth_keys[1])\n",
    "    auth.set_access_token(twitter_api_auth_keys[2], twitter_api_auth_keys[3])\n",
    "\n",
    "    api = tweepy.API(auth)\n",
    "\n",
    "    summary_plots_media = api.media_upload(summary_plots_image_path)\n",
    "    summary_table_media = api.media_upload(summary_table_image_path)\n",
    "    generation_to_upload_period_pivot_table_image_media = api.media_upload(generation_to_upload_period_pivot_table_image_path)\n",
    "    media_ids = [\n",
    "        summary_plots_media.media_id,\n",
    "        summary_table_media.media_id,\n",
    "        generation_to_upload_period_pivot_table_image_media.media_id,\n",
    "    ]\n",
    "\n",
    "    status = textwrap.dedent(f\"\"\"\n",
    "        #RadarCOVID Report – {extraction_date_with_hour}\n",
    "\n",
    "        Today:\n",
    "        - Uploaded TEKs: {shared_teks_by_upload_date:.0f} ({shared_teks_by_upload_date_last_hour:+d} last hour)\n",
    "        - Shared Diagnoses: ≤{shared_diagnoses:.0f} ({shared_diagnoses_last_hour:+d} last hour)\n",
    "        - TEKs per Diagnosis: ≥{teks_per_shared_diagnosis:.1f}\n",
    "        - Usage Ratio: ≤{shared_diagnoses_per_covid_case:.2%}\n",
    "\n",
    "        Week:\n",
    "        - Shared Diagnoses: ≤{last_7_days_summary[\"shared_diagnoses\"]:.0f}\n",
    "        - Usage Ratio: ≤{last_7_days_summary[\"shared_diagnoses_per_covid_case\"]:.2%}\n",
    "\n",
    "        More Info: {github_project_base_url}#documentation\n",
    "        \"\"\")\n",
    "    status = status.encode(encoding=\"utf-8\")\n",
    "    api.update_status(status=status, media_ids=media_ids)"
   ]
  },
  {
   "cell_type": "code",
   "execution_count": null,
   "metadata": {
    "collapsed": false,
    "papermill": {
     "duration": 0.08796,
     "end_time": "2020-10-12T20:10:39.410950",
     "exception": false,
     "start_time": "2020-10-12T20:10:39.322990",
     "status": "completed"
    },
    "pycharm": {
     "name": "#%%\n"
    },
    "tags": []
   },
   "outputs": [],
   "source": []
  }
 ],
 "metadata": {
  "kernelspec": {
   "display_name": "Python 3",
   "language": "python",
   "name": "python3"
  },
  "language_info": {
   "codemirror_mode": {
    "name": "ipython",
    "version": 3
   },
   "file_extension": ".py",
   "mimetype": "text/x-python",
   "name": "python",
   "nbconvert_exporter": "python",
   "pygments_lexer": "ipython3",
   "version": "3.8.6"
  },
  "papermill": {
   "duration": 67.484741,
   "end_time": "2020-10-12T20:10:40.972015",
   "environment_variables": {},
   "exception": null,
   "input_path": "Notebooks/RadarCOVID-Report/Source/RadarCOVID-Report.ipynb",
   "output_path": "RadarCOVID-Report.ipynb",
   "parameters": {},
   "start_time": "2020-10-12T20:09:33.487274",
   "version": "2.1.3"
  }
 },
 "nbformat": 4,
 "nbformat_minor": 1
}