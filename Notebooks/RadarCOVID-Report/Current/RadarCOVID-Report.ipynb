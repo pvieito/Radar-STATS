{
 "cells": [
  {
   "cell_type": "markdown",
   "metadata": {
    "papermill": {
     "duration": 0.043691,
     "end_time": "2020-10-08T20:22:33.404480",
     "exception": false,
     "start_time": "2020-10-08T20:22:33.360789",
     "status": "completed"
    },
    "pycharm": {
     "name": "#%% md\n"
    },
    "tags": []
   },
   "source": [
    "# RadarCOVID-Report"
   ]
  },
  {
   "cell_type": "markdown",
   "metadata": {
    "collapsed": true,
    "papermill": {
     "duration": 0.042364,
     "end_time": "2020-10-08T20:22:33.489845",
     "exception": false,
     "start_time": "2020-10-08T20:22:33.447481",
     "status": "completed"
    },
    "pycharm": {
     "name": "#%% md\n"
    },
    "tags": []
   },
   "source": [
    "## Data Extraction"
   ]
  },
  {
   "cell_type": "code",
   "execution_count": 1,
   "metadata": {
    "execution": {
     "iopub.execute_input": "2020-10-08T20:22:33.582641Z",
     "iopub.status.busy": "2020-10-08T20:22:33.581954Z",
     "iopub.status.idle": "2020-10-08T20:22:35.087119Z",
     "shell.execute_reply": "2020-10-08T20:22:35.086484Z"
    },
    "papermill": {
     "duration": 1.554614,
     "end_time": "2020-10-08T20:22:35.087322",
     "exception": false,
     "start_time": "2020-10-08T20:22:33.532708",
     "status": "completed"
    },
    "pycharm": {
     "name": "#%%\n"
    },
    "tags": []
   },
   "outputs": [],
   "source": [
    "import datetime\n",
    "import json\n",
    "import logging\n",
    "import os\n",
    "import shutil\n",
    "import tempfile\n",
    "import textwrap\n",
    "import uuid\n",
    "\n",
    "import matplotlib.ticker\n",
    "import numpy as np\n",
    "import pandas as pd\n",
    "import seaborn as sns\n",
    "\n",
    "%matplotlib inline"
   ]
  },
  {
   "cell_type": "code",
   "execution_count": 2,
   "metadata": {
    "collapsed": false,
    "execution": {
     "iopub.execute_input": "2020-10-08T20:22:35.177353Z",
     "iopub.status.busy": "2020-10-08T20:22:35.176738Z",
     "iopub.status.idle": "2020-10-08T20:22:35.178871Z",
     "shell.execute_reply": "2020-10-08T20:22:35.179474Z"
    },
    "papermill": {
     "duration": 0.052073,
     "end_time": "2020-10-08T20:22:35.179650",
     "exception": false,
     "start_time": "2020-10-08T20:22:35.127577",
     "status": "completed"
    },
    "pycharm": {
     "name": "#%%\n"
    },
    "tags": []
   },
   "outputs": [],
   "source": [
    "current_working_directory = os.environ.get(\"PWD\")\n",
    "if current_working_directory:\n",
    "    os.chdir(current_working_directory)\n",
    "\n",
    "sns.set()\n",
    "matplotlib.rcParams[\"figure.figsize\"] = (15, 6)\n",
    "\n",
    "extraction_datetime = datetime.datetime.utcnow()\n",
    "extraction_date = extraction_datetime.strftime(\"%Y-%m-%d\")\n",
    "extraction_previous_datetime = extraction_datetime - datetime.timedelta(days=1)\n",
    "extraction_previous_date = extraction_previous_datetime.strftime(\"%Y-%m-%d\")\n",
    "extraction_date_with_hour = datetime.datetime.utcnow().strftime(\"%Y-%m-%d@%H\")"
   ]
  },
  {
   "cell_type": "markdown",
   "metadata": {
    "collapsed": false,
    "papermill": {
     "duration": 0.042346,
     "end_time": "2020-10-08T20:22:35.260583",
     "exception": false,
     "start_time": "2020-10-08T20:22:35.218237",
     "status": "completed"
    },
    "tags": []
   },
   "source": [
    "### Constants"
   ]
  },
  {
   "cell_type": "code",
   "execution_count": 3,
   "metadata": {
    "execution": {
     "iopub.execute_input": "2020-10-08T20:22:35.343536Z",
     "iopub.status.busy": "2020-10-08T20:22:35.342936Z",
     "iopub.status.idle": "2020-10-08T20:22:35.345497Z",
     "shell.execute_reply": "2020-10-08T20:22:35.344978Z"
    },
    "papermill": {
     "duration": 0.045549,
     "end_time": "2020-10-08T20:22:35.345633",
     "exception": false,
     "start_time": "2020-10-08T20:22:35.300084",
     "status": "completed"
    },
    "pycharm": {
     "name": "#%%\n"
    },
    "tags": []
   },
   "outputs": [],
   "source": [
    "spain_region_country_name = \"Spain\"\n",
    "spain_region_country_code = \"ES\"\n",
    "\n",
    "daily_summary_days = 7 * 3\n",
    "daily_plot_days = 7 * 2\n",
    "tek_dumps_load_limit = daily_summary_days + 1"
   ]
  },
  {
   "cell_type": "markdown",
   "metadata": {
    "collapsed": false,
    "papermill": {
     "duration": 0.038297,
     "end_time": "2020-10-08T20:22:35.423975",
     "exception": false,
     "start_time": "2020-10-08T20:22:35.385678",
     "status": "completed"
    },
    "pycharm": {
     "name": "#%% md\n"
    },
    "tags": []
   },
   "source": [
    "### COVID-19 Cases"
   ]
  },
  {
   "cell_type": "code",
   "execution_count": 4,
   "metadata": {
    "collapsed": false,
    "execution": {
     "iopub.execute_input": "2020-10-08T20:22:35.507256Z",
     "iopub.status.busy": "2020-10-08T20:22:35.506660Z",
     "iopub.status.idle": "2020-10-08T20:22:36.523261Z",
     "shell.execute_reply": "2020-10-08T20:22:36.523726Z"
    },
    "papermill": {
     "duration": 1.062244,
     "end_time": "2020-10-08T20:22:36.523914",
     "exception": false,
     "start_time": "2020-10-08T20:22:35.461670",
     "status": "completed"
    },
    "pycharm": {
     "name": "#%%\n"
    },
    "tags": []
   },
   "outputs": [
    {
     "data": {
      "text/html": [
       "<div>\n",
       "<style scoped>\n",
       "    .dataframe tbody tr th:only-of-type {\n",
       "        vertical-align: middle;\n",
       "    }\n",
       "\n",
       "    .dataframe tbody tr th {\n",
       "        vertical-align: top;\n",
       "    }\n",
       "\n",
       "    .dataframe thead th {\n",
       "        text-align: right;\n",
       "    }\n",
       "</style>\n",
       "<table border=\"1\" class=\"dataframe\">\n",
       "  <thead>\n",
       "    <tr style=\"text-align: right;\">\n",
       "      <th></th>\n",
       "      <th>Country_EN</th>\n",
       "      <th>Country_ES</th>\n",
       "      <th>Country_IT</th>\n",
       "      <th>Region</th>\n",
       "      <th>2020-01-23</th>\n",
       "      <th>2020-01-24</th>\n",
       "      <th>2020-01-25</th>\n",
       "      <th>2020-01-26</th>\n",
       "      <th>2020-01-27</th>\n",
       "      <th>2020-01-28</th>\n",
       "      <th>...</th>\n",
       "      <th>2020-09-28</th>\n",
       "      <th>2020-09-29</th>\n",
       "      <th>2020-09-30</th>\n",
       "      <th>2020-10-01</th>\n",
       "      <th>2020-10-02</th>\n",
       "      <th>2020-10-03</th>\n",
       "      <th>2020-10-04</th>\n",
       "      <th>2020-10-05</th>\n",
       "      <th>2020-10-06</th>\n",
       "      <th>2020-10-07</th>\n",
       "    </tr>\n",
       "  </thead>\n",
       "  <tbody>\n",
       "    <tr>\n",
       "      <th>233</th>\n",
       "      <td>Spain</td>\n",
       "      <td>España</td>\n",
       "      <td>Spagna</td>\n",
       "      <td>NaN</td>\n",
       "      <td>0.0</td>\n",
       "      <td>0.0</td>\n",
       "      <td>0.0</td>\n",
       "      <td>0.0</td>\n",
       "      <td>0.0</td>\n",
       "      <td>0.0</td>\n",
       "      <td>...</td>\n",
       "      <td>748266.0</td>\n",
       "      <td>748266.0</td>\n",
       "      <td>769188.0</td>\n",
       "      <td>778607.0</td>\n",
       "      <td>789932.0</td>\n",
       "      <td>789932.0</td>\n",
       "      <td>789932.0</td>\n",
       "      <td>813412.0</td>\n",
       "      <td>825410.0</td>\n",
       "      <td>835901.0</td>\n",
       "    </tr>\n",
       "  </tbody>\n",
       "</table>\n",
       "<p>1 rows × 263 columns</p>\n",
       "</div>"
      ],
      "text/plain": [
       "    Country_EN Country_ES Country_IT Region  2020-01-23  2020-01-24  \\\n",
       "233      Spain     España     Spagna    NaN         0.0         0.0   \n",
       "\n",
       "     2020-01-25  2020-01-26  2020-01-27  2020-01-28  ...  2020-09-28  \\\n",
       "233         0.0         0.0         0.0         0.0  ...    748266.0   \n",
       "\n",
       "     2020-09-29  2020-09-30  2020-10-01  2020-10-02  2020-10-03  2020-10-04  \\\n",
       "233    748266.0    769188.0    778607.0    789932.0    789932.0    789932.0   \n",
       "\n",
       "     2020-10-05  2020-10-06  2020-10-07  \n",
       "233    813412.0    825410.0    835901.0  \n",
       "\n",
       "[1 rows x 263 columns]"
      ]
     },
     "execution_count": 4,
     "metadata": {},
     "output_type": "execute_result"
    }
   ],
   "source": [
    "confirmed_df = pd.read_csv(\"https://covid19tracking.narrativa.com/csv/confirmed.csv\")\n",
    "\n",
    "radar_covid_countries = {spain_region_country_name}\n",
    "\n",
    "confirmed_df = confirmed_df[confirmed_df[\"Country_EN\"].isin(radar_covid_countries)]\n",
    "confirmed_df = confirmed_df[pd.isna(confirmed_df.Region)]\n",
    "confirmed_df.head()"
   ]
  },
  {
   "cell_type": "code",
   "execution_count": 5,
   "metadata": {
    "collapsed": false,
    "execution": {
     "iopub.execute_input": "2020-10-08T20:22:36.640358Z",
     "iopub.status.busy": "2020-10-08T20:22:36.639239Z",
     "iopub.status.idle": "2020-10-08T20:22:36.642994Z",
     "shell.execute_reply": "2020-10-08T20:22:36.642450Z"
    },
    "papermill": {
     "duration": 0.075031,
     "end_time": "2020-10-08T20:22:36.643145",
     "exception": false,
     "start_time": "2020-10-08T20:22:36.568114",
     "status": "completed"
    },
    "pycharm": {
     "name": "#%%\n"
    },
    "tags": []
   },
   "outputs": [
    {
     "data": {
      "text/html": [
       "<div>\n",
       "<style scoped>\n",
       "    .dataframe tbody tr th:only-of-type {\n",
       "        vertical-align: middle;\n",
       "    }\n",
       "\n",
       "    .dataframe tbody tr th {\n",
       "        vertical-align: top;\n",
       "    }\n",
       "\n",
       "    .dataframe thead th {\n",
       "        text-align: right;\n",
       "    }\n",
       "</style>\n",
       "<table border=\"1\" class=\"dataframe\">\n",
       "  <thead>\n",
       "    <tr style=\"text-align: right;\">\n",
       "      <th></th>\n",
       "      <th>2020-01-23</th>\n",
       "      <th>2020-01-24</th>\n",
       "      <th>2020-01-25</th>\n",
       "      <th>2020-01-26</th>\n",
       "      <th>2020-01-27</th>\n",
       "      <th>2020-01-28</th>\n",
       "      <th>2020-01-29</th>\n",
       "      <th>2020-01-30</th>\n",
       "      <th>2020-01-31</th>\n",
       "      <th>2020-02-01</th>\n",
       "      <th>...</th>\n",
       "      <th>2020-09-28</th>\n",
       "      <th>2020-09-29</th>\n",
       "      <th>2020-09-30</th>\n",
       "      <th>2020-10-01</th>\n",
       "      <th>2020-10-02</th>\n",
       "      <th>2020-10-03</th>\n",
       "      <th>2020-10-04</th>\n",
       "      <th>2020-10-05</th>\n",
       "      <th>2020-10-06</th>\n",
       "      <th>2020-10-07</th>\n",
       "    </tr>\n",
       "  </thead>\n",
       "  <tbody>\n",
       "    <tr>\n",
       "      <th>233</th>\n",
       "      <td>0.0</td>\n",
       "      <td>0.0</td>\n",
       "      <td>0.0</td>\n",
       "      <td>0.0</td>\n",
       "      <td>0.0</td>\n",
       "      <td>0.0</td>\n",
       "      <td>0.0</td>\n",
       "      <td>0.0</td>\n",
       "      <td>0.0</td>\n",
       "      <td>1.0</td>\n",
       "      <td>...</td>\n",
       "      <td>748266.0</td>\n",
       "      <td>748266.0</td>\n",
       "      <td>769188.0</td>\n",
       "      <td>778607.0</td>\n",
       "      <td>789932.0</td>\n",
       "      <td>789932.0</td>\n",
       "      <td>789932.0</td>\n",
       "      <td>813412.0</td>\n",
       "      <td>825410.0</td>\n",
       "      <td>835901.0</td>\n",
       "    </tr>\n",
       "  </tbody>\n",
       "</table>\n",
       "<p>1 rows × 259 columns</p>\n",
       "</div>"
      ],
      "text/plain": [
       "     2020-01-23  2020-01-24  2020-01-25  2020-01-26  2020-01-27  2020-01-28  \\\n",
       "233         0.0         0.0         0.0         0.0         0.0         0.0   \n",
       "\n",
       "     2020-01-29  2020-01-30  2020-01-31  2020-02-01  ...  2020-09-28  \\\n",
       "233         0.0         0.0         0.0         1.0  ...    748266.0   \n",
       "\n",
       "     2020-09-29  2020-09-30  2020-10-01  2020-10-02  2020-10-03  2020-10-04  \\\n",
       "233    748266.0    769188.0    778607.0    789932.0    789932.0    789932.0   \n",
       "\n",
       "     2020-10-05  2020-10-06  2020-10-07  \n",
       "233    813412.0    825410.0    835901.0  \n",
       "\n",
       "[1 rows x 259 columns]"
      ]
     },
     "execution_count": 5,
     "metadata": {},
     "output_type": "execute_result"
    }
   ],
   "source": [
    "confirmed_country_columns = list(filter(lambda x: x.startswith(\"Country_\"), confirmed_df.columns))\n",
    "confirmed_regional_columns = confirmed_country_columns + [\"Region\"]\n",
    "confirmed_df.drop(columns=confirmed_regional_columns, inplace=True)\n",
    "confirmed_df.head()"
   ]
  },
  {
   "cell_type": "code",
   "execution_count": 6,
   "metadata": {
    "collapsed": false,
    "execution": {
     "iopub.execute_input": "2020-10-08T20:22:36.732631Z",
     "iopub.status.busy": "2020-10-08T20:22:36.731990Z",
     "iopub.status.idle": "2020-10-08T20:22:36.735259Z",
     "shell.execute_reply": "2020-10-08T20:22:36.734726Z"
    },
    "papermill": {
     "duration": 0.051806,
     "end_time": "2020-10-08T20:22:36.735404",
     "exception": false,
     "start_time": "2020-10-08T20:22:36.683598",
     "status": "completed"
    },
    "pycharm": {
     "name": "#%%\n"
    },
    "tags": []
   },
   "outputs": [
    {
     "data": {
      "text/html": [
       "<div>\n",
       "<style scoped>\n",
       "    .dataframe tbody tr th:only-of-type {\n",
       "        vertical-align: middle;\n",
       "    }\n",
       "\n",
       "    .dataframe tbody tr th {\n",
       "        vertical-align: top;\n",
       "    }\n",
       "\n",
       "    .dataframe thead th {\n",
       "        text-align: right;\n",
       "    }\n",
       "</style>\n",
       "<table border=\"1\" class=\"dataframe\">\n",
       "  <thead>\n",
       "    <tr style=\"text-align: right;\">\n",
       "      <th></th>\n",
       "      <th>0</th>\n",
       "    </tr>\n",
       "  </thead>\n",
       "  <tbody>\n",
       "    <tr>\n",
       "      <th>2020-10-03</th>\n",
       "      <td>789932.0</td>\n",
       "    </tr>\n",
       "    <tr>\n",
       "      <th>2020-10-04</th>\n",
       "      <td>789932.0</td>\n",
       "    </tr>\n",
       "    <tr>\n",
       "      <th>2020-10-05</th>\n",
       "      <td>813412.0</td>\n",
       "    </tr>\n",
       "    <tr>\n",
       "      <th>2020-10-06</th>\n",
       "      <td>825410.0</td>\n",
       "    </tr>\n",
       "    <tr>\n",
       "      <th>2020-10-07</th>\n",
       "      <td>835901.0</td>\n",
       "    </tr>\n",
       "  </tbody>\n",
       "</table>\n",
       "</div>"
      ],
      "text/plain": [
       "                   0\n",
       "2020-10-03  789932.0\n",
       "2020-10-04  789932.0\n",
       "2020-10-05  813412.0\n",
       "2020-10-06  825410.0\n",
       "2020-10-07  835901.0"
      ]
     },
     "execution_count": 6,
     "metadata": {},
     "output_type": "execute_result"
    }
   ],
   "source": [
    "confirmed_df = confirmed_df.sum().to_frame()\n",
    "confirmed_df.tail()"
   ]
  },
  {
   "cell_type": "code",
   "execution_count": 7,
   "metadata": {
    "collapsed": false,
    "execution": {
     "iopub.execute_input": "2020-10-08T20:22:36.832175Z",
     "iopub.status.busy": "2020-10-08T20:22:36.831542Z",
     "iopub.status.idle": "2020-10-08T20:22:36.835363Z",
     "shell.execute_reply": "2020-10-08T20:22:36.834825Z"
    },
    "papermill": {
     "duration": 0.061413,
     "end_time": "2020-10-08T20:22:36.835512",
     "exception": false,
     "start_time": "2020-10-08T20:22:36.774099",
     "status": "completed"
    },
    "pycharm": {
     "name": "#%%\n"
    },
    "tags": []
   },
   "outputs": [
    {
     "data": {
      "text/html": [
       "<div>\n",
       "<style scoped>\n",
       "    .dataframe tbody tr th:only-of-type {\n",
       "        vertical-align: middle;\n",
       "    }\n",
       "\n",
       "    .dataframe tbody tr th {\n",
       "        vertical-align: top;\n",
       "    }\n",
       "\n",
       "    .dataframe thead th {\n",
       "        text-align: right;\n",
       "    }\n",
       "</style>\n",
       "<table border=\"1\" class=\"dataframe\">\n",
       "  <thead>\n",
       "    <tr style=\"text-align: right;\">\n",
       "      <th></th>\n",
       "      <th>sample_date_string</th>\n",
       "      <th>cumulative_cases</th>\n",
       "      <th>new_cases</th>\n",
       "      <th>covid_cases</th>\n",
       "    </tr>\n",
       "  </thead>\n",
       "  <tbody>\n",
       "    <tr>\n",
       "      <th>254</th>\n",
       "      <td>2020-10-03</td>\n",
       "      <td>789932.0</td>\n",
       "      <td>0.0</td>\n",
       "      <td>10493.0</td>\n",
       "    </tr>\n",
       "    <tr>\n",
       "      <th>255</th>\n",
       "      <td>2020-10-04</td>\n",
       "      <td>789932.0</td>\n",
       "      <td>0.0</td>\n",
       "      <td>10493.0</td>\n",
       "    </tr>\n",
       "    <tr>\n",
       "      <th>256</th>\n",
       "      <td>2020-10-05</td>\n",
       "      <td>813412.0</td>\n",
       "      <td>23480.0</td>\n",
       "      <td>9307.0</td>\n",
       "    </tr>\n",
       "    <tr>\n",
       "      <th>257</th>\n",
       "      <td>2020-10-06</td>\n",
       "      <td>825410.0</td>\n",
       "      <td>11998.0</td>\n",
       "      <td>11021.0</td>\n",
       "    </tr>\n",
       "    <tr>\n",
       "      <th>258</th>\n",
       "      <td>2020-10-07</td>\n",
       "      <td>835901.0</td>\n",
       "      <td>10491.0</td>\n",
       "      <td>9530.0</td>\n",
       "    </tr>\n",
       "  </tbody>\n",
       "</table>\n",
       "</div>"
      ],
      "text/plain": [
       "    sample_date_string  cumulative_cases  new_cases  covid_cases\n",
       "254         2020-10-03          789932.0        0.0      10493.0\n",
       "255         2020-10-04          789932.0        0.0      10493.0\n",
       "256         2020-10-05          813412.0    23480.0       9307.0\n",
       "257         2020-10-06          825410.0    11998.0      11021.0\n",
       "258         2020-10-07          835901.0    10491.0       9530.0"
      ]
     },
     "execution_count": 7,
     "metadata": {},
     "output_type": "execute_result"
    }
   ],
   "source": [
    "confirmed_df.reset_index(inplace=True)\n",
    "confirmed_df.columns = [\"sample_date_string\", \"cumulative_cases\"]\n",
    "confirmed_df.sort_values(\"sample_date_string\", inplace=True)\n",
    "confirmed_df[\"new_cases\"] = confirmed_df.cumulative_cases.diff()\n",
    "confirmed_df[\"covid_cases\"] = confirmed_df.new_cases.rolling(7).mean().round()\n",
    "confirmed_df.tail()"
   ]
  },
  {
   "cell_type": "code",
   "execution_count": 8,
   "metadata": {
    "execution": {
     "iopub.execute_input": "2020-10-08T20:22:36.926343Z",
     "iopub.status.busy": "2020-10-08T20:22:36.925711Z",
     "iopub.status.idle": "2020-10-08T20:22:36.938897Z",
     "shell.execute_reply": "2020-10-08T20:22:36.938363Z"
    },
    "papermill": {
     "duration": 0.0634,
     "end_time": "2020-10-08T20:22:36.939046",
     "exception": false,
     "start_time": "2020-10-08T20:22:36.875646",
     "status": "completed"
    },
    "pycharm": {
     "name": "#%%\n"
    },
    "tags": []
   },
   "outputs": [
    {
     "data": {
      "text/html": [
       "<div>\n",
       "<style scoped>\n",
       "    .dataframe tbody tr th:only-of-type {\n",
       "        vertical-align: middle;\n",
       "    }\n",
       "\n",
       "    .dataframe tbody tr th {\n",
       "        vertical-align: top;\n",
       "    }\n",
       "\n",
       "    .dataframe thead th {\n",
       "        text-align: right;\n",
       "    }\n",
       "</style>\n",
       "<table border=\"1\" class=\"dataframe\">\n",
       "  <thead>\n",
       "    <tr style=\"text-align: right;\">\n",
       "      <th></th>\n",
       "      <th>sample_date_string</th>\n",
       "      <th>cumulative_cases</th>\n",
       "      <th>new_cases</th>\n",
       "      <th>covid_cases</th>\n",
       "    </tr>\n",
       "  </thead>\n",
       "  <tbody>\n",
       "    <tr>\n",
       "      <th>255</th>\n",
       "      <td>2020-10-04</td>\n",
       "      <td>789932.0</td>\n",
       "      <td>0.0</td>\n",
       "      <td>10493</td>\n",
       "    </tr>\n",
       "    <tr>\n",
       "      <th>256</th>\n",
       "      <td>2020-10-05</td>\n",
       "      <td>813412.0</td>\n",
       "      <td>23480.0</td>\n",
       "      <td>9307</td>\n",
       "    </tr>\n",
       "    <tr>\n",
       "      <th>257</th>\n",
       "      <td>2020-10-06</td>\n",
       "      <td>825410.0</td>\n",
       "      <td>11998.0</td>\n",
       "      <td>11021</td>\n",
       "    </tr>\n",
       "    <tr>\n",
       "      <th>258</th>\n",
       "      <td>2020-10-07</td>\n",
       "      <td>835901.0</td>\n",
       "      <td>10491.0</td>\n",
       "      <td>9530</td>\n",
       "    </tr>\n",
       "    <tr>\n",
       "      <th>258</th>\n",
       "      <td>2020-10-08</td>\n",
       "      <td>845431.0</td>\n",
       "      <td>9530.0</td>\n",
       "      <td>9530</td>\n",
       "    </tr>\n",
       "  </tbody>\n",
       "</table>\n",
       "</div>"
      ],
      "text/plain": [
       "    sample_date_string  cumulative_cases  new_cases  covid_cases\n",
       "255         2020-10-04          789932.0        0.0        10493\n",
       "256         2020-10-05          813412.0    23480.0         9307\n",
       "257         2020-10-06          825410.0    11998.0        11021\n",
       "258         2020-10-07          835901.0    10491.0         9530\n",
       "258         2020-10-08          845431.0     9530.0         9530"
      ]
     },
     "execution_count": 8,
     "metadata": {},
     "output_type": "execute_result"
    }
   ],
   "source": [
    "extraction_date_confirmed_df = \\\n",
    "    confirmed_df[confirmed_df.sample_date_string == extraction_date]\n",
    "extraction_previous_date_confirmed_df = \\\n",
    "    confirmed_df[confirmed_df.sample_date_string == extraction_previous_date].copy()\n",
    "\n",
    "if extraction_date_confirmed_df.empty and \\\n",
    "    not extraction_previous_date_confirmed_df.empty:\n",
    "        extraction_previous_date_confirmed_df[\"sample_date_string\"] = extraction_date\n",
    "        extraction_previous_date_confirmed_df[\"new_cases\"] = \\\n",
    "            extraction_previous_date_confirmed_df.covid_cases\n",
    "        extraction_previous_date_confirmed_df[\"cumulative_cases\"] = \\\n",
    "            extraction_previous_date_confirmed_df.new_cases + \\\n",
    "            extraction_previous_date_confirmed_df.cumulative_cases\n",
    "        confirmed_df = confirmed_df.append(extraction_previous_date_confirmed_df)\n",
    "\n",
    "confirmed_df[\"covid_cases\"] = confirmed_df.covid_cases.fillna(0).astype(int)\n",
    "confirmed_df.tail()"
   ]
  },
  {
   "cell_type": "code",
   "execution_count": 9,
   "metadata": {
    "execution": {
     "iopub.execute_input": "2020-10-08T20:22:37.031753Z",
     "iopub.status.busy": "2020-10-08T20:22:37.031144Z",
     "iopub.status.idle": "2020-10-08T20:22:37.252325Z",
     "shell.execute_reply": "2020-10-08T20:22:37.253489Z"
    },
    "papermill": {
     "duration": 0.273145,
     "end_time": "2020-10-08T20:22:37.253677",
     "exception": false,
     "start_time": "2020-10-08T20:22:36.980532",
     "status": "completed"
    },
    "pycharm": {
     "name": "#%%\n"
    },
    "tags": []
   },
   "outputs": [
    {
     "data": {
      "text/plain": [
       "<matplotlib.axes._subplots.AxesSubplot at 0x7fe3c26fd250>"
      ]
     },
     "execution_count": 9,
     "metadata": {},
     "output_type": "execute_result"
    },
    {
     "data": {
      "image/png": "[encoded data removed]",
      "text/plain": [
       "<Figure size 1080x432 with 1 Axes>"
      ]
     },
     "metadata": {},
     "output_type": "display_data"
    }
   ],
   "source": [
    "confirmed_df[[\"new_cases\", \"covid_cases\"]].plot()"
   ]
  },
  {
   "cell_type": "markdown",
   "metadata": {
    "execution": {
     "iopub.execute_input": "2020-08-30T22:30:16.351238Z",
     "iopub.status.busy": "2020-08-30T22:30:16.344579Z",
     "iopub.status.idle": "2020-08-30T22:30:16.354285Z",
     "shell.execute_reply": "2020-08-30T22:30:16.353641Z"
    },
    "papermill": {
     "duration": 0.043897,
     "end_time": "2020-10-08T20:22:37.340951",
     "exception": false,
     "start_time": "2020-10-08T20:22:37.297054",
     "status": "completed"
    },
    "pycharm": {
     "name": "#%% md\n"
    },
    "tags": []
   },
   "source": [
    "### Extract API TEKs"
   ]
  },
  {
   "cell_type": "code",
   "execution_count": 10,
   "metadata": {
    "execution": {
     "iopub.execute_input": "2020-10-08T20:22:37.432246Z",
     "iopub.status.busy": "2020-10-08T20:22:37.431641Z",
     "iopub.status.idle": "2020-10-08T20:22:40.168048Z",
     "shell.execute_reply": "2020-10-08T20:22:40.167482Z"
    },
    "papermill": {
     "duration": 2.784365,
     "end_time": "2020-10-08T20:22:40.168213",
     "exception": false,
     "start_time": "2020-10-08T20:22:37.383848",
     "status": "completed"
    },
    "pycharm": {
     "name": "#%%\n"
    },
    "tags": []
   },
   "outputs": [
    {
     "data": {
      "text/html": [
       "<div>\n",
       "<style scoped>\n",
       "    .dataframe tbody tr th:only-of-type {\n",
       "        vertical-align: middle;\n",
       "    }\n",
       "\n",
       "    .dataframe tbody tr th {\n",
       "        vertical-align: top;\n",
       "    }\n",
       "\n",
       "    .dataframe thead th {\n",
       "        text-align: right;\n",
       "    }\n",
       "</style>\n",
       "<table border=\"1\" class=\"dataframe\">\n",
       "  <thead>\n",
       "    <tr style=\"text-align: right;\">\n",
       "      <th></th>\n",
       "      <th>sample_datetime</th>\n",
       "      <th>sample_date_string</th>\n",
       "      <th>source_url</th>\n",
       "      <th>region</th>\n",
       "      <th>verification_key_version</th>\n",
       "      <th>verification_key_id</th>\n",
       "      <th>signature_algorithm</th>\n",
       "      <th>key_data</th>\n",
       "      <th>rolling_start_interval_number</th>\n",
       "      <th>rolling_period</th>\n",
       "      <th>transmission_risk_level</th>\n",
       "    </tr>\n",
       "  </thead>\n",
       "  <tbody>\n",
       "    <tr>\n",
       "      <th>0</th>\n",
       "      <td>2020-10-08 00:00:00+00:00</td>\n",
       "      <td>2020-10-08</td>\n",
       "      <td>https://radarcovid.covid19.gob.es/dp3t/v1/gaen...</td>\n",
       "      <td>ES</td>\n",
       "      <td>V1</td>\n",
       "      <td>214</td>\n",
       "      <td>1.2.840.10045.4.3.2</td>\n",
       "      <td>a663b30a-8b02-d298-a9f7-9c9153f7f590</td>\n",
       "      <td>2670192</td>\n",
       "      <td>144</td>\n",
       "      <td>0</td>\n",
       "    </tr>\n",
       "    <tr>\n",
       "      <th>0</th>\n",
       "      <td>2020-10-07 00:00:00+00:00</td>\n",
       "      <td>2020-10-07</td>\n",
       "      <td>https://radarcovid.covid19.gob.es/dp3t/v1/gaen...</td>\n",
       "      <td>ES</td>\n",
       "      <td>V1</td>\n",
       "      <td>214</td>\n",
       "      <td>1.2.840.10045.4.3.2</td>\n",
       "      <td>93bb79e3-f8d2-029c-5459-2d6945796a40</td>\n",
       "      <td>2670048</td>\n",
       "      <td>144</td>\n",
       "      <td>0</td>\n",
       "    </tr>\n",
       "    <tr>\n",
       "      <th>1</th>\n",
       "      <td>2020-10-07 00:00:00+00:00</td>\n",
       "      <td>2020-10-07</td>\n",
       "      <td>https://radarcovid.covid19.gob.es/dp3t/v1/gaen...</td>\n",
       "      <td>ES</td>\n",
       "      <td>V1</td>\n",
       "      <td>214</td>\n",
       "      <td>1.2.840.10045.4.3.2</td>\n",
       "      <td>5c5501f9-acdd-01f8-4a88-7fc102e4956a</td>\n",
       "      <td>2670048</td>\n",
       "      <td>144</td>\n",
       "      <td>0</td>\n",
       "    </tr>\n",
       "    <tr>\n",
       "      <th>2</th>\n",
       "      <td>2020-10-07 00:00:00+00:00</td>\n",
       "      <td>2020-10-07</td>\n",
       "      <td>https://radarcovid.covid19.gob.es/dp3t/v1/gaen...</td>\n",
       "      <td>ES</td>\n",
       "      <td>V1</td>\n",
       "      <td>214</td>\n",
       "      <td>1.2.840.10045.4.3.2</td>\n",
       "      <td>4fdd7d00-9252-7812-e7c0-63fabf516ee7</td>\n",
       "      <td>2670048</td>\n",
       "      <td>144</td>\n",
       "      <td>0</td>\n",
       "    </tr>\n",
       "    <tr>\n",
       "      <th>3</th>\n",
       "      <td>2020-10-07 00:00:00+00:00</td>\n",
       "      <td>2020-10-07</td>\n",
       "      <td>https://radarcovid.covid19.gob.es/dp3t/v1/gaen...</td>\n",
       "      <td>ES</td>\n",
       "      <td>V1</td>\n",
       "      <td>214</td>\n",
       "      <td>1.2.840.10045.4.3.2</td>\n",
       "      <td>edb2383d-50ed-ebea-9d78-de96f9341d9d</td>\n",
       "      <td>2670048</td>\n",
       "      <td>144</td>\n",
       "      <td>0</td>\n",
       "    </tr>\n",
       "  </tbody>\n",
       "</table>\n",
       "</div>"
      ],
      "text/plain": [
       "            sample_datetime sample_date_string  \\\n",
       "0 2020-10-08 00:00:00+00:00         2020-10-08   \n",
       "0 2020-10-07 00:00:00+00:00         2020-10-07   \n",
       "1 2020-10-07 00:00:00+00:00         2020-10-07   \n",
       "2 2020-10-07 00:00:00+00:00         2020-10-07   \n",
       "3 2020-10-07 00:00:00+00:00         2020-10-07   \n",
       "\n",
       "                                          source_url region  \\\n",
       "0  https://radarcovid.covid19.gob.es/dp3t/v1/gaen...     ES   \n",
       "0  https://radarcovid.covid19.gob.es/dp3t/v1/gaen...     ES   \n",
       "1  https://radarcovid.covid19.gob.es/dp3t/v1/gaen...     ES   \n",
       "2  https://radarcovid.covid19.gob.es/dp3t/v1/gaen...     ES   \n",
       "3  https://radarcovid.covid19.gob.es/dp3t/v1/gaen...     ES   \n",
       "\n",
       "  verification_key_version verification_key_id  signature_algorithm  \\\n",
       "0                       V1                 214  1.2.840.10045.4.3.2   \n",
       "0                       V1                 214  1.2.840.10045.4.3.2   \n",
       "1                       V1                 214  1.2.840.10045.4.3.2   \n",
       "2                       V1                 214  1.2.840.10045.4.3.2   \n",
       "3                       V1                 214  1.2.840.10045.4.3.2   \n",
       "\n",
       "                               key_data  rolling_start_interval_number  \\\n",
       "0  a663b30a-8b02-d298-a9f7-9c9153f7f590                        2670192   \n",
       "0  93bb79e3-f8d2-029c-5459-2d6945796a40                        2670048   \n",
       "1  5c5501f9-acdd-01f8-4a88-7fc102e4956a                        2670048   \n",
       "2  4fdd7d00-9252-7812-e7c0-63fabf516ee7                        2670048   \n",
       "3  edb2383d-50ed-ebea-9d78-de96f9341d9d                        2670048   \n",
       "\n",
       "   rolling_period  transmission_risk_level  \n",
       "0             144                        0  \n",
       "0             144                        0  \n",
       "1             144                        0  \n",
       "2             144                        0  \n",
       "3             144                        0  "
      ]
     },
     "execution_count": 10,
     "metadata": {},
     "output_type": "execute_result"
    }
   ],
   "source": [
    "from Modules.RadarCOVID import radar_covid\n",
    "\n",
    "raw_zip_paths = [\n",
    "    \"Data/TEKs/Raw/Current/RadarCOVID-TEKs-{sample_date}.zip\",\n",
    "    f\"Data/TEKs/Raw/Daily/{extraction_date}/RadarCOVID-TEKs-{{sample_date}}.zip\",\n",
    "    f\"Data/TEKs/Raw/Hourly/{extraction_date_with_hour}/RadarCOVID-TEKs-{{sample_date}}.zip\",\n",
    "]\n",
    "\n",
    "multi_region_exposure_keys_df = \\\n",
    "    radar_covid.download_last_radar_covid_exposure_keys(\n",
    "        days=14, save_raw_zip_path=raw_zip_paths)\n",
    "multi_region_exposure_keys_df.head()"
   ]
  },
  {
   "cell_type": "code",
   "execution_count": 11,
   "metadata": {
    "collapsed": false,
    "execution": {
     "iopub.execute_input": "2020-10-08T20:22:40.267607Z",
     "iopub.status.busy": "2020-10-08T20:22:40.266981Z",
     "iopub.status.idle": "2020-10-08T20:22:40.527599Z",
     "shell.execute_reply": "2020-10-08T20:22:40.528363Z"
    },
    "papermill": {
     "duration": 0.312753,
     "end_time": "2020-10-08T20:22:40.528584",
     "exception": false,
     "start_time": "2020-10-08T20:22:40.215831",
     "status": "completed"
    },
    "pycharm": {
     "name": "#%%\n"
    },
    "tags": []
   },
   "outputs": [
    {
     "data": {
      "text/plain": [
       "<matplotlib.axes._subplots.AxesSubplot at 0x7fe3bf77ffa0>"
      ]
     },
     "execution_count": 11,
     "metadata": {},
     "output_type": "execute_result"
    },
    {
     "data": {
      "image/png": "[encoded data removed]",
      "text/plain": [
       "<Figure size 1080x432 with 1 Axes>"
      ]
     },
     "metadata": {},
     "output_type": "display_data"
    }
   ],
   "source": [
    "early_teks_df = multi_region_exposure_keys_df[\n",
    "    multi_region_exposure_keys_df.rolling_period < radar_covid.maximum_key_rolling_period].copy()\n",
    "early_teks_df[\"rolling_period_in_hours\"] = early_teks_df.rolling_period / 6\n",
    "early_teks_df[early_teks_df.sample_date_string != extraction_date] \\\n",
    "    .rolling_period_in_hours.hist(bins=list(range(24)))"
   ]
  },
  {
   "cell_type": "code",
   "execution_count": 12,
   "metadata": {
    "collapsed": false,
    "execution": {
     "iopub.execute_input": "2020-10-08T20:22:40.623433Z",
     "iopub.status.busy": "2020-10-08T20:22:40.622627Z",
     "iopub.status.idle": "2020-10-08T20:22:40.845509Z",
     "shell.execute_reply": "2020-10-08T20:22:40.846327Z"
    },
    "papermill": {
     "duration": 0.27449,
     "end_time": "2020-10-08T20:22:40.846532",
     "exception": false,
     "start_time": "2020-10-08T20:22:40.572042",
     "status": "completed"
    },
    "pycharm": {
     "name": "#%%\n"
    },
    "tags": []
   },
   "outputs": [
    {
     "data": {
      "text/plain": [
       "<matplotlib.axes._subplots.AxesSubplot at 0x7fe3bf6f6790>"
      ]
     },
     "execution_count": 12,
     "metadata": {},
     "output_type": "execute_result"
    },
    {
     "data": {
      "image/png": "[encoded data removed]",
      "text/plain": [
       "<Figure size 1080x432 with 1 Axes>"
      ]
     },
     "metadata": {},
     "output_type": "display_data"
    }
   ],
   "source": [
    "early_teks_df[early_teks_df.sample_date_string == extraction_date] \\\n",
    "    .rolling_period_in_hours.hist(bins=list(range(24)))"
   ]
  },
  {
   "cell_type": "code",
   "execution_count": 13,
   "metadata": {
    "collapsed": false,
    "execution": {
     "iopub.execute_input": "2020-10-08T20:22:40.952971Z",
     "iopub.status.busy": "2020-10-08T20:22:40.952290Z",
     "iopub.status.idle": "2020-10-08T20:22:40.954824Z",
     "shell.execute_reply": "2020-10-08T20:22:40.955310Z"
    },
    "papermill": {
     "duration": 0.058792,
     "end_time": "2020-10-08T20:22:40.955481",
     "exception": false,
     "start_time": "2020-10-08T20:22:40.896689",
     "status": "completed"
    },
    "pycharm": {
     "name": "#%%\n"
    },
    "tags": []
   },
   "outputs": [
    {
     "data": {
      "text/html": [
       "<div>\n",
       "<style scoped>\n",
       "    .dataframe tbody tr th:only-of-type {\n",
       "        vertical-align: middle;\n",
       "    }\n",
       "\n",
       "    .dataframe tbody tr th {\n",
       "        vertical-align: top;\n",
       "    }\n",
       "\n",
       "    .dataframe thead th {\n",
       "        text-align: right;\n",
       "    }\n",
       "</style>\n",
       "<table border=\"1\" class=\"dataframe\">\n",
       "  <thead>\n",
       "    <tr style=\"text-align: right;\">\n",
       "      <th></th>\n",
       "      <th>sample_date_string</th>\n",
       "      <th>source_url</th>\n",
       "      <th>region</th>\n",
       "      <th>key_data</th>\n",
       "    </tr>\n",
       "  </thead>\n",
       "  <tbody>\n",
       "    <tr>\n",
       "      <th>0</th>\n",
       "      <td>2020-10-08</td>\n",
       "      <td>https://radarcovid.covid19.gob.es/dp3t/v1/gaen...</td>\n",
       "      <td>ES</td>\n",
       "      <td>a663b30a-8b02-d298-a9f7-9c9153f7f590</td>\n",
       "    </tr>\n",
       "    <tr>\n",
       "      <th>0</th>\n",
       "      <td>2020-10-07</td>\n",
       "      <td>https://radarcovid.covid19.gob.es/dp3t/v1/gaen...</td>\n",
       "      <td>ES</td>\n",
       "      <td>93bb79e3-f8d2-029c-5459-2d6945796a40</td>\n",
       "    </tr>\n",
       "    <tr>\n",
       "      <th>1</th>\n",
       "      <td>2020-10-07</td>\n",
       "      <td>https://radarcovid.covid19.gob.es/dp3t/v1/gaen...</td>\n",
       "      <td>ES</td>\n",
       "      <td>5c5501f9-acdd-01f8-4a88-7fc102e4956a</td>\n",
       "    </tr>\n",
       "    <tr>\n",
       "      <th>2</th>\n",
       "      <td>2020-10-07</td>\n",
       "      <td>https://radarcovid.covid19.gob.es/dp3t/v1/gaen...</td>\n",
       "      <td>ES</td>\n",
       "      <td>4fdd7d00-9252-7812-e7c0-63fabf516ee7</td>\n",
       "    </tr>\n",
       "    <tr>\n",
       "      <th>3</th>\n",
       "      <td>2020-10-07</td>\n",
       "      <td>https://radarcovid.covid19.gob.es/dp3t/v1/gaen...</td>\n",
       "      <td>ES</td>\n",
       "      <td>edb2383d-50ed-ebea-9d78-de96f9341d9d</td>\n",
       "    </tr>\n",
       "  </tbody>\n",
       "</table>\n",
       "</div>"
      ],
      "text/plain": [
       "  sample_date_string                                         source_url  \\\n",
       "0         2020-10-08  https://radarcovid.covid19.gob.es/dp3t/v1/gaen...   \n",
       "0         2020-10-07  https://radarcovid.covid19.gob.es/dp3t/v1/gaen...   \n",
       "1         2020-10-07  https://radarcovid.covid19.gob.es/dp3t/v1/gaen...   \n",
       "2         2020-10-07  https://radarcovid.covid19.gob.es/dp3t/v1/gaen...   \n",
       "3         2020-10-07  https://radarcovid.covid19.gob.es/dp3t/v1/gaen...   \n",
       "\n",
       "  region                              key_data  \n",
       "0     ES  a663b30a-8b02-d298-a9f7-9c9153f7f590  \n",
       "0     ES  93bb79e3-f8d2-029c-5459-2d6945796a40  \n",
       "1     ES  5c5501f9-acdd-01f8-4a88-7fc102e4956a  \n",
       "2     ES  4fdd7d00-9252-7812-e7c0-63fabf516ee7  \n",
       "3     ES  edb2383d-50ed-ebea-9d78-de96f9341d9d  "
      ]
     },
     "execution_count": 13,
     "metadata": {},
     "output_type": "execute_result"
    }
   ],
   "source": [
    "multi_region_exposure_keys_df = multi_region_exposure_keys_df[[\n",
    "    \"sample_date_string\", \"source_url\", \"region\", \"key_data\"]]\n",
    "multi_region_exposure_keys_df.head()"
   ]
  },
  {
   "cell_type": "code",
   "execution_count": 14,
   "metadata": {
    "collapsed": false,
    "execution": {
     "iopub.execute_input": "2020-10-08T20:22:41.059965Z",
     "iopub.status.busy": "2020-10-08T20:22:41.059278Z",
     "iopub.status.idle": "2020-10-08T20:22:41.080479Z",
     "shell.execute_reply": "2020-10-08T20:22:41.081002Z"
    },
    "papermill": {
     "duration": 0.079159,
     "end_time": "2020-10-08T20:22:41.081191",
     "exception": false,
     "start_time": "2020-10-08T20:22:41.002032",
     "status": "completed"
    },
    "pycharm": {
     "name": "#%%\n"
    },
    "tags": []
   },
   "outputs": [
    {
     "data": {
      "text/plain": [
       "['ES']"
      ]
     },
     "execution_count": 14,
     "metadata": {},
     "output_type": "execute_result"
    }
   ],
   "source": [
    "active_regions = \\\n",
    "    multi_region_exposure_keys_df.groupby(\"region\").key_data.nunique().sort_values().index.unique().tolist()\n",
    "active_regions"
   ]
  },
  {
   "cell_type": "code",
   "execution_count": 15,
   "metadata": {
    "collapsed": false,
    "execution": {
     "iopub.execute_input": "2020-10-08T20:22:41.183098Z",
     "iopub.status.busy": "2020-10-08T20:22:41.180918Z",
     "iopub.status.idle": "2020-10-08T20:22:41.217237Z",
     "shell.execute_reply": "2020-10-08T20:22:41.217705Z"
    },
    "papermill": {
     "duration": 0.08973,
     "end_time": "2020-10-08T20:22:41.217894",
     "exception": false,
     "start_time": "2020-10-08T20:22:41.128164",
     "status": "completed"
    },
    "pycharm": {
     "name": "#%%\n"
    },
    "tags": []
   },
   "outputs": [
    {
     "data": {
      "text/html": [
       "<div>\n",
       "<style scoped>\n",
       "    .dataframe tbody tr th:only-of-type {\n",
       "        vertical-align: middle;\n",
       "    }\n",
       "\n",
       "    .dataframe tbody tr th {\n",
       "        vertical-align: top;\n",
       "    }\n",
       "\n",
       "    .dataframe thead tr th {\n",
       "        text-align: left;\n",
       "    }\n",
       "\n",
       "    .dataframe thead tr:last-of-type th {\n",
       "        text-align: right;\n",
       "    }\n",
       "</style>\n",
       "<table border=\"1\" class=\"dataframe\">\n",
       "  <thead>\n",
       "    <tr>\n",
       "      <th></th>\n",
       "      <th>shared_teks_by_generation_date</th>\n",
       "    </tr>\n",
       "    <tr>\n",
       "      <th>region</th>\n",
       "      <th>ES</th>\n",
       "    </tr>\n",
       "    <tr>\n",
       "      <th>sample_date_string</th>\n",
       "      <th></th>\n",
       "    </tr>\n",
       "  </thead>\n",
       "  <tbody>\n",
       "    <tr>\n",
       "      <th>2020-10-08</th>\n",
       "      <td>1</td>\n",
       "    </tr>\n",
       "    <tr>\n",
       "      <th>2020-10-07</th>\n",
       "      <td>85</td>\n",
       "    </tr>\n",
       "    <tr>\n",
       "      <th>2020-10-06</th>\n",
       "      <td>160</td>\n",
       "    </tr>\n",
       "    <tr>\n",
       "      <th>2020-10-05</th>\n",
       "      <td>185</td>\n",
       "    </tr>\n",
       "    <tr>\n",
       "      <th>2020-10-04</th>\n",
       "      <td>250</td>\n",
       "    </tr>\n",
       "  </tbody>\n",
       "</table>\n",
       "</div>"
      ],
      "text/plain": [
       "                   shared_teks_by_generation_date\n",
       "region                                         ES\n",
       "sample_date_string                               \n",
       "2020-10-08                                      1\n",
       "2020-10-07                                     85\n",
       "2020-10-06                                    160\n",
       "2020-10-05                                    185\n",
       "2020-10-04                                    250"
      ]
     },
     "execution_count": 15,
     "metadata": {},
     "output_type": "execute_result"
    }
   ],
   "source": [
    "multi_region_summary_df = multi_region_exposure_keys_df.groupby(\n",
    "    [\"sample_date_string\", \"region\"]).key_data.nunique().reset_index() \\\n",
    "    .pivot(index=\"sample_date_string\", columns=\"region\") \\\n",
    "    .sort_index(ascending=False)\n",
    "multi_region_summary_df.rename(columns={\"key_data\": \"shared_teks_by_generation_date\"}, inplace=True)\n",
    "multi_region_summary_df.head()"
   ]
  },
  {
   "cell_type": "code",
   "execution_count": 16,
   "metadata": {
    "collapsed": false,
    "execution": {
     "iopub.execute_input": "2020-10-08T20:22:41.320130Z",
     "iopub.status.busy": "2020-10-08T20:22:41.319514Z",
     "iopub.status.idle": "2020-10-08T20:22:41.322825Z",
     "shell.execute_reply": "2020-10-08T20:22:41.322297Z"
    },
    "papermill": {
     "duration": 0.058609,
     "end_time": "2020-10-08T20:22:41.322968",
     "exception": false,
     "start_time": "2020-10-08T20:22:41.264359",
     "status": "completed"
    },
    "pycharm": {
     "name": "#%%\n"
    },
    "tags": []
   },
   "outputs": [
    {
     "data": {
      "text/plain": [
       "[]"
      ]
     },
     "execution_count": 16,
     "metadata": {},
     "output_type": "execute_result"
    }
   ],
   "source": [
    "multi_region_without_spain_exposure_keys_df = \\\n",
    "    multi_region_exposure_keys_df[multi_region_exposure_keys_df.region != spain_region_country_code]\n",
    "active_regions_excluding_spain = \\\n",
    "    multi_region_without_spain_exposure_keys_df.groupby(\"region\").key_data.nunique().sort_values().index.unique().tolist()\n",
    "active_regions_excluding_spain"
   ]
  },
  {
   "cell_type": "code",
   "execution_count": 17,
   "metadata": {
    "execution": {
     "iopub.execute_input": "2020-10-08T20:22:41.424631Z",
     "iopub.status.busy": "2020-10-08T20:22:41.423981Z",
     "iopub.status.idle": "2020-10-08T20:22:41.453088Z",
     "shell.execute_reply": "2020-10-08T20:22:41.452580Z"
    },
    "papermill": {
     "duration": 0.082418,
     "end_time": "2020-10-08T20:22:41.453238",
     "exception": false,
     "start_time": "2020-10-08T20:22:41.370820",
     "status": "completed"
    },
    "scrolled": false,
    "tags": []
   },
   "outputs": [
    {
     "data": {
      "text/html": [
       "<div>\n",
       "<style scoped>\n",
       "    .dataframe tbody tr th:only-of-type {\n",
       "        vertical-align: middle;\n",
       "    }\n",
       "\n",
       "    .dataframe tbody tr th {\n",
       "        vertical-align: top;\n",
       "    }\n",
       "\n",
       "    .dataframe thead th {\n",
       "        text-align: right;\n",
       "    }\n",
       "</style>\n",
       "<table border=\"1\" class=\"dataframe\">\n",
       "  <thead>\n",
       "    <tr style=\"text-align: right;\">\n",
       "      <th></th>\n",
       "      <th>shared_teks_by_generation_date</th>\n",
       "    </tr>\n",
       "    <tr>\n",
       "      <th>sample_date_string</th>\n",
       "      <th></th>\n",
       "    </tr>\n",
       "  </thead>\n",
       "  <tbody>\n",
       "    <tr>\n",
       "      <th>2020-10-08</th>\n",
       "      <td>1</td>\n",
       "    </tr>\n",
       "    <tr>\n",
       "      <th>2020-10-07</th>\n",
       "      <td>85</td>\n",
       "    </tr>\n",
       "    <tr>\n",
       "      <th>2020-10-06</th>\n",
       "      <td>160</td>\n",
       "    </tr>\n",
       "    <tr>\n",
       "      <th>2020-10-05</th>\n",
       "      <td>185</td>\n",
       "    </tr>\n",
       "    <tr>\n",
       "      <th>2020-10-04</th>\n",
       "      <td>250</td>\n",
       "    </tr>\n",
       "  </tbody>\n",
       "</table>\n",
       "</div>"
      ],
      "text/plain": [
       "                    shared_teks_by_generation_date\n",
       "sample_date_string                                \n",
       "2020-10-08                                       1\n",
       "2020-10-07                                      85\n",
       "2020-10-06                                     160\n",
       "2020-10-05                                     185\n",
       "2020-10-04                                     250"
      ]
     },
     "execution_count": 17,
     "metadata": {},
     "output_type": "execute_result"
    }
   ],
   "source": [
    "exposure_keys_summary_df = multi_region_exposure_keys_df[\n",
    "    multi_region_exposure_keys_df.region == spain_region_country_code]\n",
    "exposure_keys_summary_df.drop(columns=[\"region\"], inplace=True)\n",
    "exposure_keys_summary_df = \\\n",
    "    exposure_keys_summary_df.groupby([\"sample_date_string\"]).key_data.nunique().to_frame()\n",
    "exposure_keys_summary_df = \\\n",
    "    exposure_keys_summary_df.reset_index().set_index(\"sample_date_string\")\n",
    "exposure_keys_summary_df.sort_index(ascending=False, inplace=True)\n",
    "exposure_keys_summary_df.rename(columns={\"key_data\": \"shared_teks_by_generation_date\"}, inplace=True)\n",
    "exposure_keys_summary_df.head()"
   ]
  },
  {
   "cell_type": "markdown",
   "metadata": {
    "papermill": {
     "duration": 0.05123,
     "end_time": "2020-10-08T20:22:41.553135",
     "exception": false,
     "start_time": "2020-10-08T20:22:41.501905",
     "status": "completed"
    },
    "tags": []
   },
   "source": [
    "### Dump API TEKs"
   ]
  },
  {
   "cell_type": "code",
   "execution_count": 18,
   "metadata": {
    "execution": {
     "iopub.execute_input": "2020-10-08T20:22:41.656403Z",
     "iopub.status.busy": "2020-10-08T20:22:41.655759Z",
     "iopub.status.idle": "2020-10-08T20:22:41.701653Z",
     "shell.execute_reply": "2020-10-08T20:22:41.704215Z"
    },
    "papermill": {
     "duration": 0.104457,
     "end_time": "2020-10-08T20:22:41.704407",
     "exception": false,
     "start_time": "2020-10-08T20:22:41.599950",
     "status": "completed"
    },
    "tags": []
   },
   "outputs": [
    {
     "data": {
      "text/html": [
       "<div>\n",
       "<style scoped>\n",
       "    .dataframe tbody tr th:only-of-type {\n",
       "        vertical-align: middle;\n",
       "    }\n",
       "\n",
       "    .dataframe tbody tr th {\n",
       "        vertical-align: top;\n",
       "    }\n",
       "\n",
       "    .dataframe thead th {\n",
       "        text-align: right;\n",
       "    }\n",
       "</style>\n",
       "<table border=\"1\" class=\"dataframe\">\n",
       "  <thead>\n",
       "    <tr style=\"text-align: right;\">\n",
       "      <th></th>\n",
       "      <th>sample_date</th>\n",
       "      <th>region</th>\n",
       "      <th>tek_list</th>\n",
       "      <th>extraction_date</th>\n",
       "      <th>extraction_date_with_hour</th>\n",
       "    </tr>\n",
       "  </thead>\n",
       "  <tbody>\n",
       "    <tr>\n",
       "      <th>0</th>\n",
       "      <td>2020-09-25</td>\n",
       "      <td>ES</td>\n",
       "      <td>[53583e42-2a3b-bbb1-0feb-6409a5b63cf7, e0de6a3...</td>\n",
       "      <td>2020-10-08</td>\n",
       "      <td>2020-10-08@20</td>\n",
       "    </tr>\n",
       "    <tr>\n",
       "      <th>1</th>\n",
       "      <td>2020-09-26</td>\n",
       "      <td>ES</td>\n",
       "      <td>[9e73cc2e-b076-7329-4d5d-3195010421c0, 005336e...</td>\n",
       "      <td>2020-10-08</td>\n",
       "      <td>2020-10-08@20</td>\n",
       "    </tr>\n",
       "    <tr>\n",
       "      <th>2</th>\n",
       "      <td>2020-09-27</td>\n",
       "      <td>ES</td>\n",
       "      <td>[4f27e083-816b-fc0f-bc8c-ac5f952df0ae, e258ba7...</td>\n",
       "      <td>2020-10-08</td>\n",
       "      <td>2020-10-08@20</td>\n",
       "    </tr>\n",
       "    <tr>\n",
       "      <th>3</th>\n",
       "      <td>2020-09-28</td>\n",
       "      <td>ES</td>\n",
       "      <td>[ab8bea9b-1297-dfd8-e8c9-6fb1d3f8f0a3, a399110...</td>\n",
       "      <td>2020-10-08</td>\n",
       "      <td>2020-10-08@20</td>\n",
       "    </tr>\n",
       "    <tr>\n",
       "      <th>4</th>\n",
       "      <td>2020-09-29</td>\n",
       "      <td>ES</td>\n",
       "      <td>[8fd5c4a6-155d-d21f-e8ae-9e7821d04186, 170af8e...</td>\n",
       "      <td>2020-10-08</td>\n",
       "      <td>2020-10-08@20</td>\n",
       "    </tr>\n",
       "  </tbody>\n",
       "</table>\n",
       "</div>"
      ],
      "text/plain": [
       "  sample_date region                                           tek_list  \\\n",
       "0  2020-09-25     ES  [53583e42-2a3b-bbb1-0feb-6409a5b63cf7, e0de6a3...   \n",
       "1  2020-09-26     ES  [9e73cc2e-b076-7329-4d5d-3195010421c0, 005336e...   \n",
       "2  2020-09-27     ES  [4f27e083-816b-fc0f-bc8c-ac5f952df0ae, e258ba7...   \n",
       "3  2020-09-28     ES  [ab8bea9b-1297-dfd8-e8c9-6fb1d3f8f0a3, a399110...   \n",
       "4  2020-09-29     ES  [8fd5c4a6-155d-d21f-e8ae-9e7821d04186, 170af8e...   \n",
       "\n",
       "  extraction_date extraction_date_with_hour  \n",
       "0      2020-10-08             2020-10-08@20  \n",
       "1      2020-10-08             2020-10-08@20  \n",
       "2      2020-10-08             2020-10-08@20  \n",
       "3      2020-10-08             2020-10-08@20  \n",
       "4      2020-10-08             2020-10-08@20  "
      ]
     },
     "execution_count": 18,
     "metadata": {},
     "output_type": "execute_result"
    }
   ],
   "source": [
    "tek_list_df = multi_region_exposure_keys_df[\n",
    "    [\"sample_date_string\", \"region\", \"key_data\"]].copy()\n",
    "tek_list_df[\"key_data\"] = tek_list_df[\"key_data\"].apply(str)\n",
    "tek_list_df.rename(columns={\n",
    "    \"sample_date_string\": \"sample_date\",\n",
    "    \"key_data\": \"tek_list\"}, inplace=True)\n",
    "tek_list_df = tek_list_df.groupby(\n",
    "    [\"sample_date\", \"region\"]).tek_list.unique().reset_index()\n",
    "tek_list_df[\"extraction_date\"] = extraction_date\n",
    "tek_list_df[\"extraction_date_with_hour\"] = extraction_date_with_hour\n",
    "tek_list_df.drop(columns=[\"extraction_date\", \"extraction_date_with_hour\"]).to_json(\n",
    "    \"Data/TEKs/Current/RadarCOVID-TEKs.json\",\n",
    "    lines=True, orient=\"records\")\n",
    "tek_list_df.drop(columns=[\"extraction_date_with_hour\"]).to_json(\n",
    "    \"Data/TEKs/Daily/RadarCOVID-TEKs-\" + extraction_date + \".json\",\n",
    "    lines=True, orient=\"records\")\n",
    "tek_list_df.to_json(\n",
    "    \"Data/TEKs/Hourly/RadarCOVID-TEKs-\" + extraction_date_with_hour + \".json\",\n",
    "    lines=True, orient=\"records\")\n",
    "tek_list_df.head()"
   ]
  },
  {
   "cell_type": "markdown",
   "metadata": {
    "papermill": {
     "duration": 0.047285,
     "end_time": "2020-10-08T20:22:41.801385",
     "exception": false,
     "start_time": "2020-10-08T20:22:41.754100",
     "status": "completed"
    },
    "tags": []
   },
   "source": [
    "### Load TEK Dumps"
   ]
  },
  {
   "cell_type": "code",
   "execution_count": 19,
   "metadata": {
    "execution": {
     "iopub.execute_input": "2020-10-08T20:22:41.906459Z",
     "iopub.status.busy": "2020-10-08T20:22:41.905831Z",
     "iopub.status.idle": "2020-10-08T20:22:41.908257Z",
     "shell.execute_reply": "2020-10-08T20:22:41.907721Z"
    },
    "papermill": {
     "duration": 0.057248,
     "end_time": "2020-10-08T20:22:41.908405",
     "exception": false,
     "start_time": "2020-10-08T20:22:41.851157",
     "status": "completed"
    },
    "tags": []
   },
   "outputs": [],
   "source": [
    "import glob\n",
    "\n",
    "def load_extracted_teks(mode, region=None, limit=None) -> pd.DataFrame:\n",
    "    extracted_teks_df = pd.DataFrame(columns=[\"region\"])\n",
    "    paths = list(reversed(sorted(glob.glob(f\"Data/TEKs/{mode}/RadarCOVID-TEKs-*.json\"))))\n",
    "    if limit:\n",
    "        paths = paths[:limit]\n",
    "    for path in paths:\n",
    "        logging.info(f\"Loading TEKs from '{path}'...\")\n",
    "        iteration_extracted_teks_df = pd.read_json(path, lines=True)\n",
    "        extracted_teks_df = extracted_teks_df.append(\n",
    "            iteration_extracted_teks_df, sort=False)\n",
    "    extracted_teks_df[\"region\"] = \\\n",
    "        extracted_teks_df.region.fillna(spain_region_country_code).copy()\n",
    "    if region:\n",
    "        extracted_teks_df = \\\n",
    "            extracted_teks_df[extracted_teks_df.region == region]\n",
    "    return extracted_teks_df"
   ]
  },
  {
   "cell_type": "code",
   "execution_count": 20,
   "metadata": {
    "collapsed": false,
    "execution": {
     "iopub.execute_input": "2020-10-08T20:22:42.012910Z",
     "iopub.status.busy": "2020-10-08T20:22:42.012299Z",
     "iopub.status.idle": "2020-10-08T20:22:42.167804Z",
     "shell.execute_reply": "2020-10-08T20:22:42.167210Z"
    },
    "papermill": {
     "duration": 0.212558,
     "end_time": "2020-10-08T20:22:42.167968",
     "exception": false,
     "start_time": "2020-10-08T20:22:41.955410",
     "status": "completed"
    },
    "pycharm": {
     "name": "#%%\n"
    },
    "tags": []
   },
   "outputs": [
    {
     "data": {
      "text/html": [
       "<div>\n",
       "<style scoped>\n",
       "    .dataframe tbody tr th:only-of-type {\n",
       "        vertical-align: middle;\n",
       "    }\n",
       "\n",
       "    .dataframe tbody tr th {\n",
       "        vertical-align: top;\n",
       "    }\n",
       "\n",
       "    .dataframe thead th {\n",
       "        text-align: right;\n",
       "    }\n",
       "</style>\n",
       "<table border=\"1\" class=\"dataframe\">\n",
       "  <thead>\n",
       "    <tr style=\"text-align: right;\">\n",
       "      <th></th>\n",
       "      <th>region</th>\n",
       "      <th>sample_date</th>\n",
       "      <th>tek_list</th>\n",
       "      <th>extraction_date</th>\n",
       "    </tr>\n",
       "  </thead>\n",
       "  <tbody>\n",
       "    <tr>\n",
       "      <th>0</th>\n",
       "      <td>ES</td>\n",
       "      <td>2020-09-25</td>\n",
       "      <td>[53583e42-2a3b-bbb1-0feb-6409a5b63cf7, e0de6a3...</td>\n",
       "      <td>2020-10-08</td>\n",
       "    </tr>\n",
       "    <tr>\n",
       "      <th>1</th>\n",
       "      <td>ES</td>\n",
       "      <td>2020-09-26</td>\n",
       "      <td>[9e73cc2e-b076-7329-4d5d-3195010421c0, 005336e...</td>\n",
       "      <td>2020-10-08</td>\n",
       "    </tr>\n",
       "    <tr>\n",
       "      <th>2</th>\n",
       "      <td>ES</td>\n",
       "      <td>2020-09-27</td>\n",
       "      <td>[4f27e083-816b-fc0f-bc8c-ac5f952df0ae, e258ba7...</td>\n",
       "      <td>2020-10-08</td>\n",
       "    </tr>\n",
       "    <tr>\n",
       "      <th>3</th>\n",
       "      <td>ES</td>\n",
       "      <td>2020-09-28</td>\n",
       "      <td>[ab8bea9b-1297-dfd8-e8c9-6fb1d3f8f0a3, a399110...</td>\n",
       "      <td>2020-10-08</td>\n",
       "    </tr>\n",
       "    <tr>\n",
       "      <th>4</th>\n",
       "      <td>ES</td>\n",
       "      <td>2020-09-29</td>\n",
       "      <td>[8fd5c4a6-155d-d21f-e8ae-9e7821d04186, 170af8e...</td>\n",
       "      <td>2020-10-08</td>\n",
       "    </tr>\n",
       "  </tbody>\n",
       "</table>\n",
       "</div>"
      ],
      "text/plain": [
       "  region sample_date                                           tek_list  \\\n",
       "0     ES  2020-09-25  [53583e42-2a3b-bbb1-0feb-6409a5b63cf7, e0de6a3...   \n",
       "1     ES  2020-09-26  [9e73cc2e-b076-7329-4d5d-3195010421c0, 005336e...   \n",
       "2     ES  2020-09-27  [4f27e083-816b-fc0f-bc8c-ac5f952df0ae, e258ba7...   \n",
       "3     ES  2020-09-28  [ab8bea9b-1297-dfd8-e8c9-6fb1d3f8f0a3, a399110...   \n",
       "4     ES  2020-09-29  [8fd5c4a6-155d-d21f-e8ae-9e7821d04186, 170af8e...   \n",
       "\n",
       "  extraction_date  \n",
       "0      2020-10-08  \n",
       "1      2020-10-08  \n",
       "2      2020-10-08  \n",
       "3      2020-10-08  \n",
       "4      2020-10-08  "
      ]
     },
     "execution_count": 20,
     "metadata": {},
     "output_type": "execute_result"
    }
   ],
   "source": [
    "daily_extracted_teks_df = load_extracted_teks(\n",
    "    mode=\"Daily\",\n",
    "    region=spain_region_country_code,\n",
    "    limit=tek_dumps_load_limit)\n",
    "daily_extracted_teks_df.head()"
   ]
  },
  {
   "cell_type": "code",
   "execution_count": 21,
   "metadata": {
    "collapsed": false,
    "execution": {
     "iopub.execute_input": "2020-10-08T20:22:42.290355Z",
     "iopub.status.busy": "2020-10-08T20:22:42.289715Z",
     "iopub.status.idle": "2020-10-08T20:22:42.311505Z",
     "shell.execute_reply": "2020-10-08T20:22:42.312141Z"
    },
    "papermill": {
     "duration": 0.090968,
     "end_time": "2020-10-08T20:22:42.312341",
     "exception": false,
     "start_time": "2020-10-08T20:22:42.221373",
     "status": "completed"
    },
    "pycharm": {
     "name": "#%%\n"
    },
    "tags": []
   },
   "outputs": [
    {
     "data": {
      "text/html": [
       "<div>\n",
       "<style scoped>\n",
       "    .dataframe tbody tr th:only-of-type {\n",
       "        vertical-align: middle;\n",
       "    }\n",
       "\n",
       "    .dataframe tbody tr th {\n",
       "        vertical-align: top;\n",
       "    }\n",
       "\n",
       "    .dataframe thead th {\n",
       "        text-align: right;\n",
       "    }\n",
       "</style>\n",
       "<table border=\"1\" class=\"dataframe\">\n",
       "  <thead>\n",
       "    <tr style=\"text-align: right;\">\n",
       "      <th></th>\n",
       "      <th>shared_teks_by_generation_date</th>\n",
       "    </tr>\n",
       "    <tr>\n",
       "      <th>sample_date_string</th>\n",
       "      <th></th>\n",
       "    </tr>\n",
       "  </thead>\n",
       "  <tbody>\n",
       "    <tr>\n",
       "      <th>2020-10-08</th>\n",
       "      <td>1</td>\n",
       "    </tr>\n",
       "    <tr>\n",
       "      <th>2020-10-07</th>\n",
       "      <td>85</td>\n",
       "    </tr>\n",
       "    <tr>\n",
       "      <th>2020-10-06</th>\n",
       "      <td>160</td>\n",
       "    </tr>\n",
       "    <tr>\n",
       "      <th>2020-10-05</th>\n",
       "      <td>185</td>\n",
       "    </tr>\n",
       "    <tr>\n",
       "      <th>2020-10-04</th>\n",
       "      <td>250</td>\n",
       "    </tr>\n",
       "  </tbody>\n",
       "</table>\n",
       "</div>"
      ],
      "text/plain": [
       "                    shared_teks_by_generation_date\n",
       "sample_date_string                                \n",
       "2020-10-08                                       1\n",
       "2020-10-07                                      85\n",
       "2020-10-06                                     160\n",
       "2020-10-05                                     185\n",
       "2020-10-04                                     250"
      ]
     },
     "execution_count": 21,
     "metadata": {},
     "output_type": "execute_result"
    }
   ],
   "source": [
    "exposure_keys_summary_df_ = daily_extracted_teks_df \\\n",
    "    .sort_values(\"extraction_date\", ascending=False) \\\n",
    "    .groupby(\"sample_date\").tek_list.first() \\\n",
    "    .to_frame()\n",
    "exposure_keys_summary_df_.index.name = \"sample_date_string\"\n",
    "exposure_keys_summary_df_[\"tek_list\"] = \\\n",
    "    exposure_keys_summary_df_.tek_list.apply(len)\n",
    "exposure_keys_summary_df_ = exposure_keys_summary_df_ \\\n",
    "    .rename(columns={\"tek_list\": \"shared_teks_by_generation_date\"}) \\\n",
    "    .sort_index(ascending=False)\n",
    "exposure_keys_summary_df = exposure_keys_summary_df_\n",
    "exposure_keys_summary_df.head()"
   ]
  },
  {
   "cell_type": "markdown",
   "metadata": {
    "execution": {
     "iopub.execute_input": "2020-08-30T22:30:16.632967Z",
     "iopub.status.busy": "2020-08-30T22:30:16.632308Z",
     "iopub.status.idle": "2020-08-30T22:30:16.634945Z",
     "shell.execute_reply": "2020-08-30T22:30:16.635575Z"
    },
    "papermill": {
     "duration": 0.049722,
     "end_time": "2020-10-08T20:22:42.416845",
     "exception": false,
     "start_time": "2020-10-08T20:22:42.367123",
     "status": "completed"
    },
    "pycharm": {
     "name": "#%% md\n"
    },
    "tags": []
   },
   "source": [
    "### Daily New TEKs"
   ]
  },
  {
   "cell_type": "code",
   "execution_count": 22,
   "metadata": {
    "execution": {
     "iopub.execute_input": "2020-10-08T20:22:42.518747Z",
     "iopub.status.busy": "2020-10-08T20:22:42.518142Z",
     "iopub.status.idle": "2020-10-08T20:22:42.543805Z",
     "shell.execute_reply": "2020-10-08T20:22:42.544311Z"
    },
    "papermill": {
     "duration": 0.079456,
     "end_time": "2020-10-08T20:22:42.544496",
     "exception": false,
     "start_time": "2020-10-08T20:22:42.465040",
     "status": "completed"
    },
    "tags": []
   },
   "outputs": [
    {
     "data": {
      "text/html": [
       "<div>\n",
       "<style scoped>\n",
       "    .dataframe tbody tr th:only-of-type {\n",
       "        vertical-align: middle;\n",
       "    }\n",
       "\n",
       "    .dataframe tbody tr th {\n",
       "        vertical-align: top;\n",
       "    }\n",
       "\n",
       "    .dataframe thead th {\n",
       "        text-align: right;\n",
       "    }\n",
       "</style>\n",
       "<table border=\"1\" class=\"dataframe\">\n",
       "  <thead>\n",
       "    <tr style=\"text-align: right;\">\n",
       "      <th></th>\n",
       "      <th>tek_list</th>\n",
       "    </tr>\n",
       "    <tr>\n",
       "      <th>extraction_date</th>\n",
       "      <th></th>\n",
       "    </tr>\n",
       "  </thead>\n",
       "  <tbody>\n",
       "    <tr>\n",
       "      <th>2020-09-17</th>\n",
       "      <td>{e457d825-bfab-85c2-2f23-8a873e8d10e3, 1adacc4...</td>\n",
       "    </tr>\n",
       "    <tr>\n",
       "      <th>2020-09-18</th>\n",
       "      <td>{e457d825-bfab-85c2-2f23-8a873e8d10e3, 1adacc4...</td>\n",
       "    </tr>\n",
       "    <tr>\n",
       "      <th>2020-09-19</th>\n",
       "      <td>{e457d825-bfab-85c2-2f23-8a873e8d10e3, 1adacc4...</td>\n",
       "    </tr>\n",
       "    <tr>\n",
       "      <th>2020-09-20</th>\n",
       "      <td>{e457d825-bfab-85c2-2f23-8a873e8d10e3, 1adacc4...</td>\n",
       "    </tr>\n",
       "    <tr>\n",
       "      <th>2020-09-21</th>\n",
       "      <td>{e457d825-bfab-85c2-2f23-8a873e8d10e3, 1adacc4...</td>\n",
       "    </tr>\n",
       "  </tbody>\n",
       "</table>\n",
       "</div>"
      ],
      "text/plain": [
       "                                                          tek_list\n",
       "extraction_date                                                   \n",
       "2020-09-17       {e457d825-bfab-85c2-2f23-8a873e8d10e3, 1adacc4...\n",
       "2020-09-18       {e457d825-bfab-85c2-2f23-8a873e8d10e3, 1adacc4...\n",
       "2020-09-19       {e457d825-bfab-85c2-2f23-8a873e8d10e3, 1adacc4...\n",
       "2020-09-20       {e457d825-bfab-85c2-2f23-8a873e8d10e3, 1adacc4...\n",
       "2020-09-21       {e457d825-bfab-85c2-2f23-8a873e8d10e3, 1adacc4..."
      ]
     },
     "execution_count": 22,
     "metadata": {},
     "output_type": "execute_result"
    }
   ],
   "source": [
    "tek_list_df = daily_extracted_teks_df.groupby(\"extraction_date\").tek_list.apply(\n",
    "    lambda x: set(sum(x, []))).reset_index()\n",
    "tek_list_df = tek_list_df.set_index(\"extraction_date\").sort_index(ascending=True)\n",
    "tek_list_df.head()"
   ]
  },
  {
   "cell_type": "code",
   "execution_count": 23,
   "metadata": {
    "collapsed": false,
    "execution": {
     "iopub.execute_input": "2020-10-08T20:22:42.665349Z",
     "iopub.status.busy": "2020-10-08T20:22:42.664657Z",
     "iopub.status.idle": "2020-10-08T20:22:42.677797Z",
     "shell.execute_reply": "2020-10-08T20:22:42.678289Z"
    },
    "papermill": {
     "duration": 0.084682,
     "end_time": "2020-10-08T20:22:42.678476",
     "exception": false,
     "start_time": "2020-10-08T20:22:42.593794",
     "status": "completed"
    },
    "pycharm": {
     "name": "#%%\n"
    },
    "tags": []
   },
   "outputs": [
    {
     "name": "stderr",
     "output_type": "stream",
     "text": [
      "<ipython-input-23-4d18d86f3c3b>:3: FutureWarning: `item` has been deprecated and will be removed in a future version\n",
      "  today_new_teks_set = today_new_teks_set_df[\n"
     ]
    },
    {
     "data": {
      "text/html": [
       "<div>\n",
       "<style scoped>\n",
       "    .dataframe tbody tr th:only-of-type {\n",
       "        vertical-align: middle;\n",
       "    }\n",
       "\n",
       "    .dataframe tbody tr th {\n",
       "        vertical-align: top;\n",
       "    }\n",
       "\n",
       "    .dataframe thead th {\n",
       "        text-align: right;\n",
       "    }\n",
       "</style>\n",
       "<table border=\"1\" class=\"dataframe\">\n",
       "  <thead>\n",
       "    <tr style=\"text-align: right;\">\n",
       "      <th></th>\n",
       "      <th>today_teks_by_generation_date</th>\n",
       "    </tr>\n",
       "    <tr>\n",
       "      <th>sample_date</th>\n",
       "      <th></th>\n",
       "    </tr>\n",
       "  </thead>\n",
       "  <tbody>\n",
       "    <tr>\n",
       "      <th>2020-10-04</th>\n",
       "      <td>42</td>\n",
       "    </tr>\n",
       "    <tr>\n",
       "      <th>2020-10-05</th>\n",
       "      <td>44</td>\n",
       "    </tr>\n",
       "    <tr>\n",
       "      <th>2020-10-06</th>\n",
       "      <td>46</td>\n",
       "    </tr>\n",
       "    <tr>\n",
       "      <th>2020-10-07</th>\n",
       "      <td>85</td>\n",
       "    </tr>\n",
       "    <tr>\n",
       "      <th>2020-10-08</th>\n",
       "      <td>1</td>\n",
       "    </tr>\n",
       "  </tbody>\n",
       "</table>\n",
       "</div>"
      ],
      "text/plain": [
       "             today_teks_by_generation_date\n",
       "sample_date                               \n",
       "2020-10-04                              42\n",
       "2020-10-05                              44\n",
       "2020-10-06                              46\n",
       "2020-10-07                              85\n",
       "2020-10-08                               1"
      ]
     },
     "execution_count": 23,
     "metadata": {},
     "output_type": "execute_result"
    }
   ],
   "source": [
    "today_new_teks_set_df = tek_list_df.diff()\n",
    "try:\n",
    "    today_new_teks_set = today_new_teks_set_df[\n",
    "        today_new_teks_set_df.index == extraction_date].tek_list.item()\n",
    "except ValueError:\n",
    "    today_new_teks_set = set()\n",
    "today_new_teks_df = daily_extracted_teks_df[\n",
    "    daily_extracted_teks_df.extraction_date == extraction_date].copy()\n",
    "today_new_teks_df[\"today_teks\"] = \\\n",
    "    today_new_teks_df.tek_list.apply(lambda x: set(x).intersection(today_new_teks_set))\n",
    "today_new_teks_df[\"today_teks_by_generation_date\"] = \\\n",
    "    today_new_teks_df.today_teks.apply(len)\n",
    "today_new_teks_df = today_new_teks_df[[\"sample_date\", \"today_teks_by_generation_date\"]]\n",
    "today_new_teks_df.set_index(\"sample_date\", inplace=True)\n",
    "today_new_teks_df.tail()"
   ]
  },
  {
   "cell_type": "code",
   "execution_count": 24,
   "metadata": {
    "collapsed": false,
    "execution": {
     "iopub.execute_input": "2020-10-08T20:22:42.799331Z",
     "iopub.status.busy": "2020-10-08T20:22:42.798722Z",
     "iopub.status.idle": "2020-10-08T20:22:43.069447Z",
     "shell.execute_reply": "2020-10-08T20:22:43.069977Z"
    },
    "papermill": {
     "duration": 0.337915,
     "end_time": "2020-10-08T20:22:43.070159",
     "exception": false,
     "start_time": "2020-10-08T20:22:42.732244",
     "status": "completed"
    },
    "pycharm": {
     "name": "#%%\n"
    },
    "tags": []
   },
   "outputs": [
    {
     "data": {
      "text/plain": [
       "<matplotlib.axes._subplots.AxesSubplot at 0x7fe3bf696a90>"
      ]
     },
     "execution_count": 24,
     "metadata": {},
     "output_type": "execute_result"
    },
    {
     "data": {
      "image/png": "[encoded data removed]",
      "text/plain": [
       "<Figure size 1080x432 with 1 Axes>"
      ]
     },
     "metadata": {},
     "output_type": "display_data"
    }
   ],
   "source": [
    "today_new_teks_df.plot.bar()"
   ]
  },
  {
   "cell_type": "code",
   "execution_count": 25,
   "metadata": {
    "execution": {
     "iopub.execute_input": "2020-10-08T20:22:43.191167Z",
     "iopub.status.busy": "2020-10-08T20:22:43.190471Z",
     "iopub.status.idle": "2020-10-08T20:22:43.193889Z",
     "shell.execute_reply": "2020-10-08T20:22:43.194460Z"
    },
    "papermill": {
     "duration": 0.073805,
     "end_time": "2020-10-08T20:22:43.194653",
     "exception": false,
     "start_time": "2020-10-08T20:22:43.120848",
     "status": "completed"
    },
    "tags": []
   },
   "outputs": [
    {
     "data": {
      "text/html": [
       "<div>\n",
       "<style scoped>\n",
       "    .dataframe tbody tr th:only-of-type {\n",
       "        vertical-align: middle;\n",
       "    }\n",
       "\n",
       "    .dataframe tbody tr th {\n",
       "        vertical-align: top;\n",
       "    }\n",
       "\n",
       "    .dataframe thead th {\n",
       "        text-align: right;\n",
       "    }\n",
       "</style>\n",
       "<table border=\"1\" class=\"dataframe\">\n",
       "  <thead>\n",
       "    <tr style=\"text-align: right;\">\n",
       "      <th></th>\n",
       "      <th>sample_date_string</th>\n",
       "      <th>shared_teks_by_upload_date</th>\n",
       "    </tr>\n",
       "  </thead>\n",
       "  <tbody>\n",
       "    <tr>\n",
       "      <th>17</th>\n",
       "      <td>2020-10-04</td>\n",
       "      <td>331.0</td>\n",
       "    </tr>\n",
       "    <tr>\n",
       "      <th>18</th>\n",
       "      <td>2020-10-05</td>\n",
       "      <td>273.0</td>\n",
       "    </tr>\n",
       "    <tr>\n",
       "      <th>19</th>\n",
       "      <td>2020-10-06</td>\n",
       "      <td>233.0</td>\n",
       "    </tr>\n",
       "    <tr>\n",
       "      <th>20</th>\n",
       "      <td>2020-10-07</td>\n",
       "      <td>178.0</td>\n",
       "    </tr>\n",
       "    <tr>\n",
       "      <th>21</th>\n",
       "      <td>2020-10-08</td>\n",
       "      <td>267.0</td>\n",
       "    </tr>\n",
       "  </tbody>\n",
       "</table>\n",
       "</div>"
      ],
      "text/plain": [
       "   sample_date_string  shared_teks_by_upload_date\n",
       "17         2020-10-04                       331.0\n",
       "18         2020-10-05                       273.0\n",
       "19         2020-10-06                       233.0\n",
       "20         2020-10-07                       178.0\n",
       "21         2020-10-08                       267.0"
      ]
     },
     "execution_count": 25,
     "metadata": {},
     "output_type": "execute_result"
    }
   ],
   "source": [
    "new_tek_df = tek_list_df.diff().tek_list.apply(\n",
    "    lambda x: len(x) if not pd.isna(x) else None).to_frame().reset_index()\n",
    "new_tek_df.rename(columns={\n",
    "    \"tek_list\": \"shared_teks_by_upload_date\",\n",
    "    \"extraction_date\": \"sample_date_string\",}, inplace=True)\n",
    "new_tek_df.tail()"
   ]
  },
  {
   "cell_type": "code",
   "execution_count": 26,
   "metadata": {
    "execution": {
     "iopub.execute_input": "2020-10-08T20:22:43.338708Z",
     "iopub.status.busy": "2020-10-08T20:22:43.323809Z",
     "iopub.status.idle": "2020-10-08T20:22:43.342723Z",
     "shell.execute_reply": "2020-10-08T20:22:43.343368Z"
    },
    "papermill": {
     "duration": 0.089311,
     "end_time": "2020-10-08T20:22:43.343605",
     "exception": false,
     "start_time": "2020-10-08T20:22:43.254294",
     "status": "completed"
    },
    "pycharm": {
     "name": "#%%\n"
    },
    "tags": []
   },
   "outputs": [
    {
     "data": {
      "text/html": [
       "<div>\n",
       "<style scoped>\n",
       "    .dataframe tbody tr th:only-of-type {\n",
       "        vertical-align: middle;\n",
       "    }\n",
       "\n",
       "    .dataframe tbody tr th {\n",
       "        vertical-align: top;\n",
       "    }\n",
       "\n",
       "    .dataframe thead th {\n",
       "        text-align: right;\n",
       "    }\n",
       "</style>\n",
       "<table border=\"1\" class=\"dataframe\">\n",
       "  <thead>\n",
       "    <tr style=\"text-align: right;\">\n",
       "      <th></th>\n",
       "      <th>region</th>\n",
       "      <th>sample_date</th>\n",
       "      <th>tek_list</th>\n",
       "      <th>extraction_date</th>\n",
       "      <th>new_sample_extraction_date</th>\n",
       "    </tr>\n",
       "  </thead>\n",
       "  <tbody>\n",
       "    <tr>\n",
       "      <th>0</th>\n",
       "      <td>ES</td>\n",
       "      <td>2020-09-25</td>\n",
       "      <td>[53583e42-2a3b-bbb1-0feb-6409a5b63cf7, e0de6a3...</td>\n",
       "      <td>2020-10-08</td>\n",
       "      <td>2020-09-26</td>\n",
       "    </tr>\n",
       "    <tr>\n",
       "      <th>1</th>\n",
       "      <td>ES</td>\n",
       "      <td>2020-09-26</td>\n",
       "      <td>[9e73cc2e-b076-7329-4d5d-3195010421c0, 005336e...</td>\n",
       "      <td>2020-10-08</td>\n",
       "      <td>2020-09-27</td>\n",
       "    </tr>\n",
       "    <tr>\n",
       "      <th>2</th>\n",
       "      <td>ES</td>\n",
       "      <td>2020-09-27</td>\n",
       "      <td>[4f27e083-816b-fc0f-bc8c-ac5f952df0ae, e258ba7...</td>\n",
       "      <td>2020-10-08</td>\n",
       "      <td>2020-09-28</td>\n",
       "    </tr>\n",
       "    <tr>\n",
       "      <th>3</th>\n",
       "      <td>ES</td>\n",
       "      <td>2020-09-28</td>\n",
       "      <td>[ab8bea9b-1297-dfd8-e8c9-6fb1d3f8f0a3, a399110...</td>\n",
       "      <td>2020-10-08</td>\n",
       "      <td>2020-09-29</td>\n",
       "    </tr>\n",
       "    <tr>\n",
       "      <th>4</th>\n",
       "      <td>ES</td>\n",
       "      <td>2020-09-29</td>\n",
       "      <td>[8fd5c4a6-155d-d21f-e8ae-9e7821d04186, 170af8e...</td>\n",
       "      <td>2020-10-08</td>\n",
       "      <td>2020-09-30</td>\n",
       "    </tr>\n",
       "  </tbody>\n",
       "</table>\n",
       "</div>"
      ],
      "text/plain": [
       "  region sample_date                                           tek_list  \\\n",
       "0     ES  2020-09-25  [53583e42-2a3b-bbb1-0feb-6409a5b63cf7, e0de6a3...   \n",
       "1     ES  2020-09-26  [9e73cc2e-b076-7329-4d5d-3195010421c0, 005336e...   \n",
       "2     ES  2020-09-27  [4f27e083-816b-fc0f-bc8c-ac5f952df0ae, e258ba7...   \n",
       "3     ES  2020-09-28  [ab8bea9b-1297-dfd8-e8c9-6fb1d3f8f0a3, a399110...   \n",
       "4     ES  2020-09-29  [8fd5c4a6-155d-d21f-e8ae-9e7821d04186, 170af8e...   \n",
       "\n",
       "  extraction_date new_sample_extraction_date  \n",
       "0      2020-10-08                 2020-09-26  \n",
       "1      2020-10-08                 2020-09-27  \n",
       "2      2020-10-08                 2020-09-28  \n",
       "3      2020-10-08                 2020-09-29  \n",
       "4      2020-10-08                 2020-09-30  "
      ]
     },
     "execution_count": 26,
     "metadata": {},
     "output_type": "execute_result"
    }
   ],
   "source": [
    "estimated_shared_diagnoses_df = daily_extracted_teks_df.copy()\n",
    "estimated_shared_diagnoses_df[\"new_sample_extraction_date\"] = \\\n",
    "    pd.to_datetime(estimated_shared_diagnoses_df.sample_date) + datetime.timedelta(1)\n",
    "estimated_shared_diagnoses_df[\"extraction_date\"] = pd.to_datetime(estimated_shared_diagnoses_df.extraction_date)\n",
    "estimated_shared_diagnoses_df[\"sample_date\"] = pd.to_datetime(estimated_shared_diagnoses_df.sample_date)\n",
    "estimated_shared_diagnoses_df.head()"
   ]
  },
  {
   "cell_type": "code",
   "execution_count": 27,
   "metadata": {
    "collapsed": false,
    "execution": {
     "iopub.execute_input": "2020-10-08T20:22:43.459774Z",
     "iopub.status.busy": "2020-10-08T20:22:43.459135Z",
     "iopub.status.idle": "2020-10-08T20:22:43.469788Z",
     "shell.execute_reply": "2020-10-08T20:22:43.470379Z"
    },
    "papermill": {
     "duration": 0.069658,
     "end_time": "2020-10-08T20:22:43.470557",
     "exception": false,
     "start_time": "2020-10-08T20:22:43.400899",
     "status": "completed"
    },
    "pycharm": {
     "name": "#%%\n"
    },
    "tags": []
   },
   "outputs": [
    {
     "data": {
      "text/html": [
       "<div>\n",
       "<style scoped>\n",
       "    .dataframe tbody tr th:only-of-type {\n",
       "        vertical-align: middle;\n",
       "    }\n",
       "\n",
       "    .dataframe tbody tr th {\n",
       "        vertical-align: top;\n",
       "    }\n",
       "\n",
       "    .dataframe thead th {\n",
       "        text-align: right;\n",
       "    }\n",
       "</style>\n",
       "<table border=\"1\" class=\"dataframe\">\n",
       "  <thead>\n",
       "    <tr style=\"text-align: right;\">\n",
       "      <th></th>\n",
       "      <th>extraction_date</th>\n",
       "      <th>same_day_tek_list</th>\n",
       "    </tr>\n",
       "  </thead>\n",
       "  <tbody>\n",
       "    <tr>\n",
       "      <th>13</th>\n",
       "      <td>2020-10-08</td>\n",
       "      <td>[a663b30a-8b02-d298-a9f7-9c9153f7f590]</td>\n",
       "    </tr>\n",
       "    <tr>\n",
       "      <th>13</th>\n",
       "      <td>2020-10-06</td>\n",
       "      <td>[2ed478e1-6fb4-7433-2ba5-5ddcaf3e7f8b, 147e075...</td>\n",
       "    </tr>\n",
       "    <tr>\n",
       "      <th>13</th>\n",
       "      <td>2020-10-05</td>\n",
       "      <td>[40e3b870-b9ea-392d-8e17-4e6ac12af668, 39beaeb...</td>\n",
       "    </tr>\n",
       "    <tr>\n",
       "      <th>13</th>\n",
       "      <td>2020-10-04</td>\n",
       "      <td>[66abf67e-ed33-e011-f22f-0d113b889269, e46ca4e...</td>\n",
       "    </tr>\n",
       "    <tr>\n",
       "      <th>13</th>\n",
       "      <td>2020-10-03</td>\n",
       "      <td>[18382d12-db65-c185-fdf0-f4c82fb9896f, f0809f0...</td>\n",
       "    </tr>\n",
       "  </tbody>\n",
       "</table>\n",
       "</div>"
      ],
      "text/plain": [
       "   extraction_date                                  same_day_tek_list\n",
       "13      2020-10-08             [a663b30a-8b02-d298-a9f7-9c9153f7f590]\n",
       "13      2020-10-06  [2ed478e1-6fb4-7433-2ba5-5ddcaf3e7f8b, 147e075...\n",
       "13      2020-10-05  [40e3b870-b9ea-392d-8e17-4e6ac12af668, 39beaeb...\n",
       "13      2020-10-04  [66abf67e-ed33-e011-f22f-0d113b889269, e46ca4e...\n",
       "13      2020-10-03  [18382d12-db65-c185-fdf0-f4c82fb9896f, f0809f0..."
      ]
     },
     "execution_count": 27,
     "metadata": {},
     "output_type": "execute_result"
    }
   ],
   "source": [
    "# Sometimes TEKs from the same day are uploaded, we do not count them as new TEK devices:\n",
    "same_day_tek_list_df = estimated_shared_diagnoses_df[\n",
    "    estimated_shared_diagnoses_df.sample_date == estimated_shared_diagnoses_df.extraction_date].copy()\n",
    "same_day_tek_list_df = same_day_tek_list_df[[\"extraction_date\", \"tek_list\"]].rename(\n",
    "    columns={\"tek_list\": \"same_day_tek_list\"})\n",
    "same_day_tek_list_df.head()"
   ]
  },
  {
   "cell_type": "code",
   "execution_count": 28,
   "metadata": {
    "collapsed": false,
    "execution": {
     "iopub.execute_input": "2020-10-08T20:22:43.586174Z",
     "iopub.status.busy": "2020-10-08T20:22:43.585552Z",
     "iopub.status.idle": "2020-10-08T20:22:43.589124Z",
     "shell.execute_reply": "2020-10-08T20:22:43.589614Z"
    },
    "papermill": {
     "duration": 0.067563,
     "end_time": "2020-10-08T20:22:43.589779",
     "exception": false,
     "start_time": "2020-10-08T20:22:43.522216",
     "status": "completed"
    },
    "pycharm": {
     "name": "#%%\n"
    },
    "tags": []
   },
   "outputs": [
    {
     "data": {
      "text/html": [
       "<div>\n",
       "<style scoped>\n",
       "    .dataframe tbody tr th:only-of-type {\n",
       "        vertical-align: middle;\n",
       "    }\n",
       "\n",
       "    .dataframe tbody tr th {\n",
       "        vertical-align: top;\n",
       "    }\n",
       "\n",
       "    .dataframe thead th {\n",
       "        text-align: right;\n",
       "    }\n",
       "</style>\n",
       "<table border=\"1\" class=\"dataframe\">\n",
       "  <thead>\n",
       "    <tr style=\"text-align: right;\">\n",
       "      <th></th>\n",
       "      <th>sample_date_string</th>\n",
       "      <th>shared_teks_uploaded_on_generation_date</th>\n",
       "    </tr>\n",
       "  </thead>\n",
       "  <tbody>\n",
       "    <tr>\n",
       "      <th>13</th>\n",
       "      <td>2020-10-08</td>\n",
       "      <td>1</td>\n",
       "    </tr>\n",
       "    <tr>\n",
       "      <th>13</th>\n",
       "      <td>2020-10-06</td>\n",
       "      <td>60</td>\n",
       "    </tr>\n",
       "    <tr>\n",
       "      <th>13</th>\n",
       "      <td>2020-10-05</td>\n",
       "      <td>52</td>\n",
       "    </tr>\n",
       "    <tr>\n",
       "      <th>13</th>\n",
       "      <td>2020-10-04</td>\n",
       "      <td>76</td>\n",
       "    </tr>\n",
       "    <tr>\n",
       "      <th>13</th>\n",
       "      <td>2020-10-03</td>\n",
       "      <td>69</td>\n",
       "    </tr>\n",
       "  </tbody>\n",
       "</table>\n",
       "</div>"
      ],
      "text/plain": [
       "   sample_date_string  shared_teks_uploaded_on_generation_date\n",
       "13         2020-10-08                                        1\n",
       "13         2020-10-06                                       60\n",
       "13         2020-10-05                                       52\n",
       "13         2020-10-04                                       76\n",
       "13         2020-10-03                                       69"
      ]
     },
     "execution_count": 28,
     "metadata": {},
     "output_type": "execute_result"
    }
   ],
   "source": [
    "shared_teks_uploaded_on_generation_date_df = same_day_tek_list_df.rename(\n",
    "    columns={\n",
    "        \"extraction_date\": \"sample_date_string\",\n",
    "        \"same_day_tek_list\": \"shared_teks_uploaded_on_generation_date\",\n",
    "    })\n",
    "shared_teks_uploaded_on_generation_date_df.shared_teks_uploaded_on_generation_date = \\\n",
    " shared_teks_uploaded_on_generation_date_df.shared_teks_uploaded_on_generation_date.apply(len)\n",
    "shared_teks_uploaded_on_generation_date_df.head()\n",
    "shared_teks_uploaded_on_generation_date_df[\"sample_date_string\"] = \\\n",
    "    shared_teks_uploaded_on_generation_date_df.sample_date_string.dt.strftime(\"%Y-%m-%d\")\n",
    "shared_teks_uploaded_on_generation_date_df.head()"
   ]
  },
  {
   "cell_type": "code",
   "execution_count": 29,
   "metadata": {
    "collapsed": false,
    "execution": {
     "iopub.execute_input": "2020-10-08T20:22:43.711893Z",
     "iopub.status.busy": "2020-10-08T20:22:43.711217Z",
     "iopub.status.idle": "2020-10-08T20:22:43.714715Z",
     "shell.execute_reply": "2020-10-08T20:22:43.715231Z"
    },
    "papermill": {
     "duration": 0.073262,
     "end_time": "2020-10-08T20:22:43.715423",
     "exception": false,
     "start_time": "2020-10-08T20:22:43.642161",
     "status": "completed"
    },
    "pycharm": {
     "name": "#%%\n"
    },
    "tags": []
   },
   "outputs": [
    {
     "data": {
      "text/html": [
       "<div>\n",
       "<style scoped>\n",
       "    .dataframe tbody tr th:only-of-type {\n",
       "        vertical-align: middle;\n",
       "    }\n",
       "\n",
       "    .dataframe tbody tr th {\n",
       "        vertical-align: top;\n",
       "    }\n",
       "\n",
       "    .dataframe thead th {\n",
       "        text-align: right;\n",
       "    }\n",
       "</style>\n",
       "<table border=\"1\" class=\"dataframe\">\n",
       "  <thead>\n",
       "    <tr style=\"text-align: right;\">\n",
       "      <th></th>\n",
       "      <th>region</th>\n",
       "      <th>sample_date</th>\n",
       "      <th>tek_list</th>\n",
       "      <th>extraction_date</th>\n",
       "      <th>new_sample_extraction_date</th>\n",
       "    </tr>\n",
       "  </thead>\n",
       "  <tbody>\n",
       "    <tr>\n",
       "      <th>12</th>\n",
       "      <td>ES</td>\n",
       "      <td>2020-10-07</td>\n",
       "      <td>[93bb79e3-f8d2-029c-5459-2d6945796a40, 5c5501f...</td>\n",
       "      <td>2020-10-08</td>\n",
       "      <td>2020-10-08</td>\n",
       "    </tr>\n",
       "    <tr>\n",
       "      <th>12</th>\n",
       "      <td>ES</td>\n",
       "      <td>2020-10-06</td>\n",
       "      <td>[d40fe510-a68c-6ca1-5836-85bd0c385c82, 198e63d...</td>\n",
       "      <td>2020-10-07</td>\n",
       "      <td>2020-10-07</td>\n",
       "    </tr>\n",
       "    <tr>\n",
       "      <th>12</th>\n",
       "      <td>ES</td>\n",
       "      <td>2020-10-05</td>\n",
       "      <td>[1e645e90-926b-525d-8f28-b2741ffff1f1, 2914f5a...</td>\n",
       "      <td>2020-10-06</td>\n",
       "      <td>2020-10-06</td>\n",
       "    </tr>\n",
       "    <tr>\n",
       "      <th>12</th>\n",
       "      <td>ES</td>\n",
       "      <td>2020-10-04</td>\n",
       "      <td>[9940291e-5783-637d-8643-023752897f51, 7f4fc53...</td>\n",
       "      <td>2020-10-05</td>\n",
       "      <td>2020-10-05</td>\n",
       "    </tr>\n",
       "    <tr>\n",
       "      <th>12</th>\n",
       "      <td>ES</td>\n",
       "      <td>2020-10-03</td>\n",
       "      <td>[8dcccda4-6aed-2740-e9a2-1ca9b693b5a4, 7a669c9...</td>\n",
       "      <td>2020-10-04</td>\n",
       "      <td>2020-10-04</td>\n",
       "    </tr>\n",
       "  </tbody>\n",
       "</table>\n",
       "</div>"
      ],
      "text/plain": [
       "   region sample_date                                           tek_list  \\\n",
       "12     ES  2020-10-07  [93bb79e3-f8d2-029c-5459-2d6945796a40, 5c5501f...   \n",
       "12     ES  2020-10-06  [d40fe510-a68c-6ca1-5836-85bd0c385c82, 198e63d...   \n",
       "12     ES  2020-10-05  [1e645e90-926b-525d-8f28-b2741ffff1f1, 2914f5a...   \n",
       "12     ES  2020-10-04  [9940291e-5783-637d-8643-023752897f51, 7f4fc53...   \n",
       "12     ES  2020-10-03  [8dcccda4-6aed-2740-e9a2-1ca9b693b5a4, 7a669c9...   \n",
       "\n",
       "   extraction_date new_sample_extraction_date  \n",
       "12      2020-10-08                 2020-10-08  \n",
       "12      2020-10-07                 2020-10-07  \n",
       "12      2020-10-06                 2020-10-06  \n",
       "12      2020-10-05                 2020-10-05  \n",
       "12      2020-10-04                 2020-10-04  "
      ]
     },
     "execution_count": 29,
     "metadata": {},
     "output_type": "execute_result"
    }
   ],
   "source": [
    "estimated_shared_diagnoses_df = estimated_shared_diagnoses_df[\n",
    "    estimated_shared_diagnoses_df.new_sample_extraction_date == estimated_shared_diagnoses_df.extraction_date]\n",
    "estimated_shared_diagnoses_df.head()"
   ]
  },
  {
   "cell_type": "code",
   "execution_count": 30,
   "metadata": {
    "collapsed": false,
    "execution": {
     "iopub.execute_input": "2020-10-08T20:22:43.942432Z",
     "iopub.status.busy": "2020-10-08T20:22:43.941789Z",
     "iopub.status.idle": "2020-10-08T20:22:43.950790Z",
     "shell.execute_reply": "2020-10-08T20:22:43.949736Z"
    },
    "papermill": {
     "duration": 0.172891,
     "end_time": "2020-10-08T20:22:43.950962",
     "exception": false,
     "start_time": "2020-10-08T20:22:43.778071",
     "status": "completed"
    },
    "pycharm": {
     "name": "#%%\n"
    },
    "tags": []
   },
   "outputs": [
    {
     "data": {
      "text/html": [
       "<div>\n",
       "<style scoped>\n",
       "    .dataframe tbody tr th:only-of-type {\n",
       "        vertical-align: middle;\n",
       "    }\n",
       "\n",
       "    .dataframe tbody tr th {\n",
       "        vertical-align: top;\n",
       "    }\n",
       "\n",
       "    .dataframe thead th {\n",
       "        text-align: right;\n",
       "    }\n",
       "</style>\n",
       "<table border=\"1\" class=\"dataframe\">\n",
       "  <thead>\n",
       "    <tr style=\"text-align: right;\">\n",
       "      <th></th>\n",
       "      <th>region</th>\n",
       "      <th>sample_date</th>\n",
       "      <th>tek_list</th>\n",
       "      <th>extraction_date</th>\n",
       "      <th>new_sample_extraction_date</th>\n",
       "      <th>same_day_tek_list</th>\n",
       "    </tr>\n",
       "  </thead>\n",
       "  <tbody>\n",
       "    <tr>\n",
       "      <th>0</th>\n",
       "      <td>ES</td>\n",
       "      <td>2020-10-07</td>\n",
       "      <td>[93bb79e3-f8d2-029c-5459-2d6945796a40, 5c5501f...</td>\n",
       "      <td>2020-10-08</td>\n",
       "      <td>2020-10-08</td>\n",
       "      <td>[]</td>\n",
       "    </tr>\n",
       "    <tr>\n",
       "      <th>1</th>\n",
       "      <td>ES</td>\n",
       "      <td>2020-10-06</td>\n",
       "      <td>[d40fe510-a68c-6ca1-5836-85bd0c385c82, 198e63d...</td>\n",
       "      <td>2020-10-07</td>\n",
       "      <td>2020-10-07</td>\n",
       "      <td>[2ed478e1-6fb4-7433-2ba5-5ddcaf3e7f8b, 147e075...</td>\n",
       "    </tr>\n",
       "    <tr>\n",
       "      <th>2</th>\n",
       "      <td>ES</td>\n",
       "      <td>2020-10-05</td>\n",
       "      <td>[1e645e90-926b-525d-8f28-b2741ffff1f1, 2914f5a...</td>\n",
       "      <td>2020-10-06</td>\n",
       "      <td>2020-10-06</td>\n",
       "      <td>[40e3b870-b9ea-392d-8e17-4e6ac12af668, 39beaeb...</td>\n",
       "    </tr>\n",
       "    <tr>\n",
       "      <th>3</th>\n",
       "      <td>ES</td>\n",
       "      <td>2020-10-04</td>\n",
       "      <td>[9940291e-5783-637d-8643-023752897f51, 7f4fc53...</td>\n",
       "      <td>2020-10-05</td>\n",
       "      <td>2020-10-05</td>\n",
       "      <td>[66abf67e-ed33-e011-f22f-0d113b889269, e46ca4e...</td>\n",
       "    </tr>\n",
       "    <tr>\n",
       "      <th>4</th>\n",
       "      <td>ES</td>\n",
       "      <td>2020-10-03</td>\n",
       "      <td>[8dcccda4-6aed-2740-e9a2-1ca9b693b5a4, 7a669c9...</td>\n",
       "      <td>2020-10-04</td>\n",
       "      <td>2020-10-04</td>\n",
       "      <td>[18382d12-db65-c185-fdf0-f4c82fb9896f, f0809f0...</td>\n",
       "    </tr>\n",
       "  </tbody>\n",
       "</table>\n",
       "</div>"
      ],
      "text/plain": [
       "  region sample_date                                           tek_list  \\\n",
       "0     ES  2020-10-07  [93bb79e3-f8d2-029c-5459-2d6945796a40, 5c5501f...   \n",
       "1     ES  2020-10-06  [d40fe510-a68c-6ca1-5836-85bd0c385c82, 198e63d...   \n",
       "2     ES  2020-10-05  [1e645e90-926b-525d-8f28-b2741ffff1f1, 2914f5a...   \n",
       "3     ES  2020-10-04  [9940291e-5783-637d-8643-023752897f51, 7f4fc53...   \n",
       "4     ES  2020-10-03  [8dcccda4-6aed-2740-e9a2-1ca9b693b5a4, 7a669c9...   \n",
       "\n",
       "  extraction_date new_sample_extraction_date  \\\n",
       "0      2020-10-08                 2020-10-08   \n",
       "1      2020-10-07                 2020-10-07   \n",
       "2      2020-10-06                 2020-10-06   \n",
       "3      2020-10-05                 2020-10-05   \n",
       "4      2020-10-04                 2020-10-04   \n",
       "\n",
       "                                   same_day_tek_list  \n",
       "0                                                 []  \n",
       "1  [2ed478e1-6fb4-7433-2ba5-5ddcaf3e7f8b, 147e075...  \n",
       "2  [40e3b870-b9ea-392d-8e17-4e6ac12af668, 39beaeb...  \n",
       "3  [66abf67e-ed33-e011-f22f-0d113b889269, e46ca4e...  \n",
       "4  [18382d12-db65-c185-fdf0-f4c82fb9896f, f0809f0...  "
      ]
     },
     "execution_count": 30,
     "metadata": {},
     "output_type": "execute_result"
    }
   ],
   "source": [
    "same_day_tek_list_df[\"extraction_date\"] = \\\n",
    "    same_day_tek_list_df.extraction_date + datetime.timedelta(1)\n",
    "estimated_shared_diagnoses_df = \\\n",
    "    estimated_shared_diagnoses_df.merge(same_day_tek_list_df, how=\"left\", on=[\"extraction_date\"])\n",
    "estimated_shared_diagnoses_df[\"same_day_tek_list\"] = \\\n",
    "    estimated_shared_diagnoses_df.same_day_tek_list.apply(lambda x: [] if x is np.nan else x)\n",
    "estimated_shared_diagnoses_df.head()"
   ]
  },
  {
   "cell_type": "code",
   "execution_count": 31,
   "metadata": {
    "execution": {
     "iopub.execute_input": "2020-10-08T20:22:44.097712Z",
     "iopub.status.busy": "2020-10-08T20:22:44.083005Z",
     "iopub.status.idle": "2020-10-08T20:22:44.100629Z",
     "shell.execute_reply": "2020-10-08T20:22:44.101129Z"
    },
    "papermill": {
     "duration": 0.087285,
     "end_time": "2020-10-08T20:22:44.101310",
     "exception": false,
     "start_time": "2020-10-08T20:22:44.014025",
     "status": "completed"
    },
    "tags": []
   },
   "outputs": [
    {
     "data": {
      "text/html": [
       "<div>\n",
       "<style scoped>\n",
       "    .dataframe tbody tr th:only-of-type {\n",
       "        vertical-align: middle;\n",
       "    }\n",
       "\n",
       "    .dataframe tbody tr th {\n",
       "        vertical-align: top;\n",
       "    }\n",
       "\n",
       "    .dataframe thead th {\n",
       "        text-align: right;\n",
       "    }\n",
       "</style>\n",
       "<table border=\"1\" class=\"dataframe\">\n",
       "  <thead>\n",
       "    <tr style=\"text-align: right;\">\n",
       "      <th></th>\n",
       "      <th>sample_date_string</th>\n",
       "      <th>shared_diagnoses</th>\n",
       "    </tr>\n",
       "  </thead>\n",
       "  <tbody>\n",
       "    <tr>\n",
       "      <th>0</th>\n",
       "      <td>2020-10-08</td>\n",
       "      <td>85</td>\n",
       "    </tr>\n",
       "    <tr>\n",
       "      <th>1</th>\n",
       "      <td>2020-10-07</td>\n",
       "      <td>54</td>\n",
       "    </tr>\n",
       "    <tr>\n",
       "      <th>2</th>\n",
       "      <td>2020-10-06</td>\n",
       "      <td>56</td>\n",
       "    </tr>\n",
       "    <tr>\n",
       "      <th>3</th>\n",
       "      <td>2020-10-05</td>\n",
       "      <td>69</td>\n",
       "    </tr>\n",
       "    <tr>\n",
       "      <th>4</th>\n",
       "      <td>2020-10-04</td>\n",
       "      <td>78</td>\n",
       "    </tr>\n",
       "  </tbody>\n",
       "</table>\n",
       "</div>"
      ],
      "text/plain": [
       "  sample_date_string  shared_diagnoses\n",
       "0         2020-10-08                85\n",
       "1         2020-10-07                54\n",
       "2         2020-10-06                56\n",
       "3         2020-10-05                69\n",
       "4         2020-10-04                78"
      ]
     },
     "execution_count": 31,
     "metadata": {},
     "output_type": "execute_result"
    }
   ],
   "source": [
    "estimated_shared_diagnoses_df.set_index(\"extraction_date\", inplace=True)\n",
    "estimated_shared_diagnoses_df[\"shared_diagnoses\"] = estimated_shared_diagnoses_df.apply(\n",
    "    lambda x: len(set(x.tek_list).difference(x.same_day_tek_list)), axis=1).copy()\n",
    "estimated_shared_diagnoses_df.reset_index(inplace=True)\n",
    "estimated_shared_diagnoses_df.rename(columns={\n",
    "    \"extraction_date\": \"sample_date_string\"}, inplace=True)\n",
    "estimated_shared_diagnoses_df = estimated_shared_diagnoses_df[[\"sample_date_string\", \"shared_diagnoses\"]]\n",
    "estimated_shared_diagnoses_df[\"sample_date_string\"] = estimated_shared_diagnoses_df.sample_date_string.dt.strftime(\"%Y-%m-%d\")\n",
    "estimated_shared_diagnoses_df.head()"
   ]
  },
  {
   "cell_type": "markdown",
   "metadata": {
    "papermill": {
     "duration": 0.058152,
     "end_time": "2020-10-08T20:22:44.214301",
     "exception": false,
     "start_time": "2020-10-08T20:22:44.156149",
     "status": "completed"
    },
    "pycharm": {
     "name": "#%% md\n"
    },
    "tags": []
   },
   "source": [
    "### Hourly New TEKs"
   ]
  },
  {
   "cell_type": "code",
   "execution_count": 32,
   "metadata": {
    "execution": {
     "iopub.execute_input": "2020-10-08T20:22:44.332458Z",
     "iopub.status.busy": "2020-10-08T20:22:44.331852Z",
     "iopub.status.idle": "2020-10-08T20:22:44.533122Z",
     "shell.execute_reply": "2020-10-08T20:22:44.532576Z"
    },
    "papermill": {
     "duration": 0.260978,
     "end_time": "2020-10-08T20:22:44.533268",
     "exception": false,
     "start_time": "2020-10-08T20:22:44.272290",
     "status": "completed"
    },
    "pycharm": {
     "name": "#%%\n"
    },
    "tags": []
   },
   "outputs": [
    {
     "data": {
      "text/html": [
       "<div>\n",
       "<style scoped>\n",
       "    .dataframe tbody tr th:only-of-type {\n",
       "        vertical-align: middle;\n",
       "    }\n",
       "\n",
       "    .dataframe tbody tr th {\n",
       "        vertical-align: top;\n",
       "    }\n",
       "\n",
       "    .dataframe thead th {\n",
       "        text-align: right;\n",
       "    }\n",
       "</style>\n",
       "<table border=\"1\" class=\"dataframe\">\n",
       "  <thead>\n",
       "    <tr style=\"text-align: right;\">\n",
       "      <th></th>\n",
       "      <th>region</th>\n",
       "      <th>sample_date</th>\n",
       "      <th>tek_list</th>\n",
       "      <th>extraction_date</th>\n",
       "      <th>extraction_date_with_hour</th>\n",
       "    </tr>\n",
       "  </thead>\n",
       "  <tbody>\n",
       "    <tr>\n",
       "      <th>0</th>\n",
       "      <td>ES</td>\n",
       "      <td>2020-09-25</td>\n",
       "      <td>[53583e42-2a3b-bbb1-0feb-6409a5b63cf7, e0de6a3...</td>\n",
       "      <td>2020-10-08</td>\n",
       "      <td>2020-10-08@20</td>\n",
       "    </tr>\n",
       "    <tr>\n",
       "      <th>1</th>\n",
       "      <td>ES</td>\n",
       "      <td>2020-09-26</td>\n",
       "      <td>[9e73cc2e-b076-7329-4d5d-3195010421c0, 005336e...</td>\n",
       "      <td>2020-10-08</td>\n",
       "      <td>2020-10-08@20</td>\n",
       "    </tr>\n",
       "    <tr>\n",
       "      <th>2</th>\n",
       "      <td>ES</td>\n",
       "      <td>2020-09-27</td>\n",
       "      <td>[4f27e083-816b-fc0f-bc8c-ac5f952df0ae, e258ba7...</td>\n",
       "      <td>2020-10-08</td>\n",
       "      <td>2020-10-08@20</td>\n",
       "    </tr>\n",
       "    <tr>\n",
       "      <th>3</th>\n",
       "      <td>ES</td>\n",
       "      <td>2020-09-28</td>\n",
       "      <td>[ab8bea9b-1297-dfd8-e8c9-6fb1d3f8f0a3, a399110...</td>\n",
       "      <td>2020-10-08</td>\n",
       "      <td>2020-10-08@20</td>\n",
       "    </tr>\n",
       "    <tr>\n",
       "      <th>4</th>\n",
       "      <td>ES</td>\n",
       "      <td>2020-09-29</td>\n",
       "      <td>[8fd5c4a6-155d-d21f-e8ae-9e7821d04186, 170af8e...</td>\n",
       "      <td>2020-10-08</td>\n",
       "      <td>2020-10-08@20</td>\n",
       "    </tr>\n",
       "  </tbody>\n",
       "</table>\n",
       "</div>"
      ],
      "text/plain": [
       "  region sample_date                                           tek_list  \\\n",
       "0     ES  2020-09-25  [53583e42-2a3b-bbb1-0feb-6409a5b63cf7, e0de6a3...   \n",
       "1     ES  2020-09-26  [9e73cc2e-b076-7329-4d5d-3195010421c0, 005336e...   \n",
       "2     ES  2020-09-27  [4f27e083-816b-fc0f-bc8c-ac5f952df0ae, e258ba7...   \n",
       "3     ES  2020-09-28  [ab8bea9b-1297-dfd8-e8c9-6fb1d3f8f0a3, a399110...   \n",
       "4     ES  2020-09-29  [8fd5c4a6-155d-d21f-e8ae-9e7821d04186, 170af8e...   \n",
       "\n",
       "  extraction_date extraction_date_with_hour  \n",
       "0      2020-10-08             2020-10-08@20  \n",
       "1      2020-10-08             2020-10-08@20  \n",
       "2      2020-10-08             2020-10-08@20  \n",
       "3      2020-10-08             2020-10-08@20  \n",
       "4      2020-10-08             2020-10-08@20  "
      ]
     },
     "execution_count": 32,
     "metadata": {},
     "output_type": "execute_result"
    }
   ],
   "source": [
    "hourly_extracted_teks_df = load_extracted_teks(\n",
    "    mode=\"Hourly\", region=spain_region_country_code, limit=25)\n",
    "hourly_extracted_teks_df.head()"
   ]
  },
  {
   "cell_type": "code",
   "execution_count": 33,
   "metadata": {
    "collapsed": false,
    "execution": {
     "iopub.execute_input": "2020-10-08T20:22:44.704116Z",
     "iopub.status.busy": "2020-10-08T20:22:44.684273Z",
     "iopub.status.idle": "2020-10-08T20:22:44.716802Z",
     "shell.execute_reply": "2020-10-08T20:22:44.717297Z"
    },
    "papermill": {
     "duration": 0.105487,
     "end_time": "2020-10-08T20:22:44.717481",
     "exception": false,
     "start_time": "2020-10-08T20:22:44.611994",
     "status": "completed"
    },
    "pycharm": {
     "name": "#%%\n"
    },
    "tags": []
   },
   "outputs": [
    {
     "data": {
      "text/html": [
       "<div>\n",
       "<style scoped>\n",
       "    .dataframe tbody tr th:only-of-type {\n",
       "        vertical-align: middle;\n",
       "    }\n",
       "\n",
       "    .dataframe tbody tr th {\n",
       "        vertical-align: top;\n",
       "    }\n",
       "\n",
       "    .dataframe thead th {\n",
       "        text-align: right;\n",
       "    }\n",
       "</style>\n",
       "<table border=\"1\" class=\"dataframe\">\n",
       "  <thead>\n",
       "    <tr style=\"text-align: right;\">\n",
       "      <th></th>\n",
       "      <th>extraction_date_with_hour</th>\n",
       "      <th>shared_teks_by_upload_date</th>\n",
       "    </tr>\n",
       "  </thead>\n",
       "  <tbody>\n",
       "    <tr>\n",
       "      <th>0</th>\n",
       "      <td>2020-10-07@14</td>\n",
       "      <td>0</td>\n",
       "    </tr>\n",
       "    <tr>\n",
       "      <th>1</th>\n",
       "      <td>2020-10-07@15</td>\n",
       "      <td>0</td>\n",
       "    </tr>\n",
       "    <tr>\n",
       "      <th>2</th>\n",
       "      <td>2020-10-07@16</td>\n",
       "      <td>24</td>\n",
       "    </tr>\n",
       "    <tr>\n",
       "      <th>3</th>\n",
       "      <td>2020-10-07@17</td>\n",
       "      <td>0</td>\n",
       "    </tr>\n",
       "    <tr>\n",
       "      <th>4</th>\n",
       "      <td>2020-10-07@18</td>\n",
       "      <td>15</td>\n",
       "    </tr>\n",
       "  </tbody>\n",
       "</table>\n",
       "</div>"
      ],
      "text/plain": [
       "  extraction_date_with_hour  shared_teks_by_upload_date\n",
       "0             2020-10-07@14                           0\n",
       "1             2020-10-07@15                           0\n",
       "2             2020-10-07@16                          24\n",
       "3             2020-10-07@17                           0\n",
       "4             2020-10-07@18                          15"
      ]
     },
     "execution_count": 33,
     "metadata": {},
     "output_type": "execute_result"
    }
   ],
   "source": [
    "hourly_new_tek_count_df = hourly_extracted_teks_df \\\n",
    "    .groupby(\"extraction_date_with_hour\").tek_list. \\\n",
    "    apply(lambda x: set(sum(x, []))).reset_index().copy()\n",
    "hourly_new_tek_count_df = hourly_new_tek_count_df.set_index(\"extraction_date_with_hour\") \\\n",
    "    .sort_index(ascending=True)\n",
    "\n",
    "hourly_new_tek_count_df[\"new_tek_list\"] = hourly_new_tek_count_df.tek_list.diff()\n",
    "hourly_new_tek_count_df[\"new_tek_count\"] = hourly_new_tek_count_df.new_tek_list.apply(\n",
    "    lambda x: len(x) if not pd.isna(x) else 0)\n",
    "hourly_new_tek_count_df.rename(columns={\n",
    "    \"new_tek_count\": \"shared_teks_by_upload_date\"}, inplace=True)\n",
    "hourly_new_tek_count_df = hourly_new_tek_count_df.reset_index()[[\n",
    "    \"extraction_date_with_hour\", \"shared_teks_by_upload_date\"]]\n",
    "hourly_new_tek_count_df.head()"
   ]
  },
  {
   "cell_type": "code",
   "execution_count": 34,
   "metadata": {
    "execution": {
     "iopub.execute_input": "2020-10-08T20:22:44.850200Z",
     "iopub.status.busy": "2020-10-08T20:22:44.849479Z",
     "iopub.status.idle": "2020-10-08T20:22:44.878269Z",
     "shell.execute_reply": "2020-10-08T20:22:44.878825Z"
    },
    "papermill": {
     "duration": 0.106003,
     "end_time": "2020-10-08T20:22:44.879021",
     "exception": false,
     "start_time": "2020-10-08T20:22:44.773018",
     "status": "completed"
    },
    "pycharm": {
     "name": "#%%\n"
    },
    "tags": []
   },
   "outputs": [
    {
     "data": {
      "text/html": [
       "<div>\n",
       "<style scoped>\n",
       "    .dataframe tbody tr th:only-of-type {\n",
       "        vertical-align: middle;\n",
       "    }\n",
       "\n",
       "    .dataframe tbody tr th {\n",
       "        vertical-align: top;\n",
       "    }\n",
       "\n",
       "    .dataframe thead th {\n",
       "        text-align: right;\n",
       "    }\n",
       "</style>\n",
       "<table border=\"1\" class=\"dataframe\">\n",
       "  <thead>\n",
       "    <tr style=\"text-align: right;\">\n",
       "      <th></th>\n",
       "      <th>extraction_date_with_hour</th>\n",
       "      <th>shared_diagnoses</th>\n",
       "    </tr>\n",
       "  </thead>\n",
       "  <tbody>\n",
       "    <tr>\n",
       "      <th>0</th>\n",
       "      <td>2020-10-07@14</td>\n",
       "      <td>0</td>\n",
       "    </tr>\n",
       "    <tr>\n",
       "      <th>1</th>\n",
       "      <td>2020-10-07@15</td>\n",
       "      <td>0</td>\n",
       "    </tr>\n",
       "    <tr>\n",
       "      <th>2</th>\n",
       "      <td>2020-10-07@16</td>\n",
       "      <td>6</td>\n",
       "    </tr>\n",
       "    <tr>\n",
       "      <th>3</th>\n",
       "      <td>2020-10-07@17</td>\n",
       "      <td>0</td>\n",
       "    </tr>\n",
       "    <tr>\n",
       "      <th>4</th>\n",
       "      <td>2020-10-07@18</td>\n",
       "      <td>3</td>\n",
       "    </tr>\n",
       "  </tbody>\n",
       "</table>\n",
       "</div>"
      ],
      "text/plain": [
       "  extraction_date_with_hour  shared_diagnoses\n",
       "0             2020-10-07@14                 0\n",
       "1             2020-10-07@15                 0\n",
       "2             2020-10-07@16                 6\n",
       "3             2020-10-07@17                 0\n",
       "4             2020-10-07@18                 3"
      ]
     },
     "execution_count": 34,
     "metadata": {},
     "output_type": "execute_result"
    }
   ],
   "source": [
    "hourly_estimated_shared_diagnoses_df = hourly_extracted_teks_df.copy()\n",
    "hourly_estimated_shared_diagnoses_df[\"new_sample_extraction_date\"] = \\\n",
    "    pd.to_datetime(hourly_estimated_shared_diagnoses_df.sample_date) + datetime.timedelta(1)\n",
    "hourly_estimated_shared_diagnoses_df[\"extraction_date\"] = \\\n",
    "    pd.to_datetime(hourly_estimated_shared_diagnoses_df.extraction_date)\n",
    "\n",
    "hourly_estimated_shared_diagnoses_df = hourly_estimated_shared_diagnoses_df[\n",
    "    hourly_estimated_shared_diagnoses_df.new_sample_extraction_date ==\n",
    "    hourly_estimated_shared_diagnoses_df.extraction_date]\n",
    "hourly_estimated_shared_diagnoses_df = \\\n",
    "    hourly_estimated_shared_diagnoses_df.merge(same_day_tek_list_df, how=\"left\", on=[\"extraction_date\"])\n",
    "hourly_estimated_shared_diagnoses_df[\"same_day_tek_list\"] = \\\n",
    "    hourly_estimated_shared_diagnoses_df.same_day_tek_list.apply(lambda x: [] if x is np.nan else x)\n",
    "hourly_estimated_shared_diagnoses_df[\"shared_diagnoses\"] = hourly_estimated_shared_diagnoses_df.apply(\n",
    "    lambda x: len(set(x.tek_list).difference(x.same_day_tek_list)), axis=1)\n",
    "hourly_estimated_shared_diagnoses_df = \\\n",
    "    hourly_estimated_shared_diagnoses_df.sort_values(\"extraction_date_with_hour\").copy()\n",
    "hourly_estimated_shared_diagnoses_df[\"shared_diagnoses\"] = hourly_estimated_shared_diagnoses_df \\\n",
    "    .groupby(\"extraction_date\").shared_diagnoses.diff() \\\n",
    "    .fillna(0).astype(int)\n",
    "\n",
    "hourly_estimated_shared_diagnoses_df.set_index(\"extraction_date_with_hour\", inplace=True)\n",
    "hourly_estimated_shared_diagnoses_df.reset_index(inplace=True)\n",
    "hourly_estimated_shared_diagnoses_df = hourly_estimated_shared_diagnoses_df[[\n",
    "    \"extraction_date_with_hour\", \"shared_diagnoses\"]]\n",
    "hourly_estimated_shared_diagnoses_df.head()"
   ]
  },
  {
   "cell_type": "code",
   "execution_count": 35,
   "metadata": {
    "collapsed": false,
    "execution": {
     "iopub.execute_input": "2020-10-08T20:22:45.018964Z",
     "iopub.status.busy": "2020-10-08T20:22:45.018276Z",
     "iopub.status.idle": "2020-10-08T20:22:45.021866Z",
     "shell.execute_reply": "2020-10-08T20:22:45.021282Z"
    },
    "papermill": {
     "duration": 0.081027,
     "end_time": "2020-10-08T20:22:45.022023",
     "exception": false,
     "start_time": "2020-10-08T20:22:44.940996",
     "status": "completed"
    },
    "pycharm": {
     "name": "#%%\n"
    },
    "tags": []
   },
   "outputs": [
    {
     "data": {
      "text/html": [
       "<div>\n",
       "<style scoped>\n",
       "    .dataframe tbody tr th:only-of-type {\n",
       "        vertical-align: middle;\n",
       "    }\n",
       "\n",
       "    .dataframe tbody tr th {\n",
       "        vertical-align: top;\n",
       "    }\n",
       "\n",
       "    .dataframe thead th {\n",
       "        text-align: right;\n",
       "    }\n",
       "</style>\n",
       "<table border=\"1\" class=\"dataframe\">\n",
       "  <thead>\n",
       "    <tr style=\"text-align: right;\">\n",
       "      <th></th>\n",
       "      <th>extraction_date_with_hour</th>\n",
       "      <th>shared_teks_by_upload_date</th>\n",
       "      <th>shared_diagnoses</th>\n",
       "    </tr>\n",
       "    <tr>\n",
       "      <th>datetime_utc</th>\n",
       "      <th></th>\n",
       "      <th></th>\n",
       "      <th></th>\n",
       "    </tr>\n",
       "  </thead>\n",
       "  <tbody>\n",
       "    <tr>\n",
       "      <th>2020-10-07 15:00:00</th>\n",
       "      <td>2020-10-07@15</td>\n",
       "      <td>0</td>\n",
       "      <td>0.0</td>\n",
       "    </tr>\n",
       "    <tr>\n",
       "      <th>2020-10-07 16:00:00</th>\n",
       "      <td>2020-10-07@16</td>\n",
       "      <td>24</td>\n",
       "      <td>6.0</td>\n",
       "    </tr>\n",
       "    <tr>\n",
       "      <th>2020-10-07 17:00:00</th>\n",
       "      <td>2020-10-07@17</td>\n",
       "      <td>0</td>\n",
       "      <td>0.0</td>\n",
       "    </tr>\n",
       "    <tr>\n",
       "      <th>2020-10-07 18:00:00</th>\n",
       "      <td>2020-10-07@18</td>\n",
       "      <td>15</td>\n",
       "      <td>3.0</td>\n",
       "    </tr>\n",
       "    <tr>\n",
       "      <th>2020-10-07 19:00:00</th>\n",
       "      <td>2020-10-07@19</td>\n",
       "      <td>0</td>\n",
       "      <td>0.0</td>\n",
       "    </tr>\n",
       "  </tbody>\n",
       "</table>\n",
       "</div>"
      ],
      "text/plain": [
       "                    extraction_date_with_hour  shared_teks_by_upload_date  \\\n",
       "datetime_utc                                                                \n",
       "2020-10-07 15:00:00             2020-10-07@15                           0   \n",
       "2020-10-07 16:00:00             2020-10-07@16                          24   \n",
       "2020-10-07 17:00:00             2020-10-07@17                           0   \n",
       "2020-10-07 18:00:00             2020-10-07@18                          15   \n",
       "2020-10-07 19:00:00             2020-10-07@19                           0   \n",
       "\n",
       "                     shared_diagnoses  \n",
       "datetime_utc                           \n",
       "2020-10-07 15:00:00               0.0  \n",
       "2020-10-07 16:00:00               6.0  \n",
       "2020-10-07 17:00:00               0.0  \n",
       "2020-10-07 18:00:00               3.0  \n",
       "2020-10-07 19:00:00               0.0  "
      ]
     },
     "execution_count": 35,
     "metadata": {},
     "output_type": "execute_result"
    }
   ],
   "source": [
    "hourly_summary_df = hourly_new_tek_count_df.merge(\n",
    "    hourly_estimated_shared_diagnoses_df, on=[\"extraction_date_with_hour\"], how=\"outer\")\n",
    "hourly_summary_df[\"datetime_utc\"] = pd.to_datetime(\n",
    "    hourly_summary_df.extraction_date_with_hour, format=\"%Y-%m-%d@%H\")\n",
    "hourly_summary_df.set_index(\"datetime_utc\", inplace=True)\n",
    "hourly_summary_df = hourly_summary_df.tail(-1)\n",
    "hourly_summary_df.head()"
   ]
  },
  {
   "cell_type": "markdown",
   "metadata": {
    "collapsed": false,
    "papermill": {
     "duration": 0.505749,
     "end_time": "2020-10-08T20:22:45.590784",
     "exception": false,
     "start_time": "2020-10-08T20:22:45.085035",
     "status": "completed"
    },
    "pycharm": {
     "name": "#%% md\n"
    },
    "tags": []
   },
   "source": [
    "### Data Merge"
   ]
  },
  {
   "cell_type": "code",
   "execution_count": 36,
   "metadata": {
    "collapsed": false,
    "execution": {
     "iopub.execute_input": "2020-10-08T20:22:45.763894Z",
     "iopub.status.busy": "2020-10-08T20:22:45.763206Z",
     "iopub.status.idle": "2020-10-08T20:22:45.765858Z",
     "shell.execute_reply": "2020-10-08T20:22:45.766508Z"
    },
    "papermill": {
     "duration": 0.080757,
     "end_time": "2020-10-08T20:22:45.766703",
     "exception": false,
     "start_time": "2020-10-08T20:22:45.685946",
     "status": "completed"
    },
    "pycharm": {
     "name": "#%%\n"
    },
    "tags": []
   },
   "outputs": [
    {
     "data": {
      "text/html": [
       "<div>\n",
       "<style scoped>\n",
       "    .dataframe tbody tr th:only-of-type {\n",
       "        vertical-align: middle;\n",
       "    }\n",
       "\n",
       "    .dataframe tbody tr th {\n",
       "        vertical-align: top;\n",
       "    }\n",
       "\n",
       "    .dataframe thead th {\n",
       "        text-align: right;\n",
       "    }\n",
       "</style>\n",
       "<table border=\"1\" class=\"dataframe\">\n",
       "  <thead>\n",
       "    <tr style=\"text-align: right;\">\n",
       "      <th></th>\n",
       "      <th>sample_date_string</th>\n",
       "      <th>shared_teks_by_generation_date</th>\n",
       "      <th>shared_teks_by_upload_date</th>\n",
       "    </tr>\n",
       "  </thead>\n",
       "  <tbody>\n",
       "    <tr>\n",
       "      <th>0</th>\n",
       "      <td>2020-10-08</td>\n",
       "      <td>1</td>\n",
       "      <td>267.0</td>\n",
       "    </tr>\n",
       "    <tr>\n",
       "      <th>1</th>\n",
       "      <td>2020-10-07</td>\n",
       "      <td>85</td>\n",
       "      <td>178.0</td>\n",
       "    </tr>\n",
       "    <tr>\n",
       "      <th>2</th>\n",
       "      <td>2020-10-06</td>\n",
       "      <td>160</td>\n",
       "      <td>233.0</td>\n",
       "    </tr>\n",
       "    <tr>\n",
       "      <th>3</th>\n",
       "      <td>2020-10-05</td>\n",
       "      <td>185</td>\n",
       "      <td>273.0</td>\n",
       "    </tr>\n",
       "    <tr>\n",
       "      <th>4</th>\n",
       "      <td>2020-10-04</td>\n",
       "      <td>250</td>\n",
       "      <td>331.0</td>\n",
       "    </tr>\n",
       "  </tbody>\n",
       "</table>\n",
       "</div>"
      ],
      "text/plain": [
       "  sample_date_string  shared_teks_by_generation_date  \\\n",
       "0         2020-10-08                               1   \n",
       "1         2020-10-07                              85   \n",
       "2         2020-10-06                             160   \n",
       "3         2020-10-05                             185   \n",
       "4         2020-10-04                             250   \n",
       "\n",
       "   shared_teks_by_upload_date  \n",
       "0                       267.0  \n",
       "1                       178.0  \n",
       "2                       233.0  \n",
       "3                       273.0  \n",
       "4                       331.0  "
      ]
     },
     "execution_count": 36,
     "metadata": {},
     "output_type": "execute_result"
    }
   ],
   "source": [
    "result_summary_df = exposure_keys_summary_df.merge(\n",
    "    new_tek_df, on=[\"sample_date_string\"], how=\"outer\")\n",
    "result_summary_df.head()"
   ]
  },
  {
   "cell_type": "code",
   "execution_count": 37,
   "metadata": {
    "execution": {
     "iopub.execute_input": "2020-10-08T20:22:45.920408Z",
     "iopub.status.busy": "2020-10-08T20:22:45.919731Z",
     "iopub.status.idle": "2020-10-08T20:22:45.923809Z",
     "shell.execute_reply": "2020-10-08T20:22:45.923226Z"
    },
    "papermill": {
     "duration": 0.083157,
     "end_time": "2020-10-08T20:22:45.923966",
     "exception": false,
     "start_time": "2020-10-08T20:22:45.840809",
     "status": "completed"
    },
    "tags": []
   },
   "outputs": [
    {
     "data": {
      "text/html": [
       "<div>\n",
       "<style scoped>\n",
       "    .dataframe tbody tr th:only-of-type {\n",
       "        vertical-align: middle;\n",
       "    }\n",
       "\n",
       "    .dataframe tbody tr th {\n",
       "        vertical-align: top;\n",
       "    }\n",
       "\n",
       "    .dataframe thead th {\n",
       "        text-align: right;\n",
       "    }\n",
       "</style>\n",
       "<table border=\"1\" class=\"dataframe\">\n",
       "  <thead>\n",
       "    <tr style=\"text-align: right;\">\n",
       "      <th></th>\n",
       "      <th>sample_date_string</th>\n",
       "      <th>shared_teks_by_generation_date</th>\n",
       "      <th>shared_teks_by_upload_date</th>\n",
       "      <th>shared_teks_uploaded_on_generation_date</th>\n",
       "    </tr>\n",
       "  </thead>\n",
       "  <tbody>\n",
       "    <tr>\n",
       "      <th>0</th>\n",
       "      <td>2020-10-08</td>\n",
       "      <td>1</td>\n",
       "      <td>267.0</td>\n",
       "      <td>1.0</td>\n",
       "    </tr>\n",
       "    <tr>\n",
       "      <th>1</th>\n",
       "      <td>2020-10-07</td>\n",
       "      <td>85</td>\n",
       "      <td>178.0</td>\n",
       "      <td>NaN</td>\n",
       "    </tr>\n",
       "    <tr>\n",
       "      <th>2</th>\n",
       "      <td>2020-10-06</td>\n",
       "      <td>160</td>\n",
       "      <td>233.0</td>\n",
       "      <td>60.0</td>\n",
       "    </tr>\n",
       "    <tr>\n",
       "      <th>3</th>\n",
       "      <td>2020-10-05</td>\n",
       "      <td>185</td>\n",
       "      <td>273.0</td>\n",
       "      <td>52.0</td>\n",
       "    </tr>\n",
       "    <tr>\n",
       "      <th>4</th>\n",
       "      <td>2020-10-04</td>\n",
       "      <td>250</td>\n",
       "      <td>331.0</td>\n",
       "      <td>76.0</td>\n",
       "    </tr>\n",
       "  </tbody>\n",
       "</table>\n",
       "</div>"
      ],
      "text/plain": [
       "  sample_date_string  shared_teks_by_generation_date  \\\n",
       "0         2020-10-08                               1   \n",
       "1         2020-10-07                              85   \n",
       "2         2020-10-06                             160   \n",
       "3         2020-10-05                             185   \n",
       "4         2020-10-04                             250   \n",
       "\n",
       "   shared_teks_by_upload_date  shared_teks_uploaded_on_generation_date  \n",
       "0                       267.0                                      1.0  \n",
       "1                       178.0                                      NaN  \n",
       "2                       233.0                                     60.0  \n",
       "3                       273.0                                     52.0  \n",
       "4                       331.0                                     76.0  "
      ]
     },
     "execution_count": 37,
     "metadata": {},
     "output_type": "execute_result"
    }
   ],
   "source": [
    "result_summary_df = result_summary_df.merge(\n",
    "    shared_teks_uploaded_on_generation_date_df, on=[\"sample_date_string\"], how=\"outer\")\n",
    "result_summary_df.head()"
   ]
  },
  {
   "cell_type": "code",
   "execution_count": 38,
   "metadata": {
    "collapsed": false,
    "execution": {
     "iopub.execute_input": "2020-10-08T20:22:46.069054Z",
     "iopub.status.busy": "2020-10-08T20:22:46.068390Z",
     "iopub.status.idle": "2020-10-08T20:22:46.071158Z",
     "shell.execute_reply": "2020-10-08T20:22:46.071682Z"
    },
    "papermill": {
     "duration": 0.084752,
     "end_time": "2020-10-08T20:22:46.072382",
     "exception": false,
     "start_time": "2020-10-08T20:22:45.987630",
     "status": "completed"
    },
    "pycharm": {
     "name": "#%%\n"
    },
    "tags": []
   },
   "outputs": [
    {
     "data": {
      "text/html": [
       "<div>\n",
       "<style scoped>\n",
       "    .dataframe tbody tr th:only-of-type {\n",
       "        vertical-align: middle;\n",
       "    }\n",
       "\n",
       "    .dataframe tbody tr th {\n",
       "        vertical-align: top;\n",
       "    }\n",
       "\n",
       "    .dataframe thead th {\n",
       "        text-align: right;\n",
       "    }\n",
       "</style>\n",
       "<table border=\"1\" class=\"dataframe\">\n",
       "  <thead>\n",
       "    <tr style=\"text-align: right;\">\n",
       "      <th></th>\n",
       "      <th>sample_date_string</th>\n",
       "      <th>shared_teks_by_generation_date</th>\n",
       "      <th>shared_teks_by_upload_date</th>\n",
       "      <th>shared_teks_uploaded_on_generation_date</th>\n",
       "      <th>shared_diagnoses</th>\n",
       "    </tr>\n",
       "  </thead>\n",
       "  <tbody>\n",
       "    <tr>\n",
       "      <th>0</th>\n",
       "      <td>2020-10-08</td>\n",
       "      <td>1</td>\n",
       "      <td>267.0</td>\n",
       "      <td>1.0</td>\n",
       "      <td>85.0</td>\n",
       "    </tr>\n",
       "    <tr>\n",
       "      <th>1</th>\n",
       "      <td>2020-10-07</td>\n",
       "      <td>85</td>\n",
       "      <td>178.0</td>\n",
       "      <td>NaN</td>\n",
       "      <td>54.0</td>\n",
       "    </tr>\n",
       "    <tr>\n",
       "      <th>2</th>\n",
       "      <td>2020-10-06</td>\n",
       "      <td>160</td>\n",
       "      <td>233.0</td>\n",
       "      <td>60.0</td>\n",
       "      <td>56.0</td>\n",
       "    </tr>\n",
       "    <tr>\n",
       "      <th>3</th>\n",
       "      <td>2020-10-05</td>\n",
       "      <td>185</td>\n",
       "      <td>273.0</td>\n",
       "      <td>52.0</td>\n",
       "      <td>69.0</td>\n",
       "    </tr>\n",
       "    <tr>\n",
       "      <th>4</th>\n",
       "      <td>2020-10-04</td>\n",
       "      <td>250</td>\n",
       "      <td>331.0</td>\n",
       "      <td>76.0</td>\n",
       "      <td>78.0</td>\n",
       "    </tr>\n",
       "  </tbody>\n",
       "</table>\n",
       "</div>"
      ],
      "text/plain": [
       "  sample_date_string  shared_teks_by_generation_date  \\\n",
       "0         2020-10-08                               1   \n",
       "1         2020-10-07                              85   \n",
       "2         2020-10-06                             160   \n",
       "3         2020-10-05                             185   \n",
       "4         2020-10-04                             250   \n",
       "\n",
       "   shared_teks_by_upload_date  shared_teks_uploaded_on_generation_date  \\\n",
       "0                       267.0                                      1.0   \n",
       "1                       178.0                                      NaN   \n",
       "2                       233.0                                     60.0   \n",
       "3                       273.0                                     52.0   \n",
       "4                       331.0                                     76.0   \n",
       "\n",
       "   shared_diagnoses  \n",
       "0              85.0  \n",
       "1              54.0  \n",
       "2              56.0  \n",
       "3              69.0  \n",
       "4              78.0  "
      ]
     },
     "execution_count": 38,
     "metadata": {},
     "output_type": "execute_result"
    }
   ],
   "source": [
    "result_summary_df = result_summary_df.merge(\n",
    "    estimated_shared_diagnoses_df, on=[\"sample_date_string\"], how=\"outer\")\n",
    "result_summary_df.head()"
   ]
  },
  {
   "cell_type": "code",
   "execution_count": 39,
   "metadata": {
    "collapsed": false,
    "execution": {
     "iopub.execute_input": "2020-10-08T20:22:46.198030Z",
     "iopub.status.busy": "2020-10-08T20:22:46.197365Z",
     "iopub.status.idle": "2020-10-08T20:22:46.214577Z",
     "shell.execute_reply": "2020-10-08T20:22:46.213963Z"
    },
    "papermill": {
     "duration": 0.085011,
     "end_time": "2020-10-08T20:22:46.214741",
     "exception": false,
     "start_time": "2020-10-08T20:22:46.129730",
     "status": "completed"
    },
    "pycharm": {
     "name": "#%%\n"
    },
    "tags": []
   },
   "outputs": [
    {
     "data": {
      "text/html": [
       "<div>\n",
       "<style scoped>\n",
       "    .dataframe tbody tr th:only-of-type {\n",
       "        vertical-align: middle;\n",
       "    }\n",
       "\n",
       "    .dataframe tbody tr th {\n",
       "        vertical-align: top;\n",
       "    }\n",
       "\n",
       "    .dataframe thead th {\n",
       "        text-align: right;\n",
       "    }\n",
       "</style>\n",
       "<table border=\"1\" class=\"dataframe\">\n",
       "  <thead>\n",
       "    <tr style=\"text-align: right;\">\n",
       "      <th></th>\n",
       "      <th>sample_date_string</th>\n",
       "      <th>cumulative_cases</th>\n",
       "      <th>new_cases</th>\n",
       "      <th>covid_cases</th>\n",
       "      <th>shared_teks_by_generation_date</th>\n",
       "      <th>shared_teks_by_upload_date</th>\n",
       "      <th>shared_teks_uploaded_on_generation_date</th>\n",
       "      <th>shared_diagnoses</th>\n",
       "    </tr>\n",
       "  </thead>\n",
       "  <tbody>\n",
       "    <tr>\n",
       "      <th>0</th>\n",
       "      <td>2020-09-18</td>\n",
       "      <td>640040.0</td>\n",
       "      <td>14389.0</td>\n",
       "      <td>10531</td>\n",
       "      <td>165</td>\n",
       "      <td>138.0</td>\n",
       "      <td>1.0</td>\n",
       "      <td>52.0</td>\n",
       "    </tr>\n",
       "    <tr>\n",
       "      <th>1</th>\n",
       "      <td>2020-09-19</td>\n",
       "      <td>640040.0</td>\n",
       "      <td>0.0</td>\n",
       "      <td>10531</td>\n",
       "      <td>203</td>\n",
       "      <td>90.0</td>\n",
       "      <td>2.0</td>\n",
       "      <td>39.0</td>\n",
       "    </tr>\n",
       "    <tr>\n",
       "      <th>2</th>\n",
       "      <td>2020-09-20</td>\n",
       "      <td>640040.0</td>\n",
       "      <td>0.0</td>\n",
       "      <td>10531</td>\n",
       "      <td>218</td>\n",
       "      <td>116.0</td>\n",
       "      <td>NaN</td>\n",
       "      <td>45.0</td>\n",
       "    </tr>\n",
       "    <tr>\n",
       "      <th>3</th>\n",
       "      <td>2020-09-21</td>\n",
       "      <td>671468.0</td>\n",
       "      <td>31428.0</td>\n",
       "      <td>11105</td>\n",
       "      <td>268</td>\n",
       "      <td>190.0</td>\n",
       "      <td>NaN</td>\n",
       "      <td>45.0</td>\n",
       "    </tr>\n",
       "    <tr>\n",
       "      <th>4</th>\n",
       "      <td>2020-09-22</td>\n",
       "      <td>682267.0</td>\n",
       "      <td>10799.0</td>\n",
       "      <td>11300</td>\n",
       "      <td>282</td>\n",
       "      <td>148.0</td>\n",
       "      <td>NaN</td>\n",
       "      <td>55.0</td>\n",
       "    </tr>\n",
       "  </tbody>\n",
       "</table>\n",
       "</div>"
      ],
      "text/plain": [
       "  sample_date_string  cumulative_cases  new_cases  covid_cases  \\\n",
       "0         2020-09-18          640040.0    14389.0        10531   \n",
       "1         2020-09-19          640040.0        0.0        10531   \n",
       "2         2020-09-20          640040.0        0.0        10531   \n",
       "3         2020-09-21          671468.0    31428.0        11105   \n",
       "4         2020-09-22          682267.0    10799.0        11300   \n",
       "\n",
       "   shared_teks_by_generation_date  shared_teks_by_upload_date  \\\n",
       "0                             165                       138.0   \n",
       "1                             203                        90.0   \n",
       "2                             218                       116.0   \n",
       "3                             268                       190.0   \n",
       "4                             282                       148.0   \n",
       "\n",
       "   shared_teks_uploaded_on_generation_date  shared_diagnoses  \n",
       "0                                      1.0              52.0  \n",
       "1                                      2.0              39.0  \n",
       "2                                      NaN              45.0  \n",
       "3                                      NaN              45.0  \n",
       "4                                      NaN              55.0  "
      ]
     },
     "execution_count": 39,
     "metadata": {},
     "output_type": "execute_result"
    }
   ],
   "source": [
    "result_summary_df = confirmed_df.tail(daily_summary_days).merge(\n",
    "    result_summary_df, on=[\"sample_date_string\"], how=\"left\")\n",
    "result_summary_df.head()"
   ]
  },
  {
   "cell_type": "code",
   "execution_count": 40,
   "metadata": {
    "collapsed": false,
    "execution": {
     "iopub.execute_input": "2020-10-08T20:22:46.359770Z",
     "iopub.status.busy": "2020-10-08T20:22:46.359142Z",
     "iopub.status.idle": "2020-10-08T20:22:46.367303Z",
     "shell.execute_reply": "2020-10-08T20:22:46.367884Z"
    },
    "papermill": {
     "duration": 0.085884,
     "end_time": "2020-10-08T20:22:46.368070",
     "exception": false,
     "start_time": "2020-10-08T20:22:46.282186",
     "status": "completed"
    },
    "pycharm": {
     "name": "#%%\n"
    },
    "tags": []
   },
   "outputs": [
    {
     "data": {
      "text/html": [
       "<div>\n",
       "<style scoped>\n",
       "    .dataframe tbody tr th:only-of-type {\n",
       "        vertical-align: middle;\n",
       "    }\n",
       "\n",
       "    .dataframe tbody tr th {\n",
       "        vertical-align: top;\n",
       "    }\n",
       "\n",
       "    .dataframe thead th {\n",
       "        text-align: right;\n",
       "    }\n",
       "</style>\n",
       "<table border=\"1\" class=\"dataframe\">\n",
       "  <thead>\n",
       "    <tr style=\"text-align: right;\">\n",
       "      <th></th>\n",
       "      <th>cumulative_cases</th>\n",
       "      <th>new_cases</th>\n",
       "      <th>covid_cases</th>\n",
       "      <th>shared_teks_by_generation_date</th>\n",
       "      <th>shared_teks_by_upload_date</th>\n",
       "      <th>shared_teks_uploaded_on_generation_date</th>\n",
       "      <th>shared_diagnoses</th>\n",
       "    </tr>\n",
       "    <tr>\n",
       "      <th>sample_date</th>\n",
       "      <th></th>\n",
       "      <th></th>\n",
       "      <th></th>\n",
       "      <th></th>\n",
       "      <th></th>\n",
       "      <th></th>\n",
       "      <th></th>\n",
       "    </tr>\n",
       "  </thead>\n",
       "  <tbody>\n",
       "    <tr>\n",
       "      <th>2020-10-08</th>\n",
       "      <td>845431.0</td>\n",
       "      <td>9530.0</td>\n",
       "      <td>9530</td>\n",
       "      <td>1</td>\n",
       "      <td>267.0</td>\n",
       "      <td>1.0</td>\n",
       "      <td>85.0</td>\n",
       "    </tr>\n",
       "    <tr>\n",
       "      <th>2020-10-07</th>\n",
       "      <td>835901.0</td>\n",
       "      <td>10491.0</td>\n",
       "      <td>9530</td>\n",
       "      <td>85</td>\n",
       "      <td>178.0</td>\n",
       "      <td>NaN</td>\n",
       "      <td>54.0</td>\n",
       "    </tr>\n",
       "    <tr>\n",
       "      <th>2020-10-06</th>\n",
       "      <td>825410.0</td>\n",
       "      <td>11998.0</td>\n",
       "      <td>11021</td>\n",
       "      <td>160</td>\n",
       "      <td>233.0</td>\n",
       "      <td>60.0</td>\n",
       "      <td>56.0</td>\n",
       "    </tr>\n",
       "    <tr>\n",
       "      <th>2020-10-05</th>\n",
       "      <td>813412.0</td>\n",
       "      <td>23480.0</td>\n",
       "      <td>9307</td>\n",
       "      <td>185</td>\n",
       "      <td>273.0</td>\n",
       "      <td>52.0</td>\n",
       "      <td>69.0</td>\n",
       "    </tr>\n",
       "    <tr>\n",
       "      <th>2020-10-04</th>\n",
       "      <td>789932.0</td>\n",
       "      <td>0.0</td>\n",
       "      <td>10493</td>\n",
       "      <td>250</td>\n",
       "      <td>331.0</td>\n",
       "      <td>76.0</td>\n",
       "      <td>78.0</td>\n",
       "    </tr>\n",
       "  </tbody>\n",
       "</table>\n",
       "</div>"
      ],
      "text/plain": [
       "             cumulative_cases  new_cases  covid_cases  \\\n",
       "sample_date                                             \n",
       "2020-10-08           845431.0     9530.0         9530   \n",
       "2020-10-07           835901.0    10491.0         9530   \n",
       "2020-10-06           825410.0    11998.0        11021   \n",
       "2020-10-05           813412.0    23480.0         9307   \n",
       "2020-10-04           789932.0        0.0        10493   \n",
       "\n",
       "             shared_teks_by_generation_date  shared_teks_by_upload_date  \\\n",
       "sample_date                                                               \n",
       "2020-10-08                                1                       267.0   \n",
       "2020-10-07                               85                       178.0   \n",
       "2020-10-06                              160                       233.0   \n",
       "2020-10-05                              185                       273.0   \n",
       "2020-10-04                              250                       331.0   \n",
       "\n",
       "             shared_teks_uploaded_on_generation_date  shared_diagnoses  \n",
       "sample_date                                                             \n",
       "2020-10-08                                       1.0              85.0  \n",
       "2020-10-07                                       NaN              54.0  \n",
       "2020-10-06                                      60.0              56.0  \n",
       "2020-10-05                                      52.0              69.0  \n",
       "2020-10-04                                      76.0              78.0  "
      ]
     },
     "execution_count": 40,
     "metadata": {},
     "output_type": "execute_result"
    }
   ],
   "source": [
    "result_summary_df[\"sample_date\"] = pd.to_datetime(result_summary_df.sample_date_string)\n",
    "result_summary_df.set_index(\"sample_date\", inplace=True)\n",
    "result_summary_df.drop(columns=[\"sample_date_string\"], inplace=True)\n",
    "result_summary_df.sort_index(ascending=False, inplace=True)\n",
    "result_summary_df.head()"
   ]
  },
  {
   "cell_type": "code",
   "execution_count": 41,
   "metadata": {
    "collapsed": false,
    "execution": {
     "iopub.execute_input": "2020-10-08T20:22:46.511750Z",
     "iopub.status.busy": "2020-10-08T20:22:46.511054Z",
     "iopub.status.idle": "2020-10-08T20:22:46.513828Z",
     "shell.execute_reply": "2020-10-08T20:22:46.514367Z"
    },
    "papermill": {
     "duration": 0.086165,
     "end_time": "2020-10-08T20:22:46.514559",
     "exception": false,
     "start_time": "2020-10-08T20:22:46.428394",
     "status": "completed"
    },
    "pycharm": {
     "name": "#%%\n"
    },
    "tags": []
   },
   "outputs": [
    {
     "data": {
      "text/html": [
       "<div>\n",
       "<style scoped>\n",
       "    .dataframe tbody tr th:only-of-type {\n",
       "        vertical-align: middle;\n",
       "    }\n",
       "\n",
       "    .dataframe tbody tr th {\n",
       "        vertical-align: top;\n",
       "    }\n",
       "\n",
       "    .dataframe thead th {\n",
       "        text-align: right;\n",
       "    }\n",
       "</style>\n",
       "<table border=\"1\" class=\"dataframe\">\n",
       "  <thead>\n",
       "    <tr style=\"text-align: right;\">\n",
       "      <th></th>\n",
       "      <th>cumulative_cases</th>\n",
       "      <th>new_cases</th>\n",
       "      <th>covid_cases</th>\n",
       "      <th>shared_teks_by_generation_date</th>\n",
       "      <th>shared_teks_by_upload_date</th>\n",
       "      <th>shared_teks_uploaded_on_generation_date</th>\n",
       "      <th>shared_diagnoses</th>\n",
       "      <th>teks_per_shared_diagnosis</th>\n",
       "      <th>shared_diagnoses_per_covid_case</th>\n",
       "    </tr>\n",
       "    <tr>\n",
       "      <th>sample_date</th>\n",
       "      <th></th>\n",
       "      <th></th>\n",
       "      <th></th>\n",
       "      <th></th>\n",
       "      <th></th>\n",
       "      <th></th>\n",
       "      <th></th>\n",
       "      <th></th>\n",
       "      <th></th>\n",
       "    </tr>\n",
       "  </thead>\n",
       "  <tbody>\n",
       "    <tr>\n",
       "      <th>2020-10-08</th>\n",
       "      <td>845431</td>\n",
       "      <td>9530</td>\n",
       "      <td>9530</td>\n",
       "      <td>1</td>\n",
       "      <td>267</td>\n",
       "      <td>1</td>\n",
       "      <td>85</td>\n",
       "      <td>3.141176</td>\n",
       "      <td>0.008919</td>\n",
       "    </tr>\n",
       "    <tr>\n",
       "      <th>2020-10-07</th>\n",
       "      <td>835901</td>\n",
       "      <td>10491</td>\n",
       "      <td>9530</td>\n",
       "      <td>85</td>\n",
       "      <td>178</td>\n",
       "      <td>0</td>\n",
       "      <td>54</td>\n",
       "      <td>3.296296</td>\n",
       "      <td>0.005666</td>\n",
       "    </tr>\n",
       "    <tr>\n",
       "      <th>2020-10-06</th>\n",
       "      <td>825410</td>\n",
       "      <td>11998</td>\n",
       "      <td>11021</td>\n",
       "      <td>160</td>\n",
       "      <td>233</td>\n",
       "      <td>60</td>\n",
       "      <td>56</td>\n",
       "      <td>4.160714</td>\n",
       "      <td>0.005081</td>\n",
       "    </tr>\n",
       "    <tr>\n",
       "      <th>2020-10-05</th>\n",
       "      <td>813412</td>\n",
       "      <td>23480</td>\n",
       "      <td>9307</td>\n",
       "      <td>185</td>\n",
       "      <td>273</td>\n",
       "      <td>52</td>\n",
       "      <td>69</td>\n",
       "      <td>3.956522</td>\n",
       "      <td>0.007414</td>\n",
       "    </tr>\n",
       "    <tr>\n",
       "      <th>2020-10-04</th>\n",
       "      <td>789932</td>\n",
       "      <td>0</td>\n",
       "      <td>10493</td>\n",
       "      <td>250</td>\n",
       "      <td>331</td>\n",
       "      <td>76</td>\n",
       "      <td>78</td>\n",
       "      <td>4.243590</td>\n",
       "      <td>0.007434</td>\n",
       "    </tr>\n",
       "    <tr>\n",
       "      <th>2020-10-03</th>\n",
       "      <td>789932</td>\n",
       "      <td>0</td>\n",
       "      <td>10493</td>\n",
       "      <td>282</td>\n",
       "      <td>324</td>\n",
       "      <td>69</td>\n",
       "      <td>76</td>\n",
       "      <td>4.263158</td>\n",
       "      <td>0.007243</td>\n",
       "    </tr>\n",
       "    <tr>\n",
       "      <th>2020-10-02</th>\n",
       "      <td>789932</td>\n",
       "      <td>11325</td>\n",
       "      <td>10493</td>\n",
       "      <td>296</td>\n",
       "      <td>299</td>\n",
       "      <td>72</td>\n",
       "      <td>72</td>\n",
       "      <td>4.152778</td>\n",
       "      <td>0.006862</td>\n",
       "    </tr>\n",
       "    <tr>\n",
       "      <th>2020-10-01</th>\n",
       "      <td>778607</td>\n",
       "      <td>9419</td>\n",
       "      <td>10628</td>\n",
       "      <td>309</td>\n",
       "      <td>367</td>\n",
       "      <td>75</td>\n",
       "      <td>74</td>\n",
       "      <td>4.959459</td>\n",
       "      <td>0.006963</td>\n",
       "    </tr>\n",
       "    <tr>\n",
       "      <th>2020-09-30</th>\n",
       "      <td>769188</td>\n",
       "      <td>20922</td>\n",
       "      <td>10805</td>\n",
       "      <td>291</td>\n",
       "      <td>271</td>\n",
       "      <td>55</td>\n",
       "      <td>51</td>\n",
       "      <td>5.313725</td>\n",
       "      <td>0.004720</td>\n",
       "    </tr>\n",
       "    <tr>\n",
       "      <th>2020-09-29</th>\n",
       "      <td>748266</td>\n",
       "      <td>0</td>\n",
       "      <td>9428</td>\n",
       "      <td>263</td>\n",
       "      <td>178</td>\n",
       "      <td>32</td>\n",
       "      <td>44</td>\n",
       "      <td>4.045455</td>\n",
       "      <td>0.004667</td>\n",
       "    </tr>\n",
       "    <tr>\n",
       "      <th>2020-09-28</th>\n",
       "      <td>748266</td>\n",
       "      <td>31785</td>\n",
       "      <td>10971</td>\n",
       "      <td>267</td>\n",
       "      <td>211</td>\n",
       "      <td>44</td>\n",
       "      <td>54</td>\n",
       "      <td>3.907407</td>\n",
       "      <td>0.004922</td>\n",
       "    </tr>\n",
       "    <tr>\n",
       "      <th>2020-09-27</th>\n",
       "      <td>716481</td>\n",
       "      <td>0</td>\n",
       "      <td>10920</td>\n",
       "      <td>315</td>\n",
       "      <td>449</td>\n",
       "      <td>98</td>\n",
       "      <td>108</td>\n",
       "      <td>4.157407</td>\n",
       "      <td>0.009890</td>\n",
       "    </tr>\n",
       "    <tr>\n",
       "      <th>2020-09-26</th>\n",
       "      <td>716481</td>\n",
       "      <td>0</td>\n",
       "      <td>10920</td>\n",
       "      <td>339</td>\n",
       "      <td>448</td>\n",
       "      <td>79</td>\n",
       "      <td>110</td>\n",
       "      <td>4.072727</td>\n",
       "      <td>0.010073</td>\n",
       "    </tr>\n",
       "    <tr>\n",
       "      <th>2020-09-25</th>\n",
       "      <td>716481</td>\n",
       "      <td>12272</td>\n",
       "      <td>10920</td>\n",
       "      <td>284</td>\n",
       "      <td>306</td>\n",
       "      <td>14</td>\n",
       "      <td>86</td>\n",
       "      <td>3.558140</td>\n",
       "      <td>0.007875</td>\n",
       "    </tr>\n",
       "  </tbody>\n",
       "</table>\n",
       "</div>"
      ],
      "text/plain": [
       "             cumulative_cases  new_cases  covid_cases  \\\n",
       "sample_date                                             \n",
       "2020-10-08             845431       9530         9530   \n",
       "2020-10-07             835901      10491         9530   \n",
       "2020-10-06             825410      11998        11021   \n",
       "2020-10-05             813412      23480         9307   \n",
       "2020-10-04             789932          0        10493   \n",
       "2020-10-03             789932          0        10493   \n",
       "2020-10-02             789932      11325        10493   \n",
       "2020-10-01             778607       9419        10628   \n",
       "2020-09-30             769188      20922        10805   \n",
       "2020-09-29             748266          0         9428   \n",
       "2020-09-28             748266      31785        10971   \n",
       "2020-09-27             716481          0        10920   \n",
       "2020-09-26             716481          0        10920   \n",
       "2020-09-25             716481      12272        10920   \n",
       "\n",
       "             shared_teks_by_generation_date  shared_teks_by_upload_date  \\\n",
       "sample_date                                                               \n",
       "2020-10-08                                1                         267   \n",
       "2020-10-07                               85                         178   \n",
       "2020-10-06                              160                         233   \n",
       "2020-10-05                              185                         273   \n",
       "2020-10-04                              250                         331   \n",
       "2020-10-03                              282                         324   \n",
       "2020-10-02                              296                         299   \n",
       "2020-10-01                              309                         367   \n",
       "2020-09-30                              291                         271   \n",
       "2020-09-29                              263                         178   \n",
       "2020-09-28                              267                         211   \n",
       "2020-09-27                              315                         449   \n",
       "2020-09-26                              339                         448   \n",
       "2020-09-25                              284                         306   \n",
       "\n",
       "             shared_teks_uploaded_on_generation_date  shared_diagnoses  \\\n",
       "sample_date                                                              \n",
       "2020-10-08                                         1                85   \n",
       "2020-10-07                                         0                54   \n",
       "2020-10-06                                        60                56   \n",
       "2020-10-05                                        52                69   \n",
       "2020-10-04                                        76                78   \n",
       "2020-10-03                                        69                76   \n",
       "2020-10-02                                        72                72   \n",
       "2020-10-01                                        75                74   \n",
       "2020-09-30                                        55                51   \n",
       "2020-09-29                                        32                44   \n",
       "2020-09-28                                        44                54   \n",
       "2020-09-27                                        98               108   \n",
       "2020-09-26                                        79               110   \n",
       "2020-09-25                                        14                86   \n",
       "\n",
       "             teks_per_shared_diagnosis  shared_diagnoses_per_covid_case  \n",
       "sample_date                                                              \n",
       "2020-10-08                    3.141176                         0.008919  \n",
       "2020-10-07                    3.296296                         0.005666  \n",
       "2020-10-06                    4.160714                         0.005081  \n",
       "2020-10-05                    3.956522                         0.007414  \n",
       "2020-10-04                    4.243590                         0.007434  \n",
       "2020-10-03                    4.263158                         0.007243  \n",
       "2020-10-02                    4.152778                         0.006862  \n",
       "2020-10-01                    4.959459                         0.006963  \n",
       "2020-09-30                    5.313725                         0.004720  \n",
       "2020-09-29                    4.045455                         0.004667  \n",
       "2020-09-28                    3.907407                         0.004922  \n",
       "2020-09-27                    4.157407                         0.009890  \n",
       "2020-09-26                    4.072727                         0.010073  \n",
       "2020-09-25                    3.558140                         0.007875  "
      ]
     },
     "execution_count": 41,
     "metadata": {},
     "output_type": "execute_result"
    }
   ],
   "source": [
    "with pd.option_context(\"mode.use_inf_as_na\", True):\n",
    "    result_summary_df = result_summary_df.fillna(0).astype(int)\n",
    "    result_summary_df[\"teks_per_shared_diagnosis\"] = \\\n",
    "        (result_summary_df.shared_teks_by_upload_date / result_summary_df.shared_diagnoses).fillna(0)\n",
    "    result_summary_df[\"shared_diagnoses_per_covid_case\"] = \\\n",
    "        (result_summary_df.shared_diagnoses / result_summary_df.covid_cases).fillna(0)\n",
    "\n",
    "result_summary_df.head(daily_plot_days)"
   ]
  },
  {
   "cell_type": "code",
   "execution_count": 42,
   "metadata": {
    "collapsed": false,
    "execution": {
     "iopub.execute_input": "2020-10-08T20:22:46.656369Z",
     "iopub.status.busy": "2020-10-08T20:22:46.655678Z",
     "iopub.status.idle": "2020-10-08T20:22:46.673247Z",
     "shell.execute_reply": "2020-10-08T20:22:46.673832Z"
    },
    "papermill": {
     "duration": 0.094874,
     "end_time": "2020-10-08T20:22:46.674025",
     "exception": false,
     "start_time": "2020-10-08T20:22:46.579151",
     "status": "completed"
    },
    "pycharm": {
     "name": "#%%\n"
    },
    "tags": []
   },
   "outputs": [
    {
     "data": {
      "text/html": [
       "<div>\n",
       "<style scoped>\n",
       "    .dataframe tbody tr th:only-of-type {\n",
       "        vertical-align: middle;\n",
       "    }\n",
       "\n",
       "    .dataframe tbody tr th {\n",
       "        vertical-align: top;\n",
       "    }\n",
       "\n",
       "    .dataframe thead th {\n",
       "        text-align: right;\n",
       "    }\n",
       "</style>\n",
       "<table border=\"1\" class=\"dataframe\">\n",
       "  <thead>\n",
       "    <tr style=\"text-align: right;\">\n",
       "      <th></th>\n",
       "      <th>covid_cases</th>\n",
       "      <th>shared_teks_by_generation_date</th>\n",
       "      <th>shared_teks_by_upload_date</th>\n",
       "      <th>shared_diagnoses</th>\n",
       "      <th>teks_per_shared_diagnosis</th>\n",
       "      <th>shared_diagnoses_per_covid_case</th>\n",
       "    </tr>\n",
       "    <tr>\n",
       "      <th>sample_date</th>\n",
       "      <th></th>\n",
       "      <th></th>\n",
       "      <th></th>\n",
       "      <th></th>\n",
       "      <th></th>\n",
       "      <th></th>\n",
       "    </tr>\n",
       "  </thead>\n",
       "  <tbody>\n",
       "    <tr>\n",
       "      <th>2020-10-08</th>\n",
       "      <td>70867</td>\n",
       "      <td>1259</td>\n",
       "      <td>1905</td>\n",
       "      <td>490</td>\n",
       "      <td>3.887755</td>\n",
       "      <td>0.006914</td>\n",
       "    </tr>\n",
       "    <tr>\n",
       "      <th>2020-10-07</th>\n",
       "      <td>71965</td>\n",
       "      <td>1567</td>\n",
       "      <td>2005</td>\n",
       "      <td>479</td>\n",
       "      <td>4.185804</td>\n",
       "      <td>0.006656</td>\n",
       "    </tr>\n",
       "    <tr>\n",
       "      <th>2020-10-06</th>\n",
       "      <td>73240</td>\n",
       "      <td>1773</td>\n",
       "      <td>2098</td>\n",
       "      <td>476</td>\n",
       "      <td>4.407563</td>\n",
       "      <td>0.006499</td>\n",
       "    </tr>\n",
       "    <tr>\n",
       "      <th>2020-10-05</th>\n",
       "      <td>71647</td>\n",
       "      <td>1876</td>\n",
       "      <td>2043</td>\n",
       "      <td>464</td>\n",
       "      <td>4.403017</td>\n",
       "      <td>0.006476</td>\n",
       "    </tr>\n",
       "    <tr>\n",
       "      <th>2020-10-04</th>\n",
       "      <td>73311</td>\n",
       "      <td>1958</td>\n",
       "      <td>1981</td>\n",
       "      <td>449</td>\n",
       "      <td>4.412027</td>\n",
       "      <td>0.006125</td>\n",
       "    </tr>\n",
       "  </tbody>\n",
       "</table>\n",
       "</div>"
      ],
      "text/plain": [
       "             covid_cases  shared_teks_by_generation_date  \\\n",
       "sample_date                                                \n",
       "2020-10-08         70867                            1259   \n",
       "2020-10-07         71965                            1567   \n",
       "2020-10-06         73240                            1773   \n",
       "2020-10-05         71647                            1876   \n",
       "2020-10-04         73311                            1958   \n",
       "\n",
       "             shared_teks_by_upload_date  shared_diagnoses  \\\n",
       "sample_date                                                 \n",
       "2020-10-08                         1905               490   \n",
       "2020-10-07                         2005               479   \n",
       "2020-10-06                         2098               476   \n",
       "2020-10-05                         2043               464   \n",
       "2020-10-04                         1981               449   \n",
       "\n",
       "             teks_per_shared_diagnosis  shared_diagnoses_per_covid_case  \n",
       "sample_date                                                              \n",
       "2020-10-08                    3.887755                         0.006914  \n",
       "2020-10-07                    4.185804                         0.006656  \n",
       "2020-10-06                    4.407563                         0.006499  \n",
       "2020-10-05                    4.403017                         0.006476  \n",
       "2020-10-04                    4.412027                         0.006125  "
      ]
     },
     "execution_count": 42,
     "metadata": {},
     "output_type": "execute_result"
    }
   ],
   "source": [
    "weekly_result_summary_df = result_summary_df \\\n",
    "    .sort_index(ascending=True).fillna(0).rolling(7).agg({\n",
    "    \"covid_cases\": \"sum\",\n",
    "    \"shared_teks_by_generation_date\": \"sum\",\n",
    "    \"shared_teks_by_upload_date\": \"sum\",\n",
    "    \"shared_diagnoses\": \"sum\"\n",
    "}).sort_index(ascending=False)\n",
    "\n",
    "with pd.option_context(\"mode.use_inf_as_na\", True):\n",
    "    weekly_result_summary_df = weekly_result_summary_df.fillna(0).astype(int)\n",
    "    weekly_result_summary_df[\"teks_per_shared_diagnosis\"] = \\\n",
    "        (weekly_result_summary_df.shared_teks_by_upload_date / weekly_result_summary_df.shared_diagnoses).fillna(0)\n",
    "    weekly_result_summary_df[\"shared_diagnoses_per_covid_case\"] = \\\n",
    "        (weekly_result_summary_df.shared_diagnoses / weekly_result_summary_df.covid_cases).fillna(0)\n",
    "\n",
    "weekly_result_summary_df.head()"
   ]
  },
  {
   "cell_type": "code",
   "execution_count": 43,
   "metadata": {
    "execution": {
     "iopub.execute_input": "2020-10-08T20:22:46.801782Z",
     "iopub.status.busy": "2020-10-08T20:22:46.801178Z",
     "iopub.status.idle": "2020-10-08T20:22:46.804379Z",
     "shell.execute_reply": "2020-10-08T20:22:46.804906Z"
    },
    "papermill": {
     "duration": 0.069026,
     "end_time": "2020-10-08T20:22:46.805071",
     "exception": false,
     "start_time": "2020-10-08T20:22:46.736045",
     "status": "completed"
    },
    "pycharm": {
     "name": "#%%\n"
    },
    "tags": []
   },
   "outputs": [
    {
     "data": {
      "text/plain": [
       "{'covid_cases': 70867,\n",
       " 'shared_teks_by_generation_date': 1259,\n",
       " 'shared_teks_by_upload_date': 1905,\n",
       " 'shared_diagnoses': 490,\n",
       " 'teks_per_shared_diagnosis': 3.8877551020408165,\n",
       " 'shared_diagnoses_per_covid_case': 0.006914360703853698}"
      ]
     },
     "execution_count": 43,
     "metadata": {},
     "output_type": "execute_result"
    }
   ],
   "source": [
    "last_7_days_summary = weekly_result_summary_df.to_dict(orient=\"records\")[0]\n",
    "last_7_days_summary"
   ]
  },
  {
   "cell_type": "markdown",
   "metadata": {
    "collapsed": false,
    "papermill": {
     "duration": 0.063365,
     "end_time": "2020-10-08T20:22:46.929384",
     "exception": false,
     "start_time": "2020-10-08T20:22:46.866019",
     "status": "completed"
    },
    "pycharm": {
     "name": "#%% md\n"
    },
    "tags": []
   },
   "source": [
    "## Report Results"
   ]
  },
  {
   "cell_type": "code",
   "execution_count": 44,
   "metadata": {
    "collapsed": false,
    "execution": {
     "iopub.execute_input": "2020-10-08T20:22:47.058918Z",
     "iopub.status.busy": "2020-10-08T20:22:47.058293Z",
     "iopub.status.idle": "2020-10-08T20:22:47.059572Z",
     "shell.execute_reply": "2020-10-08T20:22:47.060118Z"
    },
    "papermill": {
     "duration": 0.070893,
     "end_time": "2020-10-08T20:22:47.060382",
     "exception": false,
     "start_time": "2020-10-08T20:22:46.989489",
     "status": "completed"
    },
    "pycharm": {
     "name": "#%%\n"
    },
    "tags": []
   },
   "outputs": [],
   "source": [
    "display_column_name_mapping = {\n",
    "    \"sample_date\": \"Sample\\u00A0Date\\u00A0(UTC)\",\n",
    "    \"datetime_utc\": \"Timestamp (UTC)\",\n",
    "    \"covid_cases\": \"COVID-19 Cases (7-day Rolling Average)\",\n",
    "    \"shared_teks_by_generation_date\": \"Shared TEKs by Generation Date\",\n",
    "    \"shared_teks_by_upload_date\": \"Shared TEKs by Upload Date\",\n",
    "    \"shared_diagnoses\": \"Shared Diagnoses (Estimation)\",\n",
    "    \"teks_per_shared_diagnosis\": \"TEKs Uploaded per Shared Diagnosis\",\n",
    "    \"shared_diagnoses_per_covid_case\": \"Usage Ratio (Fraction of Cases Which Shared Diagnosis)\",\n",
    "    \"shared_teks_uploaded_on_generation_date\": \"Shared TEKs Uploaded on Generation Date\",\n",
    "}"
   ]
  },
  {
   "cell_type": "code",
   "execution_count": 45,
   "metadata": {
    "execution": {
     "iopub.execute_input": "2020-10-08T20:22:47.193255Z",
     "iopub.status.busy": "2020-10-08T20:22:47.192644Z",
     "iopub.status.idle": "2020-10-08T20:22:47.194492Z",
     "shell.execute_reply": "2020-10-08T20:22:47.195015Z"
    },
    "papermill": {
     "duration": 0.067855,
     "end_time": "2020-10-08T20:22:47.195175",
     "exception": false,
     "start_time": "2020-10-08T20:22:47.127320",
     "status": "completed"
    },
    "pycharm": {
     "name": "#%%\n"
    },
    "tags": []
   },
   "outputs": [],
   "source": [
    "summary_columns = [\n",
    "    \"covid_cases\",\n",
    "    \"shared_teks_by_generation_date\",\n",
    "    \"shared_teks_by_upload_date\",\n",
    "    \"shared_teks_uploaded_on_generation_date\",\n",
    "    \"shared_diagnoses\",\n",
    "    \"teks_per_shared_diagnosis\",\n",
    "    \"shared_diagnoses_per_covid_case\",\n",
    "]"
   ]
  },
  {
   "cell_type": "markdown",
   "metadata": {
    "execution": {
     "iopub.execute_input": "2020-09-02T08:20:14.568088Z",
     "iopub.status.busy": "2020-09-02T08:20:14.567425Z",
     "iopub.status.idle": "2020-09-02T08:20:14.571422Z",
     "shell.execute_reply": "2020-09-02T08:20:14.571952Z"
    },
    "papermill": {
     "duration": 0.066213,
     "end_time": "2020-10-08T20:22:47.326233",
     "exception": false,
     "start_time": "2020-10-08T20:22:47.260020",
     "status": "completed"
    },
    "pycharm": {
     "name": "#%% md\n"
    },
    "tags": []
   },
   "source": [
    "### Daily Summary Table"
   ]
  },
  {
   "cell_type": "code",
   "execution_count": 46,
   "metadata": {
    "execution": {
     "iopub.execute_input": "2020-10-08T20:22:47.469369Z",
     "iopub.status.busy": "2020-10-08T20:22:47.468697Z",
     "iopub.status.idle": "2020-10-08T20:22:47.486022Z",
     "shell.execute_reply": "2020-10-08T20:22:47.486676Z"
    },
    "papermill": {
     "duration": 0.09046,
     "end_time": "2020-10-08T20:22:47.486870",
     "exception": false,
     "start_time": "2020-10-08T20:22:47.396410",
     "status": "completed"
    },
    "pycharm": {
     "name": "#%%\n"
    },
    "tags": []
   },
   "outputs": [
    {
     "data": {
      "text/html": [
       "<div>\n",
       "<style scoped>\n",
       "    .dataframe tbody tr th:only-of-type {\n",
       "        vertical-align: middle;\n",
       "    }\n",
       "\n",
       "    .dataframe tbody tr th {\n",
       "        vertical-align: top;\n",
       "    }\n",
       "\n",
       "    .dataframe thead th {\n",
       "        text-align: right;\n",
       "    }\n",
       "</style>\n",
       "<table border=\"1\" class=\"dataframe\">\n",
       "  <thead>\n",
       "    <tr style=\"text-align: right;\">\n",
       "      <th></th>\n",
       "      <th>COVID-19 Cases (7-day Rolling Average)</th>\n",
       "      <th>Shared TEKs by Generation Date</th>\n",
       "      <th>Shared TEKs by Upload Date</th>\n",
       "      <th>Shared TEKs Uploaded on Generation Date</th>\n",
       "      <th>Shared Diagnoses (Estimation)</th>\n",
       "      <th>TEKs Uploaded per Shared Diagnosis</th>\n",
       "      <th>Usage Ratio (Fraction of Cases Which Shared Diagnosis)</th>\n",
       "    </tr>\n",
       "    <tr>\n",
       "      <th>Sample Date (UTC)</th>\n",
       "      <th></th>\n",
       "      <th></th>\n",
       "      <th></th>\n",
       "      <th></th>\n",
       "      <th></th>\n",
       "      <th></th>\n",
       "      <th></th>\n",
       "    </tr>\n",
       "  </thead>\n",
       "  <tbody>\n",
       "    <tr>\n",
       "      <th>2020-10-08</th>\n",
       "      <td>9530</td>\n",
       "      <td>1</td>\n",
       "      <td>267</td>\n",
       "      <td>1</td>\n",
       "      <td>85</td>\n",
       "      <td>3.141176</td>\n",
       "      <td>0.008919</td>\n",
       "    </tr>\n",
       "    <tr>\n",
       "      <th>2020-10-07</th>\n",
       "      <td>9530</td>\n",
       "      <td>85</td>\n",
       "      <td>178</td>\n",
       "      <td>0</td>\n",
       "      <td>54</td>\n",
       "      <td>3.296296</td>\n",
       "      <td>0.005666</td>\n",
       "    </tr>\n",
       "    <tr>\n",
       "      <th>2020-10-06</th>\n",
       "      <td>11021</td>\n",
       "      <td>160</td>\n",
       "      <td>233</td>\n",
       "      <td>60</td>\n",
       "      <td>56</td>\n",
       "      <td>4.160714</td>\n",
       "      <td>0.005081</td>\n",
       "    </tr>\n",
       "    <tr>\n",
       "      <th>2020-10-05</th>\n",
       "      <td>9307</td>\n",
       "      <td>185</td>\n",
       "      <td>273</td>\n",
       "      <td>52</td>\n",
       "      <td>69</td>\n",
       "      <td>3.956522</td>\n",
       "      <td>0.007414</td>\n",
       "    </tr>\n",
       "    <tr>\n",
       "      <th>2020-10-04</th>\n",
       "      <td>10493</td>\n",
       "      <td>250</td>\n",
       "      <td>331</td>\n",
       "      <td>76</td>\n",
       "      <td>78</td>\n",
       "      <td>4.243590</td>\n",
       "      <td>0.007434</td>\n",
       "    </tr>\n",
       "    <tr>\n",
       "      <th>2020-10-03</th>\n",
       "      <td>10493</td>\n",
       "      <td>282</td>\n",
       "      <td>324</td>\n",
       "      <td>69</td>\n",
       "      <td>76</td>\n",
       "      <td>4.263158</td>\n",
       "      <td>0.007243</td>\n",
       "    </tr>\n",
       "    <tr>\n",
       "      <th>2020-10-02</th>\n",
       "      <td>10493</td>\n",
       "      <td>296</td>\n",
       "      <td>299</td>\n",
       "      <td>72</td>\n",
       "      <td>72</td>\n",
       "      <td>4.152778</td>\n",
       "      <td>0.006862</td>\n",
       "    </tr>\n",
       "    <tr>\n",
       "      <th>2020-10-01</th>\n",
       "      <td>10628</td>\n",
       "      <td>309</td>\n",
       "      <td>367</td>\n",
       "      <td>75</td>\n",
       "      <td>74</td>\n",
       "      <td>4.959459</td>\n",
       "      <td>0.006963</td>\n",
       "    </tr>\n",
       "    <tr>\n",
       "      <th>2020-09-30</th>\n",
       "      <td>10805</td>\n",
       "      <td>291</td>\n",
       "      <td>271</td>\n",
       "      <td>55</td>\n",
       "      <td>51</td>\n",
       "      <td>5.313725</td>\n",
       "      <td>0.004720</td>\n",
       "    </tr>\n",
       "    <tr>\n",
       "      <th>2020-09-29</th>\n",
       "      <td>9428</td>\n",
       "      <td>263</td>\n",
       "      <td>178</td>\n",
       "      <td>32</td>\n",
       "      <td>44</td>\n",
       "      <td>4.045455</td>\n",
       "      <td>0.004667</td>\n",
       "    </tr>\n",
       "    <tr>\n",
       "      <th>2020-09-28</th>\n",
       "      <td>10971</td>\n",
       "      <td>267</td>\n",
       "      <td>211</td>\n",
       "      <td>44</td>\n",
       "      <td>54</td>\n",
       "      <td>3.907407</td>\n",
       "      <td>0.004922</td>\n",
       "    </tr>\n",
       "    <tr>\n",
       "      <th>2020-09-27</th>\n",
       "      <td>10920</td>\n",
       "      <td>315</td>\n",
       "      <td>449</td>\n",
       "      <td>98</td>\n",
       "      <td>108</td>\n",
       "      <td>4.157407</td>\n",
       "      <td>0.009890</td>\n",
       "    </tr>\n",
       "    <tr>\n",
       "      <th>2020-09-26</th>\n",
       "      <td>10920</td>\n",
       "      <td>339</td>\n",
       "      <td>448</td>\n",
       "      <td>79</td>\n",
       "      <td>110</td>\n",
       "      <td>4.072727</td>\n",
       "      <td>0.010073</td>\n",
       "    </tr>\n",
       "    <tr>\n",
       "      <th>2020-09-25</th>\n",
       "      <td>10920</td>\n",
       "      <td>284</td>\n",
       "      <td>306</td>\n",
       "      <td>14</td>\n",
       "      <td>86</td>\n",
       "      <td>3.558140</td>\n",
       "      <td>0.007875</td>\n",
       "    </tr>\n",
       "    <tr>\n",
       "      <th>2020-09-24</th>\n",
       "      <td>11223</td>\n",
       "      <td>286</td>\n",
       "      <td>289</td>\n",
       "      <td>17</td>\n",
       "      <td>89</td>\n",
       "      <td>3.247191</td>\n",
       "      <td>0.007930</td>\n",
       "    </tr>\n",
       "    <tr>\n",
       "      <th>2020-09-23</th>\n",
       "      <td>11314</td>\n",
       "      <td>296</td>\n",
       "      <td>267</td>\n",
       "      <td>4</td>\n",
       "      <td>70</td>\n",
       "      <td>3.814286</td>\n",
       "      <td>0.006187</td>\n",
       "    </tr>\n",
       "    <tr>\n",
       "      <th>2020-09-22</th>\n",
       "      <td>11300</td>\n",
       "      <td>282</td>\n",
       "      <td>148</td>\n",
       "      <td>0</td>\n",
       "      <td>55</td>\n",
       "      <td>2.690909</td>\n",
       "      <td>0.004867</td>\n",
       "    </tr>\n",
       "    <tr>\n",
       "      <th>2020-09-21</th>\n",
       "      <td>11105</td>\n",
       "      <td>268</td>\n",
       "      <td>190</td>\n",
       "      <td>0</td>\n",
       "      <td>45</td>\n",
       "      <td>4.222222</td>\n",
       "      <td>0.004052</td>\n",
       "    </tr>\n",
       "    <tr>\n",
       "      <th>2020-09-20</th>\n",
       "      <td>10531</td>\n",
       "      <td>218</td>\n",
       "      <td>116</td>\n",
       "      <td>0</td>\n",
       "      <td>45</td>\n",
       "      <td>2.577778</td>\n",
       "      <td>0.004273</td>\n",
       "    </tr>\n",
       "    <tr>\n",
       "      <th>2020-09-19</th>\n",
       "      <td>10531</td>\n",
       "      <td>203</td>\n",
       "      <td>90</td>\n",
       "      <td>2</td>\n",
       "      <td>39</td>\n",
       "      <td>2.307692</td>\n",
       "      <td>0.003703</td>\n",
       "    </tr>\n",
       "    <tr>\n",
       "      <th>2020-09-18</th>\n",
       "      <td>10531</td>\n",
       "      <td>165</td>\n",
       "      <td>138</td>\n",
       "      <td>1</td>\n",
       "      <td>52</td>\n",
       "      <td>2.653846</td>\n",
       "      <td>0.004938</td>\n",
       "    </tr>\n",
       "  </tbody>\n",
       "</table>\n",
       "</div>"
      ],
      "text/plain": [
       "                   COVID-19 Cases (7-day Rolling Average)  \\\n",
       "Sample Date (UTC)                                           \n",
       "2020-10-08                                           9530   \n",
       "2020-10-07                                           9530   \n",
       "2020-10-06                                          11021   \n",
       "2020-10-05                                           9307   \n",
       "2020-10-04                                          10493   \n",
       "2020-10-03                                          10493   \n",
       "2020-10-02                                          10493   \n",
       "2020-10-01                                          10628   \n",
       "2020-09-30                                          10805   \n",
       "2020-09-29                                           9428   \n",
       "2020-09-28                                          10971   \n",
       "2020-09-27                                          10920   \n",
       "2020-09-26                                          10920   \n",
       "2020-09-25                                          10920   \n",
       "2020-09-24                                          11223   \n",
       "2020-09-23                                          11314   \n",
       "2020-09-22                                          11300   \n",
       "2020-09-21                                          11105   \n",
       "2020-09-20                                          10531   \n",
       "2020-09-19                                          10531   \n",
       "2020-09-18                                          10531   \n",
       "\n",
       "                   Shared TEKs by Generation Date  Shared TEKs by Upload Date  \\\n",
       "Sample Date (UTC)                                                               \n",
       "2020-10-08                                      1                         267   \n",
       "2020-10-07                                     85                         178   \n",
       "2020-10-06                                    160                         233   \n",
       "2020-10-05                                    185                         273   \n",
       "2020-10-04                                    250                         331   \n",
       "2020-10-03                                    282                         324   \n",
       "2020-10-02                                    296                         299   \n",
       "2020-10-01                                    309                         367   \n",
       "2020-09-30                                    291                         271   \n",
       "2020-09-29                                    263                         178   \n",
       "2020-09-28                                    267                         211   \n",
       "2020-09-27                                    315                         449   \n",
       "2020-09-26                                    339                         448   \n",
       "2020-09-25                                    284                         306   \n",
       "2020-09-24                                    286                         289   \n",
       "2020-09-23                                    296                         267   \n",
       "2020-09-22                                    282                         148   \n",
       "2020-09-21                                    268                         190   \n",
       "2020-09-20                                    218                         116   \n",
       "2020-09-19                                    203                          90   \n",
       "2020-09-18                                    165                         138   \n",
       "\n",
       "                   Shared TEKs Uploaded on Generation Date  \\\n",
       "Sample Date (UTC)                                            \n",
       "2020-10-08                                               1   \n",
       "2020-10-07                                               0   \n",
       "2020-10-06                                              60   \n",
       "2020-10-05                                              52   \n",
       "2020-10-04                                              76   \n",
       "2020-10-03                                              69   \n",
       "2020-10-02                                              72   \n",
       "2020-10-01                                              75   \n",
       "2020-09-30                                              55   \n",
       "2020-09-29                                              32   \n",
       "2020-09-28                                              44   \n",
       "2020-09-27                                              98   \n",
       "2020-09-26                                              79   \n",
       "2020-09-25                                              14   \n",
       "2020-09-24                                              17   \n",
       "2020-09-23                                               4   \n",
       "2020-09-22                                               0   \n",
       "2020-09-21                                               0   \n",
       "2020-09-20                                               0   \n",
       "2020-09-19                                               2   \n",
       "2020-09-18                                               1   \n",
       "\n",
       "                   Shared Diagnoses (Estimation)  \\\n",
       "Sample Date (UTC)                                  \n",
       "2020-10-08                                    85   \n",
       "2020-10-07                                    54   \n",
       "2020-10-06                                    56   \n",
       "2020-10-05                                    69   \n",
       "2020-10-04                                    78   \n",
       "2020-10-03                                    76   \n",
       "2020-10-02                                    72   \n",
       "2020-10-01                                    74   \n",
       "2020-09-30                                    51   \n",
       "2020-09-29                                    44   \n",
       "2020-09-28                                    54   \n",
       "2020-09-27                                   108   \n",
       "2020-09-26                                   110   \n",
       "2020-09-25                                    86   \n",
       "2020-09-24                                    89   \n",
       "2020-09-23                                    70   \n",
       "2020-09-22                                    55   \n",
       "2020-09-21                                    45   \n",
       "2020-09-20                                    45   \n",
       "2020-09-19                                    39   \n",
       "2020-09-18                                    52   \n",
       "\n",
       "                   TEKs Uploaded per Shared Diagnosis  \\\n",
       "Sample Date (UTC)                                       \n",
       "2020-10-08                                   3.141176   \n",
       "2020-10-07                                   3.296296   \n",
       "2020-10-06                                   4.160714   \n",
       "2020-10-05                                   3.956522   \n",
       "2020-10-04                                   4.243590   \n",
       "2020-10-03                                   4.263158   \n",
       "2020-10-02                                   4.152778   \n",
       "2020-10-01                                   4.959459   \n",
       "2020-09-30                                   5.313725   \n",
       "2020-09-29                                   4.045455   \n",
       "2020-09-28                                   3.907407   \n",
       "2020-09-27                                   4.157407   \n",
       "2020-09-26                                   4.072727   \n",
       "2020-09-25                                   3.558140   \n",
       "2020-09-24                                   3.247191   \n",
       "2020-09-23                                   3.814286   \n",
       "2020-09-22                                   2.690909   \n",
       "2020-09-21                                   4.222222   \n",
       "2020-09-20                                   2.577778   \n",
       "2020-09-19                                   2.307692   \n",
       "2020-09-18                                   2.653846   \n",
       "\n",
       "                   Usage Ratio (Fraction of Cases Which Shared Diagnosis)  \n",
       "Sample Date (UTC)                                                          \n",
       "2020-10-08                                                  0.008919       \n",
       "2020-10-07                                                  0.005666       \n",
       "2020-10-06                                                  0.005081       \n",
       "2020-10-05                                                  0.007414       \n",
       "2020-10-04                                                  0.007434       \n",
       "2020-10-03                                                  0.007243       \n",
       "2020-10-02                                                  0.006862       \n",
       "2020-10-01                                                  0.006963       \n",
       "2020-09-30                                                  0.004720       \n",
       "2020-09-29                                                  0.004667       \n",
       "2020-09-28                                                  0.004922       \n",
       "2020-09-27                                                  0.009890       \n",
       "2020-09-26                                                  0.010073       \n",
       "2020-09-25                                                  0.007875       \n",
       "2020-09-24                                                  0.007930       \n",
       "2020-09-23                                                  0.006187       \n",
       "2020-09-22                                                  0.004867       \n",
       "2020-09-21                                                  0.004052       \n",
       "2020-09-20                                                  0.004273       \n",
       "2020-09-19                                                  0.003703       \n",
       "2020-09-18                                                  0.004938       "
      ]
     },
     "execution_count": 46,
     "metadata": {},
     "output_type": "execute_result"
    }
   ],
   "source": [
    "result_summary_df_ = result_summary_df.copy()\n",
    "result_summary_df = result_summary_df[summary_columns]\n",
    "result_summary_with_display_names_df = result_summary_df \\\n",
    "    .rename_axis(index=display_column_name_mapping) \\\n",
    "    .rename(columns=display_column_name_mapping)\n",
    "result_summary_with_display_names_df"
   ]
  },
  {
   "cell_type": "markdown",
   "metadata": {
    "execution": {
     "iopub.execute_input": "2020-09-02T08:20:14.726751Z",
     "iopub.status.busy": "2020-09-02T08:20:14.726143Z",
     "iopub.status.idle": "2020-09-02T08:20:16.115081Z",
     "shell.execute_reply": "2020-09-02T08:20:16.115565Z"
    },
    "papermill": {
     "duration": 0.06259,
     "end_time": "2020-10-08T20:22:47.619132",
     "exception": false,
     "start_time": "2020-10-08T20:22:47.556542",
     "status": "completed"
    },
    "pycharm": {
     "name": "#%% md\n"
    },
    "scrolled": false,
    "tags": []
   },
   "source": [
    "### Daily Summary Plots"
   ]
  },
  {
   "cell_type": "code",
   "execution_count": 47,
   "metadata": {
    "execution": {
     "iopub.execute_input": "2020-10-08T20:22:47.765164Z",
     "iopub.status.busy": "2020-10-08T20:22:47.764514Z",
     "iopub.status.idle": "2020-10-08T20:22:49.322799Z",
     "shell.execute_reply": "2020-10-08T20:22:49.323292Z"
    },
    "papermill": {
     "duration": 1.642374,
     "end_time": "2020-10-08T20:22:49.323471",
     "exception": false,
     "start_time": "2020-10-08T20:22:47.681097",
     "status": "completed"
    },
    "pycharm": {
     "name": "#%%\n"
    },
    "tags": []
   },
   "outputs": [
    {
     "data": {
      "image/png": "[encoded data removed]",
      "text/plain": [
       "<Figure size 1080x1584 with 7 Axes>"
      ]
     },
     "metadata": {},
     "output_type": "display_data"
    }
   ],
   "source": [
    "result_plot_summary_df = result_summary_df.head(daily_plot_days)[summary_columns] \\\n",
    "    .rename_axis(index=display_column_name_mapping) \\\n",
    "    .rename(columns=display_column_name_mapping)\n",
    "summary_ax_list = result_plot_summary_df.sort_index(ascending=True).plot.bar(\n",
    "    title=f\"Daily Summary\",\n",
    "    rot=45, subplots=True, figsize=(15, 22), legend=False)\n",
    "ax_ = summary_ax_list[-1]\n",
    "ax_.get_figure().tight_layout()\n",
    "ax_.get_figure().subplots_adjust(top=0.95)\n",
    "ax_.yaxis.set_major_formatter(matplotlib.ticker.PercentFormatter(1.0))\n",
    "_ = ax_.set_xticklabels(sorted(result_plot_summary_df.index.strftime(\"%Y-%m-%d\").tolist()))"
   ]
  },
  {
   "cell_type": "markdown",
   "metadata": {
    "execution": {
     "iopub.execute_input": "2020-09-02T08:20:16.278300Z",
     "iopub.status.busy": "2020-09-02T08:20:16.277679Z",
     "iopub.status.idle": "2020-09-02T08:20:16.821909Z",
     "shell.execute_reply": "2020-09-02T08:20:16.822577Z"
    },
    "papermill": {
     "duration": 0.065367,
     "end_time": "2020-10-08T20:22:49.453806",
     "exception": false,
     "start_time": "2020-10-08T20:22:49.388439",
     "status": "completed"
    },
    "pycharm": {
     "name": "#%% md\n"
    },
    "tags": []
   },
   "source": [
    "### Hourly Summary Plots "
   ]
  },
  {
   "cell_type": "code",
   "execution_count": 48,
   "metadata": {
    "execution": {
     "iopub.execute_input": "2020-10-08T20:22:49.598676Z",
     "iopub.status.busy": "2020-10-08T20:22:49.597973Z",
     "iopub.status.idle": "2020-10-08T20:22:50.238118Z",
     "shell.execute_reply": "2020-10-08T20:22:50.238828Z"
    },
    "papermill": {
     "duration": 0.717689,
     "end_time": "2020-10-08T20:22:50.239016",
     "exception": false,
     "start_time": "2020-10-08T20:22:49.521327",
     "status": "completed"
    },
    "pycharm": {
     "name": "#%%\n"
    },
    "tags": []
   },
   "outputs": [
    {
     "data": {
      "image/png": "[encoded data removed]",
      "text/plain": [
       "<Figure size 1080x432 with 2 Axes>"
      ]
     },
     "metadata": {},
     "output_type": "display_data"
    }
   ],
   "source": [
    "hourly_summary_ax_list = hourly_summary_df \\\n",
    "    .rename_axis(index=display_column_name_mapping) \\\n",
    "    .rename(columns=display_column_name_mapping) \\\n",
    "    .plot.bar(\n",
    "        title=f\"Last 24h Summary\",\n",
    "        rot=45, subplots=True, legend=False)\n",
    "ax_ = hourly_summary_ax_list[-1]\n",
    "ax_.get_figure().tight_layout()\n",
    "ax_.get_figure().subplots_adjust(top=0.9)\n",
    "_ = ax_.set_xticklabels(sorted(hourly_summary_df.index.strftime(\"%Y-%m-%d@%H\").tolist()))"
   ]
  },
  {
   "cell_type": "markdown",
   "metadata": {
    "execution": {
     "iopub.execute_input": "2020-09-02T08:20:16.981187Z",
     "iopub.status.busy": "2020-09-02T08:20:16.980584Z",
     "iopub.status.idle": "2020-09-02T08:20:20.068070Z",
     "shell.execute_reply": "2020-09-02T08:20:20.068598Z"
    },
    "papermill": {
     "duration": 0.068453,
     "end_time": "2020-10-08T20:22:50.372880",
     "exception": false,
     "start_time": "2020-10-08T20:22:50.304427",
     "status": "completed"
    },
    "pycharm": {
     "name": "#%% md\n"
    },
    "tags": []
   },
   "source": [
    "### Publish Results"
   ]
  },
  {
   "cell_type": "code",
   "execution_count": 49,
   "metadata": {
    "collapsed": false,
    "execution": {
     "iopub.execute_input": "2020-10-08T20:22:50.513973Z",
     "iopub.status.busy": "2020-10-08T20:22:50.513361Z",
     "iopub.status.idle": "2020-10-08T20:22:50.517714Z",
     "shell.execute_reply": "2020-10-08T20:22:50.517109Z"
    },
    "papermill": {
     "duration": 0.079514,
     "end_time": "2020-10-08T20:22:50.517869",
     "exception": false,
     "start_time": "2020-10-08T20:22:50.438355",
     "status": "completed"
    },
    "pycharm": {
     "name": "#%%\n"
    },
    "tags": []
   },
   "outputs": [],
   "source": [
    "def get_temporary_image_path() -> str:\n",
    "    return os.path.join(tempfile.gettempdir(), str(uuid.uuid4()) + \".png\")\n",
    "\n",
    "def save_temporary_plot_image(ax):\n",
    "    if isinstance(ax, np.ndarray):\n",
    "        ax = ax[0]\n",
    "    media_path = get_temporary_image_path()\n",
    "    ax.get_figure().savefig(media_path)\n",
    "    return media_path\n",
    "\n",
    "def save_temporary_dataframe_image(df):\n",
    "    import dataframe_image as dfi\n",
    "    media_path = get_temporary_image_path()\n",
    "    dfi.export(df, media_path)\n",
    "    return media_path"
   ]
  },
  {
   "cell_type": "code",
   "execution_count": 50,
   "metadata": {
    "collapsed": false,
    "execution": {
     "iopub.execute_input": "2020-10-08T20:22:50.683538Z",
     "iopub.status.busy": "2020-10-08T20:22:50.682884Z",
     "iopub.status.idle": "2020-10-08T20:22:50.686771Z",
     "shell.execute_reply": "2020-10-08T20:22:50.687236Z"
    },
    "papermill": {
     "duration": 0.095011,
     "end_time": "2020-10-08T20:22:50.687420",
     "exception": false,
     "start_time": "2020-10-08T20:22:50.592409",
     "status": "completed"
    },
    "pycharm": {
     "name": "#%%\n"
    },
    "tags": []
   },
   "outputs": [],
   "source": [
    "github_repository = os.environ.get(\"GITHUB_REPOSITORY\")\n",
    "if github_repository is None:\n",
    "    github_repository = \"pvieito/Radar-STATS\"\n",
    "\n",
    "github_project_base_url = \"https://github.com/\" + github_repository\n",
    "\n",
    "daily_summary_table_html = result_summary_with_display_names_df \\\n",
    "    .head(daily_plot_days) \\\n",
    "    .rename_axis(index=display_column_name_mapping) \\\n",
    "    .rename(columns=display_column_name_mapping) \\\n",
    "    .to_html(\n",
    "        formatters={\n",
    "            display_column_name_mapping[\"teks_per_shared_diagnosis\"]: lambda x: f\"{x:.2f}\",\n",
    "            display_column_name_mapping[\"shared_diagnoses_per_covid_case\"]: lambda x: f\"{x:.2%}\",\n",
    "        })\n",
    "\n",
    "extraction_date_result_summary_df = \\\n",
    "    result_summary_df[result_summary_df.index == extraction_date]\n",
    "extraction_date_result_hourly_summary_df = \\\n",
    "    hourly_summary_df[hourly_summary_df.extraction_date_with_hour == extraction_date_with_hour]\n",
    "\n",
    "covid_cases = \\\n",
    "    extraction_date_result_summary_df.covid_cases.sum()\n",
    "shared_teks_by_generation_date = \\\n",
    "    extraction_date_result_summary_df.shared_teks_by_generation_date.sum()\n",
    "shared_teks_by_upload_date = \\\n",
    "    extraction_date_result_summary_df.shared_teks_by_upload_date.sum()\n",
    "shared_diagnoses = \\\n",
    "    extraction_date_result_summary_df.shared_diagnoses.sum()\n",
    "teks_per_shared_diagnosis = \\\n",
    "    extraction_date_result_summary_df.teks_per_shared_diagnosis.sum()\n",
    "shared_diagnoses_per_covid_case = \\\n",
    "    extraction_date_result_summary_df.shared_diagnoses_per_covid_case.sum()\n",
    "\n",
    "shared_teks_by_upload_date_last_hour = \\\n",
    "    extraction_date_result_hourly_summary_df.shared_teks_by_upload_date.sum().astype(int)\n",
    "shared_diagnoses_last_hour = \\\n",
    "    extraction_date_result_hourly_summary_df.shared_diagnoses.sum().astype(int)"
   ]
  },
  {
   "cell_type": "code",
   "execution_count": 51,
   "metadata": {
    "execution": {
     "iopub.execute_input": "2020-10-08T20:22:51.005865Z",
     "iopub.status.busy": "2020-10-08T20:22:51.003818Z",
     "iopub.status.idle": "2020-10-08T20:22:55.946524Z",
     "shell.execute_reply": "2020-10-08T20:22:55.945946Z"
    },
    "papermill": {
     "duration": 5.191174,
     "end_time": "2020-10-08T20:22:55.946691",
     "exception": false,
     "start_time": "2020-10-08T20:22:50.755517",
     "status": "completed"
    },
    "pycharm": {
     "name": "#%%\n"
    },
    "tags": []
   },
   "outputs": [],
   "source": [
    "summary_plots_image_path = save_temporary_plot_image(\n",
    "    ax=summary_ax_list)\n",
    "summary_table_image_path = save_temporary_dataframe_image(\n",
    "    df=result_summary_with_display_names_df)\n",
    "hourly_summary_plots_image_path = save_temporary_plot_image(\n",
    "    ax=hourly_summary_ax_list)\n",
    "multi_region_summary_table_image_path = save_temporary_dataframe_image(\n",
    "    df=multi_region_summary_df)"
   ]
  },
  {
   "cell_type": "markdown",
   "metadata": {
    "execution": {
     "iopub.execute_input": "2020-09-02T08:20:20.895901Z",
     "iopub.status.busy": "2020-09-02T08:20:20.895301Z",
     "iopub.status.idle": "2020-09-02T08:20:20.942286Z",
     "shell.execute_reply": "2020-09-02T08:20:20.942834Z"
    },
    "papermill": {
     "duration": 0.071074,
     "end_time": "2020-10-08T20:22:56.091833",
     "exception": false,
     "start_time": "2020-10-08T20:22:56.020759",
     "status": "completed"
    },
    "pycharm": {
     "name": "#%% md\n"
    },
    "tags": []
   },
   "source": [
    "### Save Results"
   ]
  },
  {
   "cell_type": "code",
   "execution_count": 52,
   "metadata": {
    "collapsed": false,
    "execution": {
     "iopub.execute_input": "2020-10-08T20:22:56.228389Z",
     "iopub.status.busy": "2020-10-08T20:22:56.227781Z",
     "iopub.status.idle": "2020-10-08T20:22:56.242944Z",
     "shell.execute_reply": "2020-10-08T20:22:56.243526Z"
    },
    "papermill": {
     "duration": 0.086541,
     "end_time": "2020-10-08T20:22:56.243707",
     "exception": false,
     "start_time": "2020-10-08T20:22:56.157166",
     "status": "completed"
    },
    "pycharm": {
     "name": "#%%\n"
    },
    "tags": []
   },
   "outputs": [],
   "source": [
    "report_resources_path_prefix = \"Data/Resources/Current/RadarCOVID-Report-\"\n",
    "result_summary_df.to_csv(report_resources_path_prefix + \"Summary-Table.csv\")\n",
    "result_summary_df.to_html(report_resources_path_prefix + \"Summary-Table.html\")\n",
    "hourly_summary_df.to_csv(report_resources_path_prefix + \"Hourly-Summary-Table.csv\")\n",
    "multi_region_summary_df.to_csv(report_resources_path_prefix + \"Multi-Region-Summary-Table.csv\")\n",
    "_ = shutil.copyfile(summary_plots_image_path, report_resources_path_prefix + \"Summary-Plots.png\")\n",
    "_ = shutil.copyfile(summary_table_image_path, report_resources_path_prefix + \"Summary-Table.png\")\n",
    "_ = shutil.copyfile(hourly_summary_plots_image_path, report_resources_path_prefix + \"Hourly-Summary-Plots.png\")\n",
    "_ = shutil.copyfile(multi_region_summary_table_image_path, report_resources_path_prefix + \"Multi-Region-Summary-Table.png\")"
   ]
  },
  {
   "cell_type": "markdown",
   "metadata": {
    "collapsed": false,
    "papermill": {
     "duration": 0.068253,
     "end_time": "2020-10-08T20:22:56.377116",
     "exception": false,
     "start_time": "2020-10-08T20:22:56.308863",
     "status": "completed"
    },
    "pycharm": {
     "name": "#%% md\n"
    },
    "tags": []
   },
   "source": [
    "### Publish Results as JSON"
   ]
  },
  {
   "cell_type": "code",
   "execution_count": 53,
   "metadata": {
    "collapsed": false,
    "execution": {
     "iopub.execute_input": "2020-10-08T20:22:56.527535Z",
     "iopub.status.busy": "2020-10-08T20:22:56.526852Z",
     "iopub.status.idle": "2020-10-08T20:22:56.530025Z",
     "shell.execute_reply": "2020-10-08T20:22:56.529525Z"
    },
    "papermill": {
     "duration": 0.086672,
     "end_time": "2020-10-08T20:22:56.530191",
     "exception": false,
     "start_time": "2020-10-08T20:22:56.443519",
     "status": "completed"
    },
    "pycharm": {
     "name": "#%%\n"
    },
    "tags": []
   },
   "outputs": [],
   "source": [
    "summary_results_api_df = result_summary_df.reset_index()\n",
    "summary_results_api_df[\"sample_date_string\"] = \\\n",
    "    summary_results_api_df[\"sample_date\"].dt.strftime(\"%Y-%m-%d\")\n",
    "\n",
    "summary_results = dict(\n",
    "    extraction_datetime=extraction_datetime,\n",
    "    extraction_date=extraction_date,\n",
    "    extraction_date_with_hour=extraction_date_with_hour,\n",
    "    last_hour=dict(\n",
    "        shared_teks_by_upload_date=shared_teks_by_upload_date_last_hour,\n",
    "        shared_diagnoses=shared_diagnoses_last_hour,\n",
    "    ),\n",
    "    today=dict(\n",
    "        covid_cases=covid_cases,\n",
    "        shared_teks_by_generation_date=shared_teks_by_generation_date,\n",
    "        shared_teks_by_upload_date=shared_teks_by_upload_date,\n",
    "        shared_diagnoses=shared_diagnoses,\n",
    "        teks_per_shared_diagnosis=teks_per_shared_diagnosis,\n",
    "        shared_diagnoses_per_covid_case=shared_diagnoses_per_covid_case,\n",
    "    ),\n",
    "    last_7_days=last_7_days_summary,\n",
    "    daily_results=summary_results_api_df.to_dict(orient=\"records\"))\n",
    "summary_results = \\\n",
    "    json.loads(pd.Series([summary_results]).to_json(orient=\"records\"))[0]\n",
    "\n",
    "with open(report_resources_path_prefix + \"Summary-Results.json\", \"w\") as f:\n",
    "    json.dump(summary_results, f, indent=4)"
   ]
  },
  {
   "cell_type": "markdown",
   "metadata": {
    "collapsed": false,
    "papermill": {
     "duration": 0.069099,
     "end_time": "2020-10-08T20:22:56.664898",
     "exception": false,
     "start_time": "2020-10-08T20:22:56.595799",
     "status": "completed"
    },
    "pycharm": {
     "name": "#%% md\n"
    },
    "tags": []
   },
   "source": [
    "### Publish on README"
   ]
  },
  {
   "cell_type": "code",
   "execution_count": 54,
   "metadata": {
    "collapsed": false,
    "execution": {
     "iopub.execute_input": "2020-10-08T20:22:56.801268Z",
     "iopub.status.busy": "2020-10-08T20:22:56.800635Z",
     "iopub.status.idle": "2020-10-08T20:22:56.803538Z",
     "shell.execute_reply": "2020-10-08T20:22:56.804123Z"
    },
    "papermill": {
     "duration": 0.073216,
     "end_time": "2020-10-08T20:22:56.804416",
     "exception": false,
     "start_time": "2020-10-08T20:22:56.731200",
     "status": "completed"
    },
    "pycharm": {
     "name": "#%%\n"
    },
    "tags": []
   },
   "outputs": [],
   "source": [
    "with open(\"Data/Templates/README.md\", \"r\") as f:\n",
    "    readme_contents = f.read()\n",
    "\n",
    "readme_contents = readme_contents.format(\n",
    "    github_project_base_url=github_project_base_url,\n",
    "    daily_summary_table_html=daily_summary_table_html,\n",
    "    extraction_date_with_hour=extraction_date_with_hour)\n",
    "\n",
    "with open(\"README.md\", \"w\") as f:\n",
    "    f.write(readme_contents)"
   ]
  },
  {
   "cell_type": "markdown",
   "metadata": {
    "collapsed": false,
    "papermill": {
     "duration": 0.064351,
     "end_time": "2020-10-08T20:22:56.934274",
     "exception": false,
     "start_time": "2020-10-08T20:22:56.869923",
     "status": "completed"
    },
    "pycharm": {
     "name": "#%% md\n"
    },
    "tags": []
   },
   "source": [
    "### Publish on Twitter"
   ]
  },
  {
   "cell_type": "code",
   "execution_count": 55,
   "metadata": {
    "collapsed": false,
    "execution": {
     "iopub.execute_input": "2020-10-08T20:22:57.071489Z",
     "iopub.status.busy": "2020-10-08T20:22:57.070844Z",
     "iopub.status.idle": "2020-10-08T20:23:00.796900Z",
     "shell.execute_reply": "2020-10-08T20:23:00.797431Z"
    },
    "papermill": {
     "duration": 3.799277,
     "end_time": "2020-10-08T20:23:00.797637",
     "exception": false,
     "start_time": "2020-10-08T20:22:56.998360",
     "status": "completed"
    },
    "pycharm": {
     "name": "#%%\n"
    },
    "tags": []
   },
   "outputs": [],
   "source": [
    "enable_share_to_twitter = os.environ.get(\"RADARCOVID_REPORT__ENABLE_PUBLISH_ON_TWITTER\")\n",
    "github_event_name = os.environ.get(\"GITHUB_EVENT_NAME\")\n",
    "\n",
    "if enable_share_to_twitter and github_event_name == \"schedule\":\n",
    "    import tweepy\n",
    "\n",
    "    twitter_api_auth_keys = os.environ[\"RADARCOVID_REPORT__TWITTER_API_AUTH_KEYS\"]\n",
    "    twitter_api_auth_keys = twitter_api_auth_keys.split(\":\")\n",
    "    auth = tweepy.OAuthHandler(twitter_api_auth_keys[0], twitter_api_auth_keys[1])\n",
    "    auth.set_access_token(twitter_api_auth_keys[2], twitter_api_auth_keys[3])\n",
    "\n",
    "    api = tweepy.API(auth)\n",
    "\n",
    "    summary_plots_media = api.media_upload(summary_plots_image_path)\n",
    "    summary_table_media = api.media_upload(summary_table_image_path)\n",
    "    hourly_summary_plots_media = api.media_upload(hourly_summary_plots_image_path)\n",
    "    media_ids = [\n",
    "        summary_plots_media.media_id,\n",
    "        summary_table_media.media_id,\n",
    "        hourly_summary_plots_media.media_id,\n",
    "    ]\n",
    "\n",
    "    status = textwrap.dedent(f\"\"\"\n",
    "        #RadarCOVID Report – {extraction_date_with_hour}\n",
    "\n",
    "        Today:\n",
    "        - Uploaded TEKs: {shared_teks_by_upload_date:.0f} ({shared_teks_by_upload_date_last_hour:+d} last hour)\n",
    "        - Shared Diagnoses: ≤{shared_diagnoses:.0f} ({shared_diagnoses_last_hour:+d} last hour)\n",
    "        - TEKs per Diagnosis: ≥{teks_per_shared_diagnosis:.1f}\n",
    "        - Usage Ratio: ≤{shared_diagnoses_per_covid_case:.2%}\n",
    "\n",
    "        Week:\n",
    "        - Shared Diagnoses: ≤{last_7_days_summary[\"shared_diagnoses\"]:.0f}\n",
    "        - Usage Ratio: ≤{last_7_days_summary[\"shared_diagnoses_per_covid_case\"]:.2%}\n",
    "\n",
    "        More Info: {github_project_base_url}#documentation\n",
    "        \"\"\")\n",
    "    status = status.encode(encoding=\"utf-8\")\n",
    "    api.update_status(status=status, media_ids=media_ids)"
   ]
  }
 ],
 "metadata": {
  "kernelspec": {
   "display_name": "Python 3",
   "language": "python",
   "name": "python3"
  },
  "language_info": {
   "codemirror_mode": {
    "name": "ipython",
    "version": 3
   },
   "file_extension": ".py",
   "mimetype": "text/x-python",
   "name": "python",
   "nbconvert_exporter": "python",
   "pygments_lexer": "ipython3",
   "version": "3.8.6"
  },
  "papermill": {
   "duration": 29.23755,
   "end_time": "2020-10-08T20:23:01.484712",
   "environment_variables": {},
   "exception": null,
   "input_path": "Notebooks/RadarCOVID-Report/Source/RadarCOVID-Report.ipynb",
   "output_path": "RadarCOVID-Report.ipynb",
   "parameters": {},
   "start_time": "2020-10-08T20:22:32.247162",
   "version": "2.1.3"
  }
 },
 "nbformat": 4,
 "nbformat_minor": 1
}